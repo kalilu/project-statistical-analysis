{
 "cells": [
  {
   "cell_type": "markdown",
   "metadata": {},
   "source": [
    "# Project Statistical Analysis"
   ]
  },
  {
   "cell_type": "markdown",
   "metadata": {},
   "source": [
    "Karla y Mar\n",
    "\n",
    "*Data Part Time Barcelona Dic 2019*\n",
    "\n",
    "<img src=\"./img/5530085.jpeg\" width=\"1000\"> "
   ]
  },
  {
   "cell_type": "markdown",
   "metadata": {},
   "source": [
    "##  Importamos librería"
   ]
  },
  {
   "cell_type": "code",
   "execution_count": 132,
   "metadata": {
    "ExecuteTime": {
     "end_time": "2020-03-28T10:45:47.633594Z",
     "start_time": "2020-03-28T10:45:45.848115Z"
    }
   },
   "outputs": [
    {
     "data": {
      "text/html": [
       "        <script type=\"text/javascript\">\n",
       "        window.PlotlyConfig = {MathJaxConfig: 'local'};\n",
       "        if (window.MathJax) {MathJax.Hub.Config({SVG: {font: \"STIX-Web\"}});}\n",
       "        if (typeof require !== 'undefined') {\n",
       "        require.undef(\"plotly\");\n",
       "        requirejs.config({\n",
       "            paths: {\n",
       "                'plotly': ['https://cdn.plot.ly/plotly-latest.min']\n",
       "            }\n",
       "        });\n",
       "        require(['plotly'], function(Plotly) {\n",
       "            window._Plotly = Plotly;\n",
       "        });\n",
       "        }\n",
       "        </script>\n",
       "        "
      ]
     },
     "metadata": {},
     "output_type": "display_data"
    }
   ],
   "source": [
    "import pandas as pd\n",
    "import chart_studio.plotly as py\n",
    "from plotly.subplots import make_subplots\n",
    "import plotly.graph_objects as go\n",
    "import cufflinks as cf\n",
    "from datetime import datetime\n",
    "from ipywidgets import interact\n",
    "import ipywidgets as wdg\n",
    "import numpy as np\n",
    "import scipy.stats as sp\n",
    "import plotly.express as px\n",
    "import matplotlib.pyplot as plt\n",
    "import seaborn as sns\n",
    "import warnings\n",
    "import cartopy\n",
    "warnings.filterwarnings('ignore')\n",
    "import plotly.offline as off\n",
    "import json\n",
    "import requests\n",
    "from pandas.io.json import json_normalize\n",
    "import re\n",
    "from sklearn.model_selection import train_test_split\n",
    "from sklearn.linear_model import LinearRegression\n",
    "from sklearn.preprocessing import LabelEncoder, OneHotEncoder\n",
    "cf.go_offline()"
   ]
  },
  {
   "cell_type": "markdown",
   "metadata": {},
   "source": [
    "## Importamos datos"
   ]
  },
  {
   "cell_type": "markdown",
   "metadata": {},
   "source": [
    "###  API datos coronavirus a nivel mundial"
   ]
  },
  {
   "cell_type": "code",
   "execution_count": 21,
   "metadata": {
    "ExecuteTime": {
     "end_time": "2020-03-27T19:51:04.753951Z",
     "start_time": "2020-03-27T19:50:57.112019Z"
    }
   },
   "outputs": [
    {
     "data": {
      "text/html": [
       "<div>\n",
       "<style scoped>\n",
       "    .dataframe tbody tr th:only-of-type {\n",
       "        vertical-align: middle;\n",
       "    }\n",
       "\n",
       "    .dataframe tbody tr th {\n",
       "        vertical-align: top;\n",
       "    }\n",
       "\n",
       "    .dataframe thead th {\n",
       "        text-align: right;\n",
       "    }\n",
       "</style>\n",
       "<table border=\"1\" class=\"dataframe\">\n",
       "  <thead>\n",
       "    <tr style=\"text-align: right;\">\n",
       "      <th></th>\n",
       "      <th>Country</th>\n",
       "      <th>Province</th>\n",
       "      <th>Lat</th>\n",
       "      <th>Lon</th>\n",
       "      <th>Date</th>\n",
       "      <th>Cases</th>\n",
       "      <th>Status</th>\n",
       "    </tr>\n",
       "  </thead>\n",
       "  <tbody>\n",
       "    <tr>\n",
       "      <td>0</td>\n",
       "      <td></td>\n",
       "      <td></td>\n",
       "      <td>0.0</td>\n",
       "      <td>0.0</td>\n",
       "      <td>0001-01-01T00:00:00Z</td>\n",
       "      <td>0</td>\n",
       "      <td></td>\n",
       "    </tr>\n",
       "    <tr>\n",
       "      <td>1</td>\n",
       "      <td>Azerbaijan</td>\n",
       "      <td></td>\n",
       "      <td>0.0</td>\n",
       "      <td>0.0</td>\n",
       "      <td>2020-02-28T00:00:00Z</td>\n",
       "      <td>1</td>\n",
       "      <td>confirmed</td>\n",
       "    </tr>\n",
       "    <tr>\n",
       "      <td>2</td>\n",
       "      <td>Azerbaijan</td>\n",
       "      <td></td>\n",
       "      <td>0.0</td>\n",
       "      <td>0.0</td>\n",
       "      <td>2020-02-28T00:00:00Z</td>\n",
       "      <td>0</td>\n",
       "      <td>recovered</td>\n",
       "    </tr>\n",
       "    <tr>\n",
       "      <td>3</td>\n",
       "      <td>Azerbaijan</td>\n",
       "      <td></td>\n",
       "      <td>0.0</td>\n",
       "      <td>0.0</td>\n",
       "      <td>2020-02-28T00:00:00Z</td>\n",
       "      <td>0</td>\n",
       "      <td>deaths</td>\n",
       "    </tr>\n",
       "    <tr>\n",
       "      <td>4</td>\n",
       "      <td>Afghanistan</td>\n",
       "      <td></td>\n",
       "      <td>33.0</td>\n",
       "      <td>65.0</td>\n",
       "      <td>2020-02-24T00:00:00Z</td>\n",
       "      <td>1</td>\n",
       "      <td>confirmed</td>\n",
       "    </tr>\n",
       "  </tbody>\n",
       "</table>\n",
       "</div>"
      ],
      "text/plain": [
       "       Country Province   Lat   Lon                  Date  Cases     Status\n",
       "0                         0.0   0.0  0001-01-01T00:00:00Z      0           \n",
       "1   Azerbaijan            0.0   0.0  2020-02-28T00:00:00Z      1  confirmed\n",
       "2   Azerbaijan            0.0   0.0  2020-02-28T00:00:00Z      0  recovered\n",
       "3   Azerbaijan            0.0   0.0  2020-02-28T00:00:00Z      0     deaths\n",
       "4  Afghanistan           33.0  65.0  2020-02-24T00:00:00Z      1  confirmed"
      ]
     },
     "execution_count": 21,
     "metadata": {},
     "output_type": "execute_result"
    }
   ],
   "source": [
    "url='https://api.covid19api.com/all'\n",
    "response = requests.get(url, headers={\"user-agent\":\"Mozilla/5.0 (Windows NT 10.0; Win64; x64) AppleWebKit/537.36 (KHTML, like Gecko) Chrome/79.0.3945.130 Safari/537.36\"})\n",
    "result=response.json()\n",
    "df_coronavirus_raw = pd.DataFrame()\n",
    "df_coronavirus_raw = json_normalize(result)\n",
    "df_coronavirus_raw.head()"
   ]
  },
  {
   "cell_type": "markdown",
   "metadata": {},
   "source": [
    "###  Continents by country"
   ]
  },
  {
   "cell_type": "code",
   "execution_count": 22,
   "metadata": {
    "ExecuteTime": {
     "end_time": "2020-03-27T19:51:15.862621Z",
     "start_time": "2020-03-27T19:51:15.769397Z"
    }
   },
   "outputs": [
    {
     "data": {
      "text/html": [
       "<div>\n",
       "<style scoped>\n",
       "    .dataframe tbody tr th:only-of-type {\n",
       "        vertical-align: middle;\n",
       "    }\n",
       "\n",
       "    .dataframe tbody tr th {\n",
       "        vertical-align: top;\n",
       "    }\n",
       "\n",
       "    .dataframe thead th {\n",
       "        text-align: right;\n",
       "    }\n",
       "</style>\n",
       "<table border=\"1\" class=\"dataframe\">\n",
       "  <thead>\n",
       "    <tr style=\"text-align: right;\">\n",
       "      <th></th>\n",
       "      <th>CountryName</th>\n",
       "      <th>CapitalName</th>\n",
       "      <th>CapitalLatitude</th>\n",
       "      <th>CapitalLongitude</th>\n",
       "      <th>CountryCode</th>\n",
       "      <th>ContinentName</th>\n",
       "    </tr>\n",
       "  </thead>\n",
       "  <tbody>\n",
       "    <tr>\n",
       "      <td>0</td>\n",
       "      <td>Somaliland</td>\n",
       "      <td>Hargeisa</td>\n",
       "      <td>9.550000</td>\n",
       "      <td>44.050000</td>\n",
       "      <td>NaN</td>\n",
       "      <td>Africa</td>\n",
       "    </tr>\n",
       "    <tr>\n",
       "      <td>1</td>\n",
       "      <td>South Georgia and South Sandwich Islands</td>\n",
       "      <td>King Edward Point</td>\n",
       "      <td>-54.283333</td>\n",
       "      <td>-36.500000</td>\n",
       "      <td>GS</td>\n",
       "      <td>Antarctica</td>\n",
       "    </tr>\n",
       "    <tr>\n",
       "      <td>2</td>\n",
       "      <td>French Southern and Antarctic Lands</td>\n",
       "      <td>Port-aux-Français</td>\n",
       "      <td>-49.350000</td>\n",
       "      <td>70.216667</td>\n",
       "      <td>TF</td>\n",
       "      <td>Antarctica</td>\n",
       "    </tr>\n",
       "    <tr>\n",
       "      <td>3</td>\n",
       "      <td>Palestine</td>\n",
       "      <td>Jerusalem</td>\n",
       "      <td>31.766667</td>\n",
       "      <td>35.233333</td>\n",
       "      <td>PS</td>\n",
       "      <td>Asia</td>\n",
       "    </tr>\n",
       "    <tr>\n",
       "      <td>4</td>\n",
       "      <td>Aland Islands</td>\n",
       "      <td>Mariehamn</td>\n",
       "      <td>60.116667</td>\n",
       "      <td>19.900000</td>\n",
       "      <td>AX</td>\n",
       "      <td>Europe</td>\n",
       "    </tr>\n",
       "  </tbody>\n",
       "</table>\n",
       "</div>"
      ],
      "text/plain": [
       "                                CountryName        CapitalName  \\\n",
       "0                                Somaliland           Hargeisa   \n",
       "1  South Georgia and South Sandwich Islands  King Edward Point   \n",
       "2       French Southern and Antarctic Lands  Port-aux-Français   \n",
       "3                                 Palestine          Jerusalem   \n",
       "4                             Aland Islands          Mariehamn   \n",
       "\n",
       "   CapitalLatitude  CapitalLongitude CountryCode ContinentName  \n",
       "0         9.550000         44.050000         NaN        Africa  \n",
       "1       -54.283333        -36.500000          GS    Antarctica  \n",
       "2       -49.350000         70.216667          TF    Antarctica  \n",
       "3        31.766667         35.233333          PS          Asia  \n",
       "4        60.116667         19.900000          AX        Europe  "
      ]
     },
     "execution_count": 22,
     "metadata": {},
     "output_type": "execute_result"
    }
   ],
   "source": [
    "df_continents = pd.read_csv('./data/concap.csv')\n",
    "df_continents.head()"
   ]
  },
  {
   "cell_type": "markdown",
   "metadata": {},
   "source": [
    "### Join corinavirus info and continent info"
   ]
  },
  {
   "cell_type": "code",
   "execution_count": 23,
   "metadata": {
    "ExecuteTime": {
     "end_time": "2020-03-27T19:51:23.727309Z",
     "start_time": "2020-03-27T19:51:23.664707Z"
    }
   },
   "outputs": [],
   "source": [
    "df_coronavirus_raw = df_coronavirus_raw.merge(df_continents, left_on='Country', right_on='CountryName')"
   ]
  },
  {
   "cell_type": "markdown",
   "metadata": {},
   "source": [
    "###  Regional information"
   ]
  },
  {
   "cell_type": "code",
   "execution_count": 6,
   "metadata": {
    "ExecuteTime": {
     "end_time": "2020-03-27T19:47:34.428773Z",
     "start_time": "2020-03-27T19:47:28.130122Z"
    }
   },
   "outputs": [],
   "source": [
    "url='https://api.covid19tracking.narrativa.com/api?date_from=2020-03-10&date_to=2020-03-17'\n",
    "response = requests.get(url, headers={\"user-agent\":\"Mozilla/5.0 (Windows NT 10.0; Win64; x64) AppleWebKit/537.36 (KHTML, like Gecko) Chrome/79.0.3945.130 Safari/537.36\"})\n",
    "result=response.json()"
   ]
  },
  {
   "cell_type": "code",
   "execution_count": 7,
   "metadata": {
    "ExecuteTime": {
     "end_time": "2020-03-27T19:47:35.048231Z",
     "start_time": "2020-03-27T19:47:35.024100Z"
    }
   },
   "outputs": [
    {
     "data": {
      "text/plain": [
       "dict_keys(['dates', 'metadata', 'total', 'updated_at'])"
      ]
     },
     "execution_count": 7,
     "metadata": {},
     "output_type": "execute_result"
    }
   ],
   "source": [
    "result.keys()"
   ]
  },
  {
   "cell_type": "code",
   "execution_count": 8,
   "metadata": {
    "ExecuteTime": {
     "end_time": "2020-03-27T19:47:44.314630Z",
     "start_time": "2020-03-27T19:47:35.580927Z"
    }
   },
   "outputs": [
    {
     "data": {
      "text/html": [
       "<div>\n",
       "<style scoped>\n",
       "    .dataframe tbody tr th:only-of-type {\n",
       "        vertical-align: middle;\n",
       "    }\n",
       "\n",
       "    .dataframe tbody tr th {\n",
       "        vertical-align: top;\n",
       "    }\n",
       "\n",
       "    .dataframe thead th {\n",
       "        text-align: right;\n",
       "    }\n",
       "</style>\n",
       "<table border=\"1\" class=\"dataframe\">\n",
       "  <thead>\n",
       "    <tr style=\"text-align: right;\">\n",
       "      <th></th>\n",
       "      <th>updated_at</th>\n",
       "      <th>dates.2020-03-10.countries.Afghanistan.date</th>\n",
       "      <th>dates.2020-03-10.countries.Afghanistan.name</th>\n",
       "      <th>dates.2020-03-10.countries.Afghanistan.name_es</th>\n",
       "      <th>dates.2020-03-10.countries.Afghanistan.regions</th>\n",
       "      <th>dates.2020-03-10.countries.Afghanistan.today_confirmed</th>\n",
       "      <th>dates.2020-03-10.countries.Afghanistan.today_deaths</th>\n",
       "      <th>dates.2020-03-10.countries.Afghanistan.today_home_confinement</th>\n",
       "      <th>dates.2020-03-10.countries.Afghanistan.today_hospitalised_patients_with_symptoms</th>\n",
       "      <th>dates.2020-03-10.countries.Afghanistan.today_intensive_care</th>\n",
       "      <th>...</th>\n",
       "      <th>total.today_open_cases</th>\n",
       "      <th>total.today_recovered</th>\n",
       "      <th>total.today_vs_yesterday_confirmed</th>\n",
       "      <th>total.today_vs_yesterday_deaths</th>\n",
       "      <th>total.today_vs_yesterday_open_cases</th>\n",
       "      <th>total.today_vs_yesterday_recovered</th>\n",
       "      <th>total.yesterday_confirmed</th>\n",
       "      <th>total.yesterday_deaths</th>\n",
       "      <th>total.yesterday_open_cases</th>\n",
       "      <th>total.yesterday_recovered</th>\n",
       "    </tr>\n",
       "  </thead>\n",
       "  <tbody>\n",
       "    <tr>\n",
       "      <td>0</td>\n",
       "      <td>2020-03-27 13:10UTC</td>\n",
       "      <td>2020-03-10</td>\n",
       "      <td>Afghanistan</td>\n",
       "      <td>Afganistán</td>\n",
       "      <td>[]</td>\n",
       "      <td>5</td>\n",
       "      <td>0</td>\n",
       "      <td>0</td>\n",
       "      <td>0</td>\n",
       "      <td>0</td>\n",
       "      <td>...</td>\n",
       "      <td>107638</td>\n",
       "      <td>80562</td>\n",
       "      <td>0.097314</td>\n",
       "      <td>0.119972</td>\n",
       "      <td>0.146195</td>\n",
       "      <td>0.036207</td>\n",
       "      <td>178741</td>\n",
       "      <td>7085</td>\n",
       "      <td>93909</td>\n",
       "      <td>77747</td>\n",
       "    </tr>\n",
       "  </tbody>\n",
       "</table>\n",
       "<p>1 rows × 51377 columns</p>\n",
       "</div>"
      ],
      "text/plain": [
       "            updated_at dates.2020-03-10.countries.Afghanistan.date  \\\n",
       "0  2020-03-27 13:10UTC                                  2020-03-10   \n",
       "\n",
       "  dates.2020-03-10.countries.Afghanistan.name  \\\n",
       "0                                 Afghanistan   \n",
       "\n",
       "  dates.2020-03-10.countries.Afghanistan.name_es  \\\n",
       "0                                     Afganistán   \n",
       "\n",
       "  dates.2020-03-10.countries.Afghanistan.regions  \\\n",
       "0                                             []   \n",
       "\n",
       "   dates.2020-03-10.countries.Afghanistan.today_confirmed  \\\n",
       "0                                                  5        \n",
       "\n",
       "   dates.2020-03-10.countries.Afghanistan.today_deaths  \\\n",
       "0                                                  0     \n",
       "\n",
       "   dates.2020-03-10.countries.Afghanistan.today_home_confinement  \\\n",
       "0                                                  0               \n",
       "\n",
       "   dates.2020-03-10.countries.Afghanistan.today_hospitalised_patients_with_symptoms  \\\n",
       "0                                                  0                                  \n",
       "\n",
       "   dates.2020-03-10.countries.Afghanistan.today_intensive_care  ...  \\\n",
       "0                                                  0            ...   \n",
       "\n",
       "   total.today_open_cases  total.today_recovered  \\\n",
       "0                  107638                  80562   \n",
       "\n",
       "   total.today_vs_yesterday_confirmed  total.today_vs_yesterday_deaths  \\\n",
       "0                            0.097314                         0.119972   \n",
       "\n",
       "   total.today_vs_yesterday_open_cases  total.today_vs_yesterday_recovered  \\\n",
       "0                             0.146195                            0.036207   \n",
       "\n",
       "   total.yesterday_confirmed  total.yesterday_deaths  \\\n",
       "0                     178741                    7085   \n",
       "\n",
       "   total.yesterday_open_cases  total.yesterday_recovered  \n",
       "0                       93909                      77747  \n",
       "\n",
       "[1 rows x 51377 columns]"
      ]
     },
     "execution_count": 8,
     "metadata": {},
     "output_type": "execute_result"
    }
   ],
   "source": [
    "df_regions_raw = pd.DataFrame()\n",
    "df_regions_raw = json_normalize(result)\n",
    "df_regions_raw.head()"
   ]
  },
  {
   "cell_type": "code",
   "execution_count": 9,
   "metadata": {
    "ExecuteTime": {
     "end_time": "2020-03-27T19:47:52.042171Z",
     "start_time": "2020-03-27T19:47:51.988653Z"
    }
   },
   "outputs": [
    {
     "data": {
      "text/html": [
       "<div>\n",
       "<style scoped>\n",
       "    .dataframe tbody tr th:only-of-type {\n",
       "        vertical-align: middle;\n",
       "    }\n",
       "\n",
       "    .dataframe tbody tr th {\n",
       "        vertical-align: top;\n",
       "    }\n",
       "\n",
       "    .dataframe thead th {\n",
       "        text-align: right;\n",
       "    }\n",
       "</style>\n",
       "<table border=\"1\" class=\"dataframe\">\n",
       "  <thead>\n",
       "    <tr style=\"text-align: right;\">\n",
       "      <th></th>\n",
       "      <th>date</th>\n",
       "      <th>region_code</th>\n",
       "      <th>region</th>\n",
       "      <th>country</th>\n",
       "      <th>population</th>\n",
       "      <th>cases_registered</th>\n",
       "      <th>cases_per_100000</th>\n",
       "      <th>intensive_care</th>\n",
       "      <th>intensive_care_per_1000000</th>\n",
       "      <th>deceassed</th>\n",
       "      <th>deceassed_per_100000</th>\n",
       "      <th>recovered</th>\n",
       "      <th>recovered_per_100000</th>\n",
       "    </tr>\n",
       "  </thead>\n",
       "  <tbody>\n",
       "    <tr>\n",
       "      <td>0</td>\n",
       "      <td>2020-02-27</td>\n",
       "      <td>1</td>\n",
       "      <td>Andalucía</td>\n",
       "      <td>Spain</td>\n",
       "      <td>8414240</td>\n",
       "      <td>1</td>\n",
       "      <td>0.01</td>\n",
       "      <td>NaN</td>\n",
       "      <td>NaN</td>\n",
       "      <td>NaN</td>\n",
       "      <td>NaN</td>\n",
       "      <td>NaN</td>\n",
       "      <td>NaN</td>\n",
       "    </tr>\n",
       "    <tr>\n",
       "      <td>1</td>\n",
       "      <td>2020-02-28</td>\n",
       "      <td>1</td>\n",
       "      <td>Andalucía</td>\n",
       "      <td>Spain</td>\n",
       "      <td>8414240</td>\n",
       "      <td>6</td>\n",
       "      <td>0.07</td>\n",
       "      <td>NaN</td>\n",
       "      <td>NaN</td>\n",
       "      <td>NaN</td>\n",
       "      <td>NaN</td>\n",
       "      <td>NaN</td>\n",
       "      <td>NaN</td>\n",
       "    </tr>\n",
       "    <tr>\n",
       "      <td>2</td>\n",
       "      <td>2020-02-29</td>\n",
       "      <td>1</td>\n",
       "      <td>Andalucía</td>\n",
       "      <td>Spain</td>\n",
       "      <td>8414240</td>\n",
       "      <td>8</td>\n",
       "      <td>0.10</td>\n",
       "      <td>NaN</td>\n",
       "      <td>NaN</td>\n",
       "      <td>NaN</td>\n",
       "      <td>NaN</td>\n",
       "      <td>NaN</td>\n",
       "      <td>NaN</td>\n",
       "    </tr>\n",
       "    <tr>\n",
       "      <td>3</td>\n",
       "      <td>2020-03-01</td>\n",
       "      <td>1</td>\n",
       "      <td>Andalucía</td>\n",
       "      <td>Spain</td>\n",
       "      <td>8414240</td>\n",
       "      <td>12</td>\n",
       "      <td>0.14</td>\n",
       "      <td>NaN</td>\n",
       "      <td>NaN</td>\n",
       "      <td>NaN</td>\n",
       "      <td>NaN</td>\n",
       "      <td>NaN</td>\n",
       "      <td>NaN</td>\n",
       "    </tr>\n",
       "    <tr>\n",
       "      <td>4</td>\n",
       "      <td>2020-03-02</td>\n",
       "      <td>1</td>\n",
       "      <td>Andalucía</td>\n",
       "      <td>Spain</td>\n",
       "      <td>8414240</td>\n",
       "      <td>12</td>\n",
       "      <td>0.14</td>\n",
       "      <td>NaN</td>\n",
       "      <td>NaN</td>\n",
       "      <td>NaN</td>\n",
       "      <td>NaN</td>\n",
       "      <td>NaN</td>\n",
       "      <td>NaN</td>\n",
       "    </tr>\n",
       "  </tbody>\n",
       "</table>\n",
       "</div>"
      ],
      "text/plain": [
       "         date  region_code     region country  population  cases_registered  \\\n",
       "0  2020-02-27            1  Andalucía   Spain     8414240                 1   \n",
       "1  2020-02-28            1  Andalucía   Spain     8414240                 6   \n",
       "2  2020-02-29            1  Andalucía   Spain     8414240                 8   \n",
       "3  2020-03-01            1  Andalucía   Spain     8414240                12   \n",
       "4  2020-03-02            1  Andalucía   Spain     8414240                12   \n",
       "\n",
       "   cases_per_100000  intensive_care  intensive_care_per_1000000  deceassed  \\\n",
       "0              0.01             NaN                         NaN        NaN   \n",
       "1              0.07             NaN                         NaN        NaN   \n",
       "2              0.10             NaN                         NaN        NaN   \n",
       "3              0.14             NaN                         NaN        NaN   \n",
       "4              0.14             NaN                         NaN        NaN   \n",
       "\n",
       "   deceassed_per_100000  recovered  recovered_per_100000  \n",
       "0                   NaN        NaN                   NaN  \n",
       "1                   NaN        NaN                   NaN  \n",
       "2                   NaN        NaN                   NaN  \n",
       "3                   NaN        NaN                   NaN  \n",
       "4                   NaN        NaN                   NaN  "
      ]
     },
     "execution_count": 9,
     "metadata": {},
     "output_type": "execute_result"
    }
   ],
   "source": [
    "#Datos de España\n",
    "path = './data/data_output_covid19-cases-uci-deaths-by-ccaa-spain-by-day-accumulated.csv'\n",
    "df_spain_deceased = pd.read_csv(path, sep=',')\n",
    "df_spain_deceased.head()"
   ]
  },
  {
   "cell_type": "code",
   "execution_count": 10,
   "metadata": {
    "ExecuteTime": {
     "end_time": "2020-03-27T19:47:56.268760Z",
     "start_time": "2020-03-27T19:47:56.206302Z"
    }
   },
   "outputs": [
    {
     "data": {
      "text/html": [
       "<div>\n",
       "<style scoped>\n",
       "    .dataframe tbody tr th:only-of-type {\n",
       "        vertical-align: middle;\n",
       "    }\n",
       "\n",
       "    .dataframe tbody tr th {\n",
       "        vertical-align: top;\n",
       "    }\n",
       "\n",
       "    .dataframe thead th {\n",
       "        text-align: right;\n",
       "    }\n",
       "</style>\n",
       "<table border=\"1\" class=\"dataframe\">\n",
       "  <thead>\n",
       "    <tr style=\"text-align: right;\">\n",
       "      <th></th>\n",
       "      <th>date</th>\n",
       "      <th>region_code</th>\n",
       "      <th>region</th>\n",
       "      <th>country</th>\n",
       "      <th>population</th>\n",
       "      <th>cases_registered</th>\n",
       "      <th>cases_per_100000</th>\n",
       "      <th>intensive_care</th>\n",
       "      <th>intensive_care_per_1000000</th>\n",
       "      <th>deceassed</th>\n",
       "      <th>deceassed_per_100000</th>\n",
       "      <th>recovered</th>\n",
       "      <th>recovered_per_100000</th>\n",
       "    </tr>\n",
       "  </thead>\n",
       "  <tbody>\n",
       "    <tr>\n",
       "      <td>0</td>\n",
       "      <td>2020-02-27</td>\n",
       "      <td>1.0</td>\n",
       "      <td>Andalucía</td>\n",
       "      <td>Spain</td>\n",
       "      <td>8414240.0</td>\n",
       "      <td>1</td>\n",
       "      <td>0.01</td>\n",
       "      <td>NaN</td>\n",
       "      <td>NaN</td>\n",
       "      <td>NaN</td>\n",
       "      <td>NaN</td>\n",
       "      <td>NaN</td>\n",
       "      <td>NaN</td>\n",
       "    </tr>\n",
       "    <tr>\n",
       "      <td>1</td>\n",
       "      <td>2020-02-28</td>\n",
       "      <td>1.0</td>\n",
       "      <td>Andalucía</td>\n",
       "      <td>Spain</td>\n",
       "      <td>8414240.0</td>\n",
       "      <td>6</td>\n",
       "      <td>0.07</td>\n",
       "      <td>NaN</td>\n",
       "      <td>NaN</td>\n",
       "      <td>NaN</td>\n",
       "      <td>NaN</td>\n",
       "      <td>NaN</td>\n",
       "      <td>NaN</td>\n",
       "    </tr>\n",
       "    <tr>\n",
       "      <td>2</td>\n",
       "      <td>2020-02-29</td>\n",
       "      <td>1.0</td>\n",
       "      <td>Andalucía</td>\n",
       "      <td>Spain</td>\n",
       "      <td>8414240.0</td>\n",
       "      <td>8</td>\n",
       "      <td>0.10</td>\n",
       "      <td>NaN</td>\n",
       "      <td>NaN</td>\n",
       "      <td>NaN</td>\n",
       "      <td>NaN</td>\n",
       "      <td>NaN</td>\n",
       "      <td>NaN</td>\n",
       "    </tr>\n",
       "    <tr>\n",
       "      <td>3</td>\n",
       "      <td>2020-03-01</td>\n",
       "      <td>1.0</td>\n",
       "      <td>Andalucía</td>\n",
       "      <td>Spain</td>\n",
       "      <td>8414240.0</td>\n",
       "      <td>12</td>\n",
       "      <td>0.14</td>\n",
       "      <td>NaN</td>\n",
       "      <td>NaN</td>\n",
       "      <td>NaN</td>\n",
       "      <td>NaN</td>\n",
       "      <td>NaN</td>\n",
       "      <td>NaN</td>\n",
       "    </tr>\n",
       "    <tr>\n",
       "      <td>4</td>\n",
       "      <td>2020-03-02</td>\n",
       "      <td>1.0</td>\n",
       "      <td>Andalucía</td>\n",
       "      <td>Spain</td>\n",
       "      <td>8414240.0</td>\n",
       "      <td>12</td>\n",
       "      <td>0.14</td>\n",
       "      <td>NaN</td>\n",
       "      <td>NaN</td>\n",
       "      <td>NaN</td>\n",
       "      <td>NaN</td>\n",
       "      <td>NaN</td>\n",
       "      <td>NaN</td>\n",
       "    </tr>\n",
       "  </tbody>\n",
       "</table>\n",
       "</div>"
      ],
      "text/plain": [
       "         date  region_code     region country  population  cases_registered  \\\n",
       "0  2020-02-27          1.0  Andalucía   Spain   8414240.0                 1   \n",
       "1  2020-02-28          1.0  Andalucía   Spain   8414240.0                 6   \n",
       "2  2020-02-29          1.0  Andalucía   Spain   8414240.0                 8   \n",
       "3  2020-03-01          1.0  Andalucía   Spain   8414240.0                12   \n",
       "4  2020-03-02          1.0  Andalucía   Spain   8414240.0                12   \n",
       "\n",
       "   cases_per_100000  intensive_care  intensive_care_per_1000000  deceassed  \\\n",
       "0              0.01             NaN                         NaN        NaN   \n",
       "1              0.07             NaN                         NaN        NaN   \n",
       "2              0.10             NaN                         NaN        NaN   \n",
       "3              0.14             NaN                         NaN        NaN   \n",
       "4              0.14             NaN                         NaN        NaN   \n",
       "\n",
       "   deceassed_per_100000  recovered  recovered_per_100000  \n",
       "0                   NaN        NaN                   NaN  \n",
       "1                   NaN        NaN                   NaN  \n",
       "2                   NaN        NaN                   NaN  \n",
       "3                   NaN        NaN                   NaN  \n",
       "4                   NaN        NaN                   NaN  "
      ]
     },
     "execution_count": 10,
     "metadata": {},
     "output_type": "execute_result"
    }
   ],
   "source": [
    "#Datos de España, Italia y Francia\n",
    "path = './data/data_output_covid19-countries-regions-compile.csv'\n",
    "df_sp_it_fr_conf = pd.read_csv(path, sep=',')\n",
    "df_sp_it_fr_conf.head()"
   ]
  },
  {
   "cell_type": "code",
   "execution_count": 11,
   "metadata": {
    "ExecuteTime": {
     "end_time": "2020-03-27T19:48:00.837504Z",
     "start_time": "2020-03-27T19:48:00.803290Z"
    }
   },
   "outputs": [
    {
     "data": {
      "text/html": [
       "<div>\n",
       "<style scoped>\n",
       "    .dataframe tbody tr th:only-of-type {\n",
       "        vertical-align: middle;\n",
       "    }\n",
       "\n",
       "    .dataframe tbody tr th {\n",
       "        vertical-align: top;\n",
       "    }\n",
       "\n",
       "    .dataframe thead th {\n",
       "        text-align: right;\n",
       "    }\n",
       "</style>\n",
       "<table border=\"1\" class=\"dataframe\">\n",
       "  <thead>\n",
       "    <tr style=\"text-align: right;\">\n",
       "      <th></th>\n",
       "      <th>cod_ine</th>\n",
       "      <th>CCAA</th>\n",
       "      <th>Públicos</th>\n",
       "      <th>Privados</th>\n",
       "      <th>Total</th>\n",
       "    </tr>\n",
       "  </thead>\n",
       "  <tbody>\n",
       "    <tr>\n",
       "      <td>0</td>\n",
       "      <td>1</td>\n",
       "      <td>ANDALUCÍA</td>\n",
       "      <td>572</td>\n",
       "      <td>162</td>\n",
       "      <td>734</td>\n",
       "    </tr>\n",
       "    <tr>\n",
       "      <td>1</td>\n",
       "      <td>2</td>\n",
       "      <td>ARAGÓN</td>\n",
       "      <td>113</td>\n",
       "      <td>22</td>\n",
       "      <td>135</td>\n",
       "    </tr>\n",
       "    <tr>\n",
       "      <td>2</td>\n",
       "      <td>3</td>\n",
       "      <td>ASTURIAS</td>\n",
       "      <td>86</td>\n",
       "      <td>7</td>\n",
       "      <td>93</td>\n",
       "    </tr>\n",
       "    <tr>\n",
       "      <td>3</td>\n",
       "      <td>15</td>\n",
       "      <td>C. FORAL DE NAVARRA</td>\n",
       "      <td>46</td>\n",
       "      <td>19</td>\n",
       "      <td>65</td>\n",
       "    </tr>\n",
       "    <tr>\n",
       "      <td>4</td>\n",
       "      <td>5</td>\n",
       "      <td>CANARIAS</td>\n",
       "      <td>187</td>\n",
       "      <td>50</td>\n",
       "      <td>237</td>\n",
       "    </tr>\n",
       "  </tbody>\n",
       "</table>\n",
       "</div>"
      ],
      "text/plain": [
       "   cod_ine                 CCAA  Públicos  Privados  Total\n",
       "0        1            ANDALUCÍA       572       162    734\n",
       "1        2               ARAGÓN       113        22    135\n",
       "2        3             ASTURIAS        86         7     93\n",
       "3       15  C. FORAL DE NAVARRA        46        19     65\n",
       "4        5             CANARIAS       187        50    237"
      ]
     },
     "execution_count": 11,
     "metadata": {},
     "output_type": "execute_result"
    }
   ],
   "source": [
    "#Datos de camas UCI\n",
    "path = './data/ccaa_camas_uci_2017.csv'\n",
    "df_camas_uci = pd.read_csv(path, sep=',')\n",
    "df_camas_uci.head()"
   ]
  },
  {
   "cell_type": "code",
   "execution_count": 12,
   "metadata": {
    "ExecuteTime": {
     "end_time": "2020-03-27T19:48:05.381901Z",
     "start_time": "2020-03-27T19:48:05.345477Z"
    }
   },
   "outputs": [
    {
     "data": {
      "text/html": [
       "<div>\n",
       "<style scoped>\n",
       "    .dataframe tbody tr th:only-of-type {\n",
       "        vertical-align: middle;\n",
       "    }\n",
       "\n",
       "    .dataframe tbody tr th {\n",
       "        vertical-align: top;\n",
       "    }\n",
       "\n",
       "    .dataframe thead th {\n",
       "        text-align: right;\n",
       "    }\n",
       "</style>\n",
       "<table border=\"1\" class=\"dataframe\">\n",
       "  <thead>\n",
       "    <tr style=\"text-align: right;\">\n",
       "      <th></th>\n",
       "      <th>fecha</th>\n",
       "      <th>cod_ine</th>\n",
       "      <th>CCAA</th>\n",
       "      <th>mascarillas_acumulado_desde_2020-03-10</th>\n",
       "    </tr>\n",
       "  </thead>\n",
       "  <tbody>\n",
       "    <tr>\n",
       "      <td>0</td>\n",
       "      <td>2020-03-22</td>\n",
       "      <td>1.0</td>\n",
       "      <td>ANDALUCÍA</td>\n",
       "      <td>444083</td>\n",
       "    </tr>\n",
       "    <tr>\n",
       "      <td>1</td>\n",
       "      <td>2020-03-22</td>\n",
       "      <td>2.0</td>\n",
       "      <td>ARAGÓN</td>\n",
       "      <td>72455</td>\n",
       "    </tr>\n",
       "    <tr>\n",
       "      <td>2</td>\n",
       "      <td>2020-03-22</td>\n",
       "      <td>3.0</td>\n",
       "      <td>ASTURIAS</td>\n",
       "      <td>60229</td>\n",
       "    </tr>\n",
       "    <tr>\n",
       "      <td>3</td>\n",
       "      <td>2020-03-22</td>\n",
       "      <td>4.0</td>\n",
       "      <td>BALEARES</td>\n",
       "      <td>49476</td>\n",
       "    </tr>\n",
       "    <tr>\n",
       "      <td>4</td>\n",
       "      <td>2020-03-22</td>\n",
       "      <td>5.0</td>\n",
       "      <td>CANARIAS</td>\n",
       "      <td>124165</td>\n",
       "    </tr>\n",
       "  </tbody>\n",
       "</table>\n",
       "</div>"
      ],
      "text/plain": [
       "        fecha  cod_ine       CCAA  mascarillas_acumulado_desde_2020-03-10\n",
       "0  2020-03-22      1.0  ANDALUCÍA                                  444083\n",
       "1  2020-03-22      2.0     ARAGÓN                                   72455\n",
       "2  2020-03-22      3.0   ASTURIAS                                   60229\n",
       "3  2020-03-22      4.0   BALEARES                                   49476\n",
       "4  2020-03-22      5.0   CANARIAS                                  124165"
      ]
     },
     "execution_count": 12,
     "metadata": {},
     "output_type": "execute_result"
    }
   ],
   "source": [
    "#Datos de mascarillas entregadas\n",
    "path = './data/ccaa_covid19_mascarillas.csv'\n",
    "df_mascarillas = pd.read_csv(path, sep=',')\n",
    "df_mascarillas.head()"
   ]
  },
  {
   "cell_type": "code",
   "execution_count": 13,
   "metadata": {
    "ExecuteTime": {
     "end_time": "2020-03-27T19:48:09.651247Z",
     "start_time": "2020-03-27T19:48:09.621292Z"
    }
   },
   "outputs": [
    {
     "data": {
      "text/html": [
       "<div>\n",
       "<style scoped>\n",
       "    .dataframe tbody tr th:only-of-type {\n",
       "        vertical-align: middle;\n",
       "    }\n",
       "\n",
       "    .dataframe tbody tr th {\n",
       "        vertical-align: top;\n",
       "    }\n",
       "\n",
       "    .dataframe thead th {\n",
       "        text-align: right;\n",
       "    }\n",
       "</style>\n",
       "<table border=\"1\" class=\"dataframe\">\n",
       "  <thead>\n",
       "    <tr style=\"text-align: right;\">\n",
       "      <th></th>\n",
       "      <th>fecha</th>\n",
       "      <th>rango_edad</th>\n",
       "      <th>sexo</th>\n",
       "      <th>casos_confirmados</th>\n",
       "      <th>hospitalizados</th>\n",
       "      <th>ingresos_uci</th>\n",
       "      <th>fallecidos</th>\n",
       "    </tr>\n",
       "  </thead>\n",
       "  <tbody>\n",
       "    <tr>\n",
       "      <td>0</td>\n",
       "      <td>2020-03-23</td>\n",
       "      <td>0-9</td>\n",
       "      <td>ambos sexos</td>\n",
       "      <td>129</td>\n",
       "      <td>34</td>\n",
       "      <td>1</td>\n",
       "      <td>0</td>\n",
       "    </tr>\n",
       "    <tr>\n",
       "      <td>1</td>\n",
       "      <td>2020-03-23</td>\n",
       "      <td>10-19</td>\n",
       "      <td>ambos sexos</td>\n",
       "      <td>221</td>\n",
       "      <td>15</td>\n",
       "      <td>0</td>\n",
       "      <td>1</td>\n",
       "    </tr>\n",
       "    <tr>\n",
       "      <td>2</td>\n",
       "      <td>2020-03-23</td>\n",
       "      <td>20-29</td>\n",
       "      <td>ambos sexos</td>\n",
       "      <td>1285</td>\n",
       "      <td>183</td>\n",
       "      <td>8</td>\n",
       "      <td>4</td>\n",
       "    </tr>\n",
       "    <tr>\n",
       "      <td>3</td>\n",
       "      <td>2020-03-23</td>\n",
       "      <td>30-39</td>\n",
       "      <td>ambos sexos</td>\n",
       "      <td>2208</td>\n",
       "      <td>365</td>\n",
       "      <td>15</td>\n",
       "      <td>3</td>\n",
       "    </tr>\n",
       "    <tr>\n",
       "      <td>4</td>\n",
       "      <td>2020-03-23</td>\n",
       "      <td>40-49</td>\n",
       "      <td>ambos sexos</td>\n",
       "      <td>2919</td>\n",
       "      <td>663</td>\n",
       "      <td>40</td>\n",
       "      <td>9</td>\n",
       "    </tr>\n",
       "  </tbody>\n",
       "</table>\n",
       "</div>"
      ],
      "text/plain": [
       "        fecha rango_edad         sexo  casos_confirmados  hospitalizados  \\\n",
       "0  2020-03-23        0-9  ambos sexos                129              34   \n",
       "1  2020-03-23      10-19  ambos sexos                221              15   \n",
       "2  2020-03-23      20-29  ambos sexos               1285             183   \n",
       "3  2020-03-23      30-39  ambos sexos               2208             365   \n",
       "4  2020-03-23      40-49  ambos sexos               2919             663   \n",
       "\n",
       "   ingresos_uci  fallecidos  \n",
       "0             1           0  \n",
       "1             0           1  \n",
       "2             8           4  \n",
       "3            15           3  \n",
       "4            40           9  "
      ]
     },
     "execution_count": 13,
     "metadata": {},
     "output_type": "execute_result"
    }
   ],
   "source": [
    "#Datos por rangos de edad\n",
    "path = './data/nacional_covid19_rango_edad.csv'\n",
    "df_edades = pd.read_csv(path, sep=',')\n",
    "df_edades.head()"
   ]
  },
  {
   "cell_type": "markdown",
   "metadata": {},
   "source": [
    "## Data cleaning"
   ]
  },
  {
   "cell_type": "markdown",
   "metadata": {},
   "source": [
    "### Cases by country"
   ]
  },
  {
   "cell_type": "markdown",
   "metadata": {},
   "source": [
    "####  Renombramos columnas y estandarizamos nombres"
   ]
  },
  {
   "cell_type": "code",
   "execution_count": 24,
   "metadata": {
    "ExecuteTime": {
     "end_time": "2020-03-27T19:51:31.750167Z",
     "start_time": "2020-03-27T19:51:31.666203Z"
    }
   },
   "outputs": [
    {
     "data": {
      "text/html": [
       "<div>\n",
       "<style scoped>\n",
       "    .dataframe tbody tr th:only-of-type {\n",
       "        vertical-align: middle;\n",
       "    }\n",
       "\n",
       "    .dataframe tbody tr th {\n",
       "        vertical-align: top;\n",
       "    }\n",
       "\n",
       "    .dataframe thead th {\n",
       "        text-align: right;\n",
       "    }\n",
       "</style>\n",
       "<table border=\"1\" class=\"dataframe\">\n",
       "  <thead>\n",
       "    <tr style=\"text-align: right;\">\n",
       "      <th></th>\n",
       "      <th>country</th>\n",
       "      <th>province</th>\n",
       "      <th>latitude</th>\n",
       "      <th>longitude</th>\n",
       "      <th>date</th>\n",
       "      <th>cases</th>\n",
       "      <th>status</th>\n",
       "      <th>countryname</th>\n",
       "      <th>capital</th>\n",
       "      <th>capital_latitude</th>\n",
       "      <th>capital_longitude</th>\n",
       "      <th>country_code</th>\n",
       "      <th>continent</th>\n",
       "    </tr>\n",
       "  </thead>\n",
       "  <tbody>\n",
       "    <tr>\n",
       "      <td>0</td>\n",
       "      <td>Afghanistan</td>\n",
       "      <td></td>\n",
       "      <td>33.0</td>\n",
       "      <td>65.0</td>\n",
       "      <td>2020-02-24T00:00:00Z</td>\n",
       "      <td>1</td>\n",
       "      <td>confirmed</td>\n",
       "      <td>Afghanistan</td>\n",
       "      <td>Kabul</td>\n",
       "      <td>34.516667</td>\n",
       "      <td>69.183333</td>\n",
       "      <td>AF</td>\n",
       "      <td>Asia</td>\n",
       "    </tr>\n",
       "    <tr>\n",
       "      <td>1</td>\n",
       "      <td>Afghanistan</td>\n",
       "      <td></td>\n",
       "      <td>33.0</td>\n",
       "      <td>65.0</td>\n",
       "      <td>2020-02-24T00:00:00Z</td>\n",
       "      <td>0</td>\n",
       "      <td>recovered</td>\n",
       "      <td>Afghanistan</td>\n",
       "      <td>Kabul</td>\n",
       "      <td>34.516667</td>\n",
       "      <td>69.183333</td>\n",
       "      <td>AF</td>\n",
       "      <td>Asia</td>\n",
       "    </tr>\n",
       "    <tr>\n",
       "      <td>2</td>\n",
       "      <td>Afghanistan</td>\n",
       "      <td></td>\n",
       "      <td>33.0</td>\n",
       "      <td>65.0</td>\n",
       "      <td>2020-02-24T00:00:00Z</td>\n",
       "      <td>0</td>\n",
       "      <td>deaths</td>\n",
       "      <td>Afghanistan</td>\n",
       "      <td>Kabul</td>\n",
       "      <td>34.516667</td>\n",
       "      <td>69.183333</td>\n",
       "      <td>AF</td>\n",
       "      <td>Asia</td>\n",
       "    </tr>\n",
       "    <tr>\n",
       "      <td>3</td>\n",
       "      <td>Afghanistan</td>\n",
       "      <td></td>\n",
       "      <td>0.0</td>\n",
       "      <td>0.0</td>\n",
       "      <td>2020-02-24T00:00:00Z</td>\n",
       "      <td>1</td>\n",
       "      <td>confirmed</td>\n",
       "      <td>Afghanistan</td>\n",
       "      <td>Kabul</td>\n",
       "      <td>34.516667</td>\n",
       "      <td>69.183333</td>\n",
       "      <td>AF</td>\n",
       "      <td>Asia</td>\n",
       "    </tr>\n",
       "    <tr>\n",
       "      <td>4</td>\n",
       "      <td>Afghanistan</td>\n",
       "      <td></td>\n",
       "      <td>0.0</td>\n",
       "      <td>0.0</td>\n",
       "      <td>2020-02-24T00:00:00Z</td>\n",
       "      <td>0</td>\n",
       "      <td>recovered</td>\n",
       "      <td>Afghanistan</td>\n",
       "      <td>Kabul</td>\n",
       "      <td>34.516667</td>\n",
       "      <td>69.183333</td>\n",
       "      <td>AF</td>\n",
       "      <td>Asia</td>\n",
       "    </tr>\n",
       "  </tbody>\n",
       "</table>\n",
       "</div>"
      ],
      "text/plain": [
       "       country province  latitude  longitude                  date  cases  \\\n",
       "0  Afghanistan               33.0       65.0  2020-02-24T00:00:00Z      1   \n",
       "1  Afghanistan               33.0       65.0  2020-02-24T00:00:00Z      0   \n",
       "2  Afghanistan               33.0       65.0  2020-02-24T00:00:00Z      0   \n",
       "3  Afghanistan                0.0        0.0  2020-02-24T00:00:00Z      1   \n",
       "4  Afghanistan                0.0        0.0  2020-02-24T00:00:00Z      0   \n",
       "\n",
       "      status  countryname capital  capital_latitude  capital_longitude  \\\n",
       "0  confirmed  Afghanistan   Kabul         34.516667          69.183333   \n",
       "1  recovered  Afghanistan   Kabul         34.516667          69.183333   \n",
       "2     deaths  Afghanistan   Kabul         34.516667          69.183333   \n",
       "3  confirmed  Afghanistan   Kabul         34.516667          69.183333   \n",
       "4  recovered  Afghanistan   Kabul         34.516667          69.183333   \n",
       "\n",
       "  country_code continent  \n",
       "0           AF      Asia  \n",
       "1           AF      Asia  \n",
       "2           AF      Asia  \n",
       "3           AF      Asia  \n",
       "4           AF      Asia  "
      ]
     },
     "execution_count": 24,
     "metadata": {},
     "output_type": "execute_result"
    }
   ],
   "source": [
    "df_coronavirus_raw.columns = df_coronavirus_raw.columns.str.replace('[.]','_').str.lower()\n",
    "df_coronavirus_raw = df_coronavirus_raw.rename(columns = {'lat':'latitude', 'lon':'longitude', 'capitalname':'capital', \n",
    "                                                         'capitallatitude':'capital_latitude', 'capitallongitude':'capital_longitude',\n",
    "                                                         'countrycode':'country_code', 'continentname':'continent'})\n",
    "df_coronavirus_raw.head()"
   ]
  },
  {
   "cell_type": "markdown",
   "metadata": {},
   "source": [
    "#### Eliminamos columnas duplicadas"
   ]
  },
  {
   "cell_type": "code",
   "execution_count": 25,
   "metadata": {
    "ExecuteTime": {
     "end_time": "2020-03-27T19:51:41.558233Z",
     "start_time": "2020-03-27T19:51:41.519360Z"
    }
   },
   "outputs": [],
   "source": [
    "df_coronavirus_raw.drop('countryname', axis=1, inplace=True)"
   ]
  },
  {
   "cell_type": "markdown",
   "metadata": {},
   "source": [
    "#### Obtenemos los totales por países y calculamos las estadísticas"
   ]
  },
  {
   "cell_type": "markdown",
   "metadata": {},
   "source": [
    "- Los casos existentes se han calculado de la siguiente manera :    \n",
    "         casos existentes = casos confirmados - fallecidos - recuperados\n",
    "- La columna <CODE>'days_confirmed'</CODE> nos crea un contador a partir de los 100 casos confirmados.\n",
    "- La columna <CODE>'days_deaths'</CODE> nos crea un contador a partir de los 10 casos confirmados.\n",
    "- La columna <CODE>'days_recovered'</CODE> nos crea un contador a partir de los 100 casos confirmados.\n",
    "- La columna <CODE>'estimated'</CODE> nos da una aproximación de los posibles casos que hay teniendo en cuanta la mortalidad.\n",
    "         casos estimados = fallecidos * 99"
   ]
  },
  {
   "cell_type": "code",
   "execution_count": 50,
   "metadata": {
    "ExecuteTime": {
     "end_time": "2020-03-27T20:43:09.947227Z",
     "start_time": "2020-03-27T20:43:09.815578Z"
    }
   },
   "outputs": [
    {
     "data": {
      "text/html": [
       "<div>\n",
       "<style scoped>\n",
       "    .dataframe tbody tr th:only-of-type {\n",
       "        vertical-align: middle;\n",
       "    }\n",
       "\n",
       "    .dataframe tbody tr th {\n",
       "        vertical-align: top;\n",
       "    }\n",
       "\n",
       "    .dataframe thead th {\n",
       "        text-align: right;\n",
       "    }\n",
       "</style>\n",
       "<table border=\"1\" class=\"dataframe\">\n",
       "  <thead>\n",
       "    <tr style=\"text-align: right;\">\n",
       "      <th>status</th>\n",
       "      <th>class</th>\n",
       "      <th>country</th>\n",
       "      <th>province</th>\n",
       "      <th>latitude</th>\n",
       "      <th>longitude</th>\n",
       "      <th>date</th>\n",
       "      <th>continent</th>\n",
       "      <th>confirmed</th>\n",
       "      <th>deaths</th>\n",
       "      <th>recovered</th>\n",
       "    </tr>\n",
       "  </thead>\n",
       "  <tbody>\n",
       "    <tr>\n",
       "      <td>0</td>\n",
       "      <td>China</td>\n",
       "      <td>China</td>\n",
       "      <td>Anhui</td>\n",
       "      <td>31.8257</td>\n",
       "      <td>117.226</td>\n",
       "      <td>2020-01-22</td>\n",
       "      <td>Asia</td>\n",
       "      <td>1</td>\n",
       "      <td>0</td>\n",
       "      <td>0</td>\n",
       "    </tr>\n",
       "    <tr>\n",
       "      <td>1</td>\n",
       "      <td>China</td>\n",
       "      <td>China</td>\n",
       "      <td>Anhui</td>\n",
       "      <td>31.8257</td>\n",
       "      <td>117.226</td>\n",
       "      <td>2020-01-23</td>\n",
       "      <td>Asia</td>\n",
       "      <td>9</td>\n",
       "      <td>0</td>\n",
       "      <td>0</td>\n",
       "    </tr>\n",
       "    <tr>\n",
       "      <td>2</td>\n",
       "      <td>China</td>\n",
       "      <td>China</td>\n",
       "      <td>Anhui</td>\n",
       "      <td>31.8257</td>\n",
       "      <td>117.226</td>\n",
       "      <td>2020-01-24</td>\n",
       "      <td>Asia</td>\n",
       "      <td>15</td>\n",
       "      <td>0</td>\n",
       "      <td>0</td>\n",
       "    </tr>\n",
       "    <tr>\n",
       "      <td>3</td>\n",
       "      <td>China</td>\n",
       "      <td>China</td>\n",
       "      <td>Anhui</td>\n",
       "      <td>31.8257</td>\n",
       "      <td>117.226</td>\n",
       "      <td>2020-01-25</td>\n",
       "      <td>Asia</td>\n",
       "      <td>39</td>\n",
       "      <td>0</td>\n",
       "      <td>0</td>\n",
       "    </tr>\n",
       "    <tr>\n",
       "      <td>4</td>\n",
       "      <td>China</td>\n",
       "      <td>China</td>\n",
       "      <td>Anhui</td>\n",
       "      <td>31.8257</td>\n",
       "      <td>117.226</td>\n",
       "      <td>2020-01-26</td>\n",
       "      <td>Asia</td>\n",
       "      <td>60</td>\n",
       "      <td>0</td>\n",
       "      <td>0</td>\n",
       "    </tr>\n",
       "  </tbody>\n",
       "</table>\n",
       "</div>"
      ],
      "text/plain": [
       "status  class country province  latitude  longitude       date continent  \\\n",
       "0       China   China    Anhui   31.8257    117.226 2020-01-22      Asia   \n",
       "1       China   China    Anhui   31.8257    117.226 2020-01-23      Asia   \n",
       "2       China   China    Anhui   31.8257    117.226 2020-01-24      Asia   \n",
       "3       China   China    Anhui   31.8257    117.226 2020-01-25      Asia   \n",
       "4       China   China    Anhui   31.8257    117.226 2020-01-26      Asia   \n",
       "\n",
       "status  confirmed  deaths  recovered  \n",
       "0               1       0          0  \n",
       "1               9       0          0  \n",
       "2              15       0          0  \n",
       "3              39       0          0  \n",
       "4              60       0          0  "
      ]
     },
     "execution_count": 50,
     "metadata": {},
     "output_type": "execute_result"
    }
   ],
   "source": [
    "df_coronavirus_raw['class'] = np.where(df_coronavirus_raw.country.str.contains('China'), 'China', 'Other Countries')\n",
    "df_coronavirus_raw['date'] = pd.to_datetime(df_coronavirus_raw['date'], format=\"%Y-%m-%dT%H:%M:%SZ\")\n",
    "l_index = ['class','country', 'province', 'latitude','longitude', 'date','continent']\n",
    "df_coronavirus = pd.pivot_table(df_coronavirus_raw, values='cases', \n",
    "                index = l_index, columns=['status'],\n",
    "                aggfunc=np.sum, fill_value=0).reset_index()\n",
    "\n",
    "df_coronavirus.head()"
   ]
  },
  {
   "cell_type": "code",
   "execution_count": 51,
   "metadata": {
    "ExecuteTime": {
     "end_time": "2020-03-27T20:43:15.260434Z",
     "start_time": "2020-03-27T20:43:15.218437Z"
    }
   },
   "outputs": [],
   "source": [
    "df_countries = df_coronavirus.groupby(['class','continent','country','date'])['confirmed','deaths', 'recovered'].agg('sum').reset_index()\n",
    "df_countries['existing'] = df_countries.confirmed.fillna(0) -  df_countries.deaths.fillna(0) - df_countries.recovered.fillna(0)"
   ]
  },
  {
   "cell_type": "code",
   "execution_count": 52,
   "metadata": {
    "ExecuteTime": {
     "end_time": "2020-03-27T20:43:20.869478Z",
     "start_time": "2020-03-27T20:43:20.853142Z"
    }
   },
   "outputs": [],
   "source": [
    "df_countries['days_confirmed'] = df_countries[df_countries['confirmed']>100].groupby(['country']).cumcount()+1\n",
    "df_countries['days_confirmed'] = df_countries['days_confirmed'].fillna(0).astype('int')"
   ]
  },
  {
   "cell_type": "code",
   "execution_count": 53,
   "metadata": {
    "ExecuteTime": {
     "end_time": "2020-03-27T20:43:25.979780Z",
     "start_time": "2020-03-27T20:43:25.962692Z"
    }
   },
   "outputs": [],
   "source": [
    "df_countries['days_death'] = df_countries[df_countries['deaths']>10].groupby(['country']).cumcount()+1\n",
    "df_countries['days_death'] = df_countries['days_death'].fillna(0).astype('int')"
   ]
  },
  {
   "cell_type": "code",
   "execution_count": 54,
   "metadata": {
    "ExecuteTime": {
     "end_time": "2020-03-27T20:43:31.235737Z",
     "start_time": "2020-03-27T20:43:31.217715Z"
    }
   },
   "outputs": [],
   "source": [
    "df_countries['days_recovered'] = df_countries[df_countries['recovered']>100].groupby(['country']).cumcount()+1\n",
    "df_countries['days_recovered'] = df_countries['days_recovered'].fillna(0).astype('int')"
   ]
  },
  {
   "cell_type": "code",
   "execution_count": 55,
   "metadata": {
    "ExecuteTime": {
     "end_time": "2020-03-27T20:43:36.578700Z",
     "start_time": "2020-03-27T20:43:36.567262Z"
    }
   },
   "outputs": [],
   "source": [
    "df_countries['estimated'] = [confirmed*99 for confirmed in df_countries['confirmed']]"
   ]
  },
  {
   "cell_type": "code",
   "execution_count": 56,
   "metadata": {
    "ExecuteTime": {
     "end_time": "2020-03-27T20:43:42.388744Z",
     "start_time": "2020-03-27T20:43:42.367561Z"
    }
   },
   "outputs": [
    {
     "data": {
      "text/html": [
       "<div>\n",
       "<style scoped>\n",
       "    .dataframe tbody tr th:only-of-type {\n",
       "        vertical-align: middle;\n",
       "    }\n",
       "\n",
       "    .dataframe tbody tr th {\n",
       "        vertical-align: top;\n",
       "    }\n",
       "\n",
       "    .dataframe thead th {\n",
       "        text-align: right;\n",
       "    }\n",
       "</style>\n",
       "<table border=\"1\" class=\"dataframe\">\n",
       "  <thead>\n",
       "    <tr style=\"text-align: right;\">\n",
       "      <th>status</th>\n",
       "      <th>class</th>\n",
       "      <th>continent</th>\n",
       "      <th>country</th>\n",
       "      <th>date</th>\n",
       "      <th>confirmed</th>\n",
       "      <th>deaths</th>\n",
       "      <th>recovered</th>\n",
       "      <th>existing</th>\n",
       "      <th>days_confirmed</th>\n",
       "      <th>days_death</th>\n",
       "      <th>days_recovered</th>\n",
       "      <th>estimated</th>\n",
       "    </tr>\n",
       "  </thead>\n",
       "  <tbody>\n",
       "    <tr>\n",
       "      <td>0</td>\n",
       "      <td>China</td>\n",
       "      <td>Asia</td>\n",
       "      <td>China</td>\n",
       "      <td>2020-01-22</td>\n",
       "      <td>548</td>\n",
       "      <td>17</td>\n",
       "      <td>28</td>\n",
       "      <td>503</td>\n",
       "      <td>1</td>\n",
       "      <td>1</td>\n",
       "      <td>0</td>\n",
       "      <td>54252</td>\n",
       "    </tr>\n",
       "    <tr>\n",
       "      <td>1</td>\n",
       "      <td>China</td>\n",
       "      <td>Asia</td>\n",
       "      <td>China</td>\n",
       "      <td>2020-01-23</td>\n",
       "      <td>643</td>\n",
       "      <td>18</td>\n",
       "      <td>30</td>\n",
       "      <td>595</td>\n",
       "      <td>2</td>\n",
       "      <td>2</td>\n",
       "      <td>0</td>\n",
       "      <td>63657</td>\n",
       "    </tr>\n",
       "    <tr>\n",
       "      <td>2</td>\n",
       "      <td>China</td>\n",
       "      <td>Asia</td>\n",
       "      <td>China</td>\n",
       "      <td>2020-01-24</td>\n",
       "      <td>920</td>\n",
       "      <td>26</td>\n",
       "      <td>36</td>\n",
       "      <td>858</td>\n",
       "      <td>3</td>\n",
       "      <td>3</td>\n",
       "      <td>0</td>\n",
       "      <td>91080</td>\n",
       "    </tr>\n",
       "    <tr>\n",
       "      <td>3</td>\n",
       "      <td>China</td>\n",
       "      <td>Asia</td>\n",
       "      <td>China</td>\n",
       "      <td>2020-01-25</td>\n",
       "      <td>1406</td>\n",
       "      <td>42</td>\n",
       "      <td>39</td>\n",
       "      <td>1325</td>\n",
       "      <td>4</td>\n",
       "      <td>4</td>\n",
       "      <td>0</td>\n",
       "      <td>139194</td>\n",
       "    </tr>\n",
       "    <tr>\n",
       "      <td>4</td>\n",
       "      <td>China</td>\n",
       "      <td>Asia</td>\n",
       "      <td>China</td>\n",
       "      <td>2020-01-26</td>\n",
       "      <td>2075</td>\n",
       "      <td>56</td>\n",
       "      <td>49</td>\n",
       "      <td>1970</td>\n",
       "      <td>5</td>\n",
       "      <td>5</td>\n",
       "      <td>0</td>\n",
       "      <td>205425</td>\n",
       "    </tr>\n",
       "  </tbody>\n",
       "</table>\n",
       "</div>"
      ],
      "text/plain": [
       "status  class continent country       date  confirmed  deaths  recovered  \\\n",
       "0       China      Asia   China 2020-01-22        548      17         28   \n",
       "1       China      Asia   China 2020-01-23        643      18         30   \n",
       "2       China      Asia   China 2020-01-24        920      26         36   \n",
       "3       China      Asia   China 2020-01-25       1406      42         39   \n",
       "4       China      Asia   China 2020-01-26       2075      56         49   \n",
       "\n",
       "status  existing  days_confirmed  days_death  days_recovered  estimated  \n",
       "0            503               1           1               0      54252  \n",
       "1            595               2           2               0      63657  \n",
       "2            858               3           3               0      91080  \n",
       "3           1325               4           4               0     139194  \n",
       "4           1970               5           5               0     205425  "
      ]
     },
     "execution_count": 56,
     "metadata": {},
     "output_type": "execute_result"
    }
   ],
   "source": [
    "df_countries.head()"
   ]
  },
  {
   "cell_type": "markdown",
   "metadata": {
    "heading_collapsed": true
   },
   "source": [
    "#### Ordenamos columas"
   ]
  },
  {
   "cell_type": "code",
   "execution_count": 57,
   "metadata": {
    "ExecuteTime": {
     "end_time": "2020-03-27T20:43:48.483630Z",
     "start_time": "2020-03-27T20:43:48.446210Z"
    },
    "code_folding": [],
    "hidden": true
   },
   "outputs": [
    {
     "data": {
      "text/html": [
       "<div>\n",
       "<style scoped>\n",
       "    .dataframe tbody tr th:only-of-type {\n",
       "        vertical-align: middle;\n",
       "    }\n",
       "\n",
       "    .dataframe tbody tr th {\n",
       "        vertical-align: top;\n",
       "    }\n",
       "\n",
       "    .dataframe thead th {\n",
       "        text-align: right;\n",
       "    }\n",
       "</style>\n",
       "<table border=\"1\" class=\"dataframe\">\n",
       "  <thead>\n",
       "    <tr style=\"text-align: right;\">\n",
       "      <th>status</th>\n",
       "      <th>date</th>\n",
       "      <th>continent</th>\n",
       "      <th>country</th>\n",
       "      <th>days_confirmed</th>\n",
       "      <th>days_death</th>\n",
       "      <th>days_recovered</th>\n",
       "      <th>confirmed</th>\n",
       "      <th>recovered</th>\n",
       "      <th>existing</th>\n",
       "      <th>estimated</th>\n",
       "      <th>deaths</th>\n",
       "    </tr>\n",
       "  </thead>\n",
       "  <tbody>\n",
       "    <tr>\n",
       "      <td>0</td>\n",
       "      <td>2020-01-22</td>\n",
       "      <td>Asia</td>\n",
       "      <td>China</td>\n",
       "      <td>1</td>\n",
       "      <td>1</td>\n",
       "      <td>0</td>\n",
       "      <td>548</td>\n",
       "      <td>28</td>\n",
       "      <td>503</td>\n",
       "      <td>54252</td>\n",
       "      <td>17</td>\n",
       "    </tr>\n",
       "    <tr>\n",
       "      <td>1</td>\n",
       "      <td>2020-01-23</td>\n",
       "      <td>Asia</td>\n",
       "      <td>China</td>\n",
       "      <td>2</td>\n",
       "      <td>2</td>\n",
       "      <td>0</td>\n",
       "      <td>643</td>\n",
       "      <td>30</td>\n",
       "      <td>595</td>\n",
       "      <td>63657</td>\n",
       "      <td>18</td>\n",
       "    </tr>\n",
       "    <tr>\n",
       "      <td>2</td>\n",
       "      <td>2020-01-24</td>\n",
       "      <td>Asia</td>\n",
       "      <td>China</td>\n",
       "      <td>3</td>\n",
       "      <td>3</td>\n",
       "      <td>0</td>\n",
       "      <td>920</td>\n",
       "      <td>36</td>\n",
       "      <td>858</td>\n",
       "      <td>91080</td>\n",
       "      <td>26</td>\n",
       "    </tr>\n",
       "    <tr>\n",
       "      <td>3</td>\n",
       "      <td>2020-01-25</td>\n",
       "      <td>Asia</td>\n",
       "      <td>China</td>\n",
       "      <td>4</td>\n",
       "      <td>4</td>\n",
       "      <td>0</td>\n",
       "      <td>1406</td>\n",
       "      <td>39</td>\n",
       "      <td>1325</td>\n",
       "      <td>139194</td>\n",
       "      <td>42</td>\n",
       "    </tr>\n",
       "    <tr>\n",
       "      <td>4</td>\n",
       "      <td>2020-01-26</td>\n",
       "      <td>Asia</td>\n",
       "      <td>China</td>\n",
       "      <td>5</td>\n",
       "      <td>5</td>\n",
       "      <td>0</td>\n",
       "      <td>2075</td>\n",
       "      <td>49</td>\n",
       "      <td>1970</td>\n",
       "      <td>205425</td>\n",
       "      <td>56</td>\n",
       "    </tr>\n",
       "  </tbody>\n",
       "</table>\n",
       "</div>"
      ],
      "text/plain": [
       "status       date continent country  days_confirmed  days_death  \\\n",
       "0      2020-01-22      Asia   China               1           1   \n",
       "1      2020-01-23      Asia   China               2           2   \n",
       "2      2020-01-24      Asia   China               3           3   \n",
       "3      2020-01-25      Asia   China               4           4   \n",
       "4      2020-01-26      Asia   China               5           5   \n",
       "\n",
       "status  days_recovered  confirmed  recovered  existing  estimated  deaths  \n",
       "0                    0        548         28       503      54252      17  \n",
       "1                    0        643         30       595      63657      18  \n",
       "2                    0        920         36       858      91080      26  \n",
       "3                    0       1406         39      1325     139194      42  \n",
       "4                    0       2075         49      1970     205425      56  "
      ]
     },
     "execution_count": 57,
     "metadata": {},
     "output_type": "execute_result"
    }
   ],
   "source": [
    "column_order = ['date', 'continent', 'country','days_confirmed', 'days_death','days_recovered','confirmed', 'recovered', 'existing', 'estimated','deaths']\n",
    "df_countries = df_countries[column_order]\n",
    "df_countries.head()"
   ]
  },
  {
   "cell_type": "markdown",
   "metadata": {
    "heading_collapsed": true
   },
   "source": [
    "## Visualización"
   ]
  },
  {
   "cell_type": "markdown",
   "metadata": {
    "ExecuteTime": {
     "end_time": "2020-03-14T01:07:05.035505Z",
     "start_time": "2020-03-14T01:07:05.027542Z"
    },
    "hidden": true
   },
   "source": [
    "### Comparación de la evolución de casos entre dos países"
   ]
  },
  {
   "cell_type": "code",
   "execution_count": 58,
   "metadata": {
    "ExecuteTime": {
     "end_time": "2020-03-27T20:43:57.904082Z",
     "start_time": "2020-03-27T20:43:54.589785Z"
    },
    "hidden": true
   },
   "outputs": [
    {
     "data": {
      "application/vnd.jupyter.widget-view+json": {
       "model_id": "66bc53ed050742a0bbf9d178abcb9550",
       "version_major": 2,
       "version_minor": 0
      },
      "text/plain": [
       "interactive(children=(Dropdown(description='country1', index=123, options=('China', 'Algeria', 'Angola', 'Beni…"
      ]
     },
     "metadata": {},
     "output_type": "display_data"
    }
   ],
   "source": [
    "col_vars = ['confirmed','deaths', 'recovered', 'existing']\n",
    "cou_vars = list(df_countries['country'].unique())\n",
    "\n",
    "def make_hist(country1='Italy', country2='Spain'):\n",
    "    fig = make_subplots(rows=1, cols=2, shared_yaxes=True, subplot_titles=(country1, country2))\n",
    "    for x in range(0,len(col_vars)):\n",
    "        df_filtered = df_countries[df_countries['country']==country1]\n",
    "        fig.add_trace(go.Scatter( \\\n",
    "                      x = df_filtered['date'], \\\n",
    "                      y = df_filtered[col_vars[x]], \\\n",
    "                      mode = 'lines+markers',\n",
    "                      name = f'{country1} - {col_vars[x].capitalize()}'),\n",
    "                      row=1, col=1)\n",
    "        df_filtered2 = df_countries[df_countries['country']==country2]\n",
    "        fig.add_trace(go.Scatter( \\\n",
    "                      x = df_filtered2['date'], \\\n",
    "                      y = df_filtered2[col_vars[x]], \\\n",
    "                      mode = 'lines+markers',\n",
    "                      name = f'{country2} - {col_vars[x].capitalize()}'),\n",
    "                      row=1, col=2)\n",
    "        \n",
    "    fig.update_layout(height=500, width=1000, title_text=f'Evolución de casos {country1} vs. {country2}', title_x=0.5)\n",
    "    fig.show()\n",
    "                      \n",
    "_= interact(make_hist, country1 = cou_vars, country2 = cou_vars)"
   ]
  },
  {
   "cell_type": "code",
   "execution_count": 59,
   "metadata": {
    "ExecuteTime": {
     "end_time": "2020-03-27T20:44:05.854793Z",
     "start_time": "2020-03-27T20:44:05.087422Z"
    },
    "hidden": true
   },
   "outputs": [
    {
     "data": {
      "application/vnd.jupyter.widget-view+json": {
       "model_id": "69e52624411842328af668693c599d5b",
       "version_major": 2,
       "version_minor": 0
      },
      "text/plain": [
       "interactive(children=(Dropdown(description='country1', index=123, options=('China', 'Algeria', 'Angola', 'Beni…"
      ]
     },
     "metadata": {},
     "output_type": "display_data"
    }
   ],
   "source": [
    "def make_hist(country1='Italy', country2='Spain'):\n",
    "    nrows = 2\n",
    "    ncols = nrows\n",
    "    fig = make_subplots(rows=2, cols=2, subplot_titles=col_vars)\n",
    "    for c in range(0,len(col_vars)):\n",
    "        df_filtered = df_countries[df_countries['country']==country1]\n",
    "        fig.add_trace(go.Scatter( \\\n",
    "                      x = df_filtered['days_confirmed'], \\\n",
    "                      y = df_filtered[col_vars[c]], \\\n",
    "                      mode = 'lines+markers',\n",
    "                      name = f'{country1} - {col_vars[c].capitalize()}'),\n",
    "                      row=int(c/nrows)+1, col=(c%ncols)+1)\n",
    "        df_filtered2 = df_countries[df_countries['country']==country2]\n",
    "        fig.add_trace(go.Scatter( \\\n",
    "                      x = df_filtered2['days_confirmed'], \\\n",
    "                      y = df_filtered2[col_vars[c]], \\\n",
    "                      mode = 'lines+markers',\n",
    "                      name = f'{country2} - {col_vars[c].capitalize()}'),\n",
    "                      row=int(c/nrows)+1, col=(c%ncols)+1)\n",
    "        \n",
    "    fig.update_layout(height=1000, width=1000, title_text=f'Evolución de casos {country1} vs. {country2}', title_x=0.5)\n",
    "    fig.show()\n",
    "                      \n",
    "_= interact(make_hist, country1 = cou_vars, country2 = cou_vars)"
   ]
  },
  {
   "cell_type": "markdown",
   "metadata": {
    "hidden": true
   },
   "source": [
    "###  Casos confirmados de coronavirus: Estadísticas"
   ]
  },
  {
   "cell_type": "code",
   "execution_count": null,
   "metadata": {
    "hidden": true
   },
   "outputs": [],
   "source": []
  },
  {
   "cell_type": "code",
   "execution_count": 60,
   "metadata": {
    "ExecuteTime": {
     "end_time": "2020-03-27T20:44:14.063890Z",
     "start_time": "2020-03-27T20:44:13.738751Z"
    },
    "hidden": true
   },
   "outputs": [
    {
     "data": {
      "text/html": [
       "<div>\n",
       "<style scoped>\n",
       "    .dataframe tbody tr th:only-of-type {\n",
       "        vertical-align: middle;\n",
       "    }\n",
       "\n",
       "    .dataframe tbody tr th {\n",
       "        vertical-align: top;\n",
       "    }\n",
       "\n",
       "    .dataframe thead th {\n",
       "        text-align: right;\n",
       "    }\n",
       "</style>\n",
       "<table border=\"1\" class=\"dataframe\">\n",
       "  <thead>\n",
       "    <tr style=\"text-align: right;\">\n",
       "      <th>status</th>\n",
       "      <th>index</th>\n",
       "      <th>date</th>\n",
       "      <th>continent</th>\n",
       "      <th>country</th>\n",
       "      <th>days_confirmed</th>\n",
       "      <th>days_death</th>\n",
       "      <th>days_recovered</th>\n",
       "      <th>confirmed</th>\n",
       "      <th>recovered</th>\n",
       "      <th>existing</th>\n",
       "      <th>estimated</th>\n",
       "      <th>deaths</th>\n",
       "    </tr>\n",
       "  </thead>\n",
       "  <tbody>\n",
       "    <tr>\n",
       "      <td>0</td>\n",
       "      <td>0</td>\n",
       "      <td>2020-01-22</td>\n",
       "      <td>Asia</td>\n",
       "      <td>China</td>\n",
       "      <td>1</td>\n",
       "      <td>1</td>\n",
       "      <td>0</td>\n",
       "      <td>548</td>\n",
       "      <td>28</td>\n",
       "      <td>503</td>\n",
       "      <td>54252</td>\n",
       "      <td>17</td>\n",
       "    </tr>\n",
       "    <tr>\n",
       "      <td>1</td>\n",
       "      <td>801</td>\n",
       "      <td>2020-01-22</td>\n",
       "      <td>Asia</td>\n",
       "      <td>Hong Kong</td>\n",
       "      <td>0</td>\n",
       "      <td>0</td>\n",
       "      <td>0</td>\n",
       "      <td>0</td>\n",
       "      <td>0</td>\n",
       "      <td>0</td>\n",
       "      <td>0</td>\n",
       "      <td>0</td>\n",
       "    </tr>\n",
       "    <tr>\n",
       "      <td>2</td>\n",
       "      <td>1035</td>\n",
       "      <td>2020-01-22</td>\n",
       "      <td>Asia</td>\n",
       "      <td>Japan</td>\n",
       "      <td>0</td>\n",
       "      <td>0</td>\n",
       "      <td>0</td>\n",
       "      <td>2</td>\n",
       "      <td>0</td>\n",
       "      <td>2</td>\n",
       "      <td>198</td>\n",
       "      <td>0</td>\n",
       "    </tr>\n",
       "    <tr>\n",
       "      <td>3</td>\n",
       "      <td>1218</td>\n",
       "      <td>2020-01-22</td>\n",
       "      <td>Asia</td>\n",
       "      <td>Macau</td>\n",
       "      <td>0</td>\n",
       "      <td>0</td>\n",
       "      <td>0</td>\n",
       "      <td>1</td>\n",
       "      <td>0</td>\n",
       "      <td>1</td>\n",
       "      <td>99</td>\n",
       "      <td>0</td>\n",
       "    </tr>\n",
       "    <tr>\n",
       "      <td>4</td>\n",
       "      <td>1668</td>\n",
       "      <td>2020-01-22</td>\n",
       "      <td>Asia</td>\n",
       "      <td>South Korea</td>\n",
       "      <td>0</td>\n",
       "      <td>0</td>\n",
       "      <td>0</td>\n",
       "      <td>1</td>\n",
       "      <td>0</td>\n",
       "      <td>1</td>\n",
       "      <td>99</td>\n",
       "      <td>0</td>\n",
       "    </tr>\n",
       "  </tbody>\n",
       "</table>\n",
       "</div>"
      ],
      "text/plain": [
       "status  index       date continent      country  days_confirmed  days_death  \\\n",
       "0           0 2020-01-22      Asia        China               1           1   \n",
       "1         801 2020-01-22      Asia    Hong Kong               0           0   \n",
       "2        1035 2020-01-22      Asia        Japan               0           0   \n",
       "3        1218 2020-01-22      Asia        Macau               0           0   \n",
       "4        1668 2020-01-22      Asia  South Korea               0           0   \n",
       "\n",
       "status  days_recovered  confirmed  recovered  existing  estimated  deaths  \n",
       "0                    0        548         28       503      54252      17  \n",
       "1                    0          0          0         0          0       0  \n",
       "2                    0          2          0         2        198       0  \n",
       "3                    0          1          0         1         99       0  \n",
       "4                    0          1          0         1         99       0  "
      ]
     },
     "execution_count": 60,
     "metadata": {},
     "output_type": "execute_result"
    }
   ],
   "source": [
    "df_countries_top10 = df_countries.groupby('date',group_keys=False)\\\n",
    "            .apply(lambda grp:grp.nlargest(n=int(10),columns='confirmed').sort_index()).reset_index()\n",
    "df_countries_top10.head()"
   ]
  },
  {
   "cell_type": "code",
   "execution_count": 61,
   "metadata": {
    "ExecuteTime": {
     "end_time": "2020-03-27T20:44:58.724940Z",
     "start_time": "2020-03-27T20:44:58.464492Z"
    },
    "hidden": true
   },
   "outputs": [
    {
     "ename": "ValueError",
     "evalue": "Value of 'x' is not the name of a column in 'data_frame'. Expected one of ['index', 'date', 'continent', 'country', 'days_confirmed', 'days_death', 'days_recovered', 'confirmed', 'recovered', 'existing', 'estimated', 'deaths'] but received: class",
     "output_type": "error",
     "traceback": [
      "\u001b[0;31m---------------------------------------------------------------------------\u001b[0m",
      "\u001b[0;31mValueError\u001b[0m                                Traceback (most recent call last)",
      "\u001b[0;32m<ipython-input-61-0712221c23e4>\u001b[0m in \u001b[0;36m<module>\u001b[0;34m\u001b[0m\n\u001b[1;32m      2\u001b[0m              labels={'confirmed': f'Confirmed cases of Coronavirus',\n\u001b[1;32m      3\u001b[0m             'class':'Agrupation by countries: China vs. Rest of the world'},\n\u001b[0;32m----> 4\u001b[0;31m              points=\"all\")\n\u001b[0m\u001b[1;32m      5\u001b[0m \u001b[0mfig\u001b[0m\u001b[0;34m.\u001b[0m\u001b[0mupdate_layout\u001b[0m\u001b[0;34m(\u001b[0m\u001b[0mtitle_text\u001b[0m\u001b[0;34m=\u001b[0m\u001b[0;34m\"Stats of confirmed cases: China vs. Rest of world\"\u001b[0m\u001b[0;34m,\u001b[0m \u001b[0mtitle_x\u001b[0m\u001b[0;34m=\u001b[0m\u001b[0;36m0.5\u001b[0m\u001b[0;34m)\u001b[0m\u001b[0;34m\u001b[0m\u001b[0;34m\u001b[0m\u001b[0m\n\u001b[1;32m      6\u001b[0m \u001b[0mfig\u001b[0m\u001b[0;34m.\u001b[0m\u001b[0mshow\u001b[0m\u001b[0;34m(\u001b[0m\u001b[0;34m)\u001b[0m\u001b[0;34m\u001b[0m\u001b[0;34m\u001b[0m\u001b[0m\n",
      "\u001b[0;32m/Users/MarLizana/opt/anaconda3/lib/python3.7/site-packages/plotly/express/_chart_types.py\u001b[0m in \u001b[0;36mbox\u001b[0;34m(data_frame, x, y, color, facet_row, facet_col, facet_col_wrap, hover_name, hover_data, custom_data, animation_frame, animation_group, category_orders, labels, color_discrete_sequence, color_discrete_map, orientation, boxmode, log_x, log_y, range_x, range_y, points, notched, title, template, width, height)\u001b[0m\n\u001b[1;32m    474\u001b[0m             \u001b[0morientation\u001b[0m\u001b[0;34m=\u001b[0m\u001b[0morientation\u001b[0m\u001b[0;34m,\u001b[0m \u001b[0mboxpoints\u001b[0m\u001b[0;34m=\u001b[0m\u001b[0mpoints\u001b[0m\u001b[0;34m,\u001b[0m \u001b[0mnotched\u001b[0m\u001b[0;34m=\u001b[0m\u001b[0mnotched\u001b[0m\u001b[0;34m,\u001b[0m \u001b[0mx0\u001b[0m\u001b[0;34m=\u001b[0m\u001b[0;34m\" \"\u001b[0m\u001b[0;34m,\u001b[0m \u001b[0my0\u001b[0m\u001b[0;34m=\u001b[0m\u001b[0;34m\" \"\u001b[0m\u001b[0;34m\u001b[0m\u001b[0;34m\u001b[0m\u001b[0m\n\u001b[1;32m    475\u001b[0m         ),\n\u001b[0;32m--> 476\u001b[0;31m         \u001b[0mlayout_patch\u001b[0m\u001b[0;34m=\u001b[0m\u001b[0mdict\u001b[0m\u001b[0;34m(\u001b[0m\u001b[0mboxmode\u001b[0m\u001b[0;34m=\u001b[0m\u001b[0mboxmode\u001b[0m\u001b[0;34m)\u001b[0m\u001b[0;34m,\u001b[0m\u001b[0;34m\u001b[0m\u001b[0;34m\u001b[0m\u001b[0m\n\u001b[0m\u001b[1;32m    477\u001b[0m     )\n\u001b[1;32m    478\u001b[0m \u001b[0;34m\u001b[0m\u001b[0m\n",
      "\u001b[0;32m/Users/MarLizana/opt/anaconda3/lib/python3.7/site-packages/plotly/express/_core.py\u001b[0m in \u001b[0;36mmake_figure\u001b[0;34m(args, constructor, trace_patch, layout_patch)\u001b[0m\n\u001b[1;32m   1358\u001b[0m \u001b[0;34m\u001b[0m\u001b[0m\n\u001b[1;32m   1359\u001b[0m     args, trace_specs, grouped_mappings, sizeref, show_colorbar = infer_config(\n\u001b[0;32m-> 1360\u001b[0;31m         \u001b[0margs\u001b[0m\u001b[0;34m,\u001b[0m \u001b[0mconstructor\u001b[0m\u001b[0;34m,\u001b[0m \u001b[0mtrace_patch\u001b[0m\u001b[0;34m\u001b[0m\u001b[0;34m\u001b[0m\u001b[0m\n\u001b[0m\u001b[1;32m   1361\u001b[0m     )\n\u001b[1;32m   1362\u001b[0m     \u001b[0mgrouper\u001b[0m \u001b[0;34m=\u001b[0m \u001b[0;34m[\u001b[0m\u001b[0mx\u001b[0m\u001b[0;34m.\u001b[0m\u001b[0mgrouper\u001b[0m \u001b[0;32mor\u001b[0m \u001b[0mone_group\u001b[0m \u001b[0;32mfor\u001b[0m \u001b[0mx\u001b[0m \u001b[0;32min\u001b[0m \u001b[0mgrouped_mappings\u001b[0m\u001b[0;34m]\u001b[0m \u001b[0;32mor\u001b[0m \u001b[0;34m[\u001b[0m\u001b[0mone_group\u001b[0m\u001b[0;34m]\u001b[0m\u001b[0;34m\u001b[0m\u001b[0;34m\u001b[0m\u001b[0m\n",
      "\u001b[0;32m/Users/MarLizana/opt/anaconda3/lib/python3.7/site-packages/plotly/express/_core.py\u001b[0m in \u001b[0;36minfer_config\u001b[0;34m(args, constructor, trace_patch)\u001b[0m\n\u001b[1;32m   1203\u001b[0m             \u001b[0mall_attrables\u001b[0m \u001b[0;34m+=\u001b[0m \u001b[0;34m[\u001b[0m\u001b[0mgroup_attr\u001b[0m\u001b[0;34m]\u001b[0m\u001b[0;34m\u001b[0m\u001b[0;34m\u001b[0m\u001b[0m\n\u001b[1;32m   1204\u001b[0m \u001b[0;34m\u001b[0m\u001b[0m\n\u001b[0;32m-> 1205\u001b[0;31m     \u001b[0margs\u001b[0m \u001b[0;34m=\u001b[0m \u001b[0mbuild_dataframe\u001b[0m\u001b[0;34m(\u001b[0m\u001b[0margs\u001b[0m\u001b[0;34m,\u001b[0m \u001b[0mall_attrables\u001b[0m\u001b[0;34m,\u001b[0m \u001b[0marray_attrables\u001b[0m\u001b[0;34m)\u001b[0m\u001b[0;34m\u001b[0m\u001b[0;34m\u001b[0m\u001b[0m\n\u001b[0m\u001b[1;32m   1206\u001b[0m     \u001b[0;32mif\u001b[0m \u001b[0mconstructor\u001b[0m \u001b[0;32min\u001b[0m \u001b[0;34m[\u001b[0m\u001b[0mgo\u001b[0m\u001b[0;34m.\u001b[0m\u001b[0mTreemap\u001b[0m\u001b[0;34m,\u001b[0m \u001b[0mgo\u001b[0m\u001b[0;34m.\u001b[0m\u001b[0mSunburst\u001b[0m\u001b[0;34m]\u001b[0m \u001b[0;32mand\u001b[0m \u001b[0margs\u001b[0m\u001b[0;34m[\u001b[0m\u001b[0;34m\"path\"\u001b[0m\u001b[0;34m]\u001b[0m \u001b[0;32mis\u001b[0m \u001b[0;32mnot\u001b[0m \u001b[0;32mNone\u001b[0m\u001b[0;34m:\u001b[0m\u001b[0;34m\u001b[0m\u001b[0;34m\u001b[0m\u001b[0m\n\u001b[1;32m   1207\u001b[0m         \u001b[0margs\u001b[0m \u001b[0;34m=\u001b[0m \u001b[0mprocess_dataframe_hierarchy\u001b[0m\u001b[0;34m(\u001b[0m\u001b[0margs\u001b[0m\u001b[0;34m)\u001b[0m\u001b[0;34m\u001b[0m\u001b[0;34m\u001b[0m\u001b[0m\n",
      "\u001b[0;32m/Users/MarLizana/opt/anaconda3/lib/python3.7/site-packages/plotly/express/_core.py\u001b[0m in \u001b[0;36mbuild_dataframe\u001b[0;34m(args, attrables, array_attrables)\u001b[0m\n\u001b[1;32m    972\u001b[0m                             \u001b[0;34m\"\\n To use the index, pass it in directly as `df.index`.\"\u001b[0m\u001b[0;34m\u001b[0m\u001b[0;34m\u001b[0m\u001b[0m\n\u001b[1;32m    973\u001b[0m                         )\n\u001b[0;32m--> 974\u001b[0;31m                     \u001b[0;32mraise\u001b[0m \u001b[0mValueError\u001b[0m\u001b[0;34m(\u001b[0m\u001b[0merr_msg\u001b[0m\u001b[0;34m)\u001b[0m\u001b[0;34m\u001b[0m\u001b[0;34m\u001b[0m\u001b[0m\n\u001b[0m\u001b[1;32m    975\u001b[0m                 \u001b[0;32mif\u001b[0m \u001b[0mlength\u001b[0m \u001b[0;32mand\u001b[0m \u001b[0mlen\u001b[0m\u001b[0;34m(\u001b[0m\u001b[0mdf_input\u001b[0m\u001b[0;34m[\u001b[0m\u001b[0margument\u001b[0m\u001b[0;34m]\u001b[0m\u001b[0;34m)\u001b[0m \u001b[0;34m!=\u001b[0m \u001b[0mlength\u001b[0m\u001b[0;34m:\u001b[0m\u001b[0;34m\u001b[0m\u001b[0;34m\u001b[0m\u001b[0m\n\u001b[1;32m    976\u001b[0m                     raise ValueError(\n",
      "\u001b[0;31mValueError\u001b[0m: Value of 'x' is not the name of a column in 'data_frame'. Expected one of ['index', 'date', 'continent', 'country', 'days_confirmed', 'days_death', 'days_recovered', 'confirmed', 'recovered', 'existing', 'estimated', 'deaths'] but received: class"
     ]
    }
   ],
   "source": [
    "fig = px.box(df_countries_top10, y=\"confirmed\", x='class', \n",
    "             labels={'confirmed': f'Confirmed cases of Coronavirus',\n",
    "            'class':'Agrupation by countries: China vs. Rest of the world'},\n",
    "             points=\"all\")\n",
    "fig.update_layout(title_text=\"Stats of confirmed cases: China vs. Rest of world\", title_x=0.5)\n",
    "fig.show()"
   ]
  },
  {
   "cell_type": "markdown",
   "metadata": {},
   "source": [
    "## Estadísticas"
   ]
  },
  {
   "cell_type": "markdown",
   "metadata": {},
   "source": [
    "### Funciones"
   ]
  },
  {
   "cell_type": "code",
   "execution_count": 117,
   "metadata": {
    "ExecuteTime": {
     "end_time": "2020-03-28T10:36:46.079111Z",
     "start_time": "2020-03-28T10:36:45.903495Z"
    }
   },
   "outputs": [],
   "source": [
    "def hipotesis_result (pval, conf):\n",
    "    \n",
    "    \"\"\"\n",
    "    ************************************Contraste de hipótesis************************************\n",
    "    \n",
    "    Devuelve la decisión de rechazar o no la hipótesis nula dados el p-valor y el nivel de confianza.\n",
    "    \n",
    "    Input:\n",
    "    * pval(float): P-valor. Probabilidad de que un valor sea posible dada una hipótesis nula cierta.\n",
    "    * conf(float) : Nivel de confianza deseado.\n",
    "    \n",
    "    Output:\n",
    "    * (str): Si se acepta o rechaza la H0 y los valores'pval' y 'conf' introducidos.\n",
    "    \n",
    "    ***********************************************************************************************\n",
    "    \n",
    "    \"\"\"\n",
    "    alpha = 1 - conf\n",
    "    if pval <= alpha:\n",
    "        return f'Se rechaza la hipótesis nula (H0). Nuestro p-valor {pval} es menor a nuestra α {round(alpha,2)}'\n",
    "    else:\n",
    "        return f'No se rechaza la hipótesis nula (H0). Nuestro p-valor {pval} es mayor a nuestra α {round(alpha,2)}'\n",
    "\n",
    "\n",
    "\n",
    "def model_summary (x, y):\n",
    "    \n",
    "    from statsmodels.regression import linear_model as sm\n",
    "    \n",
    "    \"\"\"\n",
    "    ************************************Sumario************************************\n",
    "    \n",
    "    Devuelve la sumarización de diferentes estadísticos.\n",
    "    \n",
    "    Input:\n",
    "    * X: muestra 1\n",
    "    * Y: muestra 2\n",
    "\n",
    "    \n",
    "    Output:\n",
    "    * Listado de estadísticos.\n",
    "    \n",
    "    ***********************************************************************************************\n",
    "    \n",
    "    \"\"\"\n",
    "    model = sm.OLS(y.astype(float), y.astype(float)).fit()\n",
    "\n",
    "    print(model.summary())\n",
    "    \n",
    "\n",
    "def linear_reg (x, y, dataset):\n",
    "    \n",
    "    linear_regression = LinearRegression()\n",
    "    linear_regression.fit(x,y)\n",
    "    y_pred = linear_regression.predict(x)\n",
    "    sns.lmplot(\"x\",\"y\", data = dataset)\n",
    "    \n",
    "    \n",
    "    \n",
    "def expon_distribution ():\n",
    "    return 1 - stats.expon(1/10).cdf(15)\n",
    "\n",
    "\n",
    "def t_test_features(s1, s2, conf, features=['confirmed','deaths', 'recovered', 'existing', 'estimated']):\n",
    "    \n",
    "    \"\"\"\n",
    "    La prueba 't de Student' se aplica cuando la población estudiada sigue una \n",
    "    distribución normal pero el tamaño muestral es demasiado pequeño como para \n",
    "    que el estadístico en el que está basada la inferencia esté normalmente \n",
    "    distribuido, utilizándose una estimación de la desviación típica en lugar del \n",
    "    valor real. Es utilizado en análisis discriminante.\n",
    "    \n",
    "    Calculate the T-test for the means of two independent samples of scores.\n",
    "\n",
    "    This is a two-sided test for the null hypothesis that 2 independent samples\n",
    "    have identical average (expected) values. This test assumes that the populations\n",
    "    have identical variances by default.\n",
    "    \n",
    "    Args:\n",
    "        s1 (dataframe): sample 1\n",
    "        s2 (dataframe): sample 2\n",
    "        features (list): an array of features to test\n",
    "    \n",
    "    Returns:\n",
    "        dict: a dictionary of t-test scores for each feature where the feature name\n",
    "        is the key and the p-value is the value\n",
    "    \"\"\"\n",
    "    \n",
    "    results = {}\n",
    "    \n",
    "    # Your code here\n",
    "    \n",
    "    for feat in features:\n",
    "        c = sp.ttest_ind(s1[feat], s2[feat])[1]\n",
    "        results[feat] = hipotesis_result(c,conf)\n",
    "    \n",
    "    return results\n"
   ]
  },
  {
   "cell_type": "code",
   "execution_count": 118,
   "metadata": {
    "ExecuteTime": {
     "end_time": "2020-03-28T10:36:54.218901Z",
     "start_time": "2020-03-28T10:36:54.167048Z"
    }
   },
   "outputs": [],
   "source": [
    "def poly_reg (country, days_predict):\n",
    "    \n",
    "    \"\"\"\n",
    "    La regresión polinómica es una predicción de una variable de \n",
    "    respuesta cuantitativa a partir de una variable predictora \n",
    "    cuantitativa, donde la relación se modela como una función \n",
    "    polinomial de orden n.\n",
    "    \n",
    "    Args:\n",
    "        country: país a predecir\n",
    "        days_predict: hasta que día\n",
    "\n",
    "    \n",
    "    Returns:\n",
    "        plot con la predicción.\n",
    "        \n",
    "    \"\"\"\n",
    "    \n",
    "    selection = df_countries[df_countries['country'] == country]\n",
    "    X = selection['days_confirmed'].values\n",
    "    y = selection['deaths'].values\n",
    "    mymodel = np.poly1d(np.polyfit(X, y, 3))\n",
    "    myline = np.linspace(1, days_predict, 100)\n",
    "    plt.plot(myline, mymodel(myline))\n",
    "    plt.title(country)\n",
    "    plt.xlabel(\"Días desde los primeros 10 muertos\")\n",
    "    plt.ylabel(\"Número de muertos\")\n",
    "    plt.scatter(X,y, color = \"red\")\n",
    "    return plt.show()"
   ]
  },
  {
   "cell_type": "code",
   "execution_count": 122,
   "metadata": {
    "ExecuteTime": {
     "end_time": "2020-03-28T10:39:42.934468Z",
     "start_time": "2020-03-28T10:39:42.905911Z"
    }
   },
   "outputs": [],
   "source": [
    "def umann_whitney_features(s1, s2, conf, features):\n",
    "    \n",
    "    \"\"\"\n",
    "    La prueba U de MannWhitney es una prueba no paramétrica aplicada a dos muestras independientes. Es la versión \n",
    "    no paramétrica de la habitual prueba t de Student.\n",
    "    \n",
    "    Args:\n",
    "        s1 (dataframe): sample 1\n",
    "        s2 (dataframe): sample 2\n",
    "        features (list): an array of features to test\n",
    "    \n",
    "    Returns:\n",
    "        dict: a dictionary of t-test scores for each feature where the feature name\n",
    "        is the key and the p-value is the value\n",
    "    \"\"\"\n",
    "    \n",
    "    results = {}\n",
    "    \n",
    "    # Your code here\n",
    "    \n",
    "    for feat in features:\n",
    "        c = sp.stats.mannwhitneyu(s1[feat], s2[feat])[1]\n",
    "        results[feat] = hipotesis_result(c,conf)\n",
    "    \n",
    "    return results"
   ]
  },
  {
   "cell_type": "markdown",
   "metadata": {},
   "source": [
    "### España vs Italia"
   ]
  },
  {
   "cell_type": "code",
   "execution_count": 64,
   "metadata": {
    "ExecuteTime": {
     "end_time": "2020-03-27T20:45:19.635440Z",
     "start_time": "2020-03-27T20:45:19.615859Z"
    }
   },
   "outputs": [
    {
     "data": {
      "text/html": [
       "<div>\n",
       "<style scoped>\n",
       "    .dataframe tbody tr th:only-of-type {\n",
       "        vertical-align: middle;\n",
       "    }\n",
       "\n",
       "    .dataframe tbody tr th {\n",
       "        vertical-align: top;\n",
       "    }\n",
       "\n",
       "    .dataframe thead th {\n",
       "        text-align: right;\n",
       "    }\n",
       "</style>\n",
       "<table border=\"1\" class=\"dataframe\">\n",
       "  <thead>\n",
       "    <tr style=\"text-align: right;\">\n",
       "      <th>status</th>\n",
       "      <th>date</th>\n",
       "      <th>continent</th>\n",
       "      <th>country</th>\n",
       "      <th>days_confirmed</th>\n",
       "      <th>days_death</th>\n",
       "      <th>days_recovered</th>\n",
       "      <th>confirmed</th>\n",
       "      <th>recovered</th>\n",
       "      <th>existing</th>\n",
       "      <th>estimated</th>\n",
       "      <th>deaths</th>\n",
       "    </tr>\n",
       "  </thead>\n",
       "  <tbody>\n",
       "    <tr>\n",
       "      <td>0</td>\n",
       "      <td>2020-01-22</td>\n",
       "      <td>Asia</td>\n",
       "      <td>China</td>\n",
       "      <td>1</td>\n",
       "      <td>1</td>\n",
       "      <td>0</td>\n",
       "      <td>548</td>\n",
       "      <td>28</td>\n",
       "      <td>503</td>\n",
       "      <td>54252</td>\n",
       "      <td>17</td>\n",
       "    </tr>\n",
       "    <tr>\n",
       "      <td>1</td>\n",
       "      <td>2020-01-23</td>\n",
       "      <td>Asia</td>\n",
       "      <td>China</td>\n",
       "      <td>2</td>\n",
       "      <td>2</td>\n",
       "      <td>0</td>\n",
       "      <td>643</td>\n",
       "      <td>30</td>\n",
       "      <td>595</td>\n",
       "      <td>63657</td>\n",
       "      <td>18</td>\n",
       "    </tr>\n",
       "    <tr>\n",
       "      <td>2</td>\n",
       "      <td>2020-01-24</td>\n",
       "      <td>Asia</td>\n",
       "      <td>China</td>\n",
       "      <td>3</td>\n",
       "      <td>3</td>\n",
       "      <td>0</td>\n",
       "      <td>920</td>\n",
       "      <td>36</td>\n",
       "      <td>858</td>\n",
       "      <td>91080</td>\n",
       "      <td>26</td>\n",
       "    </tr>\n",
       "    <tr>\n",
       "      <td>3</td>\n",
       "      <td>2020-01-25</td>\n",
       "      <td>Asia</td>\n",
       "      <td>China</td>\n",
       "      <td>4</td>\n",
       "      <td>4</td>\n",
       "      <td>0</td>\n",
       "      <td>1406</td>\n",
       "      <td>39</td>\n",
       "      <td>1325</td>\n",
       "      <td>139194</td>\n",
       "      <td>42</td>\n",
       "    </tr>\n",
       "    <tr>\n",
       "      <td>4</td>\n",
       "      <td>2020-01-26</td>\n",
       "      <td>Asia</td>\n",
       "      <td>China</td>\n",
       "      <td>5</td>\n",
       "      <td>5</td>\n",
       "      <td>0</td>\n",
       "      <td>2075</td>\n",
       "      <td>49</td>\n",
       "      <td>1970</td>\n",
       "      <td>205425</td>\n",
       "      <td>56</td>\n",
       "    </tr>\n",
       "  </tbody>\n",
       "</table>\n",
       "</div>"
      ],
      "text/plain": [
       "status       date continent country  days_confirmed  days_death  \\\n",
       "0      2020-01-22      Asia   China               1           1   \n",
       "1      2020-01-23      Asia   China               2           2   \n",
       "2      2020-01-24      Asia   China               3           3   \n",
       "3      2020-01-25      Asia   China               4           4   \n",
       "4      2020-01-26      Asia   China               5           5   \n",
       "\n",
       "status  days_recovered  confirmed  recovered  existing  estimated  deaths  \n",
       "0                    0        548         28       503      54252      17  \n",
       "1                    0        643         30       595      63657      18  \n",
       "2                    0        920         36       858      91080      26  \n",
       "3                    0       1406         39      1325     139194      42  \n",
       "4                    0       2075         49      1970     205425      56  "
      ]
     },
     "execution_count": 64,
     "metadata": {},
     "output_type": "execute_result"
    }
   ],
   "source": [
    "df_countries.head()"
   ]
  },
  {
   "cell_type": "code",
   "execution_count": 65,
   "metadata": {
    "ExecuteTime": {
     "end_time": "2020-03-27T20:45:24.806939Z",
     "start_time": "2020-03-27T20:45:24.780171Z"
    }
   },
   "outputs": [
    {
     "data": {
      "text/html": [
       "<div>\n",
       "<style scoped>\n",
       "    .dataframe tbody tr th:only-of-type {\n",
       "        vertical-align: middle;\n",
       "    }\n",
       "\n",
       "    .dataframe tbody tr th {\n",
       "        vertical-align: top;\n",
       "    }\n",
       "\n",
       "    .dataframe thead th {\n",
       "        text-align: right;\n",
       "    }\n",
       "</style>\n",
       "<table border=\"1\" class=\"dataframe\">\n",
       "  <thead>\n",
       "    <tr style=\"text-align: right;\">\n",
       "      <th>status</th>\n",
       "      <th>date</th>\n",
       "      <th>continent</th>\n",
       "      <th>country</th>\n",
       "      <th>days_confirmed</th>\n",
       "      <th>days_death</th>\n",
       "      <th>days_recovered</th>\n",
       "      <th>confirmed</th>\n",
       "      <th>recovered</th>\n",
       "      <th>existing</th>\n",
       "      <th>estimated</th>\n",
       "      <th>deaths</th>\n",
       "    </tr>\n",
       "  </thead>\n",
       "  <tbody>\n",
       "    <tr>\n",
       "      <td>3606</td>\n",
       "      <td>2020-03-02</td>\n",
       "      <td>Europe</td>\n",
       "      <td>Spain</td>\n",
       "      <td>1</td>\n",
       "      <td>0</td>\n",
       "      <td>0</td>\n",
       "      <td>120</td>\n",
       "      <td>2</td>\n",
       "      <td>118</td>\n",
       "      <td>11880</td>\n",
       "      <td>0</td>\n",
       "    </tr>\n",
       "    <tr>\n",
       "      <td>3607</td>\n",
       "      <td>2020-03-03</td>\n",
       "      <td>Europe</td>\n",
       "      <td>Spain</td>\n",
       "      <td>2</td>\n",
       "      <td>0</td>\n",
       "      <td>0</td>\n",
       "      <td>165</td>\n",
       "      <td>2</td>\n",
       "      <td>162</td>\n",
       "      <td>16335</td>\n",
       "      <td>1</td>\n",
       "    </tr>\n",
       "    <tr>\n",
       "      <td>3608</td>\n",
       "      <td>2020-03-04</td>\n",
       "      <td>Europe</td>\n",
       "      <td>Spain</td>\n",
       "      <td>3</td>\n",
       "      <td>0</td>\n",
       "      <td>0</td>\n",
       "      <td>222</td>\n",
       "      <td>2</td>\n",
       "      <td>218</td>\n",
       "      <td>21978</td>\n",
       "      <td>2</td>\n",
       "    </tr>\n",
       "    <tr>\n",
       "      <td>3609</td>\n",
       "      <td>2020-03-05</td>\n",
       "      <td>Europe</td>\n",
       "      <td>Spain</td>\n",
       "      <td>4</td>\n",
       "      <td>0</td>\n",
       "      <td>0</td>\n",
       "      <td>259</td>\n",
       "      <td>2</td>\n",
       "      <td>254</td>\n",
       "      <td>25641</td>\n",
       "      <td>3</td>\n",
       "    </tr>\n",
       "    <tr>\n",
       "      <td>3610</td>\n",
       "      <td>2020-03-06</td>\n",
       "      <td>Europe</td>\n",
       "      <td>Spain</td>\n",
       "      <td>5</td>\n",
       "      <td>0</td>\n",
       "      <td>0</td>\n",
       "      <td>400</td>\n",
       "      <td>2</td>\n",
       "      <td>393</td>\n",
       "      <td>39600</td>\n",
       "      <td>5</td>\n",
       "    </tr>\n",
       "  </tbody>\n",
       "</table>\n",
       "</div>"
      ],
      "text/plain": [
       "status       date continent country  days_confirmed  days_death  \\\n",
       "3606   2020-03-02    Europe   Spain               1           0   \n",
       "3607   2020-03-03    Europe   Spain               2           0   \n",
       "3608   2020-03-04    Europe   Spain               3           0   \n",
       "3609   2020-03-05    Europe   Spain               4           0   \n",
       "3610   2020-03-06    Europe   Spain               5           0   \n",
       "\n",
       "status  days_recovered  confirmed  recovered  existing  estimated  deaths  \n",
       "3606                 0        120          2       118      11880       0  \n",
       "3607                 0        165          2       162      16335       1  \n",
       "3608                 0        222          2       218      21978       2  \n",
       "3609                 0        259          2       254      25641       3  \n",
       "3610                 0        400          2       393      39600       5  "
      ]
     },
     "execution_count": 65,
     "metadata": {},
     "output_type": "execute_result"
    }
   ],
   "source": [
    "corona_spain = df_countries[df_countries['country'] == \"Spain\"]\n",
    "corona_spain = corona_spain[corona_spain['days_confirmed']>=1]\n",
    "corona_it = df_countries[df_countries['country'] == \"Italy\"]\n",
    "corona_it = corona_it[corona_it['days_confirmed']>=1]\n",
    "corona_spain.head()"
   ]
  },
  {
   "cell_type": "code",
   "execution_count": 123,
   "metadata": {
    "ExecuteTime": {
     "end_time": "2020-03-28T10:39:51.460818Z",
     "start_time": "2020-03-28T10:39:51.370510Z"
    }
   },
   "outputs": [
    {
     "data": {
      "text/plain": [
       "{'confirmed': 'No se rechaza la hipótesis nula (H0). Nuestro p-valor 0.15276583662951174 es mayor a nuestra α 0.05',\n",
       " 'deaths': 'No se rechaza la hipótesis nula (H0). Nuestro p-valor 0.05240802942803716 es mayor a nuestra α 0.05',\n",
       " 'recovered': 'No se rechaza la hipótesis nula (H0). Nuestro p-valor 0.10231793729197025 es mayor a nuestra α 0.05',\n",
       " 'existing': 'No se rechaza la hipótesis nula (H0). Nuestro p-valor 0.1826508723517132 es mayor a nuestra α 0.05',\n",
       " 'estimated': 'No se rechaza la hipótesis nula (H0). Nuestro p-valor 0.15276583662951174 es mayor a nuestra α 0.05'}"
      ]
     },
     "execution_count": 123,
     "metadata": {},
     "output_type": "execute_result"
    }
   ],
   "source": [
    "features=['confirmed','deaths', 'recovered', 'existing', 'estimated']\n",
    "t_test_features(corona_spain,corona_it, 0.95, features)"
   ]
  },
  {
   "cell_type": "code",
   "execution_count": 126,
   "metadata": {
    "ExecuteTime": {
     "end_time": "2020-03-28T10:40:21.168424Z",
     "start_time": "2020-03-28T10:40:21.148959Z"
    }
   },
   "outputs": [
    {
     "data": {
      "text/plain": [
       "{'confirmed': 'No se rechaza la hipótesis nula (H0). Nuestro p-valor 0.10171314378796698 es mayor a nuestra α 0.05',\n",
       " 'deaths': 'Se rechaza la hipótesis nula (H0). Nuestro p-valor 0.04277021930155687 es menor a nuestra α 0.05',\n",
       " 'recovered': 'No se rechaza la hipótesis nula (H0). Nuestro p-valor 0.06674286185879226 es mayor a nuestra α 0.05',\n",
       " 'existing': 'No se rechaza la hipótesis nula (H0). Nuestro p-valor 0.11332674526762082 es mayor a nuestra α 0.05',\n",
       " 'estimated': 'No se rechaza la hipótesis nula (H0). Nuestro p-valor 0.10171314378796698 es mayor a nuestra α 0.05'}"
      ]
     },
     "execution_count": 126,
     "metadata": {},
     "output_type": "execute_result"
    }
   ],
   "source": [
    "umann_whitney_features(corona_spain,corona_it, 0.95, features)"
   ]
  },
  {
   "cell_type": "code",
   "execution_count": 90,
   "metadata": {
    "ExecuteTime": {
     "end_time": "2020-03-27T20:57:35.048856Z",
     "start_time": "2020-03-27T20:57:34.435010Z"
    }
   },
   "outputs": [
    {
     "data": {
      "image/png": "[encoded data removed]",
      "text/plain": [
       "<Figure size 432x288 with 1 Axes>"
      ]
     },
     "metadata": {
      "needs_background": "light"
     },
     "output_type": "display_data"
    },
    {
     "data": {
      "image/png": "[encoded data removed]",
      "text/plain": [
       "<Figure size 432x288 with 1 Axes>"
      ]
     },
     "metadata": {
      "needs_background": "light"
     },
     "output_type": "display_data"
    },
    {
     "data": {
      "image/png": "[encoded data removed]",
      "text/plain": [
       "<Figure size 432x288 with 1 Axes>"
      ]
     },
     "metadata": {
      "needs_background": "light"
     },
     "output_type": "display_data"
    }
   ],
   "source": [
    "poly_reg(\"Italy\", 40)\n",
    "poly_reg(\"Spain\", 40)\n",
    "poly_reg(\"China\", 70)"
   ]
  },
  {
   "cell_type": "code",
   "execution_count": 160,
   "metadata": {
    "ExecuteTime": {
     "end_time": "2020-03-28T11:22:12.910073Z",
     "start_time": "2020-03-28T11:22:12.799184Z"
    }
   },
   "outputs": [
    {
     "data": {
      "text/html": [
       "<div>\n",
       "<style scoped>\n",
       "    .dataframe tbody tr th:only-of-type {\n",
       "        vertical-align: middle;\n",
       "    }\n",
       "\n",
       "    .dataframe tbody tr th {\n",
       "        vertical-align: top;\n",
       "    }\n",
       "\n",
       "    .dataframe thead th {\n",
       "        text-align: right;\n",
       "    }\n",
       "</style>\n",
       "<table border=\"1\" class=\"dataframe\">\n",
       "  <thead>\n",
       "    <tr style=\"text-align: right;\">\n",
       "      <th></th>\n",
       "      <th>date</th>\n",
       "      <th>region_code</th>\n",
       "      <th>region</th>\n",
       "      <th>country</th>\n",
       "      <th>population</th>\n",
       "      <th>cases_registered</th>\n",
       "      <th>cases_per_100000</th>\n",
       "      <th>intensive_care</th>\n",
       "      <th>intensive_care_per_1000000</th>\n",
       "      <th>deceassed</th>\n",
       "      <th>deceassed_per_100000</th>\n",
       "      <th>recovered</th>\n",
       "      <th>recovered_per_100000</th>\n",
       "    </tr>\n",
       "  </thead>\n",
       "  <tbody>\n",
       "    <tr>\n",
       "      <td>0</td>\n",
       "      <td>2020-02-27</td>\n",
       "      <td>1.0</td>\n",
       "      <td>Andalucía</td>\n",
       "      <td>Spain</td>\n",
       "      <td>8414240.0</td>\n",
       "      <td>1</td>\n",
       "      <td>0.01</td>\n",
       "      <td>0.0</td>\n",
       "      <td>0.0</td>\n",
       "      <td>0.0</td>\n",
       "      <td>0.0</td>\n",
       "      <td>0.0</td>\n",
       "      <td>0.0</td>\n",
       "    </tr>\n",
       "    <tr>\n",
       "      <td>1</td>\n",
       "      <td>2020-02-28</td>\n",
       "      <td>1.0</td>\n",
       "      <td>Andalucía</td>\n",
       "      <td>Spain</td>\n",
       "      <td>8414240.0</td>\n",
       "      <td>6</td>\n",
       "      <td>0.07</td>\n",
       "      <td>0.0</td>\n",
       "      <td>0.0</td>\n",
       "      <td>0.0</td>\n",
       "      <td>0.0</td>\n",
       "      <td>0.0</td>\n",
       "      <td>0.0</td>\n",
       "    </tr>\n",
       "    <tr>\n",
       "      <td>2</td>\n",
       "      <td>2020-02-29</td>\n",
       "      <td>1.0</td>\n",
       "      <td>Andalucía</td>\n",
       "      <td>Spain</td>\n",
       "      <td>8414240.0</td>\n",
       "      <td>8</td>\n",
       "      <td>0.10</td>\n",
       "      <td>0.0</td>\n",
       "      <td>0.0</td>\n",
       "      <td>0.0</td>\n",
       "      <td>0.0</td>\n",
       "      <td>0.0</td>\n",
       "      <td>0.0</td>\n",
       "    </tr>\n",
       "    <tr>\n",
       "      <td>3</td>\n",
       "      <td>2020-03-01</td>\n",
       "      <td>1.0</td>\n",
       "      <td>Andalucía</td>\n",
       "      <td>Spain</td>\n",
       "      <td>8414240.0</td>\n",
       "      <td>12</td>\n",
       "      <td>0.14</td>\n",
       "      <td>0.0</td>\n",
       "      <td>0.0</td>\n",
       "      <td>0.0</td>\n",
       "      <td>0.0</td>\n",
       "      <td>0.0</td>\n",
       "      <td>0.0</td>\n",
       "    </tr>\n",
       "    <tr>\n",
       "      <td>4</td>\n",
       "      <td>2020-03-02</td>\n",
       "      <td>1.0</td>\n",
       "      <td>Andalucía</td>\n",
       "      <td>Spain</td>\n",
       "      <td>8414240.0</td>\n",
       "      <td>12</td>\n",
       "      <td>0.14</td>\n",
       "      <td>0.0</td>\n",
       "      <td>0.0</td>\n",
       "      <td>0.0</td>\n",
       "      <td>0.0</td>\n",
       "      <td>0.0</td>\n",
       "      <td>0.0</td>\n",
       "    </tr>\n",
       "  </tbody>\n",
       "</table>\n",
       "</div>"
      ],
      "text/plain": [
       "         date  region_code     region country  population  cases_registered  \\\n",
       "0  2020-02-27          1.0  Andalucía   Spain   8414240.0                 1   \n",
       "1  2020-02-28          1.0  Andalucía   Spain   8414240.0                 6   \n",
       "2  2020-02-29          1.0  Andalucía   Spain   8414240.0                 8   \n",
       "3  2020-03-01          1.0  Andalucía   Spain   8414240.0                12   \n",
       "4  2020-03-02          1.0  Andalucía   Spain   8414240.0                12   \n",
       "\n",
       "   cases_per_100000  intensive_care  intensive_care_per_1000000  deceassed  \\\n",
       "0              0.01             0.0                         0.0        0.0   \n",
       "1              0.07             0.0                         0.0        0.0   \n",
       "2              0.10             0.0                         0.0        0.0   \n",
       "3              0.14             0.0                         0.0        0.0   \n",
       "4              0.14             0.0                         0.0        0.0   \n",
       "\n",
       "   deceassed_per_100000  recovered  recovered_per_100000  \n",
       "0                   0.0        0.0                   0.0  \n",
       "1                   0.0        0.0                   0.0  \n",
       "2                   0.0        0.0                   0.0  \n",
       "3                   0.0        0.0                   0.0  \n",
       "4                   0.0        0.0                   0.0  "
      ]
     },
     "execution_count": 160,
     "metadata": {},
     "output_type": "execute_result"
    }
   ],
   "source": [
    "df_sp_it_fr_conf.head()"
   ]
  },
  {
   "cell_type": "code",
   "execution_count": null,
   "metadata": {},
   "outputs": [],
   "source": [
    "pd.pivot_table(df_sp_it_fr_conf, index = ['date','country', 'region'])"
   ]
  },
  {
   "cell_type": "code",
   "execution_count": 139,
   "metadata": {
    "ExecuteTime": {
     "end_time": "2020-03-28T10:53:49.177075Z",
     "start_time": "2020-03-28T10:53:49.110591Z"
    }
   },
   "outputs": [
    {
     "data": {
      "text/plain": [
       "Index(['date', 'region_code', 'region', 'country', 'population',\n",
       "       'cases_registered', 'cases_per_100000', 'intensive_care',\n",
       "       'intensive_care_per_1000000', 'deceassed', 'deceassed_per_100000',\n",
       "       'recovered', 'recovered_per_100000'],\n",
       "      dtype='object')"
      ]
     },
     "execution_count": 139,
     "metadata": {},
     "output_type": "execute_result"
    }
   ],
   "source": [
    "df_sp_it_fr_conf = df_sp_it_fr_conf.fillna(0)"
   ]
  },
  {
   "cell_type": "code",
   "execution_count": 178,
   "metadata": {
    "ExecuteTime": {
     "end_time": "2020-03-28T11:52:31.903179Z",
     "start_time": "2020-03-28T11:52:31.440680Z"
    }
   },
   "outputs": [
    {
     "data": {
      "image/png": "[encoded data removed]",
      "text/plain": [
       "<Figure size 432x288 with 2 Axes>"
      ]
     },
     "metadata": {
      "needs_background": "light"
     },
     "output_type": "display_data"
    }
   ],
   "source": [
    "_ = sns.heatmap(pd.pivot_table(df_sp_it_fr_conf, index = 'country', aggfunc = \"sum\")[['cases_per_100000',\n",
    "       'intensive_care_per_1000000', 'deceassed_per_100000','recovered_per_100000']], cmap= \"seismic\")"
   ]
  },
  {
   "cell_type": "code",
   "execution_count": 182,
   "metadata": {
    "ExecuteTime": {
     "end_time": "2020-03-28T11:53:29.839022Z",
     "start_time": "2020-03-28T11:53:29.733608Z"
    }
   },
   "outputs": [
    {
     "data": {
      "text/html": [
       "<div>\n",
       "<style scoped>\n",
       "    .dataframe tbody tr th:only-of-type {\n",
       "        vertical-align: middle;\n",
       "    }\n",
       "\n",
       "    .dataframe tbody tr th {\n",
       "        vertical-align: top;\n",
       "    }\n",
       "\n",
       "    .dataframe thead th {\n",
       "        text-align: right;\n",
       "    }\n",
       "</style>\n",
       "<table border=\"1\" class=\"dataframe\">\n",
       "  <thead>\n",
       "    <tr style=\"text-align: right;\">\n",
       "      <th></th>\n",
       "      <th>date</th>\n",
       "      <th>region_code</th>\n",
       "      <th>region</th>\n",
       "      <th>country</th>\n",
       "      <th>population</th>\n",
       "      <th>cases_registered</th>\n",
       "      <th>cases_per_100000</th>\n",
       "      <th>intensive_care</th>\n",
       "      <th>intensive_care_per_1000000</th>\n",
       "      <th>deceassed</th>\n",
       "      <th>deceassed_per_100000</th>\n",
       "      <th>recovered</th>\n",
       "      <th>recovered_per_100000</th>\n",
       "    </tr>\n",
       "  </thead>\n",
       "  <tbody>\n",
       "    <tr>\n",
       "      <td>513</td>\n",
       "      <td>2020-02-24</td>\n",
       "      <td>13.0</td>\n",
       "      <td>Abruzzo</td>\n",
       "      <td>Italia</td>\n",
       "      <td>1311580.0</td>\n",
       "      <td>0</td>\n",
       "      <td>0.00</td>\n",
       "      <td>0.0</td>\n",
       "      <td>0.00</td>\n",
       "      <td>0.0</td>\n",
       "      <td>0.00</td>\n",
       "      <td>0.0</td>\n",
       "      <td>0.00</td>\n",
       "    </tr>\n",
       "    <tr>\n",
       "      <td>514</td>\n",
       "      <td>2020-03-20</td>\n",
       "      <td>13.0</td>\n",
       "      <td>Abruzzo</td>\n",
       "      <td>Italia</td>\n",
       "      <td>1311580.0</td>\n",
       "      <td>449</td>\n",
       "      <td>34.23</td>\n",
       "      <td>48.0</td>\n",
       "      <td>3.66</td>\n",
       "      <td>17.0</td>\n",
       "      <td>1.30</td>\n",
       "      <td>10.0</td>\n",
       "      <td>0.76</td>\n",
       "    </tr>\n",
       "    <tr>\n",
       "      <td>515</td>\n",
       "      <td>2020-02-26</td>\n",
       "      <td>13.0</td>\n",
       "      <td>Abruzzo</td>\n",
       "      <td>Italia</td>\n",
       "      <td>1311580.0</td>\n",
       "      <td>0</td>\n",
       "      <td>0.00</td>\n",
       "      <td>0.0</td>\n",
       "      <td>0.00</td>\n",
       "      <td>0.0</td>\n",
       "      <td>0.00</td>\n",
       "      <td>0.0</td>\n",
       "      <td>0.00</td>\n",
       "    </tr>\n",
       "    <tr>\n",
       "      <td>516</td>\n",
       "      <td>2020-03-22</td>\n",
       "      <td>13.0</td>\n",
       "      <td>Abruzzo</td>\n",
       "      <td>Italia</td>\n",
       "      <td>1311580.0</td>\n",
       "      <td>587</td>\n",
       "      <td>44.76</td>\n",
       "      <td>49.0</td>\n",
       "      <td>3.74</td>\n",
       "      <td>33.0</td>\n",
       "      <td>2.52</td>\n",
       "      <td>15.0</td>\n",
       "      <td>1.14</td>\n",
       "    </tr>\n",
       "    <tr>\n",
       "      <td>517</td>\n",
       "      <td>2020-03-24</td>\n",
       "      <td>13.0</td>\n",
       "      <td>Abruzzo</td>\n",
       "      <td>Italia</td>\n",
       "      <td>1311580.0</td>\n",
       "      <td>689</td>\n",
       "      <td>52.53</td>\n",
       "      <td>57.0</td>\n",
       "      <td>4.35</td>\n",
       "      <td>46.0</td>\n",
       "      <td>3.51</td>\n",
       "      <td>21.0</td>\n",
       "      <td>1.60</td>\n",
       "    </tr>\n",
       "    <tr>\n",
       "      <td>...</td>\n",
       "      <td>...</td>\n",
       "      <td>...</td>\n",
       "      <td>...</td>\n",
       "      <td>...</td>\n",
       "      <td>...</td>\n",
       "      <td>...</td>\n",
       "      <td>...</td>\n",
       "      <td>...</td>\n",
       "      <td>...</td>\n",
       "      <td>...</td>\n",
       "      <td>...</td>\n",
       "      <td>...</td>\n",
       "      <td>...</td>\n",
       "    </tr>\n",
       "    <tr>\n",
       "      <td>1138</td>\n",
       "      <td>2020-02-24</td>\n",
       "      <td>5.0</td>\n",
       "      <td>Veneto</td>\n",
       "      <td>Italia</td>\n",
       "      <td>4905854.0</td>\n",
       "      <td>33</td>\n",
       "      <td>0.67</td>\n",
       "      <td>4.0</td>\n",
       "      <td>0.08</td>\n",
       "      <td>1.0</td>\n",
       "      <td>0.02</td>\n",
       "      <td>0.0</td>\n",
       "      <td>0.00</td>\n",
       "    </tr>\n",
       "    <tr>\n",
       "      <td>1139</td>\n",
       "      <td>2020-02-26</td>\n",
       "      <td>5.0</td>\n",
       "      <td>Veneto</td>\n",
       "      <td>Italia</td>\n",
       "      <td>4905854.0</td>\n",
       "      <td>71</td>\n",
       "      <td>1.45</td>\n",
       "      <td>8.0</td>\n",
       "      <td>0.16</td>\n",
       "      <td>2.0</td>\n",
       "      <td>0.04</td>\n",
       "      <td>0.0</td>\n",
       "      <td>0.00</td>\n",
       "    </tr>\n",
       "    <tr>\n",
       "      <td>1140</td>\n",
       "      <td>2020-03-22</td>\n",
       "      <td>5.0</td>\n",
       "      <td>Veneto</td>\n",
       "      <td>Italia</td>\n",
       "      <td>4905854.0</td>\n",
       "      <td>5122</td>\n",
       "      <td>104.41</td>\n",
       "      <td>255.0</td>\n",
       "      <td>5.20</td>\n",
       "      <td>169.0</td>\n",
       "      <td>3.44</td>\n",
       "      <td>309.0</td>\n",
       "      <td>6.30</td>\n",
       "    </tr>\n",
       "    <tr>\n",
       "      <td>1141</td>\n",
       "      <td>2020-02-28</td>\n",
       "      <td>5.0</td>\n",
       "      <td>Veneto</td>\n",
       "      <td>Italia</td>\n",
       "      <td>4905854.0</td>\n",
       "      <td>151</td>\n",
       "      <td>3.08</td>\n",
       "      <td>9.0</td>\n",
       "      <td>0.18</td>\n",
       "      <td>2.0</td>\n",
       "      <td>0.04</td>\n",
       "      <td>0.0</td>\n",
       "      <td>0.00</td>\n",
       "    </tr>\n",
       "    <tr>\n",
       "      <td>1142</td>\n",
       "      <td>2020-03-24</td>\n",
       "      <td>5.0</td>\n",
       "      <td>Veneto</td>\n",
       "      <td>Italia</td>\n",
       "      <td>4905854.0</td>\n",
       "      <td>5948</td>\n",
       "      <td>121.24</td>\n",
       "      <td>304.0</td>\n",
       "      <td>6.20</td>\n",
       "      <td>216.0</td>\n",
       "      <td>4.40</td>\n",
       "      <td>381.0</td>\n",
       "      <td>7.77</td>\n",
       "    </tr>\n",
       "  </tbody>\n",
       "</table>\n",
       "<p>630 rows × 13 columns</p>\n",
       "</div>"
      ],
      "text/plain": [
       "            date  region_code   region country  population  cases_registered  \\\n",
       "513   2020-02-24         13.0  Abruzzo  Italia   1311580.0                 0   \n",
       "514   2020-03-20         13.0  Abruzzo  Italia   1311580.0               449   \n",
       "515   2020-02-26         13.0  Abruzzo  Italia   1311580.0                 0   \n",
       "516   2020-03-22         13.0  Abruzzo  Italia   1311580.0               587   \n",
       "517   2020-03-24         13.0  Abruzzo  Italia   1311580.0               689   \n",
       "...          ...          ...      ...     ...         ...               ...   \n",
       "1138  2020-02-24          5.0   Veneto  Italia   4905854.0                33   \n",
       "1139  2020-02-26          5.0   Veneto  Italia   4905854.0                71   \n",
       "1140  2020-03-22          5.0   Veneto  Italia   4905854.0              5122   \n",
       "1141  2020-02-28          5.0   Veneto  Italia   4905854.0               151   \n",
       "1142  2020-03-24          5.0   Veneto  Italia   4905854.0              5948   \n",
       "\n",
       "      cases_per_100000  intensive_care  intensive_care_per_1000000  deceassed  \\\n",
       "513               0.00             0.0                        0.00        0.0   \n",
       "514              34.23            48.0                        3.66       17.0   \n",
       "515               0.00             0.0                        0.00        0.0   \n",
       "516              44.76            49.0                        3.74       33.0   \n",
       "517              52.53            57.0                        4.35       46.0   \n",
       "...                ...             ...                         ...        ...   \n",
       "1138              0.67             4.0                        0.08        1.0   \n",
       "1139              1.45             8.0                        0.16        2.0   \n",
       "1140            104.41           255.0                        5.20      169.0   \n",
       "1141              3.08             9.0                        0.18        2.0   \n",
       "1142            121.24           304.0                        6.20      216.0   \n",
       "\n",
       "      deceassed_per_100000  recovered  recovered_per_100000  \n",
       "513                   0.00        0.0                  0.00  \n",
       "514                   1.30       10.0                  0.76  \n",
       "515                   0.00        0.0                  0.00  \n",
       "516                   2.52       15.0                  1.14  \n",
       "517                   3.51       21.0                  1.60  \n",
       "...                    ...        ...                   ...  \n",
       "1138                  0.02        0.0                  0.00  \n",
       "1139                  0.04        0.0                  0.00  \n",
       "1140                  3.44      309.0                  6.30  \n",
       "1141                  0.04        0.0                  0.00  \n",
       "1142                  4.40      381.0                  7.77  \n",
       "\n",
       "[630 rows x 13 columns]"
      ]
     },
     "execution_count": 182,
     "metadata": {},
     "output_type": "execute_result"
    }
   ],
   "source": [
    "df_italia = df_sp_it_fr_conf[df_sp_it_fr_conf['country'] == \"Italia\"]\n",
    "df_spain = df_sp_it_fr_conf[df_sp_it_fr_conf['country'] == \"Spain\"]\n",
    "df_italia"
   ]
  },
  {
   "cell_type": "code",
   "execution_count": 183,
   "metadata": {
    "ExecuteTime": {
     "end_time": "2020-03-28T11:53:52.861010Z",
     "start_time": "2020-03-28T11:53:52.243114Z"
    }
   },
   "outputs": [
    {
     "data": {
      "image/png": "[encoded data removed]",
      "text/plain": [
       "<Figure size 432x288 with 2 Axes>"
      ]
     },
     "metadata": {
      "needs_background": "light"
     },
     "output_type": "display_data"
    }
   ],
   "source": [
    "_ = sns.heatmap(pd.pivot_table(df_italia, index = 'region', aggfunc = \"sum\")[['cases_per_100000',\n",
    "       'intensive_care_per_1000000', 'deceassed_per_100000','recovered_per_100000']], cmap= \"seismic\")"
   ]
  },
  {
   "cell_type": "code",
   "execution_count": 184,
   "metadata": {
    "ExecuteTime": {
     "end_time": "2020-03-28T11:54:06.560794Z",
     "start_time": "2020-03-28T11:54:05.999985Z"
    }
   },
   "outputs": [
    {
     "data": {
      "image/png": "[encoded data removed]",
      "text/plain": [
       "<Figure size 432x288 with 2 Axes>"
      ]
     },
     "metadata": {
      "needs_background": "light"
     },
     "output_type": "display_data"
    }
   ],
   "source": [
    "_ = sns.heatmap(pd.pivot_table(df_spain, index = 'region', aggfunc = \"sum\")[['cases_per_100000',\n",
    "       'intensive_care_per_1000000', 'deceassed_per_100000','recovered_per_100000']], cmap= \"seismic\")"
   ]
  },
  {
   "cell_type": "code",
   "execution_count": 128,
   "metadata": {
    "ExecuteTime": {
     "end_time": "2020-03-28T10:42:26.400963Z",
     "start_time": "2020-03-28T10:42:26.324499Z"
    }
   },
   "outputs": [
    {
     "data": {
      "text/plain": [
       "{'population': 'Se rechaza la hipótesis nula (H0). Nuestro p-valor 0.0071696736956657625 es menor a nuestra α 0.05',\n",
       " 'cases_registered': 'Se rechaza la hipótesis nula (H0). Nuestro p-valor 0.0010190190854473874 es menor a nuestra α 0.05',\n",
       " 'cases_per_100000': 'Se rechaza la hipótesis nula (H0). Nuestro p-valor 0.0021124817444507006 es menor a nuestra α 0.05',\n",
       " 'intensive_care': 'No se rechaza la hipótesis nula (H0). Nuestro p-valor nan es mayor a nuestra α 0.05',\n",
       " 'intensive_care_per_1000000': 'No se rechaza la hipótesis nula (H0). Nuestro p-valor nan es mayor a nuestra α 0.05',\n",
       " 'deceassed': 'No se rechaza la hipótesis nula (H0). Nuestro p-valor nan es mayor a nuestra α 0.05',\n",
       " 'deceassed_per_100000': 'No se rechaza la hipótesis nula (H0). Nuestro p-valor nan es mayor a nuestra α 0.05',\n",
       " 'recovered': 'No se rechaza la hipótesis nula (H0). Nuestro p-valor nan es mayor a nuestra α 0.05',\n",
       " 'recovered_per_100000': 'No se rechaza la hipótesis nula (H0). Nuestro p-valor nan es mayor a nuestra α 0.05'}"
      ]
     },
     "execution_count": 128,
     "metadata": {},
     "output_type": "execute_result"
    }
   ],
   "source": [
    "features = ['population','cases_registered', 'cases_per_100000', 'intensive_care',\n",
    "       'intensive_care_per_1000000', 'deceassed', 'deceassed_per_100000',\n",
    "       'recovered', 'recovered_per_100000']\n",
    "t_test_features(df_italia,df_spain, 0.95, features)"
   ]
  },
  {
   "cell_type": "code",
   "execution_count": 129,
   "metadata": {
    "ExecuteTime": {
     "end_time": "2020-03-28T10:42:39.514092Z",
     "start_time": "2020-03-28T10:42:39.436999Z"
    }
   },
   "outputs": [
    {
     "data": {
      "text/plain": [
       "{'population': 'Se rechaza la hipótesis nula (H0). Nuestro p-valor 0.011833875648218998 es menor a nuestra α 0.05',\n",
       " 'cases_registered': 'Se rechaza la hipótesis nula (H0). Nuestro p-valor 0.00011137933338245613 es menor a nuestra α 0.05',\n",
       " 'cases_per_100000': 'Se rechaza la hipótesis nula (H0). Nuestro p-valor 0.001964282750411965 es menor a nuestra α 0.05',\n",
       " 'intensive_care': 'Se rechaza la hipótesis nula (H0). Nuestro p-valor 1.0900800148354772e-25 es menor a nuestra α 0.05',\n",
       " 'intensive_care_per_1000000': 'Se rechaza la hipótesis nula (H0). Nuestro p-valor 1.207705569214431e-27 es menor a nuestra α 0.05',\n",
       " 'deceassed': 'Se rechaza la hipótesis nula (H0). Nuestro p-valor 2.7938397740533565e-05 es menor a nuestra α 0.05',\n",
       " 'deceassed_per_100000': 'Se rechaza la hipótesis nula (H0). Nuestro p-valor 1.1764045192421385e-05 es menor a nuestra α 0.05',\n",
       " 'recovered': 'Se rechaza la hipótesis nula (H0). Nuestro p-valor 6.413817709213436e-115 es menor a nuestra α 0.05',\n",
       " 'recovered_per_100000': 'Se rechaza la hipótesis nula (H0). Nuestro p-valor 3.0236198019480084e-144 es menor a nuestra α 0.05'}"
      ]
     },
     "execution_count": 129,
     "metadata": {},
     "output_type": "execute_result"
    }
   ],
   "source": [
    "umann_whitney_features(df_italia,df_spain, 0.95, features)"
   ]
  },
  {
   "cell_type": "code",
   "execution_count": null,
   "metadata": {},
   "outputs": [],
   "source": []
  }
 ],
 "metadata": {
  "kernelspec": {
   "display_name": "Python 3",
   "language": "python",
   "name": "python3"
  },
  "language_info": {
   "codemirror_mode": {
    "name": "ipython",
    "version": 3
   },
   "file_extension": ".py",
   "mimetype": "text/x-python",
   "name": "python",
   "nbconvert_exporter": "python",
   "pygments_lexer": "ipython3",
   "version": "3.7.4"
  },
  "latex_envs": {
   "LaTeX_envs_menu_present": true,
   "autoclose": false,
   "autocomplete": true,
   "bibliofile": "biblio.bib",
   "cite_by": "apalike",
   "current_citInitial": 1,
   "eqLabelWithNumbers": true,
   "eqNumInitial": 1,
   "hotkeys": {
    "equation": "Ctrl-E",
    "itemize": "Ctrl-I"
   },
   "labels_anchors": false,
   "latex_user_defs": false,
   "report_style_numbering": false,
   "user_envs_cfg": false
  },
  "toc": {
   "base_numbering": 1,
   "nav_menu": {},
   "number_sections": false,
   "sideBar": true,
   "skip_h1_title": false,
   "title_cell": "Table of Contents",
   "title_sidebar": "Contents",
   "toc_cell": false,
   "toc_position": {},
   "toc_section_display": true,
   "toc_window_display": false
  },
  "varInspector": {
   "cols": {
    "lenName": 16,
    "lenType": 16,
    "lenVar": 40
   },
   "kernels_config": {
    "python": {
     "delete_cmd_postfix": "",
     "delete_cmd_prefix": "del ",
     "library": "var_list.py",
     "varRefreshCmd": "print(var_dic_list())"
    },
    "r": {
     "delete_cmd_postfix": ") ",
     "delete_cmd_prefix": "rm(",
     "library": "var_list.r",
     "varRefreshCmd": "cat(var_dic_list()) "
    }
   },
   "types_to_exclude": [
    "module",
    "function",
    "builtin_function_or_method",
    "instance",
    "_Feature"
   ],
   "window_display": false
  }
 },
 "nbformat": 4,
 "nbformat_minor": 4
}
