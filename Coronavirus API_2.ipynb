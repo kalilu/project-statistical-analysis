{
 "cells": [
  {
   "cell_type": "markdown",
   "metadata": {},
   "source": [
    "# Project Statistical Analysis"
   ]
  },
  {
   "cell_type": "markdown",
   "metadata": {},
   "source": [
    "Karla y Mar\n",
    "\n",
    "*Data Part Time Barcelona Dic 2019*\n",
    "\n",
    "<img src=\"./img/5530085.jpeg\" width=\"1000\"> "
   ]
  },
  {
   "cell_type": "markdown",
   "metadata": {},
   "source": [
    "##  Importamos librería"
   ]
  },
  {
   "cell_type": "code",
   "execution_count": 156,
   "metadata": {
    "ExecuteTime": {
     "end_time": "2020-03-27T10:18:22.469638Z",
     "start_time": "2020-03-27T10:18:22.452409Z"
    }
   },
   "outputs": [
    {
     "data": {
      "text/html": [
       "        <script type=\"text/javascript\">\n",
       "        window.PlotlyConfig = {MathJaxConfig: 'local'};\n",
       "        if (window.MathJax) {MathJax.Hub.Config({SVG: {font: \"STIX-Web\"}});}\n",
       "        if (typeof require !== 'undefined') {\n",
       "        require.undef(\"plotly\");\n",
       "        requirejs.config({\n",
       "            paths: {\n",
       "                'plotly': ['https://cdn.plot.ly/plotly-latest.min']\n",
       "            }\n",
       "        });\n",
       "        require(['plotly'], function(Plotly) {\n",
       "            window._Plotly = Plotly;\n",
       "        });\n",
       "        }\n",
       "        </script>\n",
       "        "
      ]
     },
     "metadata": {},
     "output_type": "display_data"
    }
   ],
   "source": [
    "import pandas as pd\n",
    "import chart_studio.plotly as py\n",
    "from plotly.subplots import make_subplots\n",
    "import plotly.graph_objects as go\n",
    "import cufflinks as cf\n",
    "from datetime import datetime\n",
    "from ipywidgets import interact\n",
    "import ipywidgets as wdg\n",
    "import numpy as np\n",
    "import scipy.stats as sp\n",
    "import plotly.express as px\n",
    "import matplotlib.pyplot as plt\n",
    "import warnings\n",
    "import cartopy\n",
    "warnings.filterwarnings('ignore')\n",
    "import plotly.offline as off\n",
    "import json\n",
    "import requests\n",
    "from pandas.io.json import json_normalize\n",
    "import re\n",
    "from sklearn.model_selection import train_test_split\n",
    "from sklearn.linear_model import LinearRegression\n",
    "from sklearn.preprocessing import LabelEncoder, OneHotEncoder\n",
    "cf.go_offline()"
   ]
  },
  {
   "cell_type": "markdown",
   "metadata": {
    "heading_collapsed": true
   },
   "source": [
    "## Importamos datos"
   ]
  },
  {
   "cell_type": "markdown",
   "metadata": {
    "hidden": true
   },
   "source": [
    "###  API datos coronavirus a nivel mundial"
   ]
  },
  {
   "cell_type": "code",
   "execution_count": 103,
   "metadata": {
    "ExecuteTime": {
     "end_time": "2020-03-27T09:58:21.726493Z",
     "start_time": "2020-03-27T09:58:14.707653Z"
    },
    "hidden": true
   },
   "outputs": [
    {
     "data": {
      "text/html": [
       "<div>\n",
       "<style scoped>\n",
       "    .dataframe tbody tr th:only-of-type {\n",
       "        vertical-align: middle;\n",
       "    }\n",
       "\n",
       "    .dataframe tbody tr th {\n",
       "        vertical-align: top;\n",
       "    }\n",
       "\n",
       "    .dataframe thead th {\n",
       "        text-align: right;\n",
       "    }\n",
       "</style>\n",
       "<table border=\"1\" class=\"dataframe\">\n",
       "  <thead>\n",
       "    <tr style=\"text-align: right;\">\n",
       "      <th></th>\n",
       "      <th>Country</th>\n",
       "      <th>Province</th>\n",
       "      <th>Lat</th>\n",
       "      <th>Lon</th>\n",
       "      <th>Date</th>\n",
       "      <th>Cases</th>\n",
       "      <th>Status</th>\n",
       "    </tr>\n",
       "  </thead>\n",
       "  <tbody>\n",
       "    <tr>\n",
       "      <td>0</td>\n",
       "      <td></td>\n",
       "      <td></td>\n",
       "      <td>0.0</td>\n",
       "      <td>0.0</td>\n",
       "      <td>0001-01-01T00:00:00Z</td>\n",
       "      <td>0</td>\n",
       "      <td></td>\n",
       "    </tr>\n",
       "    <tr>\n",
       "      <td>1</td>\n",
       "      <td>Azerbaijan</td>\n",
       "      <td></td>\n",
       "      <td>0.0</td>\n",
       "      <td>0.0</td>\n",
       "      <td>2020-02-28T00:00:00Z</td>\n",
       "      <td>1</td>\n",
       "      <td>confirmed</td>\n",
       "    </tr>\n",
       "    <tr>\n",
       "      <td>2</td>\n",
       "      <td>Azerbaijan</td>\n",
       "      <td></td>\n",
       "      <td>0.0</td>\n",
       "      <td>0.0</td>\n",
       "      <td>2020-02-28T00:00:00Z</td>\n",
       "      <td>0</td>\n",
       "      <td>recovered</td>\n",
       "    </tr>\n",
       "    <tr>\n",
       "      <td>3</td>\n",
       "      <td>Azerbaijan</td>\n",
       "      <td></td>\n",
       "      <td>0.0</td>\n",
       "      <td>0.0</td>\n",
       "      <td>2020-02-28T00:00:00Z</td>\n",
       "      <td>0</td>\n",
       "      <td>deaths</td>\n",
       "    </tr>\n",
       "    <tr>\n",
       "      <td>4</td>\n",
       "      <td>Afghanistan</td>\n",
       "      <td></td>\n",
       "      <td>33.0</td>\n",
       "      <td>65.0</td>\n",
       "      <td>2020-02-24T00:00:00Z</td>\n",
       "      <td>1</td>\n",
       "      <td>confirmed</td>\n",
       "    </tr>\n",
       "  </tbody>\n",
       "</table>\n",
       "</div>"
      ],
      "text/plain": [
       "       Country Province   Lat   Lon                  Date  Cases     Status\n",
       "0                         0.0   0.0  0001-01-01T00:00:00Z      0           \n",
       "1   Azerbaijan            0.0   0.0  2020-02-28T00:00:00Z      1  confirmed\n",
       "2   Azerbaijan            0.0   0.0  2020-02-28T00:00:00Z      0  recovered\n",
       "3   Azerbaijan            0.0   0.0  2020-02-28T00:00:00Z      0     deaths\n",
       "4  Afghanistan           33.0  65.0  2020-02-24T00:00:00Z      1  confirmed"
      ]
     },
     "execution_count": 103,
     "metadata": {},
     "output_type": "execute_result"
    }
   ],
   "source": [
    "url='https://api.covid19api.com/all'\n",
    "response = requests.get(url, headers={\"user-agent\":\"Mozilla/5.0 (Windows NT 10.0; Win64; x64) AppleWebKit/537.36 (KHTML, like Gecko) Chrome/79.0.3945.130 Safari/537.36\"})\n",
    "result=response.json()\n",
    "df_coronavirus_raw = pd.DataFrame()\n",
    "df_coronavirus_raw = json_normalize(result)\n",
    "df_coronavirus_raw.head()"
   ]
  },
  {
   "cell_type": "markdown",
   "metadata": {
    "heading_collapsed": true,
    "hidden": true
   },
   "source": [
    "###  Continents by country"
   ]
  },
  {
   "cell_type": "code",
   "execution_count": 104,
   "metadata": {
    "ExecuteTime": {
     "end_time": "2020-03-27T09:58:28.626107Z",
     "start_time": "2020-03-27T09:58:28.597465Z"
    },
    "hidden": true
   },
   "outputs": [
    {
     "data": {
      "text/html": [
       "<div>\n",
       "<style scoped>\n",
       "    .dataframe tbody tr th:only-of-type {\n",
       "        vertical-align: middle;\n",
       "    }\n",
       "\n",
       "    .dataframe tbody tr th {\n",
       "        vertical-align: top;\n",
       "    }\n",
       "\n",
       "    .dataframe thead th {\n",
       "        text-align: right;\n",
       "    }\n",
       "</style>\n",
       "<table border=\"1\" class=\"dataframe\">\n",
       "  <thead>\n",
       "    <tr style=\"text-align: right;\">\n",
       "      <th></th>\n",
       "      <th>CountryName</th>\n",
       "      <th>CapitalName</th>\n",
       "      <th>CapitalLatitude</th>\n",
       "      <th>CapitalLongitude</th>\n",
       "      <th>CountryCode</th>\n",
       "      <th>ContinentName</th>\n",
       "    </tr>\n",
       "  </thead>\n",
       "  <tbody>\n",
       "    <tr>\n",
       "      <td>0</td>\n",
       "      <td>Somaliland</td>\n",
       "      <td>Hargeisa</td>\n",
       "      <td>9.550000</td>\n",
       "      <td>44.050000</td>\n",
       "      <td>NaN</td>\n",
       "      <td>Africa</td>\n",
       "    </tr>\n",
       "    <tr>\n",
       "      <td>1</td>\n",
       "      <td>South Georgia and South Sandwich Islands</td>\n",
       "      <td>King Edward Point</td>\n",
       "      <td>-54.283333</td>\n",
       "      <td>-36.500000</td>\n",
       "      <td>GS</td>\n",
       "      <td>Antarctica</td>\n",
       "    </tr>\n",
       "    <tr>\n",
       "      <td>2</td>\n",
       "      <td>French Southern and Antarctic Lands</td>\n",
       "      <td>Port-aux-Français</td>\n",
       "      <td>-49.350000</td>\n",
       "      <td>70.216667</td>\n",
       "      <td>TF</td>\n",
       "      <td>Antarctica</td>\n",
       "    </tr>\n",
       "    <tr>\n",
       "      <td>3</td>\n",
       "      <td>Palestine</td>\n",
       "      <td>Jerusalem</td>\n",
       "      <td>31.766667</td>\n",
       "      <td>35.233333</td>\n",
       "      <td>PS</td>\n",
       "      <td>Asia</td>\n",
       "    </tr>\n",
       "    <tr>\n",
       "      <td>4</td>\n",
       "      <td>Aland Islands</td>\n",
       "      <td>Mariehamn</td>\n",
       "      <td>60.116667</td>\n",
       "      <td>19.900000</td>\n",
       "      <td>AX</td>\n",
       "      <td>Europe</td>\n",
       "    </tr>\n",
       "  </tbody>\n",
       "</table>\n",
       "</div>"
      ],
      "text/plain": [
       "                                CountryName        CapitalName  \\\n",
       "0                                Somaliland           Hargeisa   \n",
       "1  South Georgia and South Sandwich Islands  King Edward Point   \n",
       "2       French Southern and Antarctic Lands  Port-aux-Français   \n",
       "3                                 Palestine          Jerusalem   \n",
       "4                             Aland Islands          Mariehamn   \n",
       "\n",
       "   CapitalLatitude  CapitalLongitude CountryCode ContinentName  \n",
       "0         9.550000         44.050000         NaN        Africa  \n",
       "1       -54.283333        -36.500000          GS    Antarctica  \n",
       "2       -49.350000         70.216667          TF    Antarctica  \n",
       "3        31.766667         35.233333          PS          Asia  \n",
       "4        60.116667         19.900000          AX        Europe  "
      ]
     },
     "execution_count": 104,
     "metadata": {},
     "output_type": "execute_result"
    }
   ],
   "source": [
    "df_continents = pd.read_csv('./data/concap.csv')\n",
    "df_continents.head()"
   ]
  },
  {
   "cell_type": "markdown",
   "metadata": {
    "heading_collapsed": true,
    "hidden": true
   },
   "source": [
    "### Join corinavirus info and continent info"
   ]
  },
  {
   "cell_type": "code",
   "execution_count": 105,
   "metadata": {
    "ExecuteTime": {
     "end_time": "2020-03-27T09:58:35.572002Z",
     "start_time": "2020-03-27T09:58:35.520428Z"
    },
    "hidden": true
   },
   "outputs": [],
   "source": [
    "df_coronavirus_raw = df_coronavirus_raw.merge(df_continents, left_on='Country', right_on='CountryName')"
   ]
  },
  {
   "cell_type": "markdown",
   "metadata": {
    "heading_collapsed": true,
    "hidden": true
   },
   "source": [
    "###  Regional information"
   ]
  },
  {
   "cell_type": "code",
   "execution_count": 106,
   "metadata": {
    "ExecuteTime": {
     "end_time": "2020-03-27T09:58:47.402949Z",
     "start_time": "2020-03-27T09:58:42.713715Z"
    },
    "hidden": true
   },
   "outputs": [],
   "source": [
    "url='https://api.covid19tracking.narrativa.com/api?date_from=2020-03-10&date_to=2020-03-17'\n",
    "response = requests.get(url, headers={\"user-agent\":\"Mozilla/5.0 (Windows NT 10.0; Win64; x64) AppleWebKit/537.36 (KHTML, like Gecko) Chrome/79.0.3945.130 Safari/537.36\"})\n",
    "result=response.json()"
   ]
  },
  {
   "cell_type": "code",
   "execution_count": 107,
   "metadata": {
    "ExecuteTime": {
     "end_time": "2020-03-27T09:58:53.949609Z",
     "start_time": "2020-03-27T09:58:53.938214Z"
    },
    "hidden": true
   },
   "outputs": [
    {
     "data": {
      "text/plain": [
       "dict_keys(['dates', 'metadata', 'total', 'updated_at'])"
      ]
     },
     "execution_count": 107,
     "metadata": {},
     "output_type": "execute_result"
    }
   ],
   "source": [
    "result.keys()"
   ]
  },
  {
   "cell_type": "code",
   "execution_count": 108,
   "metadata": {
    "ExecuteTime": {
     "end_time": "2020-03-27T09:59:09.966681Z",
     "start_time": "2020-03-27T09:59:00.611735Z"
    },
    "hidden": true
   },
   "outputs": [
    {
     "data": {
      "text/html": [
       "<div>\n",
       "<style scoped>\n",
       "    .dataframe tbody tr th:only-of-type {\n",
       "        vertical-align: middle;\n",
       "    }\n",
       "\n",
       "    .dataframe tbody tr th {\n",
       "        vertical-align: top;\n",
       "    }\n",
       "\n",
       "    .dataframe thead th {\n",
       "        text-align: right;\n",
       "    }\n",
       "</style>\n",
       "<table border=\"1\" class=\"dataframe\">\n",
       "  <thead>\n",
       "    <tr style=\"text-align: right;\">\n",
       "      <th></th>\n",
       "      <th>updated_at</th>\n",
       "      <th>dates.2020-03-10.countries.Afghanistan.name</th>\n",
       "      <th>dates.2020-03-10.countries.Afghanistan.name_es</th>\n",
       "      <th>dates.2020-03-10.countries.Afghanistan.regions</th>\n",
       "      <th>dates.2020-03-10.countries.Afghanistan.today_confirmed</th>\n",
       "      <th>dates.2020-03-10.countries.Afghanistan.today_deaths</th>\n",
       "      <th>dates.2020-03-10.countries.Afghanistan.today_home_confinement</th>\n",
       "      <th>dates.2020-03-10.countries.Afghanistan.today_hospitalised_patients_with_symptoms</th>\n",
       "      <th>dates.2020-03-10.countries.Afghanistan.today_intensive_care</th>\n",
       "      <th>dates.2020-03-10.countries.Afghanistan.today_new_confirmed</th>\n",
       "      <th>...</th>\n",
       "      <th>total.today_open_cases</th>\n",
       "      <th>total.today_recovered</th>\n",
       "      <th>total.today_vs_yesterday_confirmed</th>\n",
       "      <th>total.today_vs_yesterday_deaths</th>\n",
       "      <th>total.today_vs_yesterday_open_cases</th>\n",
       "      <th>total.today_vs_yesterday_recovered</th>\n",
       "      <th>total.yesterday_confirmed</th>\n",
       "      <th>total.yesterday_deaths</th>\n",
       "      <th>total.yesterday_open_cases</th>\n",
       "      <th>total.yesterday_recovered</th>\n",
       "    </tr>\n",
       "  </thead>\n",
       "  <tbody>\n",
       "    <tr>\n",
       "      <td>0</td>\n",
       "      <td>2020-03-26 16:00UTC</td>\n",
       "      <td>Afghanistan</td>\n",
       "      <td>Afganistán</td>\n",
       "      <td>[]</td>\n",
       "      <td>5</td>\n",
       "      <td>0</td>\n",
       "      <td>0</td>\n",
       "      <td>0</td>\n",
       "      <td>0</td>\n",
       "      <td>1</td>\n",
       "      <td>...</td>\n",
       "      <td>107656</td>\n",
       "      <td>80554</td>\n",
       "      <td>0.097321</td>\n",
       "      <td>0.119972</td>\n",
       "      <td>0.146277</td>\n",
       "      <td>0.036118</td>\n",
       "      <td>178749</td>\n",
       "      <td>7085</td>\n",
       "      <td>93918</td>\n",
       "      <td>77746</td>\n",
       "    </tr>\n",
       "  </tbody>\n",
       "</table>\n",
       "<p>1 rows × 50116 columns</p>\n",
       "</div>"
      ],
      "text/plain": [
       "            updated_at dates.2020-03-10.countries.Afghanistan.name  \\\n",
       "0  2020-03-26 16:00UTC                                 Afghanistan   \n",
       "\n",
       "  dates.2020-03-10.countries.Afghanistan.name_es  \\\n",
       "0                                     Afganistán   \n",
       "\n",
       "  dates.2020-03-10.countries.Afghanistan.regions  \\\n",
       "0                                             []   \n",
       "\n",
       "   dates.2020-03-10.countries.Afghanistan.today_confirmed  \\\n",
       "0                                                  5        \n",
       "\n",
       "   dates.2020-03-10.countries.Afghanistan.today_deaths  \\\n",
       "0                                                  0     \n",
       "\n",
       "   dates.2020-03-10.countries.Afghanistan.today_home_confinement  \\\n",
       "0                                                  0               \n",
       "\n",
       "   dates.2020-03-10.countries.Afghanistan.today_hospitalised_patients_with_symptoms  \\\n",
       "0                                                  0                                  \n",
       "\n",
       "   dates.2020-03-10.countries.Afghanistan.today_intensive_care  \\\n",
       "0                                                  0             \n",
       "\n",
       "   dates.2020-03-10.countries.Afghanistan.today_new_confirmed  ...  \\\n",
       "0                                                  1           ...   \n",
       "\n",
       "   total.today_open_cases  total.today_recovered  \\\n",
       "0                  107656                  80554   \n",
       "\n",
       "   total.today_vs_yesterday_confirmed  total.today_vs_yesterday_deaths  \\\n",
       "0                            0.097321                         0.119972   \n",
       "\n",
       "   total.today_vs_yesterday_open_cases  total.today_vs_yesterday_recovered  \\\n",
       "0                             0.146277                            0.036118   \n",
       "\n",
       "   total.yesterday_confirmed  total.yesterday_deaths  \\\n",
       "0                     178749                    7085   \n",
       "\n",
       "   total.yesterday_open_cases  total.yesterday_recovered  \n",
       "0                       93918                      77746  \n",
       "\n",
       "[1 rows x 50116 columns]"
      ]
     },
     "execution_count": 108,
     "metadata": {},
     "output_type": "execute_result"
    }
   ],
   "source": [
    "df_regions_raw = pd.DataFrame()\n",
    "df_regions_raw = json_normalize(result)\n",
    "df_regions_raw.head()"
   ]
  },
  {
   "cell_type": "code",
   "execution_count": 109,
   "metadata": {
    "ExecuteTime": {
     "end_time": "2020-03-27T09:59:22.360364Z",
     "start_time": "2020-03-27T09:59:22.325201Z"
    },
    "hidden": true
   },
   "outputs": [
    {
     "data": {
      "text/html": [
       "<div>\n",
       "<style scoped>\n",
       "    .dataframe tbody tr th:only-of-type {\n",
       "        vertical-align: middle;\n",
       "    }\n",
       "\n",
       "    .dataframe tbody tr th {\n",
       "        vertical-align: top;\n",
       "    }\n",
       "\n",
       "    .dataframe thead th {\n",
       "        text-align: right;\n",
       "    }\n",
       "</style>\n",
       "<table border=\"1\" class=\"dataframe\">\n",
       "  <thead>\n",
       "    <tr style=\"text-align: right;\">\n",
       "      <th></th>\n",
       "      <th>date</th>\n",
       "      <th>region_code</th>\n",
       "      <th>region</th>\n",
       "      <th>country</th>\n",
       "      <th>population</th>\n",
       "      <th>cases_registered</th>\n",
       "      <th>cases_per_100000</th>\n",
       "      <th>intensive_care</th>\n",
       "      <th>intensive_care_per_1000000</th>\n",
       "      <th>deceassed</th>\n",
       "      <th>deceassed_per_100000</th>\n",
       "      <th>recovered</th>\n",
       "      <th>recovered_per_100000</th>\n",
       "    </tr>\n",
       "  </thead>\n",
       "  <tbody>\n",
       "    <tr>\n",
       "      <td>0</td>\n",
       "      <td>2020-02-27</td>\n",
       "      <td>1</td>\n",
       "      <td>Andalucía</td>\n",
       "      <td>Spain</td>\n",
       "      <td>8414240</td>\n",
       "      <td>1</td>\n",
       "      <td>0.01</td>\n",
       "      <td>NaN</td>\n",
       "      <td>NaN</td>\n",
       "      <td>NaN</td>\n",
       "      <td>NaN</td>\n",
       "      <td>NaN</td>\n",
       "      <td>NaN</td>\n",
       "    </tr>\n",
       "    <tr>\n",
       "      <td>1</td>\n",
       "      <td>2020-02-28</td>\n",
       "      <td>1</td>\n",
       "      <td>Andalucía</td>\n",
       "      <td>Spain</td>\n",
       "      <td>8414240</td>\n",
       "      <td>6</td>\n",
       "      <td>0.07</td>\n",
       "      <td>NaN</td>\n",
       "      <td>NaN</td>\n",
       "      <td>NaN</td>\n",
       "      <td>NaN</td>\n",
       "      <td>NaN</td>\n",
       "      <td>NaN</td>\n",
       "    </tr>\n",
       "    <tr>\n",
       "      <td>2</td>\n",
       "      <td>2020-02-29</td>\n",
       "      <td>1</td>\n",
       "      <td>Andalucía</td>\n",
       "      <td>Spain</td>\n",
       "      <td>8414240</td>\n",
       "      <td>8</td>\n",
       "      <td>0.10</td>\n",
       "      <td>NaN</td>\n",
       "      <td>NaN</td>\n",
       "      <td>NaN</td>\n",
       "      <td>NaN</td>\n",
       "      <td>NaN</td>\n",
       "      <td>NaN</td>\n",
       "    </tr>\n",
       "    <tr>\n",
       "      <td>3</td>\n",
       "      <td>2020-03-01</td>\n",
       "      <td>1</td>\n",
       "      <td>Andalucía</td>\n",
       "      <td>Spain</td>\n",
       "      <td>8414240</td>\n",
       "      <td>12</td>\n",
       "      <td>0.14</td>\n",
       "      <td>NaN</td>\n",
       "      <td>NaN</td>\n",
       "      <td>NaN</td>\n",
       "      <td>NaN</td>\n",
       "      <td>NaN</td>\n",
       "      <td>NaN</td>\n",
       "    </tr>\n",
       "    <tr>\n",
       "      <td>4</td>\n",
       "      <td>2020-03-02</td>\n",
       "      <td>1</td>\n",
       "      <td>Andalucía</td>\n",
       "      <td>Spain</td>\n",
       "      <td>8414240</td>\n",
       "      <td>12</td>\n",
       "      <td>0.14</td>\n",
       "      <td>NaN</td>\n",
       "      <td>NaN</td>\n",
       "      <td>NaN</td>\n",
       "      <td>NaN</td>\n",
       "      <td>NaN</td>\n",
       "      <td>NaN</td>\n",
       "    </tr>\n",
       "  </tbody>\n",
       "</table>\n",
       "</div>"
      ],
      "text/plain": [
       "         date  region_code     region country  population  cases_registered  \\\n",
       "0  2020-02-27            1  Andalucía   Spain     8414240                 1   \n",
       "1  2020-02-28            1  Andalucía   Spain     8414240                 6   \n",
       "2  2020-02-29            1  Andalucía   Spain     8414240                 8   \n",
       "3  2020-03-01            1  Andalucía   Spain     8414240                12   \n",
       "4  2020-03-02            1  Andalucía   Spain     8414240                12   \n",
       "\n",
       "   cases_per_100000  intensive_care  intensive_care_per_1000000  deceassed  \\\n",
       "0              0.01             NaN                         NaN        NaN   \n",
       "1              0.07             NaN                         NaN        NaN   \n",
       "2              0.10             NaN                         NaN        NaN   \n",
       "3              0.14             NaN                         NaN        NaN   \n",
       "4              0.14             NaN                         NaN        NaN   \n",
       "\n",
       "   deceassed_per_100000  recovered  recovered_per_100000  \n",
       "0                   NaN        NaN                   NaN  \n",
       "1                   NaN        NaN                   NaN  \n",
       "2                   NaN        NaN                   NaN  \n",
       "3                   NaN        NaN                   NaN  \n",
       "4                   NaN        NaN                   NaN  "
      ]
     },
     "execution_count": 109,
     "metadata": {},
     "output_type": "execute_result"
    }
   ],
   "source": [
    "#Datos de España\n",
    "path = './data/data_output_covid19-cases-uci-deaths-by-ccaa-spain-by-day-accumulated.csv'\n",
    "df_spain_deceased = pd.read_csv(path, sep=',')\n",
    "df_spain_deceased.head()"
   ]
  },
  {
   "cell_type": "code",
   "execution_count": 110,
   "metadata": {
    "ExecuteTime": {
     "end_time": "2020-03-27T09:59:31.653317Z",
     "start_time": "2020-03-27T09:59:31.613976Z"
    },
    "hidden": true
   },
   "outputs": [
    {
     "data": {
      "text/html": [
       "<div>\n",
       "<style scoped>\n",
       "    .dataframe tbody tr th:only-of-type {\n",
       "        vertical-align: middle;\n",
       "    }\n",
       "\n",
       "    .dataframe tbody tr th {\n",
       "        vertical-align: top;\n",
       "    }\n",
       "\n",
       "    .dataframe thead th {\n",
       "        text-align: right;\n",
       "    }\n",
       "</style>\n",
       "<table border=\"1\" class=\"dataframe\">\n",
       "  <thead>\n",
       "    <tr style=\"text-align: right;\">\n",
       "      <th></th>\n",
       "      <th>date</th>\n",
       "      <th>region_code</th>\n",
       "      <th>region</th>\n",
       "      <th>country</th>\n",
       "      <th>population</th>\n",
       "      <th>cases_registered</th>\n",
       "      <th>cases_per_100000</th>\n",
       "      <th>intensive_care</th>\n",
       "      <th>intensive_care_per_1000000</th>\n",
       "      <th>deceassed</th>\n",
       "      <th>deceassed_per_100000</th>\n",
       "      <th>recovered</th>\n",
       "      <th>recovered_per_100000</th>\n",
       "    </tr>\n",
       "  </thead>\n",
       "  <tbody>\n",
       "    <tr>\n",
       "      <td>0</td>\n",
       "      <td>2020-02-27</td>\n",
       "      <td>1.0</td>\n",
       "      <td>Andalucía</td>\n",
       "      <td>Spain</td>\n",
       "      <td>8414240.0</td>\n",
       "      <td>1</td>\n",
       "      <td>0.01</td>\n",
       "      <td>NaN</td>\n",
       "      <td>NaN</td>\n",
       "      <td>NaN</td>\n",
       "      <td>NaN</td>\n",
       "      <td>NaN</td>\n",
       "      <td>NaN</td>\n",
       "    </tr>\n",
       "    <tr>\n",
       "      <td>1</td>\n",
       "      <td>2020-02-28</td>\n",
       "      <td>1.0</td>\n",
       "      <td>Andalucía</td>\n",
       "      <td>Spain</td>\n",
       "      <td>8414240.0</td>\n",
       "      <td>6</td>\n",
       "      <td>0.07</td>\n",
       "      <td>NaN</td>\n",
       "      <td>NaN</td>\n",
       "      <td>NaN</td>\n",
       "      <td>NaN</td>\n",
       "      <td>NaN</td>\n",
       "      <td>NaN</td>\n",
       "    </tr>\n",
       "    <tr>\n",
       "      <td>2</td>\n",
       "      <td>2020-02-29</td>\n",
       "      <td>1.0</td>\n",
       "      <td>Andalucía</td>\n",
       "      <td>Spain</td>\n",
       "      <td>8414240.0</td>\n",
       "      <td>8</td>\n",
       "      <td>0.10</td>\n",
       "      <td>NaN</td>\n",
       "      <td>NaN</td>\n",
       "      <td>NaN</td>\n",
       "      <td>NaN</td>\n",
       "      <td>NaN</td>\n",
       "      <td>NaN</td>\n",
       "    </tr>\n",
       "    <tr>\n",
       "      <td>3</td>\n",
       "      <td>2020-03-01</td>\n",
       "      <td>1.0</td>\n",
       "      <td>Andalucía</td>\n",
       "      <td>Spain</td>\n",
       "      <td>8414240.0</td>\n",
       "      <td>12</td>\n",
       "      <td>0.14</td>\n",
       "      <td>NaN</td>\n",
       "      <td>NaN</td>\n",
       "      <td>NaN</td>\n",
       "      <td>NaN</td>\n",
       "      <td>NaN</td>\n",
       "      <td>NaN</td>\n",
       "    </tr>\n",
       "    <tr>\n",
       "      <td>4</td>\n",
       "      <td>2020-03-02</td>\n",
       "      <td>1.0</td>\n",
       "      <td>Andalucía</td>\n",
       "      <td>Spain</td>\n",
       "      <td>8414240.0</td>\n",
       "      <td>12</td>\n",
       "      <td>0.14</td>\n",
       "      <td>NaN</td>\n",
       "      <td>NaN</td>\n",
       "      <td>NaN</td>\n",
       "      <td>NaN</td>\n",
       "      <td>NaN</td>\n",
       "      <td>NaN</td>\n",
       "    </tr>\n",
       "  </tbody>\n",
       "</table>\n",
       "</div>"
      ],
      "text/plain": [
       "         date  region_code     region country  population  cases_registered  \\\n",
       "0  2020-02-27          1.0  Andalucía   Spain   8414240.0                 1   \n",
       "1  2020-02-28          1.0  Andalucía   Spain   8414240.0                 6   \n",
       "2  2020-02-29          1.0  Andalucía   Spain   8414240.0                 8   \n",
       "3  2020-03-01          1.0  Andalucía   Spain   8414240.0                12   \n",
       "4  2020-03-02          1.0  Andalucía   Spain   8414240.0                12   \n",
       "\n",
       "   cases_per_100000  intensive_care  intensive_care_per_1000000  deceassed  \\\n",
       "0              0.01             NaN                         NaN        NaN   \n",
       "1              0.07             NaN                         NaN        NaN   \n",
       "2              0.10             NaN                         NaN        NaN   \n",
       "3              0.14             NaN                         NaN        NaN   \n",
       "4              0.14             NaN                         NaN        NaN   \n",
       "\n",
       "   deceassed_per_100000  recovered  recovered_per_100000  \n",
       "0                   NaN        NaN                   NaN  \n",
       "1                   NaN        NaN                   NaN  \n",
       "2                   NaN        NaN                   NaN  \n",
       "3                   NaN        NaN                   NaN  \n",
       "4                   NaN        NaN                   NaN  "
      ]
     },
     "execution_count": 110,
     "metadata": {},
     "output_type": "execute_result"
    }
   ],
   "source": [
    "#Datos de España, Italia y Francia\n",
    "path = './data/data_output_covid19-countries-regions-compile.csv'\n",
    "df_sp_it_fr_conf = pd.read_csv(path, sep=',')\n",
    "df_sp_it_fr_conf.head()"
   ]
  },
  {
   "cell_type": "code",
   "execution_count": 111,
   "metadata": {
    "ExecuteTime": {
     "end_time": "2020-03-27T09:59:38.554868Z",
     "start_time": "2020-03-27T09:59:38.537073Z"
    },
    "hidden": true
   },
   "outputs": [
    {
     "data": {
      "text/html": [
       "<div>\n",
       "<style scoped>\n",
       "    .dataframe tbody tr th:only-of-type {\n",
       "        vertical-align: middle;\n",
       "    }\n",
       "\n",
       "    .dataframe tbody tr th {\n",
       "        vertical-align: top;\n",
       "    }\n",
       "\n",
       "    .dataframe thead th {\n",
       "        text-align: right;\n",
       "    }\n",
       "</style>\n",
       "<table border=\"1\" class=\"dataframe\">\n",
       "  <thead>\n",
       "    <tr style=\"text-align: right;\">\n",
       "      <th></th>\n",
       "      <th>cod_ine</th>\n",
       "      <th>CCAA</th>\n",
       "      <th>Públicos</th>\n",
       "      <th>Privados</th>\n",
       "      <th>Total</th>\n",
       "    </tr>\n",
       "  </thead>\n",
       "  <tbody>\n",
       "    <tr>\n",
       "      <td>0</td>\n",
       "      <td>1</td>\n",
       "      <td>ANDALUCÍA</td>\n",
       "      <td>572</td>\n",
       "      <td>162</td>\n",
       "      <td>734</td>\n",
       "    </tr>\n",
       "    <tr>\n",
       "      <td>1</td>\n",
       "      <td>2</td>\n",
       "      <td>ARAGÓN</td>\n",
       "      <td>113</td>\n",
       "      <td>22</td>\n",
       "      <td>135</td>\n",
       "    </tr>\n",
       "    <tr>\n",
       "      <td>2</td>\n",
       "      <td>3</td>\n",
       "      <td>ASTURIAS</td>\n",
       "      <td>86</td>\n",
       "      <td>7</td>\n",
       "      <td>93</td>\n",
       "    </tr>\n",
       "    <tr>\n",
       "      <td>3</td>\n",
       "      <td>15</td>\n",
       "      <td>C. FORAL DE NAVARRA</td>\n",
       "      <td>46</td>\n",
       "      <td>19</td>\n",
       "      <td>65</td>\n",
       "    </tr>\n",
       "    <tr>\n",
       "      <td>4</td>\n",
       "      <td>5</td>\n",
       "      <td>CANARIAS</td>\n",
       "      <td>187</td>\n",
       "      <td>50</td>\n",
       "      <td>237</td>\n",
       "    </tr>\n",
       "  </tbody>\n",
       "</table>\n",
       "</div>"
      ],
      "text/plain": [
       "   cod_ine                 CCAA  Públicos  Privados  Total\n",
       "0        1            ANDALUCÍA       572       162    734\n",
       "1        2               ARAGÓN       113        22    135\n",
       "2        3             ASTURIAS        86         7     93\n",
       "3       15  C. FORAL DE NAVARRA        46        19     65\n",
       "4        5             CANARIAS       187        50    237"
      ]
     },
     "execution_count": 111,
     "metadata": {},
     "output_type": "execute_result"
    }
   ],
   "source": [
    "#Datos de camas UCI\n",
    "path = './data/ccaa_camas_uci_2017.csv'\n",
    "df_camas_uci = pd.read_csv(path, sep=',')\n",
    "df_camas_uci.head()"
   ]
  },
  {
   "cell_type": "code",
   "execution_count": 112,
   "metadata": {
    "ExecuteTime": {
     "end_time": "2020-03-27T09:59:52.519640Z",
     "start_time": "2020-03-27T09:59:52.491279Z"
    },
    "hidden": true
   },
   "outputs": [
    {
     "data": {
      "text/html": [
       "<div>\n",
       "<style scoped>\n",
       "    .dataframe tbody tr th:only-of-type {\n",
       "        vertical-align: middle;\n",
       "    }\n",
       "\n",
       "    .dataframe tbody tr th {\n",
       "        vertical-align: top;\n",
       "    }\n",
       "\n",
       "    .dataframe thead th {\n",
       "        text-align: right;\n",
       "    }\n",
       "</style>\n",
       "<table border=\"1\" class=\"dataframe\">\n",
       "  <thead>\n",
       "    <tr style=\"text-align: right;\">\n",
       "      <th></th>\n",
       "      <th>fecha</th>\n",
       "      <th>cod_ine</th>\n",
       "      <th>CCAA</th>\n",
       "      <th>mascarillas_acumulado_desde_2020-03-10</th>\n",
       "    </tr>\n",
       "  </thead>\n",
       "  <tbody>\n",
       "    <tr>\n",
       "      <td>0</td>\n",
       "      <td>2020-03-22</td>\n",
       "      <td>1.0</td>\n",
       "      <td>ANDALUCÍA</td>\n",
       "      <td>444083</td>\n",
       "    </tr>\n",
       "    <tr>\n",
       "      <td>1</td>\n",
       "      <td>2020-03-22</td>\n",
       "      <td>2.0</td>\n",
       "      <td>ARAGÓN</td>\n",
       "      <td>72455</td>\n",
       "    </tr>\n",
       "    <tr>\n",
       "      <td>2</td>\n",
       "      <td>2020-03-22</td>\n",
       "      <td>3.0</td>\n",
       "      <td>ASTURIAS</td>\n",
       "      <td>60229</td>\n",
       "    </tr>\n",
       "    <tr>\n",
       "      <td>3</td>\n",
       "      <td>2020-03-22</td>\n",
       "      <td>4.0</td>\n",
       "      <td>BALEARES</td>\n",
       "      <td>49476</td>\n",
       "    </tr>\n",
       "    <tr>\n",
       "      <td>4</td>\n",
       "      <td>2020-03-22</td>\n",
       "      <td>5.0</td>\n",
       "      <td>CANARIAS</td>\n",
       "      <td>124165</td>\n",
       "    </tr>\n",
       "  </tbody>\n",
       "</table>\n",
       "</div>"
      ],
      "text/plain": [
       "        fecha  cod_ine       CCAA  mascarillas_acumulado_desde_2020-03-10\n",
       "0  2020-03-22      1.0  ANDALUCÍA                                  444083\n",
       "1  2020-03-22      2.0     ARAGÓN                                   72455\n",
       "2  2020-03-22      3.0   ASTURIAS                                   60229\n",
       "3  2020-03-22      4.0   BALEARES                                   49476\n",
       "4  2020-03-22      5.0   CANARIAS                                  124165"
      ]
     },
     "execution_count": 112,
     "metadata": {},
     "output_type": "execute_result"
    }
   ],
   "source": [
    "#Datos de mascarillas entregadas\n",
    "path = './data/ccaa_covid19_mascarillas.csv'\n",
    "df_mascarillas = pd.read_csv(path, sep=',')\n",
    "df_mascarillas.head()"
   ]
  },
  {
   "cell_type": "code",
   "execution_count": 113,
   "metadata": {
    "ExecuteTime": {
     "end_time": "2020-03-27T09:59:59.953379Z",
     "start_time": "2020-03-27T09:59:59.908957Z"
    },
    "hidden": true
   },
   "outputs": [
    {
     "data": {
      "text/html": [
       "<div>\n",
       "<style scoped>\n",
       "    .dataframe tbody tr th:only-of-type {\n",
       "        vertical-align: middle;\n",
       "    }\n",
       "\n",
       "    .dataframe tbody tr th {\n",
       "        vertical-align: top;\n",
       "    }\n",
       "\n",
       "    .dataframe thead th {\n",
       "        text-align: right;\n",
       "    }\n",
       "</style>\n",
       "<table border=\"1\" class=\"dataframe\">\n",
       "  <thead>\n",
       "    <tr style=\"text-align: right;\">\n",
       "      <th></th>\n",
       "      <th>fecha</th>\n",
       "      <th>rango_edad</th>\n",
       "      <th>sexo</th>\n",
       "      <th>casos_confirmados</th>\n",
       "      <th>hospitalizados</th>\n",
       "      <th>ingresos_uci</th>\n",
       "      <th>fallecidos</th>\n",
       "    </tr>\n",
       "  </thead>\n",
       "  <tbody>\n",
       "    <tr>\n",
       "      <td>0</td>\n",
       "      <td>2020-03-23</td>\n",
       "      <td>0-9</td>\n",
       "      <td>ambos sexos</td>\n",
       "      <td>129</td>\n",
       "      <td>34</td>\n",
       "      <td>1</td>\n",
       "      <td>0</td>\n",
       "    </tr>\n",
       "    <tr>\n",
       "      <td>1</td>\n",
       "      <td>2020-03-23</td>\n",
       "      <td>10-19</td>\n",
       "      <td>ambos sexos</td>\n",
       "      <td>221</td>\n",
       "      <td>15</td>\n",
       "      <td>0</td>\n",
       "      <td>1</td>\n",
       "    </tr>\n",
       "    <tr>\n",
       "      <td>2</td>\n",
       "      <td>2020-03-23</td>\n",
       "      <td>20-29</td>\n",
       "      <td>ambos sexos</td>\n",
       "      <td>1285</td>\n",
       "      <td>183</td>\n",
       "      <td>8</td>\n",
       "      <td>4</td>\n",
       "    </tr>\n",
       "    <tr>\n",
       "      <td>3</td>\n",
       "      <td>2020-03-23</td>\n",
       "      <td>30-39</td>\n",
       "      <td>ambos sexos</td>\n",
       "      <td>2208</td>\n",
       "      <td>365</td>\n",
       "      <td>15</td>\n",
       "      <td>3</td>\n",
       "    </tr>\n",
       "    <tr>\n",
       "      <td>4</td>\n",
       "      <td>2020-03-23</td>\n",
       "      <td>40-49</td>\n",
       "      <td>ambos sexos</td>\n",
       "      <td>2919</td>\n",
       "      <td>663</td>\n",
       "      <td>40</td>\n",
       "      <td>9</td>\n",
       "    </tr>\n",
       "  </tbody>\n",
       "</table>\n",
       "</div>"
      ],
      "text/plain": [
       "        fecha rango_edad         sexo  casos_confirmados  hospitalizados  \\\n",
       "0  2020-03-23        0-9  ambos sexos                129              34   \n",
       "1  2020-03-23      10-19  ambos sexos                221              15   \n",
       "2  2020-03-23      20-29  ambos sexos               1285             183   \n",
       "3  2020-03-23      30-39  ambos sexos               2208             365   \n",
       "4  2020-03-23      40-49  ambos sexos               2919             663   \n",
       "\n",
       "   ingresos_uci  fallecidos  \n",
       "0             1           0  \n",
       "1             0           1  \n",
       "2             8           4  \n",
       "3            15           3  \n",
       "4            40           9  "
      ]
     },
     "execution_count": 113,
     "metadata": {},
     "output_type": "execute_result"
    }
   ],
   "source": [
    "#Datos por rangos de edad\n",
    "path = './data/nacional_covid19_rango_edad.csv'\n",
    "df_edades = pd.read_csv(path, sep=',')\n",
    "df_edades.head()"
   ]
  },
  {
   "cell_type": "markdown",
   "metadata": {
    "heading_collapsed": true
   },
   "source": [
    "## Data cleaning"
   ]
  },
  {
   "cell_type": "markdown",
   "metadata": {
    "hidden": true
   },
   "source": [
    "### Cases by country"
   ]
  },
  {
   "cell_type": "markdown",
   "metadata": {
    "hidden": true
   },
   "source": [
    "####  Renombramos columnas y estandarizamos nombres"
   ]
  },
  {
   "cell_type": "code",
   "execution_count": 115,
   "metadata": {
    "ExecuteTime": {
     "end_time": "2020-03-27T10:00:18.653079Z",
     "start_time": "2020-03-27T10:00:18.518644Z"
    },
    "hidden": true
   },
   "outputs": [
    {
     "data": {
      "text/html": [
       "<div>\n",
       "<style scoped>\n",
       "    .dataframe tbody tr th:only-of-type {\n",
       "        vertical-align: middle;\n",
       "    }\n",
       "\n",
       "    .dataframe tbody tr th {\n",
       "        vertical-align: top;\n",
       "    }\n",
       "\n",
       "    .dataframe thead th {\n",
       "        text-align: right;\n",
       "    }\n",
       "</style>\n",
       "<table border=\"1\" class=\"dataframe\">\n",
       "  <thead>\n",
       "    <tr style=\"text-align: right;\">\n",
       "      <th></th>\n",
       "      <th>country</th>\n",
       "      <th>province</th>\n",
       "      <th>latitude</th>\n",
       "      <th>longitude</th>\n",
       "      <th>date</th>\n",
       "      <th>cases</th>\n",
       "      <th>status</th>\n",
       "      <th>countryname</th>\n",
       "      <th>capital</th>\n",
       "      <th>capital_latitude</th>\n",
       "      <th>capital_longitude</th>\n",
       "      <th>country_code</th>\n",
       "      <th>continent</th>\n",
       "    </tr>\n",
       "  </thead>\n",
       "  <tbody>\n",
       "    <tr>\n",
       "      <td>0</td>\n",
       "      <td>Afghanistan</td>\n",
       "      <td></td>\n",
       "      <td>33.0</td>\n",
       "      <td>65.0</td>\n",
       "      <td>2020-02-24T00:00:00Z</td>\n",
       "      <td>1</td>\n",
       "      <td>confirmed</td>\n",
       "      <td>Afghanistan</td>\n",
       "      <td>Kabul</td>\n",
       "      <td>34.516667</td>\n",
       "      <td>69.183333</td>\n",
       "      <td>AF</td>\n",
       "      <td>Asia</td>\n",
       "    </tr>\n",
       "    <tr>\n",
       "      <td>1</td>\n",
       "      <td>Afghanistan</td>\n",
       "      <td></td>\n",
       "      <td>33.0</td>\n",
       "      <td>65.0</td>\n",
       "      <td>2020-02-24T00:00:00Z</td>\n",
       "      <td>0</td>\n",
       "      <td>recovered</td>\n",
       "      <td>Afghanistan</td>\n",
       "      <td>Kabul</td>\n",
       "      <td>34.516667</td>\n",
       "      <td>69.183333</td>\n",
       "      <td>AF</td>\n",
       "      <td>Asia</td>\n",
       "    </tr>\n",
       "    <tr>\n",
       "      <td>2</td>\n",
       "      <td>Afghanistan</td>\n",
       "      <td></td>\n",
       "      <td>33.0</td>\n",
       "      <td>65.0</td>\n",
       "      <td>2020-02-24T00:00:00Z</td>\n",
       "      <td>0</td>\n",
       "      <td>deaths</td>\n",
       "      <td>Afghanistan</td>\n",
       "      <td>Kabul</td>\n",
       "      <td>34.516667</td>\n",
       "      <td>69.183333</td>\n",
       "      <td>AF</td>\n",
       "      <td>Asia</td>\n",
       "    </tr>\n",
       "    <tr>\n",
       "      <td>3</td>\n",
       "      <td>Afghanistan</td>\n",
       "      <td></td>\n",
       "      <td>0.0</td>\n",
       "      <td>0.0</td>\n",
       "      <td>2020-02-24T00:00:00Z</td>\n",
       "      <td>1</td>\n",
       "      <td>confirmed</td>\n",
       "      <td>Afghanistan</td>\n",
       "      <td>Kabul</td>\n",
       "      <td>34.516667</td>\n",
       "      <td>69.183333</td>\n",
       "      <td>AF</td>\n",
       "      <td>Asia</td>\n",
       "    </tr>\n",
       "    <tr>\n",
       "      <td>4</td>\n",
       "      <td>Afghanistan</td>\n",
       "      <td></td>\n",
       "      <td>0.0</td>\n",
       "      <td>0.0</td>\n",
       "      <td>2020-02-24T00:00:00Z</td>\n",
       "      <td>0</td>\n",
       "      <td>recovered</td>\n",
       "      <td>Afghanistan</td>\n",
       "      <td>Kabul</td>\n",
       "      <td>34.516667</td>\n",
       "      <td>69.183333</td>\n",
       "      <td>AF</td>\n",
       "      <td>Asia</td>\n",
       "    </tr>\n",
       "  </tbody>\n",
       "</table>\n",
       "</div>"
      ],
      "text/plain": [
       "       country province  latitude  longitude                  date  cases  \\\n",
       "0  Afghanistan               33.0       65.0  2020-02-24T00:00:00Z      1   \n",
       "1  Afghanistan               33.0       65.0  2020-02-24T00:00:00Z      0   \n",
       "2  Afghanistan               33.0       65.0  2020-02-24T00:00:00Z      0   \n",
       "3  Afghanistan                0.0        0.0  2020-02-24T00:00:00Z      1   \n",
       "4  Afghanistan                0.0        0.0  2020-02-24T00:00:00Z      0   \n",
       "\n",
       "      status  countryname capital  capital_latitude  capital_longitude  \\\n",
       "0  confirmed  Afghanistan   Kabul         34.516667          69.183333   \n",
       "1  recovered  Afghanistan   Kabul         34.516667          69.183333   \n",
       "2     deaths  Afghanistan   Kabul         34.516667          69.183333   \n",
       "3  confirmed  Afghanistan   Kabul         34.516667          69.183333   \n",
       "4  recovered  Afghanistan   Kabul         34.516667          69.183333   \n",
       "\n",
       "  country_code continent  \n",
       "0           AF      Asia  \n",
       "1           AF      Asia  \n",
       "2           AF      Asia  \n",
       "3           AF      Asia  \n",
       "4           AF      Asia  "
      ]
     },
     "execution_count": 115,
     "metadata": {},
     "output_type": "execute_result"
    }
   ],
   "source": [
    "df_coronavirus_raw.columns = df_coronavirus_raw.columns.str.replace('[.]','_').str.lower()\n",
    "df_coronavirus_raw = df_coronavirus_raw.rename(columns = {'lat':'latitude', 'lon':'longitude', 'capitalname':'capital', \n",
    "                                                         'capitallatitude':'capital_latitude', 'capitallongitude':'capital_longitude',\n",
    "                                                         'countrycode':'country_code', 'continentname':'continent'})\n",
    "df_coronavirus_raw.head()"
   ]
  },
  {
   "cell_type": "markdown",
   "metadata": {
    "hidden": true
   },
   "source": [
    "#### Eliminamos columnas duplicadas"
   ]
  },
  {
   "cell_type": "code",
   "execution_count": 116,
   "metadata": {
    "ExecuteTime": {
     "end_time": "2020-03-27T10:00:31.110609Z",
     "start_time": "2020-03-27T10:00:31.096036Z"
    },
    "hidden": true
   },
   "outputs": [],
   "source": [
    "df_coronavirus_raw.drop('countryname', axis=1, inplace=True)"
   ]
  },
  {
   "cell_type": "markdown",
   "metadata": {
    "hidden": true
   },
   "source": [
    "#### Obtenemos los totales por países y calculamos las estadísticas"
   ]
  },
  {
   "cell_type": "markdown",
   "metadata": {
    "hidden": true
   },
   "source": [
    "- Los casos existentes se han calculado de la siguiente manera :    \n",
    "         casos existentes = casos confirmados - fallecidos - recuperados\n",
    "- La columna <CODE>'days_confirmed'</CODE> nos crea un contador a partir de los 100 casos confirmados.\n",
    "- La columna <CODE>'days_deaths'</CODE> nos crea un contador a partir de los 10 casos confirmados.\n",
    "- La columna <CODE>'days_recovered'</CODE> nos crea un contador a partir de los 100 casos confirmados.\n",
    "- La columna <CODE>'estimated'</CODE> nos da una aproximación de los posibles casos que hay teniendo en cuanta la mortalidad.\n",
    "         casos estimados = fallecidos * 99"
   ]
  },
  {
   "cell_type": "code",
   "execution_count": 117,
   "metadata": {
    "ExecuteTime": {
     "end_time": "2020-03-27T10:00:39.261642Z",
     "start_time": "2020-03-27T10:00:39.218508Z"
    },
    "hidden": true
   },
   "outputs": [],
   "source": [
    "df_countries = df_coronavirus.groupby(['class','continent','country','date'])['confirmed','deaths', 'recovered'].agg('sum').reset_index()\n",
    "df_countries['existing'] = df_countries.confirmed.fillna(0) -  df_countries.deaths.fillna(0) - df_countries.recovered.fillna(0)"
   ]
  },
  {
   "cell_type": "code",
   "execution_count": 118,
   "metadata": {
    "ExecuteTime": {
     "end_time": "2020-03-27T10:00:46.421088Z",
     "start_time": "2020-03-27T10:00:46.332573Z"
    },
    "hidden": true
   },
   "outputs": [],
   "source": [
    "df_countries['days_confirmed'] = df_countries[df_countries['confirmed']>100].groupby(['country']).cumcount()+1\n",
    "df_countries['days_confirmed'] = df_countries['days_confirmed'].fillna(0).astype('int')"
   ]
  },
  {
   "cell_type": "code",
   "execution_count": 119,
   "metadata": {
    "ExecuteTime": {
     "end_time": "2020-03-27T10:00:54.051538Z",
     "start_time": "2020-03-27T10:00:54.033182Z"
    },
    "hidden": true
   },
   "outputs": [],
   "source": [
    "df_countries['days_death'] = df_countries[df_countries['deaths']>10].groupby(['country']).cumcount()+1\n",
    "df_countries['days_death'] = df_countries['days_death'].fillna(0).astype('int')"
   ]
  },
  {
   "cell_type": "code",
   "execution_count": 120,
   "metadata": {
    "ExecuteTime": {
     "end_time": "2020-03-27T10:01:01.323486Z",
     "start_time": "2020-03-27T10:01:01.305919Z"
    },
    "hidden": true
   },
   "outputs": [],
   "source": [
    "df_countries['days_recovered'] = df_countries[df_countries['recovered']>100].groupby(['country']).cumcount()+1\n",
    "df_countries['days_recovered'] = df_countries['days_recovered'].fillna(0).astype('int')"
   ]
  },
  {
   "cell_type": "code",
   "execution_count": 121,
   "metadata": {
    "ExecuteTime": {
     "end_time": "2020-03-27T10:01:08.046439Z",
     "start_time": "2020-03-27T10:01:08.029278Z"
    },
    "hidden": true
   },
   "outputs": [],
   "source": [
    "df_countries['estimated'] = [confirmed*99 for confirmed in df_countries['confirmed']]"
   ]
  },
  {
   "cell_type": "code",
   "execution_count": 122,
   "metadata": {
    "ExecuteTime": {
     "end_time": "2020-03-27T10:01:14.704424Z",
     "start_time": "2020-03-27T10:01:14.684510Z"
    },
    "hidden": true
   },
   "outputs": [
    {
     "data": {
      "text/html": [
       "<div>\n",
       "<style scoped>\n",
       "    .dataframe tbody tr th:only-of-type {\n",
       "        vertical-align: middle;\n",
       "    }\n",
       "\n",
       "    .dataframe tbody tr th {\n",
       "        vertical-align: top;\n",
       "    }\n",
       "\n",
       "    .dataframe thead th {\n",
       "        text-align: right;\n",
       "    }\n",
       "</style>\n",
       "<table border=\"1\" class=\"dataframe\">\n",
       "  <thead>\n",
       "    <tr style=\"text-align: right;\">\n",
       "      <th>status</th>\n",
       "      <th>class</th>\n",
       "      <th>continent</th>\n",
       "      <th>country</th>\n",
       "      <th>date</th>\n",
       "      <th>confirmed</th>\n",
       "      <th>deaths</th>\n",
       "      <th>recovered</th>\n",
       "      <th>existing</th>\n",
       "      <th>days_confirmed</th>\n",
       "      <th>days_death</th>\n",
       "      <th>days_recovered</th>\n",
       "      <th>estimated</th>\n",
       "    </tr>\n",
       "  </thead>\n",
       "  <tbody>\n",
       "    <tr>\n",
       "      <td>0</td>\n",
       "      <td>China</td>\n",
       "      <td>Asia</td>\n",
       "      <td>China</td>\n",
       "      <td>2020-01-22</td>\n",
       "      <td>548</td>\n",
       "      <td>17</td>\n",
       "      <td>28</td>\n",
       "      <td>503</td>\n",
       "      <td>1</td>\n",
       "      <td>1</td>\n",
       "      <td>0</td>\n",
       "      <td>54252</td>\n",
       "    </tr>\n",
       "    <tr>\n",
       "      <td>1</td>\n",
       "      <td>China</td>\n",
       "      <td>Asia</td>\n",
       "      <td>China</td>\n",
       "      <td>2020-01-23</td>\n",
       "      <td>643</td>\n",
       "      <td>18</td>\n",
       "      <td>30</td>\n",
       "      <td>595</td>\n",
       "      <td>2</td>\n",
       "      <td>2</td>\n",
       "      <td>0</td>\n",
       "      <td>63657</td>\n",
       "    </tr>\n",
       "    <tr>\n",
       "      <td>2</td>\n",
       "      <td>China</td>\n",
       "      <td>Asia</td>\n",
       "      <td>China</td>\n",
       "      <td>2020-01-24</td>\n",
       "      <td>920</td>\n",
       "      <td>26</td>\n",
       "      <td>36</td>\n",
       "      <td>858</td>\n",
       "      <td>3</td>\n",
       "      <td>3</td>\n",
       "      <td>0</td>\n",
       "      <td>91080</td>\n",
       "    </tr>\n",
       "    <tr>\n",
       "      <td>3</td>\n",
       "      <td>China</td>\n",
       "      <td>Asia</td>\n",
       "      <td>China</td>\n",
       "      <td>2020-01-25</td>\n",
       "      <td>1406</td>\n",
       "      <td>42</td>\n",
       "      <td>39</td>\n",
       "      <td>1325</td>\n",
       "      <td>4</td>\n",
       "      <td>4</td>\n",
       "      <td>0</td>\n",
       "      <td>139194</td>\n",
       "    </tr>\n",
       "    <tr>\n",
       "      <td>4</td>\n",
       "      <td>China</td>\n",
       "      <td>Asia</td>\n",
       "      <td>China</td>\n",
       "      <td>2020-01-26</td>\n",
       "      <td>2075</td>\n",
       "      <td>56</td>\n",
       "      <td>49</td>\n",
       "      <td>1970</td>\n",
       "      <td>5</td>\n",
       "      <td>5</td>\n",
       "      <td>0</td>\n",
       "      <td>205425</td>\n",
       "    </tr>\n",
       "  </tbody>\n",
       "</table>\n",
       "</div>"
      ],
      "text/plain": [
       "status  class continent country       date  confirmed  deaths  recovered  \\\n",
       "0       China      Asia   China 2020-01-22        548      17         28   \n",
       "1       China      Asia   China 2020-01-23        643      18         30   \n",
       "2       China      Asia   China 2020-01-24        920      26         36   \n",
       "3       China      Asia   China 2020-01-25       1406      42         39   \n",
       "4       China      Asia   China 2020-01-26       2075      56         49   \n",
       "\n",
       "status  existing  days_confirmed  days_death  days_recovered  estimated  \n",
       "0            503               1           1               0      54252  \n",
       "1            595               2           2               0      63657  \n",
       "2            858               3           3               0      91080  \n",
       "3           1325               4           4               0     139194  \n",
       "4           1970               5           5               0     205425  "
      ]
     },
     "execution_count": 122,
     "metadata": {},
     "output_type": "execute_result"
    }
   ],
   "source": [
    "df_countries.head()"
   ]
  },
  {
   "cell_type": "markdown",
   "metadata": {
    "hidden": true
   },
   "source": [
    "#### Ordenamos columas"
   ]
  },
  {
   "cell_type": "code",
   "execution_count": 133,
   "metadata": {
    "ExecuteTime": {
     "end_time": "2020-03-27T10:06:48.637817Z",
     "start_time": "2020-03-27T10:06:48.612862Z"
    },
    "code_folding": [],
    "hidden": true
   },
   "outputs": [
    {
     "data": {
      "text/html": [
       "<div>\n",
       "<style scoped>\n",
       "    .dataframe tbody tr th:only-of-type {\n",
       "        vertical-align: middle;\n",
       "    }\n",
       "\n",
       "    .dataframe tbody tr th {\n",
       "        vertical-align: top;\n",
       "    }\n",
       "\n",
       "    .dataframe thead th {\n",
       "        text-align: right;\n",
       "    }\n",
       "</style>\n",
       "<table border=\"1\" class=\"dataframe\">\n",
       "  <thead>\n",
       "    <tr style=\"text-align: right;\">\n",
       "      <th>status</th>\n",
       "      <th>date</th>\n",
       "      <th>continent</th>\n",
       "      <th>country</th>\n",
       "      <th>days_confirmed</th>\n",
       "      <th>days_death</th>\n",
       "      <th>days_recovered</th>\n",
       "      <th>confirmed</th>\n",
       "      <th>recovered</th>\n",
       "      <th>existing</th>\n",
       "      <th>estimated</th>\n",
       "      <th>deaths</th>\n",
       "    </tr>\n",
       "  </thead>\n",
       "  <tbody>\n",
       "    <tr>\n",
       "      <td>0</td>\n",
       "      <td>2020-01-22</td>\n",
       "      <td>Asia</td>\n",
       "      <td>China</td>\n",
       "      <td>1</td>\n",
       "      <td>1</td>\n",
       "      <td>0</td>\n",
       "      <td>548</td>\n",
       "      <td>28</td>\n",
       "      <td>503</td>\n",
       "      <td>54252</td>\n",
       "      <td>17</td>\n",
       "    </tr>\n",
       "    <tr>\n",
       "      <td>1</td>\n",
       "      <td>2020-01-23</td>\n",
       "      <td>Asia</td>\n",
       "      <td>China</td>\n",
       "      <td>2</td>\n",
       "      <td>2</td>\n",
       "      <td>0</td>\n",
       "      <td>643</td>\n",
       "      <td>30</td>\n",
       "      <td>595</td>\n",
       "      <td>63657</td>\n",
       "      <td>18</td>\n",
       "    </tr>\n",
       "    <tr>\n",
       "      <td>2</td>\n",
       "      <td>2020-01-24</td>\n",
       "      <td>Asia</td>\n",
       "      <td>China</td>\n",
       "      <td>3</td>\n",
       "      <td>3</td>\n",
       "      <td>0</td>\n",
       "      <td>920</td>\n",
       "      <td>36</td>\n",
       "      <td>858</td>\n",
       "      <td>91080</td>\n",
       "      <td>26</td>\n",
       "    </tr>\n",
       "    <tr>\n",
       "      <td>3</td>\n",
       "      <td>2020-01-25</td>\n",
       "      <td>Asia</td>\n",
       "      <td>China</td>\n",
       "      <td>4</td>\n",
       "      <td>4</td>\n",
       "      <td>0</td>\n",
       "      <td>1406</td>\n",
       "      <td>39</td>\n",
       "      <td>1325</td>\n",
       "      <td>139194</td>\n",
       "      <td>42</td>\n",
       "    </tr>\n",
       "    <tr>\n",
       "      <td>4</td>\n",
       "      <td>2020-01-26</td>\n",
       "      <td>Asia</td>\n",
       "      <td>China</td>\n",
       "      <td>5</td>\n",
       "      <td>5</td>\n",
       "      <td>0</td>\n",
       "      <td>2075</td>\n",
       "      <td>49</td>\n",
       "      <td>1970</td>\n",
       "      <td>205425</td>\n",
       "      <td>56</td>\n",
       "    </tr>\n",
       "  </tbody>\n",
       "</table>\n",
       "</div>"
      ],
      "text/plain": [
       "status       date continent country  days_confirmed  days_death  \\\n",
       "0      2020-01-22      Asia   China               1           1   \n",
       "1      2020-01-23      Asia   China               2           2   \n",
       "2      2020-01-24      Asia   China               3           3   \n",
       "3      2020-01-25      Asia   China               4           4   \n",
       "4      2020-01-26      Asia   China               5           5   \n",
       "\n",
       "status  days_recovered  confirmed  recovered  existing  estimated  deaths  \n",
       "0                    0        548         28       503      54252      17  \n",
       "1                    0        643         30       595      63657      18  \n",
       "2                    0        920         36       858      91080      26  \n",
       "3                    0       1406         39      1325     139194      42  \n",
       "4                    0       2075         49      1970     205425      56  "
      ]
     },
     "execution_count": 133,
     "metadata": {},
     "output_type": "execute_result"
    }
   ],
   "source": [
    "column_order = ['date', 'continent', 'country','days_confirmed', 'days_death','days_recovered','confirmed', 'recovered', 'existing', 'estimated','deaths']\n",
    "df_countries = df_countries[column_order]\n",
    "df_countries.head()"
   ]
  },
  {
   "cell_type": "markdown",
   "metadata": {
    "heading_collapsed": true
   },
   "source": [
    "## Visualización"
   ]
  },
  {
   "cell_type": "markdown",
   "metadata": {
    "ExecuteTime": {
     "end_time": "2020-03-14T01:07:05.035505Z",
     "start_time": "2020-03-14T01:07:05.027542Z"
    },
    "hidden": true
   },
   "source": [
    "### Comparación de la evolución de casos entre dos países"
   ]
  },
  {
   "cell_type": "code",
   "execution_count": 124,
   "metadata": {
    "ExecuteTime": {
     "end_time": "2020-03-27T10:01:38.910865Z",
     "start_time": "2020-03-27T10:01:38.245102Z"
    },
    "hidden": true
   },
   "outputs": [
    {
     "data": {
      "application/vnd.jupyter.widget-view+json": {
       "model_id": "4dfa02a59833424eb26dac3d2ef181d4",
       "version_major": 2,
       "version_minor": 0
      },
      "text/plain": [
       "interactive(children=(Dropdown(description='country1', index=124, options=('China', 'Algeria', 'Angola', 'Beni…"
      ]
     },
     "metadata": {},
     "output_type": "display_data"
    }
   ],
   "source": [
    "col_vars = ['confirmed','deaths', 'recovered', 'existing']\n",
    "cou_vars = list(df_countries['country'].unique())\n",
    "\n",
    "def make_hist(country1='Italy', country2='Spain'):\n",
    "    fig = make_subplots(rows=1, cols=2, shared_yaxes=True, subplot_titles=(country1, country2))\n",
    "    for x in range(0,len(col_vars)):\n",
    "        df_filtered = df_countries[df_countries['country']==country1]\n",
    "        fig.add_trace(go.Scatter( \\\n",
    "                      x = df_filtered['date'], \\\n",
    "                      y = df_filtered[col_vars[x]], \\\n",
    "                      mode = 'lines+markers',\n",
    "                      name = f'{country1} - {col_vars[x].capitalize()}'),\n",
    "                      row=1, col=1)\n",
    "        df_filtered2 = df_countries[df_countries['country']==country2]\n",
    "        fig.add_trace(go.Scatter( \\\n",
    "                      x = df_filtered2['date'], \\\n",
    "                      y = df_filtered2[col_vars[x]], \\\n",
    "                      mode = 'lines+markers',\n",
    "                      name = f'{country2} - {col_vars[x].capitalize()}'),\n",
    "                      row=1, col=2)\n",
    "        \n",
    "    fig.update_layout(height=500, width=1000, title_text=f'Evolución de casos {country1} vs. {country2}', title_x=0.5)\n",
    "    fig.show()\n",
    "                      \n",
    "_= interact(make_hist, country1 = cou_vars, country2 = cou_vars)"
   ]
  },
  {
   "cell_type": "code",
   "execution_count": 125,
   "metadata": {
    "ExecuteTime": {
     "end_time": "2020-03-27T10:01:46.282317Z",
     "start_time": "2020-03-27T10:01:45.730210Z"
    },
    "hidden": true
   },
   "outputs": [
    {
     "data": {
      "application/vnd.jupyter.widget-view+json": {
       "model_id": "7e05c20ddcfc407db9374682531fe50c",
       "version_major": 2,
       "version_minor": 0
      },
      "text/plain": [
       "interactive(children=(Dropdown(description='country1', index=124, options=('China', 'Algeria', 'Angola', 'Beni…"
      ]
     },
     "metadata": {},
     "output_type": "display_data"
    }
   ],
   "source": [
    "def make_hist(country1='Italy', country2='Spain'):\n",
    "    nrows = 2\n",
    "    ncols = nrows\n",
    "    fig = make_subplots(rows=2, cols=2, subplot_titles=col_vars)\n",
    "    for c in range(0,len(col_vars)):\n",
    "        df_filtered = df_countries[df_countries['country']==country1]\n",
    "        fig.add_trace(go.Scatter( \\\n",
    "                      x = df_filtered['days_confirmed'], \\\n",
    "                      y = df_filtered[col_vars[c]], \\\n",
    "                      mode = 'lines+markers',\n",
    "                      name = f'{country1} - {col_vars[c].capitalize()}'),\n",
    "                      row=int(c/nrows)+1, col=(c%ncols)+1)\n",
    "        df_filtered2 = df_countries[df_countries['country']==country2]\n",
    "        fig.add_trace(go.Scatter( \\\n",
    "                      x = df_filtered2['days_confirmed'], \\\n",
    "                      y = df_filtered2[col_vars[c]], \\\n",
    "                      mode = 'lines+markers',\n",
    "                      name = f'{country2} - {col_vars[c].capitalize()}'),\n",
    "                      row=int(c/nrows)+1, col=(c%ncols)+1)\n",
    "        \n",
    "    fig.update_layout(height=1000, width=1000, title_text=f'Evolución de casos {country1} vs. {country2}', title_x=0.5)\n",
    "    fig.show()\n",
    "                      \n",
    "_= interact(make_hist, country1 = cou_vars, country2 = cou_vars)"
   ]
  },
  {
   "cell_type": "markdown",
   "metadata": {
    "hidden": true
   },
   "source": [
    "###  Casos confirmados de coronavirus: Estadísticas"
   ]
  },
  {
   "cell_type": "code",
   "execution_count": 126,
   "metadata": {
    "ExecuteTime": {
     "end_time": "2020-03-27T10:01:55.230131Z",
     "start_time": "2020-03-27T10:01:54.930838Z"
    },
    "hidden": true
   },
   "outputs": [
    {
     "data": {
      "text/html": [
       "<div>\n",
       "<style scoped>\n",
       "    .dataframe tbody tr th:only-of-type {\n",
       "        vertical-align: middle;\n",
       "    }\n",
       "\n",
       "    .dataframe tbody tr th {\n",
       "        vertical-align: top;\n",
       "    }\n",
       "\n",
       "    .dataframe thead th {\n",
       "        text-align: right;\n",
       "    }\n",
       "</style>\n",
       "<table border=\"1\" class=\"dataframe\">\n",
       "  <thead>\n",
       "    <tr style=\"text-align: right;\">\n",
       "      <th>status</th>\n",
       "      <th>index</th>\n",
       "      <th>date</th>\n",
       "      <th>continent</th>\n",
       "      <th>country</th>\n",
       "      <th>confirmed</th>\n",
       "      <th>deaths</th>\n",
       "      <th>recovered</th>\n",
       "      <th>existing</th>\n",
       "      <th>estimated</th>\n",
       "      <th>days_confirmed</th>\n",
       "      <th>days_death</th>\n",
       "      <th>days_recovered</th>\n",
       "    </tr>\n",
       "  </thead>\n",
       "  <tbody>\n",
       "    <tr>\n",
       "      <td>0</td>\n",
       "      <td>0</td>\n",
       "      <td>2020-01-22</td>\n",
       "      <td>Asia</td>\n",
       "      <td>China</td>\n",
       "      <td>548</td>\n",
       "      <td>17</td>\n",
       "      <td>28</td>\n",
       "      <td>503</td>\n",
       "      <td>54252</td>\n",
       "      <td>1</td>\n",
       "      <td>1</td>\n",
       "      <td>0</td>\n",
       "    </tr>\n",
       "    <tr>\n",
       "      <td>1</td>\n",
       "      <td>754</td>\n",
       "      <td>2020-01-22</td>\n",
       "      <td>Asia</td>\n",
       "      <td>Hong Kong</td>\n",
       "      <td>0</td>\n",
       "      <td>0</td>\n",
       "      <td>0</td>\n",
       "      <td>0</td>\n",
       "      <td>0</td>\n",
       "      <td>0</td>\n",
       "      <td>0</td>\n",
       "      <td>0</td>\n",
       "    </tr>\n",
       "    <tr>\n",
       "      <td>2</td>\n",
       "      <td>983</td>\n",
       "      <td>2020-01-22</td>\n",
       "      <td>Asia</td>\n",
       "      <td>Japan</td>\n",
       "      <td>2</td>\n",
       "      <td>0</td>\n",
       "      <td>0</td>\n",
       "      <td>2</td>\n",
       "      <td>198</td>\n",
       "      <td>0</td>\n",
       "      <td>0</td>\n",
       "      <td>0</td>\n",
       "    </tr>\n",
       "    <tr>\n",
       "      <td>3</td>\n",
       "      <td>1159</td>\n",
       "      <td>2020-01-22</td>\n",
       "      <td>Asia</td>\n",
       "      <td>Macau</td>\n",
       "      <td>1</td>\n",
       "      <td>0</td>\n",
       "      <td>0</td>\n",
       "      <td>1</td>\n",
       "      <td>99</td>\n",
       "      <td>0</td>\n",
       "      <td>0</td>\n",
       "      <td>0</td>\n",
       "    </tr>\n",
       "    <tr>\n",
       "      <td>4</td>\n",
       "      <td>1599</td>\n",
       "      <td>2020-01-22</td>\n",
       "      <td>Asia</td>\n",
       "      <td>South Korea</td>\n",
       "      <td>1</td>\n",
       "      <td>0</td>\n",
       "      <td>0</td>\n",
       "      <td>1</td>\n",
       "      <td>99</td>\n",
       "      <td>0</td>\n",
       "      <td>0</td>\n",
       "      <td>0</td>\n",
       "    </tr>\n",
       "  </tbody>\n",
       "</table>\n",
       "</div>"
      ],
      "text/plain": [
       "status  index       date continent      country  confirmed  deaths  recovered  \\\n",
       "0           0 2020-01-22      Asia        China        548      17         28   \n",
       "1         754 2020-01-22      Asia    Hong Kong          0       0          0   \n",
       "2         983 2020-01-22      Asia        Japan          2       0          0   \n",
       "3        1159 2020-01-22      Asia        Macau          1       0          0   \n",
       "4        1599 2020-01-22      Asia  South Korea          1       0          0   \n",
       "\n",
       "status  existing  estimated  days_confirmed  days_death  days_recovered  \n",
       "0            503      54252               1           1               0  \n",
       "1              0          0               0           0               0  \n",
       "2              2        198               0           0               0  \n",
       "3              1         99               0           0               0  \n",
       "4              1         99               0           0               0  "
      ]
     },
     "execution_count": 126,
     "metadata": {},
     "output_type": "execute_result"
    }
   ],
   "source": [
    "df_countries_top10 = df_countries.groupby('date',group_keys=False)\\\n",
    "            .apply(lambda grp:grp.nlargest(n=int(10),columns='confirmed').sort_index()).reset_index()\n",
    "df_countries_top10.head()"
   ]
  },
  {
   "cell_type": "code",
   "execution_count": 127,
   "metadata": {
    "ExecuteTime": {
     "end_time": "2020-03-27T10:02:08.538614Z",
     "start_time": "2020-03-27T10:02:08.271478Z"
    },
    "hidden": true
   },
   "outputs": [
    {
     "ename": "ValueError",
     "evalue": "Value of 'x' is not the name of a column in 'data_frame'. Expected one of ['index', 'date', 'continent', 'country', 'confirmed', 'deaths', 'recovered', 'existing', 'estimated', 'days_confirmed', 'days_death', 'days_recovered'] but received: class",
     "output_type": "error",
     "traceback": [
      "\u001b[0;31m---------------------------------------------------------------------------\u001b[0m",
      "\u001b[0;31mValueError\u001b[0m                                Traceback (most recent call last)",
      "\u001b[0;32m<ipython-input-127-0712221c23e4>\u001b[0m in \u001b[0;36m<module>\u001b[0;34m\u001b[0m\n\u001b[1;32m      2\u001b[0m              labels={'confirmed': f'Confirmed cases of Coronavirus',\n\u001b[1;32m      3\u001b[0m             'class':'Agrupation by countries: China vs. Rest of the world'},\n\u001b[0;32m----> 4\u001b[0;31m              points=\"all\")\n\u001b[0m\u001b[1;32m      5\u001b[0m \u001b[0mfig\u001b[0m\u001b[0;34m.\u001b[0m\u001b[0mupdate_layout\u001b[0m\u001b[0;34m(\u001b[0m\u001b[0mtitle_text\u001b[0m\u001b[0;34m=\u001b[0m\u001b[0;34m\"Stats of confirmed cases: China vs. Rest of world\"\u001b[0m\u001b[0;34m,\u001b[0m \u001b[0mtitle_x\u001b[0m\u001b[0;34m=\u001b[0m\u001b[0;36m0.5\u001b[0m\u001b[0;34m)\u001b[0m\u001b[0;34m\u001b[0m\u001b[0;34m\u001b[0m\u001b[0m\n\u001b[1;32m      6\u001b[0m \u001b[0mfig\u001b[0m\u001b[0;34m.\u001b[0m\u001b[0mshow\u001b[0m\u001b[0;34m(\u001b[0m\u001b[0;34m)\u001b[0m\u001b[0;34m\u001b[0m\u001b[0;34m\u001b[0m\u001b[0m\n",
      "\u001b[0;32m/Users/MarLizana/opt/anaconda3/lib/python3.7/site-packages/plotly/express/_chart_types.py\u001b[0m in \u001b[0;36mbox\u001b[0;34m(data_frame, x, y, color, facet_row, facet_col, facet_col_wrap, hover_name, hover_data, custom_data, animation_frame, animation_group, category_orders, labels, color_discrete_sequence, color_discrete_map, orientation, boxmode, log_x, log_y, range_x, range_y, points, notched, title, template, width, height)\u001b[0m\n\u001b[1;32m    474\u001b[0m             \u001b[0morientation\u001b[0m\u001b[0;34m=\u001b[0m\u001b[0morientation\u001b[0m\u001b[0;34m,\u001b[0m \u001b[0mboxpoints\u001b[0m\u001b[0;34m=\u001b[0m\u001b[0mpoints\u001b[0m\u001b[0;34m,\u001b[0m \u001b[0mnotched\u001b[0m\u001b[0;34m=\u001b[0m\u001b[0mnotched\u001b[0m\u001b[0;34m,\u001b[0m \u001b[0mx0\u001b[0m\u001b[0;34m=\u001b[0m\u001b[0;34m\" \"\u001b[0m\u001b[0;34m,\u001b[0m \u001b[0my0\u001b[0m\u001b[0;34m=\u001b[0m\u001b[0;34m\" \"\u001b[0m\u001b[0;34m\u001b[0m\u001b[0;34m\u001b[0m\u001b[0m\n\u001b[1;32m    475\u001b[0m         ),\n\u001b[0;32m--> 476\u001b[0;31m         \u001b[0mlayout_patch\u001b[0m\u001b[0;34m=\u001b[0m\u001b[0mdict\u001b[0m\u001b[0;34m(\u001b[0m\u001b[0mboxmode\u001b[0m\u001b[0;34m=\u001b[0m\u001b[0mboxmode\u001b[0m\u001b[0;34m)\u001b[0m\u001b[0;34m,\u001b[0m\u001b[0;34m\u001b[0m\u001b[0;34m\u001b[0m\u001b[0m\n\u001b[0m\u001b[1;32m    477\u001b[0m     )\n\u001b[1;32m    478\u001b[0m \u001b[0;34m\u001b[0m\u001b[0m\n",
      "\u001b[0;32m/Users/MarLizana/opt/anaconda3/lib/python3.7/site-packages/plotly/express/_core.py\u001b[0m in \u001b[0;36mmake_figure\u001b[0;34m(args, constructor, trace_patch, layout_patch)\u001b[0m\n\u001b[1;32m   1358\u001b[0m \u001b[0;34m\u001b[0m\u001b[0m\n\u001b[1;32m   1359\u001b[0m     args, trace_specs, grouped_mappings, sizeref, show_colorbar = infer_config(\n\u001b[0;32m-> 1360\u001b[0;31m         \u001b[0margs\u001b[0m\u001b[0;34m,\u001b[0m \u001b[0mconstructor\u001b[0m\u001b[0;34m,\u001b[0m \u001b[0mtrace_patch\u001b[0m\u001b[0;34m\u001b[0m\u001b[0;34m\u001b[0m\u001b[0m\n\u001b[0m\u001b[1;32m   1361\u001b[0m     )\n\u001b[1;32m   1362\u001b[0m     \u001b[0mgrouper\u001b[0m \u001b[0;34m=\u001b[0m \u001b[0;34m[\u001b[0m\u001b[0mx\u001b[0m\u001b[0;34m.\u001b[0m\u001b[0mgrouper\u001b[0m \u001b[0;32mor\u001b[0m \u001b[0mone_group\u001b[0m \u001b[0;32mfor\u001b[0m \u001b[0mx\u001b[0m \u001b[0;32min\u001b[0m \u001b[0mgrouped_mappings\u001b[0m\u001b[0;34m]\u001b[0m \u001b[0;32mor\u001b[0m \u001b[0;34m[\u001b[0m\u001b[0mone_group\u001b[0m\u001b[0;34m]\u001b[0m\u001b[0;34m\u001b[0m\u001b[0;34m\u001b[0m\u001b[0m\n",
      "\u001b[0;32m/Users/MarLizana/opt/anaconda3/lib/python3.7/site-packages/plotly/express/_core.py\u001b[0m in \u001b[0;36minfer_config\u001b[0;34m(args, constructor, trace_patch)\u001b[0m\n\u001b[1;32m   1203\u001b[0m             \u001b[0mall_attrables\u001b[0m \u001b[0;34m+=\u001b[0m \u001b[0;34m[\u001b[0m\u001b[0mgroup_attr\u001b[0m\u001b[0;34m]\u001b[0m\u001b[0;34m\u001b[0m\u001b[0;34m\u001b[0m\u001b[0m\n\u001b[1;32m   1204\u001b[0m \u001b[0;34m\u001b[0m\u001b[0m\n\u001b[0;32m-> 1205\u001b[0;31m     \u001b[0margs\u001b[0m \u001b[0;34m=\u001b[0m \u001b[0mbuild_dataframe\u001b[0m\u001b[0;34m(\u001b[0m\u001b[0margs\u001b[0m\u001b[0;34m,\u001b[0m \u001b[0mall_attrables\u001b[0m\u001b[0;34m,\u001b[0m \u001b[0marray_attrables\u001b[0m\u001b[0;34m)\u001b[0m\u001b[0;34m\u001b[0m\u001b[0;34m\u001b[0m\u001b[0m\n\u001b[0m\u001b[1;32m   1206\u001b[0m     \u001b[0;32mif\u001b[0m \u001b[0mconstructor\u001b[0m \u001b[0;32min\u001b[0m \u001b[0;34m[\u001b[0m\u001b[0mgo\u001b[0m\u001b[0;34m.\u001b[0m\u001b[0mTreemap\u001b[0m\u001b[0;34m,\u001b[0m \u001b[0mgo\u001b[0m\u001b[0;34m.\u001b[0m\u001b[0mSunburst\u001b[0m\u001b[0;34m]\u001b[0m \u001b[0;32mand\u001b[0m \u001b[0margs\u001b[0m\u001b[0;34m[\u001b[0m\u001b[0;34m\"path\"\u001b[0m\u001b[0;34m]\u001b[0m \u001b[0;32mis\u001b[0m \u001b[0;32mnot\u001b[0m \u001b[0;32mNone\u001b[0m\u001b[0;34m:\u001b[0m\u001b[0;34m\u001b[0m\u001b[0;34m\u001b[0m\u001b[0m\n\u001b[1;32m   1207\u001b[0m         \u001b[0margs\u001b[0m \u001b[0;34m=\u001b[0m \u001b[0mprocess_dataframe_hierarchy\u001b[0m\u001b[0;34m(\u001b[0m\u001b[0margs\u001b[0m\u001b[0;34m)\u001b[0m\u001b[0;34m\u001b[0m\u001b[0;34m\u001b[0m\u001b[0m\n",
      "\u001b[0;32m/Users/MarLizana/opt/anaconda3/lib/python3.7/site-packages/plotly/express/_core.py\u001b[0m in \u001b[0;36mbuild_dataframe\u001b[0;34m(args, attrables, array_attrables)\u001b[0m\n\u001b[1;32m    972\u001b[0m                             \u001b[0;34m\"\\n To use the index, pass it in directly as `df.index`.\"\u001b[0m\u001b[0;34m\u001b[0m\u001b[0;34m\u001b[0m\u001b[0m\n\u001b[1;32m    973\u001b[0m                         )\n\u001b[0;32m--> 974\u001b[0;31m                     \u001b[0;32mraise\u001b[0m \u001b[0mValueError\u001b[0m\u001b[0;34m(\u001b[0m\u001b[0merr_msg\u001b[0m\u001b[0;34m)\u001b[0m\u001b[0;34m\u001b[0m\u001b[0;34m\u001b[0m\u001b[0m\n\u001b[0m\u001b[1;32m    975\u001b[0m                 \u001b[0;32mif\u001b[0m \u001b[0mlength\u001b[0m \u001b[0;32mand\u001b[0m \u001b[0mlen\u001b[0m\u001b[0;34m(\u001b[0m\u001b[0mdf_input\u001b[0m\u001b[0;34m[\u001b[0m\u001b[0margument\u001b[0m\u001b[0;34m]\u001b[0m\u001b[0;34m)\u001b[0m \u001b[0;34m!=\u001b[0m \u001b[0mlength\u001b[0m\u001b[0;34m:\u001b[0m\u001b[0;34m\u001b[0m\u001b[0;34m\u001b[0m\u001b[0m\n\u001b[1;32m    976\u001b[0m                     raise ValueError(\n",
      "\u001b[0;31mValueError\u001b[0m: Value of 'x' is not the name of a column in 'data_frame'. Expected one of ['index', 'date', 'continent', 'country', 'confirmed', 'deaths', 'recovered', 'existing', 'estimated', 'days_confirmed', 'days_death', 'days_recovered'] but received: class"
     ]
    }
   ],
   "source": [
    "fig = px.box(df_countries_top10, y=\"confirmed\", x='class', \n",
    "             labels={'confirmed': f'Confirmed cases of Coronavirus',\n",
    "            'class':'Agrupation by countries: China vs. Rest of the world'},\n",
    "             points=\"all\")\n",
    "fig.update_layout(title_text=\"Stats of confirmed cases: China vs. Rest of world\", title_x=0.5)\n",
    "fig.show()"
   ]
  },
  {
   "cell_type": "markdown",
   "metadata": {},
   "source": [
    "## Estadísticas"
   ]
  },
  {
   "cell_type": "markdown",
   "metadata": {},
   "source": [
    "### Funciones"
   ]
  },
  {
   "cell_type": "code",
   "execution_count": 304,
   "metadata": {
    "ExecuteTime": {
     "end_time": "2020-03-27T16:33:48.367675Z",
     "start_time": "2020-03-27T16:33:48.346731Z"
    }
   },
   "outputs": [],
   "source": [
    "def hipotesis_result (pval, conf):\n",
    "    \n",
    "    \"\"\"\n",
    "    ************************************Contraste de hipótesis************************************\n",
    "    \n",
    "    Devuelve la decisión de rechazar o no la hipótesis nula dados el p-valor y el nivel de confianza.\n",
    "    \n",
    "    Input:\n",
    "    * pval(float): P-valor. Probabilidad de que un valor sea posible dada una hipótesis nula cierta.\n",
    "    * conf(float) : Nivel de confianza deseado.\n",
    "    \n",
    "    Output:\n",
    "    * (str): Si se acepta o rechaza la H0 y los valores'pval' y 'conf' introducidos.\n",
    "    \n",
    "    ***********************************************************************************************\n",
    "    \n",
    "    \"\"\"\n",
    "    alpha = 1 - conf\n",
    "    if pval <= alpha:\n",
    "        return f'Se rechaza la hipótesis nula (H0). Nuestro p-valor {pval} es menor a nuestra α {round(alpha,2)}'\n",
    "    else:\n",
    "        return f'No se rechaza la hipótesis nula (H0). Nuestro p-valor {pval} es mayor a nuestra α {round(alpha,2)}'\n",
    "\n",
    "\n",
    "    \n",
    "def pearson_correlation (X, Y, conf):\n",
    "    \n",
    "    \"\"\"\n",
    "    ************************************Correlación de Pearson************************************\n",
    "    \n",
    "    Devuelve la decisión de rechazar o no la hipótesis nula dados el p-valor y el nivel de confianza.\n",
    "    \n",
    "    Input:\n",
    "    * X: muestra 1\n",
    "    * Y: muestra 2\n",
    "    * conf : nivel de confianza\n",
    "    \n",
    "    Output:\n",
    "    * stat, pval : Estadístico resultante de la correlación de Pearson y el p.valor.\n",
    "    \n",
    "    ***********************************************************************************************\n",
    "    \n",
    "    \"\"\"\n",
    "        \n",
    "    stat, pval = stats.pearsonr(X,Y)\n",
    "    return hipotesis_result(pval, conf)\n",
    "    \n",
    "\n",
    "def model_summary (x, y):\n",
    "    \n",
    "    from statsmodels.regression import linear_model as sm\n",
    "    \n",
    "    \"\"\"\n",
    "    ************************************Correlación de Pearson************************************\n",
    "    \n",
    "    Devuelve la sumarización de diferentes estadísticos.\n",
    "    \n",
    "    Input:\n",
    "    * X: muestra 1\n",
    "    * Y: muestra 2\n",
    "\n",
    "    \n",
    "    Output:\n",
    "    * stat, pval : Listado de estadísticos.\n",
    "    \n",
    "    ***********************************************************************************************\n",
    "    \n",
    "    \"\"\"\n",
    "    model = sm.OLS(y.astype(float), y.astype(float)).fit()\n",
    "\n",
    "    print(model.summary())\n",
    "    \n",
    "\n",
    "def linear_reg (x, y):\n",
    "    linear_regression = LinearRegression()\n",
    "    linear_regression.fit(x,y)\n",
    "    y_pred = linear_regression.predict(x)\n",
    "    sns.lmplot(\"X\",\"Y\", data = student_data)\n",
    "    \n",
    "    \n",
    "    \n",
    "def expon_distribution ():\n",
    "    return 1 - stats.expon(1/10).cdf(15)\n",
    "\n",
    "\n",
    "def t_test_features(s1, s2, conf, features=['confirmed','deaths', 'recovered', 'existing', 'estimated']):\n",
    "    \n",
    "    \"\"\"\n",
    "    La prueba 't de Student' se aplica cuando la población estudiada sigue una \n",
    "    distribución normal pero el tamaño muestral es demasiado pequeño como para \n",
    "    que el estadístico en el que está basada la inferencia esté normalmente \n",
    "    distribuido, utilizándose una estimación de la desviación típica en lugar del \n",
    "    valor real. Es utilizado en análisis discriminante.\n",
    "    \n",
    "    Calculate the T-test for the means of two independent samples of scores.\n",
    "\n",
    "    This is a two-sided test for the null hypothesis that 2 independent samples\n",
    "    have identical average (expected) values. This test assumes that the populations\n",
    "    have identical variances by default.\n",
    "    \n",
    "    Args:\n",
    "        s1 (dataframe): sample 1\n",
    "        s2 (dataframe): sample 2\n",
    "        features (list): an array of features to test\n",
    "    \n",
    "    Returns:\n",
    "        dict: a dictionary of t-test scores for each feature where the feature name\n",
    "        is the key and the p-value is the value\n",
    "    \"\"\"\n",
    "    \n",
    "    results = {}\n",
    "    \n",
    "    # Your code here\n",
    "    \n",
    "    for feat in features:\n",
    "        c = sp.ttest_ind(s1[feat], s2[feat])[1]\n",
    "        results[feat] = hipotesis_result(c,conf)\n",
    "    \n",
    "    return results\n"
   ]
  },
  {
   "cell_type": "code",
   "execution_count": 307,
   "metadata": {
    "ExecuteTime": {
     "end_time": "2020-03-27T16:34:46.062283Z",
     "start_time": "2020-03-27T16:34:46.014293Z"
    }
   },
   "outputs": [],
   "source": [
    "def poly_reg (country, days_predict):\n",
    "    \n",
    "    \"\"\"\n",
    "    La regresión polinómica es una predicción de una variable de \n",
    "    respuesta cuantitativa a partir de una variable predictora \n",
    "    cuantitativa, donde la relación se modela como una función \n",
    "    polinomial de orden n.\n",
    "    \n",
    "    Args:\n",
    "        country: país a predecir\n",
    "        days_predict: hasta que día\n",
    "\n",
    "    \n",
    "    Returns:\n",
    "        plot con la predicción.\n",
    "        \n",
    "    \"\"\"\n",
    "    \n",
    "    selection = df_countries[df_countries['country'] == country]\n",
    "    X = selection['days_confirmed'].values\n",
    "    y = selection['deaths'].values\n",
    "    mymodel = np.poly1d(np.polyfit(X, y, 3))\n",
    "    myline = np.linspace(1, days_predict, 100)\n",
    "    plt.plot(myline, mymodel(myline))\n",
    "    plt.scatter(X,y)\n",
    "    plt.show()"
   ]
  },
  {
   "cell_type": "markdown",
   "metadata": {},
   "source": [
    "## 9.1. España vs Italia"
   ]
  },
  {
   "cell_type": "code",
   "execution_count": 132,
   "metadata": {
    "ExecuteTime": {
     "end_time": "2020-03-27T10:06:24.298652Z",
     "start_time": "2020-03-27T10:06:24.280682Z"
    }
   },
   "outputs": [
    {
     "data": {
      "text/html": [
       "<div>\n",
       "<style scoped>\n",
       "    .dataframe tbody tr th:only-of-type {\n",
       "        vertical-align: middle;\n",
       "    }\n",
       "\n",
       "    .dataframe tbody tr th {\n",
       "        vertical-align: top;\n",
       "    }\n",
       "\n",
       "    .dataframe thead th {\n",
       "        text-align: right;\n",
       "    }\n",
       "</style>\n",
       "<table border=\"1\" class=\"dataframe\">\n",
       "  <thead>\n",
       "    <tr style=\"text-align: right;\">\n",
       "      <th>status</th>\n",
       "      <th>date</th>\n",
       "      <th>continent</th>\n",
       "      <th>country</th>\n",
       "      <th>days_confirmed</th>\n",
       "      <th>days_death</th>\n",
       "      <th>days_recovered</th>\n",
       "      <th>confirmed</th>\n",
       "      <th>deaths</th>\n",
       "      <th>recovered</th>\n",
       "      <th>existing</th>\n",
       "      <th>estimated</th>\n",
       "    </tr>\n",
       "  </thead>\n",
       "  <tbody>\n",
       "    <tr>\n",
       "      <td>0</td>\n",
       "      <td>2020-01-22</td>\n",
       "      <td>Asia</td>\n",
       "      <td>China</td>\n",
       "      <td>1</td>\n",
       "      <td>1</td>\n",
       "      <td>0</td>\n",
       "      <td>548</td>\n",
       "      <td>17</td>\n",
       "      <td>28</td>\n",
       "      <td>503</td>\n",
       "      <td>54252</td>\n",
       "    </tr>\n",
       "    <tr>\n",
       "      <td>1</td>\n",
       "      <td>2020-01-23</td>\n",
       "      <td>Asia</td>\n",
       "      <td>China</td>\n",
       "      <td>2</td>\n",
       "      <td>2</td>\n",
       "      <td>0</td>\n",
       "      <td>643</td>\n",
       "      <td>18</td>\n",
       "      <td>30</td>\n",
       "      <td>595</td>\n",
       "      <td>63657</td>\n",
       "    </tr>\n",
       "    <tr>\n",
       "      <td>2</td>\n",
       "      <td>2020-01-24</td>\n",
       "      <td>Asia</td>\n",
       "      <td>China</td>\n",
       "      <td>3</td>\n",
       "      <td>3</td>\n",
       "      <td>0</td>\n",
       "      <td>920</td>\n",
       "      <td>26</td>\n",
       "      <td>36</td>\n",
       "      <td>858</td>\n",
       "      <td>91080</td>\n",
       "    </tr>\n",
       "    <tr>\n",
       "      <td>3</td>\n",
       "      <td>2020-01-25</td>\n",
       "      <td>Asia</td>\n",
       "      <td>China</td>\n",
       "      <td>4</td>\n",
       "      <td>4</td>\n",
       "      <td>0</td>\n",
       "      <td>1406</td>\n",
       "      <td>42</td>\n",
       "      <td>39</td>\n",
       "      <td>1325</td>\n",
       "      <td>139194</td>\n",
       "    </tr>\n",
       "    <tr>\n",
       "      <td>4</td>\n",
       "      <td>2020-01-26</td>\n",
       "      <td>Asia</td>\n",
       "      <td>China</td>\n",
       "      <td>5</td>\n",
       "      <td>5</td>\n",
       "      <td>0</td>\n",
       "      <td>2075</td>\n",
       "      <td>56</td>\n",
       "      <td>49</td>\n",
       "      <td>1970</td>\n",
       "      <td>205425</td>\n",
       "    </tr>\n",
       "  </tbody>\n",
       "</table>\n",
       "</div>"
      ],
      "text/plain": [
       "status       date continent country  days_confirmed  days_death  \\\n",
       "0      2020-01-22      Asia   China               1           1   \n",
       "1      2020-01-23      Asia   China               2           2   \n",
       "2      2020-01-24      Asia   China               3           3   \n",
       "3      2020-01-25      Asia   China               4           4   \n",
       "4      2020-01-26      Asia   China               5           5   \n",
       "\n",
       "status  days_recovered  confirmed  deaths  recovered  existing  estimated  \n",
       "0                    0        548      17         28       503      54252  \n",
       "1                    0        643      18         30       595      63657  \n",
       "2                    0        920      26         36       858      91080  \n",
       "3                    0       1406      42         39      1325     139194  \n",
       "4                    0       2075      56         49      1970     205425  "
      ]
     },
     "execution_count": 132,
     "metadata": {},
     "output_type": "execute_result"
    }
   ],
   "source": [
    "df_countries.head()"
   ]
  },
  {
   "cell_type": "code",
   "execution_count": 129,
   "metadata": {
    "ExecuteTime": {
     "end_time": "2020-03-27T10:02:51.069878Z",
     "start_time": "2020-03-27T10:02:51.023341Z"
    }
   },
   "outputs": [
    {
     "data": {
      "text/html": [
       "<div>\n",
       "<style scoped>\n",
       "    .dataframe tbody tr th:only-of-type {\n",
       "        vertical-align: middle;\n",
       "    }\n",
       "\n",
       "    .dataframe tbody tr th {\n",
       "        vertical-align: top;\n",
       "    }\n",
       "\n",
       "    .dataframe thead th {\n",
       "        text-align: right;\n",
       "    }\n",
       "</style>\n",
       "<table border=\"1\" class=\"dataframe\">\n",
       "  <thead>\n",
       "    <tr style=\"text-align: right;\">\n",
       "      <th>status</th>\n",
       "      <th>date</th>\n",
       "      <th>continent</th>\n",
       "      <th>country</th>\n",
       "      <th>confirmed</th>\n",
       "      <th>deaths</th>\n",
       "      <th>recovered</th>\n",
       "      <th>existing</th>\n",
       "      <th>estimated</th>\n",
       "      <th>days_confirmed</th>\n",
       "      <th>days_death</th>\n",
       "      <th>days_recovered</th>\n",
       "    </tr>\n",
       "  </thead>\n",
       "  <tbody>\n",
       "    <tr>\n",
       "      <td>3484</td>\n",
       "      <td>2020-03-02</td>\n",
       "      <td>Europe</td>\n",
       "      <td>Spain</td>\n",
       "      <td>120</td>\n",
       "      <td>0</td>\n",
       "      <td>2</td>\n",
       "      <td>118</td>\n",
       "      <td>11880</td>\n",
       "      <td>1</td>\n",
       "      <td>0</td>\n",
       "      <td>0</td>\n",
       "    </tr>\n",
       "    <tr>\n",
       "      <td>3485</td>\n",
       "      <td>2020-03-03</td>\n",
       "      <td>Europe</td>\n",
       "      <td>Spain</td>\n",
       "      <td>165</td>\n",
       "      <td>1</td>\n",
       "      <td>2</td>\n",
       "      <td>162</td>\n",
       "      <td>16335</td>\n",
       "      <td>2</td>\n",
       "      <td>0</td>\n",
       "      <td>0</td>\n",
       "    </tr>\n",
       "    <tr>\n",
       "      <td>3486</td>\n",
       "      <td>2020-03-04</td>\n",
       "      <td>Europe</td>\n",
       "      <td>Spain</td>\n",
       "      <td>222</td>\n",
       "      <td>2</td>\n",
       "      <td>2</td>\n",
       "      <td>218</td>\n",
       "      <td>21978</td>\n",
       "      <td>3</td>\n",
       "      <td>0</td>\n",
       "      <td>0</td>\n",
       "    </tr>\n",
       "    <tr>\n",
       "      <td>3487</td>\n",
       "      <td>2020-03-05</td>\n",
       "      <td>Europe</td>\n",
       "      <td>Spain</td>\n",
       "      <td>259</td>\n",
       "      <td>3</td>\n",
       "      <td>2</td>\n",
       "      <td>254</td>\n",
       "      <td>25641</td>\n",
       "      <td>4</td>\n",
       "      <td>0</td>\n",
       "      <td>0</td>\n",
       "    </tr>\n",
       "    <tr>\n",
       "      <td>3488</td>\n",
       "      <td>2020-03-06</td>\n",
       "      <td>Europe</td>\n",
       "      <td>Spain</td>\n",
       "      <td>400</td>\n",
       "      <td>5</td>\n",
       "      <td>2</td>\n",
       "      <td>393</td>\n",
       "      <td>39600</td>\n",
       "      <td>5</td>\n",
       "      <td>0</td>\n",
       "      <td>0</td>\n",
       "    </tr>\n",
       "  </tbody>\n",
       "</table>\n",
       "</div>"
      ],
      "text/plain": [
       "status       date continent country  confirmed  deaths  recovered  existing  \\\n",
       "3484   2020-03-02    Europe   Spain        120       0          2       118   \n",
       "3485   2020-03-03    Europe   Spain        165       1          2       162   \n",
       "3486   2020-03-04    Europe   Spain        222       2          2       218   \n",
       "3487   2020-03-05    Europe   Spain        259       3          2       254   \n",
       "3488   2020-03-06    Europe   Spain        400       5          2       393   \n",
       "\n",
       "status  estimated  days_confirmed  days_death  days_recovered  \n",
       "3484        11880               1           0               0  \n",
       "3485        16335               2           0               0  \n",
       "3486        21978               3           0               0  \n",
       "3487        25641               4           0               0  \n",
       "3488        39600               5           0               0  "
      ]
     },
     "execution_count": 129,
     "metadata": {},
     "output_type": "execute_result"
    }
   ],
   "source": [
    "corona_spain = df_countries[df_countries['country'] == \"Spain\"]\n",
    "corona_spain = corona_spain[corona_spain['days_confirmed']>=1]\n",
    "corona_it = df_countries[df_countries['country'] == \"Italy\"]\n",
    "corona_it = corona_it[corona_it['days_confirmed']>=1]\n",
    "corona_spain.head()"
   ]
  },
  {
   "cell_type": "code",
   "execution_count": 89,
   "metadata": {
    "ExecuteTime": {
     "end_time": "2020-03-26T19:27:38.755734Z",
     "start_time": "2020-03-26T19:27:38.649385Z"
    }
   },
   "outputs": [
    {
     "data": {
      "text/plain": [
       "{'confirmed': 'No se rechaza la hipótesis nula (H0). Nuestro p-valor 0.13110240172058826 es mayor a nuestra α 0.05',\n",
       " 'deaths': 'Se rechaza la hipótesis nula (H0). Nuestro p-valor 0.043461739467453776 es menor a nuestra α 0.05',\n",
       " 'recovered': 'No se rechaza la hipótesis nula (H0). Nuestro p-valor 0.0719768329930994 es mayor a nuestra α 0.05',\n",
       " 'existing': 'No se rechaza la hipótesis nula (H0). Nuestro p-valor 0.16086768854298347 es mayor a nuestra α 0.05',\n",
       " 'estimated': 'No se rechaza la hipótesis nula (H0). Nuestro p-valor 0.1311024017205883 es mayor a nuestra α 0.05'}"
      ]
     },
     "execution_count": 89,
     "metadata": {},
     "output_type": "execute_result"
    }
   ],
   "source": [
    "t_test_features(corona_spain,corona_it, 0.95)"
   ]
  },
  {
   "cell_type": "code",
   "execution_count": 306,
   "metadata": {
    "ExecuteTime": {
     "end_time": "2020-03-27T16:34:40.885160Z",
     "start_time": "2020-03-27T16:34:40.509936Z"
    }
   },
   "outputs": [
    {
     "data": {
      "image/png": "[encoded data removed]",
      "text/plain": [
       "<Figure size 432x288 with 1 Axes>"
      ]
     },
     "metadata": {
      "needs_background": "light"
     },
     "output_type": "display_data"
    },
    {
     "ename": "NameError",
     "evalue": "name 'r2_score' is not defined",
     "output_type": "error",
     "traceback": [
      "\u001b[0;31m---------------------------------------------------------------------------\u001b[0m",
      "\u001b[0;31mNameError\u001b[0m                                 Traceback (most recent call last)",
      "\u001b[0;32m<ipython-input-306-1dabde89d20f>\u001b[0m in \u001b[0;36m<module>\u001b[0;34m\u001b[0m\n\u001b[0;32m----> 1\u001b[0;31m \u001b[0mpoly_reg\u001b[0m\u001b[0;34m(\u001b[0m\u001b[0;34m\"Italy\"\u001b[0m\u001b[0;34m,\u001b[0m \u001b[0;36m40\u001b[0m\u001b[0;34m)\u001b[0m\u001b[0;34m\u001b[0m\u001b[0;34m\u001b[0m\u001b[0m\n\u001b[0m\u001b[1;32m      2\u001b[0m \u001b[0mpoly_reg\u001b[0m\u001b[0;34m(\u001b[0m\u001b[0;34m\"Spain\"\u001b[0m\u001b[0;34m,\u001b[0m \u001b[0;36m40\u001b[0m\u001b[0;34m)\u001b[0m\u001b[0;34m\u001b[0m\u001b[0;34m\u001b[0m\u001b[0m\n",
      "\u001b[0;32m<ipython-input-297-11708f02ce87>\u001b[0m in \u001b[0;36mpoly_reg\u001b[0;34m(country, days_predict)\u001b[0m\n\u001b[1;32m      8\u001b[0m     \u001b[0mplt\u001b[0m\u001b[0;34m.\u001b[0m\u001b[0mscatter\u001b[0m\u001b[0;34m(\u001b[0m\u001b[0mX\u001b[0m\u001b[0;34m,\u001b[0m\u001b[0my\u001b[0m\u001b[0;34m)\u001b[0m\u001b[0;34m\u001b[0m\u001b[0;34m\u001b[0m\u001b[0m\n\u001b[1;32m      9\u001b[0m     \u001b[0mplt\u001b[0m\u001b[0;34m.\u001b[0m\u001b[0mshow\u001b[0m\u001b[0;34m(\u001b[0m\u001b[0;34m)\u001b[0m\u001b[0;34m\u001b[0m\u001b[0;34m\u001b[0m\u001b[0m\n\u001b[0;32m---> 10\u001b[0;31m     \u001b[0mprint\u001b[0m\u001b[0;34m(\u001b[0m\u001b[0mr2_score\u001b[0m\u001b[0;34m(\u001b[0m\u001b[0my\u001b[0m\u001b[0;34m,\u001b[0m \u001b[0mmymodel\u001b[0m\u001b[0;34m(\u001b[0m\u001b[0mx\u001b[0m\u001b[0;34m)\u001b[0m\u001b[0;34m)\u001b[0m\u001b[0;34m)\u001b[0m\u001b[0;34m\u001b[0m\u001b[0;34m\u001b[0m\u001b[0m\n\u001b[0m",
      "\u001b[0;31mNameError\u001b[0m: name 'r2_score' is not defined"
     ]
    }
   ],
   "source": [
    "poly_reg(\"Italy\", 40)\n",
    "poly_reg(\"Spain\", 40)"
   ]
  },
  {
   "cell_type": "code",
   "execution_count": null,
   "metadata": {},
   "outputs": [],
   "source": []
  }
 ],
 "metadata": {
  "kernelspec": {
   "display_name": "Python 3",
   "language": "python",
   "name": "python3"
  },
  "language_info": {
   "codemirror_mode": {
    "name": "ipython",
    "version": 3
   },
   "file_extension": ".py",
   "mimetype": "text/x-python",
   "name": "python",
   "nbconvert_exporter": "python",
   "pygments_lexer": "ipython3",
   "version": "3.7.4"
  },
  "latex_envs": {
   "LaTeX_envs_menu_present": true,
   "autoclose": false,
   "autocomplete": true,
   "bibliofile": "biblio.bib",
   "cite_by": "apalike",
   "current_citInitial": 1,
   "eqLabelWithNumbers": true,
   "eqNumInitial": 1,
   "hotkeys": {
    "equation": "Ctrl-E",
    "itemize": "Ctrl-I"
   },
   "labels_anchors": false,
   "latex_user_defs": false,
   "report_style_numbering": false,
   "user_envs_cfg": false
  },
  "toc": {
   "base_numbering": 1,
   "nav_menu": {},
   "number_sections": false,
   "sideBar": true,
   "skip_h1_title": false,
   "title_cell": "Table of Contents",
   "title_sidebar": "Contents",
   "toc_cell": false,
   "toc_position": {},
   "toc_section_display": true,
   "toc_window_display": false
  },
  "varInspector": {
   "cols": {
    "lenName": 16,
    "lenType": 16,
    "lenVar": 40
   },
   "kernels_config": {
    "python": {
     "delete_cmd_postfix": "",
     "delete_cmd_prefix": "del ",
     "library": "var_list.py",
     "varRefreshCmd": "print(var_dic_list())"
    },
    "r": {
     "delete_cmd_postfix": ") ",
     "delete_cmd_prefix": "rm(",
     "library": "var_list.r",
     "varRefreshCmd": "cat(var_dic_list()) "
    }
   },
   "types_to_exclude": [
    "module",
    "function",
    "builtin_function_or_method",
    "instance",
    "_Feature"
   ],
   "window_display": false
  }
 },
 "nbformat": 4,
 "nbformat_minor": 4
}
