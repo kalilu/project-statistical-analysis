{
 "cells": [
  {
   "cell_type": "markdown",
   "metadata": {},
   "source": [
    "# Project Statistical Analysis"
   ]
  },
  {
   "cell_type": "markdown",
   "metadata": {},
   "source": [
    "Karla y Mar\n",
    "\n",
    "*Data Part Time Barcelona Dic 2019*\n",
    "\n",
    "<img src=\"./img/5530085.jpeg\" width=\"1000\"> "
   ]
  },
  {
   "cell_type": "markdown",
   "metadata": {},
   "source": [
    "# 1. Importamos librería"
   ]
  },
  {
   "cell_type": "code",
   "execution_count": 37,
   "metadata": {
    "ExecuteTime": {
     "end_time": "2020-03-28T12:32:18.191587Z",
     "start_time": "2020-03-28T12:32:17.997599Z"
    }
   },
   "outputs": [
    {
     "data": {
      "text/html": [
       "        <script type=\"text/javascript\">\n",
       "        window.PlotlyConfig = {MathJaxConfig: 'local'};\n",
       "        if (window.MathJax) {MathJax.Hub.Config({SVG: {font: \"STIX-Web\"}});}\n",
       "        if (typeof require !== 'undefined') {\n",
       "        require.undef(\"plotly\");\n",
       "        requirejs.config({\n",
       "            paths: {\n",
       "                'plotly': ['https://cdn.plot.ly/plotly-latest.min']\n",
       "            }\n",
       "        });\n",
       "        require(['plotly'], function(Plotly) {\n",
       "            window._Plotly = Plotly;\n",
       "        });\n",
       "        }\n",
       "        </script>\n",
       "        "
      ]
     },
     "metadata": {},
     "output_type": "display_data"
    }
   ],
   "source": [
    "import pandas as pd\n",
    "import chart_studio.plotly as py\n",
    "from plotly.subplots import make_subplots\n",
    "import plotly.graph_objects as go\n",
    "import cufflinks as cf\n",
    "from datetime import datetime\n",
    "from ipywidgets import interact\n",
    "import ipywidgets as wdg\n",
    "import numpy as np\n",
    "import scipy.stats as sp\n",
    "import seaborn as sns\n",
    "import numpy as np\n",
    "import plotly.express as px\n",
    "import matplotlib.pyplot as plt\n",
    "import warnings\n",
    "import cartopy\n",
    "warnings.filterwarnings('ignore')\n",
    "import plotly.offline as off\n",
    "import json\n",
    "import requests\n",
    "from pandas.io.json import json_normalize\n",
    "import re\n",
    "from sklearn.model_selection import train_test_split\n",
    "from sklearn.linear_model import LinearRegression\n",
    "from sklearn.preprocessing import LabelEncoder, OneHotEncoder\n",
    "from scipy.optimize import curve_fit\n",
    "from scipy.integrate import odeint\n",
    "cf.go_offline()"
   ]
  },
  {
   "cell_type": "markdown",
   "metadata": {},
   "source": [
    "# 2. Importamos datos"
   ]
  },
  {
   "cell_type": "markdown",
   "metadata": {},
   "source": [
    "## 2.1. API datos coronavirus a nivel mundial"
   ]
  },
  {
   "cell_type": "code",
   "execution_count": 6,
   "metadata": {
    "ExecuteTime": {
     "end_time": "2020-03-28T12:22:03.463281Z",
     "start_time": "2020-03-28T12:21:56.807214Z"
    }
   },
   "outputs": [
    {
     "data": {
      "text/html": [
       "<div>\n",
       "<style scoped>\n",
       "    .dataframe tbody tr th:only-of-type {\n",
       "        vertical-align: middle;\n",
       "    }\n",
       "\n",
       "    .dataframe tbody tr th {\n",
       "        vertical-align: top;\n",
       "    }\n",
       "\n",
       "    .dataframe thead th {\n",
       "        text-align: right;\n",
       "    }\n",
       "</style>\n",
       "<table border=\"1\" class=\"dataframe\">\n",
       "  <thead>\n",
       "    <tr style=\"text-align: right;\">\n",
       "      <th></th>\n",
       "      <th>Country</th>\n",
       "      <th>Province</th>\n",
       "      <th>Lat</th>\n",
       "      <th>Lon</th>\n",
       "      <th>Date</th>\n",
       "      <th>Cases</th>\n",
       "      <th>Status</th>\n",
       "    </tr>\n",
       "  </thead>\n",
       "  <tbody>\n",
       "    <tr>\n",
       "      <th>0</th>\n",
       "      <td></td>\n",
       "      <td></td>\n",
       "      <td>0.0</td>\n",
       "      <td>0.0</td>\n",
       "      <td>0001-01-01T00:00:00Z</td>\n",
       "      <td>0</td>\n",
       "      <td></td>\n",
       "    </tr>\n",
       "    <tr>\n",
       "      <th>1</th>\n",
       "      <td>Azerbaijan</td>\n",
       "      <td></td>\n",
       "      <td>0.0</td>\n",
       "      <td>0.0</td>\n",
       "      <td>2020-02-28T00:00:00Z</td>\n",
       "      <td>1</td>\n",
       "      <td>confirmed</td>\n",
       "    </tr>\n",
       "    <tr>\n",
       "      <th>2</th>\n",
       "      <td>Azerbaijan</td>\n",
       "      <td></td>\n",
       "      <td>0.0</td>\n",
       "      <td>0.0</td>\n",
       "      <td>2020-02-28T00:00:00Z</td>\n",
       "      <td>0</td>\n",
       "      <td>recovered</td>\n",
       "    </tr>\n",
       "    <tr>\n",
       "      <th>3</th>\n",
       "      <td>Azerbaijan</td>\n",
       "      <td></td>\n",
       "      <td>0.0</td>\n",
       "      <td>0.0</td>\n",
       "      <td>2020-02-28T00:00:00Z</td>\n",
       "      <td>0</td>\n",
       "      <td>deaths</td>\n",
       "    </tr>\n",
       "    <tr>\n",
       "      <th>4</th>\n",
       "      <td>Afghanistan</td>\n",
       "      <td></td>\n",
       "      <td>33.0</td>\n",
       "      <td>65.0</td>\n",
       "      <td>2020-02-24T00:00:00Z</td>\n",
       "      <td>1</td>\n",
       "      <td>confirmed</td>\n",
       "    </tr>\n",
       "  </tbody>\n",
       "</table>\n",
       "</div>"
      ],
      "text/plain": [
       "       Country Province   Lat   Lon                  Date  Cases     Status\n",
       "0                         0.0   0.0  0001-01-01T00:00:00Z      0           \n",
       "1   Azerbaijan            0.0   0.0  2020-02-28T00:00:00Z      1  confirmed\n",
       "2   Azerbaijan            0.0   0.0  2020-02-28T00:00:00Z      0  recovered\n",
       "3   Azerbaijan            0.0   0.0  2020-02-28T00:00:00Z      0     deaths\n",
       "4  Afghanistan           33.0  65.0  2020-02-24T00:00:00Z      1  confirmed"
      ]
     },
     "execution_count": 6,
     "metadata": {},
     "output_type": "execute_result"
    }
   ],
   "source": [
    "url='https://api.covid19api.com/all'\n",
    "response = requests.get(url, headers={\"user-agent\":\"Mozilla/5.0 (Windows NT 10.0; Win64; x64) AppleWebKit/537.36 (KHTML, like Gecko) Chrome/79.0.3945.130 Safari/537.36\"})\n",
    "result=response.json()\n",
    "df_coronavirus_raw = pd.DataFrame()\n",
    "df_coronavirus_raw = json_normalize(result)\n",
    "df_coronavirus_raw.head()"
   ]
  },
  {
   "cell_type": "markdown",
   "metadata": {},
   "source": [
    "## 2.2. Continents by country"
   ]
  },
  {
   "cell_type": "code",
   "execution_count": 7,
   "metadata": {
    "ExecuteTime": {
     "end_time": "2020-03-28T12:22:05.929786Z",
     "start_time": "2020-03-28T12:22:05.893827Z"
    }
   },
   "outputs": [
    {
     "data": {
      "text/html": [
       "<div>\n",
       "<style scoped>\n",
       "    .dataframe tbody tr th:only-of-type {\n",
       "        vertical-align: middle;\n",
       "    }\n",
       "\n",
       "    .dataframe tbody tr th {\n",
       "        vertical-align: top;\n",
       "    }\n",
       "\n",
       "    .dataframe thead th {\n",
       "        text-align: right;\n",
       "    }\n",
       "</style>\n",
       "<table border=\"1\" class=\"dataframe\">\n",
       "  <thead>\n",
       "    <tr style=\"text-align: right;\">\n",
       "      <th></th>\n",
       "      <th>CountryName</th>\n",
       "      <th>CapitalName</th>\n",
       "      <th>CapitalLatitude</th>\n",
       "      <th>CapitalLongitude</th>\n",
       "      <th>CountryCode</th>\n",
       "      <th>ContinentName</th>\n",
       "    </tr>\n",
       "  </thead>\n",
       "  <tbody>\n",
       "    <tr>\n",
       "      <th>0</th>\n",
       "      <td>Somaliland</td>\n",
       "      <td>Hargeisa</td>\n",
       "      <td>9.550000</td>\n",
       "      <td>44.050000</td>\n",
       "      <td>NaN</td>\n",
       "      <td>Africa</td>\n",
       "    </tr>\n",
       "    <tr>\n",
       "      <th>1</th>\n",
       "      <td>South Georgia and South Sandwich Islands</td>\n",
       "      <td>King Edward Point</td>\n",
       "      <td>-54.283333</td>\n",
       "      <td>-36.500000</td>\n",
       "      <td>GS</td>\n",
       "      <td>Antarctica</td>\n",
       "    </tr>\n",
       "    <tr>\n",
       "      <th>2</th>\n",
       "      <td>French Southern and Antarctic Lands</td>\n",
       "      <td>Port-aux-Français</td>\n",
       "      <td>-49.350000</td>\n",
       "      <td>70.216667</td>\n",
       "      <td>TF</td>\n",
       "      <td>Antarctica</td>\n",
       "    </tr>\n",
       "    <tr>\n",
       "      <th>3</th>\n",
       "      <td>Palestine</td>\n",
       "      <td>Jerusalem</td>\n",
       "      <td>31.766667</td>\n",
       "      <td>35.233333</td>\n",
       "      <td>PS</td>\n",
       "      <td>Asia</td>\n",
       "    </tr>\n",
       "    <tr>\n",
       "      <th>4</th>\n",
       "      <td>Aland Islands</td>\n",
       "      <td>Mariehamn</td>\n",
       "      <td>60.116667</td>\n",
       "      <td>19.900000</td>\n",
       "      <td>AX</td>\n",
       "      <td>Europe</td>\n",
       "    </tr>\n",
       "  </tbody>\n",
       "</table>\n",
       "</div>"
      ],
      "text/plain": [
       "                                CountryName        CapitalName  \\\n",
       "0                                Somaliland           Hargeisa   \n",
       "1  South Georgia and South Sandwich Islands  King Edward Point   \n",
       "2       French Southern and Antarctic Lands  Port-aux-Français   \n",
       "3                                 Palestine          Jerusalem   \n",
       "4                             Aland Islands          Mariehamn   \n",
       "\n",
       "   CapitalLatitude  CapitalLongitude CountryCode ContinentName  \n",
       "0         9.550000         44.050000         NaN        Africa  \n",
       "1       -54.283333        -36.500000          GS    Antarctica  \n",
       "2       -49.350000         70.216667          TF    Antarctica  \n",
       "3        31.766667         35.233333          PS          Asia  \n",
       "4        60.116667         19.900000          AX        Europe  "
      ]
     },
     "execution_count": 7,
     "metadata": {},
     "output_type": "execute_result"
    }
   ],
   "source": [
    "df_continents = pd.read_csv('./data/concap.csv')\n",
    "df_continents.head()"
   ]
  },
  {
   "cell_type": "markdown",
   "metadata": {},
   "source": [
    "## 2.3. Join corinavirus info and continent info"
   ]
  },
  {
   "cell_type": "code",
   "execution_count": 8,
   "metadata": {
    "ExecuteTime": {
     "end_time": "2020-03-28T12:22:10.886551Z",
     "start_time": "2020-03-28T12:22:10.741425Z"
    }
   },
   "outputs": [],
   "source": [
    "# Clean some countries before merge\n",
    "df_coronavirus_raw.loc[df_coronavirus_raw['Country']=='Brunei', 'Country']='Brunei Darussalam'\n",
    "df_coronavirus_raw.loc[df_coronavirus_raw['Country']=='Czechia', 'Country']='Czech Republic'\n",
    "df_coronavirus_raw.loc[df_coronavirus_raw['Country']=='Hong Kong SAR', 'Country']='Hong Kong'\n",
    "df_coronavirus_raw.loc[df_coronavirus_raw['Country']=='Iran (Islamic Republic of)', 'Country']='Iran'\n",
    "df_coronavirus_raw.loc[df_coronavirus_raw['Country']=='Korea, South', 'Country']='South Korea'\n",
    "df_coronavirus_raw.loc[df_coronavirus_raw['Country']=='North Macedonia', 'Country']='Macedonia'\n",
    "df_coronavirus_raw.loc[df_coronavirus_raw['Country']=='Republic of Korea', 'Country']='North Korea'\n",
    "df_coronavirus_raw.loc[df_coronavirus_raw['Country']=='Taiwan*', 'Country']='Taiwan'\n",
    "df_coronavirus_raw.loc[df_coronavirus_raw['Country']=='US', 'Country']='United States'"
   ]
  },
  {
   "cell_type": "code",
   "execution_count": 9,
   "metadata": {
    "ExecuteTime": {
     "end_time": "2020-03-28T12:22:15.239554Z",
     "start_time": "2020-03-28T12:22:15.130848Z"
    }
   },
   "outputs": [],
   "source": [
    "df_coronavirus_raw = df_coronavirus_raw.merge(df_continents, left_on='Country', right_on='CountryName', how='left')"
   ]
  },
  {
   "cell_type": "markdown",
   "metadata": {},
   "source": [
    "## 2.4. Regional information"
   ]
  },
  {
   "cell_type": "code",
   "execution_count": 21,
   "metadata": {
    "ExecuteTime": {
     "end_time": "2020-03-26T21:26:30.038411Z",
     "start_time": "2020-03-26T21:26:29.250439Z"
    }
   },
   "outputs": [],
   "source": [
    "url='https://api.covid19tracking.narrativa.com/api/2020-03-24'\n",
    "response = requests.get(url, headers={\"user-agent\":\"Mozilla/5.0 (Windows NT 10.0; Win64; x64) AppleWebKit/537.36 (KHTML, like Gecko) Chrome/79.0.3945.130 Safari/537.36\"})\n",
    "result=response.json()"
   ]
  },
  {
   "cell_type": "code",
   "execution_count": 41,
   "metadata": {
    "ExecuteTime": {
     "end_time": "2020-03-28T12:37:10.717223Z",
     "start_time": "2020-03-28T12:37:10.413486Z"
    }
   },
   "outputs": [
    {
     "data": {
      "text/html": [
       "<div>\n",
       "<style scoped>\n",
       "    .dataframe tbody tr th:only-of-type {\n",
       "        vertical-align: middle;\n",
       "    }\n",
       "\n",
       "    .dataframe tbody tr th {\n",
       "        vertical-align: top;\n",
       "    }\n",
       "\n",
       "    .dataframe thead th {\n",
       "        text-align: right;\n",
       "    }\n",
       "</style>\n",
       "<table border=\"1\" class=\"dataframe\">\n",
       "  <thead>\n",
       "    <tr style=\"text-align: right;\">\n",
       "      <th></th>\n",
       "      <th>date</th>\n",
       "      <th>region_code</th>\n",
       "      <th>region</th>\n",
       "      <th>country</th>\n",
       "      <th>population</th>\n",
       "      <th>cases_registered</th>\n",
       "      <th>cases_per_100000</th>\n",
       "      <th>intensive_care</th>\n",
       "      <th>intensive_care_per_1000000</th>\n",
       "      <th>deceassed</th>\n",
       "      <th>deceassed_per_100000</th>\n",
       "      <th>recovered</th>\n",
       "      <th>recovered_per_100000</th>\n",
       "    </tr>\n",
       "  </thead>\n",
       "  <tbody>\n",
       "    <tr>\n",
       "      <th>0</th>\n",
       "      <td>2020-02-27</td>\n",
       "      <td>1</td>\n",
       "      <td>Andalucía</td>\n",
       "      <td>Spain</td>\n",
       "      <td>8414240</td>\n",
       "      <td>1</td>\n",
       "      <td>0.01</td>\n",
       "      <td>NaN</td>\n",
       "      <td>NaN</td>\n",
       "      <td>NaN</td>\n",
       "      <td>NaN</td>\n",
       "      <td>NaN</td>\n",
       "      <td>NaN</td>\n",
       "    </tr>\n",
       "    <tr>\n",
       "      <th>1</th>\n",
       "      <td>2020-02-28</td>\n",
       "      <td>1</td>\n",
       "      <td>Andalucía</td>\n",
       "      <td>Spain</td>\n",
       "      <td>8414240</td>\n",
       "      <td>6</td>\n",
       "      <td>0.07</td>\n",
       "      <td>NaN</td>\n",
       "      <td>NaN</td>\n",
       "      <td>NaN</td>\n",
       "      <td>NaN</td>\n",
       "      <td>NaN</td>\n",
       "      <td>NaN</td>\n",
       "    </tr>\n",
       "    <tr>\n",
       "      <th>2</th>\n",
       "      <td>2020-02-29</td>\n",
       "      <td>1</td>\n",
       "      <td>Andalucía</td>\n",
       "      <td>Spain</td>\n",
       "      <td>8414240</td>\n",
       "      <td>8</td>\n",
       "      <td>0.10</td>\n",
       "      <td>NaN</td>\n",
       "      <td>NaN</td>\n",
       "      <td>NaN</td>\n",
       "      <td>NaN</td>\n",
       "      <td>NaN</td>\n",
       "      <td>NaN</td>\n",
       "    </tr>\n",
       "    <tr>\n",
       "      <th>3</th>\n",
       "      <td>2020-03-01</td>\n",
       "      <td>1</td>\n",
       "      <td>Andalucía</td>\n",
       "      <td>Spain</td>\n",
       "      <td>8414240</td>\n",
       "      <td>12</td>\n",
       "      <td>0.14</td>\n",
       "      <td>NaN</td>\n",
       "      <td>NaN</td>\n",
       "      <td>NaN</td>\n",
       "      <td>NaN</td>\n",
       "      <td>NaN</td>\n",
       "      <td>NaN</td>\n",
       "    </tr>\n",
       "    <tr>\n",
       "      <th>4</th>\n",
       "      <td>2020-03-02</td>\n",
       "      <td>1</td>\n",
       "      <td>Andalucía</td>\n",
       "      <td>Spain</td>\n",
       "      <td>8414240</td>\n",
       "      <td>12</td>\n",
       "      <td>0.14</td>\n",
       "      <td>NaN</td>\n",
       "      <td>NaN</td>\n",
       "      <td>NaN</td>\n",
       "      <td>NaN</td>\n",
       "      <td>NaN</td>\n",
       "      <td>NaN</td>\n",
       "    </tr>\n",
       "  </tbody>\n",
       "</table>\n",
       "</div>"
      ],
      "text/plain": [
       "         date  region_code     region country  population  cases_registered  \\\n",
       "0  2020-02-27            1  Andalucía   Spain     8414240                 1   \n",
       "1  2020-02-28            1  Andalucía   Spain     8414240                 6   \n",
       "2  2020-02-29            1  Andalucía   Spain     8414240                 8   \n",
       "3  2020-03-01            1  Andalucía   Spain     8414240                12   \n",
       "4  2020-03-02            1  Andalucía   Spain     8414240                12   \n",
       "\n",
       "   cases_per_100000  intensive_care  intensive_care_per_1000000  deceassed  \\\n",
       "0              0.01             NaN                         NaN        NaN   \n",
       "1              0.07             NaN                         NaN        NaN   \n",
       "2              0.10             NaN                         NaN        NaN   \n",
       "3              0.14             NaN                         NaN        NaN   \n",
       "4              0.14             NaN                         NaN        NaN   \n",
       "\n",
       "   deceassed_per_100000  recovered  recovered_per_100000  \n",
       "0                   NaN        NaN                   NaN  \n",
       "1                   NaN        NaN                   NaN  \n",
       "2                   NaN        NaN                   NaN  \n",
       "3                   NaN        NaN                   NaN  \n",
       "4                   NaN        NaN                   NaN  "
      ]
     },
     "execution_count": 41,
     "metadata": {},
     "output_type": "execute_result"
    }
   ],
   "source": [
    "#Datos de España\n",
    "path = 'https://code.montera34.com:4443/numeroteca/covid19/-/raw/master/data/output/covid19-cases-uci-deaths-by-ccaa-spain-by-day-accumulated.csv'\n",
    "df_spain_deceased = pd.read_csv(path, sep=',')\n",
    "df_spain_deceased.head()"
   ]
  },
  {
   "cell_type": "code",
   "execution_count": 192,
   "metadata": {
    "ExecuteTime": {
     "end_time": "2020-03-28T01:05:30.890271Z",
     "start_time": "2020-03-28T01:05:30.880299Z"
    }
   },
   "outputs": [
    {
     "name": "stdout",
     "output_type": "stream",
     "text": [
      "Spain    570\n",
      "Name: country, dtype: int64\n",
      "Italia    651\n",
      "Spain     532\n",
      "France    420\n",
      "Name: country, dtype: int64\n"
     ]
    }
   ],
   "source": [
    "print(df_spain_deceased.country.value_counts())\n",
    "print(df_sp_it_fr_conf.country.value_counts())"
   ]
  },
  {
   "cell_type": "code",
   "execution_count": 40,
   "metadata": {
    "ExecuteTime": {
     "end_time": "2020-03-28T12:37:05.984705Z",
     "start_time": "2020-03-28T12:37:05.461991Z"
    }
   },
   "outputs": [
    {
     "data": {
      "text/html": [
       "<div>\n",
       "<style scoped>\n",
       "    .dataframe tbody tr th:only-of-type {\n",
       "        vertical-align: middle;\n",
       "    }\n",
       "\n",
       "    .dataframe tbody tr th {\n",
       "        vertical-align: top;\n",
       "    }\n",
       "\n",
       "    .dataframe thead th {\n",
       "        text-align: right;\n",
       "    }\n",
       "</style>\n",
       "<table border=\"1\" class=\"dataframe\">\n",
       "  <thead>\n",
       "    <tr style=\"text-align: right;\">\n",
       "      <th></th>\n",
       "      <th>date</th>\n",
       "      <th>region_code</th>\n",
       "      <th>region</th>\n",
       "      <th>country</th>\n",
       "      <th>population</th>\n",
       "      <th>cases_registered</th>\n",
       "      <th>cases_per_100000</th>\n",
       "      <th>intensive_care</th>\n",
       "      <th>intensive_care_per_1000000</th>\n",
       "      <th>deceassed</th>\n",
       "      <th>deceassed_per_100000</th>\n",
       "      <th>recovered</th>\n",
       "      <th>recovered_per_100000</th>\n",
       "    </tr>\n",
       "  </thead>\n",
       "  <tbody>\n",
       "    <tr>\n",
       "      <th>0</th>\n",
       "      <td>2020-02-27</td>\n",
       "      <td>1.0</td>\n",
       "      <td>Andalucía</td>\n",
       "      <td>Spain</td>\n",
       "      <td>8414240.0</td>\n",
       "      <td>1.0</td>\n",
       "      <td>0.01</td>\n",
       "      <td>NaN</td>\n",
       "      <td>NaN</td>\n",
       "      <td>NaN</td>\n",
       "      <td>NaN</td>\n",
       "      <td>NaN</td>\n",
       "      <td>NaN</td>\n",
       "    </tr>\n",
       "    <tr>\n",
       "      <th>1</th>\n",
       "      <td>2020-02-28</td>\n",
       "      <td>1.0</td>\n",
       "      <td>Andalucía</td>\n",
       "      <td>Spain</td>\n",
       "      <td>8414240.0</td>\n",
       "      <td>6.0</td>\n",
       "      <td>0.07</td>\n",
       "      <td>NaN</td>\n",
       "      <td>NaN</td>\n",
       "      <td>NaN</td>\n",
       "      <td>NaN</td>\n",
       "      <td>NaN</td>\n",
       "      <td>NaN</td>\n",
       "    </tr>\n",
       "    <tr>\n",
       "      <th>2</th>\n",
       "      <td>2020-02-29</td>\n",
       "      <td>1.0</td>\n",
       "      <td>Andalucía</td>\n",
       "      <td>Spain</td>\n",
       "      <td>8414240.0</td>\n",
       "      <td>8.0</td>\n",
       "      <td>0.10</td>\n",
       "      <td>NaN</td>\n",
       "      <td>NaN</td>\n",
       "      <td>NaN</td>\n",
       "      <td>NaN</td>\n",
       "      <td>NaN</td>\n",
       "      <td>NaN</td>\n",
       "    </tr>\n",
       "    <tr>\n",
       "      <th>3</th>\n",
       "      <td>2020-03-01</td>\n",
       "      <td>1.0</td>\n",
       "      <td>Andalucía</td>\n",
       "      <td>Spain</td>\n",
       "      <td>8414240.0</td>\n",
       "      <td>12.0</td>\n",
       "      <td>0.14</td>\n",
       "      <td>NaN</td>\n",
       "      <td>NaN</td>\n",
       "      <td>NaN</td>\n",
       "      <td>NaN</td>\n",
       "      <td>NaN</td>\n",
       "      <td>NaN</td>\n",
       "    </tr>\n",
       "    <tr>\n",
       "      <th>4</th>\n",
       "      <td>2020-03-02</td>\n",
       "      <td>1.0</td>\n",
       "      <td>Andalucía</td>\n",
       "      <td>Spain</td>\n",
       "      <td>8414240.0</td>\n",
       "      <td>12.0</td>\n",
       "      <td>0.14</td>\n",
       "      <td>NaN</td>\n",
       "      <td>NaN</td>\n",
       "      <td>NaN</td>\n",
       "      <td>NaN</td>\n",
       "      <td>NaN</td>\n",
       "      <td>NaN</td>\n",
       "    </tr>\n",
       "  </tbody>\n",
       "</table>\n",
       "</div>"
      ],
      "text/plain": [
       "         date  region_code     region country  population  cases_registered  \\\n",
       "0  2020-02-27          1.0  Andalucía   Spain   8414240.0               1.0   \n",
       "1  2020-02-28          1.0  Andalucía   Spain   8414240.0               6.0   \n",
       "2  2020-02-29          1.0  Andalucía   Spain   8414240.0               8.0   \n",
       "3  2020-03-01          1.0  Andalucía   Spain   8414240.0              12.0   \n",
       "4  2020-03-02          1.0  Andalucía   Spain   8414240.0              12.0   \n",
       "\n",
       "   cases_per_100000  intensive_care  intensive_care_per_1000000  deceassed  \\\n",
       "0              0.01             NaN                         NaN        NaN   \n",
       "1              0.07             NaN                         NaN        NaN   \n",
       "2              0.10             NaN                         NaN        NaN   \n",
       "3              0.14             NaN                         NaN        NaN   \n",
       "4              0.14             NaN                         NaN        NaN   \n",
       "\n",
       "   deceassed_per_100000  recovered  recovered_per_100000  \n",
       "0                   NaN        NaN                   NaN  \n",
       "1                   NaN        NaN                   NaN  \n",
       "2                   NaN        NaN                   NaN  \n",
       "3                   NaN        NaN                   NaN  \n",
       "4                   NaN        NaN                   NaN  "
      ]
     },
     "execution_count": 40,
     "metadata": {},
     "output_type": "execute_result"
    }
   ],
   "source": [
    "#Datos de España, Italia y Francia\n",
    "path = 'https://code.montera34.com:4443/numeroteca/covid19/-/raw/master/data/output/covid19-countries-regions-compile.csv'\n",
    "df_sp_it_fr_conf = pd.read_csv(path, sep=',')\n",
    "df_sp_it_fr_conf.head()"
   ]
  },
  {
   "cell_type": "code",
   "execution_count": 145,
   "metadata": {
    "ExecuteTime": {
     "end_time": "2020-03-25T00:37:30.971245Z",
     "start_time": "2020-03-25T00:37:30.954321Z"
    }
   },
   "outputs": [
    {
     "data": {
      "text/html": [
       "<div>\n",
       "<style scoped>\n",
       "    .dataframe tbody tr th:only-of-type {\n",
       "        vertical-align: middle;\n",
       "    }\n",
       "\n",
       "    .dataframe tbody tr th {\n",
       "        vertical-align: top;\n",
       "    }\n",
       "\n",
       "    .dataframe thead th {\n",
       "        text-align: right;\n",
       "    }\n",
       "</style>\n",
       "<table border=\"1\" class=\"dataframe\">\n",
       "  <thead>\n",
       "    <tr style=\"text-align: right;\">\n",
       "      <th></th>\n",
       "      <th>cod_ine</th>\n",
       "      <th>CCAA</th>\n",
       "      <th>Públicos</th>\n",
       "      <th>Privados</th>\n",
       "      <th>Total</th>\n",
       "    </tr>\n",
       "  </thead>\n",
       "  <tbody>\n",
       "    <tr>\n",
       "      <th>0</th>\n",
       "      <td>1</td>\n",
       "      <td>ANDALUCÍA</td>\n",
       "      <td>572</td>\n",
       "      <td>162</td>\n",
       "      <td>734</td>\n",
       "    </tr>\n",
       "    <tr>\n",
       "      <th>1</th>\n",
       "      <td>2</td>\n",
       "      <td>ARAGÓN</td>\n",
       "      <td>113</td>\n",
       "      <td>22</td>\n",
       "      <td>135</td>\n",
       "    </tr>\n",
       "    <tr>\n",
       "      <th>2</th>\n",
       "      <td>3</td>\n",
       "      <td>ASTURIAS</td>\n",
       "      <td>86</td>\n",
       "      <td>7</td>\n",
       "      <td>93</td>\n",
       "    </tr>\n",
       "    <tr>\n",
       "      <th>3</th>\n",
       "      <td>15</td>\n",
       "      <td>C. FORAL DE NAVARRA</td>\n",
       "      <td>46</td>\n",
       "      <td>19</td>\n",
       "      <td>65</td>\n",
       "    </tr>\n",
       "    <tr>\n",
       "      <th>4</th>\n",
       "      <td>5</td>\n",
       "      <td>CANARIAS</td>\n",
       "      <td>187</td>\n",
       "      <td>50</td>\n",
       "      <td>237</td>\n",
       "    </tr>\n",
       "  </tbody>\n",
       "</table>\n",
       "</div>"
      ],
      "text/plain": [
       "   cod_ine                 CCAA  Públicos  Privados  Total\n",
       "0        1            ANDALUCÍA       572       162    734\n",
       "1        2               ARAGÓN       113        22    135\n",
       "2        3             ASTURIAS        86         7     93\n",
       "3       15  C. FORAL DE NAVARRA        46        19     65\n",
       "4        5             CANARIAS       187        50    237"
      ]
     },
     "execution_count": 145,
     "metadata": {},
     "output_type": "execute_result"
    }
   ],
   "source": [
    "#Datos de camas UCI\n",
    "path = './data/ccaa_camas_uci_2017.csv'\n",
    "df_camas_uci = pd.read_csv(path, sep=',')\n",
    "df_camas_uci.head()"
   ]
  },
  {
   "cell_type": "code",
   "execution_count": 146,
   "metadata": {
    "ExecuteTime": {
     "end_time": "2020-03-25T00:39:05.546675Z",
     "start_time": "2020-03-25T00:39:05.523739Z"
    }
   },
   "outputs": [
    {
     "data": {
      "text/html": [
       "<div>\n",
       "<style scoped>\n",
       "    .dataframe tbody tr th:only-of-type {\n",
       "        vertical-align: middle;\n",
       "    }\n",
       "\n",
       "    .dataframe tbody tr th {\n",
       "        vertical-align: top;\n",
       "    }\n",
       "\n",
       "    .dataframe thead th {\n",
       "        text-align: right;\n",
       "    }\n",
       "</style>\n",
       "<table border=\"1\" class=\"dataframe\">\n",
       "  <thead>\n",
       "    <tr style=\"text-align: right;\">\n",
       "      <th></th>\n",
       "      <th>fecha</th>\n",
       "      <th>cod_ine</th>\n",
       "      <th>CCAA</th>\n",
       "      <th>mascarillas_acumulado_desde_2020-03-10</th>\n",
       "    </tr>\n",
       "  </thead>\n",
       "  <tbody>\n",
       "    <tr>\n",
       "      <th>0</th>\n",
       "      <td>2020-03-22</td>\n",
       "      <td>1.0</td>\n",
       "      <td>ANDALUCÍA</td>\n",
       "      <td>444083</td>\n",
       "    </tr>\n",
       "    <tr>\n",
       "      <th>1</th>\n",
       "      <td>2020-03-22</td>\n",
       "      <td>2.0</td>\n",
       "      <td>ARAGÓN</td>\n",
       "      <td>72455</td>\n",
       "    </tr>\n",
       "    <tr>\n",
       "      <th>2</th>\n",
       "      <td>2020-03-22</td>\n",
       "      <td>3.0</td>\n",
       "      <td>ASTURIAS</td>\n",
       "      <td>60229</td>\n",
       "    </tr>\n",
       "    <tr>\n",
       "      <th>3</th>\n",
       "      <td>2020-03-22</td>\n",
       "      <td>4.0</td>\n",
       "      <td>BALEARES</td>\n",
       "      <td>49476</td>\n",
       "    </tr>\n",
       "    <tr>\n",
       "      <th>4</th>\n",
       "      <td>2020-03-22</td>\n",
       "      <td>5.0</td>\n",
       "      <td>CANARIAS</td>\n",
       "      <td>124165</td>\n",
       "    </tr>\n",
       "  </tbody>\n",
       "</table>\n",
       "</div>"
      ],
      "text/plain": [
       "        fecha  cod_ine       CCAA  mascarillas_acumulado_desde_2020-03-10\n",
       "0  2020-03-22      1.0  ANDALUCÍA                                  444083\n",
       "1  2020-03-22      2.0     ARAGÓN                                   72455\n",
       "2  2020-03-22      3.0   ASTURIAS                                   60229\n",
       "3  2020-03-22      4.0   BALEARES                                   49476\n",
       "4  2020-03-22      5.0   CANARIAS                                  124165"
      ]
     },
     "execution_count": 146,
     "metadata": {},
     "output_type": "execute_result"
    }
   ],
   "source": [
    "#Datos de mascarillas entregadas\n",
    "path = './data/ccaa_covid19_mascarillas.csv'\n",
    "df_camas_uci = pd.read_csv(path, sep=',')\n",
    "df_camas_uci.head()"
   ]
  },
  {
   "cell_type": "code",
   "execution_count": 147,
   "metadata": {
    "ExecuteTime": {
     "end_time": "2020-03-25T00:40:37.304288Z",
     "start_time": "2020-03-25T00:40:37.282357Z"
    }
   },
   "outputs": [
    {
     "data": {
      "text/html": [
       "<div>\n",
       "<style scoped>\n",
       "    .dataframe tbody tr th:only-of-type {\n",
       "        vertical-align: middle;\n",
       "    }\n",
       "\n",
       "    .dataframe tbody tr th {\n",
       "        vertical-align: top;\n",
       "    }\n",
       "\n",
       "    .dataframe thead th {\n",
       "        text-align: right;\n",
       "    }\n",
       "</style>\n",
       "<table border=\"1\" class=\"dataframe\">\n",
       "  <thead>\n",
       "    <tr style=\"text-align: right;\">\n",
       "      <th></th>\n",
       "      <th>fecha</th>\n",
       "      <th>rango_edad</th>\n",
       "      <th>sexo</th>\n",
       "      <th>casos_confirmados</th>\n",
       "      <th>hospitalizados</th>\n",
       "      <th>ingresos_uci</th>\n",
       "      <th>fallecidos</th>\n",
       "    </tr>\n",
       "  </thead>\n",
       "  <tbody>\n",
       "    <tr>\n",
       "      <th>0</th>\n",
       "      <td>2020-03-23</td>\n",
       "      <td>0-9</td>\n",
       "      <td>ambos sexos</td>\n",
       "      <td>129</td>\n",
       "      <td>34</td>\n",
       "      <td>1</td>\n",
       "      <td>0</td>\n",
       "    </tr>\n",
       "    <tr>\n",
       "      <th>1</th>\n",
       "      <td>2020-03-23</td>\n",
       "      <td>10-19</td>\n",
       "      <td>ambos sexos</td>\n",
       "      <td>221</td>\n",
       "      <td>15</td>\n",
       "      <td>0</td>\n",
       "      <td>1</td>\n",
       "    </tr>\n",
       "    <tr>\n",
       "      <th>2</th>\n",
       "      <td>2020-03-23</td>\n",
       "      <td>20-29</td>\n",
       "      <td>ambos sexos</td>\n",
       "      <td>1285</td>\n",
       "      <td>183</td>\n",
       "      <td>8</td>\n",
       "      <td>4</td>\n",
       "    </tr>\n",
       "    <tr>\n",
       "      <th>3</th>\n",
       "      <td>2020-03-23</td>\n",
       "      <td>30-39</td>\n",
       "      <td>ambos sexos</td>\n",
       "      <td>2208</td>\n",
       "      <td>365</td>\n",
       "      <td>15</td>\n",
       "      <td>3</td>\n",
       "    </tr>\n",
       "    <tr>\n",
       "      <th>4</th>\n",
       "      <td>2020-03-23</td>\n",
       "      <td>40-49</td>\n",
       "      <td>ambos sexos</td>\n",
       "      <td>2919</td>\n",
       "      <td>663</td>\n",
       "      <td>40</td>\n",
       "      <td>9</td>\n",
       "    </tr>\n",
       "  </tbody>\n",
       "</table>\n",
       "</div>"
      ],
      "text/plain": [
       "        fecha rango_edad         sexo  casos_confirmados  hospitalizados  \\\n",
       "0  2020-03-23        0-9  ambos sexos                129              34   \n",
       "1  2020-03-23      10-19  ambos sexos                221              15   \n",
       "2  2020-03-23      20-29  ambos sexos               1285             183   \n",
       "3  2020-03-23      30-39  ambos sexos               2208             365   \n",
       "4  2020-03-23      40-49  ambos sexos               2919             663   \n",
       "\n",
       "   ingresos_uci  fallecidos  \n",
       "0             1           0  \n",
       "1             0           1  \n",
       "2             8           4  \n",
       "3            15           3  \n",
       "4            40           9  "
      ]
     },
     "execution_count": 147,
     "metadata": {},
     "output_type": "execute_result"
    }
   ],
   "source": [
    "#Datos por rangos de edad\n",
    "path = './data/nacional_covid19_rango_edad.csv'\n",
    "df_camas_uci = pd.read_csv(path, sep=',')\n",
    "df_camas_uci.head()"
   ]
  },
  {
   "cell_type": "markdown",
   "metadata": {},
   "source": [
    "# 3. Data cleaning"
   ]
  },
  {
   "cell_type": "markdown",
   "metadata": {},
   "source": [
    "## 3.1. Cases by country"
   ]
  },
  {
   "cell_type": "markdown",
   "metadata": {},
   "source": [
    "### 3.1.1. Renombramos columnas y estandarizamos nombres"
   ]
  },
  {
   "cell_type": "code",
   "execution_count": 10,
   "metadata": {
    "ExecuteTime": {
     "end_time": "2020-03-28T12:22:26.935600Z",
     "start_time": "2020-03-28T12:22:26.837521Z"
    }
   },
   "outputs": [
    {
     "data": {
      "text/html": [
       "<div>\n",
       "<style scoped>\n",
       "    .dataframe tbody tr th:only-of-type {\n",
       "        vertical-align: middle;\n",
       "    }\n",
       "\n",
       "    .dataframe tbody tr th {\n",
       "        vertical-align: top;\n",
       "    }\n",
       "\n",
       "    .dataframe thead th {\n",
       "        text-align: right;\n",
       "    }\n",
       "</style>\n",
       "<table border=\"1\" class=\"dataframe\">\n",
       "  <thead>\n",
       "    <tr style=\"text-align: right;\">\n",
       "      <th></th>\n",
       "      <th>country</th>\n",
       "      <th>province</th>\n",
       "      <th>latitude</th>\n",
       "      <th>longitude</th>\n",
       "      <th>date</th>\n",
       "      <th>cases</th>\n",
       "      <th>status</th>\n",
       "      <th>countryname</th>\n",
       "      <th>capital</th>\n",
       "      <th>capital_latitude</th>\n",
       "      <th>capital_longitude</th>\n",
       "      <th>country_code</th>\n",
       "      <th>continent</th>\n",
       "    </tr>\n",
       "  </thead>\n",
       "  <tbody>\n",
       "    <tr>\n",
       "      <th>0</th>\n",
       "      <td></td>\n",
       "      <td></td>\n",
       "      <td>0.0</td>\n",
       "      <td>0.0</td>\n",
       "      <td>0001-01-01T00:00:00Z</td>\n",
       "      <td>0</td>\n",
       "      <td></td>\n",
       "      <td>NaN</td>\n",
       "      <td>NaN</td>\n",
       "      <td>NaN</td>\n",
       "      <td>NaN</td>\n",
       "      <td>NaN</td>\n",
       "      <td>NaN</td>\n",
       "    </tr>\n",
       "    <tr>\n",
       "      <th>1</th>\n",
       "      <td>Azerbaijan</td>\n",
       "      <td></td>\n",
       "      <td>0.0</td>\n",
       "      <td>0.0</td>\n",
       "      <td>2020-02-28T00:00:00Z</td>\n",
       "      <td>1</td>\n",
       "      <td>confirmed</td>\n",
       "      <td>NaN</td>\n",
       "      <td>NaN</td>\n",
       "      <td>NaN</td>\n",
       "      <td>NaN</td>\n",
       "      <td>NaN</td>\n",
       "      <td>NaN</td>\n",
       "    </tr>\n",
       "    <tr>\n",
       "      <th>2</th>\n",
       "      <td>Azerbaijan</td>\n",
       "      <td></td>\n",
       "      <td>0.0</td>\n",
       "      <td>0.0</td>\n",
       "      <td>2020-02-28T00:00:00Z</td>\n",
       "      <td>0</td>\n",
       "      <td>recovered</td>\n",
       "      <td>NaN</td>\n",
       "      <td>NaN</td>\n",
       "      <td>NaN</td>\n",
       "      <td>NaN</td>\n",
       "      <td>NaN</td>\n",
       "      <td>NaN</td>\n",
       "    </tr>\n",
       "    <tr>\n",
       "      <th>3</th>\n",
       "      <td>Azerbaijan</td>\n",
       "      <td></td>\n",
       "      <td>0.0</td>\n",
       "      <td>0.0</td>\n",
       "      <td>2020-02-28T00:00:00Z</td>\n",
       "      <td>0</td>\n",
       "      <td>deaths</td>\n",
       "      <td>NaN</td>\n",
       "      <td>NaN</td>\n",
       "      <td>NaN</td>\n",
       "      <td>NaN</td>\n",
       "      <td>NaN</td>\n",
       "      <td>NaN</td>\n",
       "    </tr>\n",
       "    <tr>\n",
       "      <th>4</th>\n",
       "      <td>Afghanistan</td>\n",
       "      <td></td>\n",
       "      <td>33.0</td>\n",
       "      <td>65.0</td>\n",
       "      <td>2020-02-24T00:00:00Z</td>\n",
       "      <td>1</td>\n",
       "      <td>confirmed</td>\n",
       "      <td>Afghanistan</td>\n",
       "      <td>Kabul</td>\n",
       "      <td>34.516667</td>\n",
       "      <td>69.183333</td>\n",
       "      <td>AF</td>\n",
       "      <td>Asia</td>\n",
       "    </tr>\n",
       "  </tbody>\n",
       "</table>\n",
       "</div>"
      ],
      "text/plain": [
       "       country province  latitude  longitude                  date  cases  \\\n",
       "0                             0.0        0.0  0001-01-01T00:00:00Z      0   \n",
       "1   Azerbaijan                0.0        0.0  2020-02-28T00:00:00Z      1   \n",
       "2   Azerbaijan                0.0        0.0  2020-02-28T00:00:00Z      0   \n",
       "3   Azerbaijan                0.0        0.0  2020-02-28T00:00:00Z      0   \n",
       "4  Afghanistan               33.0       65.0  2020-02-24T00:00:00Z      1   \n",
       "\n",
       "      status  countryname capital  capital_latitude  capital_longitude  \\\n",
       "0                     NaN     NaN               NaN                NaN   \n",
       "1  confirmed          NaN     NaN               NaN                NaN   \n",
       "2  recovered          NaN     NaN               NaN                NaN   \n",
       "3     deaths          NaN     NaN               NaN                NaN   \n",
       "4  confirmed  Afghanistan   Kabul         34.516667          69.183333   \n",
       "\n",
       "  country_code continent  \n",
       "0          NaN       NaN  \n",
       "1          NaN       NaN  \n",
       "2          NaN       NaN  \n",
       "3          NaN       NaN  \n",
       "4           AF      Asia  "
      ]
     },
     "execution_count": 10,
     "metadata": {},
     "output_type": "execute_result"
    }
   ],
   "source": [
    "df_coronavirus_raw.columns = df_coronavirus_raw.columns.str.replace('[.]','_').str.lower()\n",
    "df_coronavirus_raw = df_coronavirus_raw.rename(columns = {'lat':'latitude', 'lon':'longitude', 'capitalname':'capital', \n",
    "                                                         'capitallatitude':'capital_latitude', 'capitallongitude':'capital_longitude',\n",
    "                                                         'countrycode':'country_code', 'continentname':'continent'})\n",
    "df_coronavirus_raw.head()"
   ]
  },
  {
   "cell_type": "markdown",
   "metadata": {},
   "source": [
    "### 3.1.2. Eliminamos columnas duplicadas"
   ]
  },
  {
   "cell_type": "code",
   "execution_count": 11,
   "metadata": {
    "ExecuteTime": {
     "end_time": "2020-03-28T12:22:29.490511Z",
     "start_time": "2020-03-28T12:22:29.251791Z"
    }
   },
   "outputs": [],
   "source": [
    "df_coronavirus_raw.drop('countryname', axis=1, inplace=True)\n",
    "df_coronavirus_raw.where(cond=df_coronavirus_raw['country']!=\"\",inplace=True)"
   ]
  },
  {
   "cell_type": "markdown",
   "metadata": {},
   "source": [
    "### 3.1.3. Clasificamos los paises entre China y resto del mundo"
   ]
  },
  {
   "cell_type": "code",
   "execution_count": 12,
   "metadata": {
    "ExecuteTime": {
     "end_time": "2020-03-28T12:22:32.832282Z",
     "start_time": "2020-03-28T12:22:32.387691Z"
    }
   },
   "outputs": [
    {
     "data": {
      "text/html": [
       "<div>\n",
       "<style scoped>\n",
       "    .dataframe tbody tr th:only-of-type {\n",
       "        vertical-align: middle;\n",
       "    }\n",
       "\n",
       "    .dataframe tbody tr th {\n",
       "        vertical-align: top;\n",
       "    }\n",
       "\n",
       "    .dataframe thead th {\n",
       "        text-align: right;\n",
       "    }\n",
       "</style>\n",
       "<table border=\"1\" class=\"dataframe\">\n",
       "  <thead>\n",
       "    <tr style=\"text-align: right;\">\n",
       "      <th>status</th>\n",
       "      <th>class</th>\n",
       "      <th>continent</th>\n",
       "      <th>country</th>\n",
       "      <th>province</th>\n",
       "      <th>latitude</th>\n",
       "      <th>longitude</th>\n",
       "      <th>date</th>\n",
       "      <th>confirmed</th>\n",
       "      <th>deaths</th>\n",
       "      <th>recovered</th>\n",
       "    </tr>\n",
       "  </thead>\n",
       "  <tbody>\n",
       "    <tr>\n",
       "      <th>0</th>\n",
       "      <td>China</td>\n",
       "      <td>Asia</td>\n",
       "      <td>China</td>\n",
       "      <td>Anhui</td>\n",
       "      <td>31.8257</td>\n",
       "      <td>117.226</td>\n",
       "      <td>2020-01-22</td>\n",
       "      <td>1</td>\n",
       "      <td>0</td>\n",
       "      <td>0</td>\n",
       "    </tr>\n",
       "    <tr>\n",
       "      <th>1</th>\n",
       "      <td>China</td>\n",
       "      <td>Asia</td>\n",
       "      <td>China</td>\n",
       "      <td>Anhui</td>\n",
       "      <td>31.8257</td>\n",
       "      <td>117.226</td>\n",
       "      <td>2020-01-23</td>\n",
       "      <td>9</td>\n",
       "      <td>0</td>\n",
       "      <td>0</td>\n",
       "    </tr>\n",
       "    <tr>\n",
       "      <th>2</th>\n",
       "      <td>China</td>\n",
       "      <td>Asia</td>\n",
       "      <td>China</td>\n",
       "      <td>Anhui</td>\n",
       "      <td>31.8257</td>\n",
       "      <td>117.226</td>\n",
       "      <td>2020-01-24</td>\n",
       "      <td>15</td>\n",
       "      <td>0</td>\n",
       "      <td>0</td>\n",
       "    </tr>\n",
       "    <tr>\n",
       "      <th>3</th>\n",
       "      <td>China</td>\n",
       "      <td>Asia</td>\n",
       "      <td>China</td>\n",
       "      <td>Anhui</td>\n",
       "      <td>31.8257</td>\n",
       "      <td>117.226</td>\n",
       "      <td>2020-01-25</td>\n",
       "      <td>39</td>\n",
       "      <td>0</td>\n",
       "      <td>0</td>\n",
       "    </tr>\n",
       "    <tr>\n",
       "      <th>4</th>\n",
       "      <td>China</td>\n",
       "      <td>Asia</td>\n",
       "      <td>China</td>\n",
       "      <td>Anhui</td>\n",
       "      <td>31.8257</td>\n",
       "      <td>117.226</td>\n",
       "      <td>2020-01-26</td>\n",
       "      <td>60</td>\n",
       "      <td>0</td>\n",
       "      <td>0</td>\n",
       "    </tr>\n",
       "  </tbody>\n",
       "</table>\n",
       "</div>"
      ],
      "text/plain": [
       "status  class continent country province  latitude  longitude       date  \\\n",
       "0       China      Asia   China    Anhui   31.8257    117.226 2020-01-22   \n",
       "1       China      Asia   China    Anhui   31.8257    117.226 2020-01-23   \n",
       "2       China      Asia   China    Anhui   31.8257    117.226 2020-01-24   \n",
       "3       China      Asia   China    Anhui   31.8257    117.226 2020-01-25   \n",
       "4       China      Asia   China    Anhui   31.8257    117.226 2020-01-26   \n",
       "\n",
       "status  confirmed  deaths  recovered  \n",
       "0               1       0          0  \n",
       "1               9       0          0  \n",
       "2              15       0          0  \n",
       "3              39       0          0  \n",
       "4              60       0          0  "
      ]
     },
     "execution_count": 12,
     "metadata": {},
     "output_type": "execute_result"
    }
   ],
   "source": [
    "df_coronavirus_raw['class'] = np.where(df_coronavirus_raw.country.str.contains('China'), 'China', 'Other Countries')\n",
    "df_coronavirus_raw['date'] = pd.to_datetime(df_coronavirus_raw['date'], format=\"%Y-%m-%dT%H:%M:%SZ\")\n",
    "l_index = ['class','continent','country', 'province', 'latitude','longitude', 'date']\n",
    "df_coronavirus = pd.pivot_table(df_coronavirus_raw, values='cases', \n",
    "                index = l_index, columns=['status'],\n",
    "                aggfunc=np.sum, fill_value=0).reset_index()\n",
    "df_coronavirus.head()"
   ]
  },
  {
   "cell_type": "markdown",
   "metadata": {},
   "source": [
    "### 3.1.4. Obtenemos los totales por países y calculamos las estadísticas"
   ]
  },
  {
   "cell_type": "markdown",
   "metadata": {},
   "source": [
    "- Los casos existentes se han calculado de la siguiente manera :    \n",
    "         casos existentes = casos confirmados - fallecidos - recuperados\n",
    "- La columna <CODE>'days_province_confirmed'</CODE> nos crea un contador a partir de los 100 casos confirmados.\n",
    "- La columna <CODE>'estimated'</CODE> nos da una aproximación de los posibles casos que hay teniendo en cuanta la mortalidad.\n",
    "         casos estimados = fallecidos * 99\n",
    "- La columna <CODE>'days_ death'</CODE> nos crea un contador a partir de los 10 fallecimientos."
   ]
  },
  {
   "cell_type": "code",
   "execution_count": 13,
   "metadata": {
    "ExecuteTime": {
     "end_time": "2020-03-28T12:22:37.172979Z",
     "start_time": "2020-03-28T12:22:37.045347Z"
    }
   },
   "outputs": [
    {
     "data": {
      "text/html": [
       "<div>\n",
       "<style scoped>\n",
       "    .dataframe tbody tr th:only-of-type {\n",
       "        vertical-align: middle;\n",
       "    }\n",
       "\n",
       "    .dataframe tbody tr th {\n",
       "        vertical-align: top;\n",
       "    }\n",
       "\n",
       "    .dataframe thead th {\n",
       "        text-align: right;\n",
       "    }\n",
       "</style>\n",
       "<table border=\"1\" class=\"dataframe\">\n",
       "  <thead>\n",
       "    <tr style=\"text-align: right;\">\n",
       "      <th>status</th>\n",
       "      <th>class</th>\n",
       "      <th>continent</th>\n",
       "      <th>country</th>\n",
       "      <th>date</th>\n",
       "      <th>confirmed</th>\n",
       "      <th>deaths</th>\n",
       "      <th>recovered</th>\n",
       "      <th>existing</th>\n",
       "      <th>days_confirmed</th>\n",
       "      <th>days_death</th>\n",
       "      <th>days_recovered</th>\n",
       "      <th>estimated</th>\n",
       "    </tr>\n",
       "  </thead>\n",
       "  <tbody>\n",
       "    <tr>\n",
       "      <th>0</th>\n",
       "      <td>China</td>\n",
       "      <td>Asia</td>\n",
       "      <td>China</td>\n",
       "      <td>2020-01-22</td>\n",
       "      <td>548</td>\n",
       "      <td>17</td>\n",
       "      <td>28</td>\n",
       "      <td>503</td>\n",
       "      <td>1</td>\n",
       "      <td>1</td>\n",
       "      <td>1</td>\n",
       "      <td>54252</td>\n",
       "    </tr>\n",
       "    <tr>\n",
       "      <th>1</th>\n",
       "      <td>China</td>\n",
       "      <td>Asia</td>\n",
       "      <td>China</td>\n",
       "      <td>2020-01-23</td>\n",
       "      <td>643</td>\n",
       "      <td>18</td>\n",
       "      <td>30</td>\n",
       "      <td>595</td>\n",
       "      <td>2</td>\n",
       "      <td>2</td>\n",
       "      <td>2</td>\n",
       "      <td>63657</td>\n",
       "    </tr>\n",
       "    <tr>\n",
       "      <th>2</th>\n",
       "      <td>China</td>\n",
       "      <td>Asia</td>\n",
       "      <td>China</td>\n",
       "      <td>2020-01-24</td>\n",
       "      <td>920</td>\n",
       "      <td>26</td>\n",
       "      <td>36</td>\n",
       "      <td>858</td>\n",
       "      <td>3</td>\n",
       "      <td>3</td>\n",
       "      <td>3</td>\n",
       "      <td>91080</td>\n",
       "    </tr>\n",
       "    <tr>\n",
       "      <th>3</th>\n",
       "      <td>China</td>\n",
       "      <td>Asia</td>\n",
       "      <td>China</td>\n",
       "      <td>2020-01-25</td>\n",
       "      <td>1406</td>\n",
       "      <td>42</td>\n",
       "      <td>39</td>\n",
       "      <td>1325</td>\n",
       "      <td>4</td>\n",
       "      <td>4</td>\n",
       "      <td>4</td>\n",
       "      <td>139194</td>\n",
       "    </tr>\n",
       "    <tr>\n",
       "      <th>4</th>\n",
       "      <td>China</td>\n",
       "      <td>Asia</td>\n",
       "      <td>China</td>\n",
       "      <td>2020-01-26</td>\n",
       "      <td>2075</td>\n",
       "      <td>56</td>\n",
       "      <td>49</td>\n",
       "      <td>1970</td>\n",
       "      <td>5</td>\n",
       "      <td>5</td>\n",
       "      <td>5</td>\n",
       "      <td>205425</td>\n",
       "    </tr>\n",
       "  </tbody>\n",
       "</table>\n",
       "</div>"
      ],
      "text/plain": [
       "status  class continent country       date  confirmed  deaths  recovered  \\\n",
       "0       China      Asia   China 2020-01-22        548      17         28   \n",
       "1       China      Asia   China 2020-01-23        643      18         30   \n",
       "2       China      Asia   China 2020-01-24        920      26         36   \n",
       "3       China      Asia   China 2020-01-25       1406      42         39   \n",
       "4       China      Asia   China 2020-01-26       2075      56         49   \n",
       "\n",
       "status  existing  days_confirmed  days_death  days_recovered  estimated  \n",
       "0            503               1           1               1      54252  \n",
       "1            595               2           2               2      63657  \n",
       "2            858               3           3               3      91080  \n",
       "3           1325               4           4               4     139194  \n",
       "4           1970               5           5               5     205425  "
      ]
     },
     "execution_count": 13,
     "metadata": {},
     "output_type": "execute_result"
    }
   ],
   "source": [
    "df_countries = df_coronavirus.groupby(['class','continent','country','date'])['confirmed','deaths', 'recovered'].agg('sum').reset_index()\n",
    "df_countries['existing'] = df_countries.confirmed.fillna(0) -  df_countries.deaths.fillna(0) - df_countries.recovered.fillna(0)\n",
    "df_countries['days_confirmed'] = df_countries[df_countries['confirmed']>100].groupby(['country']).cumcount()+1\n",
    "df_countries['days_confirmed'] = df_countries['days_confirmed'].fillna(0).astype('int')\n",
    "df_countries['days_death'] = df_countries[df_countries['deaths']>10].groupby(['country']).cumcount()+1\n",
    "df_countries['days_death'] = df_countries['days_death'].fillna(0).astype('int')\n",
    "df_countries['days_recovered'] = df_countries[df_countries['confirmed']>100].groupby(['country']).cumcount()+1\n",
    "df_countries['days_recovered'] = df_countries['days_recovered'].fillna(0).astype('int')\n",
    "df_countries['estimated'] = [confirmed*99 for confirmed in df_countries['confirmed']]\n",
    "df_countries.head()"
   ]
  },
  {
   "cell_type": "markdown",
   "metadata": {},
   "source": [
    "### 3.1.5. Ordenamos columas"
   ]
  },
  {
   "cell_type": "code",
   "execution_count": 14,
   "metadata": {
    "ExecuteTime": {
     "end_time": "2020-03-28T12:22:40.715740Z",
     "start_time": "2020-03-28T12:22:40.690545Z"
    },
    "code_folding": []
   },
   "outputs": [
    {
     "data": {
      "text/html": [
       "<div>\n",
       "<style scoped>\n",
       "    .dataframe tbody tr th:only-of-type {\n",
       "        vertical-align: middle;\n",
       "    }\n",
       "\n",
       "    .dataframe tbody tr th {\n",
       "        vertical-align: top;\n",
       "    }\n",
       "\n",
       "    .dataframe thead th {\n",
       "        text-align: right;\n",
       "    }\n",
       "</style>\n",
       "<table border=\"1\" class=\"dataframe\">\n",
       "  <thead>\n",
       "    <tr style=\"text-align: right;\">\n",
       "      <th>status</th>\n",
       "      <th>date</th>\n",
       "      <th>class</th>\n",
       "      <th>continent</th>\n",
       "      <th>country</th>\n",
       "      <th>confirmed</th>\n",
       "      <th>deaths</th>\n",
       "      <th>recovered</th>\n",
       "      <th>existing</th>\n",
       "      <th>days_confirmed</th>\n",
       "      <th>days_death</th>\n",
       "      <th>days_recovered</th>\n",
       "      <th>estimated</th>\n",
       "    </tr>\n",
       "  </thead>\n",
       "  <tbody>\n",
       "    <tr>\n",
       "      <th>0</th>\n",
       "      <td>2020-01-22</td>\n",
       "      <td>China</td>\n",
       "      <td>Asia</td>\n",
       "      <td>China</td>\n",
       "      <td>548</td>\n",
       "      <td>17</td>\n",
       "      <td>28</td>\n",
       "      <td>503</td>\n",
       "      <td>1</td>\n",
       "      <td>1</td>\n",
       "      <td>1</td>\n",
       "      <td>54252</td>\n",
       "    </tr>\n",
       "    <tr>\n",
       "      <th>1</th>\n",
       "      <td>2020-01-23</td>\n",
       "      <td>China</td>\n",
       "      <td>Asia</td>\n",
       "      <td>China</td>\n",
       "      <td>643</td>\n",
       "      <td>18</td>\n",
       "      <td>30</td>\n",
       "      <td>595</td>\n",
       "      <td>2</td>\n",
       "      <td>2</td>\n",
       "      <td>2</td>\n",
       "      <td>63657</td>\n",
       "    </tr>\n",
       "    <tr>\n",
       "      <th>2</th>\n",
       "      <td>2020-01-24</td>\n",
       "      <td>China</td>\n",
       "      <td>Asia</td>\n",
       "      <td>China</td>\n",
       "      <td>920</td>\n",
       "      <td>26</td>\n",
       "      <td>36</td>\n",
       "      <td>858</td>\n",
       "      <td>3</td>\n",
       "      <td>3</td>\n",
       "      <td>3</td>\n",
       "      <td>91080</td>\n",
       "    </tr>\n",
       "    <tr>\n",
       "      <th>3</th>\n",
       "      <td>2020-01-25</td>\n",
       "      <td>China</td>\n",
       "      <td>Asia</td>\n",
       "      <td>China</td>\n",
       "      <td>1406</td>\n",
       "      <td>42</td>\n",
       "      <td>39</td>\n",
       "      <td>1325</td>\n",
       "      <td>4</td>\n",
       "      <td>4</td>\n",
       "      <td>4</td>\n",
       "      <td>139194</td>\n",
       "    </tr>\n",
       "    <tr>\n",
       "      <th>4</th>\n",
       "      <td>2020-01-26</td>\n",
       "      <td>China</td>\n",
       "      <td>Asia</td>\n",
       "      <td>China</td>\n",
       "      <td>2075</td>\n",
       "      <td>56</td>\n",
       "      <td>49</td>\n",
       "      <td>1970</td>\n",
       "      <td>5</td>\n",
       "      <td>5</td>\n",
       "      <td>5</td>\n",
       "      <td>205425</td>\n",
       "    </tr>\n",
       "  </tbody>\n",
       "</table>\n",
       "</div>"
      ],
      "text/plain": [
       "status       date  class continent country  confirmed  deaths  recovered  \\\n",
       "0      2020-01-22  China      Asia   China        548      17         28   \n",
       "1      2020-01-23  China      Asia   China        643      18         30   \n",
       "2      2020-01-24  China      Asia   China        920      26         36   \n",
       "3      2020-01-25  China      Asia   China       1406      42         39   \n",
       "4      2020-01-26  China      Asia   China       2075      56         49   \n",
       "\n",
       "status  existing  days_confirmed  days_death  days_recovered  estimated  \n",
       "0            503               1           1               1      54252  \n",
       "1            595               2           2               2      63657  \n",
       "2            858               3           3               3      91080  \n",
       "3           1325               4           4               4     139194  \n",
       "4           1970               5           5               5     205425  "
      ]
     },
     "execution_count": 14,
     "metadata": {},
     "output_type": "execute_result"
    }
   ],
   "source": [
    "column_order = ['date', 'class', 'continent', 'country', 'confirmed','deaths', 'recovered', 'existing', 'days_confirmed', 'days_death','days_recovered','estimated']\n",
    "df_countries = df_countries[column_order]\n",
    "df_countries.head()"
   ]
  },
  {
   "cell_type": "markdown",
   "metadata": {},
   "source": [
    "## 3.2. Cases by regions"
   ]
  },
  {
   "cell_type": "code",
   "execution_count": null,
   "metadata": {},
   "outputs": [],
   "source": [
    "https://api.covid19tracking.narrativa.com/api?date_from=2020-03-10&date_to=2020-03-17"
   ]
  },
  {
   "cell_type": "markdown",
   "metadata": {
    "ExecuteTime": {
     "end_time": "2020-03-14T01:07:05.035505Z",
     "start_time": "2020-03-14T01:07:05.027542Z"
    }
   },
   "source": [
    "# 4. Comparación de la evolución de casos entre dos países"
   ]
  },
  {
   "cell_type": "markdown",
   "metadata": {},
   "source": [
    "## 4.1. Estadísticas de dos paises"
   ]
  },
  {
   "cell_type": "code",
   "execution_count": 101,
   "metadata": {
    "ExecuteTime": {
     "end_time": "2020-03-27T19:13:00.658729Z",
     "start_time": "2020-03-27T19:12:58.344185Z"
    }
   },
   "outputs": [
    {
     "data": {
      "application/vnd.jupyter.widget-view+json": {
       "model_id": "d207fccf0b3a43b8b18255dd762d8efc",
       "version_major": 2,
       "version_minor": 0
      },
      "text/plain": [
       "interactive(children=(Dropdown(description='country1', index=127, options=('China', 'Algeria', 'Angola', 'Beni…"
      ]
     },
     "metadata": {},
     "output_type": "display_data"
    }
   ],
   "source": [
    "col_vars = ['confirmed','deaths', 'recovered', 'existing']\n",
    "cou_vars = list(df_countries['country'].unique())\n",
    "\n",
    "def make_hist(country1='Italy', country2='Spain'):\n",
    "    fig = make_subplots(rows=1, cols=2, shared_yaxes=True, subplot_titles=(country1, country2))\n",
    "    for x in range(0,len(col_vars)):\n",
    "        df_filtered = df_countries[df_countries['country']==country1]\n",
    "        fig.add_trace(go.Scatter( \\\n",
    "                      x = df_filtered['date'], \\\n",
    "                      y = df_filtered[col_vars[x]], \\\n",
    "                      mode = 'lines+markers',\n",
    "                      name = f'{country1} - {col_vars[x].capitalize()}'),\n",
    "                      row=1, col=1)\n",
    "        df_filtered2 = df_countries[df_countries['country']==country2]\n",
    "        fig.add_trace(go.Scatter( \\\n",
    "                      x = df_filtered2['date'], \\\n",
    "                      y = df_filtered2[col_vars[x]], \\\n",
    "                      mode = 'lines+markers',\n",
    "                      name = f'{country2} - {col_vars[x].capitalize()}'),\n",
    "                      row=1, col=2)\n",
    "        \n",
    "    fig.update_layout(height=500, width=1000, title_text=f'Evolución de casos {country1} vs. {country2}', title_x=0.5)\n",
    "    fig.show()\n",
    "                      \n",
    "_= interact(make_hist, country1 = cou_vars, country2 = cou_vars)"
   ]
  },
  {
   "cell_type": "markdown",
   "metadata": {},
   "source": [
    "## 4.2. Comparación de la curva de evolución de dos paises"
   ]
  },
  {
   "cell_type": "code",
   "execution_count": 102,
   "metadata": {
    "ExecuteTime": {
     "end_time": "2020-03-27T19:13:13.742875Z",
     "start_time": "2020-03-27T19:13:13.237464Z"
    }
   },
   "outputs": [
    {
     "data": {
      "application/vnd.jupyter.widget-view+json": {
       "model_id": "4255698b769c4568bd4ec86c82fdea0d",
       "version_major": 2,
       "version_minor": 0
      },
      "text/plain": [
       "interactive(children=(Dropdown(description='country1', index=127, options=('China', 'Algeria', 'Angola', 'Beni…"
      ]
     },
     "metadata": {},
     "output_type": "display_data"
    }
   ],
   "source": [
    "def make_hist(country1='Italy', country2='Spain'):\n",
    "    nrows = 2\n",
    "    ncols = nrows\n",
    "    fig = make_subplots(rows=2, cols=2, subplot_titles=[f'Total of {c} cases' for c in col_vars])\n",
    "    for c in range(0,len(col_vars)):\n",
    "        df_filtered = df_countries[df_countries['country']==country1]\n",
    "        fig.add_trace(go.Scatter( \\\n",
    "                      x = df_filtered['days_confirmed'], \\\n",
    "                      y = df_filtered[col_vars[c]], \\\n",
    "                      mode = 'lines+markers',\n",
    "                      name = f'{country1} - {col_vars[c].capitalize()}'),\n",
    "                      row=int(c/nrows)+1, col=(c%ncols)+1)\n",
    "        df_filtered2 = df_countries[df_countries['country']==country2]\n",
    "        fig.add_trace(go.Scatter( \\\n",
    "                      x = df_filtered2['days_confirmed'], \\\n",
    "                      y = df_filtered2[col_vars[c]], \\\n",
    "                      mode = 'lines+markers',\n",
    "                      name = f'{country2} - {col_vars[c].capitalize()}'),\n",
    "                      row=int(c/nrows)+1, col=(c%ncols)+1)\n",
    "        \n",
    "    fig.update_layout(height=1000, width=1000, title_text=f'Evolución de casos {country1} vs. {country2}', title_x=0.5)\n",
    "    fig.show()\n",
    "                      \n",
    "_= interact(make_hist, country1 = cou_vars, country2 = cou_vars)"
   ]
  },
  {
   "cell_type": "markdown",
   "metadata": {},
   "source": [
    "**Insights**: \n",
    "* Se puede ver un comportamiento distinto entre China y el resto del mundo, por lo que se han dividido las gráficas en estos dos grupos.\n",
    "  * China: Un aumento muy claro de casos desde el inicio de la enfermedad hasta el 14 de febrero (con picos el 12, 13 y 14 de Febrero). A partir de allí las medidas tomadas por el gobierno de China comienzan a dar resutados y el número de casos que se recuperan sube exponencialmente. Asimismo los casos confirmados bajan diariamente lo que indica la remisión del virus. Sin embargo el virus ha dejado 3193 muetros en el territorio de China.\n",
    "  * Resto del mundo: A partir del 14 de Febrero los casos en los demás paises comienzan a crecer exponencialmente. A partir del 10 de Marzo se dan crecimientos más altos que los días de crecimiento más altos de la enfermedad en China, por lo que se declara el grado de pandemia. Se puede ser además que si no se toman las medidas de contención necesarias y se sigue la misma curva de progresión de la enfermedad que en China (en el mejor de los casos) la enfermedad puede llegar a duplicar el número de casos confirmados en el mundo."
   ]
  },
  {
   "cell_type": "markdown",
   "metadata": {},
   "source": [
    "# 5. Suma acumulada de casos de coronavirus por país"
   ]
  },
  {
   "cell_type": "markdown",
   "metadata": {},
   "source": [
    "##  Sumarizamos los casos para obtener los acumulados por país y por fecha"
   ]
  },
  {
   "cell_type": "code",
   "execution_count": 103,
   "metadata": {
    "ExecuteTime": {
     "end_time": "2020-03-27T19:13:44.526962Z",
     "start_time": "2020-03-27T19:13:44.514823Z"
    }
   },
   "outputs": [],
   "source": [
    "col_vars = ['confirmed','deaths', 'recovered', 'existing']\n",
    "cou_vars = ['All']\n",
    "cou_vars.extend(sorted(list(df_coronavirus['country'].unique())))"
   ]
  },
  {
   "cell_type": "markdown",
   "metadata": {},
   "source": [
    "## Creamos un combobox con los países y diagramamos los casos confirmados, muertos, recuperados y existentes"
   ]
  },
  {
   "cell_type": "code",
   "execution_count": 104,
   "metadata": {
    "ExecuteTime": {
     "end_time": "2020-03-27T19:13:48.848526Z",
     "start_time": "2020-03-27T19:13:47.045018Z"
    }
   },
   "outputs": [
    {
     "data": {
      "application/vnd.jupyter.widget-view+json": {
       "model_id": "bd288ecfbfe649d6a260f411a83df1fb",
       "version_major": 2,
       "version_minor": 0
      },
      "text/plain": [
       "interactive(children=(Dropdown(description='Country', options=('All', 'Afghanistan', 'Albania', 'Algeria', 'An…"
      ]
     },
     "metadata": {},
     "output_type": "display_data"
    }
   ],
   "source": [
    "def make_hist(Country): \n",
    "    nrows = 2\n",
    "    ncols = nrows\n",
    "    fig = make_subplots(rows = nrows, cols = ncols, subplot_titles=[f'Total of {c} cases' for c in col_vars])\n",
    "    for c in range(0,len(col_vars)):\n",
    "        if(Country=='All'):\n",
    "            df_filtered = df_countries\n",
    "        else:\n",
    "            df_filtered = df_countries[df_countries['country']==Country]\n",
    "        fig.add_trace(\n",
    "            go.Bar(x = df_filtered['date'], \\\n",
    "                y = df_filtered[col_vars[c]], \\\n",
    "                name = col_vars[c].capitalize()),\n",
    "                row=int(c/nrows)+1, col=(c%ncols)+1)\n",
    "    fig.update_layout(height=1000, width=1000, title_text=\"Casos acumulados de coronavirus por país\", title_x=0.5)\n",
    "    fig.show()\n",
    "\n",
    "_= interact(make_hist, Country = (cou_vars))"
   ]
  },
  {
   "cell_type": "markdown",
   "metadata": {},
   "source": [
    "**Insights**: \n",
    "* Si seleccionamos la opción All, se puede ver el la composición de casos por país, donde hasta hace unos días el protagonista era China. A partir del 14 de Febrero la actividad del virus remite en China, pero se contafia al resto del mundo. Adicionalmente se puede ser que el ratio de muerte de la enfermedad es muy bajo.\n",
    "* En España e Italia los casos han crecido exponencialmente desde Marzo."
   ]
  },
  {
   "cell_type": "markdown",
   "metadata": {},
   "source": [
    "# 6. Top 10 de los países más afectados por el coronavirus"
   ]
  },
  {
   "cell_type": "code",
   "execution_count": 123,
   "metadata": {
    "ExecuteTime": {
     "end_time": "2020-03-27T21:18:10.417767Z",
     "start_time": "2020-03-27T21:18:04.807188Z"
    },
    "code_folding": []
   },
   "outputs": [
    {
     "data": {
      "application/vnd.jupyter.widget-view+json": {
       "model_id": "4b990a20a86644e69f8ca6dc79e7e023",
       "version_major": 2,
       "version_minor": 0
      },
      "text/plain": [
       "interactive(children=(Dropdown(description='Options', options=('Include China', 'Exclude China'), value='Inclu…"
      ]
     },
     "metadata": {},
     "output_type": "display_data"
    }
   ],
   "source": [
    "col_vars = ['confirmed','deaths', 'recovered', 'existing']\n",
    "options = [\"Include China\",\"Exclude China\"]\n",
    "\n",
    "def top_ten(Options, Tipo_indicador):\n",
    "    fig = go.Figure()\n",
    "    column = Tipo_indicador\n",
    "    df_plot = fig_confirmed(Options, column=column)\n",
    "    fig = px.bar(df_plot, x=column, y='country',  \n",
    "        labels={column: f'{column.capitalize()} cases by country',\n",
    "        'country':f'Top 10 countries with {column} cases'},\n",
    "        animation_frame=df_plot.date.dt.strftime('%Y-%m-%d'), orientation='h').update_yaxes(categoryorder='total ascending')\n",
    "    fig.update_layout(title_text=f\"Evolution of {column} cases by country: Top 10\", title_x=0.5)\n",
    "    return fig.show()\n",
    "        \n",
    "def fig_confirmed(Options, column):\n",
    "    if Options == \"Include China\":\n",
    "        return(df_countries.groupby('date',group_keys=False)\\\n",
    "        .apply(lambda grp:grp.nlargest(n=int(10),columns=column).sort_index()).reset_index())\n",
    "    else:       \n",
    "        return(df_countries[df_countries['country']!=\"China\"].groupby('date',group_keys=False)\\\n",
    "            .apply(lambda grp:grp.nlargest(n=int(10),columns=column).sort_index()).reset_index())\n",
    "\n",
    "_= interact(top_ten, Options = options, Tipo_indicador = col_vars)"
   ]
  },
  {
   "cell_type": "markdown",
   "metadata": {},
   "source": [
    "**Insights:**\n",
    "\n",
    "En esta progresión de tiempo se puede ver el crecimiento de la expansión de virus en europa especialmente en Italia y España en Europa e Iran y Corea del Sur en el mes de Marzo. Antes de ello la cantidad de casos de concentraba en China."
   ]
  },
  {
   "cell_type": "markdown",
   "metadata": {
    "heading_collapsed": true
   },
   "source": [
    "# 7. Casos confirmados de coronavirus: Estadísticas"
   ]
  },
  {
   "cell_type": "code",
   "execution_count": 92,
   "metadata": {
    "ExecuteTime": {
     "end_time": "2020-03-24T22:53:22.643540Z",
     "start_time": "2020-03-24T22:53:22.439089Z"
    },
    "hidden": true
   },
   "outputs": [
    {
     "data": {
      "text/html": [
       "<div>\n",
       "<style scoped>\n",
       "    .dataframe tbody tr th:only-of-type {\n",
       "        vertical-align: middle;\n",
       "    }\n",
       "\n",
       "    .dataframe tbody tr th {\n",
       "        vertical-align: top;\n",
       "    }\n",
       "\n",
       "    .dataframe thead th {\n",
       "        text-align: right;\n",
       "    }\n",
       "</style>\n",
       "<table border=\"1\" class=\"dataframe\">\n",
       "  <thead>\n",
       "    <tr style=\"text-align: right;\">\n",
       "      <th>status</th>\n",
       "      <th>index</th>\n",
       "      <th>date</th>\n",
       "      <th>class</th>\n",
       "      <th>continent</th>\n",
       "      <th>country</th>\n",
       "      <th>confirmed</th>\n",
       "      <th>deaths</th>\n",
       "      <th>recovered</th>\n",
       "      <th>existing</th>\n",
       "      <th>days_confirmed</th>\n",
       "      <th>days_death</th>\n",
       "      <th>days_recovered</th>\n",
       "    </tr>\n",
       "  </thead>\n",
       "  <tbody>\n",
       "    <tr>\n",
       "      <th>0</th>\n",
       "      <td>615</td>\n",
       "      <td>2020-01-22</td>\n",
       "      <td>Other Countries</td>\n",
       "      <td>Asia</td>\n",
       "      <td>Hong Kong</td>\n",
       "      <td>0</td>\n",
       "      <td>0</td>\n",
       "      <td>0</td>\n",
       "      <td>0</td>\n",
       "      <td>0</td>\n",
       "      <td>0</td>\n",
       "      <td>0</td>\n",
       "    </tr>\n",
       "    <tr>\n",
       "      <th>1</th>\n",
       "      <td>834</td>\n",
       "      <td>2020-01-22</td>\n",
       "      <td>Other Countries</td>\n",
       "      <td>Asia</td>\n",
       "      <td>Japan</td>\n",
       "      <td>2</td>\n",
       "      <td>0</td>\n",
       "      <td>0</td>\n",
       "      <td>2</td>\n",
       "      <td>0</td>\n",
       "      <td>0</td>\n",
       "      <td>0</td>\n",
       "    </tr>\n",
       "    <tr>\n",
       "      <th>2</th>\n",
       "      <td>996</td>\n",
       "      <td>2020-01-22</td>\n",
       "      <td>Other Countries</td>\n",
       "      <td>Asia</td>\n",
       "      <td>Macau</td>\n",
       "      <td>1</td>\n",
       "      <td>0</td>\n",
       "      <td>0</td>\n",
       "      <td>1</td>\n",
       "      <td>0</td>\n",
       "      <td>0</td>\n",
       "      <td>0</td>\n",
       "    </tr>\n",
       "    <tr>\n",
       "      <th>3</th>\n",
       "      <td>1416</td>\n",
       "      <td>2020-01-22</td>\n",
       "      <td>Other Countries</td>\n",
       "      <td>Asia</td>\n",
       "      <td>South Korea</td>\n",
       "      <td>1</td>\n",
       "      <td>0</td>\n",
       "      <td>0</td>\n",
       "      <td>1</td>\n",
       "      <td>0</td>\n",
       "      <td>0</td>\n",
       "      <td>0</td>\n",
       "    </tr>\n",
       "    <tr>\n",
       "      <th>4</th>\n",
       "      <td>1523</td>\n",
       "      <td>2020-01-22</td>\n",
       "      <td>Other Countries</td>\n",
       "      <td>Asia</td>\n",
       "      <td>Taiwan</td>\n",
       "      <td>1</td>\n",
       "      <td>0</td>\n",
       "      <td>0</td>\n",
       "      <td>1</td>\n",
       "      <td>0</td>\n",
       "      <td>0</td>\n",
       "      <td>0</td>\n",
       "    </tr>\n",
       "  </tbody>\n",
       "</table>\n",
       "</div>"
      ],
      "text/plain": [
       "status  index       date            class continent      country  confirmed  \\\n",
       "0         615 2020-01-22  Other Countries      Asia    Hong Kong          0   \n",
       "1         834 2020-01-22  Other Countries      Asia        Japan          2   \n",
       "2         996 2020-01-22  Other Countries      Asia        Macau          1   \n",
       "3        1416 2020-01-22  Other Countries      Asia  South Korea          1   \n",
       "4        1523 2020-01-22  Other Countries      Asia       Taiwan          1   \n",
       "\n",
       "status  deaths  recovered  existing  days_confirmed  days_death  \\\n",
       "0            0          0         0               0           0   \n",
       "1            0          0         2               0           0   \n",
       "2            0          0         1               0           0   \n",
       "3            0          0         1               0           0   \n",
       "4            0          0         1               0           0   \n",
       "\n",
       "status  days_recovered  \n",
       "0                    0  \n",
       "1                    0  \n",
       "2                    0  \n",
       "3                    0  \n",
       "4                    0  "
      ]
     },
     "execution_count": 92,
     "metadata": {},
     "output_type": "execute_result"
    }
   ],
   "source": [
    "df_countries_top10 = df_countries.groupby('date',group_keys=False)\\\n",
    "            .apply(lambda grp:grp.nlargest(n=int(10),columns='confirmed').sort_index()).reset_index()\n",
    "df_countries_top10.head()"
   ]
  },
  {
   "cell_type": "code",
   "execution_count": 93,
   "metadata": {
    "ExecuteTime": {
     "end_time": "2020-03-24T22:53:25.367864Z",
     "start_time": "2020-03-24T22:53:24.823284Z"
    },
    "hidden": true
   },
   "outputs": [
    {
     "data": {
      "application/vnd.plotly.v1+json": {
       "config": {
        "plotlyServerURL": "https://plot.ly"
       },
       "data": [
        {
         "alignmentgroup": "True",
         "boxpoints": "all",
         "hoverlabel": {
          "namelength": 0
         },
         "hovertemplate": "Agrupation by countries: China vs. Rest of the world=%{x}<br>Confirmed cases of Coronavirus=%{y}",
         "legendgroup": "",
         "marker": {
          "color": "#636efa"
         },
         "name": "",
         "notched": false,
         "offsetgroup": "",
         "orientation": "v",
         "showlegend": false,
         "type": "box",
         "x": [
          "Other Countries",
          "Other Countries",
          "Other Countries",
          "Other Countries",
          "Other Countries",
          "Other Countries",
          "Other Countries",
          "Other Countries",
          "Other Countries",
          "Other Countries",
          "Other Countries",
          "Other Countries",
          "Other Countries",
          "Other Countries",
          "Other Countries",
          "Other Countries",
          "Other Countries",
          "Other Countries",
          "Other Countries",
          "Other Countries",
          "Other Countries",
          "Other Countries",
          "Other Countries",
          "Other Countries",
          "Other Countries",
          "Other Countries",
          "Other Countries",
          "Other Countries",
          "Other Countries",
          "Other Countries",
          "Other Countries",
          "Other Countries",
          "Other Countries",
          "Other Countries",
          "Other Countries",
          "Other Countries",
          "Other Countries",
          "Other Countries",
          "Other Countries",
          "Other Countries",
          "Other Countries",
          "Other Countries",
          "Other Countries",
          "Other Countries",
          "Other Countries",
          "Other Countries",
          "Other Countries",
          "Other Countries",
          "Other Countries",
          "Other Countries",
          "Other Countries",
          "Other Countries",
          "Other Countries",
          "Other Countries",
          "Other Countries",
          "Other Countries",
          "Other Countries",
          "Other Countries",
          "Other Countries",
          "Other Countries",
          "Other Countries",
          "Other Countries",
          "Other Countries",
          "Other Countries",
          "Other Countries",
          "Other Countries",
          "Other Countries",
          "Other Countries",
          "Other Countries",
          "Other Countries",
          "Other Countries",
          "Other Countries",
          "Other Countries",
          "Other Countries",
          "Other Countries",
          "Other Countries",
          "Other Countries",
          "Other Countries",
          "Other Countries",
          "Other Countries",
          "Other Countries",
          "Other Countries",
          "Other Countries",
          "Other Countries",
          "Other Countries",
          "Other Countries",
          "Other Countries",
          "Other Countries",
          "Other Countries",
          "Other Countries",
          "Other Countries",
          "Other Countries",
          "Other Countries",
          "Other Countries",
          "Other Countries",
          "Other Countries",
          "Other Countries",
          "Other Countries",
          "Other Countries",
          "Other Countries",
          "Other Countries",
          "Other Countries",
          "Other Countries",
          "Other Countries",
          "Other Countries",
          "Other Countries",
          "Other Countries",
          "Other Countries",
          "Other Countries",
          "Other Countries",
          "Other Countries",
          "Other Countries",
          "Other Countries",
          "Other Countries",
          "Other Countries",
          "Other Countries",
          "Other Countries",
          "Other Countries",
          "Other Countries",
          "Other Countries",
          "Other Countries",
          "Other Countries",
          "Other Countries",
          "Other Countries",
          "Other Countries",
          "Other Countries",
          "Other Countries",
          "Other Countries",
          "Other Countries",
          "Other Countries",
          "Other Countries",
          "Other Countries",
          "Other Countries",
          "Other Countries",
          "Other Countries",
          "Other Countries",
          "Other Countries",
          "Other Countries",
          "Other Countries",
          "Other Countries",
          "Other Countries",
          "Other Countries",
          "Other Countries",
          "Other Countries",
          "Other Countries",
          "Other Countries",
          "Other Countries",
          "Other Countries",
          "Other Countries",
          "Other Countries",
          "Other Countries",
          "Other Countries",
          "Other Countries",
          "Other Countries",
          "Other Countries",
          "Other Countries",
          "Other Countries",
          "Other Countries",
          "Other Countries",
          "Other Countries",
          "Other Countries",
          "Other Countries",
          "Other Countries",
          "Other Countries",
          "Other Countries",
          "Other Countries",
          "Other Countries",
          "Other Countries",
          "Other Countries",
          "Other Countries",
          "Other Countries",
          "Other Countries",
          "Other Countries",
          "Other Countries",
          "Other Countries",
          "Other Countries",
          "Other Countries",
          "Other Countries",
          "Other Countries",
          "Other Countries",
          "Other Countries",
          "Other Countries",
          "Other Countries",
          "Other Countries",
          "Other Countries",
          "Other Countries",
          "Other Countries",
          "Other Countries",
          "Other Countries",
          "Other Countries",
          "Other Countries",
          "Other Countries",
          "Other Countries",
          "Other Countries",
          "Other Countries",
          "Other Countries",
          "Other Countries",
          "Other Countries",
          "Other Countries",
          "Other Countries",
          "Other Countries",
          "Other Countries",
          "Other Countries",
          "Other Countries",
          "Other Countries",
          "Other Countries",
          "Other Countries",
          "Other Countries",
          "Other Countries",
          "Other Countries",
          "Other Countries",
          "Other Countries",
          "Other Countries",
          "Other Countries",
          "Other Countries",
          "Other Countries",
          "Other Countries",
          "Other Countries",
          "Other Countries",
          "Other Countries",
          "Other Countries",
          "Other Countries",
          "Other Countries",
          "Other Countries",
          "Other Countries",
          "Other Countries",
          "Other Countries",
          "Other Countries",
          "Other Countries",
          "Other Countries",
          "Other Countries",
          "Other Countries",
          "Other Countries",
          "Other Countries",
          "Other Countries",
          "Other Countries",
          "Other Countries",
          "Other Countries",
          "Other Countries",
          "Other Countries",
          "Other Countries",
          "Other Countries",
          "Other Countries",
          "Other Countries",
          "Other Countries",
          "Other Countries",
          "Other Countries",
          "Other Countries",
          "Other Countries",
          "Other Countries",
          "Other Countries",
          "Other Countries",
          "Other Countries",
          "Other Countries",
          "Other Countries",
          "Other Countries",
          "Other Countries",
          "Other Countries",
          "Other Countries",
          "Other Countries",
          "Other Countries",
          "Other Countries",
          "Other Countries",
          "Other Countries",
          "Other Countries",
          "Other Countries",
          "Other Countries",
          "Other Countries",
          "Other Countries",
          "Other Countries",
          "Other Countries",
          "Other Countries",
          "Other Countries",
          "Other Countries",
          "Other Countries",
          "Other Countries",
          "Other Countries",
          "Other Countries",
          "Other Countries",
          "Other Countries",
          "Other Countries",
          "Other Countries",
          "Other Countries",
          "Other Countries",
          "Other Countries",
          "Other Countries",
          "Other Countries",
          "Other Countries",
          "Other Countries",
          "Other Countries",
          "Other Countries",
          "Other Countries",
          "Other Countries",
          "Other Countries",
          "Other Countries",
          "Other Countries",
          "Other Countries",
          "Other Countries",
          "Other Countries",
          "Other Countries",
          "Other Countries",
          "Other Countries",
          "Other Countries",
          "Other Countries",
          "Other Countries",
          "Other Countries",
          "Other Countries",
          "Other Countries",
          "Other Countries",
          "Other Countries",
          "Other Countries",
          "Other Countries",
          "Other Countries",
          "Other Countries",
          "Other Countries",
          "Other Countries",
          "Other Countries",
          "Other Countries",
          "Other Countries",
          "Other Countries",
          "Other Countries",
          "Other Countries",
          "Other Countries",
          "Other Countries",
          "Other Countries",
          "Other Countries",
          "Other Countries",
          "Other Countries",
          "Other Countries",
          "Other Countries",
          "Other Countries",
          "Other Countries",
          "Other Countries",
          "Other Countries",
          "Other Countries",
          "Other Countries",
          "Other Countries",
          "Other Countries",
          "Other Countries",
          "Other Countries",
          "Other Countries",
          "Other Countries",
          "Other Countries",
          "Other Countries",
          "Other Countries",
          "Other Countries",
          "Other Countries",
          "Other Countries",
          "Other Countries",
          "Other Countries",
          "Other Countries",
          "Other Countries",
          "Other Countries",
          "Other Countries",
          "Other Countries",
          "Other Countries",
          "Other Countries",
          "Other Countries",
          "Other Countries",
          "Other Countries",
          "Other Countries",
          "Other Countries",
          "Other Countries",
          "Other Countries",
          "Other Countries",
          "Other Countries",
          "Other Countries",
          "Other Countries",
          "Other Countries",
          "Other Countries",
          "Other Countries",
          "Other Countries",
          "Other Countries",
          "Other Countries",
          "Other Countries",
          "Other Countries",
          "Other Countries",
          "Other Countries",
          "Other Countries",
          "Other Countries",
          "Other Countries",
          "Other Countries",
          "Other Countries",
          "Other Countries",
          "Other Countries",
          "Other Countries",
          "Other Countries",
          "Other Countries",
          "Other Countries",
          "Other Countries",
          "Other Countries",
          "Other Countries",
          "Other Countries",
          "Other Countries",
          "Other Countries",
          "Other Countries",
          "Other Countries",
          "Other Countries",
          "Other Countries",
          "Other Countries",
          "Other Countries",
          "Other Countries",
          "Other Countries",
          "Other Countries",
          "Other Countries",
          "Other Countries",
          "Other Countries",
          "Other Countries",
          "Other Countries",
          "Other Countries",
          "Other Countries",
          "Other Countries",
          "Other Countries",
          "Other Countries",
          "Other Countries",
          "Other Countries",
          "Other Countries",
          "Other Countries",
          "Other Countries",
          "Other Countries",
          "Other Countries",
          "Other Countries",
          "Other Countries",
          "Other Countries",
          "Other Countries",
          "Other Countries",
          "Other Countries",
          "Other Countries",
          "Other Countries",
          "Other Countries",
          "Other Countries",
          "Other Countries",
          "Other Countries",
          "Other Countries",
          "Other Countries",
          "Other Countries",
          "Other Countries",
          "Other Countries",
          "Other Countries",
          "Other Countries",
          "Other Countries",
          "Other Countries",
          "Other Countries",
          "Other Countries",
          "Other Countries",
          "Other Countries",
          "Other Countries",
          "Other Countries",
          "Other Countries",
          "Other Countries",
          "Other Countries",
          "Other Countries",
          "Other Countries",
          "Other Countries",
          "Other Countries",
          "China",
          "Other Countries",
          "Other Countries",
          "Other Countries",
          "Other Countries",
          "Other Countries",
          "Other Countries",
          "Other Countries",
          "Other Countries",
          "Other Countries",
          "Other Countries",
          "Other Countries",
          "Other Countries",
          "Other Countries",
          "Other Countries",
          "Other Countries",
          "Other Countries",
          "Other Countries",
          "Other Countries",
          "Other Countries",
          "Other Countries",
          "Other Countries",
          "Other Countries",
          "Other Countries",
          "Other Countries",
          "Other Countries",
          "Other Countries",
          "Other Countries",
          "Other Countries",
          "Other Countries",
          "China",
          "Other Countries",
          "Other Countries",
          "Other Countries",
          "Other Countries",
          "Other Countries",
          "Other Countries",
          "Other Countries",
          "Other Countries",
          "Other Countries",
          "China",
          "Other Countries",
          "Other Countries",
          "Other Countries",
          "Other Countries",
          "Other Countries",
          "Other Countries",
          "Other Countries",
          "Other Countries",
          "Other Countries",
          "China",
          "Other Countries",
          "Other Countries",
          "Other Countries",
          "Other Countries",
          "Other Countries",
          "Other Countries",
          "Other Countries",
          "Other Countries",
          "Other Countries",
          "China",
          "Other Countries",
          "Other Countries",
          "Other Countries",
          "Other Countries",
          "Other Countries",
          "Other Countries",
          "Other Countries",
          "Other Countries",
          "Other Countries",
          "China",
          "Other Countries",
          "Other Countries",
          "Other Countries",
          "Other Countries",
          "Other Countries",
          "Other Countries",
          "Other Countries",
          "Other Countries",
          "Other Countries",
          "China",
          "Other Countries",
          "Other Countries",
          "Other Countries",
          "Other Countries",
          "Other Countries",
          "Other Countries",
          "Other Countries",
          "Other Countries",
          "Other Countries",
          "China",
          "Other Countries",
          "Other Countries",
          "Other Countries",
          "Other Countries",
          "Other Countries",
          "Other Countries",
          "Other Countries",
          "Other Countries",
          "Other Countries",
          "China",
          "Other Countries",
          "Other Countries",
          "Other Countries",
          "Other Countries",
          "Other Countries",
          "Other Countries",
          "Other Countries",
          "Other Countries",
          "Other Countries",
          "China",
          "Other Countries",
          "Other Countries",
          "Other Countries",
          "Other Countries",
          "Other Countries",
          "Other Countries",
          "Other Countries",
          "Other Countries",
          "Other Countries",
          "China",
          "Other Countries",
          "Other Countries",
          "Other Countries",
          "Other Countries",
          "Other Countries",
          "Other Countries",
          "Other Countries",
          "Other Countries",
          "Other Countries",
          "China",
          "Other Countries",
          "Other Countries",
          "Other Countries",
          "Other Countries",
          "Other Countries",
          "Other Countries",
          "Other Countries",
          "Other Countries",
          "Other Countries",
          "China",
          "Other Countries",
          "Other Countries",
          "Other Countries",
          "Other Countries",
          "Other Countries",
          "Other Countries",
          "Other Countries",
          "Other Countries",
          "Other Countries",
          "China",
          "Other Countries",
          "Other Countries",
          "Other Countries",
          "Other Countries",
          "Other Countries",
          "Other Countries",
          "Other Countries",
          "Other Countries",
          "Other Countries"
         ],
         "x0": " ",
         "xaxis": "x",
         "y": [
          0,
          2,
          1,
          1,
          1,
          2,
          2,
          1,
          2,
          0,
          0,
          1,
          1,
          1,
          3,
          2,
          2,
          2,
          2,
          3,
          2,
          3,
          5,
          2,
          2,
          5,
          2,
          2,
          3,
          3,
          2,
          3,
          7,
          4,
          3,
          8,
          4,
          5,
          4,
          4,
          3,
          4,
          8,
          4,
          3,
          8,
          4,
          6,
          4,
          5,
          4,
          5,
          8,
          5,
          3,
          8,
          7,
          7,
          4,
          7,
          4,
          8,
          14,
          5,
          4,
          10,
          7,
          7,
          7,
          7,
          4,
          8,
          14,
          5,
          5,
          10,
          11,
          7,
          8,
          10,
          4,
          9,
          14,
          9,
          5,
          12,
          15,
          7,
          8,
          13,
          11,
          10,
          19,
          9,
          5,
          13,
          20,
          7,
          8,
          16,
          12,
          10,
          19,
          12,
          8,
          15,
          20,
          8,
          8,
          18,
          15,
          10,
          19,
          12,
          10,
          15,
          20,
          8,
          8,
          18,
          15,
          10,
          19,
          12,
          12,
          17,
          22,
          10,
          10,
          24,
          16,
          11,
          25,
          13,
          12,
          21,
          22,
          10,
          12,
          28,
          19,
          11,
          25,
          13,
          12,
          24,
          45,
          10,
          12,
          28,
          23,
          16,
          25,
          14,
          12,
          25,
          25,
          10,
          12,
          30,
          24,
          16,
          25,
          15,
          13,
          26,
          25,
          16,
          33,
          24,
          17,
          32,
          13,
          15,
          13,
          29,
          26,
          16,
          40,
          25,
          18,
          32,
          13,
          15,
          14,
          38,
          26,
          18,
          45,
          27,
          18,
          32,
          14,
          15,
          14,
          49,
          26,
          18,
          47,
          28,
          18,
          33,
          15,
          15,
          16,
          50,
          28,
          18,
          50,
          28,
          18,
          33,
          15,
          15,
          16,
          53,
          28,
          19,
          58,
          28,
          18,
          33,
          16,
          15,
          16,
          56,
          29,
          19,
          67,
          28,
          18,
          33,
          16,
          15,
          16,
          56,
          43,
          22,
          72,
          28,
          18,
          33,
          16,
          15,
          16,
          57,
          59,
          22,
          75,
          29,
          20,
          34,
          16,
          15,
          16,
          60,
          66,
          22,
          77,
          30,
          22,
          35,
          16,
          15,
          16,
          62,
          74,
          22,
          81,
          31,
          22,
          35,
          16,
          15,
          16,
          63,
          84,
          22,
          84,
          31,
          23,
          35,
          16,
          15,
          16,
          68,
          94,
          22,
          84,
          104,
          24,
          35,
          16,
          15,
          16,
          68,
          18,
          105,
          22,
          85,
          204,
          26,
          35,
          19,
          20,
          69,
          28,
          122,
          22,
          85,
          433,
          26,
          35,
          22,
          62,
          74,
          43,
          147,
          22,
          89,
          602,
          28,
          35,
          22,
          155,
          79,
          61,
          159,
          22,
          89,
          833,
          30,
          35,
          22,
          229,
          23,
          84,
          95,
          170,
          91,
          977,
          31,
          37,
          32,
          322,
          33,
          91,
          139,
          189,
          93,
          1261,
          32,
          40,
          27,
          453,
          92,
          245,
          214,
          43,
          93,
          1766,
          40,
          38,
          46,
          655,
          94,
          388,
          228,
          90,
          93,
          2337,
          41,
          57,
          48,
          888,
          95,
          593,
          241,
          45,
          102,
          3150,
          100,
          79,
          1128,
          45,
          47,
          96,
          978,
          256,
          106,
          3736,
          130,
          130,
          1694,
          84,
          100,
          1501,
          274,
          56,
          108,
          4335,
          191,
          159,
          2036,
          120,
          100,
          2336,
          293,
          56,
          110,
          5186,
          204,
          196,
          2502,
          165,
          105,
          2922,
          331,
          110,
          5621,
          285,
          262,
          3089,
          222,
          90,
          105,
          3513,
          360,
          117,
          6088,
          377,
          482,
          3858,
          259,
          114,
          4747,
          420,
          130,
          6593,
          653,
          670,
          4636,
          128,
          400,
          214,
          5823,
          461,
          7041,
          169,
          949,
          799,
          5883,
          188,
          500,
          268,
          1066,
          6566,
          502,
          7314,
          1126,
          1040,
          7375,
          265,
          673,
          337,
          7161,
          511,
          7478,
          1209,
          1176,
          9172,
          321,
          1073,
          248,
          374,
          581,
          267,
          1784,
          1457,
          10149,
          382,
          400,
          1695,
          355,
          491,
          80921,
          20364,
          1340,
          873,
          2287,
          5583,
          12462,
          7509,
          1314,
          1259,
          80932,
          10075,
          639,
          617,
          2284,
          2078,
          12462,
          702,
          2277,
          652,
          80945,
          11364,
          804,
          3667,
          3675,
          17660,
          996,
          5232,
          814,
          1139,
          80977,
          12729,
          4481,
          4585,
          21157,
          1090,
          6391,
          961,
          1359,
          1143,
          81003,
          13938,
          4513,
          5795,
          24747,
          1135,
          1221,
          7798,
          2200,
          1144,
          81033,
          14991,
          6650,
          7272,
          27980,
          1414,
          1333,
          9942,
          2200,
          1551,
          81058,
          16169,
          7683,
          9257,
          31506,
          1708,
          1463,
          11748,
          2700,
          1960,
          81102,
          17361,
          1646,
          9052,
          12327,
          35713,
          2056,
          13910,
          3028,
          2642,
          81156,
          18407,
          2013,
          10886,
          15320,
          41035,
          2465,
          17963,
          4075,
          2716,
          81250,
          19644,
          2388,
          12632,
          19848,
          47021,
          3003,
          20410,
          5294,
          4014,
          81305,
          20610,
          2815,
          14308,
          22213,
          53578,
          3640,
          25374,
          6575,
          5067,
          81533,
          21638,
          3401,
          16044,
          24873,
          59138,
          4216,
          28768,
          7245,
          5741,
          81496,
          23049,
          4474,
          20123,
          29056,
          63927,
          4764,
          35136,
          8795,
          6726
         ],
         "y0": " ",
         "yaxis": "y"
        }
       ],
       "layout": {
        "boxmode": "group",
        "legend": {
         "tracegroupgap": 0
        },
        "margin": {
         "t": 60
        },
        "template": {
         "data": {
          "bar": [
           {
            "error_x": {
             "color": "#2a3f5f"
            },
            "error_y": {
             "color": "#2a3f5f"
            },
            "marker": {
             "line": {
              "color": "#E5ECF6",
              "width": 0.5
             }
            },
            "type": "bar"
           }
          ],
          "barpolar": [
           {
            "marker": {
             "line": {
              "color": "#E5ECF6",
              "width": 0.5
             }
            },
            "type": "barpolar"
           }
          ],
          "carpet": [
           {
            "aaxis": {
             "endlinecolor": "#2a3f5f",
             "gridcolor": "white",
             "linecolor": "white",
             "minorgridcolor": "white",
             "startlinecolor": "#2a3f5f"
            },
            "baxis": {
             "endlinecolor": "#2a3f5f",
             "gridcolor": "white",
             "linecolor": "white",
             "minorgridcolor": "white",
             "startlinecolor": "#2a3f5f"
            },
            "type": "carpet"
           }
          ],
          "choropleth": [
           {
            "colorbar": {
             "outlinewidth": 0,
             "ticks": ""
            },
            "type": "choropleth"
           }
          ],
          "contour": [
           {
            "colorbar": {
             "outlinewidth": 0,
             "ticks": ""
            },
            "colorscale": [
             [
              0,
              "#0d0887"
             ],
             [
              0.1111111111111111,
              "#46039f"
             ],
             [
              0.2222222222222222,
              "#7201a8"
             ],
             [
              0.3333333333333333,
              "#9c179e"
             ],
             [
              0.4444444444444444,
              "#bd3786"
             ],
             [
              0.5555555555555556,
              "#d8576b"
             ],
             [
              0.6666666666666666,
              "#ed7953"
             ],
             [
              0.7777777777777778,
              "#fb9f3a"
             ],
             [
              0.8888888888888888,
              "#fdca26"
             ],
             [
              1,
              "#f0f921"
             ]
            ],
            "type": "contour"
           }
          ],
          "contourcarpet": [
           {
            "colorbar": {
             "outlinewidth": 0,
             "ticks": ""
            },
            "type": "contourcarpet"
           }
          ],
          "heatmap": [
           {
            "colorbar": {
             "outlinewidth": 0,
             "ticks": ""
            },
            "colorscale": [
             [
              0,
              "#0d0887"
             ],
             [
              0.1111111111111111,
              "#46039f"
             ],
             [
              0.2222222222222222,
              "#7201a8"
             ],
             [
              0.3333333333333333,
              "#9c179e"
             ],
             [
              0.4444444444444444,
              "#bd3786"
             ],
             [
              0.5555555555555556,
              "#d8576b"
             ],
             [
              0.6666666666666666,
              "#ed7953"
             ],
             [
              0.7777777777777778,
              "#fb9f3a"
             ],
             [
              0.8888888888888888,
              "#fdca26"
             ],
             [
              1,
              "#f0f921"
             ]
            ],
            "type": "heatmap"
           }
          ],
          "heatmapgl": [
           {
            "colorbar": {
             "outlinewidth": 0,
             "ticks": ""
            },
            "colorscale": [
             [
              0,
              "#0d0887"
             ],
             [
              0.1111111111111111,
              "#46039f"
             ],
             [
              0.2222222222222222,
              "#7201a8"
             ],
             [
              0.3333333333333333,
              "#9c179e"
             ],
             [
              0.4444444444444444,
              "#bd3786"
             ],
             [
              0.5555555555555556,
              "#d8576b"
             ],
             [
              0.6666666666666666,
              "#ed7953"
             ],
             [
              0.7777777777777778,
              "#fb9f3a"
             ],
             [
              0.8888888888888888,
              "#fdca26"
             ],
             [
              1,
              "#f0f921"
             ]
            ],
            "type": "heatmapgl"
           }
          ],
          "histogram": [
           {
            "marker": {
             "colorbar": {
              "outlinewidth": 0,
              "ticks": ""
             }
            },
            "type": "histogram"
           }
          ],
          "histogram2d": [
           {
            "colorbar": {
             "outlinewidth": 0,
             "ticks": ""
            },
            "colorscale": [
             [
              0,
              "#0d0887"
             ],
             [
              0.1111111111111111,
              "#46039f"
             ],
             [
              0.2222222222222222,
              "#7201a8"
             ],
             [
              0.3333333333333333,
              "#9c179e"
             ],
             [
              0.4444444444444444,
              "#bd3786"
             ],
             [
              0.5555555555555556,
              "#d8576b"
             ],
             [
              0.6666666666666666,
              "#ed7953"
             ],
             [
              0.7777777777777778,
              "#fb9f3a"
             ],
             [
              0.8888888888888888,
              "#fdca26"
             ],
             [
              1,
              "#f0f921"
             ]
            ],
            "type": "histogram2d"
           }
          ],
          "histogram2dcontour": [
           {
            "colorbar": {
             "outlinewidth": 0,
             "ticks": ""
            },
            "colorscale": [
             [
              0,
              "#0d0887"
             ],
             [
              0.1111111111111111,
              "#46039f"
             ],
             [
              0.2222222222222222,
              "#7201a8"
             ],
             [
              0.3333333333333333,
              "#9c179e"
             ],
             [
              0.4444444444444444,
              "#bd3786"
             ],
             [
              0.5555555555555556,
              "#d8576b"
             ],
             [
              0.6666666666666666,
              "#ed7953"
             ],
             [
              0.7777777777777778,
              "#fb9f3a"
             ],
             [
              0.8888888888888888,
              "#fdca26"
             ],
             [
              1,
              "#f0f921"
             ]
            ],
            "type": "histogram2dcontour"
           }
          ],
          "mesh3d": [
           {
            "colorbar": {
             "outlinewidth": 0,
             "ticks": ""
            },
            "type": "mesh3d"
           }
          ],
          "parcoords": [
           {
            "line": {
             "colorbar": {
              "outlinewidth": 0,
              "ticks": ""
             }
            },
            "type": "parcoords"
           }
          ],
          "pie": [
           {
            "automargin": true,
            "type": "pie"
           }
          ],
          "scatter": [
           {
            "marker": {
             "colorbar": {
              "outlinewidth": 0,
              "ticks": ""
             }
            },
            "type": "scatter"
           }
          ],
          "scatter3d": [
           {
            "line": {
             "colorbar": {
              "outlinewidth": 0,
              "ticks": ""
             }
            },
            "marker": {
             "colorbar": {
              "outlinewidth": 0,
              "ticks": ""
             }
            },
            "type": "scatter3d"
           }
          ],
          "scattercarpet": [
           {
            "marker": {
             "colorbar": {
              "outlinewidth": 0,
              "ticks": ""
             }
            },
            "type": "scattercarpet"
           }
          ],
          "scattergeo": [
           {
            "marker": {
             "colorbar": {
              "outlinewidth": 0,
              "ticks": ""
             }
            },
            "type": "scattergeo"
           }
          ],
          "scattergl": [
           {
            "marker": {
             "colorbar": {
              "outlinewidth": 0,
              "ticks": ""
             }
            },
            "type": "scattergl"
           }
          ],
          "scattermapbox": [
           {
            "marker": {
             "colorbar": {
              "outlinewidth": 0,
              "ticks": ""
             }
            },
            "type": "scattermapbox"
           }
          ],
          "scatterpolar": [
           {
            "marker": {
             "colorbar": {
              "outlinewidth": 0,
              "ticks": ""
             }
            },
            "type": "scatterpolar"
           }
          ],
          "scatterpolargl": [
           {
            "marker": {
             "colorbar": {
              "outlinewidth": 0,
              "ticks": ""
             }
            },
            "type": "scatterpolargl"
           }
          ],
          "scatterternary": [
           {
            "marker": {
             "colorbar": {
              "outlinewidth": 0,
              "ticks": ""
             }
            },
            "type": "scatterternary"
           }
          ],
          "surface": [
           {
            "colorbar": {
             "outlinewidth": 0,
             "ticks": ""
            },
            "colorscale": [
             [
              0,
              "#0d0887"
             ],
             [
              0.1111111111111111,
              "#46039f"
             ],
             [
              0.2222222222222222,
              "#7201a8"
             ],
             [
              0.3333333333333333,
              "#9c179e"
             ],
             [
              0.4444444444444444,
              "#bd3786"
             ],
             [
              0.5555555555555556,
              "#d8576b"
             ],
             [
              0.6666666666666666,
              "#ed7953"
             ],
             [
              0.7777777777777778,
              "#fb9f3a"
             ],
             [
              0.8888888888888888,
              "#fdca26"
             ],
             [
              1,
              "#f0f921"
             ]
            ],
            "type": "surface"
           }
          ],
          "table": [
           {
            "cells": {
             "fill": {
              "color": "#EBF0F8"
             },
             "line": {
              "color": "white"
             }
            },
            "header": {
             "fill": {
              "color": "#C8D4E3"
             },
             "line": {
              "color": "white"
             }
            },
            "type": "table"
           }
          ]
         },
         "layout": {
          "annotationdefaults": {
           "arrowcolor": "#2a3f5f",
           "arrowhead": 0,
           "arrowwidth": 1
          },
          "coloraxis": {
           "colorbar": {
            "outlinewidth": 0,
            "ticks": ""
           }
          },
          "colorscale": {
           "diverging": [
            [
             0,
             "#8e0152"
            ],
            [
             0.1,
             "#c51b7d"
            ],
            [
             0.2,
             "#de77ae"
            ],
            [
             0.3,
             "#f1b6da"
            ],
            [
             0.4,
             "#fde0ef"
            ],
            [
             0.5,
             "#f7f7f7"
            ],
            [
             0.6,
             "#e6f5d0"
            ],
            [
             0.7,
             "#b8e186"
            ],
            [
             0.8,
             "#7fbc41"
            ],
            [
             0.9,
             "#4d9221"
            ],
            [
             1,
             "#276419"
            ]
           ],
           "sequential": [
            [
             0,
             "#0d0887"
            ],
            [
             0.1111111111111111,
             "#46039f"
            ],
            [
             0.2222222222222222,
             "#7201a8"
            ],
            [
             0.3333333333333333,
             "#9c179e"
            ],
            [
             0.4444444444444444,
             "#bd3786"
            ],
            [
             0.5555555555555556,
             "#d8576b"
            ],
            [
             0.6666666666666666,
             "#ed7953"
            ],
            [
             0.7777777777777778,
             "#fb9f3a"
            ],
            [
             0.8888888888888888,
             "#fdca26"
            ],
            [
             1,
             "#f0f921"
            ]
           ],
           "sequentialminus": [
            [
             0,
             "#0d0887"
            ],
            [
             0.1111111111111111,
             "#46039f"
            ],
            [
             0.2222222222222222,
             "#7201a8"
            ],
            [
             0.3333333333333333,
             "#9c179e"
            ],
            [
             0.4444444444444444,
             "#bd3786"
            ],
            [
             0.5555555555555556,
             "#d8576b"
            ],
            [
             0.6666666666666666,
             "#ed7953"
            ],
            [
             0.7777777777777778,
             "#fb9f3a"
            ],
            [
             0.8888888888888888,
             "#fdca26"
            ],
            [
             1,
             "#f0f921"
            ]
           ]
          },
          "colorway": [
           "#636efa",
           "#EF553B",
           "#00cc96",
           "#ab63fa",
           "#FFA15A",
           "#19d3f3",
           "#FF6692",
           "#B6E880",
           "#FF97FF",
           "#FECB52"
          ],
          "font": {
           "color": "#2a3f5f"
          },
          "geo": {
           "bgcolor": "white",
           "lakecolor": "white",
           "landcolor": "#E5ECF6",
           "showlakes": true,
           "showland": true,
           "subunitcolor": "white"
          },
          "hoverlabel": {
           "align": "left"
          },
          "hovermode": "closest",
          "mapbox": {
           "style": "light"
          },
          "paper_bgcolor": "white",
          "plot_bgcolor": "#E5ECF6",
          "polar": {
           "angularaxis": {
            "gridcolor": "white",
            "linecolor": "white",
            "ticks": ""
           },
           "bgcolor": "#E5ECF6",
           "radialaxis": {
            "gridcolor": "white",
            "linecolor": "white",
            "ticks": ""
           }
          },
          "scene": {
           "xaxis": {
            "backgroundcolor": "#E5ECF6",
            "gridcolor": "white",
            "gridwidth": 2,
            "linecolor": "white",
            "showbackground": true,
            "ticks": "",
            "zerolinecolor": "white"
           },
           "yaxis": {
            "backgroundcolor": "#E5ECF6",
            "gridcolor": "white",
            "gridwidth": 2,
            "linecolor": "white",
            "showbackground": true,
            "ticks": "",
            "zerolinecolor": "white"
           },
           "zaxis": {
            "backgroundcolor": "#E5ECF6",
            "gridcolor": "white",
            "gridwidth": 2,
            "linecolor": "white",
            "showbackground": true,
            "ticks": "",
            "zerolinecolor": "white"
           }
          },
          "shapedefaults": {
           "line": {
            "color": "#2a3f5f"
           }
          },
          "ternary": {
           "aaxis": {
            "gridcolor": "white",
            "linecolor": "white",
            "ticks": ""
           },
           "baxis": {
            "gridcolor": "white",
            "linecolor": "white",
            "ticks": ""
           },
           "bgcolor": "#E5ECF6",
           "caxis": {
            "gridcolor": "white",
            "linecolor": "white",
            "ticks": ""
           }
          },
          "title": {
           "x": 0.05
          },
          "xaxis": {
           "automargin": true,
           "gridcolor": "white",
           "linecolor": "white",
           "ticks": "",
           "title": {
            "standoff": 15
           },
           "zerolinecolor": "white",
           "zerolinewidth": 2
          },
          "yaxis": {
           "automargin": true,
           "gridcolor": "white",
           "linecolor": "white",
           "ticks": "",
           "title": {
            "standoff": 15
           },
           "zerolinecolor": "white",
           "zerolinewidth": 2
          }
         }
        },
        "title": {
         "text": "Stats of confirmed cases: China vs. Rest of world",
         "x": 0.5
        },
        "xaxis": {
         "anchor": "y",
         "domain": [
          0,
          1
         ],
         "title": {
          "text": "Agrupation by countries: China vs. Rest of the world"
         }
        },
        "yaxis": {
         "anchor": "x",
         "domain": [
          0,
          1
         ],
         "title": {
          "text": "Confirmed cases of Coronavirus"
         }
        }
       }
      },
      "text/html": [
       "<div>\n",
       "        \n",
       "        \n",
       "            <div id=\"4b90e978-07b1-409a-9e5f-f503c4fcd91b\" class=\"plotly-graph-div\" style=\"height:525px; width:100%;\"></div>\n",
       "            <script type=\"text/javascript\">\n",
       "                require([\"plotly\"], function(Plotly) {\n",
       "                    window.PLOTLYENV=window.PLOTLYENV || {};\n",
       "                    \n",
       "                if (document.getElementById(\"4b90e978-07b1-409a-9e5f-f503c4fcd91b\")) {\n",
       "                    Plotly.newPlot(\n",
       "                        '4b90e978-07b1-409a-9e5f-f503c4fcd91b',\n",
       "                        [{\"alignmentgroup\": \"True\", \"boxpoints\": \"all\", \"hoverlabel\": {\"namelength\": 0}, \"hovertemplate\": \"Agrupation by countries: China vs. Rest of the world=%{x}<br>Confirmed cases of Coronavirus=%{y}\", \"legendgroup\": \"\", \"marker\": {\"color\": \"#636efa\"}, \"name\": \"\", \"notched\": false, \"offsetgroup\": \"\", \"orientation\": \"v\", \"showlegend\": false, \"type\": \"box\", \"x\": [\"Other Countries\", \"Other Countries\", \"Other Countries\", \"Other Countries\", \"Other Countries\", \"Other Countries\", \"Other Countries\", \"Other Countries\", \"Other Countries\", \"Other Countries\", \"Other Countries\", \"Other Countries\", \"Other Countries\", \"Other Countries\", \"Other Countries\", \"Other Countries\", \"Other Countries\", \"Other Countries\", \"Other Countries\", \"Other Countries\", \"Other Countries\", \"Other Countries\", \"Other Countries\", \"Other Countries\", \"Other Countries\", \"Other Countries\", \"Other Countries\", \"Other Countries\", \"Other Countries\", \"Other Countries\", \"Other Countries\", \"Other Countries\", \"Other Countries\", \"Other Countries\", \"Other Countries\", \"Other Countries\", \"Other Countries\", \"Other Countries\", \"Other Countries\", \"Other Countries\", \"Other Countries\", \"Other Countries\", \"Other Countries\", \"Other Countries\", \"Other Countries\", \"Other Countries\", \"Other Countries\", \"Other Countries\", \"Other Countries\", \"Other Countries\", \"Other Countries\", \"Other Countries\", \"Other Countries\", \"Other Countries\", \"Other Countries\", \"Other Countries\", \"Other Countries\", \"Other Countries\", \"Other Countries\", \"Other Countries\", \"Other Countries\", \"Other Countries\", \"Other Countries\", \"Other Countries\", \"Other Countries\", \"Other Countries\", \"Other Countries\", \"Other Countries\", \"Other Countries\", \"Other Countries\", \"Other Countries\", \"Other Countries\", \"Other Countries\", \"Other Countries\", \"Other Countries\", \"Other Countries\", \"Other Countries\", \"Other Countries\", \"Other Countries\", \"Other Countries\", \"Other Countries\", \"Other Countries\", \"Other Countries\", \"Other Countries\", \"Other Countries\", \"Other Countries\", \"Other Countries\", \"Other Countries\", \"Other Countries\", \"Other Countries\", \"Other Countries\", \"Other Countries\", \"Other Countries\", \"Other Countries\", \"Other Countries\", \"Other Countries\", \"Other Countries\", \"Other Countries\", \"Other Countries\", \"Other Countries\", \"Other Countries\", \"Other Countries\", \"Other Countries\", \"Other Countries\", \"Other Countries\", \"Other Countries\", \"Other Countries\", \"Other Countries\", \"Other Countries\", \"Other Countries\", \"Other Countries\", \"Other Countries\", \"Other Countries\", \"Other Countries\", \"Other Countries\", \"Other Countries\", \"Other Countries\", \"Other Countries\", \"Other Countries\", \"Other Countries\", \"Other Countries\", \"Other Countries\", \"Other Countries\", \"Other Countries\", \"Other Countries\", \"Other Countries\", \"Other Countries\", \"Other Countries\", \"Other Countries\", \"Other Countries\", \"Other Countries\", \"Other Countries\", \"Other Countries\", \"Other Countries\", \"Other Countries\", \"Other Countries\", \"Other Countries\", \"Other Countries\", \"Other Countries\", \"Other Countries\", \"Other Countries\", \"Other Countries\", \"Other Countries\", \"Other Countries\", \"Other Countries\", \"Other Countries\", \"Other Countries\", \"Other Countries\", \"Other Countries\", \"Other Countries\", \"Other Countries\", \"Other Countries\", \"Other Countries\", \"Other Countries\", \"Other Countries\", \"Other Countries\", \"Other Countries\", \"Other Countries\", \"Other Countries\", \"Other Countries\", \"Other Countries\", \"Other Countries\", \"Other Countries\", \"Other Countries\", \"Other Countries\", \"Other Countries\", \"Other Countries\", \"Other Countries\", \"Other Countries\", \"Other Countries\", \"Other Countries\", \"Other Countries\", \"Other Countries\", \"Other Countries\", \"Other Countries\", \"Other Countries\", \"Other Countries\", \"Other Countries\", \"Other Countries\", \"Other Countries\", \"Other Countries\", \"Other Countries\", \"Other Countries\", \"Other Countries\", \"Other Countries\", \"Other Countries\", \"Other Countries\", \"Other Countries\", \"Other Countries\", \"Other Countries\", \"Other Countries\", \"Other Countries\", \"Other Countries\", \"Other Countries\", \"Other Countries\", \"Other Countries\", \"Other Countries\", \"Other Countries\", \"Other Countries\", \"Other Countries\", \"Other Countries\", \"Other Countries\", \"Other Countries\", \"Other Countries\", \"Other Countries\", \"Other Countries\", \"Other Countries\", \"Other Countries\", \"Other Countries\", \"Other Countries\", \"Other Countries\", \"Other Countries\", \"Other Countries\", \"Other Countries\", \"Other Countries\", \"Other Countries\", \"Other Countries\", \"Other Countries\", \"Other Countries\", \"Other Countries\", \"Other Countries\", \"Other Countries\", \"Other Countries\", \"Other Countries\", \"Other Countries\", \"Other Countries\", \"Other Countries\", \"Other Countries\", \"Other Countries\", \"Other Countries\", \"Other Countries\", \"Other Countries\", \"Other Countries\", \"Other Countries\", \"Other Countries\", \"Other Countries\", \"Other Countries\", \"Other Countries\", \"Other Countries\", \"Other Countries\", \"Other Countries\", \"Other Countries\", \"Other Countries\", \"Other Countries\", \"Other Countries\", \"Other Countries\", \"Other Countries\", \"Other Countries\", \"Other Countries\", \"Other Countries\", \"Other Countries\", \"Other Countries\", \"Other Countries\", \"Other Countries\", \"Other Countries\", \"Other Countries\", \"Other Countries\", \"Other Countries\", \"Other Countries\", \"Other Countries\", \"Other Countries\", \"Other Countries\", \"Other Countries\", \"Other Countries\", \"Other Countries\", \"Other Countries\", \"Other Countries\", \"Other Countries\", \"Other Countries\", \"Other Countries\", \"Other Countries\", \"Other Countries\", \"Other Countries\", \"Other Countries\", \"Other Countries\", \"Other Countries\", \"Other Countries\", \"Other Countries\", \"Other Countries\", \"Other Countries\", \"Other Countries\", \"Other Countries\", \"Other Countries\", \"Other Countries\", \"Other Countries\", \"Other Countries\", \"Other Countries\", \"Other Countries\", \"Other Countries\", \"Other Countries\", \"Other Countries\", \"Other Countries\", \"Other Countries\", \"Other Countries\", \"Other Countries\", \"Other Countries\", \"Other Countries\", \"Other Countries\", \"Other Countries\", \"Other Countries\", \"Other Countries\", \"Other Countries\", \"Other Countries\", \"Other Countries\", \"Other Countries\", \"Other Countries\", \"Other Countries\", \"Other Countries\", \"Other Countries\", \"Other Countries\", \"Other Countries\", \"Other Countries\", \"Other Countries\", \"Other Countries\", \"Other Countries\", \"Other Countries\", \"Other Countries\", \"Other Countries\", \"Other Countries\", \"Other Countries\", \"Other Countries\", \"Other Countries\", \"Other Countries\", \"Other Countries\", \"Other Countries\", \"Other Countries\", \"Other Countries\", \"Other Countries\", \"Other Countries\", \"Other Countries\", \"Other Countries\", \"Other Countries\", \"Other Countries\", \"Other Countries\", \"Other Countries\", \"Other Countries\", \"Other Countries\", \"Other Countries\", \"Other Countries\", \"Other Countries\", \"Other Countries\", \"Other Countries\", \"Other Countries\", \"Other Countries\", \"Other Countries\", \"Other Countries\", \"Other Countries\", \"Other Countries\", \"Other Countries\", \"Other Countries\", \"Other Countries\", \"Other Countries\", \"Other Countries\", \"Other Countries\", \"Other Countries\", \"Other Countries\", \"Other Countries\", \"Other Countries\", \"Other Countries\", \"Other Countries\", \"Other Countries\", \"Other Countries\", \"Other Countries\", \"Other Countries\", \"Other Countries\", \"Other Countries\", \"Other Countries\", \"Other Countries\", \"Other Countries\", \"Other Countries\", \"Other Countries\", \"Other Countries\", \"Other Countries\", \"Other Countries\", \"Other Countries\", \"Other Countries\", \"Other Countries\", \"Other Countries\", \"Other Countries\", \"Other Countries\", \"Other Countries\", \"Other Countries\", \"Other Countries\", \"Other Countries\", \"Other Countries\", \"Other Countries\", \"Other Countries\", \"Other Countries\", \"Other Countries\", \"Other Countries\", \"Other Countries\", \"Other Countries\", \"Other Countries\", \"Other Countries\", \"Other Countries\", \"Other Countries\", \"Other Countries\", \"Other Countries\", \"Other Countries\", \"Other Countries\", \"Other Countries\", \"Other Countries\", \"Other Countries\", \"Other Countries\", \"Other Countries\", \"Other Countries\", \"Other Countries\", \"Other Countries\", \"Other Countries\", \"Other Countries\", \"Other Countries\", \"Other Countries\", \"Other Countries\", \"Other Countries\", \"Other Countries\", \"Other Countries\", \"Other Countries\", \"Other Countries\", \"Other Countries\", \"Other Countries\", \"Other Countries\", \"Other Countries\", \"Other Countries\", \"Other Countries\", \"Other Countries\", \"Other Countries\", \"Other Countries\", \"Other Countries\", \"Other Countries\", \"Other Countries\", \"Other Countries\", \"Other Countries\", \"Other Countries\", \"Other Countries\", \"Other Countries\", \"Other Countries\", \"Other Countries\", \"Other Countries\", \"Other Countries\", \"Other Countries\", \"Other Countries\", \"Other Countries\", \"Other Countries\", \"Other Countries\", \"Other Countries\", \"Other Countries\", \"Other Countries\", \"Other Countries\", \"Other Countries\", \"Other Countries\", \"Other Countries\", \"Other Countries\", \"Other Countries\", \"Other Countries\", \"Other Countries\", \"China\", \"Other Countries\", \"Other Countries\", \"Other Countries\", \"Other Countries\", \"Other Countries\", \"Other Countries\", \"Other Countries\", \"Other Countries\", \"Other Countries\", \"Other Countries\", \"Other Countries\", \"Other Countries\", \"Other Countries\", \"Other Countries\", \"Other Countries\", \"Other Countries\", \"Other Countries\", \"Other Countries\", \"Other Countries\", \"Other Countries\", \"Other Countries\", \"Other Countries\", \"Other Countries\", \"Other Countries\", \"Other Countries\", \"Other Countries\", \"Other Countries\", \"Other Countries\", \"Other Countries\", \"China\", \"Other Countries\", \"Other Countries\", \"Other Countries\", \"Other Countries\", \"Other Countries\", \"Other Countries\", \"Other Countries\", \"Other Countries\", \"Other Countries\", \"China\", \"Other Countries\", \"Other Countries\", \"Other Countries\", \"Other Countries\", \"Other Countries\", \"Other Countries\", \"Other Countries\", \"Other Countries\", \"Other Countries\", \"China\", \"Other Countries\", \"Other Countries\", \"Other Countries\", \"Other Countries\", \"Other Countries\", \"Other Countries\", \"Other Countries\", \"Other Countries\", \"Other Countries\", \"China\", \"Other Countries\", \"Other Countries\", \"Other Countries\", \"Other Countries\", \"Other Countries\", \"Other Countries\", \"Other Countries\", \"Other Countries\", \"Other Countries\", \"China\", \"Other Countries\", \"Other Countries\", \"Other Countries\", \"Other Countries\", \"Other Countries\", \"Other Countries\", \"Other Countries\", \"Other Countries\", \"Other Countries\", \"China\", \"Other Countries\", \"Other Countries\", \"Other Countries\", \"Other Countries\", \"Other Countries\", \"Other Countries\", \"Other Countries\", \"Other Countries\", \"Other Countries\", \"China\", \"Other Countries\", \"Other Countries\", \"Other Countries\", \"Other Countries\", \"Other Countries\", \"Other Countries\", \"Other Countries\", \"Other Countries\", \"Other Countries\", \"China\", \"Other Countries\", \"Other Countries\", \"Other Countries\", \"Other Countries\", \"Other Countries\", \"Other Countries\", \"Other Countries\", \"Other Countries\", \"Other Countries\", \"China\", \"Other Countries\", \"Other Countries\", \"Other Countries\", \"Other Countries\", \"Other Countries\", \"Other Countries\", \"Other Countries\", \"Other Countries\", \"Other Countries\", \"China\", \"Other Countries\", \"Other Countries\", \"Other Countries\", \"Other Countries\", \"Other Countries\", \"Other Countries\", \"Other Countries\", \"Other Countries\", \"Other Countries\", \"China\", \"Other Countries\", \"Other Countries\", \"Other Countries\", \"Other Countries\", \"Other Countries\", \"Other Countries\", \"Other Countries\", \"Other Countries\", \"Other Countries\", \"China\", \"Other Countries\", \"Other Countries\", \"Other Countries\", \"Other Countries\", \"Other Countries\", \"Other Countries\", \"Other Countries\", \"Other Countries\", \"Other Countries\", \"China\", \"Other Countries\", \"Other Countries\", \"Other Countries\", \"Other Countries\", \"Other Countries\", \"Other Countries\", \"Other Countries\", \"Other Countries\", \"Other Countries\"], \"x0\": \" \", \"xaxis\": \"x\", \"y\": [0, 2, 1, 1, 1, 2, 2, 1, 2, 0, 0, 1, 1, 1, 3, 2, 2, 2, 2, 3, 2, 3, 5, 2, 2, 5, 2, 2, 3, 3, 2, 3, 7, 4, 3, 8, 4, 5, 4, 4, 3, 4, 8, 4, 3, 8, 4, 6, 4, 5, 4, 5, 8, 5, 3, 8, 7, 7, 4, 7, 4, 8, 14, 5, 4, 10, 7, 7, 7, 7, 4, 8, 14, 5, 5, 10, 11, 7, 8, 10, 4, 9, 14, 9, 5, 12, 15, 7, 8, 13, 11, 10, 19, 9, 5, 13, 20, 7, 8, 16, 12, 10, 19, 12, 8, 15, 20, 8, 8, 18, 15, 10, 19, 12, 10, 15, 20, 8, 8, 18, 15, 10, 19, 12, 12, 17, 22, 10, 10, 24, 16, 11, 25, 13, 12, 21, 22, 10, 12, 28, 19, 11, 25, 13, 12, 24, 45, 10, 12, 28, 23, 16, 25, 14, 12, 25, 25, 10, 12, 30, 24, 16, 25, 15, 13, 26, 25, 16, 33, 24, 17, 32, 13, 15, 13, 29, 26, 16, 40, 25, 18, 32, 13, 15, 14, 38, 26, 18, 45, 27, 18, 32, 14, 15, 14, 49, 26, 18, 47, 28, 18, 33, 15, 15, 16, 50, 28, 18, 50, 28, 18, 33, 15, 15, 16, 53, 28, 19, 58, 28, 18, 33, 16, 15, 16, 56, 29, 19, 67, 28, 18, 33, 16, 15, 16, 56, 43, 22, 72, 28, 18, 33, 16, 15, 16, 57, 59, 22, 75, 29, 20, 34, 16, 15, 16, 60, 66, 22, 77, 30, 22, 35, 16, 15, 16, 62, 74, 22, 81, 31, 22, 35, 16, 15, 16, 63, 84, 22, 84, 31, 23, 35, 16, 15, 16, 68, 94, 22, 84, 104, 24, 35, 16, 15, 16, 68, 18, 105, 22, 85, 204, 26, 35, 19, 20, 69, 28, 122, 22, 85, 433, 26, 35, 22, 62, 74, 43, 147, 22, 89, 602, 28, 35, 22, 155, 79, 61, 159, 22, 89, 833, 30, 35, 22, 229, 23, 84, 95, 170, 91, 977, 31, 37, 32, 322, 33, 91, 139, 189, 93, 1261, 32, 40, 27, 453, 92, 245, 214, 43, 93, 1766, 40, 38, 46, 655, 94, 388, 228, 90, 93, 2337, 41, 57, 48, 888, 95, 593, 241, 45, 102, 3150, 100, 79, 1128, 45, 47, 96, 978, 256, 106, 3736, 130, 130, 1694, 84, 100, 1501, 274, 56, 108, 4335, 191, 159, 2036, 120, 100, 2336, 293, 56, 110, 5186, 204, 196, 2502, 165, 105, 2922, 331, 110, 5621, 285, 262, 3089, 222, 90, 105, 3513, 360, 117, 6088, 377, 482, 3858, 259, 114, 4747, 420, 130, 6593, 653, 670, 4636, 128, 400, 214, 5823, 461, 7041, 169, 949, 799, 5883, 188, 500, 268, 1066, 6566, 502, 7314, 1126, 1040, 7375, 265, 673, 337, 7161, 511, 7478, 1209, 1176, 9172, 321, 1073, 248, 374, 581, 267, 1784, 1457, 10149, 382, 400, 1695, 355, 491, 80921, 20364, 1340, 873, 2287, 5583, 12462, 7509, 1314, 1259, 80932, 10075, 639, 617, 2284, 2078, 12462, 702, 2277, 652, 80945, 11364, 804, 3667, 3675, 17660, 996, 5232, 814, 1139, 80977, 12729, 4481, 4585, 21157, 1090, 6391, 961, 1359, 1143, 81003, 13938, 4513, 5795, 24747, 1135, 1221, 7798, 2200, 1144, 81033, 14991, 6650, 7272, 27980, 1414, 1333, 9942, 2200, 1551, 81058, 16169, 7683, 9257, 31506, 1708, 1463, 11748, 2700, 1960, 81102, 17361, 1646, 9052, 12327, 35713, 2056, 13910, 3028, 2642, 81156, 18407, 2013, 10886, 15320, 41035, 2465, 17963, 4075, 2716, 81250, 19644, 2388, 12632, 19848, 47021, 3003, 20410, 5294, 4014, 81305, 20610, 2815, 14308, 22213, 53578, 3640, 25374, 6575, 5067, 81533, 21638, 3401, 16044, 24873, 59138, 4216, 28768, 7245, 5741, 81496, 23049, 4474, 20123, 29056, 63927, 4764, 35136, 8795, 6726], \"y0\": \" \", \"yaxis\": \"y\"}],\n",
       "                        {\"boxmode\": \"group\", \"legend\": {\"tracegroupgap\": 0}, \"margin\": {\"t\": 60}, \"template\": {\"data\": {\"bar\": [{\"error_x\": {\"color\": \"#2a3f5f\"}, \"error_y\": {\"color\": \"#2a3f5f\"}, \"marker\": {\"line\": {\"color\": \"#E5ECF6\", \"width\": 0.5}}, \"type\": \"bar\"}], \"barpolar\": [{\"marker\": {\"line\": {\"color\": \"#E5ECF6\", \"width\": 0.5}}, \"type\": \"barpolar\"}], \"carpet\": [{\"aaxis\": {\"endlinecolor\": \"#2a3f5f\", \"gridcolor\": \"white\", \"linecolor\": \"white\", \"minorgridcolor\": \"white\", \"startlinecolor\": \"#2a3f5f\"}, \"baxis\": {\"endlinecolor\": \"#2a3f5f\", \"gridcolor\": \"white\", \"linecolor\": \"white\", \"minorgridcolor\": \"white\", \"startlinecolor\": \"#2a3f5f\"}, \"type\": \"carpet\"}], \"choropleth\": [{\"colorbar\": {\"outlinewidth\": 0, \"ticks\": \"\"}, \"type\": \"choropleth\"}], \"contour\": [{\"colorbar\": {\"outlinewidth\": 0, \"ticks\": \"\"}, \"colorscale\": [[0.0, \"#0d0887\"], [0.1111111111111111, \"#46039f\"], [0.2222222222222222, \"#7201a8\"], [0.3333333333333333, \"#9c179e\"], [0.4444444444444444, \"#bd3786\"], [0.5555555555555556, \"#d8576b\"], [0.6666666666666666, \"#ed7953\"], [0.7777777777777778, \"#fb9f3a\"], [0.8888888888888888, \"#fdca26\"], [1.0, \"#f0f921\"]], \"type\": \"contour\"}], \"contourcarpet\": [{\"colorbar\": {\"outlinewidth\": 0, \"ticks\": \"\"}, \"type\": \"contourcarpet\"}], \"heatmap\": [{\"colorbar\": {\"outlinewidth\": 0, \"ticks\": \"\"}, \"colorscale\": [[0.0, \"#0d0887\"], [0.1111111111111111, \"#46039f\"], [0.2222222222222222, \"#7201a8\"], [0.3333333333333333, \"#9c179e\"], [0.4444444444444444, \"#bd3786\"], [0.5555555555555556, \"#d8576b\"], [0.6666666666666666, \"#ed7953\"], [0.7777777777777778, \"#fb9f3a\"], [0.8888888888888888, \"#fdca26\"], [1.0, \"#f0f921\"]], \"type\": \"heatmap\"}], \"heatmapgl\": [{\"colorbar\": {\"outlinewidth\": 0, \"ticks\": \"\"}, \"colorscale\": [[0.0, \"#0d0887\"], [0.1111111111111111, \"#46039f\"], [0.2222222222222222, \"#7201a8\"], [0.3333333333333333, \"#9c179e\"], [0.4444444444444444, \"#bd3786\"], [0.5555555555555556, \"#d8576b\"], [0.6666666666666666, \"#ed7953\"], [0.7777777777777778, \"#fb9f3a\"], [0.8888888888888888, \"#fdca26\"], [1.0, \"#f0f921\"]], \"type\": \"heatmapgl\"}], \"histogram\": [{\"marker\": {\"colorbar\": {\"outlinewidth\": 0, \"ticks\": \"\"}}, \"type\": \"histogram\"}], \"histogram2d\": [{\"colorbar\": {\"outlinewidth\": 0, \"ticks\": \"\"}, \"colorscale\": [[0.0, \"#0d0887\"], [0.1111111111111111, \"#46039f\"], [0.2222222222222222, \"#7201a8\"], [0.3333333333333333, \"#9c179e\"], [0.4444444444444444, \"#bd3786\"], [0.5555555555555556, \"#d8576b\"], [0.6666666666666666, \"#ed7953\"], [0.7777777777777778, \"#fb9f3a\"], [0.8888888888888888, \"#fdca26\"], [1.0, \"#f0f921\"]], \"type\": \"histogram2d\"}], \"histogram2dcontour\": [{\"colorbar\": {\"outlinewidth\": 0, \"ticks\": \"\"}, \"colorscale\": [[0.0, \"#0d0887\"], [0.1111111111111111, \"#46039f\"], [0.2222222222222222, \"#7201a8\"], [0.3333333333333333, \"#9c179e\"], [0.4444444444444444, \"#bd3786\"], [0.5555555555555556, \"#d8576b\"], [0.6666666666666666, \"#ed7953\"], [0.7777777777777778, \"#fb9f3a\"], [0.8888888888888888, \"#fdca26\"], [1.0, \"#f0f921\"]], \"type\": \"histogram2dcontour\"}], \"mesh3d\": [{\"colorbar\": {\"outlinewidth\": 0, \"ticks\": \"\"}, \"type\": \"mesh3d\"}], \"parcoords\": [{\"line\": {\"colorbar\": {\"outlinewidth\": 0, \"ticks\": \"\"}}, \"type\": \"parcoords\"}], \"pie\": [{\"automargin\": true, \"type\": \"pie\"}], \"scatter\": [{\"marker\": {\"colorbar\": {\"outlinewidth\": 0, \"ticks\": \"\"}}, \"type\": \"scatter\"}], \"scatter3d\": [{\"line\": {\"colorbar\": {\"outlinewidth\": 0, \"ticks\": \"\"}}, \"marker\": {\"colorbar\": {\"outlinewidth\": 0, \"ticks\": \"\"}}, \"type\": \"scatter3d\"}], \"scattercarpet\": [{\"marker\": {\"colorbar\": {\"outlinewidth\": 0, \"ticks\": \"\"}}, \"type\": \"scattercarpet\"}], \"scattergeo\": [{\"marker\": {\"colorbar\": {\"outlinewidth\": 0, \"ticks\": \"\"}}, \"type\": \"scattergeo\"}], \"scattergl\": [{\"marker\": {\"colorbar\": {\"outlinewidth\": 0, \"ticks\": \"\"}}, \"type\": \"scattergl\"}], \"scattermapbox\": [{\"marker\": {\"colorbar\": {\"outlinewidth\": 0, \"ticks\": \"\"}}, \"type\": \"scattermapbox\"}], \"scatterpolar\": [{\"marker\": {\"colorbar\": {\"outlinewidth\": 0, \"ticks\": \"\"}}, \"type\": \"scatterpolar\"}], \"scatterpolargl\": [{\"marker\": {\"colorbar\": {\"outlinewidth\": 0, \"ticks\": \"\"}}, \"type\": \"scatterpolargl\"}], \"scatterternary\": [{\"marker\": {\"colorbar\": {\"outlinewidth\": 0, \"ticks\": \"\"}}, \"type\": \"scatterternary\"}], \"surface\": [{\"colorbar\": {\"outlinewidth\": 0, \"ticks\": \"\"}, \"colorscale\": [[0.0, \"#0d0887\"], [0.1111111111111111, \"#46039f\"], [0.2222222222222222, \"#7201a8\"], [0.3333333333333333, \"#9c179e\"], [0.4444444444444444, \"#bd3786\"], [0.5555555555555556, \"#d8576b\"], [0.6666666666666666, \"#ed7953\"], [0.7777777777777778, \"#fb9f3a\"], [0.8888888888888888, \"#fdca26\"], [1.0, \"#f0f921\"]], \"type\": \"surface\"}], \"table\": [{\"cells\": {\"fill\": {\"color\": \"#EBF0F8\"}, \"line\": {\"color\": \"white\"}}, \"header\": {\"fill\": {\"color\": \"#C8D4E3\"}, \"line\": {\"color\": \"white\"}}, \"type\": \"table\"}]}, \"layout\": {\"annotationdefaults\": {\"arrowcolor\": \"#2a3f5f\", \"arrowhead\": 0, \"arrowwidth\": 1}, \"coloraxis\": {\"colorbar\": {\"outlinewidth\": 0, \"ticks\": \"\"}}, \"colorscale\": {\"diverging\": [[0, \"#8e0152\"], [0.1, \"#c51b7d\"], [0.2, \"#de77ae\"], [0.3, \"#f1b6da\"], [0.4, \"#fde0ef\"], [0.5, \"#f7f7f7\"], [0.6, \"#e6f5d0\"], [0.7, \"#b8e186\"], [0.8, \"#7fbc41\"], [0.9, \"#4d9221\"], [1, \"#276419\"]], \"sequential\": [[0.0, \"#0d0887\"], [0.1111111111111111, \"#46039f\"], [0.2222222222222222, \"#7201a8\"], [0.3333333333333333, \"#9c179e\"], [0.4444444444444444, \"#bd3786\"], [0.5555555555555556, \"#d8576b\"], [0.6666666666666666, \"#ed7953\"], [0.7777777777777778, \"#fb9f3a\"], [0.8888888888888888, \"#fdca26\"], [1.0, \"#f0f921\"]], \"sequentialminus\": [[0.0, \"#0d0887\"], [0.1111111111111111, \"#46039f\"], [0.2222222222222222, \"#7201a8\"], [0.3333333333333333, \"#9c179e\"], [0.4444444444444444, \"#bd3786\"], [0.5555555555555556, \"#d8576b\"], [0.6666666666666666, \"#ed7953\"], [0.7777777777777778, \"#fb9f3a\"], [0.8888888888888888, \"#fdca26\"], [1.0, \"#f0f921\"]]}, \"colorway\": [\"#636efa\", \"#EF553B\", \"#00cc96\", \"#ab63fa\", \"#FFA15A\", \"#19d3f3\", \"#FF6692\", \"#B6E880\", \"#FF97FF\", \"#FECB52\"], \"font\": {\"color\": \"#2a3f5f\"}, \"geo\": {\"bgcolor\": \"white\", \"lakecolor\": \"white\", \"landcolor\": \"#E5ECF6\", \"showlakes\": true, \"showland\": true, \"subunitcolor\": \"white\"}, \"hoverlabel\": {\"align\": \"left\"}, \"hovermode\": \"closest\", \"mapbox\": {\"style\": \"light\"}, \"paper_bgcolor\": \"white\", \"plot_bgcolor\": \"#E5ECF6\", \"polar\": {\"angularaxis\": {\"gridcolor\": \"white\", \"linecolor\": \"white\", \"ticks\": \"\"}, \"bgcolor\": \"#E5ECF6\", \"radialaxis\": {\"gridcolor\": \"white\", \"linecolor\": \"white\", \"ticks\": \"\"}}, \"scene\": {\"xaxis\": {\"backgroundcolor\": \"#E5ECF6\", \"gridcolor\": \"white\", \"gridwidth\": 2, \"linecolor\": \"white\", \"showbackground\": true, \"ticks\": \"\", \"zerolinecolor\": \"white\"}, \"yaxis\": {\"backgroundcolor\": \"#E5ECF6\", \"gridcolor\": \"white\", \"gridwidth\": 2, \"linecolor\": \"white\", \"showbackground\": true, \"ticks\": \"\", \"zerolinecolor\": \"white\"}, \"zaxis\": {\"backgroundcolor\": \"#E5ECF6\", \"gridcolor\": \"white\", \"gridwidth\": 2, \"linecolor\": \"white\", \"showbackground\": true, \"ticks\": \"\", \"zerolinecolor\": \"white\"}}, \"shapedefaults\": {\"line\": {\"color\": \"#2a3f5f\"}}, \"ternary\": {\"aaxis\": {\"gridcolor\": \"white\", \"linecolor\": \"white\", \"ticks\": \"\"}, \"baxis\": {\"gridcolor\": \"white\", \"linecolor\": \"white\", \"ticks\": \"\"}, \"bgcolor\": \"#E5ECF6\", \"caxis\": {\"gridcolor\": \"white\", \"linecolor\": \"white\", \"ticks\": \"\"}}, \"title\": {\"x\": 0.05}, \"xaxis\": {\"automargin\": true, \"gridcolor\": \"white\", \"linecolor\": \"white\", \"ticks\": \"\", \"title\": {\"standoff\": 15}, \"zerolinecolor\": \"white\", \"zerolinewidth\": 2}, \"yaxis\": {\"automargin\": true, \"gridcolor\": \"white\", \"linecolor\": \"white\", \"ticks\": \"\", \"title\": {\"standoff\": 15}, \"zerolinecolor\": \"white\", \"zerolinewidth\": 2}}}, \"title\": {\"text\": \"Stats of confirmed cases: China vs. Rest of world\", \"x\": 0.5}, \"xaxis\": {\"anchor\": \"y\", \"domain\": [0.0, 1.0], \"title\": {\"text\": \"Agrupation by countries: China vs. Rest of the world\"}}, \"yaxis\": {\"anchor\": \"x\", \"domain\": [0.0, 1.0], \"title\": {\"text\": \"Confirmed cases of Coronavirus\"}}},\n",
       "                        {\"responsive\": true}\n",
       "                    ).then(function(){\n",
       "                            \n",
       "var gd = document.getElementById('4b90e978-07b1-409a-9e5f-f503c4fcd91b');\n",
       "var x = new MutationObserver(function (mutations, observer) {{\n",
       "        var display = window.getComputedStyle(gd).display;\n",
       "        if (!display || display === 'none') {{\n",
       "            console.log([gd, 'removed!']);\n",
       "            Plotly.purge(gd);\n",
       "            observer.disconnect();\n",
       "        }}\n",
       "}});\n",
       "\n",
       "// Listen for the removal of the full notebook cells\n",
       "var notebookContainer = gd.closest('#notebook-container');\n",
       "if (notebookContainer) {{\n",
       "    x.observe(notebookContainer, {childList: true});\n",
       "}}\n",
       "\n",
       "// Listen for the clearing of the current output cell\n",
       "var outputEl = gd.closest('.output');\n",
       "if (outputEl) {{\n",
       "    x.observe(outputEl, {childList: true});\n",
       "}}\n",
       "\n",
       "                        })\n",
       "                };\n",
       "                });\n",
       "            </script>\n",
       "        </div>"
      ]
     },
     "metadata": {},
     "output_type": "display_data"
    }
   ],
   "source": [
    "fig = px.box(df_countries_top10, y=\"confirmed\", x='class', \n",
    "             labels={'confirmed': f'Confirmed cases of Coronavirus',\n",
    "            'class':'Agrupation by countries: China vs. Rest of the world'},\n",
    "             points=\"all\")\n",
    "fig.update_layout(title_text=\"Stats of confirmed cases: China vs. Rest of world\", title_x=0.5)\n",
    "fig.show()"
   ]
  },
  {
   "cell_type": "markdown",
   "metadata": {
    "hidden": true
   },
   "source": [
    "**Insights:**\n",
    "\n",
    "En este gráfico no se puede sacar muchos insights ya que la curva de tiempo de la evolución del virus en China está en un estado de descenso, mientras que en el resto del mundo está ascendiendo. Lo que sí se puede ver es que la gravedad de los casos en el mundo ya está superando a China y se deben estudiar en los próximos días la evolución en los países más afectados de forma separada. "
   ]
  },
  {
   "cell_type": "markdown",
   "metadata": {},
   "source": [
    "# 8. Geoplot: Casos informados de coronavirus por países"
   ]
  },
  {
   "cell_type": "code",
   "execution_count": 116,
   "metadata": {
    "ExecuteTime": {
     "end_time": "2020-03-25T21:29:39.301325Z",
     "start_time": "2020-03-25T21:29:34.517435Z"
    }
   },
   "outputs": [
    {
     "data": {
      "application/vnd.jupyter.widget-view+json": {
       "model_id": "65953b8e1f2b413db0da668525f79f38",
       "version_major": 2,
       "version_minor": 0
      },
      "text/plain": [
       "interactive(children=(Dropdown(description='scope', options=('World', 'USA', 'Europe', 'Asia', 'Africa', 'Nort…"
      ]
     },
     "metadata": {},
     "output_type": "display_data"
    }
   ],
   "source": [
    "col_vars = ['confirmed','deaths', 'recovered']\n",
    "scope_vars = ['World', 'USA', 'Europe', 'Asia', 'Africa', 'North America', 'South America']\n",
    "\n",
    "df_countries_region = df_coronavirus.groupby(['country','date'])[col_vars].agg('sum').reset_index()\n",
    "\n",
    "def make_scatter(scope): \n",
    "    fig = px.scatter_geo(df_coronavirus, lon = df_coronavirus['longitude'], lat = df_coronavirus['latitude'], #color=\"continent\",\n",
    "                     scope=scope.lower(),\n",
    "                     hover_name=df_coronavirus['country'], \n",
    "                     size=df_coronavirus['confirmed'],\n",
    "                     size_max=50,\n",
    "                     animation_frame=df_coronavirus.date.dt.strftime('%Y-%m-%d'))  \n",
    "    fig.update_layout(title_text=\"Evolución de casos confirmados a nivel mundial\", title_x=0.5, margin_l=0)\n",
    "    fig.show()\n",
    "\n",
    "_= interact(make_scatter, scope = (scope_vars))"
   ]
  },
  {
   "cell_type": "markdown",
   "metadata": {},
   "source": [
    "**Insights:**\n",
    "\n",
    "Hace un par de meses China era el protagonista mundial de este gráfico, sin embargo el panorama actual es distinto, ya que el virus se ha diseminado por toda Europa."
   ]
  },
  {
   "cell_type": "markdown",
   "metadata": {},
   "source": [
    "# 9.Estadística"
   ]
  },
  {
   "cell_type": "markdown",
   "metadata": {},
   "source": [
    "## 9.1. Funciones"
   ]
  },
  {
   "cell_type": "code",
   "execution_count": 26,
   "metadata": {
    "ExecuteTime": {
     "end_time": "2020-03-28T12:26:11.999360Z",
     "start_time": "2020-03-28T12:26:11.980380Z"
    },
    "code_folding": [
     0
    ]
   },
   "outputs": [],
   "source": [
    "def hipotesis_result (pval, conf):\n",
    "    \n",
    "    \"\"\"\n",
    "    ************************************Contraste de hipótesis************************************\n",
    "    \n",
    "    Devuelve la decisión de rechazar o no la hipótesis nula dados el p-valor y el nivel de confianza.\n",
    "    \n",
    "    Input:\n",
    "    * pval(float): P-valor. Probabilidad de que un valor sea posible dada una hipótesis nula cierta.\n",
    "    * conf(float) : Nivel de confianza deseado.\n",
    "    \n",
    "    Output:\n",
    "    * (str): Si se acepta o rechaza la H0 y los valores'pval' y 'conf' introducidos.\n",
    "    \n",
    "    ***********************************************************************************************\n",
    "    \n",
    "    \"\"\"\n",
    "    alpha = 1 - conf\n",
    "    if pval <= alpha:\n",
    "        return f'Se rechaza la hipótesis nula (H0). Nuestro p-valor {pval} es menor a nuestra α {round(alpha,2)}'\n",
    "    else:\n",
    "        return f'No se rechaza la hipótesis nula (H0). Nuestro p-valor {pval} es mayor a nuestra α {round(alpha,2)}'\n",
    "\n",
    "\n",
    "\n",
    "def model_summary (x, y):\n",
    "    \n",
    "    from statsmodels.regression import linear_model as sm\n",
    "    \n",
    "    \"\"\"\n",
    "    ************************************Sumario************************************\n",
    "    \n",
    "    Devuelve la sumarización de diferentes estadísticos.\n",
    "    \n",
    "    Input:\n",
    "    * X: muestra 1\n",
    "    * Y: muestra 2\n",
    "\n",
    "    \n",
    "    Output:\n",
    "    * Listado de estadísticos.\n",
    "    \n",
    "    ***********************************************************************************************\n",
    "    \n",
    "    \"\"\"\n",
    "    model = sm.OLS(y.astype(float), y.astype(float)).fit()\n",
    "\n",
    "    print(model.summary())\n",
    "    \n",
    "\n",
    "def linear_reg (x, y, dataset):\n",
    "    \n",
    "    linear_regression = LinearRegression()\n",
    "    linear_regression.fit(x,y)\n",
    "    y_pred = linear_regression.predict(x)\n",
    "    sns.lmplot(\"x\",\"y\", data = dataset)\n",
    "    \n",
    "    \n",
    "    \n",
    "def expon_distribution ():\n",
    "    return 1 - stats.expon(1/10).cdf(15)\n",
    "\n",
    "\n",
    "def t_test_features(s1, s2, conf, features=['confirmed','deaths', 'recovered', 'existing', 'estimated']):\n",
    "    \n",
    "    \"\"\"\n",
    "    La prueba 't de Student' se aplica cuando la población estudiada sigue una \n",
    "    distribución normal pero el tamaño muestral es demasiado pequeño como para \n",
    "    que el estadístico en el que está basada la inferencia esté normalmente \n",
    "    distribuido, utilizándose una estimación de la desviación típica en lugar del \n",
    "    valor real. Es utilizado en análisis discriminante.\n",
    "    \n",
    "    Calculate the T-test for the means of two independent samples of scores.\n",
    "\n",
    "    This is a two-sided test for the null hypothesis that 2 independent samples\n",
    "    have identical average (expected) values. This test assumes that the populations\n",
    "    have identical variances by default.\n",
    "    \n",
    "    Args:\n",
    "        s1 (dataframe): sample 1\n",
    "        s2 (dataframe): sample 2\n",
    "        features (list): an array of features to test\n",
    "    \n",
    "    Returns:\n",
    "        dict: a dictionary of t-test scores for each feature where the feature name\n",
    "        is the key and the p-value is the value\n",
    "    \"\"\"\n",
    "    \n",
    "    results = {}\n",
    "    \n",
    "    # Your code here\n",
    "    \n",
    "    for feat in features:\n",
    "        c = sp.ttest_ind(s1[feat], s2[feat])[1]\n",
    "        results[feat] = hipotesis_result(c,conf)\n",
    "    \n",
    "    return results\n",
    " \n",
    "def log_distribution(x, a, b, c, d):\n",
    "    return a/(d + b*np.exp(-c * x))"
   ]
  },
  {
   "cell_type": "code",
   "execution_count": 16,
   "metadata": {
    "ExecuteTime": {
     "end_time": "2020-03-28T12:23:59.455377Z",
     "start_time": "2020-03-28T12:23:59.448968Z"
    }
   },
   "outputs": [],
   "source": [
    "def poly_reg (country, days_predict):\n",
    "    \n",
    "    \"\"\"\n",
    "    La regresión polinómica es una predicción de una variable de \n",
    "    respuesta cuantitativa a partir de una variable predictora \n",
    "    cuantitativa, donde la relación se modela como una función \n",
    "    polinomial de orden n.\n",
    "    \n",
    "    Args:\n",
    "        country: país a predecir\n",
    "        days_predict: hasta que día\n",
    "\n",
    "    \n",
    "    Returns:\n",
    "        plot con la predicción.\n",
    "        \n",
    "    \"\"\"\n",
    "    \n",
    "    selection = df_countries[df_countries['country'] == country]\n",
    "    X = selection['days_confirmed'].values\n",
    "    y = selection['deaths'].values\n",
    "    mymodel = np.poly1d(np.polyfit(X, y, 3))\n",
    "    myline = np.linspace(1, days_predict, 100)\n",
    "    plt.plot(myline, mymodel(myline))\n",
    "    plt.scatter(X,y)\n",
    "    plt.show()"
   ]
  },
  {
   "cell_type": "code",
   "execution_count": 28,
   "metadata": {
    "ExecuteTime": {
     "end_time": "2020-03-28T12:27:52.724547Z",
     "start_time": "2020-03-28T12:27:52.713497Z"
    }
   },
   "outputs": [],
   "source": [
    "def log_reg (country, days_predict):\n",
    "    \n",
    "    \"\"\"\n",
    "    La regresión polinómica es una predicción de una variable de \n",
    "    respuesta cuantitativa a partir de una variable predictora \n",
    "    cuantitativa, donde la relación se modela como una función \n",
    "    polinomial de orden n.\n",
    "    \n",
    "    Args:\n",
    "        country: país a predecir\n",
    "        days_predict: hasta que día\n",
    "\n",
    "    \n",
    "    Returns:\n",
    "        plot con la predicción.\n",
    "        \n",
    "    \"\"\"\n",
    "    \n",
    "    selection = df_countries[df_countries['country'] == country]\n",
    "    X = selection['days_confirmed'].values\n",
    "    Y = selection['confirmed'].values\n",
    "    \n",
    "    popt, pcov = curve_fit(log_distribution, X, Y)\n",
    "    x_days_predict = np.arange(0,days_predict,1)\n",
    "    plt.plot(x_days_predict, log_distribution(x_days_predict, *popt), label='Model', linewidth=3)\n",
    "    plt.plot(selection['days_confirmed'], selection['confirmed'], 'o', label='Confirmed')\n",
    "    plt.plot(selection['days_death'], selection['deaths'], 'o', label='deaths')\n",
    "    plt.plot(selection['days_recovered'], selection['recovered'], 'o', label='recovered')\n",
    "    plt.plot(selection['days_confirmed'], selection['existing'], 'o', label='existing')\n",
    "    plt.legend()\n",
    "    plt.xlabel('Number of Days')\n",
    "    plt.ylabel('Number of Cases')\n",
    "    plt.grid('on')\n",
    "    plt.show()"
   ]
  },
  {
   "cell_type": "code",
   "execution_count": 18,
   "metadata": {
    "ExecuteTime": {
     "end_time": "2020-03-28T12:24:02.363590Z",
     "start_time": "2020-03-28T12:24:02.355013Z"
    }
   },
   "outputs": [],
   "source": [
    "def umann_whitney_features(s1, s2, conf, features):\n",
    "    \n",
    "    \"\"\"\n",
    "    La prueba U de MannWhitney es una prueba no paramétrica aplicada a dos muestras independientes. Es la versión \n",
    "    no paramétrica de la habitual prueba t de Student.\n",
    "    \n",
    "    Args:\n",
    "        s1 (dataframe): sample 1\n",
    "        s2 (dataframe): sample 2\n",
    "        features (list): an array of features to test\n",
    "    \n",
    "    Returns:\n",
    "        dict: a dictionary of t-test scores for each feature where the feature name\n",
    "        is the key and the p-value is the value\n",
    "    \"\"\"\n",
    "    \n",
    "    results = {}\n",
    "    \n",
    "    # Your code here\n",
    "    \n",
    "    for feat in features:\n",
    "        c = sp.stats.mannwhitneyu(s1[feat], s2[feat])[1]\n",
    "        results[feat] = hipotesis_result(c,conf)\n",
    "    \n",
    "    return results"
   ]
  },
  {
   "cell_type": "markdown",
   "metadata": {},
   "source": [
    "## 9.1. España vs Italia"
   ]
  },
  {
   "cell_type": "code",
   "execution_count": 19,
   "metadata": {
    "ExecuteTime": {
     "end_time": "2020-03-28T12:24:04.009879Z",
     "start_time": "2020-03-28T12:24:03.978319Z"
    }
   },
   "outputs": [
    {
     "data": {
      "text/html": [
       "<div>\n",
       "<style scoped>\n",
       "    .dataframe tbody tr th:only-of-type {\n",
       "        vertical-align: middle;\n",
       "    }\n",
       "\n",
       "    .dataframe tbody tr th {\n",
       "        vertical-align: top;\n",
       "    }\n",
       "\n",
       "    .dataframe thead th {\n",
       "        text-align: right;\n",
       "    }\n",
       "</style>\n",
       "<table border=\"1\" class=\"dataframe\">\n",
       "  <thead>\n",
       "    <tr style=\"text-align: right;\">\n",
       "      <th>status</th>\n",
       "      <th>date</th>\n",
       "      <th>class</th>\n",
       "      <th>continent</th>\n",
       "      <th>country</th>\n",
       "      <th>confirmed</th>\n",
       "      <th>deaths</th>\n",
       "      <th>recovered</th>\n",
       "      <th>existing</th>\n",
       "      <th>days_confirmed</th>\n",
       "      <th>days_death</th>\n",
       "      <th>days_recovered</th>\n",
       "      <th>estimated</th>\n",
       "    </tr>\n",
       "  </thead>\n",
       "  <tbody>\n",
       "    <tr>\n",
       "      <th>3917</th>\n",
       "      <td>2020-03-02</td>\n",
       "      <td>Other Countries</td>\n",
       "      <td>Europe</td>\n",
       "      <td>Spain</td>\n",
       "      <td>120</td>\n",
       "      <td>0</td>\n",
       "      <td>2</td>\n",
       "      <td>118</td>\n",
       "      <td>1</td>\n",
       "      <td>0</td>\n",
       "      <td>1</td>\n",
       "      <td>11880</td>\n",
       "    </tr>\n",
       "    <tr>\n",
       "      <th>3918</th>\n",
       "      <td>2020-03-03</td>\n",
       "      <td>Other Countries</td>\n",
       "      <td>Europe</td>\n",
       "      <td>Spain</td>\n",
       "      <td>165</td>\n",
       "      <td>1</td>\n",
       "      <td>2</td>\n",
       "      <td>162</td>\n",
       "      <td>2</td>\n",
       "      <td>0</td>\n",
       "      <td>2</td>\n",
       "      <td>16335</td>\n",
       "    </tr>\n",
       "    <tr>\n",
       "      <th>3919</th>\n",
       "      <td>2020-03-04</td>\n",
       "      <td>Other Countries</td>\n",
       "      <td>Europe</td>\n",
       "      <td>Spain</td>\n",
       "      <td>222</td>\n",
       "      <td>2</td>\n",
       "      <td>2</td>\n",
       "      <td>218</td>\n",
       "      <td>3</td>\n",
       "      <td>0</td>\n",
       "      <td>3</td>\n",
       "      <td>21978</td>\n",
       "    </tr>\n",
       "    <tr>\n",
       "      <th>3920</th>\n",
       "      <td>2020-03-05</td>\n",
       "      <td>Other Countries</td>\n",
       "      <td>Europe</td>\n",
       "      <td>Spain</td>\n",
       "      <td>259</td>\n",
       "      <td>3</td>\n",
       "      <td>2</td>\n",
       "      <td>254</td>\n",
       "      <td>4</td>\n",
       "      <td>0</td>\n",
       "      <td>4</td>\n",
       "      <td>25641</td>\n",
       "    </tr>\n",
       "    <tr>\n",
       "      <th>3921</th>\n",
       "      <td>2020-03-06</td>\n",
       "      <td>Other Countries</td>\n",
       "      <td>Europe</td>\n",
       "      <td>Spain</td>\n",
       "      <td>400</td>\n",
       "      <td>5</td>\n",
       "      <td>2</td>\n",
       "      <td>393</td>\n",
       "      <td>5</td>\n",
       "      <td>0</td>\n",
       "      <td>5</td>\n",
       "      <td>39600</td>\n",
       "    </tr>\n",
       "  </tbody>\n",
       "</table>\n",
       "</div>"
      ],
      "text/plain": [
       "status       date            class continent country  confirmed  deaths  \\\n",
       "3917   2020-03-02  Other Countries    Europe   Spain        120       0   \n",
       "3918   2020-03-03  Other Countries    Europe   Spain        165       1   \n",
       "3919   2020-03-04  Other Countries    Europe   Spain        222       2   \n",
       "3920   2020-03-05  Other Countries    Europe   Spain        259       3   \n",
       "3921   2020-03-06  Other Countries    Europe   Spain        400       5   \n",
       "\n",
       "status  recovered  existing  days_confirmed  days_death  days_recovered  \\\n",
       "3917            2       118               1           0               1   \n",
       "3918            2       162               2           0               2   \n",
       "3919            2       218               3           0               3   \n",
       "3920            2       254               4           0               4   \n",
       "3921            2       393               5           0               5   \n",
       "\n",
       "status  estimated  \n",
       "3917        11880  \n",
       "3918        16335  \n",
       "3919        21978  \n",
       "3920        25641  \n",
       "3921        39600  "
      ]
     },
     "execution_count": 19,
     "metadata": {},
     "output_type": "execute_result"
    }
   ],
   "source": [
    "corona_spain = df_countries[df_countries['country'] == \"Spain\"]\n",
    "corona_spain = corona_spain[corona_spain['days_confirmed']>=1]\n",
    "corona_it = df_countries[df_countries['country'] == \"Italy\"]\n",
    "corona_it = corona_it[corona_it['days_confirmed']>=1]\n",
    "corona_spain.head()"
   ]
  },
  {
   "cell_type": "code",
   "execution_count": 20,
   "metadata": {
    "ExecuteTime": {
     "end_time": "2020-03-28T12:24:06.138390Z",
     "start_time": "2020-03-28T12:24:06.118361Z"
    }
   },
   "outputs": [
    {
     "data": {
      "text/plain": [
       "{'confirmed': 'No se rechaza la hipótesis nula (H0). Nuestro p-valor 0.189507246121506 es mayor a nuestra α 0.05',\n",
       " 'deaths': 'No se rechaza la hipótesis nula (H0). Nuestro p-valor 0.06456885051653391 es mayor a nuestra α 0.05',\n",
       " 'recovered': 'No se rechaza la hipótesis nula (H0). Nuestro p-valor 0.16563098905766716 es mayor a nuestra α 0.05',\n",
       " 'existing': 'No se rechaza la hipótesis nula (H0). Nuestro p-valor 0.2189650091729892 es mayor a nuestra α 0.05',\n",
       " 'estimated': 'No se rechaza la hipótesis nula (H0). Nuestro p-valor 0.189507246121506 es mayor a nuestra α 0.05'}"
      ]
     },
     "execution_count": 20,
     "metadata": {},
     "output_type": "execute_result"
    }
   ],
   "source": [
    "features=['confirmed','deaths', 'recovered', 'existing', 'estimated']\n",
    "t_test_features(corona_spain,corona_it, 0.95, features)"
   ]
  },
  {
   "cell_type": "code",
   "execution_count": 21,
   "metadata": {
    "ExecuteTime": {
     "end_time": "2020-03-28T12:24:10.656924Z",
     "start_time": "2020-03-28T12:24:10.027939Z"
    }
   },
   "outputs": [
    {
     "data": {
      "image/png": "[encoded data removed]",
      "text/plain": [
       "<Figure size 432x288 with 1 Axes>"
      ]
     },
     "metadata": {
      "needs_background": "light"
     },
     "output_type": "display_data"
    },
    {
     "data": {
      "image/png": "[encoded data removed]",
      "text/plain": [
       "<Figure size 432x288 with 1 Axes>"
      ]
     },
     "metadata": {
      "needs_background": "light"
     },
     "output_type": "display_data"
    }
   ],
   "source": [
    "poly_reg(\"Italy\", 40)\n",
    "poly_reg(\"Spain\", 40)"
   ]
  },
  {
   "cell_type": "markdown",
   "metadata": {},
   "source": [
    "## 9.2. Usando una función logarítmica"
   ]
  },
  {
   "cell_type": "code",
   "execution_count": 29,
   "metadata": {
    "ExecuteTime": {
     "end_time": "2020-03-28T12:28:01.478396Z",
     "start_time": "2020-03-28T12:28:01.097964Z"
    },
    "scrolled": true
   },
   "outputs": [
    {
     "data": {
      "image/png": "[encoded data removed]",
      "text/plain": [
       "<Figure size 432x288 with 1 Axes>"
      ]
     },
     "metadata": {
      "needs_background": "light"
     },
     "output_type": "display_data"
    }
   ],
   "source": [
    "log_reg(\"China\", 100)"
   ]
  },
  {
   "cell_type": "markdown",
   "metadata": {},
   "source": [
    "## 9.3.Otros lo están haciendo peor?"
   ]
  },
  {
   "cell_type": "code",
   "execution_count": 30,
   "metadata": {
    "ExecuteTime": {
     "end_time": "2020-03-28T12:28:05.897428Z",
     "start_time": "2020-03-28T12:28:04.459949Z"
    }
   },
   "outputs": [
    {
     "data": {
      "image/png": "[encoded data removed]",
      "text/plain": [
       "<Figure size 432x288 with 1 Axes>"
      ]
     },
     "metadata": {
      "needs_background": "light"
     },
     "output_type": "display_data"
    },
    {
     "data": {
      "image/png": "[encoded data removed]",
      "text/plain": [
       "<Figure size 432x288 with 1 Axes>"
      ]
     },
     "metadata": {
      "needs_background": "light"
     },
     "output_type": "display_data"
    },
    {
     "data": {
      "image/png": "[encoded data removed]",
      "text/plain": [
       "<Figure size 432x288 with 1 Axes>"
      ]
     },
     "metadata": {
      "needs_background": "light"
     },
     "output_type": "display_data"
    },
    {
     "data": {
      "image/png": "[encoded data removed]",
      "text/plain": [
       "<Figure size 432x288 with 1 Axes>"
      ]
     },
     "metadata": {
      "needs_background": "light"
     },
     "output_type": "display_data"
    }
   ],
   "source": [
    "log_reg(\"Italy\", 100)\n",
    "log_reg(\"Spain\", 100)\n",
    "log_reg(\"United States\", 100) #Flipo\n",
    "log_reg(\"United Kingdom\", 100) #Casi tan mal"
   ]
  },
  {
   "cell_type": "code",
   "execution_count": 38,
   "metadata": {
    "ExecuteTime": {
     "end_time": "2020-03-28T12:32:25.006390Z",
     "start_time": "2020-03-28T12:32:23.751026Z"
    }
   },
   "outputs": [
    {
     "data": {
      "application/vnd.jupyter.widget-view+json": {
       "model_id": "6622c4af040f461f8e5b4ef4cca9fca1",
       "version_major": 2,
       "version_minor": 0
      },
      "text/plain": [
       "interactive(children=(FloatSlider(value=2.4, description='R0', max=5.0, min=0.9), FloatSlider(value=14.0, desc…"
      ]
     },
     "metadata": {},
     "output_type": "display_data"
    }
   ],
   "source": [
    "from __future__ import print_function\n",
    "from ipywidgets import interact, interactive, fixed, interact_manual\n",
    "import ipywidgets as widgets\n",
    "#@title SEIR Model with Social Distancing { run: \"auto\" }\n",
    "\n",
    "#@markdown Reproduction number\n",
    "R0 = widgets.FloatSlider(min=0.9, max=5, step=0.1, value=2.4)\n",
    "#@markdown Disease periods in days\n",
    "t_incubation = widgets.FloatSlider(min=1, max=14, step=0.1, value=14)\n",
    "t_infective  = widgets.FloatSlider(min=1, max=14, step=0.1, value=3.3)\n",
    "#@markdown Population Size\n",
    "N = widgets.IntSlider(min=1000, max=350000, step=1000, value=89000)\n",
    "#@markdown Initial number exposed\n",
    "n = widgets.IntSlider(min=0, max=100, step=1, value=45)\n",
    "#@markdown Start of social distancing following exposure (weeks)\n",
    "t_social_distancing = widgets.FloatSlider(min=0, max=30, step=0.1, value=2)\n",
    "#@markdown Effectiveness of social distancing (0 to 100%)\n",
    "u_social_distancing = widgets.IntSlider(min=0, max=100, step=1, value=80)\n",
    "\n",
    "def hola(R0, t_incubation, t_infective, N, n, t_social_distancing, u_social_distancing):\n",
    "    # initial number of infected and recovered individuals\n",
    "    e_initial = n/N\n",
    "    i_initial = 0.00\n",
    "    r_initial = 0.00\n",
    "    s_initial = 1 - e_initial - i_initial - r_initial\n",
    "\n",
    "    alpha = 1/t_incubation\n",
    "    gamma = 1/t_infective\n",
    "    beta = R0*gamma\n",
    "\n",
    "    def step(t):\n",
    "        return 1 if t >= 7*t_social_distancing else 0\n",
    "\n",
    "    # SEIR model differential equations.\n",
    "    def deriv(x, t, u, alpha, beta, gamma):\n",
    "        s, e, i, r = x\n",
    "        dsdt = -(1-u*step(t)/100)*beta * s * i\n",
    "        dedt =  (1-u*step(t)/100)*beta * s * i - alpha * e\n",
    "        didt = alpha * e - gamma * i\n",
    "        drdt =  gamma * i\n",
    "        return [dsdt, dedt, didt, drdt]\n",
    "\n",
    "    t = np.linspace(0, 210, 210)\n",
    "    x_initial = s_initial, e_initial, i_initial, r_initial\n",
    "    s, e, i, r = odeint(deriv, x_initial, t, args=(u_social_distancing, alpha, beta, gamma)).T\n",
    "    s0, e0, i0, r0 = odeint(deriv, x_initial, t, args=(0, alpha, beta, gamma)).T\n",
    "\n",
    "    # plot the data\n",
    "    fig = plt.figure(figsize=(12, 10))\n",
    "    ax = [fig.add_subplot(311, axisbelow=True), \n",
    "          fig.add_subplot(312)]\n",
    "\n",
    "    pal = sns.color_palette()\n",
    "\n",
    "    ax[0].stackplot(t/7, N*s, N*e, N*i, N*r, colors=pal, alpha=0.6)\n",
    "    ax[0].set_title('Susceptible and Recovered Populations with {0:3.0f}% Effective Social Distancing'.format(u_social_distancing))\n",
    "    ax[0].set_xlabel('Weeks following Initial Campus Exposure')\n",
    "    ax[0].set_xlim(0, t[-1]/7)\n",
    "    ax[0].set_ylim(0, N)\n",
    "    ax[0].legend([\n",
    "        'Susceptible', \n",
    "        'Exposed/no symptoms', \n",
    "        'Infectious/symptomatic',\n",
    "        'Recovered'], \n",
    "        loc='best')\n",
    "    ax[0].plot(np.array([t_social_distancing, t_social_distancing]), ax[0].get_ylim(), 'r', lw=3)\n",
    "    ax[0].plot(np.array([0, t[-1]])/7, [N/R0, N/R0], lw=3, label='herd immunity')\n",
    "    ax[0].annotate(\"Start of social distancing\",\n",
    "        (t_social_distancing, 0), (t_social_distancing + 1.5, N/10),\n",
    "        arrowprops=dict(arrowstyle='->'))\n",
    "    ax[0].annotate(\"Herd Immunity without social distancing\",\n",
    "        (t[-1]/7, N/R0), (t[-1]/7 - 8, N/R0 - N/5),\n",
    "        arrowprops=dict(arrowstyle='->'))\n",
    "\n",
    "    ax[1].stackplot(t/7, N*i0,N*e0, colors=pal[2:0:-1], alpha=0.5)\n",
    "    ax[1].stackplot(t/7, N*i, N*e, colors=pal[2:0:-1], alpha=0.5)\n",
    "    ax[1].set_title('Infected Population with no Social Distancing and with {0:3.0f}% Effective Social Distancing'.format(u_social_distancing))\n",
    "    ax[1].set_xlim(0, t[-1]/7)\n",
    "    ax[1].set_ylim(0, max(0.3*N, 1.05*max(N*(e + i))))\n",
    "    ax[1].set_xlabel('Weeks following Initial Campus Exposure')\n",
    "    ax[1].legend([\n",
    "        'Infective/Symptomatic', \n",
    "        'Exposed/Not Sympotomatic'],\n",
    "        loc='upper right')\n",
    "    ax[1].plot(np.array([t_social_distancing, t_social_distancing]), ax[0].get_ylim(), 'r', lw=3)\n",
    "\n",
    "    y0 = N*(e0 + i0)\n",
    "    k0 = np.argmax(y0)\n",
    "    ax[1].annotate(\"No social distancing\", (t[k0]/7, y0[k0] + 100))\n",
    "\n",
    "    y = N*(e + i)\n",
    "    k = np.argmax(y)\n",
    "    ax[1].annotate(\"With {0:3.0f}% effective social distancing \".format(u_social_distancing), (t[k]/7, y[k] + 100))\n",
    "\n",
    "    for a in ax:\n",
    "        a.xaxis.set_major_locator(plt.MultipleLocator(5))\n",
    "        a.xaxis.set_minor_locator(plt.MultipleLocator(1))\n",
    "        a.xaxis.set_major_formatter(plt.FormatStrFormatter('%d'))\n",
    "        a.grid(True)\n",
    "\n",
    "    plt.tight_layout()\n",
    "    \n",
    "interact(hola,R0=R0, t_incubation=t_incubation, t_infective=t_infective, N=N, n=n, t_social_distancing=t_social_distancing, \n",
    "         u_social_distancing=u_social_distancing);"
   ]
  },
  {
   "cell_type": "markdown",
   "metadata": {},
   "source": [
    "## Información por regiones"
   ]
  },
  {
   "cell_type": "code",
   "execution_count": 42,
   "metadata": {
    "ExecuteTime": {
     "end_time": "2020-03-28T12:37:17.691276Z",
     "start_time": "2020-03-28T12:37:17.665641Z"
    }
   },
   "outputs": [
    {
     "data": {
      "text/html": [
       "<div>\n",
       "<style scoped>\n",
       "    .dataframe tbody tr th:only-of-type {\n",
       "        vertical-align: middle;\n",
       "    }\n",
       "\n",
       "    .dataframe tbody tr th {\n",
       "        vertical-align: top;\n",
       "    }\n",
       "\n",
       "    .dataframe thead th {\n",
       "        text-align: right;\n",
       "    }\n",
       "</style>\n",
       "<table border=\"1\" class=\"dataframe\">\n",
       "  <thead>\n",
       "    <tr style=\"text-align: right;\">\n",
       "      <th></th>\n",
       "      <th>date</th>\n",
       "      <th>region_code</th>\n",
       "      <th>region</th>\n",
       "      <th>country</th>\n",
       "      <th>population</th>\n",
       "      <th>cases_registered</th>\n",
       "      <th>cases_per_100000</th>\n",
       "      <th>intensive_care</th>\n",
       "      <th>intensive_care_per_1000000</th>\n",
       "      <th>deceassed</th>\n",
       "      <th>deceassed_per_100000</th>\n",
       "      <th>recovered</th>\n",
       "      <th>recovered_per_100000</th>\n",
       "    </tr>\n",
       "  </thead>\n",
       "  <tbody>\n",
       "    <tr>\n",
       "      <th>0</th>\n",
       "      <td>2020-02-27</td>\n",
       "      <td>1.0</td>\n",
       "      <td>Andalucía</td>\n",
       "      <td>Spain</td>\n",
       "      <td>8414240.0</td>\n",
       "      <td>1.0</td>\n",
       "      <td>0.01</td>\n",
       "      <td>NaN</td>\n",
       "      <td>NaN</td>\n",
       "      <td>NaN</td>\n",
       "      <td>NaN</td>\n",
       "      <td>NaN</td>\n",
       "      <td>NaN</td>\n",
       "    </tr>\n",
       "    <tr>\n",
       "      <th>1</th>\n",
       "      <td>2020-02-28</td>\n",
       "      <td>1.0</td>\n",
       "      <td>Andalucía</td>\n",
       "      <td>Spain</td>\n",
       "      <td>8414240.0</td>\n",
       "      <td>6.0</td>\n",
       "      <td>0.07</td>\n",
       "      <td>NaN</td>\n",
       "      <td>NaN</td>\n",
       "      <td>NaN</td>\n",
       "      <td>NaN</td>\n",
       "      <td>NaN</td>\n",
       "      <td>NaN</td>\n",
       "    </tr>\n",
       "    <tr>\n",
       "      <th>2</th>\n",
       "      <td>2020-02-29</td>\n",
       "      <td>1.0</td>\n",
       "      <td>Andalucía</td>\n",
       "      <td>Spain</td>\n",
       "      <td>8414240.0</td>\n",
       "      <td>8.0</td>\n",
       "      <td>0.10</td>\n",
       "      <td>NaN</td>\n",
       "      <td>NaN</td>\n",
       "      <td>NaN</td>\n",
       "      <td>NaN</td>\n",
       "      <td>NaN</td>\n",
       "      <td>NaN</td>\n",
       "    </tr>\n",
       "    <tr>\n",
       "      <th>3</th>\n",
       "      <td>2020-03-01</td>\n",
       "      <td>1.0</td>\n",
       "      <td>Andalucía</td>\n",
       "      <td>Spain</td>\n",
       "      <td>8414240.0</td>\n",
       "      <td>12.0</td>\n",
       "      <td>0.14</td>\n",
       "      <td>NaN</td>\n",
       "      <td>NaN</td>\n",
       "      <td>NaN</td>\n",
       "      <td>NaN</td>\n",
       "      <td>NaN</td>\n",
       "      <td>NaN</td>\n",
       "    </tr>\n",
       "    <tr>\n",
       "      <th>4</th>\n",
       "      <td>2020-03-02</td>\n",
       "      <td>1.0</td>\n",
       "      <td>Andalucía</td>\n",
       "      <td>Spain</td>\n",
       "      <td>8414240.0</td>\n",
       "      <td>12.0</td>\n",
       "      <td>0.14</td>\n",
       "      <td>NaN</td>\n",
       "      <td>NaN</td>\n",
       "      <td>NaN</td>\n",
       "      <td>NaN</td>\n",
       "      <td>NaN</td>\n",
       "      <td>NaN</td>\n",
       "    </tr>\n",
       "  </tbody>\n",
       "</table>\n",
       "</div>"
      ],
      "text/plain": [
       "         date  region_code     region country  population  cases_registered  \\\n",
       "0  2020-02-27          1.0  Andalucía   Spain   8414240.0               1.0   \n",
       "1  2020-02-28          1.0  Andalucía   Spain   8414240.0               6.0   \n",
       "2  2020-02-29          1.0  Andalucía   Spain   8414240.0               8.0   \n",
       "3  2020-03-01          1.0  Andalucía   Spain   8414240.0              12.0   \n",
       "4  2020-03-02          1.0  Andalucía   Spain   8414240.0              12.0   \n",
       "\n",
       "   cases_per_100000  intensive_care  intensive_care_per_1000000  deceassed  \\\n",
       "0              0.01             NaN                         NaN        NaN   \n",
       "1              0.07             NaN                         NaN        NaN   \n",
       "2              0.10             NaN                         NaN        NaN   \n",
       "3              0.14             NaN                         NaN        NaN   \n",
       "4              0.14             NaN                         NaN        NaN   \n",
       "\n",
       "   deceassed_per_100000  recovered  recovered_per_100000  \n",
       "0                   NaN        NaN                   NaN  \n",
       "1                   NaN        NaN                   NaN  \n",
       "2                   NaN        NaN                   NaN  \n",
       "3                   NaN        NaN                   NaN  \n",
       "4                   NaN        NaN                   NaN  "
      ]
     },
     "execution_count": 42,
     "metadata": {},
     "output_type": "execute_result"
    }
   ],
   "source": [
    "df_sp_it_fr_conf.head()"
   ]
  },
  {
   "cell_type": "code",
   "execution_count": 43,
   "metadata": {
    "ExecuteTime": {
     "end_time": "2020-03-28T12:37:38.148664Z",
     "start_time": "2020-03-28T12:37:38.090496Z"
    }
   },
   "outputs": [
    {
     "data": {
      "text/html": [
       "<div>\n",
       "<style scoped>\n",
       "    .dataframe tbody tr th:only-of-type {\n",
       "        vertical-align: middle;\n",
       "    }\n",
       "\n",
       "    .dataframe tbody tr th {\n",
       "        vertical-align: top;\n",
       "    }\n",
       "\n",
       "    .dataframe thead th {\n",
       "        text-align: right;\n",
       "    }\n",
       "</style>\n",
       "<table border=\"1\" class=\"dataframe\">\n",
       "  <thead>\n",
       "    <tr style=\"text-align: right;\">\n",
       "      <th></th>\n",
       "      <th></th>\n",
       "      <th></th>\n",
       "      <th>cases_per_100000</th>\n",
       "      <th>cases_registered</th>\n",
       "      <th>deceassed</th>\n",
       "      <th>deceassed_per_100000</th>\n",
       "      <th>intensive_care</th>\n",
       "      <th>intensive_care_per_1000000</th>\n",
       "      <th>population</th>\n",
       "      <th>recovered</th>\n",
       "      <th>recovered_per_100000</th>\n",
       "      <th>region_code</th>\n",
       "    </tr>\n",
       "    <tr>\n",
       "      <th>date</th>\n",
       "      <th>country</th>\n",
       "      <th>region</th>\n",
       "      <th></th>\n",
       "      <th></th>\n",
       "      <th></th>\n",
       "      <th></th>\n",
       "      <th></th>\n",
       "      <th></th>\n",
       "      <th></th>\n",
       "      <th></th>\n",
       "      <th></th>\n",
       "      <th></th>\n",
       "    </tr>\n",
       "  </thead>\n",
       "  <tbody>\n",
       "    <tr>\n",
       "      <th rowspan=\"5\" valign=\"top\">2020-02-24</th>\n",
       "      <th rowspan=\"5\" valign=\"top\">Italia</th>\n",
       "      <th>Abruzzo</th>\n",
       "      <td>0.00</td>\n",
       "      <td>0.0</td>\n",
       "      <td>0.0</td>\n",
       "      <td>0.00</td>\n",
       "      <td>0.0</td>\n",
       "      <td>0.00</td>\n",
       "      <td>1311580.0</td>\n",
       "      <td>0.0</td>\n",
       "      <td>0.00</td>\n",
       "      <td>13.0</td>\n",
       "    </tr>\n",
       "    <tr>\n",
       "      <th>Basilicata</th>\n",
       "      <td>0.00</td>\n",
       "      <td>0.0</td>\n",
       "      <td>0.0</td>\n",
       "      <td>0.00</td>\n",
       "      <td>0.0</td>\n",
       "      <td>0.00</td>\n",
       "      <td>562869.0</td>\n",
       "      <td>0.0</td>\n",
       "      <td>0.00</td>\n",
       "      <td>17.0</td>\n",
       "    </tr>\n",
       "    <tr>\n",
       "      <th>Calabria</th>\n",
       "      <td>0.00</td>\n",
       "      <td>0.0</td>\n",
       "      <td>0.0</td>\n",
       "      <td>0.00</td>\n",
       "      <td>0.0</td>\n",
       "      <td>0.00</td>\n",
       "      <td>1947131.0</td>\n",
       "      <td>0.0</td>\n",
       "      <td>0.00</td>\n",
       "      <td>18.0</td>\n",
       "    </tr>\n",
       "    <tr>\n",
       "      <th>Campania</th>\n",
       "      <td>0.00</td>\n",
       "      <td>0.0</td>\n",
       "      <td>0.0</td>\n",
       "      <td>0.00</td>\n",
       "      <td>0.0</td>\n",
       "      <td>0.00</td>\n",
       "      <td>5801692.0</td>\n",
       "      <td>0.0</td>\n",
       "      <td>0.00</td>\n",
       "      <td>15.0</td>\n",
       "    </tr>\n",
       "    <tr>\n",
       "      <th>Emilia Romagna</th>\n",
       "      <td>0.40</td>\n",
       "      <td>18.0</td>\n",
       "      <td>0.0</td>\n",
       "      <td>0.00</td>\n",
       "      <td>2.0</td>\n",
       "      <td>0.04</td>\n",
       "      <td>4459477.0</td>\n",
       "      <td>0.0</td>\n",
       "      <td>0.00</td>\n",
       "      <td>8.0</td>\n",
       "    </tr>\n",
       "    <tr>\n",
       "      <th>...</th>\n",
       "      <th>...</th>\n",
       "      <th>...</th>\n",
       "      <td>...</td>\n",
       "      <td>...</td>\n",
       "      <td>...</td>\n",
       "      <td>...</td>\n",
       "      <td>...</td>\n",
       "      <td>...</td>\n",
       "      <td>...</td>\n",
       "      <td>...</td>\n",
       "      <td>...</td>\n",
       "      <td>...</td>\n",
       "    </tr>\n",
       "    <tr>\n",
       "      <th rowspan=\"5\" valign=\"top\">2020-03-25</th>\n",
       "      <th rowspan=\"5\" valign=\"top\">Spain</th>\n",
       "      <th>Madrid</th>\n",
       "      <td>219.06</td>\n",
       "      <td>14597.0</td>\n",
       "      <td>1825.0</td>\n",
       "      <td>27.39</td>\n",
       "      <td>1150.0</td>\n",
       "      <td>17.26</td>\n",
       "      <td>6663394.0</td>\n",
       "      <td>3031.0</td>\n",
       "      <td>454.87</td>\n",
       "      <td>13.0</td>\n",
       "    </tr>\n",
       "    <tr>\n",
       "      <th>Melilla</th>\n",
       "      <td>43.94</td>\n",
       "      <td>38.0</td>\n",
       "      <td>0.0</td>\n",
       "      <td>0.00</td>\n",
       "      <td>2.0</td>\n",
       "      <td>2.31</td>\n",
       "      <td>86487.0</td>\n",
       "      <td>0.0</td>\n",
       "      <td>0.00</td>\n",
       "      <td>19.0</td>\n",
       "    </tr>\n",
       "    <tr>\n",
       "      <th>Murcia</th>\n",
       "      <td>31.93</td>\n",
       "      <td>477.0</td>\n",
       "      <td>5.0</td>\n",
       "      <td>0.33</td>\n",
       "      <td>33.0</td>\n",
       "      <td>2.21</td>\n",
       "      <td>1493898.0</td>\n",
       "      <td>4.0</td>\n",
       "      <td>2.68</td>\n",
       "      <td>14.0</td>\n",
       "    </tr>\n",
       "    <tr>\n",
       "      <th>Navarra</th>\n",
       "      <td>182.97</td>\n",
       "      <td>1197.0</td>\n",
       "      <td>33.0</td>\n",
       "      <td>5.04</td>\n",
       "      <td>51.0</td>\n",
       "      <td>7.80</td>\n",
       "      <td>654214.0</td>\n",
       "      <td>23.0</td>\n",
       "      <td>35.16</td>\n",
       "      <td>15.0</td>\n",
       "    </tr>\n",
       "    <tr>\n",
       "      <th>País Vasco</th>\n",
       "      <td>148.16</td>\n",
       "      <td>3271.0</td>\n",
       "      <td>155.0</td>\n",
       "      <td>7.02</td>\n",
       "      <td>119.0</td>\n",
       "      <td>5.39</td>\n",
       "      <td>2207776.0</td>\n",
       "      <td>466.0</td>\n",
       "      <td>211.07</td>\n",
       "      <td>16.0</td>\n",
       "    </tr>\n",
       "  </tbody>\n",
       "</table>\n",
       "<p>1583 rows × 10 columns</p>\n",
       "</div>"
      ],
      "text/plain": [
       "                                   cases_per_100000  cases_registered  \\\n",
       "date       country region                                               \n",
       "2020-02-24 Italia  Abruzzo                     0.00               0.0   \n",
       "                   Basilicata                  0.00               0.0   \n",
       "                   Calabria                    0.00               0.0   \n",
       "                   Campania                    0.00               0.0   \n",
       "                   Emilia Romagna              0.40              18.0   \n",
       "...                                             ...               ...   \n",
       "2020-03-25 Spain   Madrid                    219.06           14597.0   \n",
       "                   Melilla                    43.94              38.0   \n",
       "                   Murcia                     31.93             477.0   \n",
       "                   Navarra                   182.97            1197.0   \n",
       "                   País Vasco                148.16            3271.0   \n",
       "\n",
       "                                   deceassed  deceassed_per_100000  \\\n",
       "date       country region                                            \n",
       "2020-02-24 Italia  Abruzzo               0.0                  0.00   \n",
       "                   Basilicata            0.0                  0.00   \n",
       "                   Calabria              0.0                  0.00   \n",
       "                   Campania              0.0                  0.00   \n",
       "                   Emilia Romagna        0.0                  0.00   \n",
       "...                                      ...                   ...   \n",
       "2020-03-25 Spain   Madrid             1825.0                 27.39   \n",
       "                   Melilla               0.0                  0.00   \n",
       "                   Murcia                5.0                  0.33   \n",
       "                   Navarra              33.0                  5.04   \n",
       "                   País Vasco          155.0                  7.02   \n",
       "\n",
       "                                   intensive_care  intensive_care_per_1000000  \\\n",
       "date       country region                                                       \n",
       "2020-02-24 Italia  Abruzzo                    0.0                        0.00   \n",
       "                   Basilicata                 0.0                        0.00   \n",
       "                   Calabria                   0.0                        0.00   \n",
       "                   Campania                   0.0                        0.00   \n",
       "                   Emilia Romagna             2.0                        0.04   \n",
       "...                                           ...                         ...   \n",
       "2020-03-25 Spain   Madrid                  1150.0                       17.26   \n",
       "                   Melilla                    2.0                        2.31   \n",
       "                   Murcia                    33.0                        2.21   \n",
       "                   Navarra                   51.0                        7.80   \n",
       "                   País Vasco               119.0                        5.39   \n",
       "\n",
       "                                   population  recovered  \\\n",
       "date       country region                                  \n",
       "2020-02-24 Italia  Abruzzo          1311580.0        0.0   \n",
       "                   Basilicata        562869.0        0.0   \n",
       "                   Calabria         1947131.0        0.0   \n",
       "                   Campania         5801692.0        0.0   \n",
       "                   Emilia Romagna   4459477.0        0.0   \n",
       "...                                       ...        ...   \n",
       "2020-03-25 Spain   Madrid           6663394.0     3031.0   \n",
       "                   Melilla            86487.0        0.0   \n",
       "                   Murcia           1493898.0        4.0   \n",
       "                   Navarra           654214.0       23.0   \n",
       "                   País Vasco       2207776.0      466.0   \n",
       "\n",
       "                                   recovered_per_100000  region_code  \n",
       "date       country region                                             \n",
       "2020-02-24 Italia  Abruzzo                         0.00         13.0  \n",
       "                   Basilicata                      0.00         17.0  \n",
       "                   Calabria                        0.00         18.0  \n",
       "                   Campania                        0.00         15.0  \n",
       "                   Emilia Romagna                  0.00          8.0  \n",
       "...                                                 ...          ...  \n",
       "2020-03-25 Spain   Madrid                        454.87         13.0  \n",
       "                   Melilla                         0.00         19.0  \n",
       "                   Murcia                          2.68         14.0  \n",
       "                   Navarra                        35.16         15.0  \n",
       "                   País Vasco                    211.07         16.0  \n",
       "\n",
       "[1583 rows x 10 columns]"
      ]
     },
     "execution_count": 43,
     "metadata": {},
     "output_type": "execute_result"
    }
   ],
   "source": [
    "pd.pivot_table(df_sp_it_fr_conf, index = ['date','country', 'region'])"
   ]
  },
  {
   "cell_type": "code",
   "execution_count": 45,
   "metadata": {
    "ExecuteTime": {
     "end_time": "2020-03-28T12:38:13.478559Z",
     "start_time": "2020-03-28T12:38:13.470580Z"
    }
   },
   "outputs": [],
   "source": [
    "df_sp_it_fr_conf = df_sp_it_fr_conf.fillna(0)"
   ]
  },
  {
   "cell_type": "code",
   "execution_count": 46,
   "metadata": {
    "ExecuteTime": {
     "end_time": "2020-03-28T12:38:29.538466Z",
     "start_time": "2020-03-28T12:38:29.201042Z"
    }
   },
   "outputs": [
    {
     "data": {
      "image/png": "[encoded data removed]",
      "text/plain": [
       "<Figure size 432x288 with 2 Axes>"
      ]
     },
     "metadata": {
      "needs_background": "light"
     },
     "output_type": "display_data"
    }
   ],
   "source": [
    "_ = sns.heatmap(pd.pivot_table(df_sp_it_fr_conf, index = 'country', aggfunc = \"sum\")[['cases_per_100000',\n",
    "       'intensive_cabre_per_1000000', 'deceassed_per_100000','recovered_per_100000']], cmap= \"seismic\")"
   ]
  },
  {
   "cell_type": "code",
   "execution_count": 48,
   "metadata": {
    "ExecuteTime": {
     "end_time": "2020-03-28T12:39:46.566725Z",
     "start_time": "2020-03-28T12:39:46.533776Z"
    }
   },
   "outputs": [
    {
     "data": {
      "text/html": [
       "<div>\n",
       "<style scoped>\n",
       "    .dataframe tbody tr th:only-of-type {\n",
       "        vertical-align: middle;\n",
       "    }\n",
       "\n",
       "    .dataframe tbody tr th {\n",
       "        vertical-align: top;\n",
       "    }\n",
       "\n",
       "    .dataframe thead th {\n",
       "        text-align: right;\n",
       "    }\n",
       "</style>\n",
       "<table border=\"1\" class=\"dataframe\">\n",
       "  <thead>\n",
       "    <tr style=\"text-align: right;\">\n",
       "      <th></th>\n",
       "      <th>date</th>\n",
       "      <th>region_code</th>\n",
       "      <th>region</th>\n",
       "      <th>country</th>\n",
       "      <th>population</th>\n",
       "      <th>cases_registered</th>\n",
       "      <th>cases_per_100000</th>\n",
       "      <th>intensive_care</th>\n",
       "      <th>intensive_care_per_1000000</th>\n",
       "      <th>deceassed</th>\n",
       "      <th>deceassed_per_100000</th>\n",
       "      <th>recovered</th>\n",
       "      <th>recovered_per_100000</th>\n",
       "    </tr>\n",
       "  </thead>\n",
       "  <tbody>\n",
       "    <tr>\n",
       "      <th>532</th>\n",
       "      <td>2020-02-24</td>\n",
       "      <td>13.0</td>\n",
       "      <td>Abruzzo</td>\n",
       "      <td>Italia</td>\n",
       "      <td>1311580.0</td>\n",
       "      <td>0.0</td>\n",
       "      <td>0.00</td>\n",
       "      <td>0.0</td>\n",
       "      <td>0.00</td>\n",
       "      <td>0.0</td>\n",
       "      <td>0.00</td>\n",
       "      <td>0.0</td>\n",
       "      <td>0.00</td>\n",
       "    </tr>\n",
       "    <tr>\n",
       "      <th>533</th>\n",
       "      <td>2020-03-20</td>\n",
       "      <td>13.0</td>\n",
       "      <td>Abruzzo</td>\n",
       "      <td>Italia</td>\n",
       "      <td>1311580.0</td>\n",
       "      <td>449.0</td>\n",
       "      <td>34.23</td>\n",
       "      <td>48.0</td>\n",
       "      <td>3.66</td>\n",
       "      <td>17.0</td>\n",
       "      <td>1.30</td>\n",
       "      <td>10.0</td>\n",
       "      <td>0.76</td>\n",
       "    </tr>\n",
       "    <tr>\n",
       "      <th>534</th>\n",
       "      <td>2020-02-26</td>\n",
       "      <td>13.0</td>\n",
       "      <td>Abruzzo</td>\n",
       "      <td>Italia</td>\n",
       "      <td>1311580.0</td>\n",
       "      <td>0.0</td>\n",
       "      <td>0.00</td>\n",
       "      <td>0.0</td>\n",
       "      <td>0.00</td>\n",
       "      <td>0.0</td>\n",
       "      <td>0.00</td>\n",
       "      <td>0.0</td>\n",
       "      <td>0.00</td>\n",
       "    </tr>\n",
       "    <tr>\n",
       "      <th>535</th>\n",
       "      <td>2020-03-22</td>\n",
       "      <td>13.0</td>\n",
       "      <td>Abruzzo</td>\n",
       "      <td>Italia</td>\n",
       "      <td>1311580.0</td>\n",
       "      <td>587.0</td>\n",
       "      <td>44.76</td>\n",
       "      <td>49.0</td>\n",
       "      <td>3.74</td>\n",
       "      <td>33.0</td>\n",
       "      <td>2.52</td>\n",
       "      <td>15.0</td>\n",
       "      <td>1.14</td>\n",
       "    </tr>\n",
       "    <tr>\n",
       "      <th>536</th>\n",
       "      <td>2020-03-24</td>\n",
       "      <td>13.0</td>\n",
       "      <td>Abruzzo</td>\n",
       "      <td>Italia</td>\n",
       "      <td>1311580.0</td>\n",
       "      <td>689.0</td>\n",
       "      <td>52.53</td>\n",
       "      <td>57.0</td>\n",
       "      <td>4.35</td>\n",
       "      <td>46.0</td>\n",
       "      <td>3.51</td>\n",
       "      <td>21.0</td>\n",
       "      <td>1.60</td>\n",
       "    </tr>\n",
       "  </tbody>\n",
       "</table>\n",
       "</div>"
      ],
      "text/plain": [
       "           date  region_code   region country  population  cases_registered  \\\n",
       "532  2020-02-24         13.0  Abruzzo  Italia   1311580.0               0.0   \n",
       "533  2020-03-20         13.0  Abruzzo  Italia   1311580.0             449.0   \n",
       "534  2020-02-26         13.0  Abruzzo  Italia   1311580.0               0.0   \n",
       "535  2020-03-22         13.0  Abruzzo  Italia   1311580.0             587.0   \n",
       "536  2020-03-24         13.0  Abruzzo  Italia   1311580.0             689.0   \n",
       "\n",
       "     cases_per_100000  intensive_care  intensive_care_per_1000000  deceassed  \\\n",
       "532              0.00             0.0                        0.00        0.0   \n",
       "533             34.23            48.0                        3.66       17.0   \n",
       "534              0.00             0.0                        0.00        0.0   \n",
       "535             44.76            49.0                        3.74       33.0   \n",
       "536             52.53            57.0                        4.35       46.0   \n",
       "\n",
       "     deceassed_per_100000  recovered  recovered_per_100000  \n",
       "532                  0.00        0.0                  0.00  \n",
       "533                  1.30       10.0                  0.76  \n",
       "534                  0.00        0.0                  0.00  \n",
       "535                  2.52       15.0                  1.14  \n",
       "536                  3.51       21.0                  1.60  "
      ]
     },
     "execution_count": 48,
     "metadata": {},
     "output_type": "execute_result"
    }
   ],
   "source": [
    "df_italia = df_sp_it_fr_conf[df_sp_it_fr_conf['country'] == \"Italia\"]\n",
    "df_spain = df_sp_it_fr_conf[df_sp_it_fr_conf['country'] == \"Spain\"]\n",
    "df_italia.head()"
   ]
  },
  {
   "cell_type": "code",
   "execution_count": 49,
   "metadata": {
    "ExecuteTime": {
     "end_time": "2020-03-28T12:40:01.190832Z",
     "start_time": "2020-03-28T12:40:00.782886Z"
    }
   },
   "outputs": [
    {
     "data": {
      "image/png": "[encoded data removed]",
      "text/plain": [
       "<Figure size 432x288 with 2 Axes>"
      ]
     },
     "metadata": {
      "needs_background": "light"
     },
     "output_type": "display_data"
    }
   ],
   "source": [
    "_ = sns.heatmap(pd.pivot_table(df_italia, index = 'region', aggfunc = \"sum\")[['cases_per_100000',\n",
    "       'intensive_care_per_1000000', 'deceassed_per_100000','recovered_per_100000']], cmap= \"seismic\")"
   ]
  },
  {
   "cell_type": "code",
   "execution_count": 51,
   "metadata": {
    "ExecuteTime": {
     "end_time": "2020-03-28T12:55:14.327803Z",
     "start_time": "2020-03-28T12:55:14.310712Z"
    }
   },
   "outputs": [
    {
     "data": {
      "text/plain": [
       "{'population': 'Se rechaza la hipótesis nula (H0). Nuestro p-valor 0.0062172160280181705 es menor a nuestra α 0.05',\n",
       " 'cases_registered': 'Se rechaza la hipótesis nula (H0). Nuestro p-valor 0.0016204337800607405 es menor a nuestra α 0.05',\n",
       " 'cases_per_100000': 'Se rechaza la hipótesis nula (H0). Nuestro p-valor 0.00465508663707706 es menor a nuestra α 0.05',\n",
       " 'intensive_care': 'Se rechaza la hipótesis nula (H0). Nuestro p-valor 0.00036444704194237086 es menor a nuestra α 0.05',\n",
       " 'intensive_care_per_1000000': 'Se rechaza la hipótesis nula (H0). Nuestro p-valor 3.3552669947650595e-08 es menor a nuestra α 0.05',\n",
       " 'deceassed': 'Se rechaza la hipótesis nula (H0). Nuestro p-valor 0.002125237281649664 es menor a nuestra α 0.05',\n",
       " 'deceassed_per_100000': 'Se rechaza la hipótesis nula (H0). Nuestro p-valor 2.1037274283980933e-05 es menor a nuestra α 0.05',\n",
       " 'recovered': 'Se rechaza la hipótesis nula (H0). Nuestro p-valor 0.023801196228891704 es menor a nuestra α 0.05',\n",
       " 'recovered_per_100000': 'Se rechaza la hipótesis nula (H0). Nuestro p-valor 5.001479816127596e-07 es menor a nuestra α 0.05'}"
      ]
     },
     "execution_count": 51,
     "metadata": {},
     "output_type": "execute_result"
    }
   ],
   "source": [
    "features = ['population','cases_registered', 'cases_per_100000', 'intensive_care',\n",
    "       'intensive_care_per_1000000', 'deceassed', 'deceassed_per_100000',\n",
    "       'recovered', 'recovered_per_100000']\n",
    "t_test_features(df_italia,df_spain, 0.95, features)"
   ]
  },
  {
   "cell_type": "code",
   "execution_count": 52,
   "metadata": {
    "ExecuteTime": {
     "end_time": "2020-03-28T12:55:18.142258Z",
     "start_time": "2020-03-28T12:55:18.122075Z"
    }
   },
   "outputs": [
    {
     "data": {
      "text/plain": [
       "{'population': 'Se rechaza la hipótesis nula (H0). Nuestro p-valor 0.010662344993209843 es menor a nuestra α 0.05',\n",
       " 'cases_registered': 'Se rechaza la hipótesis nula (H0). Nuestro p-valor 0.00017344063400224867 es menor a nuestra α 0.05',\n",
       " 'cases_per_100000': 'Se rechaza la hipótesis nula (H0). Nuestro p-valor 0.0034361774319503434 es menor a nuestra α 0.05',\n",
       " 'intensive_care': 'Se rechaza la hipótesis nula (H0). Nuestro p-valor 9.18519127044035e-15 es menor a nuestra α 0.05',\n",
       " 'intensive_care_per_1000000': 'Se rechaza la hipótesis nula (H0). Nuestro p-valor 4.973376982565722e-13 es menor a nuestra α 0.05',\n",
       " 'deceassed': 'Se rechaza la hipótesis nula (H0). Nuestro p-valor 1.053271921824115e-06 es menor a nuestra α 0.05',\n",
       " 'deceassed_per_100000': 'Se rechaza la hipótesis nula (H0). Nuestro p-valor 2.8481861502101917e-06 es menor a nuestra α 0.05',\n",
       " 'recovered': 'Se rechaza la hipótesis nula (H0). Nuestro p-valor 9.688559592242476e-15 es menor a nuestra α 0.05',\n",
       " 'recovered_per_100000': 'Se rechaza la hipótesis nula (H0). Nuestro p-valor 1.0526065039050904e-05 es menor a nuestra α 0.05'}"
      ]
     },
     "execution_count": 52,
     "metadata": {},
     "output_type": "execute_result"
    }
   ],
   "source": [
    "umann_whitney_features(df_italia,df_spain, 0.95, features)"
   ]
  },
  {
   "cell_type": "code",
   "execution_count": null,
   "metadata": {},
   "outputs": [],
   "source": []
  }
 ],
 "metadata": {
  "kernelspec": {
   "display_name": "Python 3",
   "language": "python",
   "name": "python3"
  },
  "language_info": {
   "codemirror_mode": {
    "name": "ipython",
    "version": 3
   },
   "file_extension": ".py",
   "mimetype": "text/x-python",
   "name": "python",
   "nbconvert_exporter": "python",
   "pygments_lexer": "ipython3",
   "version": "3.7.1"
  },
  "latex_envs": {
   "LaTeX_envs_menu_present": true,
   "autoclose": false,
   "autocomplete": true,
   "bibliofile": "biblio.bib",
   "cite_by": "apalike",
   "current_citInitial": 1,
   "eqLabelWithNumbers": true,
   "eqNumInitial": 1,
   "hotkeys": {
    "equation": "Ctrl-E",
    "itemize": "Ctrl-I"
   },
   "labels_anchors": false,
   "latex_user_defs": false,
   "report_style_numbering": false,
   "user_envs_cfg": false
  },
  "toc": {
   "base_numbering": 1,
   "nav_menu": {},
   "number_sections": false,
   "sideBar": true,
   "skip_h1_title": false,
   "title_cell": "Table of Contents",
   "title_sidebar": "Contents",
   "toc_cell": false,
   "toc_position": {},
   "toc_section_display": true,
   "toc_window_display": false
  },
  "varInspector": {
   "cols": {
    "lenName": 16,
    "lenType": 16,
    "lenVar": 40
   },
   "kernels_config": {
    "python": {
     "delete_cmd_postfix": "",
     "delete_cmd_prefix": "del ",
     "library": "var_list.py",
     "varRefreshCmd": "print(var_dic_list())"
    },
    "r": {
     "delete_cmd_postfix": ") ",
     "delete_cmd_prefix": "rm(",
     "library": "var_list.r",
     "varRefreshCmd": "cat(var_dic_list()) "
    }
   },
   "types_to_exclude": [
    "module",
    "function",
    "builtin_function_or_method",
    "instance",
    "_Feature"
   ],
   "window_display": false
  }
 },
 "nbformat": 4,
 "nbformat_minor": 4
}
