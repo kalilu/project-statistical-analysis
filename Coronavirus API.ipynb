{
 "cells": [
  {
   "cell_type": "markdown",
   "metadata": {},
   "source": [
    "# Project Statistical Analysis"
   ]
  },
  {
   "cell_type": "markdown",
   "metadata": {},
   "source": [
    "Karla y Mar\n",
    "\n",
    "*Data Part Time Barcelona Dic 2019*\n",
    "\n",
    "<img src=\"./img/5530085.jpeg\" width=\"1000\"> "
   ]
  },
  {
   "cell_type": "markdown",
   "metadata": {},
   "source": [
    "## Importamos librerías"
   ]
  },
  {
   "cell_type": "code",
   "execution_count": 13,
   "metadata": {
    "ExecuteTime": {
     "end_time": "2020-03-28T17:25:52.522748Z",
     "start_time": "2020-03-28T17:25:52.443895Z"
    }
   },
   "outputs": [
    {
     "data": {
      "text/html": [
       "        <script type=\"text/javascript\">\n",
       "        window.PlotlyConfig = {MathJaxConfig: 'local'};\n",
       "        if (window.MathJax) {MathJax.Hub.Config({SVG: {font: \"STIX-Web\"}});}\n",
       "        if (typeof require !== 'undefined') {\n",
       "        require.undef(\"plotly\");\n",
       "        requirejs.config({\n",
       "            paths: {\n",
       "                'plotly': ['https://cdn.plot.ly/plotly-latest.min']\n",
       "            }\n",
       "        });\n",
       "        require(['plotly'], function(Plotly) {\n",
       "            window._Plotly = Plotly;\n",
       "        });\n",
       "        }\n",
       "        </script>\n",
       "        "
      ]
     },
     "metadata": {},
     "output_type": "display_data"
    }
   ],
   "source": [
    "import pandas as pd\n",
    "import numpy as np\n",
    "import re\n",
    "\n",
    "#Stats\n",
    "import scipy.stats as sp\n",
    "from sklearn.model_selection import train_test_split\n",
    "from sklearn.linear_model import LinearRegression\n",
    "from sklearn.preprocessing import LabelEncoder, OneHotEncoder\n",
    "from scipy.optimize import curve_fit\n",
    "from scipy.integrate import odeint\n",
    "\n",
    "#Visualización\n",
    "import chart_studio.plotly as py\n",
    "from plotly.subplots import make_subplots\n",
    "import plotly.graph_objects as go\n",
    "import cufflinks as cf\n",
    "from datetime import datetime\n",
    "from ipywidgets import interact\n",
    "import ipywidgets as wdg\n",
    "import plotly.express as px\n",
    "import matplotlib.pyplot as plt\n",
    "import seaborn as sns\n",
    "import cartopy\n",
    "import plotly.offline as off\n",
    "\n",
    "#Request\n",
    "import json\n",
    "import requests\n",
    "from pandas.io.json import json_normalize\n",
    "\n",
    "import warnings\n",
    "\n",
    "warnings.filterwarnings('ignore')\n",
    "cf.go_offline()"
   ]
  },
  {
   "cell_type": "markdown",
   "metadata": {},
   "source": [
    "## Importamos datos"
   ]
  },
  {
   "cell_type": "markdown",
   "metadata": {},
   "source": [
    "### API con datos a nivel mundial"
   ]
  },
  {
   "cell_type": "code",
   "execution_count": 14,
   "metadata": {
    "ExecuteTime": {
     "end_time": "2020-03-28T17:26:08.173829Z",
     "start_time": "2020-03-28T17:25:55.697668Z"
    }
   },
   "outputs": [
    {
     "data": {
      "text/html": [
       "<div>\n",
       "<style scoped>\n",
       "    .dataframe tbody tr th:only-of-type {\n",
       "        vertical-align: middle;\n",
       "    }\n",
       "\n",
       "    .dataframe tbody tr th {\n",
       "        vertical-align: top;\n",
       "    }\n",
       "\n",
       "    .dataframe thead th {\n",
       "        text-align: right;\n",
       "    }\n",
       "</style>\n",
       "<table border=\"1\" class=\"dataframe\">\n",
       "  <thead>\n",
       "    <tr style=\"text-align: right;\">\n",
       "      <th></th>\n",
       "      <th>Country</th>\n",
       "      <th>Province</th>\n",
       "      <th>Lat</th>\n",
       "      <th>Lon</th>\n",
       "      <th>Date</th>\n",
       "      <th>Cases</th>\n",
       "      <th>Status</th>\n",
       "    </tr>\n",
       "  </thead>\n",
       "  <tbody>\n",
       "    <tr>\n",
       "      <td>0</td>\n",
       "      <td></td>\n",
       "      <td></td>\n",
       "      <td>0.0</td>\n",
       "      <td>0.0</td>\n",
       "      <td>0001-01-01T00:00:00Z</td>\n",
       "      <td>0</td>\n",
       "      <td></td>\n",
       "    </tr>\n",
       "    <tr>\n",
       "      <td>1</td>\n",
       "      <td>Azerbaijan</td>\n",
       "      <td></td>\n",
       "      <td>0.0</td>\n",
       "      <td>0.0</td>\n",
       "      <td>2020-02-28T00:00:00Z</td>\n",
       "      <td>1</td>\n",
       "      <td>confirmed</td>\n",
       "    </tr>\n",
       "    <tr>\n",
       "      <td>2</td>\n",
       "      <td>Azerbaijan</td>\n",
       "      <td></td>\n",
       "      <td>0.0</td>\n",
       "      <td>0.0</td>\n",
       "      <td>2020-02-28T00:00:00Z</td>\n",
       "      <td>0</td>\n",
       "      <td>recovered</td>\n",
       "    </tr>\n",
       "    <tr>\n",
       "      <td>3</td>\n",
       "      <td>Azerbaijan</td>\n",
       "      <td></td>\n",
       "      <td>0.0</td>\n",
       "      <td>0.0</td>\n",
       "      <td>2020-02-28T00:00:00Z</td>\n",
       "      <td>0</td>\n",
       "      <td>deaths</td>\n",
       "    </tr>\n",
       "    <tr>\n",
       "      <td>4</td>\n",
       "      <td>Afghanistan</td>\n",
       "      <td></td>\n",
       "      <td>33.0</td>\n",
       "      <td>65.0</td>\n",
       "      <td>2020-02-24T00:00:00Z</td>\n",
       "      <td>1</td>\n",
       "      <td>confirmed</td>\n",
       "    </tr>\n",
       "  </tbody>\n",
       "</table>\n",
       "</div>"
      ],
      "text/plain": [
       "       Country Province   Lat   Lon                  Date  Cases     Status\n",
       "0                         0.0   0.0  0001-01-01T00:00:00Z      0           \n",
       "1   Azerbaijan            0.0   0.0  2020-02-28T00:00:00Z      1  confirmed\n",
       "2   Azerbaijan            0.0   0.0  2020-02-28T00:00:00Z      0  recovered\n",
       "3   Azerbaijan            0.0   0.0  2020-02-28T00:00:00Z      0     deaths\n",
       "4  Afghanistan           33.0  65.0  2020-02-24T00:00:00Z      1  confirmed"
      ]
     },
     "execution_count": 14,
     "metadata": {},
     "output_type": "execute_result"
    }
   ],
   "source": [
    "url='https://api.covid19api.com/all'\n",
    "response = requests.get(url, headers={\"user-agent\":\"Mozilla/5.0 (Windows NT 10.0; Win64; x64) AppleWebKit/537.36 (KHTML, like Gecko) Chrome/79.0.3945.130 Safari/537.36\"})\n",
    "result=response.json()\n",
    "df_coronavirus_raw = pd.DataFrame()\n",
    "df_coronavirus_raw = json_normalize(result)\n",
    "df_coronavirus_raw.head()"
   ]
  },
  {
   "cell_type": "markdown",
   "metadata": {},
   "source": [
    "###  Países por continentes"
   ]
  },
  {
   "cell_type": "code",
   "execution_count": 15,
   "metadata": {
    "ExecuteTime": {
     "end_time": "2020-03-28T17:26:13.125711Z",
     "start_time": "2020-03-28T17:26:13.051315Z"
    }
   },
   "outputs": [
    {
     "data": {
      "text/html": [
       "<div>\n",
       "<style scoped>\n",
       "    .dataframe tbody tr th:only-of-type {\n",
       "        vertical-align: middle;\n",
       "    }\n",
       "\n",
       "    .dataframe tbody tr th {\n",
       "        vertical-align: top;\n",
       "    }\n",
       "\n",
       "    .dataframe thead th {\n",
       "        text-align: right;\n",
       "    }\n",
       "</style>\n",
       "<table border=\"1\" class=\"dataframe\">\n",
       "  <thead>\n",
       "    <tr style=\"text-align: right;\">\n",
       "      <th></th>\n",
       "      <th>CountryName</th>\n",
       "      <th>CapitalName</th>\n",
       "      <th>CapitalLatitude</th>\n",
       "      <th>CapitalLongitude</th>\n",
       "      <th>CountryCode</th>\n",
       "      <th>ContinentName</th>\n",
       "    </tr>\n",
       "  </thead>\n",
       "  <tbody>\n",
       "    <tr>\n",
       "      <td>0</td>\n",
       "      <td>Somaliland</td>\n",
       "      <td>Hargeisa</td>\n",
       "      <td>9.550000</td>\n",
       "      <td>44.050000</td>\n",
       "      <td>NaN</td>\n",
       "      <td>Africa</td>\n",
       "    </tr>\n",
       "    <tr>\n",
       "      <td>1</td>\n",
       "      <td>South Georgia and South Sandwich Islands</td>\n",
       "      <td>King Edward Point</td>\n",
       "      <td>-54.283333</td>\n",
       "      <td>-36.500000</td>\n",
       "      <td>GS</td>\n",
       "      <td>Antarctica</td>\n",
       "    </tr>\n",
       "    <tr>\n",
       "      <td>2</td>\n",
       "      <td>French Southern and Antarctic Lands</td>\n",
       "      <td>Port-aux-Français</td>\n",
       "      <td>-49.350000</td>\n",
       "      <td>70.216667</td>\n",
       "      <td>TF</td>\n",
       "      <td>Antarctica</td>\n",
       "    </tr>\n",
       "    <tr>\n",
       "      <td>3</td>\n",
       "      <td>Palestine</td>\n",
       "      <td>Jerusalem</td>\n",
       "      <td>31.766667</td>\n",
       "      <td>35.233333</td>\n",
       "      <td>PS</td>\n",
       "      <td>Asia</td>\n",
       "    </tr>\n",
       "    <tr>\n",
       "      <td>4</td>\n",
       "      <td>Aland Islands</td>\n",
       "      <td>Mariehamn</td>\n",
       "      <td>60.116667</td>\n",
       "      <td>19.900000</td>\n",
       "      <td>AX</td>\n",
       "      <td>Europe</td>\n",
       "    </tr>\n",
       "  </tbody>\n",
       "</table>\n",
       "</div>"
      ],
      "text/plain": [
       "                                CountryName        CapitalName  \\\n",
       "0                                Somaliland           Hargeisa   \n",
       "1  South Georgia and South Sandwich Islands  King Edward Point   \n",
       "2       French Southern and Antarctic Lands  Port-aux-Français   \n",
       "3                                 Palestine          Jerusalem   \n",
       "4                             Aland Islands          Mariehamn   \n",
       "\n",
       "   CapitalLatitude  CapitalLongitude CountryCode ContinentName  \n",
       "0         9.550000         44.050000         NaN        Africa  \n",
       "1       -54.283333        -36.500000          GS    Antarctica  \n",
       "2       -49.350000         70.216667          TF    Antarctica  \n",
       "3        31.766667         35.233333          PS          Asia  \n",
       "4        60.116667         19.900000          AX        Europe  "
      ]
     },
     "execution_count": 15,
     "metadata": {},
     "output_type": "execute_result"
    }
   ],
   "source": [
    "df_continents = pd.read_csv('./data/concap.csv')\n",
    "df_continents.head()"
   ]
  },
  {
   "cell_type": "markdown",
   "metadata": {},
   "source": [
    "### Unimos los datasets"
   ]
  },
  {
   "cell_type": "code",
   "execution_count": 16,
   "metadata": {
    "ExecuteTime": {
     "end_time": "2020-03-28T17:26:19.145935Z",
     "start_time": "2020-03-28T17:26:18.735454Z"
    }
   },
   "outputs": [],
   "source": [
    "# Clean some countries before merge\n",
    "df_coronavirus_raw.loc[df_coronavirus_raw['Country']=='Brunei', 'Country']='Brunei Darussalam'\n",
    "df_coronavirus_raw.loc[df_coronavirus_raw['Country']=='Czechia', 'Country']='Czech Republic'\n",
    "df_coronavirus_raw.loc[df_coronavirus_raw['Country']=='Hong Kong SAR', 'Country']='Hong Kong'\n",
    "df_coronavirus_raw.loc[df_coronavirus_raw['Country']=='Iran (Islamic Republic of)', 'Country']='Iran'\n",
    "df_coronavirus_raw.loc[df_coronavirus_raw['Country']=='Korea, South', 'Country']='South Korea'\n",
    "df_coronavirus_raw.loc[df_coronavirus_raw['Country']=='North Macedonia', 'Country']='Macedonia'\n",
    "df_coronavirus_raw.loc[df_coronavirus_raw['Country']=='Republic of Korea', 'Country']='North Korea'\n",
    "df_coronavirus_raw.loc[df_coronavirus_raw['Country']=='Taiwan*', 'Country']='Taiwan'\n",
    "df_coronavirus_raw.loc[df_coronavirus_raw['Country']=='US', 'Country']='United States'"
   ]
  },
  {
   "cell_type": "code",
   "execution_count": 17,
   "metadata": {
    "ExecuteTime": {
     "end_time": "2020-03-28T17:26:22.504261Z",
     "start_time": "2020-03-28T17:26:22.353676Z"
    }
   },
   "outputs": [],
   "source": [
    "df_coronavirus_raw = df_coronavirus_raw.merge(df_continents, left_on='Country', right_on='CountryName', how='left')"
   ]
  },
  {
   "cell_type": "markdown",
   "metadata": {},
   "source": [
    "###  Información regional"
   ]
  },
  {
   "cell_type": "code",
   "execution_count": 18,
   "metadata": {
    "ExecuteTime": {
     "end_time": "2020-03-28T17:26:25.494873Z",
     "start_time": "2020-03-28T17:26:24.604012Z"
    }
   },
   "outputs": [],
   "source": [
    "url='https://api.covid19tracking.narrativa.com/api/2020-03-24'\n",
    "response = requests.get(url, headers={\"user-agent\":\"Mozilla/5.0 (Windows NT 10.0; Win64; x64) AppleWebKit/537.36 (KHTML, like Gecko) Chrome/79.0.3945.130 Safari/537.36\"})\n",
    "result=response.json()"
   ]
  },
  {
   "cell_type": "code",
   "execution_count": 19,
   "metadata": {
    "ExecuteTime": {
     "end_time": "2020-03-28T17:26:30.436404Z",
     "start_time": "2020-03-28T17:26:29.883716Z"
    }
   },
   "outputs": [
    {
     "data": {
      "text/html": [
       "<div>\n",
       "<style scoped>\n",
       "    .dataframe tbody tr th:only-of-type {\n",
       "        vertical-align: middle;\n",
       "    }\n",
       "\n",
       "    .dataframe tbody tr th {\n",
       "        vertical-align: top;\n",
       "    }\n",
       "\n",
       "    .dataframe thead th {\n",
       "        text-align: right;\n",
       "    }\n",
       "</style>\n",
       "<table border=\"1\" class=\"dataframe\">\n",
       "  <thead>\n",
       "    <tr style=\"text-align: right;\">\n",
       "      <th></th>\n",
       "      <th>date</th>\n",
       "      <th>region_code</th>\n",
       "      <th>region</th>\n",
       "      <th>country</th>\n",
       "      <th>population</th>\n",
       "      <th>cases_registered</th>\n",
       "      <th>cases_per_100000</th>\n",
       "      <th>intensive_care</th>\n",
       "      <th>intensive_care_per_1000000</th>\n",
       "      <th>deceassed</th>\n",
       "      <th>deceassed_per_100000</th>\n",
       "      <th>recovered</th>\n",
       "      <th>recovered_per_100000</th>\n",
       "    </tr>\n",
       "  </thead>\n",
       "  <tbody>\n",
       "    <tr>\n",
       "      <td>0</td>\n",
       "      <td>2020-02-27</td>\n",
       "      <td>1.0</td>\n",
       "      <td>Andalucía</td>\n",
       "      <td>Spain</td>\n",
       "      <td>8414240.0</td>\n",
       "      <td>1.0</td>\n",
       "      <td>0.01</td>\n",
       "      <td>NaN</td>\n",
       "      <td>NaN</td>\n",
       "      <td>NaN</td>\n",
       "      <td>NaN</td>\n",
       "      <td>NaN</td>\n",
       "      <td>NaN</td>\n",
       "    </tr>\n",
       "    <tr>\n",
       "      <td>1</td>\n",
       "      <td>2020-02-28</td>\n",
       "      <td>1.0</td>\n",
       "      <td>Andalucía</td>\n",
       "      <td>Spain</td>\n",
       "      <td>8414240.0</td>\n",
       "      <td>6.0</td>\n",
       "      <td>0.07</td>\n",
       "      <td>NaN</td>\n",
       "      <td>NaN</td>\n",
       "      <td>NaN</td>\n",
       "      <td>NaN</td>\n",
       "      <td>NaN</td>\n",
       "      <td>NaN</td>\n",
       "    </tr>\n",
       "    <tr>\n",
       "      <td>2</td>\n",
       "      <td>2020-02-29</td>\n",
       "      <td>1.0</td>\n",
       "      <td>Andalucía</td>\n",
       "      <td>Spain</td>\n",
       "      <td>8414240.0</td>\n",
       "      <td>8.0</td>\n",
       "      <td>0.10</td>\n",
       "      <td>NaN</td>\n",
       "      <td>NaN</td>\n",
       "      <td>NaN</td>\n",
       "      <td>NaN</td>\n",
       "      <td>NaN</td>\n",
       "      <td>NaN</td>\n",
       "    </tr>\n",
       "    <tr>\n",
       "      <td>3</td>\n",
       "      <td>2020-03-01</td>\n",
       "      <td>1.0</td>\n",
       "      <td>Andalucía</td>\n",
       "      <td>Spain</td>\n",
       "      <td>8414240.0</td>\n",
       "      <td>12.0</td>\n",
       "      <td>0.14</td>\n",
       "      <td>NaN</td>\n",
       "      <td>NaN</td>\n",
       "      <td>NaN</td>\n",
       "      <td>NaN</td>\n",
       "      <td>NaN</td>\n",
       "      <td>NaN</td>\n",
       "    </tr>\n",
       "    <tr>\n",
       "      <td>4</td>\n",
       "      <td>2020-03-02</td>\n",
       "      <td>1.0</td>\n",
       "      <td>Andalucía</td>\n",
       "      <td>Spain</td>\n",
       "      <td>8414240.0</td>\n",
       "      <td>12.0</td>\n",
       "      <td>0.14</td>\n",
       "      <td>NaN</td>\n",
       "      <td>NaN</td>\n",
       "      <td>NaN</td>\n",
       "      <td>NaN</td>\n",
       "      <td>NaN</td>\n",
       "      <td>NaN</td>\n",
       "    </tr>\n",
       "  </tbody>\n",
       "</table>\n",
       "</div>"
      ],
      "text/plain": [
       "         date  region_code     region country  population  cases_registered  \\\n",
       "0  2020-02-27          1.0  Andalucía   Spain   8414240.0               1.0   \n",
       "1  2020-02-28          1.0  Andalucía   Spain   8414240.0               6.0   \n",
       "2  2020-02-29          1.0  Andalucía   Spain   8414240.0               8.0   \n",
       "3  2020-03-01          1.0  Andalucía   Spain   8414240.0              12.0   \n",
       "4  2020-03-02          1.0  Andalucía   Spain   8414240.0              12.0   \n",
       "\n",
       "   cases_per_100000  intensive_care  intensive_care_per_1000000  deceassed  \\\n",
       "0              0.01             NaN                         NaN        NaN   \n",
       "1              0.07             NaN                         NaN        NaN   \n",
       "2              0.10             NaN                         NaN        NaN   \n",
       "3              0.14             NaN                         NaN        NaN   \n",
       "4              0.14             NaN                         NaN        NaN   \n",
       "\n",
       "   deceassed_per_100000  recovered  recovered_per_100000  \n",
       "0                   NaN        NaN                   NaN  \n",
       "1                   NaN        NaN                   NaN  \n",
       "2                   NaN        NaN                   NaN  \n",
       "3                   NaN        NaN                   NaN  \n",
       "4                   NaN        NaN                   NaN  "
      ]
     },
     "execution_count": 19,
     "metadata": {},
     "output_type": "execute_result"
    }
   ],
   "source": [
    "#Datos de España, Italia y Francia\n",
    "path = 'https://code.montera34.com:4443/numeroteca/covid19/-/raw/master/data/output/covid19-countries-regions-compile.csv'\n",
    "df_sp_it_fr_conf = pd.read_csv(path, sep=',')\n",
    "df_sp_it_fr_conf.head()"
   ]
  },
  {
   "cell_type": "code",
   "execution_count": 20,
   "metadata": {
    "ExecuteTime": {
     "end_time": "2020-03-28T17:26:32.672548Z",
     "start_time": "2020-03-28T17:26:32.609719Z"
    }
   },
   "outputs": [
    {
     "data": {
      "text/html": [
       "<div>\n",
       "<style scoped>\n",
       "    .dataframe tbody tr th:only-of-type {\n",
       "        vertical-align: middle;\n",
       "    }\n",
       "\n",
       "    .dataframe tbody tr th {\n",
       "        vertical-align: top;\n",
       "    }\n",
       "\n",
       "    .dataframe thead th {\n",
       "        text-align: right;\n",
       "    }\n",
       "</style>\n",
       "<table border=\"1\" class=\"dataframe\">\n",
       "  <thead>\n",
       "    <tr style=\"text-align: right;\">\n",
       "      <th></th>\n",
       "      <th>cod_ine</th>\n",
       "      <th>CCAA</th>\n",
       "      <th>Públicos</th>\n",
       "      <th>Privados</th>\n",
       "      <th>Total</th>\n",
       "    </tr>\n",
       "  </thead>\n",
       "  <tbody>\n",
       "    <tr>\n",
       "      <td>0</td>\n",
       "      <td>1</td>\n",
       "      <td>ANDALUCÍA</td>\n",
       "      <td>572</td>\n",
       "      <td>162</td>\n",
       "      <td>734</td>\n",
       "    </tr>\n",
       "    <tr>\n",
       "      <td>1</td>\n",
       "      <td>2</td>\n",
       "      <td>ARAGÓN</td>\n",
       "      <td>113</td>\n",
       "      <td>22</td>\n",
       "      <td>135</td>\n",
       "    </tr>\n",
       "    <tr>\n",
       "      <td>2</td>\n",
       "      <td>3</td>\n",
       "      <td>ASTURIAS</td>\n",
       "      <td>86</td>\n",
       "      <td>7</td>\n",
       "      <td>93</td>\n",
       "    </tr>\n",
       "    <tr>\n",
       "      <td>3</td>\n",
       "      <td>15</td>\n",
       "      <td>C. FORAL DE NAVARRA</td>\n",
       "      <td>46</td>\n",
       "      <td>19</td>\n",
       "      <td>65</td>\n",
       "    </tr>\n",
       "    <tr>\n",
       "      <td>4</td>\n",
       "      <td>5</td>\n",
       "      <td>CANARIAS</td>\n",
       "      <td>187</td>\n",
       "      <td>50</td>\n",
       "      <td>237</td>\n",
       "    </tr>\n",
       "  </tbody>\n",
       "</table>\n",
       "</div>"
      ],
      "text/plain": [
       "   cod_ine                 CCAA  Públicos  Privados  Total\n",
       "0        1            ANDALUCÍA       572       162    734\n",
       "1        2               ARAGÓN       113        22    135\n",
       "2        3             ASTURIAS        86         7     93\n",
       "3       15  C. FORAL DE NAVARRA        46        19     65\n",
       "4        5             CANARIAS       187        50    237"
      ]
     },
     "execution_count": 20,
     "metadata": {},
     "output_type": "execute_result"
    }
   ],
   "source": [
    "#Datos de camas UCI\n",
    "path = './data/ccaa_camas_uci_2017.csv'\n",
    "df_camas_uci = pd.read_csv(path, sep=',')\n",
    "df_camas_uci.head()"
   ]
  },
  {
   "cell_type": "code",
   "execution_count": 21,
   "metadata": {
    "ExecuteTime": {
     "end_time": "2020-03-28T17:26:35.349375Z",
     "start_time": "2020-03-28T17:26:35.267339Z"
    }
   },
   "outputs": [
    {
     "data": {
      "text/html": [
       "<div>\n",
       "<style scoped>\n",
       "    .dataframe tbody tr th:only-of-type {\n",
       "        vertical-align: middle;\n",
       "    }\n",
       "\n",
       "    .dataframe tbody tr th {\n",
       "        vertical-align: top;\n",
       "    }\n",
       "\n",
       "    .dataframe thead th {\n",
       "        text-align: right;\n",
       "    }\n",
       "</style>\n",
       "<table border=\"1\" class=\"dataframe\">\n",
       "  <thead>\n",
       "    <tr style=\"text-align: right;\">\n",
       "      <th></th>\n",
       "      <th>fecha</th>\n",
       "      <th>rango_edad</th>\n",
       "      <th>sexo</th>\n",
       "      <th>casos_confirmados</th>\n",
       "      <th>hospitalizados</th>\n",
       "      <th>ingresos_uci</th>\n",
       "      <th>fallecidos</th>\n",
       "    </tr>\n",
       "  </thead>\n",
       "  <tbody>\n",
       "    <tr>\n",
       "      <td>0</td>\n",
       "      <td>2020-03-23</td>\n",
       "      <td>0-9</td>\n",
       "      <td>ambos sexos</td>\n",
       "      <td>129</td>\n",
       "      <td>34</td>\n",
       "      <td>1</td>\n",
       "      <td>0</td>\n",
       "    </tr>\n",
       "    <tr>\n",
       "      <td>1</td>\n",
       "      <td>2020-03-23</td>\n",
       "      <td>10-19</td>\n",
       "      <td>ambos sexos</td>\n",
       "      <td>221</td>\n",
       "      <td>15</td>\n",
       "      <td>0</td>\n",
       "      <td>1</td>\n",
       "    </tr>\n",
       "    <tr>\n",
       "      <td>2</td>\n",
       "      <td>2020-03-23</td>\n",
       "      <td>20-29</td>\n",
       "      <td>ambos sexos</td>\n",
       "      <td>1285</td>\n",
       "      <td>183</td>\n",
       "      <td>8</td>\n",
       "      <td>4</td>\n",
       "    </tr>\n",
       "    <tr>\n",
       "      <td>3</td>\n",
       "      <td>2020-03-23</td>\n",
       "      <td>30-39</td>\n",
       "      <td>ambos sexos</td>\n",
       "      <td>2208</td>\n",
       "      <td>365</td>\n",
       "      <td>15</td>\n",
       "      <td>3</td>\n",
       "    </tr>\n",
       "    <tr>\n",
       "      <td>4</td>\n",
       "      <td>2020-03-23</td>\n",
       "      <td>40-49</td>\n",
       "      <td>ambos sexos</td>\n",
       "      <td>2919</td>\n",
       "      <td>663</td>\n",
       "      <td>40</td>\n",
       "      <td>9</td>\n",
       "    </tr>\n",
       "  </tbody>\n",
       "</table>\n",
       "</div>"
      ],
      "text/plain": [
       "        fecha rango_edad         sexo  casos_confirmados  hospitalizados  \\\n",
       "0  2020-03-23        0-9  ambos sexos                129              34   \n",
       "1  2020-03-23      10-19  ambos sexos                221              15   \n",
       "2  2020-03-23      20-29  ambos sexos               1285             183   \n",
       "3  2020-03-23      30-39  ambos sexos               2208             365   \n",
       "4  2020-03-23      40-49  ambos sexos               2919             663   \n",
       "\n",
       "   ingresos_uci  fallecidos  \n",
       "0             1           0  \n",
       "1             0           1  \n",
       "2             8           4  \n",
       "3            15           3  \n",
       "4            40           9  "
      ]
     },
     "execution_count": 21,
     "metadata": {},
     "output_type": "execute_result"
    }
   ],
   "source": [
    "#Datos por rangos de edad\n",
    "path = './data/nacional_covid19_rango_edad.csv'\n",
    "df_edades = pd.read_csv(path, sep=',')\n",
    "df_edades.head()"
   ]
  },
  {
   "cell_type": "markdown",
   "metadata": {},
   "source": [
    "## Data cleaning"
   ]
  },
  {
   "cell_type": "markdown",
   "metadata": {},
   "source": [
    "### Casos por país"
   ]
  },
  {
   "cell_type": "markdown",
   "metadata": {},
   "source": [
    "####  Renombramos columnas y estandarizamos nombres"
   ]
  },
  {
   "cell_type": "code",
   "execution_count": 22,
   "metadata": {
    "ExecuteTime": {
     "end_time": "2020-03-28T17:26:40.481303Z",
     "start_time": "2020-03-28T17:26:40.182832Z"
    }
   },
   "outputs": [
    {
     "data": {
      "text/html": [
       "<div>\n",
       "<style scoped>\n",
       "    .dataframe tbody tr th:only-of-type {\n",
       "        vertical-align: middle;\n",
       "    }\n",
       "\n",
       "    .dataframe tbody tr th {\n",
       "        vertical-align: top;\n",
       "    }\n",
       "\n",
       "    .dataframe thead th {\n",
       "        text-align: right;\n",
       "    }\n",
       "</style>\n",
       "<table border=\"1\" class=\"dataframe\">\n",
       "  <thead>\n",
       "    <tr style=\"text-align: right;\">\n",
       "      <th></th>\n",
       "      <th>country</th>\n",
       "      <th>province</th>\n",
       "      <th>latitude</th>\n",
       "      <th>longitude</th>\n",
       "      <th>date</th>\n",
       "      <th>cases</th>\n",
       "      <th>status</th>\n",
       "      <th>countryname</th>\n",
       "      <th>capital</th>\n",
       "      <th>capital_latitude</th>\n",
       "      <th>capital_longitude</th>\n",
       "      <th>country_code</th>\n",
       "      <th>continent</th>\n",
       "    </tr>\n",
       "  </thead>\n",
       "  <tbody>\n",
       "    <tr>\n",
       "      <td>0</td>\n",
       "      <td></td>\n",
       "      <td></td>\n",
       "      <td>0.0</td>\n",
       "      <td>0.0</td>\n",
       "      <td>0001-01-01T00:00:00Z</td>\n",
       "      <td>0</td>\n",
       "      <td></td>\n",
       "      <td>NaN</td>\n",
       "      <td>NaN</td>\n",
       "      <td>NaN</td>\n",
       "      <td>NaN</td>\n",
       "      <td>NaN</td>\n",
       "      <td>NaN</td>\n",
       "    </tr>\n",
       "    <tr>\n",
       "      <td>1</td>\n",
       "      <td>Azerbaijan</td>\n",
       "      <td></td>\n",
       "      <td>0.0</td>\n",
       "      <td>0.0</td>\n",
       "      <td>2020-02-28T00:00:00Z</td>\n",
       "      <td>1</td>\n",
       "      <td>confirmed</td>\n",
       "      <td>NaN</td>\n",
       "      <td>NaN</td>\n",
       "      <td>NaN</td>\n",
       "      <td>NaN</td>\n",
       "      <td>NaN</td>\n",
       "      <td>NaN</td>\n",
       "    </tr>\n",
       "    <tr>\n",
       "      <td>2</td>\n",
       "      <td>Azerbaijan</td>\n",
       "      <td></td>\n",
       "      <td>0.0</td>\n",
       "      <td>0.0</td>\n",
       "      <td>2020-02-28T00:00:00Z</td>\n",
       "      <td>0</td>\n",
       "      <td>recovered</td>\n",
       "      <td>NaN</td>\n",
       "      <td>NaN</td>\n",
       "      <td>NaN</td>\n",
       "      <td>NaN</td>\n",
       "      <td>NaN</td>\n",
       "      <td>NaN</td>\n",
       "    </tr>\n",
       "    <tr>\n",
       "      <td>3</td>\n",
       "      <td>Azerbaijan</td>\n",
       "      <td></td>\n",
       "      <td>0.0</td>\n",
       "      <td>0.0</td>\n",
       "      <td>2020-02-28T00:00:00Z</td>\n",
       "      <td>0</td>\n",
       "      <td>deaths</td>\n",
       "      <td>NaN</td>\n",
       "      <td>NaN</td>\n",
       "      <td>NaN</td>\n",
       "      <td>NaN</td>\n",
       "      <td>NaN</td>\n",
       "      <td>NaN</td>\n",
       "    </tr>\n",
       "    <tr>\n",
       "      <td>4</td>\n",
       "      <td>Afghanistan</td>\n",
       "      <td></td>\n",
       "      <td>33.0</td>\n",
       "      <td>65.0</td>\n",
       "      <td>2020-02-24T00:00:00Z</td>\n",
       "      <td>1</td>\n",
       "      <td>confirmed</td>\n",
       "      <td>Afghanistan</td>\n",
       "      <td>Kabul</td>\n",
       "      <td>34.516667</td>\n",
       "      <td>69.183333</td>\n",
       "      <td>AF</td>\n",
       "      <td>Asia</td>\n",
       "    </tr>\n",
       "  </tbody>\n",
       "</table>\n",
       "</div>"
      ],
      "text/plain": [
       "       country province  latitude  longitude                  date  cases  \\\n",
       "0                             0.0        0.0  0001-01-01T00:00:00Z      0   \n",
       "1   Azerbaijan                0.0        0.0  2020-02-28T00:00:00Z      1   \n",
       "2   Azerbaijan                0.0        0.0  2020-02-28T00:00:00Z      0   \n",
       "3   Azerbaijan                0.0        0.0  2020-02-28T00:00:00Z      0   \n",
       "4  Afghanistan               33.0       65.0  2020-02-24T00:00:00Z      1   \n",
       "\n",
       "      status  countryname capital  capital_latitude  capital_longitude  \\\n",
       "0                     NaN     NaN               NaN                NaN   \n",
       "1  confirmed          NaN     NaN               NaN                NaN   \n",
       "2  recovered          NaN     NaN               NaN                NaN   \n",
       "3     deaths          NaN     NaN               NaN                NaN   \n",
       "4  confirmed  Afghanistan   Kabul         34.516667          69.183333   \n",
       "\n",
       "  country_code continent  \n",
       "0          NaN       NaN  \n",
       "1          NaN       NaN  \n",
       "2          NaN       NaN  \n",
       "3          NaN       NaN  \n",
       "4           AF      Asia  "
      ]
     },
     "execution_count": 22,
     "metadata": {},
     "output_type": "execute_result"
    }
   ],
   "source": [
    "df_coronavirus_raw.columns = df_coronavirus_raw.columns.str.replace('[.]','_').str.lower()\n",
    "df_coronavirus_raw = df_coronavirus_raw.rename(columns = {'lat':'latitude', 'lon':'longitude', 'capitalname':'capital', \n",
    "                                                         'capitallatitude':'capital_latitude', 'capitallongitude':'capital_longitude',\n",
    "                                                         'countrycode':'country_code', 'continentname':'continent'})\n",
    "df_coronavirus_raw.head()"
   ]
  },
  {
   "cell_type": "markdown",
   "metadata": {},
   "source": [
    "#### Eliminamos columnas duplicadas"
   ]
  },
  {
   "cell_type": "code",
   "execution_count": 23,
   "metadata": {
    "ExecuteTime": {
     "end_time": "2020-03-28T17:26:42.420207Z",
     "start_time": "2020-03-28T17:26:42.083761Z"
    }
   },
   "outputs": [],
   "source": [
    "df_coronavirus_raw.drop('countryname', axis=1, inplace=True)\n",
    "df_coronavirus_raw.where(cond=df_coronavirus_raw['country']!=\"\",inplace=True)"
   ]
  },
  {
   "cell_type": "markdown",
   "metadata": {},
   "source": [
    "#### Clasificamos los paises entre China y resto del mundo"
   ]
  },
  {
   "cell_type": "code",
   "execution_count": 24,
   "metadata": {
    "ExecuteTime": {
     "end_time": "2020-03-28T17:26:44.851957Z",
     "start_time": "2020-03-28T17:26:44.184335Z"
    }
   },
   "outputs": [
    {
     "data": {
      "text/html": [
       "<div>\n",
       "<style scoped>\n",
       "    .dataframe tbody tr th:only-of-type {\n",
       "        vertical-align: middle;\n",
       "    }\n",
       "\n",
       "    .dataframe tbody tr th {\n",
       "        vertical-align: top;\n",
       "    }\n",
       "\n",
       "    .dataframe thead th {\n",
       "        text-align: right;\n",
       "    }\n",
       "</style>\n",
       "<table border=\"1\" class=\"dataframe\">\n",
       "  <thead>\n",
       "    <tr style=\"text-align: right;\">\n",
       "      <th>status</th>\n",
       "      <th>class</th>\n",
       "      <th>continent</th>\n",
       "      <th>country</th>\n",
       "      <th>province</th>\n",
       "      <th>latitude</th>\n",
       "      <th>longitude</th>\n",
       "      <th>date</th>\n",
       "      <th>confirmed</th>\n",
       "      <th>deaths</th>\n",
       "      <th>recovered</th>\n",
       "    </tr>\n",
       "  </thead>\n",
       "  <tbody>\n",
       "    <tr>\n",
       "      <td>0</td>\n",
       "      <td>China</td>\n",
       "      <td>Asia</td>\n",
       "      <td>China</td>\n",
       "      <td>Anhui</td>\n",
       "      <td>31.8257</td>\n",
       "      <td>117.226</td>\n",
       "      <td>2020-01-22</td>\n",
       "      <td>1</td>\n",
       "      <td>0</td>\n",
       "      <td>0</td>\n",
       "    </tr>\n",
       "    <tr>\n",
       "      <td>1</td>\n",
       "      <td>China</td>\n",
       "      <td>Asia</td>\n",
       "      <td>China</td>\n",
       "      <td>Anhui</td>\n",
       "      <td>31.8257</td>\n",
       "      <td>117.226</td>\n",
       "      <td>2020-01-23</td>\n",
       "      <td>9</td>\n",
       "      <td>0</td>\n",
       "      <td>0</td>\n",
       "    </tr>\n",
       "    <tr>\n",
       "      <td>2</td>\n",
       "      <td>China</td>\n",
       "      <td>Asia</td>\n",
       "      <td>China</td>\n",
       "      <td>Anhui</td>\n",
       "      <td>31.8257</td>\n",
       "      <td>117.226</td>\n",
       "      <td>2020-01-24</td>\n",
       "      <td>15</td>\n",
       "      <td>0</td>\n",
       "      <td>0</td>\n",
       "    </tr>\n",
       "    <tr>\n",
       "      <td>3</td>\n",
       "      <td>China</td>\n",
       "      <td>Asia</td>\n",
       "      <td>China</td>\n",
       "      <td>Anhui</td>\n",
       "      <td>31.8257</td>\n",
       "      <td>117.226</td>\n",
       "      <td>2020-01-25</td>\n",
       "      <td>39</td>\n",
       "      <td>0</td>\n",
       "      <td>0</td>\n",
       "    </tr>\n",
       "    <tr>\n",
       "      <td>4</td>\n",
       "      <td>China</td>\n",
       "      <td>Asia</td>\n",
       "      <td>China</td>\n",
       "      <td>Anhui</td>\n",
       "      <td>31.8257</td>\n",
       "      <td>117.226</td>\n",
       "      <td>2020-01-26</td>\n",
       "      <td>60</td>\n",
       "      <td>0</td>\n",
       "      <td>0</td>\n",
       "    </tr>\n",
       "  </tbody>\n",
       "</table>\n",
       "</div>"
      ],
      "text/plain": [
       "status  class continent country province  latitude  longitude       date  \\\n",
       "0       China      Asia   China    Anhui   31.8257    117.226 2020-01-22   \n",
       "1       China      Asia   China    Anhui   31.8257    117.226 2020-01-23   \n",
       "2       China      Asia   China    Anhui   31.8257    117.226 2020-01-24   \n",
       "3       China      Asia   China    Anhui   31.8257    117.226 2020-01-25   \n",
       "4       China      Asia   China    Anhui   31.8257    117.226 2020-01-26   \n",
       "\n",
       "status  confirmed  deaths  recovered  \n",
       "0               1       0          0  \n",
       "1               9       0          0  \n",
       "2              15       0          0  \n",
       "3              39       0          0  \n",
       "4              60       0          0  "
      ]
     },
     "execution_count": 24,
     "metadata": {},
     "output_type": "execute_result"
    }
   ],
   "source": [
    "df_coronavirus_raw['class'] = np.where(df_coronavirus_raw.country.str.contains('China'), 'China', 'Other Countries')\n",
    "df_coronavirus_raw['date'] = pd.to_datetime(df_coronavirus_raw['date'], format=\"%Y-%m-%dT%H:%M:%SZ\")\n",
    "l_index = ['class','continent','country', 'province', 'latitude','longitude', 'date']\n",
    "df_coronavirus = pd.pivot_table(df_coronavirus_raw, values='cases', \n",
    "                index = l_index, columns=['status'],\n",
    "                aggfunc=np.sum, fill_value=0).reset_index()\n",
    "df_coronavirus.head()"
   ]
  },
  {
   "cell_type": "markdown",
   "metadata": {},
   "source": [
    "#### Obtenemos los totales por países y calculamos las estadísticas"
   ]
  },
  {
   "cell_type": "markdown",
   "metadata": {},
   "source": [
    "- Los casos existentes se han calculado de la siguiente manera :    \n",
    "         casos existentes = casos confirmados - fallecidos - recuperados\n",
    "- La columna <CODE>'days_confirmed'</CODE> nos crea un contador a partir de los 100 casos confirmados.\n",
    "- La columna <CODE>'days_deaths'</CODE> nos crea un contador a partir de los 10 casos confirmados.\n",
    "- La columna <CODE>'days_recovered'</CODE> nos crea un contador a partir de los 100 casos confirmados.\n",
    "- La columna <CODE>'estimated'</CODE> nos da una aproximación de los posibles casos que hay teniendo en cuanta la mortalidad.\n",
    "         casos estimados = fallecidos * 99"
   ]
  },
  {
   "cell_type": "code",
   "execution_count": 25,
   "metadata": {
    "ExecuteTime": {
     "end_time": "2020-03-28T17:28:13.860385Z",
     "start_time": "2020-03-28T17:28:13.535729Z"
    }
   },
   "outputs": [
    {
     "data": {
      "text/html": [
       "<div>\n",
       "<style scoped>\n",
       "    .dataframe tbody tr th:only-of-type {\n",
       "        vertical-align: middle;\n",
       "    }\n",
       "\n",
       "    .dataframe tbody tr th {\n",
       "        vertical-align: top;\n",
       "    }\n",
       "\n",
       "    .dataframe thead th {\n",
       "        text-align: right;\n",
       "    }\n",
       "</style>\n",
       "<table border=\"1\" class=\"dataframe\">\n",
       "  <thead>\n",
       "    <tr style=\"text-align: right;\">\n",
       "      <th>status</th>\n",
       "      <th>class</th>\n",
       "      <th>continent</th>\n",
       "      <th>country</th>\n",
       "      <th>date</th>\n",
       "      <th>confirmed</th>\n",
       "      <th>deaths</th>\n",
       "      <th>recovered</th>\n",
       "      <th>existing</th>\n",
       "      <th>days_confirmed</th>\n",
       "      <th>days_death</th>\n",
       "      <th>days_recovered</th>\n",
       "      <th>estimated</th>\n",
       "    </tr>\n",
       "  </thead>\n",
       "  <tbody>\n",
       "    <tr>\n",
       "      <td>0</td>\n",
       "      <td>China</td>\n",
       "      <td>Asia</td>\n",
       "      <td>China</td>\n",
       "      <td>2020-01-22</td>\n",
       "      <td>548</td>\n",
       "      <td>17</td>\n",
       "      <td>28</td>\n",
       "      <td>503</td>\n",
       "      <td>1</td>\n",
       "      <td>1</td>\n",
       "      <td>0</td>\n",
       "      <td>54252</td>\n",
       "    </tr>\n",
       "    <tr>\n",
       "      <td>1</td>\n",
       "      <td>China</td>\n",
       "      <td>Asia</td>\n",
       "      <td>China</td>\n",
       "      <td>2020-01-23</td>\n",
       "      <td>643</td>\n",
       "      <td>18</td>\n",
       "      <td>30</td>\n",
       "      <td>595</td>\n",
       "      <td>2</td>\n",
       "      <td>2</td>\n",
       "      <td>0</td>\n",
       "      <td>63657</td>\n",
       "    </tr>\n",
       "    <tr>\n",
       "      <td>2</td>\n",
       "      <td>China</td>\n",
       "      <td>Asia</td>\n",
       "      <td>China</td>\n",
       "      <td>2020-01-24</td>\n",
       "      <td>920</td>\n",
       "      <td>26</td>\n",
       "      <td>36</td>\n",
       "      <td>858</td>\n",
       "      <td>3</td>\n",
       "      <td>3</td>\n",
       "      <td>0</td>\n",
       "      <td>91080</td>\n",
       "    </tr>\n",
       "    <tr>\n",
       "      <td>3</td>\n",
       "      <td>China</td>\n",
       "      <td>Asia</td>\n",
       "      <td>China</td>\n",
       "      <td>2020-01-25</td>\n",
       "      <td>1406</td>\n",
       "      <td>42</td>\n",
       "      <td>39</td>\n",
       "      <td>1325</td>\n",
       "      <td>4</td>\n",
       "      <td>4</td>\n",
       "      <td>0</td>\n",
       "      <td>139194</td>\n",
       "    </tr>\n",
       "    <tr>\n",
       "      <td>4</td>\n",
       "      <td>China</td>\n",
       "      <td>Asia</td>\n",
       "      <td>China</td>\n",
       "      <td>2020-01-26</td>\n",
       "      <td>2075</td>\n",
       "      <td>56</td>\n",
       "      <td>49</td>\n",
       "      <td>1970</td>\n",
       "      <td>5</td>\n",
       "      <td>5</td>\n",
       "      <td>0</td>\n",
       "      <td>205425</td>\n",
       "    </tr>\n",
       "  </tbody>\n",
       "</table>\n",
       "</div>"
      ],
      "text/plain": [
       "status  class continent country       date  confirmed  deaths  recovered  \\\n",
       "0       China      Asia   China 2020-01-22        548      17         28   \n",
       "1       China      Asia   China 2020-01-23        643      18         30   \n",
       "2       China      Asia   China 2020-01-24        920      26         36   \n",
       "3       China      Asia   China 2020-01-25       1406      42         39   \n",
       "4       China      Asia   China 2020-01-26       2075      56         49   \n",
       "\n",
       "status  existing  days_confirmed  days_death  days_recovered  estimated  \n",
       "0            503               1           1               0      54252  \n",
       "1            595               2           2               0      63657  \n",
       "2            858               3           3               0      91080  \n",
       "3           1325               4           4               0     139194  \n",
       "4           1970               5           5               0     205425  "
      ]
     },
     "execution_count": 25,
     "metadata": {},
     "output_type": "execute_result"
    }
   ],
   "source": [
    "df_countries = df_coronavirus.groupby(['class','continent','country','date'])['confirmed','deaths', 'recovered'].agg('sum').reset_index()\n",
    "df_countries['existing'] = df_countries.confirmed.fillna(0) -  df_countries.deaths.fillna(0) - df_countries.recovered.fillna(0)\n",
    "df_countries['days_confirmed'] = df_countries[df_countries['confirmed']>100].groupby(['country']).cumcount()+1\n",
    "df_countries['days_confirmed'] = df_countries['days_confirmed'].fillna(0).astype('int')\n",
    "df_countries['days_death'] = df_countries[df_countries['deaths']>10].groupby(['country']).cumcount()+1\n",
    "df_countries['days_death'] = df_countries['days_death'].fillna(0).astype('int')\n",
    "df_countries['days_recovered'] = df_countries[df_countries['recovered']>100].groupby(['country']).cumcount()+1\n",
    "df_countries['days_recovered'] = df_countries['days_recovered'].fillna(0).astype('int')\n",
    "df_countries['estimated'] = [confirmed*99 for confirmed in df_countries['confirmed']]\n",
    "df_countries.head()"
   ]
  },
  {
   "cell_type": "markdown",
   "metadata": {},
   "source": [
    "#### Ordenamos columas"
   ]
  },
  {
   "cell_type": "code",
   "execution_count": 26,
   "metadata": {
    "ExecuteTime": {
     "end_time": "2020-03-28T17:28:26.350384Z",
     "start_time": "2020-03-28T17:28:26.286508Z"
    },
    "code_folding": []
   },
   "outputs": [
    {
     "data": {
      "text/html": [
       "<div>\n",
       "<style scoped>\n",
       "    .dataframe tbody tr th:only-of-type {\n",
       "        vertical-align: middle;\n",
       "    }\n",
       "\n",
       "    .dataframe tbody tr th {\n",
       "        vertical-align: top;\n",
       "    }\n",
       "\n",
       "    .dataframe thead th {\n",
       "        text-align: right;\n",
       "    }\n",
       "</style>\n",
       "<table border=\"1\" class=\"dataframe\">\n",
       "  <thead>\n",
       "    <tr style=\"text-align: right;\">\n",
       "      <th>status</th>\n",
       "      <th>date</th>\n",
       "      <th>class</th>\n",
       "      <th>continent</th>\n",
       "      <th>country</th>\n",
       "      <th>confirmed</th>\n",
       "      <th>deaths</th>\n",
       "      <th>recovered</th>\n",
       "      <th>existing</th>\n",
       "      <th>days_confirmed</th>\n",
       "      <th>days_death</th>\n",
       "      <th>days_recovered</th>\n",
       "      <th>estimated</th>\n",
       "    </tr>\n",
       "  </thead>\n",
       "  <tbody>\n",
       "    <tr>\n",
       "      <td>0</td>\n",
       "      <td>2020-01-22</td>\n",
       "      <td>China</td>\n",
       "      <td>Asia</td>\n",
       "      <td>China</td>\n",
       "      <td>548</td>\n",
       "      <td>17</td>\n",
       "      <td>28</td>\n",
       "      <td>503</td>\n",
       "      <td>1</td>\n",
       "      <td>1</td>\n",
       "      <td>0</td>\n",
       "      <td>54252</td>\n",
       "    </tr>\n",
       "    <tr>\n",
       "      <td>1</td>\n",
       "      <td>2020-01-23</td>\n",
       "      <td>China</td>\n",
       "      <td>Asia</td>\n",
       "      <td>China</td>\n",
       "      <td>643</td>\n",
       "      <td>18</td>\n",
       "      <td>30</td>\n",
       "      <td>595</td>\n",
       "      <td>2</td>\n",
       "      <td>2</td>\n",
       "      <td>0</td>\n",
       "      <td>63657</td>\n",
       "    </tr>\n",
       "    <tr>\n",
       "      <td>2</td>\n",
       "      <td>2020-01-24</td>\n",
       "      <td>China</td>\n",
       "      <td>Asia</td>\n",
       "      <td>China</td>\n",
       "      <td>920</td>\n",
       "      <td>26</td>\n",
       "      <td>36</td>\n",
       "      <td>858</td>\n",
       "      <td>3</td>\n",
       "      <td>3</td>\n",
       "      <td>0</td>\n",
       "      <td>91080</td>\n",
       "    </tr>\n",
       "    <tr>\n",
       "      <td>3</td>\n",
       "      <td>2020-01-25</td>\n",
       "      <td>China</td>\n",
       "      <td>Asia</td>\n",
       "      <td>China</td>\n",
       "      <td>1406</td>\n",
       "      <td>42</td>\n",
       "      <td>39</td>\n",
       "      <td>1325</td>\n",
       "      <td>4</td>\n",
       "      <td>4</td>\n",
       "      <td>0</td>\n",
       "      <td>139194</td>\n",
       "    </tr>\n",
       "    <tr>\n",
       "      <td>4</td>\n",
       "      <td>2020-01-26</td>\n",
       "      <td>China</td>\n",
       "      <td>Asia</td>\n",
       "      <td>China</td>\n",
       "      <td>2075</td>\n",
       "      <td>56</td>\n",
       "      <td>49</td>\n",
       "      <td>1970</td>\n",
       "      <td>5</td>\n",
       "      <td>5</td>\n",
       "      <td>0</td>\n",
       "      <td>205425</td>\n",
       "    </tr>\n",
       "  </tbody>\n",
       "</table>\n",
       "</div>"
      ],
      "text/plain": [
       "status       date  class continent country  confirmed  deaths  recovered  \\\n",
       "0      2020-01-22  China      Asia   China        548      17         28   \n",
       "1      2020-01-23  China      Asia   China        643      18         30   \n",
       "2      2020-01-24  China      Asia   China        920      26         36   \n",
       "3      2020-01-25  China      Asia   China       1406      42         39   \n",
       "4      2020-01-26  China      Asia   China       2075      56         49   \n",
       "\n",
       "status  existing  days_confirmed  days_death  days_recovered  estimated  \n",
       "0            503               1           1               0      54252  \n",
       "1            595               2           2               0      63657  \n",
       "2            858               3           3               0      91080  \n",
       "3           1325               4           4               0     139194  \n",
       "4           1970               5           5               0     205425  "
      ]
     },
     "execution_count": 26,
     "metadata": {},
     "output_type": "execute_result"
    }
   ],
   "source": [
    "column_order = ['date', 'class', 'continent', 'country', 'confirmed','deaths', 'recovered', 'existing', 'days_confirmed', 'days_death','days_recovered','estimated']\n",
    "df_countries = df_countries[column_order]\n",
    "df_countries.head()"
   ]
  },
  {
   "cell_type": "markdown",
   "metadata": {},
   "source": [
    "## Visualización "
   ]
  },
  {
   "cell_type": "markdown",
   "metadata": {
    "ExecuteTime": {
     "end_time": "2020-03-14T01:07:05.035505Z",
     "start_time": "2020-03-14T01:07:05.027542Z"
    }
   },
   "source": [
    "### Comparación de la evolución de casos entre dos países"
   ]
  },
  {
   "cell_type": "markdown",
   "metadata": {},
   "source": [
    "####  Datos de dos paises por separado"
   ]
  },
  {
   "cell_type": "code",
   "execution_count": 28,
   "metadata": {
    "ExecuteTime": {
     "end_time": "2020-03-28T17:28:47.506354Z",
     "start_time": "2020-03-28T17:28:41.656712Z"
    }
   },
   "outputs": [
    {
     "data": {
      "application/vnd.jupyter.widget-view+json": {
       "model_id": "784f719456f0433eaf2c7a83ca4aba30",
       "version_major": 2,
       "version_minor": 0
      },
      "text/plain": [
       "interactive(children=(Dropdown(description='country1', index=127, options=('China', 'Algeria', 'Angola', 'Beni…"
      ]
     },
     "metadata": {},
     "output_type": "display_data"
    }
   ],
   "source": [
    "col_vars = ['confirmed','deaths', 'recovered', 'existing']\n",
    "cou_vars = list(df_countries['country'].unique())\n",
    "\n",
    "def make_hist(country1='Italy', country2='Spain'):\n",
    "    fig = make_subplots(rows=1, cols=2, shared_yaxes=True, subplot_titles=(country1, country2))\n",
    "    for x in range(0,len(col_vars)):\n",
    "        df_filtered = df_countries[df_countries['country']==country1]\n",
    "        fig.add_trace(go.Scatter( \\\n",
    "                      x = df_filtered['date'], \\\n",
    "                      y = df_filtered[col_vars[x]], \\\n",
    "                      mode = 'lines+markers',\n",
    "                      name = f'{country1} - {col_vars[x].capitalize()}'),\n",
    "                      row=1, col=1)\n",
    "        df_filtered2 = df_countries[df_countries['country']==country2]\n",
    "        fig.add_trace(go.Scatter( \\\n",
    "                      x = df_filtered2['date'], \\\n",
    "                      y = df_filtered2[col_vars[x]], \\\n",
    "                      mode = 'lines+markers',\n",
    "                      name = f'{country2} - {col_vars[x].capitalize()}'),\n",
    "                      row=1, col=2)\n",
    "        \n",
    "    fig.update_layout(height=500, width=1000, title_text=f'Evolución de casos {country1} vs. {country2}', title_x=0.5)\n",
    "    fig.show()\n",
    "                      \n",
    "_= interact(make_hist, country1 = cou_vars, country2 = cou_vars)"
   ]
  },
  {
   "cell_type": "markdown",
   "metadata": {},
   "source": [
    "####  Comparación de la curva de evolución de dos paises"
   ]
  },
  {
   "cell_type": "code",
   "execution_count": 29,
   "metadata": {
    "ExecuteTime": {
     "end_time": "2020-03-28T17:28:57.320433Z",
     "start_time": "2020-03-28T17:28:55.686852Z"
    }
   },
   "outputs": [
    {
     "data": {
      "application/vnd.jupyter.widget-view+json": {
       "model_id": "2c2d52aee85347e4b959a76f57a2a06d",
       "version_major": 2,
       "version_minor": 0
      },
      "text/plain": [
       "interactive(children=(Dropdown(description='country1', index=127, options=('China', 'Algeria', 'Angola', 'Beni…"
      ]
     },
     "metadata": {},
     "output_type": "display_data"
    }
   ],
   "source": [
    "def make_hist(country1='Italy', country2='Spain'):\n",
    "    nrows = 2\n",
    "    ncols = nrows\n",
    "    fig = make_subplots(rows=2, cols=2, subplot_titles=[f'Total of {c} cases' for c in col_vars])\n",
    "    for c in range(0,len(col_vars)):\n",
    "        df_filtered = df_countries[df_countries['country']==country1]\n",
    "        fig.add_trace(go.Scatter( \\\n",
    "                      x = df_filtered['days_confirmed'], \\\n",
    "                      y = df_filtered[col_vars[c]], \\\n",
    "                      mode = 'lines+markers',\n",
    "                      name = f'{country1} - {col_vars[c].capitalize()}'),\n",
    "                      row=int(c/nrows)+1, col=(c%ncols)+1)\n",
    "        df_filtered2 = df_countries[df_countries['country']==country2]\n",
    "        fig.add_trace(go.Scatter( \\\n",
    "                      x = df_filtered2['days_confirmed'], \\\n",
    "                      y = df_filtered2[col_vars[c]], \\\n",
    "                      mode = 'lines+markers',\n",
    "                      name = f'{country2} - {col_vars[c].capitalize()}'),\n",
    "                      row=int(c/nrows)+1, col=(c%ncols)+1)\n",
    "        \n",
    "    fig.update_layout(height=1000, width=1000, title_text=f'Evolución de casos {country1} vs. {country2}', title_x=0.5)\n",
    "    fig.show()\n",
    "                      \n",
    "_= interact(make_hist, country1 = cou_vars, country2 = cou_vars)"
   ]
  },
  {
   "cell_type": "markdown",
   "metadata": {},
   "source": [
    "## Estadística"
   ]
  },
  {
   "cell_type": "markdown",
   "metadata": {},
   "source": [
    "###  Funciones"
   ]
  },
  {
   "cell_type": "code",
   "execution_count": 34,
   "metadata": {
    "ExecuteTime": {
     "end_time": "2020-03-28T17:33:14.081951Z",
     "start_time": "2020-03-28T17:33:14.066198Z"
    },
    "code_folding": []
   },
   "outputs": [],
   "source": [
    "def hipotesis_result (pval, conf):\n",
    "    \n",
    "    \"\"\"\n",
    "    ************************************Contraste de hipótesis************************************\n",
    "    \n",
    "    Devuelve la decisión de rechazar o no la hipótesis nula dados el p-valor y el nivel de confianza.\n",
    "    \n",
    "    Input:\n",
    "    * pval(float): P-valor. Probabilidad de que un valor sea posible dada una hipótesis nula cierta.\n",
    "    * conf(float) : Nivel de confianza deseado.\n",
    "    \n",
    "    Output:\n",
    "    * (str): Si se acepta o rechaza la H0 y los valores'pval' y 'conf' introducidos.\n",
    "    \n",
    "    ***********************************************************************************************\n",
    "    \n",
    "    \"\"\"\n",
    "    alpha = 1 - conf\n",
    "    if pval <= alpha:\n",
    "        return f'Se rechaza la hipótesis nula (H0). Nuestro p-valor {pval} es menor a nuestra α {round(alpha,2)}'\n",
    "    else:\n",
    "        return f'No se rechaza la hipótesis nula (H0). Nuestro p-valor {pval} es mayor a nuestra α {round(alpha,2)}'\n",
    "\n",
    "\n",
    "\n",
    "def model_summary (x, y):\n",
    "    \n",
    "    from statsmodels.regression import linear_model as sm\n",
    "    \n",
    "    \"\"\"\n",
    "    ************************************Sumario************************************\n",
    "    \n",
    "    Devuelve la sumarización de diferentes estadísticos.\n",
    "    \n",
    "    Input:\n",
    "    * X: muestra 1\n",
    "    * Y: muestra 2\n",
    "\n",
    "    \n",
    "    Output:\n",
    "    * Listado de estadísticos.\n",
    "    \n",
    "    ***********************************************************************************************\n",
    "    \n",
    "    \"\"\"\n",
    "    model = sm.OLS(y.astype(float), y.astype(float)).fit()\n",
    "\n",
    "    print(model.summary())\n",
    "    \n",
    "\n",
    "\n",
    "def t_test_features(s1, s2, conf, features=['confirmed','deaths', 'recovered', 'existing', 'estimated']):\n",
    "    \n",
    "    \"\"\"\n",
    "    La prueba 't de Student' se aplica cuando la población estudiada sigue una \n",
    "    distribución normal pero el tamaño muestral es demasiado pequeño como para \n",
    "    que el estadístico en el que está basada la inferencia esté normalmente \n",
    "    distribuido, utilizándose una estimación de la desviación típica en lugar del \n",
    "    valor real. Es utilizado en análisis discriminante.\n",
    "    \n",
    "    Calculate the T-test for the means of two independent samples of scores.\n",
    "\n",
    "    This is a two-sided test for the null hypothesis that 2 independent samples\n",
    "    have identical average (expected) values. This test assumes that the populations\n",
    "    have identical variances by default.\n",
    "    \n",
    "    Args:\n",
    "        s1 (dataframe): sample 1\n",
    "        s2 (dataframe): sample 2\n",
    "        features (list): an array of features to test\n",
    "    \n",
    "    Returns:\n",
    "        dict: a dictionary of t-test scores for each feature where the feature name\n",
    "        is the key and the p-value is the value\n",
    "    \"\"\"\n",
    "    \n",
    "    results = {}\n",
    "    \n",
    "    # Your code here\n",
    "    \n",
    "    for feat in features:\n",
    "        c = sp.ttest_ind(s1[feat], s2[feat])[1]\n",
    "        results[feat] = hipotesis_result(c,conf)\n",
    "    \n",
    "    return results\n",
    " "
   ]
  },
  {
   "cell_type": "code",
   "execution_count": 94,
   "metadata": {
    "ExecuteTime": {
     "end_time": "2020-03-28T18:21:48.951866Z",
     "start_time": "2020-03-28T18:21:48.921288Z"
    }
   },
   "outputs": [],
   "source": [
    "def log_distribution(x, a, b, c, d):\n",
    "    return a/(d + b*np.exp(-c * x))\n",
    "\n",
    "\n",
    "def log_reg (country, days_predict):\n",
    "    \n",
    "    \"\"\"\n",
    "    La regresión polinómica es una predicción de una variable de \n",
    "    respuesta cuantitativa a partir de una variable predictora \n",
    "    cuantitativa, donde la relación se modela como una función \n",
    "    polinomial de orden n.\n",
    "    \n",
    "    Args:\n",
    "        country: país a predecir\n",
    "        days_predict: hasta que día\n",
    "\n",
    "    \n",
    "    Returns:\n",
    "        plot con la predicción.\n",
    "        \n",
    "    \"\"\"\n",
    "    \n",
    "    selection = df_countries[df_countries['country'] == country]\n",
    "    \n",
    "    X = selection['days_death'].values\n",
    "    Y = selection['deaths'].values\n",
    "    popt, pcov = curve_fit(log_distribution, X, Y)\n",
    "    x_days_predict = np.arange(0,days_predict,1)\n",
    "    plt.plot(x_days_predict, log_distribution(x_days_predict, *popt), label='Model', linewidth=3)\n",
    "    \n",
    "    A = selection['days_confirmed'].values\n",
    "    B = selection['confirmed'].values\n",
    "    popt, pcov = curve_fit(log_distribution, A, B)\n",
    "    x_days_predict = np.arange(0,days_predict,1)\n",
    "    plt.plot(x_days_predict, log_distribution(x_days_predict, *popt), label='Model', linewidth=3)\n",
    "\n",
    "    \n",
    "    \n",
    "    plt.plot(selection['days_confirmed'], selection['confirmed'], 'o', label='Confirmed')\n",
    "    plt.plot(selection['days_death'], selection['deaths'], 'o', label='deaths')\n",
    "    plt.plot(selection['days_recovered'], selection['recovered'], 'o', label='recovered')\n",
    "    plt.plot(selection['days_confirmed'], selection['existing'], 'o', label='existing')\n",
    "    plt.legend()\n",
    "    plt.xlabel('Number of Days')\n",
    "    plt.ylabel('Number of Cases')\n",
    "    plt.grid('on')\n",
    "    plt.title(country)\n",
    "    plt.show()"
   ]
  },
  {
   "cell_type": "code",
   "execution_count": 36,
   "metadata": {
    "ExecuteTime": {
     "end_time": "2020-03-28T17:33:15.670413Z",
     "start_time": "2020-03-28T17:33:15.647061Z"
    }
   },
   "outputs": [],
   "source": [
    "def umann_whitney_features(s1, s2, conf, features):\n",
    "    \n",
    "    \"\"\"\n",
    "    La prueba U de MannWhitney es una prueba no paramétrica aplicada a dos muestras independientes. Es la versión \n",
    "    no paramétrica de la habitual prueba t de Student.\n",
    "    \n",
    "    Args:\n",
    "        s1 (dataframe): sample 1\n",
    "        s2 (dataframe): sample 2\n",
    "        features (list): an array of features to test\n",
    "    \n",
    "    Returns:\n",
    "        dict: a dictionary of t-test scores for each feature where the feature name\n",
    "        is the key and the p-value is the value\n",
    "    \"\"\"\n",
    "    \n",
    "    results = {}\n",
    "    \n",
    "    # Your code here\n",
    "    \n",
    "    for feat in features:\n",
    "        c = sp.stats.mannwhitneyu(s1[feat], s2[feat])[1]\n",
    "        results[feat] = hipotesis_result(c,conf)\n",
    "    \n",
    "    return results"
   ]
  },
  {
   "cell_type": "markdown",
   "metadata": {},
   "source": [
    "###  España vs Italia"
   ]
  },
  {
   "cell_type": "code",
   "execution_count": 37,
   "metadata": {
    "ExecuteTime": {
     "end_time": "2020-03-28T17:33:17.042797Z",
     "start_time": "2020-03-28T17:33:16.954724Z"
    }
   },
   "outputs": [
    {
     "data": {
      "text/html": [
       "<div>\n",
       "<style scoped>\n",
       "    .dataframe tbody tr th:only-of-type {\n",
       "        vertical-align: middle;\n",
       "    }\n",
       "\n",
       "    .dataframe tbody tr th {\n",
       "        vertical-align: top;\n",
       "    }\n",
       "\n",
       "    .dataframe thead th {\n",
       "        text-align: right;\n",
       "    }\n",
       "</style>\n",
       "<table border=\"1\" class=\"dataframe\">\n",
       "  <thead>\n",
       "    <tr style=\"text-align: right;\">\n",
       "      <th>status</th>\n",
       "      <th>date</th>\n",
       "      <th>class</th>\n",
       "      <th>continent</th>\n",
       "      <th>country</th>\n",
       "      <th>confirmed</th>\n",
       "      <th>deaths</th>\n",
       "      <th>recovered</th>\n",
       "      <th>existing</th>\n",
       "      <th>days_confirmed</th>\n",
       "      <th>days_death</th>\n",
       "      <th>days_recovered</th>\n",
       "      <th>estimated</th>\n",
       "    </tr>\n",
       "  </thead>\n",
       "  <tbody>\n",
       "    <tr>\n",
       "      <td>3917</td>\n",
       "      <td>2020-03-02</td>\n",
       "      <td>Other Countries</td>\n",
       "      <td>Europe</td>\n",
       "      <td>Spain</td>\n",
       "      <td>120</td>\n",
       "      <td>0</td>\n",
       "      <td>2</td>\n",
       "      <td>118</td>\n",
       "      <td>1</td>\n",
       "      <td>0</td>\n",
       "      <td>0</td>\n",
       "      <td>11880</td>\n",
       "    </tr>\n",
       "    <tr>\n",
       "      <td>3918</td>\n",
       "      <td>2020-03-03</td>\n",
       "      <td>Other Countries</td>\n",
       "      <td>Europe</td>\n",
       "      <td>Spain</td>\n",
       "      <td>165</td>\n",
       "      <td>1</td>\n",
       "      <td>2</td>\n",
       "      <td>162</td>\n",
       "      <td>2</td>\n",
       "      <td>0</td>\n",
       "      <td>0</td>\n",
       "      <td>16335</td>\n",
       "    </tr>\n",
       "    <tr>\n",
       "      <td>3919</td>\n",
       "      <td>2020-03-04</td>\n",
       "      <td>Other Countries</td>\n",
       "      <td>Europe</td>\n",
       "      <td>Spain</td>\n",
       "      <td>222</td>\n",
       "      <td>2</td>\n",
       "      <td>2</td>\n",
       "      <td>218</td>\n",
       "      <td>3</td>\n",
       "      <td>0</td>\n",
       "      <td>0</td>\n",
       "      <td>21978</td>\n",
       "    </tr>\n",
       "    <tr>\n",
       "      <td>3920</td>\n",
       "      <td>2020-03-05</td>\n",
       "      <td>Other Countries</td>\n",
       "      <td>Europe</td>\n",
       "      <td>Spain</td>\n",
       "      <td>259</td>\n",
       "      <td>3</td>\n",
       "      <td>2</td>\n",
       "      <td>254</td>\n",
       "      <td>4</td>\n",
       "      <td>0</td>\n",
       "      <td>0</td>\n",
       "      <td>25641</td>\n",
       "    </tr>\n",
       "    <tr>\n",
       "      <td>3921</td>\n",
       "      <td>2020-03-06</td>\n",
       "      <td>Other Countries</td>\n",
       "      <td>Europe</td>\n",
       "      <td>Spain</td>\n",
       "      <td>400</td>\n",
       "      <td>5</td>\n",
       "      <td>2</td>\n",
       "      <td>393</td>\n",
       "      <td>5</td>\n",
       "      <td>0</td>\n",
       "      <td>0</td>\n",
       "      <td>39600</td>\n",
       "    </tr>\n",
       "  </tbody>\n",
       "</table>\n",
       "</div>"
      ],
      "text/plain": [
       "status       date            class continent country  confirmed  deaths  \\\n",
       "3917   2020-03-02  Other Countries    Europe   Spain        120       0   \n",
       "3918   2020-03-03  Other Countries    Europe   Spain        165       1   \n",
       "3919   2020-03-04  Other Countries    Europe   Spain        222       2   \n",
       "3920   2020-03-05  Other Countries    Europe   Spain        259       3   \n",
       "3921   2020-03-06  Other Countries    Europe   Spain        400       5   \n",
       "\n",
       "status  recovered  existing  days_confirmed  days_death  days_recovered  \\\n",
       "3917            2       118               1           0               0   \n",
       "3918            2       162               2           0               0   \n",
       "3919            2       218               3           0               0   \n",
       "3920            2       254               4           0               0   \n",
       "3921            2       393               5           0               0   \n",
       "\n",
       "status  estimated  \n",
       "3917        11880  \n",
       "3918        16335  \n",
       "3919        21978  \n",
       "3920        25641  \n",
       "3921        39600  "
      ]
     },
     "execution_count": 37,
     "metadata": {},
     "output_type": "execute_result"
    }
   ],
   "source": [
    "corona_spain = df_countries[df_countries['country'] == \"Spain\"]\n",
    "corona_spain = corona_spain[corona_spain['days_confirmed']>=1]\n",
    "corona_it = df_countries[df_countries['country'] == \"Italy\"]\n",
    "corona_it = corona_it[corona_it['days_confirmed']>=1]\n",
    "corona_spain.head()"
   ]
  },
  {
   "cell_type": "code",
   "execution_count": 38,
   "metadata": {
    "ExecuteTime": {
     "end_time": "2020-03-28T17:33:17.897205Z",
     "start_time": "2020-03-28T17:33:17.838460Z"
    }
   },
   "outputs": [
    {
     "data": {
      "text/plain": [
       "{'confirmed': 'No se rechaza la hipótesis nula (H0). Nuestro p-valor 0.189507246121506 es mayor a nuestra α 0.05',\n",
       " 'deaths': 'No se rechaza la hipótesis nula (H0). Nuestro p-valor 0.06456885051653391 es mayor a nuestra α 0.05',\n",
       " 'recovered': 'No se rechaza la hipótesis nula (H0). Nuestro p-valor 0.16563098905766716 es mayor a nuestra α 0.05',\n",
       " 'existing': 'No se rechaza la hipótesis nula (H0). Nuestro p-valor 0.2189650091729892 es mayor a nuestra α 0.05',\n",
       " 'estimated': 'No se rechaza la hipótesis nula (H0). Nuestro p-valor 0.189507246121506 es mayor a nuestra α 0.05'}"
      ]
     },
     "execution_count": 38,
     "metadata": {},
     "output_type": "execute_result"
    }
   ],
   "source": [
    "features=['confirmed','deaths', 'recovered', 'existing', 'estimated']\n",
    "t_test_features(corona_spain,corona_it, 0.95, features)"
   ]
  },
  {
   "cell_type": "markdown",
   "metadata": {},
   "source": [
    "#### Función logarítmica"
   ]
  },
  {
   "cell_type": "code",
   "execution_count": 95,
   "metadata": {
    "ExecuteTime": {
     "end_time": "2020-03-28T18:21:53.116067Z",
     "start_time": "2020-03-28T18:21:52.637101Z"
    },
    "scrolled": true
   },
   "outputs": [
    {
     "data": {
      "image/png": "[encoded data removed]",
      "text/plain": [
       "<Figure size 432x288 with 1 Axes>"
      ]
     },
     "metadata": {
      "needs_background": "light"
     },
     "output_type": "display_data"
    }
   ],
   "source": [
    "log_reg(\"China\", 100)"
   ]
  },
  {
   "cell_type": "code",
   "execution_count": 97,
   "metadata": {
    "ExecuteTime": {
     "end_time": "2020-03-28T18:22:33.956303Z",
     "start_time": "2020-03-28T18:22:30.778852Z"
    }
   },
   "outputs": [
    {
     "data": {
      "image/png": "[encoded data removed]",
      "text/plain": [
       "<Figure size 432x288 with 1 Axes>"
      ]
     },
     "metadata": {
      "needs_background": "light"
     },
     "output_type": "display_data"
    },
    {
     "data": {
      "image/png": "[encoded data removed]",
      "text/plain": [
       "<Figure size 432x288 with 1 Axes>"
      ]
     },
     "metadata": {
      "needs_background": "light"
     },
     "output_type": "display_data"
    },
    {
     "data": {
      "image/png": "[encoded data removed]",
      "text/plain": [
       "<Figure size 432x288 with 1 Axes>"
      ]
     },
     "metadata": {
      "needs_background": "light"
     },
     "output_type": "display_data"
    },
    {
     "data": {
      "image/png": "[encoded data removed]",
      "text/plain": [
       "<Figure size 432x288 with 1 Axes>"
      ]
     },
     "metadata": {
      "needs_background": "light"
     },
     "output_type": "display_data"
    }
   ],
   "source": [
    "log_reg(\"Italy\", 50)\n",
    "log_reg(\"Spain\", 50)\n",
    "log_reg(\"United States\", 50) \n",
    "log_reg(\"United Kingdom\", 50) "
   ]
  },
  {
   "cell_type": "code",
   "execution_count": 44,
   "metadata": {
    "ExecuteTime": {
     "end_time": "2020-03-28T17:34:43.322924Z",
     "start_time": "2020-03-28T17:34:40.417336Z"
    }
   },
   "outputs": [
    {
     "data": {
      "application/vnd.jupyter.widget-view+json": {
       "model_id": "2f89fc719fcc47268e15d6b280b7c465",
       "version_major": 2,
       "version_minor": 0
      },
      "text/plain": [
       "interactive(children=(FloatSlider(value=2.4, description='R0', max=5.0, min=0.9), FloatSlider(value=14.0, desc…"
      ]
     },
     "metadata": {},
     "output_type": "display_data"
    }
   ],
   "source": [
    "from __future__ import print_function\n",
    "from ipywidgets import interact, interactive, fixed, interact_manual\n",
    "import ipywidgets as widgets\n",
    "#@title SEIR Model with Social Distancing { run: \"auto\" }\n",
    "\n",
    "#@markdown Reproduction number\n",
    "R0 = widgets.FloatSlider(min=0.9, max=5, step=0.1, value=2.4)\n",
    "#@markdown Disease periods in days\n",
    "t_incubation = widgets.FloatSlider(min=1, max=14, step=0.1, value=14)\n",
    "t_infective  = widgets.FloatSlider(min=1, max=14, step=0.1, value=3.3)\n",
    "#@markdown Population Size\n",
    "N = widgets.IntSlider(min=1000, max=350000, step=1000, value=89000)\n",
    "#@markdown Initial number exposed\n",
    "n = widgets.IntSlider(min=0, max=100, step=1, value=45)\n",
    "#@markdown Start of social distancing following exposure (weeks)\n",
    "t_social_distancing = widgets.FloatSlider(min=0, max=30, step=0.1, value=2)\n",
    "#@markdown Effectiveness of social distancing (0 to 100%)\n",
    "u_social_distancing = widgets.IntSlider(min=0, max=100, step=1, value=80)\n",
    "\n",
    "def hola(R0, t_incubation, t_infective, N, n, t_social_distancing, u_social_distancing):\n",
    "    # initial number of infected and recovered individuals\n",
    "    e_initial = n/N\n",
    "    i_initial = 0.00\n",
    "    r_initial = 0.00\n",
    "    s_initial = 1 - e_initial - i_initial - r_initial\n",
    "\n",
    "    alpha = 1/t_incubation\n",
    "    gamma = 1/t_infective\n",
    "    beta = R0*gamma\n",
    "\n",
    "    def step(t):\n",
    "        return 1 if t >= 7*t_social_distancing else 0\n",
    "\n",
    "    # SEIR model differential equations.\n",
    "    def deriv(x, t, u, alpha, beta, gamma):\n",
    "        s, e, i, r = x\n",
    "        dsdt = -(1-u*step(t)/100)*beta * s * i\n",
    "        dedt =  (1-u*step(t)/100)*beta * s * i - alpha * e\n",
    "        didt = alpha * e - gamma * i\n",
    "        drdt =  gamma * i\n",
    "        return [dsdt, dedt, didt, drdt]\n",
    "\n",
    "    t = np.linspace(0, 210, 210)\n",
    "    x_initial = s_initial, e_initial, i_initial, r_initial\n",
    "    s, e, i, r = odeint(deriv, x_initial, t, args=(u_social_distancing, alpha, beta, gamma)).T\n",
    "    s0, e0, i0, r0 = odeint(deriv, x_initial, t, args=(0, alpha, beta, gamma)).T\n",
    "\n",
    "    # plot the data\n",
    "    fig = plt.figure(figsize=(12, 10))\n",
    "    ax = [fig.add_subplot(311, axisbelow=True), \n",
    "          fig.add_subplot(312)]\n",
    "\n",
    "    pal = sns.color_palette()\n",
    "\n",
    "    ax[0].stackplot(t/7, N*s, N*e, N*i, N*r, colors=pal, alpha=0.6)\n",
    "    ax[0].set_title('Susceptible and Recovered Populations with {0:3.0f}% Effective Social Distancing'.format(u_social_distancing))\n",
    "    ax[0].set_xlabel('Weeks following Initial Campus Exposure')\n",
    "    ax[0].set_xlim(0, t[-1]/7)\n",
    "    ax[0].set_ylim(0, N)\n",
    "    ax[0].legend([\n",
    "        'Susceptible', \n",
    "        'Exposed/no symptoms', \n",
    "        'Infectious/symptomatic',\n",
    "        'Recovered'], \n",
    "        loc='best')\n",
    "    ax[0].plot(np.array([t_social_distancing, t_social_distancing]), ax[0].get_ylim(), 'r', lw=3)\n",
    "    ax[0].plot(np.array([0, t[-1]])/7, [N/R0, N/R0], lw=3, label='herd immunity')\n",
    "    ax[0].annotate(\"Start of social distancing\",\n",
    "        (t_social_distancing, 0), (t_social_distancing + 1.5, N/10),\n",
    "        arrowprops=dict(arrowstyle='->'))\n",
    "    ax[0].annotate(\"Herd Immunity without social distancing\",\n",
    "        (t[-1]/7, N/R0), (t[-1]/7 - 8, N/R0 - N/5),\n",
    "        arrowprops=dict(arrowstyle='->'))\n",
    "\n",
    "    ax[1].stackplot(t/7, N*i0,N*e0, colors=pal[2:0:-1], alpha=0.5)\n",
    "    ax[1].stackplot(t/7, N*i, N*e, colors=pal[2:0:-1], alpha=0.5)\n",
    "    ax[1].set_title('Infected Population with no Social Distancing and with {0:3.0f}% Effective Social Distancing'.format(u_social_distancing))\n",
    "    ax[1].set_xlim(0, t[-1]/7)\n",
    "    ax[1].set_ylim(0, max(0.3*N, 1.05*max(N*(e + i))))\n",
    "    ax[1].set_xlabel('Weeks following Initial Campus Exposure')\n",
    "    ax[1].legend([\n",
    "        'Infective/Symptomatic', \n",
    "        'Exposed/Not Sympotomatic'],\n",
    "        loc='upper right')\n",
    "    ax[1].plot(np.array([t_social_distancing, t_social_distancing]), ax[0].get_ylim(), 'r', lw=3)\n",
    "\n",
    "    y0 = N*(e0 + i0)\n",
    "    k0 = np.argmax(y0)\n",
    "    ax[1].annotate(\"No social distancing\", (t[k0]/7, y0[k0] + 100))\n",
    "\n",
    "    y = N*(e + i)\n",
    "    k = np.argmax(y)\n",
    "    ax[1].annotate(\"With {0:3.0f}% effective social distancing \".format(u_social_distancing), (t[k]/7, y[k] + 100))\n",
    "\n",
    "    for a in ax:\n",
    "        a.xaxis.set_major_locator(plt.MultipleLocator(5))\n",
    "        a.xaxis.set_minor_locator(plt.MultipleLocator(1))\n",
    "        a.xaxis.set_major_formatter(plt.FormatStrFormatter('%d'))\n",
    "        a.grid(True)\n",
    "\n",
    "    plt.tight_layout()\n",
    "    \n",
    "interact(hola,R0=R0, t_incubation=t_incubation, t_infective=t_infective, N=N, n=n, t_social_distancing=t_social_distancing, \n",
    "         u_social_distancing=u_social_distancing);"
   ]
  },
  {
   "cell_type": "markdown",
   "metadata": {},
   "source": [
    "## Información por regiones"
   ]
  },
  {
   "cell_type": "code",
   "execution_count": 51,
   "metadata": {
    "ExecuteTime": {
     "end_time": "2020-03-28T17:50:26.118464Z",
     "start_time": "2020-03-28T17:50:25.860972Z"
    }
   },
   "outputs": [
    {
     "data": {
      "text/html": [
       "<div>\n",
       "<style scoped>\n",
       "    .dataframe tbody tr th:only-of-type {\n",
       "        vertical-align: middle;\n",
       "    }\n",
       "\n",
       "    .dataframe tbody tr th {\n",
       "        vertical-align: top;\n",
       "    }\n",
       "\n",
       "    .dataframe thead th {\n",
       "        text-align: right;\n",
       "    }\n",
       "</style>\n",
       "<table border=\"1\" class=\"dataframe\">\n",
       "  <thead>\n",
       "    <tr style=\"text-align: right;\">\n",
       "      <th></th>\n",
       "      <th>date</th>\n",
       "      <th>region_code</th>\n",
       "      <th>region</th>\n",
       "      <th>country</th>\n",
       "      <th>population</th>\n",
       "      <th>cases_registered</th>\n",
       "      <th>cases_per_100000</th>\n",
       "      <th>intensive_care</th>\n",
       "      <th>intensive_care_per_1000000</th>\n",
       "      <th>deceassed</th>\n",
       "      <th>deceassed_per_100000</th>\n",
       "      <th>recovered</th>\n",
       "      <th>recovered_per_100000</th>\n",
       "    </tr>\n",
       "  </thead>\n",
       "  <tbody>\n",
       "    <tr>\n",
       "      <td>0</td>\n",
       "      <td>2020-02-27</td>\n",
       "      <td>1.0</td>\n",
       "      <td>Andalucía</td>\n",
       "      <td>Spain</td>\n",
       "      <td>8414240.0</td>\n",
       "      <td>1.0</td>\n",
       "      <td>0.01</td>\n",
       "      <td>0.0</td>\n",
       "      <td>0.0</td>\n",
       "      <td>0.0</td>\n",
       "      <td>0.0</td>\n",
       "      <td>0.0</td>\n",
       "      <td>0.0</td>\n",
       "    </tr>\n",
       "    <tr>\n",
       "      <td>1</td>\n",
       "      <td>2020-02-28</td>\n",
       "      <td>1.0</td>\n",
       "      <td>Andalucía</td>\n",
       "      <td>Spain</td>\n",
       "      <td>8414240.0</td>\n",
       "      <td>6.0</td>\n",
       "      <td>0.07</td>\n",
       "      <td>0.0</td>\n",
       "      <td>0.0</td>\n",
       "      <td>0.0</td>\n",
       "      <td>0.0</td>\n",
       "      <td>0.0</td>\n",
       "      <td>0.0</td>\n",
       "    </tr>\n",
       "    <tr>\n",
       "      <td>2</td>\n",
       "      <td>2020-02-29</td>\n",
       "      <td>1.0</td>\n",
       "      <td>Andalucía</td>\n",
       "      <td>Spain</td>\n",
       "      <td>8414240.0</td>\n",
       "      <td>8.0</td>\n",
       "      <td>0.10</td>\n",
       "      <td>0.0</td>\n",
       "      <td>0.0</td>\n",
       "      <td>0.0</td>\n",
       "      <td>0.0</td>\n",
       "      <td>0.0</td>\n",
       "      <td>0.0</td>\n",
       "    </tr>\n",
       "    <tr>\n",
       "      <td>3</td>\n",
       "      <td>2020-03-01</td>\n",
       "      <td>1.0</td>\n",
       "      <td>Andalucía</td>\n",
       "      <td>Spain</td>\n",
       "      <td>8414240.0</td>\n",
       "      <td>12.0</td>\n",
       "      <td>0.14</td>\n",
       "      <td>0.0</td>\n",
       "      <td>0.0</td>\n",
       "      <td>0.0</td>\n",
       "      <td>0.0</td>\n",
       "      <td>0.0</td>\n",
       "      <td>0.0</td>\n",
       "    </tr>\n",
       "    <tr>\n",
       "      <td>4</td>\n",
       "      <td>2020-03-02</td>\n",
       "      <td>1.0</td>\n",
       "      <td>Andalucía</td>\n",
       "      <td>Spain</td>\n",
       "      <td>8414240.0</td>\n",
       "      <td>12.0</td>\n",
       "      <td>0.14</td>\n",
       "      <td>0.0</td>\n",
       "      <td>0.0</td>\n",
       "      <td>0.0</td>\n",
       "      <td>0.0</td>\n",
       "      <td>0.0</td>\n",
       "      <td>0.0</td>\n",
       "    </tr>\n",
       "  </tbody>\n",
       "</table>\n",
       "</div>"
      ],
      "text/plain": [
       "         date  region_code     region country  population  cases_registered  \\\n",
       "0  2020-02-27          1.0  Andalucía   Spain   8414240.0               1.0   \n",
       "1  2020-02-28          1.0  Andalucía   Spain   8414240.0               6.0   \n",
       "2  2020-02-29          1.0  Andalucía   Spain   8414240.0               8.0   \n",
       "3  2020-03-01          1.0  Andalucía   Spain   8414240.0              12.0   \n",
       "4  2020-03-02          1.0  Andalucía   Spain   8414240.0              12.0   \n",
       "\n",
       "   cases_per_100000  intensive_care  intensive_care_per_1000000  deceassed  \\\n",
       "0              0.01             0.0                         0.0        0.0   \n",
       "1              0.07             0.0                         0.0        0.0   \n",
       "2              0.10             0.0                         0.0        0.0   \n",
       "3              0.14             0.0                         0.0        0.0   \n",
       "4              0.14             0.0                         0.0        0.0   \n",
       "\n",
       "   deceassed_per_100000  recovered  recovered_per_100000  \n",
       "0                   0.0        0.0                   0.0  \n",
       "1                   0.0        0.0                   0.0  \n",
       "2                   0.0        0.0                   0.0  \n",
       "3                   0.0        0.0                   0.0  \n",
       "4                   0.0        0.0                   0.0  "
      ]
     },
     "execution_count": 51,
     "metadata": {},
     "output_type": "execute_result"
    }
   ],
   "source": [
    "df_sp_it_fr_conf.head()"
   ]
  },
  {
   "cell_type": "code",
   "execution_count": 52,
   "metadata": {
    "ExecuteTime": {
     "end_time": "2020-03-28T17:50:27.414882Z",
     "start_time": "2020-03-28T17:50:27.189881Z"
    }
   },
   "outputs": [
    {
     "data": {
      "text/html": [
       "<div>\n",
       "<style scoped>\n",
       "    .dataframe tbody tr th:only-of-type {\n",
       "        vertical-align: middle;\n",
       "    }\n",
       "\n",
       "    .dataframe tbody tr th {\n",
       "        vertical-align: top;\n",
       "    }\n",
       "\n",
       "    .dataframe thead th {\n",
       "        text-align: right;\n",
       "    }\n",
       "</style>\n",
       "<table border=\"1\" class=\"dataframe\">\n",
       "  <thead>\n",
       "    <tr style=\"text-align: right;\">\n",
       "      <th></th>\n",
       "      <th></th>\n",
       "      <th></th>\n",
       "      <th>cases_per_100000</th>\n",
       "      <th>cases_registered</th>\n",
       "      <th>deceassed</th>\n",
       "      <th>deceassed_per_100000</th>\n",
       "      <th>intensive_care</th>\n",
       "      <th>intensive_care_per_1000000</th>\n",
       "      <th>population</th>\n",
       "      <th>recovered</th>\n",
       "      <th>recovered_per_100000</th>\n",
       "      <th>region_code</th>\n",
       "    </tr>\n",
       "    <tr>\n",
       "      <th>date</th>\n",
       "      <th>country</th>\n",
       "      <th>region</th>\n",
       "      <th></th>\n",
       "      <th></th>\n",
       "      <th></th>\n",
       "      <th></th>\n",
       "      <th></th>\n",
       "      <th></th>\n",
       "      <th></th>\n",
       "      <th></th>\n",
       "      <th></th>\n",
       "      <th></th>\n",
       "    </tr>\n",
       "  </thead>\n",
       "  <tbody>\n",
       "    <tr>\n",
       "      <td rowspan=\"5\" valign=\"top\">0</td>\n",
       "      <td rowspan=\"5\" valign=\"top\">France</td>\n",
       "      <td>Auvergne.Rhône.Alpes</td>\n",
       "      <td>0.00</td>\n",
       "      <td>0.0</td>\n",
       "      <td>0.0</td>\n",
       "      <td>0.00</td>\n",
       "      <td>0.0</td>\n",
       "      <td>0.00</td>\n",
       "      <td>0.0</td>\n",
       "      <td>0.0</td>\n",
       "      <td>0.00</td>\n",
       "      <td>0.0</td>\n",
       "    </tr>\n",
       "    <tr>\n",
       "      <td>Bourgogne.Franche.Comté</td>\n",
       "      <td>0.00</td>\n",
       "      <td>0.0</td>\n",
       "      <td>0.0</td>\n",
       "      <td>0.00</td>\n",
       "      <td>0.0</td>\n",
       "      <td>0.00</td>\n",
       "      <td>0.0</td>\n",
       "      <td>0.0</td>\n",
       "      <td>0.00</td>\n",
       "      <td>0.0</td>\n",
       "    </tr>\n",
       "    <tr>\n",
       "      <td>Bretagne</td>\n",
       "      <td>0.00</td>\n",
       "      <td>0.0</td>\n",
       "      <td>0.0</td>\n",
       "      <td>0.00</td>\n",
       "      <td>0.0</td>\n",
       "      <td>0.00</td>\n",
       "      <td>0.0</td>\n",
       "      <td>0.0</td>\n",
       "      <td>0.00</td>\n",
       "      <td>0.0</td>\n",
       "    </tr>\n",
       "    <tr>\n",
       "      <td>Centre.Val.de.Loire</td>\n",
       "      <td>0.00</td>\n",
       "      <td>0.0</td>\n",
       "      <td>0.0</td>\n",
       "      <td>0.00</td>\n",
       "      <td>0.0</td>\n",
       "      <td>0.00</td>\n",
       "      <td>0.0</td>\n",
       "      <td>0.0</td>\n",
       "      <td>0.00</td>\n",
       "      <td>0.0</td>\n",
       "    </tr>\n",
       "    <tr>\n",
       "      <td>Corse</td>\n",
       "      <td>0.00</td>\n",
       "      <td>0.0</td>\n",
       "      <td>0.0</td>\n",
       "      <td>0.00</td>\n",
       "      <td>0.0</td>\n",
       "      <td>0.00</td>\n",
       "      <td>0.0</td>\n",
       "      <td>0.0</td>\n",
       "      <td>0.00</td>\n",
       "      <td>0.0</td>\n",
       "    </tr>\n",
       "    <tr>\n",
       "      <td>...</td>\n",
       "      <td>...</td>\n",
       "      <td>...</td>\n",
       "      <td>...</td>\n",
       "      <td>...</td>\n",
       "      <td>...</td>\n",
       "      <td>...</td>\n",
       "      <td>...</td>\n",
       "      <td>...</td>\n",
       "      <td>...</td>\n",
       "      <td>...</td>\n",
       "      <td>...</td>\n",
       "      <td>...</td>\n",
       "    </tr>\n",
       "    <tr>\n",
       "      <td rowspan=\"5\" valign=\"top\">2020-03-25</td>\n",
       "      <td rowspan=\"5\" valign=\"top\">Spain</td>\n",
       "      <td>Madrid</td>\n",
       "      <td>219.06</td>\n",
       "      <td>14597.0</td>\n",
       "      <td>1825.0</td>\n",
       "      <td>27.39</td>\n",
       "      <td>1150.0</td>\n",
       "      <td>17.26</td>\n",
       "      <td>6663394.0</td>\n",
       "      <td>3031.0</td>\n",
       "      <td>454.87</td>\n",
       "      <td>13.0</td>\n",
       "    </tr>\n",
       "    <tr>\n",
       "      <td>Melilla</td>\n",
       "      <td>43.94</td>\n",
       "      <td>38.0</td>\n",
       "      <td>0.0</td>\n",
       "      <td>0.00</td>\n",
       "      <td>2.0</td>\n",
       "      <td>2.31</td>\n",
       "      <td>86487.0</td>\n",
       "      <td>0.0</td>\n",
       "      <td>0.00</td>\n",
       "      <td>19.0</td>\n",
       "    </tr>\n",
       "    <tr>\n",
       "      <td>Murcia</td>\n",
       "      <td>31.93</td>\n",
       "      <td>477.0</td>\n",
       "      <td>5.0</td>\n",
       "      <td>0.33</td>\n",
       "      <td>33.0</td>\n",
       "      <td>2.21</td>\n",
       "      <td>1493898.0</td>\n",
       "      <td>4.0</td>\n",
       "      <td>2.68</td>\n",
       "      <td>14.0</td>\n",
       "    </tr>\n",
       "    <tr>\n",
       "      <td>Navarra</td>\n",
       "      <td>182.97</td>\n",
       "      <td>1197.0</td>\n",
       "      <td>33.0</td>\n",
       "      <td>5.04</td>\n",
       "      <td>51.0</td>\n",
       "      <td>7.80</td>\n",
       "      <td>654214.0</td>\n",
       "      <td>23.0</td>\n",
       "      <td>35.16</td>\n",
       "      <td>15.0</td>\n",
       "    </tr>\n",
       "    <tr>\n",
       "      <td>País Vasco</td>\n",
       "      <td>148.16</td>\n",
       "      <td>3271.0</td>\n",
       "      <td>155.0</td>\n",
       "      <td>7.02</td>\n",
       "      <td>119.0</td>\n",
       "      <td>5.39</td>\n",
       "      <td>2207776.0</td>\n",
       "      <td>466.0</td>\n",
       "      <td>211.07</td>\n",
       "      <td>16.0</td>\n",
       "    </tr>\n",
       "  </tbody>\n",
       "</table>\n",
       "<p>1603 rows × 10 columns</p>\n",
       "</div>"
      ],
      "text/plain": [
       "                                            cases_per_100000  \\\n",
       "date       country region                                      \n",
       "0          France  Auvergne.Rhône.Alpes                 0.00   \n",
       "                   Bourgogne.Franche.Comté              0.00   \n",
       "                   Bretagne                             0.00   \n",
       "                   Centre.Val.de.Loire                  0.00   \n",
       "                   Corse                                0.00   \n",
       "...                                                      ...   \n",
       "2020-03-25 Spain   Madrid                             219.06   \n",
       "                   Melilla                             43.94   \n",
       "                   Murcia                              31.93   \n",
       "                   Navarra                            182.97   \n",
       "                   País Vasco                         148.16   \n",
       "\n",
       "                                            cases_registered  deceassed  \\\n",
       "date       country region                                                 \n",
       "0          France  Auvergne.Rhône.Alpes                  0.0        0.0   \n",
       "                   Bourgogne.Franche.Comté               0.0        0.0   \n",
       "                   Bretagne                              0.0        0.0   \n",
       "                   Centre.Val.de.Loire                   0.0        0.0   \n",
       "                   Corse                                 0.0        0.0   \n",
       "...                                                      ...        ...   \n",
       "2020-03-25 Spain   Madrid                            14597.0     1825.0   \n",
       "                   Melilla                              38.0        0.0   \n",
       "                   Murcia                              477.0        5.0   \n",
       "                   Navarra                            1197.0       33.0   \n",
       "                   País Vasco                         3271.0      155.0   \n",
       "\n",
       "                                            deceassed_per_100000  \\\n",
       "date       country region                                          \n",
       "0          France  Auvergne.Rhône.Alpes                     0.00   \n",
       "                   Bourgogne.Franche.Comté                  0.00   \n",
       "                   Bretagne                                 0.00   \n",
       "                   Centre.Val.de.Loire                      0.00   \n",
       "                   Corse                                    0.00   \n",
       "...                                                          ...   \n",
       "2020-03-25 Spain   Madrid                                  27.39   \n",
       "                   Melilla                                  0.00   \n",
       "                   Murcia                                   0.33   \n",
       "                   Navarra                                  5.04   \n",
       "                   País Vasco                               7.02   \n",
       "\n",
       "                                            intensive_care  \\\n",
       "date       country region                                    \n",
       "0          France  Auvergne.Rhône.Alpes                0.0   \n",
       "                   Bourgogne.Franche.Comté             0.0   \n",
       "                   Bretagne                            0.0   \n",
       "                   Centre.Val.de.Loire                 0.0   \n",
       "                   Corse                               0.0   \n",
       "...                                                    ...   \n",
       "2020-03-25 Spain   Madrid                           1150.0   \n",
       "                   Melilla                             2.0   \n",
       "                   Murcia                             33.0   \n",
       "                   Navarra                            51.0   \n",
       "                   País Vasco                        119.0   \n",
       "\n",
       "                                            intensive_care_per_1000000  \\\n",
       "date       country region                                                \n",
       "0          France  Auvergne.Rhône.Alpes                           0.00   \n",
       "                   Bourgogne.Franche.Comté                        0.00   \n",
       "                   Bretagne                                       0.00   \n",
       "                   Centre.Val.de.Loire                            0.00   \n",
       "                   Corse                                          0.00   \n",
       "...                                                                ...   \n",
       "2020-03-25 Spain   Madrid                                        17.26   \n",
       "                   Melilla                                        2.31   \n",
       "                   Murcia                                         2.21   \n",
       "                   Navarra                                        7.80   \n",
       "                   País Vasco                                     5.39   \n",
       "\n",
       "                                            population  recovered  \\\n",
       "date       country region                                           \n",
       "0          France  Auvergne.Rhône.Alpes            0.0        0.0   \n",
       "                   Bourgogne.Franche.Comté         0.0        0.0   \n",
       "                   Bretagne                        0.0        0.0   \n",
       "                   Centre.Val.de.Loire             0.0        0.0   \n",
       "                   Corse                           0.0        0.0   \n",
       "...                                                ...        ...   \n",
       "2020-03-25 Spain   Madrid                    6663394.0     3031.0   \n",
       "                   Melilla                     86487.0        0.0   \n",
       "                   Murcia                    1493898.0        4.0   \n",
       "                   Navarra                    654214.0       23.0   \n",
       "                   País Vasco                2207776.0      466.0   \n",
       "\n",
       "                                            recovered_per_100000  region_code  \n",
       "date       country region                                                      \n",
       "0          France  Auvergne.Rhône.Alpes                     0.00          0.0  \n",
       "                   Bourgogne.Franche.Comté                  0.00          0.0  \n",
       "                   Bretagne                                 0.00          0.0  \n",
       "                   Centre.Val.de.Loire                      0.00          0.0  \n",
       "                   Corse                                    0.00          0.0  \n",
       "...                                                          ...          ...  \n",
       "2020-03-25 Spain   Madrid                                 454.87         13.0  \n",
       "                   Melilla                                  0.00         19.0  \n",
       "                   Murcia                                   2.68         14.0  \n",
       "                   Navarra                                 35.16         15.0  \n",
       "                   País Vasco                             211.07         16.0  \n",
       "\n",
       "[1603 rows x 10 columns]"
      ]
     },
     "execution_count": 52,
     "metadata": {},
     "output_type": "execute_result"
    }
   ],
   "source": [
    "pd.pivot_table(df_sp_it_fr_conf, index = ['date','country', 'region'])"
   ]
  },
  {
   "cell_type": "code",
   "execution_count": 53,
   "metadata": {
    "ExecuteTime": {
     "end_time": "2020-03-28T17:50:28.508403Z",
     "start_time": "2020-03-28T17:50:28.390464Z"
    }
   },
   "outputs": [],
   "source": [
    "df_sp_it_fr_conf = df_sp_it_fr_conf.fillna(0)\n"
   ]
  },
  {
   "cell_type": "code",
   "execution_count": 57,
   "metadata": {
    "ExecuteTime": {
     "end_time": "2020-03-28T17:51:01.733525Z",
     "start_time": "2020-03-28T17:51:01.298182Z"
    }
   },
   "outputs": [
    {
     "data": {
      "image/png": "[encoded data removed]",
      "text/plain": [
       "<Figure size 432x288 with 2 Axes>"
      ]
     },
     "metadata": {
      "needs_background": "light"
     },
     "output_type": "display_data"
    }
   ],
   "source": [
    "_ = sns.heatmap(pd.pivot_table(df_sp_it_fr_conf, index = 'country', aggfunc = \"sum\")[['cases_per_100000',\n",
    "       'intensive_care_per_1000000', 'deceassed_per_100000','recovered_per_100000']], cmap= \"seismic\")"
   ]
  },
  {
   "cell_type": "code",
   "execution_count": 58,
   "metadata": {
    "ExecuteTime": {
     "end_time": "2020-03-28T17:51:11.028108Z",
     "start_time": "2020-03-28T17:51:10.940718Z"
    }
   },
   "outputs": [
    {
     "data": {
      "text/html": [
       "<div>\n",
       "<style scoped>\n",
       "    .dataframe tbody tr th:only-of-type {\n",
       "        vertical-align: middle;\n",
       "    }\n",
       "\n",
       "    .dataframe tbody tr th {\n",
       "        vertical-align: top;\n",
       "    }\n",
       "\n",
       "    .dataframe thead th {\n",
       "        text-align: right;\n",
       "    }\n",
       "</style>\n",
       "<table border=\"1\" class=\"dataframe\">\n",
       "  <thead>\n",
       "    <tr style=\"text-align: right;\">\n",
       "      <th></th>\n",
       "      <th>date</th>\n",
       "      <th>region_code</th>\n",
       "      <th>region</th>\n",
       "      <th>country</th>\n",
       "      <th>population</th>\n",
       "      <th>cases_registered</th>\n",
       "      <th>cases_per_100000</th>\n",
       "      <th>intensive_care</th>\n",
       "      <th>intensive_care_per_1000000</th>\n",
       "      <th>deceassed</th>\n",
       "      <th>deceassed_per_100000</th>\n",
       "      <th>recovered</th>\n",
       "      <th>recovered_per_100000</th>\n",
       "    </tr>\n",
       "  </thead>\n",
       "  <tbody>\n",
       "    <tr>\n",
       "      <td>532</td>\n",
       "      <td>2020-02-24</td>\n",
       "      <td>13.0</td>\n",
       "      <td>Abruzzo</td>\n",
       "      <td>Italia</td>\n",
       "      <td>1311580.0</td>\n",
       "      <td>0.0</td>\n",
       "      <td>0.00</td>\n",
       "      <td>0.0</td>\n",
       "      <td>0.00</td>\n",
       "      <td>0.0</td>\n",
       "      <td>0.00</td>\n",
       "      <td>0.0</td>\n",
       "      <td>0.00</td>\n",
       "    </tr>\n",
       "    <tr>\n",
       "      <td>533</td>\n",
       "      <td>2020-03-20</td>\n",
       "      <td>13.0</td>\n",
       "      <td>Abruzzo</td>\n",
       "      <td>Italia</td>\n",
       "      <td>1311580.0</td>\n",
       "      <td>449.0</td>\n",
       "      <td>34.23</td>\n",
       "      <td>48.0</td>\n",
       "      <td>3.66</td>\n",
       "      <td>17.0</td>\n",
       "      <td>1.30</td>\n",
       "      <td>10.0</td>\n",
       "      <td>0.76</td>\n",
       "    </tr>\n",
       "    <tr>\n",
       "      <td>534</td>\n",
       "      <td>2020-02-26</td>\n",
       "      <td>13.0</td>\n",
       "      <td>Abruzzo</td>\n",
       "      <td>Italia</td>\n",
       "      <td>1311580.0</td>\n",
       "      <td>0.0</td>\n",
       "      <td>0.00</td>\n",
       "      <td>0.0</td>\n",
       "      <td>0.00</td>\n",
       "      <td>0.0</td>\n",
       "      <td>0.00</td>\n",
       "      <td>0.0</td>\n",
       "      <td>0.00</td>\n",
       "    </tr>\n",
       "    <tr>\n",
       "      <td>535</td>\n",
       "      <td>2020-03-22</td>\n",
       "      <td>13.0</td>\n",
       "      <td>Abruzzo</td>\n",
       "      <td>Italia</td>\n",
       "      <td>1311580.0</td>\n",
       "      <td>587.0</td>\n",
       "      <td>44.76</td>\n",
       "      <td>49.0</td>\n",
       "      <td>3.74</td>\n",
       "      <td>33.0</td>\n",
       "      <td>2.52</td>\n",
       "      <td>15.0</td>\n",
       "      <td>1.14</td>\n",
       "    </tr>\n",
       "    <tr>\n",
       "      <td>536</td>\n",
       "      <td>2020-03-24</td>\n",
       "      <td>13.0</td>\n",
       "      <td>Abruzzo</td>\n",
       "      <td>Italia</td>\n",
       "      <td>1311580.0</td>\n",
       "      <td>689.0</td>\n",
       "      <td>52.53</td>\n",
       "      <td>57.0</td>\n",
       "      <td>4.35</td>\n",
       "      <td>46.0</td>\n",
       "      <td>3.51</td>\n",
       "      <td>21.0</td>\n",
       "      <td>1.60</td>\n",
       "    </tr>\n",
       "  </tbody>\n",
       "</table>\n",
       "</div>"
      ],
      "text/plain": [
       "           date  region_code   region country  population  cases_registered  \\\n",
       "532  2020-02-24         13.0  Abruzzo  Italia   1311580.0               0.0   \n",
       "533  2020-03-20         13.0  Abruzzo  Italia   1311580.0             449.0   \n",
       "534  2020-02-26         13.0  Abruzzo  Italia   1311580.0               0.0   \n",
       "535  2020-03-22         13.0  Abruzzo  Italia   1311580.0             587.0   \n",
       "536  2020-03-24         13.0  Abruzzo  Italia   1311580.0             689.0   \n",
       "\n",
       "     cases_per_100000  intensive_care  intensive_care_per_1000000  deceassed  \\\n",
       "532              0.00             0.0                        0.00        0.0   \n",
       "533             34.23            48.0                        3.66       17.0   \n",
       "534              0.00             0.0                        0.00        0.0   \n",
       "535             44.76            49.0                        3.74       33.0   \n",
       "536             52.53            57.0                        4.35       46.0   \n",
       "\n",
       "     deceassed_per_100000  recovered  recovered_per_100000  \n",
       "532                  0.00        0.0                  0.00  \n",
       "533                  1.30       10.0                  0.76  \n",
       "534                  0.00        0.0                  0.00  \n",
       "535                  2.52       15.0                  1.14  \n",
       "536                  3.51       21.0                  1.60  "
      ]
     },
     "execution_count": 58,
     "metadata": {},
     "output_type": "execute_result"
    }
   ],
   "source": [
    "df_italia = df_sp_it_fr_conf[df_sp_it_fr_conf['country'] == \"Italia\"]\n",
    "df_spain = df_sp_it_fr_conf[df_sp_it_fr_conf['country'] == \"Spain\"]\n",
    "df_italia.head()"
   ]
  },
  {
   "cell_type": "code",
   "execution_count": 62,
   "metadata": {
    "ExecuteTime": {
     "end_time": "2020-03-28T17:51:42.907714Z",
     "start_time": "2020-03-28T17:51:41.804601Z"
    }
   },
   "outputs": [
    {
     "data": {
      "image/png": "[encoded data removed]",
      "text/plain": [
       "<Figure size 432x288 with 3 Axes>"
      ]
     },
     "metadata": {
      "needs_background": "light"
     },
     "output_type": "display_data"
    }
   ],
   "source": [
    "_ = sns.heatmap(pd.pivot_table(df_italia, index = 'region', aggfunc = \"sum\")[['cases_per_100000',\n",
    "       'intensive_care_per_1000000', 'deceassed_per_100000','recovered_per_100000']], cmap= \"seismic\")"
   ]
  },
  {
   "cell_type": "code",
   "execution_count": 63,
   "metadata": {
    "ExecuteTime": {
     "end_time": "2020-03-28T17:52:02.781960Z",
     "start_time": "2020-03-28T17:52:02.050971Z"
    }
   },
   "outputs": [
    {
     "data": {
      "image/png": "[encoded data removed]",
      "text/plain": [
       "<Figure size 432x288 with 2 Axes>"
      ]
     },
     "metadata": {
      "needs_background": "light"
     },
     "output_type": "display_data"
    }
   ],
   "source": [
    "_ = sns.heatmap(pd.pivot_table(df_spain, index = 'region', aggfunc = \"sum\")[['cases_per_100000',\n",
    "       'intensive_care_per_1000000', 'deceassed_per_100000','recovered_per_100000']], cmap= \"seismic\")"
   ]
  },
  {
   "cell_type": "code",
   "execution_count": 60,
   "metadata": {
    "ExecuteTime": {
     "end_time": "2020-03-28T17:51:15.351354Z",
     "start_time": "2020-03-28T17:51:15.302874Z"
    }
   },
   "outputs": [
    {
     "data": {
      "text/plain": [
       "{'population': 'Se rechaza la hipótesis nula (H0). Nuestro p-valor 0.0062172160280181705 es menor a nuestra α 0.05',\n",
       " 'cases_registered': 'Se rechaza la hipótesis nula (H0). Nuestro p-valor 0.0016204337800607405 es menor a nuestra α 0.05',\n",
       " 'cases_per_100000': 'Se rechaza la hipótesis nula (H0). Nuestro p-valor 0.00465508663707706 es menor a nuestra α 0.05',\n",
       " 'intensive_care': 'Se rechaza la hipótesis nula (H0). Nuestro p-valor 0.00036444704194237086 es menor a nuestra α 0.05',\n",
       " 'intensive_care_per_1000000': 'Se rechaza la hipótesis nula (H0). Nuestro p-valor 3.3552669947650595e-08 es menor a nuestra α 0.05',\n",
       " 'deceassed': 'Se rechaza la hipótesis nula (H0). Nuestro p-valor 0.002125237281649664 es menor a nuestra α 0.05',\n",
       " 'deceassed_per_100000': 'Se rechaza la hipótesis nula (H0). Nuestro p-valor 2.1037274283980933e-05 es menor a nuestra α 0.05',\n",
       " 'recovered': 'Se rechaza la hipótesis nula (H0). Nuestro p-valor 0.023801196228891704 es menor a nuestra α 0.05',\n",
       " 'recovered_per_100000': 'Se rechaza la hipótesis nula (H0). Nuestro p-valor 5.001479816127596e-07 es menor a nuestra α 0.05'}"
      ]
     },
     "execution_count": 60,
     "metadata": {},
     "output_type": "execute_result"
    }
   ],
   "source": [
    "features = ['population','cases_registered', 'cases_per_100000', 'intensive_care',\n",
    "       'intensive_care_per_1000000', 'deceassed', 'deceassed_per_100000',\n",
    "       'recovered', 'recovered_per_100000']\n",
    "t_test_features(df_italia,df_spain, 0.95, features)"
   ]
  },
  {
   "cell_type": "code",
   "execution_count": 61,
   "metadata": {
    "ExecuteTime": {
     "end_time": "2020-03-28T17:51:16.435896Z",
     "start_time": "2020-03-28T17:51:16.313918Z"
    }
   },
   "outputs": [
    {
     "data": {
      "text/plain": [
       "{'population': 'Se rechaza la hipótesis nula (H0). Nuestro p-valor 0.010662344993209843 es menor a nuestra α 0.05',\n",
       " 'cases_registered': 'Se rechaza la hipótesis nula (H0). Nuestro p-valor 0.00017344063400224867 es menor a nuestra α 0.05',\n",
       " 'cases_per_100000': 'Se rechaza la hipótesis nula (H0). Nuestro p-valor 0.0034361774319503434 es menor a nuestra α 0.05',\n",
       " 'intensive_care': 'Se rechaza la hipótesis nula (H0). Nuestro p-valor 9.18519127044035e-15 es menor a nuestra α 0.05',\n",
       " 'intensive_care_per_1000000': 'Se rechaza la hipótesis nula (H0). Nuestro p-valor 4.973376982565722e-13 es menor a nuestra α 0.05',\n",
       " 'deceassed': 'Se rechaza la hipótesis nula (H0). Nuestro p-valor 1.053271921824115e-06 es menor a nuestra α 0.05',\n",
       " 'deceassed_per_100000': 'Se rechaza la hipótesis nula (H0). Nuestro p-valor 2.8481861502101917e-06 es menor a nuestra α 0.05',\n",
       " 'recovered': 'Se rechaza la hipótesis nula (H0). Nuestro p-valor 9.688559592242476e-15 es menor a nuestra α 0.05',\n",
       " 'recovered_per_100000': 'Se rechaza la hipótesis nula (H0). Nuestro p-valor 1.0526065039050904e-05 es menor a nuestra α 0.05'}"
      ]
     },
     "execution_count": 61,
     "metadata": {},
     "output_type": "execute_result"
    }
   ],
   "source": [
    "umann_whitney_features(df_italia,df_spain, 0.95, features)"
   ]
  }
 ],
 "metadata": {
  "kernelspec": {
   "display_name": "Python 3",
   "language": "python",
   "name": "python3"
  },
  "language_info": {
   "codemirror_mode": {
    "name": "ipython",
    "version": 3
   },
   "file_extension": ".py",
   "mimetype": "text/x-python",
   "name": "python",
   "nbconvert_exporter": "python",
   "pygments_lexer": "ipython3",
   "version": "3.7.4"
  },
  "latex_envs": {
   "LaTeX_envs_menu_present": true,
   "autoclose": false,
   "autocomplete": true,
   "bibliofile": "biblio.bib",
   "cite_by": "apalike",
   "current_citInitial": 1,
   "eqLabelWithNumbers": true,
   "eqNumInitial": 1,
   "hotkeys": {
    "equation": "Ctrl-E",
    "itemize": "Ctrl-I"
   },
   "labels_anchors": false,
   "latex_user_defs": false,
   "report_style_numbering": false,
   "user_envs_cfg": false
  },
  "toc": {
   "base_numbering": 1,
   "nav_menu": {},
   "number_sections": false,
   "sideBar": true,
   "skip_h1_title": false,
   "title_cell": "Table of Contents",
   "title_sidebar": "Contents",
   "toc_cell": false,
   "toc_position": {},
   "toc_section_display": true,
   "toc_window_display": false
  },
  "varInspector": {
   "cols": {
    "lenName": 16,
    "lenType": 16,
    "lenVar": 40
   },
   "kernels_config": {
    "python": {
     "delete_cmd_postfix": "",
     "delete_cmd_prefix": "del ",
     "library": "var_list.py",
     "varRefreshCmd": "print(var_dic_list())"
    },
    "r": {
     "delete_cmd_postfix": ") ",
     "delete_cmd_prefix": "rm(",
     "library": "var_list.r",
     "varRefreshCmd": "cat(var_dic_list()) "
    }
   },
   "types_to_exclude": [
    "module",
    "function",
    "builtin_function_or_method",
    "instance",
    "_Feature"
   ],
   "window_display": false
  }
 },
 "nbformat": 4,
 "nbformat_minor": 4
}
