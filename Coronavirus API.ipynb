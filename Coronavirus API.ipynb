{
 "cells": [
  {
   "cell_type": "markdown",
   "metadata": {},
   "source": [
    "# Importamos librería"
   ]
  },
  {
   "cell_type": "code",
   "execution_count": 1,
   "metadata": {
    "ExecuteTime": {
     "end_time": "2020-03-21T12:55:01.889446Z",
     "start_time": "2020-03-21T12:54:56.432676Z"
    }
   },
   "outputs": [
    {
     "data": {
      "text/html": [
       "        <script type=\"text/javascript\">\n",
       "        window.PlotlyConfig = {MathJaxConfig: 'local'};\n",
       "        if (window.MathJax) {MathJax.Hub.Config({SVG: {font: \"STIX-Web\"}});}\n",
       "        if (typeof require !== 'undefined') {\n",
       "        require.undef(\"plotly\");\n",
       "        requirejs.config({\n",
       "            paths: {\n",
       "                'plotly': ['https://cdn.plot.ly/plotly-latest.min']\n",
       "            }\n",
       "        });\n",
       "        require(['plotly'], function(Plotly) {\n",
       "            window._Plotly = Plotly;\n",
       "        });\n",
       "        }\n",
       "        </script>\n",
       "        "
      ]
     },
     "metadata": {},
     "output_type": "display_data"
    }
   ],
   "source": [
    "import pandas as pd\n",
    "import chart_studio.plotly as py\n",
    "from plotly.subplots import make_subplots\n",
    "import plotly.graph_objects as go\n",
    "import cufflinks as cf\n",
    "from datetime import datetime\n",
    "from ipywidgets import interact\n",
    "import numpy as np\n",
    "import plotly.express as px\n",
    "import matplotlib.pyplot as plt\n",
    "import warnings\n",
    "import cartopy\n",
    "warnings.filterwarnings('ignore')\n",
    "import plotly.offline as off\n",
    "import json\n",
    "import requests\n",
    "from pandas.io.json import json_normalize\n",
    "import re\n",
    "cf.go_offline()"
   ]
  },
  {
   "cell_type": "markdown",
   "metadata": {},
   "source": [
    "# Importar datos"
   ]
  },
  {
   "cell_type": "code",
   "execution_count": 2,
   "metadata": {
    "ExecuteTime": {
     "end_time": "2020-03-21T12:55:07.250930Z",
     "start_time": "2020-03-21T12:55:01.895429Z"
    }
   },
   "outputs": [
    {
     "data": {
      "text/plain": [
       "[{'Country': 'Afghanistan',\n",
       "  'Province': '',\n",
       "  'Lat': 33,\n",
       "  'Lon': 65,\n",
       "  'Date': '2020-01-22T00:00:00Z',\n",
       "  'Cases': 0,\n",
       "  'Status': 'recovered'},\n",
       " {'Country': 'Afghanistan',\n",
       "  'Province': '',\n",
       "  'Lat': 33,\n",
       "  'Lon': 65,\n",
       "  'Date': '2020-01-22T00:00:00Z',\n",
       "  'Cases': 0,\n",
       "  'Status': 'confirmed'},\n",
       " {'Country': 'Afghanistan',\n",
       "  'Province': '',\n",
       "  'Lat': 33,\n",
       "  'Lon': 65,\n",
       "  'Date': '2020-01-22T00:00:00Z',\n",
       "  'Cases': 0,\n",
       "  'Status': 'deaths'},\n",
       " {'Country': 'Afghanistan',\n",
       "  'Province': '',\n",
       "  'Lat': 33,\n",
       "  'Lon': 65,\n",
       "  'Date': '2020-01-23T00:00:00Z',\n",
       "  'Cases': 0,\n",
       "  'Status': 'recovered'},\n",
       " {'Country': 'Afghanistan',\n",
       "  'Province': '',\n",
       "  'Lat': 33,\n",
       "  'Lon': 65,\n",
       "  'Date': '2020-01-23T00:00:00Z',\n",
       "  'Cases': 0,\n",
       "  'Status': 'confirmed'},\n",
       " {'Country': 'Afghanistan',\n",
       "  'Province': '',\n",
       "  'Lat': 33,\n",
       "  'Lon': 65,\n",
       "  'Date': '2020-01-23T00:00:00Z',\n",
       "  'Cases': 0,\n",
       "  'Status': 'deaths'},\n",
       " {'Country': 'Afghanistan',\n",
       "  'Province': '',\n",
       "  'Lat': 33,\n",
       "  'Lon': 65,\n",
       "  'Date': '2020-01-24T00:00:00Z',\n",
       "  'Cases': 0,\n",
       "  'Status': 'recovered'},\n",
       " {'Country': 'Afghanistan',\n",
       "  'Province': '',\n",
       "  'Lat': 33,\n",
       "  'Lon': 65,\n",
       "  'Date': '2020-01-24T00:00:00Z',\n",
       "  'Cases': 0,\n",
       "  'Status': 'confirmed'},\n",
       " {'Country': 'Afghanistan',\n",
       "  'Province': '',\n",
       "  'Lat': 33,\n",
       "  'Lon': 65,\n",
       "  'Date': '2020-01-24T00:00:00Z',\n",
       "  'Cases': 0,\n",
       "  'Status': 'deaths'},\n",
       " {'Country': 'Afghanistan',\n",
       "  'Province': '',\n",
       "  'Lat': 33,\n",
       "  'Lon': 65,\n",
       "  'Date': '2020-01-25T00:00:00Z',\n",
       "  'Cases': 0,\n",
       "  'Status': 'recovered'},\n",
       " {'Country': 'Afghanistan',\n",
       "  'Province': '',\n",
       "  'Lat': 33,\n",
       "  'Lon': 65,\n",
       "  'Date': '2020-01-25T00:00:00Z',\n",
       "  'Cases': 0,\n",
       "  'Status': 'confirmed'},\n",
       " {'Country': 'Afghanistan',\n",
       "  'Province': '',\n",
       "  'Lat': 33,\n",
       "  'Lon': 65,\n",
       "  'Date': '2020-01-25T00:00:00Z',\n",
       "  'Cases': 0,\n",
       "  'Status': 'deaths'},\n",
       " {'Country': 'Afghanistan',\n",
       "  'Province': '',\n",
       "  'Lat': 33,\n",
       "  'Lon': 65,\n",
       "  'Date': '2020-01-26T00:00:00Z',\n",
       "  'Cases': 0,\n",
       "  'Status': 'recovered'},\n",
       " {'Country': 'Afghanistan',\n",
       "  'Province': '',\n",
       "  'Lat': 33,\n",
       "  'Lon': 65,\n",
       "  'Date': '2020-01-26T00:00:00Z',\n",
       "  'Cases': 0,\n",
       "  'Status': 'confirmed'},\n",
       " {'Country': 'Afghanistan',\n",
       "  'Province': '',\n",
       "  'Lat': 33,\n",
       "  'Lon': 65,\n",
       "  'Date': '2020-01-26T00:00:00Z',\n",
       "  'Cases': 0,\n",
       "  'Status': 'deaths'},\n",
       " {'Country': 'Afghanistan',\n",
       "  'Province': '',\n",
       "  'Lat': 33,\n",
       "  'Lon': 65,\n",
       "  'Date': '2020-01-27T00:00:00Z',\n",
       "  'Cases': 0,\n",
       "  'Status': 'recovered'},\n",
       " {'Country': 'Afghanistan',\n",
       "  'Province': '',\n",
       "  'Lat': 33,\n",
       "  'Lon': 65,\n",
       "  'Date': '2020-01-27T00:00:00Z',\n",
       "  'Cases': 0,\n",
       "  'Status': 'confirmed'},\n",
       " {'Country': 'Afghanistan',\n",
       "  'Province': '',\n",
       "  'Lat': 33,\n",
       "  'Lon': 65,\n",
       "  'Date': '2020-01-27T00:00:00Z',\n",
       "  'Cases': 0,\n",
       "  'Status': 'deaths'},\n",
       " {'Country': 'Afghanistan',\n",
       "  'Province': '',\n",
       "  'Lat': 33,\n",
       "  'Lon': 65,\n",
       "  'Date': '2020-01-28T00:00:00Z',\n",
       "  'Cases': 0,\n",
       "  'Status': 'recovered'},\n",
       " {'Country': 'Afghanistan',\n",
       "  'Province': '',\n",
       "  'Lat': 33,\n",
       "  'Lon': 65,\n",
       "  'Date': '2020-01-28T00:00:00Z',\n",
       "  'Cases': 0,\n",
       "  'Status': 'confirmed'},\n",
       " {'Country': 'Afghanistan',\n",
       "  'Province': '',\n",
       "  'Lat': 33,\n",
       "  'Lon': 65,\n",
       "  'Date': '2020-01-28T00:00:00Z',\n",
       "  'Cases': 0,\n",
       "  'Status': 'deaths'},\n",
       " {'Country': 'Afghanistan',\n",
       "  'Province': '',\n",
       "  'Lat': 33,\n",
       "  'Lon': 65,\n",
       "  'Date': '2020-01-29T00:00:00Z',\n",
       "  'Cases': 0,\n",
       "  'Status': 'recovered'},\n",
       " {'Country': 'Afghanistan',\n",
       "  'Province': '',\n",
       "  'Lat': 33,\n",
       "  'Lon': 65,\n",
       "  'Date': '2020-01-29T00:00:00Z',\n",
       "  'Cases': 0,\n",
       "  'Status': 'confirmed'},\n",
       " {'Country': 'Afghanistan',\n",
       "  'Province': '',\n",
       "  'Lat': 33,\n",
       "  'Lon': 65,\n",
       "  'Date': '2020-01-29T00:00:00Z',\n",
       "  'Cases': 0,\n",
       "  'Status': 'deaths'},\n",
       " {'Country': 'Afghanistan',\n",
       "  'Province': '',\n",
       "  'Lat': 33,\n",
       "  'Lon': 65,\n",
       "  'Date': '2020-01-30T00:00:00Z',\n",
       "  'Cases': 0,\n",
       "  'Status': 'recovered'},\n",
       " {'Country': 'Afghanistan',\n",
       "  'Province': '',\n",
       "  'Lat': 33,\n",
       "  'Lon': 65,\n",
       "  'Date': '2020-01-30T00:00:00Z',\n",
       "  'Cases': 0,\n",
       "  'Status': 'confirmed'},\n",
       " {'Country': 'Afghanistan',\n",
       "  'Province': '',\n",
       "  'Lat': 33,\n",
       "  'Lon': 65,\n",
       "  'Date': '2020-01-30T00:00:00Z',\n",
       "  'Cases': 0,\n",
       "  'Status': 'deaths'},\n",
       " {'Country': 'Afghanistan',\n",
       "  'Province': '',\n",
       "  'Lat': 33,\n",
       "  'Lon': 65,\n",
       "  'Date': '2020-01-31T00:00:00Z',\n",
       "  'Cases': 0,\n",
       "  'Status': 'recovered'},\n",
       " {'Country': 'Afghanistan',\n",
       "  'Province': '',\n",
       "  'Lat': 33,\n",
       "  'Lon': 65,\n",
       "  'Date': '2020-01-31T00:00:00Z',\n",
       "  'Cases': 0,\n",
       "  'Status': 'confirmed'},\n",
       " {'Country': 'Afghanistan',\n",
       "  'Province': '',\n",
       "  'Lat': 33,\n",
       "  'Lon': 65,\n",
       "  'Date': '2020-01-31T00:00:00Z',\n",
       "  'Cases': 0,\n",
       "  'Status': 'deaths'},\n",
       " {'Country': 'Afghanistan',\n",
       "  'Province': '',\n",
       "  'Lat': 33,\n",
       "  'Lon': 65,\n",
       "  'Date': '2020-02-01T00:00:00Z',\n",
       "  'Cases': 0,\n",
       "  'Status': 'recovered'},\n",
       " {'Country': 'Afghanistan',\n",
       "  'Province': '',\n",
       "  'Lat': 33,\n",
       "  'Lon': 65,\n",
       "  'Date': '2020-02-01T00:00:00Z',\n",
       "  'Cases': 0,\n",
       "  'Status': 'confirmed'},\n",
       " {'Country': 'Afghanistan',\n",
       "  'Province': '',\n",
       "  'Lat': 33,\n",
       "  'Lon': 65,\n",
       "  'Date': '2020-02-01T00:00:00Z',\n",
       "  'Cases': 0,\n",
       "  'Status': 'deaths'},\n",
       " {'Country': 'Afghanistan',\n",
       "  'Province': '',\n",
       "  'Lat': 33,\n",
       "  'Lon': 65,\n",
       "  'Date': '2020-02-02T00:00:00Z',\n",
       "  'Cases': 0,\n",
       "  'Status': 'recovered'},\n",
       " {'Country': 'Afghanistan',\n",
       "  'Province': '',\n",
       "  'Lat': 33,\n",
       "  'Lon': 65,\n",
       "  'Date': '2020-02-02T00:00:00Z',\n",
       "  'Cases': 0,\n",
       "  'Status': 'confirmed'},\n",
       " {'Country': 'Afghanistan',\n",
       "  'Province': '',\n",
       "  'Lat': 33,\n",
       "  'Lon': 65,\n",
       "  'Date': '2020-02-02T00:00:00Z',\n",
       "  'Cases': 0,\n",
       "  'Status': 'deaths'},\n",
       " {'Country': 'Afghanistan',\n",
       "  'Province': '',\n",
       "  'Lat': 33,\n",
       "  'Lon': 65,\n",
       "  'Date': '2020-02-03T00:00:00Z',\n",
       "  'Cases': 0,\n",
       "  'Status': 'recovered'},\n",
       " {'Country': 'Afghanistan',\n",
       "  'Province': '',\n",
       "  'Lat': 33,\n",
       "  'Lon': 65,\n",
       "  'Date': '2020-02-03T00:00:00Z',\n",
       "  'Cases': 0,\n",
       "  'Status': 'confirmed'},\n",
       " {'Country': 'Afghanistan',\n",
       "  'Province': '',\n",
       "  'Lat': 33,\n",
       "  'Lon': 65,\n",
       "  'Date': '2020-02-03T00:00:00Z',\n",
       "  'Cases': 0,\n",
       "  'Status': 'deaths'},\n",
       " {'Country': 'Afghanistan',\n",
       "  'Province': '',\n",
       "  'Lat': 33,\n",
       "  'Lon': 65,\n",
       "  'Date': '2020-02-04T00:00:00Z',\n",
       "  'Cases': 0,\n",
       "  'Status': 'recovered'},\n",
       " {'Country': 'Afghanistan',\n",
       "  'Province': '',\n",
       "  'Lat': 33,\n",
       "  'Lon': 65,\n",
       "  'Date': '2020-02-04T00:00:00Z',\n",
       "  'Cases': 0,\n",
       "  'Status': 'confirmed'},\n",
       " {'Country': 'Afghanistan',\n",
       "  'Province': '',\n",
       "  'Lat': 33,\n",
       "  'Lon': 65,\n",
       "  'Date': '2020-02-04T00:00:00Z',\n",
       "  'Cases': 0,\n",
       "  'Status': 'deaths'},\n",
       " {'Country': 'Afghanistan',\n",
       "  'Province': '',\n",
       "  'Lat': 33,\n",
       "  'Lon': 65,\n",
       "  'Date': '2020-02-05T00:00:00Z',\n",
       "  'Cases': 0,\n",
       "  'Status': 'recovered'},\n",
       " {'Country': 'Afghanistan',\n",
       "  'Province': '',\n",
       "  'Lat': 33,\n",
       "  'Lon': 65,\n",
       "  'Date': '2020-02-05T00:00:00Z',\n",
       "  'Cases': 0,\n",
       "  'Status': 'confirmed'},\n",
       " {'Country': 'Afghanistan',\n",
       "  'Province': '',\n",
       "  'Lat': 33,\n",
       "  'Lon': 65,\n",
       "  'Date': '2020-02-05T00:00:00Z',\n",
       "  'Cases': 0,\n",
       "  'Status': 'deaths'},\n",
       " {'Country': 'Afghanistan',\n",
       "  'Province': '',\n",
       "  'Lat': 33,\n",
       "  'Lon': 65,\n",
       "  'Date': '2020-02-06T00:00:00Z',\n",
       "  'Cases': 0,\n",
       "  'Status': 'recovered'},\n",
       " {'Country': 'Afghanistan',\n",
       "  'Province': '',\n",
       "  'Lat': 33,\n",
       "  'Lon': 65,\n",
       "  'Date': '2020-02-06T00:00:00Z',\n",
       "  'Cases': 0,\n",
       "  'Status': 'confirmed'},\n",
       " {'Country': 'Afghanistan',\n",
       "  'Province': '',\n",
       "  'Lat': 33,\n",
       "  'Lon': 65,\n",
       "  'Date': '2020-02-06T00:00:00Z',\n",
       "  'Cases': 0,\n",
       "  'Status': 'deaths'},\n",
       " {'Country': 'Afghanistan',\n",
       "  'Province': '',\n",
       "  'Lat': 33,\n",
       "  'Lon': 65,\n",
       "  'Date': '2020-02-07T00:00:00Z',\n",
       "  'Cases': 0,\n",
       "  'Status': 'recovered'},\n",
       " {'Country': 'Afghanistan',\n",
       "  'Province': '',\n",
       "  'Lat': 33,\n",
       "  'Lon': 65,\n",
       "  'Date': '2020-02-07T00:00:00Z',\n",
       "  'Cases': 0,\n",
       "  'Status': 'confirmed'},\n",
       " {'Country': 'Afghanistan',\n",
       "  'Province': '',\n",
       "  'Lat': 33,\n",
       "  'Lon': 65,\n",
       "  'Date': '2020-02-07T00:00:00Z',\n",
       "  'Cases': 0,\n",
       "  'Status': 'deaths'},\n",
       " {'Country': 'Afghanistan',\n",
       "  'Province': '',\n",
       "  'Lat': 33,\n",
       "  'Lon': 65,\n",
       "  'Date': '2020-02-08T00:00:00Z',\n",
       "  'Cases': 0,\n",
       "  'Status': 'recovered'},\n",
       " {'Country': 'Afghanistan',\n",
       "  'Province': '',\n",
       "  'Lat': 33,\n",
       "  'Lon': 65,\n",
       "  'Date': '2020-02-08T00:00:00Z',\n",
       "  'Cases': 0,\n",
       "  'Status': 'confirmed'},\n",
       " {'Country': 'Afghanistan',\n",
       "  'Province': '',\n",
       "  'Lat': 33,\n",
       "  'Lon': 65,\n",
       "  'Date': '2020-02-08T00:00:00Z',\n",
       "  'Cases': 0,\n",
       "  'Status': 'deaths'},\n",
       " {'Country': 'Afghanistan',\n",
       "  'Province': '',\n",
       "  'Lat': 33,\n",
       "  'Lon': 65,\n",
       "  'Date': '2020-02-09T00:00:00Z',\n",
       "  'Cases': 0,\n",
       "  'Status': 'recovered'},\n",
       " {'Country': 'Afghanistan',\n",
       "  'Province': '',\n",
       "  'Lat': 33,\n",
       "  'Lon': 65,\n",
       "  'Date': '2020-02-09T00:00:00Z',\n",
       "  'Cases': 0,\n",
       "  'Status': 'confirmed'},\n",
       " {'Country': 'Afghanistan',\n",
       "  'Province': '',\n",
       "  'Lat': 33,\n",
       "  'Lon': 65,\n",
       "  'Date': '2020-02-09T00:00:00Z',\n",
       "  'Cases': 0,\n",
       "  'Status': 'deaths'},\n",
       " {'Country': 'Afghanistan',\n",
       "  'Province': '',\n",
       "  'Lat': 33,\n",
       "  'Lon': 65,\n",
       "  'Date': '2020-02-10T00:00:00Z',\n",
       "  'Cases': 0,\n",
       "  'Status': 'recovered'},\n",
       " {'Country': 'Afghanistan',\n",
       "  'Province': '',\n",
       "  'Lat': 33,\n",
       "  'Lon': 65,\n",
       "  'Date': '2020-02-10T00:00:00Z',\n",
       "  'Cases': 0,\n",
       "  'Status': 'confirmed'},\n",
       " {'Country': 'Afghanistan',\n",
       "  'Province': '',\n",
       "  'Lat': 33,\n",
       "  'Lon': 65,\n",
       "  'Date': '2020-02-10T00:00:00Z',\n",
       "  'Cases': 0,\n",
       "  'Status': 'deaths'},\n",
       " {'Country': 'Afghanistan',\n",
       "  'Province': '',\n",
       "  'Lat': 33,\n",
       "  'Lon': 65,\n",
       "  'Date': '2020-02-11T00:00:00Z',\n",
       "  'Cases': 0,\n",
       "  'Status': 'recovered'},\n",
       " {'Country': 'Afghanistan',\n",
       "  'Province': '',\n",
       "  'Lat': 33,\n",
       "  'Lon': 65,\n",
       "  'Date': '2020-02-11T00:00:00Z',\n",
       "  'Cases': 0,\n",
       "  'Status': 'confirmed'},\n",
       " {'Country': 'Afghanistan',\n",
       "  'Province': '',\n",
       "  'Lat': 33,\n",
       "  'Lon': 65,\n",
       "  'Date': '2020-02-11T00:00:00Z',\n",
       "  'Cases': 0,\n",
       "  'Status': 'deaths'},\n",
       " {'Country': 'Afghanistan',\n",
       "  'Province': '',\n",
       "  'Lat': 33,\n",
       "  'Lon': 65,\n",
       "  'Date': '2020-02-12T00:00:00Z',\n",
       "  'Cases': 0,\n",
       "  'Status': 'recovered'},\n",
       " {'Country': 'Afghanistan',\n",
       "  'Province': '',\n",
       "  'Lat': 33,\n",
       "  'Lon': 65,\n",
       "  'Date': '2020-02-12T00:00:00Z',\n",
       "  'Cases': 0,\n",
       "  'Status': 'confirmed'},\n",
       " {'Country': 'Afghanistan',\n",
       "  'Province': '',\n",
       "  'Lat': 33,\n",
       "  'Lon': 65,\n",
       "  'Date': '2020-02-12T00:00:00Z',\n",
       "  'Cases': 0,\n",
       "  'Status': 'deaths'},\n",
       " {'Country': 'Afghanistan',\n",
       "  'Province': '',\n",
       "  'Lat': 33,\n",
       "  'Lon': 65,\n",
       "  'Date': '2020-02-13T00:00:00Z',\n",
       "  'Cases': 0,\n",
       "  'Status': 'recovered'},\n",
       " {'Country': 'Afghanistan',\n",
       "  'Province': '',\n",
       "  'Lat': 33,\n",
       "  'Lon': 65,\n",
       "  'Date': '2020-02-13T00:00:00Z',\n",
       "  'Cases': 0,\n",
       "  'Status': 'confirmed'},\n",
       " {'Country': 'Afghanistan',\n",
       "  'Province': '',\n",
       "  'Lat': 33,\n",
       "  'Lon': 65,\n",
       "  'Date': '2020-02-13T00:00:00Z',\n",
       "  'Cases': 0,\n",
       "  'Status': 'deaths'},\n",
       " {'Country': 'Afghanistan',\n",
       "  'Province': '',\n",
       "  'Lat': 33,\n",
       "  'Lon': 65,\n",
       "  'Date': '2020-02-14T00:00:00Z',\n",
       "  'Cases': 0,\n",
       "  'Status': 'recovered'},\n",
       " {'Country': 'Afghanistan',\n",
       "  'Province': '',\n",
       "  'Lat': 33,\n",
       "  'Lon': 65,\n",
       "  'Date': '2020-02-14T00:00:00Z',\n",
       "  'Cases': 0,\n",
       "  'Status': 'confirmed'},\n",
       " {'Country': 'Afghanistan',\n",
       "  'Province': '',\n",
       "  'Lat': 33,\n",
       "  'Lon': 65,\n",
       "  'Date': '2020-02-14T00:00:00Z',\n",
       "  'Cases': 0,\n",
       "  'Status': 'deaths'},\n",
       " {'Country': 'Afghanistan',\n",
       "  'Province': '',\n",
       "  'Lat': 33,\n",
       "  'Lon': 65,\n",
       "  'Date': '2020-02-15T00:00:00Z',\n",
       "  'Cases': 0,\n",
       "  'Status': 'recovered'},\n",
       " {'Country': 'Afghanistan',\n",
       "  'Province': '',\n",
       "  'Lat': 33,\n",
       "  'Lon': 65,\n",
       "  'Date': '2020-02-15T00:00:00Z',\n",
       "  'Cases': 0,\n",
       "  'Status': 'confirmed'},\n",
       " {'Country': 'Afghanistan',\n",
       "  'Province': '',\n",
       "  'Lat': 33,\n",
       "  'Lon': 65,\n",
       "  'Date': '2020-02-15T00:00:00Z',\n",
       "  'Cases': 0,\n",
       "  'Status': 'deaths'},\n",
       " {'Country': 'Afghanistan',\n",
       "  'Province': '',\n",
       "  'Lat': 33,\n",
       "  'Lon': 65,\n",
       "  'Date': '2020-02-16T00:00:00Z',\n",
       "  'Cases': 0,\n",
       "  'Status': 'recovered'},\n",
       " {'Country': 'Afghanistan',\n",
       "  'Province': '',\n",
       "  'Lat': 33,\n",
       "  'Lon': 65,\n",
       "  'Date': '2020-02-16T00:00:00Z',\n",
       "  'Cases': 0,\n",
       "  'Status': 'confirmed'},\n",
       " {'Country': 'Afghanistan',\n",
       "  'Province': '',\n",
       "  'Lat': 33,\n",
       "  'Lon': 65,\n",
       "  'Date': '2020-02-16T00:00:00Z',\n",
       "  'Cases': 0,\n",
       "  'Status': 'deaths'},\n",
       " {'Country': 'Afghanistan',\n",
       "  'Province': '',\n",
       "  'Lat': 33,\n",
       "  'Lon': 65,\n",
       "  'Date': '2020-02-17T00:00:00Z',\n",
       "  'Cases': 0,\n",
       "  'Status': 'recovered'},\n",
       " {'Country': 'Afghanistan',\n",
       "  'Province': '',\n",
       "  'Lat': 33,\n",
       "  'Lon': 65,\n",
       "  'Date': '2020-02-17T00:00:00Z',\n",
       "  'Cases': 0,\n",
       "  'Status': 'confirmed'},\n",
       " {'Country': 'Afghanistan',\n",
       "  'Province': '',\n",
       "  'Lat': 33,\n",
       "  'Lon': 65,\n",
       "  'Date': '2020-02-17T00:00:00Z',\n",
       "  'Cases': 0,\n",
       "  'Status': 'deaths'},\n",
       " {'Country': 'Afghanistan',\n",
       "  'Province': '',\n",
       "  'Lat': 33,\n",
       "  'Lon': 65,\n",
       "  'Date': '2020-02-18T00:00:00Z',\n",
       "  'Cases': 0,\n",
       "  'Status': 'recovered'},\n",
       " {'Country': 'Afghanistan',\n",
       "  'Province': '',\n",
       "  'Lat': 33,\n",
       "  'Lon': 65,\n",
       "  'Date': '2020-02-18T00:00:00Z',\n",
       "  'Cases': 0,\n",
       "  'Status': 'confirmed'},\n",
       " {'Country': 'Afghanistan',\n",
       "  'Province': '',\n",
       "  'Lat': 33,\n",
       "  'Lon': 65,\n",
       "  'Date': '2020-02-18T00:00:00Z',\n",
       "  'Cases': 0,\n",
       "  'Status': 'deaths'},\n",
       " {'Country': 'Afghanistan',\n",
       "  'Province': '',\n",
       "  'Lat': 33,\n",
       "  'Lon': 65,\n",
       "  'Date': '2020-02-19T00:00:00Z',\n",
       "  'Cases': 0,\n",
       "  'Status': 'recovered'},\n",
       " {'Country': 'Afghanistan',\n",
       "  'Province': '',\n",
       "  'Lat': 33,\n",
       "  'Lon': 65,\n",
       "  'Date': '2020-02-19T00:00:00Z',\n",
       "  'Cases': 0,\n",
       "  'Status': 'confirmed'},\n",
       " {'Country': 'Afghanistan',\n",
       "  'Province': '',\n",
       "  'Lat': 33,\n",
       "  'Lon': 65,\n",
       "  'Date': '2020-02-19T00:00:00Z',\n",
       "  'Cases': 0,\n",
       "  'Status': 'deaths'},\n",
       " {'Country': 'Afghanistan',\n",
       "  'Province': '',\n",
       "  'Lat': 33,\n",
       "  'Lon': 65,\n",
       "  'Date': '2020-02-20T00:00:00Z',\n",
       "  'Cases': 0,\n",
       "  'Status': 'recovered'},\n",
       " {'Country': 'Afghanistan',\n",
       "  'Province': '',\n",
       "  'Lat': 33,\n",
       "  'Lon': 65,\n",
       "  'Date': '2020-02-20T00:00:00Z',\n",
       "  'Cases': 0,\n",
       "  'Status': 'confirmed'},\n",
       " {'Country': 'Afghanistan',\n",
       "  'Province': '',\n",
       "  'Lat': 33,\n",
       "  'Lon': 65,\n",
       "  'Date': '2020-02-20T00:00:00Z',\n",
       "  'Cases': 0,\n",
       "  'Status': 'deaths'},\n",
       " {'Country': 'Afghanistan',\n",
       "  'Province': '',\n",
       "  'Lat': 33,\n",
       "  'Lon': 65,\n",
       "  'Date': '2020-02-21T00:00:00Z',\n",
       "  'Cases': 0,\n",
       "  'Status': 'recovered'},\n",
       " {'Country': 'Afghanistan',\n",
       "  'Province': '',\n",
       "  'Lat': 33,\n",
       "  'Lon': 65,\n",
       "  'Date': '2020-02-21T00:00:00Z',\n",
       "  'Cases': 0,\n",
       "  'Status': 'confirmed'},\n",
       " {'Country': 'Afghanistan',\n",
       "  'Province': '',\n",
       "  'Lat': 33,\n",
       "  'Lon': 65,\n",
       "  'Date': '2020-02-21T00:00:00Z',\n",
       "  'Cases': 0,\n",
       "  'Status': 'deaths'},\n",
       " {'Country': 'Afghanistan',\n",
       "  'Province': '',\n",
       "  'Lat': 33,\n",
       "  'Lon': 65,\n",
       "  'Date': '2020-02-22T00:00:00Z',\n",
       "  'Cases': 0,\n",
       "  'Status': 'recovered'},\n",
       " {'Country': 'Afghanistan',\n",
       "  'Province': '',\n",
       "  'Lat': 33,\n",
       "  'Lon': 65,\n",
       "  'Date': '2020-02-22T00:00:00Z',\n",
       "  'Cases': 0,\n",
       "  'Status': 'confirmed'},\n",
       " {'Country': 'Afghanistan',\n",
       "  'Province': '',\n",
       "  'Lat': 33,\n",
       "  'Lon': 65,\n",
       "  'Date': '2020-02-22T00:00:00Z',\n",
       "  'Cases': 0,\n",
       "  'Status': 'deaths'},\n",
       " {'Country': 'Afghanistan',\n",
       "  'Province': '',\n",
       "  'Lat': 33,\n",
       "  'Lon': 65,\n",
       "  'Date': '2020-02-23T00:00:00Z',\n",
       "  'Cases': 0,\n",
       "  'Status': 'recovered'},\n",
       " {'Country': 'Afghanistan',\n",
       "  'Province': '',\n",
       "  'Lat': 33,\n",
       "  'Lon': 65,\n",
       "  'Date': '2020-02-23T00:00:00Z',\n",
       "  'Cases': 0,\n",
       "  'Status': 'confirmed'},\n",
       " {'Country': 'Afghanistan',\n",
       "  'Province': '',\n",
       "  'Lat': 33,\n",
       "  'Lon': 65,\n",
       "  'Date': '2020-02-23T00:00:00Z',\n",
       "  'Cases': 0,\n",
       "  'Status': 'deaths'},\n",
       " {'Country': 'Afghanistan',\n",
       "  'Province': '',\n",
       "  'Lat': 33,\n",
       "  'Lon': 65,\n",
       "  'Date': '2020-02-24T00:00:00Z',\n",
       "  'Cases': 0,\n",
       "  'Status': 'recovered'},\n",
       " {'Country': 'Afghanistan',\n",
       "  'Province': '',\n",
       "  'Lat': 33,\n",
       "  'Lon': 65,\n",
       "  'Date': '2020-02-24T00:00:00Z',\n",
       "  'Cases': 1,\n",
       "  'Status': 'confirmed'},\n",
       " {'Country': 'Afghanistan',\n",
       "  'Province': '',\n",
       "  'Lat': 33,\n",
       "  'Lon': 65,\n",
       "  'Date': '2020-02-24T00:00:00Z',\n",
       "  'Cases': 0,\n",
       "  'Status': 'deaths'},\n",
       " {'Country': 'Afghanistan',\n",
       "  'Province': '',\n",
       "  'Lat': 33,\n",
       "  'Lon': 65,\n",
       "  'Date': '2020-02-25T00:00:00Z',\n",
       "  'Cases': 0,\n",
       "  'Status': 'recovered'},\n",
       " {'Country': 'Afghanistan',\n",
       "  'Province': '',\n",
       "  'Lat': 33,\n",
       "  'Lon': 65,\n",
       "  'Date': '2020-02-25T00:00:00Z',\n",
       "  'Cases': 1,\n",
       "  'Status': 'confirmed'},\n",
       " {'Country': 'Afghanistan',\n",
       "  'Province': '',\n",
       "  'Lat': 33,\n",
       "  'Lon': 65,\n",
       "  'Date': '2020-02-25T00:00:00Z',\n",
       "  'Cases': 0,\n",
       "  'Status': 'deaths'},\n",
       " {'Country': 'Afghanistan',\n",
       "  'Province': '',\n",
       "  'Lat': 33,\n",
       "  'Lon': 65,\n",
       "  'Date': '2020-02-26T00:00:00Z',\n",
       "  'Cases': 0,\n",
       "  'Status': 'recovered'},\n",
       " {'Country': 'Afghanistan',\n",
       "  'Province': '',\n",
       "  'Lat': 33,\n",
       "  'Lon': 65,\n",
       "  'Date': '2020-02-26T00:00:00Z',\n",
       "  'Cases': 1,\n",
       "  'Status': 'confirmed'},\n",
       " {'Country': 'Afghanistan',\n",
       "  'Province': '',\n",
       "  'Lat': 33,\n",
       "  'Lon': 65,\n",
       "  'Date': '2020-02-26T00:00:00Z',\n",
       "  'Cases': 0,\n",
       "  'Status': 'deaths'},\n",
       " {'Country': 'Afghanistan',\n",
       "  'Province': '',\n",
       "  'Lat': 33,\n",
       "  'Lon': 65,\n",
       "  'Date': '2020-02-27T00:00:00Z',\n",
       "  'Cases': 0,\n",
       "  'Status': 'recovered'},\n",
       " {'Country': 'Afghanistan',\n",
       "  'Province': '',\n",
       "  'Lat': 33,\n",
       "  'Lon': 65,\n",
       "  'Date': '2020-02-27T00:00:00Z',\n",
       "  'Cases': 1,\n",
       "  'Status': 'confirmed'},\n",
       " {'Country': 'Afghanistan',\n",
       "  'Province': '',\n",
       "  'Lat': 33,\n",
       "  'Lon': 65,\n",
       "  'Date': '2020-02-27T00:00:00Z',\n",
       "  'Cases': 0,\n",
       "  'Status': 'deaths'},\n",
       " {'Country': 'Afghanistan',\n",
       "  'Province': '',\n",
       "  'Lat': 33,\n",
       "  'Lon': 65,\n",
       "  'Date': '2020-02-28T00:00:00Z',\n",
       "  'Cases': 0,\n",
       "  'Status': 'recovered'},\n",
       " {'Country': 'Afghanistan',\n",
       "  'Province': '',\n",
       "  'Lat': 33,\n",
       "  'Lon': 65,\n",
       "  'Date': '2020-02-28T00:00:00Z',\n",
       "  'Cases': 1,\n",
       "  'Status': 'confirmed'},\n",
       " {'Country': 'Afghanistan',\n",
       "  'Province': '',\n",
       "  'Lat': 33,\n",
       "  'Lon': 65,\n",
       "  'Date': '2020-02-28T00:00:00Z',\n",
       "  'Cases': 0,\n",
       "  'Status': 'deaths'},\n",
       " {'Country': 'Afghanistan',\n",
       "  'Province': '',\n",
       "  'Lat': 33,\n",
       "  'Lon': 65,\n",
       "  'Date': '2020-02-29T00:00:00Z',\n",
       "  'Cases': 0,\n",
       "  'Status': 'recovered'},\n",
       " {'Country': 'Afghanistan',\n",
       "  'Province': '',\n",
       "  'Lat': 33,\n",
       "  'Lon': 65,\n",
       "  'Date': '2020-02-29T00:00:00Z',\n",
       "  'Cases': 1,\n",
       "  'Status': 'confirmed'},\n",
       " {'Country': 'Afghanistan',\n",
       "  'Province': '',\n",
       "  'Lat': 33,\n",
       "  'Lon': 65,\n",
       "  'Date': '2020-02-29T00:00:00Z',\n",
       "  'Cases': 0,\n",
       "  'Status': 'deaths'},\n",
       " {'Country': 'Afghanistan',\n",
       "  'Province': '',\n",
       "  'Lat': 33,\n",
       "  'Lon': 65,\n",
       "  'Date': '2020-03-01T00:00:00Z',\n",
       "  'Cases': 0,\n",
       "  'Status': 'recovered'},\n",
       " {'Country': 'Afghanistan',\n",
       "  'Province': '',\n",
       "  'Lat': 33,\n",
       "  'Lon': 65,\n",
       "  'Date': '2020-03-01T00:00:00Z',\n",
       "  'Cases': 1,\n",
       "  'Status': 'confirmed'},\n",
       " {'Country': 'Afghanistan',\n",
       "  'Province': '',\n",
       "  'Lat': 33,\n",
       "  'Lon': 65,\n",
       "  'Date': '2020-03-01T00:00:00Z',\n",
       "  'Cases': 0,\n",
       "  'Status': 'deaths'},\n",
       " {'Country': 'Afghanistan',\n",
       "  'Province': '',\n",
       "  'Lat': 33,\n",
       "  'Lon': 65,\n",
       "  'Date': '2020-03-02T00:00:00Z',\n",
       "  'Cases': 0,\n",
       "  'Status': 'recovered'},\n",
       " {'Country': 'Afghanistan',\n",
       "  'Province': '',\n",
       "  'Lat': 33,\n",
       "  'Lon': 65,\n",
       "  'Date': '2020-03-02T00:00:00Z',\n",
       "  'Cases': 1,\n",
       "  'Status': 'confirmed'},\n",
       " {'Country': 'Afghanistan',\n",
       "  'Province': '',\n",
       "  'Lat': 33,\n",
       "  'Lon': 65,\n",
       "  'Date': '2020-03-02T00:00:00Z',\n",
       "  'Cases': 0,\n",
       "  'Status': 'deaths'},\n",
       " {'Country': 'Afghanistan',\n",
       "  'Province': '',\n",
       "  'Lat': 33,\n",
       "  'Lon': 65,\n",
       "  'Date': '2020-03-03T00:00:00Z',\n",
       "  'Cases': 0,\n",
       "  'Status': 'recovered'},\n",
       " {'Country': 'Afghanistan',\n",
       "  'Province': '',\n",
       "  'Lat': 33,\n",
       "  'Lon': 65,\n",
       "  'Date': '2020-03-03T00:00:00Z',\n",
       "  'Cases': 1,\n",
       "  'Status': 'confirmed'},\n",
       " {'Country': 'Afghanistan',\n",
       "  'Province': '',\n",
       "  'Lat': 33,\n",
       "  'Lon': 65,\n",
       "  'Date': '2020-03-03T00:00:00Z',\n",
       "  'Cases': 0,\n",
       "  'Status': 'deaths'},\n",
       " {'Country': 'Afghanistan',\n",
       "  'Province': '',\n",
       "  'Lat': 33,\n",
       "  'Lon': 65,\n",
       "  'Date': '2020-03-04T00:00:00Z',\n",
       "  'Cases': 0,\n",
       "  'Status': 'recovered'},\n",
       " {'Country': 'Afghanistan',\n",
       "  'Province': '',\n",
       "  'Lat': 33,\n",
       "  'Lon': 65,\n",
       "  'Date': '2020-03-04T00:00:00Z',\n",
       "  'Cases': 1,\n",
       "  'Status': 'confirmed'},\n",
       " {'Country': 'Afghanistan',\n",
       "  'Province': '',\n",
       "  'Lat': 33,\n",
       "  'Lon': 65,\n",
       "  'Date': '2020-03-04T00:00:00Z',\n",
       "  'Cases': 0,\n",
       "  'Status': 'deaths'},\n",
       " {'Country': 'Afghanistan',\n",
       "  'Province': '',\n",
       "  'Lat': 33,\n",
       "  'Lon': 65,\n",
       "  'Date': '2020-03-05T00:00:00Z',\n",
       "  'Cases': 0,\n",
       "  'Status': 'recovered'},\n",
       " {'Country': 'Afghanistan',\n",
       "  'Province': '',\n",
       "  'Lat': 33,\n",
       "  'Lon': 65,\n",
       "  'Date': '2020-03-05T00:00:00Z',\n",
       "  'Cases': 1,\n",
       "  'Status': 'confirmed'},\n",
       " {'Country': 'Afghanistan',\n",
       "  'Province': '',\n",
       "  'Lat': 33,\n",
       "  'Lon': 65,\n",
       "  'Date': '2020-03-05T00:00:00Z',\n",
       "  'Cases': 0,\n",
       "  'Status': 'deaths'},\n",
       " {'Country': 'Afghanistan',\n",
       "  'Province': '',\n",
       "  'Lat': 33,\n",
       "  'Lon': 65,\n",
       "  'Date': '2020-03-06T00:00:00Z',\n",
       "  'Cases': 0,\n",
       "  'Status': 'recovered'},\n",
       " {'Country': 'Afghanistan',\n",
       "  'Province': '',\n",
       "  'Lat': 33,\n",
       "  'Lon': 65,\n",
       "  'Date': '2020-03-06T00:00:00Z',\n",
       "  'Cases': 1,\n",
       "  'Status': 'confirmed'},\n",
       " {'Country': 'Afghanistan',\n",
       "  'Province': '',\n",
       "  'Lat': 33,\n",
       "  'Lon': 65,\n",
       "  'Date': '2020-03-06T00:00:00Z',\n",
       "  'Cases': 0,\n",
       "  'Status': 'deaths'},\n",
       " {'Country': 'Afghanistan',\n",
       "  'Province': '',\n",
       "  'Lat': 33,\n",
       "  'Lon': 65,\n",
       "  'Date': '2020-03-07T00:00:00Z',\n",
       "  'Cases': 0,\n",
       "  'Status': 'recovered'},\n",
       " {'Country': 'Afghanistan',\n",
       "  'Province': '',\n",
       "  'Lat': 33,\n",
       "  'Lon': 65,\n",
       "  'Date': '2020-03-07T00:00:00Z',\n",
       "  'Cases': 1,\n",
       "  'Status': 'confirmed'},\n",
       " {'Country': 'Afghanistan',\n",
       "  'Province': '',\n",
       "  'Lat': 33,\n",
       "  'Lon': 65,\n",
       "  'Date': '2020-03-07T00:00:00Z',\n",
       "  'Cases': 0,\n",
       "  'Status': 'deaths'},\n",
       " {'Country': 'Afghanistan',\n",
       "  'Province': '',\n",
       "  'Lat': 33,\n",
       "  'Lon': 65,\n",
       "  'Date': '2020-03-08T00:00:00Z',\n",
       "  'Cases': 0,\n",
       "  'Status': 'recovered'},\n",
       " {'Country': 'Afghanistan',\n",
       "  'Province': '',\n",
       "  'Lat': 33,\n",
       "  'Lon': 65,\n",
       "  'Date': '2020-03-08T00:00:00Z',\n",
       "  'Cases': 4,\n",
       "  'Status': 'confirmed'},\n",
       " {'Country': 'Afghanistan',\n",
       "  'Province': '',\n",
       "  'Lat': 33,\n",
       "  'Lon': 65,\n",
       "  'Date': '2020-03-08T00:00:00Z',\n",
       "  'Cases': 0,\n",
       "  'Status': 'deaths'},\n",
       " {'Country': 'Afghanistan',\n",
       "  'Province': '',\n",
       "  'Lat': 33,\n",
       "  'Lon': 65,\n",
       "  'Date': '2020-03-09T00:00:00Z',\n",
       "  'Cases': 0,\n",
       "  'Status': 'recovered'},\n",
       " {'Country': 'Afghanistan',\n",
       "  'Province': '',\n",
       "  'Lat': 33,\n",
       "  'Lon': 65,\n",
       "  'Date': '2020-03-09T00:00:00Z',\n",
       "  'Cases': 4,\n",
       "  'Status': 'confirmed'},\n",
       " {'Country': 'Afghanistan',\n",
       "  'Province': '',\n",
       "  'Lat': 33,\n",
       "  'Lon': 65,\n",
       "  'Date': '2020-03-09T00:00:00Z',\n",
       "  'Cases': 0,\n",
       "  'Status': 'deaths'},\n",
       " {'Country': 'Afghanistan',\n",
       "  'Province': '',\n",
       "  'Lat': 33,\n",
       "  'Lon': 65,\n",
       "  'Date': '2020-03-10T00:00:00Z',\n",
       "  'Cases': 0,\n",
       "  'Status': 'recovered'},\n",
       " {'Country': 'Afghanistan',\n",
       "  'Province': '',\n",
       "  'Lat': 33,\n",
       "  'Lon': 65,\n",
       "  'Date': '2020-03-10T00:00:00Z',\n",
       "  'Cases': 5,\n",
       "  'Status': 'confirmed'},\n",
       " {'Country': 'Afghanistan',\n",
       "  'Province': '',\n",
       "  'Lat': 33,\n",
       "  'Lon': 65,\n",
       "  'Date': '2020-03-10T00:00:00Z',\n",
       "  'Cases': 0,\n",
       "  'Status': 'deaths'},\n",
       " {'Country': 'Afghanistan',\n",
       "  'Province': '',\n",
       "  'Lat': 33,\n",
       "  'Lon': 65,\n",
       "  'Date': '2020-03-11T00:00:00Z',\n",
       "  'Cases': 0,\n",
       "  'Status': 'recovered'},\n",
       " {'Country': 'Afghanistan',\n",
       "  'Province': '',\n",
       "  'Lat': 33,\n",
       "  'Lon': 65,\n",
       "  'Date': '2020-03-11T00:00:00Z',\n",
       "  'Cases': 7,\n",
       "  'Status': 'confirmed'},\n",
       " {'Country': 'Afghanistan',\n",
       "  'Province': '',\n",
       "  'Lat': 33,\n",
       "  'Lon': 65,\n",
       "  'Date': '2020-03-11T00:00:00Z',\n",
       "  'Cases': 0,\n",
       "  'Status': 'deaths'},\n",
       " {'Country': 'Afghanistan',\n",
       "  'Province': '',\n",
       "  'Lat': 33,\n",
       "  'Lon': 65,\n",
       "  'Date': '2020-03-12T00:00:00Z',\n",
       "  'Cases': 0,\n",
       "  'Status': 'recovered'},\n",
       " {'Country': 'Afghanistan',\n",
       "  'Province': '',\n",
       "  'Lat': 33,\n",
       "  'Lon': 65,\n",
       "  'Date': '2020-03-12T00:00:00Z',\n",
       "  'Cases': 7,\n",
       "  'Status': 'confirmed'},\n",
       " {'Country': 'Afghanistan',\n",
       "  'Province': '',\n",
       "  'Lat': 33,\n",
       "  'Lon': 65,\n",
       "  'Date': '2020-03-12T00:00:00Z',\n",
       "  'Cases': 0,\n",
       "  'Status': 'deaths'},\n",
       " {'Country': 'Afghanistan',\n",
       "  'Province': '',\n",
       "  'Lat': 33,\n",
       "  'Lon': 65,\n",
       "  'Date': '2020-03-13T00:00:00Z',\n",
       "  'Cases': 0,\n",
       "  'Status': 'recovered'},\n",
       " {'Country': 'Afghanistan',\n",
       "  'Province': '',\n",
       "  'Lat': 33,\n",
       "  'Lon': 65,\n",
       "  'Date': '2020-03-13T00:00:00Z',\n",
       "  'Cases': 7,\n",
       "  'Status': 'confirmed'},\n",
       " {'Country': 'Afghanistan',\n",
       "  'Province': '',\n",
       "  'Lat': 33,\n",
       "  'Lon': 65,\n",
       "  'Date': '2020-03-13T00:00:00Z',\n",
       "  'Cases': 0,\n",
       "  'Status': 'deaths'},\n",
       " {'Country': 'Afghanistan',\n",
       "  'Province': '',\n",
       "  'Lat': 33,\n",
       "  'Lon': 65,\n",
       "  'Date': '2020-03-14T00:00:00Z',\n",
       "  'Cases': 0,\n",
       "  'Status': 'recovered'},\n",
       " {'Country': 'Afghanistan',\n",
       "  'Province': '',\n",
       "  'Lat': 33,\n",
       "  'Lon': 65,\n",
       "  'Date': '2020-03-14T00:00:00Z',\n",
       "  'Cases': 11,\n",
       "  'Status': 'confirmed'},\n",
       " {'Country': 'Afghanistan',\n",
       "  'Province': '',\n",
       "  'Lat': 33,\n",
       "  'Lon': 65,\n",
       "  'Date': '2020-03-14T00:00:00Z',\n",
       "  'Cases': 0,\n",
       "  'Status': 'deaths'},\n",
       " {'Country': 'Afghanistan',\n",
       "  'Province': '',\n",
       "  'Lat': 33,\n",
       "  'Lon': 65,\n",
       "  'Date': '2020-03-15T00:00:00Z',\n",
       "  'Cases': 0,\n",
       "  'Status': 'recovered'},\n",
       " {'Country': 'Afghanistan',\n",
       "  'Province': '',\n",
       "  'Lat': 33,\n",
       "  'Lon': 65,\n",
       "  'Date': '2020-03-15T00:00:00Z',\n",
       "  'Cases': 16,\n",
       "  'Status': 'confirmed'},\n",
       " {'Country': 'Afghanistan',\n",
       "  'Province': '',\n",
       "  'Lat': 33,\n",
       "  'Lon': 65,\n",
       "  'Date': '2020-03-15T00:00:00Z',\n",
       "  'Cases': 0,\n",
       "  'Status': 'deaths'},\n",
       " {'Country': 'Afghanistan',\n",
       "  'Province': '',\n",
       "  'Lat': 33,\n",
       "  'Lon': 65,\n",
       "  'Date': '2020-03-16T00:00:00Z',\n",
       "  'Cases': 1,\n",
       "  'Status': 'recovered'},\n",
       " {'Country': 'Afghanistan',\n",
       "  'Province': '',\n",
       "  'Lat': 33,\n",
       "  'Lon': 65,\n",
       "  'Date': '2020-03-16T00:00:00Z',\n",
       "  'Cases': 21,\n",
       "  'Status': 'confirmed'},\n",
       " {'Country': 'Afghanistan',\n",
       "  'Province': '',\n",
       "  'Lat': 33,\n",
       "  'Lon': 65,\n",
       "  'Date': '2020-03-16T00:00:00Z',\n",
       "  'Cases': 0,\n",
       "  'Status': 'deaths'},\n",
       " {'Country': 'Afghanistan',\n",
       "  'Province': '',\n",
       "  'Lat': 33,\n",
       "  'Lon': 65,\n",
       "  'Date': '2020-03-17T00:00:00Z',\n",
       "  'Cases': 1,\n",
       "  'Status': 'recovered'},\n",
       " {'Country': 'Afghanistan',\n",
       "  'Province': '',\n",
       "  'Lat': 33,\n",
       "  'Lon': 65,\n",
       "  'Date': '2020-03-17T00:00:00Z',\n",
       "  'Cases': 0,\n",
       "  'Status': 'deaths'},\n",
       " {'Country': 'Afghanistan',\n",
       "  'Province': '',\n",
       "  'Lat': 33,\n",
       "  'Lon': 65,\n",
       "  'Date': '2020-03-17T00:00:00Z',\n",
       "  'Cases': 22,\n",
       "  'Status': 'confirmed'},\n",
       " {'Country': 'Afghanistan',\n",
       "  'Province': '',\n",
       "  'Lat': 33,\n",
       "  'Lon': 65,\n",
       "  'Date': '2020-03-18T00:00:00Z',\n",
       "  'Cases': 1,\n",
       "  'Status': 'recovered'},\n",
       " {'Country': 'Afghanistan',\n",
       "  'Province': '',\n",
       "  'Lat': 33,\n",
       "  'Lon': 65,\n",
       "  'Date': '2020-03-18T00:00:00Z',\n",
       "  'Cases': 0,\n",
       "  'Status': 'deaths'},\n",
       " {'Country': 'Afghanistan',\n",
       "  'Province': '',\n",
       "  'Lat': 33,\n",
       "  'Lon': 65,\n",
       "  'Date': '2020-03-18T00:00:00Z',\n",
       "  'Cases': 22,\n",
       "  'Status': 'confirmed'},\n",
       " {'Country': 'Afghanistan',\n",
       "  'Province': '',\n",
       "  'Lat': 33,\n",
       "  'Lon': 65,\n",
       "  'Date': '2020-03-19T00:00:00Z',\n",
       "  'Cases': 22,\n",
       "  'Status': 'confirmed'},\n",
       " {'Country': 'Afghanistan',\n",
       "  'Province': '',\n",
       "  'Lat': 33,\n",
       "  'Lon': 65,\n",
       "  'Date': '2020-03-19T00:00:00Z',\n",
       "  'Cases': 0,\n",
       "  'Status': 'deaths'},\n",
       " {'Country': 'Afghanistan',\n",
       "  'Province': '',\n",
       "  'Lat': 33,\n",
       "  'Lon': 65,\n",
       "  'Date': '2020-03-19T00:00:00Z',\n",
       "  'Cases': 1,\n",
       "  'Status': 'recovered'},\n",
       " {'Country': 'Afghanistan',\n",
       "  'Province': '',\n",
       "  'Lat': 33,\n",
       "  'Lon': 65,\n",
       "  'Date': '2020-03-20T00:00:00Z',\n",
       "  'Cases': 1,\n",
       "  'Status': 'recovered'},\n",
       " {'Country': 'Afghanistan',\n",
       "  'Province': '',\n",
       "  'Lat': 33,\n",
       "  'Lon': 65,\n",
       "  'Date': '2020-03-20T00:00:00Z',\n",
       "  'Cases': 24,\n",
       "  'Status': 'confirmed'},\n",
       " {'Country': 'Afghanistan',\n",
       "  'Province': '',\n",
       "  'Lat': 33,\n",
       "  'Lon': 65,\n",
       "  'Date': '2020-03-20T00:00:00Z',\n",
       "  'Cases': 0,\n",
       "  'Status': 'deaths'},\n",
       " {'Country': 'Albania',\n",
       "  'Province': '',\n",
       "  'Lat': 41.1533,\n",
       "  'Lon': 20.1683,\n",
       "  'Date': '2020-01-22T00:00:00Z',\n",
       "  'Cases': 0,\n",
       "  'Status': 'confirmed'},\n",
       " {'Country': 'Albania',\n",
       "  'Province': '',\n",
       "  'Lat': 41.1533,\n",
       "  'Lon': 20.1683,\n",
       "  'Date': '2020-01-22T00:00:00Z',\n",
       "  'Cases': 0,\n",
       "  'Status': 'deaths'},\n",
       " {'Country': 'Albania',\n",
       "  'Province': '',\n",
       "  'Lat': 41.1533,\n",
       "  'Lon': 20.1683,\n",
       "  'Date': '2020-01-22T00:00:00Z',\n",
       "  'Cases': 0,\n",
       "  'Status': 'recovered'},\n",
       " {'Country': 'Albania',\n",
       "  'Province': '',\n",
       "  'Lat': 41.1533,\n",
       "  'Lon': 20.1683,\n",
       "  'Date': '2020-01-23T00:00:00Z',\n",
       "  'Cases': 0,\n",
       "  'Status': 'confirmed'},\n",
       " {'Country': 'Albania',\n",
       "  'Province': '',\n",
       "  'Lat': 41.1533,\n",
       "  'Lon': 20.1683,\n",
       "  'Date': '2020-01-23T00:00:00Z',\n",
       "  'Cases': 0,\n",
       "  'Status': 'deaths'},\n",
       " {'Country': 'Albania',\n",
       "  'Province': '',\n",
       "  'Lat': 41.1533,\n",
       "  'Lon': 20.1683,\n",
       "  'Date': '2020-01-23T00:00:00Z',\n",
       "  'Cases': 0,\n",
       "  'Status': 'recovered'},\n",
       " {'Country': 'Albania',\n",
       "  'Province': '',\n",
       "  'Lat': 41.1533,\n",
       "  'Lon': 20.1683,\n",
       "  'Date': '2020-01-24T00:00:00Z',\n",
       "  'Cases': 0,\n",
       "  'Status': 'confirmed'},\n",
       " {'Country': 'Albania',\n",
       "  'Province': '',\n",
       "  'Lat': 41.1533,\n",
       "  'Lon': 20.1683,\n",
       "  'Date': '2020-01-24T00:00:00Z',\n",
       "  'Cases': 0,\n",
       "  'Status': 'deaths'},\n",
       " {'Country': 'Albania',\n",
       "  'Province': '',\n",
       "  'Lat': 41.1533,\n",
       "  'Lon': 20.1683,\n",
       "  'Date': '2020-01-24T00:00:00Z',\n",
       "  'Cases': 0,\n",
       "  'Status': 'recovered'},\n",
       " {'Country': 'Albania',\n",
       "  'Province': '',\n",
       "  'Lat': 41.1533,\n",
       "  'Lon': 20.1683,\n",
       "  'Date': '2020-01-25T00:00:00Z',\n",
       "  'Cases': 0,\n",
       "  'Status': 'confirmed'},\n",
       " {'Country': 'Albania',\n",
       "  'Province': '',\n",
       "  'Lat': 41.1533,\n",
       "  'Lon': 20.1683,\n",
       "  'Date': '2020-01-25T00:00:00Z',\n",
       "  'Cases': 0,\n",
       "  'Status': 'deaths'},\n",
       " {'Country': 'Albania',\n",
       "  'Province': '',\n",
       "  'Lat': 41.1533,\n",
       "  'Lon': 20.1683,\n",
       "  'Date': '2020-01-25T00:00:00Z',\n",
       "  'Cases': 0,\n",
       "  'Status': 'recovered'},\n",
       " {'Country': 'Albania',\n",
       "  'Province': '',\n",
       "  'Lat': 41.1533,\n",
       "  'Lon': 20.1683,\n",
       "  'Date': '2020-01-26T00:00:00Z',\n",
       "  'Cases': 0,\n",
       "  'Status': 'recovered'},\n",
       " {'Country': 'Albania',\n",
       "  'Province': '',\n",
       "  'Lat': 41.1533,\n",
       "  'Lon': 20.1683,\n",
       "  'Date': '2020-01-26T00:00:00Z',\n",
       "  'Cases': 0,\n",
       "  'Status': 'confirmed'},\n",
       " {'Country': 'Albania',\n",
       "  'Province': '',\n",
       "  'Lat': 41.1533,\n",
       "  'Lon': 20.1683,\n",
       "  'Date': '2020-01-26T00:00:00Z',\n",
       "  'Cases': 0,\n",
       "  'Status': 'deaths'},\n",
       " {'Country': 'Albania',\n",
       "  'Province': '',\n",
       "  'Lat': 41.1533,\n",
       "  'Lon': 20.1683,\n",
       "  'Date': '2020-01-27T00:00:00Z',\n",
       "  'Cases': 0,\n",
       "  'Status': 'recovered'},\n",
       " {'Country': 'Albania',\n",
       "  'Province': '',\n",
       "  'Lat': 41.1533,\n",
       "  'Lon': 20.1683,\n",
       "  'Date': '2020-01-27T00:00:00Z',\n",
       "  'Cases': 0,\n",
       "  'Status': 'confirmed'},\n",
       " {'Country': 'Albania',\n",
       "  'Province': '',\n",
       "  'Lat': 41.1533,\n",
       "  'Lon': 20.1683,\n",
       "  'Date': '2020-01-27T00:00:00Z',\n",
       "  'Cases': 0,\n",
       "  'Status': 'deaths'},\n",
       " {'Country': 'Albania',\n",
       "  'Province': '',\n",
       "  'Lat': 41.1533,\n",
       "  'Lon': 20.1683,\n",
       "  'Date': '2020-01-28T00:00:00Z',\n",
       "  'Cases': 0,\n",
       "  'Status': 'recovered'},\n",
       " {'Country': 'Albania',\n",
       "  'Province': '',\n",
       "  'Lat': 41.1533,\n",
       "  'Lon': 20.1683,\n",
       "  'Date': '2020-01-28T00:00:00Z',\n",
       "  'Cases': 0,\n",
       "  'Status': 'confirmed'},\n",
       " {'Country': 'Albania',\n",
       "  'Province': '',\n",
       "  'Lat': 41.1533,\n",
       "  'Lon': 20.1683,\n",
       "  'Date': '2020-01-28T00:00:00Z',\n",
       "  'Cases': 0,\n",
       "  'Status': 'deaths'},\n",
       " {'Country': 'Albania',\n",
       "  'Province': '',\n",
       "  'Lat': 41.1533,\n",
       "  'Lon': 20.1683,\n",
       "  'Date': '2020-01-29T00:00:00Z',\n",
       "  'Cases': 0,\n",
       "  'Status': 'recovered'},\n",
       " {'Country': 'Albania',\n",
       "  'Province': '',\n",
       "  'Lat': 41.1533,\n",
       "  'Lon': 20.1683,\n",
       "  'Date': '2020-01-29T00:00:00Z',\n",
       "  'Cases': 0,\n",
       "  'Status': 'confirmed'},\n",
       " {'Country': 'Albania',\n",
       "  'Province': '',\n",
       "  'Lat': 41.1533,\n",
       "  'Lon': 20.1683,\n",
       "  'Date': '2020-01-29T00:00:00Z',\n",
       "  'Cases': 0,\n",
       "  'Status': 'deaths'},\n",
       " {'Country': 'Albania',\n",
       "  'Province': '',\n",
       "  'Lat': 41.1533,\n",
       "  'Lon': 20.1683,\n",
       "  'Date': '2020-01-30T00:00:00Z',\n",
       "  'Cases': 0,\n",
       "  'Status': 'recovered'},\n",
       " {'Country': 'Albania',\n",
       "  'Province': '',\n",
       "  'Lat': 41.1533,\n",
       "  'Lon': 20.1683,\n",
       "  'Date': '2020-01-30T00:00:00Z',\n",
       "  'Cases': 0,\n",
       "  'Status': 'confirmed'},\n",
       " {'Country': 'Albania',\n",
       "  'Province': '',\n",
       "  'Lat': 41.1533,\n",
       "  'Lon': 20.1683,\n",
       "  'Date': '2020-01-30T00:00:00Z',\n",
       "  'Cases': 0,\n",
       "  'Status': 'deaths'},\n",
       " {'Country': 'Albania',\n",
       "  'Province': '',\n",
       "  'Lat': 41.1533,\n",
       "  'Lon': 20.1683,\n",
       "  'Date': '2020-01-31T00:00:00Z',\n",
       "  'Cases': 0,\n",
       "  'Status': 'recovered'},\n",
       " {'Country': 'Albania',\n",
       "  'Province': '',\n",
       "  'Lat': 41.1533,\n",
       "  'Lon': 20.1683,\n",
       "  'Date': '2020-01-31T00:00:00Z',\n",
       "  'Cases': 0,\n",
       "  'Status': 'confirmed'},\n",
       " {'Country': 'Albania',\n",
       "  'Province': '',\n",
       "  'Lat': 41.1533,\n",
       "  'Lon': 20.1683,\n",
       "  'Date': '2020-01-31T00:00:00Z',\n",
       "  'Cases': 0,\n",
       "  'Status': 'deaths'},\n",
       " {'Country': 'Albania',\n",
       "  'Province': '',\n",
       "  'Lat': 41.1533,\n",
       "  'Lon': 20.1683,\n",
       "  'Date': '2020-02-01T00:00:00Z',\n",
       "  'Cases': 0,\n",
       "  'Status': 'recovered'},\n",
       " {'Country': 'Albania',\n",
       "  'Province': '',\n",
       "  'Lat': 41.1533,\n",
       "  'Lon': 20.1683,\n",
       "  'Date': '2020-02-01T00:00:00Z',\n",
       "  'Cases': 0,\n",
       "  'Status': 'confirmed'},\n",
       " {'Country': 'Albania',\n",
       "  'Province': '',\n",
       "  'Lat': 41.1533,\n",
       "  'Lon': 20.1683,\n",
       "  'Date': '2020-02-01T00:00:00Z',\n",
       "  'Cases': 0,\n",
       "  'Status': 'deaths'},\n",
       " {'Country': 'Albania',\n",
       "  'Province': '',\n",
       "  'Lat': 41.1533,\n",
       "  'Lon': 20.1683,\n",
       "  'Date': '2020-02-02T00:00:00Z',\n",
       "  'Cases': 0,\n",
       "  'Status': 'recovered'},\n",
       " {'Country': 'Albania',\n",
       "  'Province': '',\n",
       "  'Lat': 41.1533,\n",
       "  'Lon': 20.1683,\n",
       "  'Date': '2020-02-02T00:00:00Z',\n",
       "  'Cases': 0,\n",
       "  'Status': 'confirmed'},\n",
       " {'Country': 'Albania',\n",
       "  'Province': '',\n",
       "  'Lat': 41.1533,\n",
       "  'Lon': 20.1683,\n",
       "  'Date': '2020-02-02T00:00:00Z',\n",
       "  'Cases': 0,\n",
       "  'Status': 'deaths'},\n",
       " {'Country': 'Albania',\n",
       "  'Province': '',\n",
       "  'Lat': 41.1533,\n",
       "  'Lon': 20.1683,\n",
       "  'Date': '2020-02-03T00:00:00Z',\n",
       "  'Cases': 0,\n",
       "  'Status': 'recovered'},\n",
       " {'Country': 'Albania',\n",
       "  'Province': '',\n",
       "  'Lat': 41.1533,\n",
       "  'Lon': 20.1683,\n",
       "  'Date': '2020-02-03T00:00:00Z',\n",
       "  'Cases': 0,\n",
       "  'Status': 'confirmed'},\n",
       " {'Country': 'Albania',\n",
       "  'Province': '',\n",
       "  'Lat': 41.1533,\n",
       "  'Lon': 20.1683,\n",
       "  'Date': '2020-02-03T00:00:00Z',\n",
       "  'Cases': 0,\n",
       "  'Status': 'deaths'},\n",
       " {'Country': 'Albania',\n",
       "  'Province': '',\n",
       "  'Lat': 41.1533,\n",
       "  'Lon': 20.1683,\n",
       "  'Date': '2020-02-04T00:00:00Z',\n",
       "  'Cases': 0,\n",
       "  'Status': 'recovered'},\n",
       " {'Country': 'Albania',\n",
       "  'Province': '',\n",
       "  'Lat': 41.1533,\n",
       "  'Lon': 20.1683,\n",
       "  'Date': '2020-02-04T00:00:00Z',\n",
       "  'Cases': 0,\n",
       "  'Status': 'confirmed'},\n",
       " {'Country': 'Albania',\n",
       "  'Province': '',\n",
       "  'Lat': 41.1533,\n",
       "  'Lon': 20.1683,\n",
       "  'Date': '2020-02-04T00:00:00Z',\n",
       "  'Cases': 0,\n",
       "  'Status': 'deaths'},\n",
       " {'Country': 'Albania',\n",
       "  'Province': '',\n",
       "  'Lat': 41.1533,\n",
       "  'Lon': 20.1683,\n",
       "  'Date': '2020-02-05T00:00:00Z',\n",
       "  'Cases': 0,\n",
       "  'Status': 'recovered'},\n",
       " {'Country': 'Albania',\n",
       "  'Province': '',\n",
       "  'Lat': 41.1533,\n",
       "  'Lon': 20.1683,\n",
       "  'Date': '2020-02-05T00:00:00Z',\n",
       "  'Cases': 0,\n",
       "  'Status': 'confirmed'},\n",
       " {'Country': 'Albania',\n",
       "  'Province': '',\n",
       "  'Lat': 41.1533,\n",
       "  'Lon': 20.1683,\n",
       "  'Date': '2020-02-05T00:00:00Z',\n",
       "  'Cases': 0,\n",
       "  'Status': 'deaths'},\n",
       " {'Country': 'Albania',\n",
       "  'Province': '',\n",
       "  'Lat': 41.1533,\n",
       "  'Lon': 20.1683,\n",
       "  'Date': '2020-02-06T00:00:00Z',\n",
       "  'Cases': 0,\n",
       "  'Status': 'recovered'},\n",
       " {'Country': 'Albania',\n",
       "  'Province': '',\n",
       "  'Lat': 41.1533,\n",
       "  'Lon': 20.1683,\n",
       "  'Date': '2020-02-06T00:00:00Z',\n",
       "  'Cases': 0,\n",
       "  'Status': 'confirmed'},\n",
       " {'Country': 'Albania',\n",
       "  'Province': '',\n",
       "  'Lat': 41.1533,\n",
       "  'Lon': 20.1683,\n",
       "  'Date': '2020-02-06T00:00:00Z',\n",
       "  'Cases': 0,\n",
       "  'Status': 'deaths'},\n",
       " {'Country': 'Albania',\n",
       "  'Province': '',\n",
       "  'Lat': 41.1533,\n",
       "  'Lon': 20.1683,\n",
       "  'Date': '2020-02-07T00:00:00Z',\n",
       "  'Cases': 0,\n",
       "  'Status': 'recovered'},\n",
       " {'Country': 'Albania',\n",
       "  'Province': '',\n",
       "  'Lat': 41.1533,\n",
       "  'Lon': 20.1683,\n",
       "  'Date': '2020-02-07T00:00:00Z',\n",
       "  'Cases': 0,\n",
       "  'Status': 'confirmed'},\n",
       " {'Country': 'Albania',\n",
       "  'Province': '',\n",
       "  'Lat': 41.1533,\n",
       "  'Lon': 20.1683,\n",
       "  'Date': '2020-02-07T00:00:00Z',\n",
       "  'Cases': 0,\n",
       "  'Status': 'deaths'},\n",
       " {'Country': 'Albania',\n",
       "  'Province': '',\n",
       "  'Lat': 41.1533,\n",
       "  'Lon': 20.1683,\n",
       "  'Date': '2020-02-08T00:00:00Z',\n",
       "  'Cases': 0,\n",
       "  'Status': 'recovered'},\n",
       " {'Country': 'Albania',\n",
       "  'Province': '',\n",
       "  'Lat': 41.1533,\n",
       "  'Lon': 20.1683,\n",
       "  'Date': '2020-02-08T00:00:00Z',\n",
       "  'Cases': 0,\n",
       "  'Status': 'confirmed'},\n",
       " {'Country': 'Albania',\n",
       "  'Province': '',\n",
       "  'Lat': 41.1533,\n",
       "  'Lon': 20.1683,\n",
       "  'Date': '2020-02-08T00:00:00Z',\n",
       "  'Cases': 0,\n",
       "  'Status': 'deaths'},\n",
       " {'Country': 'Albania',\n",
       "  'Province': '',\n",
       "  'Lat': 41.1533,\n",
       "  'Lon': 20.1683,\n",
       "  'Date': '2020-02-09T00:00:00Z',\n",
       "  'Cases': 0,\n",
       "  'Status': 'recovered'},\n",
       " {'Country': 'Albania',\n",
       "  'Province': '',\n",
       "  'Lat': 41.1533,\n",
       "  'Lon': 20.1683,\n",
       "  'Date': '2020-02-09T00:00:00Z',\n",
       "  'Cases': 0,\n",
       "  'Status': 'confirmed'},\n",
       " {'Country': 'Albania',\n",
       "  'Province': '',\n",
       "  'Lat': 41.1533,\n",
       "  'Lon': 20.1683,\n",
       "  'Date': '2020-02-09T00:00:00Z',\n",
       "  'Cases': 0,\n",
       "  'Status': 'deaths'},\n",
       " {'Country': 'Albania',\n",
       "  'Province': '',\n",
       "  'Lat': 41.1533,\n",
       "  'Lon': 20.1683,\n",
       "  'Date': '2020-02-10T00:00:00Z',\n",
       "  'Cases': 0,\n",
       "  'Status': 'recovered'},\n",
       " {'Country': 'Albania',\n",
       "  'Province': '',\n",
       "  'Lat': 41.1533,\n",
       "  'Lon': 20.1683,\n",
       "  'Date': '2020-02-10T00:00:00Z',\n",
       "  'Cases': 0,\n",
       "  'Status': 'confirmed'},\n",
       " {'Country': 'Albania',\n",
       "  'Province': '',\n",
       "  'Lat': 41.1533,\n",
       "  'Lon': 20.1683,\n",
       "  'Date': '2020-02-10T00:00:00Z',\n",
       "  'Cases': 0,\n",
       "  'Status': 'deaths'},\n",
       " {'Country': 'Albania',\n",
       "  'Province': '',\n",
       "  'Lat': 41.1533,\n",
       "  'Lon': 20.1683,\n",
       "  'Date': '2020-02-11T00:00:00Z',\n",
       "  'Cases': 0,\n",
       "  'Status': 'recovered'},\n",
       " {'Country': 'Albania',\n",
       "  'Province': '',\n",
       "  'Lat': 41.1533,\n",
       "  'Lon': 20.1683,\n",
       "  'Date': '2020-02-11T00:00:00Z',\n",
       "  'Cases': 0,\n",
       "  'Status': 'confirmed'},\n",
       " {'Country': 'Albania',\n",
       "  'Province': '',\n",
       "  'Lat': 41.1533,\n",
       "  'Lon': 20.1683,\n",
       "  'Date': '2020-02-11T00:00:00Z',\n",
       "  'Cases': 0,\n",
       "  'Status': 'deaths'},\n",
       " {'Country': 'Albania',\n",
       "  'Province': '',\n",
       "  'Lat': 41.1533,\n",
       "  'Lon': 20.1683,\n",
       "  'Date': '2020-02-12T00:00:00Z',\n",
       "  'Cases': 0,\n",
       "  'Status': 'recovered'},\n",
       " {'Country': 'Albania',\n",
       "  'Province': '',\n",
       "  'Lat': 41.1533,\n",
       "  'Lon': 20.1683,\n",
       "  'Date': '2020-02-12T00:00:00Z',\n",
       "  'Cases': 0,\n",
       "  'Status': 'confirmed'},\n",
       " {'Country': 'Albania',\n",
       "  'Province': '',\n",
       "  'Lat': 41.1533,\n",
       "  'Lon': 20.1683,\n",
       "  'Date': '2020-02-12T00:00:00Z',\n",
       "  'Cases': 0,\n",
       "  'Status': 'deaths'},\n",
       " {'Country': 'Albania',\n",
       "  'Province': '',\n",
       "  'Lat': 41.1533,\n",
       "  'Lon': 20.1683,\n",
       "  'Date': '2020-02-13T00:00:00Z',\n",
       "  'Cases': 0,\n",
       "  'Status': 'recovered'},\n",
       " {'Country': 'Albania',\n",
       "  'Province': '',\n",
       "  'Lat': 41.1533,\n",
       "  'Lon': 20.1683,\n",
       "  'Date': '2020-02-13T00:00:00Z',\n",
       "  'Cases': 0,\n",
       "  'Status': 'confirmed'},\n",
       " {'Country': 'Albania',\n",
       "  'Province': '',\n",
       "  'Lat': 41.1533,\n",
       "  'Lon': 20.1683,\n",
       "  'Date': '2020-02-13T00:00:00Z',\n",
       "  'Cases': 0,\n",
       "  'Status': 'deaths'},\n",
       " {'Country': 'Albania',\n",
       "  'Province': '',\n",
       "  'Lat': 41.1533,\n",
       "  'Lon': 20.1683,\n",
       "  'Date': '2020-02-14T00:00:00Z',\n",
       "  'Cases': 0,\n",
       "  'Status': 'recovered'},\n",
       " {'Country': 'Albania',\n",
       "  'Province': '',\n",
       "  'Lat': 41.1533,\n",
       "  'Lon': 20.1683,\n",
       "  'Date': '2020-02-14T00:00:00Z',\n",
       "  'Cases': 0,\n",
       "  'Status': 'confirmed'},\n",
       " {'Country': 'Albania',\n",
       "  'Province': '',\n",
       "  'Lat': 41.1533,\n",
       "  'Lon': 20.1683,\n",
       "  'Date': '2020-02-14T00:00:00Z',\n",
       "  'Cases': 0,\n",
       "  'Status': 'deaths'},\n",
       " {'Country': 'Albania',\n",
       "  'Province': '',\n",
       "  'Lat': 41.1533,\n",
       "  'Lon': 20.1683,\n",
       "  'Date': '2020-02-15T00:00:00Z',\n",
       "  'Cases': 0,\n",
       "  'Status': 'recovered'},\n",
       " {'Country': 'Albania',\n",
       "  'Province': '',\n",
       "  'Lat': 41.1533,\n",
       "  'Lon': 20.1683,\n",
       "  'Date': '2020-02-15T00:00:00Z',\n",
       "  'Cases': 0,\n",
       "  'Status': 'confirmed'},\n",
       " {'Country': 'Albania',\n",
       "  'Province': '',\n",
       "  'Lat': 41.1533,\n",
       "  'Lon': 20.1683,\n",
       "  'Date': '2020-02-15T00:00:00Z',\n",
       "  'Cases': 0,\n",
       "  'Status': 'deaths'},\n",
       " {'Country': 'Albania',\n",
       "  'Province': '',\n",
       "  'Lat': 41.1533,\n",
       "  'Lon': 20.1683,\n",
       "  'Date': '2020-02-16T00:00:00Z',\n",
       "  'Cases': 0,\n",
       "  'Status': 'recovered'},\n",
       " {'Country': 'Albania',\n",
       "  'Province': '',\n",
       "  'Lat': 41.1533,\n",
       "  'Lon': 20.1683,\n",
       "  'Date': '2020-02-16T00:00:00Z',\n",
       "  'Cases': 0,\n",
       "  'Status': 'confirmed'},\n",
       " {'Country': 'Albania',\n",
       "  'Province': '',\n",
       "  'Lat': 41.1533,\n",
       "  'Lon': 20.1683,\n",
       "  'Date': '2020-02-16T00:00:00Z',\n",
       "  'Cases': 0,\n",
       "  'Status': 'deaths'},\n",
       " {'Country': 'Albania',\n",
       "  'Province': '',\n",
       "  'Lat': 41.1533,\n",
       "  'Lon': 20.1683,\n",
       "  'Date': '2020-02-17T00:00:00Z',\n",
       "  'Cases': 0,\n",
       "  'Status': 'recovered'},\n",
       " {'Country': 'Albania',\n",
       "  'Province': '',\n",
       "  'Lat': 41.1533,\n",
       "  'Lon': 20.1683,\n",
       "  'Date': '2020-02-17T00:00:00Z',\n",
       "  'Cases': 0,\n",
       "  'Status': 'confirmed'},\n",
       " {'Country': 'Albania',\n",
       "  'Province': '',\n",
       "  'Lat': 41.1533,\n",
       "  'Lon': 20.1683,\n",
       "  'Date': '2020-02-17T00:00:00Z',\n",
       "  'Cases': 0,\n",
       "  'Status': 'deaths'},\n",
       " {'Country': 'Albania',\n",
       "  'Province': '',\n",
       "  'Lat': 41.1533,\n",
       "  'Lon': 20.1683,\n",
       "  'Date': '2020-02-18T00:00:00Z',\n",
       "  'Cases': 0,\n",
       "  'Status': 'recovered'},\n",
       " {'Country': 'Albania',\n",
       "  'Province': '',\n",
       "  'Lat': 41.1533,\n",
       "  'Lon': 20.1683,\n",
       "  'Date': '2020-02-18T00:00:00Z',\n",
       "  'Cases': 0,\n",
       "  'Status': 'confirmed'},\n",
       " {'Country': 'Albania',\n",
       "  'Province': '',\n",
       "  'Lat': 41.1533,\n",
       "  'Lon': 20.1683,\n",
       "  'Date': '2020-02-18T00:00:00Z',\n",
       "  'Cases': 0,\n",
       "  'Status': 'deaths'},\n",
       " {'Country': 'Albania',\n",
       "  'Province': '',\n",
       "  'Lat': 41.1533,\n",
       "  'Lon': 20.1683,\n",
       "  'Date': '2020-02-19T00:00:00Z',\n",
       "  'Cases': 0,\n",
       "  'Status': 'recovered'},\n",
       " {'Country': 'Albania',\n",
       "  'Province': '',\n",
       "  'Lat': 41.1533,\n",
       "  'Lon': 20.1683,\n",
       "  'Date': '2020-02-19T00:00:00Z',\n",
       "  'Cases': 0,\n",
       "  'Status': 'confirmed'},\n",
       " {'Country': 'Albania',\n",
       "  'Province': '',\n",
       "  'Lat': 41.1533,\n",
       "  'Lon': 20.1683,\n",
       "  'Date': '2020-02-19T00:00:00Z',\n",
       "  'Cases': 0,\n",
       "  'Status': 'deaths'},\n",
       " {'Country': 'Albania',\n",
       "  'Province': '',\n",
       "  'Lat': 41.1533,\n",
       "  'Lon': 20.1683,\n",
       "  'Date': '2020-02-20T00:00:00Z',\n",
       "  'Cases': 0,\n",
       "  'Status': 'recovered'},\n",
       " {'Country': 'Albania',\n",
       "  'Province': '',\n",
       "  'Lat': 41.1533,\n",
       "  'Lon': 20.1683,\n",
       "  'Date': '2020-02-20T00:00:00Z',\n",
       "  'Cases': 0,\n",
       "  'Status': 'confirmed'},\n",
       " {'Country': 'Albania',\n",
       "  'Province': '',\n",
       "  'Lat': 41.1533,\n",
       "  'Lon': 20.1683,\n",
       "  'Date': '2020-02-20T00:00:00Z',\n",
       "  'Cases': 0,\n",
       "  'Status': 'deaths'},\n",
       " {'Country': 'Albania',\n",
       "  'Province': '',\n",
       "  'Lat': 41.1533,\n",
       "  'Lon': 20.1683,\n",
       "  'Date': '2020-02-21T00:00:00Z',\n",
       "  'Cases': 0,\n",
       "  'Status': 'recovered'},\n",
       " {'Country': 'Albania',\n",
       "  'Province': '',\n",
       "  'Lat': 41.1533,\n",
       "  'Lon': 20.1683,\n",
       "  'Date': '2020-02-21T00:00:00Z',\n",
       "  'Cases': 0,\n",
       "  'Status': 'confirmed'},\n",
       " {'Country': 'Albania',\n",
       "  'Province': '',\n",
       "  'Lat': 41.1533,\n",
       "  'Lon': 20.1683,\n",
       "  'Date': '2020-02-21T00:00:00Z',\n",
       "  'Cases': 0,\n",
       "  'Status': 'deaths'},\n",
       " {'Country': 'Albania',\n",
       "  'Province': '',\n",
       "  'Lat': 41.1533,\n",
       "  'Lon': 20.1683,\n",
       "  'Date': '2020-02-22T00:00:00Z',\n",
       "  'Cases': 0,\n",
       "  'Status': 'recovered'},\n",
       " {'Country': 'Albania',\n",
       "  'Province': '',\n",
       "  'Lat': 41.1533,\n",
       "  'Lon': 20.1683,\n",
       "  'Date': '2020-02-22T00:00:00Z',\n",
       "  'Cases': 0,\n",
       "  'Status': 'confirmed'},\n",
       " {'Country': 'Albania',\n",
       "  'Province': '',\n",
       "  'Lat': 41.1533,\n",
       "  'Lon': 20.1683,\n",
       "  'Date': '2020-02-22T00:00:00Z',\n",
       "  'Cases': 0,\n",
       "  'Status': 'deaths'},\n",
       " {'Country': 'Albania',\n",
       "  'Province': '',\n",
       "  'Lat': 41.1533,\n",
       "  'Lon': 20.1683,\n",
       "  'Date': '2020-02-23T00:00:00Z',\n",
       "  'Cases': 0,\n",
       "  'Status': 'recovered'},\n",
       " {'Country': 'Albania',\n",
       "  'Province': '',\n",
       "  'Lat': 41.1533,\n",
       "  'Lon': 20.1683,\n",
       "  'Date': '2020-02-23T00:00:00Z',\n",
       "  'Cases': 0,\n",
       "  'Status': 'confirmed'},\n",
       " {'Country': 'Albania',\n",
       "  'Province': '',\n",
       "  'Lat': 41.1533,\n",
       "  'Lon': 20.1683,\n",
       "  'Date': '2020-02-23T00:00:00Z',\n",
       "  'Cases': 0,\n",
       "  'Status': 'deaths'},\n",
       " {'Country': 'Albania',\n",
       "  'Province': '',\n",
       "  'Lat': 41.1533,\n",
       "  'Lon': 20.1683,\n",
       "  'Date': '2020-02-24T00:00:00Z',\n",
       "  'Cases': 0,\n",
       "  'Status': 'recovered'},\n",
       " {'Country': 'Albania',\n",
       "  'Province': '',\n",
       "  'Lat': 41.1533,\n",
       "  'Lon': 20.1683,\n",
       "  'Date': '2020-02-24T00:00:00Z',\n",
       "  'Cases': 0,\n",
       "  'Status': 'confirmed'},\n",
       " {'Country': 'Albania',\n",
       "  'Province': '',\n",
       "  'Lat': 41.1533,\n",
       "  'Lon': 20.1683,\n",
       "  'Date': '2020-02-24T00:00:00Z',\n",
       "  'Cases': 0,\n",
       "  'Status': 'deaths'},\n",
       " {'Country': 'Albania',\n",
       "  'Province': '',\n",
       "  'Lat': 41.1533,\n",
       "  'Lon': 20.1683,\n",
       "  'Date': '2020-02-25T00:00:00Z',\n",
       "  'Cases': 0,\n",
       "  'Status': 'recovered'},\n",
       " {'Country': 'Albania',\n",
       "  'Province': '',\n",
       "  'Lat': 41.1533,\n",
       "  'Lon': 20.1683,\n",
       "  'Date': '2020-02-25T00:00:00Z',\n",
       "  'Cases': 0,\n",
       "  'Status': 'confirmed'},\n",
       " {'Country': 'Albania',\n",
       "  'Province': '',\n",
       "  'Lat': 41.1533,\n",
       "  'Lon': 20.1683,\n",
       "  'Date': '2020-02-25T00:00:00Z',\n",
       "  'Cases': 0,\n",
       "  'Status': 'deaths'},\n",
       " {'Country': 'Albania',\n",
       "  'Province': '',\n",
       "  'Lat': 41.1533,\n",
       "  'Lon': 20.1683,\n",
       "  'Date': '2020-02-26T00:00:00Z',\n",
       "  'Cases': 0,\n",
       "  'Status': 'recovered'},\n",
       " {'Country': 'Albania',\n",
       "  'Province': '',\n",
       "  'Lat': 41.1533,\n",
       "  'Lon': 20.1683,\n",
       "  'Date': '2020-02-26T00:00:00Z',\n",
       "  'Cases': 0,\n",
       "  'Status': 'confirmed'},\n",
       " {'Country': 'Albania',\n",
       "  'Province': '',\n",
       "  'Lat': 41.1533,\n",
       "  'Lon': 20.1683,\n",
       "  'Date': '2020-02-26T00:00:00Z',\n",
       "  'Cases': 0,\n",
       "  'Status': 'deaths'},\n",
       " {'Country': 'Albania',\n",
       "  'Province': '',\n",
       "  'Lat': 41.1533,\n",
       "  'Lon': 20.1683,\n",
       "  'Date': '2020-02-27T00:00:00Z',\n",
       "  'Cases': 0,\n",
       "  'Status': 'recovered'},\n",
       " {'Country': 'Albania',\n",
       "  'Province': '',\n",
       "  'Lat': 41.1533,\n",
       "  'Lon': 20.1683,\n",
       "  'Date': '2020-02-27T00:00:00Z',\n",
       "  'Cases': 0,\n",
       "  'Status': 'confirmed'},\n",
       " {'Country': 'Albania',\n",
       "  'Province': '',\n",
       "  'Lat': 41.1533,\n",
       "  'Lon': 20.1683,\n",
       "  'Date': '2020-02-27T00:00:00Z',\n",
       "  'Cases': 0,\n",
       "  'Status': 'deaths'},\n",
       " {'Country': 'Albania',\n",
       "  'Province': '',\n",
       "  'Lat': 41.1533,\n",
       "  'Lon': 20.1683,\n",
       "  'Date': '2020-02-28T00:00:00Z',\n",
       "  'Cases': 0,\n",
       "  'Status': 'recovered'},\n",
       " {'Country': 'Albania',\n",
       "  'Province': '',\n",
       "  'Lat': 41.1533,\n",
       "  'Lon': 20.1683,\n",
       "  'Date': '2020-02-28T00:00:00Z',\n",
       "  'Cases': 0,\n",
       "  'Status': 'confirmed'},\n",
       " {'Country': 'Albania',\n",
       "  'Province': '',\n",
       "  'Lat': 41.1533,\n",
       "  'Lon': 20.1683,\n",
       "  'Date': '2020-02-28T00:00:00Z',\n",
       "  'Cases': 0,\n",
       "  'Status': 'deaths'},\n",
       " {'Country': 'Albania',\n",
       "  'Province': '',\n",
       "  'Lat': 41.1533,\n",
       "  'Lon': 20.1683,\n",
       "  'Date': '2020-02-29T00:00:00Z',\n",
       "  'Cases': 0,\n",
       "  'Status': 'recovered'},\n",
       " {'Country': 'Albania',\n",
       "  'Province': '',\n",
       "  'Lat': 41.1533,\n",
       "  'Lon': 20.1683,\n",
       "  'Date': '2020-02-29T00:00:00Z',\n",
       "  'Cases': 0,\n",
       "  'Status': 'confirmed'},\n",
       " {'Country': 'Albania',\n",
       "  'Province': '',\n",
       "  'Lat': 41.1533,\n",
       "  'Lon': 20.1683,\n",
       "  'Date': '2020-02-29T00:00:00Z',\n",
       "  'Cases': 0,\n",
       "  'Status': 'deaths'},\n",
       " {'Country': 'Albania',\n",
       "  'Province': '',\n",
       "  'Lat': 41.1533,\n",
       "  'Lon': 20.1683,\n",
       "  'Date': '2020-03-01T00:00:00Z',\n",
       "  'Cases': 0,\n",
       "  'Status': 'recovered'},\n",
       " {'Country': 'Albania',\n",
       "  'Province': '',\n",
       "  'Lat': 41.1533,\n",
       "  'Lon': 20.1683,\n",
       "  'Date': '2020-03-01T00:00:00Z',\n",
       "  'Cases': 0,\n",
       "  'Status': 'confirmed'},\n",
       " {'Country': 'Albania',\n",
       "  'Province': '',\n",
       "  'Lat': 41.1533,\n",
       "  'Lon': 20.1683,\n",
       "  'Date': '2020-03-01T00:00:00Z',\n",
       "  'Cases': 0,\n",
       "  'Status': 'deaths'},\n",
       " {'Country': 'Albania',\n",
       "  'Province': '',\n",
       "  'Lat': 41.1533,\n",
       "  'Lon': 20.1683,\n",
       "  'Date': '2020-03-02T00:00:00Z',\n",
       "  'Cases': 0,\n",
       "  'Status': 'recovered'},\n",
       " {'Country': 'Albania',\n",
       "  'Province': '',\n",
       "  'Lat': 41.1533,\n",
       "  'Lon': 20.1683,\n",
       "  'Date': '2020-03-02T00:00:00Z',\n",
       "  'Cases': 0,\n",
       "  'Status': 'confirmed'},\n",
       " {'Country': 'Albania',\n",
       "  'Province': '',\n",
       "  'Lat': 41.1533,\n",
       "  'Lon': 20.1683,\n",
       "  'Date': '2020-03-02T00:00:00Z',\n",
       "  'Cases': 0,\n",
       "  'Status': 'deaths'},\n",
       " {'Country': 'Albania',\n",
       "  'Province': '',\n",
       "  'Lat': 41.1533,\n",
       "  'Lon': 20.1683,\n",
       "  'Date': '2020-03-03T00:00:00Z',\n",
       "  'Cases': 0,\n",
       "  'Status': 'recovered'},\n",
       " {'Country': 'Albania',\n",
       "  'Province': '',\n",
       "  'Lat': 41.1533,\n",
       "  'Lon': 20.1683,\n",
       "  'Date': '2020-03-03T00:00:00Z',\n",
       "  'Cases': 0,\n",
       "  'Status': 'confirmed'},\n",
       " {'Country': 'Albania',\n",
       "  'Province': '',\n",
       "  'Lat': 41.1533,\n",
       "  'Lon': 20.1683,\n",
       "  'Date': '2020-03-03T00:00:00Z',\n",
       "  'Cases': 0,\n",
       "  'Status': 'deaths'},\n",
       " {'Country': 'Albania',\n",
       "  'Province': '',\n",
       "  'Lat': 41.1533,\n",
       "  'Lon': 20.1683,\n",
       "  'Date': '2020-03-04T00:00:00Z',\n",
       "  'Cases': 0,\n",
       "  'Status': 'recovered'},\n",
       " {'Country': 'Albania',\n",
       "  'Province': '',\n",
       "  'Lat': 41.1533,\n",
       "  'Lon': 20.1683,\n",
       "  'Date': '2020-03-04T00:00:00Z',\n",
       "  'Cases': 0,\n",
       "  'Status': 'confirmed'},\n",
       " {'Country': 'Albania',\n",
       "  'Province': '',\n",
       "  'Lat': 41.1533,\n",
       "  'Lon': 20.1683,\n",
       "  'Date': '2020-03-04T00:00:00Z',\n",
       "  'Cases': 0,\n",
       "  'Status': 'deaths'},\n",
       " {'Country': 'Albania',\n",
       "  'Province': '',\n",
       "  'Lat': 41.1533,\n",
       "  'Lon': 20.1683,\n",
       "  'Date': '2020-03-05T00:00:00Z',\n",
       "  'Cases': 0,\n",
       "  'Status': 'recovered'},\n",
       " {'Country': 'Albania',\n",
       "  'Province': '',\n",
       "  'Lat': 41.1533,\n",
       "  'Lon': 20.1683,\n",
       "  'Date': '2020-03-05T00:00:00Z',\n",
       "  'Cases': 0,\n",
       "  'Status': 'confirmed'},\n",
       " {'Country': 'Albania',\n",
       "  'Province': '',\n",
       "  'Lat': 41.1533,\n",
       "  'Lon': 20.1683,\n",
       "  'Date': '2020-03-05T00:00:00Z',\n",
       "  'Cases': 0,\n",
       "  'Status': 'deaths'},\n",
       " {'Country': 'Albania',\n",
       "  'Province': '',\n",
       "  'Lat': 41.1533,\n",
       "  'Lon': 20.1683,\n",
       "  'Date': '2020-03-06T00:00:00Z',\n",
       "  'Cases': 0,\n",
       "  'Status': 'recovered'},\n",
       " {'Country': 'Albania',\n",
       "  'Province': '',\n",
       "  'Lat': 41.1533,\n",
       "  'Lon': 20.1683,\n",
       "  'Date': '2020-03-06T00:00:00Z',\n",
       "  'Cases': 0,\n",
       "  'Status': 'confirmed'},\n",
       " {'Country': 'Albania',\n",
       "  'Province': '',\n",
       "  'Lat': 41.1533,\n",
       "  'Lon': 20.1683,\n",
       "  'Date': '2020-03-06T00:00:00Z',\n",
       "  'Cases': 0,\n",
       "  'Status': 'deaths'},\n",
       " {'Country': 'Albania',\n",
       "  'Province': '',\n",
       "  'Lat': 41.1533,\n",
       "  'Lon': 20.1683,\n",
       "  'Date': '2020-03-07T00:00:00Z',\n",
       "  'Cases': 0,\n",
       "  'Status': 'recovered'},\n",
       " {'Country': 'Albania',\n",
       "  'Province': '',\n",
       "  'Lat': 41.1533,\n",
       "  'Lon': 20.1683,\n",
       "  'Date': '2020-03-07T00:00:00Z',\n",
       "  'Cases': 0,\n",
       "  'Status': 'confirmed'},\n",
       " {'Country': 'Albania',\n",
       "  'Province': '',\n",
       "  'Lat': 41.1533,\n",
       "  'Lon': 20.1683,\n",
       "  'Date': '2020-03-07T00:00:00Z',\n",
       "  'Cases': 0,\n",
       "  'Status': 'deaths'},\n",
       " {'Country': 'Albania',\n",
       "  'Province': '',\n",
       "  'Lat': 41.1533,\n",
       "  'Lon': 20.1683,\n",
       "  'Date': '2020-03-08T00:00:00Z',\n",
       "  'Cases': 0,\n",
       "  'Status': 'recovered'},\n",
       " {'Country': 'Albania',\n",
       "  'Province': '',\n",
       "  'Lat': 41.1533,\n",
       "  'Lon': 20.1683,\n",
       "  'Date': '2020-03-08T00:00:00Z',\n",
       "  'Cases': 0,\n",
       "  'Status': 'confirmed'},\n",
       " {'Country': 'Albania',\n",
       "  'Province': '',\n",
       "  'Lat': 41.1533,\n",
       "  'Lon': 20.1683,\n",
       "  'Date': '2020-03-08T00:00:00Z',\n",
       "  'Cases': 0,\n",
       "  'Status': 'deaths'},\n",
       " {'Country': 'Albania',\n",
       "  'Province': '',\n",
       "  'Lat': 41.1533,\n",
       "  'Lon': 20.1683,\n",
       "  'Date': '2020-03-09T00:00:00Z',\n",
       "  'Cases': 0,\n",
       "  'Status': 'recovered'},\n",
       " {'Country': 'Albania',\n",
       "  'Province': '',\n",
       "  'Lat': 41.1533,\n",
       "  'Lon': 20.1683,\n",
       "  'Date': '2020-03-09T00:00:00Z',\n",
       "  'Cases': 2,\n",
       "  'Status': 'confirmed'},\n",
       " {'Country': 'Albania',\n",
       "  'Province': '',\n",
       "  'Lat': 41.1533,\n",
       "  'Lon': 20.1683,\n",
       "  'Date': '2020-03-09T00:00:00Z',\n",
       "  'Cases': 0,\n",
       "  'Status': 'deaths'},\n",
       " {'Country': 'Albania',\n",
       "  'Province': '',\n",
       "  'Lat': 41.1533,\n",
       "  'Lon': 20.1683,\n",
       "  'Date': '2020-03-10T00:00:00Z',\n",
       "  'Cases': 0,\n",
       "  'Status': 'recovered'},\n",
       " {'Country': 'Albania',\n",
       "  'Province': '',\n",
       "  'Lat': 41.1533,\n",
       "  'Lon': 20.1683,\n",
       "  'Date': '2020-03-10T00:00:00Z',\n",
       "  'Cases': 10,\n",
       "  'Status': 'confirmed'},\n",
       " {'Country': 'Albania',\n",
       "  'Province': '',\n",
       "  'Lat': 41.1533,\n",
       "  'Lon': 20.1683,\n",
       "  'Date': '2020-03-10T00:00:00Z',\n",
       "  'Cases': 0,\n",
       "  'Status': 'deaths'},\n",
       " {'Country': 'Albania',\n",
       "  'Province': '',\n",
       "  'Lat': 41.1533,\n",
       "  'Lon': 20.1683,\n",
       "  'Date': '2020-03-11T00:00:00Z',\n",
       "  'Cases': 0,\n",
       "  'Status': 'recovered'},\n",
       " {'Country': 'Albania',\n",
       "  'Province': '',\n",
       "  'Lat': 41.1533,\n",
       "  'Lon': 20.1683,\n",
       "  'Date': '2020-03-11T00:00:00Z',\n",
       "  'Cases': 12,\n",
       "  'Status': 'confirmed'},\n",
       " {'Country': 'Albania',\n",
       "  'Province': '',\n",
       "  'Lat': 41.1533,\n",
       "  'Lon': 20.1683,\n",
       "  'Date': '2020-03-11T00:00:00Z',\n",
       "  'Cases': 1,\n",
       "  'Status': 'deaths'},\n",
       " {'Country': 'Albania',\n",
       "  'Province': '',\n",
       "  'Lat': 41.1533,\n",
       "  'Lon': 20.1683,\n",
       "  'Date': '2020-03-12T00:00:00Z',\n",
       "  'Cases': 0,\n",
       "  'Status': 'recovered'},\n",
       " {'Country': 'Albania',\n",
       "  'Province': '',\n",
       "  'Lat': 41.1533,\n",
       "  'Lon': 20.1683,\n",
       "  'Date': '2020-03-12T00:00:00Z',\n",
       "  'Cases': 23,\n",
       "  'Status': 'confirmed'},\n",
       " {'Country': 'Albania',\n",
       "  'Province': '',\n",
       "  'Lat': 41.1533,\n",
       "  'Lon': 20.1683,\n",
       "  'Date': '2020-03-12T00:00:00Z',\n",
       "  'Cases': 1,\n",
       "  'Status': 'deaths'},\n",
       " {'Country': 'Albania',\n",
       "  'Province': '',\n",
       "  'Lat': 41.1533,\n",
       "  'Lon': 20.1683,\n",
       "  'Date': '2020-03-13T00:00:00Z',\n",
       "  'Cases': 0,\n",
       "  'Status': 'recovered'},\n",
       " {'Country': 'Albania',\n",
       "  'Province': '',\n",
       "  'Lat': 41.1533,\n",
       "  'Lon': 20.1683,\n",
       "  'Date': '2020-03-13T00:00:00Z',\n",
       "  'Cases': 33,\n",
       "  'Status': 'confirmed'},\n",
       " {'Country': 'Albania',\n",
       "  'Province': '',\n",
       "  'Lat': 41.1533,\n",
       "  'Lon': 20.1683,\n",
       "  'Date': '2020-03-13T00:00:00Z',\n",
       "  'Cases': 1,\n",
       "  'Status': 'deaths'},\n",
       " {'Country': 'Albania',\n",
       "  'Province': '',\n",
       "  'Lat': 41.1533,\n",
       "  'Lon': 20.1683,\n",
       "  'Date': '2020-03-14T00:00:00Z',\n",
       "  'Cases': 0,\n",
       "  'Status': 'recovered'},\n",
       " {'Country': 'Albania',\n",
       "  'Province': '',\n",
       "  'Lat': 41.1533,\n",
       "  'Lon': 20.1683,\n",
       "  'Date': '2020-03-14T00:00:00Z',\n",
       "  'Cases': 38,\n",
       "  'Status': 'confirmed'},\n",
       " {'Country': 'Albania',\n",
       "  'Province': '',\n",
       "  'Lat': 41.1533,\n",
       "  'Lon': 20.1683,\n",
       "  'Date': '2020-03-14T00:00:00Z',\n",
       "  'Cases': 1,\n",
       "  'Status': 'deaths'},\n",
       " {'Country': 'Albania',\n",
       "  'Province': '',\n",
       "  'Lat': 41.1533,\n",
       "  'Lon': 20.1683,\n",
       "  'Date': '2020-03-15T00:00:00Z',\n",
       "  'Cases': 0,\n",
       "  'Status': 'recovered'},\n",
       " {'Country': 'Albania',\n",
       "  'Province': '',\n",
       "  'Lat': 41.1533,\n",
       "  'Lon': 20.1683,\n",
       "  'Date': '2020-03-15T00:00:00Z',\n",
       "  'Cases': 42,\n",
       "  'Status': 'confirmed'},\n",
       " {'Country': 'Albania',\n",
       "  'Province': '',\n",
       "  'Lat': 41.1533,\n",
       "  'Lon': 20.1683,\n",
       "  'Date': '2020-03-15T00:00:00Z',\n",
       "  'Cases': 1,\n",
       "  'Status': 'deaths'},\n",
       " {'Country': 'Albania',\n",
       "  'Province': '',\n",
       "  'Lat': 41.1533,\n",
       "  'Lon': 20.1683,\n",
       "  'Date': '2020-03-16T00:00:00Z',\n",
       "  'Cases': 0,\n",
       "  'Status': 'recovered'},\n",
       " {'Country': 'Albania',\n",
       "  'Province': '',\n",
       "  'Lat': 41.1533,\n",
       "  'Lon': 20.1683,\n",
       "  'Date': '2020-03-16T00:00:00Z',\n",
       "  'Cases': 51,\n",
       "  'Status': 'confirmed'},\n",
       " {'Country': 'Albania',\n",
       "  'Province': '',\n",
       "  'Lat': 41.1533,\n",
       "  'Lon': 20.1683,\n",
       "  'Date': '2020-03-16T00:00:00Z',\n",
       "  'Cases': 1,\n",
       "  'Status': 'deaths'},\n",
       " {'Country': 'Albania',\n",
       "  'Province': '',\n",
       "  'Lat': 41.1533,\n",
       "  'Lon': 20.1683,\n",
       "  'Date': '2020-03-17T00:00:00Z',\n",
       "  'Cases': 55,\n",
       "  'Status': 'confirmed'},\n",
       " {'Country': 'Albania',\n",
       "  'Province': '',\n",
       "  'Lat': 41.1533,\n",
       "  'Lon': 20.1683,\n",
       "  'Date': '2020-03-17T00:00:00Z',\n",
       "  'Cases': 0,\n",
       "  'Status': 'recovered'},\n",
       " {'Country': 'Albania',\n",
       "  'Province': '',\n",
       "  'Lat': 41.1533,\n",
       "  'Lon': 20.1683,\n",
       "  'Date': '2020-03-17T00:00:00Z',\n",
       "  'Cases': 1,\n",
       "  'Status': 'deaths'},\n",
       " {'Country': 'Albania',\n",
       "  'Province': '',\n",
       "  'Lat': 41.1533,\n",
       "  'Lon': 20.1683,\n",
       "  'Date': '2020-03-18T00:00:00Z',\n",
       "  'Cases': 0,\n",
       "  'Status': 'recovered'},\n",
       " {'Country': 'Albania',\n",
       "  'Province': '',\n",
       "  'Lat': 41.1533,\n",
       "  'Lon': 20.1683,\n",
       "  'Date': '2020-03-18T00:00:00Z',\n",
       "  'Cases': 2,\n",
       "  'Status': 'deaths'},\n",
       " {'Country': 'Albania',\n",
       "  'Province': '',\n",
       "  'Lat': 41.1533,\n",
       "  'Lon': 20.1683,\n",
       "  'Date': '2020-03-18T00:00:00Z',\n",
       "  'Cases': 59,\n",
       "  'Status': 'confirmed'},\n",
       " {'Country': 'Albania',\n",
       "  'Province': '',\n",
       "  'Lat': 41.1533,\n",
       "  'Lon': 20.1683,\n",
       "  'Date': '2020-03-19T00:00:00Z',\n",
       "  'Cases': 64,\n",
       "  'Status': 'confirmed'},\n",
       " {'Country': 'Albania',\n",
       "  'Province': '',\n",
       "  'Lat': 41.1533,\n",
       "  'Lon': 20.1683,\n",
       "  'Date': '2020-03-19T00:00:00Z',\n",
       "  'Cases': 2,\n",
       "  'Status': 'deaths'},\n",
       " {'Country': 'Albania',\n",
       "  'Province': '',\n",
       "  'Lat': 41.1533,\n",
       "  'Lon': 20.1683,\n",
       "  'Date': '2020-03-19T00:00:00Z',\n",
       "  'Cases': 0,\n",
       "  'Status': 'recovered'},\n",
       " {'Country': 'Albania',\n",
       "  'Province': '',\n",
       "  'Lat': 41.1533,\n",
       "  'Lon': 20.1683,\n",
       "  'Date': '2020-03-20T00:00:00Z',\n",
       "  'Cases': 0,\n",
       "  'Status': 'recovered'},\n",
       " {'Country': 'Albania',\n",
       "  'Province': '',\n",
       "  'Lat': 41.1533,\n",
       "  'Lon': 20.1683,\n",
       "  'Date': '2020-03-20T00:00:00Z',\n",
       "  'Cases': 70,\n",
       "  'Status': 'confirmed'},\n",
       " {'Country': 'Albania',\n",
       "  'Province': '',\n",
       "  'Lat': 41.1533,\n",
       "  'Lon': 20.1683,\n",
       "  'Date': '2020-03-20T00:00:00Z',\n",
       "  'Cases': 2,\n",
       "  'Status': 'deaths'},\n",
       " {'Country': 'Algeria',\n",
       "  'Province': '',\n",
       "  'Lat': 28.0339,\n",
       "  'Lon': 1.6596,\n",
       "  'Date': '2020-01-22T00:00:00Z',\n",
       "  'Cases': 0,\n",
       "  'Status': 'deaths'},\n",
       " {'Country': 'Algeria',\n",
       "  'Province': '',\n",
       "  'Lat': 28.0339,\n",
       "  'Lon': 1.6596,\n",
       "  'Date': '2020-01-22T00:00:00Z',\n",
       "  'Cases': 0,\n",
       "  'Status': 'recovered'},\n",
       " {'Country': 'Algeria',\n",
       "  'Province': '',\n",
       "  'Lat': 28.0339,\n",
       "  'Lon': 1.6596,\n",
       "  'Date': '2020-01-22T00:00:00Z',\n",
       "  'Cases': 0,\n",
       "  'Status': 'confirmed'},\n",
       " {'Country': 'Algeria',\n",
       "  'Province': '',\n",
       "  'Lat': 28.0339,\n",
       "  'Lon': 1.6596,\n",
       "  'Date': '2020-01-23T00:00:00Z',\n",
       "  'Cases': 0,\n",
       "  'Status': 'deaths'},\n",
       " {'Country': 'Algeria',\n",
       "  'Province': '',\n",
       "  'Lat': 28.0339,\n",
       "  'Lon': 1.6596,\n",
       "  'Date': '2020-01-23T00:00:00Z',\n",
       "  'Cases': 0,\n",
       "  'Status': 'recovered'},\n",
       " {'Country': 'Algeria',\n",
       "  'Province': '',\n",
       "  'Lat': 28.0339,\n",
       "  'Lon': 1.6596,\n",
       "  'Date': '2020-01-23T00:00:00Z',\n",
       "  'Cases': 0,\n",
       "  'Status': 'confirmed'},\n",
       " {'Country': 'Algeria',\n",
       "  'Province': '',\n",
       "  'Lat': 28.0339,\n",
       "  'Lon': 1.6596,\n",
       "  'Date': '2020-01-24T00:00:00Z',\n",
       "  'Cases': 0,\n",
       "  'Status': 'deaths'},\n",
       " {'Country': 'Algeria',\n",
       "  'Province': '',\n",
       "  'Lat': 28.0339,\n",
       "  'Lon': 1.6596,\n",
       "  'Date': '2020-01-24T00:00:00Z',\n",
       "  'Cases': 0,\n",
       "  'Status': 'recovered'},\n",
       " {'Country': 'Algeria',\n",
       "  'Province': '',\n",
       "  'Lat': 28.0339,\n",
       "  'Lon': 1.6596,\n",
       "  'Date': '2020-01-24T00:00:00Z',\n",
       "  'Cases': 0,\n",
       "  'Status': 'confirmed'},\n",
       " {'Country': 'Algeria',\n",
       "  'Province': '',\n",
       "  'Lat': 28.0339,\n",
       "  'Lon': 1.6596,\n",
       "  'Date': '2020-01-25T00:00:00Z',\n",
       "  'Cases': 0,\n",
       "  'Status': 'deaths'},\n",
       " {'Country': 'Algeria',\n",
       "  'Province': '',\n",
       "  'Lat': 28.0339,\n",
       "  'Lon': 1.6596,\n",
       "  'Date': '2020-01-25T00:00:00Z',\n",
       "  'Cases': 0,\n",
       "  'Status': 'recovered'},\n",
       " {'Country': 'Algeria',\n",
       "  'Province': '',\n",
       "  'Lat': 28.0339,\n",
       "  'Lon': 1.6596,\n",
       "  'Date': '2020-01-25T00:00:00Z',\n",
       "  'Cases': 0,\n",
       "  'Status': 'confirmed'},\n",
       " {'Country': 'Algeria',\n",
       "  'Province': '',\n",
       "  'Lat': 28.0339,\n",
       "  'Lon': 1.6596,\n",
       "  'Date': '2020-01-26T00:00:00Z',\n",
       "  'Cases': 0,\n",
       "  'Status': 'deaths'},\n",
       " {'Country': 'Algeria',\n",
       "  'Province': '',\n",
       "  'Lat': 28.0339,\n",
       "  'Lon': 1.6596,\n",
       "  'Date': '2020-01-26T00:00:00Z',\n",
       "  'Cases': 0,\n",
       "  'Status': 'recovered'},\n",
       " {'Country': 'Algeria',\n",
       "  'Province': '',\n",
       "  'Lat': 28.0339,\n",
       "  'Lon': 1.6596,\n",
       "  'Date': '2020-01-26T00:00:00Z',\n",
       "  'Cases': 0,\n",
       "  'Status': 'confirmed'},\n",
       " {'Country': 'Algeria',\n",
       "  'Province': '',\n",
       "  'Lat': 28.0339,\n",
       "  'Lon': 1.6596,\n",
       "  'Date': '2020-01-27T00:00:00Z',\n",
       "  'Cases': 0,\n",
       "  'Status': 'deaths'},\n",
       " {'Country': 'Algeria',\n",
       "  'Province': '',\n",
       "  'Lat': 28.0339,\n",
       "  'Lon': 1.6596,\n",
       "  'Date': '2020-01-27T00:00:00Z',\n",
       "  'Cases': 0,\n",
       "  'Status': 'recovered'},\n",
       " {'Country': 'Algeria',\n",
       "  'Province': '',\n",
       "  'Lat': 28.0339,\n",
       "  'Lon': 1.6596,\n",
       "  'Date': '2020-01-27T00:00:00Z',\n",
       "  'Cases': 0,\n",
       "  'Status': 'confirmed'},\n",
       " {'Country': 'Algeria',\n",
       "  'Province': '',\n",
       "  'Lat': 28.0339,\n",
       "  'Lon': 1.6596,\n",
       "  'Date': '2020-01-28T00:00:00Z',\n",
       "  'Cases': 0,\n",
       "  'Status': 'deaths'},\n",
       " {'Country': 'Algeria',\n",
       "  'Province': '',\n",
       "  'Lat': 28.0339,\n",
       "  'Lon': 1.6596,\n",
       "  'Date': '2020-01-28T00:00:00Z',\n",
       "  'Cases': 0,\n",
       "  'Status': 'recovered'},\n",
       " {'Country': 'Algeria',\n",
       "  'Province': '',\n",
       "  'Lat': 28.0339,\n",
       "  'Lon': 1.6596,\n",
       "  'Date': '2020-01-28T00:00:00Z',\n",
       "  'Cases': 0,\n",
       "  'Status': 'confirmed'},\n",
       " {'Country': 'Algeria',\n",
       "  'Province': '',\n",
       "  'Lat': 28.0339,\n",
       "  'Lon': 1.6596,\n",
       "  'Date': '2020-01-29T00:00:00Z',\n",
       "  'Cases': 0,\n",
       "  'Status': 'deaths'},\n",
       " {'Country': 'Algeria',\n",
       "  'Province': '',\n",
       "  'Lat': 28.0339,\n",
       "  'Lon': 1.6596,\n",
       "  'Date': '2020-01-29T00:00:00Z',\n",
       "  'Cases': 0,\n",
       "  'Status': 'recovered'},\n",
       " {'Country': 'Algeria',\n",
       "  'Province': '',\n",
       "  'Lat': 28.0339,\n",
       "  'Lon': 1.6596,\n",
       "  'Date': '2020-01-29T00:00:00Z',\n",
       "  'Cases': 0,\n",
       "  'Status': 'confirmed'},\n",
       " {'Country': 'Algeria',\n",
       "  'Province': '',\n",
       "  'Lat': 28.0339,\n",
       "  'Lon': 1.6596,\n",
       "  'Date': '2020-01-30T00:00:00Z',\n",
       "  'Cases': 0,\n",
       "  'Status': 'deaths'},\n",
       " {'Country': 'Algeria',\n",
       "  'Province': '',\n",
       "  'Lat': 28.0339,\n",
       "  'Lon': 1.6596,\n",
       "  'Date': '2020-01-30T00:00:00Z',\n",
       "  'Cases': 0,\n",
       "  'Status': 'recovered'},\n",
       " {'Country': 'Algeria',\n",
       "  'Province': '',\n",
       "  'Lat': 28.0339,\n",
       "  'Lon': 1.6596,\n",
       "  'Date': '2020-01-30T00:00:00Z',\n",
       "  'Cases': 0,\n",
       "  'Status': 'confirmed'},\n",
       " {'Country': 'Algeria',\n",
       "  'Province': '',\n",
       "  'Lat': 28.0339,\n",
       "  'Lon': 1.6596,\n",
       "  'Date': '2020-01-31T00:00:00Z',\n",
       "  'Cases': 0,\n",
       "  'Status': 'deaths'},\n",
       " {'Country': 'Algeria',\n",
       "  'Province': '',\n",
       "  'Lat': 28.0339,\n",
       "  'Lon': 1.6596,\n",
       "  'Date': '2020-01-31T00:00:00Z',\n",
       "  'Cases': 0,\n",
       "  'Status': 'recovered'},\n",
       " {'Country': 'Algeria',\n",
       "  'Province': '',\n",
       "  'Lat': 28.0339,\n",
       "  'Lon': 1.6596,\n",
       "  'Date': '2020-01-31T00:00:00Z',\n",
       "  'Cases': 0,\n",
       "  'Status': 'confirmed'},\n",
       " {'Country': 'Algeria',\n",
       "  'Province': '',\n",
       "  'Lat': 28.0339,\n",
       "  'Lon': 1.6596,\n",
       "  'Date': '2020-02-01T00:00:00Z',\n",
       "  'Cases': 0,\n",
       "  'Status': 'deaths'},\n",
       " {'Country': 'Algeria',\n",
       "  'Province': '',\n",
       "  'Lat': 28.0339,\n",
       "  'Lon': 1.6596,\n",
       "  'Date': '2020-02-01T00:00:00Z',\n",
       "  'Cases': 0,\n",
       "  'Status': 'recovered'},\n",
       " {'Country': 'Algeria',\n",
       "  'Province': '',\n",
       "  'Lat': 28.0339,\n",
       "  'Lon': 1.6596,\n",
       "  'Date': '2020-02-01T00:00:00Z',\n",
       "  'Cases': 0,\n",
       "  'Status': 'confirmed'},\n",
       " {'Country': 'Algeria',\n",
       "  'Province': '',\n",
       "  'Lat': 28.0339,\n",
       "  'Lon': 1.6596,\n",
       "  'Date': '2020-02-02T00:00:00Z',\n",
       "  'Cases': 0,\n",
       "  'Status': 'deaths'},\n",
       " {'Country': 'Algeria',\n",
       "  'Province': '',\n",
       "  'Lat': 28.0339,\n",
       "  'Lon': 1.6596,\n",
       "  'Date': '2020-02-02T00:00:00Z',\n",
       "  'Cases': 0,\n",
       "  'Status': 'recovered'},\n",
       " {'Country': 'Algeria',\n",
       "  'Province': '',\n",
       "  'Lat': 28.0339,\n",
       "  'Lon': 1.6596,\n",
       "  'Date': '2020-02-02T00:00:00Z',\n",
       "  'Cases': 0,\n",
       "  'Status': 'confirmed'},\n",
       " {'Country': 'Algeria',\n",
       "  'Province': '',\n",
       "  'Lat': 28.0339,\n",
       "  'Lon': 1.6596,\n",
       "  'Date': '2020-02-03T00:00:00Z',\n",
       "  'Cases': 0,\n",
       "  'Status': 'deaths'},\n",
       " {'Country': 'Algeria',\n",
       "  'Province': '',\n",
       "  'Lat': 28.0339,\n",
       "  'Lon': 1.6596,\n",
       "  'Date': '2020-02-03T00:00:00Z',\n",
       "  'Cases': 0,\n",
       "  'Status': 'recovered'},\n",
       " {'Country': 'Algeria',\n",
       "  'Province': '',\n",
       "  'Lat': 28.0339,\n",
       "  'Lon': 1.6596,\n",
       "  'Date': '2020-02-03T00:00:00Z',\n",
       "  'Cases': 0,\n",
       "  'Status': 'confirmed'},\n",
       " {'Country': 'Algeria',\n",
       "  'Province': '',\n",
       "  'Lat': 28.0339,\n",
       "  'Lon': 1.6596,\n",
       "  'Date': '2020-02-04T00:00:00Z',\n",
       "  'Cases': 0,\n",
       "  'Status': 'deaths'},\n",
       " {'Country': 'Algeria',\n",
       "  'Province': '',\n",
       "  'Lat': 28.0339,\n",
       "  'Lon': 1.6596,\n",
       "  'Date': '2020-02-04T00:00:00Z',\n",
       "  'Cases': 0,\n",
       "  'Status': 'recovered'},\n",
       " {'Country': 'Algeria',\n",
       "  'Province': '',\n",
       "  'Lat': 28.0339,\n",
       "  'Lon': 1.6596,\n",
       "  'Date': '2020-02-04T00:00:00Z',\n",
       "  'Cases': 0,\n",
       "  'Status': 'confirmed'},\n",
       " {'Country': 'Algeria',\n",
       "  'Province': '',\n",
       "  'Lat': 28.0339,\n",
       "  'Lon': 1.6596,\n",
       "  'Date': '2020-02-05T00:00:00Z',\n",
       "  'Cases': 0,\n",
       "  'Status': 'deaths'},\n",
       " {'Country': 'Algeria',\n",
       "  'Province': '',\n",
       "  'Lat': 28.0339,\n",
       "  'Lon': 1.6596,\n",
       "  'Date': '2020-02-05T00:00:00Z',\n",
       "  'Cases': 0,\n",
       "  'Status': 'recovered'},\n",
       " {'Country': 'Algeria',\n",
       "  'Province': '',\n",
       "  'Lat': 28.0339,\n",
       "  'Lon': 1.6596,\n",
       "  'Date': '2020-02-05T00:00:00Z',\n",
       "  'Cases': 0,\n",
       "  'Status': 'confirmed'},\n",
       " {'Country': 'Algeria',\n",
       "  'Province': '',\n",
       "  'Lat': 28.0339,\n",
       "  'Lon': 1.6596,\n",
       "  'Date': '2020-02-06T00:00:00Z',\n",
       "  'Cases': 0,\n",
       "  'Status': 'deaths'},\n",
       " {'Country': 'Algeria',\n",
       "  'Province': '',\n",
       "  'Lat': 28.0339,\n",
       "  'Lon': 1.6596,\n",
       "  'Date': '2020-02-06T00:00:00Z',\n",
       "  'Cases': 0,\n",
       "  'Status': 'recovered'},\n",
       " {'Country': 'Algeria',\n",
       "  'Province': '',\n",
       "  'Lat': 28.0339,\n",
       "  'Lon': 1.6596,\n",
       "  'Date': '2020-02-06T00:00:00Z',\n",
       "  'Cases': 0,\n",
       "  'Status': 'confirmed'},\n",
       " {'Country': 'Algeria',\n",
       "  'Province': '',\n",
       "  'Lat': 28.0339,\n",
       "  'Lon': 1.6596,\n",
       "  'Date': '2020-02-07T00:00:00Z',\n",
       "  'Cases': 0,\n",
       "  'Status': 'deaths'},\n",
       " {'Country': 'Algeria',\n",
       "  'Province': '',\n",
       "  'Lat': 28.0339,\n",
       "  'Lon': 1.6596,\n",
       "  'Date': '2020-02-07T00:00:00Z',\n",
       "  'Cases': 0,\n",
       "  'Status': 'recovered'},\n",
       " {'Country': 'Algeria',\n",
       "  'Province': '',\n",
       "  'Lat': 28.0339,\n",
       "  'Lon': 1.6596,\n",
       "  'Date': '2020-02-07T00:00:00Z',\n",
       "  'Cases': 0,\n",
       "  'Status': 'confirmed'},\n",
       " {'Country': 'Algeria',\n",
       "  'Province': '',\n",
       "  'Lat': 28.0339,\n",
       "  'Lon': 1.6596,\n",
       "  'Date': '2020-02-08T00:00:00Z',\n",
       "  'Cases': 0,\n",
       "  'Status': 'deaths'},\n",
       " {'Country': 'Algeria',\n",
       "  'Province': '',\n",
       "  'Lat': 28.0339,\n",
       "  'Lon': 1.6596,\n",
       "  'Date': '2020-02-08T00:00:00Z',\n",
       "  'Cases': 0,\n",
       "  'Status': 'recovered'},\n",
       " {'Country': 'Algeria',\n",
       "  'Province': '',\n",
       "  'Lat': 28.0339,\n",
       "  'Lon': 1.6596,\n",
       "  'Date': '2020-02-08T00:00:00Z',\n",
       "  'Cases': 0,\n",
       "  'Status': 'confirmed'},\n",
       " {'Country': 'Algeria',\n",
       "  'Province': '',\n",
       "  'Lat': 28.0339,\n",
       "  'Lon': 1.6596,\n",
       "  'Date': '2020-02-09T00:00:00Z',\n",
       "  'Cases': 0,\n",
       "  'Status': 'deaths'},\n",
       " {'Country': 'Algeria',\n",
       "  'Province': '',\n",
       "  'Lat': 28.0339,\n",
       "  'Lon': 1.6596,\n",
       "  'Date': '2020-02-09T00:00:00Z',\n",
       "  'Cases': 0,\n",
       "  'Status': 'recovered'},\n",
       " {'Country': 'Algeria',\n",
       "  'Province': '',\n",
       "  'Lat': 28.0339,\n",
       "  'Lon': 1.6596,\n",
       "  'Date': '2020-02-09T00:00:00Z',\n",
       "  'Cases': 0,\n",
       "  'Status': 'confirmed'},\n",
       " {'Country': 'Algeria',\n",
       "  'Province': '',\n",
       "  'Lat': 28.0339,\n",
       "  'Lon': 1.6596,\n",
       "  'Date': '2020-02-10T00:00:00Z',\n",
       "  'Cases': 0,\n",
       "  'Status': 'deaths'},\n",
       " {'Country': 'Algeria',\n",
       "  'Province': '',\n",
       "  'Lat': 28.0339,\n",
       "  'Lon': 1.6596,\n",
       "  'Date': '2020-02-10T00:00:00Z',\n",
       "  'Cases': 0,\n",
       "  'Status': 'recovered'},\n",
       " {'Country': 'Algeria',\n",
       "  'Province': '',\n",
       "  'Lat': 28.0339,\n",
       "  'Lon': 1.6596,\n",
       "  'Date': '2020-02-10T00:00:00Z',\n",
       "  'Cases': 0,\n",
       "  'Status': 'confirmed'},\n",
       " {'Country': 'Algeria',\n",
       "  'Province': '',\n",
       "  'Lat': 28.0339,\n",
       "  'Lon': 1.6596,\n",
       "  'Date': '2020-02-11T00:00:00Z',\n",
       "  'Cases': 0,\n",
       "  'Status': 'deaths'},\n",
       " {'Country': 'Algeria',\n",
       "  'Province': '',\n",
       "  'Lat': 28.0339,\n",
       "  'Lon': 1.6596,\n",
       "  'Date': '2020-02-11T00:00:00Z',\n",
       "  'Cases': 0,\n",
       "  'Status': 'recovered'},\n",
       " {'Country': 'Algeria',\n",
       "  'Province': '',\n",
       "  'Lat': 28.0339,\n",
       "  'Lon': 1.6596,\n",
       "  'Date': '2020-02-11T00:00:00Z',\n",
       "  'Cases': 0,\n",
       "  'Status': 'confirmed'},\n",
       " {'Country': 'Algeria',\n",
       "  'Province': '',\n",
       "  'Lat': 28.0339,\n",
       "  'Lon': 1.6596,\n",
       "  'Date': '2020-02-12T00:00:00Z',\n",
       "  'Cases': 0,\n",
       "  'Status': 'deaths'},\n",
       " {'Country': 'Algeria',\n",
       "  'Province': '',\n",
       "  'Lat': 28.0339,\n",
       "  'Lon': 1.6596,\n",
       "  'Date': '2020-02-12T00:00:00Z',\n",
       "  'Cases': 0,\n",
       "  'Status': 'recovered'},\n",
       " {'Country': 'Algeria',\n",
       "  'Province': '',\n",
       "  'Lat': 28.0339,\n",
       "  'Lon': 1.6596,\n",
       "  'Date': '2020-02-12T00:00:00Z',\n",
       "  'Cases': 0,\n",
       "  'Status': 'confirmed'},\n",
       " {'Country': 'Algeria',\n",
       "  'Province': '',\n",
       "  'Lat': 28.0339,\n",
       "  'Lon': 1.6596,\n",
       "  'Date': '2020-02-13T00:00:00Z',\n",
       "  'Cases': 0,\n",
       "  'Status': 'deaths'},\n",
       " {'Country': 'Algeria',\n",
       "  'Province': '',\n",
       "  'Lat': 28.0339,\n",
       "  'Lon': 1.6596,\n",
       "  'Date': '2020-02-13T00:00:00Z',\n",
       "  'Cases': 0,\n",
       "  'Status': 'recovered'},\n",
       " {'Country': 'Algeria',\n",
       "  'Province': '',\n",
       "  'Lat': 28.0339,\n",
       "  'Lon': 1.6596,\n",
       "  'Date': '2020-02-13T00:00:00Z',\n",
       "  'Cases': 0,\n",
       "  'Status': 'confirmed'},\n",
       " {'Country': 'Algeria',\n",
       "  'Province': '',\n",
       "  'Lat': 28.0339,\n",
       "  'Lon': 1.6596,\n",
       "  'Date': '2020-02-14T00:00:00Z',\n",
       "  'Cases': 0,\n",
       "  'Status': 'deaths'},\n",
       " {'Country': 'Algeria',\n",
       "  'Province': '',\n",
       "  'Lat': 28.0339,\n",
       "  'Lon': 1.6596,\n",
       "  'Date': '2020-02-14T00:00:00Z',\n",
       "  'Cases': 0,\n",
       "  'Status': 'recovered'},\n",
       " {'Country': 'Algeria',\n",
       "  'Province': '',\n",
       "  'Lat': 28.0339,\n",
       "  'Lon': 1.6596,\n",
       "  'Date': '2020-02-14T00:00:00Z',\n",
       "  'Cases': 0,\n",
       "  'Status': 'confirmed'},\n",
       " {'Country': 'Algeria',\n",
       "  'Province': '',\n",
       "  'Lat': 28.0339,\n",
       "  'Lon': 1.6596,\n",
       "  'Date': '2020-02-15T00:00:00Z',\n",
       "  'Cases': 0,\n",
       "  'Status': 'deaths'},\n",
       " {'Country': 'Algeria',\n",
       "  'Province': '',\n",
       "  'Lat': 28.0339,\n",
       "  'Lon': 1.6596,\n",
       "  'Date': '2020-02-15T00:00:00Z',\n",
       "  'Cases': 0,\n",
       "  'Status': 'recovered'},\n",
       " {'Country': 'Algeria',\n",
       "  'Province': '',\n",
       "  'Lat': 28.0339,\n",
       "  'Lon': 1.6596,\n",
       "  'Date': '2020-02-15T00:00:00Z',\n",
       "  'Cases': 0,\n",
       "  'Status': 'confirmed'},\n",
       " {'Country': 'Algeria',\n",
       "  'Province': '',\n",
       "  'Lat': 28.0339,\n",
       "  'Lon': 1.6596,\n",
       "  'Date': '2020-02-16T00:00:00Z',\n",
       "  'Cases': 0,\n",
       "  'Status': 'deaths'},\n",
       " {'Country': 'Algeria',\n",
       "  'Province': '',\n",
       "  'Lat': 28.0339,\n",
       "  'Lon': 1.6596,\n",
       "  'Date': '2020-02-16T00:00:00Z',\n",
       "  'Cases': 0,\n",
       "  'Status': 'recovered'},\n",
       " {'Country': 'Algeria',\n",
       "  'Province': '',\n",
       "  'Lat': 28.0339,\n",
       "  'Lon': 1.6596,\n",
       "  'Date': '2020-02-16T00:00:00Z',\n",
       "  'Cases': 0,\n",
       "  'Status': 'confirmed'},\n",
       " {'Country': 'Algeria',\n",
       "  'Province': '',\n",
       "  'Lat': 28.0339,\n",
       "  'Lon': 1.6596,\n",
       "  'Date': '2020-02-17T00:00:00Z',\n",
       "  'Cases': 0,\n",
       "  'Status': 'deaths'},\n",
       " {'Country': 'Algeria',\n",
       "  'Province': '',\n",
       "  'Lat': 28.0339,\n",
       "  'Lon': 1.6596,\n",
       "  'Date': '2020-02-17T00:00:00Z',\n",
       "  'Cases': 0,\n",
       "  'Status': 'recovered'},\n",
       " {'Country': 'Algeria',\n",
       "  'Province': '',\n",
       "  'Lat': 28.0339,\n",
       "  'Lon': 1.6596,\n",
       "  'Date': '2020-02-17T00:00:00Z',\n",
       "  'Cases': 0,\n",
       "  'Status': 'confirmed'},\n",
       " {'Country': 'Algeria',\n",
       "  'Province': '',\n",
       "  'Lat': 28.0339,\n",
       "  'Lon': 1.6596,\n",
       "  'Date': '2020-02-18T00:00:00Z',\n",
       "  'Cases': 0,\n",
       "  'Status': 'deaths'},\n",
       " {'Country': 'Algeria',\n",
       "  'Province': '',\n",
       "  'Lat': 28.0339,\n",
       "  'Lon': 1.6596,\n",
       "  'Date': '2020-02-18T00:00:00Z',\n",
       "  'Cases': 0,\n",
       "  'Status': 'recovered'},\n",
       " {'Country': 'Algeria',\n",
       "  'Province': '',\n",
       "  'Lat': 28.0339,\n",
       "  'Lon': 1.6596,\n",
       "  'Date': '2020-02-18T00:00:00Z',\n",
       "  'Cases': 0,\n",
       "  'Status': 'confirmed'},\n",
       " {'Country': 'Algeria',\n",
       "  'Province': '',\n",
       "  'Lat': 28.0339,\n",
       "  'Lon': 1.6596,\n",
       "  'Date': '2020-02-19T00:00:00Z',\n",
       "  'Cases': 0,\n",
       "  'Status': 'deaths'},\n",
       " {'Country': 'Algeria',\n",
       "  'Province': '',\n",
       "  'Lat': 28.0339,\n",
       "  'Lon': 1.6596,\n",
       "  'Date': '2020-02-19T00:00:00Z',\n",
       "  'Cases': 0,\n",
       "  'Status': 'recovered'},\n",
       " {'Country': 'Algeria',\n",
       "  'Province': '',\n",
       "  'Lat': 28.0339,\n",
       "  'Lon': 1.6596,\n",
       "  'Date': '2020-02-19T00:00:00Z',\n",
       "  'Cases': 0,\n",
       "  'Status': 'confirmed'},\n",
       " {'Country': 'Algeria',\n",
       "  'Province': '',\n",
       "  'Lat': 28.0339,\n",
       "  'Lon': 1.6596,\n",
       "  'Date': '2020-02-20T00:00:00Z',\n",
       "  'Cases': 0,\n",
       "  'Status': 'deaths'},\n",
       " {'Country': 'Algeria',\n",
       "  'Province': '',\n",
       "  'Lat': 28.0339,\n",
       "  'Lon': 1.6596,\n",
       "  'Date': '2020-02-20T00:00:00Z',\n",
       "  'Cases': 0,\n",
       "  'Status': 'recovered'},\n",
       " {'Country': 'Algeria',\n",
       "  'Province': '',\n",
       "  'Lat': 28.0339,\n",
       "  'Lon': 1.6596,\n",
       "  'Date': '2020-02-20T00:00:00Z',\n",
       "  'Cases': 0,\n",
       "  'Status': 'confirmed'},\n",
       " {'Country': 'Algeria',\n",
       "  'Province': '',\n",
       "  'Lat': 28.0339,\n",
       "  'Lon': 1.6596,\n",
       "  'Date': '2020-02-21T00:00:00Z',\n",
       "  'Cases': 0,\n",
       "  'Status': 'deaths'},\n",
       " {'Country': 'Algeria',\n",
       "  'Province': '',\n",
       "  'Lat': 28.0339,\n",
       "  'Lon': 1.6596,\n",
       "  'Date': '2020-02-21T00:00:00Z',\n",
       "  'Cases': 0,\n",
       "  'Status': 'recovered'},\n",
       " {'Country': 'Algeria',\n",
       "  'Province': '',\n",
       "  'Lat': 28.0339,\n",
       "  'Lon': 1.6596,\n",
       "  'Date': '2020-02-21T00:00:00Z',\n",
       "  'Cases': 0,\n",
       "  'Status': 'confirmed'},\n",
       " {'Country': 'Algeria',\n",
       "  'Province': '',\n",
       "  'Lat': 28.0339,\n",
       "  'Lon': 1.6596,\n",
       "  'Date': '2020-02-22T00:00:00Z',\n",
       "  'Cases': 0,\n",
       "  'Status': 'deaths'},\n",
       " {'Country': 'Algeria',\n",
       "  'Province': '',\n",
       "  'Lat': 28.0339,\n",
       "  'Lon': 1.6596,\n",
       "  'Date': '2020-02-22T00:00:00Z',\n",
       "  'Cases': 0,\n",
       "  'Status': 'recovered'},\n",
       " {'Country': 'Algeria',\n",
       "  'Province': '',\n",
       "  'Lat': 28.0339,\n",
       "  'Lon': 1.6596,\n",
       "  'Date': '2020-02-22T00:00:00Z',\n",
       "  'Cases': 0,\n",
       "  'Status': 'confirmed'},\n",
       " {'Country': 'Algeria',\n",
       "  'Province': '',\n",
       "  'Lat': 28.0339,\n",
       "  'Lon': 1.6596,\n",
       "  'Date': '2020-02-23T00:00:00Z',\n",
       "  'Cases': 0,\n",
       "  'Status': 'deaths'},\n",
       " {'Country': 'Algeria',\n",
       "  'Province': '',\n",
       "  'Lat': 28.0339,\n",
       "  'Lon': 1.6596,\n",
       "  'Date': '2020-02-23T00:00:00Z',\n",
       "  'Cases': 0,\n",
       "  'Status': 'recovered'},\n",
       " {'Country': 'Algeria',\n",
       "  'Province': '',\n",
       "  'Lat': 28.0339,\n",
       "  'Lon': 1.6596,\n",
       "  'Date': '2020-02-23T00:00:00Z',\n",
       "  'Cases': 0,\n",
       "  'Status': 'confirmed'},\n",
       " {'Country': 'Algeria',\n",
       "  'Province': '',\n",
       "  'Lat': 28.0339,\n",
       "  'Lon': 1.6596,\n",
       "  'Date': '2020-02-24T00:00:00Z',\n",
       "  'Cases': 0,\n",
       "  'Status': 'deaths'},\n",
       " {'Country': 'Algeria',\n",
       "  'Province': '',\n",
       "  'Lat': 28.0339,\n",
       "  'Lon': 1.6596,\n",
       "  'Date': '2020-02-24T00:00:00Z',\n",
       "  'Cases': 0,\n",
       "  'Status': 'recovered'},\n",
       " {'Country': 'Algeria',\n",
       "  'Province': '',\n",
       "  'Lat': 28.0339,\n",
       "  'Lon': 1.6596,\n",
       "  'Date': '2020-02-24T00:00:00Z',\n",
       "  'Cases': 0,\n",
       "  'Status': 'confirmed'},\n",
       " {'Country': 'Algeria',\n",
       "  'Province': '',\n",
       "  'Lat': 28.0339,\n",
       "  'Lon': 1.6596,\n",
       "  'Date': '2020-02-25T00:00:00Z',\n",
       "  'Cases': 0,\n",
       "  'Status': 'deaths'},\n",
       " {'Country': 'Algeria',\n",
       "  'Province': '',\n",
       "  'Lat': 28.0339,\n",
       "  'Lon': 1.6596,\n",
       "  'Date': '2020-02-25T00:00:00Z',\n",
       "  'Cases': 0,\n",
       "  'Status': 'recovered'},\n",
       " {'Country': 'Algeria',\n",
       "  'Province': '',\n",
       "  'Lat': 28.0339,\n",
       "  'Lon': 1.6596,\n",
       "  'Date': '2020-02-25T00:00:00Z',\n",
       "  'Cases': 1,\n",
       "  'Status': 'confirmed'},\n",
       " {'Country': 'Algeria',\n",
       "  'Province': '',\n",
       "  'Lat': 28.0339,\n",
       "  'Lon': 1.6596,\n",
       "  'Date': '2020-02-26T00:00:00Z',\n",
       "  'Cases': 0,\n",
       "  'Status': 'deaths'},\n",
       " {'Country': 'Algeria',\n",
       "  'Province': '',\n",
       "  'Lat': 28.0339,\n",
       "  'Lon': 1.6596,\n",
       "  'Date': '2020-02-26T00:00:00Z',\n",
       "  'Cases': 0,\n",
       "  'Status': 'recovered'},\n",
       " {'Country': 'Algeria',\n",
       "  'Province': '',\n",
       "  'Lat': 28.0339,\n",
       "  'Lon': 1.6596,\n",
       "  'Date': '2020-02-26T00:00:00Z',\n",
       "  'Cases': 1,\n",
       "  'Status': 'confirmed'},\n",
       " {'Country': 'Algeria',\n",
       "  'Province': '',\n",
       "  'Lat': 28.0339,\n",
       "  'Lon': 1.6596,\n",
       "  'Date': '2020-02-27T00:00:00Z',\n",
       "  'Cases': 1,\n",
       "  'Status': 'confirmed'},\n",
       " {'Country': 'Algeria',\n",
       "  'Province': '',\n",
       "  'Lat': 28.0339,\n",
       "  'Lon': 1.6596,\n",
       "  'Date': '2020-02-27T00:00:00Z',\n",
       "  'Cases': 0,\n",
       "  'Status': 'deaths'},\n",
       " {'Country': 'Algeria',\n",
       "  'Province': '',\n",
       "  'Lat': 28.0339,\n",
       "  'Lon': 1.6596,\n",
       "  'Date': '2020-02-27T00:00:00Z',\n",
       "  'Cases': 0,\n",
       "  'Status': 'recovered'},\n",
       " {'Country': 'Algeria',\n",
       "  'Province': '',\n",
       "  'Lat': 28.0339,\n",
       "  'Lon': 1.6596,\n",
       "  'Date': '2020-02-28T00:00:00Z',\n",
       "  'Cases': 1,\n",
       "  'Status': 'confirmed'},\n",
       " {'Country': 'Algeria',\n",
       "  'Province': '',\n",
       "  'Lat': 28.0339,\n",
       "  'Lon': 1.6596,\n",
       "  'Date': '2020-02-28T00:00:00Z',\n",
       "  'Cases': 0,\n",
       "  'Status': 'deaths'},\n",
       " {'Country': 'Algeria',\n",
       "  'Province': '',\n",
       "  'Lat': 28.0339,\n",
       "  'Lon': 1.6596,\n",
       "  'Date': '2020-02-28T00:00:00Z',\n",
       "  'Cases': 0,\n",
       "  'Status': 'recovered'},\n",
       " {'Country': 'Algeria',\n",
       "  'Province': '',\n",
       "  'Lat': 28.0339,\n",
       "  'Lon': 1.6596,\n",
       "  'Date': '2020-02-29T00:00:00Z',\n",
       "  'Cases': 1,\n",
       "  'Status': 'confirmed'},\n",
       " {'Country': 'Algeria',\n",
       "  'Province': '',\n",
       "  'Lat': 28.0339,\n",
       "  'Lon': 1.6596,\n",
       "  'Date': '2020-02-29T00:00:00Z',\n",
       "  'Cases': 0,\n",
       "  'Status': 'deaths'},\n",
       " {'Country': 'Algeria',\n",
       "  'Province': '',\n",
       "  'Lat': 28.0339,\n",
       "  'Lon': 1.6596,\n",
       "  'Date': '2020-02-29T00:00:00Z',\n",
       "  'Cases': 0,\n",
       "  'Status': 'recovered'},\n",
       " {'Country': 'Algeria',\n",
       "  'Province': '',\n",
       "  'Lat': 28.0339,\n",
       "  'Lon': 1.6596,\n",
       "  'Date': '2020-03-01T00:00:00Z',\n",
       "  'Cases': 1,\n",
       "  'Status': 'confirmed'},\n",
       " {'Country': 'Algeria',\n",
       "  'Province': '',\n",
       "  'Lat': 28.0339,\n",
       "  'Lon': 1.6596,\n",
       "  'Date': '2020-03-01T00:00:00Z',\n",
       "  'Cases': 0,\n",
       "  'Status': 'deaths'},\n",
       " {'Country': 'Algeria',\n",
       "  'Province': '',\n",
       "  'Lat': 28.0339,\n",
       "  'Lon': 1.6596,\n",
       "  'Date': '2020-03-01T00:00:00Z',\n",
       "  'Cases': 0,\n",
       "  'Status': 'recovered'},\n",
       " {'Country': 'Algeria',\n",
       "  'Province': '',\n",
       "  'Lat': 28.0339,\n",
       "  'Lon': 1.6596,\n",
       "  'Date': '2020-03-02T00:00:00Z',\n",
       "  'Cases': 3,\n",
       "  'Status': 'confirmed'},\n",
       " {'Country': 'Algeria',\n",
       "  'Province': '',\n",
       "  'Lat': 28.0339,\n",
       "  'Lon': 1.6596,\n",
       "  'Date': '2020-03-02T00:00:00Z',\n",
       "  'Cases': 0,\n",
       "  'Status': 'deaths'},\n",
       " {'Country': 'Algeria',\n",
       "  'Province': '',\n",
       "  'Lat': 28.0339,\n",
       "  'Lon': 1.6596,\n",
       "  'Date': '2020-03-02T00:00:00Z',\n",
       "  'Cases': 0,\n",
       "  'Status': 'recovered'},\n",
       " {'Country': 'Algeria',\n",
       "  'Province': '',\n",
       "  'Lat': 28.0339,\n",
       "  'Lon': 1.6596,\n",
       "  'Date': '2020-03-03T00:00:00Z',\n",
       "  'Cases': 5,\n",
       "  'Status': 'confirmed'},\n",
       " {'Country': 'Algeria',\n",
       "  'Province': '',\n",
       "  'Lat': 28.0339,\n",
       "  'Lon': 1.6596,\n",
       "  'Date': '2020-03-03T00:00:00Z',\n",
       "  'Cases': 0,\n",
       "  'Status': 'deaths'},\n",
       " {'Country': 'Algeria',\n",
       "  'Province': '',\n",
       "  'Lat': 28.0339,\n",
       "  'Lon': 1.6596,\n",
       "  'Date': '2020-03-03T00:00:00Z',\n",
       "  'Cases': 0,\n",
       "  'Status': 'recovered'},\n",
       " {'Country': 'Algeria',\n",
       "  'Province': '',\n",
       "  'Lat': 28.0339,\n",
       "  'Lon': 1.6596,\n",
       "  'Date': '2020-03-04T00:00:00Z',\n",
       "  'Cases': 12,\n",
       "  'Status': 'confirmed'},\n",
       " {'Country': 'Algeria',\n",
       "  'Province': '',\n",
       "  'Lat': 28.0339,\n",
       "  'Lon': 1.6596,\n",
       "  'Date': '2020-03-04T00:00:00Z',\n",
       "  'Cases': 0,\n",
       "  'Status': 'deaths'},\n",
       " {'Country': 'Algeria',\n",
       "  'Province': '',\n",
       "  'Lat': 28.0339,\n",
       "  'Lon': 1.6596,\n",
       "  'Date': '2020-03-04T00:00:00Z',\n",
       "  'Cases': 0,\n",
       "  'Status': 'recovered'},\n",
       " {'Country': 'Algeria',\n",
       "  'Province': '',\n",
       "  'Lat': 28.0339,\n",
       "  'Lon': 1.6596,\n",
       "  'Date': '2020-03-05T00:00:00Z',\n",
       "  'Cases': 12,\n",
       "  'Status': 'confirmed'},\n",
       " {'Country': 'Algeria',\n",
       "  'Province': '',\n",
       "  'Lat': 28.0339,\n",
       "  'Lon': 1.6596,\n",
       "  'Date': '2020-03-05T00:00:00Z',\n",
       "  'Cases': 0,\n",
       "  'Status': 'deaths'},\n",
       " {'Country': 'Algeria',\n",
       "  'Province': '',\n",
       "  'Lat': 28.0339,\n",
       "  'Lon': 1.6596,\n",
       "  'Date': '2020-03-05T00:00:00Z',\n",
       "  'Cases': 0,\n",
       "  'Status': 'recovered'},\n",
       " {'Country': 'Algeria',\n",
       "  'Province': '',\n",
       "  'Lat': 28.0339,\n",
       "  'Lon': 1.6596,\n",
       "  'Date': '2020-03-06T00:00:00Z',\n",
       "  'Cases': 17,\n",
       "  'Status': 'confirmed'},\n",
       " {'Country': 'Algeria',\n",
       "  'Province': '',\n",
       "  'Lat': 28.0339,\n",
       "  'Lon': 1.6596,\n",
       "  'Date': '2020-03-06T00:00:00Z',\n",
       "  'Cases': 0,\n",
       "  'Status': 'deaths'},\n",
       " {'Country': 'Algeria',\n",
       "  'Province': '',\n",
       "  'Lat': 28.0339,\n",
       "  'Lon': 1.6596,\n",
       "  'Date': '2020-03-06T00:00:00Z',\n",
       "  'Cases': 0,\n",
       "  'Status': 'recovered'},\n",
       " {'Country': 'Algeria',\n",
       "  'Province': '',\n",
       "  'Lat': 28.0339,\n",
       "  'Lon': 1.6596,\n",
       "  'Date': '2020-03-07T00:00:00Z',\n",
       "  'Cases': 17,\n",
       "  'Status': 'confirmed'},\n",
       " {'Country': 'Algeria',\n",
       "  'Province': '',\n",
       "  'Lat': 28.0339,\n",
       "  'Lon': 1.6596,\n",
       "  'Date': '2020-03-07T00:00:00Z',\n",
       "  'Cases': 0,\n",
       "  'Status': 'deaths'},\n",
       " {'Country': 'Algeria',\n",
       "  'Province': '',\n",
       "  'Lat': 28.0339,\n",
       "  'Lon': 1.6596,\n",
       "  'Date': '2020-03-07T00:00:00Z',\n",
       "  'Cases': 0,\n",
       "  'Status': 'recovered'},\n",
       " {'Country': 'Algeria',\n",
       "  'Province': '',\n",
       "  'Lat': 28.0339,\n",
       "  'Lon': 1.6596,\n",
       "  'Date': '2020-03-08T00:00:00Z',\n",
       "  'Cases': 19,\n",
       "  'Status': 'confirmed'},\n",
       " {'Country': 'Algeria',\n",
       "  'Province': '',\n",
       "  'Lat': 28.0339,\n",
       "  'Lon': 1.6596,\n",
       "  'Date': '2020-03-08T00:00:00Z',\n",
       "  'Cases': 0,\n",
       "  'Status': 'deaths'},\n",
       " {'Country': 'Algeria',\n",
       "  'Province': '',\n",
       "  'Lat': 28.0339,\n",
       "  'Lon': 1.6596,\n",
       "  'Date': '2020-03-08T00:00:00Z',\n",
       "  'Cases': 0,\n",
       "  'Status': 'recovered'},\n",
       " {'Country': 'Algeria',\n",
       "  'Province': '',\n",
       "  'Lat': 28.0339,\n",
       "  'Lon': 1.6596,\n",
       "  'Date': '2020-03-09T00:00:00Z',\n",
       "  'Cases': 20,\n",
       "  'Status': 'confirmed'},\n",
       " {'Country': 'Algeria',\n",
       "  'Province': '',\n",
       "  'Lat': 28.0339,\n",
       "  'Lon': 1.6596,\n",
       "  'Date': '2020-03-09T00:00:00Z',\n",
       "  'Cases': 0,\n",
       "  'Status': 'deaths'},\n",
       " {'Country': 'Algeria',\n",
       "  'Province': '',\n",
       "  'Lat': 28.0339,\n",
       "  'Lon': 1.6596,\n",
       "  'Date': '2020-03-09T00:00:00Z',\n",
       "  'Cases': 0,\n",
       "  'Status': 'recovered'},\n",
       " {'Country': 'Algeria',\n",
       "  'Province': '',\n",
       "  'Lat': 28.0339,\n",
       "  'Lon': 1.6596,\n",
       "  'Date': '2020-03-10T00:00:00Z',\n",
       "  'Cases': 20,\n",
       "  'Status': 'confirmed'},\n",
       " {'Country': 'Algeria',\n",
       "  'Province': '',\n",
       "  'Lat': 28.0339,\n",
       "  'Lon': 1.6596,\n",
       "  'Date': '2020-03-10T00:00:00Z',\n",
       "  'Cases': 0,\n",
       "  'Status': 'deaths'},\n",
       " {'Country': 'Algeria',\n",
       "  'Province': '',\n",
       "  'Lat': 28.0339,\n",
       "  'Lon': 1.6596,\n",
       "  'Date': '2020-03-10T00:00:00Z',\n",
       "  'Cases': 0,\n",
       "  'Status': 'recovered'},\n",
       " {'Country': 'Algeria',\n",
       "  'Province': '',\n",
       "  'Lat': 28.0339,\n",
       "  'Lon': 1.6596,\n",
       "  'Date': '2020-03-11T00:00:00Z',\n",
       "  'Cases': 20,\n",
       "  'Status': 'confirmed'},\n",
       " {'Country': 'Algeria',\n",
       "  'Province': '',\n",
       "  'Lat': 28.0339,\n",
       "  'Lon': 1.6596,\n",
       "  'Date': '2020-03-11T00:00:00Z',\n",
       "  'Cases': 0,\n",
       "  'Status': 'deaths'},\n",
       " {'Country': 'Algeria',\n",
       "  'Province': '',\n",
       "  'Lat': 28.0339,\n",
       "  'Lon': 1.6596,\n",
       "  'Date': '2020-03-11T00:00:00Z',\n",
       "  'Cases': 0,\n",
       "  'Status': 'recovered'},\n",
       " {'Country': 'Algeria',\n",
       "  'Province': '',\n",
       "  'Lat': 28.0339,\n",
       "  'Lon': 1.6596,\n",
       "  'Date': '2020-03-12T00:00:00Z',\n",
       "  'Cases': 8,\n",
       "  'Status': 'recovered'},\n",
       " {'Country': 'Algeria',\n",
       "  'Province': '',\n",
       "  'Lat': 28.0339,\n",
       "  'Lon': 1.6596,\n",
       "  'Date': '2020-03-12T00:00:00Z',\n",
       "  'Cases': 24,\n",
       "  'Status': 'confirmed'},\n",
       " {'Country': 'Algeria',\n",
       "  'Province': '',\n",
       "  'Lat': 28.0339,\n",
       "  'Lon': 1.6596,\n",
       "  'Date': '2020-03-12T00:00:00Z',\n",
       "  'Cases': 1,\n",
       "  'Status': 'deaths'},\n",
       " {'Country': 'Algeria',\n",
       "  'Province': '',\n",
       "  'Lat': 28.0339,\n",
       "  'Lon': 1.6596,\n",
       "  'Date': '2020-03-13T00:00:00Z',\n",
       "  'Cases': 8,\n",
       "  'Status': 'recovered'},\n",
       " {'Country': 'Algeria',\n",
       "  'Province': '',\n",
       "  'Lat': 28.0339,\n",
       "  'Lon': 1.6596,\n",
       "  'Date': '2020-03-13T00:00:00Z',\n",
       "  'Cases': 26,\n",
       "  'Status': 'confirmed'},\n",
       " {'Country': 'Algeria',\n",
       "  'Province': '',\n",
       "  'Lat': 28.0339,\n",
       "  'Lon': 1.6596,\n",
       "  'Date': '2020-03-13T00:00:00Z',\n",
       "  'Cases': 2,\n",
       "  'Status': 'deaths'},\n",
       " {'Country': 'Algeria',\n",
       "  'Province': '',\n",
       "  'Lat': 28.0339,\n",
       "  'Lon': 1.6596,\n",
       "  'Date': '2020-03-14T00:00:00Z',\n",
       "  'Cases': 12,\n",
       "  'Status': 'recovered'},\n",
       " {'Country': 'Algeria',\n",
       "  'Province': '',\n",
       "  'Lat': 28.0339,\n",
       "  'Lon': 1.6596,\n",
       "  'Date': '2020-03-14T00:00:00Z',\n",
       "  'Cases': 37,\n",
       "  'Status': 'confirmed'},\n",
       " {'Country': 'Algeria',\n",
       "  'Province': '',\n",
       "  'Lat': 28.0339,\n",
       "  'Lon': 1.6596,\n",
       "  'Date': '2020-03-14T00:00:00Z',\n",
       "  'Cases': 3,\n",
       "  'Status': 'deaths'},\n",
       " {'Country': 'Algeria',\n",
       "  'Province': '',\n",
       "  'Lat': 28.0339,\n",
       "  'Lon': 1.6596,\n",
       "  'Date': '2020-03-15T00:00:00Z',\n",
       "  'Cases': 12,\n",
       "  'Status': 'recovered'},\n",
       " {'Country': 'Algeria',\n",
       "  'Province': '',\n",
       "  'Lat': 28.0339,\n",
       "  'Lon': 1.6596,\n",
       "  'Date': '2020-03-15T00:00:00Z',\n",
       "  'Cases': 48,\n",
       "  'Status': 'confirmed'},\n",
       " {'Country': 'Algeria',\n",
       "  'Province': '',\n",
       "  'Lat': 28.0339,\n",
       "  'Lon': 1.6596,\n",
       "  'Date': '2020-03-15T00:00:00Z',\n",
       "  'Cases': 4,\n",
       "  'Status': 'deaths'},\n",
       " {'Country': 'Algeria',\n",
       "  'Province': '',\n",
       "  'Lat': 28.0339,\n",
       "  'Lon': 1.6596,\n",
       "  'Date': '2020-03-16T00:00:00Z',\n",
       "  'Cases': 12,\n",
       "  'Status': 'recovered'},\n",
       " {'Country': 'Algeria',\n",
       "  'Province': '',\n",
       "  'Lat': 28.0339,\n",
       "  'Lon': 1.6596,\n",
       "  'Date': '2020-03-16T00:00:00Z',\n",
       "  'Cases': 54,\n",
       "  'Status': 'confirmed'},\n",
       " {'Country': 'Algeria',\n",
       "  'Province': '',\n",
       "  'Lat': 28.0339,\n",
       "  'Lon': 1.6596,\n",
       "  'Date': '2020-03-16T00:00:00Z',\n",
       "  'Cases': 4,\n",
       "  'Status': 'deaths'},\n",
       " {'Country': 'Algeria',\n",
       "  'Province': '',\n",
       "  'Lat': 28.0339,\n",
       "  'Lon': 1.6596,\n",
       "  'Date': '2020-03-17T00:00:00Z',\n",
       "  'Cases': 4,\n",
       "  'Status': 'deaths'},\n",
       " {'Country': 'Algeria',\n",
       "  'Province': '',\n",
       "  'Lat': 28.0339,\n",
       "  'Lon': 1.6596,\n",
       "  'Date': '2020-03-17T00:00:00Z',\n",
       "  'Cases': 60,\n",
       "  'Status': 'confirmed'},\n",
       " {'Country': 'Algeria',\n",
       "  'Province': '',\n",
       "  'Lat': 28.0339,\n",
       "  'Lon': 1.6596,\n",
       "  'Date': '2020-03-17T00:00:00Z',\n",
       "  'Cases': 12,\n",
       "  'Status': 'recovered'},\n",
       " {'Country': 'Algeria',\n",
       "  'Province': '',\n",
       "  'Lat': 28.0339,\n",
       "  'Lon': 1.6596,\n",
       "  'Date': '2020-03-18T00:00:00Z',\n",
       "  'Cases': 12,\n",
       "  'Status': 'recovered'},\n",
       " {'Country': 'Algeria',\n",
       "  'Province': '',\n",
       "  'Lat': 28.0339,\n",
       "  'Lon': 1.6596,\n",
       "  'Date': '2020-03-18T00:00:00Z',\n",
       "  'Cases': 7,\n",
       "  'Status': 'deaths'},\n",
       " {'Country': 'Algeria',\n",
       "  'Province': '',\n",
       "  'Lat': 28.0339,\n",
       "  'Lon': 1.6596,\n",
       "  'Date': '2020-03-18T00:00:00Z',\n",
       "  'Cases': 74,\n",
       "  'Status': 'confirmed'},\n",
       " {'Country': 'Algeria',\n",
       "  'Province': '',\n",
       "  'Lat': 28.0339,\n",
       "  'Lon': 1.6596,\n",
       "  'Date': '2020-03-19T00:00:00Z',\n",
       "  'Cases': 87,\n",
       "  'Status': 'confirmed'},\n",
       " {'Country': 'Algeria',\n",
       "  'Province': '',\n",
       "  'Lat': 28.0339,\n",
       "  'Lon': 1.6596,\n",
       "  'Date': '2020-03-19T00:00:00Z',\n",
       "  'Cases': 9,\n",
       "  'Status': 'deaths'},\n",
       " {'Country': 'Algeria',\n",
       "  'Province': '',\n",
       "  'Lat': 28.0339,\n",
       "  'Lon': 1.6596,\n",
       "  'Date': '2020-03-19T00:00:00Z',\n",
       "  'Cases': 32,\n",
       "  'Status': 'recovered'},\n",
       " {'Country': 'Algeria',\n",
       "  'Province': '',\n",
       "  'Lat': 28.0339,\n",
       "  'Lon': 1.6596,\n",
       "  'Date': '2020-03-20T00:00:00Z',\n",
       "  'Cases': 90,\n",
       "  'Status': 'confirmed'},\n",
       " {'Country': 'Algeria',\n",
       "  'Province': '',\n",
       "  'Lat': 28.0339,\n",
       "  'Lon': 1.6596,\n",
       "  'Date': '2020-03-20T00:00:00Z',\n",
       "  'Cases': 11,\n",
       "  'Status': 'deaths'},\n",
       " {'Country': 'Algeria',\n",
       "  'Province': '',\n",
       "  'Lat': 28.0339,\n",
       "  'Lon': 1.6596,\n",
       "  'Date': '2020-03-20T00:00:00Z',\n",
       "  'Cases': 32,\n",
       "  'Status': 'recovered'},\n",
       " {'Country': 'Andorra',\n",
       "  'Province': '',\n",
       "  'Lat': 42.5063,\n",
       "  'Lon': 1.5218,\n",
       "  'Date': '2020-01-22T00:00:00Z',\n",
       "  'Cases': 0,\n",
       "  'Status': 'recovered'},\n",
       " {'Country': 'Andorra',\n",
       "  'Province': '',\n",
       "  'Lat': 42.5063,\n",
       "  'Lon': 1.5218,\n",
       "  'Date': '2020-01-22T00:00:00Z',\n",
       "  'Cases': 0,\n",
       "  'Status': 'confirmed'},\n",
       " {'Country': 'Andorra',\n",
       "  'Province': '',\n",
       "  'Lat': 42.5063,\n",
       "  'Lon': 1.5218,\n",
       "  'Date': '2020-01-22T00:00:00Z',\n",
       "  'Cases': 0,\n",
       "  'Status': 'deaths'},\n",
       " {'Country': 'Andorra',\n",
       "  'Province': '',\n",
       "  'Lat': 42.5063,\n",
       "  'Lon': 1.5218,\n",
       "  'Date': '2020-01-23T00:00:00Z',\n",
       "  'Cases': 0,\n",
       "  'Status': 'recovered'},\n",
       " {'Country': 'Andorra',\n",
       "  'Province': '',\n",
       "  'Lat': 42.5063,\n",
       "  'Lon': 1.5218,\n",
       "  'Date': '2020-01-23T00:00:00Z',\n",
       "  'Cases': 0,\n",
       "  'Status': 'confirmed'},\n",
       " {'Country': 'Andorra',\n",
       "  'Province': '',\n",
       "  'Lat': 42.5063,\n",
       "  'Lon': 1.5218,\n",
       "  'Date': '2020-01-23T00:00:00Z',\n",
       "  'Cases': 0,\n",
       "  'Status': 'deaths'},\n",
       " {'Country': 'Andorra',\n",
       "  'Province': '',\n",
       "  'Lat': 42.5063,\n",
       "  'Lon': 1.5218,\n",
       "  'Date': '2020-01-24T00:00:00Z',\n",
       "  'Cases': 0,\n",
       "  'Status': 'deaths'},\n",
       " {'Country': 'Andorra',\n",
       "  'Province': '',\n",
       "  'Lat': 42.5063,\n",
       "  'Lon': 1.5218,\n",
       "  'Date': '2020-01-24T00:00:00Z',\n",
       "  'Cases': 0,\n",
       "  'Status': 'recovered'},\n",
       " {'Country': 'Andorra',\n",
       "  'Province': '',\n",
       "  'Lat': 42.5063,\n",
       "  'Lon': 1.5218,\n",
       "  'Date': '2020-01-24T00:00:00Z',\n",
       "  'Cases': 0,\n",
       "  'Status': 'confirmed'},\n",
       " {'Country': 'Andorra',\n",
       "  'Province': '',\n",
       "  'Lat': 42.5063,\n",
       "  'Lon': 1.5218,\n",
       "  'Date': '2020-01-25T00:00:00Z',\n",
       "  'Cases': 0,\n",
       "  'Status': 'deaths'},\n",
       " {'Country': 'Andorra',\n",
       "  'Province': '',\n",
       "  'Lat': 42.5063,\n",
       "  'Lon': 1.5218,\n",
       "  'Date': '2020-01-25T00:00:00Z',\n",
       "  'Cases': 0,\n",
       "  'Status': 'recovered'},\n",
       " {'Country': 'Andorra',\n",
       "  'Province': '',\n",
       "  'Lat': 42.5063,\n",
       "  'Lon': 1.5218,\n",
       "  'Date': '2020-01-25T00:00:00Z',\n",
       "  'Cases': 0,\n",
       "  'Status': 'confirmed'},\n",
       " {'Country': 'Andorra',\n",
       "  'Province': '',\n",
       "  'Lat': 42.5063,\n",
       "  'Lon': 1.5218,\n",
       "  'Date': '2020-01-26T00:00:00Z',\n",
       "  'Cases': 0,\n",
       "  'Status': 'deaths'},\n",
       " {'Country': 'Andorra',\n",
       "  'Province': '',\n",
       "  'Lat': 42.5063,\n",
       "  'Lon': 1.5218,\n",
       "  'Date': '2020-01-26T00:00:00Z',\n",
       "  'Cases': 0,\n",
       "  'Status': 'recovered'},\n",
       " {'Country': 'Andorra',\n",
       "  'Province': '',\n",
       "  'Lat': 42.5063,\n",
       "  'Lon': 1.5218,\n",
       "  'Date': '2020-01-26T00:00:00Z',\n",
       "  'Cases': 0,\n",
       "  'Status': 'confirmed'},\n",
       " {'Country': 'Andorra',\n",
       "  'Province': '',\n",
       "  'Lat': 42.5063,\n",
       "  'Lon': 1.5218,\n",
       "  'Date': '2020-01-27T00:00:00Z',\n",
       "  'Cases': 0,\n",
       "  'Status': 'deaths'},\n",
       " {'Country': 'Andorra',\n",
       "  'Province': '',\n",
       "  'Lat': 42.5063,\n",
       "  'Lon': 1.5218,\n",
       "  'Date': '2020-01-27T00:00:00Z',\n",
       "  'Cases': 0,\n",
       "  'Status': 'recovered'},\n",
       " {'Country': 'Andorra',\n",
       "  'Province': '',\n",
       "  'Lat': 42.5063,\n",
       "  'Lon': 1.5218,\n",
       "  'Date': '2020-01-27T00:00:00Z',\n",
       "  'Cases': 0,\n",
       "  'Status': 'confirmed'},\n",
       " {'Country': 'Andorra',\n",
       "  'Province': '',\n",
       "  'Lat': 42.5063,\n",
       "  'Lon': 1.5218,\n",
       "  'Date': '2020-01-28T00:00:00Z',\n",
       "  'Cases': 0,\n",
       "  'Status': 'deaths'},\n",
       " {'Country': 'Andorra',\n",
       "  'Province': '',\n",
       "  'Lat': 42.5063,\n",
       "  'Lon': 1.5218,\n",
       "  'Date': '2020-01-28T00:00:00Z',\n",
       "  'Cases': 0,\n",
       "  'Status': 'recovered'},\n",
       " {'Country': 'Andorra',\n",
       "  'Province': '',\n",
       "  'Lat': 42.5063,\n",
       "  'Lon': 1.5218,\n",
       "  'Date': '2020-01-28T00:00:00Z',\n",
       "  'Cases': 0,\n",
       "  'Status': 'confirmed'},\n",
       " {'Country': 'Andorra',\n",
       "  'Province': '',\n",
       "  'Lat': 42.5063,\n",
       "  'Lon': 1.5218,\n",
       "  'Date': '2020-01-29T00:00:00Z',\n",
       "  'Cases': 0,\n",
       "  'Status': 'deaths'},\n",
       " {'Country': 'Andorra',\n",
       "  'Province': '',\n",
       "  'Lat': 42.5063,\n",
       "  'Lon': 1.5218,\n",
       "  'Date': '2020-01-29T00:00:00Z',\n",
       "  'Cases': 0,\n",
       "  'Status': 'recovered'},\n",
       " {'Country': 'Andorra',\n",
       "  'Province': '',\n",
       "  'Lat': 42.5063,\n",
       "  'Lon': 1.5218,\n",
       "  'Date': '2020-01-29T00:00:00Z',\n",
       "  'Cases': 0,\n",
       "  'Status': 'confirmed'},\n",
       " {'Country': 'Andorra',\n",
       "  'Province': '',\n",
       "  'Lat': 42.5063,\n",
       "  'Lon': 1.5218,\n",
       "  'Date': '2020-01-30T00:00:00Z',\n",
       "  'Cases': 0,\n",
       "  'Status': 'deaths'},\n",
       " {'Country': 'Andorra',\n",
       "  'Province': '',\n",
       "  'Lat': 42.5063,\n",
       "  'Lon': 1.5218,\n",
       "  'Date': '2020-01-30T00:00:00Z',\n",
       "  'Cases': 0,\n",
       "  'Status': 'recovered'},\n",
       " {'Country': 'Andorra',\n",
       "  'Province': '',\n",
       "  'Lat': 42.5063,\n",
       "  'Lon': 1.5218,\n",
       "  'Date': '2020-01-30T00:00:00Z',\n",
       "  'Cases': 0,\n",
       "  'Status': 'confirmed'},\n",
       " {'Country': 'Andorra',\n",
       "  'Province': '',\n",
       "  'Lat': 42.5063,\n",
       "  'Lon': 1.5218,\n",
       "  'Date': '2020-01-31T00:00:00Z',\n",
       "  'Cases': 0,\n",
       "  'Status': 'deaths'},\n",
       " {'Country': 'Andorra',\n",
       "  'Province': '',\n",
       "  'Lat': 42.5063,\n",
       "  'Lon': 1.5218,\n",
       "  'Date': '2020-01-31T00:00:00Z',\n",
       "  'Cases': 0,\n",
       "  'Status': 'recovered'},\n",
       " {'Country': 'Andorra',\n",
       "  'Province': '',\n",
       "  'Lat': 42.5063,\n",
       "  'Lon': 1.5218,\n",
       "  'Date': '2020-01-31T00:00:00Z',\n",
       "  'Cases': 0,\n",
       "  'Status': 'confirmed'},\n",
       " {'Country': 'Andorra',\n",
       "  'Province': '',\n",
       "  'Lat': 42.5063,\n",
       "  'Lon': 1.5218,\n",
       "  'Date': '2020-02-01T00:00:00Z',\n",
       "  'Cases': 0,\n",
       "  'Status': 'deaths'},\n",
       " {'Country': 'Andorra',\n",
       "  'Province': '',\n",
       "  'Lat': 42.5063,\n",
       "  'Lon': 1.5218,\n",
       "  'Date': '2020-02-01T00:00:00Z',\n",
       "  'Cases': 0,\n",
       "  'Status': 'recovered'},\n",
       " {'Country': 'Andorra',\n",
       "  'Province': '',\n",
       "  'Lat': 42.5063,\n",
       "  'Lon': 1.5218,\n",
       "  'Date': '2020-02-01T00:00:00Z',\n",
       "  'Cases': 0,\n",
       "  'Status': 'confirmed'},\n",
       " {'Country': 'Andorra',\n",
       "  'Province': '',\n",
       "  'Lat': 42.5063,\n",
       "  'Lon': 1.5218,\n",
       "  'Date': '2020-02-02T00:00:00Z',\n",
       "  'Cases': 0,\n",
       "  'Status': 'deaths'},\n",
       " {'Country': 'Andorra',\n",
       "  'Province': '',\n",
       "  'Lat': 42.5063,\n",
       "  'Lon': 1.5218,\n",
       "  'Date': '2020-02-02T00:00:00Z',\n",
       "  'Cases': 0,\n",
       "  'Status': 'recovered'},\n",
       " {'Country': 'Andorra',\n",
       "  'Province': '',\n",
       "  'Lat': 42.5063,\n",
       "  'Lon': 1.5218,\n",
       "  'Date': '2020-02-02T00:00:00Z',\n",
       "  'Cases': 0,\n",
       "  'Status': 'confirmed'},\n",
       " {'Country': 'Andorra',\n",
       "  'Province': '',\n",
       "  'Lat': 42.5063,\n",
       "  'Lon': 1.5218,\n",
       "  'Date': '2020-02-03T00:00:00Z',\n",
       "  'Cases': 0,\n",
       "  'Status': 'deaths'},\n",
       " {'Country': 'Andorra',\n",
       "  'Province': '',\n",
       "  'Lat': 42.5063,\n",
       "  'Lon': 1.5218,\n",
       "  'Date': '2020-02-03T00:00:00Z',\n",
       "  'Cases': 0,\n",
       "  'Status': 'recovered'},\n",
       " {'Country': 'Andorra',\n",
       "  'Province': '',\n",
       "  'Lat': 42.5063,\n",
       "  'Lon': 1.5218,\n",
       "  'Date': '2020-02-03T00:00:00Z',\n",
       "  'Cases': 0,\n",
       "  'Status': 'confirmed'},\n",
       " {'Country': 'Andorra',\n",
       "  'Province': '',\n",
       "  'Lat': 42.5063,\n",
       "  'Lon': 1.5218,\n",
       "  'Date': '2020-02-04T00:00:00Z',\n",
       "  'Cases': 0,\n",
       "  'Status': 'deaths'},\n",
       " {'Country': 'Andorra',\n",
       "  'Province': '',\n",
       "  'Lat': 42.5063,\n",
       "  'Lon': 1.5218,\n",
       "  'Date': '2020-02-04T00:00:00Z',\n",
       "  'Cases': 0,\n",
       "  'Status': 'recovered'},\n",
       " {'Country': 'Andorra',\n",
       "  'Province': '',\n",
       "  'Lat': 42.5063,\n",
       "  'Lon': 1.5218,\n",
       "  'Date': '2020-02-04T00:00:00Z',\n",
       "  'Cases': 0,\n",
       "  'Status': 'confirmed'},\n",
       " {'Country': 'Andorra',\n",
       "  'Province': '',\n",
       "  'Lat': 42.5063,\n",
       "  'Lon': 1.5218,\n",
       "  'Date': '2020-02-05T00:00:00Z',\n",
       "  'Cases': 0,\n",
       "  'Status': 'deaths'},\n",
       " {'Country': 'Andorra',\n",
       "  'Province': '',\n",
       "  'Lat': 42.5063,\n",
       "  'Lon': 1.5218,\n",
       "  'Date': '2020-02-05T00:00:00Z',\n",
       "  'Cases': 0,\n",
       "  'Status': 'recovered'},\n",
       " {'Country': 'Andorra',\n",
       "  'Province': '',\n",
       "  'Lat': 42.5063,\n",
       "  'Lon': 1.5218,\n",
       "  'Date': '2020-02-05T00:00:00Z',\n",
       "  'Cases': 0,\n",
       "  'Status': 'confirmed'},\n",
       " {'Country': 'Andorra',\n",
       "  'Province': '',\n",
       "  'Lat': 42.5063,\n",
       "  'Lon': 1.5218,\n",
       "  'Date': '2020-02-06T00:00:00Z',\n",
       "  'Cases': 0,\n",
       "  'Status': 'deaths'},\n",
       " {'Country': 'Andorra',\n",
       "  'Province': '',\n",
       "  'Lat': 42.5063,\n",
       "  'Lon': 1.5218,\n",
       "  'Date': '2020-02-06T00:00:00Z',\n",
       "  'Cases': 0,\n",
       "  'Status': 'recovered'},\n",
       " {'Country': 'Andorra',\n",
       "  'Province': '',\n",
       "  'Lat': 42.5063,\n",
       "  'Lon': 1.5218,\n",
       "  'Date': '2020-02-06T00:00:00Z',\n",
       "  'Cases': 0,\n",
       "  'Status': 'confirmed'},\n",
       " {'Country': 'Andorra',\n",
       "  'Province': '',\n",
       "  'Lat': 42.5063,\n",
       "  'Lon': 1.5218,\n",
       "  'Date': '2020-02-07T00:00:00Z',\n",
       "  'Cases': 0,\n",
       "  'Status': 'deaths'},\n",
       " {'Country': 'Andorra',\n",
       "  'Province': '',\n",
       "  'Lat': 42.5063,\n",
       "  'Lon': 1.5218,\n",
       "  'Date': '2020-02-07T00:00:00Z',\n",
       "  'Cases': 0,\n",
       "  'Status': 'recovered'},\n",
       " {'Country': 'Andorra',\n",
       "  'Province': '',\n",
       "  'Lat': 42.5063,\n",
       "  'Lon': 1.5218,\n",
       "  'Date': '2020-02-07T00:00:00Z',\n",
       "  'Cases': 0,\n",
       "  'Status': 'confirmed'},\n",
       " {'Country': 'Andorra',\n",
       "  'Province': '',\n",
       "  'Lat': 42.5063,\n",
       "  'Lon': 1.5218,\n",
       "  'Date': '2020-02-08T00:00:00Z',\n",
       "  'Cases': 0,\n",
       "  'Status': 'deaths'},\n",
       " {'Country': 'Andorra',\n",
       "  'Province': '',\n",
       "  'Lat': 42.5063,\n",
       "  'Lon': 1.5218,\n",
       "  'Date': '2020-02-08T00:00:00Z',\n",
       "  'Cases': 0,\n",
       "  'Status': 'recovered'},\n",
       " {'Country': 'Andorra',\n",
       "  'Province': '',\n",
       "  'Lat': 42.5063,\n",
       "  'Lon': 1.5218,\n",
       "  'Date': '2020-02-08T00:00:00Z',\n",
       "  'Cases': 0,\n",
       "  'Status': 'confirmed'},\n",
       " {'Country': 'Andorra',\n",
       "  'Province': '',\n",
       "  'Lat': 42.5063,\n",
       "  'Lon': 1.5218,\n",
       "  'Date': '2020-02-09T00:00:00Z',\n",
       "  'Cases': 0,\n",
       "  'Status': 'deaths'},\n",
       " {'Country': 'Andorra',\n",
       "  'Province': '',\n",
       "  'Lat': 42.5063,\n",
       "  'Lon': 1.5218,\n",
       "  'Date': '2020-02-09T00:00:00Z',\n",
       "  'Cases': 0,\n",
       "  'Status': 'recovered'},\n",
       " {'Country': 'Andorra',\n",
       "  'Province': '',\n",
       "  'Lat': 42.5063,\n",
       "  'Lon': 1.5218,\n",
       "  'Date': '2020-02-09T00:00:00Z',\n",
       "  'Cases': 0,\n",
       "  'Status': 'confirmed'},\n",
       " {'Country': 'Andorra',\n",
       "  'Province': '',\n",
       "  'Lat': 42.5063,\n",
       "  'Lon': 1.5218,\n",
       "  'Date': '2020-02-10T00:00:00Z',\n",
       "  'Cases': 0,\n",
       "  'Status': 'deaths'},\n",
       " {'Country': 'Andorra',\n",
       "  'Province': '',\n",
       "  'Lat': 42.5063,\n",
       "  'Lon': 1.5218,\n",
       "  'Date': '2020-02-10T00:00:00Z',\n",
       "  'Cases': 0,\n",
       "  'Status': 'recovered'},\n",
       " {'Country': 'Andorra',\n",
       "  'Province': '',\n",
       "  'Lat': 42.5063,\n",
       "  'Lon': 1.5218,\n",
       "  'Date': '2020-02-10T00:00:00Z',\n",
       "  'Cases': 0,\n",
       "  'Status': 'confirmed'},\n",
       " {'Country': 'Andorra',\n",
       "  'Province': '',\n",
       "  'Lat': 42.5063,\n",
       "  'Lon': 1.5218,\n",
       "  'Date': '2020-02-11T00:00:00Z',\n",
       "  'Cases': 0,\n",
       "  'Status': 'deaths'},\n",
       " {'Country': 'Andorra',\n",
       "  'Province': '',\n",
       "  'Lat': 42.5063,\n",
       "  'Lon': 1.5218,\n",
       "  'Date': '2020-02-11T00:00:00Z',\n",
       "  'Cases': 0,\n",
       "  'Status': 'recovered'},\n",
       " {'Country': 'Andorra',\n",
       "  'Province': '',\n",
       "  'Lat': 42.5063,\n",
       "  'Lon': 1.5218,\n",
       "  'Date': '2020-02-11T00:00:00Z',\n",
       "  'Cases': 0,\n",
       "  'Status': 'confirmed'},\n",
       " {'Country': 'Andorra',\n",
       "  'Province': '',\n",
       "  'Lat': 42.5063,\n",
       "  'Lon': 1.5218,\n",
       "  'Date': '2020-02-12T00:00:00Z',\n",
       "  'Cases': 0,\n",
       "  'Status': 'deaths'},\n",
       " {'Country': 'Andorra',\n",
       "  'Province': '',\n",
       "  'Lat': 42.5063,\n",
       "  'Lon': 1.5218,\n",
       "  'Date': '2020-02-12T00:00:00Z',\n",
       "  'Cases': 0,\n",
       "  'Status': 'recovered'},\n",
       " {'Country': 'Andorra',\n",
       "  'Province': '',\n",
       "  'Lat': 42.5063,\n",
       "  'Lon': 1.5218,\n",
       "  'Date': '2020-02-12T00:00:00Z',\n",
       "  'Cases': 0,\n",
       "  'Status': 'confirmed'},\n",
       " {'Country': 'Andorra',\n",
       "  'Province': '',\n",
       "  'Lat': 42.5063,\n",
       "  'Lon': 1.5218,\n",
       "  'Date': '2020-02-13T00:00:00Z',\n",
       "  'Cases': 0,\n",
       "  'Status': 'deaths'},\n",
       " {'Country': 'Andorra',\n",
       "  'Province': '',\n",
       "  'Lat': 42.5063,\n",
       "  'Lon': 1.5218,\n",
       "  'Date': '2020-02-13T00:00:00Z',\n",
       "  'Cases': 0,\n",
       "  'Status': 'recovered'},\n",
       " {'Country': 'Andorra',\n",
       "  'Province': '',\n",
       "  'Lat': 42.5063,\n",
       "  'Lon': 1.5218,\n",
       "  'Date': '2020-02-13T00:00:00Z',\n",
       "  'Cases': 0,\n",
       "  'Status': 'confirmed'},\n",
       " {'Country': 'Andorra',\n",
       "  'Province': '',\n",
       "  'Lat': 42.5063,\n",
       "  'Lon': 1.5218,\n",
       "  'Date': '2020-02-14T00:00:00Z',\n",
       "  'Cases': 0,\n",
       "  'Status': 'deaths'},\n",
       " {'Country': 'Andorra',\n",
       "  'Province': '',\n",
       "  'Lat': 42.5063,\n",
       "  'Lon': 1.5218,\n",
       "  'Date': '2020-02-14T00:00:00Z',\n",
       "  'Cases': 0,\n",
       "  'Status': 'recovered'},\n",
       " {'Country': 'Andorra',\n",
       "  'Province': '',\n",
       "  'Lat': 42.5063,\n",
       "  'Lon': 1.5218,\n",
       "  'Date': '2020-02-14T00:00:00Z',\n",
       "  'Cases': 0,\n",
       "  'Status': 'confirmed'},\n",
       " {'Country': 'Andorra',\n",
       "  'Province': '',\n",
       "  'Lat': 42.5063,\n",
       "  'Lon': 1.5218,\n",
       "  'Date': '2020-02-15T00:00:00Z',\n",
       "  'Cases': 0,\n",
       "  'Status': 'deaths'},\n",
       " {'Country': 'Andorra',\n",
       "  'Province': '',\n",
       "  'Lat': 42.5063,\n",
       "  'Lon': 1.5218,\n",
       "  'Date': '2020-02-15T00:00:00Z',\n",
       "  'Cases': 0,\n",
       "  'Status': 'recovered'},\n",
       " {'Country': 'Andorra',\n",
       "  'Province': '',\n",
       "  'Lat': 42.5063,\n",
       "  'Lon': 1.5218,\n",
       "  'Date': '2020-02-15T00:00:00Z',\n",
       "  'Cases': 0,\n",
       "  'Status': 'confirmed'},\n",
       " {'Country': 'Andorra',\n",
       "  'Province': '',\n",
       "  'Lat': 42.5063,\n",
       "  'Lon': 1.5218,\n",
       "  'Date': '2020-02-16T00:00:00Z',\n",
       "  'Cases': 0,\n",
       "  'Status': 'deaths'},\n",
       " {'Country': 'Andorra',\n",
       "  'Province': '',\n",
       "  'Lat': 42.5063,\n",
       "  'Lon': 1.5218,\n",
       "  'Date': '2020-02-16T00:00:00Z',\n",
       "  'Cases': 0,\n",
       "  'Status': 'recovered'},\n",
       " {'Country': 'Andorra',\n",
       "  'Province': '',\n",
       "  'Lat': 42.5063,\n",
       "  'Lon': 1.5218,\n",
       "  'Date': '2020-02-16T00:00:00Z',\n",
       "  'Cases': 0,\n",
       "  'Status': 'confirmed'},\n",
       " {'Country': 'Andorra',\n",
       "  'Province': '',\n",
       "  'Lat': 42.5063,\n",
       "  'Lon': 1.5218,\n",
       "  'Date': '2020-02-17T00:00:00Z',\n",
       "  'Cases': 0,\n",
       "  'Status': 'deaths'},\n",
       " {'Country': 'Andorra',\n",
       "  'Province': '',\n",
       "  'Lat': 42.5063,\n",
       "  'Lon': 1.5218,\n",
       "  'Date': '2020-02-17T00:00:00Z',\n",
       "  'Cases': 0,\n",
       "  'Status': 'recovered'},\n",
       " {'Country': 'Andorra',\n",
       "  'Province': '',\n",
       "  'Lat': 42.5063,\n",
       "  'Lon': 1.5218,\n",
       "  'Date': '2020-02-17T00:00:00Z',\n",
       "  'Cases': 0,\n",
       "  'Status': 'confirmed'},\n",
       " {'Country': 'Andorra',\n",
       "  'Province': '',\n",
       "  'Lat': 42.5063,\n",
       "  'Lon': 1.5218,\n",
       "  'Date': '2020-02-18T00:00:00Z',\n",
       "  'Cases': 0,\n",
       "  'Status': 'deaths'},\n",
       " {'Country': 'Andorra',\n",
       "  'Province': '',\n",
       "  'Lat': 42.5063,\n",
       "  'Lon': 1.5218,\n",
       "  'Date': '2020-02-18T00:00:00Z',\n",
       "  'Cases': 0,\n",
       "  'Status': 'recovered'},\n",
       " {'Country': 'Andorra',\n",
       "  'Province': '',\n",
       "  'Lat': 42.5063,\n",
       "  'Lon': 1.5218,\n",
       "  'Date': '2020-02-18T00:00:00Z',\n",
       "  'Cases': 0,\n",
       "  'Status': 'confirmed'},\n",
       " {'Country': 'Andorra',\n",
       "  'Province': '',\n",
       "  'Lat': 42.5063,\n",
       "  'Lon': 1.5218,\n",
       "  'Date': '2020-02-19T00:00:00Z',\n",
       "  'Cases': 0,\n",
       "  'Status': 'deaths'},\n",
       " {'Country': 'Andorra',\n",
       "  'Province': '',\n",
       "  'Lat': 42.5063,\n",
       "  'Lon': 1.5218,\n",
       "  'Date': '2020-02-19T00:00:00Z',\n",
       "  'Cases': 0,\n",
       "  'Status': 'recovered'},\n",
       " {'Country': 'Andorra',\n",
       "  'Province': '',\n",
       "  'Lat': 42.5063,\n",
       "  'Lon': 1.5218,\n",
       "  'Date': '2020-02-19T00:00:00Z',\n",
       "  'Cases': 0,\n",
       "  'Status': 'confirmed'},\n",
       " {'Country': 'Andorra',\n",
       "  'Province': '',\n",
       "  'Lat': 42.5063,\n",
       "  'Lon': 1.5218,\n",
       "  'Date': '2020-02-20T00:00:00Z',\n",
       "  'Cases': 0,\n",
       "  'Status': 'deaths'},\n",
       " {'Country': 'Andorra',\n",
       "  'Province': '',\n",
       "  'Lat': 42.5063,\n",
       "  'Lon': 1.5218,\n",
       "  'Date': '2020-02-20T00:00:00Z',\n",
       "  'Cases': 0,\n",
       "  'Status': 'recovered'},\n",
       " {'Country': 'Andorra',\n",
       "  'Province': '',\n",
       "  'Lat': 42.5063,\n",
       "  'Lon': 1.5218,\n",
       "  'Date': '2020-02-20T00:00:00Z',\n",
       "  'Cases': 0,\n",
       "  'Status': 'confirmed'},\n",
       " {'Country': 'Andorra',\n",
       "  'Province': '',\n",
       "  'Lat': 42.5063,\n",
       "  'Lon': 1.5218,\n",
       "  'Date': '2020-02-21T00:00:00Z',\n",
       "  'Cases': 0,\n",
       "  'Status': 'deaths'},\n",
       " {'Country': 'Andorra',\n",
       "  'Province': '',\n",
       "  'Lat': 42.5063,\n",
       "  'Lon': 1.5218,\n",
       "  'Date': '2020-02-21T00:00:00Z',\n",
       "  'Cases': 0,\n",
       "  'Status': 'recovered'},\n",
       " {'Country': 'Andorra',\n",
       "  'Province': '',\n",
       "  'Lat': 42.5063,\n",
       "  'Lon': 1.5218,\n",
       "  'Date': '2020-02-21T00:00:00Z',\n",
       "  'Cases': 0,\n",
       "  'Status': 'confirmed'},\n",
       " {'Country': 'Andorra',\n",
       "  'Province': '',\n",
       "  'Lat': 42.5063,\n",
       "  'Lon': 1.5218,\n",
       "  'Date': '2020-02-22T00:00:00Z',\n",
       "  'Cases': 0,\n",
       "  'Status': 'deaths'},\n",
       " {'Country': 'Andorra',\n",
       "  'Province': '',\n",
       "  'Lat': 42.5063,\n",
       "  'Lon': 1.5218,\n",
       "  'Date': '2020-02-22T00:00:00Z',\n",
       "  'Cases': 0,\n",
       "  'Status': 'recovered'},\n",
       " {'Country': 'Andorra',\n",
       "  'Province': '',\n",
       "  'Lat': 42.5063,\n",
       "  'Lon': 1.5218,\n",
       "  'Date': '2020-02-22T00:00:00Z',\n",
       "  'Cases': 0,\n",
       "  'Status': 'confirmed'},\n",
       " {'Country': 'Andorra',\n",
       "  'Province': '',\n",
       "  'Lat': 42.5063,\n",
       "  'Lon': 1.5218,\n",
       "  'Date': '2020-02-23T00:00:00Z',\n",
       "  'Cases': 0,\n",
       "  'Status': 'deaths'},\n",
       " {'Country': 'Andorra',\n",
       "  'Province': '',\n",
       "  'Lat': 42.5063,\n",
       "  'Lon': 1.5218,\n",
       "  'Date': '2020-02-23T00:00:00Z',\n",
       "  'Cases': 0,\n",
       "  'Status': 'recovered'},\n",
       " {'Country': 'Andorra',\n",
       "  'Province': '',\n",
       "  'Lat': 42.5063,\n",
       "  'Lon': 1.5218,\n",
       "  'Date': '2020-02-23T00:00:00Z',\n",
       "  'Cases': 0,\n",
       "  'Status': 'confirmed'},\n",
       " {'Country': 'Andorra',\n",
       "  'Province': '',\n",
       "  'Lat': 42.5063,\n",
       "  'Lon': 1.5218,\n",
       "  'Date': '2020-02-24T00:00:00Z',\n",
       "  'Cases': 0,\n",
       "  'Status': 'deaths'},\n",
       " {'Country': 'Andorra',\n",
       "  'Province': '',\n",
       "  'Lat': 42.5063,\n",
       "  'Lon': 1.5218,\n",
       "  'Date': '2020-02-24T00:00:00Z',\n",
       "  'Cases': 0,\n",
       "  'Status': 'recovered'},\n",
       " {'Country': 'Andorra',\n",
       "  'Province': '',\n",
       "  'Lat': 42.5063,\n",
       "  'Lon': 1.5218,\n",
       "  'Date': '2020-02-24T00:00:00Z',\n",
       "  'Cases': 0,\n",
       "  'Status': 'confirmed'},\n",
       " {'Country': 'Andorra',\n",
       "  'Province': '',\n",
       "  'Lat': 42.5063,\n",
       "  'Lon': 1.5218,\n",
       "  'Date': '2020-02-25T00:00:00Z',\n",
       "  'Cases': 0,\n",
       "  'Status': 'deaths'},\n",
       " {'Country': 'Andorra',\n",
       "  'Province': '',\n",
       "  'Lat': 42.5063,\n",
       "  'Lon': 1.5218,\n",
       "  'Date': '2020-02-25T00:00:00Z',\n",
       "  'Cases': 0,\n",
       "  'Status': 'recovered'},\n",
       " {'Country': 'Andorra',\n",
       "  'Province': '',\n",
       "  'Lat': 42.5063,\n",
       "  'Lon': 1.5218,\n",
       "  'Date': '2020-02-25T00:00:00Z',\n",
       "  'Cases': 0,\n",
       "  'Status': 'confirmed'},\n",
       " {'Country': 'Andorra',\n",
       "  'Province': '',\n",
       "  'Lat': 42.5063,\n",
       "  'Lon': 1.5218,\n",
       "  'Date': '2020-02-26T00:00:00Z',\n",
       "  'Cases': 0,\n",
       "  'Status': 'deaths'},\n",
       " {'Country': 'Andorra',\n",
       "  'Province': '',\n",
       "  'Lat': 42.5063,\n",
       "  'Lon': 1.5218,\n",
       "  'Date': '2020-02-26T00:00:00Z',\n",
       "  'Cases': 0,\n",
       "  'Status': 'recovered'},\n",
       " {'Country': 'Andorra',\n",
       "  'Province': '',\n",
       "  'Lat': 42.5063,\n",
       "  'Lon': 1.5218,\n",
       "  'Date': '2020-02-26T00:00:00Z',\n",
       "  'Cases': 0,\n",
       "  'Status': 'confirmed'},\n",
       " {'Country': 'Andorra',\n",
       "  'Province': '',\n",
       "  'Lat': 42.5063,\n",
       "  'Lon': 1.5218,\n",
       "  'Date': '2020-02-27T00:00:00Z',\n",
       "  'Cases': 0,\n",
       "  'Status': 'deaths'},\n",
       " {'Country': 'Andorra',\n",
       "  'Province': '',\n",
       "  'Lat': 42.5063,\n",
       "  'Lon': 1.5218,\n",
       "  'Date': '2020-02-27T00:00:00Z',\n",
       "  'Cases': 0,\n",
       "  'Status': 'recovered'},\n",
       " {'Country': 'Andorra',\n",
       "  'Province': '',\n",
       "  'Lat': 42.5063,\n",
       "  'Lon': 1.5218,\n",
       "  'Date': '2020-02-27T00:00:00Z',\n",
       "  'Cases': 0,\n",
       "  'Status': 'confirmed'},\n",
       " {'Country': 'Andorra',\n",
       "  'Province': '',\n",
       "  'Lat': 42.5063,\n",
       "  'Lon': 1.5218,\n",
       "  'Date': '2020-02-28T00:00:00Z',\n",
       "  'Cases': 0,\n",
       "  'Status': 'deaths'},\n",
       " {'Country': 'Andorra',\n",
       "  'Province': '',\n",
       "  'Lat': 42.5063,\n",
       "  'Lon': 1.5218,\n",
       "  'Date': '2020-02-28T00:00:00Z',\n",
       "  'Cases': 0,\n",
       "  'Status': 'recovered'},\n",
       " {'Country': 'Andorra',\n",
       "  'Province': '',\n",
       "  'Lat': 42.5063,\n",
       "  'Lon': 1.5218,\n",
       "  'Date': '2020-02-28T00:00:00Z',\n",
       "  'Cases': 0,\n",
       "  'Status': 'confirmed'},\n",
       " {'Country': 'Andorra',\n",
       "  'Province': '',\n",
       "  'Lat': 42.5063,\n",
       "  'Lon': 1.5218,\n",
       "  'Date': '2020-02-29T00:00:00Z',\n",
       "  'Cases': 0,\n",
       "  'Status': 'deaths'},\n",
       " {'Country': 'Andorra',\n",
       "  'Province': '',\n",
       "  'Lat': 42.5063,\n",
       "  'Lon': 1.5218,\n",
       "  'Date': '2020-02-29T00:00:00Z',\n",
       "  'Cases': 0,\n",
       "  'Status': 'recovered'},\n",
       " {'Country': 'Andorra',\n",
       "  'Province': '',\n",
       "  'Lat': 42.5063,\n",
       "  'Lon': 1.5218,\n",
       "  'Date': '2020-02-29T00:00:00Z',\n",
       "  'Cases': 0,\n",
       "  'Status': 'confirmed'},\n",
       " {'Country': 'Andorra',\n",
       "  'Province': '',\n",
       "  'Lat': 42.5063,\n",
       "  'Lon': 1.5218,\n",
       "  'Date': '2020-03-01T00:00:00Z',\n",
       "  'Cases': 0,\n",
       "  'Status': 'deaths'},\n",
       " {'Country': 'Andorra',\n",
       "  'Province': '',\n",
       "  'Lat': 42.5063,\n",
       "  'Lon': 1.5218,\n",
       "  'Date': '2020-03-01T00:00:00Z',\n",
       "  'Cases': 0,\n",
       "  'Status': 'recovered'},\n",
       " {'Country': 'Andorra',\n",
       "  'Province': '',\n",
       "  'Lat': 42.5063,\n",
       "  'Lon': 1.5218,\n",
       "  'Date': '2020-03-01T00:00:00Z',\n",
       "  'Cases': 0,\n",
       "  'Status': 'confirmed'},\n",
       " {'Country': 'Andorra',\n",
       "  'Province': '',\n",
       "  'Lat': 42.5063,\n",
       "  'Lon': 1.5218,\n",
       "  'Date': '2020-03-02T00:00:00Z',\n",
       "  'Cases': 0,\n",
       "  'Status': 'deaths'},\n",
       " {'Country': 'Andorra',\n",
       "  'Province': '',\n",
       "  'Lat': 42.5063,\n",
       "  'Lon': 1.5218,\n",
       "  'Date': '2020-03-02T00:00:00Z',\n",
       "  'Cases': 0,\n",
       "  'Status': 'recovered'},\n",
       " {'Country': 'Andorra',\n",
       "  'Province': '',\n",
       "  'Lat': 42.5063,\n",
       "  'Lon': 1.5218,\n",
       "  'Date': '2020-03-02T00:00:00Z',\n",
       "  'Cases': 1,\n",
       "  'Status': 'confirmed'},\n",
       " {'Country': 'Andorra',\n",
       "  'Province': '',\n",
       "  'Lat': 42.5063,\n",
       "  'Lon': 1.5218,\n",
       "  'Date': '2020-03-03T00:00:00Z',\n",
       "  'Cases': 0,\n",
       "  'Status': 'deaths'},\n",
       " {'Country': 'Andorra',\n",
       "  'Province': '',\n",
       "  'Lat': 42.5063,\n",
       "  'Lon': 1.5218,\n",
       "  'Date': '2020-03-03T00:00:00Z',\n",
       "  'Cases': 0,\n",
       "  'Status': 'recovered'},\n",
       " {'Country': 'Andorra',\n",
       "  'Province': '',\n",
       "  'Lat': 42.5063,\n",
       "  'Lon': 1.5218,\n",
       "  'Date': '2020-03-03T00:00:00Z',\n",
       "  'Cases': 1,\n",
       "  'Status': 'confirmed'},\n",
       " {'Country': 'Andorra',\n",
       "  'Province': '',\n",
       "  'Lat': 42.5063,\n",
       "  'Lon': 1.5218,\n",
       "  'Date': '2020-03-04T00:00:00Z',\n",
       "  'Cases': 0,\n",
       "  'Status': 'deaths'},\n",
       " {'Country': 'Andorra',\n",
       "  'Province': '',\n",
       "  'Lat': 42.5063,\n",
       "  'Lon': 1.5218,\n",
       "  'Date': '2020-03-04T00:00:00Z',\n",
       "  'Cases': 0,\n",
       "  'Status': 'recovered'},\n",
       " {'Country': 'Andorra',\n",
       "  'Province': '',\n",
       "  'Lat': 42.5063,\n",
       "  'Lon': 1.5218,\n",
       "  'Date': '2020-03-04T00:00:00Z',\n",
       "  'Cases': 1,\n",
       "  'Status': 'confirmed'},\n",
       " {'Country': 'Andorra',\n",
       "  'Province': '',\n",
       "  'Lat': 42.5063,\n",
       "  'Lon': 1.5218,\n",
       "  'Date': '2020-03-05T00:00:00Z',\n",
       "  'Cases': 0,\n",
       "  'Status': 'deaths'},\n",
       " {'Country': 'Andorra',\n",
       "  'Province': '',\n",
       "  'Lat': 42.5063,\n",
       "  'Lon': 1.5218,\n",
       "  'Date': '2020-03-05T00:00:00Z',\n",
       "  'Cases': 0,\n",
       "  'Status': 'recovered'},\n",
       " {'Country': 'Andorra',\n",
       "  'Province': '',\n",
       "  'Lat': 42.5063,\n",
       "  'Lon': 1.5218,\n",
       "  'Date': '2020-03-05T00:00:00Z',\n",
       "  'Cases': 1,\n",
       "  'Status': 'confirmed'},\n",
       " {'Country': 'Andorra',\n",
       "  'Province': '',\n",
       "  'Lat': 42.5063,\n",
       "  'Lon': 1.5218,\n",
       "  'Date': '2020-03-06T00:00:00Z',\n",
       "  'Cases': 0,\n",
       "  'Status': 'deaths'},\n",
       " {'Country': 'Andorra',\n",
       "  'Province': '',\n",
       "  'Lat': 42.5063,\n",
       "  'Lon': 1.5218,\n",
       "  'Date': '2020-03-06T00:00:00Z',\n",
       "  'Cases': 0,\n",
       "  'Status': 'recovered'},\n",
       " {'Country': 'Andorra',\n",
       "  'Province': '',\n",
       "  'Lat': 42.5063,\n",
       "  'Lon': 1.5218,\n",
       "  'Date': '2020-03-06T00:00:00Z',\n",
       "  'Cases': 1,\n",
       "  'Status': 'confirmed'},\n",
       " {'Country': 'Andorra',\n",
       "  'Province': '',\n",
       "  'Lat': 42.5063,\n",
       "  'Lon': 1.5218,\n",
       "  'Date': '2020-03-07T00:00:00Z',\n",
       "  'Cases': 0,\n",
       "  'Status': 'deaths'},\n",
       " {'Country': 'Andorra',\n",
       "  'Province': '',\n",
       "  'Lat': 42.5063,\n",
       "  'Lon': 1.5218,\n",
       "  'Date': '2020-03-07T00:00:00Z',\n",
       "  'Cases': 0,\n",
       "  'Status': 'recovered'},\n",
       " {'Country': 'Andorra',\n",
       "  'Province': '',\n",
       "  'Lat': 42.5063,\n",
       "  'Lon': 1.5218,\n",
       "  'Date': '2020-03-07T00:00:00Z',\n",
       "  'Cases': 1,\n",
       "  'Status': 'confirmed'},\n",
       " {'Country': 'Andorra',\n",
       "  'Province': '',\n",
       "  'Lat': 42.5063,\n",
       "  'Lon': 1.5218,\n",
       "  'Date': '2020-03-08T00:00:00Z',\n",
       "  'Cases': 0,\n",
       "  'Status': 'deaths'},\n",
       " {'Country': 'Andorra',\n",
       "  'Province': '',\n",
       "  'Lat': 42.5063,\n",
       "  'Lon': 1.5218,\n",
       "  'Date': '2020-03-08T00:00:00Z',\n",
       "  'Cases': 0,\n",
       "  'Status': 'recovered'},\n",
       " {'Country': 'Andorra',\n",
       "  'Province': '',\n",
       "  'Lat': 42.5063,\n",
       "  'Lon': 1.5218,\n",
       "  'Date': '2020-03-08T00:00:00Z',\n",
       "  'Cases': 1,\n",
       "  'Status': 'confirmed'},\n",
       " {'Country': 'Andorra',\n",
       "  'Province': '',\n",
       "  'Lat': 42.5063,\n",
       "  'Lon': 1.5218,\n",
       "  'Date': '2020-03-09T00:00:00Z',\n",
       "  'Cases': 0,\n",
       "  'Status': 'deaths'},\n",
       " {'Country': 'Andorra',\n",
       "  'Province': '',\n",
       "  'Lat': 42.5063,\n",
       "  'Lon': 1.5218,\n",
       "  'Date': '2020-03-09T00:00:00Z',\n",
       "  'Cases': 0,\n",
       "  'Status': 'recovered'},\n",
       " {'Country': 'Andorra',\n",
       "  'Province': '',\n",
       "  'Lat': 42.5063,\n",
       "  'Lon': 1.5218,\n",
       "  'Date': '2020-03-09T00:00:00Z',\n",
       "  'Cases': 1,\n",
       "  'Status': 'confirmed'},\n",
       " {'Country': 'Andorra',\n",
       "  'Province': '',\n",
       "  'Lat': 42.5063,\n",
       "  'Lon': 1.5218,\n",
       "  'Date': '2020-03-10T00:00:00Z',\n",
       "  'Cases': 0,\n",
       "  'Status': 'deaths'},\n",
       " {'Country': 'Andorra',\n",
       "  'Province': '',\n",
       "  'Lat': 42.5063,\n",
       "  'Lon': 1.5218,\n",
       "  'Date': '2020-03-10T00:00:00Z',\n",
       "  'Cases': 0,\n",
       "  'Status': 'recovered'},\n",
       " {'Country': 'Andorra',\n",
       "  'Province': '',\n",
       "  'Lat': 42.5063,\n",
       "  'Lon': 1.5218,\n",
       "  'Date': '2020-03-10T00:00:00Z',\n",
       "  'Cases': 1,\n",
       "  'Status': 'confirmed'},\n",
       " {'Country': 'Andorra',\n",
       "  'Province': '',\n",
       "  'Lat': 42.5063,\n",
       "  'Lon': 1.5218,\n",
       "  'Date': '2020-03-11T00:00:00Z',\n",
       "  'Cases': 0,\n",
       "  'Status': 'deaths'},\n",
       " {'Country': 'Andorra',\n",
       "  'Province': '',\n",
       "  'Lat': 42.5063,\n",
       "  'Lon': 1.5218,\n",
       "  'Date': '2020-03-11T00:00:00Z',\n",
       "  'Cases': 0,\n",
       "  'Status': 'recovered'},\n",
       " {'Country': 'Andorra',\n",
       "  'Province': '',\n",
       "  'Lat': 42.5063,\n",
       "  'Lon': 1.5218,\n",
       "  'Date': '2020-03-11T00:00:00Z',\n",
       "  'Cases': 1,\n",
       "  'Status': 'confirmed'},\n",
       " {'Country': 'Andorra',\n",
       "  'Province': '',\n",
       "  'Lat': 42.5063,\n",
       "  'Lon': 1.5218,\n",
       "  'Date': '2020-03-12T00:00:00Z',\n",
       "  'Cases': 0,\n",
       "  'Status': 'deaths'},\n",
       " {'Country': 'Andorra',\n",
       "  'Province': '',\n",
       "  'Lat': 42.5063,\n",
       "  'Lon': 1.5218,\n",
       "  'Date': '2020-03-12T00:00:00Z',\n",
       "  'Cases': 1,\n",
       "  'Status': 'recovered'},\n",
       " {'Country': 'Andorra',\n",
       "  'Province': '',\n",
       "  'Lat': 42.5063,\n",
       "  'Lon': 1.5218,\n",
       "  'Date': '2020-03-12T00:00:00Z',\n",
       "  'Cases': 1,\n",
       "  'Status': 'confirmed'},\n",
       " {'Country': 'Andorra',\n",
       "  'Province': '',\n",
       "  'Lat': 42.5063,\n",
       "  'Lon': 1.5218,\n",
       "  'Date': '2020-03-13T00:00:00Z',\n",
       "  'Cases': 0,\n",
       "  'Status': 'deaths'},\n",
       " {'Country': 'Andorra',\n",
       "  'Province': '',\n",
       "  'Lat': 42.5063,\n",
       "  'Lon': 1.5218,\n",
       "  'Date': '2020-03-13T00:00:00Z',\n",
       "  'Cases': 0,\n",
       "  'Status': 'recovered'},\n",
       " {'Country': 'Andorra',\n",
       "  'Province': '',\n",
       "  'Lat': 42.5063,\n",
       "  'Lon': 1.5218,\n",
       "  'Date': '2020-03-13T00:00:00Z',\n",
       "  'Cases': 1,\n",
       "  'Status': 'confirmed'},\n",
       " {'Country': 'Andorra',\n",
       "  'Province': '',\n",
       "  'Lat': 42.5063,\n",
       "  'Lon': 1.5218,\n",
       "  'Date': '2020-03-14T00:00:00Z',\n",
       "  'Cases': 0,\n",
       "  'Status': 'deaths'},\n",
       " {'Country': 'Andorra',\n",
       "  'Province': '',\n",
       "  'Lat': 42.5063,\n",
       "  'Lon': 1.5218,\n",
       "  'Date': '2020-03-14T00:00:00Z',\n",
       "  'Cases': 1,\n",
       "  'Status': 'recovered'},\n",
       " {'Country': 'Andorra',\n",
       "  'Province': '',\n",
       "  'Lat': 42.5063,\n",
       "  'Lon': 1.5218,\n",
       "  'Date': '2020-03-14T00:00:00Z',\n",
       "  'Cases': 1,\n",
       "  'Status': 'confirmed'},\n",
       " {'Country': 'Andorra',\n",
       "  'Province': '',\n",
       "  'Lat': 42.5063,\n",
       "  'Lon': 1.5218,\n",
       "  'Date': '2020-03-15T00:00:00Z',\n",
       "  'Cases': 0,\n",
       "  'Status': 'deaths'},\n",
       " {'Country': 'Andorra',\n",
       "  'Province': '',\n",
       "  'Lat': 42.5063,\n",
       "  'Lon': 1.5218,\n",
       "  'Date': '2020-03-15T00:00:00Z',\n",
       "  'Cases': 1,\n",
       "  'Status': 'recovered'},\n",
       " {'Country': 'Andorra',\n",
       "  'Province': '',\n",
       "  'Lat': 42.5063,\n",
       "  'Lon': 1.5218,\n",
       "  'Date': '2020-03-15T00:00:00Z',\n",
       "  'Cases': 1,\n",
       "  'Status': 'confirmed'},\n",
       " {'Country': 'Andorra',\n",
       "  'Province': '',\n",
       "  'Lat': 42.5063,\n",
       "  'Lon': 1.5218,\n",
       "  'Date': '2020-03-16T00:00:00Z',\n",
       "  'Cases': 0,\n",
       "  'Status': 'deaths'},\n",
       " {'Country': 'Andorra',\n",
       "  'Province': '',\n",
       "  'Lat': 42.5063,\n",
       "  'Lon': 1.5218,\n",
       "  'Date': '2020-03-16T00:00:00Z',\n",
       "  'Cases': 1,\n",
       "  'Status': 'recovered'},\n",
       " {'Country': 'Andorra',\n",
       "  'Province': '',\n",
       "  'Lat': 42.5063,\n",
       "  'Lon': 1.5218,\n",
       "  'Date': '2020-03-16T00:00:00Z',\n",
       "  'Cases': 2,\n",
       "  'Status': 'confirmed'},\n",
       " {'Country': 'Andorra',\n",
       "  'Province': '',\n",
       "  'Lat': 42.5063,\n",
       "  'Lon': 1.5218,\n",
       "  'Date': '2020-03-17T00:00:00Z',\n",
       "  'Cases': 0,\n",
       "  'Status': 'deaths'},\n",
       " {'Country': 'Andorra',\n",
       "  'Province': '',\n",
       "  'Lat': 42.5063,\n",
       "  'Lon': 1.5218,\n",
       "  'Date': '2020-03-17T00:00:00Z',\n",
       "  'Cases': 39,\n",
       "  'Status': 'confirmed'},\n",
       " {'Country': 'Andorra',\n",
       "  'Province': '',\n",
       "  'Lat': 42.5063,\n",
       "  'Lon': 1.5218,\n",
       "  'Date': '2020-03-17T00:00:00Z',\n",
       "  'Cases': 1,\n",
       "  'Status': 'recovered'},\n",
       " {'Country': 'Andorra',\n",
       "  'Province': '',\n",
       "  'Lat': 42.5063,\n",
       "  'Lon': 1.5218,\n",
       "  'Date': '2020-03-18T00:00:00Z',\n",
       "  'Cases': 1,\n",
       "  'Status': 'recovered'},\n",
       " {'Country': 'Andorra',\n",
       "  'Province': '',\n",
       "  'Lat': 42.5063,\n",
       "  'Lon': 1.5218,\n",
       "  'Date': '2020-03-18T00:00:00Z',\n",
       "  'Cases': 0,\n",
       "  'Status': 'deaths'},\n",
       " {'Country': 'Andorra',\n",
       "  'Province': '',\n",
       "  'Lat': 42.5063,\n",
       "  'Lon': 1.5218,\n",
       "  'Date': '2020-03-18T00:00:00Z',\n",
       "  'Cases': 39,\n",
       "  'Status': 'confirmed'},\n",
       " {'Country': 'Andorra',\n",
       "  'Province': '',\n",
       "  'Lat': 42.5063,\n",
       "  'Lon': 1.5218,\n",
       "  'Date': '2020-03-19T00:00:00Z',\n",
       "  'Cases': 53,\n",
       "  'Status': 'confirmed'},\n",
       " {'Country': 'Andorra',\n",
       "  'Province': '',\n",
       "  'Lat': 42.5063,\n",
       "  'Lon': 1.5218,\n",
       "  'Date': '2020-03-19T00:00:00Z',\n",
       "  'Cases': 0,\n",
       "  'Status': 'deaths'},\n",
       " {'Country': 'Andorra',\n",
       "  'Province': '',\n",
       "  'Lat': 42.5063,\n",
       "  'Lon': 1.5218,\n",
       "  'Date': '2020-03-19T00:00:00Z',\n",
       "  'Cases': 1,\n",
       "  'Status': 'recovered'},\n",
       " {'Country': 'Andorra',\n",
       "  'Province': '',\n",
       "  'Lat': 42.5063,\n",
       "  'Lon': 1.5218,\n",
       "  'Date': '2020-03-20T00:00:00Z',\n",
       "  'Cases': 75,\n",
       "  'Status': 'confirmed'},\n",
       " {'Country': 'Andorra',\n",
       "  'Province': '',\n",
       "  'Lat': 42.5063,\n",
       "  'Lon': 1.5218,\n",
       "  'Date': '2020-03-20T00:00:00Z',\n",
       "  'Cases': 0,\n",
       "  'Status': 'deaths'},\n",
       " {'Country': 'Andorra',\n",
       "  'Province': '',\n",
       "  'Lat': 42.5063,\n",
       "  'Lon': 1.5218,\n",
       "  'Date': '2020-03-20T00:00:00Z',\n",
       "  'Cases': 1,\n",
       "  'Status': 'recovered'},\n",
       " {'Country': 'Angola',\n",
       "  'Province': '',\n",
       "  'Lat': -11.2027,\n",
       "  'Lon': 17.8739,\n",
       "  'Date': '2020-01-22T00:00:00Z',\n",
       "  'Cases': 0,\n",
       "  'Status': 'confirmed'},\n",
       " {'Country': 'Angola',\n",
       "  'Province': '',\n",
       "  'Lat': -11.2027,\n",
       "  'Lon': 17.8739,\n",
       "  'Date': '2020-01-22T00:00:00Z',\n",
       "  'Cases': 0,\n",
       "  'Status': 'deaths'},\n",
       " {'Country': 'Angola',\n",
       "  'Province': '',\n",
       "  'Lat': -11.2027,\n",
       "  'Lon': 17.8739,\n",
       "  'Date': '2020-01-22T00:00:00Z',\n",
       "  'Cases': 0,\n",
       "  'Status': 'recovered'},\n",
       " {'Country': 'Angola',\n",
       "  'Province': '',\n",
       "  'Lat': -11.2027,\n",
       "  'Lon': 17.8739,\n",
       "  'Date': '2020-01-23T00:00:00Z',\n",
       "  'Cases': 0,\n",
       "  'Status': 'confirmed'},\n",
       " {'Country': 'Angola',\n",
       "  'Province': '',\n",
       "  'Lat': -11.2027,\n",
       "  'Lon': 17.8739,\n",
       "  'Date': '2020-01-23T00:00:00Z',\n",
       "  'Cases': 0,\n",
       "  'Status': 'deaths'},\n",
       " {'Country': 'Angola',\n",
       "  'Province': '',\n",
       "  'Lat': -11.2027,\n",
       "  'Lon': 17.8739,\n",
       "  'Date': '2020-01-23T00:00:00Z',\n",
       "  'Cases': 0,\n",
       "  'Status': 'recovered'},\n",
       " {'Country': 'Angola',\n",
       "  'Province': '',\n",
       "  'Lat': -11.2027,\n",
       "  'Lon': 17.8739,\n",
       "  'Date': '2020-01-24T00:00:00Z',\n",
       "  'Cases': 0,\n",
       "  'Status': 'confirmed'},\n",
       " {'Country': 'Angola',\n",
       "  'Province': '',\n",
       "  'Lat': -11.2027,\n",
       "  'Lon': 17.8739,\n",
       "  'Date': '2020-01-24T00:00:00Z',\n",
       "  'Cases': 0,\n",
       "  'Status': 'deaths'},\n",
       " {'Country': 'Angola',\n",
       "  'Province': '',\n",
       "  'Lat': -11.2027,\n",
       "  'Lon': 17.8739,\n",
       "  'Date': '2020-01-24T00:00:00Z',\n",
       "  'Cases': 0,\n",
       "  'Status': 'recovered'},\n",
       " {'Country': 'Angola',\n",
       "  'Province': '',\n",
       "  'Lat': -11.2027,\n",
       "  'Lon': 17.8739,\n",
       "  'Date': '2020-01-25T00:00:00Z',\n",
       "  'Cases': 0,\n",
       "  'Status': 'confirmed'},\n",
       " {'Country': 'Angola',\n",
       "  'Province': '',\n",
       "  'Lat': -11.2027,\n",
       "  'Lon': 17.8739,\n",
       "  'Date': '2020-01-25T00:00:00Z',\n",
       "  'Cases': 0,\n",
       "  'Status': 'deaths'},\n",
       " {'Country': 'Angola',\n",
       "  'Province': '',\n",
       "  'Lat': -11.2027,\n",
       "  'Lon': 17.8739,\n",
       "  'Date': '2020-01-25T00:00:00Z',\n",
       "  'Cases': 0,\n",
       "  'Status': 'recovered'},\n",
       " {'Country': 'Angola',\n",
       "  'Province': '',\n",
       "  'Lat': -11.2027,\n",
       "  'Lon': 17.8739,\n",
       "  'Date': '2020-01-26T00:00:00Z',\n",
       "  'Cases': 0,\n",
       "  'Status': 'confirmed'},\n",
       " {'Country': 'Angola',\n",
       "  'Province': '',\n",
       "  'Lat': -11.2027,\n",
       "  'Lon': 17.8739,\n",
       "  'Date': '2020-01-26T00:00:00Z',\n",
       "  'Cases': 0,\n",
       "  'Status': 'deaths'},\n",
       " {'Country': 'Angola',\n",
       "  'Province': '',\n",
       "  'Lat': -11.2027,\n",
       "  'Lon': 17.8739,\n",
       "  'Date': '2020-01-26T00:00:00Z',\n",
       "  'Cases': 0,\n",
       "  'Status': 'recovered'},\n",
       " {'Country': 'Angola',\n",
       "  'Province': '',\n",
       "  'Lat': -11.2027,\n",
       "  'Lon': 17.8739,\n",
       "  'Date': '2020-01-27T00:00:00Z',\n",
       "  'Cases': 0,\n",
       "  'Status': 'confirmed'},\n",
       " {'Country': 'Angola',\n",
       "  'Province': '',\n",
       "  'Lat': -11.2027,\n",
       "  'Lon': 17.8739,\n",
       "  'Date': '2020-01-27T00:00:00Z',\n",
       "  'Cases': 0,\n",
       "  'Status': 'deaths'},\n",
       " {'Country': 'Angola',\n",
       "  'Province': '',\n",
       "  'Lat': -11.2027,\n",
       "  'Lon': 17.8739,\n",
       "  'Date': '2020-01-27T00:00:00Z',\n",
       "  'Cases': 0,\n",
       "  'Status': 'recovered'},\n",
       " {'Country': 'Angola',\n",
       "  'Province': '',\n",
       "  'Lat': -11.2027,\n",
       "  'Lon': 17.8739,\n",
       "  'Date': '2020-01-28T00:00:00Z',\n",
       "  'Cases': 0,\n",
       "  'Status': 'confirmed'},\n",
       " {'Country': 'Angola',\n",
       "  'Province': '',\n",
       "  'Lat': -11.2027,\n",
       "  'Lon': 17.8739,\n",
       "  'Date': '2020-01-28T00:00:00Z',\n",
       "  'Cases': 0,\n",
       "  'Status': 'deaths'},\n",
       " {'Country': 'Angola',\n",
       "  'Province': '',\n",
       "  'Lat': -11.2027,\n",
       "  'Lon': 17.8739,\n",
       "  'Date': '2020-01-28T00:00:00Z',\n",
       "  'Cases': 0,\n",
       "  'Status': 'recovered'},\n",
       " {'Country': 'Angola',\n",
       "  'Province': '',\n",
       "  'Lat': -11.2027,\n",
       "  'Lon': 17.8739,\n",
       "  'Date': '2020-01-29T00:00:00Z',\n",
       "  'Cases': 0,\n",
       "  'Status': 'confirmed'},\n",
       " {'Country': 'Angola',\n",
       "  'Province': '',\n",
       "  'Lat': -11.2027,\n",
       "  'Lon': 17.8739,\n",
       "  'Date': '2020-01-29T00:00:00Z',\n",
       "  'Cases': 0,\n",
       "  'Status': 'deaths'},\n",
       " {'Country': 'Angola',\n",
       "  'Province': '',\n",
       "  'Lat': -11.2027,\n",
       "  'Lon': 17.8739,\n",
       "  'Date': '2020-01-29T00:00:00Z',\n",
       "  'Cases': 0,\n",
       "  'Status': 'recovered'},\n",
       " {'Country': 'Angola',\n",
       "  'Province': '',\n",
       "  'Lat': -11.2027,\n",
       "  'Lon': 17.8739,\n",
       "  'Date': '2020-01-30T00:00:00Z',\n",
       "  'Cases': 0,\n",
       "  'Status': 'confirmed'},\n",
       " {'Country': 'Angola',\n",
       "  'Province': '',\n",
       "  'Lat': -11.2027,\n",
       "  'Lon': 17.8739,\n",
       "  'Date': '2020-01-30T00:00:00Z',\n",
       "  'Cases': 0,\n",
       "  'Status': 'deaths'},\n",
       " {'Country': 'Angola',\n",
       "  'Province': '',\n",
       "  'Lat': -11.2027,\n",
       "  'Lon': 17.8739,\n",
       "  'Date': '2020-01-30T00:00:00Z',\n",
       "  'Cases': 0,\n",
       "  'Status': 'recovered'},\n",
       " {'Country': 'Angola',\n",
       "  'Province': '',\n",
       "  'Lat': -11.2027,\n",
       "  'Lon': 17.8739,\n",
       "  'Date': '2020-01-31T00:00:00Z',\n",
       "  'Cases': 0,\n",
       "  'Status': 'confirmed'},\n",
       " {'Country': 'Angola',\n",
       "  'Province': '',\n",
       "  'Lat': -11.2027,\n",
       "  'Lon': 17.8739,\n",
       "  'Date': '2020-01-31T00:00:00Z',\n",
       "  'Cases': 0,\n",
       "  'Status': 'deaths'},\n",
       " {'Country': 'Angola',\n",
       "  'Province': '',\n",
       "  'Lat': -11.2027,\n",
       "  'Lon': 17.8739,\n",
       "  'Date': '2020-01-31T00:00:00Z',\n",
       "  'Cases': 0,\n",
       "  'Status': 'recovered'},\n",
       " {'Country': 'Angola',\n",
       "  'Province': '',\n",
       "  'Lat': -11.2027,\n",
       "  'Lon': 17.8739,\n",
       "  'Date': '2020-02-01T00:00:00Z',\n",
       "  'Cases': 0,\n",
       "  'Status': 'confirmed'},\n",
       " {'Country': 'Angola',\n",
       "  'Province': '',\n",
       "  'Lat': -11.2027,\n",
       "  'Lon': 17.8739,\n",
       "  'Date': '2020-02-01T00:00:00Z',\n",
       "  'Cases': 0,\n",
       "  'Status': 'deaths'},\n",
       " {'Country': 'Angola',\n",
       "  'Province': '',\n",
       "  'Lat': -11.2027,\n",
       "  'Lon': 17.8739,\n",
       "  'Date': '2020-02-01T00:00:00Z',\n",
       "  'Cases': 0,\n",
       "  'Status': 'recovered'},\n",
       " {'Country': 'Angola',\n",
       "  'Province': '',\n",
       "  'Lat': -11.2027,\n",
       "  'Lon': 17.8739,\n",
       "  'Date': '2020-02-02T00:00:00Z',\n",
       "  'Cases': 0,\n",
       "  'Status': 'confirmed'},\n",
       " {'Country': 'Angola',\n",
       "  'Province': '',\n",
       "  'Lat': -11.2027,\n",
       "  'Lon': 17.8739,\n",
       "  'Date': '2020-02-02T00:00:00Z',\n",
       "  'Cases': 0,\n",
       "  'Status': 'deaths'},\n",
       " {'Country': 'Angola',\n",
       "  'Province': '',\n",
       "  'Lat': -11.2027,\n",
       "  'Lon': 17.8739,\n",
       "  'Date': '2020-02-02T00:00:00Z',\n",
       "  'Cases': 0,\n",
       "  'Status': 'recovered'},\n",
       " {'Country': 'Angola',\n",
       "  'Province': '',\n",
       "  'Lat': -11.2027,\n",
       "  'Lon': 17.8739,\n",
       "  'Date': '2020-02-03T00:00:00Z',\n",
       "  'Cases': 0,\n",
       "  'Status': 'confirmed'},\n",
       " {'Country': 'Angola',\n",
       "  'Province': '',\n",
       "  'Lat': -11.2027,\n",
       "  'Lon': 17.8739,\n",
       "  'Date': '2020-02-03T00:00:00Z',\n",
       "  'Cases': 0,\n",
       "  'Status': 'deaths'},\n",
       " {'Country': 'Angola',\n",
       "  'Province': '',\n",
       "  'Lat': -11.2027,\n",
       "  'Lon': 17.8739,\n",
       "  'Date': '2020-02-03T00:00:00Z',\n",
       "  'Cases': 0,\n",
       "  'Status': 'recovered'},\n",
       " {'Country': 'Angola',\n",
       "  'Province': '',\n",
       "  'Lat': -11.2027,\n",
       "  'Lon': 17.8739,\n",
       "  'Date': '2020-02-04T00:00:00Z',\n",
       "  'Cases': 0,\n",
       "  'Status': 'confirmed'},\n",
       " {'Country': 'Angola',\n",
       "  'Province': '',\n",
       "  'Lat': -11.2027,\n",
       "  'Lon': 17.8739,\n",
       "  'Date': '2020-02-04T00:00:00Z',\n",
       "  'Cases': 0,\n",
       "  'Status': 'deaths'},\n",
       " {'Country': 'Angola',\n",
       "  'Province': '',\n",
       "  'Lat': -11.2027,\n",
       "  'Lon': 17.8739,\n",
       "  'Date': '2020-02-04T00:00:00Z',\n",
       "  'Cases': 0,\n",
       "  'Status': 'recovered'},\n",
       " {'Country': 'Angola',\n",
       "  'Province': '',\n",
       "  'Lat': -11.2027,\n",
       "  'Lon': 17.8739,\n",
       "  'Date': '2020-02-05T00:00:00Z',\n",
       "  'Cases': 0,\n",
       "  'Status': 'confirmed'},\n",
       " {'Country': 'Angola',\n",
       "  'Province': '',\n",
       "  'Lat': -11.2027,\n",
       "  'Lon': 17.8739,\n",
       "  'Date': '2020-02-05T00:00:00Z',\n",
       "  'Cases': 0,\n",
       "  'Status': 'deaths'},\n",
       " {'Country': 'Angola',\n",
       "  'Province': '',\n",
       "  'Lat': -11.2027,\n",
       "  'Lon': 17.8739,\n",
       "  'Date': '2020-02-05T00:00:00Z',\n",
       "  'Cases': 0,\n",
       "  'Status': 'recovered'},\n",
       " {'Country': 'Angola',\n",
       "  'Province': '',\n",
       "  'Lat': -11.2027,\n",
       "  'Lon': 17.8739,\n",
       "  'Date': '2020-02-06T00:00:00Z',\n",
       "  'Cases': 0,\n",
       "  'Status': 'confirmed'},\n",
       " {'Country': 'Angola',\n",
       "  'Province': '',\n",
       "  'Lat': -11.2027,\n",
       "  'Lon': 17.8739,\n",
       "  'Date': '2020-02-06T00:00:00Z',\n",
       "  'Cases': 0,\n",
       "  'Status': 'deaths'},\n",
       " {'Country': 'Angola',\n",
       "  'Province': '',\n",
       "  'Lat': -11.2027,\n",
       "  'Lon': 17.8739,\n",
       "  'Date': '2020-02-06T00:00:00Z',\n",
       "  'Cases': 0,\n",
       "  'Status': 'recovered'},\n",
       " {'Country': 'Angola',\n",
       "  'Province': '',\n",
       "  'Lat': -11.2027,\n",
       "  'Lon': 17.8739,\n",
       "  'Date': '2020-02-07T00:00:00Z',\n",
       "  'Cases': 0,\n",
       "  'Status': 'confirmed'},\n",
       " {'Country': 'Angola',\n",
       "  'Province': '',\n",
       "  'Lat': -11.2027,\n",
       "  'Lon': 17.8739,\n",
       "  'Date': '2020-02-07T00:00:00Z',\n",
       "  'Cases': 0,\n",
       "  'Status': 'deaths'},\n",
       " {'Country': 'Angola',\n",
       "  'Province': '',\n",
       "  'Lat': -11.2027,\n",
       "  'Lon': 17.8739,\n",
       "  'Date': '2020-02-07T00:00:00Z',\n",
       "  'Cases': 0,\n",
       "  'Status': 'recovered'},\n",
       " {'Country': 'Angola',\n",
       "  'Province': '',\n",
       "  'Lat': -11.2027,\n",
       "  'Lon': 17.8739,\n",
       "  'Date': '2020-02-08T00:00:00Z',\n",
       "  'Cases': 0,\n",
       "  'Status': 'confirmed'},\n",
       " {'Country': 'Angola',\n",
       "  'Province': '',\n",
       "  'Lat': -11.2027,\n",
       "  'Lon': 17.8739,\n",
       "  'Date': '2020-02-08T00:00:00Z',\n",
       "  'Cases': 0,\n",
       "  'Status': 'deaths'},\n",
       " {'Country': 'Angola',\n",
       "  'Province': '',\n",
       "  'Lat': -11.2027,\n",
       "  'Lon': 17.8739,\n",
       "  'Date': '2020-02-08T00:00:00Z',\n",
       "  'Cases': 0,\n",
       "  'Status': 'recovered'},\n",
       " {'Country': 'Angola',\n",
       "  'Province': '',\n",
       "  'Lat': -11.2027,\n",
       "  'Lon': 17.8739,\n",
       "  'Date': '2020-02-09T00:00:00Z',\n",
       "  'Cases': 0,\n",
       "  'Status': 'confirmed'},\n",
       " {'Country': 'Angola',\n",
       "  'Province': '',\n",
       "  'Lat': -11.2027,\n",
       "  'Lon': 17.8739,\n",
       "  'Date': '2020-02-09T00:00:00Z',\n",
       "  'Cases': 0,\n",
       "  'Status': 'deaths'},\n",
       " {'Country': 'Angola',\n",
       "  'Province': '',\n",
       "  'Lat': -11.2027,\n",
       "  'Lon': 17.8739,\n",
       "  'Date': '2020-02-09T00:00:00Z',\n",
       "  'Cases': 0,\n",
       "  'Status': 'recovered'},\n",
       " {'Country': 'Angola',\n",
       "  'Province': '',\n",
       "  'Lat': -11.2027,\n",
       "  'Lon': 17.8739,\n",
       "  'Date': '2020-02-10T00:00:00Z',\n",
       "  'Cases': 0,\n",
       "  'Status': 'confirmed'},\n",
       " {'Country': 'Angola',\n",
       "  'Province': '',\n",
       "  'Lat': -11.2027,\n",
       "  'Lon': 17.8739,\n",
       "  'Date': '2020-02-10T00:00:00Z',\n",
       "  'Cases': 0,\n",
       "  'Status': 'deaths'},\n",
       " {'Country': 'Angola',\n",
       "  'Province': '',\n",
       "  'Lat': -11.2027,\n",
       "  'Lon': 17.8739,\n",
       "  'Date': '2020-02-10T00:00:00Z',\n",
       "  'Cases': 0,\n",
       "  'Status': 'recovered'},\n",
       " {'Country': 'Angola',\n",
       "  'Province': '',\n",
       "  'Lat': -11.2027,\n",
       "  'Lon': 17.8739,\n",
       "  'Date': '2020-02-11T00:00:00Z',\n",
       "  'Cases': 0,\n",
       "  'Status': 'confirmed'},\n",
       " {'Country': 'Angola',\n",
       "  'Province': '',\n",
       "  'Lat': -11.2027,\n",
       "  'Lon': 17.8739,\n",
       "  'Date': '2020-02-11T00:00:00Z',\n",
       "  'Cases': 0,\n",
       "  'Status': 'deaths'},\n",
       " {'Country': 'Angola',\n",
       "  'Province': '',\n",
       "  'Lat': -11.2027,\n",
       "  'Lon': 17.8739,\n",
       "  'Date': '2020-02-11T00:00:00Z',\n",
       "  'Cases': 0,\n",
       "  'Status': 'recovered'},\n",
       " {'Country': 'Angola',\n",
       "  'Province': '',\n",
       "  'Lat': -11.2027,\n",
       "  'Lon': 17.8739,\n",
       "  'Date': '2020-02-12T00:00:00Z',\n",
       "  'Cases': 0,\n",
       "  'Status': 'confirmed'},\n",
       " {'Country': 'Angola',\n",
       "  'Province': '',\n",
       "  'Lat': -11.2027,\n",
       "  'Lon': 17.8739,\n",
       "  'Date': '2020-02-12T00:00:00Z',\n",
       "  'Cases': 0,\n",
       "  'Status': 'deaths'},\n",
       " {'Country': 'Angola',\n",
       "  'Province': '',\n",
       "  'Lat': -11.2027,\n",
       "  'Lon': 17.8739,\n",
       "  'Date': '2020-02-12T00:00:00Z',\n",
       "  'Cases': 0,\n",
       "  'Status': 'recovered'},\n",
       " {'Country': 'Angola',\n",
       "  'Province': '',\n",
       "  'Lat': -11.2027,\n",
       "  'Lon': 17.8739,\n",
       "  'Date': '2020-02-13T00:00:00Z',\n",
       "  'Cases': 0,\n",
       "  'Status': 'confirmed'},\n",
       " {'Country': 'Angola',\n",
       "  'Province': '',\n",
       "  'Lat': -11.2027,\n",
       "  'Lon': 17.8739,\n",
       "  'Date': '2020-02-13T00:00:00Z',\n",
       "  'Cases': 0,\n",
       "  'Status': 'deaths'},\n",
       " {'Country': 'Angola',\n",
       "  'Province': '',\n",
       "  'Lat': -11.2027,\n",
       "  'Lon': 17.8739,\n",
       "  'Date': '2020-02-13T00:00:00Z',\n",
       "  'Cases': 0,\n",
       "  'Status': 'recovered'},\n",
       " {'Country': 'Angola',\n",
       "  'Province': '',\n",
       "  'Lat': -11.2027,\n",
       "  'Lon': 17.8739,\n",
       "  'Date': '2020-02-14T00:00:00Z',\n",
       "  'Cases': 0,\n",
       "  'Status': 'confirmed'},\n",
       " {'Country': 'Angola',\n",
       "  'Province': '',\n",
       "  'Lat': -11.2027,\n",
       "  'Lon': 17.8739,\n",
       "  'Date': '2020-02-14T00:00:00Z',\n",
       "  'Cases': 0,\n",
       "  'Status': 'deaths'},\n",
       " {'Country': 'Angola',\n",
       "  'Province': '',\n",
       "  'Lat': -11.2027,\n",
       "  'Lon': 17.8739,\n",
       "  'Date': '2020-02-14T00:00:00Z',\n",
       "  'Cases': 0,\n",
       "  'Status': 'recovered'},\n",
       " {'Country': 'Angola',\n",
       "  'Province': '',\n",
       "  'Lat': -11.2027,\n",
       "  'Lon': 17.8739,\n",
       "  'Date': '2020-02-15T00:00:00Z',\n",
       "  'Cases': 0,\n",
       "  'Status': 'confirmed'},\n",
       " {'Country': 'Angola',\n",
       "  'Province': '',\n",
       "  'Lat': -11.2027,\n",
       "  'Lon': 17.8739,\n",
       "  'Date': '2020-02-15T00:00:00Z',\n",
       "  'Cases': 0,\n",
       "  'Status': 'deaths'},\n",
       " {'Country': 'Angola',\n",
       "  'Province': '',\n",
       "  'Lat': -11.2027,\n",
       "  'Lon': 17.8739,\n",
       "  'Date': '2020-02-15T00:00:00Z',\n",
       "  'Cases': 0,\n",
       "  'Status': 'recovered'},\n",
       " {'Country': 'Angola',\n",
       "  'Province': '',\n",
       "  'Lat': -11.2027,\n",
       "  'Lon': 17.8739,\n",
       "  'Date': '2020-02-16T00:00:00Z',\n",
       "  'Cases': 0,\n",
       "  'Status': 'confirmed'},\n",
       " {'Country': 'Angola',\n",
       "  'Province': '',\n",
       "  'Lat': -11.2027,\n",
       "  'Lon': 17.8739,\n",
       "  'Date': '2020-02-16T00:00:00Z',\n",
       "  'Cases': 0,\n",
       "  'Status': 'deaths'},\n",
       " {'Country': 'Angola',\n",
       "  'Province': '',\n",
       "  'Lat': -11.2027,\n",
       "  'Lon': 17.8739,\n",
       "  'Date': '2020-02-16T00:00:00Z',\n",
       "  'Cases': 0,\n",
       "  'Status': 'recovered'},\n",
       " {'Country': 'Angola',\n",
       "  'Province': '',\n",
       "  'Lat': -11.2027,\n",
       "  'Lon': 17.8739,\n",
       "  'Date': '2020-02-17T00:00:00Z',\n",
       "  'Cases': 0,\n",
       "  'Status': 'confirmed'},\n",
       " {'Country': 'Angola',\n",
       "  'Province': '',\n",
       "  'Lat': -11.2027,\n",
       "  'Lon': 17.8739,\n",
       "  'Date': '2020-02-17T00:00:00Z',\n",
       "  'Cases': 0,\n",
       "  'Status': 'deaths'},\n",
       " {'Country': 'Angola',\n",
       "  'Province': '',\n",
       "  'Lat': -11.2027,\n",
       "  'Lon': 17.8739,\n",
       "  'Date': '2020-02-17T00:00:00Z',\n",
       "  'Cases': 0,\n",
       "  'Status': 'recovered'},\n",
       " {'Country': 'Angola',\n",
       "  'Province': '',\n",
       "  'Lat': -11.2027,\n",
       "  'Lon': 17.8739,\n",
       "  'Date': '2020-02-18T00:00:00Z',\n",
       "  'Cases': 0,\n",
       "  'Status': 'confirmed'},\n",
       " {'Country': 'Angola',\n",
       "  'Province': '',\n",
       "  'Lat': -11.2027,\n",
       "  'Lon': 17.8739,\n",
       "  'Date': '2020-02-18T00:00:00Z',\n",
       "  'Cases': 0,\n",
       "  'Status': 'deaths'},\n",
       " {'Country': 'Angola',\n",
       "  'Province': '',\n",
       "  'Lat': -11.2027,\n",
       "  'Lon': 17.8739,\n",
       "  'Date': '2020-02-18T00:00:00Z',\n",
       "  'Cases': 0,\n",
       "  'Status': 'recovered'},\n",
       " {'Country': 'Angola',\n",
       "  'Province': '',\n",
       "  'Lat': -11.2027,\n",
       "  'Lon': 17.8739,\n",
       "  'Date': '2020-02-19T00:00:00Z',\n",
       "  'Cases': 0,\n",
       "  'Status': 'confirmed'},\n",
       " {'Country': 'Angola',\n",
       "  'Province': '',\n",
       "  'Lat': -11.2027,\n",
       "  'Lon': 17.8739,\n",
       "  'Date': '2020-02-19T00:00:00Z',\n",
       "  'Cases': 0,\n",
       "  'Status': 'deaths'},\n",
       " {'Country': 'Angola',\n",
       "  'Province': '',\n",
       "  'Lat': -11.2027,\n",
       "  'Lon': 17.8739,\n",
       "  'Date': '2020-02-19T00:00:00Z',\n",
       "  'Cases': 0,\n",
       "  'Status': 'recovered'},\n",
       " {'Country': 'Angola',\n",
       "  'Province': '',\n",
       "  'Lat': -11.2027,\n",
       "  'Lon': 17.8739,\n",
       "  'Date': '2020-02-20T00:00:00Z',\n",
       "  'Cases': 0,\n",
       "  'Status': 'confirmed'},\n",
       " {'Country': 'Angola',\n",
       "  'Province': '',\n",
       "  'Lat': -11.2027,\n",
       "  'Lon': 17.8739,\n",
       "  'Date': '2020-02-20T00:00:00Z',\n",
       "  'Cases': 0,\n",
       "  'Status': 'deaths'},\n",
       " {'Country': 'Angola',\n",
       "  'Province': '',\n",
       "  'Lat': -11.2027,\n",
       "  'Lon': 17.8739,\n",
       "  'Date': '2020-02-20T00:00:00Z',\n",
       "  'Cases': 0,\n",
       "  'Status': 'recovered'},\n",
       " {'Country': 'Angola',\n",
       "  'Province': '',\n",
       "  'Lat': -11.2027,\n",
       "  'Lon': 17.8739,\n",
       "  'Date': '2020-02-21T00:00:00Z',\n",
       "  'Cases': 0,\n",
       "  'Status': 'confirmed'},\n",
       " {'Country': 'Angola',\n",
       "  'Province': '',\n",
       "  'Lat': -11.2027,\n",
       "  'Lon': 17.8739,\n",
       "  'Date': '2020-02-21T00:00:00Z',\n",
       "  'Cases': 0,\n",
       "  'Status': 'deaths'},\n",
       " {'Country': 'Angola',\n",
       "  'Province': '',\n",
       "  'Lat': -11.2027,\n",
       "  'Lon': 17.8739,\n",
       "  'Date': '2020-02-21T00:00:00Z',\n",
       "  'Cases': 0,\n",
       "  'Status': 'recovered'},\n",
       " {'Country': 'Angola',\n",
       "  'Province': '',\n",
       "  'Lat': -11.2027,\n",
       "  'Lon': 17.8739,\n",
       "  'Date': '2020-02-22T00:00:00Z',\n",
       "  'Cases': 0,\n",
       "  'Status': 'confirmed'},\n",
       " {'Country': 'Angola',\n",
       "  'Province': '',\n",
       "  'Lat': -11.2027,\n",
       "  'Lon': 17.8739,\n",
       "  'Date': '2020-02-22T00:00:00Z',\n",
       "  'Cases': 0,\n",
       "  'Status': 'deaths'},\n",
       " {'Country': 'Angola',\n",
       "  'Province': '',\n",
       "  'Lat': -11.2027,\n",
       "  'Lon': 17.8739,\n",
       "  'Date': '2020-02-22T00:00:00Z',\n",
       "  'Cases': 0,\n",
       "  'Status': 'recovered'},\n",
       " {'Country': 'Angola',\n",
       "  'Province': '',\n",
       "  'Lat': -11.2027,\n",
       "  'Lon': 17.8739,\n",
       "  'Date': '2020-02-23T00:00:00Z',\n",
       "  'Cases': 0,\n",
       "  'Status': 'confirmed'},\n",
       " {'Country': 'Angola',\n",
       "  'Province': '',\n",
       "  'Lat': -11.2027,\n",
       "  'Lon': 17.8739,\n",
       "  'Date': '2020-02-23T00:00:00Z',\n",
       "  'Cases': 0,\n",
       "  'Status': 'deaths'},\n",
       " {'Country': 'Angola',\n",
       "  'Province': '',\n",
       "  'Lat': -11.2027,\n",
       "  'Lon': 17.8739,\n",
       "  'Date': '2020-02-23T00:00:00Z',\n",
       "  'Cases': 0,\n",
       "  'Status': 'recovered'},\n",
       " {'Country': 'Angola',\n",
       "  'Province': '',\n",
       "  'Lat': -11.2027,\n",
       "  'Lon': 17.8739,\n",
       "  'Date': '2020-02-24T00:00:00Z',\n",
       "  'Cases': 0,\n",
       "  'Status': 'confirmed'},\n",
       " {'Country': 'Angola',\n",
       "  'Province': '',\n",
       "  'Lat': -11.2027,\n",
       "  'Lon': 17.8739,\n",
       "  'Date': '2020-02-24T00:00:00Z',\n",
       "  'Cases': 0,\n",
       "  'Status': 'deaths'},\n",
       " {'Country': 'Angola',\n",
       "  'Province': '',\n",
       "  'Lat': -11.2027,\n",
       "  'Lon': 17.8739,\n",
       "  'Date': '2020-02-24T00:00:00Z',\n",
       "  'Cases': 0,\n",
       "  'Status': 'recovered'},\n",
       " {'Country': 'Angola',\n",
       "  'Province': '',\n",
       "  'Lat': -11.2027,\n",
       "  'Lon': 17.8739,\n",
       "  'Date': '2020-02-25T00:00:00Z',\n",
       "  'Cases': 0,\n",
       "  'Status': 'confirmed'},\n",
       " {'Country': 'Angola',\n",
       "  'Province': '',\n",
       "  'Lat': -11.2027,\n",
       "  'Lon': 17.8739,\n",
       "  'Date': '2020-02-25T00:00:00Z',\n",
       "  'Cases': 0,\n",
       "  'Status': 'deaths'},\n",
       " {'Country': 'Angola',\n",
       "  'Province': '',\n",
       "  'Lat': -11.2027,\n",
       "  'Lon': 17.8739,\n",
       "  'Date': '2020-02-25T00:00:00Z',\n",
       "  'Cases': 0,\n",
       "  'Status': 'recovered'},\n",
       " {'Country': 'Angola',\n",
       "  'Province': '',\n",
       "  'Lat': -11.2027,\n",
       "  'Lon': 17.8739,\n",
       "  'Date': '2020-02-26T00:00:00Z',\n",
       "  'Cases': 0,\n",
       "  'Status': 'confirmed'},\n",
       " {'Country': 'Angola',\n",
       "  'Province': '',\n",
       "  'Lat': -11.2027,\n",
       "  'Lon': 17.8739,\n",
       "  'Date': '2020-02-26T00:00:00Z',\n",
       "  'Cases': 0,\n",
       "  'Status': 'deaths'},\n",
       " {'Country': 'Angola',\n",
       "  'Province': '',\n",
       "  'Lat': -11.2027,\n",
       "  'Lon': 17.8739,\n",
       "  'Date': '2020-02-26T00:00:00Z',\n",
       "  'Cases': 0,\n",
       "  'Status': 'recovered'},\n",
       " {'Country': 'Angola',\n",
       "  'Province': '',\n",
       "  'Lat': -11.2027,\n",
       "  'Lon': 17.8739,\n",
       "  'Date': '2020-02-27T00:00:00Z',\n",
       "  'Cases': 0,\n",
       "  'Status': 'confirmed'},\n",
       " {'Country': 'Angola',\n",
       "  'Province': '',\n",
       "  'Lat': -11.2027,\n",
       "  'Lon': 17.8739,\n",
       "  'Date': '2020-02-27T00:00:00Z',\n",
       "  'Cases': 0,\n",
       "  'Status': 'deaths'},\n",
       " {'Country': 'Angola',\n",
       "  'Province': '',\n",
       "  'Lat': -11.2027,\n",
       "  'Lon': 17.8739,\n",
       "  'Date': '2020-02-27T00:00:00Z',\n",
       "  'Cases': 0,\n",
       "  'Status': 'recovered'},\n",
       " {'Country': 'Angola',\n",
       "  'Province': '',\n",
       "  'Lat': -11.2027,\n",
       "  'Lon': 17.8739,\n",
       "  'Date': '2020-02-28T00:00:00Z',\n",
       "  'Cases': 0,\n",
       "  'Status': 'confirmed'},\n",
       " {'Country': 'Angola',\n",
       "  'Province': '',\n",
       "  'Lat': -11.2027,\n",
       "  'Lon': 17.8739,\n",
       "  'Date': '2020-02-28T00:00:00Z',\n",
       "  'Cases': 0,\n",
       "  'Status': 'deaths'},\n",
       " {'Country': 'Angola',\n",
       "  'Province': '',\n",
       "  'Lat': -11.2027,\n",
       "  'Lon': 17.8739,\n",
       "  'Date': '2020-02-28T00:00:00Z',\n",
       "  'Cases': 0,\n",
       "  'Status': 'recovered'},\n",
       " {'Country': 'Angola',\n",
       "  'Province': '',\n",
       "  'Lat': -11.2027,\n",
       "  'Lon': 17.8739,\n",
       "  'Date': '2020-02-29T00:00:00Z',\n",
       "  'Cases': 0,\n",
       "  'Status': 'confirmed'},\n",
       " {'Country': 'Angola',\n",
       "  'Province': '',\n",
       "  'Lat': -11.2027,\n",
       "  'Lon': 17.8739,\n",
       "  'Date': '2020-02-29T00:00:00Z',\n",
       "  'Cases': 0,\n",
       "  'Status': 'deaths'},\n",
       " {'Country': 'Angola',\n",
       "  'Province': '',\n",
       "  'Lat': -11.2027,\n",
       "  'Lon': 17.8739,\n",
       "  'Date': '2020-02-29T00:00:00Z',\n",
       "  'Cases': 0,\n",
       "  'Status': 'recovered'},\n",
       " {'Country': 'Angola',\n",
       "  'Province': '',\n",
       "  'Lat': -11.2027,\n",
       "  'Lon': 17.8739,\n",
       "  'Date': '2020-03-01T00:00:00Z',\n",
       "  'Cases': 0,\n",
       "  'Status': 'confirmed'},\n",
       " {'Country': 'Angola',\n",
       "  'Province': '',\n",
       "  'Lat': -11.2027,\n",
       "  'Lon': 17.8739,\n",
       "  'Date': '2020-03-01T00:00:00Z',\n",
       "  'Cases': 0,\n",
       "  'Status': 'deaths'},\n",
       " {'Country': 'Angola',\n",
       "  'Province': '',\n",
       "  'Lat': -11.2027,\n",
       "  'Lon': 17.8739,\n",
       "  'Date': '2020-03-01T00:00:00Z',\n",
       "  'Cases': 0,\n",
       "  'Status': 'recovered'},\n",
       " {'Country': 'Angola',\n",
       "  'Province': '',\n",
       "  'Lat': -11.2027,\n",
       "  'Lon': 17.8739,\n",
       "  'Date': '2020-03-02T00:00:00Z',\n",
       "  'Cases': 0,\n",
       "  'Status': 'confirmed'},\n",
       " {'Country': 'Angola',\n",
       "  'Province': '',\n",
       "  'Lat': -11.2027,\n",
       "  'Lon': 17.8739,\n",
       "  'Date': '2020-03-02T00:00:00Z',\n",
       "  'Cases': 0,\n",
       "  'Status': 'deaths'},\n",
       " {'Country': 'Angola',\n",
       "  'Province': '',\n",
       "  'Lat': -11.2027,\n",
       "  'Lon': 17.8739,\n",
       "  'Date': '2020-03-02T00:00:00Z',\n",
       "  'Cases': 0,\n",
       "  'Status': 'recovered'},\n",
       " {'Country': 'Angola',\n",
       "  'Province': '',\n",
       "  'Lat': -11.2027,\n",
       "  'Lon': 17.8739,\n",
       "  'Date': '2020-03-03T00:00:00Z',\n",
       "  'Cases': 0,\n",
       "  'Status': 'confirmed'},\n",
       " {'Country': 'Angola',\n",
       "  'Province': '',\n",
       "  'Lat': -11.2027,\n",
       "  'Lon': 17.8739,\n",
       "  'Date': '2020-03-03T00:00:00Z',\n",
       "  'Cases': 0,\n",
       "  'Status': 'deaths'},\n",
       " {'Country': 'Angola',\n",
       "  'Province': '',\n",
       "  'Lat': -11.2027,\n",
       "  'Lon': 17.8739,\n",
       "  'Date': '2020-03-03T00:00:00Z',\n",
       "  'Cases': 0,\n",
       "  'Status': 'recovered'},\n",
       " {'Country': 'Angola',\n",
       "  'Province': '',\n",
       "  'Lat': -11.2027,\n",
       "  'Lon': 17.8739,\n",
       "  'Date': '2020-03-04T00:00:00Z',\n",
       "  'Cases': 0,\n",
       "  'Status': 'confirmed'},\n",
       " {'Country': 'Angola',\n",
       "  'Province': '',\n",
       "  'Lat': -11.2027,\n",
       "  'Lon': 17.8739,\n",
       "  'Date': '2020-03-04T00:00:00Z',\n",
       "  'Cases': 0,\n",
       "  'Status': 'deaths'},\n",
       " {'Country': 'Angola',\n",
       "  'Province': '',\n",
       "  'Lat': -11.2027,\n",
       "  'Lon': 17.8739,\n",
       "  'Date': '2020-03-04T00:00:00Z',\n",
       "  'Cases': 0,\n",
       "  'Status': 'recovered'},\n",
       " {'Country': 'Angola',\n",
       "  'Province': '',\n",
       "  'Lat': -11.2027,\n",
       "  'Lon': 17.8739,\n",
       "  'Date': '2020-03-05T00:00:00Z',\n",
       "  'Cases': 0,\n",
       "  'Status': 'confirmed'},\n",
       " {'Country': 'Angola',\n",
       "  'Province': '',\n",
       "  'Lat': -11.2027,\n",
       "  'Lon': 17.8739,\n",
       "  'Date': '2020-03-05T00:00:00Z',\n",
       "  'Cases': 0,\n",
       "  'Status': 'deaths'},\n",
       " {'Country': 'Angola',\n",
       "  'Province': '',\n",
       "  'Lat': -11.2027,\n",
       "  'Lon': 17.8739,\n",
       "  'Date': '2020-03-05T00:00:00Z',\n",
       "  'Cases': 0,\n",
       "  'Status': 'recovered'},\n",
       " {'Country': 'Angola',\n",
       "  'Province': '',\n",
       "  'Lat': -11.2027,\n",
       "  'Lon': 17.8739,\n",
       "  'Date': '2020-03-06T00:00:00Z',\n",
       "  'Cases': 0,\n",
       "  'Status': 'confirmed'},\n",
       " {'Country': 'Angola',\n",
       "  'Province': '',\n",
       "  'Lat': -11.2027,\n",
       "  'Lon': 17.8739,\n",
       "  'Date': '2020-03-06T00:00:00Z',\n",
       "  'Cases': 0,\n",
       "  'Status': 'deaths'},\n",
       " {'Country': 'Angola',\n",
       "  'Province': '',\n",
       "  'Lat': -11.2027,\n",
       "  'Lon': 17.8739,\n",
       "  'Date': '2020-03-06T00:00:00Z',\n",
       "  'Cases': 0,\n",
       "  'Status': 'recovered'},\n",
       " {'Country': 'Angola',\n",
       "  'Province': '',\n",
       "  'Lat': -11.2027,\n",
       "  'Lon': 17.8739,\n",
       "  'Date': '2020-03-07T00:00:00Z',\n",
       "  'Cases': 0,\n",
       "  'Status': 'confirmed'},\n",
       " {'Country': 'Angola',\n",
       "  'Province': '',\n",
       "  'Lat': -11.2027,\n",
       "  'Lon': 17.8739,\n",
       "  'Date': '2020-03-07T00:00:00Z',\n",
       "  'Cases': 0,\n",
       "  'Status': 'deaths'},\n",
       " {'Country': 'Angola',\n",
       "  'Province': '',\n",
       "  'Lat': -11.2027,\n",
       "  'Lon': 17.8739,\n",
       "  'Date': '2020-03-07T00:00:00Z',\n",
       "  'Cases': 0,\n",
       "  'Status': 'recovered'},\n",
       " {'Country': 'Angola',\n",
       "  'Province': '',\n",
       "  'Lat': -11.2027,\n",
       "  'Lon': 17.8739,\n",
       "  'Date': '2020-03-08T00:00:00Z',\n",
       "  'Cases': 0,\n",
       "  'Status': 'confirmed'},\n",
       " {'Country': 'Angola',\n",
       "  'Province': '',\n",
       "  'Lat': -11.2027,\n",
       "  'Lon': 17.8739,\n",
       "  'Date': '2020-03-08T00:00:00Z',\n",
       "  'Cases': 0,\n",
       "  'Status': 'deaths'},\n",
       " {'Country': 'Angola',\n",
       "  'Province': '',\n",
       "  'Lat': -11.2027,\n",
       "  'Lon': 17.8739,\n",
       "  'Date': '2020-03-08T00:00:00Z',\n",
       "  'Cases': 0,\n",
       "  'Status': 'recovered'},\n",
       " {'Country': 'Angola',\n",
       "  'Province': '',\n",
       "  'Lat': -11.2027,\n",
       "  'Lon': 17.8739,\n",
       "  'Date': '2020-03-09T00:00:00Z',\n",
       "  'Cases': 0,\n",
       "  'Status': 'confirmed'},\n",
       " {'Country': 'Angola',\n",
       "  'Province': '',\n",
       "  'Lat': -11.2027,\n",
       "  'Lon': 17.8739,\n",
       "  'Date': '2020-03-09T00:00:00Z',\n",
       "  'Cases': 0,\n",
       "  'Status': 'deaths'},\n",
       " {'Country': 'Angola',\n",
       "  'Province': '',\n",
       "  'Lat': -11.2027,\n",
       "  'Lon': 17.8739,\n",
       "  'Date': '2020-03-09T00:00:00Z',\n",
       "  'Cases': 0,\n",
       "  'Status': 'recovered'},\n",
       " {'Country': 'Angola',\n",
       "  'Province': '',\n",
       "  'Lat': -11.2027,\n",
       "  'Lon': 17.8739,\n",
       "  'Date': '2020-03-10T00:00:00Z',\n",
       "  'Cases': 0,\n",
       "  'Status': 'confirmed'},\n",
       " {'Country': 'Angola',\n",
       "  'Province': '',\n",
       "  'Lat': -11.2027,\n",
       "  'Lon': 17.8739,\n",
       "  'Date': '2020-03-10T00:00:00Z',\n",
       "  'Cases': 0,\n",
       "  'Status': 'deaths'},\n",
       " {'Country': 'Angola',\n",
       "  'Province': '',\n",
       "  'Lat': -11.2027,\n",
       "  'Lon': 17.8739,\n",
       "  'Date': '2020-03-10T00:00:00Z',\n",
       "  'Cases': 0,\n",
       "  'Status': 'recovered'},\n",
       " {'Country': 'Angola',\n",
       "  'Province': '',\n",
       "  'Lat': -11.2027,\n",
       "  'Lon': 17.8739,\n",
       "  'Date': '2020-03-11T00:00:00Z',\n",
       "  'Cases': 0,\n",
       "  'Status': 'confirmed'},\n",
       " {'Country': 'Angola',\n",
       "  'Province': '',\n",
       "  'Lat': -11.2027,\n",
       "  'Lon': 17.8739,\n",
       "  'Date': '2020-03-11T00:00:00Z',\n",
       "  'Cases': 0,\n",
       "  'Status': 'deaths'},\n",
       " {'Country': 'Angola',\n",
       "  'Province': '',\n",
       "  'Lat': -11.2027,\n",
       "  'Lon': 17.8739,\n",
       "  'Date': '2020-03-11T00:00:00Z',\n",
       "  'Cases': 0,\n",
       "  'Status': 'recovered'},\n",
       " {'Country': 'Angola',\n",
       "  'Province': '',\n",
       "  'Lat': -11.2027,\n",
       "  'Lon': 17.8739,\n",
       "  'Date': '2020-03-12T00:00:00Z',\n",
       "  'Cases': 0,\n",
       "  'Status': 'confirmed'},\n",
       " {'Country': 'Angola',\n",
       "  'Province': '',\n",
       "  'Lat': -11.2027,\n",
       "  'Lon': 17.8739,\n",
       "  'Date': '2020-03-12T00:00:00Z',\n",
       "  'Cases': 0,\n",
       "  'Status': 'deaths'},\n",
       " {'Country': 'Angola',\n",
       "  'Province': '',\n",
       "  'Lat': -11.2027,\n",
       "  'Lon': 17.8739,\n",
       "  'Date': '2020-03-12T00:00:00Z',\n",
       "  'Cases': 0,\n",
       "  'Status': 'recovered'},\n",
       " {'Country': 'Angola',\n",
       "  'Province': '',\n",
       "  'Lat': -11.2027,\n",
       "  'Lon': 17.8739,\n",
       "  'Date': '2020-03-13T00:00:00Z',\n",
       "  'Cases': 0,\n",
       "  'Status': 'confirmed'},\n",
       " {'Country': 'Angola',\n",
       "  'Province': '',\n",
       "  'Lat': -11.2027,\n",
       "  'Lon': 17.8739,\n",
       "  'Date': '2020-03-13T00:00:00Z',\n",
       "  'Cases': 0,\n",
       "  'Status': 'deaths'},\n",
       " {'Country': 'Angola',\n",
       "  'Province': '',\n",
       "  'Lat': -11.2027,\n",
       "  'Lon': 17.8739,\n",
       "  'Date': '2020-03-13T00:00:00Z',\n",
       "  'Cases': 0,\n",
       "  'Status': 'recovered'},\n",
       " {'Country': 'Angola',\n",
       "  'Province': '',\n",
       "  'Lat': -11.2027,\n",
       "  'Lon': 17.8739,\n",
       "  'Date': '2020-03-14T00:00:00Z',\n",
       "  'Cases': 0,\n",
       "  'Status': 'confirmed'},\n",
       " {'Country': 'Angola',\n",
       "  'Province': '',\n",
       "  'Lat': -11.2027,\n",
       "  'Lon': 17.8739,\n",
       "  'Date': '2020-03-14T00:00:00Z',\n",
       "  'Cases': 0,\n",
       "  'Status': 'deaths'},\n",
       " {'Country': 'Angola',\n",
       "  'Province': '',\n",
       "  'Lat': -11.2027,\n",
       "  'Lon': 17.8739,\n",
       "  'Date': '2020-03-14T00:00:00Z',\n",
       "  'Cases': 0,\n",
       "  'Status': 'recovered'},\n",
       " {'Country': 'Angola',\n",
       "  'Province': '',\n",
       "  'Lat': -11.2027,\n",
       "  'Lon': 17.8739,\n",
       "  'Date': '2020-03-15T00:00:00Z',\n",
       "  'Cases': 0,\n",
       "  'Status': 'confirmed'},\n",
       " {'Country': 'Angola',\n",
       "  'Province': '',\n",
       "  'Lat': -11.2027,\n",
       "  'Lon': 17.8739,\n",
       "  'Date': '2020-03-15T00:00:00Z',\n",
       "  'Cases': 0,\n",
       "  'Status': 'deaths'},\n",
       " {'Country': 'Angola',\n",
       "  'Province': '',\n",
       "  'Lat': -11.2027,\n",
       "  'Lon': 17.8739,\n",
       "  'Date': '2020-03-15T00:00:00Z',\n",
       "  'Cases': 0,\n",
       "  'Status': 'recovered'},\n",
       " {'Country': 'Angola',\n",
       "  'Province': '',\n",
       "  'Lat': -11.2027,\n",
       "  'Lon': 17.8739,\n",
       "  'Date': '2020-03-16T00:00:00Z',\n",
       "  'Cases': 0,\n",
       "  'Status': 'confirmed'},\n",
       " {'Country': 'Angola',\n",
       "  'Province': '',\n",
       "  'Lat': -11.2027,\n",
       "  'Lon': 17.8739,\n",
       "  'Date': '2020-03-16T00:00:00Z',\n",
       "  'Cases': 0,\n",
       "  'Status': 'deaths'},\n",
       " {'Country': 'Angola',\n",
       "  'Province': '',\n",
       "  'Lat': -11.2027,\n",
       "  'Lon': 17.8739,\n",
       "  'Date': '2020-03-16T00:00:00Z',\n",
       "  'Cases': 0,\n",
       "  'Status': 'recovered'},\n",
       " {'Country': 'Angola',\n",
       "  'Province': '',\n",
       "  'Lat': -11.2027,\n",
       "  'Lon': 17.8739,\n",
       "  'Date': '2020-03-17T00:00:00Z',\n",
       "  'Cases': 0,\n",
       "  'Status': 'confirmed'},\n",
       " {'Country': 'Angola',\n",
       "  'Province': '',\n",
       "  'Lat': -11.2027,\n",
       "  'Lon': 17.8739,\n",
       "  'Date': '2020-03-17T00:00:00Z',\n",
       "  'Cases': 0,\n",
       "  'Status': 'deaths'},\n",
       " {'Country': 'Angola',\n",
       "  'Province': '',\n",
       "  'Lat': -11.2027,\n",
       "  'Lon': 17.8739,\n",
       "  'Date': '2020-03-17T00:00:00Z',\n",
       "  'Cases': 0,\n",
       "  'Status': 'recovered'},\n",
       " {'Country': 'Angola',\n",
       "  'Province': '',\n",
       "  'Lat': -11.2027,\n",
       "  'Lon': 17.8739,\n",
       "  'Date': '2020-03-18T00:00:00Z',\n",
       "  'Cases': 0,\n",
       "  'Status': 'confirmed'},\n",
       " {'Country': 'Angola',\n",
       "  'Province': '',\n",
       "  'Lat': -11.2027,\n",
       "  'Lon': 17.8739,\n",
       "  'Date': '2020-03-18T00:00:00Z',\n",
       "  'Cases': 0,\n",
       "  'Status': 'deaths'},\n",
       " {'Country': 'Angola',\n",
       "  'Province': '',\n",
       "  'Lat': -11.2027,\n",
       "  'Lon': 17.8739,\n",
       "  'Date': '2020-03-18T00:00:00Z',\n",
       "  'Cases': 0,\n",
       "  'Status': 'recovered'},\n",
       " {'Country': 'Angola',\n",
       "  'Province': '',\n",
       "  'Lat': -11.2027,\n",
       "  'Lon': 17.8739,\n",
       "  'Date': '2020-03-19T00:00:00Z',\n",
       "  'Cases': 0,\n",
       "  'Status': 'confirmed'},\n",
       " {'Country': 'Angola',\n",
       "  'Province': '',\n",
       "  'Lat': -11.2027,\n",
       "  'Lon': 17.8739,\n",
       "  'Date': '2020-03-19T00:00:00Z',\n",
       "  'Cases': 0,\n",
       "  'Status': 'deaths'},\n",
       " {'Country': 'Angola',\n",
       "  'Province': '',\n",
       "  'Lat': -11.2027,\n",
       "  'Lon': 17.8739,\n",
       "  'Date': '2020-03-19T00:00:00Z',\n",
       "  'Cases': 0,\n",
       "  'Status': 'recovered'},\n",
       " {'Country': 'Angola',\n",
       "  'Province': '',\n",
       "  'Lat': -11.2027,\n",
       "  'Lon': 17.8739,\n",
       "  'Date': '2020-03-20T00:00:00Z',\n",
       "  'Cases': 1,\n",
       "  'Status': 'confirmed'},\n",
       " {'Country': 'Angola',\n",
       "  'Province': '',\n",
       "  'Lat': -11.2027,\n",
       "  'Lon': 17.8739,\n",
       "  'Date': '2020-03-20T00:00:00Z',\n",
       "  'Cases': 0,\n",
       "  'Status': 'deaths'},\n",
       " {'Country': 'Angola',\n",
       "  'Province': '',\n",
       "  'Lat': -11.2027,\n",
       "  'Lon': 17.8739,\n",
       "  'Date': '2020-03-20T00:00:00Z',\n",
       "  'Cases': 0,\n",
       "  'Status': 'recovered'},\n",
       " {'Country': 'Antigua and Barbuda',\n",
       "  'Province': '',\n",
       "  'Lat': 17.0608,\n",
       "  'Lon': -61.7964,\n",
       "  'Date': '2020-01-22T00:00:00Z',\n",
       "  'Cases': 0,\n",
       "  'Status': 'confirmed'},\n",
       " {'Country': 'Antigua and Barbuda',\n",
       "  'Province': '',\n",
       "  'Lat': 17.0608,\n",
       "  'Lon': -61.7964,\n",
       "  'Date': '2020-01-22T00:00:00Z',\n",
       "  'Cases': 0,\n",
       "  'Status': 'deaths'},\n",
       " {'Country': 'Antigua and Barbuda',\n",
       "  'Province': '',\n",
       "  'Lat': 17.0608,\n",
       "  'Lon': -61.7964,\n",
       "  'Date': '2020-01-22T00:00:00Z',\n",
       "  'Cases': 0,\n",
       "  'Status': 'recovered'},\n",
       " {'Country': 'Antigua and Barbuda',\n",
       "  'Province': '',\n",
       "  'Lat': 17.0608,\n",
       "  'Lon': -61.7964,\n",
       "  'Date': '2020-01-23T00:00:00Z',\n",
       "  'Cases': 0,\n",
       "  'Status': 'confirmed'},\n",
       " {'Country': 'Antigua and Barbuda',\n",
       "  'Province': '',\n",
       "  'Lat': 17.0608,\n",
       "  'Lon': -61.7964,\n",
       "  'Date': '2020-01-23T00:00:00Z',\n",
       "  'Cases': 0,\n",
       "  'Status': 'deaths'},\n",
       " {'Country': 'Antigua and Barbuda',\n",
       "  'Province': '',\n",
       "  'Lat': 17.0608,\n",
       "  'Lon': -61.7964,\n",
       "  'Date': '2020-01-23T00:00:00Z',\n",
       "  'Cases': 0,\n",
       "  'Status': 'recovered'},\n",
       " {'Country': 'Antigua and Barbuda',\n",
       "  'Province': '',\n",
       "  'Lat': 17.0608,\n",
       "  'Lon': -61.7964,\n",
       "  'Date': '2020-01-24T00:00:00Z',\n",
       "  'Cases': 0,\n",
       "  'Status': 'confirmed'},\n",
       " {'Country': 'Antigua and Barbuda',\n",
       "  'Province': '',\n",
       "  'Lat': 17.0608,\n",
       "  'Lon': -61.7964,\n",
       "  'Date': '2020-01-24T00:00:00Z',\n",
       "  'Cases': 0,\n",
       "  'Status': 'deaths'},\n",
       " {'Country': 'Antigua and Barbuda',\n",
       "  'Province': '',\n",
       "  'Lat': 17.0608,\n",
       "  'Lon': -61.7964,\n",
       "  'Date': '2020-01-24T00:00:00Z',\n",
       "  'Cases': 0,\n",
       "  'Status': 'recovered'},\n",
       " {'Country': 'Antigua and Barbuda',\n",
       "  'Province': '',\n",
       "  'Lat': 17.0608,\n",
       "  'Lon': -61.7964,\n",
       "  'Date': '2020-01-25T00:00:00Z',\n",
       "  'Cases': 0,\n",
       "  'Status': 'confirmed'},\n",
       " {'Country': 'Antigua and Barbuda',\n",
       "  'Province': '',\n",
       "  'Lat': 17.0608,\n",
       "  'Lon': -61.7964,\n",
       "  'Date': '2020-01-25T00:00:00Z',\n",
       "  'Cases': 0,\n",
       "  'Status': 'deaths'},\n",
       " {'Country': 'Antigua and Barbuda',\n",
       "  'Province': '',\n",
       "  'Lat': 17.0608,\n",
       "  'Lon': -61.7964,\n",
       "  'Date': '2020-01-25T00:00:00Z',\n",
       "  'Cases': 0,\n",
       "  'Status': 'recovered'},\n",
       " {'Country': 'Antigua and Barbuda',\n",
       "  'Province': '',\n",
       "  'Lat': 17.0608,\n",
       "  'Lon': -61.7964,\n",
       "  'Date': '2020-01-26T00:00:00Z',\n",
       "  'Cases': 0,\n",
       "  'Status': 'confirmed'},\n",
       " {'Country': 'Antigua and Barbuda',\n",
       "  'Province': '',\n",
       "  'Lat': 17.0608,\n",
       "  'Lon': -61.7964,\n",
       "  'Date': '2020-01-26T00:00:00Z',\n",
       "  'Cases': 0,\n",
       "  'Status': 'deaths'},\n",
       " {'Country': 'Antigua and Barbuda',\n",
       "  'Province': '',\n",
       "  'Lat': 17.0608,\n",
       "  'Lon': -61.7964,\n",
       "  'Date': '2020-01-26T00:00:00Z',\n",
       "  'Cases': 0,\n",
       "  'Status': 'recovered'},\n",
       " {'Country': 'Antigua and Barbuda',\n",
       "  'Province': '',\n",
       "  'Lat': 17.0608,\n",
       "  'Lon': -61.7964,\n",
       "  'Date': '2020-01-27T00:00:00Z',\n",
       "  'Cases': 0,\n",
       "  'Status': 'confirmed'},\n",
       " {'Country': 'Antigua and Barbuda',\n",
       "  'Province': '',\n",
       "  'Lat': 17.0608,\n",
       "  'Lon': -61.7964,\n",
       "  'Date': '2020-01-27T00:00:00Z',\n",
       "  'Cases': 0,\n",
       "  'Status': 'deaths'},\n",
       " {'Country': 'Antigua and Barbuda',\n",
       "  'Province': '',\n",
       "  'Lat': 17.0608,\n",
       "  'Lon': -61.7964,\n",
       "  'Date': '2020-01-27T00:00:00Z',\n",
       "  'Cases': 0,\n",
       "  'Status': 'recovered'},\n",
       " {'Country': 'Antigua and Barbuda',\n",
       "  'Province': '',\n",
       "  'Lat': 17.0608,\n",
       "  'Lon': -61.7964,\n",
       "  'Date': '2020-01-28T00:00:00Z',\n",
       "  'Cases': 0,\n",
       "  'Status': 'confirmed'},\n",
       " {'Country': 'Antigua and Barbuda',\n",
       "  'Province': '',\n",
       "  'Lat': 17.0608,\n",
       "  'Lon': -61.7964,\n",
       "  'Date': '2020-01-28T00:00:00Z',\n",
       "  'Cases': 0,\n",
       "  'Status': 'deaths'},\n",
       " {'Country': 'Antigua and Barbuda',\n",
       "  'Province': '',\n",
       "  'Lat': 17.0608,\n",
       "  'Lon': -61.7964,\n",
       "  'Date': '2020-01-28T00:00:00Z',\n",
       "  'Cases': 0,\n",
       "  'Status': 'recovered'},\n",
       " {'Country': 'Antigua and Barbuda',\n",
       "  'Province': '',\n",
       "  'Lat': 17.0608,\n",
       "  'Lon': -61.7964,\n",
       "  'Date': '2020-01-29T00:00:00Z',\n",
       "  'Cases': 0,\n",
       "  'Status': 'confirmed'},\n",
       " {'Country': 'Antigua and Barbuda',\n",
       "  'Province': '',\n",
       "  'Lat': 17.0608,\n",
       "  'Lon': -61.7964,\n",
       "  'Date': '2020-01-29T00:00:00Z',\n",
       "  'Cases': 0,\n",
       "  'Status': 'deaths'},\n",
       " {'Country': 'Antigua and Barbuda',\n",
       "  'Province': '',\n",
       "  'Lat': 17.0608,\n",
       "  'Lon': -61.7964,\n",
       "  'Date': '2020-01-29T00:00:00Z',\n",
       "  'Cases': 0,\n",
       "  'Status': 'recovered'},\n",
       " {'Country': 'Antigua and Barbuda',\n",
       "  'Province': '',\n",
       "  'Lat': 17.0608,\n",
       "  'Lon': -61.7964,\n",
       "  'Date': '2020-01-30T00:00:00Z',\n",
       "  'Cases': 0,\n",
       "  'Status': 'confirmed'},\n",
       " {'Country': 'Antigua and Barbuda',\n",
       "  'Province': '',\n",
       "  'Lat': 17.0608,\n",
       "  'Lon': -61.7964,\n",
       "  'Date': '2020-01-30T00:00:00Z',\n",
       "  'Cases': 0,\n",
       "  'Status': 'deaths'},\n",
       " {'Country': 'Antigua and Barbuda',\n",
       "  'Province': '',\n",
       "  'Lat': 17.0608,\n",
       "  'Lon': -61.7964,\n",
       "  'Date': '2020-01-30T00:00:00Z',\n",
       "  'Cases': 0,\n",
       "  'Status': 'recovered'},\n",
       " {'Country': 'Antigua and Barbuda',\n",
       "  'Province': '',\n",
       "  'Lat': 17.0608,\n",
       "  'Lon': -61.7964,\n",
       "  'Date': '2020-01-31T00:00:00Z',\n",
       "  'Cases': 0,\n",
       "  'Status': 'confirmed'},\n",
       " {'Country': 'Antigua and Barbuda',\n",
       "  'Province': '',\n",
       "  'Lat': 17.0608,\n",
       "  'Lon': -61.7964,\n",
       "  'Date': '2020-01-31T00:00:00Z',\n",
       "  'Cases': 0,\n",
       "  'Status': 'deaths'},\n",
       " {'Country': 'Antigua and Barbuda',\n",
       "  'Province': '',\n",
       "  'Lat': 17.0608,\n",
       "  'Lon': -61.7964,\n",
       "  'Date': '2020-01-31T00:00:00Z',\n",
       "  'Cases': 0,\n",
       "  'Status': 'recovered'},\n",
       " {'Country': 'Antigua and Barbuda',\n",
       "  'Province': '',\n",
       "  'Lat': 17.0608,\n",
       "  'Lon': -61.7964,\n",
       "  'Date': '2020-02-01T00:00:00Z',\n",
       "  'Cases': 0,\n",
       "  'Status': 'confirmed'},\n",
       " {'Country': 'Antigua and Barbuda',\n",
       "  'Province': '',\n",
       "  'Lat': 17.0608,\n",
       "  'Lon': -61.7964,\n",
       "  'Date': '2020-02-01T00:00:00Z',\n",
       "  'Cases': 0,\n",
       "  'Status': 'deaths'},\n",
       " {'Country': 'Antigua and Barbuda',\n",
       "  'Province': '',\n",
       "  'Lat': 17.0608,\n",
       "  'Lon': -61.7964,\n",
       "  'Date': '2020-02-01T00:00:00Z',\n",
       "  'Cases': 0,\n",
       "  'Status': 'recovered'},\n",
       " {'Country': 'Antigua and Barbuda',\n",
       "  'Province': '',\n",
       "  'Lat': 17.0608,\n",
       "  'Lon': -61.7964,\n",
       "  'Date': '2020-02-02T00:00:00Z',\n",
       "  'Cases': 0,\n",
       "  'Status': 'confirmed'},\n",
       " {'Country': 'Antigua and Barbuda',\n",
       "  'Province': '',\n",
       "  'Lat': 17.0608,\n",
       "  'Lon': -61.7964,\n",
       "  'Date': '2020-02-02T00:00:00Z',\n",
       "  'Cases': 0,\n",
       "  'Status': 'deaths'},\n",
       " {'Country': 'Antigua and Barbuda',\n",
       "  'Province': '',\n",
       "  'Lat': 17.0608,\n",
       "  'Lon': -61.7964,\n",
       "  'Date': '2020-02-02T00:00:00Z',\n",
       "  'Cases': 0,\n",
       "  'Status': 'recovered'},\n",
       " {'Country': 'Antigua and Barbuda',\n",
       "  'Province': '',\n",
       "  'Lat': 17.0608,\n",
       "  'Lon': -61.7964,\n",
       "  'Date': '2020-02-03T00:00:00Z',\n",
       "  'Cases': 0,\n",
       "  'Status': 'confirmed'},\n",
       " {'Country': 'Antigua and Barbuda',\n",
       "  'Province': '',\n",
       "  'Lat': 17.0608,\n",
       "  'Lon': -61.7964,\n",
       "  'Date': '2020-02-03T00:00:00Z',\n",
       "  'Cases': 0,\n",
       "  'Status': 'deaths'},\n",
       " {'Country': 'Antigua and Barbuda',\n",
       "  'Province': '',\n",
       "  'Lat': 17.0608,\n",
       "  'Lon': -61.7964,\n",
       "  'Date': '2020-02-03T00:00:00Z',\n",
       "  'Cases': 0,\n",
       "  'Status': 'recovered'},\n",
       " {'Country': 'Antigua and Barbuda',\n",
       "  'Province': '',\n",
       "  'Lat': 17.0608,\n",
       "  'Lon': -61.7964,\n",
       "  'Date': '2020-02-04T00:00:00Z',\n",
       "  'Cases': 0,\n",
       "  'Status': 'recovered'},\n",
       " {'Country': 'Antigua and Barbuda',\n",
       "  'Province': '',\n",
       "  'Lat': 17.0608,\n",
       "  'Lon': -61.7964,\n",
       "  'Date': '2020-02-04T00:00:00Z',\n",
       "  'Cases': 0,\n",
       "  'Status': 'confirmed'},\n",
       " {'Country': 'Antigua and Barbuda',\n",
       "  'Province': '',\n",
       "  'Lat': 17.0608,\n",
       "  'Lon': -61.7964,\n",
       "  'Date': '2020-02-04T00:00:00Z',\n",
       "  'Cases': 0,\n",
       "  'Status': 'deaths'},\n",
       " {'Country': 'Antigua and Barbuda',\n",
       "  'Province': '',\n",
       "  'Lat': 17.0608,\n",
       "  'Lon': -61.7964,\n",
       "  'Date': '2020-02-05T00:00:00Z',\n",
       "  'Cases': 0,\n",
       "  'Status': 'recovered'},\n",
       " {'Country': 'Antigua and Barbuda',\n",
       "  'Province': '',\n",
       "  'Lat': 17.0608,\n",
       "  'Lon': -61.7964,\n",
       "  'Date': '2020-02-05T00:00:00Z',\n",
       "  'Cases': 0,\n",
       "  'Status': 'confirmed'},\n",
       " {'Country': 'Antigua and Barbuda',\n",
       "  'Province': '',\n",
       "  'Lat': 17.0608,\n",
       "  'Lon': -61.7964,\n",
       "  'Date': '2020-02-05T00:00:00Z',\n",
       "  'Cases': 0,\n",
       "  'Status': 'deaths'},\n",
       " {'Country': 'Antigua and Barbuda',\n",
       "  'Province': '',\n",
       "  'Lat': 17.0608,\n",
       "  'Lon': -61.7964,\n",
       "  'Date': '2020-02-06T00:00:00Z',\n",
       "  'Cases': 0,\n",
       "  'Status': 'recovered'},\n",
       " {'Country': 'Antigua and Barbuda',\n",
       "  'Province': '',\n",
       "  'Lat': 17.0608,\n",
       "  'Lon': -61.7964,\n",
       "  'Date': '2020-02-06T00:00:00Z',\n",
       "  'Cases': 0,\n",
       "  'Status': 'confirmed'},\n",
       " {'Country': 'Antigua and Barbuda',\n",
       "  'Province': '',\n",
       "  'Lat': 17.0608,\n",
       "  'Lon': -61.7964,\n",
       "  'Date': '2020-02-06T00:00:00Z',\n",
       "  'Cases': 0,\n",
       "  'Status': 'deaths'},\n",
       " {'Country': 'Antigua and Barbuda',\n",
       "  'Province': '',\n",
       "  'Lat': 17.0608,\n",
       "  'Lon': -61.7964,\n",
       "  'Date': '2020-02-07T00:00:00Z',\n",
       "  'Cases': 0,\n",
       "  'Status': 'recovered'},\n",
       " {'Country': 'Antigua and Barbuda',\n",
       "  'Province': '',\n",
       "  'Lat': 17.0608,\n",
       "  'Lon': -61.7964,\n",
       "  'Date': '2020-02-07T00:00:00Z',\n",
       "  'Cases': 0,\n",
       "  'Status': 'confirmed'},\n",
       " {'Country': 'Antigua and Barbuda',\n",
       "  'Province': '',\n",
       "  'Lat': 17.0608,\n",
       "  'Lon': -61.7964,\n",
       "  'Date': '2020-02-07T00:00:00Z',\n",
       "  'Cases': 0,\n",
       "  'Status': 'deaths'},\n",
       " {'Country': 'Antigua and Barbuda',\n",
       "  'Province': '',\n",
       "  'Lat': 17.0608,\n",
       "  'Lon': -61.7964,\n",
       "  'Date': '2020-02-08T00:00:00Z',\n",
       "  'Cases': 0,\n",
       "  'Status': 'recovered'},\n",
       " {'Country': 'Antigua and Barbuda',\n",
       "  'Province': '',\n",
       "  'Lat': 17.0608,\n",
       "  'Lon': -61.7964,\n",
       "  'Date': '2020-02-08T00:00:00Z',\n",
       "  'Cases': 0,\n",
       "  'Status': 'confirmed'},\n",
       " {'Country': 'Antigua and Barbuda',\n",
       "  'Province': '',\n",
       "  'Lat': 17.0608,\n",
       "  'Lon': -61.7964,\n",
       "  'Date': '2020-02-08T00:00:00Z',\n",
       "  'Cases': 0,\n",
       "  'Status': 'deaths'},\n",
       " {'Country': 'Antigua and Barbuda',\n",
       "  'Province': '',\n",
       "  'Lat': 17.0608,\n",
       "  'Lon': -61.7964,\n",
       "  'Date': '2020-02-09T00:00:00Z',\n",
       "  'Cases': 0,\n",
       "  'Status': 'recovered'},\n",
       " {'Country': 'Antigua and Barbuda',\n",
       "  'Province': '',\n",
       "  'Lat': 17.0608,\n",
       "  'Lon': -61.7964,\n",
       "  'Date': '2020-02-09T00:00:00Z',\n",
       "  'Cases': 0,\n",
       "  'Status': 'confirmed'},\n",
       " {'Country': 'Antigua and Barbuda',\n",
       "  'Province': '',\n",
       "  'Lat': 17.0608,\n",
       "  'Lon': -61.7964,\n",
       "  'Date': '2020-02-09T00:00:00Z',\n",
       "  'Cases': 0,\n",
       "  'Status': 'deaths'},\n",
       " {'Country': 'Antigua and Barbuda',\n",
       "  'Province': '',\n",
       "  'Lat': 17.0608,\n",
       "  'Lon': -61.7964,\n",
       "  'Date': '2020-02-10T00:00:00Z',\n",
       "  'Cases': 0,\n",
       "  'Status': 'recovered'},\n",
       " {'Country': 'Antigua and Barbuda',\n",
       "  'Province': '',\n",
       "  'Lat': 17.0608,\n",
       "  'Lon': -61.7964,\n",
       "  'Date': '2020-02-10T00:00:00Z',\n",
       "  'Cases': 0,\n",
       "  'Status': 'confirmed'},\n",
       " {'Country': 'Antigua and Barbuda',\n",
       "  'Province': '',\n",
       "  'Lat': 17.0608,\n",
       "  'Lon': -61.7964,\n",
       "  'Date': '2020-02-10T00:00:00Z',\n",
       "  'Cases': 0,\n",
       "  'Status': 'deaths'},\n",
       " {'Country': 'Antigua and Barbuda',\n",
       "  'Province': '',\n",
       "  'Lat': 17.0608,\n",
       "  'Lon': -61.7964,\n",
       "  'Date': '2020-02-11T00:00:00Z',\n",
       "  'Cases': 0,\n",
       "  'Status': 'recovered'},\n",
       " {'Country': 'Antigua and Barbuda',\n",
       "  'Province': '',\n",
       "  'Lat': 17.0608,\n",
       "  'Lon': -61.7964,\n",
       "  'Date': '2020-02-11T00:00:00Z',\n",
       "  'Cases': 0,\n",
       "  'Status': 'confirmed'},\n",
       " {'Country': 'Antigua and Barbuda',\n",
       "  'Province': '',\n",
       "  'Lat': 17.0608,\n",
       "  'Lon': -61.7964,\n",
       "  'Date': '2020-02-11T00:00:00Z',\n",
       "  'Cases': 0,\n",
       "  'Status': 'deaths'},\n",
       " {'Country': 'Antigua and Barbuda',\n",
       "  'Province': '',\n",
       "  'Lat': 17.0608,\n",
       "  'Lon': -61.7964,\n",
       "  'Date': '2020-02-12T00:00:00Z',\n",
       "  'Cases': 0,\n",
       "  'Status': 'recovered'},\n",
       " {'Country': 'Antigua and Barbuda',\n",
       "  'Province': '',\n",
       "  'Lat': 17.0608,\n",
       "  'Lon': -61.7964,\n",
       "  'Date': '2020-02-12T00:00:00Z',\n",
       "  'Cases': 0,\n",
       "  'Status': 'confirmed'},\n",
       " {'Country': 'Antigua and Barbuda',\n",
       "  'Province': '',\n",
       "  'Lat': 17.0608,\n",
       "  'Lon': -61.7964,\n",
       "  'Date': '2020-02-12T00:00:00Z',\n",
       "  'Cases': 0,\n",
       "  'Status': 'deaths'},\n",
       " {'Country': 'Antigua and Barbuda',\n",
       "  'Province': '',\n",
       "  'Lat': 17.0608,\n",
       "  'Lon': -61.7964,\n",
       "  'Date': '2020-02-13T00:00:00Z',\n",
       "  'Cases': 0,\n",
       "  'Status': 'recovered'},\n",
       " {'Country': 'Antigua and Barbuda',\n",
       "  'Province': '',\n",
       "  'Lat': 17.0608,\n",
       "  'Lon': -61.7964,\n",
       "  'Date': '2020-02-13T00:00:00Z',\n",
       "  'Cases': 0,\n",
       "  'Status': 'confirmed'},\n",
       " {'Country': 'Antigua and Barbuda',\n",
       "  'Province': '',\n",
       "  'Lat': 17.0608,\n",
       "  'Lon': -61.7964,\n",
       "  'Date': '2020-02-13T00:00:00Z',\n",
       "  'Cases': 0,\n",
       "  'Status': 'deaths'},\n",
       " {'Country': 'Antigua and Barbuda',\n",
       "  'Province': '',\n",
       "  'Lat': 17.0608,\n",
       "  'Lon': -61.7964,\n",
       "  'Date': '2020-02-14T00:00:00Z',\n",
       "  'Cases': 0,\n",
       "  'Status': 'recovered'},\n",
       " {'Country': 'Antigua and Barbuda',\n",
       "  'Province': '',\n",
       "  'Lat': 17.0608,\n",
       "  'Lon': -61.7964,\n",
       "  'Date': '2020-02-14T00:00:00Z',\n",
       "  'Cases': 0,\n",
       "  'Status': 'confirmed'},\n",
       " {'Country': 'Antigua and Barbuda',\n",
       "  'Province': '',\n",
       "  'Lat': 17.0608,\n",
       "  'Lon': -61.7964,\n",
       "  'Date': '2020-02-14T00:00:00Z',\n",
       "  'Cases': 0,\n",
       "  'Status': 'deaths'},\n",
       " {'Country': 'Antigua and Barbuda',\n",
       "  'Province': '',\n",
       "  'Lat': 17.0608,\n",
       "  'Lon': -61.7964,\n",
       "  'Date': '2020-02-15T00:00:00Z',\n",
       "  'Cases': 0,\n",
       "  'Status': 'recovered'},\n",
       " {'Country': 'Antigua and Barbuda',\n",
       "  'Province': '',\n",
       "  'Lat': 17.0608,\n",
       "  'Lon': -61.7964,\n",
       "  'Date': '2020-02-15T00:00:00Z',\n",
       "  'Cases': 0,\n",
       "  'Status': 'confirmed'},\n",
       " {'Country': 'Antigua and Barbuda',\n",
       "  'Province': '',\n",
       "  'Lat': 17.0608,\n",
       "  'Lon': -61.7964,\n",
       "  'Date': '2020-02-15T00:00:00Z',\n",
       "  'Cases': 0,\n",
       "  'Status': 'deaths'},\n",
       " {'Country': 'Antigua and Barbuda',\n",
       "  'Province': '',\n",
       "  'Lat': 17.0608,\n",
       "  'Lon': -61.7964,\n",
       "  'Date': '2020-02-16T00:00:00Z',\n",
       "  'Cases': 0,\n",
       "  'Status': 'recovered'},\n",
       " {'Country': 'Antigua and Barbuda',\n",
       "  'Province': '',\n",
       "  'Lat': 17.0608,\n",
       "  'Lon': -61.7964,\n",
       "  'Date': '2020-02-16T00:00:00Z',\n",
       "  'Cases': 0,\n",
       "  'Status': 'confirmed'},\n",
       " {'Country': 'Antigua and Barbuda',\n",
       "  'Province': '',\n",
       "  'Lat': 17.0608,\n",
       "  'Lon': -61.7964,\n",
       "  'Date': '2020-02-16T00:00:00Z',\n",
       "  'Cases': 0,\n",
       "  'Status': 'deaths'},\n",
       " {'Country': 'Antigua and Barbuda',\n",
       "  'Province': '',\n",
       "  'Lat': 17.0608,\n",
       "  'Lon': -61.7964,\n",
       "  'Date': '2020-02-17T00:00:00Z',\n",
       "  'Cases': 0,\n",
       "  'Status': 'recovered'},\n",
       " {'Country': 'Antigua and Barbuda',\n",
       "  'Province': '',\n",
       "  'Lat': 17.0608,\n",
       "  'Lon': -61.7964,\n",
       "  'Date': '2020-02-17T00:00:00Z',\n",
       "  'Cases': 0,\n",
       "  'Status': 'confirmed'},\n",
       " {'Country': 'Antigua and Barbuda',\n",
       "  'Province': '',\n",
       "  'Lat': 17.0608,\n",
       "  'Lon': -61.7964,\n",
       "  'Date': '2020-02-17T00:00:00Z',\n",
       "  'Cases': 0,\n",
       "  'Status': 'deaths'},\n",
       " {'Country': 'Antigua and Barbuda',\n",
       "  'Province': '',\n",
       "  'Lat': 17.0608,\n",
       "  'Lon': -61.7964,\n",
       "  'Date': '2020-02-18T00:00:00Z',\n",
       "  'Cases': 0,\n",
       "  'Status': 'recovered'},\n",
       " {'Country': 'Antigua and Barbuda',\n",
       "  'Province': '',\n",
       "  'Lat': 17.0608,\n",
       "  'Lon': -61.7964,\n",
       "  'Date': '2020-02-18T00:00:00Z',\n",
       "  'Cases': 0,\n",
       "  'Status': 'confirmed'},\n",
       " {'Country': 'Antigua and Barbuda',\n",
       "  'Province': '',\n",
       "  'Lat': 17.0608,\n",
       "  'Lon': -61.7964,\n",
       "  'Date': '2020-02-18T00:00:00Z',\n",
       "  'Cases': 0,\n",
       "  'Status': 'deaths'},\n",
       " {'Country': 'Antigua and Barbuda',\n",
       "  'Province': '',\n",
       "  'Lat': 17.0608,\n",
       "  'Lon': -61.7964,\n",
       "  'Date': '2020-02-19T00:00:00Z',\n",
       "  'Cases': 0,\n",
       "  'Status': 'recovered'},\n",
       " {'Country': 'Antigua and Barbuda',\n",
       "  'Province': '',\n",
       "  'Lat': 17.0608,\n",
       "  'Lon': -61.7964,\n",
       "  'Date': '2020-02-19T00:00:00Z',\n",
       "  'Cases': 0,\n",
       "  'Status': 'confirmed'},\n",
       " {'Country': 'Antigua and Barbuda',\n",
       "  'Province': '',\n",
       "  'Lat': 17.0608,\n",
       "  'Lon': -61.7964,\n",
       "  'Date': '2020-02-19T00:00:00Z',\n",
       "  'Cases': 0,\n",
       "  'Status': 'deaths'},\n",
       " {'Country': 'Antigua and Barbuda',\n",
       "  'Province': '',\n",
       "  'Lat': 17.0608,\n",
       "  'Lon': -61.7964,\n",
       "  'Date': '2020-02-20T00:00:00Z',\n",
       "  'Cases': 0,\n",
       "  'Status': 'recovered'},\n",
       " {'Country': 'Antigua and Barbuda',\n",
       "  'Province': '',\n",
       "  'Lat': 17.0608,\n",
       "  'Lon': -61.7964,\n",
       "  'Date': '2020-02-20T00:00:00Z',\n",
       "  'Cases': 0,\n",
       "  'Status': 'confirmed'},\n",
       " {'Country': 'Antigua and Barbuda',\n",
       "  'Province': '',\n",
       "  'Lat': 17.0608,\n",
       "  'Lon': -61.7964,\n",
       "  'Date': '2020-02-20T00:00:00Z',\n",
       "  'Cases': 0,\n",
       "  'Status': 'deaths'},\n",
       " {'Country': 'Antigua and Barbuda',\n",
       "  'Province': '',\n",
       "  'Lat': 17.0608,\n",
       "  'Lon': -61.7964,\n",
       "  'Date': '2020-02-21T00:00:00Z',\n",
       "  'Cases': 0,\n",
       "  'Status': 'recovered'},\n",
       " {'Country': 'Antigua and Barbuda',\n",
       "  'Province': '',\n",
       "  'Lat': 17.0608,\n",
       "  'Lon': -61.7964,\n",
       "  'Date': '2020-02-21T00:00:00Z',\n",
       "  'Cases': 0,\n",
       "  'Status': 'confirmed'},\n",
       " {'Country': 'Antigua and Barbuda',\n",
       "  'Province': '',\n",
       "  'Lat': 17.0608,\n",
       "  'Lon': -61.7964,\n",
       "  'Date': '2020-02-21T00:00:00Z',\n",
       "  'Cases': 0,\n",
       "  'Status': 'deaths'},\n",
       " {'Country': 'Antigua and Barbuda',\n",
       "  'Province': '',\n",
       "  'Lat': 17.0608,\n",
       "  'Lon': -61.7964,\n",
       "  'Date': '2020-02-22T00:00:00Z',\n",
       "  'Cases': 0,\n",
       "  'Status': 'recovered'},\n",
       " {'Country': 'Antigua and Barbuda',\n",
       "  'Province': '',\n",
       "  'Lat': 17.0608,\n",
       "  'Lon': -61.7964,\n",
       "  'Date': '2020-02-22T00:00:00Z',\n",
       "  'Cases': 0,\n",
       "  'Status': 'confirmed'},\n",
       " {'Country': 'Antigua and Barbuda',\n",
       "  'Province': '',\n",
       "  'Lat': 17.0608,\n",
       "  'Lon': -61.7964,\n",
       "  'Date': '2020-02-22T00:00:00Z',\n",
       "  'Cases': 0,\n",
       "  'Status': 'deaths'},\n",
       " {'Country': 'Antigua and Barbuda',\n",
       "  'Province': '',\n",
       "  'Lat': 17.0608,\n",
       "  'Lon': -61.7964,\n",
       "  'Date': '2020-02-23T00:00:00Z',\n",
       "  'Cases': 0,\n",
       "  'Status': 'recovered'},\n",
       " {'Country': 'Antigua and Barbuda',\n",
       "  'Province': '',\n",
       "  'Lat': 17.0608,\n",
       "  'Lon': -61.7964,\n",
       "  'Date': '2020-02-23T00:00:00Z',\n",
       "  'Cases': 0,\n",
       "  'Status': 'confirmed'},\n",
       " {'Country': 'Antigua and Barbuda',\n",
       "  'Province': '',\n",
       "  'Lat': 17.0608,\n",
       "  'Lon': -61.7964,\n",
       "  'Date': '2020-02-23T00:00:00Z',\n",
       "  'Cases': 0,\n",
       "  'Status': 'deaths'},\n",
       " {'Country': 'Antigua and Barbuda',\n",
       "  'Province': '',\n",
       "  'Lat': 17.0608,\n",
       "  'Lon': -61.7964,\n",
       "  'Date': '2020-02-24T00:00:00Z',\n",
       "  'Cases': 0,\n",
       "  'Status': 'recovered'},\n",
       " {'Country': 'Antigua and Barbuda',\n",
       "  'Province': '',\n",
       "  'Lat': 17.0608,\n",
       "  'Lon': -61.7964,\n",
       "  'Date': '2020-02-24T00:00:00Z',\n",
       "  'Cases': 0,\n",
       "  'Status': 'confirmed'},\n",
       " {'Country': 'Antigua and Barbuda',\n",
       "  'Province': '',\n",
       "  'Lat': 17.0608,\n",
       "  'Lon': -61.7964,\n",
       "  'Date': '2020-02-24T00:00:00Z',\n",
       "  'Cases': 0,\n",
       "  'Status': 'deaths'},\n",
       " {'Country': 'Antigua and Barbuda',\n",
       "  'Province': '',\n",
       "  'Lat': 17.0608,\n",
       "  'Lon': -61.7964,\n",
       "  'Date': '2020-02-25T00:00:00Z',\n",
       "  'Cases': 0,\n",
       "  'Status': 'recovered'},\n",
       " {'Country': 'Antigua and Barbuda',\n",
       "  'Province': '',\n",
       "  'Lat': 17.0608,\n",
       "  'Lon': -61.7964,\n",
       "  'Date': '2020-02-25T00:00:00Z',\n",
       "  'Cases': 0,\n",
       "  'Status': 'confirmed'},\n",
       " {'Country': 'Antigua and Barbuda',\n",
       "  'Province': '',\n",
       "  'Lat': 17.0608,\n",
       "  'Lon': -61.7964,\n",
       "  'Date': '2020-02-25T00:00:00Z',\n",
       "  'Cases': 0,\n",
       "  'Status': 'deaths'},\n",
       " {'Country': 'Antigua and Barbuda',\n",
       "  'Province': '',\n",
       "  'Lat': 17.0608,\n",
       "  'Lon': -61.7964,\n",
       "  'Date': '2020-02-26T00:00:00Z',\n",
       "  'Cases': 0,\n",
       "  'Status': 'recovered'},\n",
       " {'Country': 'Antigua and Barbuda',\n",
       "  'Province': '',\n",
       "  'Lat': 17.0608,\n",
       "  'Lon': -61.7964,\n",
       "  'Date': '2020-02-26T00:00:00Z',\n",
       "  'Cases': 0,\n",
       "  'Status': 'confirmed'},\n",
       " {'Country': 'Antigua and Barbuda',\n",
       "  'Province': '',\n",
       "  'Lat': 17.0608,\n",
       "  'Lon': -61.7964,\n",
       "  'Date': '2020-02-26T00:00:00Z',\n",
       "  'Cases': 0,\n",
       "  'Status': 'deaths'},\n",
       " {'Country': 'Antigua and Barbuda',\n",
       "  'Province': '',\n",
       "  'Lat': 17.0608,\n",
       "  'Lon': -61.7964,\n",
       "  'Date': '2020-02-27T00:00:00Z',\n",
       "  'Cases': 0,\n",
       "  'Status': 'recovered'},\n",
       " {'Country': 'Antigua and Barbuda',\n",
       "  'Province': '',\n",
       "  'Lat': 17.0608,\n",
       "  'Lon': -61.7964,\n",
       "  'Date': '2020-02-27T00:00:00Z',\n",
       "  'Cases': 0,\n",
       "  'Status': 'confirmed'},\n",
       " {'Country': 'Antigua and Barbuda',\n",
       "  'Province': '',\n",
       "  'Lat': 17.0608,\n",
       "  'Lon': -61.7964,\n",
       "  'Date': '2020-02-27T00:00:00Z',\n",
       "  'Cases': 0,\n",
       "  'Status': 'deaths'},\n",
       " {'Country': 'Antigua and Barbuda',\n",
       "  'Province': '',\n",
       "  'Lat': 17.0608,\n",
       "  'Lon': -61.7964,\n",
       "  'Date': '2020-02-28T00:00:00Z',\n",
       "  'Cases': 0,\n",
       "  'Status': 'recovered'},\n",
       " {'Country': 'Antigua and Barbuda',\n",
       "  'Province': '',\n",
       "  'Lat': 17.0608,\n",
       "  'Lon': -61.7964,\n",
       "  'Date': '2020-02-28T00:00:00Z',\n",
       "  'Cases': 0,\n",
       "  'Status': 'confirmed'},\n",
       " {'Country': 'Antigua and Barbuda',\n",
       "  'Province': '',\n",
       "  'Lat': 17.0608,\n",
       "  'Lon': -61.7964,\n",
       "  'Date': '2020-02-28T00:00:00Z',\n",
       "  'Cases': 0,\n",
       "  'Status': 'deaths'},\n",
       " {'Country': 'Antigua and Barbuda',\n",
       "  'Province': '',\n",
       "  'Lat': 17.0608,\n",
       "  'Lon': -61.7964,\n",
       "  'Date': '2020-02-29T00:00:00Z',\n",
       "  'Cases': 0,\n",
       "  'Status': 'recovered'},\n",
       " ...]"
      ]
     },
     "execution_count": 2,
     "metadata": {},
     "output_type": "execute_result"
    }
   ],
   "source": [
    "url='https://api.covid19api.com/all'\n",
    "\n",
    "response = requests.get(url, headers={\"user-agent\":\"Mozilla/5.0 (Windows NT 10.0; Win64; x64) AppleWebKit/537.36 (KHTML, like Gecko) Chrome/79.0.3945.130 Safari/537.36\"})\n",
    "result=response.json()\n",
    "result"
   ]
  },
  {
   "cell_type": "code",
   "execution_count": 3,
   "metadata": {
    "ExecuteTime": {
     "end_time": "2020-03-21T12:55:09.688644Z",
     "start_time": "2020-03-21T12:55:07.257914Z"
    }
   },
   "outputs": [
    {
     "data": {
      "text/html": [
       "<div>\n",
       "<style scoped>\n",
       "    .dataframe tbody tr th:only-of-type {\n",
       "        vertical-align: middle;\n",
       "    }\n",
       "\n",
       "    .dataframe tbody tr th {\n",
       "        vertical-align: top;\n",
       "    }\n",
       "\n",
       "    .dataframe thead th {\n",
       "        text-align: right;\n",
       "    }\n",
       "</style>\n",
       "<table border=\"1\" class=\"dataframe\">\n",
       "  <thead>\n",
       "    <tr style=\"text-align: right;\">\n",
       "      <th></th>\n",
       "      <th>Country</th>\n",
       "      <th>Province</th>\n",
       "      <th>Lat</th>\n",
       "      <th>Lon</th>\n",
       "      <th>Date</th>\n",
       "      <th>Cases</th>\n",
       "      <th>Status</th>\n",
       "    </tr>\n",
       "  </thead>\n",
       "  <tbody>\n",
       "    <tr>\n",
       "      <th>0</th>\n",
       "      <td>Afghanistan</td>\n",
       "      <td></td>\n",
       "      <td>33.0</td>\n",
       "      <td>65.0</td>\n",
       "      <td>2020-01-22T00:00:00Z</td>\n",
       "      <td>0</td>\n",
       "      <td>recovered</td>\n",
       "    </tr>\n",
       "    <tr>\n",
       "      <th>1</th>\n",
       "      <td>Afghanistan</td>\n",
       "      <td></td>\n",
       "      <td>33.0</td>\n",
       "      <td>65.0</td>\n",
       "      <td>2020-01-22T00:00:00Z</td>\n",
       "      <td>0</td>\n",
       "      <td>confirmed</td>\n",
       "    </tr>\n",
       "    <tr>\n",
       "      <th>2</th>\n",
       "      <td>Afghanistan</td>\n",
       "      <td></td>\n",
       "      <td>33.0</td>\n",
       "      <td>65.0</td>\n",
       "      <td>2020-01-22T00:00:00Z</td>\n",
       "      <td>0</td>\n",
       "      <td>deaths</td>\n",
       "    </tr>\n",
       "    <tr>\n",
       "      <th>3</th>\n",
       "      <td>Afghanistan</td>\n",
       "      <td></td>\n",
       "      <td>33.0</td>\n",
       "      <td>65.0</td>\n",
       "      <td>2020-01-23T00:00:00Z</td>\n",
       "      <td>0</td>\n",
       "      <td>recovered</td>\n",
       "    </tr>\n",
       "    <tr>\n",
       "      <th>4</th>\n",
       "      <td>Afghanistan</td>\n",
       "      <td></td>\n",
       "      <td>33.0</td>\n",
       "      <td>65.0</td>\n",
       "      <td>2020-01-23T00:00:00Z</td>\n",
       "      <td>0</td>\n",
       "      <td>confirmed</td>\n",
       "    </tr>\n",
       "  </tbody>\n",
       "</table>\n",
       "</div>"
      ],
      "text/plain": [
       "       Country Province   Lat   Lon                  Date  Cases     Status\n",
       "0  Afghanistan           33.0  65.0  2020-01-22T00:00:00Z      0  recovered\n",
       "1  Afghanistan           33.0  65.0  2020-01-22T00:00:00Z      0  confirmed\n",
       "2  Afghanistan           33.0  65.0  2020-01-22T00:00:00Z      0     deaths\n",
       "3  Afghanistan           33.0  65.0  2020-01-23T00:00:00Z      0  recovered\n",
       "4  Afghanistan           33.0  65.0  2020-01-23T00:00:00Z      0  confirmed"
      ]
     },
     "execution_count": 3,
     "metadata": {},
     "output_type": "execute_result"
    }
   ],
   "source": [
    "df_coronavirus_raw = pd.DataFrame()\n",
    "df_coronavirus_raw = json_normalize(result)\n",
    "df_coronavirus_raw.head()"
   ]
  },
  {
   "cell_type": "markdown",
   "metadata": {},
   "source": [
    "# Data cleaning"
   ]
  },
  {
   "cell_type": "markdown",
   "metadata": {},
   "source": [
    "## Renombramos columnas y estandarizamos nombres"
   ]
  },
  {
   "cell_type": "code",
   "execution_count": 4,
   "metadata": {
    "ExecuteTime": {
     "end_time": "2020-03-21T12:55:09.743498Z",
     "start_time": "2020-03-21T12:55:09.692633Z"
    }
   },
   "outputs": [
    {
     "data": {
      "text/html": [
       "<div>\n",
       "<style scoped>\n",
       "    .dataframe tbody tr th:only-of-type {\n",
       "        vertical-align: middle;\n",
       "    }\n",
       "\n",
       "    .dataframe tbody tr th {\n",
       "        vertical-align: top;\n",
       "    }\n",
       "\n",
       "    .dataframe thead th {\n",
       "        text-align: right;\n",
       "    }\n",
       "</style>\n",
       "<table border=\"1\" class=\"dataframe\">\n",
       "  <thead>\n",
       "    <tr style=\"text-align: right;\">\n",
       "      <th></th>\n",
       "      <th>country</th>\n",
       "      <th>province</th>\n",
       "      <th>latitude</th>\n",
       "      <th>longitude</th>\n",
       "      <th>date</th>\n",
       "      <th>cases</th>\n",
       "      <th>status</th>\n",
       "    </tr>\n",
       "  </thead>\n",
       "  <tbody>\n",
       "    <tr>\n",
       "      <th>0</th>\n",
       "      <td>Afghanistan</td>\n",
       "      <td></td>\n",
       "      <td>33.0</td>\n",
       "      <td>65.0</td>\n",
       "      <td>2020-01-22T00:00:00Z</td>\n",
       "      <td>0</td>\n",
       "      <td>recovered</td>\n",
       "    </tr>\n",
       "    <tr>\n",
       "      <th>1</th>\n",
       "      <td>Afghanistan</td>\n",
       "      <td></td>\n",
       "      <td>33.0</td>\n",
       "      <td>65.0</td>\n",
       "      <td>2020-01-22T00:00:00Z</td>\n",
       "      <td>0</td>\n",
       "      <td>confirmed</td>\n",
       "    </tr>\n",
       "    <tr>\n",
       "      <th>2</th>\n",
       "      <td>Afghanistan</td>\n",
       "      <td></td>\n",
       "      <td>33.0</td>\n",
       "      <td>65.0</td>\n",
       "      <td>2020-01-22T00:00:00Z</td>\n",
       "      <td>0</td>\n",
       "      <td>deaths</td>\n",
       "    </tr>\n",
       "    <tr>\n",
       "      <th>3</th>\n",
       "      <td>Afghanistan</td>\n",
       "      <td></td>\n",
       "      <td>33.0</td>\n",
       "      <td>65.0</td>\n",
       "      <td>2020-01-23T00:00:00Z</td>\n",
       "      <td>0</td>\n",
       "      <td>recovered</td>\n",
       "    </tr>\n",
       "    <tr>\n",
       "      <th>4</th>\n",
       "      <td>Afghanistan</td>\n",
       "      <td></td>\n",
       "      <td>33.0</td>\n",
       "      <td>65.0</td>\n",
       "      <td>2020-01-23T00:00:00Z</td>\n",
       "      <td>0</td>\n",
       "      <td>confirmed</td>\n",
       "    </tr>\n",
       "  </tbody>\n",
       "</table>\n",
       "</div>"
      ],
      "text/plain": [
       "       country province  latitude  longitude                  date  cases  \\\n",
       "0  Afghanistan               33.0       65.0  2020-01-22T00:00:00Z      0   \n",
       "1  Afghanistan               33.0       65.0  2020-01-22T00:00:00Z      0   \n",
       "2  Afghanistan               33.0       65.0  2020-01-22T00:00:00Z      0   \n",
       "3  Afghanistan               33.0       65.0  2020-01-23T00:00:00Z      0   \n",
       "4  Afghanistan               33.0       65.0  2020-01-23T00:00:00Z      0   \n",
       "\n",
       "      status  \n",
       "0  recovered  \n",
       "1  confirmed  \n",
       "2     deaths  \n",
       "3  recovered  \n",
       "4  confirmed  "
      ]
     },
     "execution_count": 4,
     "metadata": {},
     "output_type": "execute_result"
    }
   ],
   "source": [
    "df_coronavirus_raw.columns = df_coronavirus_raw.columns.str.replace('[.]','_').str.lower()\n",
    "df_coronavirus_raw = df_coronavirus_raw.rename(columns = {'lat':'latitude', 'lon':'longitude'})\n",
    "df_coronavirus_raw.head()"
   ]
  },
  {
   "cell_type": "markdown",
   "metadata": {},
   "source": [
    "## Clasificamos los paises entre China y resto del mundo\n",
    "## Calculamos los casos existentes = Casos confirmados - fallecidos - recuperados"
   ]
  },
  {
   "cell_type": "code",
   "execution_count": 5,
   "metadata": {
    "ExecuteTime": {
     "end_time": "2020-03-21T12:55:10.312975Z",
     "start_time": "2020-03-21T12:55:09.746489Z"
    }
   },
   "outputs": [
    {
     "data": {
      "text/html": [
       "<div>\n",
       "<style scoped>\n",
       "    .dataframe tbody tr th:only-of-type {\n",
       "        vertical-align: middle;\n",
       "    }\n",
       "\n",
       "    .dataframe tbody tr th {\n",
       "        vertical-align: top;\n",
       "    }\n",
       "\n",
       "    .dataframe thead th {\n",
       "        text-align: right;\n",
       "    }\n",
       "</style>\n",
       "<table border=\"1\" class=\"dataframe\">\n",
       "  <thead>\n",
       "    <tr style=\"text-align: right;\">\n",
       "      <th>status</th>\n",
       "      <th>class</th>\n",
       "      <th>country</th>\n",
       "      <th>province</th>\n",
       "      <th>latitude</th>\n",
       "      <th>longitude</th>\n",
       "      <th>date</th>\n",
       "      <th>confirmed</th>\n",
       "      <th>deaths</th>\n",
       "      <th>recovered</th>\n",
       "      <th>existing</th>\n",
       "    </tr>\n",
       "  </thead>\n",
       "  <tbody>\n",
       "    <tr>\n",
       "      <th>0</th>\n",
       "      <td>China</td>\n",
       "      <td>China</td>\n",
       "      <td>Anhui</td>\n",
       "      <td>31.8257</td>\n",
       "      <td>117.226</td>\n",
       "      <td>2020-01-22</td>\n",
       "      <td>1</td>\n",
       "      <td>0</td>\n",
       "      <td>0</td>\n",
       "      <td>1</td>\n",
       "    </tr>\n",
       "    <tr>\n",
       "      <th>1</th>\n",
       "      <td>China</td>\n",
       "      <td>China</td>\n",
       "      <td>Anhui</td>\n",
       "      <td>31.8257</td>\n",
       "      <td>117.226</td>\n",
       "      <td>2020-01-23</td>\n",
       "      <td>9</td>\n",
       "      <td>0</td>\n",
       "      <td>0</td>\n",
       "      <td>9</td>\n",
       "    </tr>\n",
       "    <tr>\n",
       "      <th>2</th>\n",
       "      <td>China</td>\n",
       "      <td>China</td>\n",
       "      <td>Anhui</td>\n",
       "      <td>31.8257</td>\n",
       "      <td>117.226</td>\n",
       "      <td>2020-01-24</td>\n",
       "      <td>15</td>\n",
       "      <td>0</td>\n",
       "      <td>0</td>\n",
       "      <td>15</td>\n",
       "    </tr>\n",
       "    <tr>\n",
       "      <th>3</th>\n",
       "      <td>China</td>\n",
       "      <td>China</td>\n",
       "      <td>Anhui</td>\n",
       "      <td>31.8257</td>\n",
       "      <td>117.226</td>\n",
       "      <td>2020-01-25</td>\n",
       "      <td>39</td>\n",
       "      <td>0</td>\n",
       "      <td>0</td>\n",
       "      <td>39</td>\n",
       "    </tr>\n",
       "    <tr>\n",
       "      <th>4</th>\n",
       "      <td>China</td>\n",
       "      <td>China</td>\n",
       "      <td>Anhui</td>\n",
       "      <td>31.8257</td>\n",
       "      <td>117.226</td>\n",
       "      <td>2020-01-26</td>\n",
       "      <td>60</td>\n",
       "      <td>0</td>\n",
       "      <td>0</td>\n",
       "      <td>60</td>\n",
       "    </tr>\n",
       "  </tbody>\n",
       "</table>\n",
       "</div>"
      ],
      "text/plain": [
       "status  class country province  latitude  longitude       date  confirmed  \\\n",
       "0       China   China    Anhui   31.8257    117.226 2020-01-22          1   \n",
       "1       China   China    Anhui   31.8257    117.226 2020-01-23          9   \n",
       "2       China   China    Anhui   31.8257    117.226 2020-01-24         15   \n",
       "3       China   China    Anhui   31.8257    117.226 2020-01-25         39   \n",
       "4       China   China    Anhui   31.8257    117.226 2020-01-26         60   \n",
       "\n",
       "status  deaths  recovered  existing  \n",
       "0            0          0         1  \n",
       "1            0          0         9  \n",
       "2            0          0        15  \n",
       "3            0          0        39  \n",
       "4            0          0        60  "
      ]
     },
     "execution_count": 5,
     "metadata": {},
     "output_type": "execute_result"
    }
   ],
   "source": [
    "df_coronavirus_raw['class'] = np.where(df_coronavirus_raw.country.str.contains('China'), 'China', 'Other Countries')\n",
    "df_coronavirus_raw['date'] = pd.to_datetime(df_coronavirus_raw['date'], format=\"%Y-%m-%dT%H:%M:%SZ\")\n",
    "l_index = ['class','country', 'province', 'latitude','longitude', 'date']\n",
    "df_coronavirus = pd.pivot_table(df_coronavirus_raw, values='cases', \n",
    "                index = l_index, columns=['status'],\n",
    "                aggfunc=np.sum, fill_value=0).reset_index()\n",
    "df_coronavirus['existing'] = df_coronavirus.confirmed.fillna(0) -  df_coronavirus.deaths.fillna(0) - df_coronavirus.recovered.fillna(0)\n",
    "df_coronavirus.head()"
   ]
  },
  {
   "cell_type": "markdown",
   "metadata": {},
   "source": [
    "## Ordenamos columas"
   ]
  },
  {
   "cell_type": "code",
   "execution_count": 6,
   "metadata": {
    "ExecuteTime": {
     "end_time": "2020-03-21T12:55:10.356858Z",
     "start_time": "2020-03-21T12:55:10.315968Z"
    },
    "code_folding": []
   },
   "outputs": [
    {
     "data": {
      "text/html": [
       "<div>\n",
       "<style scoped>\n",
       "    .dataframe tbody tr th:only-of-type {\n",
       "        vertical-align: middle;\n",
       "    }\n",
       "\n",
       "    .dataframe tbody tr th {\n",
       "        vertical-align: top;\n",
       "    }\n",
       "\n",
       "    .dataframe thead th {\n",
       "        text-align: right;\n",
       "    }\n",
       "</style>\n",
       "<table border=\"1\" class=\"dataframe\">\n",
       "  <thead>\n",
       "    <tr style=\"text-align: right;\">\n",
       "      <th>status</th>\n",
       "      <th>date</th>\n",
       "      <th>class</th>\n",
       "      <th>country</th>\n",
       "      <th>province</th>\n",
       "      <th>latitude</th>\n",
       "      <th>longitude</th>\n",
       "      <th>confirmed</th>\n",
       "      <th>deaths</th>\n",
       "      <th>recovered</th>\n",
       "      <th>existing</th>\n",
       "    </tr>\n",
       "  </thead>\n",
       "  <tbody>\n",
       "    <tr>\n",
       "      <th>0</th>\n",
       "      <td>2020-01-22</td>\n",
       "      <td>China</td>\n",
       "      <td>China</td>\n",
       "      <td>Anhui</td>\n",
       "      <td>31.8257</td>\n",
       "      <td>117.226</td>\n",
       "      <td>1</td>\n",
       "      <td>0</td>\n",
       "      <td>0</td>\n",
       "      <td>1</td>\n",
       "    </tr>\n",
       "    <tr>\n",
       "      <th>1</th>\n",
       "      <td>2020-01-23</td>\n",
       "      <td>China</td>\n",
       "      <td>China</td>\n",
       "      <td>Anhui</td>\n",
       "      <td>31.8257</td>\n",
       "      <td>117.226</td>\n",
       "      <td>9</td>\n",
       "      <td>0</td>\n",
       "      <td>0</td>\n",
       "      <td>9</td>\n",
       "    </tr>\n",
       "    <tr>\n",
       "      <th>2</th>\n",
       "      <td>2020-01-24</td>\n",
       "      <td>China</td>\n",
       "      <td>China</td>\n",
       "      <td>Anhui</td>\n",
       "      <td>31.8257</td>\n",
       "      <td>117.226</td>\n",
       "      <td>15</td>\n",
       "      <td>0</td>\n",
       "      <td>0</td>\n",
       "      <td>15</td>\n",
       "    </tr>\n",
       "    <tr>\n",
       "      <th>3</th>\n",
       "      <td>2020-01-25</td>\n",
       "      <td>China</td>\n",
       "      <td>China</td>\n",
       "      <td>Anhui</td>\n",
       "      <td>31.8257</td>\n",
       "      <td>117.226</td>\n",
       "      <td>39</td>\n",
       "      <td>0</td>\n",
       "      <td>0</td>\n",
       "      <td>39</td>\n",
       "    </tr>\n",
       "    <tr>\n",
       "      <th>4</th>\n",
       "      <td>2020-01-26</td>\n",
       "      <td>China</td>\n",
       "      <td>China</td>\n",
       "      <td>Anhui</td>\n",
       "      <td>31.8257</td>\n",
       "      <td>117.226</td>\n",
       "      <td>60</td>\n",
       "      <td>0</td>\n",
       "      <td>0</td>\n",
       "      <td>60</td>\n",
       "    </tr>\n",
       "  </tbody>\n",
       "</table>\n",
       "</div>"
      ],
      "text/plain": [
       "status       date  class country province  latitude  longitude  confirmed  \\\n",
       "0      2020-01-22  China   China    Anhui   31.8257    117.226          1   \n",
       "1      2020-01-23  China   China    Anhui   31.8257    117.226          9   \n",
       "2      2020-01-24  China   China    Anhui   31.8257    117.226         15   \n",
       "3      2020-01-25  China   China    Anhui   31.8257    117.226         39   \n",
       "4      2020-01-26  China   China    Anhui   31.8257    117.226         60   \n",
       "\n",
       "status  deaths  recovered  existing  \n",
       "0            0          0         1  \n",
       "1            0          0         9  \n",
       "2            0          0        15  \n",
       "3            0          0        39  \n",
       "4            0          0        60  "
      ]
     },
     "execution_count": 6,
     "metadata": {},
     "output_type": "execute_result"
    }
   ],
   "source": [
    "column_order = ['date', 'class', 'country', 'province', 'latitude', 'longitude', \\\n",
    "                'confirmed','deaths', 'recovered', 'existing']\n",
    "df_coronavirus = df_coronavirus[column_order]\n",
    "df_coronavirus.head()"
   ]
  },
  {
   "cell_type": "markdown",
   "metadata": {
    "ExecuteTime": {
     "end_time": "2020-03-14T01:07:05.035505Z",
     "start_time": "2020-03-14T01:07:05.027542Z"
    }
   },
   "source": [
    "# Scatterplot Evolución de Casos de china vs. el resto del mundo"
   ]
  },
  {
   "cell_type": "markdown",
   "metadata": {},
   "source": [
    "## Obtenemos la suma acumulada de casos por el tipo de gráfico"
   ]
  },
  {
   "cell_type": "code",
   "execution_count": 7,
   "metadata": {
    "ExecuteTime": {
     "end_time": "2020-03-21T12:55:10.384783Z",
     "start_time": "2020-03-21T12:55:10.359850Z"
    }
   },
   "outputs": [],
   "source": [
    "col_vars = ['confirmed','deaths', 'recovered', 'existing']\n",
    "cat_vars = list(df_coronavirus['class'].unique())\n",
    "df_china_row = df_coronavirus.groupby(['class','date'])[col_vars].agg('sum').reset_index()"
   ]
  },
  {
   "cell_type": "markdown",
   "metadata": {},
   "source": [
    "## Diagramamos el scatterplot"
   ]
  },
  {
   "cell_type": "code",
   "execution_count": 8,
   "metadata": {
    "ExecuteTime": {
     "end_time": "2020-03-21T12:55:12.705805Z",
     "start_time": "2020-03-21T12:55:10.389770Z"
    }
   },
   "outputs": [
    {
     "data": {
      "application/vnd.plotly.v1+json": {
       "config": {
        "plotlyServerURL": "https://plot.ly"
       },
       "data": [
        {
         "mode": "lines+markers",
         "name": "China - Confirmed",
         "type": "scatter",
         "x": [
          "2020-01-22T00:00:00",
          "2020-01-23T00:00:00",
          "2020-01-24T00:00:00",
          "2020-01-25T00:00:00",
          "2020-01-26T00:00:00",
          "2020-01-27T00:00:00",
          "2020-01-28T00:00:00",
          "2020-01-29T00:00:00",
          "2020-01-30T00:00:00",
          "2020-01-31T00:00:00",
          "2020-02-01T00:00:00",
          "2020-02-02T00:00:00",
          "2020-02-03T00:00:00",
          "2020-02-04T00:00:00",
          "2020-02-05T00:00:00",
          "2020-02-06T00:00:00",
          "2020-02-07T00:00:00",
          "2020-02-08T00:00:00",
          "2020-02-09T00:00:00",
          "2020-02-10T00:00:00",
          "2020-02-11T00:00:00",
          "2020-02-12T00:00:00",
          "2020-02-13T00:00:00",
          "2020-02-14T00:00:00",
          "2020-02-15T00:00:00",
          "2020-02-16T00:00:00",
          "2020-02-17T00:00:00",
          "2020-02-18T00:00:00",
          "2020-02-19T00:00:00",
          "2020-02-20T00:00:00",
          "2020-02-21T00:00:00",
          "2020-02-22T00:00:00",
          "2020-02-23T00:00:00",
          "2020-02-24T00:00:00",
          "2020-02-25T00:00:00",
          "2020-02-26T00:00:00",
          "2020-02-27T00:00:00",
          "2020-02-28T00:00:00",
          "2020-02-29T00:00:00",
          "2020-03-01T00:00:00",
          "2020-03-02T00:00:00",
          "2020-03-03T00:00:00",
          "2020-03-04T00:00:00",
          "2020-03-05T00:00:00",
          "2020-03-06T00:00:00",
          "2020-03-07T00:00:00",
          "2020-03-08T00:00:00",
          "2020-03-09T00:00:00",
          "2020-03-10T00:00:00",
          "2020-03-11T00:00:00",
          "2020-03-12T00:00:00",
          "2020-03-13T00:00:00",
          "2020-03-14T00:00:00",
          "2020-03-15T00:00:00",
          "2020-03-16T00:00:00",
          "2020-03-17T00:00:00",
          "2020-03-18T00:00:00",
          "2020-03-19T00:00:00",
          "2020-03-20T00:00:00"
         ],
         "xaxis": "x",
         "y": [
          548,
          643,
          920,
          1406,
          2075,
          2877,
          5509,
          6087,
          8141,
          9802,
          11891,
          16630,
          19716,
          23707,
          27440,
          30587,
          34110,
          36814,
          39829,
          42354,
          44386,
          44759,
          59895,
          66358,
          68413,
          70513,
          72434,
          74211,
          74619,
          75077,
          75550,
          77001,
          77022,
          77241,
          77754,
          78166,
          78600,
          78928,
          79356,
          79932,
          80136,
          80261,
          80386,
          80537,
          80690,
          80770,
          80823,
          80860,
          80887,
          80921,
          80932,
          80945,
          80977,
          81003,
          81033,
          81058,
          81102,
          81156,
          81250
         ],
         "yaxis": "y"
        },
        {
         "mode": "lines+markers",
         "name": "China - Deaths",
         "type": "scatter",
         "x": [
          "2020-01-22T00:00:00",
          "2020-01-23T00:00:00",
          "2020-01-24T00:00:00",
          "2020-01-25T00:00:00",
          "2020-01-26T00:00:00",
          "2020-01-27T00:00:00",
          "2020-01-28T00:00:00",
          "2020-01-29T00:00:00",
          "2020-01-30T00:00:00",
          "2020-01-31T00:00:00",
          "2020-02-01T00:00:00",
          "2020-02-02T00:00:00",
          "2020-02-03T00:00:00",
          "2020-02-04T00:00:00",
          "2020-02-05T00:00:00",
          "2020-02-06T00:00:00",
          "2020-02-07T00:00:00",
          "2020-02-08T00:00:00",
          "2020-02-09T00:00:00",
          "2020-02-10T00:00:00",
          "2020-02-11T00:00:00",
          "2020-02-12T00:00:00",
          "2020-02-13T00:00:00",
          "2020-02-14T00:00:00",
          "2020-02-15T00:00:00",
          "2020-02-16T00:00:00",
          "2020-02-17T00:00:00",
          "2020-02-18T00:00:00",
          "2020-02-19T00:00:00",
          "2020-02-20T00:00:00",
          "2020-02-21T00:00:00",
          "2020-02-22T00:00:00",
          "2020-02-23T00:00:00",
          "2020-02-24T00:00:00",
          "2020-02-25T00:00:00",
          "2020-02-26T00:00:00",
          "2020-02-27T00:00:00",
          "2020-02-28T00:00:00",
          "2020-02-29T00:00:00",
          "2020-03-01T00:00:00",
          "2020-03-02T00:00:00",
          "2020-03-03T00:00:00",
          "2020-03-04T00:00:00",
          "2020-03-05T00:00:00",
          "2020-03-06T00:00:00",
          "2020-03-07T00:00:00",
          "2020-03-08T00:00:00",
          "2020-03-09T00:00:00",
          "2020-03-10T00:00:00",
          "2020-03-11T00:00:00",
          "2020-03-12T00:00:00",
          "2020-03-13T00:00:00",
          "2020-03-14T00:00:00",
          "2020-03-15T00:00:00",
          "2020-03-16T00:00:00",
          "2020-03-17T00:00:00",
          "2020-03-18T00:00:00",
          "2020-03-19T00:00:00",
          "2020-03-20T00:00:00"
         ],
         "xaxis": "x",
         "y": [
          17,
          18,
          26,
          42,
          56,
          82,
          131,
          133,
          171,
          213,
          259,
          361,
          425,
          491,
          563,
          633,
          718,
          805,
          905,
          1012,
          1112,
          1117,
          1369,
          1521,
          1663,
          1766,
          1864,
          2003,
          2116,
          2238,
          2238,
          2443,
          2445,
          2595,
          2665,
          2717,
          2746,
          2790,
          2837,
          2872,
          2914,
          2947,
          2983,
          3015,
          3044,
          3072,
          3100,
          3123,
          3139,
          3161,
          3172,
          3180,
          3193,
          3203,
          3217,
          3230,
          3241,
          3249,
          3253
         ],
         "yaxis": "y"
        },
        {
         "mode": "lines+markers",
         "name": "China - Recovered",
         "type": "scatter",
         "x": [
          "2020-01-22T00:00:00",
          "2020-01-23T00:00:00",
          "2020-01-24T00:00:00",
          "2020-01-25T00:00:00",
          "2020-01-26T00:00:00",
          "2020-01-27T00:00:00",
          "2020-01-28T00:00:00",
          "2020-01-29T00:00:00",
          "2020-01-30T00:00:00",
          "2020-01-31T00:00:00",
          "2020-02-01T00:00:00",
          "2020-02-02T00:00:00",
          "2020-02-03T00:00:00",
          "2020-02-04T00:00:00",
          "2020-02-05T00:00:00",
          "2020-02-06T00:00:00",
          "2020-02-07T00:00:00",
          "2020-02-08T00:00:00",
          "2020-02-09T00:00:00",
          "2020-02-10T00:00:00",
          "2020-02-11T00:00:00",
          "2020-02-12T00:00:00",
          "2020-02-13T00:00:00",
          "2020-02-14T00:00:00",
          "2020-02-15T00:00:00",
          "2020-02-16T00:00:00",
          "2020-02-17T00:00:00",
          "2020-02-18T00:00:00",
          "2020-02-19T00:00:00",
          "2020-02-20T00:00:00",
          "2020-02-21T00:00:00",
          "2020-02-22T00:00:00",
          "2020-02-23T00:00:00",
          "2020-02-24T00:00:00",
          "2020-02-25T00:00:00",
          "2020-02-26T00:00:00",
          "2020-02-27T00:00:00",
          "2020-02-28T00:00:00",
          "2020-02-29T00:00:00",
          "2020-03-01T00:00:00",
          "2020-03-02T00:00:00",
          "2020-03-03T00:00:00",
          "2020-03-04T00:00:00",
          "2020-03-05T00:00:00",
          "2020-03-06T00:00:00",
          "2020-03-07T00:00:00",
          "2020-03-08T00:00:00",
          "2020-03-09T00:00:00",
          "2020-03-10T00:00:00",
          "2020-03-11T00:00:00",
          "2020-03-12T00:00:00",
          "2020-03-13T00:00:00",
          "2020-03-14T00:00:00",
          "2020-03-15T00:00:00",
          "2020-03-16T00:00:00",
          "2020-03-17T00:00:00",
          "2020-03-18T00:00:00",
          "2020-03-19T00:00:00",
          "2020-03-20T00:00:00"
         ],
         "xaxis": "x",
         "y": [
          28,
          30,
          36,
          39,
          49,
          58,
          101,
          120,
          135,
          214,
          275,
          463,
          614,
          843,
          1115,
          1477,
          1999,
          2596,
          3219,
          3918,
          4636,
          5082,
          6217,
          7977,
          9298,
          10755,
          12462,
          14206,
          15962,
          18014,
          18704,
          22699,
          23187,
          25015,
          27676,
          30084,
          32930,
          36329,
          39320,
          42162,
          44854,
          47450,
          50001,
          52292,
          53944,
          55539,
          57388,
          58804,
          60181,
          61644,
          62901,
          64196,
          65660,
          67017,
          67910,
          68798,
          69755,
          70535,
          71266
         ],
         "yaxis": "y"
        },
        {
         "mode": "lines+markers",
         "name": "China - Existing",
         "type": "scatter",
         "x": [
          "2020-01-22T00:00:00",
          "2020-01-23T00:00:00",
          "2020-01-24T00:00:00",
          "2020-01-25T00:00:00",
          "2020-01-26T00:00:00",
          "2020-01-27T00:00:00",
          "2020-01-28T00:00:00",
          "2020-01-29T00:00:00",
          "2020-01-30T00:00:00",
          "2020-01-31T00:00:00",
          "2020-02-01T00:00:00",
          "2020-02-02T00:00:00",
          "2020-02-03T00:00:00",
          "2020-02-04T00:00:00",
          "2020-02-05T00:00:00",
          "2020-02-06T00:00:00",
          "2020-02-07T00:00:00",
          "2020-02-08T00:00:00",
          "2020-02-09T00:00:00",
          "2020-02-10T00:00:00",
          "2020-02-11T00:00:00",
          "2020-02-12T00:00:00",
          "2020-02-13T00:00:00",
          "2020-02-14T00:00:00",
          "2020-02-15T00:00:00",
          "2020-02-16T00:00:00",
          "2020-02-17T00:00:00",
          "2020-02-18T00:00:00",
          "2020-02-19T00:00:00",
          "2020-02-20T00:00:00",
          "2020-02-21T00:00:00",
          "2020-02-22T00:00:00",
          "2020-02-23T00:00:00",
          "2020-02-24T00:00:00",
          "2020-02-25T00:00:00",
          "2020-02-26T00:00:00",
          "2020-02-27T00:00:00",
          "2020-02-28T00:00:00",
          "2020-02-29T00:00:00",
          "2020-03-01T00:00:00",
          "2020-03-02T00:00:00",
          "2020-03-03T00:00:00",
          "2020-03-04T00:00:00",
          "2020-03-05T00:00:00",
          "2020-03-06T00:00:00",
          "2020-03-07T00:00:00",
          "2020-03-08T00:00:00",
          "2020-03-09T00:00:00",
          "2020-03-10T00:00:00",
          "2020-03-11T00:00:00",
          "2020-03-12T00:00:00",
          "2020-03-13T00:00:00",
          "2020-03-14T00:00:00",
          "2020-03-15T00:00:00",
          "2020-03-16T00:00:00",
          "2020-03-17T00:00:00",
          "2020-03-18T00:00:00",
          "2020-03-19T00:00:00",
          "2020-03-20T00:00:00"
         ],
         "xaxis": "x",
         "y": [
          503,
          595,
          858,
          1325,
          1970,
          2737,
          5277,
          5834,
          7835,
          9375,
          11357,
          15806,
          18677,
          22373,
          25762,
          28477,
          31393,
          33413,
          35705,
          37424,
          38638,
          38560,
          52309,
          56860,
          57452,
          57992,
          58108,
          58002,
          56541,
          54825,
          54608,
          51859,
          51390,
          49631,
          47413,
          45365,
          42924,
          39809,
          37199,
          34898,
          32368,
          29864,
          27402,
          25230,
          23702,
          22159,
          20335,
          18933,
          17567,
          16116,
          14859,
          13569,
          12124,
          10783,
          9906,
          9030,
          8106,
          7372,
          6731
         ],
         "yaxis": "y"
        },
        {
         "mode": "lines+markers",
         "name": "Other Countries - Confirmed",
         "type": "scatter",
         "x": [
          "2020-01-22T00:00:00",
          "2020-01-23T00:00:00",
          "2020-01-24T00:00:00",
          "2020-01-25T00:00:00",
          "2020-01-26T00:00:00",
          "2020-01-27T00:00:00",
          "2020-01-28T00:00:00",
          "2020-01-29T00:00:00",
          "2020-01-30T00:00:00",
          "2020-01-31T00:00:00",
          "2020-02-01T00:00:00",
          "2020-02-02T00:00:00",
          "2020-02-03T00:00:00",
          "2020-02-04T00:00:00",
          "2020-02-05T00:00:00",
          "2020-02-06T00:00:00",
          "2020-02-07T00:00:00",
          "2020-02-08T00:00:00",
          "2020-02-09T00:00:00",
          "2020-02-10T00:00:00",
          "2020-02-11T00:00:00",
          "2020-02-12T00:00:00",
          "2020-02-13T00:00:00",
          "2020-02-14T00:00:00",
          "2020-02-15T00:00:00",
          "2020-02-16T00:00:00",
          "2020-02-17T00:00:00",
          "2020-02-18T00:00:00",
          "2020-02-19T00:00:00",
          "2020-02-20T00:00:00",
          "2020-02-21T00:00:00",
          "2020-02-22T00:00:00",
          "2020-02-23T00:00:00",
          "2020-02-24T00:00:00",
          "2020-02-25T00:00:00",
          "2020-02-26T00:00:00",
          "2020-02-27T00:00:00",
          "2020-02-28T00:00:00",
          "2020-02-29T00:00:00",
          "2020-03-01T00:00:00",
          "2020-03-02T00:00:00",
          "2020-03-03T00:00:00",
          "2020-03-04T00:00:00",
          "2020-03-05T00:00:00",
          "2020-03-06T00:00:00",
          "2020-03-07T00:00:00",
          "2020-03-08T00:00:00",
          "2020-03-09T00:00:00",
          "2020-03-10T00:00:00",
          "2020-03-11T00:00:00",
          "2020-03-12T00:00:00",
          "2020-03-13T00:00:00",
          "2020-03-14T00:00:00",
          "2020-03-15T00:00:00",
          "2020-03-16T00:00:00",
          "2020-03-17T00:00:00",
          "2020-03-18T00:00:00",
          "2020-03-19T00:00:00",
          "2020-03-20T00:00:00"
         ],
         "xaxis": "x2",
         "y": [
          7,
          10,
          21,
          28,
          43,
          50,
          69,
          79,
          93,
          125,
          147,
          157,
          165,
          185,
          195,
          230,
          281,
          306,
          321,
          408,
          416,
          462,
          473,
          527,
          617,
          711,
          824,
          925,
          1020,
          1120,
          1273,
          1578,
          1943,
          2327,
          2659,
          3229,
          4154,
          5192,
          6655,
          8437,
          10170,
          12579,
          14734,
          17345,
          21094,
          25051,
          28972,
          32701,
          37705,
          44945,
          47412,
          64255,
          75128,
          86455,
          100526,
          116094,
          133810,
          161552,
          190917
         ],
         "yaxis": "y2"
        },
        {
         "mode": "lines+markers",
         "name": "Other Countries - Deaths",
         "type": "scatter",
         "x": [
          "2020-01-22T00:00:00",
          "2020-01-23T00:00:00",
          "2020-01-24T00:00:00",
          "2020-01-25T00:00:00",
          "2020-01-26T00:00:00",
          "2020-01-27T00:00:00",
          "2020-01-28T00:00:00",
          "2020-01-29T00:00:00",
          "2020-01-30T00:00:00",
          "2020-01-31T00:00:00",
          "2020-02-01T00:00:00",
          "2020-02-02T00:00:00",
          "2020-02-03T00:00:00",
          "2020-02-04T00:00:00",
          "2020-02-05T00:00:00",
          "2020-02-06T00:00:00",
          "2020-02-07T00:00:00",
          "2020-02-08T00:00:00",
          "2020-02-09T00:00:00",
          "2020-02-10T00:00:00",
          "2020-02-11T00:00:00",
          "2020-02-12T00:00:00",
          "2020-02-13T00:00:00",
          "2020-02-14T00:00:00",
          "2020-02-15T00:00:00",
          "2020-02-16T00:00:00",
          "2020-02-17T00:00:00",
          "2020-02-18T00:00:00",
          "2020-02-19T00:00:00",
          "2020-02-20T00:00:00",
          "2020-02-21T00:00:00",
          "2020-02-22T00:00:00",
          "2020-02-23T00:00:00",
          "2020-02-24T00:00:00",
          "2020-02-25T00:00:00",
          "2020-02-26T00:00:00",
          "2020-02-27T00:00:00",
          "2020-02-28T00:00:00",
          "2020-02-29T00:00:00",
          "2020-03-01T00:00:00",
          "2020-03-02T00:00:00",
          "2020-03-03T00:00:00",
          "2020-03-04T00:00:00",
          "2020-03-05T00:00:00",
          "2020-03-06T00:00:00",
          "2020-03-07T00:00:00",
          "2020-03-08T00:00:00",
          "2020-03-09T00:00:00",
          "2020-03-10T00:00:00",
          "2020-03-11T00:00:00",
          "2020-03-12T00:00:00",
          "2020-03-13T00:00:00",
          "2020-03-14T00:00:00",
          "2020-03-15T00:00:00",
          "2020-03-16T00:00:00",
          "2020-03-17T00:00:00",
          "2020-03-18T00:00:00",
          "2020-03-19T00:00:00",
          "2020-03-20T00:00:00"
         ],
         "xaxis": "x2",
         "y": [
          0,
          0,
          0,
          0,
          0,
          0,
          0,
          0,
          0,
          0,
          0,
          1,
          1,
          1,
          1,
          1,
          1,
          1,
          1,
          1,
          1,
          1,
          2,
          2,
          3,
          4,
          4,
          4,
          6,
          9,
          13,
          15,
          24,
          34,
          43,
          53,
          68,
          82,
          104,
          124,
          171,
          213,
          271,
          333,
          416,
          486,
          702,
          865,
          1123,
          1454,
          1548,
          2224,
          2626,
          3237,
          3909,
          4675,
          5492,
          6618,
          8046
         ],
         "yaxis": "y2"
        },
        {
         "mode": "lines+markers",
         "name": "Other Countries - Recovered",
         "type": "scatter",
         "x": [
          "2020-01-22T00:00:00",
          "2020-01-23T00:00:00",
          "2020-01-24T00:00:00",
          "2020-01-25T00:00:00",
          "2020-01-26T00:00:00",
          "2020-01-27T00:00:00",
          "2020-01-28T00:00:00",
          "2020-01-29T00:00:00",
          "2020-01-30T00:00:00",
          "2020-01-31T00:00:00",
          "2020-02-01T00:00:00",
          "2020-02-02T00:00:00",
          "2020-02-03T00:00:00",
          "2020-02-04T00:00:00",
          "2020-02-05T00:00:00",
          "2020-02-06T00:00:00",
          "2020-02-07T00:00:00",
          "2020-02-08T00:00:00",
          "2020-02-09T00:00:00",
          "2020-02-10T00:00:00",
          "2020-02-11T00:00:00",
          "2020-02-12T00:00:00",
          "2020-02-13T00:00:00",
          "2020-02-14T00:00:00",
          "2020-02-15T00:00:00",
          "2020-02-16T00:00:00",
          "2020-02-17T00:00:00",
          "2020-02-18T00:00:00",
          "2020-02-19T00:00:00",
          "2020-02-20T00:00:00",
          "2020-02-21T00:00:00",
          "2020-02-22T00:00:00",
          "2020-02-23T00:00:00",
          "2020-02-24T00:00:00",
          "2020-02-25T00:00:00",
          "2020-02-26T00:00:00",
          "2020-02-27T00:00:00",
          "2020-02-28T00:00:00",
          "2020-02-29T00:00:00",
          "2020-03-01T00:00:00",
          "2020-03-02T00:00:00",
          "2020-03-03T00:00:00",
          "2020-03-04T00:00:00",
          "2020-03-05T00:00:00",
          "2020-03-06T00:00:00",
          "2020-03-07T00:00:00",
          "2020-03-08T00:00:00",
          "2020-03-09T00:00:00",
          "2020-03-10T00:00:00",
          "2020-03-11T00:00:00",
          "2020-03-12T00:00:00",
          "2020-03-13T00:00:00",
          "2020-03-14T00:00:00",
          "2020-03-15T00:00:00",
          "2020-03-16T00:00:00",
          "2020-03-17T00:00:00",
          "2020-03-18T00:00:00",
          "2020-03-19T00:00:00",
          "2020-03-20T00:00:00"
         ],
         "xaxis": "x2",
         "y": [
          0,
          0,
          0,
          0,
          3,
          3,
          6,
          6,
          8,
          8,
          9,
          9,
          9,
          9,
          9,
          10,
          12,
          20,
          25,
          28,
          47,
          68,
          78,
          81,
          97,
          110,
          121,
          146,
          159,
          163,
          186,
          187,
          207,
          212,
          229,
          300,
          347,
          382,
          462,
          554,
          748,
          778,
          1169,
          1504,
          1921,
          2819,
          3306,
          3690,
          4223,
          5359,
          5423,
          6055,
          6964,
          9017,
          10178,
          12042,
          13452,
          14319,
          15990
         ],
         "yaxis": "y2"
        },
        {
         "mode": "lines+markers",
         "name": "Other Countries - Existing",
         "type": "scatter",
         "x": [
          "2020-01-22T00:00:00",
          "2020-01-23T00:00:00",
          "2020-01-24T00:00:00",
          "2020-01-25T00:00:00",
          "2020-01-26T00:00:00",
          "2020-01-27T00:00:00",
          "2020-01-28T00:00:00",
          "2020-01-29T00:00:00",
          "2020-01-30T00:00:00",
          "2020-01-31T00:00:00",
          "2020-02-01T00:00:00",
          "2020-02-02T00:00:00",
          "2020-02-03T00:00:00",
          "2020-02-04T00:00:00",
          "2020-02-05T00:00:00",
          "2020-02-06T00:00:00",
          "2020-02-07T00:00:00",
          "2020-02-08T00:00:00",
          "2020-02-09T00:00:00",
          "2020-02-10T00:00:00",
          "2020-02-11T00:00:00",
          "2020-02-12T00:00:00",
          "2020-02-13T00:00:00",
          "2020-02-14T00:00:00",
          "2020-02-15T00:00:00",
          "2020-02-16T00:00:00",
          "2020-02-17T00:00:00",
          "2020-02-18T00:00:00",
          "2020-02-19T00:00:00",
          "2020-02-20T00:00:00",
          "2020-02-21T00:00:00",
          "2020-02-22T00:00:00",
          "2020-02-23T00:00:00",
          "2020-02-24T00:00:00",
          "2020-02-25T00:00:00",
          "2020-02-26T00:00:00",
          "2020-02-27T00:00:00",
          "2020-02-28T00:00:00",
          "2020-02-29T00:00:00",
          "2020-03-01T00:00:00",
          "2020-03-02T00:00:00",
          "2020-03-03T00:00:00",
          "2020-03-04T00:00:00",
          "2020-03-05T00:00:00",
          "2020-03-06T00:00:00",
          "2020-03-07T00:00:00",
          "2020-03-08T00:00:00",
          "2020-03-09T00:00:00",
          "2020-03-10T00:00:00",
          "2020-03-11T00:00:00",
          "2020-03-12T00:00:00",
          "2020-03-13T00:00:00",
          "2020-03-14T00:00:00",
          "2020-03-15T00:00:00",
          "2020-03-16T00:00:00",
          "2020-03-17T00:00:00",
          "2020-03-18T00:00:00",
          "2020-03-19T00:00:00",
          "2020-03-20T00:00:00"
         ],
         "xaxis": "x2",
         "y": [
          7,
          10,
          21,
          28,
          40,
          47,
          63,
          73,
          85,
          117,
          138,
          147,
          155,
          175,
          185,
          219,
          268,
          285,
          295,
          379,
          368,
          393,
          393,
          444,
          517,
          597,
          699,
          775,
          855,
          948,
          1074,
          1376,
          1712,
          2081,
          2387,
          2876,
          3739,
          4728,
          6089,
          7759,
          9251,
          11588,
          13294,
          15508,
          18757,
          21746,
          24964,
          28146,
          32359,
          38132,
          40441,
          55976,
          65538,
          74201,
          86439,
          99377,
          114866,
          140615,
          166881
         ],
         "yaxis": "y2"
        }
       ],
       "layout": {
        "annotations": [
         {
          "font": {
           "size": 16
          },
          "showarrow": false,
          "text": "China",
          "x": 0.225,
          "xanchor": "center",
          "xref": "paper",
          "y": 1,
          "yanchor": "bottom",
          "yref": "paper"
         },
         {
          "font": {
           "size": 16
          },
          "showarrow": false,
          "text": "Resto del Mundo",
          "x": 0.775,
          "xanchor": "center",
          "xref": "paper",
          "y": 1,
          "yanchor": "bottom",
          "yref": "paper"
         }
        ],
        "height": 500,
        "template": {
         "data": {
          "bar": [
           {
            "error_x": {
             "color": "#2a3f5f"
            },
            "error_y": {
             "color": "#2a3f5f"
            },
            "marker": {
             "line": {
              "color": "#E5ECF6",
              "width": 0.5
             }
            },
            "type": "bar"
           }
          ],
          "barpolar": [
           {
            "marker": {
             "line": {
              "color": "#E5ECF6",
              "width": 0.5
             }
            },
            "type": "barpolar"
           }
          ],
          "carpet": [
           {
            "aaxis": {
             "endlinecolor": "#2a3f5f",
             "gridcolor": "white",
             "linecolor": "white",
             "minorgridcolor": "white",
             "startlinecolor": "#2a3f5f"
            },
            "baxis": {
             "endlinecolor": "#2a3f5f",
             "gridcolor": "white",
             "linecolor": "white",
             "minorgridcolor": "white",
             "startlinecolor": "#2a3f5f"
            },
            "type": "carpet"
           }
          ],
          "choropleth": [
           {
            "colorbar": {
             "outlinewidth": 0,
             "ticks": ""
            },
            "type": "choropleth"
           }
          ],
          "contour": [
           {
            "colorbar": {
             "outlinewidth": 0,
             "ticks": ""
            },
            "colorscale": [
             [
              0,
              "#0d0887"
             ],
             [
              0.1111111111111111,
              "#46039f"
             ],
             [
              0.2222222222222222,
              "#7201a8"
             ],
             [
              0.3333333333333333,
              "#9c179e"
             ],
             [
              0.4444444444444444,
              "#bd3786"
             ],
             [
              0.5555555555555556,
              "#d8576b"
             ],
             [
              0.6666666666666666,
              "#ed7953"
             ],
             [
              0.7777777777777778,
              "#fb9f3a"
             ],
             [
              0.8888888888888888,
              "#fdca26"
             ],
             [
              1,
              "#f0f921"
             ]
            ],
            "type": "contour"
           }
          ],
          "contourcarpet": [
           {
            "colorbar": {
             "outlinewidth": 0,
             "ticks": ""
            },
            "type": "contourcarpet"
           }
          ],
          "heatmap": [
           {
            "colorbar": {
             "outlinewidth": 0,
             "ticks": ""
            },
            "colorscale": [
             [
              0,
              "#0d0887"
             ],
             [
              0.1111111111111111,
              "#46039f"
             ],
             [
              0.2222222222222222,
              "#7201a8"
             ],
             [
              0.3333333333333333,
              "#9c179e"
             ],
             [
              0.4444444444444444,
              "#bd3786"
             ],
             [
              0.5555555555555556,
              "#d8576b"
             ],
             [
              0.6666666666666666,
              "#ed7953"
             ],
             [
              0.7777777777777778,
              "#fb9f3a"
             ],
             [
              0.8888888888888888,
              "#fdca26"
             ],
             [
              1,
              "#f0f921"
             ]
            ],
            "type": "heatmap"
           }
          ],
          "heatmapgl": [
           {
            "colorbar": {
             "outlinewidth": 0,
             "ticks": ""
            },
            "colorscale": [
             [
              0,
              "#0d0887"
             ],
             [
              0.1111111111111111,
              "#46039f"
             ],
             [
              0.2222222222222222,
              "#7201a8"
             ],
             [
              0.3333333333333333,
              "#9c179e"
             ],
             [
              0.4444444444444444,
              "#bd3786"
             ],
             [
              0.5555555555555556,
              "#d8576b"
             ],
             [
              0.6666666666666666,
              "#ed7953"
             ],
             [
              0.7777777777777778,
              "#fb9f3a"
             ],
             [
              0.8888888888888888,
              "#fdca26"
             ],
             [
              1,
              "#f0f921"
             ]
            ],
            "type": "heatmapgl"
           }
          ],
          "histogram": [
           {
            "marker": {
             "colorbar": {
              "outlinewidth": 0,
              "ticks": ""
             }
            },
            "type": "histogram"
           }
          ],
          "histogram2d": [
           {
            "colorbar": {
             "outlinewidth": 0,
             "ticks": ""
            },
            "colorscale": [
             [
              0,
              "#0d0887"
             ],
             [
              0.1111111111111111,
              "#46039f"
             ],
             [
              0.2222222222222222,
              "#7201a8"
             ],
             [
              0.3333333333333333,
              "#9c179e"
             ],
             [
              0.4444444444444444,
              "#bd3786"
             ],
             [
              0.5555555555555556,
              "#d8576b"
             ],
             [
              0.6666666666666666,
              "#ed7953"
             ],
             [
              0.7777777777777778,
              "#fb9f3a"
             ],
             [
              0.8888888888888888,
              "#fdca26"
             ],
             [
              1,
              "#f0f921"
             ]
            ],
            "type": "histogram2d"
           }
          ],
          "histogram2dcontour": [
           {
            "colorbar": {
             "outlinewidth": 0,
             "ticks": ""
            },
            "colorscale": [
             [
              0,
              "#0d0887"
             ],
             [
              0.1111111111111111,
              "#46039f"
             ],
             [
              0.2222222222222222,
              "#7201a8"
             ],
             [
              0.3333333333333333,
              "#9c179e"
             ],
             [
              0.4444444444444444,
              "#bd3786"
             ],
             [
              0.5555555555555556,
              "#d8576b"
             ],
             [
              0.6666666666666666,
              "#ed7953"
             ],
             [
              0.7777777777777778,
              "#fb9f3a"
             ],
             [
              0.8888888888888888,
              "#fdca26"
             ],
             [
              1,
              "#f0f921"
             ]
            ],
            "type": "histogram2dcontour"
           }
          ],
          "mesh3d": [
           {
            "colorbar": {
             "outlinewidth": 0,
             "ticks": ""
            },
            "type": "mesh3d"
           }
          ],
          "parcoords": [
           {
            "line": {
             "colorbar": {
              "outlinewidth": 0,
              "ticks": ""
             }
            },
            "type": "parcoords"
           }
          ],
          "pie": [
           {
            "automargin": true,
            "type": "pie"
           }
          ],
          "scatter": [
           {
            "marker": {
             "colorbar": {
              "outlinewidth": 0,
              "ticks": ""
             }
            },
            "type": "scatter"
           }
          ],
          "scatter3d": [
           {
            "line": {
             "colorbar": {
              "outlinewidth": 0,
              "ticks": ""
             }
            },
            "marker": {
             "colorbar": {
              "outlinewidth": 0,
              "ticks": ""
             }
            },
            "type": "scatter3d"
           }
          ],
          "scattercarpet": [
           {
            "marker": {
             "colorbar": {
              "outlinewidth": 0,
              "ticks": ""
             }
            },
            "type": "scattercarpet"
           }
          ],
          "scattergeo": [
           {
            "marker": {
             "colorbar": {
              "outlinewidth": 0,
              "ticks": ""
             }
            },
            "type": "scattergeo"
           }
          ],
          "scattergl": [
           {
            "marker": {
             "colorbar": {
              "outlinewidth": 0,
              "ticks": ""
             }
            },
            "type": "scattergl"
           }
          ],
          "scattermapbox": [
           {
            "marker": {
             "colorbar": {
              "outlinewidth": 0,
              "ticks": ""
             }
            },
            "type": "scattermapbox"
           }
          ],
          "scatterpolar": [
           {
            "marker": {
             "colorbar": {
              "outlinewidth": 0,
              "ticks": ""
             }
            },
            "type": "scatterpolar"
           }
          ],
          "scatterpolargl": [
           {
            "marker": {
             "colorbar": {
              "outlinewidth": 0,
              "ticks": ""
             }
            },
            "type": "scatterpolargl"
           }
          ],
          "scatterternary": [
           {
            "marker": {
             "colorbar": {
              "outlinewidth": 0,
              "ticks": ""
             }
            },
            "type": "scatterternary"
           }
          ],
          "surface": [
           {
            "colorbar": {
             "outlinewidth": 0,
             "ticks": ""
            },
            "colorscale": [
             [
              0,
              "#0d0887"
             ],
             [
              0.1111111111111111,
              "#46039f"
             ],
             [
              0.2222222222222222,
              "#7201a8"
             ],
             [
              0.3333333333333333,
              "#9c179e"
             ],
             [
              0.4444444444444444,
              "#bd3786"
             ],
             [
              0.5555555555555556,
              "#d8576b"
             ],
             [
              0.6666666666666666,
              "#ed7953"
             ],
             [
              0.7777777777777778,
              "#fb9f3a"
             ],
             [
              0.8888888888888888,
              "#fdca26"
             ],
             [
              1,
              "#f0f921"
             ]
            ],
            "type": "surface"
           }
          ],
          "table": [
           {
            "cells": {
             "fill": {
              "color": "#EBF0F8"
             },
             "line": {
              "color": "white"
             }
            },
            "header": {
             "fill": {
              "color": "#C8D4E3"
             },
             "line": {
              "color": "white"
             }
            },
            "type": "table"
           }
          ]
         },
         "layout": {
          "annotationdefaults": {
           "arrowcolor": "#2a3f5f",
           "arrowhead": 0,
           "arrowwidth": 1
          },
          "coloraxis": {
           "colorbar": {
            "outlinewidth": 0,
            "ticks": ""
           }
          },
          "colorscale": {
           "diverging": [
            [
             0,
             "#8e0152"
            ],
            [
             0.1,
             "#c51b7d"
            ],
            [
             0.2,
             "#de77ae"
            ],
            [
             0.3,
             "#f1b6da"
            ],
            [
             0.4,
             "#fde0ef"
            ],
            [
             0.5,
             "#f7f7f7"
            ],
            [
             0.6,
             "#e6f5d0"
            ],
            [
             0.7,
             "#b8e186"
            ],
            [
             0.8,
             "#7fbc41"
            ],
            [
             0.9,
             "#4d9221"
            ],
            [
             1,
             "#276419"
            ]
           ],
           "sequential": [
            [
             0,
             "#0d0887"
            ],
            [
             0.1111111111111111,
             "#46039f"
            ],
            [
             0.2222222222222222,
             "#7201a8"
            ],
            [
             0.3333333333333333,
             "#9c179e"
            ],
            [
             0.4444444444444444,
             "#bd3786"
            ],
            [
             0.5555555555555556,
             "#d8576b"
            ],
            [
             0.6666666666666666,
             "#ed7953"
            ],
            [
             0.7777777777777778,
             "#fb9f3a"
            ],
            [
             0.8888888888888888,
             "#fdca26"
            ],
            [
             1,
             "#f0f921"
            ]
           ],
           "sequentialminus": [
            [
             0,
             "#0d0887"
            ],
            [
             0.1111111111111111,
             "#46039f"
            ],
            [
             0.2222222222222222,
             "#7201a8"
            ],
            [
             0.3333333333333333,
             "#9c179e"
            ],
            [
             0.4444444444444444,
             "#bd3786"
            ],
            [
             0.5555555555555556,
             "#d8576b"
            ],
            [
             0.6666666666666666,
             "#ed7953"
            ],
            [
             0.7777777777777778,
             "#fb9f3a"
            ],
            [
             0.8888888888888888,
             "#fdca26"
            ],
            [
             1,
             "#f0f921"
            ]
           ]
          },
          "colorway": [
           "#636efa",
           "#EF553B",
           "#00cc96",
           "#ab63fa",
           "#FFA15A",
           "#19d3f3",
           "#FF6692",
           "#B6E880",
           "#FF97FF",
           "#FECB52"
          ],
          "font": {
           "color": "#2a3f5f"
          },
          "geo": {
           "bgcolor": "white",
           "lakecolor": "white",
           "landcolor": "#E5ECF6",
           "showlakes": true,
           "showland": true,
           "subunitcolor": "white"
          },
          "hoverlabel": {
           "align": "left"
          },
          "hovermode": "closest",
          "mapbox": {
           "style": "light"
          },
          "paper_bgcolor": "white",
          "plot_bgcolor": "#E5ECF6",
          "polar": {
           "angularaxis": {
            "gridcolor": "white",
            "linecolor": "white",
            "ticks": ""
           },
           "bgcolor": "#E5ECF6",
           "radialaxis": {
            "gridcolor": "white",
            "linecolor": "white",
            "ticks": ""
           }
          },
          "scene": {
           "xaxis": {
            "backgroundcolor": "#E5ECF6",
            "gridcolor": "white",
            "gridwidth": 2,
            "linecolor": "white",
            "showbackground": true,
            "ticks": "",
            "zerolinecolor": "white"
           },
           "yaxis": {
            "backgroundcolor": "#E5ECF6",
            "gridcolor": "white",
            "gridwidth": 2,
            "linecolor": "white",
            "showbackground": true,
            "ticks": "",
            "zerolinecolor": "white"
           },
           "zaxis": {
            "backgroundcolor": "#E5ECF6",
            "gridcolor": "white",
            "gridwidth": 2,
            "linecolor": "white",
            "showbackground": true,
            "ticks": "",
            "zerolinecolor": "white"
           }
          },
          "shapedefaults": {
           "line": {
            "color": "#2a3f5f"
           }
          },
          "ternary": {
           "aaxis": {
            "gridcolor": "white",
            "linecolor": "white",
            "ticks": ""
           },
           "baxis": {
            "gridcolor": "white",
            "linecolor": "white",
            "ticks": ""
           },
           "bgcolor": "#E5ECF6",
           "caxis": {
            "gridcolor": "white",
            "linecolor": "white",
            "ticks": ""
           }
          },
          "title": {
           "x": 0.05
          },
          "xaxis": {
           "automargin": true,
           "gridcolor": "white",
           "linecolor": "white",
           "ticks": "",
           "title": {
            "standoff": 15
           },
           "zerolinecolor": "white",
           "zerolinewidth": 2
          },
          "yaxis": {
           "automargin": true,
           "gridcolor": "white",
           "linecolor": "white",
           "ticks": "",
           "title": {
            "standoff": 15
           },
           "zerolinecolor": "white",
           "zerolinewidth": 2
          }
         }
        },
        "title": {
         "text": "Evolución de casos China vs. Resto del mundo",
         "x": 0.5
        },
        "width": 1000,
        "xaxis": {
         "anchor": "y",
         "domain": [
          0,
          0.45
         ]
        },
        "xaxis2": {
         "anchor": "y2",
         "domain": [
          0.55,
          1
         ]
        },
        "yaxis": {
         "anchor": "x",
         "domain": [
          0,
          1
         ]
        },
        "yaxis2": {
         "anchor": "x2",
         "domain": [
          0,
          1
         ],
         "matches": "y",
         "showticklabels": false
        }
       }
      },
      "text/html": [
       "<div>\n",
       "        \n",
       "        \n",
       "            <div id=\"ebfc94b0-7dce-406e-b570-2786596f97df\" class=\"plotly-graph-div\" style=\"height:500px; width:1000px;\"></div>\n",
       "            <script type=\"text/javascript\">\n",
       "                require([\"plotly\"], function(Plotly) {\n",
       "                    window.PLOTLYENV=window.PLOTLYENV || {};\n",
       "                    \n",
       "                if (document.getElementById(\"ebfc94b0-7dce-406e-b570-2786596f97df\")) {\n",
       "                    Plotly.newPlot(\n",
       "                        'ebfc94b0-7dce-406e-b570-2786596f97df',\n",
       "                        [{\"mode\": \"lines+markers\", \"name\": \"China - Confirmed\", \"type\": \"scatter\", \"x\": [\"2020-01-22T00:00:00\", \"2020-01-23T00:00:00\", \"2020-01-24T00:00:00\", \"2020-01-25T00:00:00\", \"2020-01-26T00:00:00\", \"2020-01-27T00:00:00\", \"2020-01-28T00:00:00\", \"2020-01-29T00:00:00\", \"2020-01-30T00:00:00\", \"2020-01-31T00:00:00\", \"2020-02-01T00:00:00\", \"2020-02-02T00:00:00\", \"2020-02-03T00:00:00\", \"2020-02-04T00:00:00\", \"2020-02-05T00:00:00\", \"2020-02-06T00:00:00\", \"2020-02-07T00:00:00\", \"2020-02-08T00:00:00\", \"2020-02-09T00:00:00\", \"2020-02-10T00:00:00\", \"2020-02-11T00:00:00\", \"2020-02-12T00:00:00\", \"2020-02-13T00:00:00\", \"2020-02-14T00:00:00\", \"2020-02-15T00:00:00\", \"2020-02-16T00:00:00\", \"2020-02-17T00:00:00\", \"2020-02-18T00:00:00\", \"2020-02-19T00:00:00\", \"2020-02-20T00:00:00\", \"2020-02-21T00:00:00\", \"2020-02-22T00:00:00\", \"2020-02-23T00:00:00\", \"2020-02-24T00:00:00\", \"2020-02-25T00:00:00\", \"2020-02-26T00:00:00\", \"2020-02-27T00:00:00\", \"2020-02-28T00:00:00\", \"2020-02-29T00:00:00\", \"2020-03-01T00:00:00\", \"2020-03-02T00:00:00\", \"2020-03-03T00:00:00\", \"2020-03-04T00:00:00\", \"2020-03-05T00:00:00\", \"2020-03-06T00:00:00\", \"2020-03-07T00:00:00\", \"2020-03-08T00:00:00\", \"2020-03-09T00:00:00\", \"2020-03-10T00:00:00\", \"2020-03-11T00:00:00\", \"2020-03-12T00:00:00\", \"2020-03-13T00:00:00\", \"2020-03-14T00:00:00\", \"2020-03-15T00:00:00\", \"2020-03-16T00:00:00\", \"2020-03-17T00:00:00\", \"2020-03-18T00:00:00\", \"2020-03-19T00:00:00\", \"2020-03-20T00:00:00\"], \"xaxis\": \"x\", \"y\": [548, 643, 920, 1406, 2075, 2877, 5509, 6087, 8141, 9802, 11891, 16630, 19716, 23707, 27440, 30587, 34110, 36814, 39829, 42354, 44386, 44759, 59895, 66358, 68413, 70513, 72434, 74211, 74619, 75077, 75550, 77001, 77022, 77241, 77754, 78166, 78600, 78928, 79356, 79932, 80136, 80261, 80386, 80537, 80690, 80770, 80823, 80860, 80887, 80921, 80932, 80945, 80977, 81003, 81033, 81058, 81102, 81156, 81250], \"yaxis\": \"y\"}, {\"mode\": \"lines+markers\", \"name\": \"China - Deaths\", \"type\": \"scatter\", \"x\": [\"2020-01-22T00:00:00\", \"2020-01-23T00:00:00\", \"2020-01-24T00:00:00\", \"2020-01-25T00:00:00\", \"2020-01-26T00:00:00\", \"2020-01-27T00:00:00\", \"2020-01-28T00:00:00\", \"2020-01-29T00:00:00\", \"2020-01-30T00:00:00\", \"2020-01-31T00:00:00\", \"2020-02-01T00:00:00\", \"2020-02-02T00:00:00\", \"2020-02-03T00:00:00\", \"2020-02-04T00:00:00\", \"2020-02-05T00:00:00\", \"2020-02-06T00:00:00\", \"2020-02-07T00:00:00\", \"2020-02-08T00:00:00\", \"2020-02-09T00:00:00\", \"2020-02-10T00:00:00\", \"2020-02-11T00:00:00\", \"2020-02-12T00:00:00\", \"2020-02-13T00:00:00\", \"2020-02-14T00:00:00\", \"2020-02-15T00:00:00\", \"2020-02-16T00:00:00\", \"2020-02-17T00:00:00\", \"2020-02-18T00:00:00\", \"2020-02-19T00:00:00\", \"2020-02-20T00:00:00\", \"2020-02-21T00:00:00\", \"2020-02-22T00:00:00\", \"2020-02-23T00:00:00\", \"2020-02-24T00:00:00\", \"2020-02-25T00:00:00\", \"2020-02-26T00:00:00\", \"2020-02-27T00:00:00\", \"2020-02-28T00:00:00\", \"2020-02-29T00:00:00\", \"2020-03-01T00:00:00\", \"2020-03-02T00:00:00\", \"2020-03-03T00:00:00\", \"2020-03-04T00:00:00\", \"2020-03-05T00:00:00\", \"2020-03-06T00:00:00\", \"2020-03-07T00:00:00\", \"2020-03-08T00:00:00\", \"2020-03-09T00:00:00\", \"2020-03-10T00:00:00\", \"2020-03-11T00:00:00\", \"2020-03-12T00:00:00\", \"2020-03-13T00:00:00\", \"2020-03-14T00:00:00\", \"2020-03-15T00:00:00\", \"2020-03-16T00:00:00\", \"2020-03-17T00:00:00\", \"2020-03-18T00:00:00\", \"2020-03-19T00:00:00\", \"2020-03-20T00:00:00\"], \"xaxis\": \"x\", \"y\": [17, 18, 26, 42, 56, 82, 131, 133, 171, 213, 259, 361, 425, 491, 563, 633, 718, 805, 905, 1012, 1112, 1117, 1369, 1521, 1663, 1766, 1864, 2003, 2116, 2238, 2238, 2443, 2445, 2595, 2665, 2717, 2746, 2790, 2837, 2872, 2914, 2947, 2983, 3015, 3044, 3072, 3100, 3123, 3139, 3161, 3172, 3180, 3193, 3203, 3217, 3230, 3241, 3249, 3253], \"yaxis\": \"y\"}, {\"mode\": \"lines+markers\", \"name\": \"China - Recovered\", \"type\": \"scatter\", \"x\": [\"2020-01-22T00:00:00\", \"2020-01-23T00:00:00\", \"2020-01-24T00:00:00\", \"2020-01-25T00:00:00\", \"2020-01-26T00:00:00\", \"2020-01-27T00:00:00\", \"2020-01-28T00:00:00\", \"2020-01-29T00:00:00\", \"2020-01-30T00:00:00\", \"2020-01-31T00:00:00\", \"2020-02-01T00:00:00\", \"2020-02-02T00:00:00\", \"2020-02-03T00:00:00\", \"2020-02-04T00:00:00\", \"2020-02-05T00:00:00\", \"2020-02-06T00:00:00\", \"2020-02-07T00:00:00\", \"2020-02-08T00:00:00\", \"2020-02-09T00:00:00\", \"2020-02-10T00:00:00\", \"2020-02-11T00:00:00\", \"2020-02-12T00:00:00\", \"2020-02-13T00:00:00\", \"2020-02-14T00:00:00\", \"2020-02-15T00:00:00\", \"2020-02-16T00:00:00\", \"2020-02-17T00:00:00\", \"2020-02-18T00:00:00\", \"2020-02-19T00:00:00\", \"2020-02-20T00:00:00\", \"2020-02-21T00:00:00\", \"2020-02-22T00:00:00\", \"2020-02-23T00:00:00\", \"2020-02-24T00:00:00\", \"2020-02-25T00:00:00\", \"2020-02-26T00:00:00\", \"2020-02-27T00:00:00\", \"2020-02-28T00:00:00\", \"2020-02-29T00:00:00\", \"2020-03-01T00:00:00\", \"2020-03-02T00:00:00\", \"2020-03-03T00:00:00\", \"2020-03-04T00:00:00\", \"2020-03-05T00:00:00\", \"2020-03-06T00:00:00\", \"2020-03-07T00:00:00\", \"2020-03-08T00:00:00\", \"2020-03-09T00:00:00\", \"2020-03-10T00:00:00\", \"2020-03-11T00:00:00\", \"2020-03-12T00:00:00\", \"2020-03-13T00:00:00\", \"2020-03-14T00:00:00\", \"2020-03-15T00:00:00\", \"2020-03-16T00:00:00\", \"2020-03-17T00:00:00\", \"2020-03-18T00:00:00\", \"2020-03-19T00:00:00\", \"2020-03-20T00:00:00\"], \"xaxis\": \"x\", \"y\": [28, 30, 36, 39, 49, 58, 101, 120, 135, 214, 275, 463, 614, 843, 1115, 1477, 1999, 2596, 3219, 3918, 4636, 5082, 6217, 7977, 9298, 10755, 12462, 14206, 15962, 18014, 18704, 22699, 23187, 25015, 27676, 30084, 32930, 36329, 39320, 42162, 44854, 47450, 50001, 52292, 53944, 55539, 57388, 58804, 60181, 61644, 62901, 64196, 65660, 67017, 67910, 68798, 69755, 70535, 71266], \"yaxis\": \"y\"}, {\"mode\": \"lines+markers\", \"name\": \"China - Existing\", \"type\": \"scatter\", \"x\": [\"2020-01-22T00:00:00\", \"2020-01-23T00:00:00\", \"2020-01-24T00:00:00\", \"2020-01-25T00:00:00\", \"2020-01-26T00:00:00\", \"2020-01-27T00:00:00\", \"2020-01-28T00:00:00\", \"2020-01-29T00:00:00\", \"2020-01-30T00:00:00\", \"2020-01-31T00:00:00\", \"2020-02-01T00:00:00\", \"2020-02-02T00:00:00\", \"2020-02-03T00:00:00\", \"2020-02-04T00:00:00\", \"2020-02-05T00:00:00\", \"2020-02-06T00:00:00\", \"2020-02-07T00:00:00\", \"2020-02-08T00:00:00\", \"2020-02-09T00:00:00\", \"2020-02-10T00:00:00\", \"2020-02-11T00:00:00\", \"2020-02-12T00:00:00\", \"2020-02-13T00:00:00\", \"2020-02-14T00:00:00\", \"2020-02-15T00:00:00\", \"2020-02-16T00:00:00\", \"2020-02-17T00:00:00\", \"2020-02-18T00:00:00\", \"2020-02-19T00:00:00\", \"2020-02-20T00:00:00\", \"2020-02-21T00:00:00\", \"2020-02-22T00:00:00\", \"2020-02-23T00:00:00\", \"2020-02-24T00:00:00\", \"2020-02-25T00:00:00\", \"2020-02-26T00:00:00\", \"2020-02-27T00:00:00\", \"2020-02-28T00:00:00\", \"2020-02-29T00:00:00\", \"2020-03-01T00:00:00\", \"2020-03-02T00:00:00\", \"2020-03-03T00:00:00\", \"2020-03-04T00:00:00\", \"2020-03-05T00:00:00\", \"2020-03-06T00:00:00\", \"2020-03-07T00:00:00\", \"2020-03-08T00:00:00\", \"2020-03-09T00:00:00\", \"2020-03-10T00:00:00\", \"2020-03-11T00:00:00\", \"2020-03-12T00:00:00\", \"2020-03-13T00:00:00\", \"2020-03-14T00:00:00\", \"2020-03-15T00:00:00\", \"2020-03-16T00:00:00\", \"2020-03-17T00:00:00\", \"2020-03-18T00:00:00\", \"2020-03-19T00:00:00\", \"2020-03-20T00:00:00\"], \"xaxis\": \"x\", \"y\": [503, 595, 858, 1325, 1970, 2737, 5277, 5834, 7835, 9375, 11357, 15806, 18677, 22373, 25762, 28477, 31393, 33413, 35705, 37424, 38638, 38560, 52309, 56860, 57452, 57992, 58108, 58002, 56541, 54825, 54608, 51859, 51390, 49631, 47413, 45365, 42924, 39809, 37199, 34898, 32368, 29864, 27402, 25230, 23702, 22159, 20335, 18933, 17567, 16116, 14859, 13569, 12124, 10783, 9906, 9030, 8106, 7372, 6731], \"yaxis\": \"y\"}, {\"mode\": \"lines+markers\", \"name\": \"Other Countries - Confirmed\", \"type\": \"scatter\", \"x\": [\"2020-01-22T00:00:00\", \"2020-01-23T00:00:00\", \"2020-01-24T00:00:00\", \"2020-01-25T00:00:00\", \"2020-01-26T00:00:00\", \"2020-01-27T00:00:00\", \"2020-01-28T00:00:00\", \"2020-01-29T00:00:00\", \"2020-01-30T00:00:00\", \"2020-01-31T00:00:00\", \"2020-02-01T00:00:00\", \"2020-02-02T00:00:00\", \"2020-02-03T00:00:00\", \"2020-02-04T00:00:00\", \"2020-02-05T00:00:00\", \"2020-02-06T00:00:00\", \"2020-02-07T00:00:00\", \"2020-02-08T00:00:00\", \"2020-02-09T00:00:00\", \"2020-02-10T00:00:00\", \"2020-02-11T00:00:00\", \"2020-02-12T00:00:00\", \"2020-02-13T00:00:00\", \"2020-02-14T00:00:00\", \"2020-02-15T00:00:00\", \"2020-02-16T00:00:00\", \"2020-02-17T00:00:00\", \"2020-02-18T00:00:00\", \"2020-02-19T00:00:00\", \"2020-02-20T00:00:00\", \"2020-02-21T00:00:00\", \"2020-02-22T00:00:00\", \"2020-02-23T00:00:00\", \"2020-02-24T00:00:00\", \"2020-02-25T00:00:00\", \"2020-02-26T00:00:00\", \"2020-02-27T00:00:00\", \"2020-02-28T00:00:00\", \"2020-02-29T00:00:00\", \"2020-03-01T00:00:00\", \"2020-03-02T00:00:00\", \"2020-03-03T00:00:00\", \"2020-03-04T00:00:00\", \"2020-03-05T00:00:00\", \"2020-03-06T00:00:00\", \"2020-03-07T00:00:00\", \"2020-03-08T00:00:00\", \"2020-03-09T00:00:00\", \"2020-03-10T00:00:00\", \"2020-03-11T00:00:00\", \"2020-03-12T00:00:00\", \"2020-03-13T00:00:00\", \"2020-03-14T00:00:00\", \"2020-03-15T00:00:00\", \"2020-03-16T00:00:00\", \"2020-03-17T00:00:00\", \"2020-03-18T00:00:00\", \"2020-03-19T00:00:00\", \"2020-03-20T00:00:00\"], \"xaxis\": \"x2\", \"y\": [7, 10, 21, 28, 43, 50, 69, 79, 93, 125, 147, 157, 165, 185, 195, 230, 281, 306, 321, 408, 416, 462, 473, 527, 617, 711, 824, 925, 1020, 1120, 1273, 1578, 1943, 2327, 2659, 3229, 4154, 5192, 6655, 8437, 10170, 12579, 14734, 17345, 21094, 25051, 28972, 32701, 37705, 44945, 47412, 64255, 75128, 86455, 100526, 116094, 133810, 161552, 190917], \"yaxis\": \"y2\"}, {\"mode\": \"lines+markers\", \"name\": \"Other Countries - Deaths\", \"type\": \"scatter\", \"x\": [\"2020-01-22T00:00:00\", \"2020-01-23T00:00:00\", \"2020-01-24T00:00:00\", \"2020-01-25T00:00:00\", \"2020-01-26T00:00:00\", \"2020-01-27T00:00:00\", \"2020-01-28T00:00:00\", \"2020-01-29T00:00:00\", \"2020-01-30T00:00:00\", \"2020-01-31T00:00:00\", \"2020-02-01T00:00:00\", \"2020-02-02T00:00:00\", \"2020-02-03T00:00:00\", \"2020-02-04T00:00:00\", \"2020-02-05T00:00:00\", \"2020-02-06T00:00:00\", \"2020-02-07T00:00:00\", \"2020-02-08T00:00:00\", \"2020-02-09T00:00:00\", \"2020-02-10T00:00:00\", \"2020-02-11T00:00:00\", \"2020-02-12T00:00:00\", \"2020-02-13T00:00:00\", \"2020-02-14T00:00:00\", \"2020-02-15T00:00:00\", \"2020-02-16T00:00:00\", \"2020-02-17T00:00:00\", \"2020-02-18T00:00:00\", \"2020-02-19T00:00:00\", \"2020-02-20T00:00:00\", \"2020-02-21T00:00:00\", \"2020-02-22T00:00:00\", \"2020-02-23T00:00:00\", \"2020-02-24T00:00:00\", \"2020-02-25T00:00:00\", \"2020-02-26T00:00:00\", \"2020-02-27T00:00:00\", \"2020-02-28T00:00:00\", \"2020-02-29T00:00:00\", \"2020-03-01T00:00:00\", \"2020-03-02T00:00:00\", \"2020-03-03T00:00:00\", \"2020-03-04T00:00:00\", \"2020-03-05T00:00:00\", \"2020-03-06T00:00:00\", \"2020-03-07T00:00:00\", \"2020-03-08T00:00:00\", \"2020-03-09T00:00:00\", \"2020-03-10T00:00:00\", \"2020-03-11T00:00:00\", \"2020-03-12T00:00:00\", \"2020-03-13T00:00:00\", \"2020-03-14T00:00:00\", \"2020-03-15T00:00:00\", \"2020-03-16T00:00:00\", \"2020-03-17T00:00:00\", \"2020-03-18T00:00:00\", \"2020-03-19T00:00:00\", \"2020-03-20T00:00:00\"], \"xaxis\": \"x2\", \"y\": [0, 0, 0, 0, 0, 0, 0, 0, 0, 0, 0, 1, 1, 1, 1, 1, 1, 1, 1, 1, 1, 1, 2, 2, 3, 4, 4, 4, 6, 9, 13, 15, 24, 34, 43, 53, 68, 82, 104, 124, 171, 213, 271, 333, 416, 486, 702, 865, 1123, 1454, 1548, 2224, 2626, 3237, 3909, 4675, 5492, 6618, 8046], \"yaxis\": \"y2\"}, {\"mode\": \"lines+markers\", \"name\": \"Other Countries - Recovered\", \"type\": \"scatter\", \"x\": [\"2020-01-22T00:00:00\", \"2020-01-23T00:00:00\", \"2020-01-24T00:00:00\", \"2020-01-25T00:00:00\", \"2020-01-26T00:00:00\", \"2020-01-27T00:00:00\", \"2020-01-28T00:00:00\", \"2020-01-29T00:00:00\", \"2020-01-30T00:00:00\", \"2020-01-31T00:00:00\", \"2020-02-01T00:00:00\", \"2020-02-02T00:00:00\", \"2020-02-03T00:00:00\", \"2020-02-04T00:00:00\", \"2020-02-05T00:00:00\", \"2020-02-06T00:00:00\", \"2020-02-07T00:00:00\", \"2020-02-08T00:00:00\", \"2020-02-09T00:00:00\", \"2020-02-10T00:00:00\", \"2020-02-11T00:00:00\", \"2020-02-12T00:00:00\", \"2020-02-13T00:00:00\", \"2020-02-14T00:00:00\", \"2020-02-15T00:00:00\", \"2020-02-16T00:00:00\", \"2020-02-17T00:00:00\", \"2020-02-18T00:00:00\", \"2020-02-19T00:00:00\", \"2020-02-20T00:00:00\", \"2020-02-21T00:00:00\", \"2020-02-22T00:00:00\", \"2020-02-23T00:00:00\", \"2020-02-24T00:00:00\", \"2020-02-25T00:00:00\", \"2020-02-26T00:00:00\", \"2020-02-27T00:00:00\", \"2020-02-28T00:00:00\", \"2020-02-29T00:00:00\", \"2020-03-01T00:00:00\", \"2020-03-02T00:00:00\", \"2020-03-03T00:00:00\", \"2020-03-04T00:00:00\", \"2020-03-05T00:00:00\", \"2020-03-06T00:00:00\", \"2020-03-07T00:00:00\", \"2020-03-08T00:00:00\", \"2020-03-09T00:00:00\", \"2020-03-10T00:00:00\", \"2020-03-11T00:00:00\", \"2020-03-12T00:00:00\", \"2020-03-13T00:00:00\", \"2020-03-14T00:00:00\", \"2020-03-15T00:00:00\", \"2020-03-16T00:00:00\", \"2020-03-17T00:00:00\", \"2020-03-18T00:00:00\", \"2020-03-19T00:00:00\", \"2020-03-20T00:00:00\"], \"xaxis\": \"x2\", \"y\": [0, 0, 0, 0, 3, 3, 6, 6, 8, 8, 9, 9, 9, 9, 9, 10, 12, 20, 25, 28, 47, 68, 78, 81, 97, 110, 121, 146, 159, 163, 186, 187, 207, 212, 229, 300, 347, 382, 462, 554, 748, 778, 1169, 1504, 1921, 2819, 3306, 3690, 4223, 5359, 5423, 6055, 6964, 9017, 10178, 12042, 13452, 14319, 15990], \"yaxis\": \"y2\"}, {\"mode\": \"lines+markers\", \"name\": \"Other Countries - Existing\", \"type\": \"scatter\", \"x\": [\"2020-01-22T00:00:00\", \"2020-01-23T00:00:00\", \"2020-01-24T00:00:00\", \"2020-01-25T00:00:00\", \"2020-01-26T00:00:00\", \"2020-01-27T00:00:00\", \"2020-01-28T00:00:00\", \"2020-01-29T00:00:00\", \"2020-01-30T00:00:00\", \"2020-01-31T00:00:00\", \"2020-02-01T00:00:00\", \"2020-02-02T00:00:00\", \"2020-02-03T00:00:00\", \"2020-02-04T00:00:00\", \"2020-02-05T00:00:00\", \"2020-02-06T00:00:00\", \"2020-02-07T00:00:00\", \"2020-02-08T00:00:00\", \"2020-02-09T00:00:00\", \"2020-02-10T00:00:00\", \"2020-02-11T00:00:00\", \"2020-02-12T00:00:00\", \"2020-02-13T00:00:00\", \"2020-02-14T00:00:00\", \"2020-02-15T00:00:00\", \"2020-02-16T00:00:00\", \"2020-02-17T00:00:00\", \"2020-02-18T00:00:00\", \"2020-02-19T00:00:00\", \"2020-02-20T00:00:00\", \"2020-02-21T00:00:00\", \"2020-02-22T00:00:00\", \"2020-02-23T00:00:00\", \"2020-02-24T00:00:00\", \"2020-02-25T00:00:00\", \"2020-02-26T00:00:00\", \"2020-02-27T00:00:00\", \"2020-02-28T00:00:00\", \"2020-02-29T00:00:00\", \"2020-03-01T00:00:00\", \"2020-03-02T00:00:00\", \"2020-03-03T00:00:00\", \"2020-03-04T00:00:00\", \"2020-03-05T00:00:00\", \"2020-03-06T00:00:00\", \"2020-03-07T00:00:00\", \"2020-03-08T00:00:00\", \"2020-03-09T00:00:00\", \"2020-03-10T00:00:00\", \"2020-03-11T00:00:00\", \"2020-03-12T00:00:00\", \"2020-03-13T00:00:00\", \"2020-03-14T00:00:00\", \"2020-03-15T00:00:00\", \"2020-03-16T00:00:00\", \"2020-03-17T00:00:00\", \"2020-03-18T00:00:00\", \"2020-03-19T00:00:00\", \"2020-03-20T00:00:00\"], \"xaxis\": \"x2\", \"y\": [7, 10, 21, 28, 40, 47, 63, 73, 85, 117, 138, 147, 155, 175, 185, 219, 268, 285, 295, 379, 368, 393, 393, 444, 517, 597, 699, 775, 855, 948, 1074, 1376, 1712, 2081, 2387, 2876, 3739, 4728, 6089, 7759, 9251, 11588, 13294, 15508, 18757, 21746, 24964, 28146, 32359, 38132, 40441, 55976, 65538, 74201, 86439, 99377, 114866, 140615, 166881], \"yaxis\": \"y2\"}],\n",
       "                        {\"annotations\": [{\"font\": {\"size\": 16}, \"showarrow\": false, \"text\": \"China\", \"x\": 0.225, \"xanchor\": \"center\", \"xref\": \"paper\", \"y\": 1.0, \"yanchor\": \"bottom\", \"yref\": \"paper\"}, {\"font\": {\"size\": 16}, \"showarrow\": false, \"text\": \"Resto del Mundo\", \"x\": 0.775, \"xanchor\": \"center\", \"xref\": \"paper\", \"y\": 1.0, \"yanchor\": \"bottom\", \"yref\": \"paper\"}], \"height\": 500, \"template\": {\"data\": {\"bar\": [{\"error_x\": {\"color\": \"#2a3f5f\"}, \"error_y\": {\"color\": \"#2a3f5f\"}, \"marker\": {\"line\": {\"color\": \"#E5ECF6\", \"width\": 0.5}}, \"type\": \"bar\"}], \"barpolar\": [{\"marker\": {\"line\": {\"color\": \"#E5ECF6\", \"width\": 0.5}}, \"type\": \"barpolar\"}], \"carpet\": [{\"aaxis\": {\"endlinecolor\": \"#2a3f5f\", \"gridcolor\": \"white\", \"linecolor\": \"white\", \"minorgridcolor\": \"white\", \"startlinecolor\": \"#2a3f5f\"}, \"baxis\": {\"endlinecolor\": \"#2a3f5f\", \"gridcolor\": \"white\", \"linecolor\": \"white\", \"minorgridcolor\": \"white\", \"startlinecolor\": \"#2a3f5f\"}, \"type\": \"carpet\"}], \"choropleth\": [{\"colorbar\": {\"outlinewidth\": 0, \"ticks\": \"\"}, \"type\": \"choropleth\"}], \"contour\": [{\"colorbar\": {\"outlinewidth\": 0, \"ticks\": \"\"}, \"colorscale\": [[0.0, \"#0d0887\"], [0.1111111111111111, \"#46039f\"], [0.2222222222222222, \"#7201a8\"], [0.3333333333333333, \"#9c179e\"], [0.4444444444444444, \"#bd3786\"], [0.5555555555555556, \"#d8576b\"], [0.6666666666666666, \"#ed7953\"], [0.7777777777777778, \"#fb9f3a\"], [0.8888888888888888, \"#fdca26\"], [1.0, \"#f0f921\"]], \"type\": \"contour\"}], \"contourcarpet\": [{\"colorbar\": {\"outlinewidth\": 0, \"ticks\": \"\"}, \"type\": \"contourcarpet\"}], \"heatmap\": [{\"colorbar\": {\"outlinewidth\": 0, \"ticks\": \"\"}, \"colorscale\": [[0.0, \"#0d0887\"], [0.1111111111111111, \"#46039f\"], [0.2222222222222222, \"#7201a8\"], [0.3333333333333333, \"#9c179e\"], [0.4444444444444444, \"#bd3786\"], [0.5555555555555556, \"#d8576b\"], [0.6666666666666666, \"#ed7953\"], [0.7777777777777778, \"#fb9f3a\"], [0.8888888888888888, \"#fdca26\"], [1.0, \"#f0f921\"]], \"type\": \"heatmap\"}], \"heatmapgl\": [{\"colorbar\": {\"outlinewidth\": 0, \"ticks\": \"\"}, \"colorscale\": [[0.0, \"#0d0887\"], [0.1111111111111111, \"#46039f\"], [0.2222222222222222, \"#7201a8\"], [0.3333333333333333, \"#9c179e\"], [0.4444444444444444, \"#bd3786\"], [0.5555555555555556, \"#d8576b\"], [0.6666666666666666, \"#ed7953\"], [0.7777777777777778, \"#fb9f3a\"], [0.8888888888888888, \"#fdca26\"], [1.0, \"#f0f921\"]], \"type\": \"heatmapgl\"}], \"histogram\": [{\"marker\": {\"colorbar\": {\"outlinewidth\": 0, \"ticks\": \"\"}}, \"type\": \"histogram\"}], \"histogram2d\": [{\"colorbar\": {\"outlinewidth\": 0, \"ticks\": \"\"}, \"colorscale\": [[0.0, \"#0d0887\"], [0.1111111111111111, \"#46039f\"], [0.2222222222222222, \"#7201a8\"], [0.3333333333333333, \"#9c179e\"], [0.4444444444444444, \"#bd3786\"], [0.5555555555555556, \"#d8576b\"], [0.6666666666666666, \"#ed7953\"], [0.7777777777777778, \"#fb9f3a\"], [0.8888888888888888, \"#fdca26\"], [1.0, \"#f0f921\"]], \"type\": \"histogram2d\"}], \"histogram2dcontour\": [{\"colorbar\": {\"outlinewidth\": 0, \"ticks\": \"\"}, \"colorscale\": [[0.0, \"#0d0887\"], [0.1111111111111111, \"#46039f\"], [0.2222222222222222, \"#7201a8\"], [0.3333333333333333, \"#9c179e\"], [0.4444444444444444, \"#bd3786\"], [0.5555555555555556, \"#d8576b\"], [0.6666666666666666, \"#ed7953\"], [0.7777777777777778, \"#fb9f3a\"], [0.8888888888888888, \"#fdca26\"], [1.0, \"#f0f921\"]], \"type\": \"histogram2dcontour\"}], \"mesh3d\": [{\"colorbar\": {\"outlinewidth\": 0, \"ticks\": \"\"}, \"type\": \"mesh3d\"}], \"parcoords\": [{\"line\": {\"colorbar\": {\"outlinewidth\": 0, \"ticks\": \"\"}}, \"type\": \"parcoords\"}], \"pie\": [{\"automargin\": true, \"type\": \"pie\"}], \"scatter\": [{\"marker\": {\"colorbar\": {\"outlinewidth\": 0, \"ticks\": \"\"}}, \"type\": \"scatter\"}], \"scatter3d\": [{\"line\": {\"colorbar\": {\"outlinewidth\": 0, \"ticks\": \"\"}}, \"marker\": {\"colorbar\": {\"outlinewidth\": 0, \"ticks\": \"\"}}, \"type\": \"scatter3d\"}], \"scattercarpet\": [{\"marker\": {\"colorbar\": {\"outlinewidth\": 0, \"ticks\": \"\"}}, \"type\": \"scattercarpet\"}], \"scattergeo\": [{\"marker\": {\"colorbar\": {\"outlinewidth\": 0, \"ticks\": \"\"}}, \"type\": \"scattergeo\"}], \"scattergl\": [{\"marker\": {\"colorbar\": {\"outlinewidth\": 0, \"ticks\": \"\"}}, \"type\": \"scattergl\"}], \"scattermapbox\": [{\"marker\": {\"colorbar\": {\"outlinewidth\": 0, \"ticks\": \"\"}}, \"type\": \"scattermapbox\"}], \"scatterpolar\": [{\"marker\": {\"colorbar\": {\"outlinewidth\": 0, \"ticks\": \"\"}}, \"type\": \"scatterpolar\"}], \"scatterpolargl\": [{\"marker\": {\"colorbar\": {\"outlinewidth\": 0, \"ticks\": \"\"}}, \"type\": \"scatterpolargl\"}], \"scatterternary\": [{\"marker\": {\"colorbar\": {\"outlinewidth\": 0, \"ticks\": \"\"}}, \"type\": \"scatterternary\"}], \"surface\": [{\"colorbar\": {\"outlinewidth\": 0, \"ticks\": \"\"}, \"colorscale\": [[0.0, \"#0d0887\"], [0.1111111111111111, \"#46039f\"], [0.2222222222222222, \"#7201a8\"], [0.3333333333333333, \"#9c179e\"], [0.4444444444444444, \"#bd3786\"], [0.5555555555555556, \"#d8576b\"], [0.6666666666666666, \"#ed7953\"], [0.7777777777777778, \"#fb9f3a\"], [0.8888888888888888, \"#fdca26\"], [1.0, \"#f0f921\"]], \"type\": \"surface\"}], \"table\": [{\"cells\": {\"fill\": {\"color\": \"#EBF0F8\"}, \"line\": {\"color\": \"white\"}}, \"header\": {\"fill\": {\"color\": \"#C8D4E3\"}, \"line\": {\"color\": \"white\"}}, \"type\": \"table\"}]}, \"layout\": {\"annotationdefaults\": {\"arrowcolor\": \"#2a3f5f\", \"arrowhead\": 0, \"arrowwidth\": 1}, \"coloraxis\": {\"colorbar\": {\"outlinewidth\": 0, \"ticks\": \"\"}}, \"colorscale\": {\"diverging\": [[0, \"#8e0152\"], [0.1, \"#c51b7d\"], [0.2, \"#de77ae\"], [0.3, \"#f1b6da\"], [0.4, \"#fde0ef\"], [0.5, \"#f7f7f7\"], [0.6, \"#e6f5d0\"], [0.7, \"#b8e186\"], [0.8, \"#7fbc41\"], [0.9, \"#4d9221\"], [1, \"#276419\"]], \"sequential\": [[0.0, \"#0d0887\"], [0.1111111111111111, \"#46039f\"], [0.2222222222222222, \"#7201a8\"], [0.3333333333333333, \"#9c179e\"], [0.4444444444444444, \"#bd3786\"], [0.5555555555555556, \"#d8576b\"], [0.6666666666666666, \"#ed7953\"], [0.7777777777777778, \"#fb9f3a\"], [0.8888888888888888, \"#fdca26\"], [1.0, \"#f0f921\"]], \"sequentialminus\": [[0.0, \"#0d0887\"], [0.1111111111111111, \"#46039f\"], [0.2222222222222222, \"#7201a8\"], [0.3333333333333333, \"#9c179e\"], [0.4444444444444444, \"#bd3786\"], [0.5555555555555556, \"#d8576b\"], [0.6666666666666666, \"#ed7953\"], [0.7777777777777778, \"#fb9f3a\"], [0.8888888888888888, \"#fdca26\"], [1.0, \"#f0f921\"]]}, \"colorway\": [\"#636efa\", \"#EF553B\", \"#00cc96\", \"#ab63fa\", \"#FFA15A\", \"#19d3f3\", \"#FF6692\", \"#B6E880\", \"#FF97FF\", \"#FECB52\"], \"font\": {\"color\": \"#2a3f5f\"}, \"geo\": {\"bgcolor\": \"white\", \"lakecolor\": \"white\", \"landcolor\": \"#E5ECF6\", \"showlakes\": true, \"showland\": true, \"subunitcolor\": \"white\"}, \"hoverlabel\": {\"align\": \"left\"}, \"hovermode\": \"closest\", \"mapbox\": {\"style\": \"light\"}, \"paper_bgcolor\": \"white\", \"plot_bgcolor\": \"#E5ECF6\", \"polar\": {\"angularaxis\": {\"gridcolor\": \"white\", \"linecolor\": \"white\", \"ticks\": \"\"}, \"bgcolor\": \"#E5ECF6\", \"radialaxis\": {\"gridcolor\": \"white\", \"linecolor\": \"white\", \"ticks\": \"\"}}, \"scene\": {\"xaxis\": {\"backgroundcolor\": \"#E5ECF6\", \"gridcolor\": \"white\", \"gridwidth\": 2, \"linecolor\": \"white\", \"showbackground\": true, \"ticks\": \"\", \"zerolinecolor\": \"white\"}, \"yaxis\": {\"backgroundcolor\": \"#E5ECF6\", \"gridcolor\": \"white\", \"gridwidth\": 2, \"linecolor\": \"white\", \"showbackground\": true, \"ticks\": \"\", \"zerolinecolor\": \"white\"}, \"zaxis\": {\"backgroundcolor\": \"#E5ECF6\", \"gridcolor\": \"white\", \"gridwidth\": 2, \"linecolor\": \"white\", \"showbackground\": true, \"ticks\": \"\", \"zerolinecolor\": \"white\"}}, \"shapedefaults\": {\"line\": {\"color\": \"#2a3f5f\"}}, \"ternary\": {\"aaxis\": {\"gridcolor\": \"white\", \"linecolor\": \"white\", \"ticks\": \"\"}, \"baxis\": {\"gridcolor\": \"white\", \"linecolor\": \"white\", \"ticks\": \"\"}, \"bgcolor\": \"#E5ECF6\", \"caxis\": {\"gridcolor\": \"white\", \"linecolor\": \"white\", \"ticks\": \"\"}}, \"title\": {\"x\": 0.05}, \"xaxis\": {\"automargin\": true, \"gridcolor\": \"white\", \"linecolor\": \"white\", \"ticks\": \"\", \"title\": {\"standoff\": 15}, \"zerolinecolor\": \"white\", \"zerolinewidth\": 2}, \"yaxis\": {\"automargin\": true, \"gridcolor\": \"white\", \"linecolor\": \"white\", \"ticks\": \"\", \"title\": {\"standoff\": 15}, \"zerolinecolor\": \"white\", \"zerolinewidth\": 2}}}, \"title\": {\"text\": \"Evoluci\\u00f3n de casos China vs. Resto del mundo\", \"x\": 0.5}, \"width\": 1000, \"xaxis\": {\"anchor\": \"y\", \"domain\": [0.0, 0.45]}, \"xaxis2\": {\"anchor\": \"y2\", \"domain\": [0.55, 1.0]}, \"yaxis\": {\"anchor\": \"x\", \"domain\": [0.0, 1.0]}, \"yaxis2\": {\"anchor\": \"x2\", \"domain\": [0.0, 1.0], \"matches\": \"y\", \"showticklabels\": false}},\n",
       "                        {\"responsive\": true}\n",
       "                    ).then(function(){\n",
       "                            \n",
       "var gd = document.getElementById('ebfc94b0-7dce-406e-b570-2786596f97df');\n",
       "var x = new MutationObserver(function (mutations, observer) {{\n",
       "        var display = window.getComputedStyle(gd).display;\n",
       "        if (!display || display === 'none') {{\n",
       "            console.log([gd, 'removed!']);\n",
       "            Plotly.purge(gd);\n",
       "            observer.disconnect();\n",
       "        }}\n",
       "}});\n",
       "\n",
       "// Listen for the removal of the full notebook cells\n",
       "var notebookContainer = gd.closest('#notebook-container');\n",
       "if (notebookContainer) {{\n",
       "    x.observe(notebookContainer, {childList: true});\n",
       "}}\n",
       "\n",
       "// Listen for the clearing of the current output cell\n",
       "var outputEl = gd.closest('.output');\n",
       "if (outputEl) {{\n",
       "    x.observe(outputEl, {childList: true});\n",
       "}}\n",
       "\n",
       "                        })\n",
       "                };\n",
       "                });\n",
       "            </script>\n",
       "        </div>"
      ]
     },
     "metadata": {},
     "output_type": "display_data"
    }
   ],
   "source": [
    "fig = make_subplots(rows=1, cols=len(cat_vars), shared_yaxes=True, subplot_titles=('China','Resto del Mundo'))\n",
    "for c in range(0,len(cat_vars)):\n",
    "    for x in range(0,len(col_vars)):\n",
    "        fig.add_trace(go.Scatter( \\\n",
    "                      x = df_china_row[df_china_row['class']==cat_vars[c]]['date'], \\\n",
    "                      y = df_china_row[df_china_row['class']==cat_vars[c]][col_vars[x]], \\\n",
    "                      mode = 'lines+markers',\n",
    "                      name = f'{cat_vars[c]} - {col_vars[x].capitalize()}'),\n",
    "                      row=1, col=c+1)\n",
    "\n",
    "fig.update_layout(height=500, width=1000, title_text=\"Evolución de casos China vs. Resto del mundo\", title_x=0.5)\n",
    "fig.show()"
   ]
  },
  {
   "cell_type": "markdown",
   "metadata": {},
   "source": [
    "**Insights**: \n",
    "* Se puede ver un comportamiento distinto entre China y el resto del mundo, por lo que se han dividido las gráficas en estos dos grupos.\n",
    "  * China: Un aumento muy claro de casos desde el inicio de la enfermedad hasta el 14 de febrero (con picos el 12, 13 y 14 de Febrero). A partir de allí las medidas tomadas por el gobierno de China comienzan a dar resutados y el número de casos que se recuperan sube exponencialmente. Asimismo los casos confirmados bajan diariamente lo que indica la remisión del virus. Sin embargo el virus ha dejado 3193 muetros en el territorio de China.\n",
    "  * Resto del mundo: A partir del 14 de Febrero los casos en los demás paises comienzan a crecer exponencialmente. A partir del 10 de Marzo se dan crecimientos más altos que los días de crecimiento más altos de la enfermedad en China, por lo que se declara el grado de pandemia. Se puede ser además que si no se toman las medidas de contención necesarias y se sigue la misma curva de progresión de la enfermedad que en China (en el mejor de los casos) la enfermedad puede llegar a duplicar el número de casos confirmados en el mundo."
   ]
  },
  {
   "cell_type": "markdown",
   "metadata": {},
   "source": [
    "# Histograma: Suma acumulada de casos de coronavirus por país"
   ]
  },
  {
   "cell_type": "markdown",
   "metadata": {},
   "source": [
    "##  Sumarizamos los casos para obtener los acumulados por país y por fecha"
   ]
  },
  {
   "cell_type": "code",
   "execution_count": 9,
   "metadata": {
    "ExecuteTime": {
     "end_time": "2020-03-21T12:55:12.750685Z",
     "start_time": "2020-03-21T12:55:12.710790Z"
    }
   },
   "outputs": [],
   "source": [
    "col_vars = ['confirmed','deaths', 'recovered', 'existing']\n",
    "cou_vars = ['All']\n",
    "cou_vars.extend(sorted(list(df_coronavirus['country'].unique())))\n",
    "\n",
    "df_countries = df_coronavirus.groupby(['country','date'])[col_vars].agg('sum').reset_index()"
   ]
  },
  {
   "cell_type": "markdown",
   "metadata": {},
   "source": [
    "## Creamos un combobox con los países y diagramamos los casos confirmados, muertos, recuperados y existentes"
   ]
  },
  {
   "cell_type": "code",
   "execution_count": 10,
   "metadata": {
    "ExecuteTime": {
     "end_time": "2020-03-21T12:55:15.134801Z",
     "start_time": "2020-03-21T12:55:12.755672Z"
    }
   },
   "outputs": [
    {
     "data": {
      "application/vnd.jupyter.widget-view+json": {
       "model_id": "1eeeaeb8d57c405ebc14ad94d4fb2d3b",
       "version_major": 2,
       "version_minor": 0
      },
      "text/plain": [
       "interactive(children=(Dropdown(description='Country', options=('All', 'Afghanistan', 'Albania', 'Algeria', 'An…"
      ]
     },
     "metadata": {},
     "output_type": "display_data"
    }
   ],
   "source": [
    "def make_hist(Country): \n",
    "    nrows = 2\n",
    "    ncols = nrows\n",
    "    fig = make_subplots(rows = nrows, cols = ncols, subplot_titles=[f'Total of {c} cases' for c in col_vars])\n",
    "    for c in range(0,len(col_vars)):\n",
    "        if(Country=='All'):\n",
    "            df_filtered = df_countries\n",
    "        else:\n",
    "            df_filtered = df_countries[df_countries['country']==Country]\n",
    "        fig.add_trace(\n",
    "            go.Bar(x = df_filtered['date'], \\\n",
    "                y = df_filtered[col_vars[c]], \\\n",
    "                name = col_vars[c].capitalize()),\n",
    "                row=int(c/nrows)+1, col=(c%ncols)+1)\n",
    "    fig.update_layout(height=1000, width=1000, title_text=\"Casos acumulados de coronavirus por país\", title_x=0.5)\n",
    "    fig.show()\n",
    "\n",
    "_= interact(make_hist, Country = (cou_vars))"
   ]
  },
  {
   "cell_type": "markdown",
   "metadata": {},
   "source": [
    "**Insights**: \n",
    "* Si seleccionamos la opción All, se puede ver el la composición de casos por país, donde hasta hace unos días el protagonista era China. A partir del 14 de Febrero la actividad del virus remite en China, pero se contafia al resto del mundo. Adicionalmente se puede ser que el ratio de muerte de la enfermedad es muy bajo.\n",
    "* En España e Italia los casos han crecido exponencialmente desde Marzo."
   ]
  },
  {
   "cell_type": "markdown",
   "metadata": {},
   "source": [
    "# Plotbar: Top 10 de los países más afectados por el coronavirus: España entra con todo al último momento"
   ]
  },
  {
   "cell_type": "code",
   "execution_count": 11,
   "metadata": {
    "ExecuteTime": {
     "end_time": "2020-03-21T12:55:15.460934Z",
     "start_time": "2020-03-21T12:55:15.138791Z"
    }
   },
   "outputs": [],
   "source": [
    "df_countries_top10 = df_countries.groupby('date',group_keys=False)\\\n",
    "            .apply(lambda grp:grp.nlargest(n=int(10),columns='confirmed').sort_index()).reset_index()"
   ]
  },
  {
   "cell_type": "code",
   "execution_count": 12,
   "metadata": {
    "ExecuteTime": {
     "end_time": "2020-03-21T12:55:20.468121Z",
     "start_time": "2020-03-21T12:55:15.463924Z"
    }
   },
   "outputs": [
    {
     "data": {
      "application/vnd.plotly.v1+json": {
       "config": {
        "plotlyServerURL": "https://plot.ly"
       },
       "data": [
        {
         "alignmentgroup": "True",
         "hoverlabel": {
          "namelength": 0
         },
         "hovertemplate": "animation_frame=2020-01-22<br>Confirmed cases by country=%{x}<br>Top 10 countries with confirmed cases=%{y}",
         "legendgroup": "",
         "marker": {
          "color": "#636efa"
         },
         "name": "",
         "offsetgroup": "",
         "orientation": "h",
         "showlegend": false,
         "textposition": "auto",
         "type": "bar",
         "x": [
          0,
          0,
          0,
          0,
          548,
          2,
          1,
          1,
          2,
          1
         ],
         "xaxis": "x",
         "y": [
          "Afghanistan",
          "Albania",
          "Algeria",
          "Andorra",
          "China",
          "Japan",
          "Korea, South",
          "Taiwan*",
          "Thailand",
          "US"
         ],
         "yaxis": "y"
        }
       ],
       "frames": [
        {
         "data": [
          {
           "alignmentgroup": "True",
           "hoverlabel": {
            "namelength": 0
           },
           "hovertemplate": "animation_frame=2020-01-22<br>Confirmed cases by country=%{x}<br>Top 10 countries with confirmed cases=%{y}",
           "legendgroup": "",
           "marker": {
            "color": "#636efa"
           },
           "name": "",
           "offsetgroup": "",
           "orientation": "h",
           "showlegend": false,
           "textposition": "auto",
           "type": "bar",
           "x": [
            0,
            0,
            0,
            0,
            548,
            2,
            1,
            1,
            2,
            1
           ],
           "xaxis": "x",
           "y": [
            "Afghanistan",
            "Albania",
            "Algeria",
            "Andorra",
            "China",
            "Japan",
            "Korea, South",
            "Taiwan*",
            "Thailand",
            "US"
           ],
           "yaxis": "y"
          }
         ],
         "name": "2020-01-22"
        },
        {
         "data": [
          {
           "alignmentgroup": "True",
           "hoverlabel": {
            "namelength": 0
           },
           "hovertemplate": "animation_frame=2020-01-23<br>Confirmed cases by country=%{x}<br>Top 10 countries with confirmed cases=%{y}",
           "legendgroup": "",
           "marker": {
            "color": "#636efa"
           },
           "name": "",
           "offsetgroup": "",
           "orientation": "h",
           "showlegend": false,
           "textposition": "auto",
           "type": "bar",
           "x": [
            0,
            0,
            643,
            1,
            1,
            1,
            1,
            3,
            1,
            2
           ],
           "xaxis": "x",
           "y": [
            "Afghanistan",
            "Albania",
            "China",
            "Japan",
            "Korea, South",
            "Singapore",
            "Taiwan*",
            "Thailand",
            "US",
            "Vietnam"
           ],
           "yaxis": "y"
          }
         ],
         "name": "2020-01-23"
        },
        {
         "data": [
          {
           "alignmentgroup": "True",
           "hoverlabel": {
            "namelength": 0
           },
           "hovertemplate": "animation_frame=2020-01-24<br>Confirmed cases by country=%{x}<br>Top 10 countries with confirmed cases=%{y}",
           "legendgroup": "",
           "marker": {
            "color": "#636efa"
           },
           "name": "",
           "offsetgroup": "",
           "orientation": "h",
           "showlegend": false,
           "textposition": "auto",
           "type": "bar",
           "x": [
            0,
            920,
            2,
            2,
            2,
            3,
            3,
            5,
            2,
            2
           ],
           "xaxis": "x",
           "y": [
            "Afghanistan",
            "China",
            "France",
            "Japan",
            "Korea, South",
            "Singapore",
            "Taiwan*",
            "Thailand",
            "US",
            "Vietnam"
           ],
           "yaxis": "y"
          }
         ],
         "name": "2020-01-24"
        },
        {
         "data": [
          {
           "alignmentgroup": "True",
           "hoverlabel": {
            "namelength": 0
           },
           "hovertemplate": "animation_frame=2020-01-25<br>Confirmed cases by country=%{x}<br>Top 10 countries with confirmed cases=%{y}",
           "legendgroup": "",
           "marker": {
            "color": "#636efa"
           },
           "name": "",
           "offsetgroup": "",
           "orientation": "h",
           "showlegend": false,
           "textposition": "auto",
           "type": "bar",
           "x": [
            1406,
            3,
            2,
            2,
            3,
            3,
            3,
            7,
            2,
            2
           ],
           "xaxis": "x",
           "y": [
            "China",
            "France",
            "Japan",
            "Korea, South",
            "Malaysia",
            "Singapore",
            "Taiwan*",
            "Thailand",
            "US",
            "Vietnam"
           ],
           "yaxis": "y"
          }
         ],
         "name": "2020-01-25"
        },
        {
         "data": [
          {
           "alignmentgroup": "True",
           "hoverlabel": {
            "namelength": 0
           },
           "hovertemplate": "animation_frame=2020-01-26<br>Confirmed cases by country=%{x}<br>Top 10 countries with confirmed cases=%{y}",
           "legendgroup": "",
           "marker": {
            "color": "#636efa"
           },
           "name": "",
           "offsetgroup": "",
           "orientation": "h",
           "showlegend": false,
           "textposition": "auto",
           "type": "bar",
           "x": [
            4,
            2075,
            3,
            4,
            3,
            4,
            4,
            4,
            8,
            5
           ],
           "xaxis": "x",
           "y": [
            "Australia",
            "China",
            "France",
            "Japan",
            "Korea, South",
            "Malaysia",
            "Singapore",
            "Taiwan*",
            "Thailand",
            "US"
           ],
           "yaxis": "y"
          }
         ],
         "name": "2020-01-26"
        },
        {
         "data": [
          {
           "alignmentgroup": "True",
           "hoverlabel": {
            "namelength": 0
           },
           "hovertemplate": "animation_frame=2020-01-27<br>Confirmed cases by country=%{x}<br>Top 10 countries with confirmed cases=%{y}",
           "legendgroup": "",
           "marker": {
            "color": "#636efa"
           },
           "name": "",
           "offsetgroup": "",
           "orientation": "h",
           "showlegend": false,
           "textposition": "auto",
           "type": "bar",
           "x": [
            5,
            2877,
            3,
            4,
            4,
            4,
            5,
            5,
            8,
            5
           ],
           "xaxis": "x",
           "y": [
            "Australia",
            "China",
            "France",
            "Japan",
            "Korea, South",
            "Malaysia",
            "Singapore",
            "Taiwan*",
            "Thailand",
            "US"
           ],
           "yaxis": "y"
          }
         ],
         "name": "2020-01-27"
        },
        {
         "data": [
          {
           "alignmentgroup": "True",
           "hoverlabel": {
            "namelength": 0
           },
           "hovertemplate": "animation_frame=2020-01-28<br>Confirmed cases by country=%{x}<br>Top 10 countries with confirmed cases=%{y}",
           "legendgroup": "",
           "marker": {
            "color": "#636efa"
           },
           "name": "",
           "offsetgroup": "",
           "orientation": "h",
           "showlegend": false,
           "textposition": "auto",
           "type": "bar",
           "x": [
            5,
            5509,
            4,
            4,
            7,
            4,
            7,
            8,
            14,
            5
           ],
           "xaxis": "x",
           "y": [
            "Australia",
            "China",
            "France",
            "Germany",
            "Japan",
            "Korea, South",
            "Singapore",
            "Taiwan*",
            "Thailand",
            "US"
           ],
           "yaxis": "y"
          }
         ],
         "name": "2020-01-28"
        },
        {
         "data": [
          {
           "alignmentgroup": "True",
           "hoverlabel": {
            "namelength": 0
           },
           "hovertemplate": "animation_frame=2020-01-29<br>Confirmed cases by country=%{x}<br>Top 10 countries with confirmed cases=%{y}",
           "legendgroup": "",
           "marker": {
            "color": "#636efa"
           },
           "name": "",
           "offsetgroup": "",
           "orientation": "h",
           "showlegend": false,
           "textposition": "auto",
           "type": "bar",
           "x": [
            6,
            6087,
            5,
            4,
            7,
            7,
            7,
            8,
            14,
            5
           ],
           "xaxis": "x",
           "y": [
            "Australia",
            "China",
            "France",
            "Germany",
            "Japan",
            "Malaysia",
            "Singapore",
            "Taiwan*",
            "Thailand",
            "US"
           ],
           "yaxis": "y"
          }
         ],
         "name": "2020-01-29"
        },
        {
         "data": [
          {
           "alignmentgroup": "True",
           "hoverlabel": {
            "namelength": 0
           },
           "hovertemplate": "animation_frame=2020-01-30<br>Confirmed cases by country=%{x}<br>Top 10 countries with confirmed cases=%{y}",
           "legendgroup": "",
           "marker": {
            "color": "#636efa"
           },
           "name": "",
           "offsetgroup": "",
           "orientation": "h",
           "showlegend": false,
           "textposition": "auto",
           "type": "bar",
           "x": [
            9,
            8141,
            5,
            4,
            11,
            8,
            10,
            9,
            14,
            5
           ],
           "xaxis": "x",
           "y": [
            "Australia",
            "China",
            "France",
            "Germany",
            "Japan",
            "Malaysia",
            "Singapore",
            "Taiwan*",
            "Thailand",
            "US"
           ],
           "yaxis": "y"
          }
         ],
         "name": "2020-01-30"
        },
        {
         "data": [
          {
           "alignmentgroup": "True",
           "hoverlabel": {
            "namelength": 0
           },
           "hovertemplate": "animation_frame=2020-01-31<br>Confirmed cases by country=%{x}<br>Top 10 countries with confirmed cases=%{y}",
           "legendgroup": "",
           "marker": {
            "color": "#636efa"
           },
           "name": "",
           "offsetgroup": "",
           "orientation": "h",
           "showlegend": false,
           "textposition": "auto",
           "type": "bar",
           "x": [
            9,
            9802,
            5,
            15,
            11,
            8,
            13,
            10,
            19,
            7
           ],
           "xaxis": "x",
           "y": [
            "Australia",
            "China",
            "France",
            "Japan",
            "Korea, South",
            "Malaysia",
            "Singapore",
            "Taiwan*",
            "Thailand",
            "US"
           ],
           "yaxis": "y"
          }
         ],
         "name": "2020-01-31"
        },
        {
         "data": [
          {
           "alignmentgroup": "True",
           "hoverlabel": {
            "namelength": 0
           },
           "hovertemplate": "animation_frame=2020-02-01<br>Confirmed cases by country=%{x}<br>Top 10 countries with confirmed cases=%{y}",
           "legendgroup": "",
           "marker": {
            "color": "#636efa"
           },
           "name": "",
           "offsetgroup": "",
           "orientation": "h",
           "showlegend": false,
           "textposition": "auto",
           "type": "bar",
           "x": [
            12,
            11891,
            8,
            20,
            12,
            8,
            16,
            10,
            19,
            8
           ],
           "xaxis": "x",
           "y": [
            "Australia",
            "China",
            "Germany",
            "Japan",
            "Korea, South",
            "Malaysia",
            "Singapore",
            "Taiwan*",
            "Thailand",
            "US"
           ],
           "yaxis": "y"
          }
         ],
         "name": "2020-02-01"
        },
        {
         "data": [
          {
           "alignmentgroup": "True",
           "hoverlabel": {
            "namelength": 0
           },
           "hovertemplate": "animation_frame=2020-02-02<br>Confirmed cases by country=%{x}<br>Top 10 countries with confirmed cases=%{y}",
           "legendgroup": "",
           "marker": {
            "color": "#636efa"
           },
           "name": "",
           "offsetgroup": "",
           "orientation": "h",
           "showlegend": false,
           "textposition": "auto",
           "type": "bar",
           "x": [
            12,
            16630,
            10,
            20,
            15,
            8,
            18,
            10,
            19,
            8
           ],
           "xaxis": "x",
           "y": [
            "Australia",
            "China",
            "Germany",
            "Japan",
            "Korea, South",
            "Malaysia",
            "Singapore",
            "Taiwan*",
            "Thailand",
            "US"
           ],
           "yaxis": "y"
          }
         ],
         "name": "2020-02-02"
        },
        {
         "data": [
          {
           "alignmentgroup": "True",
           "hoverlabel": {
            "namelength": 0
           },
           "hovertemplate": "animation_frame=2020-02-03<br>Confirmed cases by country=%{x}<br>Top 10 countries with confirmed cases=%{y}",
           "legendgroup": "",
           "marker": {
            "color": "#636efa"
           },
           "name": "",
           "offsetgroup": "",
           "orientation": "h",
           "showlegend": false,
           "textposition": "auto",
           "type": "bar",
           "x": [
            12,
            19716,
            12,
            20,
            15,
            8,
            18,
            10,
            19,
            11
           ],
           "xaxis": "x",
           "y": [
            "Australia",
            "China",
            "Germany",
            "Japan",
            "Korea, South",
            "Malaysia",
            "Singapore",
            "Taiwan*",
            "Thailand",
            "US"
           ],
           "yaxis": "y"
          }
         ],
         "name": "2020-02-03"
        },
        {
         "data": [
          {
           "alignmentgroup": "True",
           "hoverlabel": {
            "namelength": 0
           },
           "hovertemplate": "animation_frame=2020-02-04<br>Confirmed cases by country=%{x}<br>Top 10 countries with confirmed cases=%{y}",
           "legendgroup": "",
           "marker": {
            "color": "#636efa"
           },
           "name": "",
           "offsetgroup": "",
           "orientation": "h",
           "showlegend": false,
           "textposition": "auto",
           "type": "bar",
           "x": [
            13,
            23707,
            12,
            22,
            16,
            10,
            24,
            11,
            25,
            11
           ],
           "xaxis": "x",
           "y": [
            "Australia",
            "China",
            "Germany",
            "Japan",
            "Korea, South",
            "Malaysia",
            "Singapore",
            "Taiwan*",
            "Thailand",
            "US"
           ],
           "yaxis": "y"
          }
         ],
         "name": "2020-02-04"
        },
        {
         "data": [
          {
           "alignmentgroup": "True",
           "hoverlabel": {
            "namelength": 0
           },
           "hovertemplate": "animation_frame=2020-02-05<br>Confirmed cases by country=%{x}<br>Top 10 countries with confirmed cases=%{y}",
           "legendgroup": "",
           "marker": {
            "color": "#636efa"
           },
           "name": "",
           "offsetgroup": "",
           "orientation": "h",
           "showlegend": false,
           "textposition": "auto",
           "type": "bar",
           "x": [
            13,
            27440,
            12,
            22,
            19,
            12,
            28,
            11,
            25,
            11
           ],
           "xaxis": "x",
           "y": [
            "Australia",
            "China",
            "Germany",
            "Japan",
            "Korea, South",
            "Malaysia",
            "Singapore",
            "Taiwan*",
            "Thailand",
            "US"
           ],
           "yaxis": "y"
          }
         ],
         "name": "2020-02-05"
        },
        {
         "data": [
          {
           "alignmentgroup": "True",
           "hoverlabel": {
            "namelength": 0
           },
           "hovertemplate": "animation_frame=2020-02-06<br>Confirmed cases by country=%{x}<br>Top 10 countries with confirmed cases=%{y}",
           "legendgroup": "",
           "marker": {
            "color": "#636efa"
           },
           "name": "",
           "offsetgroup": "",
           "orientation": "h",
           "showlegend": false,
           "textposition": "auto",
           "type": "bar",
           "x": [
            14,
            30587,
            12,
            45,
            23,
            12,
            28,
            16,
            25,
            11
           ],
           "xaxis": "x",
           "y": [
            "Australia",
            "China",
            "Germany",
            "Japan",
            "Korea, South",
            "Malaysia",
            "Singapore",
            "Taiwan*",
            "Thailand",
            "US"
           ],
           "yaxis": "y"
          }
         ],
         "name": "2020-02-06"
        },
        {
         "data": [
          {
           "alignmentgroup": "True",
           "hoverlabel": {
            "namelength": 0
           },
           "hovertemplate": "animation_frame=2020-02-07<br>Confirmed cases by country=%{x}<br>Top 10 countries with confirmed cases=%{y}",
           "legendgroup": "",
           "marker": {
            "color": "#636efa"
           },
           "name": "",
           "offsetgroup": "",
           "orientation": "h",
           "showlegend": false,
           "textposition": "auto",
           "type": "bar",
           "x": [
            15,
            34110,
            61,
            13,
            25,
            24,
            12,
            30,
            16,
            25
           ],
           "xaxis": "x",
           "y": [
            "Australia",
            "China",
            "Cruise Ship",
            "Germany",
            "Japan",
            "Korea, South",
            "Malaysia",
            "Singapore",
            "Taiwan*",
            "Thailand"
           ],
           "yaxis": "y"
          }
         ],
         "name": "2020-02-07"
        },
        {
         "data": [
          {
           "alignmentgroup": "True",
           "hoverlabel": {
            "namelength": 0
           },
           "hovertemplate": "animation_frame=2020-02-08<br>Confirmed cases by country=%{x}<br>Top 10 countries with confirmed cases=%{y}",
           "legendgroup": "",
           "marker": {
            "color": "#636efa"
           },
           "name": "",
           "offsetgroup": "",
           "orientation": "h",
           "showlegend": false,
           "textposition": "auto",
           "type": "bar",
           "x": [
            15,
            36814,
            61,
            13,
            25,
            24,
            16,
            33,
            17,
            32
           ],
           "xaxis": "x",
           "y": [
            "Australia",
            "China",
            "Cruise Ship",
            "Germany",
            "Japan",
            "Korea, South",
            "Malaysia",
            "Singapore",
            "Taiwan*",
            "Thailand"
           ],
           "yaxis": "y"
          }
         ],
         "name": "2020-02-08"
        },
        {
         "data": [
          {
           "alignmentgroup": "True",
           "hoverlabel": {
            "namelength": 0
           },
           "hovertemplate": "animation_frame=2020-02-09<br>Confirmed cases by country=%{x}<br>Top 10 countries with confirmed cases=%{y}",
           "legendgroup": "",
           "marker": {
            "color": "#636efa"
           },
           "name": "",
           "offsetgroup": "",
           "orientation": "h",
           "showlegend": false,
           "textposition": "auto",
           "type": "bar",
           "x": [
            15,
            39829,
            64,
            14,
            26,
            25,
            16,
            40,
            18,
            32
           ],
           "xaxis": "x",
           "y": [
            "Australia",
            "China",
            "Cruise Ship",
            "Germany",
            "Japan",
            "Korea, South",
            "Malaysia",
            "Singapore",
            "Taiwan*",
            "Thailand"
           ],
           "yaxis": "y"
          }
         ],
         "name": "2020-02-09"
        },
        {
         "data": [
          {
           "alignmentgroup": "True",
           "hoverlabel": {
            "namelength": 0
           },
           "hovertemplate": "animation_frame=2020-02-10<br>Confirmed cases by country=%{x}<br>Top 10 countries with confirmed cases=%{y}",
           "legendgroup": "",
           "marker": {
            "color": "#636efa"
           },
           "name": "",
           "offsetgroup": "",
           "orientation": "h",
           "showlegend": false,
           "textposition": "auto",
           "type": "bar",
           "x": [
            15,
            42354,
            135,
            14,
            26,
            27,
            18,
            45,
            18,
            32
           ],
           "xaxis": "x",
           "y": [
            "Australia",
            "China",
            "Cruise Ship",
            "Germany",
            "Japan",
            "Korea, South",
            "Malaysia",
            "Singapore",
            "Taiwan*",
            "Thailand"
           ],
           "yaxis": "y"
          }
         ],
         "name": "2020-02-10"
        },
        {
         "data": [
          {
           "alignmentgroup": "True",
           "hoverlabel": {
            "namelength": 0
           },
           "hovertemplate": "animation_frame=2020-02-11<br>Confirmed cases by country=%{x}<br>Top 10 countries with confirmed cases=%{y}",
           "legendgroup": "",
           "marker": {
            "color": "#636efa"
           },
           "name": "",
           "offsetgroup": "",
           "orientation": "h",
           "showlegend": false,
           "textposition": "auto",
           "type": "bar",
           "x": [
            15,
            44386,
            135,
            16,
            26,
            28,
            18,
            47,
            18,
            33
           ],
           "xaxis": "x",
           "y": [
            "Australia",
            "China",
            "Cruise Ship",
            "Germany",
            "Japan",
            "Korea, South",
            "Malaysia",
            "Singapore",
            "Taiwan*",
            "Thailand"
           ],
           "yaxis": "y"
          }
         ],
         "name": "2020-02-11"
        },
        {
         "data": [
          {
           "alignmentgroup": "True",
           "hoverlabel": {
            "namelength": 0
           },
           "hovertemplate": "animation_frame=2020-02-12<br>Confirmed cases by country=%{x}<br>Top 10 countries with confirmed cases=%{y}",
           "legendgroup": "",
           "marker": {
            "color": "#636efa"
           },
           "name": "",
           "offsetgroup": "",
           "orientation": "h",
           "showlegend": false,
           "textposition": "auto",
           "type": "bar",
           "x": [
            15,
            44759,
            175,
            16,
            28,
            28,
            18,
            50,
            18,
            33
           ],
           "xaxis": "x",
           "y": [
            "Australia",
            "China",
            "Cruise Ship",
            "Germany",
            "Japan",
            "Korea, South",
            "Malaysia",
            "Singapore",
            "Taiwan*",
            "Thailand"
           ],
           "yaxis": "y"
          }
         ],
         "name": "2020-02-12"
        },
        {
         "data": [
          {
           "alignmentgroup": "True",
           "hoverlabel": {
            "namelength": 0
           },
           "hovertemplate": "animation_frame=2020-02-13<br>Confirmed cases by country=%{x}<br>Top 10 countries with confirmed cases=%{y}",
           "legendgroup": "",
           "marker": {
            "color": "#636efa"
           },
           "name": "",
           "offsetgroup": "",
           "orientation": "h",
           "showlegend": false,
           "textposition": "auto",
           "type": "bar",
           "x": [
            59895,
            175,
            16,
            28,
            28,
            19,
            58,
            18,
            33,
            16
           ],
           "xaxis": "x",
           "y": [
            "China",
            "Cruise Ship",
            "Germany",
            "Japan",
            "Korea, South",
            "Malaysia",
            "Singapore",
            "Taiwan*",
            "Thailand",
            "Vietnam"
           ],
           "yaxis": "y"
          }
         ],
         "name": "2020-02-13"
        },
        {
         "data": [
          {
           "alignmentgroup": "True",
           "hoverlabel": {
            "namelength": 0
           },
           "hovertemplate": "animation_frame=2020-02-14<br>Confirmed cases by country=%{x}<br>Top 10 countries with confirmed cases=%{y}",
           "legendgroup": "",
           "marker": {
            "color": "#636efa"
           },
           "name": "",
           "offsetgroup": "",
           "orientation": "h",
           "showlegend": false,
           "textposition": "auto",
           "type": "bar",
           "x": [
            66358,
            218,
            16,
            29,
            28,
            19,
            67,
            18,
            33,
            16
           ],
           "xaxis": "x",
           "y": [
            "China",
            "Cruise Ship",
            "Germany",
            "Japan",
            "Korea, South",
            "Malaysia",
            "Singapore",
            "Taiwan*",
            "Thailand",
            "Vietnam"
           ],
           "yaxis": "y"
          }
         ],
         "name": "2020-02-14"
        },
        {
         "data": [
          {
           "alignmentgroup": "True",
           "hoverlabel": {
            "namelength": 0
           },
           "hovertemplate": "animation_frame=2020-02-15<br>Confirmed cases by country=%{x}<br>Top 10 countries with confirmed cases=%{y}",
           "legendgroup": "",
           "marker": {
            "color": "#636efa"
           },
           "name": "",
           "offsetgroup": "",
           "orientation": "h",
           "showlegend": false,
           "textposition": "auto",
           "type": "bar",
           "x": [
            68413,
            285,
            16,
            43,
            28,
            22,
            72,
            18,
            33,
            16
           ],
           "xaxis": "x",
           "y": [
            "China",
            "Cruise Ship",
            "Germany",
            "Japan",
            "Korea, South",
            "Malaysia",
            "Singapore",
            "Taiwan*",
            "Thailand",
            "Vietnam"
           ],
           "yaxis": "y"
          }
         ],
         "name": "2020-02-15"
        },
        {
         "data": [
          {
           "alignmentgroup": "True",
           "hoverlabel": {
            "namelength": 0
           },
           "hovertemplate": "animation_frame=2020-02-16<br>Confirmed cases by country=%{x}<br>Top 10 countries with confirmed cases=%{y}",
           "legendgroup": "",
           "marker": {
            "color": "#636efa"
           },
           "name": "",
           "offsetgroup": "",
           "orientation": "h",
           "showlegend": false,
           "textposition": "auto",
           "type": "bar",
           "x": [
            70513,
            355,
            16,
            59,
            29,
            22,
            75,
            20,
            34,
            16
           ],
           "xaxis": "x",
           "y": [
            "China",
            "Cruise Ship",
            "Germany",
            "Japan",
            "Korea, South",
            "Malaysia",
            "Singapore",
            "Taiwan*",
            "Thailand",
            "Vietnam"
           ],
           "yaxis": "y"
          }
         ],
         "name": "2020-02-16"
        },
        {
         "data": [
          {
           "alignmentgroup": "True",
           "hoverlabel": {
            "namelength": 0
           },
           "hovertemplate": "animation_frame=2020-02-17<br>Confirmed cases by country=%{x}<br>Top 10 countries with confirmed cases=%{y}",
           "legendgroup": "",
           "marker": {
            "color": "#636efa"
           },
           "name": "",
           "offsetgroup": "",
           "orientation": "h",
           "showlegend": false,
           "textposition": "auto",
           "type": "bar",
           "x": [
            72434,
            454,
            16,
            66,
            30,
            22,
            77,
            22,
            35,
            16
           ],
           "xaxis": "x",
           "y": [
            "China",
            "Cruise Ship",
            "Germany",
            "Japan",
            "Korea, South",
            "Malaysia",
            "Singapore",
            "Taiwan*",
            "Thailand",
            "Vietnam"
           ],
           "yaxis": "y"
          }
         ],
         "name": "2020-02-17"
        },
        {
         "data": [
          {
           "alignmentgroup": "True",
           "hoverlabel": {
            "namelength": 0
           },
           "hovertemplate": "animation_frame=2020-02-18<br>Confirmed cases by country=%{x}<br>Top 10 countries with confirmed cases=%{y}",
           "legendgroup": "",
           "marker": {
            "color": "#636efa"
           },
           "name": "",
           "offsetgroup": "",
           "orientation": "h",
           "showlegend": false,
           "textposition": "auto",
           "type": "bar",
           "x": [
            74211,
            542,
            16,
            74,
            31,
            22,
            81,
            22,
            35,
            16
           ],
           "xaxis": "x",
           "y": [
            "China",
            "Cruise Ship",
            "Germany",
            "Japan",
            "Korea, South",
            "Malaysia",
            "Singapore",
            "Taiwan*",
            "Thailand",
            "Vietnam"
           ],
           "yaxis": "y"
          }
         ],
         "name": "2020-02-18"
        },
        {
         "data": [
          {
           "alignmentgroup": "True",
           "hoverlabel": {
            "namelength": 0
           },
           "hovertemplate": "animation_frame=2020-02-19<br>Confirmed cases by country=%{x}<br>Top 10 countries with confirmed cases=%{y}",
           "legendgroup": "",
           "marker": {
            "color": "#636efa"
           },
           "name": "",
           "offsetgroup": "",
           "orientation": "h",
           "showlegend": false,
           "textposition": "auto",
           "type": "bar",
           "x": [
            74619,
            621,
            16,
            84,
            31,
            22,
            84,
            23,
            35,
            16
           ],
           "xaxis": "x",
           "y": [
            "China",
            "Cruise Ship",
            "Germany",
            "Japan",
            "Korea, South",
            "Malaysia",
            "Singapore",
            "Taiwan*",
            "Thailand",
            "Vietnam"
           ],
           "yaxis": "y"
          }
         ],
         "name": "2020-02-19"
        },
        {
         "data": [
          {
           "alignmentgroup": "True",
           "hoverlabel": {
            "namelength": 0
           },
           "hovertemplate": "animation_frame=2020-02-20<br>Confirmed cases by country=%{x}<br>Top 10 countries with confirmed cases=%{y}",
           "legendgroup": "",
           "marker": {
            "color": "#636efa"
           },
           "name": "",
           "offsetgroup": "",
           "orientation": "h",
           "showlegend": false,
           "textposition": "auto",
           "type": "bar",
           "x": [
            75077,
            634,
            16,
            94,
            104,
            22,
            84,
            24,
            35,
            16
           ],
           "xaxis": "x",
           "y": [
            "China",
            "Cruise Ship",
            "Germany",
            "Japan",
            "Korea, South",
            "Malaysia",
            "Singapore",
            "Taiwan*",
            "Thailand",
            "Vietnam"
           ],
           "yaxis": "y"
          }
         ],
         "name": "2020-02-20"
        },
        {
         "data": [
          {
           "alignmentgroup": "True",
           "hoverlabel": {
            "namelength": 0
           },
           "hovertemplate": "animation_frame=2020-02-21<br>Confirmed cases by country=%{x}<br>Top 10 countries with confirmed cases=%{y}",
           "legendgroup": "",
           "marker": {
            "color": "#636efa"
           },
           "name": "",
           "offsetgroup": "",
           "orientation": "h",
           "showlegend": false,
           "textposition": "auto",
           "type": "bar",
           "x": [
            19,
            75550,
            634,
            20,
            105,
            204,
            22,
            85,
            26,
            35
           ],
           "xaxis": "x",
           "y": [
            "Australia",
            "China",
            "Cruise Ship",
            "Italy",
            "Japan",
            "Korea, South",
            "Malaysia",
            "Singapore",
            "Taiwan*",
            "Thailand"
           ],
           "yaxis": "y"
          }
         ],
         "name": "2020-02-21"
        },
        {
         "data": [
          {
           "alignmentgroup": "True",
           "hoverlabel": {
            "namelength": 0
           },
           "hovertemplate": "animation_frame=2020-02-22<br>Confirmed cases by country=%{x}<br>Top 10 countries with confirmed cases=%{y}",
           "legendgroup": "",
           "marker": {
            "color": "#636efa"
           },
           "name": "",
           "offsetgroup": "",
           "orientation": "h",
           "showlegend": false,
           "textposition": "auto",
           "type": "bar",
           "x": [
            22,
            77001,
            634,
            28,
            62,
            122,
            433,
            85,
            26,
            35
           ],
           "xaxis": "x",
           "y": [
            "Australia",
            "China",
            "Cruise Ship",
            "Iran",
            "Italy",
            "Japan",
            "Korea, South",
            "Singapore",
            "Taiwan*",
            "Thailand"
           ],
           "yaxis": "y"
          }
         ],
         "name": "2020-02-22"
        },
        {
         "data": [
          {
           "alignmentgroup": "True",
           "hoverlabel": {
            "namelength": 0
           },
           "hovertemplate": "animation_frame=2020-02-23<br>Confirmed cases by country=%{x}<br>Top 10 countries with confirmed cases=%{y}",
           "legendgroup": "",
           "marker": {
            "color": "#636efa"
           },
           "name": "",
           "offsetgroup": "",
           "orientation": "h",
           "showlegend": false,
           "textposition": "auto",
           "type": "bar",
           "x": [
            22,
            77022,
            691,
            43,
            155,
            147,
            602,
            89,
            28,
            35
           ],
           "xaxis": "x",
           "y": [
            "Australia",
            "China",
            "Cruise Ship",
            "Iran",
            "Italy",
            "Japan",
            "Korea, South",
            "Singapore",
            "Taiwan*",
            "Thailand"
           ],
           "yaxis": "y"
          }
         ],
         "name": "2020-02-23"
        },
        {
         "data": [
          {
           "alignmentgroup": "True",
           "hoverlabel": {
            "namelength": 0
           },
           "hovertemplate": "animation_frame=2020-02-24<br>Confirmed cases by country=%{x}<br>Top 10 countries with confirmed cases=%{y}",
           "legendgroup": "",
           "marker": {
            "color": "#636efa"
           },
           "name": "",
           "offsetgroup": "",
           "orientation": "h",
           "showlegend": false,
           "textposition": "auto",
           "type": "bar",
           "x": [
            77241,
            691,
            61,
            229,
            159,
            833,
            89,
            30,
            35,
            51
           ],
           "xaxis": "x",
           "y": [
            "China",
            "Cruise Ship",
            "Iran",
            "Italy",
            "Japan",
            "Korea, South",
            "Singapore",
            "Taiwan*",
            "Thailand",
            "US"
           ],
           "yaxis": "y"
          }
         ],
         "name": "2020-02-24"
        },
        {
         "data": [
          {
           "alignmentgroup": "True",
           "hoverlabel": {
            "namelength": 0
           },
           "hovertemplate": "animation_frame=2020-02-25<br>Confirmed cases by country=%{x}<br>Top 10 countries with confirmed cases=%{y}",
           "legendgroup": "",
           "marker": {
            "color": "#636efa"
           },
           "name": "",
           "offsetgroup": "",
           "orientation": "h",
           "showlegend": false,
           "textposition": "auto",
           "type": "bar",
           "x": [
            77754,
            691,
            95,
            322,
            170,
            977,
            91,
            31,
            37,
            51
           ],
           "xaxis": "x",
           "y": [
            "China",
            "Cruise Ship",
            "Iran",
            "Italy",
            "Japan",
            "Korea, South",
            "Singapore",
            "Taiwan*",
            "Thailand",
            "US"
           ],
           "yaxis": "y"
          }
         ],
         "name": "2020-02-25"
        },
        {
         "data": [
          {
           "alignmentgroup": "True",
           "hoverlabel": {
            "namelength": 0
           },
           "hovertemplate": "animation_frame=2020-02-26<br>Confirmed cases by country=%{x}<br>Top 10 countries with confirmed cases=%{y}",
           "legendgroup": "",
           "marker": {
            "color": "#636efa"
           },
           "name": "",
           "offsetgroup": "",
           "orientation": "h",
           "showlegend": false,
           "textposition": "auto",
           "type": "bar",
           "x": [
            33,
            78166,
            705,
            139,
            453,
            189,
            1261,
            93,
            40,
            57
           ],
           "xaxis": "x",
           "y": [
            "Bahrain",
            "China",
            "Cruise Ship",
            "Iran",
            "Italy",
            "Japan",
            "Korea, South",
            "Singapore",
            "Thailand",
            "US"
           ],
           "yaxis": "y"
          }
         ],
         "name": "2020-02-26"
        },
        {
         "data": [
          {
           "alignmentgroup": "True",
           "hoverlabel": {
            "namelength": 0
           },
           "hovertemplate": "animation_frame=2020-02-27<br>Confirmed cases by country=%{x}<br>Top 10 countries with confirmed cases=%{y}",
           "legendgroup": "",
           "marker": {
            "color": "#636efa"
           },
           "name": "",
           "offsetgroup": "",
           "orientation": "h",
           "showlegend": false,
           "textposition": "auto",
           "type": "bar",
           "x": [
            78600,
            705,
            46,
            245,
            655,
            214,
            1766,
            43,
            93,
            58
           ],
           "xaxis": "x",
           "y": [
            "China",
            "Cruise Ship",
            "Germany",
            "Iran",
            "Italy",
            "Japan",
            "Korea, South",
            "Kuwait",
            "Singapore",
            "US"
           ],
           "yaxis": "y"
          }
         ],
         "name": "2020-02-27"
        },
        {
         "data": [
          {
           "alignmentgroup": "True",
           "hoverlabel": {
            "namelength": 0
           },
           "hovertemplate": "animation_frame=2020-02-28<br>Confirmed cases by country=%{x}<br>Top 10 countries with confirmed cases=%{y}",
           "legendgroup": "",
           "marker": {
            "color": "#636efa"
           },
           "name": "",
           "offsetgroup": "",
           "orientation": "h",
           "showlegend": false,
           "textposition": "auto",
           "type": "bar",
           "x": [
            78928,
            705,
            57,
            48,
            388,
            888,
            228,
            2337,
            93,
            60
           ],
           "xaxis": "x",
           "y": [
            "China",
            "Cruise Ship",
            "France",
            "Germany",
            "Iran",
            "Italy",
            "Japan",
            "Korea, South",
            "Singapore",
            "US"
           ],
           "yaxis": "y"
          }
         ],
         "name": "2020-02-28"
        },
        {
         "data": [
          {
           "alignmentgroup": "True",
           "hoverlabel": {
            "namelength": 0
           },
           "hovertemplate": "animation_frame=2020-02-29<br>Confirmed cases by country=%{x}<br>Top 10 countries with confirmed cases=%{y}",
           "legendgroup": "",
           "marker": {
            "color": "#636efa"
           },
           "name": "",
           "offsetgroup": "",
           "orientation": "h",
           "showlegend": false,
           "textposition": "auto",
           "type": "bar",
           "x": [
            79356,
            705,
            100,
            79,
            593,
            1128,
            241,
            3150,
            102,
            68
           ],
           "xaxis": "x",
           "y": [
            "China",
            "Cruise Ship",
            "France",
            "Germany",
            "Iran",
            "Italy",
            "Japan",
            "Korea, South",
            "Singapore",
            "US"
           ],
           "yaxis": "y"
          }
         ],
         "name": "2020-02-29"
        },
        {
         "data": [
          {
           "alignmentgroup": "True",
           "hoverlabel": {
            "namelength": 0
           },
           "hovertemplate": "animation_frame=2020-03-01<br>Confirmed cases by country=%{x}<br>Top 10 countries with confirmed cases=%{y}",
           "legendgroup": "",
           "marker": {
            "color": "#636efa"
           },
           "name": "",
           "offsetgroup": "",
           "orientation": "h",
           "showlegend": false,
           "textposition": "auto",
           "type": "bar",
           "x": [
            79932,
            705,
            130,
            130,
            978,
            1694,
            256,
            3736,
            106,
            84
           ],
           "xaxis": "x",
           "y": [
            "China",
            "Cruise Ship",
            "France",
            "Germany",
            "Iran",
            "Italy",
            "Japan",
            "Korea, South",
            "Singapore",
            "Spain"
           ],
           "yaxis": "y"
          }
         ],
         "name": "2020-03-01"
        },
        {
         "data": [
          {
           "alignmentgroup": "True",
           "hoverlabel": {
            "namelength": 0
           },
           "hovertemplate": "animation_frame=2020-03-02<br>Confirmed cases by country=%{x}<br>Top 10 countries with confirmed cases=%{y}",
           "legendgroup": "",
           "marker": {
            "color": "#636efa"
           },
           "name": "",
           "offsetgroup": "",
           "orientation": "h",
           "showlegend": false,
           "textposition": "auto",
           "type": "bar",
           "x": [
            80136,
            705,
            191,
            159,
            1501,
            2036,
            274,
            4335,
            108,
            120
           ],
           "xaxis": "x",
           "y": [
            "China",
            "Cruise Ship",
            "France",
            "Germany",
            "Iran",
            "Italy",
            "Japan",
            "Korea, South",
            "Singapore",
            "Spain"
           ],
           "yaxis": "y"
          }
         ],
         "name": "2020-03-02"
        },
        {
         "data": [
          {
           "alignmentgroup": "True",
           "hoverlabel": {
            "namelength": 0
           },
           "hovertemplate": "animation_frame=2020-03-03<br>Confirmed cases by country=%{x}<br>Top 10 countries with confirmed cases=%{y}",
           "legendgroup": "",
           "marker": {
            "color": "#636efa"
           },
           "name": "",
           "offsetgroup": "",
           "orientation": "h",
           "showlegend": false,
           "textposition": "auto",
           "type": "bar",
           "x": [
            80261,
            706,
            204,
            196,
            2336,
            2502,
            293,
            5186,
            165,
            118
           ],
           "xaxis": "x",
           "y": [
            "China",
            "Cruise Ship",
            "France",
            "Germany",
            "Iran",
            "Italy",
            "Japan",
            "Korea, South",
            "Spain",
            "US"
           ],
           "yaxis": "y"
          }
         ],
         "name": "2020-03-03"
        },
        {
         "data": [
          {
           "alignmentgroup": "True",
           "hoverlabel": {
            "namelength": 0
           },
           "hovertemplate": "animation_frame=2020-03-04<br>Confirmed cases by country=%{x}<br>Top 10 countries with confirmed cases=%{y}",
           "legendgroup": "",
           "marker": {
            "color": "#636efa"
           },
           "name": "",
           "offsetgroup": "",
           "orientation": "h",
           "showlegend": false,
           "textposition": "auto",
           "type": "bar",
           "x": [
            80386,
            706,
            288,
            262,
            2922,
            3089,
            331,
            5621,
            222,
            149
           ],
           "xaxis": "x",
           "y": [
            "China",
            "Cruise Ship",
            "France",
            "Germany",
            "Iran",
            "Italy",
            "Japan",
            "Korea, South",
            "Spain",
            "US"
           ],
           "yaxis": "y"
          }
         ],
         "name": "2020-03-04"
        },
        {
         "data": [
          {
           "alignmentgroup": "True",
           "hoverlabel": {
            "namelength": 0
           },
           "hovertemplate": "animation_frame=2020-03-05<br>Confirmed cases by country=%{x}<br>Top 10 countries with confirmed cases=%{y}",
           "legendgroup": "",
           "marker": {
            "color": "#636efa"
           },
           "name": "",
           "offsetgroup": "",
           "orientation": "h",
           "showlegend": false,
           "textposition": "auto",
           "type": "bar",
           "x": [
            80537,
            706,
            380,
            482,
            3513,
            3858,
            360,
            6088,
            259,
            217
           ],
           "xaxis": "x",
           "y": [
            "China",
            "Cruise Ship",
            "France",
            "Germany",
            "Iran",
            "Italy",
            "Japan",
            "Korea, South",
            "Spain",
            "US"
           ],
           "yaxis": "y"
          }
         ],
         "name": "2020-03-05"
        },
        {
         "data": [
          {
           "alignmentgroup": "True",
           "hoverlabel": {
            "namelength": 0
           },
           "hovertemplate": "animation_frame=2020-03-06<br>Confirmed cases by country=%{x}<br>Top 10 countries with confirmed cases=%{y}",
           "legendgroup": "",
           "marker": {
            "color": "#636efa"
           },
           "name": "",
           "offsetgroup": "",
           "orientation": "h",
           "showlegend": false,
           "textposition": "auto",
           "type": "bar",
           "x": [
            80690,
            696,
            656,
            670,
            4747,
            4636,
            420,
            6593,
            400,
            262
           ],
           "xaxis": "x",
           "y": [
            "China",
            "Cruise Ship",
            "France",
            "Germany",
            "Iran",
            "Italy",
            "Japan",
            "Korea, South",
            "Spain",
            "US"
           ],
           "yaxis": "y"
          }
         ],
         "name": "2020-03-06"
        },
        {
         "data": [
          {
           "alignmentgroup": "True",
           "hoverlabel": {
            "namelength": 0
           },
           "hovertemplate": "animation_frame=2020-03-07<br>Confirmed cases by country=%{x}<br>Top 10 countries with confirmed cases=%{y}",
           "legendgroup": "",
           "marker": {
            "color": "#636efa"
           },
           "name": "",
           "offsetgroup": "",
           "orientation": "h",
           "showlegend": false,
           "textposition": "auto",
           "type": "bar",
           "x": [
            80770,
            696,
            957,
            799,
            5823,
            5883,
            461,
            7041,
            500,
            402
           ],
           "xaxis": "x",
           "y": [
            "China",
            "Cruise Ship",
            "France",
            "Germany",
            "Iran",
            "Italy",
            "Japan",
            "Korea, South",
            "Spain",
            "US"
           ],
           "yaxis": "y"
          }
         ],
         "name": "2020-03-07"
        },
        {
         "data": [
          {
           "alignmentgroup": "True",
           "hoverlabel": {
            "namelength": 0
           },
           "hovertemplate": "animation_frame=2020-03-08<br>Confirmed cases by country=%{x}<br>Top 10 countries with confirmed cases=%{y}",
           "legendgroup": "",
           "marker": {
            "color": "#636efa"
           },
           "name": "",
           "offsetgroup": "",
           "orientation": "h",
           "showlegend": false,
           "textposition": "auto",
           "type": "bar",
           "x": [
            80823,
            696,
            1134,
            1040,
            6566,
            7375,
            502,
            7314,
            673,
            518
           ],
           "xaxis": "x",
           "y": [
            "China",
            "Cruise Ship",
            "France",
            "Germany",
            "Iran",
            "Italy",
            "Japan",
            "Korea, South",
            "Spain",
            "US"
           ],
           "yaxis": "y"
          }
         ],
         "name": "2020-03-08"
        },
        {
         "data": [
          {
           "alignmentgroup": "True",
           "hoverlabel": {
            "namelength": 0
           },
           "hovertemplate": "animation_frame=2020-03-09<br>Confirmed cases by country=%{x}<br>Top 10 countries with confirmed cases=%{y}",
           "legendgroup": "",
           "marker": {
            "color": "#636efa"
           },
           "name": "",
           "offsetgroup": "",
           "orientation": "h",
           "showlegend": false,
           "textposition": "auto",
           "type": "bar",
           "x": [
            80860,
            696,
            1217,
            1176,
            7161,
            9172,
            511,
            7478,
            1073,
            583
           ],
           "xaxis": "x",
           "y": [
            "China",
            "Cruise Ship",
            "France",
            "Germany",
            "Iran",
            "Italy",
            "Japan",
            "Korea, South",
            "Spain",
            "US"
           ],
           "yaxis": "y"
          }
         ],
         "name": "2020-03-09"
        },
        {
         "data": [
          {
           "alignmentgroup": "True",
           "hoverlabel": {
            "namelength": 0
           },
           "hovertemplate": "animation_frame=2020-03-10<br>Confirmed cases by country=%{x}<br>Top 10 countries with confirmed cases=%{y}",
           "legendgroup": "",
           "marker": {
            "color": "#636efa"
           },
           "name": "",
           "offsetgroup": "",
           "orientation": "h",
           "showlegend": false,
           "textposition": "auto",
           "type": "bar",
           "x": [
            80887,
            696,
            1792,
            1457,
            8042,
            10149,
            581,
            7513,
            1695,
            959
           ],
           "xaxis": "x",
           "y": [
            "China",
            "Cruise Ship",
            "France",
            "Germany",
            "Iran",
            "Italy",
            "Japan",
            "Korea, South",
            "Spain",
            "US"
           ],
           "yaxis": "y"
          }
         ],
         "name": "2020-03-10"
        },
        {
         "data": [
          {
           "alignmentgroup": "True",
           "hoverlabel": {
            "namelength": 0
           },
           "hovertemplate": "animation_frame=2020-03-11<br>Confirmed cases by country=%{x}<br>Top 10 countries with confirmed cases=%{y}",
           "legendgroup": "",
           "marker": {
            "color": "#636efa"
           },
           "name": "",
           "offsetgroup": "",
           "orientation": "h",
           "showlegend": false,
           "textposition": "auto",
           "type": "bar",
           "x": [
            80921,
            696,
            2290,
            1908,
            9000,
            12462,
            7755,
            2277,
            652,
            1281
           ],
           "xaxis": "x",
           "y": [
            "China",
            "Cruise Ship",
            "France",
            "Germany",
            "Iran",
            "Italy",
            "Korea, South",
            "Spain",
            "Switzerland",
            "US"
           ],
           "yaxis": "y"
          }
         ],
         "name": "2020-03-11"
        },
        {
         "data": [
          {
           "alignmentgroup": "True",
           "hoverlabel": {
            "namelength": 0
           },
           "hovertemplate": "animation_frame=2020-03-12<br>Confirmed cases by country=%{x}<br>Top 10 countries with confirmed cases=%{y}",
           "legendgroup": "",
           "marker": {
            "color": "#636efa"
           },
           "name": "",
           "offsetgroup": "",
           "orientation": "h",
           "showlegend": false,
           "textposition": "auto",
           "type": "bar",
           "x": [
            80932,
            696,
            2290,
            2078,
            10075,
            12462,
            7869,
            702,
            2277,
            1663
           ],
           "xaxis": "x",
           "y": [
            "China",
            "Cruise Ship",
            "France",
            "Germany",
            "Iran",
            "Italy",
            "Korea, South",
            "Norway",
            "Spain",
            "US"
           ],
           "yaxis": "y"
          }
         ],
         "name": "2020-03-12"
        },
        {
         "data": [
          {
           "alignmentgroup": "True",
           "hoverlabel": {
            "namelength": 0
           },
           "hovertemplate": "animation_frame=2020-03-13<br>Confirmed cases by country=%{x}<br>Top 10 countries with confirmed cases=%{y}",
           "legendgroup": "",
           "marker": {
            "color": "#636efa"
           },
           "name": "",
           "offsetgroup": "",
           "orientation": "h",
           "showlegend": false,
           "textposition": "auto",
           "type": "bar",
           "x": [
            80945,
            3677,
            3675,
            11364,
            17660,
            7979,
            996,
            5232,
            1139,
            2179
           ],
           "xaxis": "x",
           "y": [
            "China",
            "France",
            "Germany",
            "Iran",
            "Italy",
            "Korea, South",
            "Norway",
            "Spain",
            "Switzerland",
            "US"
           ],
           "yaxis": "y"
          }
         ],
         "name": "2020-03-13"
        },
        {
         "data": [
          {
           "alignmentgroup": "True",
           "hoverlabel": {
            "namelength": 0
           },
           "hovertemplate": "animation_frame=2020-03-14<br>Confirmed cases by country=%{x}<br>Top 10 countries with confirmed cases=%{y}",
           "legendgroup": "",
           "marker": {
            "color": "#636efa"
           },
           "name": "",
           "offsetgroup": "",
           "orientation": "h",
           "showlegend": false,
           "textposition": "auto",
           "type": "bar",
           "x": [
            80977,
            4486,
            4585,
            12729,
            21157,
            8086,
            6391,
            1359,
            2727,
            1144
           ],
           "xaxis": "x",
           "y": [
            "China",
            "France",
            "Germany",
            "Iran",
            "Italy",
            "Korea, South",
            "Spain",
            "Switzerland",
            "US",
            "United Kingdom"
           ],
           "yaxis": "y"
          }
         ],
         "name": "2020-03-14"
        },
        {
         "data": [
          {
           "alignmentgroup": "True",
           "hoverlabel": {
            "namelength": 0
           },
           "hovertemplate": "animation_frame=2020-03-15<br>Confirmed cases by country=%{x}<br>Top 10 countries with confirmed cases=%{y}",
           "legendgroup": "",
           "marker": {
            "color": "#636efa"
           },
           "name": "",
           "offsetgroup": "",
           "orientation": "h",
           "showlegend": false,
           "textposition": "auto",
           "type": "bar",
           "x": [
            81003,
            4520,
            5795,
            13938,
            24747,
            8162,
            1221,
            7798,
            2200,
            3499
           ],
           "xaxis": "x",
           "y": [
            "China",
            "France",
            "Germany",
            "Iran",
            "Italy",
            "Korea, South",
            "Norway",
            "Spain",
            "Switzerland",
            "US"
           ],
           "yaxis": "y"
          }
         ],
         "name": "2020-03-15"
        },
        {
         "data": [
          {
           "alignmentgroup": "True",
           "hoverlabel": {
            "namelength": 0
           },
           "hovertemplate": "animation_frame=2020-03-16<br>Confirmed cases by country=%{x}<br>Top 10 countries with confirmed cases=%{y}",
           "legendgroup": "",
           "marker": {
            "color": "#636efa"
           },
           "name": "",
           "offsetgroup": "",
           "orientation": "h",
           "showlegend": false,
           "textposition": "auto",
           "type": "bar",
           "x": [
            81033,
            6659,
            7272,
            14991,
            27980,
            8236,
            9942,
            2200,
            4632,
            1551
           ],
           "xaxis": "x",
           "y": [
            "China",
            "France",
            "Germany",
            "Iran",
            "Italy",
            "Korea, South",
            "Spain",
            "Switzerland",
            "US",
            "United Kingdom"
           ],
           "yaxis": "y"
          }
         ],
         "name": "2020-03-16"
        },
        {
         "data": [
          {
           "alignmentgroup": "True",
           "hoverlabel": {
            "namelength": 0
           },
           "hovertemplate": "animation_frame=2020-03-17<br>Confirmed cases by country=%{x}<br>Top 10 countries with confirmed cases=%{y}",
           "legendgroup": "",
           "marker": {
            "color": "#636efa"
           },
           "name": "",
           "offsetgroup": "",
           "orientation": "h",
           "showlegend": false,
           "textposition": "auto",
           "type": "bar",
           "x": [
            81058,
            7699,
            9257,
            16169,
            31506,
            8320,
            11748,
            2700,
            6421,
            1960
           ],
           "xaxis": "x",
           "y": [
            "China",
            "France",
            "Germany",
            "Iran",
            "Italy",
            "Korea, South",
            "Spain",
            "Switzerland",
            "US",
            "United Kingdom"
           ],
           "yaxis": "y"
          }
         ],
         "name": "2020-03-17"
        },
        {
         "data": [
          {
           "alignmentgroup": "True",
           "hoverlabel": {
            "namelength": 0
           },
           "hovertemplate": "animation_frame=2020-03-18<br>Confirmed cases by country=%{x}<br>Top 10 countries with confirmed cases=%{y}",
           "legendgroup": "",
           "marker": {
            "color": "#636efa"
           },
           "name": "",
           "offsetgroup": "",
           "orientation": "h",
           "showlegend": false,
           "textposition": "auto",
           "type": "bar",
           "x": [
            81102,
            9105,
            12327,
            17361,
            35713,
            8413,
            13910,
            3028,
            7783,
            2642
           ],
           "xaxis": "x",
           "y": [
            "China",
            "France",
            "Germany",
            "Iran",
            "Italy",
            "Korea, South",
            "Spain",
            "Switzerland",
            "US",
            "United Kingdom"
           ],
           "yaxis": "y"
          }
         ],
         "name": "2020-03-18"
        },
        {
         "data": [
          {
           "alignmentgroup": "True",
           "hoverlabel": {
            "namelength": 0
           },
           "hovertemplate": "animation_frame=2020-03-19<br>Confirmed cases by country=%{x}<br>Top 10 countries with confirmed cases=%{y}",
           "legendgroup": "",
           "marker": {
            "color": "#636efa"
           },
           "name": "",
           "offsetgroup": "",
           "orientation": "h",
           "showlegend": false,
           "textposition": "auto",
           "type": "bar",
           "x": [
            81156,
            10947,
            15320,
            18407,
            41035,
            8565,
            17963,
            4075,
            13677,
            2716
           ],
           "xaxis": "x",
           "y": [
            "China",
            "France",
            "Germany",
            "Iran",
            "Italy",
            "Korea, South",
            "Spain",
            "Switzerland",
            "US",
            "United Kingdom"
           ],
           "yaxis": "y"
          }
         ],
         "name": "2020-03-19"
        },
        {
         "data": [
          {
           "alignmentgroup": "True",
           "hoverlabel": {
            "namelength": 0
           },
           "hovertemplate": "animation_frame=2020-03-20<br>Confirmed cases by country=%{x}<br>Top 10 countries with confirmed cases=%{y}",
           "legendgroup": "",
           "marker": {
            "color": "#636efa"
           },
           "name": "",
           "offsetgroup": "",
           "orientation": "h",
           "showlegend": false,
           "textposition": "auto",
           "type": "bar",
           "x": [
            81250,
            12632,
            19848,
            19644,
            47021,
            8652,
            20410,
            5294,
            19101,
            4014
           ],
           "xaxis": "x",
           "y": [
            "China",
            "France",
            "Germany",
            "Iran",
            "Italy",
            "Korea, South",
            "Spain",
            "Switzerland",
            "US",
            "United Kingdom"
           ],
           "yaxis": "y"
          }
         ],
         "name": "2020-03-20"
        }
       ],
       "layout": {
        "barmode": "relative",
        "legend": {
         "tracegroupgap": 0
        },
        "margin": {
         "t": 60
        },
        "sliders": [
         {
          "active": 0,
          "currentvalue": {
           "prefix": "animation_frame="
          },
          "len": 0.9,
          "pad": {
           "b": 10,
           "t": 60
          },
          "steps": [
           {
            "args": [
             [
              "2020-01-22"
             ],
             {
              "frame": {
               "duration": 0,
               "redraw": true
              },
              "fromcurrent": true,
              "mode": "immediate",
              "transition": {
               "duration": 0,
               "easing": "linear"
              }
             }
            ],
            "label": "2020-01-22",
            "method": "animate"
           },
           {
            "args": [
             [
              "2020-01-23"
             ],
             {
              "frame": {
               "duration": 0,
               "redraw": true
              },
              "fromcurrent": true,
              "mode": "immediate",
              "transition": {
               "duration": 0,
               "easing": "linear"
              }
             }
            ],
            "label": "2020-01-23",
            "method": "animate"
           },
           {
            "args": [
             [
              "2020-01-24"
             ],
             {
              "frame": {
               "duration": 0,
               "redraw": true
              },
              "fromcurrent": true,
              "mode": "immediate",
              "transition": {
               "duration": 0,
               "easing": "linear"
              }
             }
            ],
            "label": "2020-01-24",
            "method": "animate"
           },
           {
            "args": [
             [
              "2020-01-25"
             ],
             {
              "frame": {
               "duration": 0,
               "redraw": true
              },
              "fromcurrent": true,
              "mode": "immediate",
              "transition": {
               "duration": 0,
               "easing": "linear"
              }
             }
            ],
            "label": "2020-01-25",
            "method": "animate"
           },
           {
            "args": [
             [
              "2020-01-26"
             ],
             {
              "frame": {
               "duration": 0,
               "redraw": true
              },
              "fromcurrent": true,
              "mode": "immediate",
              "transition": {
               "duration": 0,
               "easing": "linear"
              }
             }
            ],
            "label": "2020-01-26",
            "method": "animate"
           },
           {
            "args": [
             [
              "2020-01-27"
             ],
             {
              "frame": {
               "duration": 0,
               "redraw": true
              },
              "fromcurrent": true,
              "mode": "immediate",
              "transition": {
               "duration": 0,
               "easing": "linear"
              }
             }
            ],
            "label": "2020-01-27",
            "method": "animate"
           },
           {
            "args": [
             [
              "2020-01-28"
             ],
             {
              "frame": {
               "duration": 0,
               "redraw": true
              },
              "fromcurrent": true,
              "mode": "immediate",
              "transition": {
               "duration": 0,
               "easing": "linear"
              }
             }
            ],
            "label": "2020-01-28",
            "method": "animate"
           },
           {
            "args": [
             [
              "2020-01-29"
             ],
             {
              "frame": {
               "duration": 0,
               "redraw": true
              },
              "fromcurrent": true,
              "mode": "immediate",
              "transition": {
               "duration": 0,
               "easing": "linear"
              }
             }
            ],
            "label": "2020-01-29",
            "method": "animate"
           },
           {
            "args": [
             [
              "2020-01-30"
             ],
             {
              "frame": {
               "duration": 0,
               "redraw": true
              },
              "fromcurrent": true,
              "mode": "immediate",
              "transition": {
               "duration": 0,
               "easing": "linear"
              }
             }
            ],
            "label": "2020-01-30",
            "method": "animate"
           },
           {
            "args": [
             [
              "2020-01-31"
             ],
             {
              "frame": {
               "duration": 0,
               "redraw": true
              },
              "fromcurrent": true,
              "mode": "immediate",
              "transition": {
               "duration": 0,
               "easing": "linear"
              }
             }
            ],
            "label": "2020-01-31",
            "method": "animate"
           },
           {
            "args": [
             [
              "2020-02-01"
             ],
             {
              "frame": {
               "duration": 0,
               "redraw": true
              },
              "fromcurrent": true,
              "mode": "immediate",
              "transition": {
               "duration": 0,
               "easing": "linear"
              }
             }
            ],
            "label": "2020-02-01",
            "method": "animate"
           },
           {
            "args": [
             [
              "2020-02-02"
             ],
             {
              "frame": {
               "duration": 0,
               "redraw": true
              },
              "fromcurrent": true,
              "mode": "immediate",
              "transition": {
               "duration": 0,
               "easing": "linear"
              }
             }
            ],
            "label": "2020-02-02",
            "method": "animate"
           },
           {
            "args": [
             [
              "2020-02-03"
             ],
             {
              "frame": {
               "duration": 0,
               "redraw": true
              },
              "fromcurrent": true,
              "mode": "immediate",
              "transition": {
               "duration": 0,
               "easing": "linear"
              }
             }
            ],
            "label": "2020-02-03",
            "method": "animate"
           },
           {
            "args": [
             [
              "2020-02-04"
             ],
             {
              "frame": {
               "duration": 0,
               "redraw": true
              },
              "fromcurrent": true,
              "mode": "immediate",
              "transition": {
               "duration": 0,
               "easing": "linear"
              }
             }
            ],
            "label": "2020-02-04",
            "method": "animate"
           },
           {
            "args": [
             [
              "2020-02-05"
             ],
             {
              "frame": {
               "duration": 0,
               "redraw": true
              },
              "fromcurrent": true,
              "mode": "immediate",
              "transition": {
               "duration": 0,
               "easing": "linear"
              }
             }
            ],
            "label": "2020-02-05",
            "method": "animate"
           },
           {
            "args": [
             [
              "2020-02-06"
             ],
             {
              "frame": {
               "duration": 0,
               "redraw": true
              },
              "fromcurrent": true,
              "mode": "immediate",
              "transition": {
               "duration": 0,
               "easing": "linear"
              }
             }
            ],
            "label": "2020-02-06",
            "method": "animate"
           },
           {
            "args": [
             [
              "2020-02-07"
             ],
             {
              "frame": {
               "duration": 0,
               "redraw": true
              },
              "fromcurrent": true,
              "mode": "immediate",
              "transition": {
               "duration": 0,
               "easing": "linear"
              }
             }
            ],
            "label": "2020-02-07",
            "method": "animate"
           },
           {
            "args": [
             [
              "2020-02-08"
             ],
             {
              "frame": {
               "duration": 0,
               "redraw": true
              },
              "fromcurrent": true,
              "mode": "immediate",
              "transition": {
               "duration": 0,
               "easing": "linear"
              }
             }
            ],
            "label": "2020-02-08",
            "method": "animate"
           },
           {
            "args": [
             [
              "2020-02-09"
             ],
             {
              "frame": {
               "duration": 0,
               "redraw": true
              },
              "fromcurrent": true,
              "mode": "immediate",
              "transition": {
               "duration": 0,
               "easing": "linear"
              }
             }
            ],
            "label": "2020-02-09",
            "method": "animate"
           },
           {
            "args": [
             [
              "2020-02-10"
             ],
             {
              "frame": {
               "duration": 0,
               "redraw": true
              },
              "fromcurrent": true,
              "mode": "immediate",
              "transition": {
               "duration": 0,
               "easing": "linear"
              }
             }
            ],
            "label": "2020-02-10",
            "method": "animate"
           },
           {
            "args": [
             [
              "2020-02-11"
             ],
             {
              "frame": {
               "duration": 0,
               "redraw": true
              },
              "fromcurrent": true,
              "mode": "immediate",
              "transition": {
               "duration": 0,
               "easing": "linear"
              }
             }
            ],
            "label": "2020-02-11",
            "method": "animate"
           },
           {
            "args": [
             [
              "2020-02-12"
             ],
             {
              "frame": {
               "duration": 0,
               "redraw": true
              },
              "fromcurrent": true,
              "mode": "immediate",
              "transition": {
               "duration": 0,
               "easing": "linear"
              }
             }
            ],
            "label": "2020-02-12",
            "method": "animate"
           },
           {
            "args": [
             [
              "2020-02-13"
             ],
             {
              "frame": {
               "duration": 0,
               "redraw": true
              },
              "fromcurrent": true,
              "mode": "immediate",
              "transition": {
               "duration": 0,
               "easing": "linear"
              }
             }
            ],
            "label": "2020-02-13",
            "method": "animate"
           },
           {
            "args": [
             [
              "2020-02-14"
             ],
             {
              "frame": {
               "duration": 0,
               "redraw": true
              },
              "fromcurrent": true,
              "mode": "immediate",
              "transition": {
               "duration": 0,
               "easing": "linear"
              }
             }
            ],
            "label": "2020-02-14",
            "method": "animate"
           },
           {
            "args": [
             [
              "2020-02-15"
             ],
             {
              "frame": {
               "duration": 0,
               "redraw": true
              },
              "fromcurrent": true,
              "mode": "immediate",
              "transition": {
               "duration": 0,
               "easing": "linear"
              }
             }
            ],
            "label": "2020-02-15",
            "method": "animate"
           },
           {
            "args": [
             [
              "2020-02-16"
             ],
             {
              "frame": {
               "duration": 0,
               "redraw": true
              },
              "fromcurrent": true,
              "mode": "immediate",
              "transition": {
               "duration": 0,
               "easing": "linear"
              }
             }
            ],
            "label": "2020-02-16",
            "method": "animate"
           },
           {
            "args": [
             [
              "2020-02-17"
             ],
             {
              "frame": {
               "duration": 0,
               "redraw": true
              },
              "fromcurrent": true,
              "mode": "immediate",
              "transition": {
               "duration": 0,
               "easing": "linear"
              }
             }
            ],
            "label": "2020-02-17",
            "method": "animate"
           },
           {
            "args": [
             [
              "2020-02-18"
             ],
             {
              "frame": {
               "duration": 0,
               "redraw": true
              },
              "fromcurrent": true,
              "mode": "immediate",
              "transition": {
               "duration": 0,
               "easing": "linear"
              }
             }
            ],
            "label": "2020-02-18",
            "method": "animate"
           },
           {
            "args": [
             [
              "2020-02-19"
             ],
             {
              "frame": {
               "duration": 0,
               "redraw": true
              },
              "fromcurrent": true,
              "mode": "immediate",
              "transition": {
               "duration": 0,
               "easing": "linear"
              }
             }
            ],
            "label": "2020-02-19",
            "method": "animate"
           },
           {
            "args": [
             [
              "2020-02-20"
             ],
             {
              "frame": {
               "duration": 0,
               "redraw": true
              },
              "fromcurrent": true,
              "mode": "immediate",
              "transition": {
               "duration": 0,
               "easing": "linear"
              }
             }
            ],
            "label": "2020-02-20",
            "method": "animate"
           },
           {
            "args": [
             [
              "2020-02-21"
             ],
             {
              "frame": {
               "duration": 0,
               "redraw": true
              },
              "fromcurrent": true,
              "mode": "immediate",
              "transition": {
               "duration": 0,
               "easing": "linear"
              }
             }
            ],
            "label": "2020-02-21",
            "method": "animate"
           },
           {
            "args": [
             [
              "2020-02-22"
             ],
             {
              "frame": {
               "duration": 0,
               "redraw": true
              },
              "fromcurrent": true,
              "mode": "immediate",
              "transition": {
               "duration": 0,
               "easing": "linear"
              }
             }
            ],
            "label": "2020-02-22",
            "method": "animate"
           },
           {
            "args": [
             [
              "2020-02-23"
             ],
             {
              "frame": {
               "duration": 0,
               "redraw": true
              },
              "fromcurrent": true,
              "mode": "immediate",
              "transition": {
               "duration": 0,
               "easing": "linear"
              }
             }
            ],
            "label": "2020-02-23",
            "method": "animate"
           },
           {
            "args": [
             [
              "2020-02-24"
             ],
             {
              "frame": {
               "duration": 0,
               "redraw": true
              },
              "fromcurrent": true,
              "mode": "immediate",
              "transition": {
               "duration": 0,
               "easing": "linear"
              }
             }
            ],
            "label": "2020-02-24",
            "method": "animate"
           },
           {
            "args": [
             [
              "2020-02-25"
             ],
             {
              "frame": {
               "duration": 0,
               "redraw": true
              },
              "fromcurrent": true,
              "mode": "immediate",
              "transition": {
               "duration": 0,
               "easing": "linear"
              }
             }
            ],
            "label": "2020-02-25",
            "method": "animate"
           },
           {
            "args": [
             [
              "2020-02-26"
             ],
             {
              "frame": {
               "duration": 0,
               "redraw": true
              },
              "fromcurrent": true,
              "mode": "immediate",
              "transition": {
               "duration": 0,
               "easing": "linear"
              }
             }
            ],
            "label": "2020-02-26",
            "method": "animate"
           },
           {
            "args": [
             [
              "2020-02-27"
             ],
             {
              "frame": {
               "duration": 0,
               "redraw": true
              },
              "fromcurrent": true,
              "mode": "immediate",
              "transition": {
               "duration": 0,
               "easing": "linear"
              }
             }
            ],
            "label": "2020-02-27",
            "method": "animate"
           },
           {
            "args": [
             [
              "2020-02-28"
             ],
             {
              "frame": {
               "duration": 0,
               "redraw": true
              },
              "fromcurrent": true,
              "mode": "immediate",
              "transition": {
               "duration": 0,
               "easing": "linear"
              }
             }
            ],
            "label": "2020-02-28",
            "method": "animate"
           },
           {
            "args": [
             [
              "2020-02-29"
             ],
             {
              "frame": {
               "duration": 0,
               "redraw": true
              },
              "fromcurrent": true,
              "mode": "immediate",
              "transition": {
               "duration": 0,
               "easing": "linear"
              }
             }
            ],
            "label": "2020-02-29",
            "method": "animate"
           },
           {
            "args": [
             [
              "2020-03-01"
             ],
             {
              "frame": {
               "duration": 0,
               "redraw": true
              },
              "fromcurrent": true,
              "mode": "immediate",
              "transition": {
               "duration": 0,
               "easing": "linear"
              }
             }
            ],
            "label": "2020-03-01",
            "method": "animate"
           },
           {
            "args": [
             [
              "2020-03-02"
             ],
             {
              "frame": {
               "duration": 0,
               "redraw": true
              },
              "fromcurrent": true,
              "mode": "immediate",
              "transition": {
               "duration": 0,
               "easing": "linear"
              }
             }
            ],
            "label": "2020-03-02",
            "method": "animate"
           },
           {
            "args": [
             [
              "2020-03-03"
             ],
             {
              "frame": {
               "duration": 0,
               "redraw": true
              },
              "fromcurrent": true,
              "mode": "immediate",
              "transition": {
               "duration": 0,
               "easing": "linear"
              }
             }
            ],
            "label": "2020-03-03",
            "method": "animate"
           },
           {
            "args": [
             [
              "2020-03-04"
             ],
             {
              "frame": {
               "duration": 0,
               "redraw": true
              },
              "fromcurrent": true,
              "mode": "immediate",
              "transition": {
               "duration": 0,
               "easing": "linear"
              }
             }
            ],
            "label": "2020-03-04",
            "method": "animate"
           },
           {
            "args": [
             [
              "2020-03-05"
             ],
             {
              "frame": {
               "duration": 0,
               "redraw": true
              },
              "fromcurrent": true,
              "mode": "immediate",
              "transition": {
               "duration": 0,
               "easing": "linear"
              }
             }
            ],
            "label": "2020-03-05",
            "method": "animate"
           },
           {
            "args": [
             [
              "2020-03-06"
             ],
             {
              "frame": {
               "duration": 0,
               "redraw": true
              },
              "fromcurrent": true,
              "mode": "immediate",
              "transition": {
               "duration": 0,
               "easing": "linear"
              }
             }
            ],
            "label": "2020-03-06",
            "method": "animate"
           },
           {
            "args": [
             [
              "2020-03-07"
             ],
             {
              "frame": {
               "duration": 0,
               "redraw": true
              },
              "fromcurrent": true,
              "mode": "immediate",
              "transition": {
               "duration": 0,
               "easing": "linear"
              }
             }
            ],
            "label": "2020-03-07",
            "method": "animate"
           },
           {
            "args": [
             [
              "2020-03-08"
             ],
             {
              "frame": {
               "duration": 0,
               "redraw": true
              },
              "fromcurrent": true,
              "mode": "immediate",
              "transition": {
               "duration": 0,
               "easing": "linear"
              }
             }
            ],
            "label": "2020-03-08",
            "method": "animate"
           },
           {
            "args": [
             [
              "2020-03-09"
             ],
             {
              "frame": {
               "duration": 0,
               "redraw": true
              },
              "fromcurrent": true,
              "mode": "immediate",
              "transition": {
               "duration": 0,
               "easing": "linear"
              }
             }
            ],
            "label": "2020-03-09",
            "method": "animate"
           },
           {
            "args": [
             [
              "2020-03-10"
             ],
             {
              "frame": {
               "duration": 0,
               "redraw": true
              },
              "fromcurrent": true,
              "mode": "immediate",
              "transition": {
               "duration": 0,
               "easing": "linear"
              }
             }
            ],
            "label": "2020-03-10",
            "method": "animate"
           },
           {
            "args": [
             [
              "2020-03-11"
             ],
             {
              "frame": {
               "duration": 0,
               "redraw": true
              },
              "fromcurrent": true,
              "mode": "immediate",
              "transition": {
               "duration": 0,
               "easing": "linear"
              }
             }
            ],
            "label": "2020-03-11",
            "method": "animate"
           },
           {
            "args": [
             [
              "2020-03-12"
             ],
             {
              "frame": {
               "duration": 0,
               "redraw": true
              },
              "fromcurrent": true,
              "mode": "immediate",
              "transition": {
               "duration": 0,
               "easing": "linear"
              }
             }
            ],
            "label": "2020-03-12",
            "method": "animate"
           },
           {
            "args": [
             [
              "2020-03-13"
             ],
             {
              "frame": {
               "duration": 0,
               "redraw": true
              },
              "fromcurrent": true,
              "mode": "immediate",
              "transition": {
               "duration": 0,
               "easing": "linear"
              }
             }
            ],
            "label": "2020-03-13",
            "method": "animate"
           },
           {
            "args": [
             [
              "2020-03-14"
             ],
             {
              "frame": {
               "duration": 0,
               "redraw": true
              },
              "fromcurrent": true,
              "mode": "immediate",
              "transition": {
               "duration": 0,
               "easing": "linear"
              }
             }
            ],
            "label": "2020-03-14",
            "method": "animate"
           },
           {
            "args": [
             [
              "2020-03-15"
             ],
             {
              "frame": {
               "duration": 0,
               "redraw": true
              },
              "fromcurrent": true,
              "mode": "immediate",
              "transition": {
               "duration": 0,
               "easing": "linear"
              }
             }
            ],
            "label": "2020-03-15",
            "method": "animate"
           },
           {
            "args": [
             [
              "2020-03-16"
             ],
             {
              "frame": {
               "duration": 0,
               "redraw": true
              },
              "fromcurrent": true,
              "mode": "immediate",
              "transition": {
               "duration": 0,
               "easing": "linear"
              }
             }
            ],
            "label": "2020-03-16",
            "method": "animate"
           },
           {
            "args": [
             [
              "2020-03-17"
             ],
             {
              "frame": {
               "duration": 0,
               "redraw": true
              },
              "fromcurrent": true,
              "mode": "immediate",
              "transition": {
               "duration": 0,
               "easing": "linear"
              }
             }
            ],
            "label": "2020-03-17",
            "method": "animate"
           },
           {
            "args": [
             [
              "2020-03-18"
             ],
             {
              "frame": {
               "duration": 0,
               "redraw": true
              },
              "fromcurrent": true,
              "mode": "immediate",
              "transition": {
               "duration": 0,
               "easing": "linear"
              }
             }
            ],
            "label": "2020-03-18",
            "method": "animate"
           },
           {
            "args": [
             [
              "2020-03-19"
             ],
             {
              "frame": {
               "duration": 0,
               "redraw": true
              },
              "fromcurrent": true,
              "mode": "immediate",
              "transition": {
               "duration": 0,
               "easing": "linear"
              }
             }
            ],
            "label": "2020-03-19",
            "method": "animate"
           },
           {
            "args": [
             [
              "2020-03-20"
             ],
             {
              "frame": {
               "duration": 0,
               "redraw": true
              },
              "fromcurrent": true,
              "mode": "immediate",
              "transition": {
               "duration": 0,
               "easing": "linear"
              }
             }
            ],
            "label": "2020-03-20",
            "method": "animate"
           }
          ],
          "x": 0.1,
          "xanchor": "left",
          "y": 0,
          "yanchor": "top"
         }
        ],
        "template": {
         "data": {
          "bar": [
           {
            "error_x": {
             "color": "#2a3f5f"
            },
            "error_y": {
             "color": "#2a3f5f"
            },
            "marker": {
             "line": {
              "color": "#E5ECF6",
              "width": 0.5
             }
            },
            "type": "bar"
           }
          ],
          "barpolar": [
           {
            "marker": {
             "line": {
              "color": "#E5ECF6",
              "width": 0.5
             }
            },
            "type": "barpolar"
           }
          ],
          "carpet": [
           {
            "aaxis": {
             "endlinecolor": "#2a3f5f",
             "gridcolor": "white",
             "linecolor": "white",
             "minorgridcolor": "white",
             "startlinecolor": "#2a3f5f"
            },
            "baxis": {
             "endlinecolor": "#2a3f5f",
             "gridcolor": "white",
             "linecolor": "white",
             "minorgridcolor": "white",
             "startlinecolor": "#2a3f5f"
            },
            "type": "carpet"
           }
          ],
          "choropleth": [
           {
            "colorbar": {
             "outlinewidth": 0,
             "ticks": ""
            },
            "type": "choropleth"
           }
          ],
          "contour": [
           {
            "colorbar": {
             "outlinewidth": 0,
             "ticks": ""
            },
            "colorscale": [
             [
              0,
              "#0d0887"
             ],
             [
              0.1111111111111111,
              "#46039f"
             ],
             [
              0.2222222222222222,
              "#7201a8"
             ],
             [
              0.3333333333333333,
              "#9c179e"
             ],
             [
              0.4444444444444444,
              "#bd3786"
             ],
             [
              0.5555555555555556,
              "#d8576b"
             ],
             [
              0.6666666666666666,
              "#ed7953"
             ],
             [
              0.7777777777777778,
              "#fb9f3a"
             ],
             [
              0.8888888888888888,
              "#fdca26"
             ],
             [
              1,
              "#f0f921"
             ]
            ],
            "type": "contour"
           }
          ],
          "contourcarpet": [
           {
            "colorbar": {
             "outlinewidth": 0,
             "ticks": ""
            },
            "type": "contourcarpet"
           }
          ],
          "heatmap": [
           {
            "colorbar": {
             "outlinewidth": 0,
             "ticks": ""
            },
            "colorscale": [
             [
              0,
              "#0d0887"
             ],
             [
              0.1111111111111111,
              "#46039f"
             ],
             [
              0.2222222222222222,
              "#7201a8"
             ],
             [
              0.3333333333333333,
              "#9c179e"
             ],
             [
              0.4444444444444444,
              "#bd3786"
             ],
             [
              0.5555555555555556,
              "#d8576b"
             ],
             [
              0.6666666666666666,
              "#ed7953"
             ],
             [
              0.7777777777777778,
              "#fb9f3a"
             ],
             [
              0.8888888888888888,
              "#fdca26"
             ],
             [
              1,
              "#f0f921"
             ]
            ],
            "type": "heatmap"
           }
          ],
          "heatmapgl": [
           {
            "colorbar": {
             "outlinewidth": 0,
             "ticks": ""
            },
            "colorscale": [
             [
              0,
              "#0d0887"
             ],
             [
              0.1111111111111111,
              "#46039f"
             ],
             [
              0.2222222222222222,
              "#7201a8"
             ],
             [
              0.3333333333333333,
              "#9c179e"
             ],
             [
              0.4444444444444444,
              "#bd3786"
             ],
             [
              0.5555555555555556,
              "#d8576b"
             ],
             [
              0.6666666666666666,
              "#ed7953"
             ],
             [
              0.7777777777777778,
              "#fb9f3a"
             ],
             [
              0.8888888888888888,
              "#fdca26"
             ],
             [
              1,
              "#f0f921"
             ]
            ],
            "type": "heatmapgl"
           }
          ],
          "histogram": [
           {
            "marker": {
             "colorbar": {
              "outlinewidth": 0,
              "ticks": ""
             }
            },
            "type": "histogram"
           }
          ],
          "histogram2d": [
           {
            "colorbar": {
             "outlinewidth": 0,
             "ticks": ""
            },
            "colorscale": [
             [
              0,
              "#0d0887"
             ],
             [
              0.1111111111111111,
              "#46039f"
             ],
             [
              0.2222222222222222,
              "#7201a8"
             ],
             [
              0.3333333333333333,
              "#9c179e"
             ],
             [
              0.4444444444444444,
              "#bd3786"
             ],
             [
              0.5555555555555556,
              "#d8576b"
             ],
             [
              0.6666666666666666,
              "#ed7953"
             ],
             [
              0.7777777777777778,
              "#fb9f3a"
             ],
             [
              0.8888888888888888,
              "#fdca26"
             ],
             [
              1,
              "#f0f921"
             ]
            ],
            "type": "histogram2d"
           }
          ],
          "histogram2dcontour": [
           {
            "colorbar": {
             "outlinewidth": 0,
             "ticks": ""
            },
            "colorscale": [
             [
              0,
              "#0d0887"
             ],
             [
              0.1111111111111111,
              "#46039f"
             ],
             [
              0.2222222222222222,
              "#7201a8"
             ],
             [
              0.3333333333333333,
              "#9c179e"
             ],
             [
              0.4444444444444444,
              "#bd3786"
             ],
             [
              0.5555555555555556,
              "#d8576b"
             ],
             [
              0.6666666666666666,
              "#ed7953"
             ],
             [
              0.7777777777777778,
              "#fb9f3a"
             ],
             [
              0.8888888888888888,
              "#fdca26"
             ],
             [
              1,
              "#f0f921"
             ]
            ],
            "type": "histogram2dcontour"
           }
          ],
          "mesh3d": [
           {
            "colorbar": {
             "outlinewidth": 0,
             "ticks": ""
            },
            "type": "mesh3d"
           }
          ],
          "parcoords": [
           {
            "line": {
             "colorbar": {
              "outlinewidth": 0,
              "ticks": ""
             }
            },
            "type": "parcoords"
           }
          ],
          "pie": [
           {
            "automargin": true,
            "type": "pie"
           }
          ],
          "scatter": [
           {
            "marker": {
             "colorbar": {
              "outlinewidth": 0,
              "ticks": ""
             }
            },
            "type": "scatter"
           }
          ],
          "scatter3d": [
           {
            "line": {
             "colorbar": {
              "outlinewidth": 0,
              "ticks": ""
             }
            },
            "marker": {
             "colorbar": {
              "outlinewidth": 0,
              "ticks": ""
             }
            },
            "type": "scatter3d"
           }
          ],
          "scattercarpet": [
           {
            "marker": {
             "colorbar": {
              "outlinewidth": 0,
              "ticks": ""
             }
            },
            "type": "scattercarpet"
           }
          ],
          "scattergeo": [
           {
            "marker": {
             "colorbar": {
              "outlinewidth": 0,
              "ticks": ""
             }
            },
            "type": "scattergeo"
           }
          ],
          "scattergl": [
           {
            "marker": {
             "colorbar": {
              "outlinewidth": 0,
              "ticks": ""
             }
            },
            "type": "scattergl"
           }
          ],
          "scattermapbox": [
           {
            "marker": {
             "colorbar": {
              "outlinewidth": 0,
              "ticks": ""
             }
            },
            "type": "scattermapbox"
           }
          ],
          "scatterpolar": [
           {
            "marker": {
             "colorbar": {
              "outlinewidth": 0,
              "ticks": ""
             }
            },
            "type": "scatterpolar"
           }
          ],
          "scatterpolargl": [
           {
            "marker": {
             "colorbar": {
              "outlinewidth": 0,
              "ticks": ""
             }
            },
            "type": "scatterpolargl"
           }
          ],
          "scatterternary": [
           {
            "marker": {
             "colorbar": {
              "outlinewidth": 0,
              "ticks": ""
             }
            },
            "type": "scatterternary"
           }
          ],
          "surface": [
           {
            "colorbar": {
             "outlinewidth": 0,
             "ticks": ""
            },
            "colorscale": [
             [
              0,
              "#0d0887"
             ],
             [
              0.1111111111111111,
              "#46039f"
             ],
             [
              0.2222222222222222,
              "#7201a8"
             ],
             [
              0.3333333333333333,
              "#9c179e"
             ],
             [
              0.4444444444444444,
              "#bd3786"
             ],
             [
              0.5555555555555556,
              "#d8576b"
             ],
             [
              0.6666666666666666,
              "#ed7953"
             ],
             [
              0.7777777777777778,
              "#fb9f3a"
             ],
             [
              0.8888888888888888,
              "#fdca26"
             ],
             [
              1,
              "#f0f921"
             ]
            ],
            "type": "surface"
           }
          ],
          "table": [
           {
            "cells": {
             "fill": {
              "color": "#EBF0F8"
             },
             "line": {
              "color": "white"
             }
            },
            "header": {
             "fill": {
              "color": "#C8D4E3"
             },
             "line": {
              "color": "white"
             }
            },
            "type": "table"
           }
          ]
         },
         "layout": {
          "annotationdefaults": {
           "arrowcolor": "#2a3f5f",
           "arrowhead": 0,
           "arrowwidth": 1
          },
          "coloraxis": {
           "colorbar": {
            "outlinewidth": 0,
            "ticks": ""
           }
          },
          "colorscale": {
           "diverging": [
            [
             0,
             "#8e0152"
            ],
            [
             0.1,
             "#c51b7d"
            ],
            [
             0.2,
             "#de77ae"
            ],
            [
             0.3,
             "#f1b6da"
            ],
            [
             0.4,
             "#fde0ef"
            ],
            [
             0.5,
             "#f7f7f7"
            ],
            [
             0.6,
             "#e6f5d0"
            ],
            [
             0.7,
             "#b8e186"
            ],
            [
             0.8,
             "#7fbc41"
            ],
            [
             0.9,
             "#4d9221"
            ],
            [
             1,
             "#276419"
            ]
           ],
           "sequential": [
            [
             0,
             "#0d0887"
            ],
            [
             0.1111111111111111,
             "#46039f"
            ],
            [
             0.2222222222222222,
             "#7201a8"
            ],
            [
             0.3333333333333333,
             "#9c179e"
            ],
            [
             0.4444444444444444,
             "#bd3786"
            ],
            [
             0.5555555555555556,
             "#d8576b"
            ],
            [
             0.6666666666666666,
             "#ed7953"
            ],
            [
             0.7777777777777778,
             "#fb9f3a"
            ],
            [
             0.8888888888888888,
             "#fdca26"
            ],
            [
             1,
             "#f0f921"
            ]
           ],
           "sequentialminus": [
            [
             0,
             "#0d0887"
            ],
            [
             0.1111111111111111,
             "#46039f"
            ],
            [
             0.2222222222222222,
             "#7201a8"
            ],
            [
             0.3333333333333333,
             "#9c179e"
            ],
            [
             0.4444444444444444,
             "#bd3786"
            ],
            [
             0.5555555555555556,
             "#d8576b"
            ],
            [
             0.6666666666666666,
             "#ed7953"
            ],
            [
             0.7777777777777778,
             "#fb9f3a"
            ],
            [
             0.8888888888888888,
             "#fdca26"
            ],
            [
             1,
             "#f0f921"
            ]
           ]
          },
          "colorway": [
           "#636efa",
           "#EF553B",
           "#00cc96",
           "#ab63fa",
           "#FFA15A",
           "#19d3f3",
           "#FF6692",
           "#B6E880",
           "#FF97FF",
           "#FECB52"
          ],
          "font": {
           "color": "#2a3f5f"
          },
          "geo": {
           "bgcolor": "white",
           "lakecolor": "white",
           "landcolor": "#E5ECF6",
           "showlakes": true,
           "showland": true,
           "subunitcolor": "white"
          },
          "hoverlabel": {
           "align": "left"
          },
          "hovermode": "closest",
          "mapbox": {
           "style": "light"
          },
          "paper_bgcolor": "white",
          "plot_bgcolor": "#E5ECF6",
          "polar": {
           "angularaxis": {
            "gridcolor": "white",
            "linecolor": "white",
            "ticks": ""
           },
           "bgcolor": "#E5ECF6",
           "radialaxis": {
            "gridcolor": "white",
            "linecolor": "white",
            "ticks": ""
           }
          },
          "scene": {
           "xaxis": {
            "backgroundcolor": "#E5ECF6",
            "gridcolor": "white",
            "gridwidth": 2,
            "linecolor": "white",
            "showbackground": true,
            "ticks": "",
            "zerolinecolor": "white"
           },
           "yaxis": {
            "backgroundcolor": "#E5ECF6",
            "gridcolor": "white",
            "gridwidth": 2,
            "linecolor": "white",
            "showbackground": true,
            "ticks": "",
            "zerolinecolor": "white"
           },
           "zaxis": {
            "backgroundcolor": "#E5ECF6",
            "gridcolor": "white",
            "gridwidth": 2,
            "linecolor": "white",
            "showbackground": true,
            "ticks": "",
            "zerolinecolor": "white"
           }
          },
          "shapedefaults": {
           "line": {
            "color": "#2a3f5f"
           }
          },
          "ternary": {
           "aaxis": {
            "gridcolor": "white",
            "linecolor": "white",
            "ticks": ""
           },
           "baxis": {
            "gridcolor": "white",
            "linecolor": "white",
            "ticks": ""
           },
           "bgcolor": "#E5ECF6",
           "caxis": {
            "gridcolor": "white",
            "linecolor": "white",
            "ticks": ""
           }
          },
          "title": {
           "x": 0.05
          },
          "xaxis": {
           "automargin": true,
           "gridcolor": "white",
           "linecolor": "white",
           "ticks": "",
           "title": {
            "standoff": 15
           },
           "zerolinecolor": "white",
           "zerolinewidth": 2
          },
          "yaxis": {
           "automargin": true,
           "gridcolor": "white",
           "linecolor": "white",
           "ticks": "",
           "title": {
            "standoff": 15
           },
           "zerolinecolor": "white",
           "zerolinewidth": 2
          }
         }
        },
        "title": {
         "text": "Evolution of confirmed cases by country: Top 10",
         "x": 0.5
        },
        "updatemenus": [
         {
          "buttons": [
           {
            "args": [
             null,
             {
              "frame": {
               "duration": 500,
               "redraw": true
              },
              "fromcurrent": true,
              "mode": "immediate",
              "transition": {
               "duration": 500,
               "easing": "linear"
              }
             }
            ],
            "label": "&#9654;",
            "method": "animate"
           },
           {
            "args": [
             [
              null
             ],
             {
              "frame": {
               "duration": 0,
               "redraw": true
              },
              "fromcurrent": true,
              "mode": "immediate",
              "transition": {
               "duration": 0,
               "easing": "linear"
              }
             }
            ],
            "label": "&#9724;",
            "method": "animate"
           }
          ],
          "direction": "left",
          "pad": {
           "r": 10,
           "t": 70
          },
          "showactive": false,
          "type": "buttons",
          "x": 0.1,
          "xanchor": "right",
          "y": 0,
          "yanchor": "top"
         }
        ],
        "xaxis": {
         "anchor": "y",
         "domain": [
          0,
          1
         ],
         "title": {
          "text": "Confirmed cases by country"
         }
        },
        "yaxis": {
         "anchor": "x",
         "categoryorder": "total ascending",
         "domain": [
          0,
          1
         ],
         "title": {
          "text": "Top 10 countries with confirmed cases"
         }
        }
       }
      },
      "text/html": [
       "<div>\n",
       "        \n",
       "        \n",
       "            <div id=\"3684bb79-8700-425e-92d8-b63c1a88ae91\" class=\"plotly-graph-div\" style=\"height:525px; width:100%;\"></div>\n",
       "            <script type=\"text/javascript\">\n",
       "                require([\"plotly\"], function(Plotly) {\n",
       "                    window.PLOTLYENV=window.PLOTLYENV || {};\n",
       "                    \n",
       "                if (document.getElementById(\"3684bb79-8700-425e-92d8-b63c1a88ae91\")) {\n",
       "                    Plotly.newPlot(\n",
       "                        '3684bb79-8700-425e-92d8-b63c1a88ae91',\n",
       "                        [{\"alignmentgroup\": \"True\", \"hoverlabel\": {\"namelength\": 0}, \"hovertemplate\": \"animation_frame=2020-01-22<br>Confirmed cases by country=%{x}<br>Top 10 countries with confirmed cases=%{y}\", \"legendgroup\": \"\", \"marker\": {\"color\": \"#636efa\"}, \"name\": \"\", \"offsetgroup\": \"\", \"orientation\": \"h\", \"showlegend\": false, \"textposition\": \"auto\", \"type\": \"bar\", \"x\": [0, 0, 0, 0, 548, 2, 1, 1, 2, 1], \"xaxis\": \"x\", \"y\": [\"Afghanistan\", \"Albania\", \"Algeria\", \"Andorra\", \"China\", \"Japan\", \"Korea, South\", \"Taiwan*\", \"Thailand\", \"US\"], \"yaxis\": \"y\"}],\n",
       "                        {\"barmode\": \"relative\", \"legend\": {\"tracegroupgap\": 0}, \"margin\": {\"t\": 60}, \"sliders\": [{\"active\": 0, \"currentvalue\": {\"prefix\": \"animation_frame=\"}, \"len\": 0.9, \"pad\": {\"b\": 10, \"t\": 60}, \"steps\": [{\"args\": [[\"2020-01-22\"], {\"frame\": {\"duration\": 0, \"redraw\": true}, \"fromcurrent\": true, \"mode\": \"immediate\", \"transition\": {\"duration\": 0, \"easing\": \"linear\"}}], \"label\": \"2020-01-22\", \"method\": \"animate\"}, {\"args\": [[\"2020-01-23\"], {\"frame\": {\"duration\": 0, \"redraw\": true}, \"fromcurrent\": true, \"mode\": \"immediate\", \"transition\": {\"duration\": 0, \"easing\": \"linear\"}}], \"label\": \"2020-01-23\", \"method\": \"animate\"}, {\"args\": [[\"2020-01-24\"], {\"frame\": {\"duration\": 0, \"redraw\": true}, \"fromcurrent\": true, \"mode\": \"immediate\", \"transition\": {\"duration\": 0, \"easing\": \"linear\"}}], \"label\": \"2020-01-24\", \"method\": \"animate\"}, {\"args\": [[\"2020-01-25\"], {\"frame\": {\"duration\": 0, \"redraw\": true}, \"fromcurrent\": true, \"mode\": \"immediate\", \"transition\": {\"duration\": 0, \"easing\": \"linear\"}}], \"label\": \"2020-01-25\", \"method\": \"animate\"}, {\"args\": [[\"2020-01-26\"], {\"frame\": {\"duration\": 0, \"redraw\": true}, \"fromcurrent\": true, \"mode\": \"immediate\", \"transition\": {\"duration\": 0, \"easing\": \"linear\"}}], \"label\": \"2020-01-26\", \"method\": \"animate\"}, {\"args\": [[\"2020-01-27\"], {\"frame\": {\"duration\": 0, \"redraw\": true}, \"fromcurrent\": true, \"mode\": \"immediate\", \"transition\": {\"duration\": 0, \"easing\": \"linear\"}}], \"label\": \"2020-01-27\", \"method\": \"animate\"}, {\"args\": [[\"2020-01-28\"], {\"frame\": {\"duration\": 0, \"redraw\": true}, \"fromcurrent\": true, \"mode\": \"immediate\", \"transition\": {\"duration\": 0, \"easing\": \"linear\"}}], \"label\": \"2020-01-28\", \"method\": \"animate\"}, {\"args\": [[\"2020-01-29\"], {\"frame\": {\"duration\": 0, \"redraw\": true}, \"fromcurrent\": true, \"mode\": \"immediate\", \"transition\": {\"duration\": 0, \"easing\": \"linear\"}}], \"label\": \"2020-01-29\", \"method\": \"animate\"}, {\"args\": [[\"2020-01-30\"], {\"frame\": {\"duration\": 0, \"redraw\": true}, \"fromcurrent\": true, \"mode\": \"immediate\", \"transition\": {\"duration\": 0, \"easing\": \"linear\"}}], \"label\": \"2020-01-30\", \"method\": \"animate\"}, {\"args\": [[\"2020-01-31\"], {\"frame\": {\"duration\": 0, \"redraw\": true}, \"fromcurrent\": true, \"mode\": \"immediate\", \"transition\": {\"duration\": 0, \"easing\": \"linear\"}}], \"label\": \"2020-01-31\", \"method\": \"animate\"}, {\"args\": [[\"2020-02-01\"], {\"frame\": {\"duration\": 0, \"redraw\": true}, \"fromcurrent\": true, \"mode\": \"immediate\", \"transition\": {\"duration\": 0, \"easing\": \"linear\"}}], \"label\": \"2020-02-01\", \"method\": \"animate\"}, {\"args\": [[\"2020-02-02\"], {\"frame\": {\"duration\": 0, \"redraw\": true}, \"fromcurrent\": true, \"mode\": \"immediate\", \"transition\": {\"duration\": 0, \"easing\": \"linear\"}}], \"label\": \"2020-02-02\", \"method\": \"animate\"}, {\"args\": [[\"2020-02-03\"], {\"frame\": {\"duration\": 0, \"redraw\": true}, \"fromcurrent\": true, \"mode\": \"immediate\", \"transition\": {\"duration\": 0, \"easing\": \"linear\"}}], \"label\": \"2020-02-03\", \"method\": \"animate\"}, {\"args\": [[\"2020-02-04\"], {\"frame\": {\"duration\": 0, \"redraw\": true}, \"fromcurrent\": true, \"mode\": \"immediate\", \"transition\": {\"duration\": 0, \"easing\": \"linear\"}}], \"label\": \"2020-02-04\", \"method\": \"animate\"}, {\"args\": [[\"2020-02-05\"], {\"frame\": {\"duration\": 0, \"redraw\": true}, \"fromcurrent\": true, \"mode\": \"immediate\", \"transition\": {\"duration\": 0, \"easing\": \"linear\"}}], \"label\": \"2020-02-05\", \"method\": \"animate\"}, {\"args\": [[\"2020-02-06\"], {\"frame\": {\"duration\": 0, \"redraw\": true}, \"fromcurrent\": true, \"mode\": \"immediate\", \"transition\": {\"duration\": 0, \"easing\": \"linear\"}}], \"label\": \"2020-02-06\", \"method\": \"animate\"}, {\"args\": [[\"2020-02-07\"], {\"frame\": {\"duration\": 0, \"redraw\": true}, \"fromcurrent\": true, \"mode\": \"immediate\", \"transition\": {\"duration\": 0, \"easing\": \"linear\"}}], \"label\": \"2020-02-07\", \"method\": \"animate\"}, {\"args\": [[\"2020-02-08\"], {\"frame\": {\"duration\": 0, \"redraw\": true}, \"fromcurrent\": true, \"mode\": \"immediate\", \"transition\": {\"duration\": 0, \"easing\": \"linear\"}}], \"label\": \"2020-02-08\", \"method\": \"animate\"}, {\"args\": [[\"2020-02-09\"], {\"frame\": {\"duration\": 0, \"redraw\": true}, \"fromcurrent\": true, \"mode\": \"immediate\", \"transition\": {\"duration\": 0, \"easing\": \"linear\"}}], \"label\": \"2020-02-09\", \"method\": \"animate\"}, {\"args\": [[\"2020-02-10\"], {\"frame\": {\"duration\": 0, \"redraw\": true}, \"fromcurrent\": true, \"mode\": \"immediate\", \"transition\": {\"duration\": 0, \"easing\": \"linear\"}}], \"label\": \"2020-02-10\", \"method\": \"animate\"}, {\"args\": [[\"2020-02-11\"], {\"frame\": {\"duration\": 0, \"redraw\": true}, \"fromcurrent\": true, \"mode\": \"immediate\", \"transition\": {\"duration\": 0, \"easing\": \"linear\"}}], \"label\": \"2020-02-11\", \"method\": \"animate\"}, {\"args\": [[\"2020-02-12\"], {\"frame\": {\"duration\": 0, \"redraw\": true}, \"fromcurrent\": true, \"mode\": \"immediate\", \"transition\": {\"duration\": 0, \"easing\": \"linear\"}}], \"label\": \"2020-02-12\", \"method\": \"animate\"}, {\"args\": [[\"2020-02-13\"], {\"frame\": {\"duration\": 0, \"redraw\": true}, \"fromcurrent\": true, \"mode\": \"immediate\", \"transition\": {\"duration\": 0, \"easing\": \"linear\"}}], \"label\": \"2020-02-13\", \"method\": \"animate\"}, {\"args\": [[\"2020-02-14\"], {\"frame\": {\"duration\": 0, \"redraw\": true}, \"fromcurrent\": true, \"mode\": \"immediate\", \"transition\": {\"duration\": 0, \"easing\": \"linear\"}}], \"label\": \"2020-02-14\", \"method\": \"animate\"}, {\"args\": [[\"2020-02-15\"], {\"frame\": {\"duration\": 0, \"redraw\": true}, \"fromcurrent\": true, \"mode\": \"immediate\", \"transition\": {\"duration\": 0, \"easing\": \"linear\"}}], \"label\": \"2020-02-15\", \"method\": \"animate\"}, {\"args\": [[\"2020-02-16\"], {\"frame\": {\"duration\": 0, \"redraw\": true}, \"fromcurrent\": true, \"mode\": \"immediate\", \"transition\": {\"duration\": 0, \"easing\": \"linear\"}}], \"label\": \"2020-02-16\", \"method\": \"animate\"}, {\"args\": [[\"2020-02-17\"], {\"frame\": {\"duration\": 0, \"redraw\": true}, \"fromcurrent\": true, \"mode\": \"immediate\", \"transition\": {\"duration\": 0, \"easing\": \"linear\"}}], \"label\": \"2020-02-17\", \"method\": \"animate\"}, {\"args\": [[\"2020-02-18\"], {\"frame\": {\"duration\": 0, \"redraw\": true}, \"fromcurrent\": true, \"mode\": \"immediate\", \"transition\": {\"duration\": 0, \"easing\": \"linear\"}}], \"label\": \"2020-02-18\", \"method\": \"animate\"}, {\"args\": [[\"2020-02-19\"], {\"frame\": {\"duration\": 0, \"redraw\": true}, \"fromcurrent\": true, \"mode\": \"immediate\", \"transition\": {\"duration\": 0, \"easing\": \"linear\"}}], \"label\": \"2020-02-19\", \"method\": \"animate\"}, {\"args\": [[\"2020-02-20\"], {\"frame\": {\"duration\": 0, \"redraw\": true}, \"fromcurrent\": true, \"mode\": \"immediate\", \"transition\": {\"duration\": 0, \"easing\": \"linear\"}}], \"label\": \"2020-02-20\", \"method\": \"animate\"}, {\"args\": [[\"2020-02-21\"], {\"frame\": {\"duration\": 0, \"redraw\": true}, \"fromcurrent\": true, \"mode\": \"immediate\", \"transition\": {\"duration\": 0, \"easing\": \"linear\"}}], \"label\": \"2020-02-21\", \"method\": \"animate\"}, {\"args\": [[\"2020-02-22\"], {\"frame\": {\"duration\": 0, \"redraw\": true}, \"fromcurrent\": true, \"mode\": \"immediate\", \"transition\": {\"duration\": 0, \"easing\": \"linear\"}}], \"label\": \"2020-02-22\", \"method\": \"animate\"}, {\"args\": [[\"2020-02-23\"], {\"frame\": {\"duration\": 0, \"redraw\": true}, \"fromcurrent\": true, \"mode\": \"immediate\", \"transition\": {\"duration\": 0, \"easing\": \"linear\"}}], \"label\": \"2020-02-23\", \"method\": \"animate\"}, {\"args\": [[\"2020-02-24\"], {\"frame\": {\"duration\": 0, \"redraw\": true}, \"fromcurrent\": true, \"mode\": \"immediate\", \"transition\": {\"duration\": 0, \"easing\": \"linear\"}}], \"label\": \"2020-02-24\", \"method\": \"animate\"}, {\"args\": [[\"2020-02-25\"], {\"frame\": {\"duration\": 0, \"redraw\": true}, \"fromcurrent\": true, \"mode\": \"immediate\", \"transition\": {\"duration\": 0, \"easing\": \"linear\"}}], \"label\": \"2020-02-25\", \"method\": \"animate\"}, {\"args\": [[\"2020-02-26\"], {\"frame\": {\"duration\": 0, \"redraw\": true}, \"fromcurrent\": true, \"mode\": \"immediate\", \"transition\": {\"duration\": 0, \"easing\": \"linear\"}}], \"label\": \"2020-02-26\", \"method\": \"animate\"}, {\"args\": [[\"2020-02-27\"], {\"frame\": {\"duration\": 0, \"redraw\": true}, \"fromcurrent\": true, \"mode\": \"immediate\", \"transition\": {\"duration\": 0, \"easing\": \"linear\"}}], \"label\": \"2020-02-27\", \"method\": \"animate\"}, {\"args\": [[\"2020-02-28\"], {\"frame\": {\"duration\": 0, \"redraw\": true}, \"fromcurrent\": true, \"mode\": \"immediate\", \"transition\": {\"duration\": 0, \"easing\": \"linear\"}}], \"label\": \"2020-02-28\", \"method\": \"animate\"}, {\"args\": [[\"2020-02-29\"], {\"frame\": {\"duration\": 0, \"redraw\": true}, \"fromcurrent\": true, \"mode\": \"immediate\", \"transition\": {\"duration\": 0, \"easing\": \"linear\"}}], \"label\": \"2020-02-29\", \"method\": \"animate\"}, {\"args\": [[\"2020-03-01\"], {\"frame\": {\"duration\": 0, \"redraw\": true}, \"fromcurrent\": true, \"mode\": \"immediate\", \"transition\": {\"duration\": 0, \"easing\": \"linear\"}}], \"label\": \"2020-03-01\", \"method\": \"animate\"}, {\"args\": [[\"2020-03-02\"], {\"frame\": {\"duration\": 0, \"redraw\": true}, \"fromcurrent\": true, \"mode\": \"immediate\", \"transition\": {\"duration\": 0, \"easing\": \"linear\"}}], \"label\": \"2020-03-02\", \"method\": \"animate\"}, {\"args\": [[\"2020-03-03\"], {\"frame\": {\"duration\": 0, \"redraw\": true}, \"fromcurrent\": true, \"mode\": \"immediate\", \"transition\": {\"duration\": 0, \"easing\": \"linear\"}}], \"label\": \"2020-03-03\", \"method\": \"animate\"}, {\"args\": [[\"2020-03-04\"], {\"frame\": {\"duration\": 0, \"redraw\": true}, \"fromcurrent\": true, \"mode\": \"immediate\", \"transition\": {\"duration\": 0, \"easing\": \"linear\"}}], \"label\": \"2020-03-04\", \"method\": \"animate\"}, {\"args\": [[\"2020-03-05\"], {\"frame\": {\"duration\": 0, \"redraw\": true}, \"fromcurrent\": true, \"mode\": \"immediate\", \"transition\": {\"duration\": 0, \"easing\": \"linear\"}}], \"label\": \"2020-03-05\", \"method\": \"animate\"}, {\"args\": [[\"2020-03-06\"], {\"frame\": {\"duration\": 0, \"redraw\": true}, \"fromcurrent\": true, \"mode\": \"immediate\", \"transition\": {\"duration\": 0, \"easing\": \"linear\"}}], \"label\": \"2020-03-06\", \"method\": \"animate\"}, {\"args\": [[\"2020-03-07\"], {\"frame\": {\"duration\": 0, \"redraw\": true}, \"fromcurrent\": true, \"mode\": \"immediate\", \"transition\": {\"duration\": 0, \"easing\": \"linear\"}}], \"label\": \"2020-03-07\", \"method\": \"animate\"}, {\"args\": [[\"2020-03-08\"], {\"frame\": {\"duration\": 0, \"redraw\": true}, \"fromcurrent\": true, \"mode\": \"immediate\", \"transition\": {\"duration\": 0, \"easing\": \"linear\"}}], \"label\": \"2020-03-08\", \"method\": \"animate\"}, {\"args\": [[\"2020-03-09\"], {\"frame\": {\"duration\": 0, \"redraw\": true}, \"fromcurrent\": true, \"mode\": \"immediate\", \"transition\": {\"duration\": 0, \"easing\": \"linear\"}}], \"label\": \"2020-03-09\", \"method\": \"animate\"}, {\"args\": [[\"2020-03-10\"], {\"frame\": {\"duration\": 0, \"redraw\": true}, \"fromcurrent\": true, \"mode\": \"immediate\", \"transition\": {\"duration\": 0, \"easing\": \"linear\"}}], \"label\": \"2020-03-10\", \"method\": \"animate\"}, {\"args\": [[\"2020-03-11\"], {\"frame\": {\"duration\": 0, \"redraw\": true}, \"fromcurrent\": true, \"mode\": \"immediate\", \"transition\": {\"duration\": 0, \"easing\": \"linear\"}}], \"label\": \"2020-03-11\", \"method\": \"animate\"}, {\"args\": [[\"2020-03-12\"], {\"frame\": {\"duration\": 0, \"redraw\": true}, \"fromcurrent\": true, \"mode\": \"immediate\", \"transition\": {\"duration\": 0, \"easing\": \"linear\"}}], \"label\": \"2020-03-12\", \"method\": \"animate\"}, {\"args\": [[\"2020-03-13\"], {\"frame\": {\"duration\": 0, \"redraw\": true}, \"fromcurrent\": true, \"mode\": \"immediate\", \"transition\": {\"duration\": 0, \"easing\": \"linear\"}}], \"label\": \"2020-03-13\", \"method\": \"animate\"}, {\"args\": [[\"2020-03-14\"], {\"frame\": {\"duration\": 0, \"redraw\": true}, \"fromcurrent\": true, \"mode\": \"immediate\", \"transition\": {\"duration\": 0, \"easing\": \"linear\"}}], \"label\": \"2020-03-14\", \"method\": \"animate\"}, {\"args\": [[\"2020-03-15\"], {\"frame\": {\"duration\": 0, \"redraw\": true}, \"fromcurrent\": true, \"mode\": \"immediate\", \"transition\": {\"duration\": 0, \"easing\": \"linear\"}}], \"label\": \"2020-03-15\", \"method\": \"animate\"}, {\"args\": [[\"2020-03-16\"], {\"frame\": {\"duration\": 0, \"redraw\": true}, \"fromcurrent\": true, \"mode\": \"immediate\", \"transition\": {\"duration\": 0, \"easing\": \"linear\"}}], \"label\": \"2020-03-16\", \"method\": \"animate\"}, {\"args\": [[\"2020-03-17\"], {\"frame\": {\"duration\": 0, \"redraw\": true}, \"fromcurrent\": true, \"mode\": \"immediate\", \"transition\": {\"duration\": 0, \"easing\": \"linear\"}}], \"label\": \"2020-03-17\", \"method\": \"animate\"}, {\"args\": [[\"2020-03-18\"], {\"frame\": {\"duration\": 0, \"redraw\": true}, \"fromcurrent\": true, \"mode\": \"immediate\", \"transition\": {\"duration\": 0, \"easing\": \"linear\"}}], \"label\": \"2020-03-18\", \"method\": \"animate\"}, {\"args\": [[\"2020-03-19\"], {\"frame\": {\"duration\": 0, \"redraw\": true}, \"fromcurrent\": true, \"mode\": \"immediate\", \"transition\": {\"duration\": 0, \"easing\": \"linear\"}}], \"label\": \"2020-03-19\", \"method\": \"animate\"}, {\"args\": [[\"2020-03-20\"], {\"frame\": {\"duration\": 0, \"redraw\": true}, \"fromcurrent\": true, \"mode\": \"immediate\", \"transition\": {\"duration\": 0, \"easing\": \"linear\"}}], \"label\": \"2020-03-20\", \"method\": \"animate\"}], \"x\": 0.1, \"xanchor\": \"left\", \"y\": 0, \"yanchor\": \"top\"}], \"template\": {\"data\": {\"bar\": [{\"error_x\": {\"color\": \"#2a3f5f\"}, \"error_y\": {\"color\": \"#2a3f5f\"}, \"marker\": {\"line\": {\"color\": \"#E5ECF6\", \"width\": 0.5}}, \"type\": \"bar\"}], \"barpolar\": [{\"marker\": {\"line\": {\"color\": \"#E5ECF6\", \"width\": 0.5}}, \"type\": \"barpolar\"}], \"carpet\": [{\"aaxis\": {\"endlinecolor\": \"#2a3f5f\", \"gridcolor\": \"white\", \"linecolor\": \"white\", \"minorgridcolor\": \"white\", \"startlinecolor\": \"#2a3f5f\"}, \"baxis\": {\"endlinecolor\": \"#2a3f5f\", \"gridcolor\": \"white\", \"linecolor\": \"white\", \"minorgridcolor\": \"white\", \"startlinecolor\": \"#2a3f5f\"}, \"type\": \"carpet\"}], \"choropleth\": [{\"colorbar\": {\"outlinewidth\": 0, \"ticks\": \"\"}, \"type\": \"choropleth\"}], \"contour\": [{\"colorbar\": {\"outlinewidth\": 0, \"ticks\": \"\"}, \"colorscale\": [[0.0, \"#0d0887\"], [0.1111111111111111, \"#46039f\"], [0.2222222222222222, \"#7201a8\"], [0.3333333333333333, \"#9c179e\"], [0.4444444444444444, \"#bd3786\"], [0.5555555555555556, \"#d8576b\"], [0.6666666666666666, \"#ed7953\"], [0.7777777777777778, \"#fb9f3a\"], [0.8888888888888888, \"#fdca26\"], [1.0, \"#f0f921\"]], \"type\": \"contour\"}], \"contourcarpet\": [{\"colorbar\": {\"outlinewidth\": 0, \"ticks\": \"\"}, \"type\": \"contourcarpet\"}], \"heatmap\": [{\"colorbar\": {\"outlinewidth\": 0, \"ticks\": \"\"}, \"colorscale\": [[0.0, \"#0d0887\"], [0.1111111111111111, \"#46039f\"], [0.2222222222222222, \"#7201a8\"], [0.3333333333333333, \"#9c179e\"], [0.4444444444444444, \"#bd3786\"], [0.5555555555555556, \"#d8576b\"], [0.6666666666666666, \"#ed7953\"], [0.7777777777777778, \"#fb9f3a\"], [0.8888888888888888, \"#fdca26\"], [1.0, \"#f0f921\"]], \"type\": \"heatmap\"}], \"heatmapgl\": [{\"colorbar\": {\"outlinewidth\": 0, \"ticks\": \"\"}, \"colorscale\": [[0.0, \"#0d0887\"], [0.1111111111111111, \"#46039f\"], [0.2222222222222222, \"#7201a8\"], [0.3333333333333333, \"#9c179e\"], [0.4444444444444444, \"#bd3786\"], [0.5555555555555556, \"#d8576b\"], [0.6666666666666666, \"#ed7953\"], [0.7777777777777778, \"#fb9f3a\"], [0.8888888888888888, \"#fdca26\"], [1.0, \"#f0f921\"]], \"type\": \"heatmapgl\"}], \"histogram\": [{\"marker\": {\"colorbar\": {\"outlinewidth\": 0, \"ticks\": \"\"}}, \"type\": \"histogram\"}], \"histogram2d\": [{\"colorbar\": {\"outlinewidth\": 0, \"ticks\": \"\"}, \"colorscale\": [[0.0, \"#0d0887\"], [0.1111111111111111, \"#46039f\"], [0.2222222222222222, \"#7201a8\"], [0.3333333333333333, \"#9c179e\"], [0.4444444444444444, \"#bd3786\"], [0.5555555555555556, \"#d8576b\"], [0.6666666666666666, \"#ed7953\"], [0.7777777777777778, \"#fb9f3a\"], [0.8888888888888888, \"#fdca26\"], [1.0, \"#f0f921\"]], \"type\": \"histogram2d\"}], \"histogram2dcontour\": [{\"colorbar\": {\"outlinewidth\": 0, \"ticks\": \"\"}, \"colorscale\": [[0.0, \"#0d0887\"], [0.1111111111111111, \"#46039f\"], [0.2222222222222222, \"#7201a8\"], [0.3333333333333333, \"#9c179e\"], [0.4444444444444444, \"#bd3786\"], [0.5555555555555556, \"#d8576b\"], [0.6666666666666666, \"#ed7953\"], [0.7777777777777778, \"#fb9f3a\"], [0.8888888888888888, \"#fdca26\"], [1.0, \"#f0f921\"]], \"type\": \"histogram2dcontour\"}], \"mesh3d\": [{\"colorbar\": {\"outlinewidth\": 0, \"ticks\": \"\"}, \"type\": \"mesh3d\"}], \"parcoords\": [{\"line\": {\"colorbar\": {\"outlinewidth\": 0, \"ticks\": \"\"}}, \"type\": \"parcoords\"}], \"pie\": [{\"automargin\": true, \"type\": \"pie\"}], \"scatter\": [{\"marker\": {\"colorbar\": {\"outlinewidth\": 0, \"ticks\": \"\"}}, \"type\": \"scatter\"}], \"scatter3d\": [{\"line\": {\"colorbar\": {\"outlinewidth\": 0, \"ticks\": \"\"}}, \"marker\": {\"colorbar\": {\"outlinewidth\": 0, \"ticks\": \"\"}}, \"type\": \"scatter3d\"}], \"scattercarpet\": [{\"marker\": {\"colorbar\": {\"outlinewidth\": 0, \"ticks\": \"\"}}, \"type\": \"scattercarpet\"}], \"scattergeo\": [{\"marker\": {\"colorbar\": {\"outlinewidth\": 0, \"ticks\": \"\"}}, \"type\": \"scattergeo\"}], \"scattergl\": [{\"marker\": {\"colorbar\": {\"outlinewidth\": 0, \"ticks\": \"\"}}, \"type\": \"scattergl\"}], \"scattermapbox\": [{\"marker\": {\"colorbar\": {\"outlinewidth\": 0, \"ticks\": \"\"}}, \"type\": \"scattermapbox\"}], \"scatterpolar\": [{\"marker\": {\"colorbar\": {\"outlinewidth\": 0, \"ticks\": \"\"}}, \"type\": \"scatterpolar\"}], \"scatterpolargl\": [{\"marker\": {\"colorbar\": {\"outlinewidth\": 0, \"ticks\": \"\"}}, \"type\": \"scatterpolargl\"}], \"scatterternary\": [{\"marker\": {\"colorbar\": {\"outlinewidth\": 0, \"ticks\": \"\"}}, \"type\": \"scatterternary\"}], \"surface\": [{\"colorbar\": {\"outlinewidth\": 0, \"ticks\": \"\"}, \"colorscale\": [[0.0, \"#0d0887\"], [0.1111111111111111, \"#46039f\"], [0.2222222222222222, \"#7201a8\"], [0.3333333333333333, \"#9c179e\"], [0.4444444444444444, \"#bd3786\"], [0.5555555555555556, \"#d8576b\"], [0.6666666666666666, \"#ed7953\"], [0.7777777777777778, \"#fb9f3a\"], [0.8888888888888888, \"#fdca26\"], [1.0, \"#f0f921\"]], \"type\": \"surface\"}], \"table\": [{\"cells\": {\"fill\": {\"color\": \"#EBF0F8\"}, \"line\": {\"color\": \"white\"}}, \"header\": {\"fill\": {\"color\": \"#C8D4E3\"}, \"line\": {\"color\": \"white\"}}, \"type\": \"table\"}]}, \"layout\": {\"annotationdefaults\": {\"arrowcolor\": \"#2a3f5f\", \"arrowhead\": 0, \"arrowwidth\": 1}, \"coloraxis\": {\"colorbar\": {\"outlinewidth\": 0, \"ticks\": \"\"}}, \"colorscale\": {\"diverging\": [[0, \"#8e0152\"], [0.1, \"#c51b7d\"], [0.2, \"#de77ae\"], [0.3, \"#f1b6da\"], [0.4, \"#fde0ef\"], [0.5, \"#f7f7f7\"], [0.6, \"#e6f5d0\"], [0.7, \"#b8e186\"], [0.8, \"#7fbc41\"], [0.9, \"#4d9221\"], [1, \"#276419\"]], \"sequential\": [[0.0, \"#0d0887\"], [0.1111111111111111, \"#46039f\"], [0.2222222222222222, \"#7201a8\"], [0.3333333333333333, \"#9c179e\"], [0.4444444444444444, \"#bd3786\"], [0.5555555555555556, \"#d8576b\"], [0.6666666666666666, \"#ed7953\"], [0.7777777777777778, \"#fb9f3a\"], [0.8888888888888888, \"#fdca26\"], [1.0, \"#f0f921\"]], \"sequentialminus\": [[0.0, \"#0d0887\"], [0.1111111111111111, \"#46039f\"], [0.2222222222222222, \"#7201a8\"], [0.3333333333333333, \"#9c179e\"], [0.4444444444444444, \"#bd3786\"], [0.5555555555555556, \"#d8576b\"], [0.6666666666666666, \"#ed7953\"], [0.7777777777777778, \"#fb9f3a\"], [0.8888888888888888, \"#fdca26\"], [1.0, \"#f0f921\"]]}, \"colorway\": [\"#636efa\", \"#EF553B\", \"#00cc96\", \"#ab63fa\", \"#FFA15A\", \"#19d3f3\", \"#FF6692\", \"#B6E880\", \"#FF97FF\", \"#FECB52\"], \"font\": {\"color\": \"#2a3f5f\"}, \"geo\": {\"bgcolor\": \"white\", \"lakecolor\": \"white\", \"landcolor\": \"#E5ECF6\", \"showlakes\": true, \"showland\": true, \"subunitcolor\": \"white\"}, \"hoverlabel\": {\"align\": \"left\"}, \"hovermode\": \"closest\", \"mapbox\": {\"style\": \"light\"}, \"paper_bgcolor\": \"white\", \"plot_bgcolor\": \"#E5ECF6\", \"polar\": {\"angularaxis\": {\"gridcolor\": \"white\", \"linecolor\": \"white\", \"ticks\": \"\"}, \"bgcolor\": \"#E5ECF6\", \"radialaxis\": {\"gridcolor\": \"white\", \"linecolor\": \"white\", \"ticks\": \"\"}}, \"scene\": {\"xaxis\": {\"backgroundcolor\": \"#E5ECF6\", \"gridcolor\": \"white\", \"gridwidth\": 2, \"linecolor\": \"white\", \"showbackground\": true, \"ticks\": \"\", \"zerolinecolor\": \"white\"}, \"yaxis\": {\"backgroundcolor\": \"#E5ECF6\", \"gridcolor\": \"white\", \"gridwidth\": 2, \"linecolor\": \"white\", \"showbackground\": true, \"ticks\": \"\", \"zerolinecolor\": \"white\"}, \"zaxis\": {\"backgroundcolor\": \"#E5ECF6\", \"gridcolor\": \"white\", \"gridwidth\": 2, \"linecolor\": \"white\", \"showbackground\": true, \"ticks\": \"\", \"zerolinecolor\": \"white\"}}, \"shapedefaults\": {\"line\": {\"color\": \"#2a3f5f\"}}, \"ternary\": {\"aaxis\": {\"gridcolor\": \"white\", \"linecolor\": \"white\", \"ticks\": \"\"}, \"baxis\": {\"gridcolor\": \"white\", \"linecolor\": \"white\", \"ticks\": \"\"}, \"bgcolor\": \"#E5ECF6\", \"caxis\": {\"gridcolor\": \"white\", \"linecolor\": \"white\", \"ticks\": \"\"}}, \"title\": {\"x\": 0.05}, \"xaxis\": {\"automargin\": true, \"gridcolor\": \"white\", \"linecolor\": \"white\", \"ticks\": \"\", \"title\": {\"standoff\": 15}, \"zerolinecolor\": \"white\", \"zerolinewidth\": 2}, \"yaxis\": {\"automargin\": true, \"gridcolor\": \"white\", \"linecolor\": \"white\", \"ticks\": \"\", \"title\": {\"standoff\": 15}, \"zerolinecolor\": \"white\", \"zerolinewidth\": 2}}}, \"title\": {\"text\": \"Evolution of confirmed cases by country: Top 10\", \"x\": 0.5}, \"updatemenus\": [{\"buttons\": [{\"args\": [null, {\"frame\": {\"duration\": 500, \"redraw\": true}, \"fromcurrent\": true, \"mode\": \"immediate\", \"transition\": {\"duration\": 500, \"easing\": \"linear\"}}], \"label\": \"&#9654;\", \"method\": \"animate\"}, {\"args\": [[null], {\"frame\": {\"duration\": 0, \"redraw\": true}, \"fromcurrent\": true, \"mode\": \"immediate\", \"transition\": {\"duration\": 0, \"easing\": \"linear\"}}], \"label\": \"&#9724;\", \"method\": \"animate\"}], \"direction\": \"left\", \"pad\": {\"r\": 10, \"t\": 70}, \"showactive\": false, \"type\": \"buttons\", \"x\": 0.1, \"xanchor\": \"right\", \"y\": 0, \"yanchor\": \"top\"}], \"xaxis\": {\"anchor\": \"y\", \"domain\": [0.0, 1.0], \"title\": {\"text\": \"Confirmed cases by country\"}}, \"yaxis\": {\"anchor\": \"x\", \"categoryorder\": \"total ascending\", \"domain\": [0.0, 1.0], \"title\": {\"text\": \"Top 10 countries with confirmed cases\"}}},\n",
       "                        {\"responsive\": true}\n",
       "                    ).then(function(){\n",
       "                            Plotly.addFrames('3684bb79-8700-425e-92d8-b63c1a88ae91', [{\"data\": [{\"alignmentgroup\": \"True\", \"hoverlabel\": {\"namelength\": 0}, \"hovertemplate\": \"animation_frame=2020-01-22<br>Confirmed cases by country=%{x}<br>Top 10 countries with confirmed cases=%{y}\", \"legendgroup\": \"\", \"marker\": {\"color\": \"#636efa\"}, \"name\": \"\", \"offsetgroup\": \"\", \"orientation\": \"h\", \"showlegend\": false, \"textposition\": \"auto\", \"x\": [0, 0, 0, 0, 548, 2, 1, 1, 2, 1], \"xaxis\": \"x\", \"y\": [\"Afghanistan\", \"Albania\", \"Algeria\", \"Andorra\", \"China\", \"Japan\", \"Korea, South\", \"Taiwan*\", \"Thailand\", \"US\"], \"yaxis\": \"y\", \"type\": \"bar\"}], \"name\": \"2020-01-22\"}, {\"data\": [{\"alignmentgroup\": \"True\", \"hoverlabel\": {\"namelength\": 0}, \"hovertemplate\": \"animation_frame=2020-01-23<br>Confirmed cases by country=%{x}<br>Top 10 countries with confirmed cases=%{y}\", \"legendgroup\": \"\", \"marker\": {\"color\": \"#636efa\"}, \"name\": \"\", \"offsetgroup\": \"\", \"orientation\": \"h\", \"showlegend\": false, \"textposition\": \"auto\", \"x\": [0, 0, 643, 1, 1, 1, 1, 3, 1, 2], \"xaxis\": \"x\", \"y\": [\"Afghanistan\", \"Albania\", \"China\", \"Japan\", \"Korea, South\", \"Singapore\", \"Taiwan*\", \"Thailand\", \"US\", \"Vietnam\"], \"yaxis\": \"y\", \"type\": \"bar\"}], \"name\": \"2020-01-23\"}, {\"data\": [{\"alignmentgroup\": \"True\", \"hoverlabel\": {\"namelength\": 0}, \"hovertemplate\": \"animation_frame=2020-01-24<br>Confirmed cases by country=%{x}<br>Top 10 countries with confirmed cases=%{y}\", \"legendgroup\": \"\", \"marker\": {\"color\": \"#636efa\"}, \"name\": \"\", \"offsetgroup\": \"\", \"orientation\": \"h\", \"showlegend\": false, \"textposition\": \"auto\", \"x\": [0, 920, 2, 2, 2, 3, 3, 5, 2, 2], \"xaxis\": \"x\", \"y\": [\"Afghanistan\", \"China\", \"France\", \"Japan\", \"Korea, South\", \"Singapore\", \"Taiwan*\", \"Thailand\", \"US\", \"Vietnam\"], \"yaxis\": \"y\", \"type\": \"bar\"}], \"name\": \"2020-01-24\"}, {\"data\": [{\"alignmentgroup\": \"True\", \"hoverlabel\": {\"namelength\": 0}, \"hovertemplate\": \"animation_frame=2020-01-25<br>Confirmed cases by country=%{x}<br>Top 10 countries with confirmed cases=%{y}\", \"legendgroup\": \"\", \"marker\": {\"color\": \"#636efa\"}, \"name\": \"\", \"offsetgroup\": \"\", \"orientation\": \"h\", \"showlegend\": false, \"textposition\": \"auto\", \"x\": [1406, 3, 2, 2, 3, 3, 3, 7, 2, 2], \"xaxis\": \"x\", \"y\": [\"China\", \"France\", \"Japan\", \"Korea, South\", \"Malaysia\", \"Singapore\", \"Taiwan*\", \"Thailand\", \"US\", \"Vietnam\"], \"yaxis\": \"y\", \"type\": \"bar\"}], \"name\": \"2020-01-25\"}, {\"data\": [{\"alignmentgroup\": \"True\", \"hoverlabel\": {\"namelength\": 0}, \"hovertemplate\": \"animation_frame=2020-01-26<br>Confirmed cases by country=%{x}<br>Top 10 countries with confirmed cases=%{y}\", \"legendgroup\": \"\", \"marker\": {\"color\": \"#636efa\"}, \"name\": \"\", \"offsetgroup\": \"\", \"orientation\": \"h\", \"showlegend\": false, \"textposition\": \"auto\", \"x\": [4, 2075, 3, 4, 3, 4, 4, 4, 8, 5], \"xaxis\": \"x\", \"y\": [\"Australia\", \"China\", \"France\", \"Japan\", \"Korea, South\", \"Malaysia\", \"Singapore\", \"Taiwan*\", \"Thailand\", \"US\"], \"yaxis\": \"y\", \"type\": \"bar\"}], \"name\": \"2020-01-26\"}, {\"data\": [{\"alignmentgroup\": \"True\", \"hoverlabel\": {\"namelength\": 0}, \"hovertemplate\": \"animation_frame=2020-01-27<br>Confirmed cases by country=%{x}<br>Top 10 countries with confirmed cases=%{y}\", \"legendgroup\": \"\", \"marker\": {\"color\": \"#636efa\"}, \"name\": \"\", \"offsetgroup\": \"\", \"orientation\": \"h\", \"showlegend\": false, \"textposition\": \"auto\", \"x\": [5, 2877, 3, 4, 4, 4, 5, 5, 8, 5], \"xaxis\": \"x\", \"y\": [\"Australia\", \"China\", \"France\", \"Japan\", \"Korea, South\", \"Malaysia\", \"Singapore\", \"Taiwan*\", \"Thailand\", \"US\"], \"yaxis\": \"y\", \"type\": \"bar\"}], \"name\": \"2020-01-27\"}, {\"data\": [{\"alignmentgroup\": \"True\", \"hoverlabel\": {\"namelength\": 0}, \"hovertemplate\": \"animation_frame=2020-01-28<br>Confirmed cases by country=%{x}<br>Top 10 countries with confirmed cases=%{y}\", \"legendgroup\": \"\", \"marker\": {\"color\": \"#636efa\"}, \"name\": \"\", \"offsetgroup\": \"\", \"orientation\": \"h\", \"showlegend\": false, \"textposition\": \"auto\", \"x\": [5, 5509, 4, 4, 7, 4, 7, 8, 14, 5], \"xaxis\": \"x\", \"y\": [\"Australia\", \"China\", \"France\", \"Germany\", \"Japan\", \"Korea, South\", \"Singapore\", \"Taiwan*\", \"Thailand\", \"US\"], \"yaxis\": \"y\", \"type\": \"bar\"}], \"name\": \"2020-01-28\"}, {\"data\": [{\"alignmentgroup\": \"True\", \"hoverlabel\": {\"namelength\": 0}, \"hovertemplate\": \"animation_frame=2020-01-29<br>Confirmed cases by country=%{x}<br>Top 10 countries with confirmed cases=%{y}\", \"legendgroup\": \"\", \"marker\": {\"color\": \"#636efa\"}, \"name\": \"\", \"offsetgroup\": \"\", \"orientation\": \"h\", \"showlegend\": false, \"textposition\": \"auto\", \"x\": [6, 6087, 5, 4, 7, 7, 7, 8, 14, 5], \"xaxis\": \"x\", \"y\": [\"Australia\", \"China\", \"France\", \"Germany\", \"Japan\", \"Malaysia\", \"Singapore\", \"Taiwan*\", \"Thailand\", \"US\"], \"yaxis\": \"y\", \"type\": \"bar\"}], \"name\": \"2020-01-29\"}, {\"data\": [{\"alignmentgroup\": \"True\", \"hoverlabel\": {\"namelength\": 0}, \"hovertemplate\": \"animation_frame=2020-01-30<br>Confirmed cases by country=%{x}<br>Top 10 countries with confirmed cases=%{y}\", \"legendgroup\": \"\", \"marker\": {\"color\": \"#636efa\"}, \"name\": \"\", \"offsetgroup\": \"\", \"orientation\": \"h\", \"showlegend\": false, \"textposition\": \"auto\", \"x\": [9, 8141, 5, 4, 11, 8, 10, 9, 14, 5], \"xaxis\": \"x\", \"y\": [\"Australia\", \"China\", \"France\", \"Germany\", \"Japan\", \"Malaysia\", \"Singapore\", \"Taiwan*\", \"Thailand\", \"US\"], \"yaxis\": \"y\", \"type\": \"bar\"}], \"name\": \"2020-01-30\"}, {\"data\": [{\"alignmentgroup\": \"True\", \"hoverlabel\": {\"namelength\": 0}, \"hovertemplate\": \"animation_frame=2020-01-31<br>Confirmed cases by country=%{x}<br>Top 10 countries with confirmed cases=%{y}\", \"legendgroup\": \"\", \"marker\": {\"color\": \"#636efa\"}, \"name\": \"\", \"offsetgroup\": \"\", \"orientation\": \"h\", \"showlegend\": false, \"textposition\": \"auto\", \"x\": [9, 9802, 5, 15, 11, 8, 13, 10, 19, 7], \"xaxis\": \"x\", \"y\": [\"Australia\", \"China\", \"France\", \"Japan\", \"Korea, South\", \"Malaysia\", \"Singapore\", \"Taiwan*\", \"Thailand\", \"US\"], \"yaxis\": \"y\", \"type\": \"bar\"}], \"name\": \"2020-01-31\"}, {\"data\": [{\"alignmentgroup\": \"True\", \"hoverlabel\": {\"namelength\": 0}, \"hovertemplate\": \"animation_frame=2020-02-01<br>Confirmed cases by country=%{x}<br>Top 10 countries with confirmed cases=%{y}\", \"legendgroup\": \"\", \"marker\": {\"color\": \"#636efa\"}, \"name\": \"\", \"offsetgroup\": \"\", \"orientation\": \"h\", \"showlegend\": false, \"textposition\": \"auto\", \"x\": [12, 11891, 8, 20, 12, 8, 16, 10, 19, 8], \"xaxis\": \"x\", \"y\": [\"Australia\", \"China\", \"Germany\", \"Japan\", \"Korea, South\", \"Malaysia\", \"Singapore\", \"Taiwan*\", \"Thailand\", \"US\"], \"yaxis\": \"y\", \"type\": \"bar\"}], \"name\": \"2020-02-01\"}, {\"data\": [{\"alignmentgroup\": \"True\", \"hoverlabel\": {\"namelength\": 0}, \"hovertemplate\": \"animation_frame=2020-02-02<br>Confirmed cases by country=%{x}<br>Top 10 countries with confirmed cases=%{y}\", \"legendgroup\": \"\", \"marker\": {\"color\": \"#636efa\"}, \"name\": \"\", \"offsetgroup\": \"\", \"orientation\": \"h\", \"showlegend\": false, \"textposition\": \"auto\", \"x\": [12, 16630, 10, 20, 15, 8, 18, 10, 19, 8], \"xaxis\": \"x\", \"y\": [\"Australia\", \"China\", \"Germany\", \"Japan\", \"Korea, South\", \"Malaysia\", \"Singapore\", \"Taiwan*\", \"Thailand\", \"US\"], \"yaxis\": \"y\", \"type\": \"bar\"}], \"name\": \"2020-02-02\"}, {\"data\": [{\"alignmentgroup\": \"True\", \"hoverlabel\": {\"namelength\": 0}, \"hovertemplate\": \"animation_frame=2020-02-03<br>Confirmed cases by country=%{x}<br>Top 10 countries with confirmed cases=%{y}\", \"legendgroup\": \"\", \"marker\": {\"color\": \"#636efa\"}, \"name\": \"\", \"offsetgroup\": \"\", \"orientation\": \"h\", \"showlegend\": false, \"textposition\": \"auto\", \"x\": [12, 19716, 12, 20, 15, 8, 18, 10, 19, 11], \"xaxis\": \"x\", \"y\": [\"Australia\", \"China\", \"Germany\", \"Japan\", \"Korea, South\", \"Malaysia\", \"Singapore\", \"Taiwan*\", \"Thailand\", \"US\"], \"yaxis\": \"y\", \"type\": \"bar\"}], \"name\": \"2020-02-03\"}, {\"data\": [{\"alignmentgroup\": \"True\", \"hoverlabel\": {\"namelength\": 0}, \"hovertemplate\": \"animation_frame=2020-02-04<br>Confirmed cases by country=%{x}<br>Top 10 countries with confirmed cases=%{y}\", \"legendgroup\": \"\", \"marker\": {\"color\": \"#636efa\"}, \"name\": \"\", \"offsetgroup\": \"\", \"orientation\": \"h\", \"showlegend\": false, \"textposition\": \"auto\", \"x\": [13, 23707, 12, 22, 16, 10, 24, 11, 25, 11], \"xaxis\": \"x\", \"y\": [\"Australia\", \"China\", \"Germany\", \"Japan\", \"Korea, South\", \"Malaysia\", \"Singapore\", \"Taiwan*\", \"Thailand\", \"US\"], \"yaxis\": \"y\", \"type\": \"bar\"}], \"name\": \"2020-02-04\"}, {\"data\": [{\"alignmentgroup\": \"True\", \"hoverlabel\": {\"namelength\": 0}, \"hovertemplate\": \"animation_frame=2020-02-05<br>Confirmed cases by country=%{x}<br>Top 10 countries with confirmed cases=%{y}\", \"legendgroup\": \"\", \"marker\": {\"color\": \"#636efa\"}, \"name\": \"\", \"offsetgroup\": \"\", \"orientation\": \"h\", \"showlegend\": false, \"textposition\": \"auto\", \"x\": [13, 27440, 12, 22, 19, 12, 28, 11, 25, 11], \"xaxis\": \"x\", \"y\": [\"Australia\", \"China\", \"Germany\", \"Japan\", \"Korea, South\", \"Malaysia\", \"Singapore\", \"Taiwan*\", \"Thailand\", \"US\"], \"yaxis\": \"y\", \"type\": \"bar\"}], \"name\": \"2020-02-05\"}, {\"data\": [{\"alignmentgroup\": \"True\", \"hoverlabel\": {\"namelength\": 0}, \"hovertemplate\": \"animation_frame=2020-02-06<br>Confirmed cases by country=%{x}<br>Top 10 countries with confirmed cases=%{y}\", \"legendgroup\": \"\", \"marker\": {\"color\": \"#636efa\"}, \"name\": \"\", \"offsetgroup\": \"\", \"orientation\": \"h\", \"showlegend\": false, \"textposition\": \"auto\", \"x\": [14, 30587, 12, 45, 23, 12, 28, 16, 25, 11], \"xaxis\": \"x\", \"y\": [\"Australia\", \"China\", \"Germany\", \"Japan\", \"Korea, South\", \"Malaysia\", \"Singapore\", \"Taiwan*\", \"Thailand\", \"US\"], \"yaxis\": \"y\", \"type\": \"bar\"}], \"name\": \"2020-02-06\"}, {\"data\": [{\"alignmentgroup\": \"True\", \"hoverlabel\": {\"namelength\": 0}, \"hovertemplate\": \"animation_frame=2020-02-07<br>Confirmed cases by country=%{x}<br>Top 10 countries with confirmed cases=%{y}\", \"legendgroup\": \"\", \"marker\": {\"color\": \"#636efa\"}, \"name\": \"\", \"offsetgroup\": \"\", \"orientation\": \"h\", \"showlegend\": false, \"textposition\": \"auto\", \"x\": [15, 34110, 61, 13, 25, 24, 12, 30, 16, 25], \"xaxis\": \"x\", \"y\": [\"Australia\", \"China\", \"Cruise Ship\", \"Germany\", \"Japan\", \"Korea, South\", \"Malaysia\", \"Singapore\", \"Taiwan*\", \"Thailand\"], \"yaxis\": \"y\", \"type\": \"bar\"}], \"name\": \"2020-02-07\"}, {\"data\": [{\"alignmentgroup\": \"True\", \"hoverlabel\": {\"namelength\": 0}, \"hovertemplate\": \"animation_frame=2020-02-08<br>Confirmed cases by country=%{x}<br>Top 10 countries with confirmed cases=%{y}\", \"legendgroup\": \"\", \"marker\": {\"color\": \"#636efa\"}, \"name\": \"\", \"offsetgroup\": \"\", \"orientation\": \"h\", \"showlegend\": false, \"textposition\": \"auto\", \"x\": [15, 36814, 61, 13, 25, 24, 16, 33, 17, 32], \"xaxis\": \"x\", \"y\": [\"Australia\", \"China\", \"Cruise Ship\", \"Germany\", \"Japan\", \"Korea, South\", \"Malaysia\", \"Singapore\", \"Taiwan*\", \"Thailand\"], \"yaxis\": \"y\", \"type\": \"bar\"}], \"name\": \"2020-02-08\"}, {\"data\": [{\"alignmentgroup\": \"True\", \"hoverlabel\": {\"namelength\": 0}, \"hovertemplate\": \"animation_frame=2020-02-09<br>Confirmed cases by country=%{x}<br>Top 10 countries with confirmed cases=%{y}\", \"legendgroup\": \"\", \"marker\": {\"color\": \"#636efa\"}, \"name\": \"\", \"offsetgroup\": \"\", \"orientation\": \"h\", \"showlegend\": false, \"textposition\": \"auto\", \"x\": [15, 39829, 64, 14, 26, 25, 16, 40, 18, 32], \"xaxis\": \"x\", \"y\": [\"Australia\", \"China\", \"Cruise Ship\", \"Germany\", \"Japan\", \"Korea, South\", \"Malaysia\", \"Singapore\", \"Taiwan*\", \"Thailand\"], \"yaxis\": \"y\", \"type\": \"bar\"}], \"name\": \"2020-02-09\"}, {\"data\": [{\"alignmentgroup\": \"True\", \"hoverlabel\": {\"namelength\": 0}, \"hovertemplate\": \"animation_frame=2020-02-10<br>Confirmed cases by country=%{x}<br>Top 10 countries with confirmed cases=%{y}\", \"legendgroup\": \"\", \"marker\": {\"color\": \"#636efa\"}, \"name\": \"\", \"offsetgroup\": \"\", \"orientation\": \"h\", \"showlegend\": false, \"textposition\": \"auto\", \"x\": [15, 42354, 135, 14, 26, 27, 18, 45, 18, 32], \"xaxis\": \"x\", \"y\": [\"Australia\", \"China\", \"Cruise Ship\", \"Germany\", \"Japan\", \"Korea, South\", \"Malaysia\", \"Singapore\", \"Taiwan*\", \"Thailand\"], \"yaxis\": \"y\", \"type\": \"bar\"}], \"name\": \"2020-02-10\"}, {\"data\": [{\"alignmentgroup\": \"True\", \"hoverlabel\": {\"namelength\": 0}, \"hovertemplate\": \"animation_frame=2020-02-11<br>Confirmed cases by country=%{x}<br>Top 10 countries with confirmed cases=%{y}\", \"legendgroup\": \"\", \"marker\": {\"color\": \"#636efa\"}, \"name\": \"\", \"offsetgroup\": \"\", \"orientation\": \"h\", \"showlegend\": false, \"textposition\": \"auto\", \"x\": [15, 44386, 135, 16, 26, 28, 18, 47, 18, 33], \"xaxis\": \"x\", \"y\": [\"Australia\", \"China\", \"Cruise Ship\", \"Germany\", \"Japan\", \"Korea, South\", \"Malaysia\", \"Singapore\", \"Taiwan*\", \"Thailand\"], \"yaxis\": \"y\", \"type\": \"bar\"}], \"name\": \"2020-02-11\"}, {\"data\": [{\"alignmentgroup\": \"True\", \"hoverlabel\": {\"namelength\": 0}, \"hovertemplate\": \"animation_frame=2020-02-12<br>Confirmed cases by country=%{x}<br>Top 10 countries with confirmed cases=%{y}\", \"legendgroup\": \"\", \"marker\": {\"color\": \"#636efa\"}, \"name\": \"\", \"offsetgroup\": \"\", \"orientation\": \"h\", \"showlegend\": false, \"textposition\": \"auto\", \"x\": [15, 44759, 175, 16, 28, 28, 18, 50, 18, 33], \"xaxis\": \"x\", \"y\": [\"Australia\", \"China\", \"Cruise Ship\", \"Germany\", \"Japan\", \"Korea, South\", \"Malaysia\", \"Singapore\", \"Taiwan*\", \"Thailand\"], \"yaxis\": \"y\", \"type\": \"bar\"}], \"name\": \"2020-02-12\"}, {\"data\": [{\"alignmentgroup\": \"True\", \"hoverlabel\": {\"namelength\": 0}, \"hovertemplate\": \"animation_frame=2020-02-13<br>Confirmed cases by country=%{x}<br>Top 10 countries with confirmed cases=%{y}\", \"legendgroup\": \"\", \"marker\": {\"color\": \"#636efa\"}, \"name\": \"\", \"offsetgroup\": \"\", \"orientation\": \"h\", \"showlegend\": false, \"textposition\": \"auto\", \"x\": [59895, 175, 16, 28, 28, 19, 58, 18, 33, 16], \"xaxis\": \"x\", \"y\": [\"China\", \"Cruise Ship\", \"Germany\", \"Japan\", \"Korea, South\", \"Malaysia\", \"Singapore\", \"Taiwan*\", \"Thailand\", \"Vietnam\"], \"yaxis\": \"y\", \"type\": \"bar\"}], \"name\": \"2020-02-13\"}, {\"data\": [{\"alignmentgroup\": \"True\", \"hoverlabel\": {\"namelength\": 0}, \"hovertemplate\": \"animation_frame=2020-02-14<br>Confirmed cases by country=%{x}<br>Top 10 countries with confirmed cases=%{y}\", \"legendgroup\": \"\", \"marker\": {\"color\": \"#636efa\"}, \"name\": \"\", \"offsetgroup\": \"\", \"orientation\": \"h\", \"showlegend\": false, \"textposition\": \"auto\", \"x\": [66358, 218, 16, 29, 28, 19, 67, 18, 33, 16], \"xaxis\": \"x\", \"y\": [\"China\", \"Cruise Ship\", \"Germany\", \"Japan\", \"Korea, South\", \"Malaysia\", \"Singapore\", \"Taiwan*\", \"Thailand\", \"Vietnam\"], \"yaxis\": \"y\", \"type\": \"bar\"}], \"name\": \"2020-02-14\"}, {\"data\": [{\"alignmentgroup\": \"True\", \"hoverlabel\": {\"namelength\": 0}, \"hovertemplate\": \"animation_frame=2020-02-15<br>Confirmed cases by country=%{x}<br>Top 10 countries with confirmed cases=%{y}\", \"legendgroup\": \"\", \"marker\": {\"color\": \"#636efa\"}, \"name\": \"\", \"offsetgroup\": \"\", \"orientation\": \"h\", \"showlegend\": false, \"textposition\": \"auto\", \"x\": [68413, 285, 16, 43, 28, 22, 72, 18, 33, 16], \"xaxis\": \"x\", \"y\": [\"China\", \"Cruise Ship\", \"Germany\", \"Japan\", \"Korea, South\", \"Malaysia\", \"Singapore\", \"Taiwan*\", \"Thailand\", \"Vietnam\"], \"yaxis\": \"y\", \"type\": \"bar\"}], \"name\": \"2020-02-15\"}, {\"data\": [{\"alignmentgroup\": \"True\", \"hoverlabel\": {\"namelength\": 0}, \"hovertemplate\": \"animation_frame=2020-02-16<br>Confirmed cases by country=%{x}<br>Top 10 countries with confirmed cases=%{y}\", \"legendgroup\": \"\", \"marker\": {\"color\": \"#636efa\"}, \"name\": \"\", \"offsetgroup\": \"\", \"orientation\": \"h\", \"showlegend\": false, \"textposition\": \"auto\", \"x\": [70513, 355, 16, 59, 29, 22, 75, 20, 34, 16], \"xaxis\": \"x\", \"y\": [\"China\", \"Cruise Ship\", \"Germany\", \"Japan\", \"Korea, South\", \"Malaysia\", \"Singapore\", \"Taiwan*\", \"Thailand\", \"Vietnam\"], \"yaxis\": \"y\", \"type\": \"bar\"}], \"name\": \"2020-02-16\"}, {\"data\": [{\"alignmentgroup\": \"True\", \"hoverlabel\": {\"namelength\": 0}, \"hovertemplate\": \"animation_frame=2020-02-17<br>Confirmed cases by country=%{x}<br>Top 10 countries with confirmed cases=%{y}\", \"legendgroup\": \"\", \"marker\": {\"color\": \"#636efa\"}, \"name\": \"\", \"offsetgroup\": \"\", \"orientation\": \"h\", \"showlegend\": false, \"textposition\": \"auto\", \"x\": [72434, 454, 16, 66, 30, 22, 77, 22, 35, 16], \"xaxis\": \"x\", \"y\": [\"China\", \"Cruise Ship\", \"Germany\", \"Japan\", \"Korea, South\", \"Malaysia\", \"Singapore\", \"Taiwan*\", \"Thailand\", \"Vietnam\"], \"yaxis\": \"y\", \"type\": \"bar\"}], \"name\": \"2020-02-17\"}, {\"data\": [{\"alignmentgroup\": \"True\", \"hoverlabel\": {\"namelength\": 0}, \"hovertemplate\": \"animation_frame=2020-02-18<br>Confirmed cases by country=%{x}<br>Top 10 countries with confirmed cases=%{y}\", \"legendgroup\": \"\", \"marker\": {\"color\": \"#636efa\"}, \"name\": \"\", \"offsetgroup\": \"\", \"orientation\": \"h\", \"showlegend\": false, \"textposition\": \"auto\", \"x\": [74211, 542, 16, 74, 31, 22, 81, 22, 35, 16], \"xaxis\": \"x\", \"y\": [\"China\", \"Cruise Ship\", \"Germany\", \"Japan\", \"Korea, South\", \"Malaysia\", \"Singapore\", \"Taiwan*\", \"Thailand\", \"Vietnam\"], \"yaxis\": \"y\", \"type\": \"bar\"}], \"name\": \"2020-02-18\"}, {\"data\": [{\"alignmentgroup\": \"True\", \"hoverlabel\": {\"namelength\": 0}, \"hovertemplate\": \"animation_frame=2020-02-19<br>Confirmed cases by country=%{x}<br>Top 10 countries with confirmed cases=%{y}\", \"legendgroup\": \"\", \"marker\": {\"color\": \"#636efa\"}, \"name\": \"\", \"offsetgroup\": \"\", \"orientation\": \"h\", \"showlegend\": false, \"textposition\": \"auto\", \"x\": [74619, 621, 16, 84, 31, 22, 84, 23, 35, 16], \"xaxis\": \"x\", \"y\": [\"China\", \"Cruise Ship\", \"Germany\", \"Japan\", \"Korea, South\", \"Malaysia\", \"Singapore\", \"Taiwan*\", \"Thailand\", \"Vietnam\"], \"yaxis\": \"y\", \"type\": \"bar\"}], \"name\": \"2020-02-19\"}, {\"data\": [{\"alignmentgroup\": \"True\", \"hoverlabel\": {\"namelength\": 0}, \"hovertemplate\": \"animation_frame=2020-02-20<br>Confirmed cases by country=%{x}<br>Top 10 countries with confirmed cases=%{y}\", \"legendgroup\": \"\", \"marker\": {\"color\": \"#636efa\"}, \"name\": \"\", \"offsetgroup\": \"\", \"orientation\": \"h\", \"showlegend\": false, \"textposition\": \"auto\", \"x\": [75077, 634, 16, 94, 104, 22, 84, 24, 35, 16], \"xaxis\": \"x\", \"y\": [\"China\", \"Cruise Ship\", \"Germany\", \"Japan\", \"Korea, South\", \"Malaysia\", \"Singapore\", \"Taiwan*\", \"Thailand\", \"Vietnam\"], \"yaxis\": \"y\", \"type\": \"bar\"}], \"name\": \"2020-02-20\"}, {\"data\": [{\"alignmentgroup\": \"True\", \"hoverlabel\": {\"namelength\": 0}, \"hovertemplate\": \"animation_frame=2020-02-21<br>Confirmed cases by country=%{x}<br>Top 10 countries with confirmed cases=%{y}\", \"legendgroup\": \"\", \"marker\": {\"color\": \"#636efa\"}, \"name\": \"\", \"offsetgroup\": \"\", \"orientation\": \"h\", \"showlegend\": false, \"textposition\": \"auto\", \"x\": [19, 75550, 634, 20, 105, 204, 22, 85, 26, 35], \"xaxis\": \"x\", \"y\": [\"Australia\", \"China\", \"Cruise Ship\", \"Italy\", \"Japan\", \"Korea, South\", \"Malaysia\", \"Singapore\", \"Taiwan*\", \"Thailand\"], \"yaxis\": \"y\", \"type\": \"bar\"}], \"name\": \"2020-02-21\"}, {\"data\": [{\"alignmentgroup\": \"True\", \"hoverlabel\": {\"namelength\": 0}, \"hovertemplate\": \"animation_frame=2020-02-22<br>Confirmed cases by country=%{x}<br>Top 10 countries with confirmed cases=%{y}\", \"legendgroup\": \"\", \"marker\": {\"color\": \"#636efa\"}, \"name\": \"\", \"offsetgroup\": \"\", \"orientation\": \"h\", \"showlegend\": false, \"textposition\": \"auto\", \"x\": [22, 77001, 634, 28, 62, 122, 433, 85, 26, 35], \"xaxis\": \"x\", \"y\": [\"Australia\", \"China\", \"Cruise Ship\", \"Iran\", \"Italy\", \"Japan\", \"Korea, South\", \"Singapore\", \"Taiwan*\", \"Thailand\"], \"yaxis\": \"y\", \"type\": \"bar\"}], \"name\": \"2020-02-22\"}, {\"data\": [{\"alignmentgroup\": \"True\", \"hoverlabel\": {\"namelength\": 0}, \"hovertemplate\": \"animation_frame=2020-02-23<br>Confirmed cases by country=%{x}<br>Top 10 countries with confirmed cases=%{y}\", \"legendgroup\": \"\", \"marker\": {\"color\": \"#636efa\"}, \"name\": \"\", \"offsetgroup\": \"\", \"orientation\": \"h\", \"showlegend\": false, \"textposition\": \"auto\", \"x\": [22, 77022, 691, 43, 155, 147, 602, 89, 28, 35], \"xaxis\": \"x\", \"y\": [\"Australia\", \"China\", \"Cruise Ship\", \"Iran\", \"Italy\", \"Japan\", \"Korea, South\", \"Singapore\", \"Taiwan*\", \"Thailand\"], \"yaxis\": \"y\", \"type\": \"bar\"}], \"name\": \"2020-02-23\"}, {\"data\": [{\"alignmentgroup\": \"True\", \"hoverlabel\": {\"namelength\": 0}, \"hovertemplate\": \"animation_frame=2020-02-24<br>Confirmed cases by country=%{x}<br>Top 10 countries with confirmed cases=%{y}\", \"legendgroup\": \"\", \"marker\": {\"color\": \"#636efa\"}, \"name\": \"\", \"offsetgroup\": \"\", \"orientation\": \"h\", \"showlegend\": false, \"textposition\": \"auto\", \"x\": [77241, 691, 61, 229, 159, 833, 89, 30, 35, 51], \"xaxis\": \"x\", \"y\": [\"China\", \"Cruise Ship\", \"Iran\", \"Italy\", \"Japan\", \"Korea, South\", \"Singapore\", \"Taiwan*\", \"Thailand\", \"US\"], \"yaxis\": \"y\", \"type\": \"bar\"}], \"name\": \"2020-02-24\"}, {\"data\": [{\"alignmentgroup\": \"True\", \"hoverlabel\": {\"namelength\": 0}, \"hovertemplate\": \"animation_frame=2020-02-25<br>Confirmed cases by country=%{x}<br>Top 10 countries with confirmed cases=%{y}\", \"legendgroup\": \"\", \"marker\": {\"color\": \"#636efa\"}, \"name\": \"\", \"offsetgroup\": \"\", \"orientation\": \"h\", \"showlegend\": false, \"textposition\": \"auto\", \"x\": [77754, 691, 95, 322, 170, 977, 91, 31, 37, 51], \"xaxis\": \"x\", \"y\": [\"China\", \"Cruise Ship\", \"Iran\", \"Italy\", \"Japan\", \"Korea, South\", \"Singapore\", \"Taiwan*\", \"Thailand\", \"US\"], \"yaxis\": \"y\", \"type\": \"bar\"}], \"name\": \"2020-02-25\"}, {\"data\": [{\"alignmentgroup\": \"True\", \"hoverlabel\": {\"namelength\": 0}, \"hovertemplate\": \"animation_frame=2020-02-26<br>Confirmed cases by country=%{x}<br>Top 10 countries with confirmed cases=%{y}\", \"legendgroup\": \"\", \"marker\": {\"color\": \"#636efa\"}, \"name\": \"\", \"offsetgroup\": \"\", \"orientation\": \"h\", \"showlegend\": false, \"textposition\": \"auto\", \"x\": [33, 78166, 705, 139, 453, 189, 1261, 93, 40, 57], \"xaxis\": \"x\", \"y\": [\"Bahrain\", \"China\", \"Cruise Ship\", \"Iran\", \"Italy\", \"Japan\", \"Korea, South\", \"Singapore\", \"Thailand\", \"US\"], \"yaxis\": \"y\", \"type\": \"bar\"}], \"name\": \"2020-02-26\"}, {\"data\": [{\"alignmentgroup\": \"True\", \"hoverlabel\": {\"namelength\": 0}, \"hovertemplate\": \"animation_frame=2020-02-27<br>Confirmed cases by country=%{x}<br>Top 10 countries with confirmed cases=%{y}\", \"legendgroup\": \"\", \"marker\": {\"color\": \"#636efa\"}, \"name\": \"\", \"offsetgroup\": \"\", \"orientation\": \"h\", \"showlegend\": false, \"textposition\": \"auto\", \"x\": [78600, 705, 46, 245, 655, 214, 1766, 43, 93, 58], \"xaxis\": \"x\", \"y\": [\"China\", \"Cruise Ship\", \"Germany\", \"Iran\", \"Italy\", \"Japan\", \"Korea, South\", \"Kuwait\", \"Singapore\", \"US\"], \"yaxis\": \"y\", \"type\": \"bar\"}], \"name\": \"2020-02-27\"}, {\"data\": [{\"alignmentgroup\": \"True\", \"hoverlabel\": {\"namelength\": 0}, \"hovertemplate\": \"animation_frame=2020-02-28<br>Confirmed cases by country=%{x}<br>Top 10 countries with confirmed cases=%{y}\", \"legendgroup\": \"\", \"marker\": {\"color\": \"#636efa\"}, \"name\": \"\", \"offsetgroup\": \"\", \"orientation\": \"h\", \"showlegend\": false, \"textposition\": \"auto\", \"x\": [78928, 705, 57, 48, 388, 888, 228, 2337, 93, 60], \"xaxis\": \"x\", \"y\": [\"China\", \"Cruise Ship\", \"France\", \"Germany\", \"Iran\", \"Italy\", \"Japan\", \"Korea, South\", \"Singapore\", \"US\"], \"yaxis\": \"y\", \"type\": \"bar\"}], \"name\": \"2020-02-28\"}, {\"data\": [{\"alignmentgroup\": \"True\", \"hoverlabel\": {\"namelength\": 0}, \"hovertemplate\": \"animation_frame=2020-02-29<br>Confirmed cases by country=%{x}<br>Top 10 countries with confirmed cases=%{y}\", \"legendgroup\": \"\", \"marker\": {\"color\": \"#636efa\"}, \"name\": \"\", \"offsetgroup\": \"\", \"orientation\": \"h\", \"showlegend\": false, \"textposition\": \"auto\", \"x\": [79356, 705, 100, 79, 593, 1128, 241, 3150, 102, 68], \"xaxis\": \"x\", \"y\": [\"China\", \"Cruise Ship\", \"France\", \"Germany\", \"Iran\", \"Italy\", \"Japan\", \"Korea, South\", \"Singapore\", \"US\"], \"yaxis\": \"y\", \"type\": \"bar\"}], \"name\": \"2020-02-29\"}, {\"data\": [{\"alignmentgroup\": \"True\", \"hoverlabel\": {\"namelength\": 0}, \"hovertemplate\": \"animation_frame=2020-03-01<br>Confirmed cases by country=%{x}<br>Top 10 countries with confirmed cases=%{y}\", \"legendgroup\": \"\", \"marker\": {\"color\": \"#636efa\"}, \"name\": \"\", \"offsetgroup\": \"\", \"orientation\": \"h\", \"showlegend\": false, \"textposition\": \"auto\", \"x\": [79932, 705, 130, 130, 978, 1694, 256, 3736, 106, 84], \"xaxis\": \"x\", \"y\": [\"China\", \"Cruise Ship\", \"France\", \"Germany\", \"Iran\", \"Italy\", \"Japan\", \"Korea, South\", \"Singapore\", \"Spain\"], \"yaxis\": \"y\", \"type\": \"bar\"}], \"name\": \"2020-03-01\"}, {\"data\": [{\"alignmentgroup\": \"True\", \"hoverlabel\": {\"namelength\": 0}, \"hovertemplate\": \"animation_frame=2020-03-02<br>Confirmed cases by country=%{x}<br>Top 10 countries with confirmed cases=%{y}\", \"legendgroup\": \"\", \"marker\": {\"color\": \"#636efa\"}, \"name\": \"\", \"offsetgroup\": \"\", \"orientation\": \"h\", \"showlegend\": false, \"textposition\": \"auto\", \"x\": [80136, 705, 191, 159, 1501, 2036, 274, 4335, 108, 120], \"xaxis\": \"x\", \"y\": [\"China\", \"Cruise Ship\", \"France\", \"Germany\", \"Iran\", \"Italy\", \"Japan\", \"Korea, South\", \"Singapore\", \"Spain\"], \"yaxis\": \"y\", \"type\": \"bar\"}], \"name\": \"2020-03-02\"}, {\"data\": [{\"alignmentgroup\": \"True\", \"hoverlabel\": {\"namelength\": 0}, \"hovertemplate\": \"animation_frame=2020-03-03<br>Confirmed cases by country=%{x}<br>Top 10 countries with confirmed cases=%{y}\", \"legendgroup\": \"\", \"marker\": {\"color\": \"#636efa\"}, \"name\": \"\", \"offsetgroup\": \"\", \"orientation\": \"h\", \"showlegend\": false, \"textposition\": \"auto\", \"x\": [80261, 706, 204, 196, 2336, 2502, 293, 5186, 165, 118], \"xaxis\": \"x\", \"y\": [\"China\", \"Cruise Ship\", \"France\", \"Germany\", \"Iran\", \"Italy\", \"Japan\", \"Korea, South\", \"Spain\", \"US\"], \"yaxis\": \"y\", \"type\": \"bar\"}], \"name\": \"2020-03-03\"}, {\"data\": [{\"alignmentgroup\": \"True\", \"hoverlabel\": {\"namelength\": 0}, \"hovertemplate\": \"animation_frame=2020-03-04<br>Confirmed cases by country=%{x}<br>Top 10 countries with confirmed cases=%{y}\", \"legendgroup\": \"\", \"marker\": {\"color\": \"#636efa\"}, \"name\": \"\", \"offsetgroup\": \"\", \"orientation\": \"h\", \"showlegend\": false, \"textposition\": \"auto\", \"x\": [80386, 706, 288, 262, 2922, 3089, 331, 5621, 222, 149], \"xaxis\": \"x\", \"y\": [\"China\", \"Cruise Ship\", \"France\", \"Germany\", \"Iran\", \"Italy\", \"Japan\", \"Korea, South\", \"Spain\", \"US\"], \"yaxis\": \"y\", \"type\": \"bar\"}], \"name\": \"2020-03-04\"}, {\"data\": [{\"alignmentgroup\": \"True\", \"hoverlabel\": {\"namelength\": 0}, \"hovertemplate\": \"animation_frame=2020-03-05<br>Confirmed cases by country=%{x}<br>Top 10 countries with confirmed cases=%{y}\", \"legendgroup\": \"\", \"marker\": {\"color\": \"#636efa\"}, \"name\": \"\", \"offsetgroup\": \"\", \"orientation\": \"h\", \"showlegend\": false, \"textposition\": \"auto\", \"x\": [80537, 706, 380, 482, 3513, 3858, 360, 6088, 259, 217], \"xaxis\": \"x\", \"y\": [\"China\", \"Cruise Ship\", \"France\", \"Germany\", \"Iran\", \"Italy\", \"Japan\", \"Korea, South\", \"Spain\", \"US\"], \"yaxis\": \"y\", \"type\": \"bar\"}], \"name\": \"2020-03-05\"}, {\"data\": [{\"alignmentgroup\": \"True\", \"hoverlabel\": {\"namelength\": 0}, \"hovertemplate\": \"animation_frame=2020-03-06<br>Confirmed cases by country=%{x}<br>Top 10 countries with confirmed cases=%{y}\", \"legendgroup\": \"\", \"marker\": {\"color\": \"#636efa\"}, \"name\": \"\", \"offsetgroup\": \"\", \"orientation\": \"h\", \"showlegend\": false, \"textposition\": \"auto\", \"x\": [80690, 696, 656, 670, 4747, 4636, 420, 6593, 400, 262], \"xaxis\": \"x\", \"y\": [\"China\", \"Cruise Ship\", \"France\", \"Germany\", \"Iran\", \"Italy\", \"Japan\", \"Korea, South\", \"Spain\", \"US\"], \"yaxis\": \"y\", \"type\": \"bar\"}], \"name\": \"2020-03-06\"}, {\"data\": [{\"alignmentgroup\": \"True\", \"hoverlabel\": {\"namelength\": 0}, \"hovertemplate\": \"animation_frame=2020-03-07<br>Confirmed cases by country=%{x}<br>Top 10 countries with confirmed cases=%{y}\", \"legendgroup\": \"\", \"marker\": {\"color\": \"#636efa\"}, \"name\": \"\", \"offsetgroup\": \"\", \"orientation\": \"h\", \"showlegend\": false, \"textposition\": \"auto\", \"x\": [80770, 696, 957, 799, 5823, 5883, 461, 7041, 500, 402], \"xaxis\": \"x\", \"y\": [\"China\", \"Cruise Ship\", \"France\", \"Germany\", \"Iran\", \"Italy\", \"Japan\", \"Korea, South\", \"Spain\", \"US\"], \"yaxis\": \"y\", \"type\": \"bar\"}], \"name\": \"2020-03-07\"}, {\"data\": [{\"alignmentgroup\": \"True\", \"hoverlabel\": {\"namelength\": 0}, \"hovertemplate\": \"animation_frame=2020-03-08<br>Confirmed cases by country=%{x}<br>Top 10 countries with confirmed cases=%{y}\", \"legendgroup\": \"\", \"marker\": {\"color\": \"#636efa\"}, \"name\": \"\", \"offsetgroup\": \"\", \"orientation\": \"h\", \"showlegend\": false, \"textposition\": \"auto\", \"x\": [80823, 696, 1134, 1040, 6566, 7375, 502, 7314, 673, 518], \"xaxis\": \"x\", \"y\": [\"China\", \"Cruise Ship\", \"France\", \"Germany\", \"Iran\", \"Italy\", \"Japan\", \"Korea, South\", \"Spain\", \"US\"], \"yaxis\": \"y\", \"type\": \"bar\"}], \"name\": \"2020-03-08\"}, {\"data\": [{\"alignmentgroup\": \"True\", \"hoverlabel\": {\"namelength\": 0}, \"hovertemplate\": \"animation_frame=2020-03-09<br>Confirmed cases by country=%{x}<br>Top 10 countries with confirmed cases=%{y}\", \"legendgroup\": \"\", \"marker\": {\"color\": \"#636efa\"}, \"name\": \"\", \"offsetgroup\": \"\", \"orientation\": \"h\", \"showlegend\": false, \"textposition\": \"auto\", \"x\": [80860, 696, 1217, 1176, 7161, 9172, 511, 7478, 1073, 583], \"xaxis\": \"x\", \"y\": [\"China\", \"Cruise Ship\", \"France\", \"Germany\", \"Iran\", \"Italy\", \"Japan\", \"Korea, South\", \"Spain\", \"US\"], \"yaxis\": \"y\", \"type\": \"bar\"}], \"name\": \"2020-03-09\"}, {\"data\": [{\"alignmentgroup\": \"True\", \"hoverlabel\": {\"namelength\": 0}, \"hovertemplate\": \"animation_frame=2020-03-10<br>Confirmed cases by country=%{x}<br>Top 10 countries with confirmed cases=%{y}\", \"legendgroup\": \"\", \"marker\": {\"color\": \"#636efa\"}, \"name\": \"\", \"offsetgroup\": \"\", \"orientation\": \"h\", \"showlegend\": false, \"textposition\": \"auto\", \"x\": [80887, 696, 1792, 1457, 8042, 10149, 581, 7513, 1695, 959], \"xaxis\": \"x\", \"y\": [\"China\", \"Cruise Ship\", \"France\", \"Germany\", \"Iran\", \"Italy\", \"Japan\", \"Korea, South\", \"Spain\", \"US\"], \"yaxis\": \"y\", \"type\": \"bar\"}], \"name\": \"2020-03-10\"}, {\"data\": [{\"alignmentgroup\": \"True\", \"hoverlabel\": {\"namelength\": 0}, \"hovertemplate\": \"animation_frame=2020-03-11<br>Confirmed cases by country=%{x}<br>Top 10 countries with confirmed cases=%{y}\", \"legendgroup\": \"\", \"marker\": {\"color\": \"#636efa\"}, \"name\": \"\", \"offsetgroup\": \"\", \"orientation\": \"h\", \"showlegend\": false, \"textposition\": \"auto\", \"x\": [80921, 696, 2290, 1908, 9000, 12462, 7755, 2277, 652, 1281], \"xaxis\": \"x\", \"y\": [\"China\", \"Cruise Ship\", \"France\", \"Germany\", \"Iran\", \"Italy\", \"Korea, South\", \"Spain\", \"Switzerland\", \"US\"], \"yaxis\": \"y\", \"type\": \"bar\"}], \"name\": \"2020-03-11\"}, {\"data\": [{\"alignmentgroup\": \"True\", \"hoverlabel\": {\"namelength\": 0}, \"hovertemplate\": \"animation_frame=2020-03-12<br>Confirmed cases by country=%{x}<br>Top 10 countries with confirmed cases=%{y}\", \"legendgroup\": \"\", \"marker\": {\"color\": \"#636efa\"}, \"name\": \"\", \"offsetgroup\": \"\", \"orientation\": \"h\", \"showlegend\": false, \"textposition\": \"auto\", \"x\": [80932, 696, 2290, 2078, 10075, 12462, 7869, 702, 2277, 1663], \"xaxis\": \"x\", \"y\": [\"China\", \"Cruise Ship\", \"France\", \"Germany\", \"Iran\", \"Italy\", \"Korea, South\", \"Norway\", \"Spain\", \"US\"], \"yaxis\": \"y\", \"type\": \"bar\"}], \"name\": \"2020-03-12\"}, {\"data\": [{\"alignmentgroup\": \"True\", \"hoverlabel\": {\"namelength\": 0}, \"hovertemplate\": \"animation_frame=2020-03-13<br>Confirmed cases by country=%{x}<br>Top 10 countries with confirmed cases=%{y}\", \"legendgroup\": \"\", \"marker\": {\"color\": \"#636efa\"}, \"name\": \"\", \"offsetgroup\": \"\", \"orientation\": \"h\", \"showlegend\": false, \"textposition\": \"auto\", \"x\": [80945, 3677, 3675, 11364, 17660, 7979, 996, 5232, 1139, 2179], \"xaxis\": \"x\", \"y\": [\"China\", \"France\", \"Germany\", \"Iran\", \"Italy\", \"Korea, South\", \"Norway\", \"Spain\", \"Switzerland\", \"US\"], \"yaxis\": \"y\", \"type\": \"bar\"}], \"name\": \"2020-03-13\"}, {\"data\": [{\"alignmentgroup\": \"True\", \"hoverlabel\": {\"namelength\": 0}, \"hovertemplate\": \"animation_frame=2020-03-14<br>Confirmed cases by country=%{x}<br>Top 10 countries with confirmed cases=%{y}\", \"legendgroup\": \"\", \"marker\": {\"color\": \"#636efa\"}, \"name\": \"\", \"offsetgroup\": \"\", \"orientation\": \"h\", \"showlegend\": false, \"textposition\": \"auto\", \"x\": [80977, 4486, 4585, 12729, 21157, 8086, 6391, 1359, 2727, 1144], \"xaxis\": \"x\", \"y\": [\"China\", \"France\", \"Germany\", \"Iran\", \"Italy\", \"Korea, South\", \"Spain\", \"Switzerland\", \"US\", \"United Kingdom\"], \"yaxis\": \"y\", \"type\": \"bar\"}], \"name\": \"2020-03-14\"}, {\"data\": [{\"alignmentgroup\": \"True\", \"hoverlabel\": {\"namelength\": 0}, \"hovertemplate\": \"animation_frame=2020-03-15<br>Confirmed cases by country=%{x}<br>Top 10 countries with confirmed cases=%{y}\", \"legendgroup\": \"\", \"marker\": {\"color\": \"#636efa\"}, \"name\": \"\", \"offsetgroup\": \"\", \"orientation\": \"h\", \"showlegend\": false, \"textposition\": \"auto\", \"x\": [81003, 4520, 5795, 13938, 24747, 8162, 1221, 7798, 2200, 3499], \"xaxis\": \"x\", \"y\": [\"China\", \"France\", \"Germany\", \"Iran\", \"Italy\", \"Korea, South\", \"Norway\", \"Spain\", \"Switzerland\", \"US\"], \"yaxis\": \"y\", \"type\": \"bar\"}], \"name\": \"2020-03-15\"}, {\"data\": [{\"alignmentgroup\": \"True\", \"hoverlabel\": {\"namelength\": 0}, \"hovertemplate\": \"animation_frame=2020-03-16<br>Confirmed cases by country=%{x}<br>Top 10 countries with confirmed cases=%{y}\", \"legendgroup\": \"\", \"marker\": {\"color\": \"#636efa\"}, \"name\": \"\", \"offsetgroup\": \"\", \"orientation\": \"h\", \"showlegend\": false, \"textposition\": \"auto\", \"x\": [81033, 6659, 7272, 14991, 27980, 8236, 9942, 2200, 4632, 1551], \"xaxis\": \"x\", \"y\": [\"China\", \"France\", \"Germany\", \"Iran\", \"Italy\", \"Korea, South\", \"Spain\", \"Switzerland\", \"US\", \"United Kingdom\"], \"yaxis\": \"y\", \"type\": \"bar\"}], \"name\": \"2020-03-16\"}, {\"data\": [{\"alignmentgroup\": \"True\", \"hoverlabel\": {\"namelength\": 0}, \"hovertemplate\": \"animation_frame=2020-03-17<br>Confirmed cases by country=%{x}<br>Top 10 countries with confirmed cases=%{y}\", \"legendgroup\": \"\", \"marker\": {\"color\": \"#636efa\"}, \"name\": \"\", \"offsetgroup\": \"\", \"orientation\": \"h\", \"showlegend\": false, \"textposition\": \"auto\", \"x\": [81058, 7699, 9257, 16169, 31506, 8320, 11748, 2700, 6421, 1960], \"xaxis\": \"x\", \"y\": [\"China\", \"France\", \"Germany\", \"Iran\", \"Italy\", \"Korea, South\", \"Spain\", \"Switzerland\", \"US\", \"United Kingdom\"], \"yaxis\": \"y\", \"type\": \"bar\"}], \"name\": \"2020-03-17\"}, {\"data\": [{\"alignmentgroup\": \"True\", \"hoverlabel\": {\"namelength\": 0}, \"hovertemplate\": \"animation_frame=2020-03-18<br>Confirmed cases by country=%{x}<br>Top 10 countries with confirmed cases=%{y}\", \"legendgroup\": \"\", \"marker\": {\"color\": \"#636efa\"}, \"name\": \"\", \"offsetgroup\": \"\", \"orientation\": \"h\", \"showlegend\": false, \"textposition\": \"auto\", \"x\": [81102, 9105, 12327, 17361, 35713, 8413, 13910, 3028, 7783, 2642], \"xaxis\": \"x\", \"y\": [\"China\", \"France\", \"Germany\", \"Iran\", \"Italy\", \"Korea, South\", \"Spain\", \"Switzerland\", \"US\", \"United Kingdom\"], \"yaxis\": \"y\", \"type\": \"bar\"}], \"name\": \"2020-03-18\"}, {\"data\": [{\"alignmentgroup\": \"True\", \"hoverlabel\": {\"namelength\": 0}, \"hovertemplate\": \"animation_frame=2020-03-19<br>Confirmed cases by country=%{x}<br>Top 10 countries with confirmed cases=%{y}\", \"legendgroup\": \"\", \"marker\": {\"color\": \"#636efa\"}, \"name\": \"\", \"offsetgroup\": \"\", \"orientation\": \"h\", \"showlegend\": false, \"textposition\": \"auto\", \"x\": [81156, 10947, 15320, 18407, 41035, 8565, 17963, 4075, 13677, 2716], \"xaxis\": \"x\", \"y\": [\"China\", \"France\", \"Germany\", \"Iran\", \"Italy\", \"Korea, South\", \"Spain\", \"Switzerland\", \"US\", \"United Kingdom\"], \"yaxis\": \"y\", \"type\": \"bar\"}], \"name\": \"2020-03-19\"}, {\"data\": [{\"alignmentgroup\": \"True\", \"hoverlabel\": {\"namelength\": 0}, \"hovertemplate\": \"animation_frame=2020-03-20<br>Confirmed cases by country=%{x}<br>Top 10 countries with confirmed cases=%{y}\", \"legendgroup\": \"\", \"marker\": {\"color\": \"#636efa\"}, \"name\": \"\", \"offsetgroup\": \"\", \"orientation\": \"h\", \"showlegend\": false, \"textposition\": \"auto\", \"x\": [81250, 12632, 19848, 19644, 47021, 8652, 20410, 5294, 19101, 4014], \"xaxis\": \"x\", \"y\": [\"China\", \"France\", \"Germany\", \"Iran\", \"Italy\", \"Korea, South\", \"Spain\", \"Switzerland\", \"US\", \"United Kingdom\"], \"yaxis\": \"y\", \"type\": \"bar\"}], \"name\": \"2020-03-20\"}]);\n",
       "                        }).then(function(){\n",
       "                            \n",
       "var gd = document.getElementById('3684bb79-8700-425e-92d8-b63c1a88ae91');\n",
       "var x = new MutationObserver(function (mutations, observer) {{\n",
       "        var display = window.getComputedStyle(gd).display;\n",
       "        if (!display || display === 'none') {{\n",
       "            console.log([gd, 'removed!']);\n",
       "            Plotly.purge(gd);\n",
       "            observer.disconnect();\n",
       "        }}\n",
       "}});\n",
       "\n",
       "// Listen for the removal of the full notebook cells\n",
       "var notebookContainer = gd.closest('#notebook-container');\n",
       "if (notebookContainer) {{\n",
       "    x.observe(notebookContainer, {childList: true});\n",
       "}}\n",
       "\n",
       "// Listen for the clearing of the current output cell\n",
       "var outputEl = gd.closest('.output');\n",
       "if (outputEl) {{\n",
       "    x.observe(outputEl, {childList: true});\n",
       "}}\n",
       "\n",
       "                        })\n",
       "                };\n",
       "                });\n",
       "            </script>\n",
       "        </div>"
      ]
     },
     "metadata": {},
     "output_type": "display_data"
    }
   ],
   "source": [
    "df_countries_top10 = df_countries.groupby('date',group_keys=False)\\\n",
    "            .apply(lambda grp:grp.nlargest(n=int(10),columns='confirmed').sort_index()).reset_index()\n",
    "# df_countries_top10.head()\n",
    "fig =px.bar(df_countries_top10, x='confirmed', y='country',  \n",
    "             labels={'confirmed': f'Confirmed cases by country',\n",
    "                    'country':'Top 10 countries with confirmed cases'},\n",
    "             animation_frame=df_countries_top10.date.dt.strftime('%Y-%m-%d'), orientation='h').update_yaxes(categoryorder='total ascending')\n",
    "fig.update_layout(title_text=\"Evolution of confirmed cases by country: Top 10\", title_x=0.5)\n",
    "\n",
    "fig.show()"
   ]
  },
  {
   "cell_type": "markdown",
   "metadata": {},
   "source": [
    "**Insights:**\n",
    "\n",
    "En esta progresión de tiempo se puede ver el crecimiento de la expansión de virus en europa especialmente en Italia y España en Europa e Iran y Corea del Sur en el mes de Marzo. Antes de ello la cantidad de casos de concentraba en China."
   ]
  },
  {
   "cell_type": "markdown",
   "metadata": {},
   "source": [
    "# Boxplot: Casos confirmados de coronavirus: Estadísticas"
   ]
  },
  {
   "cell_type": "code",
   "execution_count": 13,
   "metadata": {
    "ExecuteTime": {
     "end_time": "2020-03-21T12:55:20.764843Z",
     "start_time": "2020-03-21T12:55:20.472111Z"
    }
   },
   "outputs": [
    {
     "data": {
      "text/html": [
       "<div>\n",
       "<style scoped>\n",
       "    .dataframe tbody tr th:only-of-type {\n",
       "        vertical-align: middle;\n",
       "    }\n",
       "\n",
       "    .dataframe tbody tr th {\n",
       "        vertical-align: top;\n",
       "    }\n",
       "\n",
       "    .dataframe thead th {\n",
       "        text-align: right;\n",
       "    }\n",
       "</style>\n",
       "<table border=\"1\" class=\"dataframe\">\n",
       "  <thead>\n",
       "    <tr style=\"text-align: right;\">\n",
       "      <th>status</th>\n",
       "      <th>index</th>\n",
       "      <th>country</th>\n",
       "      <th>date</th>\n",
       "      <th>confirmed</th>\n",
       "      <th>deaths</th>\n",
       "      <th>recovered</th>\n",
       "      <th>existing</th>\n",
       "    </tr>\n",
       "  </thead>\n",
       "  <tbody>\n",
       "    <tr>\n",
       "      <th>0</th>\n",
       "      <td>0</td>\n",
       "      <td>Afghanistan</td>\n",
       "      <td>2020-01-22</td>\n",
       "      <td>0</td>\n",
       "      <td>0</td>\n",
       "      <td>0</td>\n",
       "      <td>0</td>\n",
       "    </tr>\n",
       "    <tr>\n",
       "      <th>1</th>\n",
       "      <td>59</td>\n",
       "      <td>Albania</td>\n",
       "      <td>2020-01-22</td>\n",
       "      <td>0</td>\n",
       "      <td>0</td>\n",
       "      <td>0</td>\n",
       "      <td>0</td>\n",
       "    </tr>\n",
       "    <tr>\n",
       "      <th>2</th>\n",
       "      <td>118</td>\n",
       "      <td>Algeria</td>\n",
       "      <td>2020-01-22</td>\n",
       "      <td>0</td>\n",
       "      <td>0</td>\n",
       "      <td>0</td>\n",
       "      <td>0</td>\n",
       "    </tr>\n",
       "    <tr>\n",
       "      <th>3</th>\n",
       "      <td>177</td>\n",
       "      <td>Andorra</td>\n",
       "      <td>2020-01-22</td>\n",
       "      <td>0</td>\n",
       "      <td>0</td>\n",
       "      <td>0</td>\n",
       "      <td>0</td>\n",
       "    </tr>\n",
       "    <tr>\n",
       "      <th>4</th>\n",
       "      <td>1944</td>\n",
       "      <td>China</td>\n",
       "      <td>2020-01-22</td>\n",
       "      <td>548</td>\n",
       "      <td>17</td>\n",
       "      <td>28</td>\n",
       "      <td>503</td>\n",
       "    </tr>\n",
       "  </tbody>\n",
       "</table>\n",
       "</div>"
      ],
      "text/plain": [
       "status  index      country       date  confirmed  deaths  recovered  existing\n",
       "0           0  Afghanistan 2020-01-22          0       0          0         0\n",
       "1          59      Albania 2020-01-22          0       0          0         0\n",
       "2         118      Algeria 2020-01-22          0       0          0         0\n",
       "3         177      Andorra 2020-01-22          0       0          0         0\n",
       "4        1944        China 2020-01-22        548      17         28       503"
      ]
     },
     "execution_count": 13,
     "metadata": {},
     "output_type": "execute_result"
    }
   ],
   "source": [
    "df_countries_top10 = df_countries.groupby('date',group_keys=False)\\\n",
    "            .apply(lambda grp:grp.nlargest(n=int(10),columns='confirmed').sort_index()).reset_index()\n",
    "df_countries_top10.head()"
   ]
  },
  {
   "cell_type": "code",
   "execution_count": 14,
   "metadata": {
    "ExecuteTime": {
     "end_time": "2020-03-21T12:55:21.719325Z",
     "start_time": "2020-03-21T12:55:20.767835Z"
    }
   },
   "outputs": [
    {
     "data": {
      "application/vnd.plotly.v1+json": {
       "config": {
        "plotlyServerURL": "https://plot.ly"
       },
       "data": [
        {
         "alignmentgroup": "True",
         "boxpoints": "all",
         "hoverlabel": {
          "namelength": 0
         },
         "hovertemplate": "Agrupation by countries: China vs. Rest of the world=%{x}<br>Confirmed cases of Coronavirus=%{y}",
         "legendgroup": "",
         "marker": {
          "color": "#636efa"
         },
         "name": "",
         "notched": false,
         "offsetgroup": "",
         "orientation": "v",
         "showlegend": false,
         "type": "box",
         "x": [
          "China",
          "China",
          "China",
          "China",
          "China",
          "China",
          "China",
          "China",
          "China",
          "China",
          "China",
          "China",
          "China",
          "China",
          "China",
          "China",
          "China",
          "China",
          "China",
          "China",
          "China",
          "China",
          "China",
          "China",
          "China",
          "China",
          "China",
          "China",
          "China",
          "China",
          "China",
          "China",
          "China",
          "China",
          "China",
          "China",
          "China",
          "China",
          "China",
          "China",
          "China",
          "China",
          "China",
          "China",
          "China",
          "China",
          "China",
          "China",
          "China",
          "China",
          "China",
          "China",
          "China",
          "China",
          "China",
          "China",
          "China",
          "China",
          "China",
          "Other Countries",
          "Other Countries",
          "Other Countries",
          "Other Countries",
          "Other Countries",
          "Other Countries",
          "Other Countries",
          "Other Countries",
          "Other Countries",
          "Other Countries",
          "Other Countries",
          "Other Countries",
          "Other Countries",
          "Other Countries",
          "Other Countries",
          "Other Countries",
          "Other Countries",
          "Other Countries",
          "Other Countries",
          "Other Countries",
          "Other Countries",
          "Other Countries",
          "Other Countries",
          "Other Countries",
          "Other Countries",
          "Other Countries",
          "Other Countries",
          "Other Countries",
          "Other Countries",
          "Other Countries",
          "Other Countries",
          "Other Countries",
          "Other Countries",
          "Other Countries",
          "Other Countries",
          "Other Countries",
          "Other Countries",
          "Other Countries",
          "Other Countries",
          "Other Countries",
          "Other Countries",
          "Other Countries",
          "Other Countries",
          "Other Countries",
          "Other Countries",
          "Other Countries",
          "Other Countries",
          "Other Countries",
          "Other Countries",
          "Other Countries",
          "Other Countries",
          "Other Countries",
          "Other Countries",
          "Other Countries",
          "Other Countries",
          "Other Countries",
          "Other Countries",
          "Other Countries",
          "Other Countries"
         ],
         "x0": " ",
         "xaxis": "x",
         "y": [
          548,
          643,
          920,
          1406,
          2075,
          2877,
          5509,
          6087,
          8141,
          9802,
          11891,
          16630,
          19716,
          23707,
          27440,
          30587,
          34110,
          36814,
          39829,
          42354,
          44386,
          44759,
          59895,
          66358,
          68413,
          70513,
          72434,
          74211,
          74619,
          75077,
          75550,
          77001,
          77022,
          77241,
          77754,
          78166,
          78600,
          78928,
          79356,
          79932,
          80136,
          80261,
          80386,
          80537,
          80690,
          80770,
          80823,
          80860,
          80887,
          80921,
          80932,
          80945,
          80977,
          81003,
          81033,
          81058,
          81102,
          81156,
          81250,
          7,
          10,
          21,
          28,
          43,
          50,
          69,
          79,
          93,
          125,
          147,
          157,
          165,
          185,
          195,
          230,
          281,
          306,
          321,
          408,
          416,
          462,
          473,
          527,
          617,
          711,
          824,
          925,
          1020,
          1120,
          1273,
          1578,
          1943,
          2327,
          2659,
          3229,
          4154,
          5192,
          6655,
          8437,
          10170,
          12579,
          14734,
          17345,
          21094,
          25051,
          28972,
          32701,
          37705,
          44945,
          47412,
          64255,
          75128,
          86455,
          100526,
          116094,
          133810,
          161552,
          190917
         ],
         "y0": " ",
         "yaxis": "y"
        }
       ],
       "layout": {
        "boxmode": "group",
        "legend": {
         "tracegroupgap": 0
        },
        "margin": {
         "t": 60
        },
        "template": {
         "data": {
          "bar": [
           {
            "error_x": {
             "color": "#2a3f5f"
            },
            "error_y": {
             "color": "#2a3f5f"
            },
            "marker": {
             "line": {
              "color": "#E5ECF6",
              "width": 0.5
             }
            },
            "type": "bar"
           }
          ],
          "barpolar": [
           {
            "marker": {
             "line": {
              "color": "#E5ECF6",
              "width": 0.5
             }
            },
            "type": "barpolar"
           }
          ],
          "carpet": [
           {
            "aaxis": {
             "endlinecolor": "#2a3f5f",
             "gridcolor": "white",
             "linecolor": "white",
             "minorgridcolor": "white",
             "startlinecolor": "#2a3f5f"
            },
            "baxis": {
             "endlinecolor": "#2a3f5f",
             "gridcolor": "white",
             "linecolor": "white",
             "minorgridcolor": "white",
             "startlinecolor": "#2a3f5f"
            },
            "type": "carpet"
           }
          ],
          "choropleth": [
           {
            "colorbar": {
             "outlinewidth": 0,
             "ticks": ""
            },
            "type": "choropleth"
           }
          ],
          "contour": [
           {
            "colorbar": {
             "outlinewidth": 0,
             "ticks": ""
            },
            "colorscale": [
             [
              0,
              "#0d0887"
             ],
             [
              0.1111111111111111,
              "#46039f"
             ],
             [
              0.2222222222222222,
              "#7201a8"
             ],
             [
              0.3333333333333333,
              "#9c179e"
             ],
             [
              0.4444444444444444,
              "#bd3786"
             ],
             [
              0.5555555555555556,
              "#d8576b"
             ],
             [
              0.6666666666666666,
              "#ed7953"
             ],
             [
              0.7777777777777778,
              "#fb9f3a"
             ],
             [
              0.8888888888888888,
              "#fdca26"
             ],
             [
              1,
              "#f0f921"
             ]
            ],
            "type": "contour"
           }
          ],
          "contourcarpet": [
           {
            "colorbar": {
             "outlinewidth": 0,
             "ticks": ""
            },
            "type": "contourcarpet"
           }
          ],
          "heatmap": [
           {
            "colorbar": {
             "outlinewidth": 0,
             "ticks": ""
            },
            "colorscale": [
             [
              0,
              "#0d0887"
             ],
             [
              0.1111111111111111,
              "#46039f"
             ],
             [
              0.2222222222222222,
              "#7201a8"
             ],
             [
              0.3333333333333333,
              "#9c179e"
             ],
             [
              0.4444444444444444,
              "#bd3786"
             ],
             [
              0.5555555555555556,
              "#d8576b"
             ],
             [
              0.6666666666666666,
              "#ed7953"
             ],
             [
              0.7777777777777778,
              "#fb9f3a"
             ],
             [
              0.8888888888888888,
              "#fdca26"
             ],
             [
              1,
              "#f0f921"
             ]
            ],
            "type": "heatmap"
           }
          ],
          "heatmapgl": [
           {
            "colorbar": {
             "outlinewidth": 0,
             "ticks": ""
            },
            "colorscale": [
             [
              0,
              "#0d0887"
             ],
             [
              0.1111111111111111,
              "#46039f"
             ],
             [
              0.2222222222222222,
              "#7201a8"
             ],
             [
              0.3333333333333333,
              "#9c179e"
             ],
             [
              0.4444444444444444,
              "#bd3786"
             ],
             [
              0.5555555555555556,
              "#d8576b"
             ],
             [
              0.6666666666666666,
              "#ed7953"
             ],
             [
              0.7777777777777778,
              "#fb9f3a"
             ],
             [
              0.8888888888888888,
              "#fdca26"
             ],
             [
              1,
              "#f0f921"
             ]
            ],
            "type": "heatmapgl"
           }
          ],
          "histogram": [
           {
            "marker": {
             "colorbar": {
              "outlinewidth": 0,
              "ticks": ""
             }
            },
            "type": "histogram"
           }
          ],
          "histogram2d": [
           {
            "colorbar": {
             "outlinewidth": 0,
             "ticks": ""
            },
            "colorscale": [
             [
              0,
              "#0d0887"
             ],
             [
              0.1111111111111111,
              "#46039f"
             ],
             [
              0.2222222222222222,
              "#7201a8"
             ],
             [
              0.3333333333333333,
              "#9c179e"
             ],
             [
              0.4444444444444444,
              "#bd3786"
             ],
             [
              0.5555555555555556,
              "#d8576b"
             ],
             [
              0.6666666666666666,
              "#ed7953"
             ],
             [
              0.7777777777777778,
              "#fb9f3a"
             ],
             [
              0.8888888888888888,
              "#fdca26"
             ],
             [
              1,
              "#f0f921"
             ]
            ],
            "type": "histogram2d"
           }
          ],
          "histogram2dcontour": [
           {
            "colorbar": {
             "outlinewidth": 0,
             "ticks": ""
            },
            "colorscale": [
             [
              0,
              "#0d0887"
             ],
             [
              0.1111111111111111,
              "#46039f"
             ],
             [
              0.2222222222222222,
              "#7201a8"
             ],
             [
              0.3333333333333333,
              "#9c179e"
             ],
             [
              0.4444444444444444,
              "#bd3786"
             ],
             [
              0.5555555555555556,
              "#d8576b"
             ],
             [
              0.6666666666666666,
              "#ed7953"
             ],
             [
              0.7777777777777778,
              "#fb9f3a"
             ],
             [
              0.8888888888888888,
              "#fdca26"
             ],
             [
              1,
              "#f0f921"
             ]
            ],
            "type": "histogram2dcontour"
           }
          ],
          "mesh3d": [
           {
            "colorbar": {
             "outlinewidth": 0,
             "ticks": ""
            },
            "type": "mesh3d"
           }
          ],
          "parcoords": [
           {
            "line": {
             "colorbar": {
              "outlinewidth": 0,
              "ticks": ""
             }
            },
            "type": "parcoords"
           }
          ],
          "pie": [
           {
            "automargin": true,
            "type": "pie"
           }
          ],
          "scatter": [
           {
            "marker": {
             "colorbar": {
              "outlinewidth": 0,
              "ticks": ""
             }
            },
            "type": "scatter"
           }
          ],
          "scatter3d": [
           {
            "line": {
             "colorbar": {
              "outlinewidth": 0,
              "ticks": ""
             }
            },
            "marker": {
             "colorbar": {
              "outlinewidth": 0,
              "ticks": ""
             }
            },
            "type": "scatter3d"
           }
          ],
          "scattercarpet": [
           {
            "marker": {
             "colorbar": {
              "outlinewidth": 0,
              "ticks": ""
             }
            },
            "type": "scattercarpet"
           }
          ],
          "scattergeo": [
           {
            "marker": {
             "colorbar": {
              "outlinewidth": 0,
              "ticks": ""
             }
            },
            "type": "scattergeo"
           }
          ],
          "scattergl": [
           {
            "marker": {
             "colorbar": {
              "outlinewidth": 0,
              "ticks": ""
             }
            },
            "type": "scattergl"
           }
          ],
          "scattermapbox": [
           {
            "marker": {
             "colorbar": {
              "outlinewidth": 0,
              "ticks": ""
             }
            },
            "type": "scattermapbox"
           }
          ],
          "scatterpolar": [
           {
            "marker": {
             "colorbar": {
              "outlinewidth": 0,
              "ticks": ""
             }
            },
            "type": "scatterpolar"
           }
          ],
          "scatterpolargl": [
           {
            "marker": {
             "colorbar": {
              "outlinewidth": 0,
              "ticks": ""
             }
            },
            "type": "scatterpolargl"
           }
          ],
          "scatterternary": [
           {
            "marker": {
             "colorbar": {
              "outlinewidth": 0,
              "ticks": ""
             }
            },
            "type": "scatterternary"
           }
          ],
          "surface": [
           {
            "colorbar": {
             "outlinewidth": 0,
             "ticks": ""
            },
            "colorscale": [
             [
              0,
              "#0d0887"
             ],
             [
              0.1111111111111111,
              "#46039f"
             ],
             [
              0.2222222222222222,
              "#7201a8"
             ],
             [
              0.3333333333333333,
              "#9c179e"
             ],
             [
              0.4444444444444444,
              "#bd3786"
             ],
             [
              0.5555555555555556,
              "#d8576b"
             ],
             [
              0.6666666666666666,
              "#ed7953"
             ],
             [
              0.7777777777777778,
              "#fb9f3a"
             ],
             [
              0.8888888888888888,
              "#fdca26"
             ],
             [
              1,
              "#f0f921"
             ]
            ],
            "type": "surface"
           }
          ],
          "table": [
           {
            "cells": {
             "fill": {
              "color": "#EBF0F8"
             },
             "line": {
              "color": "white"
             }
            },
            "header": {
             "fill": {
              "color": "#C8D4E3"
             },
             "line": {
              "color": "white"
             }
            },
            "type": "table"
           }
          ]
         },
         "layout": {
          "annotationdefaults": {
           "arrowcolor": "#2a3f5f",
           "arrowhead": 0,
           "arrowwidth": 1
          },
          "coloraxis": {
           "colorbar": {
            "outlinewidth": 0,
            "ticks": ""
           }
          },
          "colorscale": {
           "diverging": [
            [
             0,
             "#8e0152"
            ],
            [
             0.1,
             "#c51b7d"
            ],
            [
             0.2,
             "#de77ae"
            ],
            [
             0.3,
             "#f1b6da"
            ],
            [
             0.4,
             "#fde0ef"
            ],
            [
             0.5,
             "#f7f7f7"
            ],
            [
             0.6,
             "#e6f5d0"
            ],
            [
             0.7,
             "#b8e186"
            ],
            [
             0.8,
             "#7fbc41"
            ],
            [
             0.9,
             "#4d9221"
            ],
            [
             1,
             "#276419"
            ]
           ],
           "sequential": [
            [
             0,
             "#0d0887"
            ],
            [
             0.1111111111111111,
             "#46039f"
            ],
            [
             0.2222222222222222,
             "#7201a8"
            ],
            [
             0.3333333333333333,
             "#9c179e"
            ],
            [
             0.4444444444444444,
             "#bd3786"
            ],
            [
             0.5555555555555556,
             "#d8576b"
            ],
            [
             0.6666666666666666,
             "#ed7953"
            ],
            [
             0.7777777777777778,
             "#fb9f3a"
            ],
            [
             0.8888888888888888,
             "#fdca26"
            ],
            [
             1,
             "#f0f921"
            ]
           ],
           "sequentialminus": [
            [
             0,
             "#0d0887"
            ],
            [
             0.1111111111111111,
             "#46039f"
            ],
            [
             0.2222222222222222,
             "#7201a8"
            ],
            [
             0.3333333333333333,
             "#9c179e"
            ],
            [
             0.4444444444444444,
             "#bd3786"
            ],
            [
             0.5555555555555556,
             "#d8576b"
            ],
            [
             0.6666666666666666,
             "#ed7953"
            ],
            [
             0.7777777777777778,
             "#fb9f3a"
            ],
            [
             0.8888888888888888,
             "#fdca26"
            ],
            [
             1,
             "#f0f921"
            ]
           ]
          },
          "colorway": [
           "#636efa",
           "#EF553B",
           "#00cc96",
           "#ab63fa",
           "#FFA15A",
           "#19d3f3",
           "#FF6692",
           "#B6E880",
           "#FF97FF",
           "#FECB52"
          ],
          "font": {
           "color": "#2a3f5f"
          },
          "geo": {
           "bgcolor": "white",
           "lakecolor": "white",
           "landcolor": "#E5ECF6",
           "showlakes": true,
           "showland": true,
           "subunitcolor": "white"
          },
          "hoverlabel": {
           "align": "left"
          },
          "hovermode": "closest",
          "mapbox": {
           "style": "light"
          },
          "paper_bgcolor": "white",
          "plot_bgcolor": "#E5ECF6",
          "polar": {
           "angularaxis": {
            "gridcolor": "white",
            "linecolor": "white",
            "ticks": ""
           },
           "bgcolor": "#E5ECF6",
           "radialaxis": {
            "gridcolor": "white",
            "linecolor": "white",
            "ticks": ""
           }
          },
          "scene": {
           "xaxis": {
            "backgroundcolor": "#E5ECF6",
            "gridcolor": "white",
            "gridwidth": 2,
            "linecolor": "white",
            "showbackground": true,
            "ticks": "",
            "zerolinecolor": "white"
           },
           "yaxis": {
            "backgroundcolor": "#E5ECF6",
            "gridcolor": "white",
            "gridwidth": 2,
            "linecolor": "white",
            "showbackground": true,
            "ticks": "",
            "zerolinecolor": "white"
           },
           "zaxis": {
            "backgroundcolor": "#E5ECF6",
            "gridcolor": "white",
            "gridwidth": 2,
            "linecolor": "white",
            "showbackground": true,
            "ticks": "",
            "zerolinecolor": "white"
           }
          },
          "shapedefaults": {
           "line": {
            "color": "#2a3f5f"
           }
          },
          "ternary": {
           "aaxis": {
            "gridcolor": "white",
            "linecolor": "white",
            "ticks": ""
           },
           "baxis": {
            "gridcolor": "white",
            "linecolor": "white",
            "ticks": ""
           },
           "bgcolor": "#E5ECF6",
           "caxis": {
            "gridcolor": "white",
            "linecolor": "white",
            "ticks": ""
           }
          },
          "title": {
           "x": 0.05
          },
          "xaxis": {
           "automargin": true,
           "gridcolor": "white",
           "linecolor": "white",
           "ticks": "",
           "title": {
            "standoff": 15
           },
           "zerolinecolor": "white",
           "zerolinewidth": 2
          },
          "yaxis": {
           "automargin": true,
           "gridcolor": "white",
           "linecolor": "white",
           "ticks": "",
           "title": {
            "standoff": 15
           },
           "zerolinecolor": "white",
           "zerolinewidth": 2
          }
         }
        },
        "title": {
         "text": "Stats of confirmed cases: China vs. Rest of world",
         "x": 0.5
        },
        "xaxis": {
         "anchor": "y",
         "domain": [
          0,
          1
         ],
         "title": {
          "text": "Agrupation by countries: China vs. Rest of the world"
         }
        },
        "yaxis": {
         "anchor": "x",
         "domain": [
          0,
          1
         ],
         "title": {
          "text": "Confirmed cases of Coronavirus"
         }
        }
       }
      },
      "text/html": [
       "<div>\n",
       "        \n",
       "        \n",
       "            <div id=\"d2d828e3-0715-4a4e-bdc0-6fa18a1812ee\" class=\"plotly-graph-div\" style=\"height:525px; width:100%;\"></div>\n",
       "            <script type=\"text/javascript\">\n",
       "                require([\"plotly\"], function(Plotly) {\n",
       "                    window.PLOTLYENV=window.PLOTLYENV || {};\n",
       "                    \n",
       "                if (document.getElementById(\"d2d828e3-0715-4a4e-bdc0-6fa18a1812ee\")) {\n",
       "                    Plotly.newPlot(\n",
       "                        'd2d828e3-0715-4a4e-bdc0-6fa18a1812ee',\n",
       "                        [{\"alignmentgroup\": \"True\", \"boxpoints\": \"all\", \"hoverlabel\": {\"namelength\": 0}, \"hovertemplate\": \"Agrupation by countries: China vs. Rest of the world=%{x}<br>Confirmed cases of Coronavirus=%{y}\", \"legendgroup\": \"\", \"marker\": {\"color\": \"#636efa\"}, \"name\": \"\", \"notched\": false, \"offsetgroup\": \"\", \"orientation\": \"v\", \"showlegend\": false, \"type\": \"box\", \"x\": [\"China\", \"China\", \"China\", \"China\", \"China\", \"China\", \"China\", \"China\", \"China\", \"China\", \"China\", \"China\", \"China\", \"China\", \"China\", \"China\", \"China\", \"China\", \"China\", \"China\", \"China\", \"China\", \"China\", \"China\", \"China\", \"China\", \"China\", \"China\", \"China\", \"China\", \"China\", \"China\", \"China\", \"China\", \"China\", \"China\", \"China\", \"China\", \"China\", \"China\", \"China\", \"China\", \"China\", \"China\", \"China\", \"China\", \"China\", \"China\", \"China\", \"China\", \"China\", \"China\", \"China\", \"China\", \"China\", \"China\", \"China\", \"China\", \"China\", \"Other Countries\", \"Other Countries\", \"Other Countries\", \"Other Countries\", \"Other Countries\", \"Other Countries\", \"Other Countries\", \"Other Countries\", \"Other Countries\", \"Other Countries\", \"Other Countries\", \"Other Countries\", \"Other Countries\", \"Other Countries\", \"Other Countries\", \"Other Countries\", \"Other Countries\", \"Other Countries\", \"Other Countries\", \"Other Countries\", \"Other Countries\", \"Other Countries\", \"Other Countries\", \"Other Countries\", \"Other Countries\", \"Other Countries\", \"Other Countries\", \"Other Countries\", \"Other Countries\", \"Other Countries\", \"Other Countries\", \"Other Countries\", \"Other Countries\", \"Other Countries\", \"Other Countries\", \"Other Countries\", \"Other Countries\", \"Other Countries\", \"Other Countries\", \"Other Countries\", \"Other Countries\", \"Other Countries\", \"Other Countries\", \"Other Countries\", \"Other Countries\", \"Other Countries\", \"Other Countries\", \"Other Countries\", \"Other Countries\", \"Other Countries\", \"Other Countries\", \"Other Countries\", \"Other Countries\", \"Other Countries\", \"Other Countries\", \"Other Countries\", \"Other Countries\", \"Other Countries\", \"Other Countries\"], \"x0\": \" \", \"xaxis\": \"x\", \"y\": [548, 643, 920, 1406, 2075, 2877, 5509, 6087, 8141, 9802, 11891, 16630, 19716, 23707, 27440, 30587, 34110, 36814, 39829, 42354, 44386, 44759, 59895, 66358, 68413, 70513, 72434, 74211, 74619, 75077, 75550, 77001, 77022, 77241, 77754, 78166, 78600, 78928, 79356, 79932, 80136, 80261, 80386, 80537, 80690, 80770, 80823, 80860, 80887, 80921, 80932, 80945, 80977, 81003, 81033, 81058, 81102, 81156, 81250, 7, 10, 21, 28, 43, 50, 69, 79, 93, 125, 147, 157, 165, 185, 195, 230, 281, 306, 321, 408, 416, 462, 473, 527, 617, 711, 824, 925, 1020, 1120, 1273, 1578, 1943, 2327, 2659, 3229, 4154, 5192, 6655, 8437, 10170, 12579, 14734, 17345, 21094, 25051, 28972, 32701, 37705, 44945, 47412, 64255, 75128, 86455, 100526, 116094, 133810, 161552, 190917], \"y0\": \" \", \"yaxis\": \"y\"}],\n",
       "                        {\"boxmode\": \"group\", \"legend\": {\"tracegroupgap\": 0}, \"margin\": {\"t\": 60}, \"template\": {\"data\": {\"bar\": [{\"error_x\": {\"color\": \"#2a3f5f\"}, \"error_y\": {\"color\": \"#2a3f5f\"}, \"marker\": {\"line\": {\"color\": \"#E5ECF6\", \"width\": 0.5}}, \"type\": \"bar\"}], \"barpolar\": [{\"marker\": {\"line\": {\"color\": \"#E5ECF6\", \"width\": 0.5}}, \"type\": \"barpolar\"}], \"carpet\": [{\"aaxis\": {\"endlinecolor\": \"#2a3f5f\", \"gridcolor\": \"white\", \"linecolor\": \"white\", \"minorgridcolor\": \"white\", \"startlinecolor\": \"#2a3f5f\"}, \"baxis\": {\"endlinecolor\": \"#2a3f5f\", \"gridcolor\": \"white\", \"linecolor\": \"white\", \"minorgridcolor\": \"white\", \"startlinecolor\": \"#2a3f5f\"}, \"type\": \"carpet\"}], \"choropleth\": [{\"colorbar\": {\"outlinewidth\": 0, \"ticks\": \"\"}, \"type\": \"choropleth\"}], \"contour\": [{\"colorbar\": {\"outlinewidth\": 0, \"ticks\": \"\"}, \"colorscale\": [[0.0, \"#0d0887\"], [0.1111111111111111, \"#46039f\"], [0.2222222222222222, \"#7201a8\"], [0.3333333333333333, \"#9c179e\"], [0.4444444444444444, \"#bd3786\"], [0.5555555555555556, \"#d8576b\"], [0.6666666666666666, \"#ed7953\"], [0.7777777777777778, \"#fb9f3a\"], [0.8888888888888888, \"#fdca26\"], [1.0, \"#f0f921\"]], \"type\": \"contour\"}], \"contourcarpet\": [{\"colorbar\": {\"outlinewidth\": 0, \"ticks\": \"\"}, \"type\": \"contourcarpet\"}], \"heatmap\": [{\"colorbar\": {\"outlinewidth\": 0, \"ticks\": \"\"}, \"colorscale\": [[0.0, \"#0d0887\"], [0.1111111111111111, \"#46039f\"], [0.2222222222222222, \"#7201a8\"], [0.3333333333333333, \"#9c179e\"], [0.4444444444444444, \"#bd3786\"], [0.5555555555555556, \"#d8576b\"], [0.6666666666666666, \"#ed7953\"], [0.7777777777777778, \"#fb9f3a\"], [0.8888888888888888, \"#fdca26\"], [1.0, \"#f0f921\"]], \"type\": \"heatmap\"}], \"heatmapgl\": [{\"colorbar\": {\"outlinewidth\": 0, \"ticks\": \"\"}, \"colorscale\": [[0.0, \"#0d0887\"], [0.1111111111111111, \"#46039f\"], [0.2222222222222222, \"#7201a8\"], [0.3333333333333333, \"#9c179e\"], [0.4444444444444444, \"#bd3786\"], [0.5555555555555556, \"#d8576b\"], [0.6666666666666666, \"#ed7953\"], [0.7777777777777778, \"#fb9f3a\"], [0.8888888888888888, \"#fdca26\"], [1.0, \"#f0f921\"]], \"type\": \"heatmapgl\"}], \"histogram\": [{\"marker\": {\"colorbar\": {\"outlinewidth\": 0, \"ticks\": \"\"}}, \"type\": \"histogram\"}], \"histogram2d\": [{\"colorbar\": {\"outlinewidth\": 0, \"ticks\": \"\"}, \"colorscale\": [[0.0, \"#0d0887\"], [0.1111111111111111, \"#46039f\"], [0.2222222222222222, \"#7201a8\"], [0.3333333333333333, \"#9c179e\"], [0.4444444444444444, \"#bd3786\"], [0.5555555555555556, \"#d8576b\"], [0.6666666666666666, \"#ed7953\"], [0.7777777777777778, \"#fb9f3a\"], [0.8888888888888888, \"#fdca26\"], [1.0, \"#f0f921\"]], \"type\": \"histogram2d\"}], \"histogram2dcontour\": [{\"colorbar\": {\"outlinewidth\": 0, \"ticks\": \"\"}, \"colorscale\": [[0.0, \"#0d0887\"], [0.1111111111111111, \"#46039f\"], [0.2222222222222222, \"#7201a8\"], [0.3333333333333333, \"#9c179e\"], [0.4444444444444444, \"#bd3786\"], [0.5555555555555556, \"#d8576b\"], [0.6666666666666666, \"#ed7953\"], [0.7777777777777778, \"#fb9f3a\"], [0.8888888888888888, \"#fdca26\"], [1.0, \"#f0f921\"]], \"type\": \"histogram2dcontour\"}], \"mesh3d\": [{\"colorbar\": {\"outlinewidth\": 0, \"ticks\": \"\"}, \"type\": \"mesh3d\"}], \"parcoords\": [{\"line\": {\"colorbar\": {\"outlinewidth\": 0, \"ticks\": \"\"}}, \"type\": \"parcoords\"}], \"pie\": [{\"automargin\": true, \"type\": \"pie\"}], \"scatter\": [{\"marker\": {\"colorbar\": {\"outlinewidth\": 0, \"ticks\": \"\"}}, \"type\": \"scatter\"}], \"scatter3d\": [{\"line\": {\"colorbar\": {\"outlinewidth\": 0, \"ticks\": \"\"}}, \"marker\": {\"colorbar\": {\"outlinewidth\": 0, \"ticks\": \"\"}}, \"type\": \"scatter3d\"}], \"scattercarpet\": [{\"marker\": {\"colorbar\": {\"outlinewidth\": 0, \"ticks\": \"\"}}, \"type\": \"scattercarpet\"}], \"scattergeo\": [{\"marker\": {\"colorbar\": {\"outlinewidth\": 0, \"ticks\": \"\"}}, \"type\": \"scattergeo\"}], \"scattergl\": [{\"marker\": {\"colorbar\": {\"outlinewidth\": 0, \"ticks\": \"\"}}, \"type\": \"scattergl\"}], \"scattermapbox\": [{\"marker\": {\"colorbar\": {\"outlinewidth\": 0, \"ticks\": \"\"}}, \"type\": \"scattermapbox\"}], \"scatterpolar\": [{\"marker\": {\"colorbar\": {\"outlinewidth\": 0, \"ticks\": \"\"}}, \"type\": \"scatterpolar\"}], \"scatterpolargl\": [{\"marker\": {\"colorbar\": {\"outlinewidth\": 0, \"ticks\": \"\"}}, \"type\": \"scatterpolargl\"}], \"scatterternary\": [{\"marker\": {\"colorbar\": {\"outlinewidth\": 0, \"ticks\": \"\"}}, \"type\": \"scatterternary\"}], \"surface\": [{\"colorbar\": {\"outlinewidth\": 0, \"ticks\": \"\"}, \"colorscale\": [[0.0, \"#0d0887\"], [0.1111111111111111, \"#46039f\"], [0.2222222222222222, \"#7201a8\"], [0.3333333333333333, \"#9c179e\"], [0.4444444444444444, \"#bd3786\"], [0.5555555555555556, \"#d8576b\"], [0.6666666666666666, \"#ed7953\"], [0.7777777777777778, \"#fb9f3a\"], [0.8888888888888888, \"#fdca26\"], [1.0, \"#f0f921\"]], \"type\": \"surface\"}], \"table\": [{\"cells\": {\"fill\": {\"color\": \"#EBF0F8\"}, \"line\": {\"color\": \"white\"}}, \"header\": {\"fill\": {\"color\": \"#C8D4E3\"}, \"line\": {\"color\": \"white\"}}, \"type\": \"table\"}]}, \"layout\": {\"annotationdefaults\": {\"arrowcolor\": \"#2a3f5f\", \"arrowhead\": 0, \"arrowwidth\": 1}, \"coloraxis\": {\"colorbar\": {\"outlinewidth\": 0, \"ticks\": \"\"}}, \"colorscale\": {\"diverging\": [[0, \"#8e0152\"], [0.1, \"#c51b7d\"], [0.2, \"#de77ae\"], [0.3, \"#f1b6da\"], [0.4, \"#fde0ef\"], [0.5, \"#f7f7f7\"], [0.6, \"#e6f5d0\"], [0.7, \"#b8e186\"], [0.8, \"#7fbc41\"], [0.9, \"#4d9221\"], [1, \"#276419\"]], \"sequential\": [[0.0, \"#0d0887\"], [0.1111111111111111, \"#46039f\"], [0.2222222222222222, \"#7201a8\"], [0.3333333333333333, \"#9c179e\"], [0.4444444444444444, \"#bd3786\"], [0.5555555555555556, \"#d8576b\"], [0.6666666666666666, \"#ed7953\"], [0.7777777777777778, \"#fb9f3a\"], [0.8888888888888888, \"#fdca26\"], [1.0, \"#f0f921\"]], \"sequentialminus\": [[0.0, \"#0d0887\"], [0.1111111111111111, \"#46039f\"], [0.2222222222222222, \"#7201a8\"], [0.3333333333333333, \"#9c179e\"], [0.4444444444444444, \"#bd3786\"], [0.5555555555555556, \"#d8576b\"], [0.6666666666666666, \"#ed7953\"], [0.7777777777777778, \"#fb9f3a\"], [0.8888888888888888, \"#fdca26\"], [1.0, \"#f0f921\"]]}, \"colorway\": [\"#636efa\", \"#EF553B\", \"#00cc96\", \"#ab63fa\", \"#FFA15A\", \"#19d3f3\", \"#FF6692\", \"#B6E880\", \"#FF97FF\", \"#FECB52\"], \"font\": {\"color\": \"#2a3f5f\"}, \"geo\": {\"bgcolor\": \"white\", \"lakecolor\": \"white\", \"landcolor\": \"#E5ECF6\", \"showlakes\": true, \"showland\": true, \"subunitcolor\": \"white\"}, \"hoverlabel\": {\"align\": \"left\"}, \"hovermode\": \"closest\", \"mapbox\": {\"style\": \"light\"}, \"paper_bgcolor\": \"white\", \"plot_bgcolor\": \"#E5ECF6\", \"polar\": {\"angularaxis\": {\"gridcolor\": \"white\", \"linecolor\": \"white\", \"ticks\": \"\"}, \"bgcolor\": \"#E5ECF6\", \"radialaxis\": {\"gridcolor\": \"white\", \"linecolor\": \"white\", \"ticks\": \"\"}}, \"scene\": {\"xaxis\": {\"backgroundcolor\": \"#E5ECF6\", \"gridcolor\": \"white\", \"gridwidth\": 2, \"linecolor\": \"white\", \"showbackground\": true, \"ticks\": \"\", \"zerolinecolor\": \"white\"}, \"yaxis\": {\"backgroundcolor\": \"#E5ECF6\", \"gridcolor\": \"white\", \"gridwidth\": 2, \"linecolor\": \"white\", \"showbackground\": true, \"ticks\": \"\", \"zerolinecolor\": \"white\"}, \"zaxis\": {\"backgroundcolor\": \"#E5ECF6\", \"gridcolor\": \"white\", \"gridwidth\": 2, \"linecolor\": \"white\", \"showbackground\": true, \"ticks\": \"\", \"zerolinecolor\": \"white\"}}, \"shapedefaults\": {\"line\": {\"color\": \"#2a3f5f\"}}, \"ternary\": {\"aaxis\": {\"gridcolor\": \"white\", \"linecolor\": \"white\", \"ticks\": \"\"}, \"baxis\": {\"gridcolor\": \"white\", \"linecolor\": \"white\", \"ticks\": \"\"}, \"bgcolor\": \"#E5ECF6\", \"caxis\": {\"gridcolor\": \"white\", \"linecolor\": \"white\", \"ticks\": \"\"}}, \"title\": {\"x\": 0.05}, \"xaxis\": {\"automargin\": true, \"gridcolor\": \"white\", \"linecolor\": \"white\", \"ticks\": \"\", \"title\": {\"standoff\": 15}, \"zerolinecolor\": \"white\", \"zerolinewidth\": 2}, \"yaxis\": {\"automargin\": true, \"gridcolor\": \"white\", \"linecolor\": \"white\", \"ticks\": \"\", \"title\": {\"standoff\": 15}, \"zerolinecolor\": \"white\", \"zerolinewidth\": 2}}}, \"title\": {\"text\": \"Stats of confirmed cases: China vs. Rest of world\", \"x\": 0.5}, \"xaxis\": {\"anchor\": \"y\", \"domain\": [0.0, 1.0], \"title\": {\"text\": \"Agrupation by countries: China vs. Rest of the world\"}}, \"yaxis\": {\"anchor\": \"x\", \"domain\": [0.0, 1.0], \"title\": {\"text\": \"Confirmed cases of Coronavirus\"}}},\n",
       "                        {\"responsive\": true}\n",
       "                    ).then(function(){\n",
       "                            \n",
       "var gd = document.getElementById('d2d828e3-0715-4a4e-bdc0-6fa18a1812ee');\n",
       "var x = new MutationObserver(function (mutations, observer) {{\n",
       "        var display = window.getComputedStyle(gd).display;\n",
       "        if (!display || display === 'none') {{\n",
       "            console.log([gd, 'removed!']);\n",
       "            Plotly.purge(gd);\n",
       "            observer.disconnect();\n",
       "        }}\n",
       "}});\n",
       "\n",
       "// Listen for the removal of the full notebook cells\n",
       "var notebookContainer = gd.closest('#notebook-container');\n",
       "if (notebookContainer) {{\n",
       "    x.observe(notebookContainer, {childList: true});\n",
       "}}\n",
       "\n",
       "// Listen for the clearing of the current output cell\n",
       "var outputEl = gd.closest('.output');\n",
       "if (outputEl) {{\n",
       "    x.observe(outputEl, {childList: true});\n",
       "}}\n",
       "\n",
       "                        })\n",
       "                };\n",
       "                });\n",
       "            </script>\n",
       "        </div>"
      ]
     },
     "metadata": {},
     "output_type": "display_data"
    }
   ],
   "source": [
    "fig = px.box(df_china_row, y=\"confirmed\", x='class', \n",
    "             labels={'confirmed': f'Confirmed cases of Coronavirus',\n",
    "            'class':'Agrupation by countries: China vs. Rest of the world'},\n",
    "             points=\"all\")\n",
    "fig.update_layout(title_text=\"Stats of confirmed cases: China vs. Rest of world\", title_x=0.5)\n",
    "fig.show()"
   ]
  },
  {
   "cell_type": "markdown",
   "metadata": {},
   "source": [
    "**Insights:**\n",
    "\n",
    "En este gráfico no se puede sacar muchos insights ya que la curva de tiempo de la evolución del virus en China está en un estado de descenso, mientras que en el resto del mundo está ascendiendo. Lo que sí se puede ver es que la gravedad de los casos en el mundo ya está superando a China y se deben estudiar en los próximos días la evolución en los países más afectados de forma separada. "
   ]
  },
  {
   "cell_type": "markdown",
   "metadata": {},
   "source": [
    "# Bonus track: Geoplot: Casos informados de coronavirus por países"
   ]
  },
  {
   "cell_type": "code",
   "execution_count": 15,
   "metadata": {
    "ExecuteTime": {
     "end_time": "2020-03-21T12:55:27.078639Z",
     "start_time": "2020-03-21T12:55:21.722314Z"
    }
   },
   "outputs": [
    {
     "data": {
      "application/vnd.jupyter.widget-view+json": {
       "model_id": "16c0e9c421cb47f0806a3d244713a872",
       "version_major": 2,
       "version_minor": 0
      },
      "text/plain": [
       "interactive(children=(Dropdown(description='scope', options=('World', 'USA', 'Europe', 'Asia', 'Africa', 'Nort…"
      ]
     },
     "metadata": {},
     "output_type": "display_data"
    }
   ],
   "source": [
    "col_vars = ['confirmed','deaths', 'recovered', 'existing']\n",
    "scope_vars = ['World', 'USA', 'Europe', 'Asia', 'Africa', 'North America', 'South America']\n",
    "\n",
    "df_countries = df_coronavirus.groupby(['country','date'])[col_vars].agg('sum').reset_index()\n",
    "\n",
    "def make_scatter(scope): \n",
    "    fig = px.scatter_geo(df_coronavirus, lon = df_coronavirus['longitude'], lat = df_coronavirus['latitude'], #color=\"continent\",\n",
    "                     scope=scope.lower(),\n",
    "                     hover_name=df_coronavirus['country'], \n",
    "                     size=df_coronavirus['confirmed'],\n",
    "                     size_max=50,\n",
    "                     animation_frame=df_coronavirus.date.dt.strftime('%Y-%m-%d'))  \n",
    "    fig.update_layout(title_text=\"Evolución de casos confirmados a nivel mundial\", title_x=0.5, margin_l=0)\n",
    "    fig.show()\n",
    "\n",
    "_= interact(make_scatter, scope = (scope_vars))"
   ]
  },
  {
   "cell_type": "markdown",
   "metadata": {},
   "source": [
    "**Insights:**\n",
    "\n",
    "Hace un par de meses China era el protagonista mundial de este gráfico, sin embargo el panorama actual es distinto, ya que el virus se ha diseminado por toda Europa."
   ]
  }
 ],
 "metadata": {
  "kernelspec": {
   "display_name": "Python 3",
   "language": "python",
   "name": "python3"
  },
  "language_info": {
   "codemirror_mode": {
    "name": "ipython",
    "version": 3
   },
   "file_extension": ".py",
   "mimetype": "text/x-python",
   "name": "python",
   "nbconvert_exporter": "python",
   "pygments_lexer": "ipython3",
   "version": "3.7.1"
  },
  "latex_envs": {
   "LaTeX_envs_menu_present": true,
   "autoclose": false,
   "autocomplete": true,
   "bibliofile": "biblio.bib",
   "cite_by": "apalike",
   "current_citInitial": 1,
   "eqLabelWithNumbers": true,
   "eqNumInitial": 1,
   "hotkeys": {
    "equation": "Ctrl-E",
    "itemize": "Ctrl-I"
   },
   "labels_anchors": false,
   "latex_user_defs": false,
   "report_style_numbering": false,
   "user_envs_cfg": false
  },
  "toc": {
   "base_numbering": 1,
   "nav_menu": {},
   "number_sections": true,
   "sideBar": true,
   "skip_h1_title": false,
   "title_cell": "Table of Contents",
   "title_sidebar": "Contents",
   "toc_cell": false,
   "toc_position": {},
   "toc_section_display": true,
   "toc_window_display": false
  },
  "varInspector": {
   "cols": {
    "lenName": 16,
    "lenType": 16,
    "lenVar": 40
   },
   "kernels_config": {
    "python": {
     "delete_cmd_postfix": "",
     "delete_cmd_prefix": "del ",
     "library": "var_list.py",
     "varRefreshCmd": "print(var_dic_list())"
    },
    "r": {
     "delete_cmd_postfix": ") ",
     "delete_cmd_prefix": "rm(",
     "library": "var_list.r",
     "varRefreshCmd": "cat(var_dic_list()) "
    }
   },
   "types_to_exclude": [
    "module",
    "function",
    "builtin_function_or_method",
    "instance",
    "_Feature"
   ],
   "window_display": false
  }
 },
 "nbformat": 4,
 "nbformat_minor": 4
}
