{
 "cells": [
  {
   "cell_type": "markdown",
   "metadata": {},
   "source": [
    "# Importamos librería"
   ]
  },
  {
   "cell_type": "code",
   "execution_count": 22,
   "metadata": {
    "ExecuteTime": {
     "end_time": "2020-03-22T17:20:00.133396Z",
     "start_time": "2020-03-22T17:20:00.118433Z"
    }
   },
   "outputs": [
    {
     "data": {
      "text/html": [
       "        <script type=\"text/javascript\">\n",
       "        window.PlotlyConfig = {MathJaxConfig: 'local'};\n",
       "        if (window.MathJax) {MathJax.Hub.Config({SVG: {font: \"STIX-Web\"}});}\n",
       "        if (typeof require !== 'undefined') {\n",
       "        require.undef(\"plotly\");\n",
       "        requirejs.config({\n",
       "            paths: {\n",
       "                'plotly': ['https://cdn.plot.ly/plotly-latest.min']\n",
       "            }\n",
       "        });\n",
       "        require(['plotly'], function(Plotly) {\n",
       "            window._Plotly = Plotly;\n",
       "        });\n",
       "        }\n",
       "        </script>\n",
       "        "
      ]
     },
     "metadata": {},
     "output_type": "display_data"
    }
   ],
   "source": [
    "import pandas as pd\n",
    "import chart_studio.plotly as py\n",
    "from plotly.subplots import make_subplots\n",
    "import plotly.graph_objects as go\n",
    "import cufflinks as cf\n",
    "from datetime import datetime\n",
    "from ipywidgets import interact\n",
    "import numpy as np\n",
    "import plotly.express as px\n",
    "import matplotlib.pyplot as plt\n",
    "import warnings\n",
    "import cartopy\n",
    "warnings.filterwarnings('ignore')\n",
    "import plotly.offline as off\n",
    "import json\n",
    "import requests\n",
    "from pandas.io.json import json_normalize\n",
    "import re\n",
    "cf.go_offline()"
   ]
  },
  {
   "cell_type": "markdown",
   "metadata": {},
   "source": [
    "# Importar datos"
   ]
  },
  {
   "cell_type": "markdown",
   "metadata": {},
   "source": [
    "## API datos coronavirus a nivel mundial"
   ]
  },
  {
   "cell_type": "code",
   "execution_count": 23,
   "metadata": {
    "ExecuteTime": {
     "end_time": "2020-03-22T17:20:06.431074Z",
     "start_time": "2020-03-22T17:20:01.697764Z"
    }
   },
   "outputs": [
    {
     "data": {
      "text/plain": [
       "[{'Country': 'Afghanistan',\n",
       "  'Province': '',\n",
       "  'Lat': 33,\n",
       "  'Lon': 65,\n",
       "  'Date': '2020-01-22T00:00:00Z',\n",
       "  'Cases': 0,\n",
       "  'Status': 'recovered'},\n",
       " {'Country': 'Afghanistan',\n",
       "  'Province': '',\n",
       "  'Lat': 33,\n",
       "  'Lon': 65,\n",
       "  'Date': '2020-01-22T00:00:00Z',\n",
       "  'Cases': 0,\n",
       "  'Status': 'confirmed'},\n",
       " {'Country': 'Afghanistan',\n",
       "  'Province': '',\n",
       "  'Lat': 33,\n",
       "  'Lon': 65,\n",
       "  'Date': '2020-01-22T00:00:00Z',\n",
       "  'Cases': 0,\n",
       "  'Status': 'deaths'},\n",
       " {'Country': 'Afghanistan',\n",
       "  'Province': '',\n",
       "  'Lat': 33,\n",
       "  'Lon': 65,\n",
       "  'Date': '2020-01-23T00:00:00Z',\n",
       "  'Cases': 0,\n",
       "  'Status': 'recovered'},\n",
       " {'Country': 'Afghanistan',\n",
       "  'Province': '',\n",
       "  'Lat': 33,\n",
       "  'Lon': 65,\n",
       "  'Date': '2020-01-23T00:00:00Z',\n",
       "  'Cases': 0,\n",
       "  'Status': 'confirmed'},\n",
       " {'Country': 'Afghanistan',\n",
       "  'Province': '',\n",
       "  'Lat': 33,\n",
       "  'Lon': 65,\n",
       "  'Date': '2020-01-23T00:00:00Z',\n",
       "  'Cases': 0,\n",
       "  'Status': 'deaths'},\n",
       " {'Country': 'Afghanistan',\n",
       "  'Province': '',\n",
       "  'Lat': 33,\n",
       "  'Lon': 65,\n",
       "  'Date': '2020-01-24T00:00:00Z',\n",
       "  'Cases': 0,\n",
       "  'Status': 'recovered'},\n",
       " {'Country': 'Afghanistan',\n",
       "  'Province': '',\n",
       "  'Lat': 33,\n",
       "  'Lon': 65,\n",
       "  'Date': '2020-01-24T00:00:00Z',\n",
       "  'Cases': 0,\n",
       "  'Status': 'confirmed'},\n",
       " {'Country': 'Afghanistan',\n",
       "  'Province': '',\n",
       "  'Lat': 33,\n",
       "  'Lon': 65,\n",
       "  'Date': '2020-01-24T00:00:00Z',\n",
       "  'Cases': 0,\n",
       "  'Status': 'deaths'},\n",
       " {'Country': 'Afghanistan',\n",
       "  'Province': '',\n",
       "  'Lat': 33,\n",
       "  'Lon': 65,\n",
       "  'Date': '2020-01-25T00:00:00Z',\n",
       "  'Cases': 0,\n",
       "  'Status': 'recovered'},\n",
       " {'Country': 'Afghanistan',\n",
       "  'Province': '',\n",
       "  'Lat': 33,\n",
       "  'Lon': 65,\n",
       "  'Date': '2020-01-25T00:00:00Z',\n",
       "  'Cases': 0,\n",
       "  'Status': 'confirmed'},\n",
       " {'Country': 'Afghanistan',\n",
       "  'Province': '',\n",
       "  'Lat': 33,\n",
       "  'Lon': 65,\n",
       "  'Date': '2020-01-25T00:00:00Z',\n",
       "  'Cases': 0,\n",
       "  'Status': 'deaths'},\n",
       " {'Country': 'Afghanistan',\n",
       "  'Province': '',\n",
       "  'Lat': 33,\n",
       "  'Lon': 65,\n",
       "  'Date': '2020-01-26T00:00:00Z',\n",
       "  'Cases': 0,\n",
       "  'Status': 'recovered'},\n",
       " {'Country': 'Afghanistan',\n",
       "  'Province': '',\n",
       "  'Lat': 33,\n",
       "  'Lon': 65,\n",
       "  'Date': '2020-01-26T00:00:00Z',\n",
       "  'Cases': 0,\n",
       "  'Status': 'confirmed'},\n",
       " {'Country': 'Afghanistan',\n",
       "  'Province': '',\n",
       "  'Lat': 33,\n",
       "  'Lon': 65,\n",
       "  'Date': '2020-01-26T00:00:00Z',\n",
       "  'Cases': 0,\n",
       "  'Status': 'deaths'},\n",
       " {'Country': 'Afghanistan',\n",
       "  'Province': '',\n",
       "  'Lat': 33,\n",
       "  'Lon': 65,\n",
       "  'Date': '2020-01-27T00:00:00Z',\n",
       "  'Cases': 0,\n",
       "  'Status': 'recovered'},\n",
       " {'Country': 'Afghanistan',\n",
       "  'Province': '',\n",
       "  'Lat': 33,\n",
       "  'Lon': 65,\n",
       "  'Date': '2020-01-27T00:00:00Z',\n",
       "  'Cases': 0,\n",
       "  'Status': 'confirmed'},\n",
       " {'Country': 'Afghanistan',\n",
       "  'Province': '',\n",
       "  'Lat': 33,\n",
       "  'Lon': 65,\n",
       "  'Date': '2020-01-27T00:00:00Z',\n",
       "  'Cases': 0,\n",
       "  'Status': 'deaths'},\n",
       " {'Country': 'Afghanistan',\n",
       "  'Province': '',\n",
       "  'Lat': 33,\n",
       "  'Lon': 65,\n",
       "  'Date': '2020-01-28T00:00:00Z',\n",
       "  'Cases': 0,\n",
       "  'Status': 'recovered'},\n",
       " {'Country': 'Afghanistan',\n",
       "  'Province': '',\n",
       "  'Lat': 33,\n",
       "  'Lon': 65,\n",
       "  'Date': '2020-01-28T00:00:00Z',\n",
       "  'Cases': 0,\n",
       "  'Status': 'confirmed'},\n",
       " {'Country': 'Afghanistan',\n",
       "  'Province': '',\n",
       "  'Lat': 33,\n",
       "  'Lon': 65,\n",
       "  'Date': '2020-01-28T00:00:00Z',\n",
       "  'Cases': 0,\n",
       "  'Status': 'deaths'},\n",
       " {'Country': 'Afghanistan',\n",
       "  'Province': '',\n",
       "  'Lat': 33,\n",
       "  'Lon': 65,\n",
       "  'Date': '2020-01-29T00:00:00Z',\n",
       "  'Cases': 0,\n",
       "  'Status': 'recovered'},\n",
       " {'Country': 'Afghanistan',\n",
       "  'Province': '',\n",
       "  'Lat': 33,\n",
       "  'Lon': 65,\n",
       "  'Date': '2020-01-29T00:00:00Z',\n",
       "  'Cases': 0,\n",
       "  'Status': 'confirmed'},\n",
       " {'Country': 'Afghanistan',\n",
       "  'Province': '',\n",
       "  'Lat': 33,\n",
       "  'Lon': 65,\n",
       "  'Date': '2020-01-29T00:00:00Z',\n",
       "  'Cases': 0,\n",
       "  'Status': 'deaths'},\n",
       " {'Country': 'Afghanistan',\n",
       "  'Province': '',\n",
       "  'Lat': 33,\n",
       "  'Lon': 65,\n",
       "  'Date': '2020-01-30T00:00:00Z',\n",
       "  'Cases': 0,\n",
       "  'Status': 'recovered'},\n",
       " {'Country': 'Afghanistan',\n",
       "  'Province': '',\n",
       "  'Lat': 33,\n",
       "  'Lon': 65,\n",
       "  'Date': '2020-01-30T00:00:00Z',\n",
       "  'Cases': 0,\n",
       "  'Status': 'confirmed'},\n",
       " {'Country': 'Afghanistan',\n",
       "  'Province': '',\n",
       "  'Lat': 33,\n",
       "  'Lon': 65,\n",
       "  'Date': '2020-01-30T00:00:00Z',\n",
       "  'Cases': 0,\n",
       "  'Status': 'deaths'},\n",
       " {'Country': 'Afghanistan',\n",
       "  'Province': '',\n",
       "  'Lat': 33,\n",
       "  'Lon': 65,\n",
       "  'Date': '2020-01-31T00:00:00Z',\n",
       "  'Cases': 0,\n",
       "  'Status': 'recovered'},\n",
       " {'Country': 'Afghanistan',\n",
       "  'Province': '',\n",
       "  'Lat': 33,\n",
       "  'Lon': 65,\n",
       "  'Date': '2020-01-31T00:00:00Z',\n",
       "  'Cases': 0,\n",
       "  'Status': 'confirmed'},\n",
       " {'Country': 'Afghanistan',\n",
       "  'Province': '',\n",
       "  'Lat': 33,\n",
       "  'Lon': 65,\n",
       "  'Date': '2020-01-31T00:00:00Z',\n",
       "  'Cases': 0,\n",
       "  'Status': 'deaths'},\n",
       " {'Country': 'Afghanistan',\n",
       "  'Province': '',\n",
       "  'Lat': 33,\n",
       "  'Lon': 65,\n",
       "  'Date': '2020-02-01T00:00:00Z',\n",
       "  'Cases': 0,\n",
       "  'Status': 'recovered'},\n",
       " {'Country': 'Afghanistan',\n",
       "  'Province': '',\n",
       "  'Lat': 33,\n",
       "  'Lon': 65,\n",
       "  'Date': '2020-02-01T00:00:00Z',\n",
       "  'Cases': 0,\n",
       "  'Status': 'confirmed'},\n",
       " {'Country': 'Afghanistan',\n",
       "  'Province': '',\n",
       "  'Lat': 33,\n",
       "  'Lon': 65,\n",
       "  'Date': '2020-02-01T00:00:00Z',\n",
       "  'Cases': 0,\n",
       "  'Status': 'deaths'},\n",
       " {'Country': 'Afghanistan',\n",
       "  'Province': '',\n",
       "  'Lat': 33,\n",
       "  'Lon': 65,\n",
       "  'Date': '2020-02-02T00:00:00Z',\n",
       "  'Cases': 0,\n",
       "  'Status': 'recovered'},\n",
       " {'Country': 'Afghanistan',\n",
       "  'Province': '',\n",
       "  'Lat': 33,\n",
       "  'Lon': 65,\n",
       "  'Date': '2020-02-02T00:00:00Z',\n",
       "  'Cases': 0,\n",
       "  'Status': 'confirmed'},\n",
       " {'Country': 'Afghanistan',\n",
       "  'Province': '',\n",
       "  'Lat': 33,\n",
       "  'Lon': 65,\n",
       "  'Date': '2020-02-02T00:00:00Z',\n",
       "  'Cases': 0,\n",
       "  'Status': 'deaths'},\n",
       " {'Country': 'Afghanistan',\n",
       "  'Province': '',\n",
       "  'Lat': 33,\n",
       "  'Lon': 65,\n",
       "  'Date': '2020-02-03T00:00:00Z',\n",
       "  'Cases': 0,\n",
       "  'Status': 'recovered'},\n",
       " {'Country': 'Afghanistan',\n",
       "  'Province': '',\n",
       "  'Lat': 33,\n",
       "  'Lon': 65,\n",
       "  'Date': '2020-02-03T00:00:00Z',\n",
       "  'Cases': 0,\n",
       "  'Status': 'confirmed'},\n",
       " {'Country': 'Afghanistan',\n",
       "  'Province': '',\n",
       "  'Lat': 33,\n",
       "  'Lon': 65,\n",
       "  'Date': '2020-02-03T00:00:00Z',\n",
       "  'Cases': 0,\n",
       "  'Status': 'deaths'},\n",
       " {'Country': 'Afghanistan',\n",
       "  'Province': '',\n",
       "  'Lat': 33,\n",
       "  'Lon': 65,\n",
       "  'Date': '2020-02-04T00:00:00Z',\n",
       "  'Cases': 0,\n",
       "  'Status': 'recovered'},\n",
       " {'Country': 'Afghanistan',\n",
       "  'Province': '',\n",
       "  'Lat': 33,\n",
       "  'Lon': 65,\n",
       "  'Date': '2020-02-04T00:00:00Z',\n",
       "  'Cases': 0,\n",
       "  'Status': 'confirmed'},\n",
       " {'Country': 'Afghanistan',\n",
       "  'Province': '',\n",
       "  'Lat': 33,\n",
       "  'Lon': 65,\n",
       "  'Date': '2020-02-04T00:00:00Z',\n",
       "  'Cases': 0,\n",
       "  'Status': 'deaths'},\n",
       " {'Country': 'Afghanistan',\n",
       "  'Province': '',\n",
       "  'Lat': 33,\n",
       "  'Lon': 65,\n",
       "  'Date': '2020-02-05T00:00:00Z',\n",
       "  'Cases': 0,\n",
       "  'Status': 'recovered'},\n",
       " {'Country': 'Afghanistan',\n",
       "  'Province': '',\n",
       "  'Lat': 33,\n",
       "  'Lon': 65,\n",
       "  'Date': '2020-02-05T00:00:00Z',\n",
       "  'Cases': 0,\n",
       "  'Status': 'confirmed'},\n",
       " {'Country': 'Afghanistan',\n",
       "  'Province': '',\n",
       "  'Lat': 33,\n",
       "  'Lon': 65,\n",
       "  'Date': '2020-02-05T00:00:00Z',\n",
       "  'Cases': 0,\n",
       "  'Status': 'deaths'},\n",
       " {'Country': 'Afghanistan',\n",
       "  'Province': '',\n",
       "  'Lat': 33,\n",
       "  'Lon': 65,\n",
       "  'Date': '2020-02-06T00:00:00Z',\n",
       "  'Cases': 0,\n",
       "  'Status': 'recovered'},\n",
       " {'Country': 'Afghanistan',\n",
       "  'Province': '',\n",
       "  'Lat': 33,\n",
       "  'Lon': 65,\n",
       "  'Date': '2020-02-06T00:00:00Z',\n",
       "  'Cases': 0,\n",
       "  'Status': 'confirmed'},\n",
       " {'Country': 'Afghanistan',\n",
       "  'Province': '',\n",
       "  'Lat': 33,\n",
       "  'Lon': 65,\n",
       "  'Date': '2020-02-06T00:00:00Z',\n",
       "  'Cases': 0,\n",
       "  'Status': 'deaths'},\n",
       " {'Country': 'Afghanistan',\n",
       "  'Province': '',\n",
       "  'Lat': 33,\n",
       "  'Lon': 65,\n",
       "  'Date': '2020-02-07T00:00:00Z',\n",
       "  'Cases': 0,\n",
       "  'Status': 'recovered'},\n",
       " {'Country': 'Afghanistan',\n",
       "  'Province': '',\n",
       "  'Lat': 33,\n",
       "  'Lon': 65,\n",
       "  'Date': '2020-02-07T00:00:00Z',\n",
       "  'Cases': 0,\n",
       "  'Status': 'confirmed'},\n",
       " {'Country': 'Afghanistan',\n",
       "  'Province': '',\n",
       "  'Lat': 33,\n",
       "  'Lon': 65,\n",
       "  'Date': '2020-02-07T00:00:00Z',\n",
       "  'Cases': 0,\n",
       "  'Status': 'deaths'},\n",
       " {'Country': 'Afghanistan',\n",
       "  'Province': '',\n",
       "  'Lat': 33,\n",
       "  'Lon': 65,\n",
       "  'Date': '2020-02-08T00:00:00Z',\n",
       "  'Cases': 0,\n",
       "  'Status': 'recovered'},\n",
       " {'Country': 'Afghanistan',\n",
       "  'Province': '',\n",
       "  'Lat': 33,\n",
       "  'Lon': 65,\n",
       "  'Date': '2020-02-08T00:00:00Z',\n",
       "  'Cases': 0,\n",
       "  'Status': 'confirmed'},\n",
       " {'Country': 'Afghanistan',\n",
       "  'Province': '',\n",
       "  'Lat': 33,\n",
       "  'Lon': 65,\n",
       "  'Date': '2020-02-08T00:00:00Z',\n",
       "  'Cases': 0,\n",
       "  'Status': 'deaths'},\n",
       " {'Country': 'Afghanistan',\n",
       "  'Province': '',\n",
       "  'Lat': 33,\n",
       "  'Lon': 65,\n",
       "  'Date': '2020-02-09T00:00:00Z',\n",
       "  'Cases': 0,\n",
       "  'Status': 'recovered'},\n",
       " {'Country': 'Afghanistan',\n",
       "  'Province': '',\n",
       "  'Lat': 33,\n",
       "  'Lon': 65,\n",
       "  'Date': '2020-02-09T00:00:00Z',\n",
       "  'Cases': 0,\n",
       "  'Status': 'confirmed'},\n",
       " {'Country': 'Afghanistan',\n",
       "  'Province': '',\n",
       "  'Lat': 33,\n",
       "  'Lon': 65,\n",
       "  'Date': '2020-02-09T00:00:00Z',\n",
       "  'Cases': 0,\n",
       "  'Status': 'deaths'},\n",
       " {'Country': 'Afghanistan',\n",
       "  'Province': '',\n",
       "  'Lat': 33,\n",
       "  'Lon': 65,\n",
       "  'Date': '2020-02-10T00:00:00Z',\n",
       "  'Cases': 0,\n",
       "  'Status': 'recovered'},\n",
       " {'Country': 'Afghanistan',\n",
       "  'Province': '',\n",
       "  'Lat': 33,\n",
       "  'Lon': 65,\n",
       "  'Date': '2020-02-10T00:00:00Z',\n",
       "  'Cases': 0,\n",
       "  'Status': 'confirmed'},\n",
       " {'Country': 'Afghanistan',\n",
       "  'Province': '',\n",
       "  'Lat': 33,\n",
       "  'Lon': 65,\n",
       "  'Date': '2020-02-10T00:00:00Z',\n",
       "  'Cases': 0,\n",
       "  'Status': 'deaths'},\n",
       " {'Country': 'Afghanistan',\n",
       "  'Province': '',\n",
       "  'Lat': 33,\n",
       "  'Lon': 65,\n",
       "  'Date': '2020-02-11T00:00:00Z',\n",
       "  'Cases': 0,\n",
       "  'Status': 'recovered'},\n",
       " {'Country': 'Afghanistan',\n",
       "  'Province': '',\n",
       "  'Lat': 33,\n",
       "  'Lon': 65,\n",
       "  'Date': '2020-02-11T00:00:00Z',\n",
       "  'Cases': 0,\n",
       "  'Status': 'confirmed'},\n",
       " {'Country': 'Afghanistan',\n",
       "  'Province': '',\n",
       "  'Lat': 33,\n",
       "  'Lon': 65,\n",
       "  'Date': '2020-02-11T00:00:00Z',\n",
       "  'Cases': 0,\n",
       "  'Status': 'deaths'},\n",
       " {'Country': 'Afghanistan',\n",
       "  'Province': '',\n",
       "  'Lat': 33,\n",
       "  'Lon': 65,\n",
       "  'Date': '2020-02-12T00:00:00Z',\n",
       "  'Cases': 0,\n",
       "  'Status': 'recovered'},\n",
       " {'Country': 'Afghanistan',\n",
       "  'Province': '',\n",
       "  'Lat': 33,\n",
       "  'Lon': 65,\n",
       "  'Date': '2020-02-12T00:00:00Z',\n",
       "  'Cases': 0,\n",
       "  'Status': 'confirmed'},\n",
       " {'Country': 'Afghanistan',\n",
       "  'Province': '',\n",
       "  'Lat': 33,\n",
       "  'Lon': 65,\n",
       "  'Date': '2020-02-12T00:00:00Z',\n",
       "  'Cases': 0,\n",
       "  'Status': 'deaths'},\n",
       " {'Country': 'Afghanistan',\n",
       "  'Province': '',\n",
       "  'Lat': 33,\n",
       "  'Lon': 65,\n",
       "  'Date': '2020-02-13T00:00:00Z',\n",
       "  'Cases': 0,\n",
       "  'Status': 'recovered'},\n",
       " {'Country': 'Afghanistan',\n",
       "  'Province': '',\n",
       "  'Lat': 33,\n",
       "  'Lon': 65,\n",
       "  'Date': '2020-02-13T00:00:00Z',\n",
       "  'Cases': 0,\n",
       "  'Status': 'confirmed'},\n",
       " {'Country': 'Afghanistan',\n",
       "  'Province': '',\n",
       "  'Lat': 33,\n",
       "  'Lon': 65,\n",
       "  'Date': '2020-02-13T00:00:00Z',\n",
       "  'Cases': 0,\n",
       "  'Status': 'deaths'},\n",
       " {'Country': 'Afghanistan',\n",
       "  'Province': '',\n",
       "  'Lat': 33,\n",
       "  'Lon': 65,\n",
       "  'Date': '2020-02-14T00:00:00Z',\n",
       "  'Cases': 0,\n",
       "  'Status': 'recovered'},\n",
       " {'Country': 'Afghanistan',\n",
       "  'Province': '',\n",
       "  'Lat': 33,\n",
       "  'Lon': 65,\n",
       "  'Date': '2020-02-14T00:00:00Z',\n",
       "  'Cases': 0,\n",
       "  'Status': 'confirmed'},\n",
       " {'Country': 'Afghanistan',\n",
       "  'Province': '',\n",
       "  'Lat': 33,\n",
       "  'Lon': 65,\n",
       "  'Date': '2020-02-14T00:00:00Z',\n",
       "  'Cases': 0,\n",
       "  'Status': 'deaths'},\n",
       " {'Country': 'Afghanistan',\n",
       "  'Province': '',\n",
       "  'Lat': 33,\n",
       "  'Lon': 65,\n",
       "  'Date': '2020-02-15T00:00:00Z',\n",
       "  'Cases': 0,\n",
       "  'Status': 'recovered'},\n",
       " {'Country': 'Afghanistan',\n",
       "  'Province': '',\n",
       "  'Lat': 33,\n",
       "  'Lon': 65,\n",
       "  'Date': '2020-02-15T00:00:00Z',\n",
       "  'Cases': 0,\n",
       "  'Status': 'confirmed'},\n",
       " {'Country': 'Afghanistan',\n",
       "  'Province': '',\n",
       "  'Lat': 33,\n",
       "  'Lon': 65,\n",
       "  'Date': '2020-02-15T00:00:00Z',\n",
       "  'Cases': 0,\n",
       "  'Status': 'deaths'},\n",
       " {'Country': 'Afghanistan',\n",
       "  'Province': '',\n",
       "  'Lat': 33,\n",
       "  'Lon': 65,\n",
       "  'Date': '2020-02-16T00:00:00Z',\n",
       "  'Cases': 0,\n",
       "  'Status': 'recovered'},\n",
       " {'Country': 'Afghanistan',\n",
       "  'Province': '',\n",
       "  'Lat': 33,\n",
       "  'Lon': 65,\n",
       "  'Date': '2020-02-16T00:00:00Z',\n",
       "  'Cases': 0,\n",
       "  'Status': 'confirmed'},\n",
       " {'Country': 'Afghanistan',\n",
       "  'Province': '',\n",
       "  'Lat': 33,\n",
       "  'Lon': 65,\n",
       "  'Date': '2020-02-16T00:00:00Z',\n",
       "  'Cases': 0,\n",
       "  'Status': 'deaths'},\n",
       " {'Country': 'Afghanistan',\n",
       "  'Province': '',\n",
       "  'Lat': 33,\n",
       "  'Lon': 65,\n",
       "  'Date': '2020-02-17T00:00:00Z',\n",
       "  'Cases': 0,\n",
       "  'Status': 'recovered'},\n",
       " {'Country': 'Afghanistan',\n",
       "  'Province': '',\n",
       "  'Lat': 33,\n",
       "  'Lon': 65,\n",
       "  'Date': '2020-02-17T00:00:00Z',\n",
       "  'Cases': 0,\n",
       "  'Status': 'confirmed'},\n",
       " {'Country': 'Afghanistan',\n",
       "  'Province': '',\n",
       "  'Lat': 33,\n",
       "  'Lon': 65,\n",
       "  'Date': '2020-02-17T00:00:00Z',\n",
       "  'Cases': 0,\n",
       "  'Status': 'deaths'},\n",
       " {'Country': 'Afghanistan',\n",
       "  'Province': '',\n",
       "  'Lat': 33,\n",
       "  'Lon': 65,\n",
       "  'Date': '2020-02-18T00:00:00Z',\n",
       "  'Cases': 0,\n",
       "  'Status': 'recovered'},\n",
       " {'Country': 'Afghanistan',\n",
       "  'Province': '',\n",
       "  'Lat': 33,\n",
       "  'Lon': 65,\n",
       "  'Date': '2020-02-18T00:00:00Z',\n",
       "  'Cases': 0,\n",
       "  'Status': 'confirmed'},\n",
       " {'Country': 'Afghanistan',\n",
       "  'Province': '',\n",
       "  'Lat': 33,\n",
       "  'Lon': 65,\n",
       "  'Date': '2020-02-18T00:00:00Z',\n",
       "  'Cases': 0,\n",
       "  'Status': 'deaths'},\n",
       " {'Country': 'Afghanistan',\n",
       "  'Province': '',\n",
       "  'Lat': 33,\n",
       "  'Lon': 65,\n",
       "  'Date': '2020-02-19T00:00:00Z',\n",
       "  'Cases': 0,\n",
       "  'Status': 'recovered'},\n",
       " {'Country': 'Afghanistan',\n",
       "  'Province': '',\n",
       "  'Lat': 33,\n",
       "  'Lon': 65,\n",
       "  'Date': '2020-02-19T00:00:00Z',\n",
       "  'Cases': 0,\n",
       "  'Status': 'confirmed'},\n",
       " {'Country': 'Afghanistan',\n",
       "  'Province': '',\n",
       "  'Lat': 33,\n",
       "  'Lon': 65,\n",
       "  'Date': '2020-02-19T00:00:00Z',\n",
       "  'Cases': 0,\n",
       "  'Status': 'deaths'},\n",
       " {'Country': 'Afghanistan',\n",
       "  'Province': '',\n",
       "  'Lat': 33,\n",
       "  'Lon': 65,\n",
       "  'Date': '2020-02-20T00:00:00Z',\n",
       "  'Cases': 0,\n",
       "  'Status': 'recovered'},\n",
       " {'Country': 'Afghanistan',\n",
       "  'Province': '',\n",
       "  'Lat': 33,\n",
       "  'Lon': 65,\n",
       "  'Date': '2020-02-20T00:00:00Z',\n",
       "  'Cases': 0,\n",
       "  'Status': 'confirmed'},\n",
       " {'Country': 'Afghanistan',\n",
       "  'Province': '',\n",
       "  'Lat': 33,\n",
       "  'Lon': 65,\n",
       "  'Date': '2020-02-20T00:00:00Z',\n",
       "  'Cases': 0,\n",
       "  'Status': 'deaths'},\n",
       " {'Country': 'Afghanistan',\n",
       "  'Province': '',\n",
       "  'Lat': 33,\n",
       "  'Lon': 65,\n",
       "  'Date': '2020-02-21T00:00:00Z',\n",
       "  'Cases': 0,\n",
       "  'Status': 'recovered'},\n",
       " {'Country': 'Afghanistan',\n",
       "  'Province': '',\n",
       "  'Lat': 33,\n",
       "  'Lon': 65,\n",
       "  'Date': '2020-02-21T00:00:00Z',\n",
       "  'Cases': 0,\n",
       "  'Status': 'confirmed'},\n",
       " {'Country': 'Afghanistan',\n",
       "  'Province': '',\n",
       "  'Lat': 33,\n",
       "  'Lon': 65,\n",
       "  'Date': '2020-02-21T00:00:00Z',\n",
       "  'Cases': 0,\n",
       "  'Status': 'deaths'},\n",
       " {'Country': 'Afghanistan',\n",
       "  'Province': '',\n",
       "  'Lat': 33,\n",
       "  'Lon': 65,\n",
       "  'Date': '2020-02-22T00:00:00Z',\n",
       "  'Cases': 0,\n",
       "  'Status': 'recovered'},\n",
       " {'Country': 'Afghanistan',\n",
       "  'Province': '',\n",
       "  'Lat': 33,\n",
       "  'Lon': 65,\n",
       "  'Date': '2020-02-22T00:00:00Z',\n",
       "  'Cases': 0,\n",
       "  'Status': 'confirmed'},\n",
       " {'Country': 'Afghanistan',\n",
       "  'Province': '',\n",
       "  'Lat': 33,\n",
       "  'Lon': 65,\n",
       "  'Date': '2020-02-22T00:00:00Z',\n",
       "  'Cases': 0,\n",
       "  'Status': 'deaths'},\n",
       " {'Country': 'Afghanistan',\n",
       "  'Province': '',\n",
       "  'Lat': 33,\n",
       "  'Lon': 65,\n",
       "  'Date': '2020-02-23T00:00:00Z',\n",
       "  'Cases': 0,\n",
       "  'Status': 'recovered'},\n",
       " {'Country': 'Afghanistan',\n",
       "  'Province': '',\n",
       "  'Lat': 33,\n",
       "  'Lon': 65,\n",
       "  'Date': '2020-02-23T00:00:00Z',\n",
       "  'Cases': 0,\n",
       "  'Status': 'confirmed'},\n",
       " {'Country': 'Afghanistan',\n",
       "  'Province': '',\n",
       "  'Lat': 33,\n",
       "  'Lon': 65,\n",
       "  'Date': '2020-02-23T00:00:00Z',\n",
       "  'Cases': 0,\n",
       "  'Status': 'deaths'},\n",
       " {'Country': 'Afghanistan',\n",
       "  'Province': '',\n",
       "  'Lat': 33,\n",
       "  'Lon': 65,\n",
       "  'Date': '2020-02-24T00:00:00Z',\n",
       "  'Cases': 0,\n",
       "  'Status': 'recovered'},\n",
       " {'Country': 'Afghanistan',\n",
       "  'Province': '',\n",
       "  'Lat': 33,\n",
       "  'Lon': 65,\n",
       "  'Date': '2020-02-24T00:00:00Z',\n",
       "  'Cases': 1,\n",
       "  'Status': 'confirmed'},\n",
       " {'Country': 'Afghanistan',\n",
       "  'Province': '',\n",
       "  'Lat': 33,\n",
       "  'Lon': 65,\n",
       "  'Date': '2020-02-24T00:00:00Z',\n",
       "  'Cases': 0,\n",
       "  'Status': 'deaths'},\n",
       " {'Country': 'Afghanistan',\n",
       "  'Province': '',\n",
       "  'Lat': 33,\n",
       "  'Lon': 65,\n",
       "  'Date': '2020-02-25T00:00:00Z',\n",
       "  'Cases': 0,\n",
       "  'Status': 'recovered'},\n",
       " {'Country': 'Afghanistan',\n",
       "  'Province': '',\n",
       "  'Lat': 33,\n",
       "  'Lon': 65,\n",
       "  'Date': '2020-02-25T00:00:00Z',\n",
       "  'Cases': 1,\n",
       "  'Status': 'confirmed'},\n",
       " {'Country': 'Afghanistan',\n",
       "  'Province': '',\n",
       "  'Lat': 33,\n",
       "  'Lon': 65,\n",
       "  'Date': '2020-02-25T00:00:00Z',\n",
       "  'Cases': 0,\n",
       "  'Status': 'deaths'},\n",
       " {'Country': 'Afghanistan',\n",
       "  'Province': '',\n",
       "  'Lat': 33,\n",
       "  'Lon': 65,\n",
       "  'Date': '2020-02-26T00:00:00Z',\n",
       "  'Cases': 0,\n",
       "  'Status': 'recovered'},\n",
       " {'Country': 'Afghanistan',\n",
       "  'Province': '',\n",
       "  'Lat': 33,\n",
       "  'Lon': 65,\n",
       "  'Date': '2020-02-26T00:00:00Z',\n",
       "  'Cases': 1,\n",
       "  'Status': 'confirmed'},\n",
       " {'Country': 'Afghanistan',\n",
       "  'Province': '',\n",
       "  'Lat': 33,\n",
       "  'Lon': 65,\n",
       "  'Date': '2020-02-26T00:00:00Z',\n",
       "  'Cases': 0,\n",
       "  'Status': 'deaths'},\n",
       " {'Country': 'Afghanistan',\n",
       "  'Province': '',\n",
       "  'Lat': 33,\n",
       "  'Lon': 65,\n",
       "  'Date': '2020-02-27T00:00:00Z',\n",
       "  'Cases': 0,\n",
       "  'Status': 'recovered'},\n",
       " {'Country': 'Afghanistan',\n",
       "  'Province': '',\n",
       "  'Lat': 33,\n",
       "  'Lon': 65,\n",
       "  'Date': '2020-02-27T00:00:00Z',\n",
       "  'Cases': 1,\n",
       "  'Status': 'confirmed'},\n",
       " {'Country': 'Afghanistan',\n",
       "  'Province': '',\n",
       "  'Lat': 33,\n",
       "  'Lon': 65,\n",
       "  'Date': '2020-02-27T00:00:00Z',\n",
       "  'Cases': 0,\n",
       "  'Status': 'deaths'},\n",
       " {'Country': 'Afghanistan',\n",
       "  'Province': '',\n",
       "  'Lat': 33,\n",
       "  'Lon': 65,\n",
       "  'Date': '2020-02-28T00:00:00Z',\n",
       "  'Cases': 0,\n",
       "  'Status': 'recovered'},\n",
       " {'Country': 'Afghanistan',\n",
       "  'Province': '',\n",
       "  'Lat': 33,\n",
       "  'Lon': 65,\n",
       "  'Date': '2020-02-28T00:00:00Z',\n",
       "  'Cases': 1,\n",
       "  'Status': 'confirmed'},\n",
       " {'Country': 'Afghanistan',\n",
       "  'Province': '',\n",
       "  'Lat': 33,\n",
       "  'Lon': 65,\n",
       "  'Date': '2020-02-28T00:00:00Z',\n",
       "  'Cases': 0,\n",
       "  'Status': 'deaths'},\n",
       " {'Country': 'Afghanistan',\n",
       "  'Province': '',\n",
       "  'Lat': 33,\n",
       "  'Lon': 65,\n",
       "  'Date': '2020-02-29T00:00:00Z',\n",
       "  'Cases': 0,\n",
       "  'Status': 'recovered'},\n",
       " {'Country': 'Afghanistan',\n",
       "  'Province': '',\n",
       "  'Lat': 33,\n",
       "  'Lon': 65,\n",
       "  'Date': '2020-02-29T00:00:00Z',\n",
       "  'Cases': 1,\n",
       "  'Status': 'confirmed'},\n",
       " {'Country': 'Afghanistan',\n",
       "  'Province': '',\n",
       "  'Lat': 33,\n",
       "  'Lon': 65,\n",
       "  'Date': '2020-02-29T00:00:00Z',\n",
       "  'Cases': 0,\n",
       "  'Status': 'deaths'},\n",
       " {'Country': 'Afghanistan',\n",
       "  'Province': '',\n",
       "  'Lat': 33,\n",
       "  'Lon': 65,\n",
       "  'Date': '2020-03-01T00:00:00Z',\n",
       "  'Cases': 0,\n",
       "  'Status': 'recovered'},\n",
       " {'Country': 'Afghanistan',\n",
       "  'Province': '',\n",
       "  'Lat': 33,\n",
       "  'Lon': 65,\n",
       "  'Date': '2020-03-01T00:00:00Z',\n",
       "  'Cases': 1,\n",
       "  'Status': 'confirmed'},\n",
       " {'Country': 'Afghanistan',\n",
       "  'Province': '',\n",
       "  'Lat': 33,\n",
       "  'Lon': 65,\n",
       "  'Date': '2020-03-01T00:00:00Z',\n",
       "  'Cases': 0,\n",
       "  'Status': 'deaths'},\n",
       " {'Country': 'Afghanistan',\n",
       "  'Province': '',\n",
       "  'Lat': 33,\n",
       "  'Lon': 65,\n",
       "  'Date': '2020-03-02T00:00:00Z',\n",
       "  'Cases': 0,\n",
       "  'Status': 'recovered'},\n",
       " {'Country': 'Afghanistan',\n",
       "  'Province': '',\n",
       "  'Lat': 33,\n",
       "  'Lon': 65,\n",
       "  'Date': '2020-03-02T00:00:00Z',\n",
       "  'Cases': 1,\n",
       "  'Status': 'confirmed'},\n",
       " {'Country': 'Afghanistan',\n",
       "  'Province': '',\n",
       "  'Lat': 33,\n",
       "  'Lon': 65,\n",
       "  'Date': '2020-03-02T00:00:00Z',\n",
       "  'Cases': 0,\n",
       "  'Status': 'deaths'},\n",
       " {'Country': 'Afghanistan',\n",
       "  'Province': '',\n",
       "  'Lat': 33,\n",
       "  'Lon': 65,\n",
       "  'Date': '2020-03-03T00:00:00Z',\n",
       "  'Cases': 0,\n",
       "  'Status': 'recovered'},\n",
       " {'Country': 'Afghanistan',\n",
       "  'Province': '',\n",
       "  'Lat': 33,\n",
       "  'Lon': 65,\n",
       "  'Date': '2020-03-03T00:00:00Z',\n",
       "  'Cases': 1,\n",
       "  'Status': 'confirmed'},\n",
       " {'Country': 'Afghanistan',\n",
       "  'Province': '',\n",
       "  'Lat': 33,\n",
       "  'Lon': 65,\n",
       "  'Date': '2020-03-03T00:00:00Z',\n",
       "  'Cases': 0,\n",
       "  'Status': 'deaths'},\n",
       " {'Country': 'Afghanistan',\n",
       "  'Province': '',\n",
       "  'Lat': 33,\n",
       "  'Lon': 65,\n",
       "  'Date': '2020-03-04T00:00:00Z',\n",
       "  'Cases': 0,\n",
       "  'Status': 'recovered'},\n",
       " {'Country': 'Afghanistan',\n",
       "  'Province': '',\n",
       "  'Lat': 33,\n",
       "  'Lon': 65,\n",
       "  'Date': '2020-03-04T00:00:00Z',\n",
       "  'Cases': 1,\n",
       "  'Status': 'confirmed'},\n",
       " {'Country': 'Afghanistan',\n",
       "  'Province': '',\n",
       "  'Lat': 33,\n",
       "  'Lon': 65,\n",
       "  'Date': '2020-03-04T00:00:00Z',\n",
       "  'Cases': 0,\n",
       "  'Status': 'deaths'},\n",
       " {'Country': 'Afghanistan',\n",
       "  'Province': '',\n",
       "  'Lat': 33,\n",
       "  'Lon': 65,\n",
       "  'Date': '2020-03-05T00:00:00Z',\n",
       "  'Cases': 0,\n",
       "  'Status': 'recovered'},\n",
       " {'Country': 'Afghanistan',\n",
       "  'Province': '',\n",
       "  'Lat': 33,\n",
       "  'Lon': 65,\n",
       "  'Date': '2020-03-05T00:00:00Z',\n",
       "  'Cases': 1,\n",
       "  'Status': 'confirmed'},\n",
       " {'Country': 'Afghanistan',\n",
       "  'Province': '',\n",
       "  'Lat': 33,\n",
       "  'Lon': 65,\n",
       "  'Date': '2020-03-05T00:00:00Z',\n",
       "  'Cases': 0,\n",
       "  'Status': 'deaths'},\n",
       " {'Country': 'Afghanistan',\n",
       "  'Province': '',\n",
       "  'Lat': 33,\n",
       "  'Lon': 65,\n",
       "  'Date': '2020-03-06T00:00:00Z',\n",
       "  'Cases': 0,\n",
       "  'Status': 'recovered'},\n",
       " {'Country': 'Afghanistan',\n",
       "  'Province': '',\n",
       "  'Lat': 33,\n",
       "  'Lon': 65,\n",
       "  'Date': '2020-03-06T00:00:00Z',\n",
       "  'Cases': 1,\n",
       "  'Status': 'confirmed'},\n",
       " {'Country': 'Afghanistan',\n",
       "  'Province': '',\n",
       "  'Lat': 33,\n",
       "  'Lon': 65,\n",
       "  'Date': '2020-03-06T00:00:00Z',\n",
       "  'Cases': 0,\n",
       "  'Status': 'deaths'},\n",
       " {'Country': 'Afghanistan',\n",
       "  'Province': '',\n",
       "  'Lat': 33,\n",
       "  'Lon': 65,\n",
       "  'Date': '2020-03-07T00:00:00Z',\n",
       "  'Cases': 0,\n",
       "  'Status': 'recovered'},\n",
       " {'Country': 'Afghanistan',\n",
       "  'Province': '',\n",
       "  'Lat': 33,\n",
       "  'Lon': 65,\n",
       "  'Date': '2020-03-07T00:00:00Z',\n",
       "  'Cases': 1,\n",
       "  'Status': 'confirmed'},\n",
       " {'Country': 'Afghanistan',\n",
       "  'Province': '',\n",
       "  'Lat': 33,\n",
       "  'Lon': 65,\n",
       "  'Date': '2020-03-07T00:00:00Z',\n",
       "  'Cases': 0,\n",
       "  'Status': 'deaths'},\n",
       " {'Country': 'Afghanistan',\n",
       "  'Province': '',\n",
       "  'Lat': 33,\n",
       "  'Lon': 65,\n",
       "  'Date': '2020-03-08T00:00:00Z',\n",
       "  'Cases': 0,\n",
       "  'Status': 'recovered'},\n",
       " {'Country': 'Afghanistan',\n",
       "  'Province': '',\n",
       "  'Lat': 33,\n",
       "  'Lon': 65,\n",
       "  'Date': '2020-03-08T00:00:00Z',\n",
       "  'Cases': 4,\n",
       "  'Status': 'confirmed'},\n",
       " {'Country': 'Afghanistan',\n",
       "  'Province': '',\n",
       "  'Lat': 33,\n",
       "  'Lon': 65,\n",
       "  'Date': '2020-03-08T00:00:00Z',\n",
       "  'Cases': 0,\n",
       "  'Status': 'deaths'},\n",
       " {'Country': 'Afghanistan',\n",
       "  'Province': '',\n",
       "  'Lat': 33,\n",
       "  'Lon': 65,\n",
       "  'Date': '2020-03-09T00:00:00Z',\n",
       "  'Cases': 0,\n",
       "  'Status': 'recovered'},\n",
       " {'Country': 'Afghanistan',\n",
       "  'Province': '',\n",
       "  'Lat': 33,\n",
       "  'Lon': 65,\n",
       "  'Date': '2020-03-09T00:00:00Z',\n",
       "  'Cases': 4,\n",
       "  'Status': 'confirmed'},\n",
       " {'Country': 'Afghanistan',\n",
       "  'Province': '',\n",
       "  'Lat': 33,\n",
       "  'Lon': 65,\n",
       "  'Date': '2020-03-09T00:00:00Z',\n",
       "  'Cases': 0,\n",
       "  'Status': 'deaths'},\n",
       " {'Country': 'Afghanistan',\n",
       "  'Province': '',\n",
       "  'Lat': 33,\n",
       "  'Lon': 65,\n",
       "  'Date': '2020-03-10T00:00:00Z',\n",
       "  'Cases': 0,\n",
       "  'Status': 'recovered'},\n",
       " {'Country': 'Afghanistan',\n",
       "  'Province': '',\n",
       "  'Lat': 33,\n",
       "  'Lon': 65,\n",
       "  'Date': '2020-03-10T00:00:00Z',\n",
       "  'Cases': 5,\n",
       "  'Status': 'confirmed'},\n",
       " {'Country': 'Afghanistan',\n",
       "  'Province': '',\n",
       "  'Lat': 33,\n",
       "  'Lon': 65,\n",
       "  'Date': '2020-03-10T00:00:00Z',\n",
       "  'Cases': 0,\n",
       "  'Status': 'deaths'},\n",
       " {'Country': 'Afghanistan',\n",
       "  'Province': '',\n",
       "  'Lat': 33,\n",
       "  'Lon': 65,\n",
       "  'Date': '2020-03-11T00:00:00Z',\n",
       "  'Cases': 0,\n",
       "  'Status': 'recovered'},\n",
       " {'Country': 'Afghanistan',\n",
       "  'Province': '',\n",
       "  'Lat': 33,\n",
       "  'Lon': 65,\n",
       "  'Date': '2020-03-11T00:00:00Z',\n",
       "  'Cases': 7,\n",
       "  'Status': 'confirmed'},\n",
       " {'Country': 'Afghanistan',\n",
       "  'Province': '',\n",
       "  'Lat': 33,\n",
       "  'Lon': 65,\n",
       "  'Date': '2020-03-11T00:00:00Z',\n",
       "  'Cases': 0,\n",
       "  'Status': 'deaths'},\n",
       " {'Country': 'Afghanistan',\n",
       "  'Province': '',\n",
       "  'Lat': 33,\n",
       "  'Lon': 65,\n",
       "  'Date': '2020-03-12T00:00:00Z',\n",
       "  'Cases': 0,\n",
       "  'Status': 'recovered'},\n",
       " {'Country': 'Afghanistan',\n",
       "  'Province': '',\n",
       "  'Lat': 33,\n",
       "  'Lon': 65,\n",
       "  'Date': '2020-03-12T00:00:00Z',\n",
       "  'Cases': 7,\n",
       "  'Status': 'confirmed'},\n",
       " {'Country': 'Afghanistan',\n",
       "  'Province': '',\n",
       "  'Lat': 33,\n",
       "  'Lon': 65,\n",
       "  'Date': '2020-03-12T00:00:00Z',\n",
       "  'Cases': 0,\n",
       "  'Status': 'deaths'},\n",
       " {'Country': 'Afghanistan',\n",
       "  'Province': '',\n",
       "  'Lat': 33,\n",
       "  'Lon': 65,\n",
       "  'Date': '2020-03-13T00:00:00Z',\n",
       "  'Cases': 0,\n",
       "  'Status': 'recovered'},\n",
       " {'Country': 'Afghanistan',\n",
       "  'Province': '',\n",
       "  'Lat': 33,\n",
       "  'Lon': 65,\n",
       "  'Date': '2020-03-13T00:00:00Z',\n",
       "  'Cases': 7,\n",
       "  'Status': 'confirmed'},\n",
       " {'Country': 'Afghanistan',\n",
       "  'Province': '',\n",
       "  'Lat': 33,\n",
       "  'Lon': 65,\n",
       "  'Date': '2020-03-13T00:00:00Z',\n",
       "  'Cases': 0,\n",
       "  'Status': 'deaths'},\n",
       " {'Country': 'Afghanistan',\n",
       "  'Province': '',\n",
       "  'Lat': 33,\n",
       "  'Lon': 65,\n",
       "  'Date': '2020-03-14T00:00:00Z',\n",
       "  'Cases': 0,\n",
       "  'Status': 'recovered'},\n",
       " {'Country': 'Afghanistan',\n",
       "  'Province': '',\n",
       "  'Lat': 33,\n",
       "  'Lon': 65,\n",
       "  'Date': '2020-03-14T00:00:00Z',\n",
       "  'Cases': 11,\n",
       "  'Status': 'confirmed'},\n",
       " {'Country': 'Afghanistan',\n",
       "  'Province': '',\n",
       "  'Lat': 33,\n",
       "  'Lon': 65,\n",
       "  'Date': '2020-03-14T00:00:00Z',\n",
       "  'Cases': 0,\n",
       "  'Status': 'deaths'},\n",
       " {'Country': 'Afghanistan',\n",
       "  'Province': '',\n",
       "  'Lat': 33,\n",
       "  'Lon': 65,\n",
       "  'Date': '2020-03-15T00:00:00Z',\n",
       "  'Cases': 0,\n",
       "  'Status': 'recovered'},\n",
       " {'Country': 'Afghanistan',\n",
       "  'Province': '',\n",
       "  'Lat': 33,\n",
       "  'Lon': 65,\n",
       "  'Date': '2020-03-15T00:00:00Z',\n",
       "  'Cases': 16,\n",
       "  'Status': 'confirmed'},\n",
       " {'Country': 'Afghanistan',\n",
       "  'Province': '',\n",
       "  'Lat': 33,\n",
       "  'Lon': 65,\n",
       "  'Date': '2020-03-15T00:00:00Z',\n",
       "  'Cases': 0,\n",
       "  'Status': 'deaths'},\n",
       " {'Country': 'Afghanistan',\n",
       "  'Province': '',\n",
       "  'Lat': 33,\n",
       "  'Lon': 65,\n",
       "  'Date': '2020-03-16T00:00:00Z',\n",
       "  'Cases': 1,\n",
       "  'Status': 'recovered'},\n",
       " {'Country': 'Afghanistan',\n",
       "  'Province': '',\n",
       "  'Lat': 33,\n",
       "  'Lon': 65,\n",
       "  'Date': '2020-03-16T00:00:00Z',\n",
       "  'Cases': 21,\n",
       "  'Status': 'confirmed'},\n",
       " {'Country': 'Afghanistan',\n",
       "  'Province': '',\n",
       "  'Lat': 33,\n",
       "  'Lon': 65,\n",
       "  'Date': '2020-03-16T00:00:00Z',\n",
       "  'Cases': 0,\n",
       "  'Status': 'deaths'},\n",
       " {'Country': 'Afghanistan',\n",
       "  'Province': '',\n",
       "  'Lat': 33,\n",
       "  'Lon': 65,\n",
       "  'Date': '2020-03-17T00:00:00Z',\n",
       "  'Cases': 1,\n",
       "  'Status': 'recovered'},\n",
       " {'Country': 'Afghanistan',\n",
       "  'Province': '',\n",
       "  'Lat': 33,\n",
       "  'Lon': 65,\n",
       "  'Date': '2020-03-17T00:00:00Z',\n",
       "  'Cases': 0,\n",
       "  'Status': 'deaths'},\n",
       " {'Country': 'Afghanistan',\n",
       "  'Province': '',\n",
       "  'Lat': 33,\n",
       "  'Lon': 65,\n",
       "  'Date': '2020-03-17T00:00:00Z',\n",
       "  'Cases': 22,\n",
       "  'Status': 'confirmed'},\n",
       " {'Country': 'Afghanistan',\n",
       "  'Province': '',\n",
       "  'Lat': 33,\n",
       "  'Lon': 65,\n",
       "  'Date': '2020-03-18T00:00:00Z',\n",
       "  'Cases': 1,\n",
       "  'Status': 'recovered'},\n",
       " {'Country': 'Afghanistan',\n",
       "  'Province': '',\n",
       "  'Lat': 33,\n",
       "  'Lon': 65,\n",
       "  'Date': '2020-03-18T00:00:00Z',\n",
       "  'Cases': 0,\n",
       "  'Status': 'deaths'},\n",
       " {'Country': 'Afghanistan',\n",
       "  'Province': '',\n",
       "  'Lat': 33,\n",
       "  'Lon': 65,\n",
       "  'Date': '2020-03-18T00:00:00Z',\n",
       "  'Cases': 22,\n",
       "  'Status': 'confirmed'},\n",
       " {'Country': 'Afghanistan',\n",
       "  'Province': '',\n",
       "  'Lat': 33,\n",
       "  'Lon': 65,\n",
       "  'Date': '2020-03-19T00:00:00Z',\n",
       "  'Cases': 22,\n",
       "  'Status': 'confirmed'},\n",
       " {'Country': 'Afghanistan',\n",
       "  'Province': '',\n",
       "  'Lat': 33,\n",
       "  'Lon': 65,\n",
       "  'Date': '2020-03-19T00:00:00Z',\n",
       "  'Cases': 0,\n",
       "  'Status': 'deaths'},\n",
       " {'Country': 'Afghanistan',\n",
       "  'Province': '',\n",
       "  'Lat': 33,\n",
       "  'Lon': 65,\n",
       "  'Date': '2020-03-19T00:00:00Z',\n",
       "  'Cases': 1,\n",
       "  'Status': 'recovered'},\n",
       " {'Country': 'Afghanistan',\n",
       "  'Province': '',\n",
       "  'Lat': 33,\n",
       "  'Lon': 65,\n",
       "  'Date': '2020-03-20T00:00:00Z',\n",
       "  'Cases': 1,\n",
       "  'Status': 'recovered'},\n",
       " {'Country': 'Afghanistan',\n",
       "  'Province': '',\n",
       "  'Lat': 33,\n",
       "  'Lon': 65,\n",
       "  'Date': '2020-03-20T00:00:00Z',\n",
       "  'Cases': 24,\n",
       "  'Status': 'confirmed'},\n",
       " {'Country': 'Afghanistan',\n",
       "  'Province': '',\n",
       "  'Lat': 33,\n",
       "  'Lon': 65,\n",
       "  'Date': '2020-03-20T00:00:00Z',\n",
       "  'Cases': 0,\n",
       "  'Status': 'deaths'},\n",
       " {'Country': 'Afghanistan',\n",
       "  'Province': '',\n",
       "  'Lat': 33,\n",
       "  'Lon': 65,\n",
       "  'Date': '2020-03-21T00:00:00Z',\n",
       "  'Cases': 1,\n",
       "  'Status': 'recovered'},\n",
       " {'Country': 'Afghanistan',\n",
       "  'Province': '',\n",
       "  'Lat': 33,\n",
       "  'Lon': 65,\n",
       "  'Date': '2020-03-21T00:00:00Z',\n",
       "  'Cases': 0,\n",
       "  'Status': 'deaths'},\n",
       " {'Country': 'Afghanistan',\n",
       "  'Province': '',\n",
       "  'Lat': 33,\n",
       "  'Lon': 65,\n",
       "  'Date': '2020-03-21T00:00:00Z',\n",
       "  'Cases': 24,\n",
       "  'Status': 'confirmed'},\n",
       " {'Country': 'Albania',\n",
       "  'Province': '',\n",
       "  'Lat': 41.1533,\n",
       "  'Lon': 20.1683,\n",
       "  'Date': '2020-01-22T00:00:00Z',\n",
       "  'Cases': 0,\n",
       "  'Status': 'confirmed'},\n",
       " {'Country': 'Albania',\n",
       "  'Province': '',\n",
       "  'Lat': 41.1533,\n",
       "  'Lon': 20.1683,\n",
       "  'Date': '2020-01-22T00:00:00Z',\n",
       "  'Cases': 0,\n",
       "  'Status': 'deaths'},\n",
       " {'Country': 'Albania',\n",
       "  'Province': '',\n",
       "  'Lat': 41.1533,\n",
       "  'Lon': 20.1683,\n",
       "  'Date': '2020-01-22T00:00:00Z',\n",
       "  'Cases': 0,\n",
       "  'Status': 'recovered'},\n",
       " {'Country': 'Albania',\n",
       "  'Province': '',\n",
       "  'Lat': 41.1533,\n",
       "  'Lon': 20.1683,\n",
       "  'Date': '2020-01-23T00:00:00Z',\n",
       "  'Cases': 0,\n",
       "  'Status': 'confirmed'},\n",
       " {'Country': 'Albania',\n",
       "  'Province': '',\n",
       "  'Lat': 41.1533,\n",
       "  'Lon': 20.1683,\n",
       "  'Date': '2020-01-23T00:00:00Z',\n",
       "  'Cases': 0,\n",
       "  'Status': 'deaths'},\n",
       " {'Country': 'Albania',\n",
       "  'Province': '',\n",
       "  'Lat': 41.1533,\n",
       "  'Lon': 20.1683,\n",
       "  'Date': '2020-01-23T00:00:00Z',\n",
       "  'Cases': 0,\n",
       "  'Status': 'recovered'},\n",
       " {'Country': 'Albania',\n",
       "  'Province': '',\n",
       "  'Lat': 41.1533,\n",
       "  'Lon': 20.1683,\n",
       "  'Date': '2020-01-24T00:00:00Z',\n",
       "  'Cases': 0,\n",
       "  'Status': 'confirmed'},\n",
       " {'Country': 'Albania',\n",
       "  'Province': '',\n",
       "  'Lat': 41.1533,\n",
       "  'Lon': 20.1683,\n",
       "  'Date': '2020-01-24T00:00:00Z',\n",
       "  'Cases': 0,\n",
       "  'Status': 'deaths'},\n",
       " {'Country': 'Albania',\n",
       "  'Province': '',\n",
       "  'Lat': 41.1533,\n",
       "  'Lon': 20.1683,\n",
       "  'Date': '2020-01-24T00:00:00Z',\n",
       "  'Cases': 0,\n",
       "  'Status': 'recovered'},\n",
       " {'Country': 'Albania',\n",
       "  'Province': '',\n",
       "  'Lat': 41.1533,\n",
       "  'Lon': 20.1683,\n",
       "  'Date': '2020-01-25T00:00:00Z',\n",
       "  'Cases': 0,\n",
       "  'Status': 'confirmed'},\n",
       " {'Country': 'Albania',\n",
       "  'Province': '',\n",
       "  'Lat': 41.1533,\n",
       "  'Lon': 20.1683,\n",
       "  'Date': '2020-01-25T00:00:00Z',\n",
       "  'Cases': 0,\n",
       "  'Status': 'deaths'},\n",
       " {'Country': 'Albania',\n",
       "  'Province': '',\n",
       "  'Lat': 41.1533,\n",
       "  'Lon': 20.1683,\n",
       "  'Date': '2020-01-25T00:00:00Z',\n",
       "  'Cases': 0,\n",
       "  'Status': 'recovered'},\n",
       " {'Country': 'Albania',\n",
       "  'Province': '',\n",
       "  'Lat': 41.1533,\n",
       "  'Lon': 20.1683,\n",
       "  'Date': '2020-01-26T00:00:00Z',\n",
       "  'Cases': 0,\n",
       "  'Status': 'recovered'},\n",
       " {'Country': 'Albania',\n",
       "  'Province': '',\n",
       "  'Lat': 41.1533,\n",
       "  'Lon': 20.1683,\n",
       "  'Date': '2020-01-26T00:00:00Z',\n",
       "  'Cases': 0,\n",
       "  'Status': 'confirmed'},\n",
       " {'Country': 'Albania',\n",
       "  'Province': '',\n",
       "  'Lat': 41.1533,\n",
       "  'Lon': 20.1683,\n",
       "  'Date': '2020-01-26T00:00:00Z',\n",
       "  'Cases': 0,\n",
       "  'Status': 'deaths'},\n",
       " {'Country': 'Albania',\n",
       "  'Province': '',\n",
       "  'Lat': 41.1533,\n",
       "  'Lon': 20.1683,\n",
       "  'Date': '2020-01-27T00:00:00Z',\n",
       "  'Cases': 0,\n",
       "  'Status': 'recovered'},\n",
       " {'Country': 'Albania',\n",
       "  'Province': '',\n",
       "  'Lat': 41.1533,\n",
       "  'Lon': 20.1683,\n",
       "  'Date': '2020-01-27T00:00:00Z',\n",
       "  'Cases': 0,\n",
       "  'Status': 'confirmed'},\n",
       " {'Country': 'Albania',\n",
       "  'Province': '',\n",
       "  'Lat': 41.1533,\n",
       "  'Lon': 20.1683,\n",
       "  'Date': '2020-01-27T00:00:00Z',\n",
       "  'Cases': 0,\n",
       "  'Status': 'deaths'},\n",
       " {'Country': 'Albania',\n",
       "  'Province': '',\n",
       "  'Lat': 41.1533,\n",
       "  'Lon': 20.1683,\n",
       "  'Date': '2020-01-28T00:00:00Z',\n",
       "  'Cases': 0,\n",
       "  'Status': 'recovered'},\n",
       " {'Country': 'Albania',\n",
       "  'Province': '',\n",
       "  'Lat': 41.1533,\n",
       "  'Lon': 20.1683,\n",
       "  'Date': '2020-01-28T00:00:00Z',\n",
       "  'Cases': 0,\n",
       "  'Status': 'confirmed'},\n",
       " {'Country': 'Albania',\n",
       "  'Province': '',\n",
       "  'Lat': 41.1533,\n",
       "  'Lon': 20.1683,\n",
       "  'Date': '2020-01-28T00:00:00Z',\n",
       "  'Cases': 0,\n",
       "  'Status': 'deaths'},\n",
       " {'Country': 'Albania',\n",
       "  'Province': '',\n",
       "  'Lat': 41.1533,\n",
       "  'Lon': 20.1683,\n",
       "  'Date': '2020-01-29T00:00:00Z',\n",
       "  'Cases': 0,\n",
       "  'Status': 'recovered'},\n",
       " {'Country': 'Albania',\n",
       "  'Province': '',\n",
       "  'Lat': 41.1533,\n",
       "  'Lon': 20.1683,\n",
       "  'Date': '2020-01-29T00:00:00Z',\n",
       "  'Cases': 0,\n",
       "  'Status': 'confirmed'},\n",
       " {'Country': 'Albania',\n",
       "  'Province': '',\n",
       "  'Lat': 41.1533,\n",
       "  'Lon': 20.1683,\n",
       "  'Date': '2020-01-29T00:00:00Z',\n",
       "  'Cases': 0,\n",
       "  'Status': 'deaths'},\n",
       " {'Country': 'Albania',\n",
       "  'Province': '',\n",
       "  'Lat': 41.1533,\n",
       "  'Lon': 20.1683,\n",
       "  'Date': '2020-01-30T00:00:00Z',\n",
       "  'Cases': 0,\n",
       "  'Status': 'recovered'},\n",
       " {'Country': 'Albania',\n",
       "  'Province': '',\n",
       "  'Lat': 41.1533,\n",
       "  'Lon': 20.1683,\n",
       "  'Date': '2020-01-30T00:00:00Z',\n",
       "  'Cases': 0,\n",
       "  'Status': 'confirmed'},\n",
       " {'Country': 'Albania',\n",
       "  'Province': '',\n",
       "  'Lat': 41.1533,\n",
       "  'Lon': 20.1683,\n",
       "  'Date': '2020-01-30T00:00:00Z',\n",
       "  'Cases': 0,\n",
       "  'Status': 'deaths'},\n",
       " {'Country': 'Albania',\n",
       "  'Province': '',\n",
       "  'Lat': 41.1533,\n",
       "  'Lon': 20.1683,\n",
       "  'Date': '2020-01-31T00:00:00Z',\n",
       "  'Cases': 0,\n",
       "  'Status': 'recovered'},\n",
       " {'Country': 'Albania',\n",
       "  'Province': '',\n",
       "  'Lat': 41.1533,\n",
       "  'Lon': 20.1683,\n",
       "  'Date': '2020-01-31T00:00:00Z',\n",
       "  'Cases': 0,\n",
       "  'Status': 'confirmed'},\n",
       " {'Country': 'Albania',\n",
       "  'Province': '',\n",
       "  'Lat': 41.1533,\n",
       "  'Lon': 20.1683,\n",
       "  'Date': '2020-01-31T00:00:00Z',\n",
       "  'Cases': 0,\n",
       "  'Status': 'deaths'},\n",
       " {'Country': 'Albania',\n",
       "  'Province': '',\n",
       "  'Lat': 41.1533,\n",
       "  'Lon': 20.1683,\n",
       "  'Date': '2020-02-01T00:00:00Z',\n",
       "  'Cases': 0,\n",
       "  'Status': 'recovered'},\n",
       " {'Country': 'Albania',\n",
       "  'Province': '',\n",
       "  'Lat': 41.1533,\n",
       "  'Lon': 20.1683,\n",
       "  'Date': '2020-02-01T00:00:00Z',\n",
       "  'Cases': 0,\n",
       "  'Status': 'confirmed'},\n",
       " {'Country': 'Albania',\n",
       "  'Province': '',\n",
       "  'Lat': 41.1533,\n",
       "  'Lon': 20.1683,\n",
       "  'Date': '2020-02-01T00:00:00Z',\n",
       "  'Cases': 0,\n",
       "  'Status': 'deaths'},\n",
       " {'Country': 'Albania',\n",
       "  'Province': '',\n",
       "  'Lat': 41.1533,\n",
       "  'Lon': 20.1683,\n",
       "  'Date': '2020-02-02T00:00:00Z',\n",
       "  'Cases': 0,\n",
       "  'Status': 'recovered'},\n",
       " {'Country': 'Albania',\n",
       "  'Province': '',\n",
       "  'Lat': 41.1533,\n",
       "  'Lon': 20.1683,\n",
       "  'Date': '2020-02-02T00:00:00Z',\n",
       "  'Cases': 0,\n",
       "  'Status': 'confirmed'},\n",
       " {'Country': 'Albania',\n",
       "  'Province': '',\n",
       "  'Lat': 41.1533,\n",
       "  'Lon': 20.1683,\n",
       "  'Date': '2020-02-02T00:00:00Z',\n",
       "  'Cases': 0,\n",
       "  'Status': 'deaths'},\n",
       " {'Country': 'Albania',\n",
       "  'Province': '',\n",
       "  'Lat': 41.1533,\n",
       "  'Lon': 20.1683,\n",
       "  'Date': '2020-02-03T00:00:00Z',\n",
       "  'Cases': 0,\n",
       "  'Status': 'recovered'},\n",
       " {'Country': 'Albania',\n",
       "  'Province': '',\n",
       "  'Lat': 41.1533,\n",
       "  'Lon': 20.1683,\n",
       "  'Date': '2020-02-03T00:00:00Z',\n",
       "  'Cases': 0,\n",
       "  'Status': 'confirmed'},\n",
       " {'Country': 'Albania',\n",
       "  'Province': '',\n",
       "  'Lat': 41.1533,\n",
       "  'Lon': 20.1683,\n",
       "  'Date': '2020-02-03T00:00:00Z',\n",
       "  'Cases': 0,\n",
       "  'Status': 'deaths'},\n",
       " {'Country': 'Albania',\n",
       "  'Province': '',\n",
       "  'Lat': 41.1533,\n",
       "  'Lon': 20.1683,\n",
       "  'Date': '2020-02-04T00:00:00Z',\n",
       "  'Cases': 0,\n",
       "  'Status': 'recovered'},\n",
       " {'Country': 'Albania',\n",
       "  'Province': '',\n",
       "  'Lat': 41.1533,\n",
       "  'Lon': 20.1683,\n",
       "  'Date': '2020-02-04T00:00:00Z',\n",
       "  'Cases': 0,\n",
       "  'Status': 'confirmed'},\n",
       " {'Country': 'Albania',\n",
       "  'Province': '',\n",
       "  'Lat': 41.1533,\n",
       "  'Lon': 20.1683,\n",
       "  'Date': '2020-02-04T00:00:00Z',\n",
       "  'Cases': 0,\n",
       "  'Status': 'deaths'},\n",
       " {'Country': 'Albania',\n",
       "  'Province': '',\n",
       "  'Lat': 41.1533,\n",
       "  'Lon': 20.1683,\n",
       "  'Date': '2020-02-05T00:00:00Z',\n",
       "  'Cases': 0,\n",
       "  'Status': 'recovered'},\n",
       " {'Country': 'Albania',\n",
       "  'Province': '',\n",
       "  'Lat': 41.1533,\n",
       "  'Lon': 20.1683,\n",
       "  'Date': '2020-02-05T00:00:00Z',\n",
       "  'Cases': 0,\n",
       "  'Status': 'confirmed'},\n",
       " {'Country': 'Albania',\n",
       "  'Province': '',\n",
       "  'Lat': 41.1533,\n",
       "  'Lon': 20.1683,\n",
       "  'Date': '2020-02-05T00:00:00Z',\n",
       "  'Cases': 0,\n",
       "  'Status': 'deaths'},\n",
       " {'Country': 'Albania',\n",
       "  'Province': '',\n",
       "  'Lat': 41.1533,\n",
       "  'Lon': 20.1683,\n",
       "  'Date': '2020-02-06T00:00:00Z',\n",
       "  'Cases': 0,\n",
       "  'Status': 'recovered'},\n",
       " {'Country': 'Albania',\n",
       "  'Province': '',\n",
       "  'Lat': 41.1533,\n",
       "  'Lon': 20.1683,\n",
       "  'Date': '2020-02-06T00:00:00Z',\n",
       "  'Cases': 0,\n",
       "  'Status': 'confirmed'},\n",
       " {'Country': 'Albania',\n",
       "  'Province': '',\n",
       "  'Lat': 41.1533,\n",
       "  'Lon': 20.1683,\n",
       "  'Date': '2020-02-06T00:00:00Z',\n",
       "  'Cases': 0,\n",
       "  'Status': 'deaths'},\n",
       " {'Country': 'Albania',\n",
       "  'Province': '',\n",
       "  'Lat': 41.1533,\n",
       "  'Lon': 20.1683,\n",
       "  'Date': '2020-02-07T00:00:00Z',\n",
       "  'Cases': 0,\n",
       "  'Status': 'recovered'},\n",
       " {'Country': 'Albania',\n",
       "  'Province': '',\n",
       "  'Lat': 41.1533,\n",
       "  'Lon': 20.1683,\n",
       "  'Date': '2020-02-07T00:00:00Z',\n",
       "  'Cases': 0,\n",
       "  'Status': 'confirmed'},\n",
       " {'Country': 'Albania',\n",
       "  'Province': '',\n",
       "  'Lat': 41.1533,\n",
       "  'Lon': 20.1683,\n",
       "  'Date': '2020-02-07T00:00:00Z',\n",
       "  'Cases': 0,\n",
       "  'Status': 'deaths'},\n",
       " {'Country': 'Albania',\n",
       "  'Province': '',\n",
       "  'Lat': 41.1533,\n",
       "  'Lon': 20.1683,\n",
       "  'Date': '2020-02-08T00:00:00Z',\n",
       "  'Cases': 0,\n",
       "  'Status': 'recovered'},\n",
       " {'Country': 'Albania',\n",
       "  'Province': '',\n",
       "  'Lat': 41.1533,\n",
       "  'Lon': 20.1683,\n",
       "  'Date': '2020-02-08T00:00:00Z',\n",
       "  'Cases': 0,\n",
       "  'Status': 'confirmed'},\n",
       " {'Country': 'Albania',\n",
       "  'Province': '',\n",
       "  'Lat': 41.1533,\n",
       "  'Lon': 20.1683,\n",
       "  'Date': '2020-02-08T00:00:00Z',\n",
       "  'Cases': 0,\n",
       "  'Status': 'deaths'},\n",
       " {'Country': 'Albania',\n",
       "  'Province': '',\n",
       "  'Lat': 41.1533,\n",
       "  'Lon': 20.1683,\n",
       "  'Date': '2020-02-09T00:00:00Z',\n",
       "  'Cases': 0,\n",
       "  'Status': 'recovered'},\n",
       " {'Country': 'Albania',\n",
       "  'Province': '',\n",
       "  'Lat': 41.1533,\n",
       "  'Lon': 20.1683,\n",
       "  'Date': '2020-02-09T00:00:00Z',\n",
       "  'Cases': 0,\n",
       "  'Status': 'confirmed'},\n",
       " {'Country': 'Albania',\n",
       "  'Province': '',\n",
       "  'Lat': 41.1533,\n",
       "  'Lon': 20.1683,\n",
       "  'Date': '2020-02-09T00:00:00Z',\n",
       "  'Cases': 0,\n",
       "  'Status': 'deaths'},\n",
       " {'Country': 'Albania',\n",
       "  'Province': '',\n",
       "  'Lat': 41.1533,\n",
       "  'Lon': 20.1683,\n",
       "  'Date': '2020-02-10T00:00:00Z',\n",
       "  'Cases': 0,\n",
       "  'Status': 'recovered'},\n",
       " {'Country': 'Albania',\n",
       "  'Province': '',\n",
       "  'Lat': 41.1533,\n",
       "  'Lon': 20.1683,\n",
       "  'Date': '2020-02-10T00:00:00Z',\n",
       "  'Cases': 0,\n",
       "  'Status': 'confirmed'},\n",
       " {'Country': 'Albania',\n",
       "  'Province': '',\n",
       "  'Lat': 41.1533,\n",
       "  'Lon': 20.1683,\n",
       "  'Date': '2020-02-10T00:00:00Z',\n",
       "  'Cases': 0,\n",
       "  'Status': 'deaths'},\n",
       " {'Country': 'Albania',\n",
       "  'Province': '',\n",
       "  'Lat': 41.1533,\n",
       "  'Lon': 20.1683,\n",
       "  'Date': '2020-02-11T00:00:00Z',\n",
       "  'Cases': 0,\n",
       "  'Status': 'recovered'},\n",
       " {'Country': 'Albania',\n",
       "  'Province': '',\n",
       "  'Lat': 41.1533,\n",
       "  'Lon': 20.1683,\n",
       "  'Date': '2020-02-11T00:00:00Z',\n",
       "  'Cases': 0,\n",
       "  'Status': 'confirmed'},\n",
       " {'Country': 'Albania',\n",
       "  'Province': '',\n",
       "  'Lat': 41.1533,\n",
       "  'Lon': 20.1683,\n",
       "  'Date': '2020-02-11T00:00:00Z',\n",
       "  'Cases': 0,\n",
       "  'Status': 'deaths'},\n",
       " {'Country': 'Albania',\n",
       "  'Province': '',\n",
       "  'Lat': 41.1533,\n",
       "  'Lon': 20.1683,\n",
       "  'Date': '2020-02-12T00:00:00Z',\n",
       "  'Cases': 0,\n",
       "  'Status': 'recovered'},\n",
       " {'Country': 'Albania',\n",
       "  'Province': '',\n",
       "  'Lat': 41.1533,\n",
       "  'Lon': 20.1683,\n",
       "  'Date': '2020-02-12T00:00:00Z',\n",
       "  'Cases': 0,\n",
       "  'Status': 'confirmed'},\n",
       " {'Country': 'Albania',\n",
       "  'Province': '',\n",
       "  'Lat': 41.1533,\n",
       "  'Lon': 20.1683,\n",
       "  'Date': '2020-02-12T00:00:00Z',\n",
       "  'Cases': 0,\n",
       "  'Status': 'deaths'},\n",
       " {'Country': 'Albania',\n",
       "  'Province': '',\n",
       "  'Lat': 41.1533,\n",
       "  'Lon': 20.1683,\n",
       "  'Date': '2020-02-13T00:00:00Z',\n",
       "  'Cases': 0,\n",
       "  'Status': 'recovered'},\n",
       " {'Country': 'Albania',\n",
       "  'Province': '',\n",
       "  'Lat': 41.1533,\n",
       "  'Lon': 20.1683,\n",
       "  'Date': '2020-02-13T00:00:00Z',\n",
       "  'Cases': 0,\n",
       "  'Status': 'confirmed'},\n",
       " {'Country': 'Albania',\n",
       "  'Province': '',\n",
       "  'Lat': 41.1533,\n",
       "  'Lon': 20.1683,\n",
       "  'Date': '2020-02-13T00:00:00Z',\n",
       "  'Cases': 0,\n",
       "  'Status': 'deaths'},\n",
       " {'Country': 'Albania',\n",
       "  'Province': '',\n",
       "  'Lat': 41.1533,\n",
       "  'Lon': 20.1683,\n",
       "  'Date': '2020-02-14T00:00:00Z',\n",
       "  'Cases': 0,\n",
       "  'Status': 'recovered'},\n",
       " {'Country': 'Albania',\n",
       "  'Province': '',\n",
       "  'Lat': 41.1533,\n",
       "  'Lon': 20.1683,\n",
       "  'Date': '2020-02-14T00:00:00Z',\n",
       "  'Cases': 0,\n",
       "  'Status': 'confirmed'},\n",
       " {'Country': 'Albania',\n",
       "  'Province': '',\n",
       "  'Lat': 41.1533,\n",
       "  'Lon': 20.1683,\n",
       "  'Date': '2020-02-14T00:00:00Z',\n",
       "  'Cases': 0,\n",
       "  'Status': 'deaths'},\n",
       " {'Country': 'Albania',\n",
       "  'Province': '',\n",
       "  'Lat': 41.1533,\n",
       "  'Lon': 20.1683,\n",
       "  'Date': '2020-02-15T00:00:00Z',\n",
       "  'Cases': 0,\n",
       "  'Status': 'recovered'},\n",
       " {'Country': 'Albania',\n",
       "  'Province': '',\n",
       "  'Lat': 41.1533,\n",
       "  'Lon': 20.1683,\n",
       "  'Date': '2020-02-15T00:00:00Z',\n",
       "  'Cases': 0,\n",
       "  'Status': 'confirmed'},\n",
       " {'Country': 'Albania',\n",
       "  'Province': '',\n",
       "  'Lat': 41.1533,\n",
       "  'Lon': 20.1683,\n",
       "  'Date': '2020-02-15T00:00:00Z',\n",
       "  'Cases': 0,\n",
       "  'Status': 'deaths'},\n",
       " {'Country': 'Albania',\n",
       "  'Province': '',\n",
       "  'Lat': 41.1533,\n",
       "  'Lon': 20.1683,\n",
       "  'Date': '2020-02-16T00:00:00Z',\n",
       "  'Cases': 0,\n",
       "  'Status': 'recovered'},\n",
       " {'Country': 'Albania',\n",
       "  'Province': '',\n",
       "  'Lat': 41.1533,\n",
       "  'Lon': 20.1683,\n",
       "  'Date': '2020-02-16T00:00:00Z',\n",
       "  'Cases': 0,\n",
       "  'Status': 'confirmed'},\n",
       " {'Country': 'Albania',\n",
       "  'Province': '',\n",
       "  'Lat': 41.1533,\n",
       "  'Lon': 20.1683,\n",
       "  'Date': '2020-02-16T00:00:00Z',\n",
       "  'Cases': 0,\n",
       "  'Status': 'deaths'},\n",
       " {'Country': 'Albania',\n",
       "  'Province': '',\n",
       "  'Lat': 41.1533,\n",
       "  'Lon': 20.1683,\n",
       "  'Date': '2020-02-17T00:00:00Z',\n",
       "  'Cases': 0,\n",
       "  'Status': 'recovered'},\n",
       " {'Country': 'Albania',\n",
       "  'Province': '',\n",
       "  'Lat': 41.1533,\n",
       "  'Lon': 20.1683,\n",
       "  'Date': '2020-02-17T00:00:00Z',\n",
       "  'Cases': 0,\n",
       "  'Status': 'confirmed'},\n",
       " {'Country': 'Albania',\n",
       "  'Province': '',\n",
       "  'Lat': 41.1533,\n",
       "  'Lon': 20.1683,\n",
       "  'Date': '2020-02-17T00:00:00Z',\n",
       "  'Cases': 0,\n",
       "  'Status': 'deaths'},\n",
       " {'Country': 'Albania',\n",
       "  'Province': '',\n",
       "  'Lat': 41.1533,\n",
       "  'Lon': 20.1683,\n",
       "  'Date': '2020-02-18T00:00:00Z',\n",
       "  'Cases': 0,\n",
       "  'Status': 'recovered'},\n",
       " {'Country': 'Albania',\n",
       "  'Province': '',\n",
       "  'Lat': 41.1533,\n",
       "  'Lon': 20.1683,\n",
       "  'Date': '2020-02-18T00:00:00Z',\n",
       "  'Cases': 0,\n",
       "  'Status': 'confirmed'},\n",
       " {'Country': 'Albania',\n",
       "  'Province': '',\n",
       "  'Lat': 41.1533,\n",
       "  'Lon': 20.1683,\n",
       "  'Date': '2020-02-18T00:00:00Z',\n",
       "  'Cases': 0,\n",
       "  'Status': 'deaths'},\n",
       " {'Country': 'Albania',\n",
       "  'Province': '',\n",
       "  'Lat': 41.1533,\n",
       "  'Lon': 20.1683,\n",
       "  'Date': '2020-02-19T00:00:00Z',\n",
       "  'Cases': 0,\n",
       "  'Status': 'recovered'},\n",
       " {'Country': 'Albania',\n",
       "  'Province': '',\n",
       "  'Lat': 41.1533,\n",
       "  'Lon': 20.1683,\n",
       "  'Date': '2020-02-19T00:00:00Z',\n",
       "  'Cases': 0,\n",
       "  'Status': 'confirmed'},\n",
       " {'Country': 'Albania',\n",
       "  'Province': '',\n",
       "  'Lat': 41.1533,\n",
       "  'Lon': 20.1683,\n",
       "  'Date': '2020-02-19T00:00:00Z',\n",
       "  'Cases': 0,\n",
       "  'Status': 'deaths'},\n",
       " {'Country': 'Albania',\n",
       "  'Province': '',\n",
       "  'Lat': 41.1533,\n",
       "  'Lon': 20.1683,\n",
       "  'Date': '2020-02-20T00:00:00Z',\n",
       "  'Cases': 0,\n",
       "  'Status': 'recovered'},\n",
       " {'Country': 'Albania',\n",
       "  'Province': '',\n",
       "  'Lat': 41.1533,\n",
       "  'Lon': 20.1683,\n",
       "  'Date': '2020-02-20T00:00:00Z',\n",
       "  'Cases': 0,\n",
       "  'Status': 'confirmed'},\n",
       " {'Country': 'Albania',\n",
       "  'Province': '',\n",
       "  'Lat': 41.1533,\n",
       "  'Lon': 20.1683,\n",
       "  'Date': '2020-02-20T00:00:00Z',\n",
       "  'Cases': 0,\n",
       "  'Status': 'deaths'},\n",
       " {'Country': 'Albania',\n",
       "  'Province': '',\n",
       "  'Lat': 41.1533,\n",
       "  'Lon': 20.1683,\n",
       "  'Date': '2020-02-21T00:00:00Z',\n",
       "  'Cases': 0,\n",
       "  'Status': 'recovered'},\n",
       " {'Country': 'Albania',\n",
       "  'Province': '',\n",
       "  'Lat': 41.1533,\n",
       "  'Lon': 20.1683,\n",
       "  'Date': '2020-02-21T00:00:00Z',\n",
       "  'Cases': 0,\n",
       "  'Status': 'confirmed'},\n",
       " {'Country': 'Albania',\n",
       "  'Province': '',\n",
       "  'Lat': 41.1533,\n",
       "  'Lon': 20.1683,\n",
       "  'Date': '2020-02-21T00:00:00Z',\n",
       "  'Cases': 0,\n",
       "  'Status': 'deaths'},\n",
       " {'Country': 'Albania',\n",
       "  'Province': '',\n",
       "  'Lat': 41.1533,\n",
       "  'Lon': 20.1683,\n",
       "  'Date': '2020-02-22T00:00:00Z',\n",
       "  'Cases': 0,\n",
       "  'Status': 'recovered'},\n",
       " {'Country': 'Albania',\n",
       "  'Province': '',\n",
       "  'Lat': 41.1533,\n",
       "  'Lon': 20.1683,\n",
       "  'Date': '2020-02-22T00:00:00Z',\n",
       "  'Cases': 0,\n",
       "  'Status': 'confirmed'},\n",
       " {'Country': 'Albania',\n",
       "  'Province': '',\n",
       "  'Lat': 41.1533,\n",
       "  'Lon': 20.1683,\n",
       "  'Date': '2020-02-22T00:00:00Z',\n",
       "  'Cases': 0,\n",
       "  'Status': 'deaths'},\n",
       " {'Country': 'Albania',\n",
       "  'Province': '',\n",
       "  'Lat': 41.1533,\n",
       "  'Lon': 20.1683,\n",
       "  'Date': '2020-02-23T00:00:00Z',\n",
       "  'Cases': 0,\n",
       "  'Status': 'recovered'},\n",
       " {'Country': 'Albania',\n",
       "  'Province': '',\n",
       "  'Lat': 41.1533,\n",
       "  'Lon': 20.1683,\n",
       "  'Date': '2020-02-23T00:00:00Z',\n",
       "  'Cases': 0,\n",
       "  'Status': 'confirmed'},\n",
       " {'Country': 'Albania',\n",
       "  'Province': '',\n",
       "  'Lat': 41.1533,\n",
       "  'Lon': 20.1683,\n",
       "  'Date': '2020-02-23T00:00:00Z',\n",
       "  'Cases': 0,\n",
       "  'Status': 'deaths'},\n",
       " {'Country': 'Albania',\n",
       "  'Province': '',\n",
       "  'Lat': 41.1533,\n",
       "  'Lon': 20.1683,\n",
       "  'Date': '2020-02-24T00:00:00Z',\n",
       "  'Cases': 0,\n",
       "  'Status': 'recovered'},\n",
       " {'Country': 'Albania',\n",
       "  'Province': '',\n",
       "  'Lat': 41.1533,\n",
       "  'Lon': 20.1683,\n",
       "  'Date': '2020-02-24T00:00:00Z',\n",
       "  'Cases': 0,\n",
       "  'Status': 'confirmed'},\n",
       " {'Country': 'Albania',\n",
       "  'Province': '',\n",
       "  'Lat': 41.1533,\n",
       "  'Lon': 20.1683,\n",
       "  'Date': '2020-02-24T00:00:00Z',\n",
       "  'Cases': 0,\n",
       "  'Status': 'deaths'},\n",
       " {'Country': 'Albania',\n",
       "  'Province': '',\n",
       "  'Lat': 41.1533,\n",
       "  'Lon': 20.1683,\n",
       "  'Date': '2020-02-25T00:00:00Z',\n",
       "  'Cases': 0,\n",
       "  'Status': 'recovered'},\n",
       " {'Country': 'Albania',\n",
       "  'Province': '',\n",
       "  'Lat': 41.1533,\n",
       "  'Lon': 20.1683,\n",
       "  'Date': '2020-02-25T00:00:00Z',\n",
       "  'Cases': 0,\n",
       "  'Status': 'confirmed'},\n",
       " {'Country': 'Albania',\n",
       "  'Province': '',\n",
       "  'Lat': 41.1533,\n",
       "  'Lon': 20.1683,\n",
       "  'Date': '2020-02-25T00:00:00Z',\n",
       "  'Cases': 0,\n",
       "  'Status': 'deaths'},\n",
       " {'Country': 'Albania',\n",
       "  'Province': '',\n",
       "  'Lat': 41.1533,\n",
       "  'Lon': 20.1683,\n",
       "  'Date': '2020-02-26T00:00:00Z',\n",
       "  'Cases': 0,\n",
       "  'Status': 'recovered'},\n",
       " {'Country': 'Albania',\n",
       "  'Province': '',\n",
       "  'Lat': 41.1533,\n",
       "  'Lon': 20.1683,\n",
       "  'Date': '2020-02-26T00:00:00Z',\n",
       "  'Cases': 0,\n",
       "  'Status': 'confirmed'},\n",
       " {'Country': 'Albania',\n",
       "  'Province': '',\n",
       "  'Lat': 41.1533,\n",
       "  'Lon': 20.1683,\n",
       "  'Date': '2020-02-26T00:00:00Z',\n",
       "  'Cases': 0,\n",
       "  'Status': 'deaths'},\n",
       " {'Country': 'Albania',\n",
       "  'Province': '',\n",
       "  'Lat': 41.1533,\n",
       "  'Lon': 20.1683,\n",
       "  'Date': '2020-02-27T00:00:00Z',\n",
       "  'Cases': 0,\n",
       "  'Status': 'recovered'},\n",
       " {'Country': 'Albania',\n",
       "  'Province': '',\n",
       "  'Lat': 41.1533,\n",
       "  'Lon': 20.1683,\n",
       "  'Date': '2020-02-27T00:00:00Z',\n",
       "  'Cases': 0,\n",
       "  'Status': 'confirmed'},\n",
       " {'Country': 'Albania',\n",
       "  'Province': '',\n",
       "  'Lat': 41.1533,\n",
       "  'Lon': 20.1683,\n",
       "  'Date': '2020-02-27T00:00:00Z',\n",
       "  'Cases': 0,\n",
       "  'Status': 'deaths'},\n",
       " {'Country': 'Albania',\n",
       "  'Province': '',\n",
       "  'Lat': 41.1533,\n",
       "  'Lon': 20.1683,\n",
       "  'Date': '2020-02-28T00:00:00Z',\n",
       "  'Cases': 0,\n",
       "  'Status': 'recovered'},\n",
       " {'Country': 'Albania',\n",
       "  'Province': '',\n",
       "  'Lat': 41.1533,\n",
       "  'Lon': 20.1683,\n",
       "  'Date': '2020-02-28T00:00:00Z',\n",
       "  'Cases': 0,\n",
       "  'Status': 'confirmed'},\n",
       " {'Country': 'Albania',\n",
       "  'Province': '',\n",
       "  'Lat': 41.1533,\n",
       "  'Lon': 20.1683,\n",
       "  'Date': '2020-02-28T00:00:00Z',\n",
       "  'Cases': 0,\n",
       "  'Status': 'deaths'},\n",
       " {'Country': 'Albania',\n",
       "  'Province': '',\n",
       "  'Lat': 41.1533,\n",
       "  'Lon': 20.1683,\n",
       "  'Date': '2020-02-29T00:00:00Z',\n",
       "  'Cases': 0,\n",
       "  'Status': 'recovered'},\n",
       " {'Country': 'Albania',\n",
       "  'Province': '',\n",
       "  'Lat': 41.1533,\n",
       "  'Lon': 20.1683,\n",
       "  'Date': '2020-02-29T00:00:00Z',\n",
       "  'Cases': 0,\n",
       "  'Status': 'confirmed'},\n",
       " {'Country': 'Albania',\n",
       "  'Province': '',\n",
       "  'Lat': 41.1533,\n",
       "  'Lon': 20.1683,\n",
       "  'Date': '2020-02-29T00:00:00Z',\n",
       "  'Cases': 0,\n",
       "  'Status': 'deaths'},\n",
       " {'Country': 'Albania',\n",
       "  'Province': '',\n",
       "  'Lat': 41.1533,\n",
       "  'Lon': 20.1683,\n",
       "  'Date': '2020-03-01T00:00:00Z',\n",
       "  'Cases': 0,\n",
       "  'Status': 'recovered'},\n",
       " {'Country': 'Albania',\n",
       "  'Province': '',\n",
       "  'Lat': 41.1533,\n",
       "  'Lon': 20.1683,\n",
       "  'Date': '2020-03-01T00:00:00Z',\n",
       "  'Cases': 0,\n",
       "  'Status': 'confirmed'},\n",
       " {'Country': 'Albania',\n",
       "  'Province': '',\n",
       "  'Lat': 41.1533,\n",
       "  'Lon': 20.1683,\n",
       "  'Date': '2020-03-01T00:00:00Z',\n",
       "  'Cases': 0,\n",
       "  'Status': 'deaths'},\n",
       " {'Country': 'Albania',\n",
       "  'Province': '',\n",
       "  'Lat': 41.1533,\n",
       "  'Lon': 20.1683,\n",
       "  'Date': '2020-03-02T00:00:00Z',\n",
       "  'Cases': 0,\n",
       "  'Status': 'recovered'},\n",
       " {'Country': 'Albania',\n",
       "  'Province': '',\n",
       "  'Lat': 41.1533,\n",
       "  'Lon': 20.1683,\n",
       "  'Date': '2020-03-02T00:00:00Z',\n",
       "  'Cases': 0,\n",
       "  'Status': 'confirmed'},\n",
       " {'Country': 'Albania',\n",
       "  'Province': '',\n",
       "  'Lat': 41.1533,\n",
       "  'Lon': 20.1683,\n",
       "  'Date': '2020-03-02T00:00:00Z',\n",
       "  'Cases': 0,\n",
       "  'Status': 'deaths'},\n",
       " {'Country': 'Albania',\n",
       "  'Province': '',\n",
       "  'Lat': 41.1533,\n",
       "  'Lon': 20.1683,\n",
       "  'Date': '2020-03-03T00:00:00Z',\n",
       "  'Cases': 0,\n",
       "  'Status': 'recovered'},\n",
       " {'Country': 'Albania',\n",
       "  'Province': '',\n",
       "  'Lat': 41.1533,\n",
       "  'Lon': 20.1683,\n",
       "  'Date': '2020-03-03T00:00:00Z',\n",
       "  'Cases': 0,\n",
       "  'Status': 'confirmed'},\n",
       " {'Country': 'Albania',\n",
       "  'Province': '',\n",
       "  'Lat': 41.1533,\n",
       "  'Lon': 20.1683,\n",
       "  'Date': '2020-03-03T00:00:00Z',\n",
       "  'Cases': 0,\n",
       "  'Status': 'deaths'},\n",
       " {'Country': 'Albania',\n",
       "  'Province': '',\n",
       "  'Lat': 41.1533,\n",
       "  'Lon': 20.1683,\n",
       "  'Date': '2020-03-04T00:00:00Z',\n",
       "  'Cases': 0,\n",
       "  'Status': 'recovered'},\n",
       " {'Country': 'Albania',\n",
       "  'Province': '',\n",
       "  'Lat': 41.1533,\n",
       "  'Lon': 20.1683,\n",
       "  'Date': '2020-03-04T00:00:00Z',\n",
       "  'Cases': 0,\n",
       "  'Status': 'confirmed'},\n",
       " {'Country': 'Albania',\n",
       "  'Province': '',\n",
       "  'Lat': 41.1533,\n",
       "  'Lon': 20.1683,\n",
       "  'Date': '2020-03-04T00:00:00Z',\n",
       "  'Cases': 0,\n",
       "  'Status': 'deaths'},\n",
       " {'Country': 'Albania',\n",
       "  'Province': '',\n",
       "  'Lat': 41.1533,\n",
       "  'Lon': 20.1683,\n",
       "  'Date': '2020-03-05T00:00:00Z',\n",
       "  'Cases': 0,\n",
       "  'Status': 'recovered'},\n",
       " {'Country': 'Albania',\n",
       "  'Province': '',\n",
       "  'Lat': 41.1533,\n",
       "  'Lon': 20.1683,\n",
       "  'Date': '2020-03-05T00:00:00Z',\n",
       "  'Cases': 0,\n",
       "  'Status': 'confirmed'},\n",
       " {'Country': 'Albania',\n",
       "  'Province': '',\n",
       "  'Lat': 41.1533,\n",
       "  'Lon': 20.1683,\n",
       "  'Date': '2020-03-05T00:00:00Z',\n",
       "  'Cases': 0,\n",
       "  'Status': 'deaths'},\n",
       " {'Country': 'Albania',\n",
       "  'Province': '',\n",
       "  'Lat': 41.1533,\n",
       "  'Lon': 20.1683,\n",
       "  'Date': '2020-03-06T00:00:00Z',\n",
       "  'Cases': 0,\n",
       "  'Status': 'recovered'},\n",
       " {'Country': 'Albania',\n",
       "  'Province': '',\n",
       "  'Lat': 41.1533,\n",
       "  'Lon': 20.1683,\n",
       "  'Date': '2020-03-06T00:00:00Z',\n",
       "  'Cases': 0,\n",
       "  'Status': 'confirmed'},\n",
       " {'Country': 'Albania',\n",
       "  'Province': '',\n",
       "  'Lat': 41.1533,\n",
       "  'Lon': 20.1683,\n",
       "  'Date': '2020-03-06T00:00:00Z',\n",
       "  'Cases': 0,\n",
       "  'Status': 'deaths'},\n",
       " {'Country': 'Albania',\n",
       "  'Province': '',\n",
       "  'Lat': 41.1533,\n",
       "  'Lon': 20.1683,\n",
       "  'Date': '2020-03-07T00:00:00Z',\n",
       "  'Cases': 0,\n",
       "  'Status': 'recovered'},\n",
       " {'Country': 'Albania',\n",
       "  'Province': '',\n",
       "  'Lat': 41.1533,\n",
       "  'Lon': 20.1683,\n",
       "  'Date': '2020-03-07T00:00:00Z',\n",
       "  'Cases': 0,\n",
       "  'Status': 'confirmed'},\n",
       " {'Country': 'Albania',\n",
       "  'Province': '',\n",
       "  'Lat': 41.1533,\n",
       "  'Lon': 20.1683,\n",
       "  'Date': '2020-03-07T00:00:00Z',\n",
       "  'Cases': 0,\n",
       "  'Status': 'deaths'},\n",
       " {'Country': 'Albania',\n",
       "  'Province': '',\n",
       "  'Lat': 41.1533,\n",
       "  'Lon': 20.1683,\n",
       "  'Date': '2020-03-08T00:00:00Z',\n",
       "  'Cases': 0,\n",
       "  'Status': 'recovered'},\n",
       " {'Country': 'Albania',\n",
       "  'Province': '',\n",
       "  'Lat': 41.1533,\n",
       "  'Lon': 20.1683,\n",
       "  'Date': '2020-03-08T00:00:00Z',\n",
       "  'Cases': 0,\n",
       "  'Status': 'confirmed'},\n",
       " {'Country': 'Albania',\n",
       "  'Province': '',\n",
       "  'Lat': 41.1533,\n",
       "  'Lon': 20.1683,\n",
       "  'Date': '2020-03-08T00:00:00Z',\n",
       "  'Cases': 0,\n",
       "  'Status': 'deaths'},\n",
       " {'Country': 'Albania',\n",
       "  'Province': '',\n",
       "  'Lat': 41.1533,\n",
       "  'Lon': 20.1683,\n",
       "  'Date': '2020-03-09T00:00:00Z',\n",
       "  'Cases': 0,\n",
       "  'Status': 'recovered'},\n",
       " {'Country': 'Albania',\n",
       "  'Province': '',\n",
       "  'Lat': 41.1533,\n",
       "  'Lon': 20.1683,\n",
       "  'Date': '2020-03-09T00:00:00Z',\n",
       "  'Cases': 2,\n",
       "  'Status': 'confirmed'},\n",
       " {'Country': 'Albania',\n",
       "  'Province': '',\n",
       "  'Lat': 41.1533,\n",
       "  'Lon': 20.1683,\n",
       "  'Date': '2020-03-09T00:00:00Z',\n",
       "  'Cases': 0,\n",
       "  'Status': 'deaths'},\n",
       " {'Country': 'Albania',\n",
       "  'Province': '',\n",
       "  'Lat': 41.1533,\n",
       "  'Lon': 20.1683,\n",
       "  'Date': '2020-03-10T00:00:00Z',\n",
       "  'Cases': 0,\n",
       "  'Status': 'recovered'},\n",
       " {'Country': 'Albania',\n",
       "  'Province': '',\n",
       "  'Lat': 41.1533,\n",
       "  'Lon': 20.1683,\n",
       "  'Date': '2020-03-10T00:00:00Z',\n",
       "  'Cases': 10,\n",
       "  'Status': 'confirmed'},\n",
       " {'Country': 'Albania',\n",
       "  'Province': '',\n",
       "  'Lat': 41.1533,\n",
       "  'Lon': 20.1683,\n",
       "  'Date': '2020-03-10T00:00:00Z',\n",
       "  'Cases': 0,\n",
       "  'Status': 'deaths'},\n",
       " {'Country': 'Albania',\n",
       "  'Province': '',\n",
       "  'Lat': 41.1533,\n",
       "  'Lon': 20.1683,\n",
       "  'Date': '2020-03-11T00:00:00Z',\n",
       "  'Cases': 0,\n",
       "  'Status': 'recovered'},\n",
       " {'Country': 'Albania',\n",
       "  'Province': '',\n",
       "  'Lat': 41.1533,\n",
       "  'Lon': 20.1683,\n",
       "  'Date': '2020-03-11T00:00:00Z',\n",
       "  'Cases': 12,\n",
       "  'Status': 'confirmed'},\n",
       " {'Country': 'Albania',\n",
       "  'Province': '',\n",
       "  'Lat': 41.1533,\n",
       "  'Lon': 20.1683,\n",
       "  'Date': '2020-03-11T00:00:00Z',\n",
       "  'Cases': 1,\n",
       "  'Status': 'deaths'},\n",
       " {'Country': 'Albania',\n",
       "  'Province': '',\n",
       "  'Lat': 41.1533,\n",
       "  'Lon': 20.1683,\n",
       "  'Date': '2020-03-12T00:00:00Z',\n",
       "  'Cases': 0,\n",
       "  'Status': 'recovered'},\n",
       " {'Country': 'Albania',\n",
       "  'Province': '',\n",
       "  'Lat': 41.1533,\n",
       "  'Lon': 20.1683,\n",
       "  'Date': '2020-03-12T00:00:00Z',\n",
       "  'Cases': 23,\n",
       "  'Status': 'confirmed'},\n",
       " {'Country': 'Albania',\n",
       "  'Province': '',\n",
       "  'Lat': 41.1533,\n",
       "  'Lon': 20.1683,\n",
       "  'Date': '2020-03-12T00:00:00Z',\n",
       "  'Cases': 1,\n",
       "  'Status': 'deaths'},\n",
       " {'Country': 'Albania',\n",
       "  'Province': '',\n",
       "  'Lat': 41.1533,\n",
       "  'Lon': 20.1683,\n",
       "  'Date': '2020-03-13T00:00:00Z',\n",
       "  'Cases': 0,\n",
       "  'Status': 'recovered'},\n",
       " {'Country': 'Albania',\n",
       "  'Province': '',\n",
       "  'Lat': 41.1533,\n",
       "  'Lon': 20.1683,\n",
       "  'Date': '2020-03-13T00:00:00Z',\n",
       "  'Cases': 33,\n",
       "  'Status': 'confirmed'},\n",
       " {'Country': 'Albania',\n",
       "  'Province': '',\n",
       "  'Lat': 41.1533,\n",
       "  'Lon': 20.1683,\n",
       "  'Date': '2020-03-13T00:00:00Z',\n",
       "  'Cases': 1,\n",
       "  'Status': 'deaths'},\n",
       " {'Country': 'Albania',\n",
       "  'Province': '',\n",
       "  'Lat': 41.1533,\n",
       "  'Lon': 20.1683,\n",
       "  'Date': '2020-03-14T00:00:00Z',\n",
       "  'Cases': 0,\n",
       "  'Status': 'recovered'},\n",
       " {'Country': 'Albania',\n",
       "  'Province': '',\n",
       "  'Lat': 41.1533,\n",
       "  'Lon': 20.1683,\n",
       "  'Date': '2020-03-14T00:00:00Z',\n",
       "  'Cases': 38,\n",
       "  'Status': 'confirmed'},\n",
       " {'Country': 'Albania',\n",
       "  'Province': '',\n",
       "  'Lat': 41.1533,\n",
       "  'Lon': 20.1683,\n",
       "  'Date': '2020-03-14T00:00:00Z',\n",
       "  'Cases': 1,\n",
       "  'Status': 'deaths'},\n",
       " {'Country': 'Albania',\n",
       "  'Province': '',\n",
       "  'Lat': 41.1533,\n",
       "  'Lon': 20.1683,\n",
       "  'Date': '2020-03-15T00:00:00Z',\n",
       "  'Cases': 0,\n",
       "  'Status': 'recovered'},\n",
       " {'Country': 'Albania',\n",
       "  'Province': '',\n",
       "  'Lat': 41.1533,\n",
       "  'Lon': 20.1683,\n",
       "  'Date': '2020-03-15T00:00:00Z',\n",
       "  'Cases': 42,\n",
       "  'Status': 'confirmed'},\n",
       " {'Country': 'Albania',\n",
       "  'Province': '',\n",
       "  'Lat': 41.1533,\n",
       "  'Lon': 20.1683,\n",
       "  'Date': '2020-03-15T00:00:00Z',\n",
       "  'Cases': 1,\n",
       "  'Status': 'deaths'},\n",
       " {'Country': 'Albania',\n",
       "  'Province': '',\n",
       "  'Lat': 41.1533,\n",
       "  'Lon': 20.1683,\n",
       "  'Date': '2020-03-16T00:00:00Z',\n",
       "  'Cases': 0,\n",
       "  'Status': 'recovered'},\n",
       " {'Country': 'Albania',\n",
       "  'Province': '',\n",
       "  'Lat': 41.1533,\n",
       "  'Lon': 20.1683,\n",
       "  'Date': '2020-03-16T00:00:00Z',\n",
       "  'Cases': 51,\n",
       "  'Status': 'confirmed'},\n",
       " {'Country': 'Albania',\n",
       "  'Province': '',\n",
       "  'Lat': 41.1533,\n",
       "  'Lon': 20.1683,\n",
       "  'Date': '2020-03-16T00:00:00Z',\n",
       "  'Cases': 1,\n",
       "  'Status': 'deaths'},\n",
       " {'Country': 'Albania',\n",
       "  'Province': '',\n",
       "  'Lat': 41.1533,\n",
       "  'Lon': 20.1683,\n",
       "  'Date': '2020-03-17T00:00:00Z',\n",
       "  'Cases': 55,\n",
       "  'Status': 'confirmed'},\n",
       " {'Country': 'Albania',\n",
       "  'Province': '',\n",
       "  'Lat': 41.1533,\n",
       "  'Lon': 20.1683,\n",
       "  'Date': '2020-03-17T00:00:00Z',\n",
       "  'Cases': 0,\n",
       "  'Status': 'recovered'},\n",
       " {'Country': 'Albania',\n",
       "  'Province': '',\n",
       "  'Lat': 41.1533,\n",
       "  'Lon': 20.1683,\n",
       "  'Date': '2020-03-17T00:00:00Z',\n",
       "  'Cases': 1,\n",
       "  'Status': 'deaths'},\n",
       " {'Country': 'Albania',\n",
       "  'Province': '',\n",
       "  'Lat': 41.1533,\n",
       "  'Lon': 20.1683,\n",
       "  'Date': '2020-03-18T00:00:00Z',\n",
       "  'Cases': 0,\n",
       "  'Status': 'recovered'},\n",
       " {'Country': 'Albania',\n",
       "  'Province': '',\n",
       "  'Lat': 41.1533,\n",
       "  'Lon': 20.1683,\n",
       "  'Date': '2020-03-18T00:00:00Z',\n",
       "  'Cases': 2,\n",
       "  'Status': 'deaths'},\n",
       " {'Country': 'Albania',\n",
       "  'Province': '',\n",
       "  'Lat': 41.1533,\n",
       "  'Lon': 20.1683,\n",
       "  'Date': '2020-03-18T00:00:00Z',\n",
       "  'Cases': 59,\n",
       "  'Status': 'confirmed'},\n",
       " {'Country': 'Albania',\n",
       "  'Province': '',\n",
       "  'Lat': 41.1533,\n",
       "  'Lon': 20.1683,\n",
       "  'Date': '2020-03-19T00:00:00Z',\n",
       "  'Cases': 64,\n",
       "  'Status': 'confirmed'},\n",
       " {'Country': 'Albania',\n",
       "  'Province': '',\n",
       "  'Lat': 41.1533,\n",
       "  'Lon': 20.1683,\n",
       "  'Date': '2020-03-19T00:00:00Z',\n",
       "  'Cases': 2,\n",
       "  'Status': 'deaths'},\n",
       " {'Country': 'Albania',\n",
       "  'Province': '',\n",
       "  'Lat': 41.1533,\n",
       "  'Lon': 20.1683,\n",
       "  'Date': '2020-03-19T00:00:00Z',\n",
       "  'Cases': 0,\n",
       "  'Status': 'recovered'},\n",
       " {'Country': 'Albania',\n",
       "  'Province': '',\n",
       "  'Lat': 41.1533,\n",
       "  'Lon': 20.1683,\n",
       "  'Date': '2020-03-20T00:00:00Z',\n",
       "  'Cases': 0,\n",
       "  'Status': 'recovered'},\n",
       " {'Country': 'Albania',\n",
       "  'Province': '',\n",
       "  'Lat': 41.1533,\n",
       "  'Lon': 20.1683,\n",
       "  'Date': '2020-03-20T00:00:00Z',\n",
       "  'Cases': 70,\n",
       "  'Status': 'confirmed'},\n",
       " {'Country': 'Albania',\n",
       "  'Province': '',\n",
       "  'Lat': 41.1533,\n",
       "  'Lon': 20.1683,\n",
       "  'Date': '2020-03-20T00:00:00Z',\n",
       "  'Cases': 2,\n",
       "  'Status': 'deaths'},\n",
       " {'Country': 'Albania',\n",
       "  'Province': '',\n",
       "  'Lat': 41.1533,\n",
       "  'Lon': 20.1683,\n",
       "  'Date': '2020-03-21T00:00:00Z',\n",
       "  'Cases': 2,\n",
       "  'Status': 'recovered'},\n",
       " {'Country': 'Albania',\n",
       "  'Province': '',\n",
       "  'Lat': 41.1533,\n",
       "  'Lon': 20.1683,\n",
       "  'Date': '2020-03-21T00:00:00Z',\n",
       "  'Cases': 2,\n",
       "  'Status': 'deaths'},\n",
       " {'Country': 'Albania',\n",
       "  'Province': '',\n",
       "  'Lat': 41.1533,\n",
       "  'Lon': 20.1683,\n",
       "  'Date': '2020-03-21T00:00:00Z',\n",
       "  'Cases': 76,\n",
       "  'Status': 'confirmed'},\n",
       " {'Country': 'Algeria',\n",
       "  'Province': '',\n",
       "  'Lat': 28.0339,\n",
       "  'Lon': 1.6596,\n",
       "  'Date': '2020-01-22T00:00:00Z',\n",
       "  'Cases': 0,\n",
       "  'Status': 'deaths'},\n",
       " {'Country': 'Algeria',\n",
       "  'Province': '',\n",
       "  'Lat': 28.0339,\n",
       "  'Lon': 1.6596,\n",
       "  'Date': '2020-01-22T00:00:00Z',\n",
       "  'Cases': 0,\n",
       "  'Status': 'recovered'},\n",
       " {'Country': 'Algeria',\n",
       "  'Province': '',\n",
       "  'Lat': 28.0339,\n",
       "  'Lon': 1.6596,\n",
       "  'Date': '2020-01-22T00:00:00Z',\n",
       "  'Cases': 0,\n",
       "  'Status': 'confirmed'},\n",
       " {'Country': 'Algeria',\n",
       "  'Province': '',\n",
       "  'Lat': 28.0339,\n",
       "  'Lon': 1.6596,\n",
       "  'Date': '2020-01-23T00:00:00Z',\n",
       "  'Cases': 0,\n",
       "  'Status': 'deaths'},\n",
       " {'Country': 'Algeria',\n",
       "  'Province': '',\n",
       "  'Lat': 28.0339,\n",
       "  'Lon': 1.6596,\n",
       "  'Date': '2020-01-23T00:00:00Z',\n",
       "  'Cases': 0,\n",
       "  'Status': 'recovered'},\n",
       " {'Country': 'Algeria',\n",
       "  'Province': '',\n",
       "  'Lat': 28.0339,\n",
       "  'Lon': 1.6596,\n",
       "  'Date': '2020-01-23T00:00:00Z',\n",
       "  'Cases': 0,\n",
       "  'Status': 'confirmed'},\n",
       " {'Country': 'Algeria',\n",
       "  'Province': '',\n",
       "  'Lat': 28.0339,\n",
       "  'Lon': 1.6596,\n",
       "  'Date': '2020-01-24T00:00:00Z',\n",
       "  'Cases': 0,\n",
       "  'Status': 'deaths'},\n",
       " {'Country': 'Algeria',\n",
       "  'Province': '',\n",
       "  'Lat': 28.0339,\n",
       "  'Lon': 1.6596,\n",
       "  'Date': '2020-01-24T00:00:00Z',\n",
       "  'Cases': 0,\n",
       "  'Status': 'recovered'},\n",
       " {'Country': 'Algeria',\n",
       "  'Province': '',\n",
       "  'Lat': 28.0339,\n",
       "  'Lon': 1.6596,\n",
       "  'Date': '2020-01-24T00:00:00Z',\n",
       "  'Cases': 0,\n",
       "  'Status': 'confirmed'},\n",
       " {'Country': 'Algeria',\n",
       "  'Province': '',\n",
       "  'Lat': 28.0339,\n",
       "  'Lon': 1.6596,\n",
       "  'Date': '2020-01-25T00:00:00Z',\n",
       "  'Cases': 0,\n",
       "  'Status': 'deaths'},\n",
       " {'Country': 'Algeria',\n",
       "  'Province': '',\n",
       "  'Lat': 28.0339,\n",
       "  'Lon': 1.6596,\n",
       "  'Date': '2020-01-25T00:00:00Z',\n",
       "  'Cases': 0,\n",
       "  'Status': 'recovered'},\n",
       " {'Country': 'Algeria',\n",
       "  'Province': '',\n",
       "  'Lat': 28.0339,\n",
       "  'Lon': 1.6596,\n",
       "  'Date': '2020-01-25T00:00:00Z',\n",
       "  'Cases': 0,\n",
       "  'Status': 'confirmed'},\n",
       " {'Country': 'Algeria',\n",
       "  'Province': '',\n",
       "  'Lat': 28.0339,\n",
       "  'Lon': 1.6596,\n",
       "  'Date': '2020-01-26T00:00:00Z',\n",
       "  'Cases': 0,\n",
       "  'Status': 'deaths'},\n",
       " {'Country': 'Algeria',\n",
       "  'Province': '',\n",
       "  'Lat': 28.0339,\n",
       "  'Lon': 1.6596,\n",
       "  'Date': '2020-01-26T00:00:00Z',\n",
       "  'Cases': 0,\n",
       "  'Status': 'recovered'},\n",
       " {'Country': 'Algeria',\n",
       "  'Province': '',\n",
       "  'Lat': 28.0339,\n",
       "  'Lon': 1.6596,\n",
       "  'Date': '2020-01-26T00:00:00Z',\n",
       "  'Cases': 0,\n",
       "  'Status': 'confirmed'},\n",
       " {'Country': 'Algeria',\n",
       "  'Province': '',\n",
       "  'Lat': 28.0339,\n",
       "  'Lon': 1.6596,\n",
       "  'Date': '2020-01-27T00:00:00Z',\n",
       "  'Cases': 0,\n",
       "  'Status': 'deaths'},\n",
       " {'Country': 'Algeria',\n",
       "  'Province': '',\n",
       "  'Lat': 28.0339,\n",
       "  'Lon': 1.6596,\n",
       "  'Date': '2020-01-27T00:00:00Z',\n",
       "  'Cases': 0,\n",
       "  'Status': 'recovered'},\n",
       " {'Country': 'Algeria',\n",
       "  'Province': '',\n",
       "  'Lat': 28.0339,\n",
       "  'Lon': 1.6596,\n",
       "  'Date': '2020-01-27T00:00:00Z',\n",
       "  'Cases': 0,\n",
       "  'Status': 'confirmed'},\n",
       " {'Country': 'Algeria',\n",
       "  'Province': '',\n",
       "  'Lat': 28.0339,\n",
       "  'Lon': 1.6596,\n",
       "  'Date': '2020-01-28T00:00:00Z',\n",
       "  'Cases': 0,\n",
       "  'Status': 'deaths'},\n",
       " {'Country': 'Algeria',\n",
       "  'Province': '',\n",
       "  'Lat': 28.0339,\n",
       "  'Lon': 1.6596,\n",
       "  'Date': '2020-01-28T00:00:00Z',\n",
       "  'Cases': 0,\n",
       "  'Status': 'recovered'},\n",
       " {'Country': 'Algeria',\n",
       "  'Province': '',\n",
       "  'Lat': 28.0339,\n",
       "  'Lon': 1.6596,\n",
       "  'Date': '2020-01-28T00:00:00Z',\n",
       "  'Cases': 0,\n",
       "  'Status': 'confirmed'},\n",
       " {'Country': 'Algeria',\n",
       "  'Province': '',\n",
       "  'Lat': 28.0339,\n",
       "  'Lon': 1.6596,\n",
       "  'Date': '2020-01-29T00:00:00Z',\n",
       "  'Cases': 0,\n",
       "  'Status': 'deaths'},\n",
       " {'Country': 'Algeria',\n",
       "  'Province': '',\n",
       "  'Lat': 28.0339,\n",
       "  'Lon': 1.6596,\n",
       "  'Date': '2020-01-29T00:00:00Z',\n",
       "  'Cases': 0,\n",
       "  'Status': 'recovered'},\n",
       " {'Country': 'Algeria',\n",
       "  'Province': '',\n",
       "  'Lat': 28.0339,\n",
       "  'Lon': 1.6596,\n",
       "  'Date': '2020-01-29T00:00:00Z',\n",
       "  'Cases': 0,\n",
       "  'Status': 'confirmed'},\n",
       " {'Country': 'Algeria',\n",
       "  'Province': '',\n",
       "  'Lat': 28.0339,\n",
       "  'Lon': 1.6596,\n",
       "  'Date': '2020-01-30T00:00:00Z',\n",
       "  'Cases': 0,\n",
       "  'Status': 'deaths'},\n",
       " {'Country': 'Algeria',\n",
       "  'Province': '',\n",
       "  'Lat': 28.0339,\n",
       "  'Lon': 1.6596,\n",
       "  'Date': '2020-01-30T00:00:00Z',\n",
       "  'Cases': 0,\n",
       "  'Status': 'recovered'},\n",
       " {'Country': 'Algeria',\n",
       "  'Province': '',\n",
       "  'Lat': 28.0339,\n",
       "  'Lon': 1.6596,\n",
       "  'Date': '2020-01-30T00:00:00Z',\n",
       "  'Cases': 0,\n",
       "  'Status': 'confirmed'},\n",
       " {'Country': 'Algeria',\n",
       "  'Province': '',\n",
       "  'Lat': 28.0339,\n",
       "  'Lon': 1.6596,\n",
       "  'Date': '2020-01-31T00:00:00Z',\n",
       "  'Cases': 0,\n",
       "  'Status': 'deaths'},\n",
       " {'Country': 'Algeria',\n",
       "  'Province': '',\n",
       "  'Lat': 28.0339,\n",
       "  'Lon': 1.6596,\n",
       "  'Date': '2020-01-31T00:00:00Z',\n",
       "  'Cases': 0,\n",
       "  'Status': 'recovered'},\n",
       " {'Country': 'Algeria',\n",
       "  'Province': '',\n",
       "  'Lat': 28.0339,\n",
       "  'Lon': 1.6596,\n",
       "  'Date': '2020-01-31T00:00:00Z',\n",
       "  'Cases': 0,\n",
       "  'Status': 'confirmed'},\n",
       " {'Country': 'Algeria',\n",
       "  'Province': '',\n",
       "  'Lat': 28.0339,\n",
       "  'Lon': 1.6596,\n",
       "  'Date': '2020-02-01T00:00:00Z',\n",
       "  'Cases': 0,\n",
       "  'Status': 'deaths'},\n",
       " {'Country': 'Algeria',\n",
       "  'Province': '',\n",
       "  'Lat': 28.0339,\n",
       "  'Lon': 1.6596,\n",
       "  'Date': '2020-02-01T00:00:00Z',\n",
       "  'Cases': 0,\n",
       "  'Status': 'recovered'},\n",
       " {'Country': 'Algeria',\n",
       "  'Province': '',\n",
       "  'Lat': 28.0339,\n",
       "  'Lon': 1.6596,\n",
       "  'Date': '2020-02-01T00:00:00Z',\n",
       "  'Cases': 0,\n",
       "  'Status': 'confirmed'},\n",
       " {'Country': 'Algeria',\n",
       "  'Province': '',\n",
       "  'Lat': 28.0339,\n",
       "  'Lon': 1.6596,\n",
       "  'Date': '2020-02-02T00:00:00Z',\n",
       "  'Cases': 0,\n",
       "  'Status': 'deaths'},\n",
       " {'Country': 'Algeria',\n",
       "  'Province': '',\n",
       "  'Lat': 28.0339,\n",
       "  'Lon': 1.6596,\n",
       "  'Date': '2020-02-02T00:00:00Z',\n",
       "  'Cases': 0,\n",
       "  'Status': 'recovered'},\n",
       " {'Country': 'Algeria',\n",
       "  'Province': '',\n",
       "  'Lat': 28.0339,\n",
       "  'Lon': 1.6596,\n",
       "  'Date': '2020-02-02T00:00:00Z',\n",
       "  'Cases': 0,\n",
       "  'Status': 'confirmed'},\n",
       " {'Country': 'Algeria',\n",
       "  'Province': '',\n",
       "  'Lat': 28.0339,\n",
       "  'Lon': 1.6596,\n",
       "  'Date': '2020-02-03T00:00:00Z',\n",
       "  'Cases': 0,\n",
       "  'Status': 'deaths'},\n",
       " {'Country': 'Algeria',\n",
       "  'Province': '',\n",
       "  'Lat': 28.0339,\n",
       "  'Lon': 1.6596,\n",
       "  'Date': '2020-02-03T00:00:00Z',\n",
       "  'Cases': 0,\n",
       "  'Status': 'recovered'},\n",
       " {'Country': 'Algeria',\n",
       "  'Province': '',\n",
       "  'Lat': 28.0339,\n",
       "  'Lon': 1.6596,\n",
       "  'Date': '2020-02-03T00:00:00Z',\n",
       "  'Cases': 0,\n",
       "  'Status': 'confirmed'},\n",
       " {'Country': 'Algeria',\n",
       "  'Province': '',\n",
       "  'Lat': 28.0339,\n",
       "  'Lon': 1.6596,\n",
       "  'Date': '2020-02-04T00:00:00Z',\n",
       "  'Cases': 0,\n",
       "  'Status': 'deaths'},\n",
       " {'Country': 'Algeria',\n",
       "  'Province': '',\n",
       "  'Lat': 28.0339,\n",
       "  'Lon': 1.6596,\n",
       "  'Date': '2020-02-04T00:00:00Z',\n",
       "  'Cases': 0,\n",
       "  'Status': 'recovered'},\n",
       " {'Country': 'Algeria',\n",
       "  'Province': '',\n",
       "  'Lat': 28.0339,\n",
       "  'Lon': 1.6596,\n",
       "  'Date': '2020-02-04T00:00:00Z',\n",
       "  'Cases': 0,\n",
       "  'Status': 'confirmed'},\n",
       " {'Country': 'Algeria',\n",
       "  'Province': '',\n",
       "  'Lat': 28.0339,\n",
       "  'Lon': 1.6596,\n",
       "  'Date': '2020-02-05T00:00:00Z',\n",
       "  'Cases': 0,\n",
       "  'Status': 'deaths'},\n",
       " {'Country': 'Algeria',\n",
       "  'Province': '',\n",
       "  'Lat': 28.0339,\n",
       "  'Lon': 1.6596,\n",
       "  'Date': '2020-02-05T00:00:00Z',\n",
       "  'Cases': 0,\n",
       "  'Status': 'recovered'},\n",
       " {'Country': 'Algeria',\n",
       "  'Province': '',\n",
       "  'Lat': 28.0339,\n",
       "  'Lon': 1.6596,\n",
       "  'Date': '2020-02-05T00:00:00Z',\n",
       "  'Cases': 0,\n",
       "  'Status': 'confirmed'},\n",
       " {'Country': 'Algeria',\n",
       "  'Province': '',\n",
       "  'Lat': 28.0339,\n",
       "  'Lon': 1.6596,\n",
       "  'Date': '2020-02-06T00:00:00Z',\n",
       "  'Cases': 0,\n",
       "  'Status': 'deaths'},\n",
       " {'Country': 'Algeria',\n",
       "  'Province': '',\n",
       "  'Lat': 28.0339,\n",
       "  'Lon': 1.6596,\n",
       "  'Date': '2020-02-06T00:00:00Z',\n",
       "  'Cases': 0,\n",
       "  'Status': 'recovered'},\n",
       " {'Country': 'Algeria',\n",
       "  'Province': '',\n",
       "  'Lat': 28.0339,\n",
       "  'Lon': 1.6596,\n",
       "  'Date': '2020-02-06T00:00:00Z',\n",
       "  'Cases': 0,\n",
       "  'Status': 'confirmed'},\n",
       " {'Country': 'Algeria',\n",
       "  'Province': '',\n",
       "  'Lat': 28.0339,\n",
       "  'Lon': 1.6596,\n",
       "  'Date': '2020-02-07T00:00:00Z',\n",
       "  'Cases': 0,\n",
       "  'Status': 'deaths'},\n",
       " {'Country': 'Algeria',\n",
       "  'Province': '',\n",
       "  'Lat': 28.0339,\n",
       "  'Lon': 1.6596,\n",
       "  'Date': '2020-02-07T00:00:00Z',\n",
       "  'Cases': 0,\n",
       "  'Status': 'recovered'},\n",
       " {'Country': 'Algeria',\n",
       "  'Province': '',\n",
       "  'Lat': 28.0339,\n",
       "  'Lon': 1.6596,\n",
       "  'Date': '2020-02-07T00:00:00Z',\n",
       "  'Cases': 0,\n",
       "  'Status': 'confirmed'},\n",
       " {'Country': 'Algeria',\n",
       "  'Province': '',\n",
       "  'Lat': 28.0339,\n",
       "  'Lon': 1.6596,\n",
       "  'Date': '2020-02-08T00:00:00Z',\n",
       "  'Cases': 0,\n",
       "  'Status': 'deaths'},\n",
       " {'Country': 'Algeria',\n",
       "  'Province': '',\n",
       "  'Lat': 28.0339,\n",
       "  'Lon': 1.6596,\n",
       "  'Date': '2020-02-08T00:00:00Z',\n",
       "  'Cases': 0,\n",
       "  'Status': 'recovered'},\n",
       " {'Country': 'Algeria',\n",
       "  'Province': '',\n",
       "  'Lat': 28.0339,\n",
       "  'Lon': 1.6596,\n",
       "  'Date': '2020-02-08T00:00:00Z',\n",
       "  'Cases': 0,\n",
       "  'Status': 'confirmed'},\n",
       " {'Country': 'Algeria',\n",
       "  'Province': '',\n",
       "  'Lat': 28.0339,\n",
       "  'Lon': 1.6596,\n",
       "  'Date': '2020-02-09T00:00:00Z',\n",
       "  'Cases': 0,\n",
       "  'Status': 'deaths'},\n",
       " {'Country': 'Algeria',\n",
       "  'Province': '',\n",
       "  'Lat': 28.0339,\n",
       "  'Lon': 1.6596,\n",
       "  'Date': '2020-02-09T00:00:00Z',\n",
       "  'Cases': 0,\n",
       "  'Status': 'recovered'},\n",
       " {'Country': 'Algeria',\n",
       "  'Province': '',\n",
       "  'Lat': 28.0339,\n",
       "  'Lon': 1.6596,\n",
       "  'Date': '2020-02-09T00:00:00Z',\n",
       "  'Cases': 0,\n",
       "  'Status': 'confirmed'},\n",
       " {'Country': 'Algeria',\n",
       "  'Province': '',\n",
       "  'Lat': 28.0339,\n",
       "  'Lon': 1.6596,\n",
       "  'Date': '2020-02-10T00:00:00Z',\n",
       "  'Cases': 0,\n",
       "  'Status': 'deaths'},\n",
       " {'Country': 'Algeria',\n",
       "  'Province': '',\n",
       "  'Lat': 28.0339,\n",
       "  'Lon': 1.6596,\n",
       "  'Date': '2020-02-10T00:00:00Z',\n",
       "  'Cases': 0,\n",
       "  'Status': 'recovered'},\n",
       " {'Country': 'Algeria',\n",
       "  'Province': '',\n",
       "  'Lat': 28.0339,\n",
       "  'Lon': 1.6596,\n",
       "  'Date': '2020-02-10T00:00:00Z',\n",
       "  'Cases': 0,\n",
       "  'Status': 'confirmed'},\n",
       " {'Country': 'Algeria',\n",
       "  'Province': '',\n",
       "  'Lat': 28.0339,\n",
       "  'Lon': 1.6596,\n",
       "  'Date': '2020-02-11T00:00:00Z',\n",
       "  'Cases': 0,\n",
       "  'Status': 'deaths'},\n",
       " {'Country': 'Algeria',\n",
       "  'Province': '',\n",
       "  'Lat': 28.0339,\n",
       "  'Lon': 1.6596,\n",
       "  'Date': '2020-02-11T00:00:00Z',\n",
       "  'Cases': 0,\n",
       "  'Status': 'recovered'},\n",
       " {'Country': 'Algeria',\n",
       "  'Province': '',\n",
       "  'Lat': 28.0339,\n",
       "  'Lon': 1.6596,\n",
       "  'Date': '2020-02-11T00:00:00Z',\n",
       "  'Cases': 0,\n",
       "  'Status': 'confirmed'},\n",
       " {'Country': 'Algeria',\n",
       "  'Province': '',\n",
       "  'Lat': 28.0339,\n",
       "  'Lon': 1.6596,\n",
       "  'Date': '2020-02-12T00:00:00Z',\n",
       "  'Cases': 0,\n",
       "  'Status': 'deaths'},\n",
       " {'Country': 'Algeria',\n",
       "  'Province': '',\n",
       "  'Lat': 28.0339,\n",
       "  'Lon': 1.6596,\n",
       "  'Date': '2020-02-12T00:00:00Z',\n",
       "  'Cases': 0,\n",
       "  'Status': 'recovered'},\n",
       " {'Country': 'Algeria',\n",
       "  'Province': '',\n",
       "  'Lat': 28.0339,\n",
       "  'Lon': 1.6596,\n",
       "  'Date': '2020-02-12T00:00:00Z',\n",
       "  'Cases': 0,\n",
       "  'Status': 'confirmed'},\n",
       " {'Country': 'Algeria',\n",
       "  'Province': '',\n",
       "  'Lat': 28.0339,\n",
       "  'Lon': 1.6596,\n",
       "  'Date': '2020-02-13T00:00:00Z',\n",
       "  'Cases': 0,\n",
       "  'Status': 'deaths'},\n",
       " {'Country': 'Algeria',\n",
       "  'Province': '',\n",
       "  'Lat': 28.0339,\n",
       "  'Lon': 1.6596,\n",
       "  'Date': '2020-02-13T00:00:00Z',\n",
       "  'Cases': 0,\n",
       "  'Status': 'recovered'},\n",
       " {'Country': 'Algeria',\n",
       "  'Province': '',\n",
       "  'Lat': 28.0339,\n",
       "  'Lon': 1.6596,\n",
       "  'Date': '2020-02-13T00:00:00Z',\n",
       "  'Cases': 0,\n",
       "  'Status': 'confirmed'},\n",
       " {'Country': 'Algeria',\n",
       "  'Province': '',\n",
       "  'Lat': 28.0339,\n",
       "  'Lon': 1.6596,\n",
       "  'Date': '2020-02-14T00:00:00Z',\n",
       "  'Cases': 0,\n",
       "  'Status': 'deaths'},\n",
       " {'Country': 'Algeria',\n",
       "  'Province': '',\n",
       "  'Lat': 28.0339,\n",
       "  'Lon': 1.6596,\n",
       "  'Date': '2020-02-14T00:00:00Z',\n",
       "  'Cases': 0,\n",
       "  'Status': 'recovered'},\n",
       " {'Country': 'Algeria',\n",
       "  'Province': '',\n",
       "  'Lat': 28.0339,\n",
       "  'Lon': 1.6596,\n",
       "  'Date': '2020-02-14T00:00:00Z',\n",
       "  'Cases': 0,\n",
       "  'Status': 'confirmed'},\n",
       " {'Country': 'Algeria',\n",
       "  'Province': '',\n",
       "  'Lat': 28.0339,\n",
       "  'Lon': 1.6596,\n",
       "  'Date': '2020-02-15T00:00:00Z',\n",
       "  'Cases': 0,\n",
       "  'Status': 'deaths'},\n",
       " {'Country': 'Algeria',\n",
       "  'Province': '',\n",
       "  'Lat': 28.0339,\n",
       "  'Lon': 1.6596,\n",
       "  'Date': '2020-02-15T00:00:00Z',\n",
       "  'Cases': 0,\n",
       "  'Status': 'recovered'},\n",
       " {'Country': 'Algeria',\n",
       "  'Province': '',\n",
       "  'Lat': 28.0339,\n",
       "  'Lon': 1.6596,\n",
       "  'Date': '2020-02-15T00:00:00Z',\n",
       "  'Cases': 0,\n",
       "  'Status': 'confirmed'},\n",
       " {'Country': 'Algeria',\n",
       "  'Province': '',\n",
       "  'Lat': 28.0339,\n",
       "  'Lon': 1.6596,\n",
       "  'Date': '2020-02-16T00:00:00Z',\n",
       "  'Cases': 0,\n",
       "  'Status': 'deaths'},\n",
       " {'Country': 'Algeria',\n",
       "  'Province': '',\n",
       "  'Lat': 28.0339,\n",
       "  'Lon': 1.6596,\n",
       "  'Date': '2020-02-16T00:00:00Z',\n",
       "  'Cases': 0,\n",
       "  'Status': 'recovered'},\n",
       " {'Country': 'Algeria',\n",
       "  'Province': '',\n",
       "  'Lat': 28.0339,\n",
       "  'Lon': 1.6596,\n",
       "  'Date': '2020-02-16T00:00:00Z',\n",
       "  'Cases': 0,\n",
       "  'Status': 'confirmed'},\n",
       " {'Country': 'Algeria',\n",
       "  'Province': '',\n",
       "  'Lat': 28.0339,\n",
       "  'Lon': 1.6596,\n",
       "  'Date': '2020-02-17T00:00:00Z',\n",
       "  'Cases': 0,\n",
       "  'Status': 'deaths'},\n",
       " {'Country': 'Algeria',\n",
       "  'Province': '',\n",
       "  'Lat': 28.0339,\n",
       "  'Lon': 1.6596,\n",
       "  'Date': '2020-02-17T00:00:00Z',\n",
       "  'Cases': 0,\n",
       "  'Status': 'recovered'},\n",
       " {'Country': 'Algeria',\n",
       "  'Province': '',\n",
       "  'Lat': 28.0339,\n",
       "  'Lon': 1.6596,\n",
       "  'Date': '2020-02-17T00:00:00Z',\n",
       "  'Cases': 0,\n",
       "  'Status': 'confirmed'},\n",
       " {'Country': 'Algeria',\n",
       "  'Province': '',\n",
       "  'Lat': 28.0339,\n",
       "  'Lon': 1.6596,\n",
       "  'Date': '2020-02-18T00:00:00Z',\n",
       "  'Cases': 0,\n",
       "  'Status': 'deaths'},\n",
       " {'Country': 'Algeria',\n",
       "  'Province': '',\n",
       "  'Lat': 28.0339,\n",
       "  'Lon': 1.6596,\n",
       "  'Date': '2020-02-18T00:00:00Z',\n",
       "  'Cases': 0,\n",
       "  'Status': 'recovered'},\n",
       " {'Country': 'Algeria',\n",
       "  'Province': '',\n",
       "  'Lat': 28.0339,\n",
       "  'Lon': 1.6596,\n",
       "  'Date': '2020-02-18T00:00:00Z',\n",
       "  'Cases': 0,\n",
       "  'Status': 'confirmed'},\n",
       " {'Country': 'Algeria',\n",
       "  'Province': '',\n",
       "  'Lat': 28.0339,\n",
       "  'Lon': 1.6596,\n",
       "  'Date': '2020-02-19T00:00:00Z',\n",
       "  'Cases': 0,\n",
       "  'Status': 'deaths'},\n",
       " {'Country': 'Algeria',\n",
       "  'Province': '',\n",
       "  'Lat': 28.0339,\n",
       "  'Lon': 1.6596,\n",
       "  'Date': '2020-02-19T00:00:00Z',\n",
       "  'Cases': 0,\n",
       "  'Status': 'recovered'},\n",
       " {'Country': 'Algeria',\n",
       "  'Province': '',\n",
       "  'Lat': 28.0339,\n",
       "  'Lon': 1.6596,\n",
       "  'Date': '2020-02-19T00:00:00Z',\n",
       "  'Cases': 0,\n",
       "  'Status': 'confirmed'},\n",
       " {'Country': 'Algeria',\n",
       "  'Province': '',\n",
       "  'Lat': 28.0339,\n",
       "  'Lon': 1.6596,\n",
       "  'Date': '2020-02-20T00:00:00Z',\n",
       "  'Cases': 0,\n",
       "  'Status': 'deaths'},\n",
       " {'Country': 'Algeria',\n",
       "  'Province': '',\n",
       "  'Lat': 28.0339,\n",
       "  'Lon': 1.6596,\n",
       "  'Date': '2020-02-20T00:00:00Z',\n",
       "  'Cases': 0,\n",
       "  'Status': 'recovered'},\n",
       " {'Country': 'Algeria',\n",
       "  'Province': '',\n",
       "  'Lat': 28.0339,\n",
       "  'Lon': 1.6596,\n",
       "  'Date': '2020-02-20T00:00:00Z',\n",
       "  'Cases': 0,\n",
       "  'Status': 'confirmed'},\n",
       " {'Country': 'Algeria',\n",
       "  'Province': '',\n",
       "  'Lat': 28.0339,\n",
       "  'Lon': 1.6596,\n",
       "  'Date': '2020-02-21T00:00:00Z',\n",
       "  'Cases': 0,\n",
       "  'Status': 'deaths'},\n",
       " {'Country': 'Algeria',\n",
       "  'Province': '',\n",
       "  'Lat': 28.0339,\n",
       "  'Lon': 1.6596,\n",
       "  'Date': '2020-02-21T00:00:00Z',\n",
       "  'Cases': 0,\n",
       "  'Status': 'recovered'},\n",
       " {'Country': 'Algeria',\n",
       "  'Province': '',\n",
       "  'Lat': 28.0339,\n",
       "  'Lon': 1.6596,\n",
       "  'Date': '2020-02-21T00:00:00Z',\n",
       "  'Cases': 0,\n",
       "  'Status': 'confirmed'},\n",
       " {'Country': 'Algeria',\n",
       "  'Province': '',\n",
       "  'Lat': 28.0339,\n",
       "  'Lon': 1.6596,\n",
       "  'Date': '2020-02-22T00:00:00Z',\n",
       "  'Cases': 0,\n",
       "  'Status': 'deaths'},\n",
       " {'Country': 'Algeria',\n",
       "  'Province': '',\n",
       "  'Lat': 28.0339,\n",
       "  'Lon': 1.6596,\n",
       "  'Date': '2020-02-22T00:00:00Z',\n",
       "  'Cases': 0,\n",
       "  'Status': 'recovered'},\n",
       " {'Country': 'Algeria',\n",
       "  'Province': '',\n",
       "  'Lat': 28.0339,\n",
       "  'Lon': 1.6596,\n",
       "  'Date': '2020-02-22T00:00:00Z',\n",
       "  'Cases': 0,\n",
       "  'Status': 'confirmed'},\n",
       " {'Country': 'Algeria',\n",
       "  'Province': '',\n",
       "  'Lat': 28.0339,\n",
       "  'Lon': 1.6596,\n",
       "  'Date': '2020-02-23T00:00:00Z',\n",
       "  'Cases': 0,\n",
       "  'Status': 'deaths'},\n",
       " {'Country': 'Algeria',\n",
       "  'Province': '',\n",
       "  'Lat': 28.0339,\n",
       "  'Lon': 1.6596,\n",
       "  'Date': '2020-02-23T00:00:00Z',\n",
       "  'Cases': 0,\n",
       "  'Status': 'recovered'},\n",
       " {'Country': 'Algeria',\n",
       "  'Province': '',\n",
       "  'Lat': 28.0339,\n",
       "  'Lon': 1.6596,\n",
       "  'Date': '2020-02-23T00:00:00Z',\n",
       "  'Cases': 0,\n",
       "  'Status': 'confirmed'},\n",
       " {'Country': 'Algeria',\n",
       "  'Province': '',\n",
       "  'Lat': 28.0339,\n",
       "  'Lon': 1.6596,\n",
       "  'Date': '2020-02-24T00:00:00Z',\n",
       "  'Cases': 0,\n",
       "  'Status': 'deaths'},\n",
       " {'Country': 'Algeria',\n",
       "  'Province': '',\n",
       "  'Lat': 28.0339,\n",
       "  'Lon': 1.6596,\n",
       "  'Date': '2020-02-24T00:00:00Z',\n",
       "  'Cases': 0,\n",
       "  'Status': 'recovered'},\n",
       " {'Country': 'Algeria',\n",
       "  'Province': '',\n",
       "  'Lat': 28.0339,\n",
       "  'Lon': 1.6596,\n",
       "  'Date': '2020-02-24T00:00:00Z',\n",
       "  'Cases': 0,\n",
       "  'Status': 'confirmed'},\n",
       " {'Country': 'Algeria',\n",
       "  'Province': '',\n",
       "  'Lat': 28.0339,\n",
       "  'Lon': 1.6596,\n",
       "  'Date': '2020-02-25T00:00:00Z',\n",
       "  'Cases': 0,\n",
       "  'Status': 'deaths'},\n",
       " {'Country': 'Algeria',\n",
       "  'Province': '',\n",
       "  'Lat': 28.0339,\n",
       "  'Lon': 1.6596,\n",
       "  'Date': '2020-02-25T00:00:00Z',\n",
       "  'Cases': 0,\n",
       "  'Status': 'recovered'},\n",
       " {'Country': 'Algeria',\n",
       "  'Province': '',\n",
       "  'Lat': 28.0339,\n",
       "  'Lon': 1.6596,\n",
       "  'Date': '2020-02-25T00:00:00Z',\n",
       "  'Cases': 1,\n",
       "  'Status': 'confirmed'},\n",
       " {'Country': 'Algeria',\n",
       "  'Province': '',\n",
       "  'Lat': 28.0339,\n",
       "  'Lon': 1.6596,\n",
       "  'Date': '2020-02-26T00:00:00Z',\n",
       "  'Cases': 0,\n",
       "  'Status': 'deaths'},\n",
       " {'Country': 'Algeria',\n",
       "  'Province': '',\n",
       "  'Lat': 28.0339,\n",
       "  'Lon': 1.6596,\n",
       "  'Date': '2020-02-26T00:00:00Z',\n",
       "  'Cases': 0,\n",
       "  'Status': 'recovered'},\n",
       " {'Country': 'Algeria',\n",
       "  'Province': '',\n",
       "  'Lat': 28.0339,\n",
       "  'Lon': 1.6596,\n",
       "  'Date': '2020-02-26T00:00:00Z',\n",
       "  'Cases': 1,\n",
       "  'Status': 'confirmed'},\n",
       " {'Country': 'Algeria',\n",
       "  'Province': '',\n",
       "  'Lat': 28.0339,\n",
       "  'Lon': 1.6596,\n",
       "  'Date': '2020-02-27T00:00:00Z',\n",
       "  'Cases': 1,\n",
       "  'Status': 'confirmed'},\n",
       " {'Country': 'Algeria',\n",
       "  'Province': '',\n",
       "  'Lat': 28.0339,\n",
       "  'Lon': 1.6596,\n",
       "  'Date': '2020-02-27T00:00:00Z',\n",
       "  'Cases': 0,\n",
       "  'Status': 'deaths'},\n",
       " {'Country': 'Algeria',\n",
       "  'Province': '',\n",
       "  'Lat': 28.0339,\n",
       "  'Lon': 1.6596,\n",
       "  'Date': '2020-02-27T00:00:00Z',\n",
       "  'Cases': 0,\n",
       "  'Status': 'recovered'},\n",
       " {'Country': 'Algeria',\n",
       "  'Province': '',\n",
       "  'Lat': 28.0339,\n",
       "  'Lon': 1.6596,\n",
       "  'Date': '2020-02-28T00:00:00Z',\n",
       "  'Cases': 1,\n",
       "  'Status': 'confirmed'},\n",
       " {'Country': 'Algeria',\n",
       "  'Province': '',\n",
       "  'Lat': 28.0339,\n",
       "  'Lon': 1.6596,\n",
       "  'Date': '2020-02-28T00:00:00Z',\n",
       "  'Cases': 0,\n",
       "  'Status': 'deaths'},\n",
       " {'Country': 'Algeria',\n",
       "  'Province': '',\n",
       "  'Lat': 28.0339,\n",
       "  'Lon': 1.6596,\n",
       "  'Date': '2020-02-28T00:00:00Z',\n",
       "  'Cases': 0,\n",
       "  'Status': 'recovered'},\n",
       " {'Country': 'Algeria',\n",
       "  'Province': '',\n",
       "  'Lat': 28.0339,\n",
       "  'Lon': 1.6596,\n",
       "  'Date': '2020-02-29T00:00:00Z',\n",
       "  'Cases': 1,\n",
       "  'Status': 'confirmed'},\n",
       " {'Country': 'Algeria',\n",
       "  'Province': '',\n",
       "  'Lat': 28.0339,\n",
       "  'Lon': 1.6596,\n",
       "  'Date': '2020-02-29T00:00:00Z',\n",
       "  'Cases': 0,\n",
       "  'Status': 'deaths'},\n",
       " {'Country': 'Algeria',\n",
       "  'Province': '',\n",
       "  'Lat': 28.0339,\n",
       "  'Lon': 1.6596,\n",
       "  'Date': '2020-02-29T00:00:00Z',\n",
       "  'Cases': 0,\n",
       "  'Status': 'recovered'},\n",
       " {'Country': 'Algeria',\n",
       "  'Province': '',\n",
       "  'Lat': 28.0339,\n",
       "  'Lon': 1.6596,\n",
       "  'Date': '2020-03-01T00:00:00Z',\n",
       "  'Cases': 1,\n",
       "  'Status': 'confirmed'},\n",
       " {'Country': 'Algeria',\n",
       "  'Province': '',\n",
       "  'Lat': 28.0339,\n",
       "  'Lon': 1.6596,\n",
       "  'Date': '2020-03-01T00:00:00Z',\n",
       "  'Cases': 0,\n",
       "  'Status': 'deaths'},\n",
       " {'Country': 'Algeria',\n",
       "  'Province': '',\n",
       "  'Lat': 28.0339,\n",
       "  'Lon': 1.6596,\n",
       "  'Date': '2020-03-01T00:00:00Z',\n",
       "  'Cases': 0,\n",
       "  'Status': 'recovered'},\n",
       " {'Country': 'Algeria',\n",
       "  'Province': '',\n",
       "  'Lat': 28.0339,\n",
       "  'Lon': 1.6596,\n",
       "  'Date': '2020-03-02T00:00:00Z',\n",
       "  'Cases': 3,\n",
       "  'Status': 'confirmed'},\n",
       " {'Country': 'Algeria',\n",
       "  'Province': '',\n",
       "  'Lat': 28.0339,\n",
       "  'Lon': 1.6596,\n",
       "  'Date': '2020-03-02T00:00:00Z',\n",
       "  'Cases': 0,\n",
       "  'Status': 'deaths'},\n",
       " {'Country': 'Algeria',\n",
       "  'Province': '',\n",
       "  'Lat': 28.0339,\n",
       "  'Lon': 1.6596,\n",
       "  'Date': '2020-03-02T00:00:00Z',\n",
       "  'Cases': 0,\n",
       "  'Status': 'recovered'},\n",
       " {'Country': 'Algeria',\n",
       "  'Province': '',\n",
       "  'Lat': 28.0339,\n",
       "  'Lon': 1.6596,\n",
       "  'Date': '2020-03-03T00:00:00Z',\n",
       "  'Cases': 5,\n",
       "  'Status': 'confirmed'},\n",
       " {'Country': 'Algeria',\n",
       "  'Province': '',\n",
       "  'Lat': 28.0339,\n",
       "  'Lon': 1.6596,\n",
       "  'Date': '2020-03-03T00:00:00Z',\n",
       "  'Cases': 0,\n",
       "  'Status': 'deaths'},\n",
       " {'Country': 'Algeria',\n",
       "  'Province': '',\n",
       "  'Lat': 28.0339,\n",
       "  'Lon': 1.6596,\n",
       "  'Date': '2020-03-03T00:00:00Z',\n",
       "  'Cases': 0,\n",
       "  'Status': 'recovered'},\n",
       " {'Country': 'Algeria',\n",
       "  'Province': '',\n",
       "  'Lat': 28.0339,\n",
       "  'Lon': 1.6596,\n",
       "  'Date': '2020-03-04T00:00:00Z',\n",
       "  'Cases': 12,\n",
       "  'Status': 'confirmed'},\n",
       " {'Country': 'Algeria',\n",
       "  'Province': '',\n",
       "  'Lat': 28.0339,\n",
       "  'Lon': 1.6596,\n",
       "  'Date': '2020-03-04T00:00:00Z',\n",
       "  'Cases': 0,\n",
       "  'Status': 'deaths'},\n",
       " {'Country': 'Algeria',\n",
       "  'Province': '',\n",
       "  'Lat': 28.0339,\n",
       "  'Lon': 1.6596,\n",
       "  'Date': '2020-03-04T00:00:00Z',\n",
       "  'Cases': 0,\n",
       "  'Status': 'recovered'},\n",
       " {'Country': 'Algeria',\n",
       "  'Province': '',\n",
       "  'Lat': 28.0339,\n",
       "  'Lon': 1.6596,\n",
       "  'Date': '2020-03-05T00:00:00Z',\n",
       "  'Cases': 12,\n",
       "  'Status': 'confirmed'},\n",
       " {'Country': 'Algeria',\n",
       "  'Province': '',\n",
       "  'Lat': 28.0339,\n",
       "  'Lon': 1.6596,\n",
       "  'Date': '2020-03-05T00:00:00Z',\n",
       "  'Cases': 0,\n",
       "  'Status': 'deaths'},\n",
       " {'Country': 'Algeria',\n",
       "  'Province': '',\n",
       "  'Lat': 28.0339,\n",
       "  'Lon': 1.6596,\n",
       "  'Date': '2020-03-05T00:00:00Z',\n",
       "  'Cases': 0,\n",
       "  'Status': 'recovered'},\n",
       " {'Country': 'Algeria',\n",
       "  'Province': '',\n",
       "  'Lat': 28.0339,\n",
       "  'Lon': 1.6596,\n",
       "  'Date': '2020-03-06T00:00:00Z',\n",
       "  'Cases': 17,\n",
       "  'Status': 'confirmed'},\n",
       " {'Country': 'Algeria',\n",
       "  'Province': '',\n",
       "  'Lat': 28.0339,\n",
       "  'Lon': 1.6596,\n",
       "  'Date': '2020-03-06T00:00:00Z',\n",
       "  'Cases': 0,\n",
       "  'Status': 'deaths'},\n",
       " {'Country': 'Algeria',\n",
       "  'Province': '',\n",
       "  'Lat': 28.0339,\n",
       "  'Lon': 1.6596,\n",
       "  'Date': '2020-03-06T00:00:00Z',\n",
       "  'Cases': 0,\n",
       "  'Status': 'recovered'},\n",
       " {'Country': 'Algeria',\n",
       "  'Province': '',\n",
       "  'Lat': 28.0339,\n",
       "  'Lon': 1.6596,\n",
       "  'Date': '2020-03-07T00:00:00Z',\n",
       "  'Cases': 17,\n",
       "  'Status': 'confirmed'},\n",
       " {'Country': 'Algeria',\n",
       "  'Province': '',\n",
       "  'Lat': 28.0339,\n",
       "  'Lon': 1.6596,\n",
       "  'Date': '2020-03-07T00:00:00Z',\n",
       "  'Cases': 0,\n",
       "  'Status': 'deaths'},\n",
       " {'Country': 'Algeria',\n",
       "  'Province': '',\n",
       "  'Lat': 28.0339,\n",
       "  'Lon': 1.6596,\n",
       "  'Date': '2020-03-07T00:00:00Z',\n",
       "  'Cases': 0,\n",
       "  'Status': 'recovered'},\n",
       " {'Country': 'Algeria',\n",
       "  'Province': '',\n",
       "  'Lat': 28.0339,\n",
       "  'Lon': 1.6596,\n",
       "  'Date': '2020-03-08T00:00:00Z',\n",
       "  'Cases': 19,\n",
       "  'Status': 'confirmed'},\n",
       " {'Country': 'Algeria',\n",
       "  'Province': '',\n",
       "  'Lat': 28.0339,\n",
       "  'Lon': 1.6596,\n",
       "  'Date': '2020-03-08T00:00:00Z',\n",
       "  'Cases': 0,\n",
       "  'Status': 'deaths'},\n",
       " {'Country': 'Algeria',\n",
       "  'Province': '',\n",
       "  'Lat': 28.0339,\n",
       "  'Lon': 1.6596,\n",
       "  'Date': '2020-03-08T00:00:00Z',\n",
       "  'Cases': 0,\n",
       "  'Status': 'recovered'},\n",
       " {'Country': 'Algeria',\n",
       "  'Province': '',\n",
       "  'Lat': 28.0339,\n",
       "  'Lon': 1.6596,\n",
       "  'Date': '2020-03-09T00:00:00Z',\n",
       "  'Cases': 20,\n",
       "  'Status': 'confirmed'},\n",
       " {'Country': 'Algeria',\n",
       "  'Province': '',\n",
       "  'Lat': 28.0339,\n",
       "  'Lon': 1.6596,\n",
       "  'Date': '2020-03-09T00:00:00Z',\n",
       "  'Cases': 0,\n",
       "  'Status': 'deaths'},\n",
       " {'Country': 'Algeria',\n",
       "  'Province': '',\n",
       "  'Lat': 28.0339,\n",
       "  'Lon': 1.6596,\n",
       "  'Date': '2020-03-09T00:00:00Z',\n",
       "  'Cases': 0,\n",
       "  'Status': 'recovered'},\n",
       " {'Country': 'Algeria',\n",
       "  'Province': '',\n",
       "  'Lat': 28.0339,\n",
       "  'Lon': 1.6596,\n",
       "  'Date': '2020-03-10T00:00:00Z',\n",
       "  'Cases': 20,\n",
       "  'Status': 'confirmed'},\n",
       " {'Country': 'Algeria',\n",
       "  'Province': '',\n",
       "  'Lat': 28.0339,\n",
       "  'Lon': 1.6596,\n",
       "  'Date': '2020-03-10T00:00:00Z',\n",
       "  'Cases': 0,\n",
       "  'Status': 'deaths'},\n",
       " {'Country': 'Algeria',\n",
       "  'Province': '',\n",
       "  'Lat': 28.0339,\n",
       "  'Lon': 1.6596,\n",
       "  'Date': '2020-03-10T00:00:00Z',\n",
       "  'Cases': 0,\n",
       "  'Status': 'recovered'},\n",
       " {'Country': 'Algeria',\n",
       "  'Province': '',\n",
       "  'Lat': 28.0339,\n",
       "  'Lon': 1.6596,\n",
       "  'Date': '2020-03-11T00:00:00Z',\n",
       "  'Cases': 20,\n",
       "  'Status': 'confirmed'},\n",
       " {'Country': 'Algeria',\n",
       "  'Province': '',\n",
       "  'Lat': 28.0339,\n",
       "  'Lon': 1.6596,\n",
       "  'Date': '2020-03-11T00:00:00Z',\n",
       "  'Cases': 0,\n",
       "  'Status': 'deaths'},\n",
       " {'Country': 'Algeria',\n",
       "  'Province': '',\n",
       "  'Lat': 28.0339,\n",
       "  'Lon': 1.6596,\n",
       "  'Date': '2020-03-11T00:00:00Z',\n",
       "  'Cases': 0,\n",
       "  'Status': 'recovered'},\n",
       " {'Country': 'Algeria',\n",
       "  'Province': '',\n",
       "  'Lat': 28.0339,\n",
       "  'Lon': 1.6596,\n",
       "  'Date': '2020-03-12T00:00:00Z',\n",
       "  'Cases': 8,\n",
       "  'Status': 'recovered'},\n",
       " {'Country': 'Algeria',\n",
       "  'Province': '',\n",
       "  'Lat': 28.0339,\n",
       "  'Lon': 1.6596,\n",
       "  'Date': '2020-03-12T00:00:00Z',\n",
       "  'Cases': 24,\n",
       "  'Status': 'confirmed'},\n",
       " {'Country': 'Algeria',\n",
       "  'Province': '',\n",
       "  'Lat': 28.0339,\n",
       "  'Lon': 1.6596,\n",
       "  'Date': '2020-03-12T00:00:00Z',\n",
       "  'Cases': 1,\n",
       "  'Status': 'deaths'},\n",
       " {'Country': 'Algeria',\n",
       "  'Province': '',\n",
       "  'Lat': 28.0339,\n",
       "  'Lon': 1.6596,\n",
       "  'Date': '2020-03-13T00:00:00Z',\n",
       "  'Cases': 8,\n",
       "  'Status': 'recovered'},\n",
       " {'Country': 'Algeria',\n",
       "  'Province': '',\n",
       "  'Lat': 28.0339,\n",
       "  'Lon': 1.6596,\n",
       "  'Date': '2020-03-13T00:00:00Z',\n",
       "  'Cases': 26,\n",
       "  'Status': 'confirmed'},\n",
       " {'Country': 'Algeria',\n",
       "  'Province': '',\n",
       "  'Lat': 28.0339,\n",
       "  'Lon': 1.6596,\n",
       "  'Date': '2020-03-13T00:00:00Z',\n",
       "  'Cases': 2,\n",
       "  'Status': 'deaths'},\n",
       " {'Country': 'Algeria',\n",
       "  'Province': '',\n",
       "  'Lat': 28.0339,\n",
       "  'Lon': 1.6596,\n",
       "  'Date': '2020-03-14T00:00:00Z',\n",
       "  'Cases': 12,\n",
       "  'Status': 'recovered'},\n",
       " {'Country': 'Algeria',\n",
       "  'Province': '',\n",
       "  'Lat': 28.0339,\n",
       "  'Lon': 1.6596,\n",
       "  'Date': '2020-03-14T00:00:00Z',\n",
       "  'Cases': 37,\n",
       "  'Status': 'confirmed'},\n",
       " {'Country': 'Algeria',\n",
       "  'Province': '',\n",
       "  'Lat': 28.0339,\n",
       "  'Lon': 1.6596,\n",
       "  'Date': '2020-03-14T00:00:00Z',\n",
       "  'Cases': 3,\n",
       "  'Status': 'deaths'},\n",
       " {'Country': 'Algeria',\n",
       "  'Province': '',\n",
       "  'Lat': 28.0339,\n",
       "  'Lon': 1.6596,\n",
       "  'Date': '2020-03-15T00:00:00Z',\n",
       "  'Cases': 12,\n",
       "  'Status': 'recovered'},\n",
       " {'Country': 'Algeria',\n",
       "  'Province': '',\n",
       "  'Lat': 28.0339,\n",
       "  'Lon': 1.6596,\n",
       "  'Date': '2020-03-15T00:00:00Z',\n",
       "  'Cases': 48,\n",
       "  'Status': 'confirmed'},\n",
       " {'Country': 'Algeria',\n",
       "  'Province': '',\n",
       "  'Lat': 28.0339,\n",
       "  'Lon': 1.6596,\n",
       "  'Date': '2020-03-15T00:00:00Z',\n",
       "  'Cases': 4,\n",
       "  'Status': 'deaths'},\n",
       " {'Country': 'Algeria',\n",
       "  'Province': '',\n",
       "  'Lat': 28.0339,\n",
       "  'Lon': 1.6596,\n",
       "  'Date': '2020-03-16T00:00:00Z',\n",
       "  'Cases': 12,\n",
       "  'Status': 'recovered'},\n",
       " {'Country': 'Algeria',\n",
       "  'Province': '',\n",
       "  'Lat': 28.0339,\n",
       "  'Lon': 1.6596,\n",
       "  'Date': '2020-03-16T00:00:00Z',\n",
       "  'Cases': 54,\n",
       "  'Status': 'confirmed'},\n",
       " {'Country': 'Algeria',\n",
       "  'Province': '',\n",
       "  'Lat': 28.0339,\n",
       "  'Lon': 1.6596,\n",
       "  'Date': '2020-03-16T00:00:00Z',\n",
       "  'Cases': 4,\n",
       "  'Status': 'deaths'},\n",
       " {'Country': 'Algeria',\n",
       "  'Province': '',\n",
       "  'Lat': 28.0339,\n",
       "  'Lon': 1.6596,\n",
       "  'Date': '2020-03-17T00:00:00Z',\n",
       "  'Cases': 4,\n",
       "  'Status': 'deaths'},\n",
       " {'Country': 'Algeria',\n",
       "  'Province': '',\n",
       "  'Lat': 28.0339,\n",
       "  'Lon': 1.6596,\n",
       "  'Date': '2020-03-17T00:00:00Z',\n",
       "  'Cases': 60,\n",
       "  'Status': 'confirmed'},\n",
       " {'Country': 'Algeria',\n",
       "  'Province': '',\n",
       "  'Lat': 28.0339,\n",
       "  'Lon': 1.6596,\n",
       "  'Date': '2020-03-17T00:00:00Z',\n",
       "  'Cases': 12,\n",
       "  'Status': 'recovered'},\n",
       " {'Country': 'Algeria',\n",
       "  'Province': '',\n",
       "  'Lat': 28.0339,\n",
       "  'Lon': 1.6596,\n",
       "  'Date': '2020-03-18T00:00:00Z',\n",
       "  'Cases': 12,\n",
       "  'Status': 'recovered'},\n",
       " {'Country': 'Algeria',\n",
       "  'Province': '',\n",
       "  'Lat': 28.0339,\n",
       "  'Lon': 1.6596,\n",
       "  'Date': '2020-03-18T00:00:00Z',\n",
       "  'Cases': 7,\n",
       "  'Status': 'deaths'},\n",
       " {'Country': 'Algeria',\n",
       "  'Province': '',\n",
       "  'Lat': 28.0339,\n",
       "  'Lon': 1.6596,\n",
       "  'Date': '2020-03-18T00:00:00Z',\n",
       "  'Cases': 74,\n",
       "  'Status': 'confirmed'},\n",
       " {'Country': 'Algeria',\n",
       "  'Province': '',\n",
       "  'Lat': 28.0339,\n",
       "  'Lon': 1.6596,\n",
       "  'Date': '2020-03-19T00:00:00Z',\n",
       "  'Cases': 87,\n",
       "  'Status': 'confirmed'},\n",
       " {'Country': 'Algeria',\n",
       "  'Province': '',\n",
       "  'Lat': 28.0339,\n",
       "  'Lon': 1.6596,\n",
       "  'Date': '2020-03-19T00:00:00Z',\n",
       "  'Cases': 9,\n",
       "  'Status': 'deaths'},\n",
       " {'Country': 'Algeria',\n",
       "  'Province': '',\n",
       "  'Lat': 28.0339,\n",
       "  'Lon': 1.6596,\n",
       "  'Date': '2020-03-19T00:00:00Z',\n",
       "  'Cases': 32,\n",
       "  'Status': 'recovered'},\n",
       " {'Country': 'Algeria',\n",
       "  'Province': '',\n",
       "  'Lat': 28.0339,\n",
       "  'Lon': 1.6596,\n",
       "  'Date': '2020-03-20T00:00:00Z',\n",
       "  'Cases': 90,\n",
       "  'Status': 'confirmed'},\n",
       " {'Country': 'Algeria',\n",
       "  'Province': '',\n",
       "  'Lat': 28.0339,\n",
       "  'Lon': 1.6596,\n",
       "  'Date': '2020-03-20T00:00:00Z',\n",
       "  'Cases': 11,\n",
       "  'Status': 'deaths'},\n",
       " {'Country': 'Algeria',\n",
       "  'Province': '',\n",
       "  'Lat': 28.0339,\n",
       "  'Lon': 1.6596,\n",
       "  'Date': '2020-03-20T00:00:00Z',\n",
       "  'Cases': 32,\n",
       "  'Status': 'recovered'},\n",
       " {'Country': 'Algeria',\n",
       "  'Province': '',\n",
       "  'Lat': 28.0339,\n",
       "  'Lon': 1.6596,\n",
       "  'Date': '2020-03-21T00:00:00Z',\n",
       "  'Cases': 32,\n",
       "  'Status': 'recovered'},\n",
       " {'Country': 'Algeria',\n",
       "  'Province': '',\n",
       "  'Lat': 28.0339,\n",
       "  'Lon': 1.6596,\n",
       "  'Date': '2020-03-21T00:00:00Z',\n",
       "  'Cases': 15,\n",
       "  'Status': 'deaths'},\n",
       " {'Country': 'Algeria',\n",
       "  'Province': '',\n",
       "  'Lat': 28.0339,\n",
       "  'Lon': 1.6596,\n",
       "  'Date': '2020-03-21T00:00:00Z',\n",
       "  'Cases': 139,\n",
       "  'Status': 'confirmed'},\n",
       " {'Country': 'Andorra',\n",
       "  'Province': '',\n",
       "  'Lat': 42.5063,\n",
       "  'Lon': 1.5218,\n",
       "  'Date': '2020-01-22T00:00:00Z',\n",
       "  'Cases': 0,\n",
       "  'Status': 'recovered'},\n",
       " {'Country': 'Andorra',\n",
       "  'Province': '',\n",
       "  'Lat': 42.5063,\n",
       "  'Lon': 1.5218,\n",
       "  'Date': '2020-01-22T00:00:00Z',\n",
       "  'Cases': 0,\n",
       "  'Status': 'confirmed'},\n",
       " {'Country': 'Andorra',\n",
       "  'Province': '',\n",
       "  'Lat': 42.5063,\n",
       "  'Lon': 1.5218,\n",
       "  'Date': '2020-01-22T00:00:00Z',\n",
       "  'Cases': 0,\n",
       "  'Status': 'deaths'},\n",
       " {'Country': 'Andorra',\n",
       "  'Province': '',\n",
       "  'Lat': 42.5063,\n",
       "  'Lon': 1.5218,\n",
       "  'Date': '2020-01-23T00:00:00Z',\n",
       "  'Cases': 0,\n",
       "  'Status': 'recovered'},\n",
       " {'Country': 'Andorra',\n",
       "  'Province': '',\n",
       "  'Lat': 42.5063,\n",
       "  'Lon': 1.5218,\n",
       "  'Date': '2020-01-23T00:00:00Z',\n",
       "  'Cases': 0,\n",
       "  'Status': 'confirmed'},\n",
       " {'Country': 'Andorra',\n",
       "  'Province': '',\n",
       "  'Lat': 42.5063,\n",
       "  'Lon': 1.5218,\n",
       "  'Date': '2020-01-23T00:00:00Z',\n",
       "  'Cases': 0,\n",
       "  'Status': 'deaths'},\n",
       " {'Country': 'Andorra',\n",
       "  'Province': '',\n",
       "  'Lat': 42.5063,\n",
       "  'Lon': 1.5218,\n",
       "  'Date': '2020-01-24T00:00:00Z',\n",
       "  'Cases': 0,\n",
       "  'Status': 'deaths'},\n",
       " {'Country': 'Andorra',\n",
       "  'Province': '',\n",
       "  'Lat': 42.5063,\n",
       "  'Lon': 1.5218,\n",
       "  'Date': '2020-01-24T00:00:00Z',\n",
       "  'Cases': 0,\n",
       "  'Status': 'recovered'},\n",
       " {'Country': 'Andorra',\n",
       "  'Province': '',\n",
       "  'Lat': 42.5063,\n",
       "  'Lon': 1.5218,\n",
       "  'Date': '2020-01-24T00:00:00Z',\n",
       "  'Cases': 0,\n",
       "  'Status': 'confirmed'},\n",
       " {'Country': 'Andorra',\n",
       "  'Province': '',\n",
       "  'Lat': 42.5063,\n",
       "  'Lon': 1.5218,\n",
       "  'Date': '2020-01-25T00:00:00Z',\n",
       "  'Cases': 0,\n",
       "  'Status': 'deaths'},\n",
       " {'Country': 'Andorra',\n",
       "  'Province': '',\n",
       "  'Lat': 42.5063,\n",
       "  'Lon': 1.5218,\n",
       "  'Date': '2020-01-25T00:00:00Z',\n",
       "  'Cases': 0,\n",
       "  'Status': 'recovered'},\n",
       " {'Country': 'Andorra',\n",
       "  'Province': '',\n",
       "  'Lat': 42.5063,\n",
       "  'Lon': 1.5218,\n",
       "  'Date': '2020-01-25T00:00:00Z',\n",
       "  'Cases': 0,\n",
       "  'Status': 'confirmed'},\n",
       " {'Country': 'Andorra',\n",
       "  'Province': '',\n",
       "  'Lat': 42.5063,\n",
       "  'Lon': 1.5218,\n",
       "  'Date': '2020-01-26T00:00:00Z',\n",
       "  'Cases': 0,\n",
       "  'Status': 'deaths'},\n",
       " {'Country': 'Andorra',\n",
       "  'Province': '',\n",
       "  'Lat': 42.5063,\n",
       "  'Lon': 1.5218,\n",
       "  'Date': '2020-01-26T00:00:00Z',\n",
       "  'Cases': 0,\n",
       "  'Status': 'recovered'},\n",
       " {'Country': 'Andorra',\n",
       "  'Province': '',\n",
       "  'Lat': 42.5063,\n",
       "  'Lon': 1.5218,\n",
       "  'Date': '2020-01-26T00:00:00Z',\n",
       "  'Cases': 0,\n",
       "  'Status': 'confirmed'},\n",
       " {'Country': 'Andorra',\n",
       "  'Province': '',\n",
       "  'Lat': 42.5063,\n",
       "  'Lon': 1.5218,\n",
       "  'Date': '2020-01-27T00:00:00Z',\n",
       "  'Cases': 0,\n",
       "  'Status': 'deaths'},\n",
       " {'Country': 'Andorra',\n",
       "  'Province': '',\n",
       "  'Lat': 42.5063,\n",
       "  'Lon': 1.5218,\n",
       "  'Date': '2020-01-27T00:00:00Z',\n",
       "  'Cases': 0,\n",
       "  'Status': 'recovered'},\n",
       " {'Country': 'Andorra',\n",
       "  'Province': '',\n",
       "  'Lat': 42.5063,\n",
       "  'Lon': 1.5218,\n",
       "  'Date': '2020-01-27T00:00:00Z',\n",
       "  'Cases': 0,\n",
       "  'Status': 'confirmed'},\n",
       " {'Country': 'Andorra',\n",
       "  'Province': '',\n",
       "  'Lat': 42.5063,\n",
       "  'Lon': 1.5218,\n",
       "  'Date': '2020-01-28T00:00:00Z',\n",
       "  'Cases': 0,\n",
       "  'Status': 'deaths'},\n",
       " {'Country': 'Andorra',\n",
       "  'Province': '',\n",
       "  'Lat': 42.5063,\n",
       "  'Lon': 1.5218,\n",
       "  'Date': '2020-01-28T00:00:00Z',\n",
       "  'Cases': 0,\n",
       "  'Status': 'recovered'},\n",
       " {'Country': 'Andorra',\n",
       "  'Province': '',\n",
       "  'Lat': 42.5063,\n",
       "  'Lon': 1.5218,\n",
       "  'Date': '2020-01-28T00:00:00Z',\n",
       "  'Cases': 0,\n",
       "  'Status': 'confirmed'},\n",
       " {'Country': 'Andorra',\n",
       "  'Province': '',\n",
       "  'Lat': 42.5063,\n",
       "  'Lon': 1.5218,\n",
       "  'Date': '2020-01-29T00:00:00Z',\n",
       "  'Cases': 0,\n",
       "  'Status': 'deaths'},\n",
       " {'Country': 'Andorra',\n",
       "  'Province': '',\n",
       "  'Lat': 42.5063,\n",
       "  'Lon': 1.5218,\n",
       "  'Date': '2020-01-29T00:00:00Z',\n",
       "  'Cases': 0,\n",
       "  'Status': 'recovered'},\n",
       " {'Country': 'Andorra',\n",
       "  'Province': '',\n",
       "  'Lat': 42.5063,\n",
       "  'Lon': 1.5218,\n",
       "  'Date': '2020-01-29T00:00:00Z',\n",
       "  'Cases': 0,\n",
       "  'Status': 'confirmed'},\n",
       " {'Country': 'Andorra',\n",
       "  'Province': '',\n",
       "  'Lat': 42.5063,\n",
       "  'Lon': 1.5218,\n",
       "  'Date': '2020-01-30T00:00:00Z',\n",
       "  'Cases': 0,\n",
       "  'Status': 'deaths'},\n",
       " {'Country': 'Andorra',\n",
       "  'Province': '',\n",
       "  'Lat': 42.5063,\n",
       "  'Lon': 1.5218,\n",
       "  'Date': '2020-01-30T00:00:00Z',\n",
       "  'Cases': 0,\n",
       "  'Status': 'recovered'},\n",
       " {'Country': 'Andorra',\n",
       "  'Province': '',\n",
       "  'Lat': 42.5063,\n",
       "  'Lon': 1.5218,\n",
       "  'Date': '2020-01-30T00:00:00Z',\n",
       "  'Cases': 0,\n",
       "  'Status': 'confirmed'},\n",
       " {'Country': 'Andorra',\n",
       "  'Province': '',\n",
       "  'Lat': 42.5063,\n",
       "  'Lon': 1.5218,\n",
       "  'Date': '2020-01-31T00:00:00Z',\n",
       "  'Cases': 0,\n",
       "  'Status': 'deaths'},\n",
       " {'Country': 'Andorra',\n",
       "  'Province': '',\n",
       "  'Lat': 42.5063,\n",
       "  'Lon': 1.5218,\n",
       "  'Date': '2020-01-31T00:00:00Z',\n",
       "  'Cases': 0,\n",
       "  'Status': 'recovered'},\n",
       " {'Country': 'Andorra',\n",
       "  'Province': '',\n",
       "  'Lat': 42.5063,\n",
       "  'Lon': 1.5218,\n",
       "  'Date': '2020-01-31T00:00:00Z',\n",
       "  'Cases': 0,\n",
       "  'Status': 'confirmed'},\n",
       " {'Country': 'Andorra',\n",
       "  'Province': '',\n",
       "  'Lat': 42.5063,\n",
       "  'Lon': 1.5218,\n",
       "  'Date': '2020-02-01T00:00:00Z',\n",
       "  'Cases': 0,\n",
       "  'Status': 'deaths'},\n",
       " {'Country': 'Andorra',\n",
       "  'Province': '',\n",
       "  'Lat': 42.5063,\n",
       "  'Lon': 1.5218,\n",
       "  'Date': '2020-02-01T00:00:00Z',\n",
       "  'Cases': 0,\n",
       "  'Status': 'recovered'},\n",
       " {'Country': 'Andorra',\n",
       "  'Province': '',\n",
       "  'Lat': 42.5063,\n",
       "  'Lon': 1.5218,\n",
       "  'Date': '2020-02-01T00:00:00Z',\n",
       "  'Cases': 0,\n",
       "  'Status': 'confirmed'},\n",
       " {'Country': 'Andorra',\n",
       "  'Province': '',\n",
       "  'Lat': 42.5063,\n",
       "  'Lon': 1.5218,\n",
       "  'Date': '2020-02-02T00:00:00Z',\n",
       "  'Cases': 0,\n",
       "  'Status': 'deaths'},\n",
       " {'Country': 'Andorra',\n",
       "  'Province': '',\n",
       "  'Lat': 42.5063,\n",
       "  'Lon': 1.5218,\n",
       "  'Date': '2020-02-02T00:00:00Z',\n",
       "  'Cases': 0,\n",
       "  'Status': 'recovered'},\n",
       " {'Country': 'Andorra',\n",
       "  'Province': '',\n",
       "  'Lat': 42.5063,\n",
       "  'Lon': 1.5218,\n",
       "  'Date': '2020-02-02T00:00:00Z',\n",
       "  'Cases': 0,\n",
       "  'Status': 'confirmed'},\n",
       " {'Country': 'Andorra',\n",
       "  'Province': '',\n",
       "  'Lat': 42.5063,\n",
       "  'Lon': 1.5218,\n",
       "  'Date': '2020-02-03T00:00:00Z',\n",
       "  'Cases': 0,\n",
       "  'Status': 'deaths'},\n",
       " {'Country': 'Andorra',\n",
       "  'Province': '',\n",
       "  'Lat': 42.5063,\n",
       "  'Lon': 1.5218,\n",
       "  'Date': '2020-02-03T00:00:00Z',\n",
       "  'Cases': 0,\n",
       "  'Status': 'recovered'},\n",
       " {'Country': 'Andorra',\n",
       "  'Province': '',\n",
       "  'Lat': 42.5063,\n",
       "  'Lon': 1.5218,\n",
       "  'Date': '2020-02-03T00:00:00Z',\n",
       "  'Cases': 0,\n",
       "  'Status': 'confirmed'},\n",
       " {'Country': 'Andorra',\n",
       "  'Province': '',\n",
       "  'Lat': 42.5063,\n",
       "  'Lon': 1.5218,\n",
       "  'Date': '2020-02-04T00:00:00Z',\n",
       "  'Cases': 0,\n",
       "  'Status': 'deaths'},\n",
       " {'Country': 'Andorra',\n",
       "  'Province': '',\n",
       "  'Lat': 42.5063,\n",
       "  'Lon': 1.5218,\n",
       "  'Date': '2020-02-04T00:00:00Z',\n",
       "  'Cases': 0,\n",
       "  'Status': 'recovered'},\n",
       " {'Country': 'Andorra',\n",
       "  'Province': '',\n",
       "  'Lat': 42.5063,\n",
       "  'Lon': 1.5218,\n",
       "  'Date': '2020-02-04T00:00:00Z',\n",
       "  'Cases': 0,\n",
       "  'Status': 'confirmed'},\n",
       " {'Country': 'Andorra',\n",
       "  'Province': '',\n",
       "  'Lat': 42.5063,\n",
       "  'Lon': 1.5218,\n",
       "  'Date': '2020-02-05T00:00:00Z',\n",
       "  'Cases': 0,\n",
       "  'Status': 'deaths'},\n",
       " {'Country': 'Andorra',\n",
       "  'Province': '',\n",
       "  'Lat': 42.5063,\n",
       "  'Lon': 1.5218,\n",
       "  'Date': '2020-02-05T00:00:00Z',\n",
       "  'Cases': 0,\n",
       "  'Status': 'recovered'},\n",
       " {'Country': 'Andorra',\n",
       "  'Province': '',\n",
       "  'Lat': 42.5063,\n",
       "  'Lon': 1.5218,\n",
       "  'Date': '2020-02-05T00:00:00Z',\n",
       "  'Cases': 0,\n",
       "  'Status': 'confirmed'},\n",
       " {'Country': 'Andorra',\n",
       "  'Province': '',\n",
       "  'Lat': 42.5063,\n",
       "  'Lon': 1.5218,\n",
       "  'Date': '2020-02-06T00:00:00Z',\n",
       "  'Cases': 0,\n",
       "  'Status': 'deaths'},\n",
       " {'Country': 'Andorra',\n",
       "  'Province': '',\n",
       "  'Lat': 42.5063,\n",
       "  'Lon': 1.5218,\n",
       "  'Date': '2020-02-06T00:00:00Z',\n",
       "  'Cases': 0,\n",
       "  'Status': 'recovered'},\n",
       " {'Country': 'Andorra',\n",
       "  'Province': '',\n",
       "  'Lat': 42.5063,\n",
       "  'Lon': 1.5218,\n",
       "  'Date': '2020-02-06T00:00:00Z',\n",
       "  'Cases': 0,\n",
       "  'Status': 'confirmed'},\n",
       " {'Country': 'Andorra',\n",
       "  'Province': '',\n",
       "  'Lat': 42.5063,\n",
       "  'Lon': 1.5218,\n",
       "  'Date': '2020-02-07T00:00:00Z',\n",
       "  'Cases': 0,\n",
       "  'Status': 'deaths'},\n",
       " {'Country': 'Andorra',\n",
       "  'Province': '',\n",
       "  'Lat': 42.5063,\n",
       "  'Lon': 1.5218,\n",
       "  'Date': '2020-02-07T00:00:00Z',\n",
       "  'Cases': 0,\n",
       "  'Status': 'recovered'},\n",
       " {'Country': 'Andorra',\n",
       "  'Province': '',\n",
       "  'Lat': 42.5063,\n",
       "  'Lon': 1.5218,\n",
       "  'Date': '2020-02-07T00:00:00Z',\n",
       "  'Cases': 0,\n",
       "  'Status': 'confirmed'},\n",
       " {'Country': 'Andorra',\n",
       "  'Province': '',\n",
       "  'Lat': 42.5063,\n",
       "  'Lon': 1.5218,\n",
       "  'Date': '2020-02-08T00:00:00Z',\n",
       "  'Cases': 0,\n",
       "  'Status': 'deaths'},\n",
       " {'Country': 'Andorra',\n",
       "  'Province': '',\n",
       "  'Lat': 42.5063,\n",
       "  'Lon': 1.5218,\n",
       "  'Date': '2020-02-08T00:00:00Z',\n",
       "  'Cases': 0,\n",
       "  'Status': 'recovered'},\n",
       " {'Country': 'Andorra',\n",
       "  'Province': '',\n",
       "  'Lat': 42.5063,\n",
       "  'Lon': 1.5218,\n",
       "  'Date': '2020-02-08T00:00:00Z',\n",
       "  'Cases': 0,\n",
       "  'Status': 'confirmed'},\n",
       " {'Country': 'Andorra',\n",
       "  'Province': '',\n",
       "  'Lat': 42.5063,\n",
       "  'Lon': 1.5218,\n",
       "  'Date': '2020-02-09T00:00:00Z',\n",
       "  'Cases': 0,\n",
       "  'Status': 'deaths'},\n",
       " {'Country': 'Andorra',\n",
       "  'Province': '',\n",
       "  'Lat': 42.5063,\n",
       "  'Lon': 1.5218,\n",
       "  'Date': '2020-02-09T00:00:00Z',\n",
       "  'Cases': 0,\n",
       "  'Status': 'recovered'},\n",
       " {'Country': 'Andorra',\n",
       "  'Province': '',\n",
       "  'Lat': 42.5063,\n",
       "  'Lon': 1.5218,\n",
       "  'Date': '2020-02-09T00:00:00Z',\n",
       "  'Cases': 0,\n",
       "  'Status': 'confirmed'},\n",
       " {'Country': 'Andorra',\n",
       "  'Province': '',\n",
       "  'Lat': 42.5063,\n",
       "  'Lon': 1.5218,\n",
       "  'Date': '2020-02-10T00:00:00Z',\n",
       "  'Cases': 0,\n",
       "  'Status': 'deaths'},\n",
       " {'Country': 'Andorra',\n",
       "  'Province': '',\n",
       "  'Lat': 42.5063,\n",
       "  'Lon': 1.5218,\n",
       "  'Date': '2020-02-10T00:00:00Z',\n",
       "  'Cases': 0,\n",
       "  'Status': 'recovered'},\n",
       " {'Country': 'Andorra',\n",
       "  'Province': '',\n",
       "  'Lat': 42.5063,\n",
       "  'Lon': 1.5218,\n",
       "  'Date': '2020-02-10T00:00:00Z',\n",
       "  'Cases': 0,\n",
       "  'Status': 'confirmed'},\n",
       " {'Country': 'Andorra',\n",
       "  'Province': '',\n",
       "  'Lat': 42.5063,\n",
       "  'Lon': 1.5218,\n",
       "  'Date': '2020-02-11T00:00:00Z',\n",
       "  'Cases': 0,\n",
       "  'Status': 'deaths'},\n",
       " {'Country': 'Andorra',\n",
       "  'Province': '',\n",
       "  'Lat': 42.5063,\n",
       "  'Lon': 1.5218,\n",
       "  'Date': '2020-02-11T00:00:00Z',\n",
       "  'Cases': 0,\n",
       "  'Status': 'recovered'},\n",
       " {'Country': 'Andorra',\n",
       "  'Province': '',\n",
       "  'Lat': 42.5063,\n",
       "  'Lon': 1.5218,\n",
       "  'Date': '2020-02-11T00:00:00Z',\n",
       "  'Cases': 0,\n",
       "  'Status': 'confirmed'},\n",
       " {'Country': 'Andorra',\n",
       "  'Province': '',\n",
       "  'Lat': 42.5063,\n",
       "  'Lon': 1.5218,\n",
       "  'Date': '2020-02-12T00:00:00Z',\n",
       "  'Cases': 0,\n",
       "  'Status': 'deaths'},\n",
       " {'Country': 'Andorra',\n",
       "  'Province': '',\n",
       "  'Lat': 42.5063,\n",
       "  'Lon': 1.5218,\n",
       "  'Date': '2020-02-12T00:00:00Z',\n",
       "  'Cases': 0,\n",
       "  'Status': 'recovered'},\n",
       " {'Country': 'Andorra',\n",
       "  'Province': '',\n",
       "  'Lat': 42.5063,\n",
       "  'Lon': 1.5218,\n",
       "  'Date': '2020-02-12T00:00:00Z',\n",
       "  'Cases': 0,\n",
       "  'Status': 'confirmed'},\n",
       " {'Country': 'Andorra',\n",
       "  'Province': '',\n",
       "  'Lat': 42.5063,\n",
       "  'Lon': 1.5218,\n",
       "  'Date': '2020-02-13T00:00:00Z',\n",
       "  'Cases': 0,\n",
       "  'Status': 'deaths'},\n",
       " {'Country': 'Andorra',\n",
       "  'Province': '',\n",
       "  'Lat': 42.5063,\n",
       "  'Lon': 1.5218,\n",
       "  'Date': '2020-02-13T00:00:00Z',\n",
       "  'Cases': 0,\n",
       "  'Status': 'recovered'},\n",
       " {'Country': 'Andorra',\n",
       "  'Province': '',\n",
       "  'Lat': 42.5063,\n",
       "  'Lon': 1.5218,\n",
       "  'Date': '2020-02-13T00:00:00Z',\n",
       "  'Cases': 0,\n",
       "  'Status': 'confirmed'},\n",
       " {'Country': 'Andorra',\n",
       "  'Province': '',\n",
       "  'Lat': 42.5063,\n",
       "  'Lon': 1.5218,\n",
       "  'Date': '2020-02-14T00:00:00Z',\n",
       "  'Cases': 0,\n",
       "  'Status': 'deaths'},\n",
       " {'Country': 'Andorra',\n",
       "  'Province': '',\n",
       "  'Lat': 42.5063,\n",
       "  'Lon': 1.5218,\n",
       "  'Date': '2020-02-14T00:00:00Z',\n",
       "  'Cases': 0,\n",
       "  'Status': 'recovered'},\n",
       " {'Country': 'Andorra',\n",
       "  'Province': '',\n",
       "  'Lat': 42.5063,\n",
       "  'Lon': 1.5218,\n",
       "  'Date': '2020-02-14T00:00:00Z',\n",
       "  'Cases': 0,\n",
       "  'Status': 'confirmed'},\n",
       " {'Country': 'Andorra',\n",
       "  'Province': '',\n",
       "  'Lat': 42.5063,\n",
       "  'Lon': 1.5218,\n",
       "  'Date': '2020-02-15T00:00:00Z',\n",
       "  'Cases': 0,\n",
       "  'Status': 'deaths'},\n",
       " {'Country': 'Andorra',\n",
       "  'Province': '',\n",
       "  'Lat': 42.5063,\n",
       "  'Lon': 1.5218,\n",
       "  'Date': '2020-02-15T00:00:00Z',\n",
       "  'Cases': 0,\n",
       "  'Status': 'recovered'},\n",
       " {'Country': 'Andorra',\n",
       "  'Province': '',\n",
       "  'Lat': 42.5063,\n",
       "  'Lon': 1.5218,\n",
       "  'Date': '2020-02-15T00:00:00Z',\n",
       "  'Cases': 0,\n",
       "  'Status': 'confirmed'},\n",
       " {'Country': 'Andorra',\n",
       "  'Province': '',\n",
       "  'Lat': 42.5063,\n",
       "  'Lon': 1.5218,\n",
       "  'Date': '2020-02-16T00:00:00Z',\n",
       "  'Cases': 0,\n",
       "  'Status': 'deaths'},\n",
       " {'Country': 'Andorra',\n",
       "  'Province': '',\n",
       "  'Lat': 42.5063,\n",
       "  'Lon': 1.5218,\n",
       "  'Date': '2020-02-16T00:00:00Z',\n",
       "  'Cases': 0,\n",
       "  'Status': 'recovered'},\n",
       " {'Country': 'Andorra',\n",
       "  'Province': '',\n",
       "  'Lat': 42.5063,\n",
       "  'Lon': 1.5218,\n",
       "  'Date': '2020-02-16T00:00:00Z',\n",
       "  'Cases': 0,\n",
       "  'Status': 'confirmed'},\n",
       " {'Country': 'Andorra',\n",
       "  'Province': '',\n",
       "  'Lat': 42.5063,\n",
       "  'Lon': 1.5218,\n",
       "  'Date': '2020-02-17T00:00:00Z',\n",
       "  'Cases': 0,\n",
       "  'Status': 'deaths'},\n",
       " {'Country': 'Andorra',\n",
       "  'Province': '',\n",
       "  'Lat': 42.5063,\n",
       "  'Lon': 1.5218,\n",
       "  'Date': '2020-02-17T00:00:00Z',\n",
       "  'Cases': 0,\n",
       "  'Status': 'recovered'},\n",
       " {'Country': 'Andorra',\n",
       "  'Province': '',\n",
       "  'Lat': 42.5063,\n",
       "  'Lon': 1.5218,\n",
       "  'Date': '2020-02-17T00:00:00Z',\n",
       "  'Cases': 0,\n",
       "  'Status': 'confirmed'},\n",
       " {'Country': 'Andorra',\n",
       "  'Province': '',\n",
       "  'Lat': 42.5063,\n",
       "  'Lon': 1.5218,\n",
       "  'Date': '2020-02-18T00:00:00Z',\n",
       "  'Cases': 0,\n",
       "  'Status': 'deaths'},\n",
       " {'Country': 'Andorra',\n",
       "  'Province': '',\n",
       "  'Lat': 42.5063,\n",
       "  'Lon': 1.5218,\n",
       "  'Date': '2020-02-18T00:00:00Z',\n",
       "  'Cases': 0,\n",
       "  'Status': 'recovered'},\n",
       " {'Country': 'Andorra',\n",
       "  'Province': '',\n",
       "  'Lat': 42.5063,\n",
       "  'Lon': 1.5218,\n",
       "  'Date': '2020-02-18T00:00:00Z',\n",
       "  'Cases': 0,\n",
       "  'Status': 'confirmed'},\n",
       " {'Country': 'Andorra',\n",
       "  'Province': '',\n",
       "  'Lat': 42.5063,\n",
       "  'Lon': 1.5218,\n",
       "  'Date': '2020-02-19T00:00:00Z',\n",
       "  'Cases': 0,\n",
       "  'Status': 'deaths'},\n",
       " {'Country': 'Andorra',\n",
       "  'Province': '',\n",
       "  'Lat': 42.5063,\n",
       "  'Lon': 1.5218,\n",
       "  'Date': '2020-02-19T00:00:00Z',\n",
       "  'Cases': 0,\n",
       "  'Status': 'recovered'},\n",
       " {'Country': 'Andorra',\n",
       "  'Province': '',\n",
       "  'Lat': 42.5063,\n",
       "  'Lon': 1.5218,\n",
       "  'Date': '2020-02-19T00:00:00Z',\n",
       "  'Cases': 0,\n",
       "  'Status': 'confirmed'},\n",
       " {'Country': 'Andorra',\n",
       "  'Province': '',\n",
       "  'Lat': 42.5063,\n",
       "  'Lon': 1.5218,\n",
       "  'Date': '2020-02-20T00:00:00Z',\n",
       "  'Cases': 0,\n",
       "  'Status': 'deaths'},\n",
       " {'Country': 'Andorra',\n",
       "  'Province': '',\n",
       "  'Lat': 42.5063,\n",
       "  'Lon': 1.5218,\n",
       "  'Date': '2020-02-20T00:00:00Z',\n",
       "  'Cases': 0,\n",
       "  'Status': 'recovered'},\n",
       " {'Country': 'Andorra',\n",
       "  'Province': '',\n",
       "  'Lat': 42.5063,\n",
       "  'Lon': 1.5218,\n",
       "  'Date': '2020-02-20T00:00:00Z',\n",
       "  'Cases': 0,\n",
       "  'Status': 'confirmed'},\n",
       " {'Country': 'Andorra',\n",
       "  'Province': '',\n",
       "  'Lat': 42.5063,\n",
       "  'Lon': 1.5218,\n",
       "  'Date': '2020-02-21T00:00:00Z',\n",
       "  'Cases': 0,\n",
       "  'Status': 'deaths'},\n",
       " {'Country': 'Andorra',\n",
       "  'Province': '',\n",
       "  'Lat': 42.5063,\n",
       "  'Lon': 1.5218,\n",
       "  'Date': '2020-02-21T00:00:00Z',\n",
       "  'Cases': 0,\n",
       "  'Status': 'recovered'},\n",
       " {'Country': 'Andorra',\n",
       "  'Province': '',\n",
       "  'Lat': 42.5063,\n",
       "  'Lon': 1.5218,\n",
       "  'Date': '2020-02-21T00:00:00Z',\n",
       "  'Cases': 0,\n",
       "  'Status': 'confirmed'},\n",
       " {'Country': 'Andorra',\n",
       "  'Province': '',\n",
       "  'Lat': 42.5063,\n",
       "  'Lon': 1.5218,\n",
       "  'Date': '2020-02-22T00:00:00Z',\n",
       "  'Cases': 0,\n",
       "  'Status': 'deaths'},\n",
       " {'Country': 'Andorra',\n",
       "  'Province': '',\n",
       "  'Lat': 42.5063,\n",
       "  'Lon': 1.5218,\n",
       "  'Date': '2020-02-22T00:00:00Z',\n",
       "  'Cases': 0,\n",
       "  'Status': 'recovered'},\n",
       " {'Country': 'Andorra',\n",
       "  'Province': '',\n",
       "  'Lat': 42.5063,\n",
       "  'Lon': 1.5218,\n",
       "  'Date': '2020-02-22T00:00:00Z',\n",
       "  'Cases': 0,\n",
       "  'Status': 'confirmed'},\n",
       " {'Country': 'Andorra',\n",
       "  'Province': '',\n",
       "  'Lat': 42.5063,\n",
       "  'Lon': 1.5218,\n",
       "  'Date': '2020-02-23T00:00:00Z',\n",
       "  'Cases': 0,\n",
       "  'Status': 'deaths'},\n",
       " {'Country': 'Andorra',\n",
       "  'Province': '',\n",
       "  'Lat': 42.5063,\n",
       "  'Lon': 1.5218,\n",
       "  'Date': '2020-02-23T00:00:00Z',\n",
       "  'Cases': 0,\n",
       "  'Status': 'recovered'},\n",
       " {'Country': 'Andorra',\n",
       "  'Province': '',\n",
       "  'Lat': 42.5063,\n",
       "  'Lon': 1.5218,\n",
       "  'Date': '2020-02-23T00:00:00Z',\n",
       "  'Cases': 0,\n",
       "  'Status': 'confirmed'},\n",
       " {'Country': 'Andorra',\n",
       "  'Province': '',\n",
       "  'Lat': 42.5063,\n",
       "  'Lon': 1.5218,\n",
       "  'Date': '2020-02-24T00:00:00Z',\n",
       "  'Cases': 0,\n",
       "  'Status': 'deaths'},\n",
       " {'Country': 'Andorra',\n",
       "  'Province': '',\n",
       "  'Lat': 42.5063,\n",
       "  'Lon': 1.5218,\n",
       "  'Date': '2020-02-24T00:00:00Z',\n",
       "  'Cases': 0,\n",
       "  'Status': 'recovered'},\n",
       " {'Country': 'Andorra',\n",
       "  'Province': '',\n",
       "  'Lat': 42.5063,\n",
       "  'Lon': 1.5218,\n",
       "  'Date': '2020-02-24T00:00:00Z',\n",
       "  'Cases': 0,\n",
       "  'Status': 'confirmed'},\n",
       " {'Country': 'Andorra',\n",
       "  'Province': '',\n",
       "  'Lat': 42.5063,\n",
       "  'Lon': 1.5218,\n",
       "  'Date': '2020-02-25T00:00:00Z',\n",
       "  'Cases': 0,\n",
       "  'Status': 'deaths'},\n",
       " {'Country': 'Andorra',\n",
       "  'Province': '',\n",
       "  'Lat': 42.5063,\n",
       "  'Lon': 1.5218,\n",
       "  'Date': '2020-02-25T00:00:00Z',\n",
       "  'Cases': 0,\n",
       "  'Status': 'recovered'},\n",
       " {'Country': 'Andorra',\n",
       "  'Province': '',\n",
       "  'Lat': 42.5063,\n",
       "  'Lon': 1.5218,\n",
       "  'Date': '2020-02-25T00:00:00Z',\n",
       "  'Cases': 0,\n",
       "  'Status': 'confirmed'},\n",
       " {'Country': 'Andorra',\n",
       "  'Province': '',\n",
       "  'Lat': 42.5063,\n",
       "  'Lon': 1.5218,\n",
       "  'Date': '2020-02-26T00:00:00Z',\n",
       "  'Cases': 0,\n",
       "  'Status': 'deaths'},\n",
       " {'Country': 'Andorra',\n",
       "  'Province': '',\n",
       "  'Lat': 42.5063,\n",
       "  'Lon': 1.5218,\n",
       "  'Date': '2020-02-26T00:00:00Z',\n",
       "  'Cases': 0,\n",
       "  'Status': 'recovered'},\n",
       " {'Country': 'Andorra',\n",
       "  'Province': '',\n",
       "  'Lat': 42.5063,\n",
       "  'Lon': 1.5218,\n",
       "  'Date': '2020-02-26T00:00:00Z',\n",
       "  'Cases': 0,\n",
       "  'Status': 'confirmed'},\n",
       " {'Country': 'Andorra',\n",
       "  'Province': '',\n",
       "  'Lat': 42.5063,\n",
       "  'Lon': 1.5218,\n",
       "  'Date': '2020-02-27T00:00:00Z',\n",
       "  'Cases': 0,\n",
       "  'Status': 'deaths'},\n",
       " {'Country': 'Andorra',\n",
       "  'Province': '',\n",
       "  'Lat': 42.5063,\n",
       "  'Lon': 1.5218,\n",
       "  'Date': '2020-02-27T00:00:00Z',\n",
       "  'Cases': 0,\n",
       "  'Status': 'recovered'},\n",
       " {'Country': 'Andorra',\n",
       "  'Province': '',\n",
       "  'Lat': 42.5063,\n",
       "  'Lon': 1.5218,\n",
       "  'Date': '2020-02-27T00:00:00Z',\n",
       "  'Cases': 0,\n",
       "  'Status': 'confirmed'},\n",
       " {'Country': 'Andorra',\n",
       "  'Province': '',\n",
       "  'Lat': 42.5063,\n",
       "  'Lon': 1.5218,\n",
       "  'Date': '2020-02-28T00:00:00Z',\n",
       "  'Cases': 0,\n",
       "  'Status': 'deaths'},\n",
       " {'Country': 'Andorra',\n",
       "  'Province': '',\n",
       "  'Lat': 42.5063,\n",
       "  'Lon': 1.5218,\n",
       "  'Date': '2020-02-28T00:00:00Z',\n",
       "  'Cases': 0,\n",
       "  'Status': 'recovered'},\n",
       " {'Country': 'Andorra',\n",
       "  'Province': '',\n",
       "  'Lat': 42.5063,\n",
       "  'Lon': 1.5218,\n",
       "  'Date': '2020-02-28T00:00:00Z',\n",
       "  'Cases': 0,\n",
       "  'Status': 'confirmed'},\n",
       " {'Country': 'Andorra',\n",
       "  'Province': '',\n",
       "  'Lat': 42.5063,\n",
       "  'Lon': 1.5218,\n",
       "  'Date': '2020-02-29T00:00:00Z',\n",
       "  'Cases': 0,\n",
       "  'Status': 'deaths'},\n",
       " {'Country': 'Andorra',\n",
       "  'Province': '',\n",
       "  'Lat': 42.5063,\n",
       "  'Lon': 1.5218,\n",
       "  'Date': '2020-02-29T00:00:00Z',\n",
       "  'Cases': 0,\n",
       "  'Status': 'recovered'},\n",
       " {'Country': 'Andorra',\n",
       "  'Province': '',\n",
       "  'Lat': 42.5063,\n",
       "  'Lon': 1.5218,\n",
       "  'Date': '2020-02-29T00:00:00Z',\n",
       "  'Cases': 0,\n",
       "  'Status': 'confirmed'},\n",
       " {'Country': 'Andorra',\n",
       "  'Province': '',\n",
       "  'Lat': 42.5063,\n",
       "  'Lon': 1.5218,\n",
       "  'Date': '2020-03-01T00:00:00Z',\n",
       "  'Cases': 0,\n",
       "  'Status': 'deaths'},\n",
       " {'Country': 'Andorra',\n",
       "  'Province': '',\n",
       "  'Lat': 42.5063,\n",
       "  'Lon': 1.5218,\n",
       "  'Date': '2020-03-01T00:00:00Z',\n",
       "  'Cases': 0,\n",
       "  'Status': 'recovered'},\n",
       " {'Country': 'Andorra',\n",
       "  'Province': '',\n",
       "  'Lat': 42.5063,\n",
       "  'Lon': 1.5218,\n",
       "  'Date': '2020-03-01T00:00:00Z',\n",
       "  'Cases': 0,\n",
       "  'Status': 'confirmed'},\n",
       " {'Country': 'Andorra',\n",
       "  'Province': '',\n",
       "  'Lat': 42.5063,\n",
       "  'Lon': 1.5218,\n",
       "  'Date': '2020-03-02T00:00:00Z',\n",
       "  'Cases': 0,\n",
       "  'Status': 'deaths'},\n",
       " {'Country': 'Andorra',\n",
       "  'Province': '',\n",
       "  'Lat': 42.5063,\n",
       "  'Lon': 1.5218,\n",
       "  'Date': '2020-03-02T00:00:00Z',\n",
       "  'Cases': 0,\n",
       "  'Status': 'recovered'},\n",
       " {'Country': 'Andorra',\n",
       "  'Province': '',\n",
       "  'Lat': 42.5063,\n",
       "  'Lon': 1.5218,\n",
       "  'Date': '2020-03-02T00:00:00Z',\n",
       "  'Cases': 1,\n",
       "  'Status': 'confirmed'},\n",
       " {'Country': 'Andorra',\n",
       "  'Province': '',\n",
       "  'Lat': 42.5063,\n",
       "  'Lon': 1.5218,\n",
       "  'Date': '2020-03-03T00:00:00Z',\n",
       "  'Cases': 0,\n",
       "  'Status': 'deaths'},\n",
       " {'Country': 'Andorra',\n",
       "  'Province': '',\n",
       "  'Lat': 42.5063,\n",
       "  'Lon': 1.5218,\n",
       "  'Date': '2020-03-03T00:00:00Z',\n",
       "  'Cases': 0,\n",
       "  'Status': 'recovered'},\n",
       " {'Country': 'Andorra',\n",
       "  'Province': '',\n",
       "  'Lat': 42.5063,\n",
       "  'Lon': 1.5218,\n",
       "  'Date': '2020-03-03T00:00:00Z',\n",
       "  'Cases': 1,\n",
       "  'Status': 'confirmed'},\n",
       " {'Country': 'Andorra',\n",
       "  'Province': '',\n",
       "  'Lat': 42.5063,\n",
       "  'Lon': 1.5218,\n",
       "  'Date': '2020-03-04T00:00:00Z',\n",
       "  'Cases': 0,\n",
       "  'Status': 'deaths'},\n",
       " {'Country': 'Andorra',\n",
       "  'Province': '',\n",
       "  'Lat': 42.5063,\n",
       "  'Lon': 1.5218,\n",
       "  'Date': '2020-03-04T00:00:00Z',\n",
       "  'Cases': 0,\n",
       "  'Status': 'recovered'},\n",
       " {'Country': 'Andorra',\n",
       "  'Province': '',\n",
       "  'Lat': 42.5063,\n",
       "  'Lon': 1.5218,\n",
       "  'Date': '2020-03-04T00:00:00Z',\n",
       "  'Cases': 1,\n",
       "  'Status': 'confirmed'},\n",
       " {'Country': 'Andorra',\n",
       "  'Province': '',\n",
       "  'Lat': 42.5063,\n",
       "  'Lon': 1.5218,\n",
       "  'Date': '2020-03-05T00:00:00Z',\n",
       "  'Cases': 0,\n",
       "  'Status': 'deaths'},\n",
       " {'Country': 'Andorra',\n",
       "  'Province': '',\n",
       "  'Lat': 42.5063,\n",
       "  'Lon': 1.5218,\n",
       "  'Date': '2020-03-05T00:00:00Z',\n",
       "  'Cases': 0,\n",
       "  'Status': 'recovered'},\n",
       " {'Country': 'Andorra',\n",
       "  'Province': '',\n",
       "  'Lat': 42.5063,\n",
       "  'Lon': 1.5218,\n",
       "  'Date': '2020-03-05T00:00:00Z',\n",
       "  'Cases': 1,\n",
       "  'Status': 'confirmed'},\n",
       " {'Country': 'Andorra',\n",
       "  'Province': '',\n",
       "  'Lat': 42.5063,\n",
       "  'Lon': 1.5218,\n",
       "  'Date': '2020-03-06T00:00:00Z',\n",
       "  'Cases': 0,\n",
       "  'Status': 'deaths'},\n",
       " {'Country': 'Andorra',\n",
       "  'Province': '',\n",
       "  'Lat': 42.5063,\n",
       "  'Lon': 1.5218,\n",
       "  'Date': '2020-03-06T00:00:00Z',\n",
       "  'Cases': 0,\n",
       "  'Status': 'recovered'},\n",
       " {'Country': 'Andorra',\n",
       "  'Province': '',\n",
       "  'Lat': 42.5063,\n",
       "  'Lon': 1.5218,\n",
       "  'Date': '2020-03-06T00:00:00Z',\n",
       "  'Cases': 1,\n",
       "  'Status': 'confirmed'},\n",
       " {'Country': 'Andorra',\n",
       "  'Province': '',\n",
       "  'Lat': 42.5063,\n",
       "  'Lon': 1.5218,\n",
       "  'Date': '2020-03-07T00:00:00Z',\n",
       "  'Cases': 0,\n",
       "  'Status': 'deaths'},\n",
       " {'Country': 'Andorra',\n",
       "  'Province': '',\n",
       "  'Lat': 42.5063,\n",
       "  'Lon': 1.5218,\n",
       "  'Date': '2020-03-07T00:00:00Z',\n",
       "  'Cases': 0,\n",
       "  'Status': 'recovered'},\n",
       " {'Country': 'Andorra',\n",
       "  'Province': '',\n",
       "  'Lat': 42.5063,\n",
       "  'Lon': 1.5218,\n",
       "  'Date': '2020-03-07T00:00:00Z',\n",
       "  'Cases': 1,\n",
       "  'Status': 'confirmed'},\n",
       " {'Country': 'Andorra',\n",
       "  'Province': '',\n",
       "  'Lat': 42.5063,\n",
       "  'Lon': 1.5218,\n",
       "  'Date': '2020-03-08T00:00:00Z',\n",
       "  'Cases': 0,\n",
       "  'Status': 'deaths'},\n",
       " {'Country': 'Andorra',\n",
       "  'Province': '',\n",
       "  'Lat': 42.5063,\n",
       "  'Lon': 1.5218,\n",
       "  'Date': '2020-03-08T00:00:00Z',\n",
       "  'Cases': 0,\n",
       "  'Status': 'recovered'},\n",
       " {'Country': 'Andorra',\n",
       "  'Province': '',\n",
       "  'Lat': 42.5063,\n",
       "  'Lon': 1.5218,\n",
       "  'Date': '2020-03-08T00:00:00Z',\n",
       "  'Cases': 1,\n",
       "  'Status': 'confirmed'},\n",
       " {'Country': 'Andorra',\n",
       "  'Province': '',\n",
       "  'Lat': 42.5063,\n",
       "  'Lon': 1.5218,\n",
       "  'Date': '2020-03-09T00:00:00Z',\n",
       "  'Cases': 0,\n",
       "  'Status': 'deaths'},\n",
       " {'Country': 'Andorra',\n",
       "  'Province': '',\n",
       "  'Lat': 42.5063,\n",
       "  'Lon': 1.5218,\n",
       "  'Date': '2020-03-09T00:00:00Z',\n",
       "  'Cases': 0,\n",
       "  'Status': 'recovered'},\n",
       " {'Country': 'Andorra',\n",
       "  'Province': '',\n",
       "  'Lat': 42.5063,\n",
       "  'Lon': 1.5218,\n",
       "  'Date': '2020-03-09T00:00:00Z',\n",
       "  'Cases': 1,\n",
       "  'Status': 'confirmed'},\n",
       " {'Country': 'Andorra',\n",
       "  'Province': '',\n",
       "  'Lat': 42.5063,\n",
       "  'Lon': 1.5218,\n",
       "  'Date': '2020-03-10T00:00:00Z',\n",
       "  'Cases': 0,\n",
       "  'Status': 'deaths'},\n",
       " {'Country': 'Andorra',\n",
       "  'Province': '',\n",
       "  'Lat': 42.5063,\n",
       "  'Lon': 1.5218,\n",
       "  'Date': '2020-03-10T00:00:00Z',\n",
       "  'Cases': 0,\n",
       "  'Status': 'recovered'},\n",
       " {'Country': 'Andorra',\n",
       "  'Province': '',\n",
       "  'Lat': 42.5063,\n",
       "  'Lon': 1.5218,\n",
       "  'Date': '2020-03-10T00:00:00Z',\n",
       "  'Cases': 1,\n",
       "  'Status': 'confirmed'},\n",
       " {'Country': 'Andorra',\n",
       "  'Province': '',\n",
       "  'Lat': 42.5063,\n",
       "  'Lon': 1.5218,\n",
       "  'Date': '2020-03-11T00:00:00Z',\n",
       "  'Cases': 0,\n",
       "  'Status': 'deaths'},\n",
       " {'Country': 'Andorra',\n",
       "  'Province': '',\n",
       "  'Lat': 42.5063,\n",
       "  'Lon': 1.5218,\n",
       "  'Date': '2020-03-11T00:00:00Z',\n",
       "  'Cases': 0,\n",
       "  'Status': 'recovered'},\n",
       " {'Country': 'Andorra',\n",
       "  'Province': '',\n",
       "  'Lat': 42.5063,\n",
       "  'Lon': 1.5218,\n",
       "  'Date': '2020-03-11T00:00:00Z',\n",
       "  'Cases': 1,\n",
       "  'Status': 'confirmed'},\n",
       " {'Country': 'Andorra',\n",
       "  'Province': '',\n",
       "  'Lat': 42.5063,\n",
       "  'Lon': 1.5218,\n",
       "  'Date': '2020-03-12T00:00:00Z',\n",
       "  'Cases': 0,\n",
       "  'Status': 'deaths'},\n",
       " {'Country': 'Andorra',\n",
       "  'Province': '',\n",
       "  'Lat': 42.5063,\n",
       "  'Lon': 1.5218,\n",
       "  'Date': '2020-03-12T00:00:00Z',\n",
       "  'Cases': 1,\n",
       "  'Status': 'recovered'},\n",
       " {'Country': 'Andorra',\n",
       "  'Province': '',\n",
       "  'Lat': 42.5063,\n",
       "  'Lon': 1.5218,\n",
       "  'Date': '2020-03-12T00:00:00Z',\n",
       "  'Cases': 1,\n",
       "  'Status': 'confirmed'},\n",
       " {'Country': 'Andorra',\n",
       "  'Province': '',\n",
       "  'Lat': 42.5063,\n",
       "  'Lon': 1.5218,\n",
       "  'Date': '2020-03-13T00:00:00Z',\n",
       "  'Cases': 0,\n",
       "  'Status': 'deaths'},\n",
       " {'Country': 'Andorra',\n",
       "  'Province': '',\n",
       "  'Lat': 42.5063,\n",
       "  'Lon': 1.5218,\n",
       "  'Date': '2020-03-13T00:00:00Z',\n",
       "  'Cases': 0,\n",
       "  'Status': 'recovered'},\n",
       " {'Country': 'Andorra',\n",
       "  'Province': '',\n",
       "  'Lat': 42.5063,\n",
       "  'Lon': 1.5218,\n",
       "  'Date': '2020-03-13T00:00:00Z',\n",
       "  'Cases': 1,\n",
       "  'Status': 'confirmed'},\n",
       " {'Country': 'Andorra',\n",
       "  'Province': '',\n",
       "  'Lat': 42.5063,\n",
       "  'Lon': 1.5218,\n",
       "  'Date': '2020-03-14T00:00:00Z',\n",
       "  'Cases': 0,\n",
       "  'Status': 'deaths'},\n",
       " {'Country': 'Andorra',\n",
       "  'Province': '',\n",
       "  'Lat': 42.5063,\n",
       "  'Lon': 1.5218,\n",
       "  'Date': '2020-03-14T00:00:00Z',\n",
       "  'Cases': 1,\n",
       "  'Status': 'recovered'},\n",
       " {'Country': 'Andorra',\n",
       "  'Province': '',\n",
       "  'Lat': 42.5063,\n",
       "  'Lon': 1.5218,\n",
       "  'Date': '2020-03-14T00:00:00Z',\n",
       "  'Cases': 1,\n",
       "  'Status': 'confirmed'},\n",
       " {'Country': 'Andorra',\n",
       "  'Province': '',\n",
       "  'Lat': 42.5063,\n",
       "  'Lon': 1.5218,\n",
       "  'Date': '2020-03-15T00:00:00Z',\n",
       "  'Cases': 0,\n",
       "  'Status': 'deaths'},\n",
       " {'Country': 'Andorra',\n",
       "  'Province': '',\n",
       "  'Lat': 42.5063,\n",
       "  'Lon': 1.5218,\n",
       "  'Date': '2020-03-15T00:00:00Z',\n",
       "  'Cases': 1,\n",
       "  'Status': 'recovered'},\n",
       " {'Country': 'Andorra',\n",
       "  'Province': '',\n",
       "  'Lat': 42.5063,\n",
       "  'Lon': 1.5218,\n",
       "  'Date': '2020-03-15T00:00:00Z',\n",
       "  'Cases': 1,\n",
       "  'Status': 'confirmed'},\n",
       " {'Country': 'Andorra',\n",
       "  'Province': '',\n",
       "  'Lat': 42.5063,\n",
       "  'Lon': 1.5218,\n",
       "  'Date': '2020-03-16T00:00:00Z',\n",
       "  'Cases': 0,\n",
       "  'Status': 'deaths'},\n",
       " {'Country': 'Andorra',\n",
       "  'Province': '',\n",
       "  'Lat': 42.5063,\n",
       "  'Lon': 1.5218,\n",
       "  'Date': '2020-03-16T00:00:00Z',\n",
       "  'Cases': 1,\n",
       "  'Status': 'recovered'},\n",
       " {'Country': 'Andorra',\n",
       "  'Province': '',\n",
       "  'Lat': 42.5063,\n",
       "  'Lon': 1.5218,\n",
       "  'Date': '2020-03-16T00:00:00Z',\n",
       "  'Cases': 2,\n",
       "  'Status': 'confirmed'},\n",
       " {'Country': 'Andorra',\n",
       "  'Province': '',\n",
       "  'Lat': 42.5063,\n",
       "  'Lon': 1.5218,\n",
       "  'Date': '2020-03-17T00:00:00Z',\n",
       "  'Cases': 0,\n",
       "  'Status': 'deaths'},\n",
       " {'Country': 'Andorra',\n",
       "  'Province': '',\n",
       "  'Lat': 42.5063,\n",
       "  'Lon': 1.5218,\n",
       "  'Date': '2020-03-17T00:00:00Z',\n",
       "  'Cases': 39,\n",
       "  'Status': 'confirmed'},\n",
       " {'Country': 'Andorra',\n",
       "  'Province': '',\n",
       "  'Lat': 42.5063,\n",
       "  'Lon': 1.5218,\n",
       "  'Date': '2020-03-17T00:00:00Z',\n",
       "  'Cases': 1,\n",
       "  'Status': 'recovered'},\n",
       " {'Country': 'Andorra',\n",
       "  'Province': '',\n",
       "  'Lat': 42.5063,\n",
       "  'Lon': 1.5218,\n",
       "  'Date': '2020-03-18T00:00:00Z',\n",
       "  'Cases': 1,\n",
       "  'Status': 'recovered'},\n",
       " {'Country': 'Andorra',\n",
       "  'Province': '',\n",
       "  'Lat': 42.5063,\n",
       "  'Lon': 1.5218,\n",
       "  'Date': '2020-03-18T00:00:00Z',\n",
       "  'Cases': 0,\n",
       "  'Status': 'deaths'},\n",
       " {'Country': 'Andorra',\n",
       "  'Province': '',\n",
       "  'Lat': 42.5063,\n",
       "  'Lon': 1.5218,\n",
       "  'Date': '2020-03-18T00:00:00Z',\n",
       "  'Cases': 39,\n",
       "  'Status': 'confirmed'},\n",
       " {'Country': 'Andorra',\n",
       "  'Province': '',\n",
       "  'Lat': 42.5063,\n",
       "  'Lon': 1.5218,\n",
       "  'Date': '2020-03-19T00:00:00Z',\n",
       "  'Cases': 53,\n",
       "  'Status': 'confirmed'},\n",
       " {'Country': 'Andorra',\n",
       "  'Province': '',\n",
       "  'Lat': 42.5063,\n",
       "  'Lon': 1.5218,\n",
       "  'Date': '2020-03-19T00:00:00Z',\n",
       "  'Cases': 0,\n",
       "  'Status': 'deaths'},\n",
       " {'Country': 'Andorra',\n",
       "  'Province': '',\n",
       "  'Lat': 42.5063,\n",
       "  'Lon': 1.5218,\n",
       "  'Date': '2020-03-19T00:00:00Z',\n",
       "  'Cases': 1,\n",
       "  'Status': 'recovered'},\n",
       " {'Country': 'Andorra',\n",
       "  'Province': '',\n",
       "  'Lat': 42.5063,\n",
       "  'Lon': 1.5218,\n",
       "  'Date': '2020-03-20T00:00:00Z',\n",
       "  'Cases': 75,\n",
       "  'Status': 'confirmed'},\n",
       " {'Country': 'Andorra',\n",
       "  'Province': '',\n",
       "  'Lat': 42.5063,\n",
       "  'Lon': 1.5218,\n",
       "  'Date': '2020-03-20T00:00:00Z',\n",
       "  'Cases': 0,\n",
       "  'Status': 'deaths'},\n",
       " {'Country': 'Andorra',\n",
       "  'Province': '',\n",
       "  'Lat': 42.5063,\n",
       "  'Lon': 1.5218,\n",
       "  'Date': '2020-03-20T00:00:00Z',\n",
       "  'Cases': 1,\n",
       "  'Status': 'recovered'},\n",
       " {'Country': 'Andorra',\n",
       "  'Province': '',\n",
       "  'Lat': 42.5063,\n",
       "  'Lon': 1.5218,\n",
       "  'Date': '2020-03-21T00:00:00Z',\n",
       "  'Cases': 1,\n",
       "  'Status': 'recovered'},\n",
       " {'Country': 'Andorra',\n",
       "  'Province': '',\n",
       "  'Lat': 42.5063,\n",
       "  'Lon': 1.5218,\n",
       "  'Date': '2020-03-21T00:00:00Z',\n",
       "  'Cases': 0,\n",
       "  'Status': 'deaths'},\n",
       " {'Country': 'Andorra',\n",
       "  'Province': '',\n",
       "  'Lat': 42.5063,\n",
       "  'Lon': 1.5218,\n",
       "  'Date': '2020-03-21T00:00:00Z',\n",
       "  'Cases': 88,\n",
       "  'Status': 'confirmed'},\n",
       " {'Country': 'Angola',\n",
       "  'Province': '',\n",
       "  'Lat': -11.2027,\n",
       "  'Lon': 17.8739,\n",
       "  'Date': '2020-01-22T00:00:00Z',\n",
       "  'Cases': 0,\n",
       "  'Status': 'confirmed'},\n",
       " {'Country': 'Angola',\n",
       "  'Province': '',\n",
       "  'Lat': -11.2027,\n",
       "  'Lon': 17.8739,\n",
       "  'Date': '2020-01-22T00:00:00Z',\n",
       "  'Cases': 0,\n",
       "  'Status': 'deaths'},\n",
       " {'Country': 'Angola',\n",
       "  'Province': '',\n",
       "  'Lat': -11.2027,\n",
       "  'Lon': 17.8739,\n",
       "  'Date': '2020-01-22T00:00:00Z',\n",
       "  'Cases': 0,\n",
       "  'Status': 'recovered'},\n",
       " {'Country': 'Angola',\n",
       "  'Province': '',\n",
       "  'Lat': -11.2027,\n",
       "  'Lon': 17.8739,\n",
       "  'Date': '2020-01-23T00:00:00Z',\n",
       "  'Cases': 0,\n",
       "  'Status': 'confirmed'},\n",
       " {'Country': 'Angola',\n",
       "  'Province': '',\n",
       "  'Lat': -11.2027,\n",
       "  'Lon': 17.8739,\n",
       "  'Date': '2020-01-23T00:00:00Z',\n",
       "  'Cases': 0,\n",
       "  'Status': 'deaths'},\n",
       " {'Country': 'Angola',\n",
       "  'Province': '',\n",
       "  'Lat': -11.2027,\n",
       "  'Lon': 17.8739,\n",
       "  'Date': '2020-01-23T00:00:00Z',\n",
       "  'Cases': 0,\n",
       "  'Status': 'recovered'},\n",
       " {'Country': 'Angola',\n",
       "  'Province': '',\n",
       "  'Lat': -11.2027,\n",
       "  'Lon': 17.8739,\n",
       "  'Date': '2020-01-24T00:00:00Z',\n",
       "  'Cases': 0,\n",
       "  'Status': 'confirmed'},\n",
       " {'Country': 'Angola',\n",
       "  'Province': '',\n",
       "  'Lat': -11.2027,\n",
       "  'Lon': 17.8739,\n",
       "  'Date': '2020-01-24T00:00:00Z',\n",
       "  'Cases': 0,\n",
       "  'Status': 'deaths'},\n",
       " {'Country': 'Angola',\n",
       "  'Province': '',\n",
       "  'Lat': -11.2027,\n",
       "  'Lon': 17.8739,\n",
       "  'Date': '2020-01-24T00:00:00Z',\n",
       "  'Cases': 0,\n",
       "  'Status': 'recovered'},\n",
       " {'Country': 'Angola',\n",
       "  'Province': '',\n",
       "  'Lat': -11.2027,\n",
       "  'Lon': 17.8739,\n",
       "  'Date': '2020-01-25T00:00:00Z',\n",
       "  'Cases': 0,\n",
       "  'Status': 'confirmed'},\n",
       " {'Country': 'Angola',\n",
       "  'Province': '',\n",
       "  'Lat': -11.2027,\n",
       "  'Lon': 17.8739,\n",
       "  'Date': '2020-01-25T00:00:00Z',\n",
       "  'Cases': 0,\n",
       "  'Status': 'deaths'},\n",
       " {'Country': 'Angola',\n",
       "  'Province': '',\n",
       "  'Lat': -11.2027,\n",
       "  'Lon': 17.8739,\n",
       "  'Date': '2020-01-25T00:00:00Z',\n",
       "  'Cases': 0,\n",
       "  'Status': 'recovered'},\n",
       " {'Country': 'Angola',\n",
       "  'Province': '',\n",
       "  'Lat': -11.2027,\n",
       "  'Lon': 17.8739,\n",
       "  'Date': '2020-01-26T00:00:00Z',\n",
       "  'Cases': 0,\n",
       "  'Status': 'confirmed'},\n",
       " {'Country': 'Angola',\n",
       "  'Province': '',\n",
       "  'Lat': -11.2027,\n",
       "  'Lon': 17.8739,\n",
       "  'Date': '2020-01-26T00:00:00Z',\n",
       "  'Cases': 0,\n",
       "  'Status': 'deaths'},\n",
       " {'Country': 'Angola',\n",
       "  'Province': '',\n",
       "  'Lat': -11.2027,\n",
       "  'Lon': 17.8739,\n",
       "  'Date': '2020-01-26T00:00:00Z',\n",
       "  'Cases': 0,\n",
       "  'Status': 'recovered'},\n",
       " {'Country': 'Angola',\n",
       "  'Province': '',\n",
       "  'Lat': -11.2027,\n",
       "  'Lon': 17.8739,\n",
       "  'Date': '2020-01-27T00:00:00Z',\n",
       "  'Cases': 0,\n",
       "  'Status': 'confirmed'},\n",
       " {'Country': 'Angola',\n",
       "  'Province': '',\n",
       "  'Lat': -11.2027,\n",
       "  'Lon': 17.8739,\n",
       "  'Date': '2020-01-27T00:00:00Z',\n",
       "  'Cases': 0,\n",
       "  'Status': 'deaths'},\n",
       " {'Country': 'Angola',\n",
       "  'Province': '',\n",
       "  'Lat': -11.2027,\n",
       "  'Lon': 17.8739,\n",
       "  'Date': '2020-01-27T00:00:00Z',\n",
       "  'Cases': 0,\n",
       "  'Status': 'recovered'},\n",
       " {'Country': 'Angola',\n",
       "  'Province': '',\n",
       "  'Lat': -11.2027,\n",
       "  'Lon': 17.8739,\n",
       "  'Date': '2020-01-28T00:00:00Z',\n",
       "  'Cases': 0,\n",
       "  'Status': 'confirmed'},\n",
       " {'Country': 'Angola',\n",
       "  'Province': '',\n",
       "  'Lat': -11.2027,\n",
       "  'Lon': 17.8739,\n",
       "  'Date': '2020-01-28T00:00:00Z',\n",
       "  'Cases': 0,\n",
       "  'Status': 'deaths'},\n",
       " {'Country': 'Angola',\n",
       "  'Province': '',\n",
       "  'Lat': -11.2027,\n",
       "  'Lon': 17.8739,\n",
       "  'Date': '2020-01-28T00:00:00Z',\n",
       "  'Cases': 0,\n",
       "  'Status': 'recovered'},\n",
       " {'Country': 'Angola',\n",
       "  'Province': '',\n",
       "  'Lat': -11.2027,\n",
       "  'Lon': 17.8739,\n",
       "  'Date': '2020-01-29T00:00:00Z',\n",
       "  'Cases': 0,\n",
       "  'Status': 'confirmed'},\n",
       " {'Country': 'Angola',\n",
       "  'Province': '',\n",
       "  'Lat': -11.2027,\n",
       "  'Lon': 17.8739,\n",
       "  'Date': '2020-01-29T00:00:00Z',\n",
       "  'Cases': 0,\n",
       "  'Status': 'deaths'},\n",
       " {'Country': 'Angola',\n",
       "  'Province': '',\n",
       "  'Lat': -11.2027,\n",
       "  'Lon': 17.8739,\n",
       "  'Date': '2020-01-29T00:00:00Z',\n",
       "  'Cases': 0,\n",
       "  'Status': 'recovered'},\n",
       " {'Country': 'Angola',\n",
       "  'Province': '',\n",
       "  'Lat': -11.2027,\n",
       "  'Lon': 17.8739,\n",
       "  'Date': '2020-01-30T00:00:00Z',\n",
       "  'Cases': 0,\n",
       "  'Status': 'confirmed'},\n",
       " {'Country': 'Angola',\n",
       "  'Province': '',\n",
       "  'Lat': -11.2027,\n",
       "  'Lon': 17.8739,\n",
       "  'Date': '2020-01-30T00:00:00Z',\n",
       "  'Cases': 0,\n",
       "  'Status': 'deaths'},\n",
       " {'Country': 'Angola',\n",
       "  'Province': '',\n",
       "  'Lat': -11.2027,\n",
       "  'Lon': 17.8739,\n",
       "  'Date': '2020-01-30T00:00:00Z',\n",
       "  'Cases': 0,\n",
       "  'Status': 'recovered'},\n",
       " {'Country': 'Angola',\n",
       "  'Province': '',\n",
       "  'Lat': -11.2027,\n",
       "  'Lon': 17.8739,\n",
       "  'Date': '2020-01-31T00:00:00Z',\n",
       "  'Cases': 0,\n",
       "  'Status': 'confirmed'},\n",
       " {'Country': 'Angola',\n",
       "  'Province': '',\n",
       "  'Lat': -11.2027,\n",
       "  'Lon': 17.8739,\n",
       "  'Date': '2020-01-31T00:00:00Z',\n",
       "  'Cases': 0,\n",
       "  'Status': 'deaths'},\n",
       " {'Country': 'Angola',\n",
       "  'Province': '',\n",
       "  'Lat': -11.2027,\n",
       "  'Lon': 17.8739,\n",
       "  'Date': '2020-01-31T00:00:00Z',\n",
       "  'Cases': 0,\n",
       "  'Status': 'recovered'},\n",
       " {'Country': 'Angola',\n",
       "  'Province': '',\n",
       "  'Lat': -11.2027,\n",
       "  'Lon': 17.8739,\n",
       "  'Date': '2020-02-01T00:00:00Z',\n",
       "  'Cases': 0,\n",
       "  'Status': 'confirmed'},\n",
       " {'Country': 'Angola',\n",
       "  'Province': '',\n",
       "  'Lat': -11.2027,\n",
       "  'Lon': 17.8739,\n",
       "  'Date': '2020-02-01T00:00:00Z',\n",
       "  'Cases': 0,\n",
       "  'Status': 'deaths'},\n",
       " {'Country': 'Angola',\n",
       "  'Province': '',\n",
       "  'Lat': -11.2027,\n",
       "  'Lon': 17.8739,\n",
       "  'Date': '2020-02-01T00:00:00Z',\n",
       "  'Cases': 0,\n",
       "  'Status': 'recovered'},\n",
       " {'Country': 'Angola',\n",
       "  'Province': '',\n",
       "  'Lat': -11.2027,\n",
       "  'Lon': 17.8739,\n",
       "  'Date': '2020-02-02T00:00:00Z',\n",
       "  'Cases': 0,\n",
       "  'Status': 'confirmed'},\n",
       " {'Country': 'Angola',\n",
       "  'Province': '',\n",
       "  'Lat': -11.2027,\n",
       "  'Lon': 17.8739,\n",
       "  'Date': '2020-02-02T00:00:00Z',\n",
       "  'Cases': 0,\n",
       "  'Status': 'deaths'},\n",
       " {'Country': 'Angola',\n",
       "  'Province': '',\n",
       "  'Lat': -11.2027,\n",
       "  'Lon': 17.8739,\n",
       "  'Date': '2020-02-02T00:00:00Z',\n",
       "  'Cases': 0,\n",
       "  'Status': 'recovered'},\n",
       " {'Country': 'Angola',\n",
       "  'Province': '',\n",
       "  'Lat': -11.2027,\n",
       "  'Lon': 17.8739,\n",
       "  'Date': '2020-02-03T00:00:00Z',\n",
       "  'Cases': 0,\n",
       "  'Status': 'confirmed'},\n",
       " {'Country': 'Angola',\n",
       "  'Province': '',\n",
       "  'Lat': -11.2027,\n",
       "  'Lon': 17.8739,\n",
       "  'Date': '2020-02-03T00:00:00Z',\n",
       "  'Cases': 0,\n",
       "  'Status': 'deaths'},\n",
       " {'Country': 'Angola',\n",
       "  'Province': '',\n",
       "  'Lat': -11.2027,\n",
       "  'Lon': 17.8739,\n",
       "  'Date': '2020-02-03T00:00:00Z',\n",
       "  'Cases': 0,\n",
       "  'Status': 'recovered'},\n",
       " {'Country': 'Angola',\n",
       "  'Province': '',\n",
       "  'Lat': -11.2027,\n",
       "  'Lon': 17.8739,\n",
       "  'Date': '2020-02-04T00:00:00Z',\n",
       "  'Cases': 0,\n",
       "  'Status': 'confirmed'},\n",
       " {'Country': 'Angola',\n",
       "  'Province': '',\n",
       "  'Lat': -11.2027,\n",
       "  'Lon': 17.8739,\n",
       "  'Date': '2020-02-04T00:00:00Z',\n",
       "  'Cases': 0,\n",
       "  'Status': 'deaths'},\n",
       " {'Country': 'Angola',\n",
       "  'Province': '',\n",
       "  'Lat': -11.2027,\n",
       "  'Lon': 17.8739,\n",
       "  'Date': '2020-02-04T00:00:00Z',\n",
       "  'Cases': 0,\n",
       "  'Status': 'recovered'},\n",
       " {'Country': 'Angola',\n",
       "  'Province': '',\n",
       "  'Lat': -11.2027,\n",
       "  'Lon': 17.8739,\n",
       "  'Date': '2020-02-05T00:00:00Z',\n",
       "  'Cases': 0,\n",
       "  'Status': 'confirmed'},\n",
       " {'Country': 'Angola',\n",
       "  'Province': '',\n",
       "  'Lat': -11.2027,\n",
       "  'Lon': 17.8739,\n",
       "  'Date': '2020-02-05T00:00:00Z',\n",
       "  'Cases': 0,\n",
       "  'Status': 'deaths'},\n",
       " {'Country': 'Angola',\n",
       "  'Province': '',\n",
       "  'Lat': -11.2027,\n",
       "  'Lon': 17.8739,\n",
       "  'Date': '2020-02-05T00:00:00Z',\n",
       "  'Cases': 0,\n",
       "  'Status': 'recovered'},\n",
       " {'Country': 'Angola',\n",
       "  'Province': '',\n",
       "  'Lat': -11.2027,\n",
       "  'Lon': 17.8739,\n",
       "  'Date': '2020-02-06T00:00:00Z',\n",
       "  'Cases': 0,\n",
       "  'Status': 'confirmed'},\n",
       " {'Country': 'Angola',\n",
       "  'Province': '',\n",
       "  'Lat': -11.2027,\n",
       "  'Lon': 17.8739,\n",
       "  'Date': '2020-02-06T00:00:00Z',\n",
       "  'Cases': 0,\n",
       "  'Status': 'deaths'},\n",
       " {'Country': 'Angola',\n",
       "  'Province': '',\n",
       "  'Lat': -11.2027,\n",
       "  'Lon': 17.8739,\n",
       "  'Date': '2020-02-06T00:00:00Z',\n",
       "  'Cases': 0,\n",
       "  'Status': 'recovered'},\n",
       " {'Country': 'Angola',\n",
       "  'Province': '',\n",
       "  'Lat': -11.2027,\n",
       "  'Lon': 17.8739,\n",
       "  'Date': '2020-02-07T00:00:00Z',\n",
       "  'Cases': 0,\n",
       "  'Status': 'confirmed'},\n",
       " {'Country': 'Angola',\n",
       "  'Province': '',\n",
       "  'Lat': -11.2027,\n",
       "  'Lon': 17.8739,\n",
       "  'Date': '2020-02-07T00:00:00Z',\n",
       "  'Cases': 0,\n",
       "  'Status': 'deaths'},\n",
       " {'Country': 'Angola',\n",
       "  'Province': '',\n",
       "  'Lat': -11.2027,\n",
       "  'Lon': 17.8739,\n",
       "  'Date': '2020-02-07T00:00:00Z',\n",
       "  'Cases': 0,\n",
       "  'Status': 'recovered'},\n",
       " {'Country': 'Angola',\n",
       "  'Province': '',\n",
       "  'Lat': -11.2027,\n",
       "  'Lon': 17.8739,\n",
       "  'Date': '2020-02-08T00:00:00Z',\n",
       "  'Cases': 0,\n",
       "  'Status': 'confirmed'},\n",
       " {'Country': 'Angola',\n",
       "  'Province': '',\n",
       "  'Lat': -11.2027,\n",
       "  'Lon': 17.8739,\n",
       "  'Date': '2020-02-08T00:00:00Z',\n",
       "  'Cases': 0,\n",
       "  'Status': 'deaths'},\n",
       " {'Country': 'Angola',\n",
       "  'Province': '',\n",
       "  'Lat': -11.2027,\n",
       "  'Lon': 17.8739,\n",
       "  'Date': '2020-02-08T00:00:00Z',\n",
       "  'Cases': 0,\n",
       "  'Status': 'recovered'},\n",
       " {'Country': 'Angola',\n",
       "  'Province': '',\n",
       "  'Lat': -11.2027,\n",
       "  'Lon': 17.8739,\n",
       "  'Date': '2020-02-09T00:00:00Z',\n",
       "  'Cases': 0,\n",
       "  'Status': 'confirmed'},\n",
       " {'Country': 'Angola',\n",
       "  'Province': '',\n",
       "  'Lat': -11.2027,\n",
       "  'Lon': 17.8739,\n",
       "  'Date': '2020-02-09T00:00:00Z',\n",
       "  'Cases': 0,\n",
       "  'Status': 'deaths'},\n",
       " {'Country': 'Angola',\n",
       "  'Province': '',\n",
       "  'Lat': -11.2027,\n",
       "  'Lon': 17.8739,\n",
       "  'Date': '2020-02-09T00:00:00Z',\n",
       "  'Cases': 0,\n",
       "  'Status': 'recovered'},\n",
       " {'Country': 'Angola',\n",
       "  'Province': '',\n",
       "  'Lat': -11.2027,\n",
       "  'Lon': 17.8739,\n",
       "  'Date': '2020-02-10T00:00:00Z',\n",
       "  'Cases': 0,\n",
       "  'Status': 'confirmed'},\n",
       " {'Country': 'Angola',\n",
       "  'Province': '',\n",
       "  'Lat': -11.2027,\n",
       "  'Lon': 17.8739,\n",
       "  'Date': '2020-02-10T00:00:00Z',\n",
       "  'Cases': 0,\n",
       "  'Status': 'deaths'},\n",
       " {'Country': 'Angola',\n",
       "  'Province': '',\n",
       "  'Lat': -11.2027,\n",
       "  'Lon': 17.8739,\n",
       "  'Date': '2020-02-10T00:00:00Z',\n",
       "  'Cases': 0,\n",
       "  'Status': 'recovered'},\n",
       " {'Country': 'Angola',\n",
       "  'Province': '',\n",
       "  'Lat': -11.2027,\n",
       "  'Lon': 17.8739,\n",
       "  'Date': '2020-02-11T00:00:00Z',\n",
       "  'Cases': 0,\n",
       "  'Status': 'confirmed'},\n",
       " {'Country': 'Angola',\n",
       "  'Province': '',\n",
       "  'Lat': -11.2027,\n",
       "  'Lon': 17.8739,\n",
       "  'Date': '2020-02-11T00:00:00Z',\n",
       "  'Cases': 0,\n",
       "  'Status': 'deaths'},\n",
       " {'Country': 'Angola',\n",
       "  'Province': '',\n",
       "  'Lat': -11.2027,\n",
       "  'Lon': 17.8739,\n",
       "  'Date': '2020-02-11T00:00:00Z',\n",
       "  'Cases': 0,\n",
       "  'Status': 'recovered'},\n",
       " {'Country': 'Angola',\n",
       "  'Province': '',\n",
       "  'Lat': -11.2027,\n",
       "  'Lon': 17.8739,\n",
       "  'Date': '2020-02-12T00:00:00Z',\n",
       "  'Cases': 0,\n",
       "  'Status': 'confirmed'},\n",
       " {'Country': 'Angola',\n",
       "  'Province': '',\n",
       "  'Lat': -11.2027,\n",
       "  'Lon': 17.8739,\n",
       "  'Date': '2020-02-12T00:00:00Z',\n",
       "  'Cases': 0,\n",
       "  'Status': 'deaths'},\n",
       " {'Country': 'Angola',\n",
       "  'Province': '',\n",
       "  'Lat': -11.2027,\n",
       "  'Lon': 17.8739,\n",
       "  'Date': '2020-02-12T00:00:00Z',\n",
       "  'Cases': 0,\n",
       "  'Status': 'recovered'},\n",
       " {'Country': 'Angola',\n",
       "  'Province': '',\n",
       "  'Lat': -11.2027,\n",
       "  'Lon': 17.8739,\n",
       "  'Date': '2020-02-13T00:00:00Z',\n",
       "  'Cases': 0,\n",
       "  'Status': 'confirmed'},\n",
       " {'Country': 'Angola',\n",
       "  'Province': '',\n",
       "  'Lat': -11.2027,\n",
       "  'Lon': 17.8739,\n",
       "  'Date': '2020-02-13T00:00:00Z',\n",
       "  'Cases': 0,\n",
       "  'Status': 'deaths'},\n",
       " {'Country': 'Angola',\n",
       "  'Province': '',\n",
       "  'Lat': -11.2027,\n",
       "  'Lon': 17.8739,\n",
       "  'Date': '2020-02-13T00:00:00Z',\n",
       "  'Cases': 0,\n",
       "  'Status': 'recovered'},\n",
       " {'Country': 'Angola',\n",
       "  'Province': '',\n",
       "  'Lat': -11.2027,\n",
       "  'Lon': 17.8739,\n",
       "  'Date': '2020-02-14T00:00:00Z',\n",
       "  'Cases': 0,\n",
       "  'Status': 'confirmed'},\n",
       " {'Country': 'Angola',\n",
       "  'Province': '',\n",
       "  'Lat': -11.2027,\n",
       "  'Lon': 17.8739,\n",
       "  'Date': '2020-02-14T00:00:00Z',\n",
       "  'Cases': 0,\n",
       "  'Status': 'deaths'},\n",
       " {'Country': 'Angola',\n",
       "  'Province': '',\n",
       "  'Lat': -11.2027,\n",
       "  'Lon': 17.8739,\n",
       "  'Date': '2020-02-14T00:00:00Z',\n",
       "  'Cases': 0,\n",
       "  'Status': 'recovered'},\n",
       " {'Country': 'Angola',\n",
       "  'Province': '',\n",
       "  'Lat': -11.2027,\n",
       "  'Lon': 17.8739,\n",
       "  'Date': '2020-02-15T00:00:00Z',\n",
       "  'Cases': 0,\n",
       "  'Status': 'confirmed'},\n",
       " {'Country': 'Angola',\n",
       "  'Province': '',\n",
       "  'Lat': -11.2027,\n",
       "  'Lon': 17.8739,\n",
       "  'Date': '2020-02-15T00:00:00Z',\n",
       "  'Cases': 0,\n",
       "  'Status': 'deaths'},\n",
       " {'Country': 'Angola',\n",
       "  'Province': '',\n",
       "  'Lat': -11.2027,\n",
       "  'Lon': 17.8739,\n",
       "  'Date': '2020-02-15T00:00:00Z',\n",
       "  'Cases': 0,\n",
       "  'Status': 'recovered'},\n",
       " {'Country': 'Angola',\n",
       "  'Province': '',\n",
       "  'Lat': -11.2027,\n",
       "  'Lon': 17.8739,\n",
       "  'Date': '2020-02-16T00:00:00Z',\n",
       "  'Cases': 0,\n",
       "  'Status': 'confirmed'},\n",
       " {'Country': 'Angola',\n",
       "  'Province': '',\n",
       "  'Lat': -11.2027,\n",
       "  'Lon': 17.8739,\n",
       "  'Date': '2020-02-16T00:00:00Z',\n",
       "  'Cases': 0,\n",
       "  'Status': 'deaths'},\n",
       " {'Country': 'Angola',\n",
       "  'Province': '',\n",
       "  'Lat': -11.2027,\n",
       "  'Lon': 17.8739,\n",
       "  'Date': '2020-02-16T00:00:00Z',\n",
       "  'Cases': 0,\n",
       "  'Status': 'recovered'},\n",
       " {'Country': 'Angola',\n",
       "  'Province': '',\n",
       "  'Lat': -11.2027,\n",
       "  'Lon': 17.8739,\n",
       "  'Date': '2020-02-17T00:00:00Z',\n",
       "  'Cases': 0,\n",
       "  'Status': 'confirmed'},\n",
       " {'Country': 'Angola',\n",
       "  'Province': '',\n",
       "  'Lat': -11.2027,\n",
       "  'Lon': 17.8739,\n",
       "  'Date': '2020-02-17T00:00:00Z',\n",
       "  'Cases': 0,\n",
       "  'Status': 'deaths'},\n",
       " {'Country': 'Angola',\n",
       "  'Province': '',\n",
       "  'Lat': -11.2027,\n",
       "  'Lon': 17.8739,\n",
       "  'Date': '2020-02-17T00:00:00Z',\n",
       "  'Cases': 0,\n",
       "  'Status': 'recovered'},\n",
       " {'Country': 'Angola',\n",
       "  'Province': '',\n",
       "  'Lat': -11.2027,\n",
       "  'Lon': 17.8739,\n",
       "  'Date': '2020-02-18T00:00:00Z',\n",
       "  'Cases': 0,\n",
       "  'Status': 'confirmed'},\n",
       " {'Country': 'Angola',\n",
       "  'Province': '',\n",
       "  'Lat': -11.2027,\n",
       "  'Lon': 17.8739,\n",
       "  'Date': '2020-02-18T00:00:00Z',\n",
       "  'Cases': 0,\n",
       "  'Status': 'deaths'},\n",
       " {'Country': 'Angola',\n",
       "  'Province': '',\n",
       "  'Lat': -11.2027,\n",
       "  'Lon': 17.8739,\n",
       "  'Date': '2020-02-18T00:00:00Z',\n",
       "  'Cases': 0,\n",
       "  'Status': 'recovered'},\n",
       " {'Country': 'Angola',\n",
       "  'Province': '',\n",
       "  'Lat': -11.2027,\n",
       "  'Lon': 17.8739,\n",
       "  'Date': '2020-02-19T00:00:00Z',\n",
       "  'Cases': 0,\n",
       "  'Status': 'confirmed'},\n",
       " {'Country': 'Angola',\n",
       "  'Province': '',\n",
       "  'Lat': -11.2027,\n",
       "  'Lon': 17.8739,\n",
       "  'Date': '2020-02-19T00:00:00Z',\n",
       "  'Cases': 0,\n",
       "  'Status': 'deaths'},\n",
       " {'Country': 'Angola',\n",
       "  'Province': '',\n",
       "  'Lat': -11.2027,\n",
       "  'Lon': 17.8739,\n",
       "  'Date': '2020-02-19T00:00:00Z',\n",
       "  'Cases': 0,\n",
       "  'Status': 'recovered'},\n",
       " {'Country': 'Angola',\n",
       "  'Province': '',\n",
       "  'Lat': -11.2027,\n",
       "  'Lon': 17.8739,\n",
       "  'Date': '2020-02-20T00:00:00Z',\n",
       "  'Cases': 0,\n",
       "  'Status': 'confirmed'},\n",
       " {'Country': 'Angola',\n",
       "  'Province': '',\n",
       "  'Lat': -11.2027,\n",
       "  'Lon': 17.8739,\n",
       "  'Date': '2020-02-20T00:00:00Z',\n",
       "  'Cases': 0,\n",
       "  'Status': 'deaths'},\n",
       " {'Country': 'Angola',\n",
       "  'Province': '',\n",
       "  'Lat': -11.2027,\n",
       "  'Lon': 17.8739,\n",
       "  'Date': '2020-02-20T00:00:00Z',\n",
       "  'Cases': 0,\n",
       "  'Status': 'recovered'},\n",
       " {'Country': 'Angola',\n",
       "  'Province': '',\n",
       "  'Lat': -11.2027,\n",
       "  'Lon': 17.8739,\n",
       "  'Date': '2020-02-21T00:00:00Z',\n",
       "  'Cases': 0,\n",
       "  'Status': 'confirmed'},\n",
       " {'Country': 'Angola',\n",
       "  'Province': '',\n",
       "  'Lat': -11.2027,\n",
       "  'Lon': 17.8739,\n",
       "  'Date': '2020-02-21T00:00:00Z',\n",
       "  'Cases': 0,\n",
       "  'Status': 'deaths'},\n",
       " {'Country': 'Angola',\n",
       "  'Province': '',\n",
       "  'Lat': -11.2027,\n",
       "  'Lon': 17.8739,\n",
       "  'Date': '2020-02-21T00:00:00Z',\n",
       "  'Cases': 0,\n",
       "  'Status': 'recovered'},\n",
       " {'Country': 'Angola',\n",
       "  'Province': '',\n",
       "  'Lat': -11.2027,\n",
       "  'Lon': 17.8739,\n",
       "  'Date': '2020-02-22T00:00:00Z',\n",
       "  'Cases': 0,\n",
       "  'Status': 'confirmed'},\n",
       " {'Country': 'Angola',\n",
       "  'Province': '',\n",
       "  'Lat': -11.2027,\n",
       "  'Lon': 17.8739,\n",
       "  'Date': '2020-02-22T00:00:00Z',\n",
       "  'Cases': 0,\n",
       "  'Status': 'deaths'},\n",
       " {'Country': 'Angola',\n",
       "  'Province': '',\n",
       "  'Lat': -11.2027,\n",
       "  'Lon': 17.8739,\n",
       "  'Date': '2020-02-22T00:00:00Z',\n",
       "  'Cases': 0,\n",
       "  'Status': 'recovered'},\n",
       " {'Country': 'Angola',\n",
       "  'Province': '',\n",
       "  'Lat': -11.2027,\n",
       "  'Lon': 17.8739,\n",
       "  'Date': '2020-02-23T00:00:00Z',\n",
       "  'Cases': 0,\n",
       "  'Status': 'confirmed'},\n",
       " {'Country': 'Angola',\n",
       "  'Province': '',\n",
       "  'Lat': -11.2027,\n",
       "  'Lon': 17.8739,\n",
       "  'Date': '2020-02-23T00:00:00Z',\n",
       "  'Cases': 0,\n",
       "  'Status': 'deaths'},\n",
       " {'Country': 'Angola',\n",
       "  'Province': '',\n",
       "  'Lat': -11.2027,\n",
       "  'Lon': 17.8739,\n",
       "  'Date': '2020-02-23T00:00:00Z',\n",
       "  'Cases': 0,\n",
       "  'Status': 'recovered'},\n",
       " {'Country': 'Angola',\n",
       "  'Province': '',\n",
       "  'Lat': -11.2027,\n",
       "  'Lon': 17.8739,\n",
       "  'Date': '2020-02-24T00:00:00Z',\n",
       "  'Cases': 0,\n",
       "  'Status': 'confirmed'},\n",
       " {'Country': 'Angola',\n",
       "  'Province': '',\n",
       "  'Lat': -11.2027,\n",
       "  'Lon': 17.8739,\n",
       "  'Date': '2020-02-24T00:00:00Z',\n",
       "  'Cases': 0,\n",
       "  'Status': 'deaths'},\n",
       " {'Country': 'Angola',\n",
       "  'Province': '',\n",
       "  'Lat': -11.2027,\n",
       "  'Lon': 17.8739,\n",
       "  'Date': '2020-02-24T00:00:00Z',\n",
       "  'Cases': 0,\n",
       "  'Status': 'recovered'},\n",
       " {'Country': 'Angola',\n",
       "  'Province': '',\n",
       "  'Lat': -11.2027,\n",
       "  'Lon': 17.8739,\n",
       "  'Date': '2020-02-25T00:00:00Z',\n",
       "  'Cases': 0,\n",
       "  'Status': 'confirmed'},\n",
       " {'Country': 'Angola',\n",
       "  'Province': '',\n",
       "  'Lat': -11.2027,\n",
       "  'Lon': 17.8739,\n",
       "  'Date': '2020-02-25T00:00:00Z',\n",
       "  'Cases': 0,\n",
       "  'Status': 'deaths'},\n",
       " {'Country': 'Angola',\n",
       "  'Province': '',\n",
       "  'Lat': -11.2027,\n",
       "  'Lon': 17.8739,\n",
       "  'Date': '2020-02-25T00:00:00Z',\n",
       "  'Cases': 0,\n",
       "  'Status': 'recovered'},\n",
       " {'Country': 'Angola',\n",
       "  'Province': '',\n",
       "  'Lat': -11.2027,\n",
       "  'Lon': 17.8739,\n",
       "  'Date': '2020-02-26T00:00:00Z',\n",
       "  'Cases': 0,\n",
       "  'Status': 'confirmed'},\n",
       " {'Country': 'Angola',\n",
       "  'Province': '',\n",
       "  'Lat': -11.2027,\n",
       "  'Lon': 17.8739,\n",
       "  'Date': '2020-02-26T00:00:00Z',\n",
       "  'Cases': 0,\n",
       "  'Status': 'deaths'},\n",
       " {'Country': 'Angola',\n",
       "  'Province': '',\n",
       "  'Lat': -11.2027,\n",
       "  'Lon': 17.8739,\n",
       "  'Date': '2020-02-26T00:00:00Z',\n",
       "  'Cases': 0,\n",
       "  'Status': 'recovered'},\n",
       " {'Country': 'Angola',\n",
       "  'Province': '',\n",
       "  'Lat': -11.2027,\n",
       "  'Lon': 17.8739,\n",
       "  'Date': '2020-02-27T00:00:00Z',\n",
       "  'Cases': 0,\n",
       "  'Status': 'confirmed'},\n",
       " {'Country': 'Angola',\n",
       "  'Province': '',\n",
       "  'Lat': -11.2027,\n",
       "  'Lon': 17.8739,\n",
       "  'Date': '2020-02-27T00:00:00Z',\n",
       "  'Cases': 0,\n",
       "  'Status': 'deaths'},\n",
       " {'Country': 'Angola',\n",
       "  'Province': '',\n",
       "  'Lat': -11.2027,\n",
       "  'Lon': 17.8739,\n",
       "  'Date': '2020-02-27T00:00:00Z',\n",
       "  'Cases': 0,\n",
       "  'Status': 'recovered'},\n",
       " {'Country': 'Angola',\n",
       "  'Province': '',\n",
       "  'Lat': -11.2027,\n",
       "  'Lon': 17.8739,\n",
       "  'Date': '2020-02-28T00:00:00Z',\n",
       "  'Cases': 0,\n",
       "  'Status': 'confirmed'},\n",
       " {'Country': 'Angola',\n",
       "  'Province': '',\n",
       "  'Lat': -11.2027,\n",
       "  'Lon': 17.8739,\n",
       "  'Date': '2020-02-28T00:00:00Z',\n",
       "  'Cases': 0,\n",
       "  'Status': 'deaths'},\n",
       " {'Country': 'Angola',\n",
       "  'Province': '',\n",
       "  'Lat': -11.2027,\n",
       "  'Lon': 17.8739,\n",
       "  'Date': '2020-02-28T00:00:00Z',\n",
       "  'Cases': 0,\n",
       "  'Status': 'recovered'},\n",
       " {'Country': 'Angola',\n",
       "  'Province': '',\n",
       "  'Lat': -11.2027,\n",
       "  'Lon': 17.8739,\n",
       "  'Date': '2020-02-29T00:00:00Z',\n",
       "  'Cases': 0,\n",
       "  'Status': 'confirmed'},\n",
       " {'Country': 'Angola',\n",
       "  'Province': '',\n",
       "  'Lat': -11.2027,\n",
       "  'Lon': 17.8739,\n",
       "  'Date': '2020-02-29T00:00:00Z',\n",
       "  'Cases': 0,\n",
       "  'Status': 'deaths'},\n",
       " {'Country': 'Angola',\n",
       "  'Province': '',\n",
       "  'Lat': -11.2027,\n",
       "  'Lon': 17.8739,\n",
       "  'Date': '2020-02-29T00:00:00Z',\n",
       "  'Cases': 0,\n",
       "  'Status': 'recovered'},\n",
       " {'Country': 'Angola',\n",
       "  'Province': '',\n",
       "  'Lat': -11.2027,\n",
       "  'Lon': 17.8739,\n",
       "  'Date': '2020-03-01T00:00:00Z',\n",
       "  'Cases': 0,\n",
       "  'Status': 'confirmed'},\n",
       " {'Country': 'Angola',\n",
       "  'Province': '',\n",
       "  'Lat': -11.2027,\n",
       "  'Lon': 17.8739,\n",
       "  'Date': '2020-03-01T00:00:00Z',\n",
       "  'Cases': 0,\n",
       "  'Status': 'deaths'},\n",
       " {'Country': 'Angola',\n",
       "  'Province': '',\n",
       "  'Lat': -11.2027,\n",
       "  'Lon': 17.8739,\n",
       "  'Date': '2020-03-01T00:00:00Z',\n",
       "  'Cases': 0,\n",
       "  'Status': 'recovered'},\n",
       " {'Country': 'Angola',\n",
       "  'Province': '',\n",
       "  'Lat': -11.2027,\n",
       "  'Lon': 17.8739,\n",
       "  'Date': '2020-03-02T00:00:00Z',\n",
       "  'Cases': 0,\n",
       "  'Status': 'confirmed'},\n",
       " {'Country': 'Angola',\n",
       "  'Province': '',\n",
       "  'Lat': -11.2027,\n",
       "  'Lon': 17.8739,\n",
       "  'Date': '2020-03-02T00:00:00Z',\n",
       "  'Cases': 0,\n",
       "  'Status': 'deaths'},\n",
       " {'Country': 'Angola',\n",
       "  'Province': '',\n",
       "  'Lat': -11.2027,\n",
       "  'Lon': 17.8739,\n",
       "  'Date': '2020-03-02T00:00:00Z',\n",
       "  'Cases': 0,\n",
       "  'Status': 'recovered'},\n",
       " {'Country': 'Angola',\n",
       "  'Province': '',\n",
       "  'Lat': -11.2027,\n",
       "  'Lon': 17.8739,\n",
       "  'Date': '2020-03-03T00:00:00Z',\n",
       "  'Cases': 0,\n",
       "  'Status': 'confirmed'},\n",
       " {'Country': 'Angola',\n",
       "  'Province': '',\n",
       "  'Lat': -11.2027,\n",
       "  'Lon': 17.8739,\n",
       "  'Date': '2020-03-03T00:00:00Z',\n",
       "  'Cases': 0,\n",
       "  'Status': 'deaths'},\n",
       " {'Country': 'Angola',\n",
       "  'Province': '',\n",
       "  'Lat': -11.2027,\n",
       "  'Lon': 17.8739,\n",
       "  'Date': '2020-03-03T00:00:00Z',\n",
       "  'Cases': 0,\n",
       "  'Status': 'recovered'},\n",
       " {'Country': 'Angola',\n",
       "  'Province': '',\n",
       "  'Lat': -11.2027,\n",
       "  'Lon': 17.8739,\n",
       "  'Date': '2020-03-04T00:00:00Z',\n",
       "  'Cases': 0,\n",
       "  'Status': 'confirmed'},\n",
       " {'Country': 'Angola',\n",
       "  'Province': '',\n",
       "  'Lat': -11.2027,\n",
       "  'Lon': 17.8739,\n",
       "  'Date': '2020-03-04T00:00:00Z',\n",
       "  'Cases': 0,\n",
       "  'Status': 'deaths'},\n",
       " {'Country': 'Angola',\n",
       "  'Province': '',\n",
       "  'Lat': -11.2027,\n",
       "  'Lon': 17.8739,\n",
       "  'Date': '2020-03-04T00:00:00Z',\n",
       "  'Cases': 0,\n",
       "  'Status': 'recovered'},\n",
       " {'Country': 'Angola',\n",
       "  'Province': '',\n",
       "  'Lat': -11.2027,\n",
       "  'Lon': 17.8739,\n",
       "  'Date': '2020-03-05T00:00:00Z',\n",
       "  'Cases': 0,\n",
       "  'Status': 'confirmed'},\n",
       " {'Country': 'Angola',\n",
       "  'Province': '',\n",
       "  'Lat': -11.2027,\n",
       "  'Lon': 17.8739,\n",
       "  'Date': '2020-03-05T00:00:00Z',\n",
       "  'Cases': 0,\n",
       "  'Status': 'deaths'},\n",
       " {'Country': 'Angola',\n",
       "  'Province': '',\n",
       "  'Lat': -11.2027,\n",
       "  'Lon': 17.8739,\n",
       "  'Date': '2020-03-05T00:00:00Z',\n",
       "  'Cases': 0,\n",
       "  'Status': 'recovered'},\n",
       " {'Country': 'Angola',\n",
       "  'Province': '',\n",
       "  'Lat': -11.2027,\n",
       "  'Lon': 17.8739,\n",
       "  'Date': '2020-03-06T00:00:00Z',\n",
       "  'Cases': 0,\n",
       "  'Status': 'confirmed'},\n",
       " {'Country': 'Angola',\n",
       "  'Province': '',\n",
       "  'Lat': -11.2027,\n",
       "  'Lon': 17.8739,\n",
       "  'Date': '2020-03-06T00:00:00Z',\n",
       "  'Cases': 0,\n",
       "  'Status': 'deaths'},\n",
       " {'Country': 'Angola',\n",
       "  'Province': '',\n",
       "  'Lat': -11.2027,\n",
       "  'Lon': 17.8739,\n",
       "  'Date': '2020-03-06T00:00:00Z',\n",
       "  'Cases': 0,\n",
       "  'Status': 'recovered'},\n",
       " {'Country': 'Angola',\n",
       "  'Province': '',\n",
       "  'Lat': -11.2027,\n",
       "  'Lon': 17.8739,\n",
       "  'Date': '2020-03-07T00:00:00Z',\n",
       "  'Cases': 0,\n",
       "  'Status': 'confirmed'},\n",
       " {'Country': 'Angola',\n",
       "  'Province': '',\n",
       "  'Lat': -11.2027,\n",
       "  'Lon': 17.8739,\n",
       "  'Date': '2020-03-07T00:00:00Z',\n",
       "  'Cases': 0,\n",
       "  'Status': 'deaths'},\n",
       " {'Country': 'Angola',\n",
       "  'Province': '',\n",
       "  'Lat': -11.2027,\n",
       "  'Lon': 17.8739,\n",
       "  'Date': '2020-03-07T00:00:00Z',\n",
       "  'Cases': 0,\n",
       "  'Status': 'recovered'},\n",
       " {'Country': 'Angola',\n",
       "  'Province': '',\n",
       "  'Lat': -11.2027,\n",
       "  'Lon': 17.8739,\n",
       "  'Date': '2020-03-08T00:00:00Z',\n",
       "  'Cases': 0,\n",
       "  'Status': 'confirmed'},\n",
       " {'Country': 'Angola',\n",
       "  'Province': '',\n",
       "  'Lat': -11.2027,\n",
       "  'Lon': 17.8739,\n",
       "  'Date': '2020-03-08T00:00:00Z',\n",
       "  'Cases': 0,\n",
       "  'Status': 'deaths'},\n",
       " {'Country': 'Angola',\n",
       "  'Province': '',\n",
       "  'Lat': -11.2027,\n",
       "  'Lon': 17.8739,\n",
       "  'Date': '2020-03-08T00:00:00Z',\n",
       "  'Cases': 0,\n",
       "  'Status': 'recovered'},\n",
       " {'Country': 'Angola',\n",
       "  'Province': '',\n",
       "  'Lat': -11.2027,\n",
       "  'Lon': 17.8739,\n",
       "  'Date': '2020-03-09T00:00:00Z',\n",
       "  'Cases': 0,\n",
       "  'Status': 'confirmed'},\n",
       " {'Country': 'Angola',\n",
       "  'Province': '',\n",
       "  'Lat': -11.2027,\n",
       "  'Lon': 17.8739,\n",
       "  'Date': '2020-03-09T00:00:00Z',\n",
       "  'Cases': 0,\n",
       "  'Status': 'deaths'},\n",
       " {'Country': 'Angola',\n",
       "  'Province': '',\n",
       "  'Lat': -11.2027,\n",
       "  'Lon': 17.8739,\n",
       "  'Date': '2020-03-09T00:00:00Z',\n",
       "  'Cases': 0,\n",
       "  'Status': 'recovered'},\n",
       " {'Country': 'Angola',\n",
       "  'Province': '',\n",
       "  'Lat': -11.2027,\n",
       "  'Lon': 17.8739,\n",
       "  'Date': '2020-03-10T00:00:00Z',\n",
       "  'Cases': 0,\n",
       "  'Status': 'confirmed'},\n",
       " {'Country': 'Angola',\n",
       "  'Province': '',\n",
       "  'Lat': -11.2027,\n",
       "  'Lon': 17.8739,\n",
       "  'Date': '2020-03-10T00:00:00Z',\n",
       "  'Cases': 0,\n",
       "  'Status': 'deaths'},\n",
       " {'Country': 'Angola',\n",
       "  'Province': '',\n",
       "  'Lat': -11.2027,\n",
       "  'Lon': 17.8739,\n",
       "  'Date': '2020-03-10T00:00:00Z',\n",
       "  'Cases': 0,\n",
       "  'Status': 'recovered'},\n",
       " {'Country': 'Angola',\n",
       "  'Province': '',\n",
       "  'Lat': -11.2027,\n",
       "  'Lon': 17.8739,\n",
       "  'Date': '2020-03-11T00:00:00Z',\n",
       "  'Cases': 0,\n",
       "  'Status': 'confirmed'},\n",
       " {'Country': 'Angola',\n",
       "  'Province': '',\n",
       "  'Lat': -11.2027,\n",
       "  'Lon': 17.8739,\n",
       "  'Date': '2020-03-11T00:00:00Z',\n",
       "  'Cases': 0,\n",
       "  'Status': 'deaths'},\n",
       " {'Country': 'Angola',\n",
       "  'Province': '',\n",
       "  'Lat': -11.2027,\n",
       "  'Lon': 17.8739,\n",
       "  'Date': '2020-03-11T00:00:00Z',\n",
       "  'Cases': 0,\n",
       "  'Status': 'recovered'},\n",
       " {'Country': 'Angola',\n",
       "  'Province': '',\n",
       "  'Lat': -11.2027,\n",
       "  'Lon': 17.8739,\n",
       "  'Date': '2020-03-12T00:00:00Z',\n",
       "  'Cases': 0,\n",
       "  'Status': 'confirmed'},\n",
       " {'Country': 'Angola',\n",
       "  'Province': '',\n",
       "  'Lat': -11.2027,\n",
       "  'Lon': 17.8739,\n",
       "  'Date': '2020-03-12T00:00:00Z',\n",
       "  'Cases': 0,\n",
       "  'Status': 'deaths'},\n",
       " {'Country': 'Angola',\n",
       "  'Province': '',\n",
       "  'Lat': -11.2027,\n",
       "  'Lon': 17.8739,\n",
       "  'Date': '2020-03-12T00:00:00Z',\n",
       "  'Cases': 0,\n",
       "  'Status': 'recovered'},\n",
       " {'Country': 'Angola',\n",
       "  'Province': '',\n",
       "  'Lat': -11.2027,\n",
       "  'Lon': 17.8739,\n",
       "  'Date': '2020-03-13T00:00:00Z',\n",
       "  'Cases': 0,\n",
       "  'Status': 'confirmed'},\n",
       " {'Country': 'Angola',\n",
       "  'Province': '',\n",
       "  'Lat': -11.2027,\n",
       "  'Lon': 17.8739,\n",
       "  'Date': '2020-03-13T00:00:00Z',\n",
       "  'Cases': 0,\n",
       "  'Status': 'deaths'},\n",
       " {'Country': 'Angola',\n",
       "  'Province': '',\n",
       "  'Lat': -11.2027,\n",
       "  'Lon': 17.8739,\n",
       "  'Date': '2020-03-13T00:00:00Z',\n",
       "  'Cases': 0,\n",
       "  'Status': 'recovered'},\n",
       " {'Country': 'Angola',\n",
       "  'Province': '',\n",
       "  'Lat': -11.2027,\n",
       "  'Lon': 17.8739,\n",
       "  'Date': '2020-03-14T00:00:00Z',\n",
       "  'Cases': 0,\n",
       "  'Status': 'confirmed'},\n",
       " {'Country': 'Angola',\n",
       "  'Province': '',\n",
       "  'Lat': -11.2027,\n",
       "  'Lon': 17.8739,\n",
       "  'Date': '2020-03-14T00:00:00Z',\n",
       "  'Cases': 0,\n",
       "  'Status': 'deaths'},\n",
       " {'Country': 'Angola',\n",
       "  'Province': '',\n",
       "  'Lat': -11.2027,\n",
       "  'Lon': 17.8739,\n",
       "  'Date': '2020-03-14T00:00:00Z',\n",
       "  'Cases': 0,\n",
       "  'Status': 'recovered'},\n",
       " {'Country': 'Angola',\n",
       "  'Province': '',\n",
       "  'Lat': -11.2027,\n",
       "  'Lon': 17.8739,\n",
       "  'Date': '2020-03-15T00:00:00Z',\n",
       "  'Cases': 0,\n",
       "  'Status': 'confirmed'},\n",
       " {'Country': 'Angola',\n",
       "  'Province': '',\n",
       "  'Lat': -11.2027,\n",
       "  'Lon': 17.8739,\n",
       "  'Date': '2020-03-15T00:00:00Z',\n",
       "  'Cases': 0,\n",
       "  'Status': 'deaths'},\n",
       " {'Country': 'Angola',\n",
       "  'Province': '',\n",
       "  'Lat': -11.2027,\n",
       "  'Lon': 17.8739,\n",
       "  'Date': '2020-03-15T00:00:00Z',\n",
       "  'Cases': 0,\n",
       "  'Status': 'recovered'},\n",
       " {'Country': 'Angola',\n",
       "  'Province': '',\n",
       "  'Lat': -11.2027,\n",
       "  'Lon': 17.8739,\n",
       "  'Date': '2020-03-16T00:00:00Z',\n",
       "  'Cases': 0,\n",
       "  'Status': 'confirmed'},\n",
       " {'Country': 'Angola',\n",
       "  'Province': '',\n",
       "  'Lat': -11.2027,\n",
       "  'Lon': 17.8739,\n",
       "  'Date': '2020-03-16T00:00:00Z',\n",
       "  'Cases': 0,\n",
       "  'Status': 'deaths'},\n",
       " {'Country': 'Angola',\n",
       "  'Province': '',\n",
       "  'Lat': -11.2027,\n",
       "  'Lon': 17.8739,\n",
       "  'Date': '2020-03-16T00:00:00Z',\n",
       "  'Cases': 0,\n",
       "  'Status': 'recovered'},\n",
       " {'Country': 'Angola',\n",
       "  'Province': '',\n",
       "  'Lat': -11.2027,\n",
       "  'Lon': 17.8739,\n",
       "  'Date': '2020-03-17T00:00:00Z',\n",
       "  'Cases': 0,\n",
       "  'Status': 'confirmed'},\n",
       " {'Country': 'Angola',\n",
       "  'Province': '',\n",
       "  'Lat': -11.2027,\n",
       "  'Lon': 17.8739,\n",
       "  'Date': '2020-03-17T00:00:00Z',\n",
       "  'Cases': 0,\n",
       "  'Status': 'deaths'},\n",
       " {'Country': 'Angola',\n",
       "  'Province': '',\n",
       "  'Lat': -11.2027,\n",
       "  'Lon': 17.8739,\n",
       "  'Date': '2020-03-17T00:00:00Z',\n",
       "  'Cases': 0,\n",
       "  'Status': 'recovered'},\n",
       " {'Country': 'Angola',\n",
       "  'Province': '',\n",
       "  'Lat': -11.2027,\n",
       "  'Lon': 17.8739,\n",
       "  'Date': '2020-03-18T00:00:00Z',\n",
       "  'Cases': 0,\n",
       "  'Status': 'confirmed'},\n",
       " {'Country': 'Angola',\n",
       "  'Province': '',\n",
       "  'Lat': -11.2027,\n",
       "  'Lon': 17.8739,\n",
       "  'Date': '2020-03-18T00:00:00Z',\n",
       "  'Cases': 0,\n",
       "  'Status': 'deaths'},\n",
       " {'Country': 'Angola',\n",
       "  'Province': '',\n",
       "  'Lat': -11.2027,\n",
       "  'Lon': 17.8739,\n",
       "  'Date': '2020-03-18T00:00:00Z',\n",
       "  'Cases': 0,\n",
       "  'Status': 'recovered'},\n",
       " {'Country': 'Angola',\n",
       "  'Province': '',\n",
       "  'Lat': -11.2027,\n",
       "  'Lon': 17.8739,\n",
       "  'Date': '2020-03-19T00:00:00Z',\n",
       "  'Cases': 0,\n",
       "  'Status': 'confirmed'},\n",
       " {'Country': 'Angola',\n",
       "  'Province': '',\n",
       "  'Lat': -11.2027,\n",
       "  'Lon': 17.8739,\n",
       "  'Date': '2020-03-19T00:00:00Z',\n",
       "  'Cases': 0,\n",
       "  'Status': 'deaths'},\n",
       " {'Country': 'Angola',\n",
       "  'Province': '',\n",
       "  'Lat': -11.2027,\n",
       "  'Lon': 17.8739,\n",
       "  'Date': '2020-03-19T00:00:00Z',\n",
       "  'Cases': 0,\n",
       "  'Status': 'recovered'},\n",
       " {'Country': 'Angola',\n",
       "  'Province': '',\n",
       "  'Lat': -11.2027,\n",
       "  'Lon': 17.8739,\n",
       "  'Date': '2020-03-20T00:00:00Z',\n",
       "  'Cases': 1,\n",
       "  'Status': 'confirmed'},\n",
       " {'Country': 'Angola',\n",
       "  'Province': '',\n",
       "  'Lat': -11.2027,\n",
       "  'Lon': 17.8739,\n",
       "  'Date': '2020-03-20T00:00:00Z',\n",
       "  'Cases': 0,\n",
       "  'Status': 'deaths'},\n",
       " {'Country': 'Angola',\n",
       "  'Province': '',\n",
       "  'Lat': -11.2027,\n",
       "  'Lon': 17.8739,\n",
       "  'Date': '2020-03-20T00:00:00Z',\n",
       "  'Cases': 0,\n",
       "  'Status': 'recovered'},\n",
       " {'Country': 'Angola',\n",
       "  'Province': '',\n",
       "  'Lat': -11.2027,\n",
       "  'Lon': 17.8739,\n",
       "  'Date': '2020-03-21T00:00:00Z',\n",
       "  'Cases': 0,\n",
       "  'Status': 'recovered'},\n",
       " {'Country': 'Angola',\n",
       "  'Province': '',\n",
       "  'Lat': -11.2027,\n",
       "  'Lon': 17.8739,\n",
       "  'Date': '2020-03-21T00:00:00Z',\n",
       "  'Cases': 0,\n",
       "  'Status': 'deaths'},\n",
       " {'Country': 'Angola',\n",
       "  'Province': '',\n",
       "  'Lat': -11.2027,\n",
       "  'Lon': 17.8739,\n",
       "  'Date': '2020-03-21T00:00:00Z',\n",
       "  'Cases': 2,\n",
       "  'Status': 'confirmed'},\n",
       " {'Country': 'Antigua and Barbuda',\n",
       "  'Province': '',\n",
       "  'Lat': 17.0608,\n",
       "  'Lon': -61.7964,\n",
       "  'Date': '2020-01-22T00:00:00Z',\n",
       "  'Cases': 0,\n",
       "  'Status': 'confirmed'},\n",
       " {'Country': 'Antigua and Barbuda',\n",
       "  'Province': '',\n",
       "  'Lat': 17.0608,\n",
       "  'Lon': -61.7964,\n",
       "  'Date': '2020-01-22T00:00:00Z',\n",
       "  'Cases': 0,\n",
       "  'Status': 'deaths'},\n",
       " {'Country': 'Antigua and Barbuda',\n",
       "  'Province': '',\n",
       "  'Lat': 17.0608,\n",
       "  'Lon': -61.7964,\n",
       "  'Date': '2020-01-22T00:00:00Z',\n",
       "  'Cases': 0,\n",
       "  'Status': 'recovered'},\n",
       " {'Country': 'Antigua and Barbuda',\n",
       "  'Province': '',\n",
       "  'Lat': 17.0608,\n",
       "  'Lon': -61.7964,\n",
       "  'Date': '2020-01-23T00:00:00Z',\n",
       "  'Cases': 0,\n",
       "  'Status': 'confirmed'},\n",
       " {'Country': 'Antigua and Barbuda',\n",
       "  'Province': '',\n",
       "  'Lat': 17.0608,\n",
       "  'Lon': -61.7964,\n",
       "  'Date': '2020-01-23T00:00:00Z',\n",
       "  'Cases': 0,\n",
       "  'Status': 'deaths'},\n",
       " {'Country': 'Antigua and Barbuda',\n",
       "  'Province': '',\n",
       "  'Lat': 17.0608,\n",
       "  'Lon': -61.7964,\n",
       "  'Date': '2020-01-23T00:00:00Z',\n",
       "  'Cases': 0,\n",
       "  'Status': 'recovered'},\n",
       " {'Country': 'Antigua and Barbuda',\n",
       "  'Province': '',\n",
       "  'Lat': 17.0608,\n",
       "  'Lon': -61.7964,\n",
       "  'Date': '2020-01-24T00:00:00Z',\n",
       "  'Cases': 0,\n",
       "  'Status': 'confirmed'},\n",
       " {'Country': 'Antigua and Barbuda',\n",
       "  'Province': '',\n",
       "  'Lat': 17.0608,\n",
       "  'Lon': -61.7964,\n",
       "  'Date': '2020-01-24T00:00:00Z',\n",
       "  'Cases': 0,\n",
       "  'Status': 'deaths'},\n",
       " {'Country': 'Antigua and Barbuda',\n",
       "  'Province': '',\n",
       "  'Lat': 17.0608,\n",
       "  'Lon': -61.7964,\n",
       "  'Date': '2020-01-24T00:00:00Z',\n",
       "  'Cases': 0,\n",
       "  'Status': 'recovered'},\n",
       " {'Country': 'Antigua and Barbuda',\n",
       "  'Province': '',\n",
       "  'Lat': 17.0608,\n",
       "  'Lon': -61.7964,\n",
       "  'Date': '2020-01-25T00:00:00Z',\n",
       "  'Cases': 0,\n",
       "  'Status': 'confirmed'},\n",
       " {'Country': 'Antigua and Barbuda',\n",
       "  'Province': '',\n",
       "  'Lat': 17.0608,\n",
       "  'Lon': -61.7964,\n",
       "  'Date': '2020-01-25T00:00:00Z',\n",
       "  'Cases': 0,\n",
       "  'Status': 'deaths'},\n",
       " {'Country': 'Antigua and Barbuda',\n",
       "  'Province': '',\n",
       "  'Lat': 17.0608,\n",
       "  'Lon': -61.7964,\n",
       "  'Date': '2020-01-25T00:00:00Z',\n",
       "  'Cases': 0,\n",
       "  'Status': 'recovered'},\n",
       " {'Country': 'Antigua and Barbuda',\n",
       "  'Province': '',\n",
       "  'Lat': 17.0608,\n",
       "  'Lon': -61.7964,\n",
       "  'Date': '2020-01-26T00:00:00Z',\n",
       "  'Cases': 0,\n",
       "  'Status': 'confirmed'},\n",
       " {'Country': 'Antigua and Barbuda',\n",
       "  'Province': '',\n",
       "  'Lat': 17.0608,\n",
       "  'Lon': -61.7964,\n",
       "  'Date': '2020-01-26T00:00:00Z',\n",
       "  'Cases': 0,\n",
       "  'Status': 'deaths'},\n",
       " {'Country': 'Antigua and Barbuda',\n",
       "  'Province': '',\n",
       "  'Lat': 17.0608,\n",
       "  'Lon': -61.7964,\n",
       "  'Date': '2020-01-26T00:00:00Z',\n",
       "  'Cases': 0,\n",
       "  'Status': 'recovered'},\n",
       " {'Country': 'Antigua and Barbuda',\n",
       "  'Province': '',\n",
       "  'Lat': 17.0608,\n",
       "  'Lon': -61.7964,\n",
       "  'Date': '2020-01-27T00:00:00Z',\n",
       "  'Cases': 0,\n",
       "  'Status': 'confirmed'},\n",
       " {'Country': 'Antigua and Barbuda',\n",
       "  'Province': '',\n",
       "  'Lat': 17.0608,\n",
       "  'Lon': -61.7964,\n",
       "  'Date': '2020-01-27T00:00:00Z',\n",
       "  'Cases': 0,\n",
       "  'Status': 'deaths'},\n",
       " {'Country': 'Antigua and Barbuda',\n",
       "  'Province': '',\n",
       "  'Lat': 17.0608,\n",
       "  'Lon': -61.7964,\n",
       "  'Date': '2020-01-27T00:00:00Z',\n",
       "  'Cases': 0,\n",
       "  'Status': 'recovered'},\n",
       " {'Country': 'Antigua and Barbuda',\n",
       "  'Province': '',\n",
       "  'Lat': 17.0608,\n",
       "  'Lon': -61.7964,\n",
       "  'Date': '2020-01-28T00:00:00Z',\n",
       "  'Cases': 0,\n",
       "  'Status': 'confirmed'},\n",
       " {'Country': 'Antigua and Barbuda',\n",
       "  'Province': '',\n",
       "  'Lat': 17.0608,\n",
       "  'Lon': -61.7964,\n",
       "  'Date': '2020-01-28T00:00:00Z',\n",
       "  'Cases': 0,\n",
       "  'Status': 'deaths'},\n",
       " {'Country': 'Antigua and Barbuda',\n",
       "  'Province': '',\n",
       "  'Lat': 17.0608,\n",
       "  'Lon': -61.7964,\n",
       "  'Date': '2020-01-28T00:00:00Z',\n",
       "  'Cases': 0,\n",
       "  'Status': 'recovered'},\n",
       " {'Country': 'Antigua and Barbuda',\n",
       "  'Province': '',\n",
       "  'Lat': 17.0608,\n",
       "  'Lon': -61.7964,\n",
       "  'Date': '2020-01-29T00:00:00Z',\n",
       "  'Cases': 0,\n",
       "  'Status': 'confirmed'},\n",
       " {'Country': 'Antigua and Barbuda',\n",
       "  'Province': '',\n",
       "  'Lat': 17.0608,\n",
       "  'Lon': -61.7964,\n",
       "  'Date': '2020-01-29T00:00:00Z',\n",
       "  'Cases': 0,\n",
       "  'Status': 'deaths'},\n",
       " {'Country': 'Antigua and Barbuda',\n",
       "  'Province': '',\n",
       "  'Lat': 17.0608,\n",
       "  'Lon': -61.7964,\n",
       "  'Date': '2020-01-29T00:00:00Z',\n",
       "  'Cases': 0,\n",
       "  'Status': 'recovered'},\n",
       " {'Country': 'Antigua and Barbuda',\n",
       "  'Province': '',\n",
       "  'Lat': 17.0608,\n",
       "  'Lon': -61.7964,\n",
       "  'Date': '2020-01-30T00:00:00Z',\n",
       "  'Cases': 0,\n",
       "  'Status': 'confirmed'},\n",
       " {'Country': 'Antigua and Barbuda',\n",
       "  'Province': '',\n",
       "  'Lat': 17.0608,\n",
       "  'Lon': -61.7964,\n",
       "  'Date': '2020-01-30T00:00:00Z',\n",
       "  'Cases': 0,\n",
       "  'Status': 'deaths'},\n",
       " {'Country': 'Antigua and Barbuda',\n",
       "  'Province': '',\n",
       "  'Lat': 17.0608,\n",
       "  'Lon': -61.7964,\n",
       "  'Date': '2020-01-30T00:00:00Z',\n",
       "  'Cases': 0,\n",
       "  'Status': 'recovered'},\n",
       " {'Country': 'Antigua and Barbuda',\n",
       "  'Province': '',\n",
       "  'Lat': 17.0608,\n",
       "  'Lon': -61.7964,\n",
       "  'Date': '2020-01-31T00:00:00Z',\n",
       "  'Cases': 0,\n",
       "  'Status': 'confirmed'},\n",
       " {'Country': 'Antigua and Barbuda',\n",
       "  'Province': '',\n",
       "  'Lat': 17.0608,\n",
       "  'Lon': -61.7964,\n",
       "  'Date': '2020-01-31T00:00:00Z',\n",
       "  'Cases': 0,\n",
       "  'Status': 'deaths'},\n",
       " {'Country': 'Antigua and Barbuda',\n",
       "  'Province': '',\n",
       "  'Lat': 17.0608,\n",
       "  'Lon': -61.7964,\n",
       "  'Date': '2020-01-31T00:00:00Z',\n",
       "  'Cases': 0,\n",
       "  'Status': 'recovered'},\n",
       " {'Country': 'Antigua and Barbuda',\n",
       "  'Province': '',\n",
       "  'Lat': 17.0608,\n",
       "  'Lon': -61.7964,\n",
       "  'Date': '2020-02-01T00:00:00Z',\n",
       "  'Cases': 0,\n",
       "  'Status': 'confirmed'},\n",
       " {'Country': 'Antigua and Barbuda',\n",
       "  'Province': '',\n",
       "  'Lat': 17.0608,\n",
       "  'Lon': -61.7964,\n",
       "  'Date': '2020-02-01T00:00:00Z',\n",
       "  'Cases': 0,\n",
       "  'Status': 'deaths'},\n",
       " {'Country': 'Antigua and Barbuda',\n",
       "  'Province': '',\n",
       "  'Lat': 17.0608,\n",
       "  'Lon': -61.7964,\n",
       "  'Date': '2020-02-01T00:00:00Z',\n",
       "  'Cases': 0,\n",
       "  'Status': 'recovered'},\n",
       " {'Country': 'Antigua and Barbuda',\n",
       "  'Province': '',\n",
       "  'Lat': 17.0608,\n",
       "  'Lon': -61.7964,\n",
       "  'Date': '2020-02-02T00:00:00Z',\n",
       "  'Cases': 0,\n",
       "  'Status': 'confirmed'},\n",
       " {'Country': 'Antigua and Barbuda',\n",
       "  'Province': '',\n",
       "  'Lat': 17.0608,\n",
       "  'Lon': -61.7964,\n",
       "  'Date': '2020-02-02T00:00:00Z',\n",
       "  'Cases': 0,\n",
       "  'Status': 'deaths'},\n",
       " {'Country': 'Antigua and Barbuda',\n",
       "  'Province': '',\n",
       "  'Lat': 17.0608,\n",
       "  'Lon': -61.7964,\n",
       "  'Date': '2020-02-02T00:00:00Z',\n",
       "  'Cases': 0,\n",
       "  'Status': 'recovered'},\n",
       " {'Country': 'Antigua and Barbuda',\n",
       "  'Province': '',\n",
       "  'Lat': 17.0608,\n",
       "  'Lon': -61.7964,\n",
       "  'Date': '2020-02-03T00:00:00Z',\n",
       "  'Cases': 0,\n",
       "  'Status': 'confirmed'},\n",
       " {'Country': 'Antigua and Barbuda',\n",
       "  'Province': '',\n",
       "  'Lat': 17.0608,\n",
       "  'Lon': -61.7964,\n",
       "  'Date': '2020-02-03T00:00:00Z',\n",
       "  'Cases': 0,\n",
       "  'Status': 'deaths'},\n",
       " {'Country': 'Antigua and Barbuda',\n",
       "  'Province': '',\n",
       "  'Lat': 17.0608,\n",
       "  'Lon': -61.7964,\n",
       "  'Date': '2020-02-03T00:00:00Z',\n",
       "  'Cases': 0,\n",
       "  'Status': 'recovered'},\n",
       " {'Country': 'Antigua and Barbuda',\n",
       "  'Province': '',\n",
       "  'Lat': 17.0608,\n",
       "  'Lon': -61.7964,\n",
       "  'Date': '2020-02-04T00:00:00Z',\n",
       "  'Cases': 0,\n",
       "  'Status': 'recovered'},\n",
       " {'Country': 'Antigua and Barbuda',\n",
       "  'Province': '',\n",
       "  'Lat': 17.0608,\n",
       "  'Lon': -61.7964,\n",
       "  'Date': '2020-02-04T00:00:00Z',\n",
       "  'Cases': 0,\n",
       "  'Status': 'confirmed'},\n",
       " {'Country': 'Antigua and Barbuda',\n",
       "  'Province': '',\n",
       "  'Lat': 17.0608,\n",
       "  'Lon': -61.7964,\n",
       "  'Date': '2020-02-04T00:00:00Z',\n",
       "  'Cases': 0,\n",
       "  'Status': 'deaths'},\n",
       " {'Country': 'Antigua and Barbuda',\n",
       "  'Province': '',\n",
       "  'Lat': 17.0608,\n",
       "  'Lon': -61.7964,\n",
       "  'Date': '2020-02-05T00:00:00Z',\n",
       "  'Cases': 0,\n",
       "  'Status': 'recovered'},\n",
       " {'Country': 'Antigua and Barbuda',\n",
       "  'Province': '',\n",
       "  'Lat': 17.0608,\n",
       "  'Lon': -61.7964,\n",
       "  'Date': '2020-02-05T00:00:00Z',\n",
       "  'Cases': 0,\n",
       "  'Status': 'confirmed'},\n",
       " {'Country': 'Antigua and Barbuda',\n",
       "  'Province': '',\n",
       "  'Lat': 17.0608,\n",
       "  'Lon': -61.7964,\n",
       "  'Date': '2020-02-05T00:00:00Z',\n",
       "  'Cases': 0,\n",
       "  'Status': 'deaths'},\n",
       " {'Country': 'Antigua and Barbuda',\n",
       "  'Province': '',\n",
       "  'Lat': 17.0608,\n",
       "  'Lon': -61.7964,\n",
       "  'Date': '2020-02-06T00:00:00Z',\n",
       "  'Cases': 0,\n",
       "  'Status': 'recovered'},\n",
       " {'Country': 'Antigua and Barbuda',\n",
       "  'Province': '',\n",
       "  'Lat': 17.0608,\n",
       "  'Lon': -61.7964,\n",
       "  'Date': '2020-02-06T00:00:00Z',\n",
       "  'Cases': 0,\n",
       "  'Status': 'confirmed'},\n",
       " {'Country': 'Antigua and Barbuda',\n",
       "  'Province': '',\n",
       "  'Lat': 17.0608,\n",
       "  'Lon': -61.7964,\n",
       "  'Date': '2020-02-06T00:00:00Z',\n",
       "  'Cases': 0,\n",
       "  'Status': 'deaths'},\n",
       " {'Country': 'Antigua and Barbuda',\n",
       "  'Province': '',\n",
       "  'Lat': 17.0608,\n",
       "  'Lon': -61.7964,\n",
       "  'Date': '2020-02-07T00:00:00Z',\n",
       "  'Cases': 0,\n",
       "  'Status': 'recovered'},\n",
       " {'Country': 'Antigua and Barbuda',\n",
       "  'Province': '',\n",
       "  'Lat': 17.0608,\n",
       "  'Lon': -61.7964,\n",
       "  'Date': '2020-02-07T00:00:00Z',\n",
       "  'Cases': 0,\n",
       "  'Status': 'confirmed'},\n",
       " {'Country': 'Antigua and Barbuda',\n",
       "  'Province': '',\n",
       "  'Lat': 17.0608,\n",
       "  'Lon': -61.7964,\n",
       "  'Date': '2020-02-07T00:00:00Z',\n",
       "  'Cases': 0,\n",
       "  'Status': 'deaths'},\n",
       " {'Country': 'Antigua and Barbuda',\n",
       "  'Province': '',\n",
       "  'Lat': 17.0608,\n",
       "  'Lon': -61.7964,\n",
       "  'Date': '2020-02-08T00:00:00Z',\n",
       "  'Cases': 0,\n",
       "  'Status': 'recovered'},\n",
       " {'Country': 'Antigua and Barbuda',\n",
       "  'Province': '',\n",
       "  'Lat': 17.0608,\n",
       "  'Lon': -61.7964,\n",
       "  'Date': '2020-02-08T00:00:00Z',\n",
       "  'Cases': 0,\n",
       "  'Status': 'confirmed'},\n",
       " {'Country': 'Antigua and Barbuda',\n",
       "  'Province': '',\n",
       "  'Lat': 17.0608,\n",
       "  'Lon': -61.7964,\n",
       "  'Date': '2020-02-08T00:00:00Z',\n",
       "  'Cases': 0,\n",
       "  'Status': 'deaths'},\n",
       " {'Country': 'Antigua and Barbuda',\n",
       "  'Province': '',\n",
       "  'Lat': 17.0608,\n",
       "  'Lon': -61.7964,\n",
       "  'Date': '2020-02-09T00:00:00Z',\n",
       "  'Cases': 0,\n",
       "  'Status': 'recovered'},\n",
       " {'Country': 'Antigua and Barbuda',\n",
       "  'Province': '',\n",
       "  'Lat': 17.0608,\n",
       "  'Lon': -61.7964,\n",
       "  'Date': '2020-02-09T00:00:00Z',\n",
       "  'Cases': 0,\n",
       "  'Status': 'confirmed'},\n",
       " {'Country': 'Antigua and Barbuda',\n",
       "  'Province': '',\n",
       "  'Lat': 17.0608,\n",
       "  'Lon': -61.7964,\n",
       "  'Date': '2020-02-09T00:00:00Z',\n",
       "  'Cases': 0,\n",
       "  'Status': 'deaths'},\n",
       " {'Country': 'Antigua and Barbuda',\n",
       "  'Province': '',\n",
       "  'Lat': 17.0608,\n",
       "  'Lon': -61.7964,\n",
       "  'Date': '2020-02-10T00:00:00Z',\n",
       "  'Cases': 0,\n",
       "  'Status': 'recovered'},\n",
       " {'Country': 'Antigua and Barbuda',\n",
       "  'Province': '',\n",
       "  'Lat': 17.0608,\n",
       "  'Lon': -61.7964,\n",
       "  'Date': '2020-02-10T00:00:00Z',\n",
       "  'Cases': 0,\n",
       "  'Status': 'confirmed'},\n",
       " {'Country': 'Antigua and Barbuda',\n",
       "  'Province': '',\n",
       "  'Lat': 17.0608,\n",
       "  'Lon': -61.7964,\n",
       "  'Date': '2020-02-10T00:00:00Z',\n",
       "  'Cases': 0,\n",
       "  'Status': 'deaths'},\n",
       " {'Country': 'Antigua and Barbuda',\n",
       "  'Province': '',\n",
       "  'Lat': 17.0608,\n",
       "  'Lon': -61.7964,\n",
       "  'Date': '2020-02-11T00:00:00Z',\n",
       "  'Cases': 0,\n",
       "  'Status': 'recovered'},\n",
       " {'Country': 'Antigua and Barbuda',\n",
       "  'Province': '',\n",
       "  'Lat': 17.0608,\n",
       "  'Lon': -61.7964,\n",
       "  'Date': '2020-02-11T00:00:00Z',\n",
       "  'Cases': 0,\n",
       "  'Status': 'confirmed'},\n",
       " {'Country': 'Antigua and Barbuda',\n",
       "  'Province': '',\n",
       "  'Lat': 17.0608,\n",
       "  'Lon': -61.7964,\n",
       "  'Date': '2020-02-11T00:00:00Z',\n",
       "  'Cases': 0,\n",
       "  'Status': 'deaths'},\n",
       " {'Country': 'Antigua and Barbuda',\n",
       "  'Province': '',\n",
       "  'Lat': 17.0608,\n",
       "  'Lon': -61.7964,\n",
       "  'Date': '2020-02-12T00:00:00Z',\n",
       "  'Cases': 0,\n",
       "  'Status': 'recovered'},\n",
       " {'Country': 'Antigua and Barbuda',\n",
       "  'Province': '',\n",
       "  'Lat': 17.0608,\n",
       "  'Lon': -61.7964,\n",
       "  'Date': '2020-02-12T00:00:00Z',\n",
       "  'Cases': 0,\n",
       "  'Status': 'confirmed'},\n",
       " {'Country': 'Antigua and Barbuda',\n",
       "  'Province': '',\n",
       "  'Lat': 17.0608,\n",
       "  'Lon': -61.7964,\n",
       "  'Date': '2020-02-12T00:00:00Z',\n",
       "  'Cases': 0,\n",
       "  'Status': 'deaths'},\n",
       " {'Country': 'Antigua and Barbuda',\n",
       "  'Province': '',\n",
       "  'Lat': 17.0608,\n",
       "  'Lon': -61.7964,\n",
       "  'Date': '2020-02-13T00:00:00Z',\n",
       "  'Cases': 0,\n",
       "  'Status': 'recovered'},\n",
       " {'Country': 'Antigua and Barbuda',\n",
       "  'Province': '',\n",
       "  'Lat': 17.0608,\n",
       "  'Lon': -61.7964,\n",
       "  'Date': '2020-02-13T00:00:00Z',\n",
       "  'Cases': 0,\n",
       "  'Status': 'confirmed'},\n",
       " {'Country': 'Antigua and Barbuda',\n",
       "  'Province': '',\n",
       "  'Lat': 17.0608,\n",
       "  'Lon': -61.7964,\n",
       "  'Date': '2020-02-13T00:00:00Z',\n",
       "  'Cases': 0,\n",
       "  'Status': 'deaths'},\n",
       " {'Country': 'Antigua and Barbuda',\n",
       "  'Province': '',\n",
       "  'Lat': 17.0608,\n",
       "  'Lon': -61.7964,\n",
       "  'Date': '2020-02-14T00:00:00Z',\n",
       "  'Cases': 0,\n",
       "  'Status': 'recovered'},\n",
       " {'Country': 'Antigua and Barbuda',\n",
       "  'Province': '',\n",
       "  'Lat': 17.0608,\n",
       "  'Lon': -61.7964,\n",
       "  'Date': '2020-02-14T00:00:00Z',\n",
       "  'Cases': 0,\n",
       "  'Status': 'confirmed'},\n",
       " {'Country': 'Antigua and Barbuda',\n",
       "  'Province': '',\n",
       "  'Lat': 17.0608,\n",
       "  'Lon': -61.7964,\n",
       "  'Date': '2020-02-14T00:00:00Z',\n",
       "  'Cases': 0,\n",
       "  'Status': 'deaths'},\n",
       " {'Country': 'Antigua and Barbuda',\n",
       "  'Province': '',\n",
       "  'Lat': 17.0608,\n",
       "  'Lon': -61.7964,\n",
       "  'Date': '2020-02-15T00:00:00Z',\n",
       "  'Cases': 0,\n",
       "  'Status': 'recovered'},\n",
       " {'Country': 'Antigua and Barbuda',\n",
       "  'Province': '',\n",
       "  'Lat': 17.0608,\n",
       "  'Lon': -61.7964,\n",
       "  'Date': '2020-02-15T00:00:00Z',\n",
       "  'Cases': 0,\n",
       "  'Status': 'confirmed'},\n",
       " {'Country': 'Antigua and Barbuda',\n",
       "  'Province': '',\n",
       "  'Lat': 17.0608,\n",
       "  'Lon': -61.7964,\n",
       "  'Date': '2020-02-15T00:00:00Z',\n",
       "  'Cases': 0,\n",
       "  'Status': 'deaths'},\n",
       " {'Country': 'Antigua and Barbuda',\n",
       "  'Province': '',\n",
       "  'Lat': 17.0608,\n",
       "  'Lon': -61.7964,\n",
       "  'Date': '2020-02-16T00:00:00Z',\n",
       "  'Cases': 0,\n",
       "  'Status': 'recovered'},\n",
       " {'Country': 'Antigua and Barbuda',\n",
       "  'Province': '',\n",
       "  'Lat': 17.0608,\n",
       "  'Lon': -61.7964,\n",
       "  'Date': '2020-02-16T00:00:00Z',\n",
       "  'Cases': 0,\n",
       "  'Status': 'confirmed'},\n",
       " {'Country': 'Antigua and Barbuda',\n",
       "  'Province': '',\n",
       "  'Lat': 17.0608,\n",
       "  'Lon': -61.7964,\n",
       "  'Date': '2020-02-16T00:00:00Z',\n",
       "  'Cases': 0,\n",
       "  'Status': 'deaths'},\n",
       " {'Country': 'Antigua and Barbuda',\n",
       "  'Province': '',\n",
       "  'Lat': 17.0608,\n",
       "  'Lon': -61.7964,\n",
       "  'Date': '2020-02-17T00:00:00Z',\n",
       "  'Cases': 0,\n",
       "  'Status': 'recovered'},\n",
       " {'Country': 'Antigua and Barbuda',\n",
       "  'Province': '',\n",
       "  'Lat': 17.0608,\n",
       "  'Lon': -61.7964,\n",
       "  'Date': '2020-02-17T00:00:00Z',\n",
       "  'Cases': 0,\n",
       "  'Status': 'confirmed'},\n",
       " {'Country': 'Antigua and Barbuda',\n",
       "  'Province': '',\n",
       "  'Lat': 17.0608,\n",
       "  'Lon': -61.7964,\n",
       "  'Date': '2020-02-17T00:00:00Z',\n",
       "  'Cases': 0,\n",
       "  'Status': 'deaths'},\n",
       " {'Country': 'Antigua and Barbuda',\n",
       "  'Province': '',\n",
       "  'Lat': 17.0608,\n",
       "  'Lon': -61.7964,\n",
       "  'Date': '2020-02-18T00:00:00Z',\n",
       "  'Cases': 0,\n",
       "  'Status': 'recovered'},\n",
       " {'Country': 'Antigua and Barbuda',\n",
       "  'Province': '',\n",
       "  'Lat': 17.0608,\n",
       "  'Lon': -61.7964,\n",
       "  'Date': '2020-02-18T00:00:00Z',\n",
       "  'Cases': 0,\n",
       "  'Status': 'confirmed'},\n",
       " {'Country': 'Antigua and Barbuda',\n",
       "  'Province': '',\n",
       "  'Lat': 17.0608,\n",
       "  'Lon': -61.7964,\n",
       "  'Date': '2020-02-18T00:00:00Z',\n",
       "  'Cases': 0,\n",
       "  'Status': 'deaths'},\n",
       " {'Country': 'Antigua and Barbuda',\n",
       "  'Province': '',\n",
       "  'Lat': 17.0608,\n",
       "  'Lon': -61.7964,\n",
       "  'Date': '2020-02-19T00:00:00Z',\n",
       "  'Cases': 0,\n",
       "  'Status': 'recovered'},\n",
       " {'Country': 'Antigua and Barbuda',\n",
       "  'Province': '',\n",
       "  'Lat': 17.0608,\n",
       "  'Lon': -61.7964,\n",
       "  'Date': '2020-02-19T00:00:00Z',\n",
       "  'Cases': 0,\n",
       "  'Status': 'confirmed'},\n",
       " {'Country': 'Antigua and Barbuda',\n",
       "  'Province': '',\n",
       "  'Lat': 17.0608,\n",
       "  'Lon': -61.7964,\n",
       "  'Date': '2020-02-19T00:00:00Z',\n",
       "  'Cases': 0,\n",
       "  'Status': 'deaths'},\n",
       " {'Country': 'Antigua and Barbuda',\n",
       "  'Province': '',\n",
       "  'Lat': 17.0608,\n",
       "  'Lon': -61.7964,\n",
       "  'Date': '2020-02-20T00:00:00Z',\n",
       "  'Cases': 0,\n",
       "  'Status': 'recovered'},\n",
       " {'Country': 'Antigua and Barbuda',\n",
       "  'Province': '',\n",
       "  'Lat': 17.0608,\n",
       "  'Lon': -61.7964,\n",
       "  'Date': '2020-02-20T00:00:00Z',\n",
       "  'Cases': 0,\n",
       "  'Status': 'confirmed'},\n",
       " {'Country': 'Antigua and Barbuda',\n",
       "  'Province': '',\n",
       "  'Lat': 17.0608,\n",
       "  'Lon': -61.7964,\n",
       "  'Date': '2020-02-20T00:00:00Z',\n",
       "  'Cases': 0,\n",
       "  'Status': 'deaths'},\n",
       " {'Country': 'Antigua and Barbuda',\n",
       "  'Province': '',\n",
       "  'Lat': 17.0608,\n",
       "  'Lon': -61.7964,\n",
       "  'Date': '2020-02-21T00:00:00Z',\n",
       "  'Cases': 0,\n",
       "  'Status': 'recovered'},\n",
       " {'Country': 'Antigua and Barbuda',\n",
       "  'Province': '',\n",
       "  'Lat': 17.0608,\n",
       "  'Lon': -61.7964,\n",
       "  'Date': '2020-02-21T00:00:00Z',\n",
       "  'Cases': 0,\n",
       "  'Status': 'confirmed'},\n",
       " {'Country': 'Antigua and Barbuda',\n",
       "  'Province': '',\n",
       "  'Lat': 17.0608,\n",
       "  'Lon': -61.7964,\n",
       "  'Date': '2020-02-21T00:00:00Z',\n",
       "  'Cases': 0,\n",
       "  'Status': 'deaths'},\n",
       " {'Country': 'Antigua and Barbuda',\n",
       "  'Province': '',\n",
       "  'Lat': 17.0608,\n",
       "  'Lon': -61.7964,\n",
       "  'Date': '2020-02-22T00:00:00Z',\n",
       "  'Cases': 0,\n",
       "  'Status': 'recovered'},\n",
       " {'Country': 'Antigua and Barbuda',\n",
       "  'Province': '',\n",
       "  'Lat': 17.0608,\n",
       "  'Lon': -61.7964,\n",
       "  'Date': '2020-02-22T00:00:00Z',\n",
       "  'Cases': 0,\n",
       "  'Status': 'confirmed'},\n",
       " {'Country': 'Antigua and Barbuda',\n",
       "  'Province': '',\n",
       "  'Lat': 17.0608,\n",
       "  'Lon': -61.7964,\n",
       "  'Date': '2020-02-22T00:00:00Z',\n",
       "  'Cases': 0,\n",
       "  'Status': 'deaths'},\n",
       " {'Country': 'Antigua and Barbuda',\n",
       "  'Province': '',\n",
       "  'Lat': 17.0608,\n",
       "  'Lon': -61.7964,\n",
       "  'Date': '2020-02-23T00:00:00Z',\n",
       "  'Cases': 0,\n",
       "  'Status': 'recovered'},\n",
       " {'Country': 'Antigua and Barbuda',\n",
       "  'Province': '',\n",
       "  'Lat': 17.0608,\n",
       "  'Lon': -61.7964,\n",
       "  'Date': '2020-02-23T00:00:00Z',\n",
       "  'Cases': 0,\n",
       "  'Status': 'confirmed'},\n",
       " {'Country': 'Antigua and Barbuda',\n",
       "  'Province': '',\n",
       "  'Lat': 17.0608,\n",
       "  'Lon': -61.7964,\n",
       "  'Date': '2020-02-23T00:00:00Z',\n",
       "  'Cases': 0,\n",
       "  'Status': 'deaths'},\n",
       " {'Country': 'Antigua and Barbuda',\n",
       "  'Province': '',\n",
       "  'Lat': 17.0608,\n",
       "  'Lon': -61.7964,\n",
       "  'Date': '2020-02-24T00:00:00Z',\n",
       "  'Cases': 0,\n",
       "  'Status': 'recovered'},\n",
       " ...]"
      ]
     },
     "execution_count": 23,
     "metadata": {},
     "output_type": "execute_result"
    }
   ],
   "source": [
    "url='https://api.covid19api.com/all'\n",
    "\n",
    "response = requests.get(url, headers={\"user-agent\":\"Mozilla/5.0 (Windows NT 10.0; Win64; x64) AppleWebKit/537.36 (KHTML, like Gecko) Chrome/79.0.3945.130 Safari/537.36\"})\n",
    "result=response.json()\n",
    "result"
   ]
  },
  {
   "cell_type": "code",
   "execution_count": 25,
   "metadata": {
    "ExecuteTime": {
     "end_time": "2020-03-22T17:20:18.797159Z",
     "start_time": "2020-03-22T17:20:17.388252Z"
    }
   },
   "outputs": [
    {
     "data": {
      "text/html": [
       "<div>\n",
       "<style scoped>\n",
       "    .dataframe tbody tr th:only-of-type {\n",
       "        vertical-align: middle;\n",
       "    }\n",
       "\n",
       "    .dataframe tbody tr th {\n",
       "        vertical-align: top;\n",
       "    }\n",
       "\n",
       "    .dataframe thead th {\n",
       "        text-align: right;\n",
       "    }\n",
       "</style>\n",
       "<table border=\"1\" class=\"dataframe\">\n",
       "  <thead>\n",
       "    <tr style=\"text-align: right;\">\n",
       "      <th></th>\n",
       "      <th>Country</th>\n",
       "      <th>Province</th>\n",
       "      <th>Lat</th>\n",
       "      <th>Lon</th>\n",
       "      <th>Date</th>\n",
       "      <th>Cases</th>\n",
       "      <th>Status</th>\n",
       "    </tr>\n",
       "  </thead>\n",
       "  <tbody>\n",
       "    <tr>\n",
       "      <th>0</th>\n",
       "      <td>Afghanistan</td>\n",
       "      <td></td>\n",
       "      <td>33.0</td>\n",
       "      <td>65.0</td>\n",
       "      <td>2020-01-22T00:00:00Z</td>\n",
       "      <td>0</td>\n",
       "      <td>recovered</td>\n",
       "    </tr>\n",
       "    <tr>\n",
       "      <th>1</th>\n",
       "      <td>Afghanistan</td>\n",
       "      <td></td>\n",
       "      <td>33.0</td>\n",
       "      <td>65.0</td>\n",
       "      <td>2020-01-22T00:00:00Z</td>\n",
       "      <td>0</td>\n",
       "      <td>confirmed</td>\n",
       "    </tr>\n",
       "    <tr>\n",
       "      <th>2</th>\n",
       "      <td>Afghanistan</td>\n",
       "      <td></td>\n",
       "      <td>33.0</td>\n",
       "      <td>65.0</td>\n",
       "      <td>2020-01-22T00:00:00Z</td>\n",
       "      <td>0</td>\n",
       "      <td>deaths</td>\n",
       "    </tr>\n",
       "    <tr>\n",
       "      <th>3</th>\n",
       "      <td>Afghanistan</td>\n",
       "      <td></td>\n",
       "      <td>33.0</td>\n",
       "      <td>65.0</td>\n",
       "      <td>2020-01-23T00:00:00Z</td>\n",
       "      <td>0</td>\n",
       "      <td>recovered</td>\n",
       "    </tr>\n",
       "    <tr>\n",
       "      <th>4</th>\n",
       "      <td>Afghanistan</td>\n",
       "      <td></td>\n",
       "      <td>33.0</td>\n",
       "      <td>65.0</td>\n",
       "      <td>2020-01-23T00:00:00Z</td>\n",
       "      <td>0</td>\n",
       "      <td>confirmed</td>\n",
       "    </tr>\n",
       "  </tbody>\n",
       "</table>\n",
       "</div>"
      ],
      "text/plain": [
       "       Country Province   Lat   Lon                  Date  Cases     Status\n",
       "0  Afghanistan           33.0  65.0  2020-01-22T00:00:00Z      0  recovered\n",
       "1  Afghanistan           33.0  65.0  2020-01-22T00:00:00Z      0  confirmed\n",
       "2  Afghanistan           33.0  65.0  2020-01-22T00:00:00Z      0     deaths\n",
       "3  Afghanistan           33.0  65.0  2020-01-23T00:00:00Z      0  recovered\n",
       "4  Afghanistan           33.0  65.0  2020-01-23T00:00:00Z      0  confirmed"
      ]
     },
     "execution_count": 25,
     "metadata": {},
     "output_type": "execute_result"
    }
   ],
   "source": [
    "df_coronavirus_raw = pd.DataFrame()\n",
    "df_coronavirus_raw = json_normalize(result)\n",
    "df_coronavirus_raw.head()"
   ]
  },
  {
   "cell_type": "markdown",
   "metadata": {},
   "source": [
    "## Continents by country"
   ]
  },
  {
   "cell_type": "code",
   "execution_count": 26,
   "metadata": {
    "ExecuteTime": {
     "end_time": "2020-03-22T17:20:27.845036Z",
     "start_time": "2020-03-22T17:20:27.825055Z"
    }
   },
   "outputs": [
    {
     "data": {
      "text/html": [
       "<div>\n",
       "<style scoped>\n",
       "    .dataframe tbody tr th:only-of-type {\n",
       "        vertical-align: middle;\n",
       "    }\n",
       "\n",
       "    .dataframe tbody tr th {\n",
       "        vertical-align: top;\n",
       "    }\n",
       "\n",
       "    .dataframe thead th {\n",
       "        text-align: right;\n",
       "    }\n",
       "</style>\n",
       "<table border=\"1\" class=\"dataframe\">\n",
       "  <thead>\n",
       "    <tr style=\"text-align: right;\">\n",
       "      <th></th>\n",
       "      <th>CountryName</th>\n",
       "      <th>CapitalName</th>\n",
       "      <th>CapitalLatitude</th>\n",
       "      <th>CapitalLongitude</th>\n",
       "      <th>CountryCode</th>\n",
       "      <th>ContinentName</th>\n",
       "    </tr>\n",
       "  </thead>\n",
       "  <tbody>\n",
       "    <tr>\n",
       "      <th>0</th>\n",
       "      <td>Somaliland</td>\n",
       "      <td>Hargeisa</td>\n",
       "      <td>9.550000</td>\n",
       "      <td>44.050000</td>\n",
       "      <td>NaN</td>\n",
       "      <td>Africa</td>\n",
       "    </tr>\n",
       "    <tr>\n",
       "      <th>1</th>\n",
       "      <td>South Georgia and South Sandwich Islands</td>\n",
       "      <td>King Edward Point</td>\n",
       "      <td>-54.283333</td>\n",
       "      <td>-36.500000</td>\n",
       "      <td>GS</td>\n",
       "      <td>Antarctica</td>\n",
       "    </tr>\n",
       "    <tr>\n",
       "      <th>2</th>\n",
       "      <td>French Southern and Antarctic Lands</td>\n",
       "      <td>Port-aux-Français</td>\n",
       "      <td>-49.350000</td>\n",
       "      <td>70.216667</td>\n",
       "      <td>TF</td>\n",
       "      <td>Antarctica</td>\n",
       "    </tr>\n",
       "    <tr>\n",
       "      <th>3</th>\n",
       "      <td>Palestine</td>\n",
       "      <td>Jerusalem</td>\n",
       "      <td>31.766667</td>\n",
       "      <td>35.233333</td>\n",
       "      <td>PS</td>\n",
       "      <td>Asia</td>\n",
       "    </tr>\n",
       "    <tr>\n",
       "      <th>4</th>\n",
       "      <td>Aland Islands</td>\n",
       "      <td>Mariehamn</td>\n",
       "      <td>60.116667</td>\n",
       "      <td>19.900000</td>\n",
       "      <td>AX</td>\n",
       "      <td>Europe</td>\n",
       "    </tr>\n",
       "  </tbody>\n",
       "</table>\n",
       "</div>"
      ],
      "text/plain": [
       "                                CountryName        CapitalName  \\\n",
       "0                                Somaliland           Hargeisa   \n",
       "1  South Georgia and South Sandwich Islands  King Edward Point   \n",
       "2       French Southern and Antarctic Lands  Port-aux-Français   \n",
       "3                                 Palestine          Jerusalem   \n",
       "4                             Aland Islands          Mariehamn   \n",
       "\n",
       "   CapitalLatitude  CapitalLongitude CountryCode ContinentName  \n",
       "0         9.550000         44.050000         NaN        Africa  \n",
       "1       -54.283333        -36.500000          GS    Antarctica  \n",
       "2       -49.350000         70.216667          TF    Antarctica  \n",
       "3        31.766667         35.233333          PS          Asia  \n",
       "4        60.116667         19.900000          AX        Europe  "
      ]
     },
     "execution_count": 26,
     "metadata": {},
     "output_type": "execute_result"
    }
   ],
   "source": [
    "df_continents = pd.read_csv('./data/concap.csv')\n",
    "df_continents.head()"
   ]
  },
  {
   "cell_type": "markdown",
   "metadata": {},
   "source": [
    "### Join corinavirus info and continent info"
   ]
  },
  {
   "cell_type": "code",
   "execution_count": 27,
   "metadata": {
    "ExecuteTime": {
     "end_time": "2020-03-22T17:20:35.665916Z",
     "start_time": "2020-03-22T17:20:35.612071Z"
    }
   },
   "outputs": [],
   "source": [
    "df_coronavirus_raw = df_coronavirus_raw.merge(df_continents, left_on='Country', right_on='CountryName')"
   ]
  },
  {
   "cell_type": "markdown",
   "metadata": {},
   "source": [
    "# Data cleaning"
   ]
  },
  {
   "cell_type": "markdown",
   "metadata": {},
   "source": [
    "## Renombramos columnas y estandarizamos nombres"
   ]
  },
  {
   "cell_type": "code",
   "execution_count": 29,
   "metadata": {
    "ExecuteTime": {
     "end_time": "2020-03-22T17:21:45.613719Z",
     "start_time": "2020-03-22T17:21:45.578815Z"
    }
   },
   "outputs": [
    {
     "data": {
      "text/html": [
       "<div>\n",
       "<style scoped>\n",
       "    .dataframe tbody tr th:only-of-type {\n",
       "        vertical-align: middle;\n",
       "    }\n",
       "\n",
       "    .dataframe tbody tr th {\n",
       "        vertical-align: top;\n",
       "    }\n",
       "\n",
       "    .dataframe thead th {\n",
       "        text-align: right;\n",
       "    }\n",
       "</style>\n",
       "<table border=\"1\" class=\"dataframe\">\n",
       "  <thead>\n",
       "    <tr style=\"text-align: right;\">\n",
       "      <th></th>\n",
       "      <th>country</th>\n",
       "      <th>province</th>\n",
       "      <th>latitude</th>\n",
       "      <th>longitude</th>\n",
       "      <th>date</th>\n",
       "      <th>cases</th>\n",
       "      <th>status</th>\n",
       "      <th>countryname</th>\n",
       "      <th>capital</th>\n",
       "      <th>capital_latitude</th>\n",
       "      <th>capital_longitude</th>\n",
       "      <th>country_code</th>\n",
       "      <th>continent</th>\n",
       "    </tr>\n",
       "  </thead>\n",
       "  <tbody>\n",
       "    <tr>\n",
       "      <th>0</th>\n",
       "      <td>Afghanistan</td>\n",
       "      <td></td>\n",
       "      <td>33.0</td>\n",
       "      <td>65.0</td>\n",
       "      <td>2020-01-22T00:00:00Z</td>\n",
       "      <td>0</td>\n",
       "      <td>recovered</td>\n",
       "      <td>Afghanistan</td>\n",
       "      <td>Kabul</td>\n",
       "      <td>34.516667</td>\n",
       "      <td>69.183333</td>\n",
       "      <td>AF</td>\n",
       "      <td>Asia</td>\n",
       "    </tr>\n",
       "    <tr>\n",
       "      <th>1</th>\n",
       "      <td>Afghanistan</td>\n",
       "      <td></td>\n",
       "      <td>33.0</td>\n",
       "      <td>65.0</td>\n",
       "      <td>2020-01-22T00:00:00Z</td>\n",
       "      <td>0</td>\n",
       "      <td>confirmed</td>\n",
       "      <td>Afghanistan</td>\n",
       "      <td>Kabul</td>\n",
       "      <td>34.516667</td>\n",
       "      <td>69.183333</td>\n",
       "      <td>AF</td>\n",
       "      <td>Asia</td>\n",
       "    </tr>\n",
       "    <tr>\n",
       "      <th>2</th>\n",
       "      <td>Afghanistan</td>\n",
       "      <td></td>\n",
       "      <td>33.0</td>\n",
       "      <td>65.0</td>\n",
       "      <td>2020-01-22T00:00:00Z</td>\n",
       "      <td>0</td>\n",
       "      <td>deaths</td>\n",
       "      <td>Afghanistan</td>\n",
       "      <td>Kabul</td>\n",
       "      <td>34.516667</td>\n",
       "      <td>69.183333</td>\n",
       "      <td>AF</td>\n",
       "      <td>Asia</td>\n",
       "    </tr>\n",
       "    <tr>\n",
       "      <th>3</th>\n",
       "      <td>Afghanistan</td>\n",
       "      <td></td>\n",
       "      <td>33.0</td>\n",
       "      <td>65.0</td>\n",
       "      <td>2020-01-23T00:00:00Z</td>\n",
       "      <td>0</td>\n",
       "      <td>recovered</td>\n",
       "      <td>Afghanistan</td>\n",
       "      <td>Kabul</td>\n",
       "      <td>34.516667</td>\n",
       "      <td>69.183333</td>\n",
       "      <td>AF</td>\n",
       "      <td>Asia</td>\n",
       "    </tr>\n",
       "    <tr>\n",
       "      <th>4</th>\n",
       "      <td>Afghanistan</td>\n",
       "      <td></td>\n",
       "      <td>33.0</td>\n",
       "      <td>65.0</td>\n",
       "      <td>2020-01-23T00:00:00Z</td>\n",
       "      <td>0</td>\n",
       "      <td>confirmed</td>\n",
       "      <td>Afghanistan</td>\n",
       "      <td>Kabul</td>\n",
       "      <td>34.516667</td>\n",
       "      <td>69.183333</td>\n",
       "      <td>AF</td>\n",
       "      <td>Asia</td>\n",
       "    </tr>\n",
       "  </tbody>\n",
       "</table>\n",
       "</div>"
      ],
      "text/plain": [
       "       country province  latitude  longitude                  date  cases  \\\n",
       "0  Afghanistan               33.0       65.0  2020-01-22T00:00:00Z      0   \n",
       "1  Afghanistan               33.0       65.0  2020-01-22T00:00:00Z      0   \n",
       "2  Afghanistan               33.0       65.0  2020-01-22T00:00:00Z      0   \n",
       "3  Afghanistan               33.0       65.0  2020-01-23T00:00:00Z      0   \n",
       "4  Afghanistan               33.0       65.0  2020-01-23T00:00:00Z      0   \n",
       "\n",
       "      status  countryname capital  capital_latitude  capital_longitude  \\\n",
       "0  recovered  Afghanistan   Kabul         34.516667          69.183333   \n",
       "1  confirmed  Afghanistan   Kabul         34.516667          69.183333   \n",
       "2     deaths  Afghanistan   Kabul         34.516667          69.183333   \n",
       "3  recovered  Afghanistan   Kabul         34.516667          69.183333   \n",
       "4  confirmed  Afghanistan   Kabul         34.516667          69.183333   \n",
       "\n",
       "  country_code continent  \n",
       "0           AF      Asia  \n",
       "1           AF      Asia  \n",
       "2           AF      Asia  \n",
       "3           AF      Asia  \n",
       "4           AF      Asia  "
      ]
     },
     "execution_count": 29,
     "metadata": {},
     "output_type": "execute_result"
    }
   ],
   "source": [
    "df_coronavirus_raw.columns = df_coronavirus_raw.columns.str.replace('[.]','_').str.lower()\n",
    "df_coronavirus_raw = df_coronavirus_raw.rename(columns = {'lat':'latitude', 'lon':'longitude', 'capitalname':'capital', \n",
    "                                                         'capitallatitude':'capital_latitude', 'capitallongitude':'capital_longitude',\n",
    "                                                         'countrycode':'country_code', 'continentname':'continent'})\n",
    "df_coronavirus_raw.head()"
   ]
  },
  {
   "cell_type": "markdown",
   "metadata": {},
   "source": [
    "### Eliminamos columnas duplicadas"
   ]
  },
  {
   "cell_type": "code",
   "execution_count": 32,
   "metadata": {
    "ExecuteTime": {
     "end_time": "2020-03-22T17:26:40.213451Z",
     "start_time": "2020-03-22T17:26:40.202478Z"
    }
   },
   "outputs": [],
   "source": [
    "df_coronavirus_raw.drop('countryname', axis=1, inplace=True)"
   ]
  },
  {
   "cell_type": "markdown",
   "metadata": {},
   "source": [
    "## Clasificamos los paises entre China y resto del mundo y calculamos los casos existentes = Casos confirmados - fallecidos - recuperados"
   ]
  },
  {
   "cell_type": "code",
   "execution_count": 89,
   "metadata": {
    "ExecuteTime": {
     "end_time": "2020-03-22T22:31:38.080871Z",
     "start_time": "2020-03-22T22:31:37.902519Z"
    }
   },
   "outputs": [
    {
     "data": {
      "text/html": [
       "<div>\n",
       "<style scoped>\n",
       "    .dataframe tbody tr th:only-of-type {\n",
       "        vertical-align: middle;\n",
       "    }\n",
       "\n",
       "    .dataframe tbody tr th {\n",
       "        vertical-align: top;\n",
       "    }\n",
       "\n",
       "    .dataframe thead th {\n",
       "        text-align: right;\n",
       "    }\n",
       "</style>\n",
       "<table border=\"1\" class=\"dataframe\">\n",
       "  <thead>\n",
       "    <tr style=\"text-align: right;\">\n",
       "      <th>status</th>\n",
       "      <th>class</th>\n",
       "      <th>continent</th>\n",
       "      <th>country</th>\n",
       "      <th>province</th>\n",
       "      <th>latitude</th>\n",
       "      <th>longitude</th>\n",
       "      <th>date</th>\n",
       "      <th>confirmed</th>\n",
       "      <th>deaths</th>\n",
       "      <th>recovered</th>\n",
       "      <th>existing</th>\n",
       "    </tr>\n",
       "  </thead>\n",
       "  <tbody>\n",
       "    <tr>\n",
       "      <th>0</th>\n",
       "      <td>China</td>\n",
       "      <td>Asia</td>\n",
       "      <td>China</td>\n",
       "      <td>Anhui</td>\n",
       "      <td>31.8257</td>\n",
       "      <td>117.226</td>\n",
       "      <td>2020-01-22</td>\n",
       "      <td>1</td>\n",
       "      <td>0</td>\n",
       "      <td>0</td>\n",
       "      <td>1</td>\n",
       "    </tr>\n",
       "    <tr>\n",
       "      <th>1</th>\n",
       "      <td>China</td>\n",
       "      <td>Asia</td>\n",
       "      <td>China</td>\n",
       "      <td>Anhui</td>\n",
       "      <td>31.8257</td>\n",
       "      <td>117.226</td>\n",
       "      <td>2020-01-23</td>\n",
       "      <td>9</td>\n",
       "      <td>0</td>\n",
       "      <td>0</td>\n",
       "      <td>9</td>\n",
       "    </tr>\n",
       "    <tr>\n",
       "      <th>2</th>\n",
       "      <td>China</td>\n",
       "      <td>Asia</td>\n",
       "      <td>China</td>\n",
       "      <td>Anhui</td>\n",
       "      <td>31.8257</td>\n",
       "      <td>117.226</td>\n",
       "      <td>2020-01-24</td>\n",
       "      <td>15</td>\n",
       "      <td>0</td>\n",
       "      <td>0</td>\n",
       "      <td>15</td>\n",
       "    </tr>\n",
       "    <tr>\n",
       "      <th>3</th>\n",
       "      <td>China</td>\n",
       "      <td>Asia</td>\n",
       "      <td>China</td>\n",
       "      <td>Anhui</td>\n",
       "      <td>31.8257</td>\n",
       "      <td>117.226</td>\n",
       "      <td>2020-01-25</td>\n",
       "      <td>39</td>\n",
       "      <td>0</td>\n",
       "      <td>0</td>\n",
       "      <td>39</td>\n",
       "    </tr>\n",
       "    <tr>\n",
       "      <th>4</th>\n",
       "      <td>China</td>\n",
       "      <td>Asia</td>\n",
       "      <td>China</td>\n",
       "      <td>Anhui</td>\n",
       "      <td>31.8257</td>\n",
       "      <td>117.226</td>\n",
       "      <td>2020-01-26</td>\n",
       "      <td>60</td>\n",
       "      <td>0</td>\n",
       "      <td>0</td>\n",
       "      <td>60</td>\n",
       "    </tr>\n",
       "  </tbody>\n",
       "</table>\n",
       "</div>"
      ],
      "text/plain": [
       "status  class continent country province  latitude  longitude       date  \\\n",
       "0       China      Asia   China    Anhui   31.8257    117.226 2020-01-22   \n",
       "1       China      Asia   China    Anhui   31.8257    117.226 2020-01-23   \n",
       "2       China      Asia   China    Anhui   31.8257    117.226 2020-01-24   \n",
       "3       China      Asia   China    Anhui   31.8257    117.226 2020-01-25   \n",
       "4       China      Asia   China    Anhui   31.8257    117.226 2020-01-26   \n",
       "\n",
       "status  confirmed  deaths  recovered  existing  \n",
       "0               1       0          0         1  \n",
       "1               9       0          0         9  \n",
       "2              15       0          0        15  \n",
       "3              39       0          0        39  \n",
       "4              60       0          0        60  "
      ]
     },
     "execution_count": 89,
     "metadata": {},
     "output_type": "execute_result"
    }
   ],
   "source": [
    "df_coronavirus_raw['class'] = np.where(df_coronavirus_raw.country.str.contains('China'), 'China', 'Other Countries')\n",
    "df_coronavirus_raw['date'] = pd.to_datetime(df_coronavirus_raw['date'], format=\"%Y-%m-%dT%H:%M:%SZ\")\n",
    "l_index = ['class','continent','country', 'province', 'latitude','longitude', 'date']\n",
    "df_coronavirus = pd.pivot_table(df_coronavirus_raw, values='cases', \n",
    "                index = l_index, columns=['status'],\n",
    "                aggfunc=np.sum, fill_value=0).reset_index()\n",
    "df_coronavirus['existing'] = df_coronavirus.confirmed.fillna(0) -  df_coronavirus.deaths.fillna(0) - df_coronavirus.recovered.fillna(0)\n",
    "df_coronavirus.head()"
   ]
  },
  {
   "cell_type": "code",
   "execution_count": 93,
   "metadata": {
    "ExecuteTime": {
     "end_time": "2020-03-22T22:33:02.304356Z",
     "start_time": "2020-03-22T22:33:02.278424Z"
    }
   },
   "outputs": [
    {
     "data": {
      "text/html": [
       "<div>\n",
       "<style scoped>\n",
       "    .dataframe tbody tr th:only-of-type {\n",
       "        vertical-align: middle;\n",
       "    }\n",
       "\n",
       "    .dataframe tbody tr th {\n",
       "        vertical-align: top;\n",
       "    }\n",
       "\n",
       "    .dataframe thead th {\n",
       "        text-align: right;\n",
       "    }\n",
       "</style>\n",
       "<table border=\"1\" class=\"dataframe\">\n",
       "  <thead>\n",
       "    <tr style=\"text-align: right;\">\n",
       "      <th>status</th>\n",
       "      <th>class</th>\n",
       "      <th>continent</th>\n",
       "      <th>country</th>\n",
       "      <th>province</th>\n",
       "      <th>latitude</th>\n",
       "      <th>longitude</th>\n",
       "      <th>date</th>\n",
       "      <th>confirmed</th>\n",
       "      <th>deaths</th>\n",
       "      <th>recovered</th>\n",
       "      <th>existing</th>\n",
       "      <th>days_province_confirmed</th>\n",
       "    </tr>\n",
       "  </thead>\n",
       "  <tbody>\n",
       "    <tr>\n",
       "      <th>0</th>\n",
       "      <td>China</td>\n",
       "      <td>Asia</td>\n",
       "      <td>China</td>\n",
       "      <td>Anhui</td>\n",
       "      <td>31.8257</td>\n",
       "      <td>117.226</td>\n",
       "      <td>2020-01-22</td>\n",
       "      <td>1</td>\n",
       "      <td>0</td>\n",
       "      <td>0</td>\n",
       "      <td>1</td>\n",
       "      <td>1</td>\n",
       "    </tr>\n",
       "    <tr>\n",
       "      <th>1</th>\n",
       "      <td>China</td>\n",
       "      <td>Asia</td>\n",
       "      <td>China</td>\n",
       "      <td>Anhui</td>\n",
       "      <td>31.8257</td>\n",
       "      <td>117.226</td>\n",
       "      <td>2020-01-23</td>\n",
       "      <td>9</td>\n",
       "      <td>0</td>\n",
       "      <td>0</td>\n",
       "      <td>9</td>\n",
       "      <td>2</td>\n",
       "    </tr>\n",
       "    <tr>\n",
       "      <th>2</th>\n",
       "      <td>China</td>\n",
       "      <td>Asia</td>\n",
       "      <td>China</td>\n",
       "      <td>Anhui</td>\n",
       "      <td>31.8257</td>\n",
       "      <td>117.226</td>\n",
       "      <td>2020-01-24</td>\n",
       "      <td>15</td>\n",
       "      <td>0</td>\n",
       "      <td>0</td>\n",
       "      <td>15</td>\n",
       "      <td>3</td>\n",
       "    </tr>\n",
       "    <tr>\n",
       "      <th>3</th>\n",
       "      <td>China</td>\n",
       "      <td>Asia</td>\n",
       "      <td>China</td>\n",
       "      <td>Anhui</td>\n",
       "      <td>31.8257</td>\n",
       "      <td>117.226</td>\n",
       "      <td>2020-01-25</td>\n",
       "      <td>39</td>\n",
       "      <td>0</td>\n",
       "      <td>0</td>\n",
       "      <td>39</td>\n",
       "      <td>4</td>\n",
       "    </tr>\n",
       "    <tr>\n",
       "      <th>4</th>\n",
       "      <td>China</td>\n",
       "      <td>Asia</td>\n",
       "      <td>China</td>\n",
       "      <td>Anhui</td>\n",
       "      <td>31.8257</td>\n",
       "      <td>117.226</td>\n",
       "      <td>2020-01-26</td>\n",
       "      <td>60</td>\n",
       "      <td>0</td>\n",
       "      <td>0</td>\n",
       "      <td>60</td>\n",
       "      <td>5</td>\n",
       "    </tr>\n",
       "  </tbody>\n",
       "</table>\n",
       "</div>"
      ],
      "text/plain": [
       "status  class continent country province  latitude  longitude       date  \\\n",
       "0       China      Asia   China    Anhui   31.8257    117.226 2020-01-22   \n",
       "1       China      Asia   China    Anhui   31.8257    117.226 2020-01-23   \n",
       "2       China      Asia   China    Anhui   31.8257    117.226 2020-01-24   \n",
       "3       China      Asia   China    Anhui   31.8257    117.226 2020-01-25   \n",
       "4       China      Asia   China    Anhui   31.8257    117.226 2020-01-26   \n",
       "\n",
       "status  confirmed  deaths  recovered  existing  days_province_confirmed  \n",
       "0               1       0          0         1                        1  \n",
       "1               9       0          0         9                        2  \n",
       "2              15       0          0        15                        3  \n",
       "3              39       0          0        39                        4  \n",
       "4              60       0          0        60                        5  "
      ]
     },
     "execution_count": 93,
     "metadata": {},
     "output_type": "execute_result"
    }
   ],
   "source": [
    "df_coronavirus['days_province_confirmed'] = df_coronavirus[df_coronavirus['confirmed']>0].groupby(['country','province']).cumcount()+1\n",
    "df_coronavirus['days_province_confirmed'] = df_coronavirus['days_province_confirmed'].fillna(0).astype('int')\n",
    "df_coronavirus.head()"
   ]
  },
  {
   "cell_type": "markdown",
   "metadata": {},
   "source": [
    "## Ordenamos columas"
   ]
  },
  {
   "cell_type": "code",
   "execution_count": 94,
   "metadata": {
    "ExecuteTime": {
     "end_time": "2020-03-22T22:40:07.551690Z",
     "start_time": "2020-03-22T22:40:07.523760Z"
    },
    "code_folding": []
   },
   "outputs": [
    {
     "data": {
      "text/html": [
       "<div>\n",
       "<style scoped>\n",
       "    .dataframe tbody tr th:only-of-type {\n",
       "        vertical-align: middle;\n",
       "    }\n",
       "\n",
       "    .dataframe tbody tr th {\n",
       "        vertical-align: top;\n",
       "    }\n",
       "\n",
       "    .dataframe thead th {\n",
       "        text-align: right;\n",
       "    }\n",
       "</style>\n",
       "<table border=\"1\" class=\"dataframe\">\n",
       "  <thead>\n",
       "    <tr style=\"text-align: right;\">\n",
       "      <th>status</th>\n",
       "      <th>date</th>\n",
       "      <th>class</th>\n",
       "      <th>continent</th>\n",
       "      <th>country</th>\n",
       "      <th>province</th>\n",
       "      <th>latitude</th>\n",
       "      <th>longitude</th>\n",
       "      <th>confirmed</th>\n",
       "      <th>deaths</th>\n",
       "      <th>recovered</th>\n",
       "      <th>existing</th>\n",
       "      <th>days_province_confirmed</th>\n",
       "    </tr>\n",
       "  </thead>\n",
       "  <tbody>\n",
       "    <tr>\n",
       "      <th>0</th>\n",
       "      <td>2020-01-22</td>\n",
       "      <td>China</td>\n",
       "      <td>Asia</td>\n",
       "      <td>China</td>\n",
       "      <td>Anhui</td>\n",
       "      <td>31.8257</td>\n",
       "      <td>117.226</td>\n",
       "      <td>1</td>\n",
       "      <td>0</td>\n",
       "      <td>0</td>\n",
       "      <td>1</td>\n",
       "      <td>1</td>\n",
       "    </tr>\n",
       "    <tr>\n",
       "      <th>1</th>\n",
       "      <td>2020-01-23</td>\n",
       "      <td>China</td>\n",
       "      <td>Asia</td>\n",
       "      <td>China</td>\n",
       "      <td>Anhui</td>\n",
       "      <td>31.8257</td>\n",
       "      <td>117.226</td>\n",
       "      <td>9</td>\n",
       "      <td>0</td>\n",
       "      <td>0</td>\n",
       "      <td>9</td>\n",
       "      <td>2</td>\n",
       "    </tr>\n",
       "    <tr>\n",
       "      <th>2</th>\n",
       "      <td>2020-01-24</td>\n",
       "      <td>China</td>\n",
       "      <td>Asia</td>\n",
       "      <td>China</td>\n",
       "      <td>Anhui</td>\n",
       "      <td>31.8257</td>\n",
       "      <td>117.226</td>\n",
       "      <td>15</td>\n",
       "      <td>0</td>\n",
       "      <td>0</td>\n",
       "      <td>15</td>\n",
       "      <td>3</td>\n",
       "    </tr>\n",
       "    <tr>\n",
       "      <th>3</th>\n",
       "      <td>2020-01-25</td>\n",
       "      <td>China</td>\n",
       "      <td>Asia</td>\n",
       "      <td>China</td>\n",
       "      <td>Anhui</td>\n",
       "      <td>31.8257</td>\n",
       "      <td>117.226</td>\n",
       "      <td>39</td>\n",
       "      <td>0</td>\n",
       "      <td>0</td>\n",
       "      <td>39</td>\n",
       "      <td>4</td>\n",
       "    </tr>\n",
       "    <tr>\n",
       "      <th>4</th>\n",
       "      <td>2020-01-26</td>\n",
       "      <td>China</td>\n",
       "      <td>Asia</td>\n",
       "      <td>China</td>\n",
       "      <td>Anhui</td>\n",
       "      <td>31.8257</td>\n",
       "      <td>117.226</td>\n",
       "      <td>60</td>\n",
       "      <td>0</td>\n",
       "      <td>0</td>\n",
       "      <td>60</td>\n",
       "      <td>5</td>\n",
       "    </tr>\n",
       "  </tbody>\n",
       "</table>\n",
       "</div>"
      ],
      "text/plain": [
       "status       date  class continent country province  latitude  longitude  \\\n",
       "0      2020-01-22  China      Asia   China    Anhui   31.8257    117.226   \n",
       "1      2020-01-23  China      Asia   China    Anhui   31.8257    117.226   \n",
       "2      2020-01-24  China      Asia   China    Anhui   31.8257    117.226   \n",
       "3      2020-01-25  China      Asia   China    Anhui   31.8257    117.226   \n",
       "4      2020-01-26  China      Asia   China    Anhui   31.8257    117.226   \n",
       "\n",
       "status  confirmed  deaths  recovered  existing  days_province_confirmed  \n",
       "0               1       0          0         1                        1  \n",
       "1               9       0          0         9                        2  \n",
       "2              15       0          0        15                        3  \n",
       "3              39       0          0        39                        4  \n",
       "4              60       0          0        60                        5  "
      ]
     },
     "execution_count": 94,
     "metadata": {},
     "output_type": "execute_result"
    }
   ],
   "source": [
    "column_order = ['date', 'class', 'continent', 'country', 'province', 'latitude', 'longitude', \\\n",
    "                'confirmed','deaths', 'recovered', 'existing', 'days_province_confirmed']\n",
    "df_coronavirus = df_coronavirus[column_order]\n",
    "df_coronavirus.head()"
   ]
  },
  {
   "cell_type": "markdown",
   "metadata": {
    "ExecuteTime": {
     "end_time": "2020-03-14T01:07:05.035505Z",
     "start_time": "2020-03-14T01:07:05.027542Z"
    }
   },
   "source": [
    "# Scatterplot Evolución de Casos de china vs. el resto del mundo"
   ]
  },
  {
   "cell_type": "markdown",
   "metadata": {},
   "source": [
    "## Obtenemos la suma acumulada de casos por el tipo de gráfico"
   ]
  },
  {
   "cell_type": "code",
   "execution_count": 131,
   "metadata": {
    "ExecuteTime": {
     "end_time": "2020-03-22T23:31:27.010806Z",
     "start_time": "2020-03-22T23:31:26.989894Z"
    }
   },
   "outputs": [],
   "source": [
    "col_vars = ['confirmed','deaths', 'recovered', 'existing']\n",
    "cou_vars = list(df_coronavirus['country'].unique())\n",
    "df_countries = df_coronavirus.groupby(['country','date', 'days_province_confirmed'])[col_vars].agg('sum').reset_index()"
   ]
  },
  {
   "cell_type": "markdown",
   "metadata": {},
   "source": [
    "## Diagramamos el scatterplot"
   ]
  },
  {
   "cell_type": "code",
   "execution_count": 132,
   "metadata": {
    "ExecuteTime": {
     "end_time": "2020-03-22T23:31:36.107190Z",
     "start_time": "2020-03-22T23:31:35.679733Z"
    }
   },
   "outputs": [
    {
     "data": {
      "application/vnd.jupyter.widget-view+json": {
       "model_id": "797cce36944a498ba5b56e7b9bd2e2b6",
       "version_major": 2,
       "version_minor": 0
      },
      "text/plain": [
       "interactive(children=(Dropdown(description='country1', options=('China', 'Algeria', 'Angola', 'Benin', 'Burkin…"
      ]
     },
     "metadata": {},
     "output_type": "display_data"
    }
   ],
   "source": [
    "def make_hist(country1, country2):\n",
    "    fig = make_subplots(rows=1, cols=2, shared_yaxes=True, subplot_titles=(country1, country2))\n",
    "    for x in range(0,len(col_vars)):\n",
    "        df_filtered = df_countries[df_countries['country']==country1]\n",
    "        fig.add_trace(go.Scatter( \\\n",
    "                      x = df_filtered['date'], \\\n",
    "                      y = df_filtered[col_vars[x]], \\\n",
    "                      mode = 'lines+markers',\n",
    "                      name = f'{country1} - {col_vars[x].capitalize()}'),\n",
    "                      row=1, col=1)\n",
    "        df_filtered2 = df_countries[df_countries['country']==country2]\n",
    "        fig.add_trace(go.Scatter( \\\n",
    "                      x = df_filtered2['date'], \\\n",
    "                      y = df_filtered2[col_vars[x]], \\\n",
    "                      mode = 'lines+markers',\n",
    "                      name = f'{country2} - {col_vars[x].capitalize()}'),\n",
    "                      row=1, col=2)\n",
    "        \n",
    "    fig.update_layout(height=500, width=1000, title_text=f'Evolución de casos {country1} vs. {country2}', title_x=0.5)\n",
    "    fig.show()\n",
    "                      \n",
    "_= interact(make_hist, country1 = cou_vars, country2 = cou_vars)"
   ]
  },
  {
   "cell_type": "code",
   "execution_count": 133,
   "metadata": {
    "ExecuteTime": {
     "end_time": "2020-03-22T23:31:38.854347Z",
     "start_time": "2020-03-22T23:31:38.546363Z"
    }
   },
   "outputs": [
    {
     "data": {
      "application/vnd.jupyter.widget-view+json": {
       "model_id": "b4fff920f9214724baf0ec2b568c7a94",
       "version_major": 2,
       "version_minor": 0
      },
      "text/plain": [
       "interactive(children=(Dropdown(description='country1', options=('China', 'Algeria', 'Angola', 'Benin', 'Burkin…"
      ]
     },
     "metadata": {},
     "output_type": "display_data"
    }
   ],
   "source": [
    "def make_hist(country1, country2):\n",
    "    nrows = 2\n",
    "    ncols = nrows\n",
    "    fig = make_subplots(rows=2, cols=2, subplot_titles=col_vars)\n",
    "    for c in range(0,len(col_vars)):\n",
    "        df_filtered = df_countries[df_countries['country']==country1]\n",
    "        fig.add_trace(go.Scatter( \\\n",
    "                      x = df_filtered['days_province_confirmed'], \\\n",
    "                      y = df_filtered[col_vars[c]], \\\n",
    "                      mode = 'lines+markers',\n",
    "                      name = f'{country1} - {col_vars[c].capitalize()}'),\n",
    "                      row=int(c/nrows)+1, col=(c%ncols)+1)\n",
    "        df_filtered2 = df_countries[df_countries['country']==country2]\n",
    "        fig.add_trace(go.Scatter( \\\n",
    "                      x = df_filtered2['days_province_confirmed'], \\\n",
    "                      y = df_filtered2[col_vars[c]], \\\n",
    "                      mode = 'lines+markers',\n",
    "                      name = f'{country2} - {col_vars[c].capitalize()}'),\n",
    "                      row=int(c/nrows)+1, col=(c%ncols)+1)\n",
    "        \n",
    "    fig.update_layout(height=1000, width=1000, title_text=f'Evolución de casos {country1} vs. {country2}', title_x=0.5)\n",
    "    fig.show()\n",
    "                      \n",
    "_= interact(make_hist, country1 = cou_vars, country2 = cou_vars)"
   ]
  },
  {
   "cell_type": "markdown",
   "metadata": {},
   "source": [
    "**Insights**: \n",
    "* Se puede ver un comportamiento distinto entre China y el resto del mundo, por lo que se han dividido las gráficas en estos dos grupos.\n",
    "  * China: Un aumento muy claro de casos desde el inicio de la enfermedad hasta el 14 de febrero (con picos el 12, 13 y 14 de Febrero). A partir de allí las medidas tomadas por el gobierno de China comienzan a dar resutados y el número de casos que se recuperan sube exponencialmente. Asimismo los casos confirmados bajan diariamente lo que indica la remisión del virus. Sin embargo el virus ha dejado 3193 muetros en el territorio de China.\n",
    "  * Resto del mundo: A partir del 14 de Febrero los casos en los demás paises comienzan a crecer exponencialmente. A partir del 10 de Marzo se dan crecimientos más altos que los días de crecimiento más altos de la enfermedad en China, por lo que se declara el grado de pandemia. Se puede ser además que si no se toman las medidas de contención necesarias y se sigue la misma curva de progresión de la enfermedad que en China (en el mejor de los casos) la enfermedad puede llegar a duplicar el número de casos confirmados en el mundo."
   ]
  },
  {
   "cell_type": "markdown",
   "metadata": {},
   "source": [
    "# Histograma: Suma acumulada de casos de coronavirus por país"
   ]
  },
  {
   "cell_type": "markdown",
   "metadata": {},
   "source": [
    "##  Sumarizamos los casos para obtener los acumulados por país y por fecha"
   ]
  },
  {
   "cell_type": "code",
   "execution_count": 9,
   "metadata": {
    "ExecuteTime": {
     "end_time": "2020-03-21T12:55:12.750685Z",
     "start_time": "2020-03-21T12:55:12.710790Z"
    }
   },
   "outputs": [],
   "source": [
    "col_vars = ['confirmed','deaths', 'recovered', 'existing']\n",
    "cou_vars = ['All']\n",
    "cou_vars.extend(sorted(list(df_coronavirus['country'].unique())))\n",
    "\n",
    "df_countries = df_coronavirus.groupby(['country','date'])[col_vars].agg('sum').reset_index()"
   ]
  },
  {
   "cell_type": "markdown",
   "metadata": {},
   "source": [
    "## Creamos un combobox con los países y diagramamos los casos confirmados, muertos, recuperados y existentes"
   ]
  },
  {
   "cell_type": "code",
   "execution_count": 10,
   "metadata": {
    "ExecuteTime": {
     "end_time": "2020-03-21T12:55:15.134801Z",
     "start_time": "2020-03-21T12:55:12.755672Z"
    }
   },
   "outputs": [
    {
     "data": {
      "application/vnd.jupyter.widget-view+json": {
       "model_id": "1eeeaeb8d57c405ebc14ad94d4fb2d3b",
       "version_major": 2,
       "version_minor": 0
      },
      "text/plain": [
       "interactive(children=(Dropdown(description='Country', options=('All', 'Afghanistan', 'Albania', 'Algeria', 'An…"
      ]
     },
     "metadata": {},
     "output_type": "display_data"
    }
   ],
   "source": [
    "def make_hist(Country): \n",
    "    nrows = 2\n",
    "    ncols = nrows\n",
    "    fig = make_subplots(rows = nrows, cols = ncols, subplot_titles=[f'Total of {c} cases' for c in col_vars])\n",
    "    for c in range(0,len(col_vars)):\n",
    "        if(Country=='All'):\n",
    "            df_filtered = df_countries\n",
    "        else:\n",
    "            df_filtered = df_countries[df_countries['country']==Country]\n",
    "        fig.add_trace(\n",
    "            go.Bar(x = df_filtered['date'], \\\n",
    "                y = df_filtered[col_vars[c]], \\\n",
    "                name = col_vars[c].capitalize()),\n",
    "                row=int(c/nrows)+1, col=(c%ncols)+1)\n",
    "    fig.update_layout(height=1000, width=1000, title_text=\"Casos acumulados de coronavirus por país\", title_x=0.5)\n",
    "    fig.show()\n",
    "\n",
    "_= interact(make_hist, Country = (cou_vars))"
   ]
  },
  {
   "cell_type": "markdown",
   "metadata": {},
   "source": [
    "**Insights**: \n",
    "* Si seleccionamos la opción All, se puede ver el la composición de casos por país, donde hasta hace unos días el protagonista era China. A partir del 14 de Febrero la actividad del virus remite en China, pero se contafia al resto del mundo. Adicionalmente se puede ser que el ratio de muerte de la enfermedad es muy bajo.\n",
    "* En España e Italia los casos han crecido exponencialmente desde Marzo."
   ]
  },
  {
   "cell_type": "markdown",
   "metadata": {},
   "source": [
    "# Plotbar: Top 10 de los países más afectados por el coronavirus: España entra con todo al último momento"
   ]
  },
  {
   "cell_type": "code",
   "execution_count": 134,
   "metadata": {
    "ExecuteTime": {
     "end_time": "2020-03-22T23:34:05.428603Z",
     "start_time": "2020-03-22T23:34:05.263511Z"
    }
   },
   "outputs": [],
   "source": [
    "df_countries_top10 = df_countries.groupby('date',group_keys=False)\\\n",
    "            .apply(lambda grp:grp.nlargest(n=int(10),columns='confirmed').sort_index()).reset_index()"
   ]
  },
  {
   "cell_type": "code",
   "execution_count": 135,
   "metadata": {
    "ExecuteTime": {
     "end_time": "2020-03-22T23:34:10.047268Z",
     "start_time": "2020-03-22T23:34:07.601018Z"
    }
   },
   "outputs": [
    {
     "data": {
      "application/vnd.plotly.v1+json": {
       "config": {
        "plotlyServerURL": "https://plot.ly"
       },
       "data": [
        {
         "alignmentgroup": "True",
         "hoverlabel": {
          "namelength": 0
         },
         "hovertemplate": "animation_frame=2020-01-22<br>Confirmed cases by country=%{x}<br>Top 10 countries with confirmed cases=%{y}",
         "legendgroup": "",
         "marker": {
          "color": "#636efa"
         },
         "name": "",
         "offsetgroup": "",
         "orientation": "h",
         "showlegend": false,
         "textposition": "auto",
         "type": "bar",
         "x": [
          0,
          0,
          0,
          0,
          0,
          0,
          0,
          548,
          2,
          2
         ],
         "xaxis": "x",
         "y": [
          "Afghanistan",
          "Albania",
          "Algeria",
          "Andorra",
          "Angola",
          "Antigua and Barbuda",
          "Argentina",
          "China",
          "Japan",
          "Thailand"
         ],
         "yaxis": "y"
        }
       ],
       "frames": [
        {
         "data": [
          {
           "alignmentgroup": "True",
           "hoverlabel": {
            "namelength": 0
           },
           "hovertemplate": "animation_frame=2020-01-22<br>Confirmed cases by country=%{x}<br>Top 10 countries with confirmed cases=%{y}",
           "legendgroup": "",
           "marker": {
            "color": "#636efa"
           },
           "name": "",
           "offsetgroup": "",
           "orientation": "h",
           "showlegend": false,
           "textposition": "auto",
           "type": "bar",
           "x": [
            0,
            0,
            0,
            0,
            0,
            0,
            0,
            548,
            2,
            2
           ],
           "xaxis": "x",
           "y": [
            "Afghanistan",
            "Albania",
            "Algeria",
            "Andorra",
            "Angola",
            "Antigua and Barbuda",
            "Argentina",
            "China",
            "Japan",
            "Thailand"
           ],
           "yaxis": "y"
          }
         ],
         "name": "2020-01-22"
        },
        {
         "data": [
          {
           "alignmentgroup": "True",
           "hoverlabel": {
            "namelength": 0
           },
           "hovertemplate": "animation_frame=2020-01-23<br>Confirmed cases by country=%{x}<br>Top 10 countries with confirmed cases=%{y}",
           "legendgroup": "",
           "marker": {
            "color": "#636efa"
           },
           "name": "",
           "offsetgroup": "",
           "orientation": "h",
           "showlegend": false,
           "textposition": "auto",
           "type": "bar",
           "x": [
            0,
            0,
            0,
            0,
            12,
            631,
            1,
            1,
            3,
            2
           ],
           "xaxis": "x",
           "y": [
            "Afghanistan",
            "Albania",
            "Algeria",
            "Andorra",
            "China",
            "China",
            "Japan",
            "Singapore",
            "Thailand",
            "Vietnam"
           ],
           "yaxis": "y"
          }
         ],
         "name": "2020-01-23"
        },
        {
         "data": [
          {
           "alignmentgroup": "True",
           "hoverlabel": {
            "namelength": 0
           },
           "hovertemplate": "animation_frame=2020-01-24<br>Confirmed cases by country=%{x}<br>Top 10 countries with confirmed cases=%{y}",
           "legendgroup": "",
           "marker": {
            "color": "#636efa"
           },
           "name": "",
           "offsetgroup": "",
           "orientation": "h",
           "showlegend": false,
           "textposition": "auto",
           "type": "bar",
           "x": [
            0,
            0,
            1,
            18,
            901,
            2,
            2,
            3,
            5,
            2
           ],
           "xaxis": "x",
           "y": [
            "Afghanistan",
            "Albania",
            "China",
            "China",
            "China",
            "France",
            "Japan",
            "Singapore",
            "Thailand",
            "Vietnam"
           ],
           "yaxis": "y"
          }
         ],
         "name": "2020-01-24"
        },
        {
         "data": [
          {
           "alignmentgroup": "True",
           "hoverlabel": {
            "namelength": 0
           },
           "hovertemplate": "animation_frame=2020-01-25<br>Confirmed cases by country=%{x}<br>Top 10 countries with confirmed cases=%{y}",
           "legendgroup": "",
           "marker": {
            "color": "#636efa"
           },
           "name": "",
           "offsetgroup": "",
           "orientation": "h",
           "showlegend": false,
           "textposition": "auto",
           "type": "bar",
           "x": [
            1,
            7,
            40,
            1358,
            3,
            2,
            3,
            3,
            7,
            2
           ],
           "xaxis": "x",
           "y": [
            "China",
            "China",
            "China",
            "China",
            "France",
            "Japan",
            "Malaysia",
            "Singapore",
            "Thailand",
            "Vietnam"
           ],
           "yaxis": "y"
          }
         ],
         "name": "2020-01-25"
        },
        {
         "data": [
          {
           "alignmentgroup": "True",
           "hoverlabel": {
            "namelength": 0
           },
           "hovertemplate": "animation_frame=2020-01-26<br>Confirmed cases by country=%{x}<br>Top 10 countries with confirmed cases=%{y}",
           "legendgroup": "",
           "marker": {
            "color": "#636efa"
           },
           "name": "",
           "offsetgroup": "",
           "orientation": "h",
           "showlegend": false,
           "textposition": "auto",
           "type": "bar",
           "x": [
            4,
            7,
            60,
            2007,
            3,
            4,
            4,
            4,
            8,
            2
           ],
           "xaxis": "x",
           "y": [
            "Australia",
            "China",
            "China",
            "China",
            "France",
            "Japan",
            "Malaysia",
            "Singapore",
            "Thailand",
            "Vietnam"
           ],
           "yaxis": "y"
          }
         ],
         "name": "2020-01-26"
        },
        {
         "data": [
          {
           "alignmentgroup": "True",
           "hoverlabel": {
            "namelength": 0
           },
           "hovertemplate": "animation_frame=2020-01-27<br>Confirmed cases by country=%{x}<br>Top 10 countries with confirmed cases=%{y}",
           "legendgroup": "",
           "marker": {
            "color": "#636efa"
           },
           "name": "",
           "offsetgroup": "",
           "orientation": "h",
           "showlegend": false,
           "textposition": "auto",
           "type": "bar",
           "x": [
            5,
            6,
            11,
            89,
            2771,
            3,
            4,
            4,
            5,
            8
           ],
           "xaxis": "x",
           "y": [
            "Australia",
            "China",
            "China",
            "China",
            "China",
            "France",
            "Japan",
            "Malaysia",
            "Singapore",
            "Thailand"
           ],
           "yaxis": "y"
          }
         ],
         "name": "2020-01-27"
        },
        {
         "data": [
          {
           "alignmentgroup": "True",
           "hoverlabel": {
            "namelength": 0
           },
           "hovertemplate": "animation_frame=2020-01-28<br>Confirmed cases by country=%{x}<br>Top 10 countries with confirmed cases=%{y}",
           "legendgroup": "",
           "marker": {
            "color": "#636efa"
           },
           "name": "",
           "offsetgroup": "",
           "orientation": "h",
           "showlegend": false,
           "textposition": "auto",
           "type": "bar",
           "x": [
            5,
            6,
            15,
            124,
            5364,
            4,
            4,
            7,
            7,
            14
           ],
           "xaxis": "x",
           "y": [
            "Australia",
            "China",
            "China",
            "China",
            "China",
            "France",
            "Germany",
            "Japan",
            "Singapore",
            "Thailand"
           ],
           "yaxis": "y"
          }
         ],
         "name": "2020-01-28"
        },
        {
         "data": [
          {
           "alignmentgroup": "True",
           "hoverlabel": {
            "namelength": 0
           },
           "hovertemplate": "animation_frame=2020-01-29<br>Confirmed cases by country=%{x}<br>Top 10 countries with confirmed cases=%{y}",
           "legendgroup": "",
           "marker": {
            "color": "#636efa"
           },
           "name": "",
           "offsetgroup": "",
           "orientation": "h",
           "showlegend": false,
           "textposition": "auto",
           "type": "bar",
           "x": [
            5,
            6,
            16,
            150,
            5915,
            5,
            7,
            7,
            7,
            14
           ],
           "xaxis": "x",
           "y": [
            "Australia",
            "China",
            "China",
            "China",
            "China",
            "France",
            "Japan",
            "Malaysia",
            "Singapore",
            "Thailand"
           ],
           "yaxis": "y"
          }
         ],
         "name": "2020-01-29"
        },
        {
         "data": [
          {
           "alignmentgroup": "True",
           "hoverlabel": {
            "namelength": 0
           },
           "hovertemplate": "animation_frame=2020-01-30<br>Confirmed cases by country=%{x}<br>Top 10 countries with confirmed cases=%{y}",
           "legendgroup": "",
           "marker": {
            "color": "#636efa"
           },
           "name": "",
           "offsetgroup": "",
           "orientation": "h",
           "showlegend": false,
           "textposition": "auto",
           "type": "bar",
           "x": [
            6,
            8,
            19,
            171,
            7942,
            5,
            11,
            8,
            10,
            14
           ],
           "xaxis": "x",
           "y": [
            "Australia",
            "China",
            "China",
            "China",
            "China",
            "France",
            "Japan",
            "Malaysia",
            "Singapore",
            "Thailand"
           ],
           "yaxis": "y"
          }
         ],
         "name": "2020-01-30"
        },
        {
         "data": [
          {
           "alignmentgroup": "True",
           "hoverlabel": {
            "namelength": 0
           },
           "hovertemplate": "animation_frame=2020-01-31<br>Confirmed cases by country=%{x}<br>Top 10 countries with confirmed cases=%{y}",
           "legendgroup": "",
           "marker": {
            "color": "#636efa"
           },
           "name": "",
           "offsetgroup": "",
           "orientation": "h",
           "showlegend": false,
           "textposition": "auto",
           "type": "bar",
           "x": [
            7,
            8,
            20,
            218,
            9555,
            5,
            15,
            8,
            13,
            19
           ],
           "xaxis": "x",
           "y": [
            "Australia",
            "China",
            "China",
            "China",
            "China",
            "France",
            "Japan",
            "Malaysia",
            "Singapore",
            "Thailand"
           ],
           "yaxis": "y"
          }
         ],
         "name": "2020-01-31"
        },
        {
         "data": [
          {
           "alignmentgroup": "True",
           "hoverlabel": {
            "namelength": 0
           },
           "hovertemplate": "animation_frame=2020-02-01<br>Confirmed cases by country=%{x}<br>Top 10 countries with confirmed cases=%{y}",
           "legendgroup": "",
           "marker": {
            "color": "#636efa"
           },
           "name": "",
           "offsetgroup": "",
           "orientation": "h",
           "showlegend": false,
           "textposition": "auto",
           "type": "bar",
           "x": [
            8,
            9,
            23,
            269,
            11589,
            8,
            20,
            8,
            16,
            19
           ],
           "xaxis": "x",
           "y": [
            "Australia",
            "China",
            "China",
            "China",
            "China",
            "Germany",
            "Japan",
            "Malaysia",
            "Singapore",
            "Thailand"
           ],
           "yaxis": "y"
          }
         ],
         "name": "2020-02-01"
        },
        {
         "data": [
          {
           "alignmentgroup": "True",
           "hoverlabel": {
            "namelength": 0
           },
           "hovertemplate": "animation_frame=2020-02-02<br>Confirmed cases by country=%{x}<br>Top 10 countries with confirmed cases=%{y}",
           "legendgroup": "",
           "marker": {
            "color": "#636efa"
           },
           "name": "",
           "offsetgroup": "",
           "orientation": "h",
           "showlegend": false,
           "textposition": "auto",
           "type": "bar",
           "x": [
            8,
            11,
            27,
            321,
            16270,
            10,
            20,
            8,
            18,
            19
           ],
           "xaxis": "x",
           "y": [
            "Australia",
            "China",
            "China",
            "China",
            "China",
            "Germany",
            "Japan",
            "Malaysia",
            "Singapore",
            "Thailand"
           ],
           "yaxis": "y"
          }
         ],
         "name": "2020-02-02"
        },
        {
         "data": [
          {
           "alignmentgroup": "True",
           "hoverlabel": {
            "namelength": 0
           },
           "hovertemplate": "animation_frame=2020-02-03<br>Confirmed cases by country=%{x}<br>Top 10 countries with confirmed cases=%{y}",
           "legendgroup": "",
           "marker": {
            "color": "#636efa"
           },
           "name": "",
           "offsetgroup": "",
           "orientation": "h",
           "showlegend": false,
           "textposition": "auto",
           "type": "bar",
           "x": [
            8,
            13,
            34,
            374,
            19294,
            12,
            20,
            8,
            18,
            19
           ],
           "xaxis": "x",
           "y": [
            "Australia",
            "China",
            "China",
            "China",
            "China",
            "Germany",
            "Japan",
            "Malaysia",
            "Singapore",
            "Thailand"
           ],
           "yaxis": "y"
          }
         ],
         "name": "2020-02-03"
        },
        {
         "data": [
          {
           "alignmentgroup": "True",
           "hoverlabel": {
            "namelength": 0
           },
           "hovertemplate": "animation_frame=2020-02-04<br>Confirmed cases by country=%{x}<br>Top 10 countries with confirmed cases=%{y}",
           "legendgroup": "",
           "marker": {
            "color": "#636efa"
           },
           "name": "",
           "offsetgroup": "",
           "orientation": "h",
           "showlegend": false,
           "textposition": "auto",
           "type": "bar",
           "x": [
            8,
            15,
            35,
            442,
            23214,
            12,
            22,
            10,
            24,
            25
           ],
           "xaxis": "x",
           "y": [
            "Australia",
            "China",
            "China",
            "China",
            "China",
            "Germany",
            "Japan",
            "Malaysia",
            "Singapore",
            "Thailand"
           ],
           "yaxis": "y"
          }
         ],
         "name": "2020-02-04"
        },
        {
         "data": [
          {
           "alignmentgroup": "True",
           "hoverlabel": {
            "namelength": 0
           },
           "hovertemplate": "animation_frame=2020-02-05<br>Confirmed cases by country=%{x}<br>Top 10 countries with confirmed cases=%{y}",
           "legendgroup": "",
           "marker": {
            "color": "#636efa"
           },
           "name": "",
           "offsetgroup": "",
           "orientation": "h",
           "showlegend": false,
           "textposition": "auto",
           "type": "bar",
           "x": [
            8,
            17,
            42,
            524,
            26856,
            12,
            22,
            12,
            28,
            25
           ],
           "xaxis": "x",
           "y": [
            "Australia",
            "China",
            "China",
            "China",
            "China",
            "Germany",
            "Japan",
            "Malaysia",
            "Singapore",
            "Thailand"
           ],
           "yaxis": "y"
          }
         ],
         "name": "2020-02-05"
        },
        {
         "data": [
          {
           "alignmentgroup": "True",
           "hoverlabel": {
            "namelength": 0
           },
           "hovertemplate": "animation_frame=2020-02-06<br>Confirmed cases by country=%{x}<br>Top 10 countries with confirmed cases=%{y}",
           "legendgroup": "",
           "marker": {
            "color": "#636efa"
           },
           "name": "",
           "offsetgroup": "",
           "orientation": "h",
           "showlegend": false,
           "textposition": "auto",
           "type": "bar",
           "x": [
            18,
            46,
            581,
            29941,
            12,
            45,
            12,
            28,
            25,
            10
           ],
           "xaxis": "x",
           "y": [
            "China",
            "China",
            "China",
            "China",
            "Germany",
            "Japan",
            "Malaysia",
            "Singapore",
            "Thailand",
            "Vietnam"
           ],
           "yaxis": "y"
          }
         ],
         "name": "2020-02-06"
        },
        {
         "data": [
          {
           "alignmentgroup": "True",
           "hoverlabel": {
            "namelength": 0
           },
           "hovertemplate": "animation_frame=2020-02-07<br>Confirmed cases by country=%{x}<br>Top 10 countries with confirmed cases=%{y}",
           "legendgroup": "",
           "marker": {
            "color": "#636efa"
           },
           "name": "",
           "offsetgroup": "",
           "orientation": "h",
           "showlegend": false,
           "textposition": "auto",
           "type": "bar",
           "x": [
            18,
            50,
            657,
            33384,
            13,
            25,
            12,
            30,
            25,
            10
           ],
           "xaxis": "x",
           "y": [
            "China",
            "China",
            "China",
            "China",
            "Germany",
            "Japan",
            "Malaysia",
            "Singapore",
            "Thailand",
            "Vietnam"
           ],
           "yaxis": "y"
          }
         ],
         "name": "2020-02-07"
        },
        {
         "data": [
          {
           "alignmentgroup": "True",
           "hoverlabel": {
            "namelength": 0
           },
           "hovertemplate": "animation_frame=2020-02-08<br>Confirmed cases by country=%{x}<br>Top 10 countries with confirmed cases=%{y}",
           "legendgroup": "",
           "marker": {
            "color": "#636efa"
           },
           "name": "",
           "offsetgroup": "",
           "orientation": "h",
           "showlegend": false,
           "textposition": "auto",
           "type": "bar",
           "x": [
            18,
            52,
            706,
            36037,
            13,
            25,
            16,
            33,
            32,
            13
           ],
           "xaxis": "x",
           "y": [
            "China",
            "China",
            "China",
            "China",
            "Germany",
            "Japan",
            "Malaysia",
            "Singapore",
            "Thailand",
            "Vietnam"
           ],
           "yaxis": "y"
          }
         ],
         "name": "2020-02-08"
        },
        {
         "data": [
          {
           "alignmentgroup": "True",
           "hoverlabel": {
            "namelength": 0
           },
           "hovertemplate": "animation_frame=2020-02-09<br>Confirmed cases by country=%{x}<br>Top 10 countries with confirmed cases=%{y}",
           "legendgroup": "",
           "marker": {
            "color": "#636efa"
           },
           "name": "",
           "offsetgroup": "",
           "orientation": "h",
           "showlegend": false,
           "textposition": "auto",
           "type": "bar",
           "x": [
            18,
            54,
            750,
            39006,
            14,
            26,
            16,
            40,
            32,
            13
           ],
           "xaxis": "x",
           "y": [
            "China",
            "China",
            "China",
            "China",
            "Germany",
            "Japan",
            "Malaysia",
            "Singapore",
            "Thailand",
            "Vietnam"
           ],
           "yaxis": "y"
          }
         ],
         "name": "2020-02-09"
        },
        {
         "data": [
          {
           "alignmentgroup": "True",
           "hoverlabel": {
            "namelength": 0
           },
           "hovertemplate": "animation_frame=2020-02-10<br>Confirmed cases by country=%{x}<br>Top 10 countries with confirmed cases=%{y}",
           "legendgroup": "",
           "marker": {
            "color": "#636efa"
           },
           "name": "",
           "offsetgroup": "",
           "orientation": "h",
           "showlegend": false,
           "textposition": "auto",
           "type": "bar",
           "x": [
            18,
            58,
            794,
            41483,
            14,
            26,
            18,
            45,
            32,
            14
           ],
           "xaxis": "x",
           "y": [
            "China",
            "China",
            "China",
            "China",
            "Germany",
            "Japan",
            "Malaysia",
            "Singapore",
            "Thailand",
            "Vietnam"
           ],
           "yaxis": "y"
          }
         ],
         "name": "2020-02-10"
        },
        {
         "data": [
          {
           "alignmentgroup": "True",
           "hoverlabel": {
            "namelength": 0
           },
           "hovertemplate": "animation_frame=2020-02-11<br>Confirmed cases by country=%{x}<br>Top 10 countries with confirmed cases=%{y}",
           "legendgroup": "",
           "marker": {
            "color": "#636efa"
           },
           "name": "",
           "offsetgroup": "",
           "orientation": "h",
           "showlegend": false,
           "textposition": "auto",
           "type": "bar",
           "x": [
            18,
            58,
            850,
            43459,
            16,
            26,
            18,
            47,
            33,
            15
           ],
           "xaxis": "x",
           "y": [
            "China",
            "China",
            "China",
            "China",
            "Germany",
            "Japan",
            "Malaysia",
            "Singapore",
            "Thailand",
            "Vietnam"
           ],
           "yaxis": "y"
          }
         ],
         "name": "2020-02-11"
        },
        {
         "data": [
          {
           "alignmentgroup": "True",
           "hoverlabel": {
            "namelength": 0
           },
           "hovertemplate": "animation_frame=2020-02-12<br>Confirmed cases by country=%{x}<br>Top 10 countries with confirmed cases=%{y}",
           "legendgroup": "",
           "marker": {
            "color": "#636efa"
           },
           "name": "",
           "offsetgroup": "",
           "orientation": "h",
           "showlegend": false,
           "textposition": "auto",
           "type": "bar",
           "x": [
            18,
            60,
            882,
            43798,
            16,
            28,
            18,
            50,
            33,
            15
           ],
           "xaxis": "x",
           "y": [
            "China",
            "China",
            "China",
            "China",
            "Germany",
            "Japan",
            "Malaysia",
            "Singapore",
            "Thailand",
            "Vietnam"
           ],
           "yaxis": "y"
          }
         ],
         "name": "2020-02-12"
        },
        {
         "data": [
          {
           "alignmentgroup": "True",
           "hoverlabel": {
            "namelength": 0
           },
           "hovertemplate": "animation_frame=2020-02-13<br>Confirmed cases by country=%{x}<br>Top 10 countries with confirmed cases=%{y}",
           "legendgroup": "",
           "marker": {
            "color": "#636efa"
           },
           "name": "",
           "offsetgroup": "",
           "orientation": "h",
           "showlegend": false,
           "textposition": "auto",
           "type": "bar",
           "x": [
            18,
            61,
            914,
            58901,
            16,
            28,
            19,
            58,
            33,
            16
           ],
           "xaxis": "x",
           "y": [
            "China",
            "China",
            "China",
            "China",
            "Germany",
            "Japan",
            "Malaysia",
            "Singapore",
            "Thailand",
            "Vietnam"
           ],
           "yaxis": "y"
          }
         ],
         "name": "2020-02-13"
        },
        {
         "data": [
          {
           "alignmentgroup": "True",
           "hoverlabel": {
            "namelength": 0
           },
           "hovertemplate": "animation_frame=2020-02-14<br>Confirmed cases by country=%{x}<br>Top 10 countries with confirmed cases=%{y}",
           "legendgroup": "",
           "marker": {
            "color": "#636efa"
           },
           "name": "",
           "offsetgroup": "",
           "orientation": "h",
           "showlegend": false,
           "textposition": "auto",
           "type": "bar",
           "x": [
            18,
            65,
            946,
            65328,
            16,
            29,
            19,
            67,
            33,
            16
           ],
           "xaxis": "x",
           "y": [
            "China",
            "China",
            "China",
            "China",
            "Germany",
            "Japan",
            "Malaysia",
            "Singapore",
            "Thailand",
            "Vietnam"
           ],
           "yaxis": "y"
          }
         ],
         "name": "2020-02-14"
        },
        {
         "data": [
          {
           "alignmentgroup": "True",
           "hoverlabel": {
            "namelength": 0
           },
           "hovertemplate": "animation_frame=2020-02-15<br>Confirmed cases by country=%{x}<br>Top 10 countries with confirmed cases=%{y}",
           "legendgroup": "",
           "marker": {
            "color": "#636efa"
           },
           "name": "",
           "offsetgroup": "",
           "orientation": "h",
           "showlegend": false,
           "textposition": "auto",
           "type": "bar",
           "x": [
            18,
            68,
            961,
            67365,
            16,
            43,
            22,
            72,
            33,
            16
           ],
           "xaxis": "x",
           "y": [
            "China",
            "China",
            "China",
            "China",
            "Germany",
            "Japan",
            "Malaysia",
            "Singapore",
            "Thailand",
            "Vietnam"
           ],
           "yaxis": "y"
          }
         ],
         "name": "2020-02-15"
        },
        {
         "data": [
          {
           "alignmentgroup": "True",
           "hoverlabel": {
            "namelength": 0
           },
           "hovertemplate": "animation_frame=2020-02-16<br>Confirmed cases by country=%{x}<br>Top 10 countries with confirmed cases=%{y}",
           "legendgroup": "",
           "marker": {
            "color": "#636efa"
           },
           "name": "",
           "offsetgroup": "",
           "orientation": "h",
           "showlegend": false,
           "textposition": "auto",
           "type": "bar",
           "x": [
            18,
            70,
            988,
            69436,
            16,
            59,
            22,
            75,
            34,
            16
           ],
           "xaxis": "x",
           "y": [
            "China",
            "China",
            "China",
            "China",
            "Germany",
            "Japan",
            "Malaysia",
            "Singapore",
            "Thailand",
            "Vietnam"
           ],
           "yaxis": "y"
          }
         ],
         "name": "2020-02-16"
        },
        {
         "data": [
          {
           "alignmentgroup": "True",
           "hoverlabel": {
            "namelength": 0
           },
           "hovertemplate": "animation_frame=2020-02-17<br>Confirmed cases by country=%{x}<br>Top 10 countries with confirmed cases=%{y}",
           "legendgroup": "",
           "marker": {
            "color": "#636efa"
           },
           "name": "",
           "offsetgroup": "",
           "orientation": "h",
           "showlegend": false,
           "textposition": "auto",
           "type": "bar",
           "x": [
            18,
            72,
            1012,
            71331,
            16,
            66,
            22,
            77,
            35,
            16
           ],
           "xaxis": "x",
           "y": [
            "China",
            "China",
            "China",
            "China",
            "Germany",
            "Japan",
            "Malaysia",
            "Singapore",
            "Thailand",
            "Vietnam"
           ],
           "yaxis": "y"
          }
         ],
         "name": "2020-02-17"
        },
        {
         "data": [
          {
           "alignmentgroup": "True",
           "hoverlabel": {
            "namelength": 0
           },
           "hovertemplate": "animation_frame=2020-02-18<br>Confirmed cases by country=%{x}<br>Top 10 countries with confirmed cases=%{y}",
           "legendgroup": "",
           "marker": {
            "color": "#636efa"
           },
           "name": "",
           "offsetgroup": "",
           "orientation": "h",
           "showlegend": false,
           "textposition": "auto",
           "type": "bar",
           "x": [
            18,
            73,
            1022,
            73097,
            16,
            74,
            22,
            81,
            35,
            16
           ],
           "xaxis": "x",
           "y": [
            "China",
            "China",
            "China",
            "China",
            "Germany",
            "Japan",
            "Malaysia",
            "Singapore",
            "Thailand",
            "Vietnam"
           ],
           "yaxis": "y"
          }
         ],
         "name": "2020-02-18"
        },
        {
         "data": [
          {
           "alignmentgroup": "True",
           "hoverlabel": {
            "namelength": 0
           },
           "hovertemplate": "animation_frame=2020-02-19<br>Confirmed cases by country=%{x}<br>Top 10 countries with confirmed cases=%{y}",
           "legendgroup": "",
           "marker": {
            "color": "#636efa"
           },
           "name": "",
           "offsetgroup": "",
           "orientation": "h",
           "showlegend": false,
           "textposition": "auto",
           "type": "bar",
           "x": [
            18,
            75,
            1032,
            73493,
            16,
            84,
            22,
            84,
            35,
            16
           ],
           "xaxis": "x",
           "y": [
            "China",
            "China",
            "China",
            "China",
            "Germany",
            "Japan",
            "Malaysia",
            "Singapore",
            "Thailand",
            "Vietnam"
           ],
           "yaxis": "y"
          }
         ],
         "name": "2020-02-19"
        },
        {
         "data": [
          {
           "alignmentgroup": "True",
           "hoverlabel": {
            "namelength": 0
           },
           "hovertemplate": "animation_frame=2020-02-20<br>Confirmed cases by country=%{x}<br>Top 10 countries with confirmed cases=%{y}",
           "legendgroup": "",
           "marker": {
            "color": "#636efa"
           },
           "name": "",
           "offsetgroup": "",
           "orientation": "h",
           "showlegend": false,
           "textposition": "auto",
           "type": "bar",
           "x": [
            18,
            75,
            1047,
            73936,
            16,
            94,
            22,
            84,
            35,
            16
           ],
           "xaxis": "x",
           "y": [
            "China",
            "China",
            "China",
            "China",
            "Germany",
            "Japan",
            "Malaysia",
            "Singapore",
            "Thailand",
            "Vietnam"
           ],
           "yaxis": "y"
          }
         ],
         "name": "2020-02-20"
        },
        {
         "data": [
          {
           "alignmentgroup": "True",
           "hoverlabel": {
            "namelength": 0
           },
           "hovertemplate": "animation_frame=2020-02-21<br>Confirmed cases by country=%{x}<br>Top 10 countries with confirmed cases=%{y}",
           "legendgroup": "",
           "marker": {
            "color": "#636efa"
           },
           "name": "",
           "offsetgroup": "",
           "orientation": "h",
           "showlegend": false,
           "textposition": "auto",
           "type": "bar",
           "x": [
            18,
            75,
            1050,
            74406,
            18,
            20,
            105,
            22,
            85,
            35
           ],
           "xaxis": "x",
           "y": [
            "China",
            "China",
            "China",
            "China",
            "Iran",
            "Italy",
            "Japan",
            "Malaysia",
            "Singapore",
            "Thailand"
           ],
           "yaxis": "y"
          }
         ],
         "name": "2020-02-21"
        },
        {
         "data": [
          {
           "alignmentgroup": "True",
           "hoverlabel": {
            "namelength": 0
           },
           "hovertemplate": "animation_frame=2020-02-22<br>Confirmed cases by country=%{x}<br>Top 10 countries with confirmed cases=%{y}",
           "legendgroup": "",
           "marker": {
            "color": "#636efa"
           },
           "name": "",
           "offsetgroup": "",
           "orientation": "h",
           "showlegend": false,
           "textposition": "auto",
           "type": "bar",
           "x": [
            18,
            75,
            1051,
            75856,
            28,
            62,
            122,
            22,
            85,
            35
           ],
           "xaxis": "x",
           "y": [
            "China",
            "China",
            "China",
            "China",
            "Iran",
            "Italy",
            "Japan",
            "Malaysia",
            "Singapore",
            "Thailand"
           ],
           "yaxis": "y"
          }
         ],
         "name": "2020-02-22"
        },
        {
         "data": [
          {
           "alignmentgroup": "True",
           "hoverlabel": {
            "namelength": 0
           },
           "hovertemplate": "animation_frame=2020-02-23<br>Confirmed cases by country=%{x}<br>Top 10 countries with confirmed cases=%{y}",
           "legendgroup": "",
           "marker": {
            "color": "#636efa"
           },
           "name": "",
           "offsetgroup": "",
           "orientation": "h",
           "showlegend": false,
           "textposition": "auto",
           "type": "bar",
           "x": [
            18,
            75,
            1057,
            75871,
            43,
            155,
            147,
            22,
            89,
            35
           ],
           "xaxis": "x",
           "y": [
            "China",
            "China",
            "China",
            "China",
            "Iran",
            "Italy",
            "Japan",
            "Malaysia",
            "Singapore",
            "Thailand"
           ],
           "yaxis": "y"
          }
         ],
         "name": "2020-02-23"
        },
        {
         "data": [
          {
           "alignmentgroup": "True",
           "hoverlabel": {
            "namelength": 0
           },
           "hovertemplate": "animation_frame=2020-02-24<br>Confirmed cases by country=%{x}<br>Top 10 countries with confirmed cases=%{y}",
           "legendgroup": "",
           "marker": {
            "color": "#636efa"
           },
           "name": "",
           "offsetgroup": "",
           "orientation": "h",
           "showlegend": false,
           "textposition": "auto",
           "type": "bar",
           "x": [
            18,
            75,
            1064,
            76083,
            61,
            229,
            159,
            22,
            89,
            35
           ],
           "xaxis": "x",
           "y": [
            "China",
            "China",
            "China",
            "China",
            "Iran",
            "Italy",
            "Japan",
            "Malaysia",
            "Singapore",
            "Thailand"
           ],
           "yaxis": "y"
          }
         ],
         "name": "2020-02-24"
        },
        {
         "data": [
          {
           "alignmentgroup": "True",
           "hoverlabel": {
            "namelength": 0
           },
           "hovertemplate": "animation_frame=2020-02-25<br>Confirmed cases by country=%{x}<br>Top 10 countries with confirmed cases=%{y}",
           "legendgroup": "",
           "marker": {
            "color": "#636efa"
           },
           "name": "",
           "offsetgroup": "",
           "orientation": "h",
           "showlegend": false,
           "textposition": "auto",
           "type": "bar",
           "x": [
            23,
            75,
            1069,
            76591,
            95,
            322,
            170,
            22,
            91,
            37
           ],
           "xaxis": "x",
           "y": [
            "Bahrain",
            "China",
            "China",
            "China",
            "Iran",
            "Italy",
            "Japan",
            "Malaysia",
            "Singapore",
            "Thailand"
           ],
           "yaxis": "y"
          }
         ],
         "name": "2020-02-25"
        },
        {
         "data": [
          {
           "alignmentgroup": "True",
           "hoverlabel": {
            "namelength": 0
           },
           "hovertemplate": "animation_frame=2020-02-26<br>Confirmed cases by country=%{x}<br>Top 10 countries with confirmed cases=%{y}",
           "legendgroup": "",
           "marker": {
            "color": "#636efa"
           },
           "name": "",
           "offsetgroup": "",
           "orientation": "h",
           "showlegend": false,
           "textposition": "auto",
           "type": "bar",
           "x": [
            33,
            75,
            1076,
            76996,
            27,
            139,
            453,
            189,
            93,
            40
           ],
           "xaxis": "x",
           "y": [
            "Bahrain",
            "China",
            "China",
            "China",
            "Germany",
            "Iran",
            "Italy",
            "Japan",
            "Singapore",
            "Thailand"
           ],
           "yaxis": "y"
          }
         ],
         "name": "2020-02-26"
        },
        {
         "data": [
          {
           "alignmentgroup": "True",
           "hoverlabel": {
            "namelength": 0
           },
           "hovertemplate": "animation_frame=2020-02-27<br>Confirmed cases by country=%{x}<br>Top 10 countries with confirmed cases=%{y}",
           "legendgroup": "",
           "marker": {
            "color": "#636efa"
           },
           "name": "",
           "offsetgroup": "",
           "orientation": "h",
           "showlegend": false,
           "textposition": "auto",
           "type": "bar",
           "x": [
            75,
            1077,
            77429,
            46,
            245,
            655,
            214,
            43,
            93,
            40
           ],
           "xaxis": "x",
           "y": [
            "China",
            "China",
            "China",
            "Germany",
            "Iran",
            "Italy",
            "Japan",
            "Kuwait",
            "Singapore",
            "Thailand"
           ],
           "yaxis": "y"
          }
         ],
         "name": "2020-02-27"
        },
        {
         "data": [
          {
           "alignmentgroup": "True",
           "hoverlabel": {
            "namelength": 0
           },
           "hovertemplate": "animation_frame=2020-02-28<br>Confirmed cases by country=%{x}<br>Top 10 countries with confirmed cases=%{y}",
           "legendgroup": "",
           "marker": {
            "color": "#636efa"
           },
           "name": "",
           "offsetgroup": "",
           "orientation": "h",
           "showlegend": false,
           "textposition": "auto",
           "type": "bar",
           "x": [
            75,
            1079,
            77755,
            57,
            48,
            388,
            888,
            228,
            45,
            93
           ],
           "xaxis": "x",
           "y": [
            "China",
            "China",
            "China",
            "France",
            "Germany",
            "Iran",
            "Italy",
            "Japan",
            "Kuwait",
            "Singapore"
           ],
           "yaxis": "y"
          }
         ],
         "name": "2020-02-28"
        },
        {
         "data": [
          {
           "alignmentgroup": "True",
           "hoverlabel": {
            "namelength": 0
           },
           "hovertemplate": "animation_frame=2020-02-29<br>Confirmed cases by country=%{x}<br>Top 10 countries with confirmed cases=%{y}",
           "legendgroup": "",
           "marker": {
            "color": "#636efa"
           },
           "name": "",
           "offsetgroup": "",
           "orientation": "h",
           "showlegend": false,
           "textposition": "auto",
           "type": "bar",
           "x": [
            75,
            1080,
            78182,
            100,
            79,
            593,
            1128,
            241,
            45,
            102
           ],
           "xaxis": "x",
           "y": [
            "China",
            "China",
            "China",
            "France",
            "Germany",
            "Iran",
            "Italy",
            "Japan",
            "Kuwait",
            "Singapore"
           ],
           "yaxis": "y"
          }
         ],
         "name": "2020-02-29"
        },
        {
         "data": [
          {
           "alignmentgroup": "True",
           "hoverlabel": {
            "namelength": 0
           },
           "hovertemplate": "animation_frame=2020-03-01<br>Confirmed cases by country=%{x}<br>Top 10 countries with confirmed cases=%{y}",
           "legendgroup": "",
           "marker": {
            "color": "#636efa"
           },
           "name": "",
           "offsetgroup": "",
           "orientation": "h",
           "showlegend": false,
           "textposition": "auto",
           "type": "bar",
           "x": [
            75,
            1081,
            78757,
            130,
            130,
            978,
            1694,
            256,
            106,
            84
           ],
           "xaxis": "x",
           "y": [
            "China",
            "China",
            "China",
            "France",
            "Germany",
            "Iran",
            "Italy",
            "Japan",
            "Singapore",
            "Spain"
           ],
           "yaxis": "y"
          }
         ],
         "name": "2020-03-01"
        },
        {
         "data": [
          {
           "alignmentgroup": "True",
           "hoverlabel": {
            "namelength": 0
           },
           "hovertemplate": "animation_frame=2020-03-02<br>Confirmed cases by country=%{x}<br>Top 10 countries with confirmed cases=%{y}",
           "legendgroup": "",
           "marker": {
            "color": "#636efa"
           },
           "name": "",
           "offsetgroup": "",
           "orientation": "h",
           "showlegend": false,
           "textposition": "auto",
           "type": "bar",
           "x": [
            75,
            1085,
            78957,
            191,
            159,
            1501,
            2036,
            274,
            108,
            120
           ],
           "xaxis": "x",
           "y": [
            "China",
            "China",
            "China",
            "France",
            "Germany",
            "Iran",
            "Italy",
            "Japan",
            "Singapore",
            "Spain"
           ],
           "yaxis": "y"
          }
         ],
         "name": "2020-03-02"
        },
        {
         "data": [
          {
           "alignmentgroup": "True",
           "hoverlabel": {
            "namelength": 0
           },
           "hovertemplate": "animation_frame=2020-03-03<br>Confirmed cases by country=%{x}<br>Top 10 countries with confirmed cases=%{y}",
           "legendgroup": "",
           "marker": {
            "color": "#636efa"
           },
           "name": "",
           "offsetgroup": "",
           "orientation": "h",
           "showlegend": false,
           "textposition": "auto",
           "type": "bar",
           "x": [
            75,
            1085,
            79082,
            204,
            196,
            2336,
            2502,
            293,
            110,
            165
           ],
           "xaxis": "x",
           "y": [
            "China",
            "China",
            "China",
            "France",
            "Germany",
            "Iran",
            "Italy",
            "Japan",
            "Singapore",
            "Spain"
           ],
           "yaxis": "y"
          }
         ],
         "name": "2020-03-03"
        },
        {
         "data": [
          {
           "alignmentgroup": "True",
           "hoverlabel": {
            "namelength": 0
           },
           "hovertemplate": "animation_frame=2020-03-04<br>Confirmed cases by country=%{x}<br>Top 10 countries with confirmed cases=%{y}",
           "legendgroup": "",
           "marker": {
            "color": "#636efa"
           },
           "name": "",
           "offsetgroup": "",
           "orientation": "h",
           "showlegend": false,
           "textposition": "auto",
           "type": "bar",
           "x": [
            1090,
            79202,
            285,
            262,
            2922,
            3089,
            331,
            110,
            222,
            90
           ],
           "xaxis": "x",
           "y": [
            "China",
            "China",
            "France",
            "Germany",
            "Iran",
            "Italy",
            "Japan",
            "Singapore",
            "Spain",
            "Switzerland"
           ],
           "yaxis": "y"
          }
         ],
         "name": "2020-03-04"
        },
        {
         "data": [
          {
           "alignmentgroup": "True",
           "hoverlabel": {
            "namelength": 0
           },
           "hovertemplate": "animation_frame=2020-03-05<br>Confirmed cases by country=%{x}<br>Top 10 countries with confirmed cases=%{y}",
           "legendgroup": "",
           "marker": {
            "color": "#636efa"
           },
           "name": "",
           "offsetgroup": "",
           "orientation": "h",
           "showlegend": false,
           "textposition": "auto",
           "type": "bar",
           "x": [
            1102,
            79341,
            377,
            482,
            3513,
            3858,
            360,
            117,
            259,
            115
           ],
           "xaxis": "x",
           "y": [
            "China",
            "China",
            "France",
            "Germany",
            "Iran",
            "Italy",
            "Japan",
            "Singapore",
            "Spain",
            "United Kingdom"
           ],
           "yaxis": "y"
          }
         ],
         "name": "2020-03-05"
        },
        {
         "data": [
          {
           "alignmentgroup": "True",
           "hoverlabel": {
            "namelength": 0
           },
           "hovertemplate": "animation_frame=2020-03-06<br>Confirmed cases by country=%{x}<br>Top 10 countries with confirmed cases=%{y}",
           "legendgroup": "",
           "marker": {
            "color": "#636efa"
           },
           "name": "",
           "offsetgroup": "",
           "orientation": "h",
           "showlegend": false,
           "textposition": "auto",
           "type": "bar",
           "x": [
            1121,
            79475,
            653,
            670,
            4747,
            4636,
            420,
            400,
            214,
            163
           ],
           "xaxis": "x",
           "y": [
            "China",
            "China",
            "France",
            "Germany",
            "Iran",
            "Italy",
            "Japan",
            "Spain",
            "Switzerland",
            "United Kingdom"
           ],
           "yaxis": "y"
          }
         ],
         "name": "2020-03-06"
        },
        {
         "data": [
          {
           "alignmentgroup": "True",
           "hoverlabel": {
            "namelength": 0
           },
           "hovertemplate": "animation_frame=2020-03-07<br>Confirmed cases by country=%{x}<br>Top 10 countries with confirmed cases=%{y}",
           "legendgroup": "",
           "marker": {
            "color": "#636efa"
           },
           "name": "",
           "offsetgroup": "",
           "orientation": "h",
           "showlegend": false,
           "textposition": "auto",
           "type": "bar",
           "x": [
            1123,
            79553,
            949,
            799,
            5823,
            5883,
            461,
            500,
            268,
            206
           ],
           "xaxis": "x",
           "y": [
            "China",
            "China",
            "France",
            "Germany",
            "Iran",
            "Italy",
            "Japan",
            "Spain",
            "Switzerland",
            "United Kingdom"
           ],
           "yaxis": "y"
          }
         ],
         "name": "2020-03-07"
        },
        {
         "data": [
          {
           "alignmentgroup": "True",
           "hoverlabel": {
            "namelength": 0
           },
           "hovertemplate": "animation_frame=2020-03-08<br>Confirmed cases by country=%{x}<br>Top 10 countries with confirmed cases=%{y}",
           "legendgroup": "",
           "marker": {
            "color": "#636efa"
           },
           "name": "",
           "offsetgroup": "",
           "orientation": "h",
           "showlegend": false,
           "textposition": "auto",
           "type": "bar",
           "x": [
            1133,
            79596,
            1126,
            1040,
            6566,
            7375,
            502,
            673,
            337,
            273
           ],
           "xaxis": "x",
           "y": [
            "China",
            "China",
            "France",
            "Germany",
            "Iran",
            "Italy",
            "Japan",
            "Spain",
            "Switzerland",
            "United Kingdom"
           ],
           "yaxis": "y"
          }
         ],
         "name": "2020-03-08"
        },
        {
         "data": [
          {
           "alignmentgroup": "True",
           "hoverlabel": {
            "namelength": 0
           },
           "hovertemplate": "animation_frame=2020-03-09<br>Confirmed cases by country=%{x}<br>Top 10 countries with confirmed cases=%{y}",
           "legendgroup": "",
           "marker": {
            "color": "#636efa"
           },
           "name": "",
           "offsetgroup": "",
           "orientation": "h",
           "showlegend": false,
           "textposition": "auto",
           "type": "bar",
           "x": [
            1134,
            79632,
            1209,
            1176,
            7161,
            9172,
            511,
            321,
            1073,
            374
           ],
           "xaxis": "x",
           "y": [
            "China",
            "China",
            "France",
            "Germany",
            "Iran",
            "Italy",
            "Japan",
            "Netherlands",
            "Spain",
            "Switzerland"
           ],
           "yaxis": "y"
          }
         ],
         "name": "2020-03-09"
        },
        {
         "data": [
          {
           "alignmentgroup": "True",
           "hoverlabel": {
            "namelength": 0
           },
           "hovertemplate": "animation_frame=2020-03-10<br>Confirmed cases by country=%{x}<br>Top 10 countries with confirmed cases=%{y}",
           "legendgroup": "",
           "marker": {
            "color": "#636efa"
           },
           "name": "",
           "offsetgroup": "",
           "orientation": "h",
           "showlegend": false,
           "textposition": "auto",
           "type": "bar",
           "x": [
            1140,
            79653,
            1784,
            1457,
            8042,
            10149,
            581,
            400,
            1695,
            491
           ],
           "xaxis": "x",
           "y": [
            "China",
            "China",
            "France",
            "Germany",
            "Iran",
            "Italy",
            "Japan",
            "Norway",
            "Spain",
            "Switzerland"
           ],
           "yaxis": "y"
          }
         ],
         "name": "2020-03-10"
        },
        {
         "data": [
          {
           "alignmentgroup": "True",
           "hoverlabel": {
            "namelength": 0
           },
           "hovertemplate": "animation_frame=2020-03-11<br>Confirmed cases by country=%{x}<br>Top 10 countries with confirmed cases=%{y}",
           "legendgroup": "",
           "marker": {
            "color": "#636efa"
           },
           "name": "",
           "offsetgroup": "",
           "orientation": "h",
           "showlegend": false,
           "textposition": "auto",
           "type": "bar",
           "x": [
            1149,
            79678,
            2281,
            1908,
            9000,
            12462,
            639,
            598,
            2277,
            652
           ],
           "xaxis": "x",
           "y": [
            "China",
            "China",
            "France",
            "Germany",
            "Iran",
            "Italy",
            "Japan",
            "Norway",
            "Spain",
            "Switzerland"
           ],
           "yaxis": "y"
          }
         ],
         "name": "2020-03-11"
        },
        {
         "data": [
          {
           "alignmentgroup": "True",
           "hoverlabel": {
            "namelength": 0
           },
           "hovertemplate": "animation_frame=2020-03-12<br>Confirmed cases by country=%{x}<br>Top 10 countries with confirmed cases=%{y}",
           "legendgroup": "",
           "marker": {
            "color": "#636efa"
           },
           "name": "",
           "offsetgroup": "",
           "orientation": "h",
           "showlegend": false,
           "textposition": "auto",
           "type": "bar",
           "x": [
            1152,
            79686,
            2281,
            2078,
            10075,
            12462,
            639,
            702,
            2277,
            652
           ],
           "xaxis": "x",
           "y": [
            "China",
            "China",
            "France",
            "Germany",
            "Iran",
            "Italy",
            "Japan",
            "Norway",
            "Spain",
            "Switzerland"
           ],
           "yaxis": "y"
          }
         ],
         "name": "2020-03-12"
        },
        {
         "data": [
          {
           "alignmentgroup": "True",
           "hoverlabel": {
            "namelength": 0
           },
           "hovertemplate": "animation_frame=2020-03-13<br>Confirmed cases by country=%{x}<br>Top 10 countries with confirmed cases=%{y}",
           "legendgroup": "",
           "marker": {
            "color": "#636efa"
           },
           "name": "",
           "offsetgroup": "",
           "orientation": "h",
           "showlegend": false,
           "textposition": "auto",
           "type": "bar",
           "x": [
            1157,
            79694,
            3661,
            3675,
            11364,
            17660,
            996,
            5232,
            814,
            1139
           ],
           "xaxis": "x",
           "y": [
            "China",
            "China",
            "France",
            "Germany",
            "Iran",
            "Italy",
            "Norway",
            "Spain",
            "Sweden",
            "Switzerland"
           ],
           "yaxis": "y"
          }
         ],
         "name": "2020-03-13"
        },
        {
         "data": [
          {
           "alignmentgroup": "True",
           "hoverlabel": {
            "namelength": 0
           },
           "hovertemplate": "animation_frame=2020-03-14<br>Confirmed cases by country=%{x}<br>Top 10 countries with confirmed cases=%{y}",
           "legendgroup": "",
           "marker": {
            "color": "#636efa"
           },
           "name": "",
           "offsetgroup": "",
           "orientation": "h",
           "showlegend": false,
           "textposition": "auto",
           "type": "bar",
           "x": [
            1165,
            79718,
            4469,
            4585,
            12729,
            21157,
            1090,
            6391,
            1359,
            1140
           ],
           "xaxis": "x",
           "y": [
            "China",
            "China",
            "France",
            "Germany",
            "Iran",
            "Italy",
            "Norway",
            "Spain",
            "Switzerland",
            "United Kingdom"
           ],
           "yaxis": "y"
          }
         ],
         "name": "2020-03-14"
        },
        {
         "data": [
          {
           "alignmentgroup": "True",
           "hoverlabel": {
            "namelength": 0
           },
           "hovertemplate": "animation_frame=2020-03-15<br>Confirmed cases by country=%{x}<br>Top 10 countries with confirmed cases=%{y}",
           "legendgroup": "",
           "marker": {
            "color": "#636efa"
           },
           "name": "",
           "offsetgroup": "",
           "orientation": "h",
           "showlegend": false,
           "textposition": "auto",
           "type": "bar",
           "x": [
            1174,
            79735,
            4499,
            5795,
            13938,
            24747,
            1221,
            7798,
            2200,
            1140
           ],
           "xaxis": "x",
           "y": [
            "China",
            "China",
            "France",
            "Germany",
            "Iran",
            "Italy",
            "Norway",
            "Spain",
            "Switzerland",
            "United Kingdom"
           ],
           "yaxis": "y"
          }
         ],
         "name": "2020-03-15"
        },
        {
         "data": [
          {
           "alignmentgroup": "True",
           "hoverlabel": {
            "namelength": 0
           },
           "hovertemplate": "animation_frame=2020-03-16<br>Confirmed cases by country=%{x}<br>Top 10 countries with confirmed cases=%{y}",
           "legendgroup": "",
           "marker": {
            "color": "#636efa"
           },
           "name": "",
           "offsetgroup": "",
           "orientation": "h",
           "showlegend": false,
           "textposition": "auto",
           "type": "bar",
           "x": [
            79755,
            6633,
            7272,
            14991,
            27980,
            1413,
            1333,
            9942,
            2200,
            1543
           ],
           "xaxis": "x",
           "y": [
            "China",
            "France",
            "Germany",
            "Iran",
            "Italy",
            "Netherlands",
            "Norway",
            "Spain",
            "Switzerland",
            "United Kingdom"
           ],
           "yaxis": "y"
          }
         ],
         "name": "2020-03-16"
        },
        {
         "data": [
          {
           "alignmentgroup": "True",
           "hoverlabel": {
            "namelength": 0
           },
           "hovertemplate": "animation_frame=2020-03-17<br>Confirmed cases by country=%{x}<br>Top 10 countries with confirmed cases=%{y}",
           "legendgroup": "",
           "marker": {
            "color": "#636efa"
           },
           "name": "",
           "offsetgroup": "",
           "orientation": "h",
           "showlegend": false,
           "textposition": "auto",
           "type": "bar",
           "x": [
            79772,
            7652,
            9257,
            16169,
            31506,
            1705,
            1463,
            11748,
            2700,
            1950
           ],
           "xaxis": "x",
           "y": [
            "China",
            "France",
            "Germany",
            "Iran",
            "Italy",
            "Netherlands",
            "Norway",
            "Spain",
            "Switzerland",
            "United Kingdom"
           ],
           "yaxis": "y"
          }
         ],
         "name": "2020-03-17"
        },
        {
         "data": [
          {
           "alignmentgroup": "True",
           "hoverlabel": {
            "namelength": 0
           },
           "hovertemplate": "animation_frame=2020-03-18<br>Confirmed cases by country=%{x}<br>Top 10 countries with confirmed cases=%{y}",
           "legendgroup": "",
           "marker": {
            "color": "#636efa"
           },
           "name": "",
           "offsetgroup": "",
           "orientation": "h",
           "showlegend": false,
           "textposition": "auto",
           "type": "bar",
           "x": [
            1646,
            79797,
            9043,
            12327,
            17361,
            35713,
            2051,
            13910,
            3028,
            2626
           ],
           "xaxis": "x",
           "y": [
            "Austria",
            "China",
            "France",
            "Germany",
            "Iran",
            "Italy",
            "Netherlands",
            "Spain",
            "Switzerland",
            "United Kingdom"
           ],
           "yaxis": "y"
          }
         ],
         "name": "2020-03-18"
        },
        {
         "data": [
          {
           "alignmentgroup": "True",
           "hoverlabel": {
            "namelength": 0
           },
           "hovertemplate": "animation_frame=2020-03-19<br>Confirmed cases by country=%{x}<br>Top 10 countries with confirmed cases=%{y}",
           "legendgroup": "",
           "marker": {
            "color": "#636efa"
           },
           "name": "",
           "offsetgroup": "",
           "orientation": "h",
           "showlegend": false,
           "textposition": "auto",
           "type": "bar",
           "x": [
            2013,
            79822,
            10871,
            15320,
            18407,
            41035,
            2460,
            17963,
            4075,
            2689
           ],
           "xaxis": "x",
           "y": [
            "Austria",
            "China",
            "France",
            "Germany",
            "Iran",
            "Italy",
            "Netherlands",
            "Spain",
            "Switzerland",
            "United Kingdom"
           ],
           "yaxis": "y"
          }
         ],
         "name": "2020-03-19"
        },
        {
         "data": [
          {
           "alignmentgroup": "True",
           "hoverlabel": {
            "namelength": 0
           },
           "hovertemplate": "animation_frame=2020-03-20<br>Confirmed cases by country=%{x}<br>Top 10 countries with confirmed cases=%{y}",
           "legendgroup": "",
           "marker": {
            "color": "#636efa"
           },
           "name": "",
           "offsetgroup": "",
           "orientation": "h",
           "showlegend": false,
           "textposition": "auto",
           "type": "bar",
           "x": [
            2388,
            79866,
            12612,
            19848,
            19644,
            47021,
            2994,
            20410,
            5294,
            3983
           ],
           "xaxis": "x",
           "y": [
            "Austria",
            "China",
            "France",
            "Germany",
            "Iran",
            "Italy",
            "Netherlands",
            "Spain",
            "Switzerland",
            "United Kingdom"
           ],
           "yaxis": "y"
          }
         ],
         "name": "2020-03-20"
        },
        {
         "data": [
          {
           "alignmentgroup": "True",
           "hoverlabel": {
            "namelength": 0
           },
           "hovertemplate": "animation_frame=2020-03-21<br>Confirmed cases by country=%{x}<br>Top 10 countries with confirmed cases=%{y}",
           "legendgroup": "",
           "marker": {
            "color": "#636efa"
           },
           "name": "",
           "offsetgroup": "",
           "orientation": "h",
           "showlegend": false,
           "textposition": "auto",
           "type": "bar",
           "x": [
            2815,
            79903,
            14282,
            22213,
            20610,
            53578,
            3631,
            25374,
            6575,
            5018
           ],
           "xaxis": "x",
           "y": [
            "Belgium",
            "China",
            "France",
            "Germany",
            "Iran",
            "Italy",
            "Netherlands",
            "Spain",
            "Switzerland",
            "United Kingdom"
           ],
           "yaxis": "y"
          }
         ],
         "name": "2020-03-21"
        }
       ],
       "layout": {
        "barmode": "relative",
        "legend": {
         "tracegroupgap": 0
        },
        "margin": {
         "t": 60
        },
        "sliders": [
         {
          "active": 0,
          "currentvalue": {
           "prefix": "animation_frame="
          },
          "len": 0.9,
          "pad": {
           "b": 10,
           "t": 60
          },
          "steps": [
           {
            "args": [
             [
              "2020-01-22"
             ],
             {
              "frame": {
               "duration": 0,
               "redraw": true
              },
              "fromcurrent": true,
              "mode": "immediate",
              "transition": {
               "duration": 0,
               "easing": "linear"
              }
             }
            ],
            "label": "2020-01-22",
            "method": "animate"
           },
           {
            "args": [
             [
              "2020-01-23"
             ],
             {
              "frame": {
               "duration": 0,
               "redraw": true
              },
              "fromcurrent": true,
              "mode": "immediate",
              "transition": {
               "duration": 0,
               "easing": "linear"
              }
             }
            ],
            "label": "2020-01-23",
            "method": "animate"
           },
           {
            "args": [
             [
              "2020-01-24"
             ],
             {
              "frame": {
               "duration": 0,
               "redraw": true
              },
              "fromcurrent": true,
              "mode": "immediate",
              "transition": {
               "duration": 0,
               "easing": "linear"
              }
             }
            ],
            "label": "2020-01-24",
            "method": "animate"
           },
           {
            "args": [
             [
              "2020-01-25"
             ],
             {
              "frame": {
               "duration": 0,
               "redraw": true
              },
              "fromcurrent": true,
              "mode": "immediate",
              "transition": {
               "duration": 0,
               "easing": "linear"
              }
             }
            ],
            "label": "2020-01-25",
            "method": "animate"
           },
           {
            "args": [
             [
              "2020-01-26"
             ],
             {
              "frame": {
               "duration": 0,
               "redraw": true
              },
              "fromcurrent": true,
              "mode": "immediate",
              "transition": {
               "duration": 0,
               "easing": "linear"
              }
             }
            ],
            "label": "2020-01-26",
            "method": "animate"
           },
           {
            "args": [
             [
              "2020-01-27"
             ],
             {
              "frame": {
               "duration": 0,
               "redraw": true
              },
              "fromcurrent": true,
              "mode": "immediate",
              "transition": {
               "duration": 0,
               "easing": "linear"
              }
             }
            ],
            "label": "2020-01-27",
            "method": "animate"
           },
           {
            "args": [
             [
              "2020-01-28"
             ],
             {
              "frame": {
               "duration": 0,
               "redraw": true
              },
              "fromcurrent": true,
              "mode": "immediate",
              "transition": {
               "duration": 0,
               "easing": "linear"
              }
             }
            ],
            "label": "2020-01-28",
            "method": "animate"
           },
           {
            "args": [
             [
              "2020-01-29"
             ],
             {
              "frame": {
               "duration": 0,
               "redraw": true
              },
              "fromcurrent": true,
              "mode": "immediate",
              "transition": {
               "duration": 0,
               "easing": "linear"
              }
             }
            ],
            "label": "2020-01-29",
            "method": "animate"
           },
           {
            "args": [
             [
              "2020-01-30"
             ],
             {
              "frame": {
               "duration": 0,
               "redraw": true
              },
              "fromcurrent": true,
              "mode": "immediate",
              "transition": {
               "duration": 0,
               "easing": "linear"
              }
             }
            ],
            "label": "2020-01-30",
            "method": "animate"
           },
           {
            "args": [
             [
              "2020-01-31"
             ],
             {
              "frame": {
               "duration": 0,
               "redraw": true
              },
              "fromcurrent": true,
              "mode": "immediate",
              "transition": {
               "duration": 0,
               "easing": "linear"
              }
             }
            ],
            "label": "2020-01-31",
            "method": "animate"
           },
           {
            "args": [
             [
              "2020-02-01"
             ],
             {
              "frame": {
               "duration": 0,
               "redraw": true
              },
              "fromcurrent": true,
              "mode": "immediate",
              "transition": {
               "duration": 0,
               "easing": "linear"
              }
             }
            ],
            "label": "2020-02-01",
            "method": "animate"
           },
           {
            "args": [
             [
              "2020-02-02"
             ],
             {
              "frame": {
               "duration": 0,
               "redraw": true
              },
              "fromcurrent": true,
              "mode": "immediate",
              "transition": {
               "duration": 0,
               "easing": "linear"
              }
             }
            ],
            "label": "2020-02-02",
            "method": "animate"
           },
           {
            "args": [
             [
              "2020-02-03"
             ],
             {
              "frame": {
               "duration": 0,
               "redraw": true
              },
              "fromcurrent": true,
              "mode": "immediate",
              "transition": {
               "duration": 0,
               "easing": "linear"
              }
             }
            ],
            "label": "2020-02-03",
            "method": "animate"
           },
           {
            "args": [
             [
              "2020-02-04"
             ],
             {
              "frame": {
               "duration": 0,
               "redraw": true
              },
              "fromcurrent": true,
              "mode": "immediate",
              "transition": {
               "duration": 0,
               "easing": "linear"
              }
             }
            ],
            "label": "2020-02-04",
            "method": "animate"
           },
           {
            "args": [
             [
              "2020-02-05"
             ],
             {
              "frame": {
               "duration": 0,
               "redraw": true
              },
              "fromcurrent": true,
              "mode": "immediate",
              "transition": {
               "duration": 0,
               "easing": "linear"
              }
             }
            ],
            "label": "2020-02-05",
            "method": "animate"
           },
           {
            "args": [
             [
              "2020-02-06"
             ],
             {
              "frame": {
               "duration": 0,
               "redraw": true
              },
              "fromcurrent": true,
              "mode": "immediate",
              "transition": {
               "duration": 0,
               "easing": "linear"
              }
             }
            ],
            "label": "2020-02-06",
            "method": "animate"
           },
           {
            "args": [
             [
              "2020-02-07"
             ],
             {
              "frame": {
               "duration": 0,
               "redraw": true
              },
              "fromcurrent": true,
              "mode": "immediate",
              "transition": {
               "duration": 0,
               "easing": "linear"
              }
             }
            ],
            "label": "2020-02-07",
            "method": "animate"
           },
           {
            "args": [
             [
              "2020-02-08"
             ],
             {
              "frame": {
               "duration": 0,
               "redraw": true
              },
              "fromcurrent": true,
              "mode": "immediate",
              "transition": {
               "duration": 0,
               "easing": "linear"
              }
             }
            ],
            "label": "2020-02-08",
            "method": "animate"
           },
           {
            "args": [
             [
              "2020-02-09"
             ],
             {
              "frame": {
               "duration": 0,
               "redraw": true
              },
              "fromcurrent": true,
              "mode": "immediate",
              "transition": {
               "duration": 0,
               "easing": "linear"
              }
             }
            ],
            "label": "2020-02-09",
            "method": "animate"
           },
           {
            "args": [
             [
              "2020-02-10"
             ],
             {
              "frame": {
               "duration": 0,
               "redraw": true
              },
              "fromcurrent": true,
              "mode": "immediate",
              "transition": {
               "duration": 0,
               "easing": "linear"
              }
             }
            ],
            "label": "2020-02-10",
            "method": "animate"
           },
           {
            "args": [
             [
              "2020-02-11"
             ],
             {
              "frame": {
               "duration": 0,
               "redraw": true
              },
              "fromcurrent": true,
              "mode": "immediate",
              "transition": {
               "duration": 0,
               "easing": "linear"
              }
             }
            ],
            "label": "2020-02-11",
            "method": "animate"
           },
           {
            "args": [
             [
              "2020-02-12"
             ],
             {
              "frame": {
               "duration": 0,
               "redraw": true
              },
              "fromcurrent": true,
              "mode": "immediate",
              "transition": {
               "duration": 0,
               "easing": "linear"
              }
             }
            ],
            "label": "2020-02-12",
            "method": "animate"
           },
           {
            "args": [
             [
              "2020-02-13"
             ],
             {
              "frame": {
               "duration": 0,
               "redraw": true
              },
              "fromcurrent": true,
              "mode": "immediate",
              "transition": {
               "duration": 0,
               "easing": "linear"
              }
             }
            ],
            "label": "2020-02-13",
            "method": "animate"
           },
           {
            "args": [
             [
              "2020-02-14"
             ],
             {
              "frame": {
               "duration": 0,
               "redraw": true
              },
              "fromcurrent": true,
              "mode": "immediate",
              "transition": {
               "duration": 0,
               "easing": "linear"
              }
             }
            ],
            "label": "2020-02-14",
            "method": "animate"
           },
           {
            "args": [
             [
              "2020-02-15"
             ],
             {
              "frame": {
               "duration": 0,
               "redraw": true
              },
              "fromcurrent": true,
              "mode": "immediate",
              "transition": {
               "duration": 0,
               "easing": "linear"
              }
             }
            ],
            "label": "2020-02-15",
            "method": "animate"
           },
           {
            "args": [
             [
              "2020-02-16"
             ],
             {
              "frame": {
               "duration": 0,
               "redraw": true
              },
              "fromcurrent": true,
              "mode": "immediate",
              "transition": {
               "duration": 0,
               "easing": "linear"
              }
             }
            ],
            "label": "2020-02-16",
            "method": "animate"
           },
           {
            "args": [
             [
              "2020-02-17"
             ],
             {
              "frame": {
               "duration": 0,
               "redraw": true
              },
              "fromcurrent": true,
              "mode": "immediate",
              "transition": {
               "duration": 0,
               "easing": "linear"
              }
             }
            ],
            "label": "2020-02-17",
            "method": "animate"
           },
           {
            "args": [
             [
              "2020-02-18"
             ],
             {
              "frame": {
               "duration": 0,
               "redraw": true
              },
              "fromcurrent": true,
              "mode": "immediate",
              "transition": {
               "duration": 0,
               "easing": "linear"
              }
             }
            ],
            "label": "2020-02-18",
            "method": "animate"
           },
           {
            "args": [
             [
              "2020-02-19"
             ],
             {
              "frame": {
               "duration": 0,
               "redraw": true
              },
              "fromcurrent": true,
              "mode": "immediate",
              "transition": {
               "duration": 0,
               "easing": "linear"
              }
             }
            ],
            "label": "2020-02-19",
            "method": "animate"
           },
           {
            "args": [
             [
              "2020-02-20"
             ],
             {
              "frame": {
               "duration": 0,
               "redraw": true
              },
              "fromcurrent": true,
              "mode": "immediate",
              "transition": {
               "duration": 0,
               "easing": "linear"
              }
             }
            ],
            "label": "2020-02-20",
            "method": "animate"
           },
           {
            "args": [
             [
              "2020-02-21"
             ],
             {
              "frame": {
               "duration": 0,
               "redraw": true
              },
              "fromcurrent": true,
              "mode": "immediate",
              "transition": {
               "duration": 0,
               "easing": "linear"
              }
             }
            ],
            "label": "2020-02-21",
            "method": "animate"
           },
           {
            "args": [
             [
              "2020-02-22"
             ],
             {
              "frame": {
               "duration": 0,
               "redraw": true
              },
              "fromcurrent": true,
              "mode": "immediate",
              "transition": {
               "duration": 0,
               "easing": "linear"
              }
             }
            ],
            "label": "2020-02-22",
            "method": "animate"
           },
           {
            "args": [
             [
              "2020-02-23"
             ],
             {
              "frame": {
               "duration": 0,
               "redraw": true
              },
              "fromcurrent": true,
              "mode": "immediate",
              "transition": {
               "duration": 0,
               "easing": "linear"
              }
             }
            ],
            "label": "2020-02-23",
            "method": "animate"
           },
           {
            "args": [
             [
              "2020-02-24"
             ],
             {
              "frame": {
               "duration": 0,
               "redraw": true
              },
              "fromcurrent": true,
              "mode": "immediate",
              "transition": {
               "duration": 0,
               "easing": "linear"
              }
             }
            ],
            "label": "2020-02-24",
            "method": "animate"
           },
           {
            "args": [
             [
              "2020-02-25"
             ],
             {
              "frame": {
               "duration": 0,
               "redraw": true
              },
              "fromcurrent": true,
              "mode": "immediate",
              "transition": {
               "duration": 0,
               "easing": "linear"
              }
             }
            ],
            "label": "2020-02-25",
            "method": "animate"
           },
           {
            "args": [
             [
              "2020-02-26"
             ],
             {
              "frame": {
               "duration": 0,
               "redraw": true
              },
              "fromcurrent": true,
              "mode": "immediate",
              "transition": {
               "duration": 0,
               "easing": "linear"
              }
             }
            ],
            "label": "2020-02-26",
            "method": "animate"
           },
           {
            "args": [
             [
              "2020-02-27"
             ],
             {
              "frame": {
               "duration": 0,
               "redraw": true
              },
              "fromcurrent": true,
              "mode": "immediate",
              "transition": {
               "duration": 0,
               "easing": "linear"
              }
             }
            ],
            "label": "2020-02-27",
            "method": "animate"
           },
           {
            "args": [
             [
              "2020-02-28"
             ],
             {
              "frame": {
               "duration": 0,
               "redraw": true
              },
              "fromcurrent": true,
              "mode": "immediate",
              "transition": {
               "duration": 0,
               "easing": "linear"
              }
             }
            ],
            "label": "2020-02-28",
            "method": "animate"
           },
           {
            "args": [
             [
              "2020-02-29"
             ],
             {
              "frame": {
               "duration": 0,
               "redraw": true
              },
              "fromcurrent": true,
              "mode": "immediate",
              "transition": {
               "duration": 0,
               "easing": "linear"
              }
             }
            ],
            "label": "2020-02-29",
            "method": "animate"
           },
           {
            "args": [
             [
              "2020-03-01"
             ],
             {
              "frame": {
               "duration": 0,
               "redraw": true
              },
              "fromcurrent": true,
              "mode": "immediate",
              "transition": {
               "duration": 0,
               "easing": "linear"
              }
             }
            ],
            "label": "2020-03-01",
            "method": "animate"
           },
           {
            "args": [
             [
              "2020-03-02"
             ],
             {
              "frame": {
               "duration": 0,
               "redraw": true
              },
              "fromcurrent": true,
              "mode": "immediate",
              "transition": {
               "duration": 0,
               "easing": "linear"
              }
             }
            ],
            "label": "2020-03-02",
            "method": "animate"
           },
           {
            "args": [
             [
              "2020-03-03"
             ],
             {
              "frame": {
               "duration": 0,
               "redraw": true
              },
              "fromcurrent": true,
              "mode": "immediate",
              "transition": {
               "duration": 0,
               "easing": "linear"
              }
             }
            ],
            "label": "2020-03-03",
            "method": "animate"
           },
           {
            "args": [
             [
              "2020-03-04"
             ],
             {
              "frame": {
               "duration": 0,
               "redraw": true
              },
              "fromcurrent": true,
              "mode": "immediate",
              "transition": {
               "duration": 0,
               "easing": "linear"
              }
             }
            ],
            "label": "2020-03-04",
            "method": "animate"
           },
           {
            "args": [
             [
              "2020-03-05"
             ],
             {
              "frame": {
               "duration": 0,
               "redraw": true
              },
              "fromcurrent": true,
              "mode": "immediate",
              "transition": {
               "duration": 0,
               "easing": "linear"
              }
             }
            ],
            "label": "2020-03-05",
            "method": "animate"
           },
           {
            "args": [
             [
              "2020-03-06"
             ],
             {
              "frame": {
               "duration": 0,
               "redraw": true
              },
              "fromcurrent": true,
              "mode": "immediate",
              "transition": {
               "duration": 0,
               "easing": "linear"
              }
             }
            ],
            "label": "2020-03-06",
            "method": "animate"
           },
           {
            "args": [
             [
              "2020-03-07"
             ],
             {
              "frame": {
               "duration": 0,
               "redraw": true
              },
              "fromcurrent": true,
              "mode": "immediate",
              "transition": {
               "duration": 0,
               "easing": "linear"
              }
             }
            ],
            "label": "2020-03-07",
            "method": "animate"
           },
           {
            "args": [
             [
              "2020-03-08"
             ],
             {
              "frame": {
               "duration": 0,
               "redraw": true
              },
              "fromcurrent": true,
              "mode": "immediate",
              "transition": {
               "duration": 0,
               "easing": "linear"
              }
             }
            ],
            "label": "2020-03-08",
            "method": "animate"
           },
           {
            "args": [
             [
              "2020-03-09"
             ],
             {
              "frame": {
               "duration": 0,
               "redraw": true
              },
              "fromcurrent": true,
              "mode": "immediate",
              "transition": {
               "duration": 0,
               "easing": "linear"
              }
             }
            ],
            "label": "2020-03-09",
            "method": "animate"
           },
           {
            "args": [
             [
              "2020-03-10"
             ],
             {
              "frame": {
               "duration": 0,
               "redraw": true
              },
              "fromcurrent": true,
              "mode": "immediate",
              "transition": {
               "duration": 0,
               "easing": "linear"
              }
             }
            ],
            "label": "2020-03-10",
            "method": "animate"
           },
           {
            "args": [
             [
              "2020-03-11"
             ],
             {
              "frame": {
               "duration": 0,
               "redraw": true
              },
              "fromcurrent": true,
              "mode": "immediate",
              "transition": {
               "duration": 0,
               "easing": "linear"
              }
             }
            ],
            "label": "2020-03-11",
            "method": "animate"
           },
           {
            "args": [
             [
              "2020-03-12"
             ],
             {
              "frame": {
               "duration": 0,
               "redraw": true
              },
              "fromcurrent": true,
              "mode": "immediate",
              "transition": {
               "duration": 0,
               "easing": "linear"
              }
             }
            ],
            "label": "2020-03-12",
            "method": "animate"
           },
           {
            "args": [
             [
              "2020-03-13"
             ],
             {
              "frame": {
               "duration": 0,
               "redraw": true
              },
              "fromcurrent": true,
              "mode": "immediate",
              "transition": {
               "duration": 0,
               "easing": "linear"
              }
             }
            ],
            "label": "2020-03-13",
            "method": "animate"
           },
           {
            "args": [
             [
              "2020-03-14"
             ],
             {
              "frame": {
               "duration": 0,
               "redraw": true
              },
              "fromcurrent": true,
              "mode": "immediate",
              "transition": {
               "duration": 0,
               "easing": "linear"
              }
             }
            ],
            "label": "2020-03-14",
            "method": "animate"
           },
           {
            "args": [
             [
              "2020-03-15"
             ],
             {
              "frame": {
               "duration": 0,
               "redraw": true
              },
              "fromcurrent": true,
              "mode": "immediate",
              "transition": {
               "duration": 0,
               "easing": "linear"
              }
             }
            ],
            "label": "2020-03-15",
            "method": "animate"
           },
           {
            "args": [
             [
              "2020-03-16"
             ],
             {
              "frame": {
               "duration": 0,
               "redraw": true
              },
              "fromcurrent": true,
              "mode": "immediate",
              "transition": {
               "duration": 0,
               "easing": "linear"
              }
             }
            ],
            "label": "2020-03-16",
            "method": "animate"
           },
           {
            "args": [
             [
              "2020-03-17"
             ],
             {
              "frame": {
               "duration": 0,
               "redraw": true
              },
              "fromcurrent": true,
              "mode": "immediate",
              "transition": {
               "duration": 0,
               "easing": "linear"
              }
             }
            ],
            "label": "2020-03-17",
            "method": "animate"
           },
           {
            "args": [
             [
              "2020-03-18"
             ],
             {
              "frame": {
               "duration": 0,
               "redraw": true
              },
              "fromcurrent": true,
              "mode": "immediate",
              "transition": {
               "duration": 0,
               "easing": "linear"
              }
             }
            ],
            "label": "2020-03-18",
            "method": "animate"
           },
           {
            "args": [
             [
              "2020-03-19"
             ],
             {
              "frame": {
               "duration": 0,
               "redraw": true
              },
              "fromcurrent": true,
              "mode": "immediate",
              "transition": {
               "duration": 0,
               "easing": "linear"
              }
             }
            ],
            "label": "2020-03-19",
            "method": "animate"
           },
           {
            "args": [
             [
              "2020-03-20"
             ],
             {
              "frame": {
               "duration": 0,
               "redraw": true
              },
              "fromcurrent": true,
              "mode": "immediate",
              "transition": {
               "duration": 0,
               "easing": "linear"
              }
             }
            ],
            "label": "2020-03-20",
            "method": "animate"
           },
           {
            "args": [
             [
              "2020-03-21"
             ],
             {
              "frame": {
               "duration": 0,
               "redraw": true
              },
              "fromcurrent": true,
              "mode": "immediate",
              "transition": {
               "duration": 0,
               "easing": "linear"
              }
             }
            ],
            "label": "2020-03-21",
            "method": "animate"
           }
          ],
          "x": 0.1,
          "xanchor": "left",
          "y": 0,
          "yanchor": "top"
         }
        ],
        "template": {
         "data": {
          "bar": [
           {
            "error_x": {
             "color": "#2a3f5f"
            },
            "error_y": {
             "color": "#2a3f5f"
            },
            "marker": {
             "line": {
              "color": "#E5ECF6",
              "width": 0.5
             }
            },
            "type": "bar"
           }
          ],
          "barpolar": [
           {
            "marker": {
             "line": {
              "color": "#E5ECF6",
              "width": 0.5
             }
            },
            "type": "barpolar"
           }
          ],
          "carpet": [
           {
            "aaxis": {
             "endlinecolor": "#2a3f5f",
             "gridcolor": "white",
             "linecolor": "white",
             "minorgridcolor": "white",
             "startlinecolor": "#2a3f5f"
            },
            "baxis": {
             "endlinecolor": "#2a3f5f",
             "gridcolor": "white",
             "linecolor": "white",
             "minorgridcolor": "white",
             "startlinecolor": "#2a3f5f"
            },
            "type": "carpet"
           }
          ],
          "choropleth": [
           {
            "colorbar": {
             "outlinewidth": 0,
             "ticks": ""
            },
            "type": "choropleth"
           }
          ],
          "contour": [
           {
            "colorbar": {
             "outlinewidth": 0,
             "ticks": ""
            },
            "colorscale": [
             [
              0,
              "#0d0887"
             ],
             [
              0.1111111111111111,
              "#46039f"
             ],
             [
              0.2222222222222222,
              "#7201a8"
             ],
             [
              0.3333333333333333,
              "#9c179e"
             ],
             [
              0.4444444444444444,
              "#bd3786"
             ],
             [
              0.5555555555555556,
              "#d8576b"
             ],
             [
              0.6666666666666666,
              "#ed7953"
             ],
             [
              0.7777777777777778,
              "#fb9f3a"
             ],
             [
              0.8888888888888888,
              "#fdca26"
             ],
             [
              1,
              "#f0f921"
             ]
            ],
            "type": "contour"
           }
          ],
          "contourcarpet": [
           {
            "colorbar": {
             "outlinewidth": 0,
             "ticks": ""
            },
            "type": "contourcarpet"
           }
          ],
          "heatmap": [
           {
            "colorbar": {
             "outlinewidth": 0,
             "ticks": ""
            },
            "colorscale": [
             [
              0,
              "#0d0887"
             ],
             [
              0.1111111111111111,
              "#46039f"
             ],
             [
              0.2222222222222222,
              "#7201a8"
             ],
             [
              0.3333333333333333,
              "#9c179e"
             ],
             [
              0.4444444444444444,
              "#bd3786"
             ],
             [
              0.5555555555555556,
              "#d8576b"
             ],
             [
              0.6666666666666666,
              "#ed7953"
             ],
             [
              0.7777777777777778,
              "#fb9f3a"
             ],
             [
              0.8888888888888888,
              "#fdca26"
             ],
             [
              1,
              "#f0f921"
             ]
            ],
            "type": "heatmap"
           }
          ],
          "heatmapgl": [
           {
            "colorbar": {
             "outlinewidth": 0,
             "ticks": ""
            },
            "colorscale": [
             [
              0,
              "#0d0887"
             ],
             [
              0.1111111111111111,
              "#46039f"
             ],
             [
              0.2222222222222222,
              "#7201a8"
             ],
             [
              0.3333333333333333,
              "#9c179e"
             ],
             [
              0.4444444444444444,
              "#bd3786"
             ],
             [
              0.5555555555555556,
              "#d8576b"
             ],
             [
              0.6666666666666666,
              "#ed7953"
             ],
             [
              0.7777777777777778,
              "#fb9f3a"
             ],
             [
              0.8888888888888888,
              "#fdca26"
             ],
             [
              1,
              "#f0f921"
             ]
            ],
            "type": "heatmapgl"
           }
          ],
          "histogram": [
           {
            "marker": {
             "colorbar": {
              "outlinewidth": 0,
              "ticks": ""
             }
            },
            "type": "histogram"
           }
          ],
          "histogram2d": [
           {
            "colorbar": {
             "outlinewidth": 0,
             "ticks": ""
            },
            "colorscale": [
             [
              0,
              "#0d0887"
             ],
             [
              0.1111111111111111,
              "#46039f"
             ],
             [
              0.2222222222222222,
              "#7201a8"
             ],
             [
              0.3333333333333333,
              "#9c179e"
             ],
             [
              0.4444444444444444,
              "#bd3786"
             ],
             [
              0.5555555555555556,
              "#d8576b"
             ],
             [
              0.6666666666666666,
              "#ed7953"
             ],
             [
              0.7777777777777778,
              "#fb9f3a"
             ],
             [
              0.8888888888888888,
              "#fdca26"
             ],
             [
              1,
              "#f0f921"
             ]
            ],
            "type": "histogram2d"
           }
          ],
          "histogram2dcontour": [
           {
            "colorbar": {
             "outlinewidth": 0,
             "ticks": ""
            },
            "colorscale": [
             [
              0,
              "#0d0887"
             ],
             [
              0.1111111111111111,
              "#46039f"
             ],
             [
              0.2222222222222222,
              "#7201a8"
             ],
             [
              0.3333333333333333,
              "#9c179e"
             ],
             [
              0.4444444444444444,
              "#bd3786"
             ],
             [
              0.5555555555555556,
              "#d8576b"
             ],
             [
              0.6666666666666666,
              "#ed7953"
             ],
             [
              0.7777777777777778,
              "#fb9f3a"
             ],
             [
              0.8888888888888888,
              "#fdca26"
             ],
             [
              1,
              "#f0f921"
             ]
            ],
            "type": "histogram2dcontour"
           }
          ],
          "mesh3d": [
           {
            "colorbar": {
             "outlinewidth": 0,
             "ticks": ""
            },
            "type": "mesh3d"
           }
          ],
          "parcoords": [
           {
            "line": {
             "colorbar": {
              "outlinewidth": 0,
              "ticks": ""
             }
            },
            "type": "parcoords"
           }
          ],
          "pie": [
           {
            "automargin": true,
            "type": "pie"
           }
          ],
          "scatter": [
           {
            "marker": {
             "colorbar": {
              "outlinewidth": 0,
              "ticks": ""
             }
            },
            "type": "scatter"
           }
          ],
          "scatter3d": [
           {
            "line": {
             "colorbar": {
              "outlinewidth": 0,
              "ticks": ""
             }
            },
            "marker": {
             "colorbar": {
              "outlinewidth": 0,
              "ticks": ""
             }
            },
            "type": "scatter3d"
           }
          ],
          "scattercarpet": [
           {
            "marker": {
             "colorbar": {
              "outlinewidth": 0,
              "ticks": ""
             }
            },
            "type": "scattercarpet"
           }
          ],
          "scattergeo": [
           {
            "marker": {
             "colorbar": {
              "outlinewidth": 0,
              "ticks": ""
             }
            },
            "type": "scattergeo"
           }
          ],
          "scattergl": [
           {
            "marker": {
             "colorbar": {
              "outlinewidth": 0,
              "ticks": ""
             }
            },
            "type": "scattergl"
           }
          ],
          "scattermapbox": [
           {
            "marker": {
             "colorbar": {
              "outlinewidth": 0,
              "ticks": ""
             }
            },
            "type": "scattermapbox"
           }
          ],
          "scatterpolar": [
           {
            "marker": {
             "colorbar": {
              "outlinewidth": 0,
              "ticks": ""
             }
            },
            "type": "scatterpolar"
           }
          ],
          "scatterpolargl": [
           {
            "marker": {
             "colorbar": {
              "outlinewidth": 0,
              "ticks": ""
             }
            },
            "type": "scatterpolargl"
           }
          ],
          "scatterternary": [
           {
            "marker": {
             "colorbar": {
              "outlinewidth": 0,
              "ticks": ""
             }
            },
            "type": "scatterternary"
           }
          ],
          "surface": [
           {
            "colorbar": {
             "outlinewidth": 0,
             "ticks": ""
            },
            "colorscale": [
             [
              0,
              "#0d0887"
             ],
             [
              0.1111111111111111,
              "#46039f"
             ],
             [
              0.2222222222222222,
              "#7201a8"
             ],
             [
              0.3333333333333333,
              "#9c179e"
             ],
             [
              0.4444444444444444,
              "#bd3786"
             ],
             [
              0.5555555555555556,
              "#d8576b"
             ],
             [
              0.6666666666666666,
              "#ed7953"
             ],
             [
              0.7777777777777778,
              "#fb9f3a"
             ],
             [
              0.8888888888888888,
              "#fdca26"
             ],
             [
              1,
              "#f0f921"
             ]
            ],
            "type": "surface"
           }
          ],
          "table": [
           {
            "cells": {
             "fill": {
              "color": "#EBF0F8"
             },
             "line": {
              "color": "white"
             }
            },
            "header": {
             "fill": {
              "color": "#C8D4E3"
             },
             "line": {
              "color": "white"
             }
            },
            "type": "table"
           }
          ]
         },
         "layout": {
          "annotationdefaults": {
           "arrowcolor": "#2a3f5f",
           "arrowhead": 0,
           "arrowwidth": 1
          },
          "coloraxis": {
           "colorbar": {
            "outlinewidth": 0,
            "ticks": ""
           }
          },
          "colorscale": {
           "diverging": [
            [
             0,
             "#8e0152"
            ],
            [
             0.1,
             "#c51b7d"
            ],
            [
             0.2,
             "#de77ae"
            ],
            [
             0.3,
             "#f1b6da"
            ],
            [
             0.4,
             "#fde0ef"
            ],
            [
             0.5,
             "#f7f7f7"
            ],
            [
             0.6,
             "#e6f5d0"
            ],
            [
             0.7,
             "#b8e186"
            ],
            [
             0.8,
             "#7fbc41"
            ],
            [
             0.9,
             "#4d9221"
            ],
            [
             1,
             "#276419"
            ]
           ],
           "sequential": [
            [
             0,
             "#0d0887"
            ],
            [
             0.1111111111111111,
             "#46039f"
            ],
            [
             0.2222222222222222,
             "#7201a8"
            ],
            [
             0.3333333333333333,
             "#9c179e"
            ],
            [
             0.4444444444444444,
             "#bd3786"
            ],
            [
             0.5555555555555556,
             "#d8576b"
            ],
            [
             0.6666666666666666,
             "#ed7953"
            ],
            [
             0.7777777777777778,
             "#fb9f3a"
            ],
            [
             0.8888888888888888,
             "#fdca26"
            ],
            [
             1,
             "#f0f921"
            ]
           ],
           "sequentialminus": [
            [
             0,
             "#0d0887"
            ],
            [
             0.1111111111111111,
             "#46039f"
            ],
            [
             0.2222222222222222,
             "#7201a8"
            ],
            [
             0.3333333333333333,
             "#9c179e"
            ],
            [
             0.4444444444444444,
             "#bd3786"
            ],
            [
             0.5555555555555556,
             "#d8576b"
            ],
            [
             0.6666666666666666,
             "#ed7953"
            ],
            [
             0.7777777777777778,
             "#fb9f3a"
            ],
            [
             0.8888888888888888,
             "#fdca26"
            ],
            [
             1,
             "#f0f921"
            ]
           ]
          },
          "colorway": [
           "#636efa",
           "#EF553B",
           "#00cc96",
           "#ab63fa",
           "#FFA15A",
           "#19d3f3",
           "#FF6692",
           "#B6E880",
           "#FF97FF",
           "#FECB52"
          ],
          "font": {
           "color": "#2a3f5f"
          },
          "geo": {
           "bgcolor": "white",
           "lakecolor": "white",
           "landcolor": "#E5ECF6",
           "showlakes": true,
           "showland": true,
           "subunitcolor": "white"
          },
          "hoverlabel": {
           "align": "left"
          },
          "hovermode": "closest",
          "mapbox": {
           "style": "light"
          },
          "paper_bgcolor": "white",
          "plot_bgcolor": "#E5ECF6",
          "polar": {
           "angularaxis": {
            "gridcolor": "white",
            "linecolor": "white",
            "ticks": ""
           },
           "bgcolor": "#E5ECF6",
           "radialaxis": {
            "gridcolor": "white",
            "linecolor": "white",
            "ticks": ""
           }
          },
          "scene": {
           "xaxis": {
            "backgroundcolor": "#E5ECF6",
            "gridcolor": "white",
            "gridwidth": 2,
            "linecolor": "white",
            "showbackground": true,
            "ticks": "",
            "zerolinecolor": "white"
           },
           "yaxis": {
            "backgroundcolor": "#E5ECF6",
            "gridcolor": "white",
            "gridwidth": 2,
            "linecolor": "white",
            "showbackground": true,
            "ticks": "",
            "zerolinecolor": "white"
           },
           "zaxis": {
            "backgroundcolor": "#E5ECF6",
            "gridcolor": "white",
            "gridwidth": 2,
            "linecolor": "white",
            "showbackground": true,
            "ticks": "",
            "zerolinecolor": "white"
           }
          },
          "shapedefaults": {
           "line": {
            "color": "#2a3f5f"
           }
          },
          "ternary": {
           "aaxis": {
            "gridcolor": "white",
            "linecolor": "white",
            "ticks": ""
           },
           "baxis": {
            "gridcolor": "white",
            "linecolor": "white",
            "ticks": ""
           },
           "bgcolor": "#E5ECF6",
           "caxis": {
            "gridcolor": "white",
            "linecolor": "white",
            "ticks": ""
           }
          },
          "title": {
           "x": 0.05
          },
          "xaxis": {
           "automargin": true,
           "gridcolor": "white",
           "linecolor": "white",
           "ticks": "",
           "title": {
            "standoff": 15
           },
           "zerolinecolor": "white",
           "zerolinewidth": 2
          },
          "yaxis": {
           "automargin": true,
           "gridcolor": "white",
           "linecolor": "white",
           "ticks": "",
           "title": {
            "standoff": 15
           },
           "zerolinecolor": "white",
           "zerolinewidth": 2
          }
         }
        },
        "title": {
         "text": "Evolution of confirmed cases by country: Top 10",
         "x": 0.5
        },
        "updatemenus": [
         {
          "buttons": [
           {
            "args": [
             null,
             {
              "frame": {
               "duration": 500,
               "redraw": true
              },
              "fromcurrent": true,
              "mode": "immediate",
              "transition": {
               "duration": 500,
               "easing": "linear"
              }
             }
            ],
            "label": "&#9654;",
            "method": "animate"
           },
           {
            "args": [
             [
              null
             ],
             {
              "frame": {
               "duration": 0,
               "redraw": true
              },
              "fromcurrent": true,
              "mode": "immediate",
              "transition": {
               "duration": 0,
               "easing": "linear"
              }
             }
            ],
            "label": "&#9724;",
            "method": "animate"
           }
          ],
          "direction": "left",
          "pad": {
           "r": 10,
           "t": 70
          },
          "showactive": false,
          "type": "buttons",
          "x": 0.1,
          "xanchor": "right",
          "y": 0,
          "yanchor": "top"
         }
        ],
        "xaxis": {
         "anchor": "y",
         "domain": [
          0,
          1
         ],
         "title": {
          "text": "Confirmed cases by country"
         }
        },
        "yaxis": {
         "anchor": "x",
         "categoryorder": "total ascending",
         "domain": [
          0,
          1
         ],
         "title": {
          "text": "Top 10 countries with confirmed cases"
         }
        }
       }
      },
      "text/html": [
       "<div>\n",
       "        \n",
       "        \n",
       "            <div id=\"170e438c-53b6-40ca-840a-fd5f31cb8e16\" class=\"plotly-graph-div\" style=\"height:525px; width:100%;\"></div>\n",
       "            <script type=\"text/javascript\">\n",
       "                require([\"plotly\"], function(Plotly) {\n",
       "                    window.PLOTLYENV=window.PLOTLYENV || {};\n",
       "                    \n",
       "                if (document.getElementById(\"170e438c-53b6-40ca-840a-fd5f31cb8e16\")) {\n",
       "                    Plotly.newPlot(\n",
       "                        '170e438c-53b6-40ca-840a-fd5f31cb8e16',\n",
       "                        [{\"alignmentgroup\": \"True\", \"hoverlabel\": {\"namelength\": 0}, \"hovertemplate\": \"animation_frame=2020-01-22<br>Confirmed cases by country=%{x}<br>Top 10 countries with confirmed cases=%{y}\", \"legendgroup\": \"\", \"marker\": {\"color\": \"#636efa\"}, \"name\": \"\", \"offsetgroup\": \"\", \"orientation\": \"h\", \"showlegend\": false, \"textposition\": \"auto\", \"type\": \"bar\", \"x\": [0, 0, 0, 0, 0, 0, 0, 548, 2, 2], \"xaxis\": \"x\", \"y\": [\"Afghanistan\", \"Albania\", \"Algeria\", \"Andorra\", \"Angola\", \"Antigua and Barbuda\", \"Argentina\", \"China\", \"Japan\", \"Thailand\"], \"yaxis\": \"y\"}],\n",
       "                        {\"barmode\": \"relative\", \"legend\": {\"tracegroupgap\": 0}, \"margin\": {\"t\": 60}, \"sliders\": [{\"active\": 0, \"currentvalue\": {\"prefix\": \"animation_frame=\"}, \"len\": 0.9, \"pad\": {\"b\": 10, \"t\": 60}, \"steps\": [{\"args\": [[\"2020-01-22\"], {\"frame\": {\"duration\": 0, \"redraw\": true}, \"fromcurrent\": true, \"mode\": \"immediate\", \"transition\": {\"duration\": 0, \"easing\": \"linear\"}}], \"label\": \"2020-01-22\", \"method\": \"animate\"}, {\"args\": [[\"2020-01-23\"], {\"frame\": {\"duration\": 0, \"redraw\": true}, \"fromcurrent\": true, \"mode\": \"immediate\", \"transition\": {\"duration\": 0, \"easing\": \"linear\"}}], \"label\": \"2020-01-23\", \"method\": \"animate\"}, {\"args\": [[\"2020-01-24\"], {\"frame\": {\"duration\": 0, \"redraw\": true}, \"fromcurrent\": true, \"mode\": \"immediate\", \"transition\": {\"duration\": 0, \"easing\": \"linear\"}}], \"label\": \"2020-01-24\", \"method\": \"animate\"}, {\"args\": [[\"2020-01-25\"], {\"frame\": {\"duration\": 0, \"redraw\": true}, \"fromcurrent\": true, \"mode\": \"immediate\", \"transition\": {\"duration\": 0, \"easing\": \"linear\"}}], \"label\": \"2020-01-25\", \"method\": \"animate\"}, {\"args\": [[\"2020-01-26\"], {\"frame\": {\"duration\": 0, \"redraw\": true}, \"fromcurrent\": true, \"mode\": \"immediate\", \"transition\": {\"duration\": 0, \"easing\": \"linear\"}}], \"label\": \"2020-01-26\", \"method\": \"animate\"}, {\"args\": [[\"2020-01-27\"], {\"frame\": {\"duration\": 0, \"redraw\": true}, \"fromcurrent\": true, \"mode\": \"immediate\", \"transition\": {\"duration\": 0, \"easing\": \"linear\"}}], \"label\": \"2020-01-27\", \"method\": \"animate\"}, {\"args\": [[\"2020-01-28\"], {\"frame\": {\"duration\": 0, \"redraw\": true}, \"fromcurrent\": true, \"mode\": \"immediate\", \"transition\": {\"duration\": 0, \"easing\": \"linear\"}}], \"label\": \"2020-01-28\", \"method\": \"animate\"}, {\"args\": [[\"2020-01-29\"], {\"frame\": {\"duration\": 0, \"redraw\": true}, \"fromcurrent\": true, \"mode\": \"immediate\", \"transition\": {\"duration\": 0, \"easing\": \"linear\"}}], \"label\": \"2020-01-29\", \"method\": \"animate\"}, {\"args\": [[\"2020-01-30\"], {\"frame\": {\"duration\": 0, \"redraw\": true}, \"fromcurrent\": true, \"mode\": \"immediate\", \"transition\": {\"duration\": 0, \"easing\": \"linear\"}}], \"label\": \"2020-01-30\", \"method\": \"animate\"}, {\"args\": [[\"2020-01-31\"], {\"frame\": {\"duration\": 0, \"redraw\": true}, \"fromcurrent\": true, \"mode\": \"immediate\", \"transition\": {\"duration\": 0, \"easing\": \"linear\"}}], \"label\": \"2020-01-31\", \"method\": \"animate\"}, {\"args\": [[\"2020-02-01\"], {\"frame\": {\"duration\": 0, \"redraw\": true}, \"fromcurrent\": true, \"mode\": \"immediate\", \"transition\": {\"duration\": 0, \"easing\": \"linear\"}}], \"label\": \"2020-02-01\", \"method\": \"animate\"}, {\"args\": [[\"2020-02-02\"], {\"frame\": {\"duration\": 0, \"redraw\": true}, \"fromcurrent\": true, \"mode\": \"immediate\", \"transition\": {\"duration\": 0, \"easing\": \"linear\"}}], \"label\": \"2020-02-02\", \"method\": \"animate\"}, {\"args\": [[\"2020-02-03\"], {\"frame\": {\"duration\": 0, \"redraw\": true}, \"fromcurrent\": true, \"mode\": \"immediate\", \"transition\": {\"duration\": 0, \"easing\": \"linear\"}}], \"label\": \"2020-02-03\", \"method\": \"animate\"}, {\"args\": [[\"2020-02-04\"], {\"frame\": {\"duration\": 0, \"redraw\": true}, \"fromcurrent\": true, \"mode\": \"immediate\", \"transition\": {\"duration\": 0, \"easing\": \"linear\"}}], \"label\": \"2020-02-04\", \"method\": \"animate\"}, {\"args\": [[\"2020-02-05\"], {\"frame\": {\"duration\": 0, \"redraw\": true}, \"fromcurrent\": true, \"mode\": \"immediate\", \"transition\": {\"duration\": 0, \"easing\": \"linear\"}}], \"label\": \"2020-02-05\", \"method\": \"animate\"}, {\"args\": [[\"2020-02-06\"], {\"frame\": {\"duration\": 0, \"redraw\": true}, \"fromcurrent\": true, \"mode\": \"immediate\", \"transition\": {\"duration\": 0, \"easing\": \"linear\"}}], \"label\": \"2020-02-06\", \"method\": \"animate\"}, {\"args\": [[\"2020-02-07\"], {\"frame\": {\"duration\": 0, \"redraw\": true}, \"fromcurrent\": true, \"mode\": \"immediate\", \"transition\": {\"duration\": 0, \"easing\": \"linear\"}}], \"label\": \"2020-02-07\", \"method\": \"animate\"}, {\"args\": [[\"2020-02-08\"], {\"frame\": {\"duration\": 0, \"redraw\": true}, \"fromcurrent\": true, \"mode\": \"immediate\", \"transition\": {\"duration\": 0, \"easing\": \"linear\"}}], \"label\": \"2020-02-08\", \"method\": \"animate\"}, {\"args\": [[\"2020-02-09\"], {\"frame\": {\"duration\": 0, \"redraw\": true}, \"fromcurrent\": true, \"mode\": \"immediate\", \"transition\": {\"duration\": 0, \"easing\": \"linear\"}}], \"label\": \"2020-02-09\", \"method\": \"animate\"}, {\"args\": [[\"2020-02-10\"], {\"frame\": {\"duration\": 0, \"redraw\": true}, \"fromcurrent\": true, \"mode\": \"immediate\", \"transition\": {\"duration\": 0, \"easing\": \"linear\"}}], \"label\": \"2020-02-10\", \"method\": \"animate\"}, {\"args\": [[\"2020-02-11\"], {\"frame\": {\"duration\": 0, \"redraw\": true}, \"fromcurrent\": true, \"mode\": \"immediate\", \"transition\": {\"duration\": 0, \"easing\": \"linear\"}}], \"label\": \"2020-02-11\", \"method\": \"animate\"}, {\"args\": [[\"2020-02-12\"], {\"frame\": {\"duration\": 0, \"redraw\": true}, \"fromcurrent\": true, \"mode\": \"immediate\", \"transition\": {\"duration\": 0, \"easing\": \"linear\"}}], \"label\": \"2020-02-12\", \"method\": \"animate\"}, {\"args\": [[\"2020-02-13\"], {\"frame\": {\"duration\": 0, \"redraw\": true}, \"fromcurrent\": true, \"mode\": \"immediate\", \"transition\": {\"duration\": 0, \"easing\": \"linear\"}}], \"label\": \"2020-02-13\", \"method\": \"animate\"}, {\"args\": [[\"2020-02-14\"], {\"frame\": {\"duration\": 0, \"redraw\": true}, \"fromcurrent\": true, \"mode\": \"immediate\", \"transition\": {\"duration\": 0, \"easing\": \"linear\"}}], \"label\": \"2020-02-14\", \"method\": \"animate\"}, {\"args\": [[\"2020-02-15\"], {\"frame\": {\"duration\": 0, \"redraw\": true}, \"fromcurrent\": true, \"mode\": \"immediate\", \"transition\": {\"duration\": 0, \"easing\": \"linear\"}}], \"label\": \"2020-02-15\", \"method\": \"animate\"}, {\"args\": [[\"2020-02-16\"], {\"frame\": {\"duration\": 0, \"redraw\": true}, \"fromcurrent\": true, \"mode\": \"immediate\", \"transition\": {\"duration\": 0, \"easing\": \"linear\"}}], \"label\": \"2020-02-16\", \"method\": \"animate\"}, {\"args\": [[\"2020-02-17\"], {\"frame\": {\"duration\": 0, \"redraw\": true}, \"fromcurrent\": true, \"mode\": \"immediate\", \"transition\": {\"duration\": 0, \"easing\": \"linear\"}}], \"label\": \"2020-02-17\", \"method\": \"animate\"}, {\"args\": [[\"2020-02-18\"], {\"frame\": {\"duration\": 0, \"redraw\": true}, \"fromcurrent\": true, \"mode\": \"immediate\", \"transition\": {\"duration\": 0, \"easing\": \"linear\"}}], \"label\": \"2020-02-18\", \"method\": \"animate\"}, {\"args\": [[\"2020-02-19\"], {\"frame\": {\"duration\": 0, \"redraw\": true}, \"fromcurrent\": true, \"mode\": \"immediate\", \"transition\": {\"duration\": 0, \"easing\": \"linear\"}}], \"label\": \"2020-02-19\", \"method\": \"animate\"}, {\"args\": [[\"2020-02-20\"], {\"frame\": {\"duration\": 0, \"redraw\": true}, \"fromcurrent\": true, \"mode\": \"immediate\", \"transition\": {\"duration\": 0, \"easing\": \"linear\"}}], \"label\": \"2020-02-20\", \"method\": \"animate\"}, {\"args\": [[\"2020-02-21\"], {\"frame\": {\"duration\": 0, \"redraw\": true}, \"fromcurrent\": true, \"mode\": \"immediate\", \"transition\": {\"duration\": 0, \"easing\": \"linear\"}}], \"label\": \"2020-02-21\", \"method\": \"animate\"}, {\"args\": [[\"2020-02-22\"], {\"frame\": {\"duration\": 0, \"redraw\": true}, \"fromcurrent\": true, \"mode\": \"immediate\", \"transition\": {\"duration\": 0, \"easing\": \"linear\"}}], \"label\": \"2020-02-22\", \"method\": \"animate\"}, {\"args\": [[\"2020-02-23\"], {\"frame\": {\"duration\": 0, \"redraw\": true}, \"fromcurrent\": true, \"mode\": \"immediate\", \"transition\": {\"duration\": 0, \"easing\": \"linear\"}}], \"label\": \"2020-02-23\", \"method\": \"animate\"}, {\"args\": [[\"2020-02-24\"], {\"frame\": {\"duration\": 0, \"redraw\": true}, \"fromcurrent\": true, \"mode\": \"immediate\", \"transition\": {\"duration\": 0, \"easing\": \"linear\"}}], \"label\": \"2020-02-24\", \"method\": \"animate\"}, {\"args\": [[\"2020-02-25\"], {\"frame\": {\"duration\": 0, \"redraw\": true}, \"fromcurrent\": true, \"mode\": \"immediate\", \"transition\": {\"duration\": 0, \"easing\": \"linear\"}}], \"label\": \"2020-02-25\", \"method\": \"animate\"}, {\"args\": [[\"2020-02-26\"], {\"frame\": {\"duration\": 0, \"redraw\": true}, \"fromcurrent\": true, \"mode\": \"immediate\", \"transition\": {\"duration\": 0, \"easing\": \"linear\"}}], \"label\": \"2020-02-26\", \"method\": \"animate\"}, {\"args\": [[\"2020-02-27\"], {\"frame\": {\"duration\": 0, \"redraw\": true}, \"fromcurrent\": true, \"mode\": \"immediate\", \"transition\": {\"duration\": 0, \"easing\": \"linear\"}}], \"label\": \"2020-02-27\", \"method\": \"animate\"}, {\"args\": [[\"2020-02-28\"], {\"frame\": {\"duration\": 0, \"redraw\": true}, \"fromcurrent\": true, \"mode\": \"immediate\", \"transition\": {\"duration\": 0, \"easing\": \"linear\"}}], \"label\": \"2020-02-28\", \"method\": \"animate\"}, {\"args\": [[\"2020-02-29\"], {\"frame\": {\"duration\": 0, \"redraw\": true}, \"fromcurrent\": true, \"mode\": \"immediate\", \"transition\": {\"duration\": 0, \"easing\": \"linear\"}}], \"label\": \"2020-02-29\", \"method\": \"animate\"}, {\"args\": [[\"2020-03-01\"], {\"frame\": {\"duration\": 0, \"redraw\": true}, \"fromcurrent\": true, \"mode\": \"immediate\", \"transition\": {\"duration\": 0, \"easing\": \"linear\"}}], \"label\": \"2020-03-01\", \"method\": \"animate\"}, {\"args\": [[\"2020-03-02\"], {\"frame\": {\"duration\": 0, \"redraw\": true}, \"fromcurrent\": true, \"mode\": \"immediate\", \"transition\": {\"duration\": 0, \"easing\": \"linear\"}}], \"label\": \"2020-03-02\", \"method\": \"animate\"}, {\"args\": [[\"2020-03-03\"], {\"frame\": {\"duration\": 0, \"redraw\": true}, \"fromcurrent\": true, \"mode\": \"immediate\", \"transition\": {\"duration\": 0, \"easing\": \"linear\"}}], \"label\": \"2020-03-03\", \"method\": \"animate\"}, {\"args\": [[\"2020-03-04\"], {\"frame\": {\"duration\": 0, \"redraw\": true}, \"fromcurrent\": true, \"mode\": \"immediate\", \"transition\": {\"duration\": 0, \"easing\": \"linear\"}}], \"label\": \"2020-03-04\", \"method\": \"animate\"}, {\"args\": [[\"2020-03-05\"], {\"frame\": {\"duration\": 0, \"redraw\": true}, \"fromcurrent\": true, \"mode\": \"immediate\", \"transition\": {\"duration\": 0, \"easing\": \"linear\"}}], \"label\": \"2020-03-05\", \"method\": \"animate\"}, {\"args\": [[\"2020-03-06\"], {\"frame\": {\"duration\": 0, \"redraw\": true}, \"fromcurrent\": true, \"mode\": \"immediate\", \"transition\": {\"duration\": 0, \"easing\": \"linear\"}}], \"label\": \"2020-03-06\", \"method\": \"animate\"}, {\"args\": [[\"2020-03-07\"], {\"frame\": {\"duration\": 0, \"redraw\": true}, \"fromcurrent\": true, \"mode\": \"immediate\", \"transition\": {\"duration\": 0, \"easing\": \"linear\"}}], \"label\": \"2020-03-07\", \"method\": \"animate\"}, {\"args\": [[\"2020-03-08\"], {\"frame\": {\"duration\": 0, \"redraw\": true}, \"fromcurrent\": true, \"mode\": \"immediate\", \"transition\": {\"duration\": 0, \"easing\": \"linear\"}}], \"label\": \"2020-03-08\", \"method\": \"animate\"}, {\"args\": [[\"2020-03-09\"], {\"frame\": {\"duration\": 0, \"redraw\": true}, \"fromcurrent\": true, \"mode\": \"immediate\", \"transition\": {\"duration\": 0, \"easing\": \"linear\"}}], \"label\": \"2020-03-09\", \"method\": \"animate\"}, {\"args\": [[\"2020-03-10\"], {\"frame\": {\"duration\": 0, \"redraw\": true}, \"fromcurrent\": true, \"mode\": \"immediate\", \"transition\": {\"duration\": 0, \"easing\": \"linear\"}}], \"label\": \"2020-03-10\", \"method\": \"animate\"}, {\"args\": [[\"2020-03-11\"], {\"frame\": {\"duration\": 0, \"redraw\": true}, \"fromcurrent\": true, \"mode\": \"immediate\", \"transition\": {\"duration\": 0, \"easing\": \"linear\"}}], \"label\": \"2020-03-11\", \"method\": \"animate\"}, {\"args\": [[\"2020-03-12\"], {\"frame\": {\"duration\": 0, \"redraw\": true}, \"fromcurrent\": true, \"mode\": \"immediate\", \"transition\": {\"duration\": 0, \"easing\": \"linear\"}}], \"label\": \"2020-03-12\", \"method\": \"animate\"}, {\"args\": [[\"2020-03-13\"], {\"frame\": {\"duration\": 0, \"redraw\": true}, \"fromcurrent\": true, \"mode\": \"immediate\", \"transition\": {\"duration\": 0, \"easing\": \"linear\"}}], \"label\": \"2020-03-13\", \"method\": \"animate\"}, {\"args\": [[\"2020-03-14\"], {\"frame\": {\"duration\": 0, \"redraw\": true}, \"fromcurrent\": true, \"mode\": \"immediate\", \"transition\": {\"duration\": 0, \"easing\": \"linear\"}}], \"label\": \"2020-03-14\", \"method\": \"animate\"}, {\"args\": [[\"2020-03-15\"], {\"frame\": {\"duration\": 0, \"redraw\": true}, \"fromcurrent\": true, \"mode\": \"immediate\", \"transition\": {\"duration\": 0, \"easing\": \"linear\"}}], \"label\": \"2020-03-15\", \"method\": \"animate\"}, {\"args\": [[\"2020-03-16\"], {\"frame\": {\"duration\": 0, \"redraw\": true}, \"fromcurrent\": true, \"mode\": \"immediate\", \"transition\": {\"duration\": 0, \"easing\": \"linear\"}}], \"label\": \"2020-03-16\", \"method\": \"animate\"}, {\"args\": [[\"2020-03-17\"], {\"frame\": {\"duration\": 0, \"redraw\": true}, \"fromcurrent\": true, \"mode\": \"immediate\", \"transition\": {\"duration\": 0, \"easing\": \"linear\"}}], \"label\": \"2020-03-17\", \"method\": \"animate\"}, {\"args\": [[\"2020-03-18\"], {\"frame\": {\"duration\": 0, \"redraw\": true}, \"fromcurrent\": true, \"mode\": \"immediate\", \"transition\": {\"duration\": 0, \"easing\": \"linear\"}}], \"label\": \"2020-03-18\", \"method\": \"animate\"}, {\"args\": [[\"2020-03-19\"], {\"frame\": {\"duration\": 0, \"redraw\": true}, \"fromcurrent\": true, \"mode\": \"immediate\", \"transition\": {\"duration\": 0, \"easing\": \"linear\"}}], \"label\": \"2020-03-19\", \"method\": \"animate\"}, {\"args\": [[\"2020-03-20\"], {\"frame\": {\"duration\": 0, \"redraw\": true}, \"fromcurrent\": true, \"mode\": \"immediate\", \"transition\": {\"duration\": 0, \"easing\": \"linear\"}}], \"label\": \"2020-03-20\", \"method\": \"animate\"}, {\"args\": [[\"2020-03-21\"], {\"frame\": {\"duration\": 0, \"redraw\": true}, \"fromcurrent\": true, \"mode\": \"immediate\", \"transition\": {\"duration\": 0, \"easing\": \"linear\"}}], \"label\": \"2020-03-21\", \"method\": \"animate\"}], \"x\": 0.1, \"xanchor\": \"left\", \"y\": 0, \"yanchor\": \"top\"}], \"template\": {\"data\": {\"bar\": [{\"error_x\": {\"color\": \"#2a3f5f\"}, \"error_y\": {\"color\": \"#2a3f5f\"}, \"marker\": {\"line\": {\"color\": \"#E5ECF6\", \"width\": 0.5}}, \"type\": \"bar\"}], \"barpolar\": [{\"marker\": {\"line\": {\"color\": \"#E5ECF6\", \"width\": 0.5}}, \"type\": \"barpolar\"}], \"carpet\": [{\"aaxis\": {\"endlinecolor\": \"#2a3f5f\", \"gridcolor\": \"white\", \"linecolor\": \"white\", \"minorgridcolor\": \"white\", \"startlinecolor\": \"#2a3f5f\"}, \"baxis\": {\"endlinecolor\": \"#2a3f5f\", \"gridcolor\": \"white\", \"linecolor\": \"white\", \"minorgridcolor\": \"white\", \"startlinecolor\": \"#2a3f5f\"}, \"type\": \"carpet\"}], \"choropleth\": [{\"colorbar\": {\"outlinewidth\": 0, \"ticks\": \"\"}, \"type\": \"choropleth\"}], \"contour\": [{\"colorbar\": {\"outlinewidth\": 0, \"ticks\": \"\"}, \"colorscale\": [[0.0, \"#0d0887\"], [0.1111111111111111, \"#46039f\"], [0.2222222222222222, \"#7201a8\"], [0.3333333333333333, \"#9c179e\"], [0.4444444444444444, \"#bd3786\"], [0.5555555555555556, \"#d8576b\"], [0.6666666666666666, \"#ed7953\"], [0.7777777777777778, \"#fb9f3a\"], [0.8888888888888888, \"#fdca26\"], [1.0, \"#f0f921\"]], \"type\": \"contour\"}], \"contourcarpet\": [{\"colorbar\": {\"outlinewidth\": 0, \"ticks\": \"\"}, \"type\": \"contourcarpet\"}], \"heatmap\": [{\"colorbar\": {\"outlinewidth\": 0, \"ticks\": \"\"}, \"colorscale\": [[0.0, \"#0d0887\"], [0.1111111111111111, \"#46039f\"], [0.2222222222222222, \"#7201a8\"], [0.3333333333333333, \"#9c179e\"], [0.4444444444444444, \"#bd3786\"], [0.5555555555555556, \"#d8576b\"], [0.6666666666666666, \"#ed7953\"], [0.7777777777777778, \"#fb9f3a\"], [0.8888888888888888, \"#fdca26\"], [1.0, \"#f0f921\"]], \"type\": \"heatmap\"}], \"heatmapgl\": [{\"colorbar\": {\"outlinewidth\": 0, \"ticks\": \"\"}, \"colorscale\": [[0.0, \"#0d0887\"], [0.1111111111111111, \"#46039f\"], [0.2222222222222222, \"#7201a8\"], [0.3333333333333333, \"#9c179e\"], [0.4444444444444444, \"#bd3786\"], [0.5555555555555556, \"#d8576b\"], [0.6666666666666666, \"#ed7953\"], [0.7777777777777778, \"#fb9f3a\"], [0.8888888888888888, \"#fdca26\"], [1.0, \"#f0f921\"]], \"type\": \"heatmapgl\"}], \"histogram\": [{\"marker\": {\"colorbar\": {\"outlinewidth\": 0, \"ticks\": \"\"}}, \"type\": \"histogram\"}], \"histogram2d\": [{\"colorbar\": {\"outlinewidth\": 0, \"ticks\": \"\"}, \"colorscale\": [[0.0, \"#0d0887\"], [0.1111111111111111, \"#46039f\"], [0.2222222222222222, \"#7201a8\"], [0.3333333333333333, \"#9c179e\"], [0.4444444444444444, \"#bd3786\"], [0.5555555555555556, \"#d8576b\"], [0.6666666666666666, \"#ed7953\"], [0.7777777777777778, \"#fb9f3a\"], [0.8888888888888888, \"#fdca26\"], [1.0, \"#f0f921\"]], \"type\": \"histogram2d\"}], \"histogram2dcontour\": [{\"colorbar\": {\"outlinewidth\": 0, \"ticks\": \"\"}, \"colorscale\": [[0.0, \"#0d0887\"], [0.1111111111111111, \"#46039f\"], [0.2222222222222222, \"#7201a8\"], [0.3333333333333333, \"#9c179e\"], [0.4444444444444444, \"#bd3786\"], [0.5555555555555556, \"#d8576b\"], [0.6666666666666666, \"#ed7953\"], [0.7777777777777778, \"#fb9f3a\"], [0.8888888888888888, \"#fdca26\"], [1.0, \"#f0f921\"]], \"type\": \"histogram2dcontour\"}], \"mesh3d\": [{\"colorbar\": {\"outlinewidth\": 0, \"ticks\": \"\"}, \"type\": \"mesh3d\"}], \"parcoords\": [{\"line\": {\"colorbar\": {\"outlinewidth\": 0, \"ticks\": \"\"}}, \"type\": \"parcoords\"}], \"pie\": [{\"automargin\": true, \"type\": \"pie\"}], \"scatter\": [{\"marker\": {\"colorbar\": {\"outlinewidth\": 0, \"ticks\": \"\"}}, \"type\": \"scatter\"}], \"scatter3d\": [{\"line\": {\"colorbar\": {\"outlinewidth\": 0, \"ticks\": \"\"}}, \"marker\": {\"colorbar\": {\"outlinewidth\": 0, \"ticks\": \"\"}}, \"type\": \"scatter3d\"}], \"scattercarpet\": [{\"marker\": {\"colorbar\": {\"outlinewidth\": 0, \"ticks\": \"\"}}, \"type\": \"scattercarpet\"}], \"scattergeo\": [{\"marker\": {\"colorbar\": {\"outlinewidth\": 0, \"ticks\": \"\"}}, \"type\": \"scattergeo\"}], \"scattergl\": [{\"marker\": {\"colorbar\": {\"outlinewidth\": 0, \"ticks\": \"\"}}, \"type\": \"scattergl\"}], \"scattermapbox\": [{\"marker\": {\"colorbar\": {\"outlinewidth\": 0, \"ticks\": \"\"}}, \"type\": \"scattermapbox\"}], \"scatterpolar\": [{\"marker\": {\"colorbar\": {\"outlinewidth\": 0, \"ticks\": \"\"}}, \"type\": \"scatterpolar\"}], \"scatterpolargl\": [{\"marker\": {\"colorbar\": {\"outlinewidth\": 0, \"ticks\": \"\"}}, \"type\": \"scatterpolargl\"}], \"scatterternary\": [{\"marker\": {\"colorbar\": {\"outlinewidth\": 0, \"ticks\": \"\"}}, \"type\": \"scatterternary\"}], \"surface\": [{\"colorbar\": {\"outlinewidth\": 0, \"ticks\": \"\"}, \"colorscale\": [[0.0, \"#0d0887\"], [0.1111111111111111, \"#46039f\"], [0.2222222222222222, \"#7201a8\"], [0.3333333333333333, \"#9c179e\"], [0.4444444444444444, \"#bd3786\"], [0.5555555555555556, \"#d8576b\"], [0.6666666666666666, \"#ed7953\"], [0.7777777777777778, \"#fb9f3a\"], [0.8888888888888888, \"#fdca26\"], [1.0, \"#f0f921\"]], \"type\": \"surface\"}], \"table\": [{\"cells\": {\"fill\": {\"color\": \"#EBF0F8\"}, \"line\": {\"color\": \"white\"}}, \"header\": {\"fill\": {\"color\": \"#C8D4E3\"}, \"line\": {\"color\": \"white\"}}, \"type\": \"table\"}]}, \"layout\": {\"annotationdefaults\": {\"arrowcolor\": \"#2a3f5f\", \"arrowhead\": 0, \"arrowwidth\": 1}, \"coloraxis\": {\"colorbar\": {\"outlinewidth\": 0, \"ticks\": \"\"}}, \"colorscale\": {\"diverging\": [[0, \"#8e0152\"], [0.1, \"#c51b7d\"], [0.2, \"#de77ae\"], [0.3, \"#f1b6da\"], [0.4, \"#fde0ef\"], [0.5, \"#f7f7f7\"], [0.6, \"#e6f5d0\"], [0.7, \"#b8e186\"], [0.8, \"#7fbc41\"], [0.9, \"#4d9221\"], [1, \"#276419\"]], \"sequential\": [[0.0, \"#0d0887\"], [0.1111111111111111, \"#46039f\"], [0.2222222222222222, \"#7201a8\"], [0.3333333333333333, \"#9c179e\"], [0.4444444444444444, \"#bd3786\"], [0.5555555555555556, \"#d8576b\"], [0.6666666666666666, \"#ed7953\"], [0.7777777777777778, \"#fb9f3a\"], [0.8888888888888888, \"#fdca26\"], [1.0, \"#f0f921\"]], \"sequentialminus\": [[0.0, \"#0d0887\"], [0.1111111111111111, \"#46039f\"], [0.2222222222222222, \"#7201a8\"], [0.3333333333333333, \"#9c179e\"], [0.4444444444444444, \"#bd3786\"], [0.5555555555555556, \"#d8576b\"], [0.6666666666666666, \"#ed7953\"], [0.7777777777777778, \"#fb9f3a\"], [0.8888888888888888, \"#fdca26\"], [1.0, \"#f0f921\"]]}, \"colorway\": [\"#636efa\", \"#EF553B\", \"#00cc96\", \"#ab63fa\", \"#FFA15A\", \"#19d3f3\", \"#FF6692\", \"#B6E880\", \"#FF97FF\", \"#FECB52\"], \"font\": {\"color\": \"#2a3f5f\"}, \"geo\": {\"bgcolor\": \"white\", \"lakecolor\": \"white\", \"landcolor\": \"#E5ECF6\", \"showlakes\": true, \"showland\": true, \"subunitcolor\": \"white\"}, \"hoverlabel\": {\"align\": \"left\"}, \"hovermode\": \"closest\", \"mapbox\": {\"style\": \"light\"}, \"paper_bgcolor\": \"white\", \"plot_bgcolor\": \"#E5ECF6\", \"polar\": {\"angularaxis\": {\"gridcolor\": \"white\", \"linecolor\": \"white\", \"ticks\": \"\"}, \"bgcolor\": \"#E5ECF6\", \"radialaxis\": {\"gridcolor\": \"white\", \"linecolor\": \"white\", \"ticks\": \"\"}}, \"scene\": {\"xaxis\": {\"backgroundcolor\": \"#E5ECF6\", \"gridcolor\": \"white\", \"gridwidth\": 2, \"linecolor\": \"white\", \"showbackground\": true, \"ticks\": \"\", \"zerolinecolor\": \"white\"}, \"yaxis\": {\"backgroundcolor\": \"#E5ECF6\", \"gridcolor\": \"white\", \"gridwidth\": 2, \"linecolor\": \"white\", \"showbackground\": true, \"ticks\": \"\", \"zerolinecolor\": \"white\"}, \"zaxis\": {\"backgroundcolor\": \"#E5ECF6\", \"gridcolor\": \"white\", \"gridwidth\": 2, \"linecolor\": \"white\", \"showbackground\": true, \"ticks\": \"\", \"zerolinecolor\": \"white\"}}, \"shapedefaults\": {\"line\": {\"color\": \"#2a3f5f\"}}, \"ternary\": {\"aaxis\": {\"gridcolor\": \"white\", \"linecolor\": \"white\", \"ticks\": \"\"}, \"baxis\": {\"gridcolor\": \"white\", \"linecolor\": \"white\", \"ticks\": \"\"}, \"bgcolor\": \"#E5ECF6\", \"caxis\": {\"gridcolor\": \"white\", \"linecolor\": \"white\", \"ticks\": \"\"}}, \"title\": {\"x\": 0.05}, \"xaxis\": {\"automargin\": true, \"gridcolor\": \"white\", \"linecolor\": \"white\", \"ticks\": \"\", \"title\": {\"standoff\": 15}, \"zerolinecolor\": \"white\", \"zerolinewidth\": 2}, \"yaxis\": {\"automargin\": true, \"gridcolor\": \"white\", \"linecolor\": \"white\", \"ticks\": \"\", \"title\": {\"standoff\": 15}, \"zerolinecolor\": \"white\", \"zerolinewidth\": 2}}}, \"title\": {\"text\": \"Evolution of confirmed cases by country: Top 10\", \"x\": 0.5}, \"updatemenus\": [{\"buttons\": [{\"args\": [null, {\"frame\": {\"duration\": 500, \"redraw\": true}, \"fromcurrent\": true, \"mode\": \"immediate\", \"transition\": {\"duration\": 500, \"easing\": \"linear\"}}], \"label\": \"&#9654;\", \"method\": \"animate\"}, {\"args\": [[null], {\"frame\": {\"duration\": 0, \"redraw\": true}, \"fromcurrent\": true, \"mode\": \"immediate\", \"transition\": {\"duration\": 0, \"easing\": \"linear\"}}], \"label\": \"&#9724;\", \"method\": \"animate\"}], \"direction\": \"left\", \"pad\": {\"r\": 10, \"t\": 70}, \"showactive\": false, \"type\": \"buttons\", \"x\": 0.1, \"xanchor\": \"right\", \"y\": 0, \"yanchor\": \"top\"}], \"xaxis\": {\"anchor\": \"y\", \"domain\": [0.0, 1.0], \"title\": {\"text\": \"Confirmed cases by country\"}}, \"yaxis\": {\"anchor\": \"x\", \"categoryorder\": \"total ascending\", \"domain\": [0.0, 1.0], \"title\": {\"text\": \"Top 10 countries with confirmed cases\"}}},\n",
       "                        {\"responsive\": true}\n",
       "                    ).then(function(){\n",
       "                            Plotly.addFrames('170e438c-53b6-40ca-840a-fd5f31cb8e16', [{\"data\": [{\"alignmentgroup\": \"True\", \"hoverlabel\": {\"namelength\": 0}, \"hovertemplate\": \"animation_frame=2020-01-22<br>Confirmed cases by country=%{x}<br>Top 10 countries with confirmed cases=%{y}\", \"legendgroup\": \"\", \"marker\": {\"color\": \"#636efa\"}, \"name\": \"\", \"offsetgroup\": \"\", \"orientation\": \"h\", \"showlegend\": false, \"textposition\": \"auto\", \"x\": [0, 0, 0, 0, 0, 0, 0, 548, 2, 2], \"xaxis\": \"x\", \"y\": [\"Afghanistan\", \"Albania\", \"Algeria\", \"Andorra\", \"Angola\", \"Antigua and Barbuda\", \"Argentina\", \"China\", \"Japan\", \"Thailand\"], \"yaxis\": \"y\", \"type\": \"bar\"}], \"name\": \"2020-01-22\"}, {\"data\": [{\"alignmentgroup\": \"True\", \"hoverlabel\": {\"namelength\": 0}, \"hovertemplate\": \"animation_frame=2020-01-23<br>Confirmed cases by country=%{x}<br>Top 10 countries with confirmed cases=%{y}\", \"legendgroup\": \"\", \"marker\": {\"color\": \"#636efa\"}, \"name\": \"\", \"offsetgroup\": \"\", \"orientation\": \"h\", \"showlegend\": false, \"textposition\": \"auto\", \"x\": [0, 0, 0, 0, 12, 631, 1, 1, 3, 2], \"xaxis\": \"x\", \"y\": [\"Afghanistan\", \"Albania\", \"Algeria\", \"Andorra\", \"China\", \"China\", \"Japan\", \"Singapore\", \"Thailand\", \"Vietnam\"], \"yaxis\": \"y\", \"type\": \"bar\"}], \"name\": \"2020-01-23\"}, {\"data\": [{\"alignmentgroup\": \"True\", \"hoverlabel\": {\"namelength\": 0}, \"hovertemplate\": \"animation_frame=2020-01-24<br>Confirmed cases by country=%{x}<br>Top 10 countries with confirmed cases=%{y}\", \"legendgroup\": \"\", \"marker\": {\"color\": \"#636efa\"}, \"name\": \"\", \"offsetgroup\": \"\", \"orientation\": \"h\", \"showlegend\": false, \"textposition\": \"auto\", \"x\": [0, 0, 1, 18, 901, 2, 2, 3, 5, 2], \"xaxis\": \"x\", \"y\": [\"Afghanistan\", \"Albania\", \"China\", \"China\", \"China\", \"France\", \"Japan\", \"Singapore\", \"Thailand\", \"Vietnam\"], \"yaxis\": \"y\", \"type\": \"bar\"}], \"name\": \"2020-01-24\"}, {\"data\": [{\"alignmentgroup\": \"True\", \"hoverlabel\": {\"namelength\": 0}, \"hovertemplate\": \"animation_frame=2020-01-25<br>Confirmed cases by country=%{x}<br>Top 10 countries with confirmed cases=%{y}\", \"legendgroup\": \"\", \"marker\": {\"color\": \"#636efa\"}, \"name\": \"\", \"offsetgroup\": \"\", \"orientation\": \"h\", \"showlegend\": false, \"textposition\": \"auto\", \"x\": [1, 7, 40, 1358, 3, 2, 3, 3, 7, 2], \"xaxis\": \"x\", \"y\": [\"China\", \"China\", \"China\", \"China\", \"France\", \"Japan\", \"Malaysia\", \"Singapore\", \"Thailand\", \"Vietnam\"], \"yaxis\": \"y\", \"type\": \"bar\"}], \"name\": \"2020-01-25\"}, {\"data\": [{\"alignmentgroup\": \"True\", \"hoverlabel\": {\"namelength\": 0}, \"hovertemplate\": \"animation_frame=2020-01-26<br>Confirmed cases by country=%{x}<br>Top 10 countries with confirmed cases=%{y}\", \"legendgroup\": \"\", \"marker\": {\"color\": \"#636efa\"}, \"name\": \"\", \"offsetgroup\": \"\", \"orientation\": \"h\", \"showlegend\": false, \"textposition\": \"auto\", \"x\": [4, 7, 60, 2007, 3, 4, 4, 4, 8, 2], \"xaxis\": \"x\", \"y\": [\"Australia\", \"China\", \"China\", \"China\", \"France\", \"Japan\", \"Malaysia\", \"Singapore\", \"Thailand\", \"Vietnam\"], \"yaxis\": \"y\", \"type\": \"bar\"}], \"name\": \"2020-01-26\"}, {\"data\": [{\"alignmentgroup\": \"True\", \"hoverlabel\": {\"namelength\": 0}, \"hovertemplate\": \"animation_frame=2020-01-27<br>Confirmed cases by country=%{x}<br>Top 10 countries with confirmed cases=%{y}\", \"legendgroup\": \"\", \"marker\": {\"color\": \"#636efa\"}, \"name\": \"\", \"offsetgroup\": \"\", \"orientation\": \"h\", \"showlegend\": false, \"textposition\": \"auto\", \"x\": [5, 6, 11, 89, 2771, 3, 4, 4, 5, 8], \"xaxis\": \"x\", \"y\": [\"Australia\", \"China\", \"China\", \"China\", \"China\", \"France\", \"Japan\", \"Malaysia\", \"Singapore\", \"Thailand\"], \"yaxis\": \"y\", \"type\": \"bar\"}], \"name\": \"2020-01-27\"}, {\"data\": [{\"alignmentgroup\": \"True\", \"hoverlabel\": {\"namelength\": 0}, \"hovertemplate\": \"animation_frame=2020-01-28<br>Confirmed cases by country=%{x}<br>Top 10 countries with confirmed cases=%{y}\", \"legendgroup\": \"\", \"marker\": {\"color\": \"#636efa\"}, \"name\": \"\", \"offsetgroup\": \"\", \"orientation\": \"h\", \"showlegend\": false, \"textposition\": \"auto\", \"x\": [5, 6, 15, 124, 5364, 4, 4, 7, 7, 14], \"xaxis\": \"x\", \"y\": [\"Australia\", \"China\", \"China\", \"China\", \"China\", \"France\", \"Germany\", \"Japan\", \"Singapore\", \"Thailand\"], \"yaxis\": \"y\", \"type\": \"bar\"}], \"name\": \"2020-01-28\"}, {\"data\": [{\"alignmentgroup\": \"True\", \"hoverlabel\": {\"namelength\": 0}, \"hovertemplate\": \"animation_frame=2020-01-29<br>Confirmed cases by country=%{x}<br>Top 10 countries with confirmed cases=%{y}\", \"legendgroup\": \"\", \"marker\": {\"color\": \"#636efa\"}, \"name\": \"\", \"offsetgroup\": \"\", \"orientation\": \"h\", \"showlegend\": false, \"textposition\": \"auto\", \"x\": [5, 6, 16, 150, 5915, 5, 7, 7, 7, 14], \"xaxis\": \"x\", \"y\": [\"Australia\", \"China\", \"China\", \"China\", \"China\", \"France\", \"Japan\", \"Malaysia\", \"Singapore\", \"Thailand\"], \"yaxis\": \"y\", \"type\": \"bar\"}], \"name\": \"2020-01-29\"}, {\"data\": [{\"alignmentgroup\": \"True\", \"hoverlabel\": {\"namelength\": 0}, \"hovertemplate\": \"animation_frame=2020-01-30<br>Confirmed cases by country=%{x}<br>Top 10 countries with confirmed cases=%{y}\", \"legendgroup\": \"\", \"marker\": {\"color\": \"#636efa\"}, \"name\": \"\", \"offsetgroup\": \"\", \"orientation\": \"h\", \"showlegend\": false, \"textposition\": \"auto\", \"x\": [6, 8, 19, 171, 7942, 5, 11, 8, 10, 14], \"xaxis\": \"x\", \"y\": [\"Australia\", \"China\", \"China\", \"China\", \"China\", \"France\", \"Japan\", \"Malaysia\", \"Singapore\", \"Thailand\"], \"yaxis\": \"y\", \"type\": \"bar\"}], \"name\": \"2020-01-30\"}, {\"data\": [{\"alignmentgroup\": \"True\", \"hoverlabel\": {\"namelength\": 0}, \"hovertemplate\": \"animation_frame=2020-01-31<br>Confirmed cases by country=%{x}<br>Top 10 countries with confirmed cases=%{y}\", \"legendgroup\": \"\", \"marker\": {\"color\": \"#636efa\"}, \"name\": \"\", \"offsetgroup\": \"\", \"orientation\": \"h\", \"showlegend\": false, \"textposition\": \"auto\", \"x\": [7, 8, 20, 218, 9555, 5, 15, 8, 13, 19], \"xaxis\": \"x\", \"y\": [\"Australia\", \"China\", \"China\", \"China\", \"China\", \"France\", \"Japan\", \"Malaysia\", \"Singapore\", \"Thailand\"], \"yaxis\": \"y\", \"type\": \"bar\"}], \"name\": \"2020-01-31\"}, {\"data\": [{\"alignmentgroup\": \"True\", \"hoverlabel\": {\"namelength\": 0}, \"hovertemplate\": \"animation_frame=2020-02-01<br>Confirmed cases by country=%{x}<br>Top 10 countries with confirmed cases=%{y}\", \"legendgroup\": \"\", \"marker\": {\"color\": \"#636efa\"}, \"name\": \"\", \"offsetgroup\": \"\", \"orientation\": \"h\", \"showlegend\": false, \"textposition\": \"auto\", \"x\": [8, 9, 23, 269, 11589, 8, 20, 8, 16, 19], \"xaxis\": \"x\", \"y\": [\"Australia\", \"China\", \"China\", \"China\", \"China\", \"Germany\", \"Japan\", \"Malaysia\", \"Singapore\", \"Thailand\"], \"yaxis\": \"y\", \"type\": \"bar\"}], \"name\": \"2020-02-01\"}, {\"data\": [{\"alignmentgroup\": \"True\", \"hoverlabel\": {\"namelength\": 0}, \"hovertemplate\": \"animation_frame=2020-02-02<br>Confirmed cases by country=%{x}<br>Top 10 countries with confirmed cases=%{y}\", \"legendgroup\": \"\", \"marker\": {\"color\": \"#636efa\"}, \"name\": \"\", \"offsetgroup\": \"\", \"orientation\": \"h\", \"showlegend\": false, \"textposition\": \"auto\", \"x\": [8, 11, 27, 321, 16270, 10, 20, 8, 18, 19], \"xaxis\": \"x\", \"y\": [\"Australia\", \"China\", \"China\", \"China\", \"China\", \"Germany\", \"Japan\", \"Malaysia\", \"Singapore\", \"Thailand\"], \"yaxis\": \"y\", \"type\": \"bar\"}], \"name\": \"2020-02-02\"}, {\"data\": [{\"alignmentgroup\": \"True\", \"hoverlabel\": {\"namelength\": 0}, \"hovertemplate\": \"animation_frame=2020-02-03<br>Confirmed cases by country=%{x}<br>Top 10 countries with confirmed cases=%{y}\", \"legendgroup\": \"\", \"marker\": {\"color\": \"#636efa\"}, \"name\": \"\", \"offsetgroup\": \"\", \"orientation\": \"h\", \"showlegend\": false, \"textposition\": \"auto\", \"x\": [8, 13, 34, 374, 19294, 12, 20, 8, 18, 19], \"xaxis\": \"x\", \"y\": [\"Australia\", \"China\", \"China\", \"China\", \"China\", \"Germany\", \"Japan\", \"Malaysia\", \"Singapore\", \"Thailand\"], \"yaxis\": \"y\", \"type\": \"bar\"}], \"name\": \"2020-02-03\"}, {\"data\": [{\"alignmentgroup\": \"True\", \"hoverlabel\": {\"namelength\": 0}, \"hovertemplate\": \"animation_frame=2020-02-04<br>Confirmed cases by country=%{x}<br>Top 10 countries with confirmed cases=%{y}\", \"legendgroup\": \"\", \"marker\": {\"color\": \"#636efa\"}, \"name\": \"\", \"offsetgroup\": \"\", \"orientation\": \"h\", \"showlegend\": false, \"textposition\": \"auto\", \"x\": [8, 15, 35, 442, 23214, 12, 22, 10, 24, 25], \"xaxis\": \"x\", \"y\": [\"Australia\", \"China\", \"China\", \"China\", \"China\", \"Germany\", \"Japan\", \"Malaysia\", \"Singapore\", \"Thailand\"], \"yaxis\": \"y\", \"type\": \"bar\"}], \"name\": \"2020-02-04\"}, {\"data\": [{\"alignmentgroup\": \"True\", \"hoverlabel\": {\"namelength\": 0}, \"hovertemplate\": \"animation_frame=2020-02-05<br>Confirmed cases by country=%{x}<br>Top 10 countries with confirmed cases=%{y}\", \"legendgroup\": \"\", \"marker\": {\"color\": \"#636efa\"}, \"name\": \"\", \"offsetgroup\": \"\", \"orientation\": \"h\", \"showlegend\": false, \"textposition\": \"auto\", \"x\": [8, 17, 42, 524, 26856, 12, 22, 12, 28, 25], \"xaxis\": \"x\", \"y\": [\"Australia\", \"China\", \"China\", \"China\", \"China\", \"Germany\", \"Japan\", \"Malaysia\", \"Singapore\", \"Thailand\"], \"yaxis\": \"y\", \"type\": \"bar\"}], \"name\": \"2020-02-05\"}, {\"data\": [{\"alignmentgroup\": \"True\", \"hoverlabel\": {\"namelength\": 0}, \"hovertemplate\": \"animation_frame=2020-02-06<br>Confirmed cases by country=%{x}<br>Top 10 countries with confirmed cases=%{y}\", \"legendgroup\": \"\", \"marker\": {\"color\": \"#636efa\"}, \"name\": \"\", \"offsetgroup\": \"\", \"orientation\": \"h\", \"showlegend\": false, \"textposition\": \"auto\", \"x\": [18, 46, 581, 29941, 12, 45, 12, 28, 25, 10], \"xaxis\": \"x\", \"y\": [\"China\", \"China\", \"China\", \"China\", \"Germany\", \"Japan\", \"Malaysia\", \"Singapore\", \"Thailand\", \"Vietnam\"], \"yaxis\": \"y\", \"type\": \"bar\"}], \"name\": \"2020-02-06\"}, {\"data\": [{\"alignmentgroup\": \"True\", \"hoverlabel\": {\"namelength\": 0}, \"hovertemplate\": \"animation_frame=2020-02-07<br>Confirmed cases by country=%{x}<br>Top 10 countries with confirmed cases=%{y}\", \"legendgroup\": \"\", \"marker\": {\"color\": \"#636efa\"}, \"name\": \"\", \"offsetgroup\": \"\", \"orientation\": \"h\", \"showlegend\": false, \"textposition\": \"auto\", \"x\": [18, 50, 657, 33384, 13, 25, 12, 30, 25, 10], \"xaxis\": \"x\", \"y\": [\"China\", \"China\", \"China\", \"China\", \"Germany\", \"Japan\", \"Malaysia\", \"Singapore\", \"Thailand\", \"Vietnam\"], \"yaxis\": \"y\", \"type\": \"bar\"}], \"name\": \"2020-02-07\"}, {\"data\": [{\"alignmentgroup\": \"True\", \"hoverlabel\": {\"namelength\": 0}, \"hovertemplate\": \"animation_frame=2020-02-08<br>Confirmed cases by country=%{x}<br>Top 10 countries with confirmed cases=%{y}\", \"legendgroup\": \"\", \"marker\": {\"color\": \"#636efa\"}, \"name\": \"\", \"offsetgroup\": \"\", \"orientation\": \"h\", \"showlegend\": false, \"textposition\": \"auto\", \"x\": [18, 52, 706, 36037, 13, 25, 16, 33, 32, 13], \"xaxis\": \"x\", \"y\": [\"China\", \"China\", \"China\", \"China\", \"Germany\", \"Japan\", \"Malaysia\", \"Singapore\", \"Thailand\", \"Vietnam\"], \"yaxis\": \"y\", \"type\": \"bar\"}], \"name\": \"2020-02-08\"}, {\"data\": [{\"alignmentgroup\": \"True\", \"hoverlabel\": {\"namelength\": 0}, \"hovertemplate\": \"animation_frame=2020-02-09<br>Confirmed cases by country=%{x}<br>Top 10 countries with confirmed cases=%{y}\", \"legendgroup\": \"\", \"marker\": {\"color\": \"#636efa\"}, \"name\": \"\", \"offsetgroup\": \"\", \"orientation\": \"h\", \"showlegend\": false, \"textposition\": \"auto\", \"x\": [18, 54, 750, 39006, 14, 26, 16, 40, 32, 13], \"xaxis\": \"x\", \"y\": [\"China\", \"China\", \"China\", \"China\", \"Germany\", \"Japan\", \"Malaysia\", \"Singapore\", \"Thailand\", \"Vietnam\"], \"yaxis\": \"y\", \"type\": \"bar\"}], \"name\": \"2020-02-09\"}, {\"data\": [{\"alignmentgroup\": \"True\", \"hoverlabel\": {\"namelength\": 0}, \"hovertemplate\": \"animation_frame=2020-02-10<br>Confirmed cases by country=%{x}<br>Top 10 countries with confirmed cases=%{y}\", \"legendgroup\": \"\", \"marker\": {\"color\": \"#636efa\"}, \"name\": \"\", \"offsetgroup\": \"\", \"orientation\": \"h\", \"showlegend\": false, \"textposition\": \"auto\", \"x\": [18, 58, 794, 41483, 14, 26, 18, 45, 32, 14], \"xaxis\": \"x\", \"y\": [\"China\", \"China\", \"China\", \"China\", \"Germany\", \"Japan\", \"Malaysia\", \"Singapore\", \"Thailand\", \"Vietnam\"], \"yaxis\": \"y\", \"type\": \"bar\"}], \"name\": \"2020-02-10\"}, {\"data\": [{\"alignmentgroup\": \"True\", \"hoverlabel\": {\"namelength\": 0}, \"hovertemplate\": \"animation_frame=2020-02-11<br>Confirmed cases by country=%{x}<br>Top 10 countries with confirmed cases=%{y}\", \"legendgroup\": \"\", \"marker\": {\"color\": \"#636efa\"}, \"name\": \"\", \"offsetgroup\": \"\", \"orientation\": \"h\", \"showlegend\": false, \"textposition\": \"auto\", \"x\": [18, 58, 850, 43459, 16, 26, 18, 47, 33, 15], \"xaxis\": \"x\", \"y\": [\"China\", \"China\", \"China\", \"China\", \"Germany\", \"Japan\", \"Malaysia\", \"Singapore\", \"Thailand\", \"Vietnam\"], \"yaxis\": \"y\", \"type\": \"bar\"}], \"name\": \"2020-02-11\"}, {\"data\": [{\"alignmentgroup\": \"True\", \"hoverlabel\": {\"namelength\": 0}, \"hovertemplate\": \"animation_frame=2020-02-12<br>Confirmed cases by country=%{x}<br>Top 10 countries with confirmed cases=%{y}\", \"legendgroup\": \"\", \"marker\": {\"color\": \"#636efa\"}, \"name\": \"\", \"offsetgroup\": \"\", \"orientation\": \"h\", \"showlegend\": false, \"textposition\": \"auto\", \"x\": [18, 60, 882, 43798, 16, 28, 18, 50, 33, 15], \"xaxis\": \"x\", \"y\": [\"China\", \"China\", \"China\", \"China\", \"Germany\", \"Japan\", \"Malaysia\", \"Singapore\", \"Thailand\", \"Vietnam\"], \"yaxis\": \"y\", \"type\": \"bar\"}], \"name\": \"2020-02-12\"}, {\"data\": [{\"alignmentgroup\": \"True\", \"hoverlabel\": {\"namelength\": 0}, \"hovertemplate\": \"animation_frame=2020-02-13<br>Confirmed cases by country=%{x}<br>Top 10 countries with confirmed cases=%{y}\", \"legendgroup\": \"\", \"marker\": {\"color\": \"#636efa\"}, \"name\": \"\", \"offsetgroup\": \"\", \"orientation\": \"h\", \"showlegend\": false, \"textposition\": \"auto\", \"x\": [18, 61, 914, 58901, 16, 28, 19, 58, 33, 16], \"xaxis\": \"x\", \"y\": [\"China\", \"China\", \"China\", \"China\", \"Germany\", \"Japan\", \"Malaysia\", \"Singapore\", \"Thailand\", \"Vietnam\"], \"yaxis\": \"y\", \"type\": \"bar\"}], \"name\": \"2020-02-13\"}, {\"data\": [{\"alignmentgroup\": \"True\", \"hoverlabel\": {\"namelength\": 0}, \"hovertemplate\": \"animation_frame=2020-02-14<br>Confirmed cases by country=%{x}<br>Top 10 countries with confirmed cases=%{y}\", \"legendgroup\": \"\", \"marker\": {\"color\": \"#636efa\"}, \"name\": \"\", \"offsetgroup\": \"\", \"orientation\": \"h\", \"showlegend\": false, \"textposition\": \"auto\", \"x\": [18, 65, 946, 65328, 16, 29, 19, 67, 33, 16], \"xaxis\": \"x\", \"y\": [\"China\", \"China\", \"China\", \"China\", \"Germany\", \"Japan\", \"Malaysia\", \"Singapore\", \"Thailand\", \"Vietnam\"], \"yaxis\": \"y\", \"type\": \"bar\"}], \"name\": \"2020-02-14\"}, {\"data\": [{\"alignmentgroup\": \"True\", \"hoverlabel\": {\"namelength\": 0}, \"hovertemplate\": \"animation_frame=2020-02-15<br>Confirmed cases by country=%{x}<br>Top 10 countries with confirmed cases=%{y}\", \"legendgroup\": \"\", \"marker\": {\"color\": \"#636efa\"}, \"name\": \"\", \"offsetgroup\": \"\", \"orientation\": \"h\", \"showlegend\": false, \"textposition\": \"auto\", \"x\": [18, 68, 961, 67365, 16, 43, 22, 72, 33, 16], \"xaxis\": \"x\", \"y\": [\"China\", \"China\", \"China\", \"China\", \"Germany\", \"Japan\", \"Malaysia\", \"Singapore\", \"Thailand\", \"Vietnam\"], \"yaxis\": \"y\", \"type\": \"bar\"}], \"name\": \"2020-02-15\"}, {\"data\": [{\"alignmentgroup\": \"True\", \"hoverlabel\": {\"namelength\": 0}, \"hovertemplate\": \"animation_frame=2020-02-16<br>Confirmed cases by country=%{x}<br>Top 10 countries with confirmed cases=%{y}\", \"legendgroup\": \"\", \"marker\": {\"color\": \"#636efa\"}, \"name\": \"\", \"offsetgroup\": \"\", \"orientation\": \"h\", \"showlegend\": false, \"textposition\": \"auto\", \"x\": [18, 70, 988, 69436, 16, 59, 22, 75, 34, 16], \"xaxis\": \"x\", \"y\": [\"China\", \"China\", \"China\", \"China\", \"Germany\", \"Japan\", \"Malaysia\", \"Singapore\", \"Thailand\", \"Vietnam\"], \"yaxis\": \"y\", \"type\": \"bar\"}], \"name\": \"2020-02-16\"}, {\"data\": [{\"alignmentgroup\": \"True\", \"hoverlabel\": {\"namelength\": 0}, \"hovertemplate\": \"animation_frame=2020-02-17<br>Confirmed cases by country=%{x}<br>Top 10 countries with confirmed cases=%{y}\", \"legendgroup\": \"\", \"marker\": {\"color\": \"#636efa\"}, \"name\": \"\", \"offsetgroup\": \"\", \"orientation\": \"h\", \"showlegend\": false, \"textposition\": \"auto\", \"x\": [18, 72, 1012, 71331, 16, 66, 22, 77, 35, 16], \"xaxis\": \"x\", \"y\": [\"China\", \"China\", \"China\", \"China\", \"Germany\", \"Japan\", \"Malaysia\", \"Singapore\", \"Thailand\", \"Vietnam\"], \"yaxis\": \"y\", \"type\": \"bar\"}], \"name\": \"2020-02-17\"}, {\"data\": [{\"alignmentgroup\": \"True\", \"hoverlabel\": {\"namelength\": 0}, \"hovertemplate\": \"animation_frame=2020-02-18<br>Confirmed cases by country=%{x}<br>Top 10 countries with confirmed cases=%{y}\", \"legendgroup\": \"\", \"marker\": {\"color\": \"#636efa\"}, \"name\": \"\", \"offsetgroup\": \"\", \"orientation\": \"h\", \"showlegend\": false, \"textposition\": \"auto\", \"x\": [18, 73, 1022, 73097, 16, 74, 22, 81, 35, 16], \"xaxis\": \"x\", \"y\": [\"China\", \"China\", \"China\", \"China\", \"Germany\", \"Japan\", \"Malaysia\", \"Singapore\", \"Thailand\", \"Vietnam\"], \"yaxis\": \"y\", \"type\": \"bar\"}], \"name\": \"2020-02-18\"}, {\"data\": [{\"alignmentgroup\": \"True\", \"hoverlabel\": {\"namelength\": 0}, \"hovertemplate\": \"animation_frame=2020-02-19<br>Confirmed cases by country=%{x}<br>Top 10 countries with confirmed cases=%{y}\", \"legendgroup\": \"\", \"marker\": {\"color\": \"#636efa\"}, \"name\": \"\", \"offsetgroup\": \"\", \"orientation\": \"h\", \"showlegend\": false, \"textposition\": \"auto\", \"x\": [18, 75, 1032, 73493, 16, 84, 22, 84, 35, 16], \"xaxis\": \"x\", \"y\": [\"China\", \"China\", \"China\", \"China\", \"Germany\", \"Japan\", \"Malaysia\", \"Singapore\", \"Thailand\", \"Vietnam\"], \"yaxis\": \"y\", \"type\": \"bar\"}], \"name\": \"2020-02-19\"}, {\"data\": [{\"alignmentgroup\": \"True\", \"hoverlabel\": {\"namelength\": 0}, \"hovertemplate\": \"animation_frame=2020-02-20<br>Confirmed cases by country=%{x}<br>Top 10 countries with confirmed cases=%{y}\", \"legendgroup\": \"\", \"marker\": {\"color\": \"#636efa\"}, \"name\": \"\", \"offsetgroup\": \"\", \"orientation\": \"h\", \"showlegend\": false, \"textposition\": \"auto\", \"x\": [18, 75, 1047, 73936, 16, 94, 22, 84, 35, 16], \"xaxis\": \"x\", \"y\": [\"China\", \"China\", \"China\", \"China\", \"Germany\", \"Japan\", \"Malaysia\", \"Singapore\", \"Thailand\", \"Vietnam\"], \"yaxis\": \"y\", \"type\": \"bar\"}], \"name\": \"2020-02-20\"}, {\"data\": [{\"alignmentgroup\": \"True\", \"hoverlabel\": {\"namelength\": 0}, \"hovertemplate\": \"animation_frame=2020-02-21<br>Confirmed cases by country=%{x}<br>Top 10 countries with confirmed cases=%{y}\", \"legendgroup\": \"\", \"marker\": {\"color\": \"#636efa\"}, \"name\": \"\", \"offsetgroup\": \"\", \"orientation\": \"h\", \"showlegend\": false, \"textposition\": \"auto\", \"x\": [18, 75, 1050, 74406, 18, 20, 105, 22, 85, 35], \"xaxis\": \"x\", \"y\": [\"China\", \"China\", \"China\", \"China\", \"Iran\", \"Italy\", \"Japan\", \"Malaysia\", \"Singapore\", \"Thailand\"], \"yaxis\": \"y\", \"type\": \"bar\"}], \"name\": \"2020-02-21\"}, {\"data\": [{\"alignmentgroup\": \"True\", \"hoverlabel\": {\"namelength\": 0}, \"hovertemplate\": \"animation_frame=2020-02-22<br>Confirmed cases by country=%{x}<br>Top 10 countries with confirmed cases=%{y}\", \"legendgroup\": \"\", \"marker\": {\"color\": \"#636efa\"}, \"name\": \"\", \"offsetgroup\": \"\", \"orientation\": \"h\", \"showlegend\": false, \"textposition\": \"auto\", \"x\": [18, 75, 1051, 75856, 28, 62, 122, 22, 85, 35], \"xaxis\": \"x\", \"y\": [\"China\", \"China\", \"China\", \"China\", \"Iran\", \"Italy\", \"Japan\", \"Malaysia\", \"Singapore\", \"Thailand\"], \"yaxis\": \"y\", \"type\": \"bar\"}], \"name\": \"2020-02-22\"}, {\"data\": [{\"alignmentgroup\": \"True\", \"hoverlabel\": {\"namelength\": 0}, \"hovertemplate\": \"animation_frame=2020-02-23<br>Confirmed cases by country=%{x}<br>Top 10 countries with confirmed cases=%{y}\", \"legendgroup\": \"\", \"marker\": {\"color\": \"#636efa\"}, \"name\": \"\", \"offsetgroup\": \"\", \"orientation\": \"h\", \"showlegend\": false, \"textposition\": \"auto\", \"x\": [18, 75, 1057, 75871, 43, 155, 147, 22, 89, 35], \"xaxis\": \"x\", \"y\": [\"China\", \"China\", \"China\", \"China\", \"Iran\", \"Italy\", \"Japan\", \"Malaysia\", \"Singapore\", \"Thailand\"], \"yaxis\": \"y\", \"type\": \"bar\"}], \"name\": \"2020-02-23\"}, {\"data\": [{\"alignmentgroup\": \"True\", \"hoverlabel\": {\"namelength\": 0}, \"hovertemplate\": \"animation_frame=2020-02-24<br>Confirmed cases by country=%{x}<br>Top 10 countries with confirmed cases=%{y}\", \"legendgroup\": \"\", \"marker\": {\"color\": \"#636efa\"}, \"name\": \"\", \"offsetgroup\": \"\", \"orientation\": \"h\", \"showlegend\": false, \"textposition\": \"auto\", \"x\": [18, 75, 1064, 76083, 61, 229, 159, 22, 89, 35], \"xaxis\": \"x\", \"y\": [\"China\", \"China\", \"China\", \"China\", \"Iran\", \"Italy\", \"Japan\", \"Malaysia\", \"Singapore\", \"Thailand\"], \"yaxis\": \"y\", \"type\": \"bar\"}], \"name\": \"2020-02-24\"}, {\"data\": [{\"alignmentgroup\": \"True\", \"hoverlabel\": {\"namelength\": 0}, \"hovertemplate\": \"animation_frame=2020-02-25<br>Confirmed cases by country=%{x}<br>Top 10 countries with confirmed cases=%{y}\", \"legendgroup\": \"\", \"marker\": {\"color\": \"#636efa\"}, \"name\": \"\", \"offsetgroup\": \"\", \"orientation\": \"h\", \"showlegend\": false, \"textposition\": \"auto\", \"x\": [23, 75, 1069, 76591, 95, 322, 170, 22, 91, 37], \"xaxis\": \"x\", \"y\": [\"Bahrain\", \"China\", \"China\", \"China\", \"Iran\", \"Italy\", \"Japan\", \"Malaysia\", \"Singapore\", \"Thailand\"], \"yaxis\": \"y\", \"type\": \"bar\"}], \"name\": \"2020-02-25\"}, {\"data\": [{\"alignmentgroup\": \"True\", \"hoverlabel\": {\"namelength\": 0}, \"hovertemplate\": \"animation_frame=2020-02-26<br>Confirmed cases by country=%{x}<br>Top 10 countries with confirmed cases=%{y}\", \"legendgroup\": \"\", \"marker\": {\"color\": \"#636efa\"}, \"name\": \"\", \"offsetgroup\": \"\", \"orientation\": \"h\", \"showlegend\": false, \"textposition\": \"auto\", \"x\": [33, 75, 1076, 76996, 27, 139, 453, 189, 93, 40], \"xaxis\": \"x\", \"y\": [\"Bahrain\", \"China\", \"China\", \"China\", \"Germany\", \"Iran\", \"Italy\", \"Japan\", \"Singapore\", \"Thailand\"], \"yaxis\": \"y\", \"type\": \"bar\"}], \"name\": \"2020-02-26\"}, {\"data\": [{\"alignmentgroup\": \"True\", \"hoverlabel\": {\"namelength\": 0}, \"hovertemplate\": \"animation_frame=2020-02-27<br>Confirmed cases by country=%{x}<br>Top 10 countries with confirmed cases=%{y}\", \"legendgroup\": \"\", \"marker\": {\"color\": \"#636efa\"}, \"name\": \"\", \"offsetgroup\": \"\", \"orientation\": \"h\", \"showlegend\": false, \"textposition\": \"auto\", \"x\": [75, 1077, 77429, 46, 245, 655, 214, 43, 93, 40], \"xaxis\": \"x\", \"y\": [\"China\", \"China\", \"China\", \"Germany\", \"Iran\", \"Italy\", \"Japan\", \"Kuwait\", \"Singapore\", \"Thailand\"], \"yaxis\": \"y\", \"type\": \"bar\"}], \"name\": \"2020-02-27\"}, {\"data\": [{\"alignmentgroup\": \"True\", \"hoverlabel\": {\"namelength\": 0}, \"hovertemplate\": \"animation_frame=2020-02-28<br>Confirmed cases by country=%{x}<br>Top 10 countries with confirmed cases=%{y}\", \"legendgroup\": \"\", \"marker\": {\"color\": \"#636efa\"}, \"name\": \"\", \"offsetgroup\": \"\", \"orientation\": \"h\", \"showlegend\": false, \"textposition\": \"auto\", \"x\": [75, 1079, 77755, 57, 48, 388, 888, 228, 45, 93], \"xaxis\": \"x\", \"y\": [\"China\", \"China\", \"China\", \"France\", \"Germany\", \"Iran\", \"Italy\", \"Japan\", \"Kuwait\", \"Singapore\"], \"yaxis\": \"y\", \"type\": \"bar\"}], \"name\": \"2020-02-28\"}, {\"data\": [{\"alignmentgroup\": \"True\", \"hoverlabel\": {\"namelength\": 0}, \"hovertemplate\": \"animation_frame=2020-02-29<br>Confirmed cases by country=%{x}<br>Top 10 countries with confirmed cases=%{y}\", \"legendgroup\": \"\", \"marker\": {\"color\": \"#636efa\"}, \"name\": \"\", \"offsetgroup\": \"\", \"orientation\": \"h\", \"showlegend\": false, \"textposition\": \"auto\", \"x\": [75, 1080, 78182, 100, 79, 593, 1128, 241, 45, 102], \"xaxis\": \"x\", \"y\": [\"China\", \"China\", \"China\", \"France\", \"Germany\", \"Iran\", \"Italy\", \"Japan\", \"Kuwait\", \"Singapore\"], \"yaxis\": \"y\", \"type\": \"bar\"}], \"name\": \"2020-02-29\"}, {\"data\": [{\"alignmentgroup\": \"True\", \"hoverlabel\": {\"namelength\": 0}, \"hovertemplate\": \"animation_frame=2020-03-01<br>Confirmed cases by country=%{x}<br>Top 10 countries with confirmed cases=%{y}\", \"legendgroup\": \"\", \"marker\": {\"color\": \"#636efa\"}, \"name\": \"\", \"offsetgroup\": \"\", \"orientation\": \"h\", \"showlegend\": false, \"textposition\": \"auto\", \"x\": [75, 1081, 78757, 130, 130, 978, 1694, 256, 106, 84], \"xaxis\": \"x\", \"y\": [\"China\", \"China\", \"China\", \"France\", \"Germany\", \"Iran\", \"Italy\", \"Japan\", \"Singapore\", \"Spain\"], \"yaxis\": \"y\", \"type\": \"bar\"}], \"name\": \"2020-03-01\"}, {\"data\": [{\"alignmentgroup\": \"True\", \"hoverlabel\": {\"namelength\": 0}, \"hovertemplate\": \"animation_frame=2020-03-02<br>Confirmed cases by country=%{x}<br>Top 10 countries with confirmed cases=%{y}\", \"legendgroup\": \"\", \"marker\": {\"color\": \"#636efa\"}, \"name\": \"\", \"offsetgroup\": \"\", \"orientation\": \"h\", \"showlegend\": false, \"textposition\": \"auto\", \"x\": [75, 1085, 78957, 191, 159, 1501, 2036, 274, 108, 120], \"xaxis\": \"x\", \"y\": [\"China\", \"China\", \"China\", \"France\", \"Germany\", \"Iran\", \"Italy\", \"Japan\", \"Singapore\", \"Spain\"], \"yaxis\": \"y\", \"type\": \"bar\"}], \"name\": \"2020-03-02\"}, {\"data\": [{\"alignmentgroup\": \"True\", \"hoverlabel\": {\"namelength\": 0}, \"hovertemplate\": \"animation_frame=2020-03-03<br>Confirmed cases by country=%{x}<br>Top 10 countries with confirmed cases=%{y}\", \"legendgroup\": \"\", \"marker\": {\"color\": \"#636efa\"}, \"name\": \"\", \"offsetgroup\": \"\", \"orientation\": \"h\", \"showlegend\": false, \"textposition\": \"auto\", \"x\": [75, 1085, 79082, 204, 196, 2336, 2502, 293, 110, 165], \"xaxis\": \"x\", \"y\": [\"China\", \"China\", \"China\", \"France\", \"Germany\", \"Iran\", \"Italy\", \"Japan\", \"Singapore\", \"Spain\"], \"yaxis\": \"y\", \"type\": \"bar\"}], \"name\": \"2020-03-03\"}, {\"data\": [{\"alignmentgroup\": \"True\", \"hoverlabel\": {\"namelength\": 0}, \"hovertemplate\": \"animation_frame=2020-03-04<br>Confirmed cases by country=%{x}<br>Top 10 countries with confirmed cases=%{y}\", \"legendgroup\": \"\", \"marker\": {\"color\": \"#636efa\"}, \"name\": \"\", \"offsetgroup\": \"\", \"orientation\": \"h\", \"showlegend\": false, \"textposition\": \"auto\", \"x\": [1090, 79202, 285, 262, 2922, 3089, 331, 110, 222, 90], \"xaxis\": \"x\", \"y\": [\"China\", \"China\", \"France\", \"Germany\", \"Iran\", \"Italy\", \"Japan\", \"Singapore\", \"Spain\", \"Switzerland\"], \"yaxis\": \"y\", \"type\": \"bar\"}], \"name\": \"2020-03-04\"}, {\"data\": [{\"alignmentgroup\": \"True\", \"hoverlabel\": {\"namelength\": 0}, \"hovertemplate\": \"animation_frame=2020-03-05<br>Confirmed cases by country=%{x}<br>Top 10 countries with confirmed cases=%{y}\", \"legendgroup\": \"\", \"marker\": {\"color\": \"#636efa\"}, \"name\": \"\", \"offsetgroup\": \"\", \"orientation\": \"h\", \"showlegend\": false, \"textposition\": \"auto\", \"x\": [1102, 79341, 377, 482, 3513, 3858, 360, 117, 259, 115], \"xaxis\": \"x\", \"y\": [\"China\", \"China\", \"France\", \"Germany\", \"Iran\", \"Italy\", \"Japan\", \"Singapore\", \"Spain\", \"United Kingdom\"], \"yaxis\": \"y\", \"type\": \"bar\"}], \"name\": \"2020-03-05\"}, {\"data\": [{\"alignmentgroup\": \"True\", \"hoverlabel\": {\"namelength\": 0}, \"hovertemplate\": \"animation_frame=2020-03-06<br>Confirmed cases by country=%{x}<br>Top 10 countries with confirmed cases=%{y}\", \"legendgroup\": \"\", \"marker\": {\"color\": \"#636efa\"}, \"name\": \"\", \"offsetgroup\": \"\", \"orientation\": \"h\", \"showlegend\": false, \"textposition\": \"auto\", \"x\": [1121, 79475, 653, 670, 4747, 4636, 420, 400, 214, 163], \"xaxis\": \"x\", \"y\": [\"China\", \"China\", \"France\", \"Germany\", \"Iran\", \"Italy\", \"Japan\", \"Spain\", \"Switzerland\", \"United Kingdom\"], \"yaxis\": \"y\", \"type\": \"bar\"}], \"name\": \"2020-03-06\"}, {\"data\": [{\"alignmentgroup\": \"True\", \"hoverlabel\": {\"namelength\": 0}, \"hovertemplate\": \"animation_frame=2020-03-07<br>Confirmed cases by country=%{x}<br>Top 10 countries with confirmed cases=%{y}\", \"legendgroup\": \"\", \"marker\": {\"color\": \"#636efa\"}, \"name\": \"\", \"offsetgroup\": \"\", \"orientation\": \"h\", \"showlegend\": false, \"textposition\": \"auto\", \"x\": [1123, 79553, 949, 799, 5823, 5883, 461, 500, 268, 206], \"xaxis\": \"x\", \"y\": [\"China\", \"China\", \"France\", \"Germany\", \"Iran\", \"Italy\", \"Japan\", \"Spain\", \"Switzerland\", \"United Kingdom\"], \"yaxis\": \"y\", \"type\": \"bar\"}], \"name\": \"2020-03-07\"}, {\"data\": [{\"alignmentgroup\": \"True\", \"hoverlabel\": {\"namelength\": 0}, \"hovertemplate\": \"animation_frame=2020-03-08<br>Confirmed cases by country=%{x}<br>Top 10 countries with confirmed cases=%{y}\", \"legendgroup\": \"\", \"marker\": {\"color\": \"#636efa\"}, \"name\": \"\", \"offsetgroup\": \"\", \"orientation\": \"h\", \"showlegend\": false, \"textposition\": \"auto\", \"x\": [1133, 79596, 1126, 1040, 6566, 7375, 502, 673, 337, 273], \"xaxis\": \"x\", \"y\": [\"China\", \"China\", \"France\", \"Germany\", \"Iran\", \"Italy\", \"Japan\", \"Spain\", \"Switzerland\", \"United Kingdom\"], \"yaxis\": \"y\", \"type\": \"bar\"}], \"name\": \"2020-03-08\"}, {\"data\": [{\"alignmentgroup\": \"True\", \"hoverlabel\": {\"namelength\": 0}, \"hovertemplate\": \"animation_frame=2020-03-09<br>Confirmed cases by country=%{x}<br>Top 10 countries with confirmed cases=%{y}\", \"legendgroup\": \"\", \"marker\": {\"color\": \"#636efa\"}, \"name\": \"\", \"offsetgroup\": \"\", \"orientation\": \"h\", \"showlegend\": false, \"textposition\": \"auto\", \"x\": [1134, 79632, 1209, 1176, 7161, 9172, 511, 321, 1073, 374], \"xaxis\": \"x\", \"y\": [\"China\", \"China\", \"France\", \"Germany\", \"Iran\", \"Italy\", \"Japan\", \"Netherlands\", \"Spain\", \"Switzerland\"], \"yaxis\": \"y\", \"type\": \"bar\"}], \"name\": \"2020-03-09\"}, {\"data\": [{\"alignmentgroup\": \"True\", \"hoverlabel\": {\"namelength\": 0}, \"hovertemplate\": \"animation_frame=2020-03-10<br>Confirmed cases by country=%{x}<br>Top 10 countries with confirmed cases=%{y}\", \"legendgroup\": \"\", \"marker\": {\"color\": \"#636efa\"}, \"name\": \"\", \"offsetgroup\": \"\", \"orientation\": \"h\", \"showlegend\": false, \"textposition\": \"auto\", \"x\": [1140, 79653, 1784, 1457, 8042, 10149, 581, 400, 1695, 491], \"xaxis\": \"x\", \"y\": [\"China\", \"China\", \"France\", \"Germany\", \"Iran\", \"Italy\", \"Japan\", \"Norway\", \"Spain\", \"Switzerland\"], \"yaxis\": \"y\", \"type\": \"bar\"}], \"name\": \"2020-03-10\"}, {\"data\": [{\"alignmentgroup\": \"True\", \"hoverlabel\": {\"namelength\": 0}, \"hovertemplate\": \"animation_frame=2020-03-11<br>Confirmed cases by country=%{x}<br>Top 10 countries with confirmed cases=%{y}\", \"legendgroup\": \"\", \"marker\": {\"color\": \"#636efa\"}, \"name\": \"\", \"offsetgroup\": \"\", \"orientation\": \"h\", \"showlegend\": false, \"textposition\": \"auto\", \"x\": [1149, 79678, 2281, 1908, 9000, 12462, 639, 598, 2277, 652], \"xaxis\": \"x\", \"y\": [\"China\", \"China\", \"France\", \"Germany\", \"Iran\", \"Italy\", \"Japan\", \"Norway\", \"Spain\", \"Switzerland\"], \"yaxis\": \"y\", \"type\": \"bar\"}], \"name\": \"2020-03-11\"}, {\"data\": [{\"alignmentgroup\": \"True\", \"hoverlabel\": {\"namelength\": 0}, \"hovertemplate\": \"animation_frame=2020-03-12<br>Confirmed cases by country=%{x}<br>Top 10 countries with confirmed cases=%{y}\", \"legendgroup\": \"\", \"marker\": {\"color\": \"#636efa\"}, \"name\": \"\", \"offsetgroup\": \"\", \"orientation\": \"h\", \"showlegend\": false, \"textposition\": \"auto\", \"x\": [1152, 79686, 2281, 2078, 10075, 12462, 639, 702, 2277, 652], \"xaxis\": \"x\", \"y\": [\"China\", \"China\", \"France\", \"Germany\", \"Iran\", \"Italy\", \"Japan\", \"Norway\", \"Spain\", \"Switzerland\"], \"yaxis\": \"y\", \"type\": \"bar\"}], \"name\": \"2020-03-12\"}, {\"data\": [{\"alignmentgroup\": \"True\", \"hoverlabel\": {\"namelength\": 0}, \"hovertemplate\": \"animation_frame=2020-03-13<br>Confirmed cases by country=%{x}<br>Top 10 countries with confirmed cases=%{y}\", \"legendgroup\": \"\", \"marker\": {\"color\": \"#636efa\"}, \"name\": \"\", \"offsetgroup\": \"\", \"orientation\": \"h\", \"showlegend\": false, \"textposition\": \"auto\", \"x\": [1157, 79694, 3661, 3675, 11364, 17660, 996, 5232, 814, 1139], \"xaxis\": \"x\", \"y\": [\"China\", \"China\", \"France\", \"Germany\", \"Iran\", \"Italy\", \"Norway\", \"Spain\", \"Sweden\", \"Switzerland\"], \"yaxis\": \"y\", \"type\": \"bar\"}], \"name\": \"2020-03-13\"}, {\"data\": [{\"alignmentgroup\": \"True\", \"hoverlabel\": {\"namelength\": 0}, \"hovertemplate\": \"animation_frame=2020-03-14<br>Confirmed cases by country=%{x}<br>Top 10 countries with confirmed cases=%{y}\", \"legendgroup\": \"\", \"marker\": {\"color\": \"#636efa\"}, \"name\": \"\", \"offsetgroup\": \"\", \"orientation\": \"h\", \"showlegend\": false, \"textposition\": \"auto\", \"x\": [1165, 79718, 4469, 4585, 12729, 21157, 1090, 6391, 1359, 1140], \"xaxis\": \"x\", \"y\": [\"China\", \"China\", \"France\", \"Germany\", \"Iran\", \"Italy\", \"Norway\", \"Spain\", \"Switzerland\", \"United Kingdom\"], \"yaxis\": \"y\", \"type\": \"bar\"}], \"name\": \"2020-03-14\"}, {\"data\": [{\"alignmentgroup\": \"True\", \"hoverlabel\": {\"namelength\": 0}, \"hovertemplate\": \"animation_frame=2020-03-15<br>Confirmed cases by country=%{x}<br>Top 10 countries with confirmed cases=%{y}\", \"legendgroup\": \"\", \"marker\": {\"color\": \"#636efa\"}, \"name\": \"\", \"offsetgroup\": \"\", \"orientation\": \"h\", \"showlegend\": false, \"textposition\": \"auto\", \"x\": [1174, 79735, 4499, 5795, 13938, 24747, 1221, 7798, 2200, 1140], \"xaxis\": \"x\", \"y\": [\"China\", \"China\", \"France\", \"Germany\", \"Iran\", \"Italy\", \"Norway\", \"Spain\", \"Switzerland\", \"United Kingdom\"], \"yaxis\": \"y\", \"type\": \"bar\"}], \"name\": \"2020-03-15\"}, {\"data\": [{\"alignmentgroup\": \"True\", \"hoverlabel\": {\"namelength\": 0}, \"hovertemplate\": \"animation_frame=2020-03-16<br>Confirmed cases by country=%{x}<br>Top 10 countries with confirmed cases=%{y}\", \"legendgroup\": \"\", \"marker\": {\"color\": \"#636efa\"}, \"name\": \"\", \"offsetgroup\": \"\", \"orientation\": \"h\", \"showlegend\": false, \"textposition\": \"auto\", \"x\": [79755, 6633, 7272, 14991, 27980, 1413, 1333, 9942, 2200, 1543], \"xaxis\": \"x\", \"y\": [\"China\", \"France\", \"Germany\", \"Iran\", \"Italy\", \"Netherlands\", \"Norway\", \"Spain\", \"Switzerland\", \"United Kingdom\"], \"yaxis\": \"y\", \"type\": \"bar\"}], \"name\": \"2020-03-16\"}, {\"data\": [{\"alignmentgroup\": \"True\", \"hoverlabel\": {\"namelength\": 0}, \"hovertemplate\": \"animation_frame=2020-03-17<br>Confirmed cases by country=%{x}<br>Top 10 countries with confirmed cases=%{y}\", \"legendgroup\": \"\", \"marker\": {\"color\": \"#636efa\"}, \"name\": \"\", \"offsetgroup\": \"\", \"orientation\": \"h\", \"showlegend\": false, \"textposition\": \"auto\", \"x\": [79772, 7652, 9257, 16169, 31506, 1705, 1463, 11748, 2700, 1950], \"xaxis\": \"x\", \"y\": [\"China\", \"France\", \"Germany\", \"Iran\", \"Italy\", \"Netherlands\", \"Norway\", \"Spain\", \"Switzerland\", \"United Kingdom\"], \"yaxis\": \"y\", \"type\": \"bar\"}], \"name\": \"2020-03-17\"}, {\"data\": [{\"alignmentgroup\": \"True\", \"hoverlabel\": {\"namelength\": 0}, \"hovertemplate\": \"animation_frame=2020-03-18<br>Confirmed cases by country=%{x}<br>Top 10 countries with confirmed cases=%{y}\", \"legendgroup\": \"\", \"marker\": {\"color\": \"#636efa\"}, \"name\": \"\", \"offsetgroup\": \"\", \"orientation\": \"h\", \"showlegend\": false, \"textposition\": \"auto\", \"x\": [1646, 79797, 9043, 12327, 17361, 35713, 2051, 13910, 3028, 2626], \"xaxis\": \"x\", \"y\": [\"Austria\", \"China\", \"France\", \"Germany\", \"Iran\", \"Italy\", \"Netherlands\", \"Spain\", \"Switzerland\", \"United Kingdom\"], \"yaxis\": \"y\", \"type\": \"bar\"}], \"name\": \"2020-03-18\"}, {\"data\": [{\"alignmentgroup\": \"True\", \"hoverlabel\": {\"namelength\": 0}, \"hovertemplate\": \"animation_frame=2020-03-19<br>Confirmed cases by country=%{x}<br>Top 10 countries with confirmed cases=%{y}\", \"legendgroup\": \"\", \"marker\": {\"color\": \"#636efa\"}, \"name\": \"\", \"offsetgroup\": \"\", \"orientation\": \"h\", \"showlegend\": false, \"textposition\": \"auto\", \"x\": [2013, 79822, 10871, 15320, 18407, 41035, 2460, 17963, 4075, 2689], \"xaxis\": \"x\", \"y\": [\"Austria\", \"China\", \"France\", \"Germany\", \"Iran\", \"Italy\", \"Netherlands\", \"Spain\", \"Switzerland\", \"United Kingdom\"], \"yaxis\": \"y\", \"type\": \"bar\"}], \"name\": \"2020-03-19\"}, {\"data\": [{\"alignmentgroup\": \"True\", \"hoverlabel\": {\"namelength\": 0}, \"hovertemplate\": \"animation_frame=2020-03-20<br>Confirmed cases by country=%{x}<br>Top 10 countries with confirmed cases=%{y}\", \"legendgroup\": \"\", \"marker\": {\"color\": \"#636efa\"}, \"name\": \"\", \"offsetgroup\": \"\", \"orientation\": \"h\", \"showlegend\": false, \"textposition\": \"auto\", \"x\": [2388, 79866, 12612, 19848, 19644, 47021, 2994, 20410, 5294, 3983], \"xaxis\": \"x\", \"y\": [\"Austria\", \"China\", \"France\", \"Germany\", \"Iran\", \"Italy\", \"Netherlands\", \"Spain\", \"Switzerland\", \"United Kingdom\"], \"yaxis\": \"y\", \"type\": \"bar\"}], \"name\": \"2020-03-20\"}, {\"data\": [{\"alignmentgroup\": \"True\", \"hoverlabel\": {\"namelength\": 0}, \"hovertemplate\": \"animation_frame=2020-03-21<br>Confirmed cases by country=%{x}<br>Top 10 countries with confirmed cases=%{y}\", \"legendgroup\": \"\", \"marker\": {\"color\": \"#636efa\"}, \"name\": \"\", \"offsetgroup\": \"\", \"orientation\": \"h\", \"showlegend\": false, \"textposition\": \"auto\", \"x\": [2815, 79903, 14282, 22213, 20610, 53578, 3631, 25374, 6575, 5018], \"xaxis\": \"x\", \"y\": [\"Belgium\", \"China\", \"France\", \"Germany\", \"Iran\", \"Italy\", \"Netherlands\", \"Spain\", \"Switzerland\", \"United Kingdom\"], \"yaxis\": \"y\", \"type\": \"bar\"}], \"name\": \"2020-03-21\"}]);\n",
       "                        }).then(function(){\n",
       "                            \n",
       "var gd = document.getElementById('170e438c-53b6-40ca-840a-fd5f31cb8e16');\n",
       "var x = new MutationObserver(function (mutations, observer) {{\n",
       "        var display = window.getComputedStyle(gd).display;\n",
       "        if (!display || display === 'none') {{\n",
       "            console.log([gd, 'removed!']);\n",
       "            Plotly.purge(gd);\n",
       "            observer.disconnect();\n",
       "        }}\n",
       "}});\n",
       "\n",
       "// Listen for the removal of the full notebook cells\n",
       "var notebookContainer = gd.closest('#notebook-container');\n",
       "if (notebookContainer) {{\n",
       "    x.observe(notebookContainer, {childList: true});\n",
       "}}\n",
       "\n",
       "// Listen for the clearing of the current output cell\n",
       "var outputEl = gd.closest('.output');\n",
       "if (outputEl) {{\n",
       "    x.observe(outputEl, {childList: true});\n",
       "}}\n",
       "\n",
       "                        })\n",
       "                };\n",
       "                });\n",
       "            </script>\n",
       "        </div>"
      ]
     },
     "metadata": {},
     "output_type": "display_data"
    }
   ],
   "source": [
    "df_countries_top10 = df_countries.groupby('date',group_keys=False)\\\n",
    "            .apply(lambda grp:grp.nlargest(n=int(10),columns='confirmed').sort_index()).reset_index()\n",
    "# df_countries_top10.head()\n",
    "fig =px.bar(df_countries_top10, x='confirmed', y='country',  \n",
    "             labels={'confirmed': f'Confirmed cases by country',\n",
    "                    'country':'Top 10 countries with confirmed cases'},\n",
    "             animation_frame=df_countries_top10.date.dt.strftime('%Y-%m-%d'), orientation='h').update_yaxes(categoryorder='total ascending')\n",
    "fig.update_layout(title_text=\"Evolution of confirmed cases by country: Top 10\", title_x=0.5)\n",
    "\n",
    "fig.show()"
   ]
  },
  {
   "cell_type": "markdown",
   "metadata": {},
   "source": [
    "**Insights:**\n",
    "\n",
    "En esta progresión de tiempo se puede ver el crecimiento de la expansión de virus en europa especialmente en Italia y España en Europa e Iran y Corea del Sur en el mes de Marzo. Antes de ello la cantidad de casos de concentraba en China."
   ]
  },
  {
   "cell_type": "markdown",
   "metadata": {},
   "source": [
    "# Boxplot: Casos confirmados de coronavirus: Estadísticas"
   ]
  },
  {
   "cell_type": "code",
   "execution_count": 13,
   "metadata": {
    "ExecuteTime": {
     "end_time": "2020-03-21T12:55:20.764843Z",
     "start_time": "2020-03-21T12:55:20.472111Z"
    }
   },
   "outputs": [
    {
     "data": {
      "text/html": [
       "<div>\n",
       "<style scoped>\n",
       "    .dataframe tbody tr th:only-of-type {\n",
       "        vertical-align: middle;\n",
       "    }\n",
       "\n",
       "    .dataframe tbody tr th {\n",
       "        vertical-align: top;\n",
       "    }\n",
       "\n",
       "    .dataframe thead th {\n",
       "        text-align: right;\n",
       "    }\n",
       "</style>\n",
       "<table border=\"1\" class=\"dataframe\">\n",
       "  <thead>\n",
       "    <tr style=\"text-align: right;\">\n",
       "      <th>status</th>\n",
       "      <th>index</th>\n",
       "      <th>country</th>\n",
       "      <th>date</th>\n",
       "      <th>confirmed</th>\n",
       "      <th>deaths</th>\n",
       "      <th>recovered</th>\n",
       "      <th>existing</th>\n",
       "    </tr>\n",
       "  </thead>\n",
       "  <tbody>\n",
       "    <tr>\n",
       "      <th>0</th>\n",
       "      <td>0</td>\n",
       "      <td>Afghanistan</td>\n",
       "      <td>2020-01-22</td>\n",
       "      <td>0</td>\n",
       "      <td>0</td>\n",
       "      <td>0</td>\n",
       "      <td>0</td>\n",
       "    </tr>\n",
       "    <tr>\n",
       "      <th>1</th>\n",
       "      <td>59</td>\n",
       "      <td>Albania</td>\n",
       "      <td>2020-01-22</td>\n",
       "      <td>0</td>\n",
       "      <td>0</td>\n",
       "      <td>0</td>\n",
       "      <td>0</td>\n",
       "    </tr>\n",
       "    <tr>\n",
       "      <th>2</th>\n",
       "      <td>118</td>\n",
       "      <td>Algeria</td>\n",
       "      <td>2020-01-22</td>\n",
       "      <td>0</td>\n",
       "      <td>0</td>\n",
       "      <td>0</td>\n",
       "      <td>0</td>\n",
       "    </tr>\n",
       "    <tr>\n",
       "      <th>3</th>\n",
       "      <td>177</td>\n",
       "      <td>Andorra</td>\n",
       "      <td>2020-01-22</td>\n",
       "      <td>0</td>\n",
       "      <td>0</td>\n",
       "      <td>0</td>\n",
       "      <td>0</td>\n",
       "    </tr>\n",
       "    <tr>\n",
       "      <th>4</th>\n",
       "      <td>1944</td>\n",
       "      <td>China</td>\n",
       "      <td>2020-01-22</td>\n",
       "      <td>548</td>\n",
       "      <td>17</td>\n",
       "      <td>28</td>\n",
       "      <td>503</td>\n",
       "    </tr>\n",
       "  </tbody>\n",
       "</table>\n",
       "</div>"
      ],
      "text/plain": [
       "status  index      country       date  confirmed  deaths  recovered  existing\n",
       "0           0  Afghanistan 2020-01-22          0       0          0         0\n",
       "1          59      Albania 2020-01-22          0       0          0         0\n",
       "2         118      Algeria 2020-01-22          0       0          0         0\n",
       "3         177      Andorra 2020-01-22          0       0          0         0\n",
       "4        1944        China 2020-01-22        548      17         28       503"
      ]
     },
     "execution_count": 13,
     "metadata": {},
     "output_type": "execute_result"
    }
   ],
   "source": [
    "df_countries_top10 = df_countries.groupby('date',group_keys=False)\\\n",
    "            .apply(lambda grp:grp.nlargest(n=int(10),columns='confirmed').sort_index()).reset_index()\n",
    "df_countries_top10.head()"
   ]
  },
  {
   "cell_type": "code",
   "execution_count": 14,
   "metadata": {
    "ExecuteTime": {
     "end_time": "2020-03-21T12:55:21.719325Z",
     "start_time": "2020-03-21T12:55:20.767835Z"
    }
   },
   "outputs": [
    {
     "data": {
      "application/vnd.plotly.v1+json": {
       "config": {
        "plotlyServerURL": "https://plot.ly"
       },
       "data": [
        {
         "alignmentgroup": "True",
         "boxpoints": "all",
         "hoverlabel": {
          "namelength": 0
         },
         "hovertemplate": "Agrupation by countries: China vs. Rest of the world=%{x}<br>Confirmed cases of Coronavirus=%{y}",
         "legendgroup": "",
         "marker": {
          "color": "#636efa"
         },
         "name": "",
         "notched": false,
         "offsetgroup": "",
         "orientation": "v",
         "showlegend": false,
         "type": "box",
         "x": [
          "China",
          "China",
          "China",
          "China",
          "China",
          "China",
          "China",
          "China",
          "China",
          "China",
          "China",
          "China",
          "China",
          "China",
          "China",
          "China",
          "China",
          "China",
          "China",
          "China",
          "China",
          "China",
          "China",
          "China",
          "China",
          "China",
          "China",
          "China",
          "China",
          "China",
          "China",
          "China",
          "China",
          "China",
          "China",
          "China",
          "China",
          "China",
          "China",
          "China",
          "China",
          "China",
          "China",
          "China",
          "China",
          "China",
          "China",
          "China",
          "China",
          "China",
          "China",
          "China",
          "China",
          "China",
          "China",
          "China",
          "China",
          "China",
          "China",
          "Other Countries",
          "Other Countries",
          "Other Countries",
          "Other Countries",
          "Other Countries",
          "Other Countries",
          "Other Countries",
          "Other Countries",
          "Other Countries",
          "Other Countries",
          "Other Countries",
          "Other Countries",
          "Other Countries",
          "Other Countries",
          "Other Countries",
          "Other Countries",
          "Other Countries",
          "Other Countries",
          "Other Countries",
          "Other Countries",
          "Other Countries",
          "Other Countries",
          "Other Countries",
          "Other Countries",
          "Other Countries",
          "Other Countries",
          "Other Countries",
          "Other Countries",
          "Other Countries",
          "Other Countries",
          "Other Countries",
          "Other Countries",
          "Other Countries",
          "Other Countries",
          "Other Countries",
          "Other Countries",
          "Other Countries",
          "Other Countries",
          "Other Countries",
          "Other Countries",
          "Other Countries",
          "Other Countries",
          "Other Countries",
          "Other Countries",
          "Other Countries",
          "Other Countries",
          "Other Countries",
          "Other Countries",
          "Other Countries",
          "Other Countries",
          "Other Countries",
          "Other Countries",
          "Other Countries",
          "Other Countries",
          "Other Countries",
          "Other Countries",
          "Other Countries",
          "Other Countries",
          "Other Countries"
         ],
         "x0": " ",
         "xaxis": "x",
         "y": [
          548,
          643,
          920,
          1406,
          2075,
          2877,
          5509,
          6087,
          8141,
          9802,
          11891,
          16630,
          19716,
          23707,
          27440,
          30587,
          34110,
          36814,
          39829,
          42354,
          44386,
          44759,
          59895,
          66358,
          68413,
          70513,
          72434,
          74211,
          74619,
          75077,
          75550,
          77001,
          77022,
          77241,
          77754,
          78166,
          78600,
          78928,
          79356,
          79932,
          80136,
          80261,
          80386,
          80537,
          80690,
          80770,
          80823,
          80860,
          80887,
          80921,
          80932,
          80945,
          80977,
          81003,
          81033,
          81058,
          81102,
          81156,
          81250,
          7,
          10,
          21,
          28,
          43,
          50,
          69,
          79,
          93,
          125,
          147,
          157,
          165,
          185,
          195,
          230,
          281,
          306,
          321,
          408,
          416,
          462,
          473,
          527,
          617,
          711,
          824,
          925,
          1020,
          1120,
          1273,
          1578,
          1943,
          2327,
          2659,
          3229,
          4154,
          5192,
          6655,
          8437,
          10170,
          12579,
          14734,
          17345,
          21094,
          25051,
          28972,
          32701,
          37705,
          44945,
          47412,
          64255,
          75128,
          86455,
          100526,
          116094,
          133810,
          161552,
          190917
         ],
         "y0": " ",
         "yaxis": "y"
        }
       ],
       "layout": {
        "boxmode": "group",
        "legend": {
         "tracegroupgap": 0
        },
        "margin": {
         "t": 60
        },
        "template": {
         "data": {
          "bar": [
           {
            "error_x": {
             "color": "#2a3f5f"
            },
            "error_y": {
             "color": "#2a3f5f"
            },
            "marker": {
             "line": {
              "color": "#E5ECF6",
              "width": 0.5
             }
            },
            "type": "bar"
           }
          ],
          "barpolar": [
           {
            "marker": {
             "line": {
              "color": "#E5ECF6",
              "width": 0.5
             }
            },
            "type": "barpolar"
           }
          ],
          "carpet": [
           {
            "aaxis": {
             "endlinecolor": "#2a3f5f",
             "gridcolor": "white",
             "linecolor": "white",
             "minorgridcolor": "white",
             "startlinecolor": "#2a3f5f"
            },
            "baxis": {
             "endlinecolor": "#2a3f5f",
             "gridcolor": "white",
             "linecolor": "white",
             "minorgridcolor": "white",
             "startlinecolor": "#2a3f5f"
            },
            "type": "carpet"
           }
          ],
          "choropleth": [
           {
            "colorbar": {
             "outlinewidth": 0,
             "ticks": ""
            },
            "type": "choropleth"
           }
          ],
          "contour": [
           {
            "colorbar": {
             "outlinewidth": 0,
             "ticks": ""
            },
            "colorscale": [
             [
              0,
              "#0d0887"
             ],
             [
              0.1111111111111111,
              "#46039f"
             ],
             [
              0.2222222222222222,
              "#7201a8"
             ],
             [
              0.3333333333333333,
              "#9c179e"
             ],
             [
              0.4444444444444444,
              "#bd3786"
             ],
             [
              0.5555555555555556,
              "#d8576b"
             ],
             [
              0.6666666666666666,
              "#ed7953"
             ],
             [
              0.7777777777777778,
              "#fb9f3a"
             ],
             [
              0.8888888888888888,
              "#fdca26"
             ],
             [
              1,
              "#f0f921"
             ]
            ],
            "type": "contour"
           }
          ],
          "contourcarpet": [
           {
            "colorbar": {
             "outlinewidth": 0,
             "ticks": ""
            },
            "type": "contourcarpet"
           }
          ],
          "heatmap": [
           {
            "colorbar": {
             "outlinewidth": 0,
             "ticks": ""
            },
            "colorscale": [
             [
              0,
              "#0d0887"
             ],
             [
              0.1111111111111111,
              "#46039f"
             ],
             [
              0.2222222222222222,
              "#7201a8"
             ],
             [
              0.3333333333333333,
              "#9c179e"
             ],
             [
              0.4444444444444444,
              "#bd3786"
             ],
             [
              0.5555555555555556,
              "#d8576b"
             ],
             [
              0.6666666666666666,
              "#ed7953"
             ],
             [
              0.7777777777777778,
              "#fb9f3a"
             ],
             [
              0.8888888888888888,
              "#fdca26"
             ],
             [
              1,
              "#f0f921"
             ]
            ],
            "type": "heatmap"
           }
          ],
          "heatmapgl": [
           {
            "colorbar": {
             "outlinewidth": 0,
             "ticks": ""
            },
            "colorscale": [
             [
              0,
              "#0d0887"
             ],
             [
              0.1111111111111111,
              "#46039f"
             ],
             [
              0.2222222222222222,
              "#7201a8"
             ],
             [
              0.3333333333333333,
              "#9c179e"
             ],
             [
              0.4444444444444444,
              "#bd3786"
             ],
             [
              0.5555555555555556,
              "#d8576b"
             ],
             [
              0.6666666666666666,
              "#ed7953"
             ],
             [
              0.7777777777777778,
              "#fb9f3a"
             ],
             [
              0.8888888888888888,
              "#fdca26"
             ],
             [
              1,
              "#f0f921"
             ]
            ],
            "type": "heatmapgl"
           }
          ],
          "histogram": [
           {
            "marker": {
             "colorbar": {
              "outlinewidth": 0,
              "ticks": ""
             }
            },
            "type": "histogram"
           }
          ],
          "histogram2d": [
           {
            "colorbar": {
             "outlinewidth": 0,
             "ticks": ""
            },
            "colorscale": [
             [
              0,
              "#0d0887"
             ],
             [
              0.1111111111111111,
              "#46039f"
             ],
             [
              0.2222222222222222,
              "#7201a8"
             ],
             [
              0.3333333333333333,
              "#9c179e"
             ],
             [
              0.4444444444444444,
              "#bd3786"
             ],
             [
              0.5555555555555556,
              "#d8576b"
             ],
             [
              0.6666666666666666,
              "#ed7953"
             ],
             [
              0.7777777777777778,
              "#fb9f3a"
             ],
             [
              0.8888888888888888,
              "#fdca26"
             ],
             [
              1,
              "#f0f921"
             ]
            ],
            "type": "histogram2d"
           }
          ],
          "histogram2dcontour": [
           {
            "colorbar": {
             "outlinewidth": 0,
             "ticks": ""
            },
            "colorscale": [
             [
              0,
              "#0d0887"
             ],
             [
              0.1111111111111111,
              "#46039f"
             ],
             [
              0.2222222222222222,
              "#7201a8"
             ],
             [
              0.3333333333333333,
              "#9c179e"
             ],
             [
              0.4444444444444444,
              "#bd3786"
             ],
             [
              0.5555555555555556,
              "#d8576b"
             ],
             [
              0.6666666666666666,
              "#ed7953"
             ],
             [
              0.7777777777777778,
              "#fb9f3a"
             ],
             [
              0.8888888888888888,
              "#fdca26"
             ],
             [
              1,
              "#f0f921"
             ]
            ],
            "type": "histogram2dcontour"
           }
          ],
          "mesh3d": [
           {
            "colorbar": {
             "outlinewidth": 0,
             "ticks": ""
            },
            "type": "mesh3d"
           }
          ],
          "parcoords": [
           {
            "line": {
             "colorbar": {
              "outlinewidth": 0,
              "ticks": ""
             }
            },
            "type": "parcoords"
           }
          ],
          "pie": [
           {
            "automargin": true,
            "type": "pie"
           }
          ],
          "scatter": [
           {
            "marker": {
             "colorbar": {
              "outlinewidth": 0,
              "ticks": ""
             }
            },
            "type": "scatter"
           }
          ],
          "scatter3d": [
           {
            "line": {
             "colorbar": {
              "outlinewidth": 0,
              "ticks": ""
             }
            },
            "marker": {
             "colorbar": {
              "outlinewidth": 0,
              "ticks": ""
             }
            },
            "type": "scatter3d"
           }
          ],
          "scattercarpet": [
           {
            "marker": {
             "colorbar": {
              "outlinewidth": 0,
              "ticks": ""
             }
            },
            "type": "scattercarpet"
           }
          ],
          "scattergeo": [
           {
            "marker": {
             "colorbar": {
              "outlinewidth": 0,
              "ticks": ""
             }
            },
            "type": "scattergeo"
           }
          ],
          "scattergl": [
           {
            "marker": {
             "colorbar": {
              "outlinewidth": 0,
              "ticks": ""
             }
            },
            "type": "scattergl"
           }
          ],
          "scattermapbox": [
           {
            "marker": {
             "colorbar": {
              "outlinewidth": 0,
              "ticks": ""
             }
            },
            "type": "scattermapbox"
           }
          ],
          "scatterpolar": [
           {
            "marker": {
             "colorbar": {
              "outlinewidth": 0,
              "ticks": ""
             }
            },
            "type": "scatterpolar"
           }
          ],
          "scatterpolargl": [
           {
            "marker": {
             "colorbar": {
              "outlinewidth": 0,
              "ticks": ""
             }
            },
            "type": "scatterpolargl"
           }
          ],
          "scatterternary": [
           {
            "marker": {
             "colorbar": {
              "outlinewidth": 0,
              "ticks": ""
             }
            },
            "type": "scatterternary"
           }
          ],
          "surface": [
           {
            "colorbar": {
             "outlinewidth": 0,
             "ticks": ""
            },
            "colorscale": [
             [
              0,
              "#0d0887"
             ],
             [
              0.1111111111111111,
              "#46039f"
             ],
             [
              0.2222222222222222,
              "#7201a8"
             ],
             [
              0.3333333333333333,
              "#9c179e"
             ],
             [
              0.4444444444444444,
              "#bd3786"
             ],
             [
              0.5555555555555556,
              "#d8576b"
             ],
             [
              0.6666666666666666,
              "#ed7953"
             ],
             [
              0.7777777777777778,
              "#fb9f3a"
             ],
             [
              0.8888888888888888,
              "#fdca26"
             ],
             [
              1,
              "#f0f921"
             ]
            ],
            "type": "surface"
           }
          ],
          "table": [
           {
            "cells": {
             "fill": {
              "color": "#EBF0F8"
             },
             "line": {
              "color": "white"
             }
            },
            "header": {
             "fill": {
              "color": "#C8D4E3"
             },
             "line": {
              "color": "white"
             }
            },
            "type": "table"
           }
          ]
         },
         "layout": {
          "annotationdefaults": {
           "arrowcolor": "#2a3f5f",
           "arrowhead": 0,
           "arrowwidth": 1
          },
          "coloraxis": {
           "colorbar": {
            "outlinewidth": 0,
            "ticks": ""
           }
          },
          "colorscale": {
           "diverging": [
            [
             0,
             "#8e0152"
            ],
            [
             0.1,
             "#c51b7d"
            ],
            [
             0.2,
             "#de77ae"
            ],
            [
             0.3,
             "#f1b6da"
            ],
            [
             0.4,
             "#fde0ef"
            ],
            [
             0.5,
             "#f7f7f7"
            ],
            [
             0.6,
             "#e6f5d0"
            ],
            [
             0.7,
             "#b8e186"
            ],
            [
             0.8,
             "#7fbc41"
            ],
            [
             0.9,
             "#4d9221"
            ],
            [
             1,
             "#276419"
            ]
           ],
           "sequential": [
            [
             0,
             "#0d0887"
            ],
            [
             0.1111111111111111,
             "#46039f"
            ],
            [
             0.2222222222222222,
             "#7201a8"
            ],
            [
             0.3333333333333333,
             "#9c179e"
            ],
            [
             0.4444444444444444,
             "#bd3786"
            ],
            [
             0.5555555555555556,
             "#d8576b"
            ],
            [
             0.6666666666666666,
             "#ed7953"
            ],
            [
             0.7777777777777778,
             "#fb9f3a"
            ],
            [
             0.8888888888888888,
             "#fdca26"
            ],
            [
             1,
             "#f0f921"
            ]
           ],
           "sequentialminus": [
            [
             0,
             "#0d0887"
            ],
            [
             0.1111111111111111,
             "#46039f"
            ],
            [
             0.2222222222222222,
             "#7201a8"
            ],
            [
             0.3333333333333333,
             "#9c179e"
            ],
            [
             0.4444444444444444,
             "#bd3786"
            ],
            [
             0.5555555555555556,
             "#d8576b"
            ],
            [
             0.6666666666666666,
             "#ed7953"
            ],
            [
             0.7777777777777778,
             "#fb9f3a"
            ],
            [
             0.8888888888888888,
             "#fdca26"
            ],
            [
             1,
             "#f0f921"
            ]
           ]
          },
          "colorway": [
           "#636efa",
           "#EF553B",
           "#00cc96",
           "#ab63fa",
           "#FFA15A",
           "#19d3f3",
           "#FF6692",
           "#B6E880",
           "#FF97FF",
           "#FECB52"
          ],
          "font": {
           "color": "#2a3f5f"
          },
          "geo": {
           "bgcolor": "white",
           "lakecolor": "white",
           "landcolor": "#E5ECF6",
           "showlakes": true,
           "showland": true,
           "subunitcolor": "white"
          },
          "hoverlabel": {
           "align": "left"
          },
          "hovermode": "closest",
          "mapbox": {
           "style": "light"
          },
          "paper_bgcolor": "white",
          "plot_bgcolor": "#E5ECF6",
          "polar": {
           "angularaxis": {
            "gridcolor": "white",
            "linecolor": "white",
            "ticks": ""
           },
           "bgcolor": "#E5ECF6",
           "radialaxis": {
            "gridcolor": "white",
            "linecolor": "white",
            "ticks": ""
           }
          },
          "scene": {
           "xaxis": {
            "backgroundcolor": "#E5ECF6",
            "gridcolor": "white",
            "gridwidth": 2,
            "linecolor": "white",
            "showbackground": true,
            "ticks": "",
            "zerolinecolor": "white"
           },
           "yaxis": {
            "backgroundcolor": "#E5ECF6",
            "gridcolor": "white",
            "gridwidth": 2,
            "linecolor": "white",
            "showbackground": true,
            "ticks": "",
            "zerolinecolor": "white"
           },
           "zaxis": {
            "backgroundcolor": "#E5ECF6",
            "gridcolor": "white",
            "gridwidth": 2,
            "linecolor": "white",
            "showbackground": true,
            "ticks": "",
            "zerolinecolor": "white"
           }
          },
          "shapedefaults": {
           "line": {
            "color": "#2a3f5f"
           }
          },
          "ternary": {
           "aaxis": {
            "gridcolor": "white",
            "linecolor": "white",
            "ticks": ""
           },
           "baxis": {
            "gridcolor": "white",
            "linecolor": "white",
            "ticks": ""
           },
           "bgcolor": "#E5ECF6",
           "caxis": {
            "gridcolor": "white",
            "linecolor": "white",
            "ticks": ""
           }
          },
          "title": {
           "x": 0.05
          },
          "xaxis": {
           "automargin": true,
           "gridcolor": "white",
           "linecolor": "white",
           "ticks": "",
           "title": {
            "standoff": 15
           },
           "zerolinecolor": "white",
           "zerolinewidth": 2
          },
          "yaxis": {
           "automargin": true,
           "gridcolor": "white",
           "linecolor": "white",
           "ticks": "",
           "title": {
            "standoff": 15
           },
           "zerolinecolor": "white",
           "zerolinewidth": 2
          }
         }
        },
        "title": {
         "text": "Stats of confirmed cases: China vs. Rest of world",
         "x": 0.5
        },
        "xaxis": {
         "anchor": "y",
         "domain": [
          0,
          1
         ],
         "title": {
          "text": "Agrupation by countries: China vs. Rest of the world"
         }
        },
        "yaxis": {
         "anchor": "x",
         "domain": [
          0,
          1
         ],
         "title": {
          "text": "Confirmed cases of Coronavirus"
         }
        }
       }
      },
      "text/html": [
       "<div>\n",
       "        \n",
       "        \n",
       "            <div id=\"d2d828e3-0715-4a4e-bdc0-6fa18a1812ee\" class=\"plotly-graph-div\" style=\"height:525px; width:100%;\"></div>\n",
       "            <script type=\"text/javascript\">\n",
       "                require([\"plotly\"], function(Plotly) {\n",
       "                    window.PLOTLYENV=window.PLOTLYENV || {};\n",
       "                    \n",
       "                if (document.getElementById(\"d2d828e3-0715-4a4e-bdc0-6fa18a1812ee\")) {\n",
       "                    Plotly.newPlot(\n",
       "                        'd2d828e3-0715-4a4e-bdc0-6fa18a1812ee',\n",
       "                        [{\"alignmentgroup\": \"True\", \"boxpoints\": \"all\", \"hoverlabel\": {\"namelength\": 0}, \"hovertemplate\": \"Agrupation by countries: China vs. Rest of the world=%{x}<br>Confirmed cases of Coronavirus=%{y}\", \"legendgroup\": \"\", \"marker\": {\"color\": \"#636efa\"}, \"name\": \"\", \"notched\": false, \"offsetgroup\": \"\", \"orientation\": \"v\", \"showlegend\": false, \"type\": \"box\", \"x\": [\"China\", \"China\", \"China\", \"China\", \"China\", \"China\", \"China\", \"China\", \"China\", \"China\", \"China\", \"China\", \"China\", \"China\", \"China\", \"China\", \"China\", \"China\", \"China\", \"China\", \"China\", \"China\", \"China\", \"China\", \"China\", \"China\", \"China\", \"China\", \"China\", \"China\", \"China\", \"China\", \"China\", \"China\", \"China\", \"China\", \"China\", \"China\", \"China\", \"China\", \"China\", \"China\", \"China\", \"China\", \"China\", \"China\", \"China\", \"China\", \"China\", \"China\", \"China\", \"China\", \"China\", \"China\", \"China\", \"China\", \"China\", \"China\", \"China\", \"Other Countries\", \"Other Countries\", \"Other Countries\", \"Other Countries\", \"Other Countries\", \"Other Countries\", \"Other Countries\", \"Other Countries\", \"Other Countries\", \"Other Countries\", \"Other Countries\", \"Other Countries\", \"Other Countries\", \"Other Countries\", \"Other Countries\", \"Other Countries\", \"Other Countries\", \"Other Countries\", \"Other Countries\", \"Other Countries\", \"Other Countries\", \"Other Countries\", \"Other Countries\", \"Other Countries\", \"Other Countries\", \"Other Countries\", \"Other Countries\", \"Other Countries\", \"Other Countries\", \"Other Countries\", \"Other Countries\", \"Other Countries\", \"Other Countries\", \"Other Countries\", \"Other Countries\", \"Other Countries\", \"Other Countries\", \"Other Countries\", \"Other Countries\", \"Other Countries\", \"Other Countries\", \"Other Countries\", \"Other Countries\", \"Other Countries\", \"Other Countries\", \"Other Countries\", \"Other Countries\", \"Other Countries\", \"Other Countries\", \"Other Countries\", \"Other Countries\", \"Other Countries\", \"Other Countries\", \"Other Countries\", \"Other Countries\", \"Other Countries\", \"Other Countries\", \"Other Countries\", \"Other Countries\"], \"x0\": \" \", \"xaxis\": \"x\", \"y\": [548, 643, 920, 1406, 2075, 2877, 5509, 6087, 8141, 9802, 11891, 16630, 19716, 23707, 27440, 30587, 34110, 36814, 39829, 42354, 44386, 44759, 59895, 66358, 68413, 70513, 72434, 74211, 74619, 75077, 75550, 77001, 77022, 77241, 77754, 78166, 78600, 78928, 79356, 79932, 80136, 80261, 80386, 80537, 80690, 80770, 80823, 80860, 80887, 80921, 80932, 80945, 80977, 81003, 81033, 81058, 81102, 81156, 81250, 7, 10, 21, 28, 43, 50, 69, 79, 93, 125, 147, 157, 165, 185, 195, 230, 281, 306, 321, 408, 416, 462, 473, 527, 617, 711, 824, 925, 1020, 1120, 1273, 1578, 1943, 2327, 2659, 3229, 4154, 5192, 6655, 8437, 10170, 12579, 14734, 17345, 21094, 25051, 28972, 32701, 37705, 44945, 47412, 64255, 75128, 86455, 100526, 116094, 133810, 161552, 190917], \"y0\": \" \", \"yaxis\": \"y\"}],\n",
       "                        {\"boxmode\": \"group\", \"legend\": {\"tracegroupgap\": 0}, \"margin\": {\"t\": 60}, \"template\": {\"data\": {\"bar\": [{\"error_x\": {\"color\": \"#2a3f5f\"}, \"error_y\": {\"color\": \"#2a3f5f\"}, \"marker\": {\"line\": {\"color\": \"#E5ECF6\", \"width\": 0.5}}, \"type\": \"bar\"}], \"barpolar\": [{\"marker\": {\"line\": {\"color\": \"#E5ECF6\", \"width\": 0.5}}, \"type\": \"barpolar\"}], \"carpet\": [{\"aaxis\": {\"endlinecolor\": \"#2a3f5f\", \"gridcolor\": \"white\", \"linecolor\": \"white\", \"minorgridcolor\": \"white\", \"startlinecolor\": \"#2a3f5f\"}, \"baxis\": {\"endlinecolor\": \"#2a3f5f\", \"gridcolor\": \"white\", \"linecolor\": \"white\", \"minorgridcolor\": \"white\", \"startlinecolor\": \"#2a3f5f\"}, \"type\": \"carpet\"}], \"choropleth\": [{\"colorbar\": {\"outlinewidth\": 0, \"ticks\": \"\"}, \"type\": \"choropleth\"}], \"contour\": [{\"colorbar\": {\"outlinewidth\": 0, \"ticks\": \"\"}, \"colorscale\": [[0.0, \"#0d0887\"], [0.1111111111111111, \"#46039f\"], [0.2222222222222222, \"#7201a8\"], [0.3333333333333333, \"#9c179e\"], [0.4444444444444444, \"#bd3786\"], [0.5555555555555556, \"#d8576b\"], [0.6666666666666666, \"#ed7953\"], [0.7777777777777778, \"#fb9f3a\"], [0.8888888888888888, \"#fdca26\"], [1.0, \"#f0f921\"]], \"type\": \"contour\"}], \"contourcarpet\": [{\"colorbar\": {\"outlinewidth\": 0, \"ticks\": \"\"}, \"type\": \"contourcarpet\"}], \"heatmap\": [{\"colorbar\": {\"outlinewidth\": 0, \"ticks\": \"\"}, \"colorscale\": [[0.0, \"#0d0887\"], [0.1111111111111111, \"#46039f\"], [0.2222222222222222, \"#7201a8\"], [0.3333333333333333, \"#9c179e\"], [0.4444444444444444, \"#bd3786\"], [0.5555555555555556, \"#d8576b\"], [0.6666666666666666, \"#ed7953\"], [0.7777777777777778, \"#fb9f3a\"], [0.8888888888888888, \"#fdca26\"], [1.0, \"#f0f921\"]], \"type\": \"heatmap\"}], \"heatmapgl\": [{\"colorbar\": {\"outlinewidth\": 0, \"ticks\": \"\"}, \"colorscale\": [[0.0, \"#0d0887\"], [0.1111111111111111, \"#46039f\"], [0.2222222222222222, \"#7201a8\"], [0.3333333333333333, \"#9c179e\"], [0.4444444444444444, \"#bd3786\"], [0.5555555555555556, \"#d8576b\"], [0.6666666666666666, \"#ed7953\"], [0.7777777777777778, \"#fb9f3a\"], [0.8888888888888888, \"#fdca26\"], [1.0, \"#f0f921\"]], \"type\": \"heatmapgl\"}], \"histogram\": [{\"marker\": {\"colorbar\": {\"outlinewidth\": 0, \"ticks\": \"\"}}, \"type\": \"histogram\"}], \"histogram2d\": [{\"colorbar\": {\"outlinewidth\": 0, \"ticks\": \"\"}, \"colorscale\": [[0.0, \"#0d0887\"], [0.1111111111111111, \"#46039f\"], [0.2222222222222222, \"#7201a8\"], [0.3333333333333333, \"#9c179e\"], [0.4444444444444444, \"#bd3786\"], [0.5555555555555556, \"#d8576b\"], [0.6666666666666666, \"#ed7953\"], [0.7777777777777778, \"#fb9f3a\"], [0.8888888888888888, \"#fdca26\"], [1.0, \"#f0f921\"]], \"type\": \"histogram2d\"}], \"histogram2dcontour\": [{\"colorbar\": {\"outlinewidth\": 0, \"ticks\": \"\"}, \"colorscale\": [[0.0, \"#0d0887\"], [0.1111111111111111, \"#46039f\"], [0.2222222222222222, \"#7201a8\"], [0.3333333333333333, \"#9c179e\"], [0.4444444444444444, \"#bd3786\"], [0.5555555555555556, \"#d8576b\"], [0.6666666666666666, \"#ed7953\"], [0.7777777777777778, \"#fb9f3a\"], [0.8888888888888888, \"#fdca26\"], [1.0, \"#f0f921\"]], \"type\": \"histogram2dcontour\"}], \"mesh3d\": [{\"colorbar\": {\"outlinewidth\": 0, \"ticks\": \"\"}, \"type\": \"mesh3d\"}], \"parcoords\": [{\"line\": {\"colorbar\": {\"outlinewidth\": 0, \"ticks\": \"\"}}, \"type\": \"parcoords\"}], \"pie\": [{\"automargin\": true, \"type\": \"pie\"}], \"scatter\": [{\"marker\": {\"colorbar\": {\"outlinewidth\": 0, \"ticks\": \"\"}}, \"type\": \"scatter\"}], \"scatter3d\": [{\"line\": {\"colorbar\": {\"outlinewidth\": 0, \"ticks\": \"\"}}, \"marker\": {\"colorbar\": {\"outlinewidth\": 0, \"ticks\": \"\"}}, \"type\": \"scatter3d\"}], \"scattercarpet\": [{\"marker\": {\"colorbar\": {\"outlinewidth\": 0, \"ticks\": \"\"}}, \"type\": \"scattercarpet\"}], \"scattergeo\": [{\"marker\": {\"colorbar\": {\"outlinewidth\": 0, \"ticks\": \"\"}}, \"type\": \"scattergeo\"}], \"scattergl\": [{\"marker\": {\"colorbar\": {\"outlinewidth\": 0, \"ticks\": \"\"}}, \"type\": \"scattergl\"}], \"scattermapbox\": [{\"marker\": {\"colorbar\": {\"outlinewidth\": 0, \"ticks\": \"\"}}, \"type\": \"scattermapbox\"}], \"scatterpolar\": [{\"marker\": {\"colorbar\": {\"outlinewidth\": 0, \"ticks\": \"\"}}, \"type\": \"scatterpolar\"}], \"scatterpolargl\": [{\"marker\": {\"colorbar\": {\"outlinewidth\": 0, \"ticks\": \"\"}}, \"type\": \"scatterpolargl\"}], \"scatterternary\": [{\"marker\": {\"colorbar\": {\"outlinewidth\": 0, \"ticks\": \"\"}}, \"type\": \"scatterternary\"}], \"surface\": [{\"colorbar\": {\"outlinewidth\": 0, \"ticks\": \"\"}, \"colorscale\": [[0.0, \"#0d0887\"], [0.1111111111111111, \"#46039f\"], [0.2222222222222222, \"#7201a8\"], [0.3333333333333333, \"#9c179e\"], [0.4444444444444444, \"#bd3786\"], [0.5555555555555556, \"#d8576b\"], [0.6666666666666666, \"#ed7953\"], [0.7777777777777778, \"#fb9f3a\"], [0.8888888888888888, \"#fdca26\"], [1.0, \"#f0f921\"]], \"type\": \"surface\"}], \"table\": [{\"cells\": {\"fill\": {\"color\": \"#EBF0F8\"}, \"line\": {\"color\": \"white\"}}, \"header\": {\"fill\": {\"color\": \"#C8D4E3\"}, \"line\": {\"color\": \"white\"}}, \"type\": \"table\"}]}, \"layout\": {\"annotationdefaults\": {\"arrowcolor\": \"#2a3f5f\", \"arrowhead\": 0, \"arrowwidth\": 1}, \"coloraxis\": {\"colorbar\": {\"outlinewidth\": 0, \"ticks\": \"\"}}, \"colorscale\": {\"diverging\": [[0, \"#8e0152\"], [0.1, \"#c51b7d\"], [0.2, \"#de77ae\"], [0.3, \"#f1b6da\"], [0.4, \"#fde0ef\"], [0.5, \"#f7f7f7\"], [0.6, \"#e6f5d0\"], [0.7, \"#b8e186\"], [0.8, \"#7fbc41\"], [0.9, \"#4d9221\"], [1, \"#276419\"]], \"sequential\": [[0.0, \"#0d0887\"], [0.1111111111111111, \"#46039f\"], [0.2222222222222222, \"#7201a8\"], [0.3333333333333333, \"#9c179e\"], [0.4444444444444444, \"#bd3786\"], [0.5555555555555556, \"#d8576b\"], [0.6666666666666666, \"#ed7953\"], [0.7777777777777778, \"#fb9f3a\"], [0.8888888888888888, \"#fdca26\"], [1.0, \"#f0f921\"]], \"sequentialminus\": [[0.0, \"#0d0887\"], [0.1111111111111111, \"#46039f\"], [0.2222222222222222, \"#7201a8\"], [0.3333333333333333, \"#9c179e\"], [0.4444444444444444, \"#bd3786\"], [0.5555555555555556, \"#d8576b\"], [0.6666666666666666, \"#ed7953\"], [0.7777777777777778, \"#fb9f3a\"], [0.8888888888888888, \"#fdca26\"], [1.0, \"#f0f921\"]]}, \"colorway\": [\"#636efa\", \"#EF553B\", \"#00cc96\", \"#ab63fa\", \"#FFA15A\", \"#19d3f3\", \"#FF6692\", \"#B6E880\", \"#FF97FF\", \"#FECB52\"], \"font\": {\"color\": \"#2a3f5f\"}, \"geo\": {\"bgcolor\": \"white\", \"lakecolor\": \"white\", \"landcolor\": \"#E5ECF6\", \"showlakes\": true, \"showland\": true, \"subunitcolor\": \"white\"}, \"hoverlabel\": {\"align\": \"left\"}, \"hovermode\": \"closest\", \"mapbox\": {\"style\": \"light\"}, \"paper_bgcolor\": \"white\", \"plot_bgcolor\": \"#E5ECF6\", \"polar\": {\"angularaxis\": {\"gridcolor\": \"white\", \"linecolor\": \"white\", \"ticks\": \"\"}, \"bgcolor\": \"#E5ECF6\", \"radialaxis\": {\"gridcolor\": \"white\", \"linecolor\": \"white\", \"ticks\": \"\"}}, \"scene\": {\"xaxis\": {\"backgroundcolor\": \"#E5ECF6\", \"gridcolor\": \"white\", \"gridwidth\": 2, \"linecolor\": \"white\", \"showbackground\": true, \"ticks\": \"\", \"zerolinecolor\": \"white\"}, \"yaxis\": {\"backgroundcolor\": \"#E5ECF6\", \"gridcolor\": \"white\", \"gridwidth\": 2, \"linecolor\": \"white\", \"showbackground\": true, \"ticks\": \"\", \"zerolinecolor\": \"white\"}, \"zaxis\": {\"backgroundcolor\": \"#E5ECF6\", \"gridcolor\": \"white\", \"gridwidth\": 2, \"linecolor\": \"white\", \"showbackground\": true, \"ticks\": \"\", \"zerolinecolor\": \"white\"}}, \"shapedefaults\": {\"line\": {\"color\": \"#2a3f5f\"}}, \"ternary\": {\"aaxis\": {\"gridcolor\": \"white\", \"linecolor\": \"white\", \"ticks\": \"\"}, \"baxis\": {\"gridcolor\": \"white\", \"linecolor\": \"white\", \"ticks\": \"\"}, \"bgcolor\": \"#E5ECF6\", \"caxis\": {\"gridcolor\": \"white\", \"linecolor\": \"white\", \"ticks\": \"\"}}, \"title\": {\"x\": 0.05}, \"xaxis\": {\"automargin\": true, \"gridcolor\": \"white\", \"linecolor\": \"white\", \"ticks\": \"\", \"title\": {\"standoff\": 15}, \"zerolinecolor\": \"white\", \"zerolinewidth\": 2}, \"yaxis\": {\"automargin\": true, \"gridcolor\": \"white\", \"linecolor\": \"white\", \"ticks\": \"\", \"title\": {\"standoff\": 15}, \"zerolinecolor\": \"white\", \"zerolinewidth\": 2}}}, \"title\": {\"text\": \"Stats of confirmed cases: China vs. Rest of world\", \"x\": 0.5}, \"xaxis\": {\"anchor\": \"y\", \"domain\": [0.0, 1.0], \"title\": {\"text\": \"Agrupation by countries: China vs. Rest of the world\"}}, \"yaxis\": {\"anchor\": \"x\", \"domain\": [0.0, 1.0], \"title\": {\"text\": \"Confirmed cases of Coronavirus\"}}},\n",
       "                        {\"responsive\": true}\n",
       "                    ).then(function(){\n",
       "                            \n",
       "var gd = document.getElementById('d2d828e3-0715-4a4e-bdc0-6fa18a1812ee');\n",
       "var x = new MutationObserver(function (mutations, observer) {{\n",
       "        var display = window.getComputedStyle(gd).display;\n",
       "        if (!display || display === 'none') {{\n",
       "            console.log([gd, 'removed!']);\n",
       "            Plotly.purge(gd);\n",
       "            observer.disconnect();\n",
       "        }}\n",
       "}});\n",
       "\n",
       "// Listen for the removal of the full notebook cells\n",
       "var notebookContainer = gd.closest('#notebook-container');\n",
       "if (notebookContainer) {{\n",
       "    x.observe(notebookContainer, {childList: true});\n",
       "}}\n",
       "\n",
       "// Listen for the clearing of the current output cell\n",
       "var outputEl = gd.closest('.output');\n",
       "if (outputEl) {{\n",
       "    x.observe(outputEl, {childList: true});\n",
       "}}\n",
       "\n",
       "                        })\n",
       "                };\n",
       "                });\n",
       "            </script>\n",
       "        </div>"
      ]
     },
     "metadata": {},
     "output_type": "display_data"
    }
   ],
   "source": [
    "fig = px.box(df_china_row, y=\"confirmed\", x='class', \n",
    "             labels={'confirmed': f'Confirmed cases of Coronavirus',\n",
    "            'class':'Agrupation by countries: China vs. Rest of the world'},\n",
    "             points=\"all\")\n",
    "fig.update_layout(title_text=\"Stats of confirmed cases: China vs. Rest of world\", title_x=0.5)\n",
    "fig.show()"
   ]
  },
  {
   "cell_type": "markdown",
   "metadata": {},
   "source": [
    "**Insights:**\n",
    "\n",
    "En este gráfico no se puede sacar muchos insights ya que la curva de tiempo de la evolución del virus en China está en un estado de descenso, mientras que en el resto del mundo está ascendiendo. Lo que sí se puede ver es que la gravedad de los casos en el mundo ya está superando a China y se deben estudiar en los próximos días la evolución en los países más afectados de forma separada. "
   ]
  },
  {
   "cell_type": "markdown",
   "metadata": {},
   "source": [
    "# Bonus track: Geoplot: Casos informados de coronavirus por países"
   ]
  },
  {
   "cell_type": "code",
   "execution_count": 15,
   "metadata": {
    "ExecuteTime": {
     "end_time": "2020-03-21T12:55:27.078639Z",
     "start_time": "2020-03-21T12:55:21.722314Z"
    }
   },
   "outputs": [
    {
     "data": {
      "application/vnd.jupyter.widget-view+json": {
       "model_id": "16c0e9c421cb47f0806a3d244713a872",
       "version_major": 2,
       "version_minor": 0
      },
      "text/plain": [
       "interactive(children=(Dropdown(description='scope', options=('World', 'USA', 'Europe', 'Asia', 'Africa', 'Nort…"
      ]
     },
     "metadata": {},
     "output_type": "display_data"
    }
   ],
   "source": [
    "col_vars = ['confirmed','deaths', 'recovered', 'existing']\n",
    "scope_vars = ['World', 'USA', 'Europe', 'Asia', 'Africa', 'North America', 'South America']\n",
    "\n",
    "df_countries = df_coronavirus.groupby(['country','date'])[col_vars].agg('sum').reset_index()\n",
    "\n",
    "def make_scatter(scope): \n",
    "    fig = px.scatter_geo(df_coronavirus, lon = df_coronavirus['longitude'], lat = df_coronavirus['latitude'], #color=\"continent\",\n",
    "                     scope=scope.lower(),\n",
    "                     hover_name=df_coronavirus['country'], \n",
    "                     size=df_coronavirus['confirmed'],\n",
    "                     size_max=50,\n",
    "                     animation_frame=df_coronavirus.date.dt.strftime('%Y-%m-%d'))  \n",
    "    fig.update_layout(title_text=\"Evolución de casos confirmados a nivel mundial\", title_x=0.5, margin_l=0)\n",
    "    fig.show()\n",
    "\n",
    "_= interact(make_scatter, scope = (scope_vars))"
   ]
  },
  {
   "cell_type": "markdown",
   "metadata": {},
   "source": [
    "**Insights:**\n",
    "\n",
    "Hace un par de meses China era el protagonista mundial de este gráfico, sin embargo el panorama actual es distinto, ya que el virus se ha diseminado por toda Europa."
   ]
  }
 ],
 "metadata": {
  "kernelspec": {
   "display_name": "Python 3",
   "language": "python",
   "name": "python3"
  },
  "language_info": {
   "codemirror_mode": {
    "name": "ipython",
    "version": 3
   },
   "file_extension": ".py",
   "mimetype": "text/x-python",
   "name": "python",
   "nbconvert_exporter": "python",
   "pygments_lexer": "ipython3",
   "version": "3.7.1"
  },
  "latex_envs": {
   "LaTeX_envs_menu_present": true,
   "autoclose": false,
   "autocomplete": true,
   "bibliofile": "biblio.bib",
   "cite_by": "apalike",
   "current_citInitial": 1,
   "eqLabelWithNumbers": true,
   "eqNumInitial": 1,
   "hotkeys": {
    "equation": "Ctrl-E",
    "itemize": "Ctrl-I"
   },
   "labels_anchors": false,
   "latex_user_defs": false,
   "report_style_numbering": false,
   "user_envs_cfg": false
  },
  "toc": {
   "base_numbering": 1,
   "nav_menu": {},
   "number_sections": true,
   "sideBar": true,
   "skip_h1_title": false,
   "title_cell": "Table of Contents",
   "title_sidebar": "Contents",
   "toc_cell": false,
   "toc_position": {},
   "toc_section_display": true,
   "toc_window_display": false
  },
  "varInspector": {
   "cols": {
    "lenName": 16,
    "lenType": 16,
    "lenVar": 40
   },
   "kernels_config": {
    "python": {
     "delete_cmd_postfix": "",
     "delete_cmd_prefix": "del ",
     "library": "var_list.py",
     "varRefreshCmd": "print(var_dic_list())"
    },
    "r": {
     "delete_cmd_postfix": ") ",
     "delete_cmd_prefix": "rm(",
     "library": "var_list.r",
     "varRefreshCmd": "cat(var_dic_list()) "
    }
   },
   "types_to_exclude": [
    "module",
    "function",
    "builtin_function_or_method",
    "instance",
    "_Feature"
   ],
   "window_display": false
  }
 },
 "nbformat": 4,
 "nbformat_minor": 4
}
